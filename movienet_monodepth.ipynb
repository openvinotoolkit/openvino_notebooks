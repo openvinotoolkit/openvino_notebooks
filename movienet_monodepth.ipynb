{
  "nbformat": 4,
  "nbformat_minor": 0,
  "metadata": {
    "colab": {
      "provenance": []
    },
    "kernelspec": {
      "name": "python3",
      "display_name": "Python 3"
    },
    "language_info": {
      "name": "python"
    }
  },
  "cells": [
    {
      "cell_type": "markdown",
      "source": [
        "Installing the movienet model"
      ],
      "metadata": {
        "id": "eOzSggFxNIn0"
      }
    },
    {
      "cell_type": "code",
      "source": [
        "# Install packages\n",
        "\n",
        "# tf-models-official is the stable Model Garden package\n",
        "# tf-models-nightly includes latest changes\n",
        "!pip install -U -q \"tf-models-official\"\n",
        "\n",
        "\n",
        "# Install the mediapy package for visualizing images/videos.\n",
        "# See https://github.com/google/mediapy\n",
        "!command -v ffmpeg >/dev/null || (apt update && apt install -y ffmpeg)\n",
        "!pip install -q mediapy"
      ],
      "metadata": {
        "colab": {
          "base_uri": "https://localhost:8080/"
        },
        "id": "AEtmfLprlGrH",
        "outputId": "2e6e4e0b-6a9c-4f76-bb67-6a38c6ee6a10"
      },
      "execution_count": 1,
      "outputs": [
        {
          "output_type": "stream",
          "name": "stdout",
          "text": [
            "\u001b[2K     \u001b[90m━━━━━━━━━━━━━━━━━━━━━━━━━━━━━━━━━━━━━━━\u001b[0m \u001b[32m585.9/585.9 MB\u001b[0m \u001b[31m1.9 MB/s\u001b[0m eta \u001b[36m0:00:00\u001b[0m\n",
            "\u001b[2K     \u001b[90m━━━━━━━━━━━━━━━━━━━━━━━━━━━━━━━━━━━━━━\u001b[0m \u001b[32m440.7/440.7 KB\u001b[0m \u001b[31m28.1 MB/s\u001b[0m eta \u001b[36m0:00:00\u001b[0m\n",
            "\u001b[2K     \u001b[90m━━━━━━━━━━━━━━━━━━━━━━━━━━━━━━━━━━━━━━━━\u001b[0m \u001b[32m5.6/5.6 MB\u001b[0m \u001b[31m49.3 MB/s\u001b[0m eta \u001b[36m0:00:00\u001b[0m\n",
            "\u001b[2K     \u001b[90m━━━━━━━━━━━━━━━━━━━━━━━━━━━━━━━━━━━━━━━━\u001b[0m \u001b[32m1.7/1.7 MB\u001b[0m \u001b[31m45.4 MB/s\u001b[0m eta \u001b[36m0:00:00\u001b[0m\n",
            "\u001b[2K     \u001b[90m━━━━━━━━━━━━━━━━━━━━━━━━━━━━━━━━━━━━━━━━\u001b[0m \u001b[32m6.6/6.6 MB\u001b[0m \u001b[31m65.6 MB/s\u001b[0m eta \u001b[36m0:00:00\u001b[0m\n",
            "\u001b[2K     \u001b[90m━━━━━━━━━━━━━━━━━━━━━━━━━━━━━━━━━━━━━━━━\u001b[0m \u001b[32m1.0/1.0 MB\u001b[0m \u001b[31m53.7 MB/s\u001b[0m eta \u001b[36m0:00:00\u001b[0m\n",
            "\u001b[?25h"
          ]
        }
      ]
    },
    {
      "cell_type": "code",
      "source": [
        "# Run imports\n",
        "import os\n",
        "import matplotlib as mpl\n",
        "import matplotlib.pyplot as plt\n",
        "import mediapy as media\n",
        "import numpy as np\n",
        "import PIL\n",
        "import pandas as pd\n",
        "import tensorflow as tf\n",
        "import tensorflow_datasets as tfds\n",
        "import tensorflow_hub as hub\n",
        "import tqdm\n",
        "import absl.logging\n",
        "\n",
        "tf.get_logger().setLevel('ERROR')\n",
        "absl.logging.set_verbosity(absl.logging.ERROR)\n",
        "mpl.rcParams.update({\n",
        "    'font.size': 10,\n",
        "})"
      ],
      "metadata": {
        "id": "7gdbroimlGoj"
      },
      "execution_count": 2,
      "outputs": []
    },
    {
      "cell_type": "code",
      "source": [
        "#@title Run this cell to set up some helper code.\n",
        "\n",
        "# Download Kinetics 600 label map\n",
        "!wget https://raw.githubusercontent.com/tensorflow/models/f8af2291cced43fc9f1d9b41ddbf772ae7b0d7d2/official/projects/movinet/files/kinetics_600_labels.txt -O labels.txt -q\n",
        "\n",
        "with tf.io.gfile.GFile('labels.txt') as f:\n",
        "  lines = f.readlines()\n",
        "  KINETICS_600_LABELS_LIST = [line.strip() for line in lines]\n",
        "  KINETICS_600_LABELS = tf.constant(KINETICS_600_LABELS_LIST)\n",
        "\n",
        "def get_top_k(probs, k=5, label_map=KINETICS_600_LABELS):\n",
        "  \"\"\"Outputs the top k model labels and probabilities on the given video.\"\"\"\n",
        "  top_predictions = tf.argsort(probs, axis=-1, direction='DESCENDING')[:k]\n",
        "  top_labels = tf.gather(label_map, top_predictions, axis=-1)\n",
        "  top_labels = [label.decode('utf8') for label in top_labels.numpy()]\n",
        "  top_probs = tf.gather(probs, top_predictions, axis=-1).numpy()\n",
        "  return tuple(zip(top_labels, top_probs))\n",
        "\n",
        "def predict_top_k(model, video, k=5, label_map=KINETICS_600_LABELS):\n",
        "  \"\"\"Outputs the top k model labels and probabilities on the given video.\"\"\"\n",
        "  outputs = model.predict(video[tf.newaxis])[0]\n",
        "  probs = tf.nn.softmax(outputs)\n",
        "  return get_top_k(probs, k=k, label_map=label_map)\n",
        "\n",
        "def load_movinet_from_hub(model_id, model_mode, hub_version=3):\n",
        "  \"\"\"Loads a MoViNet model from TF Hub.\"\"\"\n",
        "  hub_url = f'https://tfhub.dev/tensorflow/movinet/{model_id}/{model_mode}/kinetics-600/classification/{hub_version}'\n",
        "\n",
        "  encoder = hub.KerasLayer(hub_url, trainable=True)\n",
        "\n",
        "  inputs = tf.keras.layers.Input(\n",
        "      shape=[None, None, None, 3],\n",
        "      dtype=tf.float32)\n",
        "\n",
        "  if model_mode == 'base':\n",
        "    inputs = dict(image=inputs)\n",
        "  else:\n",
        "    # Define the state inputs, which is a dict that maps state names to tensors.\n",
        "    init_states_fn = encoder.resolved_object.signatures['init_states']\n",
        "    state_shapes = {\n",
        "        name: ([s if s > 0 else None for s in state.shape], state.dtype)\n",
        "        for name, state in init_states_fn(tf.constant([0, 0, 0, 0, 3])).items()\n",
        "    }\n",
        "    states_input = {\n",
        "        name: tf.keras.Input(shape[1:], dtype=dtype, name=name)\n",
        "        for name, (shape, dtype) in state_shapes.items()\n",
        "    }\n",
        "\n",
        "    # The inputs to the model are the states and the video\n",
        "    inputs = {**states_input, 'image': inputs}\n",
        "\n",
        "  # Output shape: [batch_size, 600]\n",
        "  outputs = encoder(inputs)\n",
        "\n",
        "  model = tf.keras.Model(inputs, outputs)\n",
        "  model.build([1, 1, 1, 1, 3])\n",
        "\n",
        "  return model\n",
        "\n",
        "# Download example gif\n",
        "!wget https://github.com/tensorflow/models/raw/f8af2291cced43fc9f1d9b41ddbf772ae7b0d7d2/official/projects/movinet/files/jumpingjack.gif -O jumpingjack.gif -q\n",
        "\n",
        "def load_gif(file_path, image_size=(224, 224)):\n",
        "  \"\"\"Loads a gif file into a TF tensor.\"\"\"\n",
        "  with tf.io.gfile.GFile(file_path, 'rb') as f:\n",
        "    video = tf.io.decode_gif(f.read())\n",
        "  video = tf.image.resize(video, image_size)\n",
        "  video = tf.cast(video, tf.float32) / 255.\n",
        "  return video\n",
        "\n",
        "def get_top_k_streaming_labels(probs, k=5, label_map=KINETICS_600_LABELS_LIST):\n",
        "  \"\"\"Returns the top-k labels over an entire video sequence.\n",
        "\n",
        "  Args:\n",
        "    probs: probability tensor of shape (num_frames, num_classes) that represents\n",
        "      the probability of each class on each frame.\n",
        "    k: the number of top predictions to select.\n",
        "    label_map: a list of labels to map logit indices to label strings.\n",
        "\n",
        "  Returns:\n",
        "    a tuple of the top-k probabilities, labels, and logit indices\n",
        "  \"\"\"\n",
        "  top_categories_last = tf.argsort(probs, -1, 'DESCENDING')[-1, :1]\n",
        "  categories = tf.argsort(probs, -1, 'DESCENDING')[:, :k]\n",
        "  categories = tf.reshape(categories, [-1])\n",
        "\n",
        "  counts = sorted([\n",
        "      (i.numpy(), tf.reduce_sum(tf.cast(categories == i, tf.int32)).numpy())\n",
        "      for i in tf.unique(categories)[0]\n",
        "  ], key=lambda x: x[1], reverse=True)\n",
        "\n",
        "  top_probs_idx = tf.constant([i for i, _ in counts[:k]])\n",
        "  top_probs_idx = tf.concat([top_categories_last, top_probs_idx], 0)\n",
        "  top_probs_idx = tf.unique(top_probs_idx)[0][:k+1]\n",
        "\n",
        "  top_probs = tf.gather(probs, top_probs_idx, axis=-1)\n",
        "  top_probs = tf.transpose(top_probs, perm=(1, 0))\n",
        "  top_labels = tf.gather(label_map, top_probs_idx, axis=0)\n",
        "  top_labels = [label.decode('utf8') for label in top_labels.numpy()]\n",
        "\n",
        "  return top_probs, top_labels, top_probs_idx\n",
        "\n",
        "def plot_streaming_top_preds_at_step(\n",
        "    top_probs,\n",
        "    top_labels,\n",
        "    step=None,\n",
        "    image=None,\n",
        "    legend_loc='lower left',\n",
        "    duration_seconds=10,\n",
        "    figure_height=500,\n",
        "    playhead_scale=0.8,\n",
        "    grid_alpha=0.3):\n",
        "  \"\"\"Generates a plot of the top video model predictions at a given time step.\n",
        "\n",
        "  Args:\n",
        "    top_probs: a tensor of shape (k, num_frames) representing the top-k\n",
        "      probabilities over all frames.\n",
        "    top_labels: a list of length k that represents the top-k label strings.\n",
        "    step: the current time step in the range [0, num_frames].\n",
        "    image: the image frame to display at the current time step.\n",
        "    legend_loc: the placement location of the legend.\n",
        "    duration_seconds: the total duration of the video.\n",
        "    figure_height: the output figure height.\n",
        "    playhead_scale: scale value for the playhead.\n",
        "    grid_alpha: alpha value for the gridlines.\n",
        "\n",
        "  Returns:\n",
        "    A tuple of the output numpy image, figure, and axes.\n",
        "  \"\"\"\n",
        "  num_labels, num_frames = top_probs.shape\n",
        "  if step is None:\n",
        "    step = num_frames\n",
        "\n",
        "  fig = plt.figure(figsize=(6.5, 7), dpi=300)\n",
        "  gs = mpl.gridspec.GridSpec(8, 1)\n",
        "  ax2 = plt.subplot(gs[:-3, :])\n",
        "  ax = plt.subplot(gs[-3:, :])\n",
        "\n",
        "  if image is not None:\n",
        "    ax2.imshow(image, interpolation='nearest')\n",
        "    ax2.axis('off')\n",
        "\n",
        "  preview_line_x = tf.linspace(0., duration_seconds, num_frames)\n",
        "  preview_line_y = top_probs\n",
        "\n",
        "  line_x = preview_line_x[:step+1]\n",
        "  line_y = preview_line_y[:, :step+1]\n",
        "\n",
        "  for i in range(num_labels):\n",
        "    ax.plot(preview_line_x, preview_line_y[i], label=None, linewidth='1.5',\n",
        "            linestyle=':', color='gray')\n",
        "    ax.plot(line_x, line_y[i], label=top_labels[i], linewidth='2.0')\n",
        "\n",
        "\n",
        "  ax.grid(which='major', linestyle=':', linewidth='1.0', alpha=grid_alpha)\n",
        "  ax.grid(which='minor', linestyle=':', linewidth='0.5', alpha=grid_alpha)\n",
        "\n",
        "  min_height = tf.reduce_min(top_probs) * playhead_scale\n",
        "  max_height = tf.reduce_max(top_probs)\n",
        "  ax.vlines(preview_line_x[step], min_height, max_height, colors='red')\n",
        "  ax.scatter(preview_line_x[step], max_height, color='red')\n",
        "\n",
        "  ax.legend(loc=legend_loc)\n",
        "\n",
        "  plt.xlim(0, duration_seconds)\n",
        "  plt.ylabel('Probability')\n",
        "  plt.xlabel('Time (s)')\n",
        "  plt.yscale('log')\n",
        "\n",
        "  fig.tight_layout()\n",
        "  fig.canvas.draw()\n",
        "\n",
        "  data = np.frombuffer(fig.canvas.tostring_rgb(), dtype=np.uint8)\n",
        "  data = data.reshape(fig.canvas.get_width_height()[::-1] + (3,))\n",
        "  plt.close()\n",
        "\n",
        "  figure_width = int(figure_height * data.shape[1] / data.shape[0])\n",
        "  image = PIL.Image.fromarray(data).resize([figure_width, figure_height])\n",
        "  image = np.array(image)\n",
        "\n",
        "  return image, (fig, ax, ax2)\n",
        "\n",
        "def plot_streaming_top_preds(\n",
        "    probs,\n",
        "    video,\n",
        "    top_k=5,\n",
        "    video_fps=25.,\n",
        "    figure_height=500,\n",
        "    use_progbar=True):\n",
        "  \"\"\"Generates a video plot of the top video model predictions.\n",
        "\n",
        "  Args:\n",
        "    probs: probability tensor of shape (num_frames, num_classes) that represents\n",
        "      the probability of each class on each frame.\n",
        "    video: the video to display in the plot.\n",
        "    top_k: the number of top predictions to select.\n",
        "    video_fps: the input video fps.\n",
        "    figure_fps: the output video fps.\n",
        "    figure_height: the height of the output video.\n",
        "    use_progbar: display a progress bar.\n",
        "\n",
        "  Returns:\n",
        "    A numpy array representing the output video.\n",
        "  \"\"\"\n",
        "  video_fps = 8.\n",
        "  figure_height = 500\n",
        "  steps = video.shape[0]\n",
        "  duration = steps / video_fps\n",
        "\n",
        "  top_probs, top_labels, _ = get_top_k_streaming_labels(probs, k=top_k)\n",
        "\n",
        "  images = []\n",
        "  step_generator = tqdm.trange(steps) if use_progbar else range(steps)\n",
        "  for i in step_generator:\n",
        "    image, _ = plot_streaming_top_preds_at_step(\n",
        "        top_probs=top_probs,\n",
        "        top_labels=top_labels,\n",
        "        step=i,\n",
        "        image=video[i],\n",
        "        duration_seconds=duration,\n",
        "        figure_height=figure_height,\n",
        "    )\n",
        "    images.append(image)\n",
        "\n",
        "  return np.array(images)"
      ],
      "metadata": {
        "id": "4ahHDoPtlGlV"
      },
      "execution_count": 3,
      "outputs": []
    },
    {
      "cell_type": "code",
      "source": [
        "model = load_movinet_from_hub('a2', 'base', hub_version=3)"
      ],
      "metadata": {
        "id": "DaiDOqPClGiD"
      },
      "execution_count": 4,
      "outputs": []
    },
    {
      "cell_type": "code",
      "execution_count": 5,
      "metadata": {
        "colab": {
          "base_uri": "https://localhost:8080/",
          "height": 212
        },
        "id": "Iy0rKRrT723_",
        "outputId": "146152d2-a474-4981-f3c2-131b6bb2cb2a"
      },
      "outputs": [
        {
          "output_type": "stream",
          "name": "stdout",
          "text": [
            "(13, 172, 172, 3)\n"
          ]
        },
        {
          "output_type": "display_data",
          "data": {
            "text/plain": [
              "<IPython.core.display.HTML object>"
            ],
            "text/html": [
              "<table class=\"show_videos\" style=\"border-spacing:0px;\"><tr><td style=\"padding:1px;\"><video controls width=\"172\" height=\"172\" style=\"object-fit:cover;\" loop autoplay muted>\n",
              "      <source src=\"data:video/mp4;base64,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\" type=\"video/mp4\"/>\n",
              "      This browser does not support the video tag.\n",
              "      </video></td></tr></table>"
            ]
          },
          "metadata": {}
        }
      ],
      "source": [
        "video = load_gif('jumpingjack.gif', image_size=(172, 172))\n",
        "\n",
        "# Show video\n",
        "print(video.shape)\n",
        "media.show_video(video.numpy(), fps=5)"
      ]
    },
    {
      "cell_type": "code",
      "execution_count": 6,
      "metadata": {
        "colab": {
          "base_uri": "https://localhost:8080/"
        },
        "id": "P0bZfrAsqPv2",
        "outputId": "73e17847-1c71-48b9-f98f-420cf7481846"
      },
      "outputs": [
        {
          "output_type": "stream",
          "name": "stdout",
          "text": [
            "1/1 [==============================] - 28s 28s/step\n",
            "jumping jacks 0.9166438\n",
            "zumba 0.016020693\n",
            "doing aerobics 0.008053931\n",
            "dancing charleston 0.0060836026\n",
            "lunge 0.003506281\n"
          ]
        }
      ],
      "source": [
        "# Run the model on the video and output the top 5 predictions\n",
        "outputs = predict_top_k(model, video)\n",
        "\n",
        "for label, prob in outputs:\n",
        "  print(label, prob)"
      ]
    },
    {
      "cell_type": "markdown",
      "source": [
        "Save the TensorFlow Model"
      ],
      "metadata": {
        "id": "oRyUJy7gOU1_"
      }
    },
    {
      "cell_type": "code",
      "source": [
        "#save the trained model - a new folder flower will be created\n",
        "#and the file \"saved_model.pb\" is the pre-trained model\n",
        "model_dir = \"model\"\n",
        "model_fname = f\"{model_dir}/movinet\"\n",
        "model.save(model_fname)"
      ],
      "metadata": {
        "id": "-rhoXQYclGfB"
      },
      "execution_count": 7,
      "outputs": []
    },
    {
      "cell_type": "markdown",
      "source": [
        "Convert the TensorFlow model with OpenVINO Model Optimizer"
      ],
      "metadata": {
        "id": "75ZLnoGIOWin"
      }
    },
    {
      "cell_type": "code",
      "source": [
        "pip install openvino-dev"
      ],
      "metadata": {
        "colab": {
          "base_uri": "https://localhost:8080/"
        },
        "id": "bxfoAPoWmM2w",
        "outputId": "92e171d8-8d8d-4ca6-c8ea-1b164eb716dd"
      },
      "execution_count": 8,
      "outputs": [
        {
          "output_type": "stream",
          "name": "stdout",
          "text": [
            "Looking in indexes: https://pypi.org/simple, https://us-python.pkg.dev/colab-wheels/public/simple/\n",
            "Requirement already satisfied: openvino-dev in /usr/local/lib/python3.9/dist-packages (2022.3.0)\n",
            "Requirement already satisfied: numpy>=1.16.6 in /usr/local/lib/python3.9/dist-packages (from openvino-dev) (1.22.4)\n",
            "Requirement already satisfied: requests>=2.25.1 in /usr/local/lib/python3.9/dist-packages (from openvino-dev) (2.27.1)\n",
            "Requirement already satisfied: defusedxml>=0.7.1 in /usr/local/lib/python3.9/dist-packages (from openvino-dev) (0.7.1)\n",
            "Requirement already satisfied: jstyleson>=0.0.2 in /usr/local/lib/python3.9/dist-packages (from openvino-dev) (0.0.2)\n",
            "Requirement already satisfied: tqdm>=4.54.1 in /usr/local/lib/python3.9/dist-packages (from openvino-dev) (4.65.0)\n",
            "Requirement already satisfied: scipy>=1.8 in /usr/local/lib/python3.9/dist-packages (from openvino-dev) (1.10.1)\n",
            "Requirement already satisfied: openvino-telemetry>=2022.1.0 in /usr/local/lib/python3.9/dist-packages (from openvino-dev) (2022.3.0)\n",
            "Requirement already satisfied: openvino==2022.3.0 in /usr/local/lib/python3.9/dist-packages (from openvino-dev) (2022.3.0)\n",
            "Requirement already satisfied: pyyaml>=5.4.1 in /usr/local/lib/python3.9/dist-packages (from openvino-dev) (5.4.1)\n",
            "Requirement already satisfied: opencv-python>=4.5 in /usr/local/lib/python3.9/dist-packages (from openvino-dev) (4.7.0.72)\n",
            "Requirement already satisfied: addict>=2.4.0 in /usr/local/lib/python3.9/dist-packages (from openvino-dev) (2.4.0)\n",
            "Requirement already satisfied: pandas~=1.3.5 in /usr/local/lib/python3.9/dist-packages (from openvino-dev) (1.3.5)\n",
            "Requirement already satisfied: pillow>=8.1.2 in /usr/local/lib/python3.9/dist-packages (from openvino-dev) (8.4.0)\n",
            "Requirement already satisfied: networkx<=2.8.8 in /usr/local/lib/python3.9/dist-packages (from openvino-dev) (2.8.8)\n",
            "Requirement already satisfied: texttable>=1.6.3 in /usr/local/lib/python3.9/dist-packages (from openvino-dev) (1.6.7)\n",
            "Requirement already satisfied: python-dateutil>=2.7.3 in /usr/local/lib/python3.9/dist-packages (from pandas~=1.3.5->openvino-dev) (2.8.2)\n",
            "Requirement already satisfied: pytz>=2017.3 in /usr/local/lib/python3.9/dist-packages (from pandas~=1.3.5->openvino-dev) (2022.7.1)\n",
            "Requirement already satisfied: certifi>=2017.4.17 in /usr/local/lib/python3.9/dist-packages (from requests>=2.25.1->openvino-dev) (2022.12.7)\n",
            "Requirement already satisfied: urllib3<1.27,>=1.21.1 in /usr/local/lib/python3.9/dist-packages (from requests>=2.25.1->openvino-dev) (1.26.15)\n",
            "Requirement already satisfied: idna<4,>=2.5 in /usr/local/lib/python3.9/dist-packages (from requests>=2.25.1->openvino-dev) (3.4)\n",
            "Requirement already satisfied: charset-normalizer~=2.0.0 in /usr/local/lib/python3.9/dist-packages (from requests>=2.25.1->openvino-dev) (2.0.12)\n",
            "Requirement already satisfied: six>=1.5 in /usr/local/lib/python3.9/dist-packages (from python-dateutil>=2.7.3->pandas~=1.3.5->openvino-dev) (1.16.0)\n"
          ]
        }
      ]
    },
    {
      "cell_type": "code",
      "source": [
        "import matplotlib.pyplot as plt\n",
        "import numpy as np\n",
        "import os\n",
        "import PIL\n",
        "from PIL import Image\n",
        "from pathlib import Path\n",
        "import urllib\n",
        "\n",
        "from openvino.inference_engine import IECore\n",
        "\n",
        "import tensorflow as tf\n",
        "from tensorflow import keras\n",
        "from tensorflow.keras import layers\n",
        "from tensorflow.keras.models import Sequential"
      ],
      "metadata": {
        "id": "vBjuTSgRe1Yj"
      },
      "execution_count": 9,
      "outputs": []
    },
    {
      "cell_type": "code",
      "source": [
        "import json\n",
        "import sys\n",
        "import time\n",
        "from pathlib import Path\n",
        "\n",
        "import cv2\n",
        "import matplotlib.pyplot as plt\n",
        "#import mo_tf\n",
        "\n",
        "import numpy as np\n",
        "from openvino.inference_engine import IECore"
      ],
      "metadata": {
        "id": "SX6eJS8lmoHh"
      },
      "execution_count": 11,
      "outputs": []
    },
    {
      "cell_type": "code",
      "source": [
        "pip install openvino-dev[tensorflow2]"
      ],
      "metadata": {
        "colab": {
          "base_uri": "https://localhost:8080/"
        },
        "id": "0PfOO-hWQy4v",
        "outputId": "0773c035-72bd-4635-f930-1458a0fe84f5"
      },
      "execution_count": 30,
      "outputs": [
        {
          "output_type": "stream",
          "name": "stderr",
          "text": [
            "/usr/local/lib/python3.9/dist-packages/ipykernel/ipkernel.py:283: DeprecationWarning: `should_run_async` will not call `transform_cell` automatically in the future. Please pass the result to `transformed_cell` argument and any exception that happen during thetransform in `preprocessing_exc_tuple` in IPython 7.17 and above.\n",
            "  and should_run_async(code)\n"
          ]
        },
        {
          "output_type": "stream",
          "name": "stdout",
          "text": [
            "Looking in indexes: https://pypi.org/simple, https://us-python.pkg.dev/colab-wheels/public/simple/\n",
            "Requirement already satisfied: openvino-dev[tensorflow2] in /usr/local/lib/python3.9/dist-packages (2022.3.0)\n",
            "Requirement already satisfied: networkx<=2.8.8 in /usr/local/lib/python3.9/dist-packages (from openvino-dev[tensorflow2]) (2.8.8)\n",
            "Requirement already satisfied: scipy>=1.8 in /usr/local/lib/python3.9/dist-packages (from openvino-dev[tensorflow2]) (1.10.1)\n",
            "Requirement already satisfied: texttable>=1.6.3 in /usr/local/lib/python3.9/dist-packages (from openvino-dev[tensorflow2]) (1.6.7)\n",
            "Requirement already satisfied: pillow>=8.1.2 in /usr/local/lib/python3.9/dist-packages (from openvino-dev[tensorflow2]) (8.4.0)\n",
            "Requirement already satisfied: numpy>=1.16.6 in /usr/local/lib/python3.9/dist-packages (from openvino-dev[tensorflow2]) (1.22.4)\n",
            "Requirement already satisfied: opencv-python>=4.5 in /usr/local/lib/python3.9/dist-packages (from openvino-dev[tensorflow2]) (4.7.0.72)\n",
            "Requirement already satisfied: pyyaml>=5.4.1 in /usr/local/lib/python3.9/dist-packages (from openvino-dev[tensorflow2]) (5.4.1)\n",
            "Requirement already satisfied: openvino==2022.3.0 in /usr/local/lib/python3.9/dist-packages (from openvino-dev[tensorflow2]) (2022.3.0)\n",
            "Requirement already satisfied: addict>=2.4.0 in /usr/local/lib/python3.9/dist-packages (from openvino-dev[tensorflow2]) (2.4.0)\n",
            "Requirement already satisfied: defusedxml>=0.7.1 in /usr/local/lib/python3.9/dist-packages (from openvino-dev[tensorflow2]) (0.7.1)\n",
            "Requirement already satisfied: pandas~=1.3.5 in /usr/local/lib/python3.9/dist-packages (from openvino-dev[tensorflow2]) (1.3.5)\n",
            "Requirement already satisfied: tqdm>=4.54.1 in /usr/local/lib/python3.9/dist-packages (from openvino-dev[tensorflow2]) (4.65.0)\n",
            "Requirement already satisfied: openvino-telemetry>=2022.1.0 in /usr/local/lib/python3.9/dist-packages (from openvino-dev[tensorflow2]) (2022.3.0)\n",
            "Requirement already satisfied: requests>=2.25.1 in /usr/local/lib/python3.9/dist-packages (from openvino-dev[tensorflow2]) (2.27.1)\n",
            "Requirement already satisfied: jstyleson>=0.0.2 in /usr/local/lib/python3.9/dist-packages (from openvino-dev[tensorflow2]) (0.0.2)\n",
            "Collecting tensorflow<=2.10.0,>=2.5\n",
            "  Downloading tensorflow-2.10.0-cp39-cp39-manylinux_2_17_x86_64.manylinux2014_x86_64.whl (578.1 MB)\n",
            "\u001b[2K     \u001b[90m━━━━━━━━━━━━━━━━━━━━━━━━━━━━━━━━━━━━━━━\u001b[0m \u001b[32m578.1/578.1 MB\u001b[0m \u001b[31m1.2 MB/s\u001b[0m eta \u001b[36m0:00:00\u001b[0m\n",
            "\u001b[?25h  Using cached tensorflow-2.9.3-cp39-cp39-manylinux_2_17_x86_64.manylinux2014_x86_64.whl (511.8 MB)\n",
            "Requirement already satisfied: fastjsonschema~=2.15.1 in /usr/local/lib/python3.9/dist-packages (from openvino-dev[tensorflow2]) (2.15.3)\n",
            "Requirement already satisfied: python-dateutil>=2.7.3 in /usr/local/lib/python3.9/dist-packages (from pandas~=1.3.5->openvino-dev[tensorflow2]) (2.8.2)\n",
            "Requirement already satisfied: pytz>=2017.3 in /usr/local/lib/python3.9/dist-packages (from pandas~=1.3.5->openvino-dev[tensorflow2]) (2022.7.1)\n",
            "Requirement already satisfied: idna<4,>=2.5 in /usr/local/lib/python3.9/dist-packages (from requests>=2.25.1->openvino-dev[tensorflow2]) (3.4)\n",
            "Requirement already satisfied: certifi>=2017.4.17 in /usr/local/lib/python3.9/dist-packages (from requests>=2.25.1->openvino-dev[tensorflow2]) (2022.12.7)\n",
            "Requirement already satisfied: charset-normalizer~=2.0.0 in /usr/local/lib/python3.9/dist-packages (from requests>=2.25.1->openvino-dev[tensorflow2]) (2.0.12)\n",
            "Requirement already satisfied: urllib3<1.27,>=1.21.1 in /usr/local/lib/python3.9/dist-packages (from requests>=2.25.1->openvino-dev[tensorflow2]) (1.26.15)\n",
            "Collecting keras<2.10.0,>=2.9.0rc0\n",
            "  Using cached keras-2.9.0-py2.py3-none-any.whl (1.6 MB)\n",
            "Requirement already satisfied: termcolor>=1.1.0 in /usr/local/lib/python3.9/dist-packages (from tensorflow<=2.10.0,>=2.5->openvino-dev[tensorflow2]) (2.2.0)\n",
            "Requirement already satisfied: typing-extensions>=3.6.6 in /usr/local/lib/python3.9/dist-packages (from tensorflow<=2.10.0,>=2.5->openvino-dev[tensorflow2]) (4.5.0)\n",
            "Requirement already satisfied: google-pasta>=0.1.1 in /usr/local/lib/python3.9/dist-packages (from tensorflow<=2.10.0,>=2.5->openvino-dev[tensorflow2]) (0.2.0)\n",
            "Collecting tensorflow-estimator<2.10.0,>=2.9.0rc0\n",
            "  Using cached tensorflow_estimator-2.9.0-py2.py3-none-any.whl (438 kB)\n",
            "Requirement already satisfied: keras-preprocessing>=1.1.1 in /usr/local/lib/python3.9/dist-packages (from tensorflow<=2.10.0,>=2.5->openvino-dev[tensorflow2]) (1.1.2)\n",
            "Requirement already satisfied: grpcio<2.0,>=1.24.3 in /usr/local/lib/python3.9/dist-packages (from tensorflow<=2.10.0,>=2.5->openvino-dev[tensorflow2]) (1.53.0)\n",
            "Requirement already satisfied: absl-py>=1.0.0 in /usr/local/lib/python3.9/dist-packages (from tensorflow<=2.10.0,>=2.5->openvino-dev[tensorflow2]) (1.4.0)\n",
            "Requirement already satisfied: six>=1.12.0 in /usr/local/lib/python3.9/dist-packages (from tensorflow<=2.10.0,>=2.5->openvino-dev[tensorflow2]) (1.16.0)\n",
            "Requirement already satisfied: astunparse>=1.6.0 in /usr/local/lib/python3.9/dist-packages (from tensorflow<=2.10.0,>=2.5->openvino-dev[tensorflow2]) (1.6.3)\n",
            "Requirement already satisfied: tensorflow-io-gcs-filesystem>=0.23.1 in /usr/local/lib/python3.9/dist-packages (from tensorflow<=2.10.0,>=2.5->openvino-dev[tensorflow2]) (0.32.0)\n",
            "Collecting protobuf<3.20,>=3.9.2\n",
            "  Using cached protobuf-3.19.6-cp39-cp39-manylinux_2_17_x86_64.manylinux2014_x86_64.whl (1.1 MB)\n",
            "Requirement already satisfied: gast<=0.4.0,>=0.2.1 in /usr/local/lib/python3.9/dist-packages (from tensorflow<=2.10.0,>=2.5->openvino-dev[tensorflow2]) (0.4.0)\n",
            "Requirement already satisfied: packaging in /usr/local/lib/python3.9/dist-packages (from tensorflow<=2.10.0,>=2.5->openvino-dev[tensorflow2]) (23.0)\n",
            "Collecting flatbuffers<2,>=1.12\n",
            "  Using cached flatbuffers-1.12-py2.py3-none-any.whl (15 kB)\n",
            "Requirement already satisfied: opt-einsum>=2.3.2 in /usr/local/lib/python3.9/dist-packages (from tensorflow<=2.10.0,>=2.5->openvino-dev[tensorflow2]) (3.3.0)\n",
            "Requirement already satisfied: libclang>=13.0.0 in /usr/local/lib/python3.9/dist-packages (from tensorflow<=2.10.0,>=2.5->openvino-dev[tensorflow2]) (16.0.0)\n",
            "Requirement already satisfied: setuptools in /usr/local/lib/python3.9/dist-packages (from tensorflow<=2.10.0,>=2.5->openvino-dev[tensorflow2]) (67.6.1)\n",
            "Requirement already satisfied: h5py>=2.9.0 in /usr/local/lib/python3.9/dist-packages (from tensorflow<=2.10.0,>=2.5->openvino-dev[tensorflow2]) (3.8.0)\n",
            "Requirement already satisfied: wrapt>=1.11.0 in /usr/local/lib/python3.9/dist-packages (from tensorflow<=2.10.0,>=2.5->openvino-dev[tensorflow2]) (1.14.1)\n",
            "Collecting tensorboard<2.10,>=2.9\n",
            "  Using cached tensorboard-2.9.1-py3-none-any.whl (5.8 MB)\n",
            "Requirement already satisfied: wheel<1.0,>=0.23.0 in /usr/local/lib/python3.9/dist-packages (from astunparse>=1.6.0->tensorflow<=2.10.0,>=2.5->openvino-dev[tensorflow2]) (0.40.0)\n",
            "Collecting google-auth-oauthlib<0.5,>=0.4.1\n",
            "  Downloading google_auth_oauthlib-0.4.6-py2.py3-none-any.whl (18 kB)\n",
            "Requirement already satisfied: markdown>=2.6.8 in /usr/local/lib/python3.9/dist-packages (from tensorboard<2.10,>=2.9->tensorflow<=2.10.0,>=2.5->openvino-dev[tensorflow2]) (3.4.3)\n",
            "Requirement already satisfied: google-auth<3,>=1.6.3 in /usr/local/lib/python3.9/dist-packages (from tensorboard<2.10,>=2.9->tensorflow<=2.10.0,>=2.5->openvino-dev[tensorflow2]) (2.17.0)\n",
            "Requirement already satisfied: werkzeug>=1.0.1 in /usr/local/lib/python3.9/dist-packages (from tensorboard<2.10,>=2.9->tensorflow<=2.10.0,>=2.5->openvino-dev[tensorflow2]) (2.2.3)\n",
            "Requirement already satisfied: tensorboard-plugin-wit>=1.6.0 in /usr/local/lib/python3.9/dist-packages (from tensorboard<2.10,>=2.9->tensorflow<=2.10.0,>=2.5->openvino-dev[tensorflow2]) (1.8.1)\n",
            "Collecting tensorboard-data-server<0.7.0,>=0.6.0\n",
            "  Using cached tensorboard_data_server-0.6.1-py3-none-manylinux2010_x86_64.whl (4.9 MB)\n",
            "Requirement already satisfied: pyasn1-modules>=0.2.1 in /usr/local/lib/python3.9/dist-packages (from google-auth<3,>=1.6.3->tensorboard<2.10,>=2.9->tensorflow<=2.10.0,>=2.5->openvino-dev[tensorflow2]) (0.2.8)\n",
            "Requirement already satisfied: rsa<5,>=3.1.4 in /usr/local/lib/python3.9/dist-packages (from google-auth<3,>=1.6.3->tensorboard<2.10,>=2.9->tensorflow<=2.10.0,>=2.5->openvino-dev[tensorflow2]) (4.9)\n",
            "Requirement already satisfied: cachetools<6.0,>=2.0.0 in /usr/local/lib/python3.9/dist-packages (from google-auth<3,>=1.6.3->tensorboard<2.10,>=2.9->tensorflow<=2.10.0,>=2.5->openvino-dev[tensorflow2]) (5.3.0)\n",
            "Requirement already satisfied: requests-oauthlib>=0.7.0 in /usr/local/lib/python3.9/dist-packages (from google-auth-oauthlib<0.5,>=0.4.1->tensorboard<2.10,>=2.9->tensorflow<=2.10.0,>=2.5->openvino-dev[tensorflow2]) (1.3.1)\n",
            "Requirement already satisfied: importlib-metadata>=4.4 in /usr/local/lib/python3.9/dist-packages (from markdown>=2.6.8->tensorboard<2.10,>=2.9->tensorflow<=2.10.0,>=2.5->openvino-dev[tensorflow2]) (6.1.0)\n",
            "Requirement already satisfied: MarkupSafe>=2.1.1 in /usr/local/lib/python3.9/dist-packages (from werkzeug>=1.0.1->tensorboard<2.10,>=2.9->tensorflow<=2.10.0,>=2.5->openvino-dev[tensorflow2]) (2.1.2)\n",
            "Requirement already satisfied: zipp>=0.5 in /usr/local/lib/python3.9/dist-packages (from importlib-metadata>=4.4->markdown>=2.6.8->tensorboard<2.10,>=2.9->tensorflow<=2.10.0,>=2.5->openvino-dev[tensorflow2]) (3.15.0)\n",
            "Requirement already satisfied: pyasn1<0.5.0,>=0.4.6 in /usr/local/lib/python3.9/dist-packages (from pyasn1-modules>=0.2.1->google-auth<3,>=1.6.3->tensorboard<2.10,>=2.9->tensorflow<=2.10.0,>=2.5->openvino-dev[tensorflow2]) (0.4.8)\n",
            "Requirement already satisfied: oauthlib>=3.0.0 in /usr/local/lib/python3.9/dist-packages (from requests-oauthlib>=0.7.0->google-auth-oauthlib<0.5,>=0.4.1->tensorboard<2.10,>=2.9->tensorflow<=2.10.0,>=2.5->openvino-dev[tensorflow2]) (3.2.2)\n",
            "Installing collected packages: keras, flatbuffers, tensorflow-estimator, tensorboard-data-server, protobuf, google-auth-oauthlib, tensorboard, tensorflow\n",
            "  Attempting uninstall: keras\n",
            "    Found existing installation: keras 2.12.0\n",
            "    Uninstalling keras-2.12.0:\n",
            "      Successfully uninstalled keras-2.12.0\n",
            "  Attempting uninstall: flatbuffers\n",
            "    Found existing installation: flatbuffers 23.3.3\n",
            "    Uninstalling flatbuffers-23.3.3:\n",
            "      Successfully uninstalled flatbuffers-23.3.3\n",
            "  Attempting uninstall: tensorflow-estimator\n",
            "    Found existing installation: tensorflow-estimator 2.12.0\n",
            "    Uninstalling tensorflow-estimator-2.12.0:\n",
            "      Successfully uninstalled tensorflow-estimator-2.12.0\n",
            "  Attempting uninstall: tensorboard-data-server\n",
            "    Found existing installation: tensorboard-data-server 0.7.0\n",
            "    Uninstalling tensorboard-data-server-0.7.0:\n",
            "      Successfully uninstalled tensorboard-data-server-0.7.0\n",
            "  Attempting uninstall: protobuf\n",
            "    Found existing installation: protobuf 3.20.3\n",
            "    Uninstalling protobuf-3.20.3:\n",
            "      Successfully uninstalled protobuf-3.20.3\n",
            "  Attempting uninstall: google-auth-oauthlib\n",
            "    Found existing installation: google-auth-oauthlib 1.0.0\n",
            "    Uninstalling google-auth-oauthlib-1.0.0:\n",
            "      Successfully uninstalled google-auth-oauthlib-1.0.0\n",
            "  Attempting uninstall: tensorboard\n",
            "    Found existing installation: tensorboard 2.12.1\n",
            "    Uninstalling tensorboard-2.12.1:\n",
            "      Successfully uninstalled tensorboard-2.12.1\n",
            "  Attempting uninstall: tensorflow\n",
            "    Found existing installation: tensorflow 2.12.0\n",
            "    Uninstalling tensorflow-2.12.0:\n",
            "      Successfully uninstalled tensorflow-2.12.0\n",
            "\u001b[31mERROR: pip's dependency resolver does not currently take into account all the packages that are installed. This behaviour is the source of the following dependency conflicts.\n",
            "tf-models-official 2.12.0 requires tensorflow~=2.12.0, but you have tensorflow 2.9.3 which is incompatible.\n",
            "tensorflow-text 2.12.0 requires tensorflow<2.13,>=2.12.0; platform_machine != \"arm64\" or platform_system != \"Darwin\", but you have tensorflow 2.9.3 which is incompatible.\u001b[0m\u001b[31m\n",
            "\u001b[0mSuccessfully installed flatbuffers-1.12 google-auth-oauthlib-0.4.6 keras-2.9.0 protobuf-3.19.6 tensorboard-2.9.1 tensorboard-data-server-0.6.1 tensorflow-2.9.3 tensorflow-estimator-2.9.0\n"
          ]
        }
      ]
    },
    {
      "cell_type": "code",
      "source": [
        "import time\n",
        "from pathlib import Path\n",
        "\n",
        "import cv2\n",
        "import matplotlib.pyplot as plt\n",
        "import numpy as np\n",
        "import tensorflow as tf\n",
        "from IPython.display import Markdown\n",
        "from openvino.runtime import Core"
      ],
      "metadata": {
        "id": "9i22OoLkoU2G"
      },
      "execution_count": 13,
      "outputs": []
    },
    {
      "cell_type": "code",
      "source": [
        "# The paths of the source and converted models\n",
        "model_name = \"movinet\"\n",
        "model_path = Path(model_fname)\n",
        "ir_data_type = \"FP16\"\n",
        "ir_model_name = \"movinet_ir\""
      ],
      "metadata": {
        "id": "eY6davCflGbz"
      },
      "execution_count": 15,
      "outputs": []
    },
    {
      "cell_type": "markdown",
      "source": [
        "Converting tensorflow model to OPENVINO IR"
      ],
      "metadata": {
        "id": "2WqrazU9nDJg"
      }
    },
    {
      "cell_type": "code",
      "source": [
        "# Construct the command for Model Optimizer\n",
        "mo_command = f\"\"\"mo\n",
        "                 --input_model \"{model_path}\"\n",
        "                 --input_shape \"[1,224,224,3]\"\n",
        "                 --mean_values=\"[127.5,127.5,127.5]\"\n",
        "                 --scale_values=\"[127.5]\"\n",
        "                 --data_type FP16\n",
        "                 --output_dir \"{model_path.parent}\"\n",
        "                 \"\"\"\n",
        "mo_command = \" \".join(mo_command.split())\n",
        "print(\"Model Optimizer command to convert TensorFlow to OpenVINO:\")\n",
        "display(Markdown(f\"`{mo_command}`\"))"
      ],
      "metadata": {
        "colab": {
          "base_uri": "https://localhost:8080/",
          "height": 81
        },
        "id": "6LkLppJlns1g",
        "outputId": "f6fa390b-bb70-422d-f78b-a045b105f297"
      },
      "execution_count": 32,
      "outputs": [
        {
          "output_type": "stream",
          "name": "stdout",
          "text": [
            "Model Optimizer command to convert TensorFlow to OpenVINO:\n"
          ]
        },
        {
          "output_type": "display_data",
          "data": {
            "text/plain": [
              "<IPython.core.display.Markdown object>"
            ],
            "text/markdown": "`mo --input_model \"model/movinet\" --input_shape \"[1,224,224,3]\" --mean_values=\"[127.5,127.5,127.5]\" --scale_values=\"[127.5]\" --data_type FP16 --output_dir \"model\"`"
          },
          "metadata": {}
        }
      ]
    },
    {
      "cell_type": "code",
      "source": [
        "# Run the Model Optimizer (overwrites the older model)\n",
        "print(\"Exporting TensorFlow model to IR... This may take a few minutes.\")\n",
        "mo_result = %sx $mo_command\n",
        "print(\"\\n\".join(mo_result))"
      ],
      "metadata": {
        "colab": {
          "base_uri": "https://localhost:8080/"
        },
        "id": "4hFIbl9nsFRl",
        "outputId": "d6e386de-ab8d-406d-d523-3bd496f0b233"
      },
      "execution_count": 33,
      "outputs": [
        {
          "output_type": "stream",
          "name": "stdout",
          "text": [
            "Exporting TensorFlow model to IR... This may take a few minutes.\n",
            "[ WARNING ]  Use of deprecated cli option --data_type detected. Option use in the following releases will be fatal. \n",
            "[ ERROR ]  Framework name can not be deduced from the given options: --input_model=/content/model/movinet. Please use --framework with one from the list: ['tf', 'kaldi', 'mxnet', 'paddle', 'caffe', 'onnx'].\n"
          ]
        }
      ]
    },
    {
      "cell_type": "code",
      "source": [
        "ir_path = Path(model_path).with_suffix(\".xml\")"
      ],
      "metadata": {
        "id": "4TSYf3jkox26"
      },
      "execution_count": 18,
      "outputs": []
    },
    {
      "cell_type": "code",
      "source": [
        "# Run Model Optimizer if the IR model file does not exist\n",
        "if not ir_path.exists():\n",
        "    print(\"Exporting TensorFlow model to IR... This may take a few minutes.\")\n",
        "    ! $mo_command\n",
        "else:\n",
        "    print(f\"IR model {ir_path} already exists.\")\n",
        "print(ir_path)"
      ],
      "metadata": {
        "colab": {
          "base_uri": "https://localhost:8080/"
        },
        "id": "EYfFNrrYlGUu",
        "outputId": "f7b08537-a0f2-4ccc-ffe5-19aad3386e4a"
      },
      "execution_count": 36,
      "outputs": [
        {
          "output_type": "stream",
          "name": "stdout",
          "text": [
            "Exporting TensorFlow model to IR... This may take a few minutes.\n",
            "[ WARNING ]  Use of deprecated cli option --data_type detected. Option use in the following releases will be fatal. \n",
            "[ ERROR ]  Framework name can not be deduced from the given options: --input_model=/content/model/movinet. Please use --framework with one from the list: ['kaldi', 'tf', 'paddle', 'caffe', 'mxnet', 'onnx'].\n",
            "model/movinet.xml\n"
          ]
        }
      ]
    },
    {
      "cell_type": "code",
      "source": [
        "ie = Core()\n",
        "model = ie.read_model(\"/content/model/movinet/movinet_ir.xml\")\n",
        "compiled_model = ie.compile_model(model=model, device_name=\"CPU\")"
      ],
      "metadata": {
        "colab": {
          "base_uri": "https://localhost:8080/",
          "height": 201
        },
        "id": "UwspuauAp2zk",
        "outputId": "4a5f4e4b-f7fd-4190-f1b7-e6fe1857a581"
      },
      "execution_count": 37,
      "outputs": [
        {
          "output_type": "error",
          "ename": "RuntimeError",
          "evalue": "ignored",
          "traceback": [
            "\u001b[0;31m---------------------------------------------------------------------------\u001b[0m",
            "\u001b[0;31mRuntimeError\u001b[0m                              Traceback (most recent call last)",
            "\u001b[0;32m<ipython-input-37-9f932e9c9ac4>\u001b[0m in \u001b[0;36m<cell line: 2>\u001b[0;34m()\u001b[0m\n\u001b[1;32m      1\u001b[0m \u001b[0mie\u001b[0m \u001b[0;34m=\u001b[0m \u001b[0mCore\u001b[0m\u001b[0;34m(\u001b[0m\u001b[0;34m)\u001b[0m\u001b[0;34m\u001b[0m\u001b[0;34m\u001b[0m\u001b[0m\n\u001b[0;32m----> 2\u001b[0;31m \u001b[0mmodel\u001b[0m \u001b[0;34m=\u001b[0m \u001b[0mie\u001b[0m\u001b[0;34m.\u001b[0m\u001b[0mread_model\u001b[0m\u001b[0;34m(\u001b[0m\u001b[0;34m\"/content/model/movinet/movinet_ir.xml\"\u001b[0m\u001b[0;34m)\u001b[0m\u001b[0;34m\u001b[0m\u001b[0;34m\u001b[0m\u001b[0m\n\u001b[0m\u001b[1;32m      3\u001b[0m \u001b[0mcompiled_model\u001b[0m \u001b[0;34m=\u001b[0m \u001b[0mie\u001b[0m\u001b[0;34m.\u001b[0m\u001b[0mcompile_model\u001b[0m\u001b[0;34m(\u001b[0m\u001b[0mmodel\u001b[0m\u001b[0;34m=\u001b[0m\u001b[0mmodel\u001b[0m\u001b[0;34m,\u001b[0m \u001b[0mdevice_name\u001b[0m\u001b[0;34m=\u001b[0m\u001b[0;34m\"CPU\"\u001b[0m\u001b[0;34m)\u001b[0m\u001b[0;34m\u001b[0m\u001b[0;34m\u001b[0m\u001b[0m\n",
            "\u001b[0;31mRuntimeError\u001b[0m: Model file /content/model/movinet/movinet_ir.xml cannot be opened!"
          ]
        }
      ]
    },
    {
      "cell_type": "markdown",
      "source": [
        "Test Inference on the Converted Model"
      ],
      "metadata": {
        "id": "5YGceTeKo7Zd"
      }
    },
    {
      "cell_type": "code",
      "source": [
        "ie = IECore()\n",
        "net = ie.read_network(model=ir_path, weights=ir_path.with_suffix(\".bin\"))\n",
        "exec_net = ie.load_network(network=net, device_name=\"CPU\")"
      ],
      "metadata": {
        "colab": {
          "base_uri": "https://localhost:8080/",
          "height": 270
        },
        "id": "RthnqGLPlGO1",
        "outputId": "0398285f-67f3-4c0e-c110-659d43c9b95a"
      },
      "execution_count": 39,
      "outputs": [
        {
          "output_type": "error",
          "ename": "Exception",
          "evalue": "ignored",
          "traceback": [
            "\u001b[0;31m---------------------------------------------------------------------------\u001b[0m",
            "\u001b[0;31mException\u001b[0m                                 Traceback (most recent call last)",
            "\u001b[0;32m<ipython-input-39-9be0127315a4>\u001b[0m in \u001b[0;36m<cell line: 2>\u001b[0;34m()\u001b[0m\n\u001b[1;32m      1\u001b[0m \u001b[0mie\u001b[0m \u001b[0;34m=\u001b[0m \u001b[0mIECore\u001b[0m\u001b[0;34m(\u001b[0m\u001b[0;34m)\u001b[0m\u001b[0;34m\u001b[0m\u001b[0;34m\u001b[0m\u001b[0m\n\u001b[0;32m----> 2\u001b[0;31m \u001b[0mnet\u001b[0m \u001b[0;34m=\u001b[0m \u001b[0mie\u001b[0m\u001b[0;34m.\u001b[0m\u001b[0mread_network\u001b[0m\u001b[0;34m(\u001b[0m\u001b[0mmodel\u001b[0m\u001b[0;34m=\u001b[0m\u001b[0mir_path\u001b[0m\u001b[0;34m,\u001b[0m \u001b[0mweights\u001b[0m\u001b[0;34m=\u001b[0m\u001b[0mir_path\u001b[0m\u001b[0;34m.\u001b[0m\u001b[0mwith_suffix\u001b[0m\u001b[0;34m(\u001b[0m\u001b[0;34m\".bin\"\u001b[0m\u001b[0;34m)\u001b[0m\u001b[0;34m)\u001b[0m\u001b[0;34m\u001b[0m\u001b[0;34m\u001b[0m\u001b[0m\n\u001b[0m\u001b[1;32m      3\u001b[0m \u001b[0mexec_net\u001b[0m \u001b[0;34m=\u001b[0m \u001b[0mie\u001b[0m\u001b[0;34m.\u001b[0m\u001b[0mload_network\u001b[0m\u001b[0;34m(\u001b[0m\u001b[0mnetwork\u001b[0m\u001b[0;34m=\u001b[0m\u001b[0mnet\u001b[0m\u001b[0;34m,\u001b[0m \u001b[0mdevice_name\u001b[0m\u001b[0;34m=\u001b[0m\u001b[0;34m\"CPU\"\u001b[0m\u001b[0;34m)\u001b[0m\u001b[0;34m\u001b[0m\u001b[0;34m\u001b[0m\u001b[0m\n",
            "\u001b[0;32mie_api.pyx\u001b[0m in \u001b[0;36mopenvino.inference_engine.ie_api.IECore.read_network\u001b[0;34m()\u001b[0m\n",
            "\u001b[0;32mie_api.pyx\u001b[0m in \u001b[0;36mopenvino.inference_engine.ie_api.IECore.read_network\u001b[0;34m()\u001b[0m\n",
            "\u001b[0;31mException\u001b[0m: Path to the model model/movinet.xml doesn't exist or it's a directory"
          ]
        }
      ]
    },
    {
      "cell_type": "code",
      "source": [
        "input_key = list(exec_net.input_info)[0]\n",
        "output_key = list(exec_net.outputs.keys())[0]\n",
        "network_input_shape = exec_net.input_info[input_key].tensor_desc.dims"
      ],
      "metadata": {
        "colab": {
          "base_uri": "https://localhost:8080/",
          "height": 201
        },
        "id": "qQP1KX0VlGLX",
        "outputId": "190916e5-840f-4fc7-9df3-e4951cc7fe0c"
      },
      "execution_count": 40,
      "outputs": [
        {
          "output_type": "error",
          "ename": "NameError",
          "evalue": "ignored",
          "traceback": [
            "\u001b[0;31m---------------------------------------------------------------------------\u001b[0m",
            "\u001b[0;31mNameError\u001b[0m                                 Traceback (most recent call last)",
            "\u001b[0;32m<ipython-input-40-ac58e46484cc>\u001b[0m in \u001b[0;36m<cell line: 1>\u001b[0;34m()\u001b[0m\n\u001b[0;32m----> 1\u001b[0;31m \u001b[0minput_key\u001b[0m \u001b[0;34m=\u001b[0m \u001b[0mlist\u001b[0m\u001b[0;34m(\u001b[0m\u001b[0mexec_net\u001b[0m\u001b[0;34m.\u001b[0m\u001b[0minput_info\u001b[0m\u001b[0;34m)\u001b[0m\u001b[0;34m[\u001b[0m\u001b[0;36m0\u001b[0m\u001b[0;34m]\u001b[0m\u001b[0;34m\u001b[0m\u001b[0;34m\u001b[0m\u001b[0m\n\u001b[0m\u001b[1;32m      2\u001b[0m \u001b[0moutput_key\u001b[0m \u001b[0;34m=\u001b[0m \u001b[0mlist\u001b[0m\u001b[0;34m(\u001b[0m\u001b[0mexec_net\u001b[0m\u001b[0;34m.\u001b[0m\u001b[0moutputs\u001b[0m\u001b[0;34m.\u001b[0m\u001b[0mkeys\u001b[0m\u001b[0;34m(\u001b[0m\u001b[0;34m)\u001b[0m\u001b[0;34m)\u001b[0m\u001b[0;34m[\u001b[0m\u001b[0;36m0\u001b[0m\u001b[0;34m]\u001b[0m\u001b[0;34m\u001b[0m\u001b[0;34m\u001b[0m\u001b[0m\n\u001b[1;32m      3\u001b[0m \u001b[0mnetwork_input_shape\u001b[0m \u001b[0;34m=\u001b[0m \u001b[0mexec_net\u001b[0m\u001b[0;34m.\u001b[0m\u001b[0minput_info\u001b[0m\u001b[0;34m[\u001b[0m\u001b[0minput_key\u001b[0m\u001b[0;34m]\u001b[0m\u001b[0;34m.\u001b[0m\u001b[0mtensor_desc\u001b[0m\u001b[0;34m.\u001b[0m\u001b[0mdims\u001b[0m\u001b[0;34m\u001b[0m\u001b[0;34m\u001b[0m\u001b[0m\n",
            "\u001b[0;31mNameError\u001b[0m: name 'exec_net' is not defined"
          ]
        }
      ]
    },
    {
      "cell_type": "markdown",
      "source": [
        "Loading the Model"
      ],
      "metadata": {
        "id": "5roboMtQ_pPV"
      }
    },
    {
      "cell_type": "code",
      "source": [
        "ie = Core()\n",
        "model = ie.read_model(ir_path)\n",
        "compiled_model = ie.compile_model(model=model, device_name=\"CPU\")"
      ],
      "metadata": {
        "colab": {
          "base_uri": "https://localhost:8080/",
          "height": 201
        },
        "id": "k4Qnu46a_rXQ",
        "outputId": "992e2862-f576-4fc8-ae93-4cf4796512f1"
      },
      "execution_count": 27,
      "outputs": [
        {
          "output_type": "error",
          "ename": "RuntimeError",
          "evalue": "ignored",
          "traceback": [
            "\u001b[0;31m---------------------------------------------------------------------------\u001b[0m",
            "\u001b[0;31mRuntimeError\u001b[0m                              Traceback (most recent call last)",
            "\u001b[0;32m<ipython-input-27-c77064c2e8d7>\u001b[0m in \u001b[0;36m<cell line: 2>\u001b[0;34m()\u001b[0m\n\u001b[1;32m      1\u001b[0m \u001b[0mie\u001b[0m \u001b[0;34m=\u001b[0m \u001b[0mCore\u001b[0m\u001b[0;34m(\u001b[0m\u001b[0;34m)\u001b[0m\u001b[0;34m\u001b[0m\u001b[0;34m\u001b[0m\u001b[0m\n\u001b[0;32m----> 2\u001b[0;31m \u001b[0mmodel\u001b[0m \u001b[0;34m=\u001b[0m \u001b[0mie\u001b[0m\u001b[0;34m.\u001b[0m\u001b[0mread_model\u001b[0m\u001b[0;34m(\u001b[0m\u001b[0mir_path\u001b[0m\u001b[0;34m)\u001b[0m\u001b[0;34m\u001b[0m\u001b[0;34m\u001b[0m\u001b[0m\n\u001b[0m\u001b[1;32m      3\u001b[0m \u001b[0mcompiled_model\u001b[0m \u001b[0;34m=\u001b[0m \u001b[0mie\u001b[0m\u001b[0;34m.\u001b[0m\u001b[0mcompile_model\u001b[0m\u001b[0;34m(\u001b[0m\u001b[0mmodel\u001b[0m\u001b[0;34m=\u001b[0m\u001b[0mmodel\u001b[0m\u001b[0;34m,\u001b[0m \u001b[0mdevice_name\u001b[0m\u001b[0;34m=\u001b[0m\u001b[0;34m\"CPU\"\u001b[0m\u001b[0;34m)\u001b[0m\u001b[0;34m\u001b[0m\u001b[0;34m\u001b[0m\u001b[0m\n",
            "\u001b[0;31mRuntimeError\u001b[0m: Model file model/movinet.xml cannot be opened!"
          ]
        }
      ]
    },
    {
      "cell_type": "markdown",
      "source": [
        "Optimizing model using Monodepth Estimation with OpenVINO"
      ],
      "metadata": {
        "id": "bt6Ch6w9_0Fh"
      }
    },
    {
      "cell_type": "code",
      "source": [
        "import sys\n",
        "import time\n",
        "from pathlib import Path\n",
        "\n",
        "import cv2\n",
        "import matplotlib.cm\n",
        "import matplotlib.pyplot as plt\n",
        "import numpy as np\n",
        "from IPython.display import (\n",
        "    HTML,\n",
        "    FileLink,\n",
        "    Pretty,\n",
        "    ProgressBar,\n",
        "    Video,\n",
        "    clear_output,\n",
        "    display,\n",
        ")\n",
        "from openvino.runtime import Core\n",
        "\n",
        "sys.path.append(\"../utils\")\n",
        "#from notebook_utils import load_image"
      ],
      "metadata": {
        "id": "8a1Qeg4m_xR3"
      },
      "execution_count": 41,
      "outputs": []
    },
    {
      "cell_type": "code",
      "source": [
        "DEVICE = \"CPU\"\n",
        "MODEL_FILE = \"model/MiDaS_small.xml\"\n",
        "\n",
        "model_xml_path = Path(MODEL_FILE)"
      ],
      "metadata": {
        "id": "3AmNcFMq_-o2"
      },
      "execution_count": 42,
      "outputs": []
    },
    {
      "cell_type": "code",
      "source": [
        "def normalize_minmax(data):\n",
        "    \"\"\"Normalizes the values in `data` between 0 and 1\"\"\"\n",
        "    return (data - data.min()) / (data.max() - data.min())\n",
        "\n",
        "\n",
        "def convert_result_to_image(result, colormap=\"viridis\"):\n",
        "    \"\"\"\n",
        "    Convert network result of floating point numbers to an RGB image with\n",
        "    integer values from 0-255 by applying a colormap.\n",
        "\n",
        "    `result` is expected to be a single network result in 1,H,W shape\n",
        "    `colormap` is a matplotlib colormap.\n",
        "    See https://matplotlib.org/stable/tutorials/colors/colormaps.html\n",
        "    \"\"\"\n",
        "    cmap = matplotlib.cm.get_cmap(colormap)\n",
        "    result = result.squeeze(0)\n",
        "    result = normalize_minmax(result)\n",
        "    result = cmap(result)[:, :, :3] * 255\n",
        "    result = result.astype(np.uint8)\n",
        "    return result\n",
        "\n",
        "\n",
        "def to_rgb(image_data) -> np.ndarray:\n",
        "    \"\"\"\n",
        "    Convert image_data from BGR to RGB\n",
        "    \"\"\"\n",
        "    return cv2.cvtColor(image_data, cv2.COLOR_BGR2RGB)"
      ],
      "metadata": {
        "id": "C1RGi4zCADBz"
      },
      "execution_count": 43,
      "outputs": []
    },
    {
      "cell_type": "code",
      "source": [
        "from openvino.runtime import Core\n",
        "\n",
        "ie = Core()\n",
        "tf_model_path = \"model/v3-small_224_1.0_float\"\n",
        "\n",
        "#\"model/classification.pb\"\n",
        "\n",
        "model_tf = ie.read_model(model=tf_model_path)\n",
        "compiled_model_tf = ie.compile_model(model=model_tf, device_name=\"CPU\")"
      ],
      "metadata": {
        "id": "fnVw-vdMDb5O",
        "colab": {
          "base_uri": "https://localhost:8080/",
          "height": 218
        },
        "outputId": "13a45b18-4c47-4d01-aa4b-2526984ad2bf"
      },
      "execution_count": 44,
      "outputs": [
        {
          "output_type": "error",
          "ename": "RuntimeError",
          "evalue": "ignored",
          "traceback": [
            "\u001b[0;31m---------------------------------------------------------------------------\u001b[0m",
            "\u001b[0;31mRuntimeError\u001b[0m                              Traceback (most recent call last)",
            "\u001b[0;32m<ipython-input-44-e61e78b900dd>\u001b[0m in \u001b[0;36m<cell line: 7>\u001b[0;34m()\u001b[0m\n\u001b[1;32m      5\u001b[0m \u001b[0;31m#\"model/classification.pb\"\u001b[0m\u001b[0;34m\u001b[0m\u001b[0;34m\u001b[0m\u001b[0m\n\u001b[1;32m      6\u001b[0m \u001b[0;34m\u001b[0m\u001b[0m\n\u001b[0;32m----> 7\u001b[0;31m \u001b[0mmodel_tf\u001b[0m \u001b[0;34m=\u001b[0m \u001b[0mie\u001b[0m\u001b[0;34m.\u001b[0m\u001b[0mread_model\u001b[0m\u001b[0;34m(\u001b[0m\u001b[0mmodel\u001b[0m\u001b[0;34m=\u001b[0m\u001b[0mtf_model_path\u001b[0m\u001b[0;34m)\u001b[0m\u001b[0;34m\u001b[0m\u001b[0;34m\u001b[0m\u001b[0m\n\u001b[0m\u001b[1;32m      8\u001b[0m \u001b[0mcompiled_model_tf\u001b[0m \u001b[0;34m=\u001b[0m \u001b[0mie\u001b[0m\u001b[0;34m.\u001b[0m\u001b[0mcompile_model\u001b[0m\u001b[0;34m(\u001b[0m\u001b[0mmodel\u001b[0m\u001b[0;34m=\u001b[0m\u001b[0mmodel_tf\u001b[0m\u001b[0;34m,\u001b[0m \u001b[0mdevice_name\u001b[0m\u001b[0;34m=\u001b[0m\u001b[0;34m\"CPU\"\u001b[0m\u001b[0;34m)\u001b[0m\u001b[0;34m\u001b[0m\u001b[0;34m\u001b[0m\u001b[0m\n",
            "\u001b[0;31mRuntimeError\u001b[0m: Model file model/v3-small_224_1.0_float cannot be opened!"
          ]
        }
      ]
    },
    {
      "cell_type": "markdown",
      "source": [
        "Monodepth on Video"
      ],
      "metadata": {
        "id": "TqLboH8JS1KB"
      }
    },
    {
      "cell_type": "code",
      "source": [
        "# Video source: https://www.youtube.com/watch?v=fu1xcQdJRws (Public Domain)\n",
        "VIDEO_FILE = load_gif('jumpingjack.gif', image_size=(172, 172))\n",
        "# Number of seconds of input video to process. Set `NUM_SECONDS` to 0 to process\n",
        "# the full video.\n",
        "NUM_SECONDS = 4\n",
        "# Set `ADVANCE_FRAMES` to 1 to process every frame from the input video\n",
        "# Set `ADVANCE_FRAMES` to 2 to process every second frame. This reduces\n",
        "# the time it takes to process the video.\n",
        "ADVANCE_FRAMES = 2\n",
        "# Set `SCALE_OUTPUT` to reduce the size of the result video\n",
        "# If `SCALE_OUTPUT` is 0.5, the width and height of the result video\n",
        "# will be half the width and height of the input video.\n",
        "SCALE_OUTPUT = 0.5\n",
        "# The format to use for video encoding. The 'vp09` is slow,\n",
        "# but it works on most systems.\n",
        "# Try the `THEO` encoding if you have FFMPEG installed.\n",
        "# FOURCC = cv2.VideoWriter_fourcc(*\"THEO\")\n",
        "FOURCC = cv2.VideoWriter_fourcc(*\"vp09\")\n",
        "\n",
        "# Create Path objects for the input video and the result video.\n",
        "output_directory = Path(\"output\")\n",
        "output_directory.mkdir(exist_ok=True)\n",
        "result_video_path = output_directory / f\"{Path(VIDEO_FILE).stem}_monodepth.mp4\""
      ],
      "metadata": {
        "colab": {
          "base_uri": "https://localhost:8080/",
          "height": 346
        },
        "id": "jueYxkFOS2uC",
        "outputId": "7ba2a990-248a-4908-898b-f0879c9339af"
      },
      "execution_count": 47,
      "outputs": [
        {
          "output_type": "error",
          "ename": "TypeError",
          "evalue": "ignored",
          "traceback": [
            "\u001b[0;31m---------------------------------------------------------------------------\u001b[0m",
            "\u001b[0;31mTypeError\u001b[0m                                 Traceback (most recent call last)",
            "\u001b[0;32m<ipython-input-47-628fd0e42e85>\u001b[0m in \u001b[0;36m<cell line: 23>\u001b[0;34m()\u001b[0m\n\u001b[1;32m     21\u001b[0m \u001b[0moutput_directory\u001b[0m \u001b[0;34m=\u001b[0m \u001b[0mPath\u001b[0m\u001b[0;34m(\u001b[0m\u001b[0;34m\"output\"\u001b[0m\u001b[0;34m)\u001b[0m\u001b[0;34m\u001b[0m\u001b[0;34m\u001b[0m\u001b[0m\n\u001b[1;32m     22\u001b[0m \u001b[0moutput_directory\u001b[0m\u001b[0;34m.\u001b[0m\u001b[0mmkdir\u001b[0m\u001b[0;34m(\u001b[0m\u001b[0mexist_ok\u001b[0m\u001b[0;34m=\u001b[0m\u001b[0;32mTrue\u001b[0m\u001b[0;34m)\u001b[0m\u001b[0;34m\u001b[0m\u001b[0;34m\u001b[0m\u001b[0m\n\u001b[0;32m---> 23\u001b[0;31m \u001b[0mresult_video_path\u001b[0m \u001b[0;34m=\u001b[0m \u001b[0moutput_directory\u001b[0m \u001b[0;34m/\u001b[0m \u001b[0;34mf\"{Path(VIDEO_FILE).stem}_monodepth.mp4\"\u001b[0m\u001b[0;34m\u001b[0m\u001b[0;34m\u001b[0m\u001b[0m\n\u001b[0m",
            "\u001b[0;32m/usr/lib/python3.9/pathlib.py\u001b[0m in \u001b[0;36m__new__\u001b[0;34m(cls, *args, **kwargs)\u001b[0m\n\u001b[1;32m   1080\u001b[0m         \u001b[0;32mif\u001b[0m \u001b[0mcls\u001b[0m \u001b[0;32mis\u001b[0m \u001b[0mPath\u001b[0m\u001b[0;34m:\u001b[0m\u001b[0;34m\u001b[0m\u001b[0;34m\u001b[0m\u001b[0m\n\u001b[1;32m   1081\u001b[0m             \u001b[0mcls\u001b[0m \u001b[0;34m=\u001b[0m \u001b[0mWindowsPath\u001b[0m \u001b[0;32mif\u001b[0m \u001b[0mos\u001b[0m\u001b[0;34m.\u001b[0m\u001b[0mname\u001b[0m \u001b[0;34m==\u001b[0m \u001b[0;34m'nt'\u001b[0m \u001b[0;32melse\u001b[0m \u001b[0mPosixPath\u001b[0m\u001b[0;34m\u001b[0m\u001b[0;34m\u001b[0m\u001b[0m\n\u001b[0;32m-> 1082\u001b[0;31m         \u001b[0mself\u001b[0m \u001b[0;34m=\u001b[0m \u001b[0mcls\u001b[0m\u001b[0;34m.\u001b[0m\u001b[0m_from_parts\u001b[0m\u001b[0;34m(\u001b[0m\u001b[0margs\u001b[0m\u001b[0;34m,\u001b[0m \u001b[0minit\u001b[0m\u001b[0;34m=\u001b[0m\u001b[0;32mFalse\u001b[0m\u001b[0;34m)\u001b[0m\u001b[0;34m\u001b[0m\u001b[0;34m\u001b[0m\u001b[0m\n\u001b[0m\u001b[1;32m   1083\u001b[0m         \u001b[0;32mif\u001b[0m \u001b[0;32mnot\u001b[0m \u001b[0mself\u001b[0m\u001b[0;34m.\u001b[0m\u001b[0m_flavour\u001b[0m\u001b[0;34m.\u001b[0m\u001b[0mis_supported\u001b[0m\u001b[0;34m:\u001b[0m\u001b[0;34m\u001b[0m\u001b[0;34m\u001b[0m\u001b[0m\n\u001b[1;32m   1084\u001b[0m             raise NotImplementedError(\"cannot instantiate %r on your system\"\n",
            "\u001b[0;32m/usr/lib/python3.9/pathlib.py\u001b[0m in \u001b[0;36m_from_parts\u001b[0;34m(cls, args, init)\u001b[0m\n\u001b[1;32m    705\u001b[0m         \u001b[0;31m# right flavour.\u001b[0m\u001b[0;34m\u001b[0m\u001b[0;34m\u001b[0m\u001b[0m\n\u001b[1;32m    706\u001b[0m         \u001b[0mself\u001b[0m \u001b[0;34m=\u001b[0m \u001b[0mobject\u001b[0m\u001b[0;34m.\u001b[0m\u001b[0m__new__\u001b[0m\u001b[0;34m(\u001b[0m\u001b[0mcls\u001b[0m\u001b[0;34m)\u001b[0m\u001b[0;34m\u001b[0m\u001b[0;34m\u001b[0m\u001b[0m\n\u001b[0;32m--> 707\u001b[0;31m         \u001b[0mdrv\u001b[0m\u001b[0;34m,\u001b[0m \u001b[0mroot\u001b[0m\u001b[0;34m,\u001b[0m \u001b[0mparts\u001b[0m \u001b[0;34m=\u001b[0m \u001b[0mself\u001b[0m\u001b[0;34m.\u001b[0m\u001b[0m_parse_args\u001b[0m\u001b[0;34m(\u001b[0m\u001b[0margs\u001b[0m\u001b[0;34m)\u001b[0m\u001b[0;34m\u001b[0m\u001b[0;34m\u001b[0m\u001b[0m\n\u001b[0m\u001b[1;32m    708\u001b[0m         \u001b[0mself\u001b[0m\u001b[0;34m.\u001b[0m\u001b[0m_drv\u001b[0m \u001b[0;34m=\u001b[0m \u001b[0mdrv\u001b[0m\u001b[0;34m\u001b[0m\u001b[0;34m\u001b[0m\u001b[0m\n\u001b[1;32m    709\u001b[0m         \u001b[0mself\u001b[0m\u001b[0;34m.\u001b[0m\u001b[0m_root\u001b[0m \u001b[0;34m=\u001b[0m \u001b[0mroot\u001b[0m\u001b[0;34m\u001b[0m\u001b[0;34m\u001b[0m\u001b[0m\n",
            "\u001b[0;32m/usr/lib/python3.9/pathlib.py\u001b[0m in \u001b[0;36m_parse_args\u001b[0;34m(cls, args)\u001b[0m\n\u001b[1;32m    689\u001b[0m                 \u001b[0mparts\u001b[0m \u001b[0;34m+=\u001b[0m \u001b[0ma\u001b[0m\u001b[0;34m.\u001b[0m\u001b[0m_parts\u001b[0m\u001b[0;34m\u001b[0m\u001b[0;34m\u001b[0m\u001b[0m\n\u001b[1;32m    690\u001b[0m             \u001b[0;32melse\u001b[0m\u001b[0;34m:\u001b[0m\u001b[0;34m\u001b[0m\u001b[0;34m\u001b[0m\u001b[0m\n\u001b[0;32m--> 691\u001b[0;31m                 \u001b[0ma\u001b[0m \u001b[0;34m=\u001b[0m \u001b[0mos\u001b[0m\u001b[0;34m.\u001b[0m\u001b[0mfspath\u001b[0m\u001b[0;34m(\u001b[0m\u001b[0ma\u001b[0m\u001b[0;34m)\u001b[0m\u001b[0;34m\u001b[0m\u001b[0;34m\u001b[0m\u001b[0m\n\u001b[0m\u001b[1;32m    692\u001b[0m                 \u001b[0;32mif\u001b[0m \u001b[0misinstance\u001b[0m\u001b[0;34m(\u001b[0m\u001b[0ma\u001b[0m\u001b[0;34m,\u001b[0m \u001b[0mstr\u001b[0m\u001b[0;34m)\u001b[0m\u001b[0;34m:\u001b[0m\u001b[0;34m\u001b[0m\u001b[0;34m\u001b[0m\u001b[0m\n\u001b[1;32m    693\u001b[0m                     \u001b[0;31m# Force-cast str subclasses to str (issue #21127)\u001b[0m\u001b[0;34m\u001b[0m\u001b[0;34m\u001b[0m\u001b[0m\n",
            "\u001b[0;31mTypeError\u001b[0m: expected str, bytes or os.PathLike object, not EagerTensor"
          ]
        }
      ]
    },
    {
      "cell_type": "markdown",
      "source": [
        "Load the Video"
      ],
      "metadata": {
        "id": "4oWezGJ3Ta9G"
      }
    },
    {
      "cell_type": "code",
      "source": [
        "cap = cv2.VideoCapture(str(VIDEO_FILE))\n",
        "ret, image = cap.read()\n",
        "if not ret:\n",
        "    raise ValueError(f\"The video at {VIDEO_FILE} cannot be read.\")\n",
        "input_fps = cap.get(cv2.CAP_PROP_FPS)\n",
        "input_video_frame_height, input_video_frame_width = image.shape[:2]\n",
        "\n",
        "target_fps = input_fps / ADVANCE_FRAMES\n",
        "target_frame_height = int(input_video_frame_height * SCALE_OUTPUT)\n",
        "target_frame_width = int(input_video_frame_width * SCALE_OUTPUT)\n",
        "\n",
        "cap.release()\n",
        "print(\n",
        "    f\"The input video has a frame width of {input_video_frame_width}, \"\n",
        "    f\"frame height of {input_video_frame_height} and runs at {input_fps:.2f} fps\"\n",
        ")\n",
        "print(\n",
        "    \"The monodepth video will be scaled with a factor \"\n",
        "    f\"{SCALE_OUTPUT}, have width {target_frame_width}, \"\n",
        "    f\" height {target_frame_height}, and run at {target_fps:.2f} fps\"\n",
        ")"
      ],
      "metadata": {
        "id": "ZBxC4DbGTSAb"
      },
      "execution_count": null,
      "outputs": []
    },
    {
      "cell_type": "markdown",
      "source": [
        "Do Inference on a Video and Create Monodepth Video"
      ],
      "metadata": {
        "id": "pMpa180oTdQo"
      }
    },
    {
      "cell_type": "code",
      "source": [
        "# Initialize variables.\n",
        "input_video_frame_nr = 0\n",
        "start_time = time.perf_counter()\n",
        "total_inference_duration = 0\n",
        "\n",
        "# Open the input video\n",
        "cap = cv2.VideoCapture(str(VIDEO_FILE))\n",
        "\n",
        "# Create a result video.\n",
        "out_video = cv2.VideoWriter(\n",
        "    str(result_video_path),\n",
        "    FOURCC,\n",
        "    target_fps,\n",
        "    (target_frame_width * 2, target_frame_height),\n",
        ")\n",
        "\n",
        "num_frames = int(NUM_SECONDS * input_fps)\n",
        "total_frames = cap.get(cv2.CAP_PROP_FRAME_COUNT) if num_frames == 0 else num_frames\n",
        "progress_bar = ProgressBar(total=total_frames)\n",
        "progress_bar.display()\n",
        "\n",
        "try:\n",
        "    while cap.isOpened():\n",
        "        ret, image = cap.read()\n",
        "        if not ret:\n",
        "            cap.release()\n",
        "            break\n",
        "\n",
        "        if input_video_frame_nr >= total_frames:\n",
        "            break\n",
        "\n",
        "        # Only process every second frame.\n",
        "        # Prepare a frame for inference.\n",
        "        # Resize to the input shape for network.\n",
        "        resized_image = cv2.resize(src=image, dsize=(network_image_height, network_image_width))\n",
        "        # Reshape the image to network input shape NCHW.\n",
        "        input_image = np.expand_dims(np.transpose(resized_image, (2, 0, 1)), 0)\n",
        "\n",
        "        # Do inference.\n",
        "        inference_start_time = time.perf_counter()\n",
        "        result = compiled_model([input_image])[output_key]\n",
        "        inference_stop_time = time.perf_counter()\n",
        "        inference_duration = inference_stop_time - inference_start_time\n",
        "        total_inference_duration += inference_duration\n",
        "\n",
        "        if input_video_frame_nr % (10 * ADVANCE_FRAMES) == 0:\n",
        "            clear_output(wait=True)\n",
        "            progress_bar.display()\n",
        "            # input_video_frame_nr // ADVANCE_FRAMES gives the number of\n",
        "            # Frames that have been processed by the network.\n",
        "            display(\n",
        "                Pretty(\n",
        "                    f\"Processed frame {input_video_frame_nr // ADVANCE_FRAMES}\"\n",
        "                    f\"/{total_frames // ADVANCE_FRAMES}. \"\n",
        "                    f\"Inference time per frame: {inference_duration:.2f} seconds \"\n",
        "                    f\"({1/inference_duration:.2f} FPS)\"\n",
        "                )\n",
        "            )\n",
        "\n",
        "        # Transform the network result to a RGB image.\n",
        "        result_frame = to_rgb(convert_result_to_image(result))\n",
        "        # Resize the image and the result to a target frame shape.\n",
        "        result_frame = cv2.resize(result_frame, (target_frame_width, target_frame_height))\n",
        "        image = cv2.resize(image, (target_frame_width, target_frame_height))\n",
        "        # Put the image and the result side by side.\n",
        "        stacked_frame = np.hstack((image, result_frame))\n",
        "        # Save a frame to the video.\n",
        "        out_video.write(stacked_frame)\n",
        "\n",
        "        input_video_frame_nr = input_video_frame_nr + ADVANCE_FRAMES\n",
        "        cap.set(1, input_video_frame_nr)\n",
        "\n",
        "        progress_bar.progress = input_video_frame_nr\n",
        "        progress_bar.update()\n",
        "\n",
        "except KeyboardInterrupt:\n",
        "    print(\"Processing interrupted.\")\n",
        "finally:\n",
        "    clear_output()\n",
        "    processed_frames = num_frames // ADVANCE_FRAMES\n",
        "    out_video.release()\n",
        "    cap.release()\n",
        "    end_time = time.perf_counter()\n",
        "    duration = end_time - start_time\n",
        "\n",
        "    print(\n",
        "        f\"Processed {processed_frames} frames in {duration:.2f} seconds. \"\n",
        "        f\"Total FPS (including video processing): {processed_frames/duration:.2f}.\"\n",
        "        f\"Inference FPS: {processed_frames/total_inference_duration:.2f} \"\n",
        "    )\n",
        "    print(f\"Monodepth Video saved to '{str(result_video_path)}'.\")"
      ],
      "metadata": {
        "id": "iPEMUVeXTfpu"
      },
      "execution_count": null,
      "outputs": []
    },
    {
      "cell_type": "markdown",
      "source": [
        "Display Monodepth Video"
      ],
      "metadata": {
        "id": "EQmx2SmuThwT"
      }
    },
    {
      "cell_type": "code",
      "source": [
        "video = Video(result_video_path, width=800, embed=True)\n",
        "if not result_video_path.exists():\n",
        "    plt.imshow(stacked_frame)\n",
        "    raise ValueError(\"OpenCV was unable to write the video file. Showing one video frame.\")\n",
        "else:\n",
        "    print(f\"Showing monodepth video saved at\\n{result_video_path.resolve()}\")\n",
        "    print(\n",
        "        \"If you cannot see the video in your browser, please click on the \"\n",
        "        \"following link to download the video \"\n",
        "    )\n",
        "    video_link = FileLink(result_video_path)\n",
        "    video_link.html_link_str = \"<a href='%s' download>%s</a>\"\n",
        "    display(HTML(video_link._repr_html_()))\n",
        "    display(video)"
      ],
      "metadata": {
        "id": "ju6p0Dz0TkBf"
      },
      "execution_count": null,
      "outputs": []
    }
  ]
}