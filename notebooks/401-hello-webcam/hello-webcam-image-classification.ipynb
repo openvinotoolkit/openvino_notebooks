{
 "cells": [
  {
   "cell_type": "markdown",
   "id": "6ac69ef6-1d6e-40f2-9e17-3770d9a805ef",
   "metadata": {},
   "source": [
    "# Running Image Classification on a webcam or video feed\n",
    "\n",
    "This sample shows you how to run OpenVINO inference engine along with a webcam or video stream inside a notebook. You can see the real-time result at the bottom of this notebook. \n",
    "\n",
    "To find out more about the model and the number of classes it supported, please refer to the details in the 001-hello-world notebook."
   ]
  },
  {
   "cell_type": "code",
   "execution_count": 13,
   "id": "ec3947c2-2489-49a5-a841-963863984619",
   "metadata": {},
   "outputs": [],
   "source": [
    "import numpy as np\n",
    "import cv2\n",
    "\n",
    "from IPython import display\n",
    "from PIL import Image\n",
    "\n",
    "import json\n",
    "from openvino.inference_engine import IECore\n",
    "\n",
    "import matplotlib.pyplot as py\n",
    "%matplotlib inline"
   ]
  },
  {
   "cell_type": "code",
   "execution_count": 14,
   "id": "0e23327f-f668-413c-a69a-0459e2356f09",
   "metadata": {},
   "outputs": [],
   "source": [
    "def drawResults(image, results, imagenet_classes, topK=5):\n",
    "    #draw results\n",
    "    result_index = np.argmax(results)\n",
    "    indices = np.argsort(-results[0])\n",
    "    for i in range(topK):\n",
    "        result_text = (imagenet_classes[indices[i]][1])\n",
    "        p_length = float(results[0][indices[i]])\n",
    "        y = 40*(i+1)\n",
    "        x = 20\n",
    "        width = image.shape[1]\n",
    "        if(p_length>0.15):\n",
    "            cv2.putText(image, text=result_text, org=(x,y), fontFace=1, \n",
    "                fontScale=1.5, color=(0,255,0), thickness=2)\n",
    "            cv2.line(image, (x, y+5), (int(p_length*width), y+5),(200,200,200),5)\n",
    "    return image\n",
    "\n",
    "#This function handles the video stream.\n",
    "def classifyVideo(VideoIndex=0, scale=0.5):\n",
    "    ie = IECore()\n",
    "    net = ie.read_network(\n",
    "        #model=\"model/public/mobilenet-v3-large-1.0-224-tf/FP16/mobilenet-v3-large-1.0-224-tf.xml\"\n",
    "        model=\"../001-hello-world/model/v3-small_224_1.0_float.xml\"\n",
    "    )\n",
    "    exec_net = ie.load_network(net, \"CPU\")\n",
    "\n",
    "    input_key = list(exec_net.input_info)[0]\n",
    "    output_key = list(exec_net.outputs.keys())[0]\n",
    "\n",
    "    imagenet_classes = json.loads(open(\"../001-hello-world/utils/imagenet_class_index.json\").read())\n",
    "    imagenet_classes = {\n",
    "        int(key) + 1: value for key, value in imagenet_classes.items()\n",
    "    }\n",
    "    try:\n",
    "        cap = cv2.VideoCapture(VideoIndex)\n",
    "    except:\n",
    "        print(\"Cannot Open Device\")\n",
    "        del exec_net\n",
    "    try:\n",
    "        ret, frame = cap.read()\n",
    "        \n",
    "        while(ret==True):\n",
    "            # Capture frame-by-frame\n",
    "            ret, frame = cap.read()\n",
    "            \n",
    "            if not ret:\n",
    "                # Release the Video Device if ret is false\n",
    "                cap.release()\n",
    "                # Message to be displayed after releasing the device\n",
    "                print (\"Released Video Resource\")\n",
    "                break\n",
    "            #frame = cv2.cvtColor(frame, cv2.COLOR_BGR2RGB)\n",
    "            half_frame = cv2.resize(frame, (0, 0), fx = scale, fy = scale)\n",
    "            \n",
    "            # resize to MobileNet image shape\n",
    "            p_frame = cv2.resize(frame, (224, 224))  \n",
    "            #convert to RGB color space\n",
    "            p_frame = cv2.cvtColor(p_frame, cv2.COLOR_BGR2RGB)\n",
    "            # reshape to network input shape\n",
    "            p_frame = np.expand_dims(p_frame.transpose(2, 0, 1), 0)  \n",
    "            \n",
    "            #run the inference\n",
    "            results = exec_net.infer(inputs={input_key: p_frame})[output_key]\n",
    "            \n",
    "            #draw the results\n",
    "            half_frame = drawResults(half_frame, results, imagenet_classes)\n",
    "            \n",
    "            #convert to jpg for performance results\n",
    "            _,ret_array = cv2.imencode('.jpg', half_frame) \n",
    "            i = display.Image(data=ret_array)            \n",
    "            \n",
    "            display.display(i)\n",
    "            display.clear_output(wait=True)\n",
    "            \n",
    "    except KeyboardInterrupt:\n",
    "        # Release the Video Device\n",
    "        cap.release()\n",
    "        # Message to be displayed after releasing the device\n",
    "        print(\"Released Video Resource from KeyboardInterrupt\")\n",
    "        del exec_net\n",
    "    pass"
   ]
  },
  {
   "cell_type": "markdown",
   "id": "a858c7ab-7139-43d0-8b05-f6d9a1df5bc9",
   "metadata": {},
   "source": [
    "### Run the Webcam Feed\n",
    "\n",
    "Please use the stop button to close off the thread nicely. Otherwise you may need to restart the kernel to unlock the resource."
   ]
  },
  {
   "cell_type": "code",
   "execution_count": 17,
   "id": "b724346d-d913-4c43-92c1-45af5cee5f28",
   "metadata": {},
   "outputs": [
    {
     "name": "stdout",
     "output_type": "stream",
     "text": [
      "Released Video Resource from KeyboardInterrupt\n"
     ]
    }
   ],
   "source": [
    "#try the webcam\n",
    "classifyVideo(0, 0.5)"
   ]
  },
  {
   "cell_type": "code",
   "execution_count": 18,
   "id": "591f0761-66ee-43b2-9aab-8450dcf6861e",
   "metadata": {},
   "outputs": [],
   "source": [
    "#You can also run this on a pre-recorded video with the following command\n",
    "#classifyVideo(\"sample.avi\")"
   ]
  },
  {
   "cell_type": "code",
   "execution_count": null,
   "id": "98f1b1e4-1125-42cb-b552-8a81c49fcd26",
   "metadata": {},
   "outputs": [],
   "source": []
  }
 ],
 "metadata": {
  "kernelspec": {
   "display_name": "openvino_env",
   "language": "python",
   "name": "openvino_env"
  },
  "language_info": {
   "codemirror_mode": {
    "name": "ipython",
    "version": 3
   },
   "file_extension": ".py",
   "mimetype": "text/x-python",
   "name": "python",
   "nbconvert_exporter": "python",
   "pygments_lexer": "ipython3",
   "version": "3.8.2"
  }
 },
 "nbformat": 4,
 "nbformat_minor": 5
}
