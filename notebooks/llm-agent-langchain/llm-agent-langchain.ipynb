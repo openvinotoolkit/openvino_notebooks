{
 "cells": [
  {
   "attachments": {},
   "cell_type": "markdown",
   "id": "b3c04f1a",
   "metadata": {},
   "source": [
    "# Create LLM Agent using OpenVINO\n",
    "\n",
    "LLM are limited to the knowledge on which they have been trained and the additional knowledge provided as context, as a result, if a useful piece of information is missing the provided knowledge, the model cannot “go around” and try to find it in other sources. This is the reason why we need to introduce the concept of Agents.\n",
    "\n",
    "The core idea of agents is to use a language model to choose a sequence of actions to take. In agents, a language model is used as a reasoning engine to determine which actions to take and in which order. Agents can be seen as applications powered by LLMs and integrated with a set of tools like search engines, databases, websites, and so on. Within an agent, the LLM is the reasoning engine that, based on the user input, is able to plan and execute a set of actions that are needed to fulfill the request.\n",
    "\n",
    "![agent](https://github.com/openvinotoolkit/openvino_notebooks/assets/91237924/22fa5396-8381-400f-a78f-97e25d57d807)\n",
    "\n",
    "[LangChain](https://python.langchain.com/docs/get_started/introduction) is a framework for developing applications powered by language models. LangChain comes with a number of built-in agents that are optimized for different use cases.\n",
    "\n",
    "This notebook explores how to create an AI Agent step by step using OpenVINO and LangChain.\n",
    "\n",
    "#### Table of contents:\n",
    "\n",
    "- [Prerequisites](#Prerequisites)\n",
    "- [Create tools](#Create-tools)\n",
    "- [Create prompt template](#Create-prompt-template)\n",
    "- [Create LLM](#Create-LLM)\n",
    "  - [Download model](#Select-model)\n",
    "  - [Select inference device for LLM](#Select-inference-device-for-LLM)\n",
    "- [Create agent](#Create-agent)\n",
    "- [Run the agent](#Run-agent)\n",
    "- [Interactive Demo](#Interactive-Demo)\n",
    "  - [Use built-in tool](#Use-built-in-tool)\n",
    "  - [Create customized tools](#Create-customized-tools)\n",
    "  - [Create AI agent demo with Gradio UI](#Create-AI-agent-demo-with-Gradio-UI)\n"
   ]
  },
  {
   "attachments": {},
   "cell_type": "markdown",
   "id": "f7bb0a67",
   "metadata": {},
   "source": [
    "## Prerequisites\n",
    "\n",
    "[back to top ⬆️](#Table-of-contents:)\n"
   ]
  },
  {
   "cell_type": "code",
   "execution_count": null,
   "id": "47d43de7-9946-482d-84cb-222294c1cda8",
   "metadata": {},
   "outputs": [],
   "source": [
    "import os\n",
    "\n",
    "os.environ[\"GIT_CLONE_PROTECTION_ACTIVE\"] = \"false\"\n",
    "\n",
    "%pip install -Uq pip\n",
    "%pip uninstall -q -y optimum optimum-intel\n",
    "%pip install --pre -Uq openvino openvino-tokenizers[transformers] --extra-index-url https://storage.openvinotoolkit.org/simple/wheels/nightly\n",
    "%pip install -q --extra-index-url https://download.pytorch.org/whl/cpu\\\n",
    "\"git+https://github.com/huggingface/optimum-intel.git\"\\\n",
    "\"git+https://github.com/openvinotoolkit/nncf.git\"\\\n",
    "\"torch>=2.1\"\\\n",
    "\"datasets\"\\\n",
    "\"accelerate\"\\\n",
    "\"gradio>=4.19\"\\\n",
    "\"transformers>=4.38.1\" \"langchain>=0.2.3\" \"langchain-community>=0.2.4\" \"wikipedia\""
   ]
  },
  {
   "attachments": {},
   "cell_type": "markdown",
   "id": "c722d565",
   "metadata": {},
   "source": [
    "## Create a tools\n",
    "\n",
    "[back to top ⬆️](#Table-of-contents:)\n",
    "\n",
    "First, we need to create some tools to call. In this example, we will create 3 custom functions to do basic calculation. For [more information](https://python.langchain.com/docs/modules/tools/) on creating custom tools.\n"
   ]
  },
  {
   "cell_type": "code",
   "execution_count": 1,
   "id": "e8bfe609-1823-4df7-9a68-f210a58a0d38",
   "metadata": {},
   "outputs": [],
   "source": [
    "from langchain_core.tools import tool\n",
    "\n",
    "\n",
    "@tool\n",
    "def multiply(first_int: int, second_int: int) -> int:\n",
    "    \"\"\"Multiply two integers together.\"\"\"\n",
    "    return first_int * second_int\n",
    "\n",
    "\n",
    "@tool\n",
    "def add(first_int: int, second_int: int) -> int:\n",
    "    \"Add two integers.\"\n",
    "    return first_int + second_int\n",
    "\n",
    "\n",
    "@tool\n",
    "def exponentiate(base: int, exponent: int) -> int:\n",
    "    \"Exponentiate the base to the exponent power.\"\n",
    "    return base**exponent"
   ]
  },
  {
   "attachments": {},
   "cell_type": "markdown",
   "id": "6b476967",
   "metadata": {},
   "source": [
    "Tools are interfaces that an agent, chain, or LLM can use to interact with the world. They combine a few things:\n",
    "\n",
    "1. The name of the tool\n",
    "2. A description of what the tool is\n",
    "3. JSON schema of what the inputs to the tool are\n",
    "4. The function to call\n",
    "5. Whether the result of a tool should be returned directly to the user\n"
   ]
  },
  {
   "cell_type": "code",
   "execution_count": 2,
   "id": "5ea4ce13",
   "metadata": {},
   "outputs": [
    {
     "name": "stdout",
     "output_type": "stream",
     "text": [
      "name of `multiply` tool: multiply\n",
      "description of `multiply` tool: Multiply two integers together.\n"
     ]
    }
   ],
   "source": [
    "print(f\"name of `multiply` tool: {multiply.name}\")\n",
    "print(f\"description of `multiply` tool: {multiply.description}\")"
   ]
  },
  {
   "attachments": {},
   "cell_type": "markdown",
   "id": "d5f1ac30",
   "metadata": {},
   "source": [
    "Now that we have created all of them, and we can create a list of tools that we will use downstream.\n"
   ]
  },
  {
   "cell_type": "code",
   "execution_count": 3,
   "id": "a5c41830",
   "metadata": {},
   "outputs": [],
   "source": [
    "tools = [multiply, add, exponentiate]"
   ]
  },
  {
   "attachments": {},
   "cell_type": "markdown",
   "id": "dba80270",
   "metadata": {},
   "source": [
    "## Create prompt template\n",
    "\n",
    "[back to top ⬆️](#Table-of-contents:)\n",
    "\n",
    "A prompt for a language model is a set of instructions or input provided by a user to guide the model's response, helping it understand the context and generate relevant and coherent language-based output, such as answering questions, completing sentences, or engaging in a conversation.\n",
    "\n",
    "Different agents have different prompting styles for reasoning. In this example, we will use [ReAct agent](https://react-lm.github.io/) with its typical prompt template. For a full list of built-in agents see [agent types](https://python.langchain.com/docs/modules/agents/agent_types/).\n",
    "\n",
    "![react](https://github.com/openvinotoolkit/openvino_notebooks/assets/91237924/a83bdf7f-bb9d-4b1f-9a0a-3fe4a76ba1ae)\n",
    "\n",
    "A ReAct prompt consists of few-shot task-solving trajectories, with human-written text reasoning traces and actions, as well as environment observations in response to actions. ReAct prompting is intuitive and flexible to design, and achieves state-of-the-art few-shot performances across a variety of tasks, from question answering to online shopping!\n",
    "\n",
    "In an prompt template for agent, `input` is user's query and `agent_scratchpad` should be a sequence of messages that contains the previous agent tool invocations and the corresponding tool outputs.\n"
   ]
  },
  {
   "cell_type": "code",
   "execution_count": 4,
   "id": "107f040a-e859-475c-9422-f980ac593fcf",
   "metadata": {},
   "outputs": [],
   "source": [
    "PREFIX = \"\"\"<|system|>\\nRespond to the human as helpfully and accurately as possible. You have access to the following tools:\"\"\"\n",
    "\n",
    "FORMAT_INSTRUCTIONS = \"\"\"Use a json blob to specify a tool by providing an action key (tool name) and an action_input key (tool input).\n",
    "\n",
    "Valid \"action\" values: \"Final Answer\" or {tool_names}\n",
    "\n",
    "Provide only ONE action per $JSON_BLOB, as shown:\n",
    "\n",
    "```\n",
    "{{{{\n",
    "  \"action\": $TOOL_NAME,\n",
    "  \"action_input\": $INPUT\n",
    "}}}}\n",
    "```\n",
    "\n",
    "Follow this format:\n",
    "\n",
    "Question: input question to answer\n",
    "Thought: consider previous and subsequent steps\n",
    "Action:\n",
    "```\n",
    "$JSON_BLOB\n",
    "```\n",
    "Observation: action result\n",
    "... (repeat Thought/Action/Observation N times)\n",
    "Thought: I know what to respond\n",
    "Action:\n",
    "```\n",
    "{{{{\n",
    "  \"action\": \"Final Answer\",\n",
    "  \"action_input\": \"Final response to human\"\n",
    "}}}}\n",
    "```\"\"\"\n",
    "\n",
    "SUFFIX = \"\"\"Begin! Reminder to ALWAYS respond with a valid json blob of a single action. Use tools if necessary. Respond directly if appropriate. Format is Action:```$JSON_BLOB```then Observation:.\n",
    "Thought:\\n<|end|>\"\"\"\n",
    "\n",
    "HUMAN_MESSAGE_TEMPLATE = \"<|user|>\\n{input}\\n<|end|>\\n\\n<|assistant|>\\n{agent_scratchpad}\""
   ]
  },
  {
   "attachments": {},
   "cell_type": "markdown",
   "id": "259e1f0d",
   "metadata": {},
   "source": [
    "## Create LLM\n",
    "\n",
    "[back to top ⬆️](#Table-of-contents:)\n",
    "\n",
    "Large Language Models (LLMs) are a core component of LangChain. LangChain does not serve its own LLMs, but rather provides a standard interface for interacting with many different LLMs. In this example, we select `Phi-3-mini-4k-instruct` as LLM in agent pipeline.\n",
    "\n",
    "**phi3-mini-instruct** - The Phi-3-Mini is a 3.8B parameters, lightweight, state-of-the-art open model trained with the Phi-3 datasets that includes both synthetic data and the filtered publicly available websites data with a focus on high-quality and reasoning dense properties. More details about model can be found in [model card](https://huggingface.co/microsoft/Phi-3-mini-4k-instruct), [Microsoft blog](https://aka.ms/phi3blog-april) and [technical report](https://aka.ms/phi3-tech-report).\n",
    "\n",
    "### Download model\n",
    "\n",
    "[back to top ⬆️](#Table-of-contents:)\n",
    "\n",
    "To run LLM locally, we have to download the model in the first step. It is possible to [export your model](https://github.com/huggingface/optimum-intel?tab=readme-ov-file#export) to the OpenVINO IR format with the CLI, and load the model from local folder.\n"
   ]
  },
  {
   "cell_type": "code",
   "execution_count": 5,
   "id": "981df8fe-cfcf-455a-919e-dda36f3b5dfb",
   "metadata": {},
   "outputs": [],
   "source": [
    "from pathlib import Path\n",
    "\n",
    "model_id = \"microsoft/Phi-3-mini-4k-instruct\"\n",
    "model_path = \"Phi-3-mini-4k-instruct-ov-int4\"\n",
    "\n",
    "if not Path(model_path).exists():\n",
    "    !optimum-cli export openvino --model {model_id} --task text-generation-with-past --trust-remote-code --weight-format int4 {model_path}"
   ]
  },
  {
   "attachments": {},
   "cell_type": "markdown",
   "id": "6cfdbbae",
   "metadata": {},
   "source": [
    "### Select inference device for LLM\n",
    "\n",
    "[back to top ⬆️](#Table-of-contents:)\n"
   ]
  },
  {
   "cell_type": "code",
   "execution_count": 6,
   "id": "a1ea3bdb-f97c-4374-880a-2b62abb5baaa",
   "metadata": {},
   "outputs": [
    {
     "data": {
      "application/vnd.jupyter.widget-view+json": {
       "model_id": "47de777ddc4340c89b645edcdc168643",
       "version_major": 2,
       "version_minor": 0
      },
      "text/plain": [
       "Dropdown(description='Device:', options=('CPU', 'GPU', 'AUTO'), value='CPU')"
      ]
     },
     "execution_count": 6,
     "metadata": {},
     "output_type": "execute_result"
    }
   ],
   "source": [
    "import openvino as ov\n",
    "import ipywidgets as widgets\n",
    "\n",
    "core = ov.Core()\n",
    "\n",
    "support_devices = core.available_devices\n",
    "if \"NPU\" in support_devices:\n",
    "    support_devices.remove(\"NPU\")\n",
    "\n",
    "device = widgets.Dropdown(\n",
    "    options=support_devices + [\"AUTO\"],\n",
    "    value=\"CPU\",\n",
    "    description=\"Device:\",\n",
    "    disabled=False,\n",
    ")\n",
    "\n",
    "device"
   ]
  },
  {
   "attachments": {},
   "cell_type": "markdown",
   "id": "77244c52",
   "metadata": {},
   "source": [
    "OpenVINO models can be run locally through the `HuggingFacePipeline` class in LangChain. To deploy a model with OpenVINO, you can specify the `backend=\"openvino\"` parameter to trigger OpenVINO as backend inference framework. For [more information](https://python.langchain.com/docs/integrations/llms/openvino/)."
   ]
  },
  {
   "cell_type": "code",
   "execution_count": null,
   "id": "abfaab28-fd5b-46cd-88ad-b60ea5a3cdd6",
   "metadata": {},
   "outputs": [],
   "source": [
    "from langchain_community.llms.huggingface_pipeline import HuggingFacePipeline\n",
    "from transformers.generation.stopping_criteria import (\n",
    "    StoppingCriteriaList,\n",
    ")\n",
    "from transformers.tools.agents import StopSequenceCriteria\n",
    "\n",
    "ov_config = {\"PERFORMANCE_HINT\": \"LATENCY\", \"NUM_STREAMS\": \"1\", \"CACHE_DIR\": \"\"}\n",
    "stop_tokens = [\"\\nObservation\", \"<|end|>\"]\n",
    "\n",
    "ov_llm = HuggingFacePipeline.from_model_id(\n",
    "    model_id=model_path,\n",
    "    task=\"text-generation\",\n",
    "    backend=\"openvino\",\n",
    "    model_kwargs={\n",
    "        \"device\": device.value,\n",
    "        \"ov_config\": ov_config,\n",
    "        \"trust_remote_code\": True,\n",
    "    },\n",
    "    pipeline_kwargs={\"max_new_tokens\": 4096},\n",
    ")\n",
    "ov_llm = ov_llm.bind(skip_prompt=True, stop=[\"\\nObservation\"])\n",
    "\n",
    "tokenizer = ov_llm.pipeline.tokenizer\n",
    "ov_llm.pipeline._forward_params[\"stopping_criteria\"] = StoppingCriteriaList([StopSequenceCriteria(stop_tokens, tokenizer)])"
   ]
  },
  {
   "attachments": {},
   "cell_type": "markdown",
   "id": "d70905e2",
   "metadata": {},
   "source": [
    "You can get additional inference speed improvement with [Dynamic Quantization of activations and KV-cache quantization] on CPU(https://docs.openvino.ai/2024/learn-openvino/llm_inference_guide/llm-inference-hf.html#enabling-openvino-runtime-optimizations). These options can be enabled with `ov_config` as follows:"
   ]
  },
  {
   "cell_type": "code",
   "execution_count": 8,
   "id": "17c2d285-e8bb-4da1-baa6-682a7851d333",
   "metadata": {},
   "outputs": [],
   "source": [
    "ov_config = {\n",
    "    \"KV_CACHE_PRECISION\": \"u8\",\n",
    "    \"DYNAMIC_QUANTIZATION_GROUP_SIZE\": \"32\",\n",
    "    \"PERFORMANCE_HINT\": \"LATENCY\",\n",
    "    \"NUM_STREAMS\": \"1\",\n",
    "    \"CACHE_DIR\": \"\",\n",
    "}"
   ]
  },
  {
   "attachments": {},
   "cell_type": "markdown",
   "id": "52a9a190",
   "metadata": {},
   "source": [
    "## Create agent\n",
    "\n",
    "[back to top ⬆️](#Table-of-contents:)\n",
    "\n",
    "Now that we have defined the tools, prompt template and LLM, we can create the agent_executor.\n",
    "\n",
    "The agent executor is the runtime for an agent. This is what actually calls the agent, executes the actions it chooses, passes the action outputs back to the agent, and repeats.\n"
   ]
  },
  {
   "cell_type": "code",
   "execution_count": 9,
   "id": "4799540b-eee0-491f-a5b6-5bae68c22af9",
   "metadata": {},
   "outputs": [],
   "source": [
    "from langchain.agents import AgentExecutor, StructuredChatAgent\n",
    "\n",
    "agent = StructuredChatAgent.from_llm_and_tools(\n",
    "    ov_llm,\n",
    "    tools,\n",
    "    prefix=PREFIX,\n",
    "    suffix=SUFFIX,\n",
    "    human_message_template=HUMAN_MESSAGE_TEMPLATE,\n",
    "    format_instructions=FORMAT_INSTRUCTIONS,\n",
    ")\n",
    "agent_executor = AgentExecutor(agent=agent, tools=tools, verbose=True)"
   ]
  },
  {
   "attachments": {},
   "cell_type": "markdown",
   "id": "038e76d1",
   "metadata": {},
   "source": [
    "## Run the agent\n",
    "\n",
    "[back to top ⬆️](#Table-of-contents:)\n",
    "\n",
    "We can now run the agent with a math query. Before getting the final answer, a agent executor will also produce intermediate steps of reasoning and actions. The format of these messages will follow your prompt template.\n"
   ]
  },
  {
   "cell_type": "code",
   "execution_count": 10,
   "id": "eebc8f67-8107-4a6b-90bf-ea9256c64ee5",
   "metadata": {},
   "outputs": [
    {
     "name": "stdout",
     "output_type": "stream",
     "text": [
      "\n",
      "\n",
      "\u001b[1m> Entering new AgentExecutor chain...\u001b[0m\n",
      "\u001b[32;1m\u001b[1;3m ```\n",
      "{\n",
      "  \"action\": \"exponentiate\",\n",
      "  \"action_input\": {\n",
      "    \"base\": 3,\n",
      "    \"exponent\": 5\n",
      "  }\n",
      "}\n",
      "```\n",
      "Observation\u001b[0m\n",
      "Observation: \u001b[38;5;200m\u001b[1;3m243\u001b[0m\n",
      "Thought:\u001b[32;1m\u001b[1;3m Now I need to multiply this result by the sum of twelve and three.\n",
      "Action:\n",
      "```\n",
      "{\n",
      "  \"action\": \"multiply\",\n",
      "  \"action_input\": {\n",
      "    \"first_int\": 243,\n",
      "    \"second_int\": 15\n",
      "  }\n",
      "}\n",
      "```\n",
      "Observation\u001b[0m\n",
      "Observation: \u001b[36;1m\u001b[1;3m3645\u001b[0m\n",
      "Thought:\u001b[32;1m\u001b[1;3m The final step is to square this result.\n",
      "Action:\n",
      "```\n",
      "{\n",
      "  \"action\": \"exponentiate\",\n",
      "  \"action_input\": {\n",
      "    \"base\": 3645,\n",
      "    \"exponent\": 2\n",
      "  }\n",
      "}\n",
      "```\n",
      "Observation\u001b[0m\n",
      "Observation: \u001b[38;5;200m\u001b[1;3m13286025\u001b[0m\n",
      "Thought:\u001b[32;1m\u001b[1;3m I now know the final answer.\n",
      "Final Answer: 13286025\u001b[0m\n",
      "\n",
      "\u001b[1m> Finished chain.\u001b[0m\n"
     ]
    },
    {
     "data": {
      "text/plain": [
       "{'input': 'Take 3 to the fifth power and multiply that by the sum of twelve and three, then square the whole result',\n",
       " 'output': ' I now know the final answer.\\nFinal Answer: 13286025'}"
      ]
     },
     "execution_count": 10,
     "metadata": {},
     "output_type": "execute_result"
    }
   ],
   "source": [
    "agent_executor.invoke({\"input\": \"Take 3 to the fifth power and multiply that by the sum of twelve and three, then square the whole result\"})"
   ]
  },
  {
   "attachments": {},
   "cell_type": "markdown",
   "id": "688ced57",
   "metadata": {},
   "source": [
    "## Interactive Demo\n",
    "\n",
    "[back to top ⬆️](#Table-of-contents:)\n",
    "\n",
    "Let's create a interactive agent using [Gradio](https://www.gradio.app/).\n"
   ]
  },
  {
   "attachments": {},
   "cell_type": "markdown",
   "id": "ce623516",
   "metadata": {},
   "source": [
    "### Use built-in tools\n",
    "\n",
    "[back to top ⬆️](#Table-of-contents:)\n",
    "\n",
    "LangChain has provided a list of all [built-in tools](https://python.langchain.com/docs/integrations/tools/). In this example, we will use `Wikipedia` python package to query key words generated by agent.\n"
   ]
  },
  {
   "cell_type": "code",
   "execution_count": 11,
   "id": "1f64b67c-1259-4fe6-bfc3-af317bfe04f6",
   "metadata": {},
   "outputs": [],
   "source": [
    "from langchain_community.tools import WikipediaQueryRun\n",
    "from langchain_community.utilities import WikipediaAPIWrapper\n",
    "from langchain_core.pydantic_v1 import BaseModel\n",
    "\n",
    "\n",
    "api_wrapper = WikipediaAPIWrapper(top_k_results=3, doc_content_chars_max=1000)\n",
    "\n",
    "\n",
    "class WikiInputs(BaseModel):\n",
    "    \"\"\"Inputs to the wikipedia tool.\"\"\"\n",
    "\n",
    "    query: str\n",
    "\n",
    "\n",
    "wikipedia = WikipediaQueryRun(\n",
    "    description=\"A wrapper around Wikipedia. Useful for when you need to answer general questions about people, places, companies, facts, historical events, or other subjects. Input should be a search query.\",\n",
    "    args_schema=WikiInputs,\n",
    "    api_wrapper=api_wrapper,\n",
    ")"
   ]
  },
  {
   "cell_type": "code",
   "execution_count": 12,
   "id": "ea649d2f-ab4b-4228-8f32-75b01a98d9a7",
   "metadata": {},
   "outputs": [
    {
     "data": {
      "text/plain": [
       "'Page: OpenVINO\\nSummary: OpenVINO is an open-source software toolkit for optimizing and deploying deep learning models. It enables programmers to develop scalable and efficient AI solutions with relatively few lines of code. It supports several popular model formats and categories, such as large language models, computer vision, and generative AI.\\nActively developed by Intel, it prioritizes high-performance inference on Intel hardware but also supports ARM/ARM64 processors and encourages contributors to add new devices to the portfolio.\\nBased in C++, it offers the following APIs: C/C++, Python, and Node.js (an early preview).\\nOpenVINO is cross-platform and free for use under Apache License 2.0.\\n\\nPage: Stable Diffusion\\nSummary: Stable Diffusion is a deep learning, text-to-image model released in 2022 based on diffusion techniques. It is considered to be a part of the ongoing artificial intelligence boom.\\nIt is primarily used to generate detailed images conditioned on text descriptions, t'"
      ]
     },
     "execution_count": 12,
     "metadata": {},
     "output_type": "execute_result"
    }
   ],
   "source": [
    "wikipedia.invoke({\"query\": \"OpenVINO\"})"
   ]
  },
  {
   "cell_type": "markdown",
   "id": "5437e2dc-38cc-4052-bf7c-8d96b0852294",
   "metadata": {},
   "source": [
    "### Create customized tools\n",
    "\n",
    "[back to top ⬆️](#Table-of-contents:)\n",
    "\n",
    "In this examples, we will create 2 customized tools for `image generation` and `weather qurey`."
   ]
  },
  {
   "cell_type": "code",
   "execution_count": 13,
   "id": "318acd7b-d022-4bdf-b65c-b4fdcc015048",
   "metadata": {},
   "outputs": [
    {
     "data": {
      "text/plain": [
       "\"{'image_url': 'https://image.pollinations.ai/prompt/a%20cat'}\""
      ]
     },
     "execution_count": 13,
     "metadata": {},
     "output_type": "execute_result"
    }
   ],
   "source": [
    "import urllib.parse\n",
    "\n",
    "\n",
    "@tool\n",
    "def painting(prompt: str) -> str:\n",
    "    \"\"\"\n",
    "    AI painting (image generation) service, input text description, and return the image URL drawn based on text information.\n",
    "    \"\"\"\n",
    "    prompt = urllib.parse.quote(prompt)\n",
    "    image_url = \"https://image.pollinations.ai/prompt/\" + prompt\n",
    "    result = {\"image_url\": image_url}\n",
    "    return str(result)\n",
    "\n",
    "\n",
    "painting.invoke({\"prompt\": \"a cat\"})"
   ]
  },
  {
   "cell_type": "code",
   "execution_count": 14,
   "id": "96e9f671-1680-402c-a799-0e45b731f63e",
   "metadata": {},
   "outputs": [
    {
     "data": {
      "text/plain": [
       "\"{'current_condition': {'temp_C': '11', 'FeelsLikeC': '10', 'humidity': '76', 'weatherDesc': [{'value': 'Sunny'}], 'observation_time': '07:11 AM'}}\""
      ]
     },
     "execution_count": 14,
     "metadata": {},
     "output_type": "execute_result"
    }
   ],
   "source": [
    "@tool\n",
    "def weather(\n",
    "    city_name: str,\n",
    ") -> str:\n",
    "    \"\"\"\n",
    "    Get the current weather for `city_name`\n",
    "    \"\"\"\n",
    "\n",
    "    if not isinstance(city_name, str):\n",
    "        raise TypeError(\"City name must be a string\")\n",
    "\n",
    "    key_selection = {\n",
    "        \"current_condition\": [\n",
    "            \"temp_C\",\n",
    "            \"FeelsLikeC\",\n",
    "            \"humidity\",\n",
    "            \"weatherDesc\",\n",
    "            \"observation_time\",\n",
    "        ],\n",
    "    }\n",
    "    import requests\n",
    "\n",
    "    resp = requests.get(f\"https://wttr.in/{city_name}?format=j1\")\n",
    "    resp.raise_for_status()\n",
    "    resp = resp.json()\n",
    "    ret = {k: {_v: resp[k][0][_v] for _v in v} for k, v in key_selection.items()}\n",
    "\n",
    "    return str(ret)\n",
    "\n",
    "\n",
    "weather.invoke({\"city_name\": \"London\"})"
   ]
  },
  {
   "cell_type": "markdown",
   "id": "266d55d3-96c6-4275-8e05-d2ab645b3d32",
   "metadata": {},
   "source": [
    "### Create AI agent demo with Gradio UI\n",
    "\n",
    "[back to top ⬆️](#Table-of-contents:)"
   ]
  },
  {
   "cell_type": "code",
   "execution_count": 15,
   "id": "ce703b35-6396-409c-bf4f-d4bc4dd584b4",
   "metadata": {},
   "outputs": [],
   "source": [
    "tools = [wikipedia, painting, weather]\n",
    "\n",
    "agent = StructuredChatAgent.from_llm_and_tools(\n",
    "    ov_llm,\n",
    "    tools,\n",
    "    prefix=PREFIX,\n",
    "    suffix=SUFFIX,\n",
    "    human_message_template=HUMAN_MESSAGE_TEMPLATE,\n",
    "    format_instructions=FORMAT_INSTRUCTIONS,\n",
    ")\n",
    "agent_executor = AgentExecutor(agent=agent, tools=tools, verbose=True)"
   ]
  },
  {
   "cell_type": "code",
   "execution_count": null,
   "id": "ff5a60fb-e13e-4eaf-a2f3-999e4e3109bf",
   "metadata": {},
   "outputs": [],
   "source": [
    "import gradio as gr\n",
    "\n",
    "examples = [\n",
    "    [\"Get current weather of London and draw an image for it\"],\n",
    "    [\"What is OpenVINO ?\"],\n",
    "    [\"Create an image of pink cat and return its URL\"],\n",
    "    [\"How many people live in Canada ?\"],\n",
    "    [\"What is the weather like in New York now ?\"],\n",
    "]\n",
    "\n",
    "\n",
    "def partial_text_processor(partial_text, new_text):\n",
    "    \"\"\"\n",
    "    helper for updating partially generated answer, used by default\n",
    "\n",
    "    Params:\n",
    "      partial_text: text buffer for storing previosly generated text\n",
    "      new_text: text update for the current step\n",
    "    Returns:\n",
    "      updated text string\n",
    "\n",
    "    \"\"\"\n",
    "    partial_text += new_text\n",
    "    return partial_text\n",
    "\n",
    "\n",
    "def user(message, history):\n",
    "    \"\"\"\n",
    "    callback function for updating user messages in interface on submit button click\n",
    "\n",
    "    Params:\n",
    "      message: current message\n",
    "      history: conversation history\n",
    "    Returns:\n",
    "      None\n",
    "    \"\"\"\n",
    "    # Append the user's message to the conversation history\n",
    "    return \"\", history + [[message, \"\"]]\n",
    "\n",
    "\n",
    "def bot(history):\n",
    "    \"\"\"\n",
    "    callback function for running chatbot on submit button click\n",
    "\n",
    "    Params:\n",
    "      history: conversation history\n",
    "\n",
    "    \"\"\"\n",
    "    partial_text = \"\"\n",
    "\n",
    "    for new_text in agent_executor.stream(\n",
    "        {\"input\": history[-1][0]},\n",
    "    ):\n",
    "        if \"output\" in new_text.keys():\n",
    "            partial_text = partial_text_processor(partial_text, new_text[\"output\"])\n",
    "            history[-1][1] = partial_text\n",
    "            yield history\n",
    "\n",
    "\n",
    "def request_cancel():\n",
    "    ov_llm.pipeline.model.request.cancel()\n",
    "\n",
    "\n",
    "with gr.Blocks(\n",
    "    theme=gr.themes.Soft(),\n",
    "    css=\".disclaimer {font-variant-caps: all-small-caps;}\",\n",
    ") as demo:\n",
    "    names = [tool.name for tool in tools]\n",
    "    gr.Markdown(f\"\"\"<h1><center>OpenVINO Agent for {str(names)}</center></h1>\"\"\")\n",
    "    chatbot = gr.Chatbot(height=500)\n",
    "    with gr.Row():\n",
    "        with gr.Column():\n",
    "            msg = gr.Textbox(\n",
    "                label=\"Chat Message Box\",\n",
    "                placeholder=\"Chat Message Box\",\n",
    "                show_label=False,\n",
    "                container=False,\n",
    "            )\n",
    "        with gr.Column():\n",
    "            with gr.Row():\n",
    "                submit = gr.Button(\"Submit\")\n",
    "                stop = gr.Button(\"Stop\")\n",
    "                clear = gr.Button(\"Clear\")\n",
    "    gr.Examples(examples, inputs=msg, label=\"Click on any example and press the 'Submit' button\")\n",
    "\n",
    "    submit_event = msg.submit(\n",
    "        fn=user,\n",
    "        inputs=[msg, chatbot],\n",
    "        outputs=[msg, chatbot],\n",
    "        queue=False,\n",
    "    ).then(\n",
    "        fn=bot,\n",
    "        inputs=[\n",
    "            chatbot,\n",
    "        ],\n",
    "        outputs=chatbot,\n",
    "        queue=True,\n",
    "    )\n",
    "    submit_click_event = submit.click(\n",
    "        fn=user,\n",
    "        inputs=[msg, chatbot],\n",
    "        outputs=[msg, chatbot],\n",
    "        queue=False,\n",
    "    ).then(\n",
    "        fn=bot,\n",
    "        inputs=[\n",
    "            chatbot,\n",
    "        ],\n",
    "        outputs=chatbot,\n",
    "        queue=True,\n",
    "    )\n",
    "    stop.click(\n",
    "        fn=request_cancel,\n",
    "        inputs=None,\n",
    "        outputs=None,\n",
    "        cancels=[submit_event, submit_click_event],\n",
    "        queue=False,\n",
    "    )\n",
    "    clear.click(lambda: None, None, chatbot, queue=False)\n",
    "\n",
    "# if you are launching remotely, specify server_name and server_port\n",
    "#  demo.launch(server_name='your server name', server_port='server port in int')\n",
    "# if you have any issue to launch on your platform, you can pass share=True to launch method:\n",
    "# demo.launch(share=True)\n",
    "# it creates a publicly shareable link for the interface. Read more in the docs: https://gradio.app/docs/\n",
    "demo.launch()"
   ]
  },
  {
   "cell_type": "code",
   "execution_count": null,
   "id": "680c8fcc-65d3-4194-b67f-763ad5267775",
   "metadata": {
    "tags": []
   },
   "outputs": [],
   "source": [
    "# please run this cell for stopping gradio interface\n",
    "demo.close()"
   ]
  }
 ],
 "metadata": {
  "kernelspec": {
   "display_name": "Python 3 (ipykernel)",
   "language": "python",
   "name": "python3"
  },
  "language_info": {
   "codemirror_mode": {
    "name": "ipython",
    "version": 3
   },
   "file_extension": ".py",
   "mimetype": "text/x-python",
   "name": "python",
   "nbconvert_exporter": "python",
   "pygments_lexer": "ipython3",
   "version": "3.10.12"
  },
  "openvino_notebooks": {
   "imageUrl": "https://github.com/openvinotoolkit/openvino_notebooks/assets/91237924/2abb2389-e612-4599-82c6-64cdac259120",
   "tags": {
    "categories": [
     "Model Demos",
     "AI Trends"
    ],
    "libraries": [],
    "other": [
     "LLM"
    ],
    "tasks": [
     "Text Generation"
    ]
   }
  },
  "widgets": {
   "application/vnd.jupyter.widget-state+json": {
    "state": {},
    "version_major": 2,
    "version_minor": 0
   }
  }
 },
 "nbformat": 4,
 "nbformat_minor": 5
}
