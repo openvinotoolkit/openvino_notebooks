{
 "cells": [
  {
   "cell_type": "markdown",
   "id": "190e8e4c-461f-4521-ae7f-3491fa827ab7",
   "metadata": {
    "tags": []
   },
   "source": [
    "# Auto Device Selection\n",
    "\n",
    "Introduction to using Auto Device Selection with OpenVINO.\n",
    "\n",
    "We use the [resnet-50-tf](https://docs.openvino.ai/latest/omz_models_model_resnet_50_tf.html) model from the [Open Model Zoo](https://github.com/openvinotoolkit/open_model_zoo/). resnet-50-tf is a TensorFlow* implementation of ResNet-50 - an image classification model pre-trained on the ImageNet dataset. Originally redistributed in Saved model format, converted to frozen graph using tf.graph_util module. For details see [paper](https://arxiv.org/abs/1512.03385), [repository](https://github.com/tensorflow/models/tree/v2.2.0/official/r1/resnet).\n",
    "\n",
    "Please follow the [104-model-tools](../104-model-tools/README.md) to download resnet-50-tf and convert (--precisions FP16), copy the results (resnet-50-tf.bin and resnet-50-tf.xml) to notebooks\\106-auto-device\\model\\ folder"
   ]
  },
  {
   "cell_type": "markdown",
   "id": "740bfdd8",
   "metadata": {},
   "source": [
    "## Compile model without device name"
   ]
  },
  {
   "cell_type": "code",
   "execution_count": null,
   "id": "73d7aedb",
   "metadata": {},
   "outputs": [],
   "source": [
    "import cv2\n",
    "import matplotlib.pyplot as plt\n",
    "import numpy as np\n",
    "from openvino.runtime import Core, CompiledModel\n",
    "\n",
    "ie = Core()\n",
    "\n",
    "model = ie.read_model(model=\"model/resnet-50-tf.xml\")\n",
    "compiled_model = ie.compile_model(model=model, config={\"LOG_LEVEL\":\"LOG_TRACE\"})\n",
    "\n",
    "if isinstance(compiled_model, CompiledModel):\n",
    "    print(\"Compile model without device_name successfully.\")"
   ]
  },
  {
   "cell_type": "markdown",
   "id": "85b48949",
   "metadata": {},
   "source": [
    "## Compile model with AUTO as device name"
   ]
  },
  {
   "cell_type": "code",
   "execution_count": null,
   "id": "0814073d",
   "metadata": {},
   "outputs": [],
   "source": [
    "compiled_model = ie.compile_model(model=model, device_name=\"AUTO\", config={\"LOG_LEVEL\":\"LOG_TRACE\"})\n",
    "\n",
    "if isinstance(compiled_model, CompiledModel):\n",
    "    print(\"Compile model with AUTO successfully.\")"
   ]
  },
  {
   "cell_type": "markdown",
   "id": "705ce668",
   "metadata": {},
   "source": [
    "## Load an Image"
   ]
  },
  {
   "cell_type": "code",
   "execution_count": null,
   "id": "dc1cfeaf",
   "metadata": {},
   "outputs": [],
   "source": [
    "# Text detection models expects image in BGR format\n",
    "image = cv2.imread(\"data/intel_rnb.jpg\")\n",
    "\n",
    "# N,C,H,W = batch size, number of channels, height, width\n",
    "N, C, H, W = input_layer_ir.shape\n",
    "\n",
    "# Resize image to meet network expected input sizes\n",
    "resized_image = cv2.resize(image, (W, H))\n",
    "\n",
    "# Reshape to network input shape\n",
    "input_image = np.expand_dims(resized_image.transpose(2, 0, 1), 0)\n",
    "\n",
    "plt.imshow(cv2.cvtColor(image, cv2.COLOR_BGR2RGB));"
   ]
  },
  {
   "cell_type": "markdown",
   "id": "f9fcaba9",
   "metadata": {},
   "source": [
    "## Compile model with GPU Device and do one inference"
   ]
  },
  {
   "cell_type": "raw",
   "id": "72f859d7-bf8b-4f6c-b4fa-0a71c9b77622",
   "metadata": {},
   "source": [
    "# Start to compile model, time point 1\n",
    "\n",
    "# Compile model\n",
    "compiled_model = ie.compile_model(model=model, device_name=\"GPU\")\n",
    "input_layer_ir = next(iter(compiled_model.inputs))\n",
    "\n",
    "# Create inference request\n",
    "request = compiled_model.create_infer_request()\n",
    "request.infer({input_layer_ir.any_name: input_image})\n",
    "\n",
    "# Get 1st inference, time point 2\n",
    "boxes = request.get_tensor(\"boxes\").data\n"
   ]
  },
  {
   "cell_type": "markdown",
   "id": "09dfac5d",
   "metadata": {},
   "source": [
    "## Compile model with AUTO Device and do one inference"
   ]
  },
  {
   "cell_type": "code",
   "execution_count": null,
   "id": "0c6a52b3",
   "metadata": {},
   "outputs": [],
   "source": [
    "# Start to compile model, time point 1\n",
    "\n",
    "# Compile model\n",
    "compiled_model = ie.compile_model(model=model, device_name=\"GPU\")\n",
    "input_layer_ir = next(iter(compiled_model.inputs))\n",
    "\n",
    "# Create inference request\n",
    "request = compiled_model.create_infer_request()\n",
    "request.infer({input_layer_ir.any_name: input_image})\n",
    "\n",
    "# Get 1st inference, time point 2"
   ]
  },
  {
   "cell_type": "markdown",
   "id": "1a238bbe-07f0-4623-addf-e2ef58216b26",
   "metadata": {},
   "source": [
    "## Compile model with AUTO Device and do one inference"
   ]
  },
  {
   "cell_type": "code",
   "execution_count": null,
   "id": "05af75a7-aa4c-4041-af00-9e7e2bc7f266",
   "metadata": {},
   "outputs": [],
   "source": [
    "# Start to compile model, time point 1\n",
    "\n",
    "# Compile model\n",
    "compiled_model = ie.compile_model(model=model)\n",
    "input_layer_ir = next(iter(compiled_model.inputs))\n",
    "\n",
    "# Create inference request\n",
    "request = compiled_model.create_infer_request()\n",
    "request.infer({input_layer_ir.any_name: input_image})\n",
    "\n",
    "# Get 1st inference, time point 2"
   ]
  },
  {
   "cell_type": "markdown",
   "id": "0a2de05c-6b75-4bc2-814a-08aa4924c2a7",
   "metadata": {},
   "source": [
    "## Compile model with AUTO Device with THROUGHTPUT hint\n",
    "\n",
    "Loop for the inference and output the FPS/Latency for each n sencods"
   ]
  },
  {
   "cell_type": "code",
   "execution_count": null,
   "id": "94b8e571",
   "metadata": {},
   "outputs": [],
   "source": [
    "# output period (seconds)\n",
    "period = 10\n",
    "\n",
    "end_after_n_periods = 30\n"
   ]
  },
  {
   "cell_type": "markdown",
   "id": "a63d446b-0c7c-4f2d-baac-21d5ea92089d",
   "metadata": {},
   "source": [
    "## Compile model with AUTO Device with LATENCY hint\n",
    "\n",
    "Loop for the inference and output the FPS/Latency for each n sencods"
   ]
  },
  {
   "cell_type": "code",
   "execution_count": null,
   "id": "42e0396c-d7cb-4176-844c-1d5d94ae788f",
   "metadata": {},
   "outputs": [],
   "source": [
    "# output period (seconds), share the same as previous one\n",
    "\n"
   ]
  }
 ],
 "metadata": {
  "interpreter": {
   "hash": "ae617ccb002f72b3ab6d0069d721eac67ac2a969e83c083c4321cfcab0437cd1"
  },
  "kernelspec": {
   "display_name": "Python 3",
   "language": "python",
   "name": "python3"
  },
  "language_info": {
   "codemirror_mode": {
    "name": "ipython",
    "version": 3
   },
   "file_extension": ".py",
   "mimetype": "text/x-python",
   "name": "python",
   "nbconvert_exporter": "python",
   "pygments_lexer": "ipython3",
   "version": "3.8.10"
  },
  "toc-autonumbering": false,
  "toc-showmarkdowntxt": false,
  "toc-showtags": false
 },
 "nbformat": 4,
 "nbformat_minor": 5
}
