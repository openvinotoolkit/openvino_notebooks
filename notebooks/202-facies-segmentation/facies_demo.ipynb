{
 "cells": [
  {
   "cell_type": "markdown",
   "metadata": {},
   "source": [
    "# Facies segmentation Python Demo\n",
    "\n",
    "This demo demonstrate how to run facies classification using OpenVINO&trade;\n",
    "\n",
    "This model came from seismic interpretation tasks. Fasies is the overall characteristics of a rock unit that reflect its origin and differentiate the unit from others around it.  Mineralogy and sedimentary source, fossil content, sedimentary structures and texture distinguish one facies from another. Data are presented in the 3D arrays."
   ]
  },
  {
   "cell_type": "markdown",
   "metadata": {},
   "source": [
    "## Demo Output\n",
    "\n",
    "The application uses Jupyter notebook to display 3d itkwidget with resulting instance classification masks."
   ]
  },
  {
   "cell_type": "markdown",
   "metadata": {},
   "source": [
    "## How It Works\n",
    "Upon the start-up, the demo application loads a network and an given dataset file to the Inference Engine plugin. When inference is done, the application displays 3d itkwidget viewer with facies interpretation."
   ]
  },
  {
   "cell_type": "markdown",
   "metadata": {},
   "source": [
    "## Installation of dependencies"
   ]
  },
  {
   "cell_type": "code",
   "execution_count": 1,
   "metadata": {},
   "outputs": [],
   "source": [
    "import os\n",
    "import sys\n",
    "import numpy as np\n",
    "import matplotlib as mpl\n",
    "import matplotlib.pyplot as plt\n",
    "import ipywidgets as widgets\n",
    "\n",
    "from tqdm import tqdm\n",
    "from itkwidgets import view\n",
    "from collections import defaultdict\n",
    "from openvino.inference_engine import IECore"
   ]
  },
  {
   "cell_type": "markdown",
   "metadata": {},
   "source": [
    "### Create the CPU extension\n",
    "First of all, you need to create the required CPU extension, just follow the instructions below:\n",
    "\n",
    "Steps to create CPU extension:"
   ]
  },
  {
   "cell_type": "code",
   "execution_count": 2,
   "metadata": {},
   "outputs": [
    {
     "name": "stdout",
     "output_type": "stream",
     "text": [
      "[setupvars.sh] OpenVINO environment initialized\n",
      "env: TBB_DIR=/opt/intel/openvino_2021/deployment_tools/inference_engine/external/tbb/cmake/\n",
      "-- The C compiler identification is GNU 7.5.0\n",
      "-- The CXX compiler identification is GNU 7.5.0\n",
      "-- Check for working C compiler: /usr/bin/cc\n",
      "-- Check for working C compiler: /usr/bin/cc -- works\n",
      "-- Detecting C compiler ABI info\n",
      "-- Detecting C compiler ABI info - done\n",
      "-- Detecting C compile features\n",
      "-- Detecting C compile features - done\n",
      "-- Check for working CXX compiler: /usr/bin/c++\n",
      "-- Check for working CXX compiler: /usr/bin/c++ -- works\n",
      "-- Detecting CXX compiler ABI info\n",
      "-- Detecting CXX compiler ABI info - done\n",
      "-- Detecting CXX compile features\n",
      "-- Detecting CXX compile features - done\n",
      "-- Found InferenceEngine: /opt/intel/openvino_2021/deployment_tools/inference_engine/lib/intel64/libinference_engine.so  \n",
      "CMake Warning (dev) in CMakeLists.txt:\n",
      "  No cmake_minimum_required command is present.  A line of code such as\n",
      "\n",
      "    cmake_minimum_required(VERSION 3.10)\n",
      "\n",
      "  should be added at the top of the file.  The version specified may be lower\n",
      "  if you wish to support older CMake versions for this project.  For more\n",
      "  information run \"cmake --help-policy CMP0000\".\n",
      "This warning is for project developers.  Use -Wno-dev to suppress it.\n",
      "\n",
      "-- Configuring done\n",
      "-- Generating done\n",
      "-- Build files have been written to: /home/akhorkin/Repositories/openvino_notebooks/notebooks/202-facies-segmentation/user_ie_extensions/build\n",
      "\u001b[35m\u001b[1mScanning dependencies of target unpool_cpu_extension\u001b[0m\n",
      "[ 20%] \u001b[32mBuilding CXX object CMakeFiles/unpool_cpu_extension.dir/CMakeFiles/3.10.2/CompilerIdCXX/CMakeCXXCompilerId.o\u001b[0m\n",
      "[ 40%] \u001b[32mBuilding CXX object CMakeFiles/unpool_cpu_extension.dir/cpu_kernel.o\u001b[0m\n",
      "[ 60%] \u001b[32mBuilding CXX object CMakeFiles/unpool_cpu_extension.dir/extension.o\u001b[0m\n",
      "[ 80%] \u001b[32mBuilding CXX object CMakeFiles/unpool_cpu_extension.dir/op.o\u001b[0m\n",
      "[100%] \u001b[32m\u001b[1mLinking CXX shared library libunpool_cpu_extension.so\u001b[0m\n",
      "[100%] Built target unpool_cpu_extension\n"
     ]
    }
   ],
   "source": [
    "openvino_install_dir = '/opt/intel/openvino_2021'\n",
    "! source {openvino_install_dir}/bin/setupvars.sh\n",
    "INTEL_OPENVINO_DIR = os.environ['INTEL_OPENVINO_DIR']\n",
    "# set ENV:\n",
    "%env TBB_DIR= {INTEL_OPENVINO_DIR}/deployment_tools/inference_engine/external/tbb/cmake/\n",
    "! mkdir ./user_ie_extensions/build\n",
    "! cd ./user_ie_extensions/build && cmake .. -DCMAKE_BUILD_TYPE=Release && make -j$(nproc --all)\n",
    "! mv ./user_ie_extensions/build/libunpool_cpu_extension.so ./"
   ]
  },
  {
   "cell_type": "markdown",
   "metadata": {},
   "source": [
    "### Setup virtual-env\n",
    "\n",
    "Step 1: You can install the required packages with the following command:"
   ]
  },
  {
   "cell_type": "code",
   "execution_count": 3,
   "metadata": {},
   "outputs": [
    {
     "name": "stdout",
     "output_type": "stream",
     "text": [
      "Requirement already satisfied: numpy==1.19.4 in /home/akhorkin/.virtualenvs/python_demo_env/lib/python3.6/site-packages (from -r requirements.txt (line 1)) (1.19.4)\n",
      "Requirement already satisfied: matplotlib==3.3.3 in /home/akhorkin/.virtualenvs/python_demo_env/lib/python3.6/site-packages (from -r requirements.txt (line 2)) (3.3.3)\n",
      "Requirement already satisfied: ipywidgets==7.5.1 in /home/akhorkin/.virtualenvs/python_demo_env/lib/python3.6/site-packages (from -r requirements.txt (line 3)) (7.5.1)\n",
      "Requirement already satisfied: tqdm==4.39.0 in /home/akhorkin/.virtualenvs/python_demo_env/lib/python3.6/site-packages (from -r requirements.txt (line 4)) (4.39.0)\n",
      "Requirement already satisfied: itk==5.1.2 in /home/akhorkin/.virtualenvs/python_demo_env/lib/python3.6/site-packages (from -r requirements.txt (line 5)) (5.1.2)\n",
      "Requirement already satisfied: itk-core==5.1.2 in /home/akhorkin/.virtualenvs/python_demo_env/lib/python3.6/site-packages (from -r requirements.txt (line 6)) (5.1.2)\n",
      "Requirement already satisfied: itk-filtering==5.1.2 in /home/akhorkin/.virtualenvs/python_demo_env/lib/python3.6/site-packages (from -r requirements.txt (line 7)) (5.1.2)\n",
      "Requirement already satisfied: itk-io==5.1.2 in /home/akhorkin/.virtualenvs/python_demo_env/lib/python3.6/site-packages (from -r requirements.txt (line 8)) (5.1.2)\n",
      "Requirement already satisfied: itk-meshtopolydata==0.6.2 in /home/akhorkin/.virtualenvs/python_demo_env/lib/python3.6/site-packages (from -r requirements.txt (line 9)) (0.6.2)\n",
      "Requirement already satisfied: itk-numerics==5.1.2 in /home/akhorkin/.virtualenvs/python_demo_env/lib/python3.6/site-packages (from -r requirements.txt (line 10)) (5.1.2)\n",
      "Requirement already satisfied: itk-registration==5.1.2 in /home/akhorkin/.virtualenvs/python_demo_env/lib/python3.6/site-packages (from -r requirements.txt (line 11)) (5.1.2)\n",
      "Requirement already satisfied: itk-segmentation==5.1.2 in /home/akhorkin/.virtualenvs/python_demo_env/lib/python3.6/site-packages (from -r requirements.txt (line 12)) (5.1.2)\n",
      "Requirement already satisfied: itkwidgets==0.23.1 in /home/akhorkin/.virtualenvs/python_demo_env/lib/python3.6/site-packages (from -r requirements.txt (line 13)) (0.23.1)\n",
      "Requirement already satisfied: segyio==1.9.1 in /home/akhorkin/.virtualenvs/python_demo_env/lib/python3.6/site-packages (from -r requirements.txt (line 14)) (1.9.1)\n",
      "Requirement already satisfied: imageio==2.9.0 in /home/akhorkin/.virtualenvs/python_demo_env/lib/python3.6/site-packages (from -r requirements.txt (line 15)) (2.9.0)\n",
      "Requirement already satisfied: ipympl==0.5.1 in /home/akhorkin/.virtualenvs/python_demo_env/lib/python3.6/site-packages (from -r requirements.txt (line 16)) (0.5.1)\n",
      "Requirement already satisfied: cycler>=0.10 in /home/akhorkin/.virtualenvs/python_demo_env/lib/python3.6/site-packages (from matplotlib==3.3.3->-r requirements.txt (line 2)) (0.10.0)\n",
      "Requirement already satisfied: kiwisolver>=1.0.1 in /home/akhorkin/.virtualenvs/python_demo_env/lib/python3.6/site-packages (from matplotlib==3.3.3->-r requirements.txt (line 2)) (1.3.1)\n",
      "Requirement already satisfied: pillow>=6.2.0 in /home/akhorkin/.virtualenvs/python_demo_env/lib/python3.6/site-packages (from matplotlib==3.3.3->-r requirements.txt (line 2)) (8.1.0)\n",
      "Requirement already satisfied: python-dateutil>=2.1 in /home/akhorkin/.virtualenvs/python_demo_env/lib/python3.6/site-packages (from matplotlib==3.3.3->-r requirements.txt (line 2)) (2.8.1)\n",
      "Requirement already satisfied: pyparsing!=2.0.4,!=2.1.2,!=2.1.6,>=2.0.3 in /home/akhorkin/.virtualenvs/python_demo_env/lib/python3.6/site-packages (from matplotlib==3.3.3->-r requirements.txt (line 2)) (2.4.7)\n",
      "Requirement already satisfied: nbformat>=4.2.0 in /home/akhorkin/.virtualenvs/python_demo_env/lib/python3.6/site-packages (from ipywidgets==7.5.1->-r requirements.txt (line 3)) (5.1.2)\n",
      "Requirement already satisfied: ipython>=4.0.0; python_version >= \"3.3\" in /home/akhorkin/.virtualenvs/python_demo_env/lib/python3.6/site-packages (from ipywidgets==7.5.1->-r requirements.txt (line 3)) (7.16.1)\n",
      "Requirement already satisfied: traitlets>=4.3.1 in /home/akhorkin/.virtualenvs/python_demo_env/lib/python3.6/site-packages (from ipywidgets==7.5.1->-r requirements.txt (line 3)) (4.3.3)\n",
      "Requirement already satisfied: ipykernel>=4.5.1 in /home/akhorkin/.virtualenvs/python_demo_env/lib/python3.6/site-packages (from ipywidgets==7.5.1->-r requirements.txt (line 3)) (5.4.3)\n",
      "Requirement already satisfied: widgetsnbextension~=3.5.0 in /home/akhorkin/.virtualenvs/python_demo_env/lib/python3.6/site-packages (from ipywidgets==7.5.1->-r requirements.txt (line 3)) (3.5.1)\n",
      "Requirement already satisfied: ipydatawidgets>=4.0.1 in /home/akhorkin/.virtualenvs/python_demo_env/lib/python3.6/site-packages (from itkwidgets==0.23.1->-r requirements.txt (line 13)) (4.2.0)\n",
      "Requirement already satisfied: colorcet in /home/akhorkin/.virtualenvs/python_demo_env/lib/python3.6/site-packages (from itkwidgets==0.23.1->-r requirements.txt (line 13)) (2.0.6)\n",
      "Requirement already satisfied: scipy in /home/akhorkin/.virtualenvs/python_demo_env/lib/python3.6/site-packages (from itkwidgets==0.23.1->-r requirements.txt (line 13)) (1.5.4)\n",
      "Requirement already satisfied: zstandard in /home/akhorkin/.virtualenvs/python_demo_env/lib/python3.6/site-packages (from itkwidgets==0.23.1->-r requirements.txt (line 13)) (0.15.1)\n",
      "Requirement already satisfied: six in /home/akhorkin/.virtualenvs/python_demo_env/lib/python3.6/site-packages (from itkwidgets==0.23.1->-r requirements.txt (line 13)) (1.15.0)\n",
      "Requirement already satisfied: jsonschema!=2.5.0,>=2.4 in /home/akhorkin/.virtualenvs/python_demo_env/lib/python3.6/site-packages (from nbformat>=4.2.0->ipywidgets==7.5.1->-r requirements.txt (line 3)) (3.2.0)\n",
      "Requirement already satisfied: jupyter-core in /home/akhorkin/.virtualenvs/python_demo_env/lib/python3.6/site-packages (from nbformat>=4.2.0->ipywidgets==7.5.1->-r requirements.txt (line 3)) (4.7.0)\n",
      "Requirement already satisfied: ipython-genutils in /home/akhorkin/.virtualenvs/python_demo_env/lib/python3.6/site-packages (from nbformat>=4.2.0->ipywidgets==7.5.1->-r requirements.txt (line 3)) (0.2.0)\n",
      "Requirement already satisfied: prompt-toolkit!=3.0.0,!=3.0.1,<3.1.0,>=2.0.0 in /home/akhorkin/.virtualenvs/python_demo_env/lib/python3.6/site-packages (from ipython>=4.0.0; python_version >= \"3.3\"->ipywidgets==7.5.1->-r requirements.txt (line 3)) (3.0.14)\n",
      "Requirement already satisfied: setuptools>=18.5 in /home/akhorkin/.virtualenvs/python_demo_env/lib/python3.6/site-packages (from ipython>=4.0.0; python_version >= \"3.3\"->ipywidgets==7.5.1->-r requirements.txt (line 3)) (46.0.0)\n",
      "Requirement already satisfied: decorator in /home/akhorkin/.virtualenvs/python_demo_env/lib/python3.6/site-packages (from ipython>=4.0.0; python_version >= \"3.3\"->ipywidgets==7.5.1->-r requirements.txt (line 3)) (4.4.2)\n",
      "Requirement already satisfied: backcall in /home/akhorkin/.virtualenvs/python_demo_env/lib/python3.6/site-packages (from ipython>=4.0.0; python_version >= \"3.3\"->ipywidgets==7.5.1->-r requirements.txt (line 3)) (0.2.0)\n",
      "Requirement already satisfied: pexpect; sys_platform != \"win32\" in /home/akhorkin/.virtualenvs/python_demo_env/lib/python3.6/site-packages (from ipython>=4.0.0; python_version >= \"3.3\"->ipywidgets==7.5.1->-r requirements.txt (line 3)) (4.8.0)\n",
      "Requirement already satisfied: pickleshare in /home/akhorkin/.virtualenvs/python_demo_env/lib/python3.6/site-packages (from ipython>=4.0.0; python_version >= \"3.3\"->ipywidgets==7.5.1->-r requirements.txt (line 3)) (0.7.5)\n",
      "Requirement already satisfied: jedi>=0.10 in /home/akhorkin/.virtualenvs/python_demo_env/lib/python3.6/site-packages (from ipython>=4.0.0; python_version >= \"3.3\"->ipywidgets==7.5.1->-r requirements.txt (line 3)) (0.18.0)\n",
      "Requirement already satisfied: pygments in /home/akhorkin/.virtualenvs/python_demo_env/lib/python3.6/site-packages (from ipython>=4.0.0; python_version >= \"3.3\"->ipywidgets==7.5.1->-r requirements.txt (line 3)) (2.7.4)\n",
      "Requirement already satisfied: tornado>=4.2 in /home/akhorkin/.virtualenvs/python_demo_env/lib/python3.6/site-packages (from ipykernel>=4.5.1->ipywidgets==7.5.1->-r requirements.txt (line 3)) (6.1)\n",
      "Requirement already satisfied: jupyter-client in /home/akhorkin/.virtualenvs/python_demo_env/lib/python3.6/site-packages (from ipykernel>=4.5.1->ipywidgets==7.5.1->-r requirements.txt (line 3)) (6.1.11)\n"
     ]
    },
    {
     "name": "stdout",
     "output_type": "stream",
     "text": [
      "Requirement already satisfied: notebook>=4.4.1 in /home/akhorkin/.virtualenvs/python_demo_env/lib/python3.6/site-packages (from widgetsnbextension~=3.5.0->ipywidgets==7.5.1->-r requirements.txt (line 3)) (6.2.0)\n",
      "Requirement already satisfied: traittypes>=0.2.0 in /home/akhorkin/.virtualenvs/python_demo_env/lib/python3.6/site-packages (from ipydatawidgets>=4.0.1->itkwidgets==0.23.1->-r requirements.txt (line 13)) (0.2.1)\n",
      "Requirement already satisfied: pyct>=0.4.4 in /home/akhorkin/.virtualenvs/python_demo_env/lib/python3.6/site-packages (from colorcet->itkwidgets==0.23.1->-r requirements.txt (line 13)) (0.4.8)\n",
      "Requirement already satisfied: param>=1.7.0 in /home/akhorkin/.virtualenvs/python_demo_env/lib/python3.6/site-packages (from colorcet->itkwidgets==0.23.1->-r requirements.txt (line 13)) (1.10.1)\n",
      "Requirement already satisfied: importlib-metadata; python_version < \"3.8\" in /home/akhorkin/.virtualenvs/python_demo_env/lib/python3.6/site-packages (from jsonschema!=2.5.0,>=2.4->nbformat>=4.2.0->ipywidgets==7.5.1->-r requirements.txt (line 3)) (3.4.0)\n",
      "Requirement already satisfied: pyrsistent>=0.14.0 in /home/akhorkin/.virtualenvs/python_demo_env/lib/python3.6/site-packages (from jsonschema!=2.5.0,>=2.4->nbformat>=4.2.0->ipywidgets==7.5.1->-r requirements.txt (line 3)) (0.17.3)\n",
      "Requirement already satisfied: attrs>=17.4.0 in /home/akhorkin/.virtualenvs/python_demo_env/lib/python3.6/site-packages (from jsonschema!=2.5.0,>=2.4->nbformat>=4.2.0->ipywidgets==7.5.1->-r requirements.txt (line 3)) (20.3.0)\n",
      "Requirement already satisfied: wcwidth in /home/akhorkin/.virtualenvs/python_demo_env/lib/python3.6/site-packages (from prompt-toolkit!=3.0.0,!=3.0.1,<3.1.0,>=2.0.0->ipython>=4.0.0; python_version >= \"3.3\"->ipywidgets==7.5.1->-r requirements.txt (line 3)) (0.2.5)\n",
      "Requirement already satisfied: ptyprocess>=0.5 in /home/akhorkin/.virtualenvs/python_demo_env/lib/python3.6/site-packages (from pexpect; sys_platform != \"win32\"->ipython>=4.0.0; python_version >= \"3.3\"->ipywidgets==7.5.1->-r requirements.txt (line 3)) (0.7.0)\n",
      "Requirement already satisfied: parso<0.9.0,>=0.8.0 in /home/akhorkin/.virtualenvs/python_demo_env/lib/python3.6/site-packages (from jedi>=0.10->ipython>=4.0.0; python_version >= \"3.3\"->ipywidgets==7.5.1->-r requirements.txt (line 3)) (0.8.1)\n",
      "Requirement already satisfied: pyzmq>=13 in /home/akhorkin/.virtualenvs/python_demo_env/lib/python3.6/site-packages (from jupyter-client->ipykernel>=4.5.1->ipywidgets==7.5.1->-r requirements.txt (line 3)) (21.0.2)\n",
      "Requirement already satisfied: nbconvert in /home/akhorkin/.virtualenvs/python_demo_env/lib/python3.6/site-packages (from notebook>=4.4.1->widgetsnbextension~=3.5.0->ipywidgets==7.5.1->-r requirements.txt (line 3)) (6.0.7)\n",
      "Requirement already satisfied: argon2-cffi in /home/akhorkin/.virtualenvs/python_demo_env/lib/python3.6/site-packages (from notebook>=4.4.1->widgetsnbextension~=3.5.0->ipywidgets==7.5.1->-r requirements.txt (line 3)) (20.1.0)\n",
      "Requirement already satisfied: terminado>=0.8.3 in /home/akhorkin/.virtualenvs/python_demo_env/lib/python3.6/site-packages (from notebook>=4.4.1->widgetsnbextension~=3.5.0->ipywidgets==7.5.1->-r requirements.txt (line 3)) (0.9.2)\n",
      "Requirement already satisfied: prometheus-client in /home/akhorkin/.virtualenvs/python_demo_env/lib/python3.6/site-packages (from notebook>=4.4.1->widgetsnbextension~=3.5.0->ipywidgets==7.5.1->-r requirements.txt (line 3)) (0.9.0)\n",
      "Requirement already satisfied: jinja2 in /home/akhorkin/.virtualenvs/python_demo_env/lib/python3.6/site-packages (from notebook>=4.4.1->widgetsnbextension~=3.5.0->ipywidgets==7.5.1->-r requirements.txt (line 3)) (2.11.2)\n",
      "Requirement already satisfied: Send2Trash>=1.5.0 in /home/akhorkin/.virtualenvs/python_demo_env/lib/python3.6/site-packages (from notebook>=4.4.1->widgetsnbextension~=3.5.0->ipywidgets==7.5.1->-r requirements.txt (line 3)) (1.5.0)\n",
      "Requirement already satisfied: zipp>=0.5 in /home/akhorkin/.virtualenvs/python_demo_env/lib/python3.6/site-packages (from importlib-metadata; python_version < \"3.8\"->jsonschema!=2.5.0,>=2.4->nbformat>=4.2.0->ipywidgets==7.5.1->-r requirements.txt (line 3)) (3.4.0)\n",
      "Requirement already satisfied: typing-extensions>=3.6.4; python_version < \"3.8\" in /home/akhorkin/.virtualenvs/python_demo_env/lib/python3.6/site-packages (from importlib-metadata; python_version < \"3.8\"->jsonschema!=2.5.0,>=2.4->nbformat>=4.2.0->ipywidgets==7.5.1->-r requirements.txt (line 3)) (3.7.4.3)\n",
      "Requirement already satisfied: jupyterlab-pygments in /home/akhorkin/.virtualenvs/python_demo_env/lib/python3.6/site-packages (from nbconvert->notebook>=4.4.1->widgetsnbextension~=3.5.0->ipywidgets==7.5.1->-r requirements.txt (line 3)) (0.1.2)\n",
      "Requirement already satisfied: nbclient<0.6.0,>=0.5.0 in /home/akhorkin/.virtualenvs/python_demo_env/lib/python3.6/site-packages (from nbconvert->notebook>=4.4.1->widgetsnbextension~=3.5.0->ipywidgets==7.5.1->-r requirements.txt (line 3)) (0.5.1)\n",
      "Requirement already satisfied: mistune<2,>=0.8.1 in /home/akhorkin/.virtualenvs/python_demo_env/lib/python3.6/site-packages (from nbconvert->notebook>=4.4.1->widgetsnbextension~=3.5.0->ipywidgets==7.5.1->-r requirements.txt (line 3)) (0.8.4)\n",
      "Requirement already satisfied: defusedxml in /home/akhorkin/.virtualenvs/python_demo_env/lib/python3.6/site-packages (from nbconvert->notebook>=4.4.1->widgetsnbextension~=3.5.0->ipywidgets==7.5.1->-r requirements.txt (line 3)) (0.6.0)\n",
      "Requirement already satisfied: pandocfilters>=1.4.1 in /home/akhorkin/.virtualenvs/python_demo_env/lib/python3.6/site-packages (from nbconvert->notebook>=4.4.1->widgetsnbextension~=3.5.0->ipywidgets==7.5.1->-r requirements.txt (line 3)) (1.4.3)\n",
      "Requirement already satisfied: testpath in /home/akhorkin/.virtualenvs/python_demo_env/lib/python3.6/site-packages (from nbconvert->notebook>=4.4.1->widgetsnbextension~=3.5.0->ipywidgets==7.5.1->-r requirements.txt (line 3)) (0.4.4)\n",
      "Requirement already satisfied: entrypoints>=0.2.2 in /home/akhorkin/.virtualenvs/python_demo_env/lib/python3.6/site-packages (from nbconvert->notebook>=4.4.1->widgetsnbextension~=3.5.0->ipywidgets==7.5.1->-r requirements.txt (line 3)) (0.3)\n",
      "Requirement already satisfied: bleach in /home/akhorkin/.virtualenvs/python_demo_env/lib/python3.6/site-packages (from nbconvert->notebook>=4.4.1->widgetsnbextension~=3.5.0->ipywidgets==7.5.1->-r requirements.txt (line 3)) (3.2.3)\n",
      "Requirement already satisfied: cffi>=1.0.0 in /home/akhorkin/.virtualenvs/python_demo_env/lib/python3.6/site-packages (from argon2-cffi->notebook>=4.4.1->widgetsnbextension~=3.5.0->ipywidgets==7.5.1->-r requirements.txt (line 3)) (1.14.4)\n",
      "Requirement already satisfied: MarkupSafe>=0.23 in /home/akhorkin/.virtualenvs/python_demo_env/lib/python3.6/site-packages (from jinja2->notebook>=4.4.1->widgetsnbextension~=3.5.0->ipywidgets==7.5.1->-r requirements.txt (line 3)) (1.1.1)\n",
      "Requirement already satisfied: async-generator in /home/akhorkin/.virtualenvs/python_demo_env/lib/python3.6/site-packages (from nbclient<0.6.0,>=0.5.0->nbconvert->notebook>=4.4.1->widgetsnbextension~=3.5.0->ipywidgets==7.5.1->-r requirements.txt (line 3)) (1.10)\n",
      "Requirement already satisfied: nest-asyncio in /home/akhorkin/.virtualenvs/python_demo_env/lib/python3.6/site-packages (from nbclient<0.6.0,>=0.5.0->nbconvert->notebook>=4.4.1->widgetsnbextension~=3.5.0->ipywidgets==7.5.1->-r requirements.txt (line 3)) (1.4.3)\n",
      "Requirement already satisfied: packaging in /home/akhorkin/.virtualenvs/python_demo_env/lib/python3.6/site-packages (from bleach->nbconvert->notebook>=4.4.1->widgetsnbextension~=3.5.0->ipywidgets==7.5.1->-r requirements.txt (line 3)) (20.8)\n",
      "Requirement already satisfied: webencodings in /home/akhorkin/.virtualenvs/python_demo_env/lib/python3.6/site-packages (from bleach->nbconvert->notebook>=4.4.1->widgetsnbextension~=3.5.0->ipywidgets==7.5.1->-r requirements.txt (line 3)) (0.5.1)\n",
      "Requirement already satisfied: pycparser in /home/akhorkin/.virtualenvs/python_demo_env/lib/python3.6/site-packages (from cffi>=1.0.0->argon2-cffi->notebook>=4.4.1->widgetsnbextension~=3.5.0->ipywidgets==7.5.1->-r requirements.txt (line 3)) (2.20)\n",
      "\u001b[33mWARNING: You are using pip version 20.2.3; however, version 21.1 is available.\n",
      "You should consider upgrading via the '/home/akhorkin/.virtualenvs/python_demo_env/bin/python -m pip install --upgrade pip' command.\u001b[0m\n"
     ]
    }
   ],
   "source": [
    "# install prerequinces for the demo\n",
    "import sys\n",
    "!{sys.executable} -m pip install -r requirements.txt"
   ]
  },
  {
   "cell_type": "markdown",
   "metadata": {},
   "source": [
    "### Download model:\n",
    "\n",
    "Step 1: Create model folder and download a model:"
   ]
  },
  {
   "cell_type": "code",
   "execution_count": 4,
   "metadata": {},
   "outputs": [
    {
     "name": "stdout",
     "output_type": "stream",
     "text": [
      "/bin/bash: line 0: cd: notebooks/202-facies-segmentation: No such file or directory\n",
      "--2021-04-27 17:37:10--  https://www.dropbox.com/s/x0c7ao8kebxykj1/facies-segmentation-deconvnet.bin?dl=1\n",
      "Resolving proxy-chain.intel.com (proxy-chain.intel.com)... 163.33.7.140\n",
      "Connecting to proxy-chain.intel.com (proxy-chain.intel.com)|163.33.7.140|:912... connected.\n",
      "Proxy request sent, awaiting response... 301 Moved Permanently\n",
      "Location: /s/dl/x0c7ao8kebxykj1/facies-segmentation-deconvnet.bin [following]\n",
      "--2021-04-27 17:37:11--  https://www.dropbox.com/s/dl/x0c7ao8kebxykj1/facies-segmentation-deconvnet.bin\n",
      "Reusing existing connection to www.dropbox.com:443.\n",
      "Proxy request sent, awaiting response... 302 Found\n",
      "Location: https://uc5c9819d023d7f0bcdf3f8f89d8.dl.dropboxusercontent.com/cd/0/get/BNZw3-ECMZatW9yusRW-pGBgDtltUrULzh_JgZOQhNp-4zsv7kw_EL-NrH0oQTfcT0d1uVau7n2bC-ASaXpycxCwnodDOudiDb5n9qte8n5wUs_vWYNHTsIVtIOQJcLuQwxVB081a51FrhZ1-RfkIEee/file?dl=1# [following]\n",
      "--2021-04-27 17:37:11--  https://uc5c9819d023d7f0bcdf3f8f89d8.dl.dropboxusercontent.com/cd/0/get/BNZw3-ECMZatW9yusRW-pGBgDtltUrULzh_JgZOQhNp-4zsv7kw_EL-NrH0oQTfcT0d1uVau7n2bC-ASaXpycxCwnodDOudiDb5n9qte8n5wUs_vWYNHTsIVtIOQJcLuQwxVB081a51FrhZ1-RfkIEee/file?dl=1\n",
      "Connecting to proxy-chain.intel.com (proxy-chain.intel.com)|163.33.7.140|:912... connected.\n",
      "Proxy request sent, awaiting response... 200 OK\n",
      "Length: 335991832 (320M) [application/binary]\n",
      "Saving to: ‘model/facies-segmentation-deconvnet.bin’\n",
      "\n",
      "model/facies-segmen 100%[===================>] 320.43M  2.11MB/s    in 2m 58s  \n",
      "\n",
      "2021-04-27 17:40:11 (1.80 MB/s) - ‘model/facies-segmentation-deconvnet.bin’ saved [335991832/335991832]\n",
      "\n",
      "--2021-04-27 17:40:11--  https://www.dropbox.com/s/g288xdcd7xumqm7/facies-segmentation-deconvnet.xml?dl=1\n",
      "Resolving proxy-chain.intel.com (proxy-chain.intel.com)... 163.33.7.140\n",
      "Connecting to proxy-chain.intel.com (proxy-chain.intel.com)|163.33.7.140|:912... connected.\n",
      "Proxy request sent, awaiting response... 301 Moved Permanently\n",
      "Location: /s/dl/g288xdcd7xumqm7/facies-segmentation-deconvnet.xml [following]\n",
      "--2021-04-27 17:40:12--  https://www.dropbox.com/s/dl/g288xdcd7xumqm7/facies-segmentation-deconvnet.xml\n",
      "Reusing existing connection to www.dropbox.com:443.\n",
      "Proxy request sent, awaiting response... 302 Found\n",
      "Location: https://uc8028a8848a9b43e638f0b88149.dl.dropboxusercontent.com/cd/0/get/BNZkRZhAZQuCfpKeupqABfRfU819NSWH_T52vWpMUW1fFUcnQN8XOFfODeW6Dpm3e9gMNG_AuOTQaiAWIonLsD8QNxUfyRSUdSJTysGNbHoKo2I7FoNWFEC7IkOs_uHitg1K4n6a80hu_Fv7AvpmiCin/file?dl=1# [following]\n",
      "--2021-04-27 17:40:13--  https://uc8028a8848a9b43e638f0b88149.dl.dropboxusercontent.com/cd/0/get/BNZkRZhAZQuCfpKeupqABfRfU819NSWH_T52vWpMUW1fFUcnQN8XOFfODeW6Dpm3e9gMNG_AuOTQaiAWIonLsD8QNxUfyRSUdSJTysGNbHoKo2I7FoNWFEC7IkOs_uHitg1K4n6a80hu_Fv7AvpmiCin/file?dl=1\n",
      "Connecting to proxy-chain.intel.com (proxy-chain.intel.com)|163.33.7.140|:912... connected.\n",
      "Proxy request sent, awaiting response... 200 OK\n",
      "Length: 80558 (79K) [application/binary]\n",
      "Saving to: ‘model/facies-segmentation-deconvnet.xml’\n",
      "\n",
      "model/facies-segmen 100%[===================>]  78.67K   273KB/s    in 0.3s    \n",
      "\n",
      "2021-04-27 17:40:15 (273 KB/s) - ‘model/facies-segmentation-deconvnet.xml’ saved [80558/80558]\n",
      "\n",
      "--2021-04-27 17:40:15--  https://www.dropbox.com/s/a7kge25hfpjnhvf/facies-segmentation-deconvnet.mapping?dl=1\n",
      "Resolving proxy-chain.intel.com (proxy-chain.intel.com)... 163.33.7.140\n",
      "Connecting to proxy-chain.intel.com (proxy-chain.intel.com)|163.33.7.140|:912... connected.\n",
      "Proxy request sent, awaiting response... 301 Moved Permanently\n",
      "Location: /s/dl/a7kge25hfpjnhvf/facies-segmentation-deconvnet.mapping [following]\n",
      "--2021-04-27 17:40:16--  https://www.dropbox.com/s/dl/a7kge25hfpjnhvf/facies-segmentation-deconvnet.mapping\n",
      "Reusing existing connection to www.dropbox.com:443.\n",
      "Proxy request sent, awaiting response... 302 Found\n",
      "Location: https://uca01a6aa1ee425b20421e7a915e.dl.dropboxusercontent.com/cd/0/get/BNaxHiAJJHARHCp8Ti516LzU4RqX2Pp9JhcuUX-Nq0kU9w_cn6Gs5BzQS5-1lYSQCqRQCBdg-OSvkcBQQXSZwYgoUd2l2Kt3I96oLuLFCHSUtZZ01rXJXg_SVLpU4UuxABLVbWD4VRS__lTCeul3cyuy/file?dl=1# [following]\n",
      "--2021-04-27 17:40:17--  https://uca01a6aa1ee425b20421e7a915e.dl.dropboxusercontent.com/cd/0/get/BNaxHiAJJHARHCp8Ti516LzU4RqX2Pp9JhcuUX-Nq0kU9w_cn6Gs5BzQS5-1lYSQCqRQCBdg-OSvkcBQQXSZwYgoUd2l2Kt3I96oLuLFCHSUtZZ01rXJXg_SVLpU4UuxABLVbWD4VRS__lTCeul3cyuy/file?dl=1\n",
      "Connecting to proxy-chain.intel.com (proxy-chain.intel.com)|163.33.7.140|:912... connected.\n",
      "Proxy request sent, awaiting response... 200 OK\n",
      "Length: 12158 (12K) [application/binary]\n",
      "Saving to: ‘model/facies-segmentation-deconvnet.mapping’\n",
      "\n",
      "model/facies-segmen 100%[===================>]  11.87K  --.-KB/s    in 0s      \n",
      "\n",
      "2021-04-27 17:40:18 (123 MB/s) - ‘model/facies-segmentation-deconvnet.mapping’ saved [12158/12158]\n",
      "\n"
     ]
    }
   ],
   "source": [
    "! cd notebooks/202-facies-segmentation\n",
    "! mkdir model\n",
    "! wget -O model/facies-segmentation-deconvnet.bin https://www.dropbox.com/s/x0c7ao8kebxykj1/facies-segmentation-deconvnet.bin?dl=1 \n",
    "! wget -O model/facies-segmentation-deconvnet.xml https://www.dropbox.com/s/g288xdcd7xumqm7/facies-segmentation-deconvnet.xml?dl=1\n",
    "! wget -O model/facies-segmentation-deconvnet.mapping https://www.dropbox.com/s/a7kge25hfpjnhvf/facies-segmentation-deconvnet.mapping?dl=1"
   ]
  },
  {
   "cell_type": "markdown",
   "metadata": {},
   "source": [
    "### Download dataset:"
   ]
  },
  {
   "cell_type": "code",
   "execution_count": 5,
   "metadata": {},
   "outputs": [
    {
     "name": "stdout",
     "output_type": "stream",
     "text": [
      "--2021-04-27 17:40:18--  https://zenodo.org/record/3755060/files/data.zip\n",
      "Resolving proxy-chain.intel.com (proxy-chain.intel.com)... 163.33.7.140\n",
      "Connecting to proxy-chain.intel.com (proxy-chain.intel.com)|163.33.7.140|:912... connected.\n",
      "Proxy request sent, awaiting response... 200 OK\n",
      "Length: 1051449986 (1003M) [application/octet-stream]\n",
      "Saving to: ‘data.zip’\n",
      "\n",
      "data.zip            100%[===================>]   1003M   675KB/s    in 32m 53s \n",
      "\n",
      "2021-04-27 18:14:24 (520 KB/s) - ‘data.zip’ saved [1051449986/1051449986]\n",
      "\n",
      "Archive:  data.zip\n",
      "   creating: data/\n",
      "   creating: data/train/\n",
      "  inflating: data/train/train_seismic.npy  \n",
      "  inflating: data/train/train_labels.npy  \n",
      "   creating: data/test_once/\n",
      "  inflating: data/test_once/test1_seismic.npy  \n",
      "  inflating: data/test_once/test2_labels.npy  \n",
      "  inflating: data/test_once/test1_labels.npy  \n",
      "  inflating: data/test_once/test2_seismic.npy  \n",
      "  inflating: data/.dropbox           \n"
     ]
    }
   ],
   "source": [
    "# Download dataset\n",
    "! wget https://zenodo.org/record/3755060/files/data.zip\n",
    "! unzip data.zip\n",
    "! rm -rf data.zip data/train"
   ]
  },
  {
   "cell_type": "markdown",
   "metadata": {},
   "source": [
    "### Define useful functions"
   ]
  },
  {
   "cell_type": "code",
   "execution_count": 6,
   "metadata": {},
   "outputs": [],
   "source": [
    "def get_config():\n",
    "    config = defaultdict(str)\n",
    "    config.update({\n",
    "             \"model\": 'model/facies-segmentation-deconvnet.xml',\n",
    "             \"data_path\": 'data/test_once/test2_seismic.npy',\n",
    "             \"name_classes\": ['upper_ns', 'middle_ns',\n",
    "                            'lower_ns', 'rijnland_chalk',\n",
    "                            'scruff', 'zechstein'],\n",
    "             \"cpu_extension\": 'libunpool_cpu_extension.so',\n",
    "             \"edge_one\": (0,30,0),\n",
    "             \"edge_two\": (500, 199, 244),\n",
    "             \"device\":\"CPU\"})\n",
    "\n",
    "    return config    "
   ]
  },
  {
   "cell_type": "code",
   "execution_count": 7,
   "metadata": {},
   "outputs": [],
   "source": [
    "def normalize(data, mu=0, std=1):\n",
    "    if not isinstance(data, np.ndarray):\n",
    "        data = np.array(data)\n",
    "    data = (data - data.flatten().mean())/data.flatten().std()\n",
    "    return data * std + mu\n",
    "\n",
    "def load_data(config):\n",
    "    data_format = config[\"data_path\"].split('.')[1]\n",
    "    assert not (config[\"data_path\"].split('.')[0] == '' or data_format == ''), \\\n",
    "        f'Invalid path to data file: {config[\"data_path\"]}'\n",
    "    if data_format == 'npy':\n",
    "        data = np.load(config[\"data_path\"])\n",
    "    elif data_format == 'dat':\n",
    "        data = np.fromfile(config[\"data_path\"])\n",
    "    elif data_format == 'segy':\n",
    "        import segyio\n",
    "        data = segyio.tools.cube(config[\"data_path\"])\n",
    "        data = np.moveaxis(data, -1, 0)\n",
    "        data = np.ascontiguousarray(data, 'float32')\n",
    "    else:\n",
    "        assert False, f'Unsupported data format: {data_format}'\n",
    "\n",
    "    data = normalize(data, mu=1e-8, std=0.2097654)\n",
    "    print(f\"[INFO] Dataset has been loaded, shape is {data.shape}\")\n",
    "    print(f\"[INFO] Dataset mean is {data.flatten().mean():.5f}, std {data.flatten().std():.5f}\")\n",
    "    \n",
    "    x_min =  min(config[\"edge_one\"][0], config[\"edge_two\"][0])\n",
    "    x_max =  max(config[\"edge_one\"][0], config[\"edge_two\"][0])\n",
    "    y_min =  min(config[\"edge_one\"][1], config[\"edge_two\"][1])\n",
    "    y_max =  max(config[\"edge_one\"][1], config[\"edge_two\"][1])\n",
    "    z_min =  min(config[\"edge_one\"][2], config[\"edge_two\"][2])\n",
    "    z_max =  max(config[\"edge_one\"][2], config[\"edge_two\"][2])\n",
    "    x_lim, y_lim, z_lim = data.shape\n",
    "    assert x_min >=0 and y_min>=0 and z_min >= 0\n",
    "    assert x_max < x_lim and y_max < y_lim and z_max < z_lim, \"Invalid edges\"\n",
    "    sub_data = data[x_min: x_max , y_min: y_max, z_min: z_max]\n",
    "    return sub_data"
   ]
  },
  {
   "cell_type": "code",
   "execution_count": 8,
   "metadata": {},
   "outputs": [],
   "source": [
    "def reshape_model(net, shape):\n",
    "    index_of_minimal_dim = np.argmin(shape)\n",
    "    input_data_shape = list(shape)\n",
    "    del input_data_shape[index_of_minimal_dim]\n",
    "\n",
    "    input_net_info = net.input_info\n",
    "    input_name = next(iter(input_net_info))\n",
    "    input_net_shape = input_net_info[input_name].input_data.shape\n",
    "    \n",
    "    print(f\"[INFO] Infer should be on {input_data_shape} resolution\")\n",
    "    if input_data_shape != input_net_shape[-2:]:\n",
    "        net.reshape({input_name: [1, 1, *input_data_shape]})\n",
    "        print(f\"[INFO] Reshaping model to fit for slice shape: {input_data_shape}\")\n",
    "    else:\n",
    "        print(f\"[INFO] Use not reshaped model\")"
   ]
  },
  {
   "cell_type": "code",
   "execution_count": 9,
   "metadata": {},
   "outputs": [],
   "source": [
    "def infer_cube(exec_net, data):\n",
    "    index_of_minimal_dim = np.argmin(data.shape)\n",
    "    predicted_cube = np.empty(data.shape)\n",
    "    size = data.shape[index_of_minimal_dim]\n",
    "    for slice_index in tqdm(range(size)):\n",
    "        if index_of_minimal_dim == 0:\n",
    "            inp = data[slice_index, :, :]\n",
    "            out = exec_net.infer(inputs={'input': inp})['output']\n",
    "            out = np.argmax(out, axis=1).squeeze()\n",
    "            predicted_cube[slice_index, :, :] = out\n",
    "        if index_of_minimal_dim == 1:\n",
    "            inp = data[:, slice_index, :]\n",
    "            out = exec_net.infer(inputs={'input': inp})['output']\n",
    "            out = np.argmax(out, axis=1).squeeze()\n",
    "            predicted_cube[:, slice_index, :] = out\n",
    "        if index_of_minimal_dim == 2:\n",
    "            inp = data[:, :, slice_index]\n",
    "            out = exec_net.infer(inputs={'input': inp})['output']\n",
    "            out = np.argmax(out, axis=1).squeeze()\n",
    "            predicted_cube[:, :, slice_index] = out\n",
    "    return predicted_cube"
   ]
  },
  {
   "cell_type": "code",
   "execution_count": 10,
   "metadata": {},
   "outputs": [],
   "source": [
    "def discrete_cmap(N, base_cmap=None):\n",
    "    \"\"\"Create an N-bin discrete colormap from the specified input map\"\"\"\n",
    "\n",
    "    # Note that if base_cmap is a string or None, you can simply do\n",
    "    #    return plt.cm.get_cmap(base_cmap, N)\n",
    "    # The following works for string, None, or a colormap instance:\n",
    "\n",
    "    base = plt.cm.get_cmap(base_cmap)\n",
    "    color_list = base(np.linspace(0, 1, N))\n",
    "    cmap_name = base.name + str(N)\n",
    "    return base.from_list(cmap_name, color_list, N)\n",
    "\n",
    "def show_legend(N, cmap_name):\n",
    "    base = plt.cm.get_cmap(cmap_name)\n",
    "    color_list = base(np.linspace(0, 1, N))\n",
    "    print(color_list)\n",
    "    \n",
    "def show_legend(labels, cmap):\n",
    "    N = len(labels)\n",
    "    fig = plt.figure(figsize=(12, 6))\n",
    "    ax1 = fig.add_axes([0.05, 0.80, 0.9, 0.15])\n",
    "    cb1 = mpl.colorbar.ColorbarBase(ax1, cmap=cmap,\n",
    "                                    ticks=np.arange(0, N, 1)/N + 1/(2*N),\n",
    "                                    orientation='horizontal')\n",
    "    cb1.ax.set_xticklabels(labels, fontsize = 20)\n",
    "    cb1.set_label('Legend', fontsize = 24)\n",
    "    plt.show()"
   ]
  },
  {
   "cell_type": "markdown",
   "metadata": {},
   "source": [
    "### Get config and load dataset"
   ]
  },
  {
   "cell_type": "code",
   "execution_count": 11,
   "metadata": {},
   "outputs": [
    {
     "name": "stdout",
     "output_type": "stream",
     "text": [
      "[INFO] Dataset has been loaded, shape is (601, 200, 255)\n",
      "[INFO] Dataset mean is 0.00000, std 0.20977\n"
     ]
    }
   ],
   "source": [
    "config = get_config()\n",
    "data = load_data(config)"
   ]
  },
  {
   "cell_type": "markdown",
   "metadata": {},
   "source": [
    "### Load model"
   ]
  },
  {
   "cell_type": "code",
   "execution_count": 12,
   "metadata": {},
   "outputs": [],
   "source": [
    "ie = IECore()\n",
    "if config[\"cpu_extension\"] and config[\"device\"] == \"CPU\":\n",
    "    ie.add_extension(config[\"cpu_extension\"], \"CPU\")\n",
    "net = ie.read_network(config[\"model\"], os.path.splitext(config[\"model\"])[0] + \".bin\")"
   ]
  },
  {
   "cell_type": "markdown",
   "metadata": {},
   "source": [
    "### Prepare model"
   ]
  },
  {
   "cell_type": "code",
   "execution_count": 13,
   "metadata": {},
   "outputs": [
    {
     "name": "stdout",
     "output_type": "stream",
     "text": [
      "[INFO] Infer should be on [500, 244] resolution\n",
      "[INFO] Reshaping model to fit for slice shape: [500, 244]\n"
     ]
    }
   ],
   "source": [
    "reshape_model(net, data.shape)\n",
    "exec_net = ie.load_network(network=net, device_name=config[\"device\"])"
   ]
  },
  {
   "cell_type": "markdown",
   "metadata": {},
   "source": [
    "### Run model"
   ]
  },
  {
   "cell_type": "code",
   "execution_count": 14,
   "metadata": {},
   "outputs": [
    {
     "name": "stderr",
     "output_type": "stream",
     "text": [
      "100%|██████████| 169/169 [00:27<00:00,  6.18it/s]\n"
     ]
    }
   ],
   "source": [
    "predicted_data = infer_cube(exec_net, data)"
   ]
  },
  {
   "cell_type": "markdown",
   "metadata": {},
   "source": [
    "### Visualize original and predicted data"
   ]
  },
  {
   "cell_type": "markdown",
   "metadata": {},
   "source": [
    "* Prepare origidal data viewer"
   ]
  },
  {
   "cell_type": "code",
   "execution_count": 15,
   "metadata": {},
   "outputs": [],
   "source": [
    "viewer_orig_data = view(data, shadow=False)\n",
    "count_of_greys = 100\n",
    "viewer_orig_data.cmap = np.array([[i/count_of_greys, i/count_of_greys, i/count_of_greys] for i\n",
    "                                  in range(count_of_greys)])"
   ]
  },
  {
   "cell_type": "markdown",
   "metadata": {},
   "source": [
    "* Prepare predicted data viewer"
   ]
  },
  {
   "cell_type": "code",
   "execution_count": 16,
   "metadata": {},
   "outputs": [
    {
     "data": {
      "image/png": "[encoded data removed]",
      "text/plain": [
       "<Figure size 864x432 with 1 Axes>"
      ]
     },
     "metadata": {
      "needs_background": "light"
     },
     "output_type": "display_data"
    }
   ],
   "source": [
    "cmap = discrete_cmap(len(config[\"name_classes\"]), 'jet')\n",
    "show_legend(config[\"name_classes\"], cmap)\n",
    "viewer_interpret_data = view(predicted_data, shadow=False)\n",
    "viewer_interpret_data.cmap = cmap\n",
    "widgets.link((viewer_interpret_data, 'camera'), (viewer_orig_data, 'camera')) # link widget cameras\n",
    "pass"
   ]
  },
  {
   "cell_type": "markdown",
   "metadata": {},
   "source": [
    "* Run render"
   ]
  },
  {
   "cell_type": "code",
   "execution_count": 17,
   "metadata": {},
   "outputs": [
    {
     "data": {
      "application/vnd.jupyter.widget-view+json": {
       "model_id": "6bcba087455c4a948f673a818661c5c3",
       "version_major": 2,
       "version_minor": 0
      },
      "text/plain": [
       "Viewer(cmap='Custom matplotlib 1619536503.683635', geometries=[], gradient_opacity=0.22, point_sets=[], render…"
      ]
     },
     "metadata": {},
     "output_type": "display_data"
    }
   ],
   "source": [
    "viewer_interpret_data"
   ]
  },
  {
   "cell_type": "code",
   "execution_count": 18,
   "metadata": {},
   "outputs": [
    {
     "data": {
      "application/vnd.jupyter.widget-view+json": {
       "model_id": "c56327e34b414c058918011e8be4892d",
       "version_major": 2,
       "version_minor": 0
      },
      "text/plain": [
       "Viewer(cmap='Custom NumPy 1619536503.454224', geometries=[], gradient_opacity=0.22, point_sets=[], rendered_im…"
      ]
     },
     "metadata": {},
     "output_type": "display_data"
    }
   ],
   "source": [
    "viewer_orig_data"
   ]
  },
  {
   "cell_type": "code",
   "execution_count": null,
   "metadata": {},
   "outputs": [],
   "source": []
  }
 ],
 "metadata": {
  "kernelspec": {
   "display_name": "py_demo_env",
   "language": "python",
   "name": "py_demo_env"
  },
  "language_info": {
   "codemirror_mode": {
    "name": "ipython",
    "version": 3
   },
   "file_extension": ".py",
   "mimetype": "text/x-python",
   "name": "python",
   "nbconvert_exporter": "python",
   "pygments_lexer": "ipython3",
   "version": "3.6.9"
  }
 },
 "nbformat": 4,
 "nbformat_minor": 4
}
