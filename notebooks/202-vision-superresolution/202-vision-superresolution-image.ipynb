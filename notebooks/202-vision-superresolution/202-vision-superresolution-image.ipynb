{
 "cells": [
  {
   "cell_type": "markdown",
   "source": [
    "# Super Resolution with OpenVINO"
   ],
   "metadata": {}
  },
  {
   "cell_type": "markdown",
   "source": [
    "Super Resolution is the process of enhancing the quality of an image by increasing the pixel count using deep learning. This notebook shows the Single Image Super Resolution (SISR) which takes just one low resolution image. We use a model called [single-image-super-resolution-1032](https://github.com/openvinotoolkit/open_model_zoo/tree/develop/models/intel/single-image-super-resolution-1032) which is available from the Open Model Zoo. It is based on the research paper cited below. \n",
    "\n",
    "Y. Liu et al., [\"An Attention-Based Approach for Single Image Super Resolution,\"](https://arxiv.org/abs/1807.06779) 2018 24th International Conference on Pattern Recognition (ICPR), 2018, pp. 2777-2784, doi: 10.1109/ICPR.2018.8545760."
   ],
   "metadata": {}
  },
  {
   "cell_type": "markdown",
   "source": [
    "## Preparation"
   ],
   "metadata": {}
  },
  {
   "cell_type": "markdown",
   "source": [
    "### Imports"
   ],
   "metadata": {}
  },
  {
   "cell_type": "code",
   "execution_count": null,
   "source": [
    "import os\r\n",
    "import time\r\n",
    "import urllib\r\n",
    "from pathlib import Path\r\n",
    "\r\n",
    "import cv2\r\n",
    "import matplotlib.pyplot as plt\r\n",
    "import numpy as np\r\n",
    "from IPython.display import HTML, FileLink\r\n",
    "from IPython.display import Image as DisplayImage\r\n",
    "from IPython.display import Pretty, ProgressBar, clear_output, display\r\n",
    "from openvino.inference_engine import IECore\r\n",
    "from PIL import Image"
   ],
   "outputs": [],
   "metadata": {
    "tags": []
   }
  },
  {
   "cell_type": "markdown",
   "source": [
    "### Settings"
   ],
   "metadata": {}
  },
  {
   "cell_type": "code",
   "execution_count": null,
   "source": [
    "# Device to use for inference. For example, \"CPU\", or \"GPU\"\r\n",
    "DEVICE = \"CPU\"\r\n",
    "# 1032: 4x superresolution, 1033: 3x superresolution\r\n",
    "MODEL_FILE = \"model/single-image-super-resolution-1032.xml\"\r\n",
    "model_name = os.path.basename(MODEL_FILE)\r\n",
    "model_xml_path = Path(MODEL_FILE).with_suffix(\".xml\")"
   ],
   "outputs": [],
   "metadata": {
    "tags": []
   }
  },
  {
   "cell_type": "markdown",
   "source": [
    "### Functions\n"
   ],
   "metadata": {}
  },
  {
   "cell_type": "code",
   "execution_count": null,
   "source": [
    "def write_text_on_image(image: np.ndarray, text: str) -> np.ndarray:\r\n",
    "    \"\"\"\r\n",
    "    Write the specified text in the top left corner of the image\r\n",
    "    as white text with a black border.\r\n",
    "\r\n",
    "    :param image: image as numpy arry with HWC shape, RGB or BGR\r\n",
    "    :param text: text to write\r\n",
    "    :return: image with written text, as numpy array\r\n",
    "    \"\"\"\r\n",
    "    font = cv2.FONT_HERSHEY_PLAIN\r\n",
    "    org = (20, 20)\r\n",
    "    font_scale = 4\r\n",
    "    font_color = (255, 255, 255)\r\n",
    "    line_type = 1\r\n",
    "    font_thickness = 2\r\n",
    "    text_color_bg = (0, 0, 0)\r\n",
    "    x, y = org\r\n",
    "\r\n",
    "    image = cv2.UMat(image)\r\n",
    "    (text_w, text_h), _ = cv2.getTextSize(\r\n",
    "        text, font, font_scale, font_thickness\r\n",
    "    )\r\n",
    "    result_im = cv2.rectangle(\r\n",
    "        image, org, (x + text_w, y + text_h), text_color_bg, -1\r\n",
    "    )\r\n",
    "\r\n",
    "    textim = cv2.putText(\r\n",
    "        result_im,\r\n",
    "        text,\r\n",
    "        (x, y + text_h + font_scale - 1),\r\n",
    "        font,\r\n",
    "        font_scale,\r\n",
    "        font_color,\r\n",
    "        font_thickness,\r\n",
    "        line_type,\r\n",
    "    )\r\n",
    "    return textim.get()\r\n",
    "\r\n",
    "\r\n",
    "def load_image(path: str) -> np.ndarray:\r\n",
    "    \"\"\"\r\n",
    "    Loads an image from `path` and returns it as BGR numpy array.\r\n",
    "\r\n",
    "    :param path: path to an image filename or url\r\n",
    "    :return: image as numpy array, with BGR channel order\r\n",
    "    \"\"\"\r\n",
    "    if path.startswith(\"http\"):\r\n",
    "        # Set User-Agent to Mozilla because some websites block requests\r\n",
    "        # with User-Agent Python\r\n",
    "        request = urllib.request.Request(\r\n",
    "            path, headers={\"User-Agent\": \"Mozilla/5.0\"}\r\n",
    "        )\r\n",
    "        response = urllib.request.urlopen(request)\r\n",
    "        array = np.asarray(bytearray(response.read()), dtype=\"uint8\")\r\n",
    "        image = cv2.imdecode(array, -1)  # Loads the image as BGR\r\n",
    "    else:\r\n",
    "        image = cv2.imread(path)\r\n",
    "    return image\r\n",
    "\r\n",
    "\r\n",
    "def convert_result_to_image(result) -> np.ndarray:\r\n",
    "    \"\"\"\r\n",
    "    Convert network result of floating point numbers to image with integer\r\n",
    "    values from 0-255. Values outside this range are clipped to 0 and 255.\r\n",
    "\r\n",
    "    :param result: a single superresolution network result in N,C,H,W shape\r\n",
    "    \"\"\"\r\n",
    "    result = result.squeeze(0).transpose(1, 2, 0)\r\n",
    "    result *= 255\r\n",
    "    result[result < 0] = 0\r\n",
    "    result[result > 255] = 255\r\n",
    "    result = result.astype(np.uint8)\r\n",
    "    return result\r\n",
    "\r\n",
    "\r\n",
    "def to_rgb(image_data) -> np.ndarray:\r\n",
    "    \"\"\"\r\n",
    "    Convert image_data from BGR to RGB\r\n",
    "    \"\"\"\r\n",
    "    return cv2.cvtColor(image_data, cv2.COLOR_BGR2RGB)"
   ],
   "outputs": [],
   "metadata": {
    "tags": []
   }
  },
  {
   "cell_type": "markdown",
   "source": [
    "## Load the superresolution model"
   ],
   "metadata": {}
  },
  {
   "cell_type": "markdown",
   "source": [
    "Load the model in Inference Engine with `ie.read_network` and load it to the specified device with `ie.load_network`\n",
    "\n",
    "The Super Resolution model expects two inputs: 1) the input image, 2) a bicubic interpolation of the input image to a size of 1920x1080. It returns the super resolution version of the image in 1920x1800 (for the default superresolution model (1032)). "
   ],
   "metadata": {}
  },
  {
   "cell_type": "markdown",
   "source": [
    "Load the model in Inference Engine with `ie.read_network` and load it to the specified device with `ie.load_network`"
   ],
   "metadata": {}
  },
  {
   "cell_type": "code",
   "execution_count": null,
   "source": [
    "ie = IECore()\r\n",
    "net = ie.read_network(\r\n",
    "    str(model_xml_path), str(model_xml_path.with_suffix(\".bin\"))\r\n",
    ")\r\n",
    "exec_net = ie.load_network(network=net, device_name=DEVICE)"
   ],
   "outputs": [],
   "metadata": {
    "tags": []
   }
  },
  {
   "cell_type": "markdown",
   "source": [
    "Get information about network inputs and outputs. The Super Resolution model expects two inputs: 1) the input image, 2) a bicubic interpolation of the input image to the target size 1920x1080. It returns the super resolution version of the image in 1920x1800. "
   ],
   "metadata": {}
  },
  {
   "cell_type": "code",
   "execution_count": null,
   "source": [
    "# Network inputs and outputs are dictionaries. Get the keys for the\r\n",
    "# dictionaries.\r\n",
    "original_image_key = list(exec_net.input_info)[0]\r\n",
    "bicubic_image_key = list(exec_net.input_info)[1]\r\n",
    "output_key = list(exec_net.outputs.keys())[0]\r\n",
    "\r\n",
    "# Get the expected input and target shape. `.dims[2:]` returns the height\r\n",
    "# and width. OpenCV's resize function expects the shape as (width, height),\r\n",
    "# so we reverse the shape with `[::-1]` and convert it to a tuple\r\n",
    "input_height, input_width = tuple(\r\n",
    "    exec_net.input_info[original_image_key].tensor_desc.dims[2:]\r\n",
    ")\r\n",
    "target_height, target_width = tuple(\r\n",
    "    exec_net.input_info[bicubic_image_key].tensor_desc.dims[2:]\r\n",
    ")\r\n",
    "\r\n",
    "upsample_factor = int(target_height / input_height)\r\n",
    "\r\n",
    "print(\r\n",
    "    f\"The network expects inputs with a width of {input_width}, \"\r\n",
    "    f\"height of {input_height}\"\r\n",
    ")\r\n",
    "print(\r\n",
    "    f\"The network returns images with a width of {target_width}, \"\r\n",
    "    f\"height of {target_height}\"\r\n",
    ")\r\n",
    "\r\n",
    "print(\r\n",
    "    f\"The image sides are upsampled by a factor {upsample_factor}. \"\r\n",
    "    f\"The new image is {upsample_factor**2} times as large as the \"\r\n",
    "    \"original image\"\r\n",
    ")"
   ],
   "outputs": [],
   "metadata": {
    "tags": []
   }
  },
  {
   "cell_type": "markdown",
   "source": [
    "## Load and show the input image"
   ],
   "metadata": {}
  },
  {
   "cell_type": "markdown",
   "source": [
    "**NOTE:** For best results, use raw images (like TIFF, BMP or PNG). Compressed images (like JPEG) may appear distorted after processing with the super resolution model. "
   ],
   "metadata": {}
  },
  {
   "cell_type": "code",
   "execution_count": null,
   "source": [
    "IMAGE_PATH = Path(\"data/tower.jpg\")\r\n",
    "full_image = load_image(str(IMAGE_PATH))\r\n",
    "\r\n",
    "# Uncomment these lines to load a raw image as BGR\r\n",
    "# import rawpy\r\n",
    "# with rawpy.imread(IMAGE_PATH) as raw:\r\n",
    "#     full_image = raw.postprocess()[:,:,(2,1,0)]\r\n",
    "\r\n",
    "plt.imshow(to_rgb(full_image))\r\n",
    "print(\r\n",
    "    f\"Showing full image with width {full_image.shape[1]} \"\r\n",
    "    f\"and height {full_image.shape[0]}\"\r\n",
    ")"
   ],
   "outputs": [],
   "metadata": {
    "tags": []
   }
  },
  {
   "cell_type": "markdown",
   "source": [
    "## Superresolution on one crop of the image"
   ],
   "metadata": {}
  },
  {
   "cell_type": "markdown",
   "source": [
    "### Take one crop of the input image\n",
    "\n",
    "Take a crop of network input size. Give the X (width) and Y (height) coordinates for the top left corner of the crop. Set the CROP_FACTOR variable to 2 to make a crop that is larger than the network input size (this only works with the 1032 superresolution model). The crop will be downsampled before propagating to the network. This is useful for very high resolution images, where a crop of network input size is too small to show enough information. It can also improve the result. Note though that with a CROP_FACTOR or 2 the net upsampling factor will be halved. If the superresolution network increases the side lengths of the image by a factor four, it upsamples a 480x270 crop to 1920x1080. With a CROP_FACTOR of two, a 960x540 crop is upsampled to the same 1920x1080: the side lengths are twice as large as the crop size."
   ],
   "metadata": {}
  },
  {
   "cell_type": "code",
   "execution_count": null,
   "source": [
    "# Set CROP_FACTOR to 2 to take crops with twice the input width and height\r\n",
    "# This only works with the 1032 (4x) superresolution model!\r\n",
    "# Set it to 1 to take crops of exactly input size\r\n",
    "CROP_FACTOR = 2\r\n",
    "adjusted_upsample_factor = upsample_factor // CROP_FACTOR\r\n",
    "\r\n",
    "image_id = \"flag\"  # A tag to recognize the saved images\r\n",
    "starty = 3200\r\n",
    "startx = 0\r\n",
    "\r\n",
    "# Perform the crop\r\n",
    "image_crop = full_image[\r\n",
    "    starty : starty + input_height * CROP_FACTOR,\r\n",
    "    startx : startx + input_width * CROP_FACTOR,\r\n",
    "]\r\n",
    "\r\n",
    "# Show the cropped image\r\n",
    "print(\r\n",
    "    f\"Showing image crop with width {image_crop.shape[1]} and \"\r\n",
    "    f\"height {image_crop.shape[0]}.\"\r\n",
    ")\r\n",
    "plt.imshow(to_rgb(image_crop));"
   ],
   "outputs": [],
   "metadata": {
    "tags": []
   }
  },
  {
   "cell_type": "markdown",
   "source": [
    "### Reshape/resize crop for network input\n",
    "\n",
    "The input image is resized to network input size, and reshaped to (N,C,H,W) (H=height, W=width, C=number of channels, N=number of images). The image is also resized to network output size, with bicubic interpolation. This bicubic image is the second input to the network."
   ],
   "metadata": {}
  },
  {
   "cell_type": "code",
   "execution_count": null,
   "source": [
    "# Resize the image to the target shape with bicubic interpolation\r\n",
    "bicubic_image = cv2.resize(\r\n",
    "    image_crop, (target_width, target_height), interpolation=cv2.INTER_CUBIC\r\n",
    ")\r\n",
    "\r\n",
    "# If required, resize image to input image shape\r\n",
    "if CROP_FACTOR > 1:\r\n",
    "    image_crop = cv2.resize(image_crop, (input_width, input_height))\r\n",
    "\r\n",
    "# Reshape the images from (H,W,C) to (N,C,H,W)\r\n",
    "input_image_original = np.expand_dims(image_crop.transpose(2, 0, 1), axis=0)\r\n",
    "input_image_bicubic = np.expand_dims(bicubic_image.transpose(2, 0, 1), axis=0)"
   ],
   "outputs": [],
   "metadata": {
    "tags": []
   }
  },
  {
   "cell_type": "markdown",
   "source": [
    "### Do inference\n",
    "\n",
    "Do inference and convert the inference result to an RGB image"
   ],
   "metadata": {}
  },
  {
   "cell_type": "code",
   "execution_count": null,
   "source": [
    "network_result = exec_net.infer(\r\n",
    "    inputs={\r\n",
    "        original_image_key: input_image_original,\r\n",
    "        bicubic_image_key: input_image_bicubic,\r\n",
    "    }\r\n",
    ")\r\n",
    "# Get inference result as numpy array and reshape to image shape and data type\r\n",
    "result_image = convert_result_to_image(network_result[output_key])"
   ],
   "outputs": [],
   "metadata": {
    "tags": []
   }
  },
  {
   "cell_type": "markdown",
   "source": [
    "### Show and save results\n",
    "\n",
    "Show the bicubic image and the enhanced superresolution image."
   ],
   "metadata": {}
  },
  {
   "cell_type": "code",
   "execution_count": null,
   "source": [
    "fig, ax = plt.subplots(1, 2, figsize=(30, 15))\r\n",
    "ax[0].imshow(to_rgb(bicubic_image))\r\n",
    "ax[1].imshow(to_rgb(result_image))\r\n",
    "ax[0].set_title(\"Bicubic\")\r\n",
    "ax[1].set_title(\"Superresolution\")"
   ],
   "outputs": [],
   "metadata": {
    "tags": []
   }
  },
  {
   "cell_type": "markdown",
   "source": [
    "#### Save superresolution and bicubic image crop"
   ],
   "metadata": {
    "tags": []
   }
  },
  {
   "cell_type": "code",
   "execution_count": null,
   "source": [
    "# Add text with \"SUPER\" or \"BICUBIC\" to the superresolution or bicubic image\r\n",
    "image_super = write_text_on_image(result_image, \"SUPER\")\r\n",
    "image_bicubic = write_text_on_image(bicubic_image, \"BICUBIC\")\r\n",
    "\r\n",
    "# Store the image and the results\r\n",
    "crop_image_path = IMAGE_PATH.with_name(\r\n",
    "    f\"{IMAGE_PATH.stem}_{image_id}_{adjusted_upsample_factor}x_crop.png\"\r\n",
    ")\r\n",
    "superres_image_path = IMAGE_PATH.with_name(\r\n",
    "    f\"{IMAGE_PATH.stem}_{image_id}_{adjusted_upsample_factor}x_crop_superres.png\"\r\n",
    ")\r\n",
    "bicubic_image_path = IMAGE_PATH.with_name(\r\n",
    "    f\"{IMAGE_PATH.stem}_{image_id}_{adjusted_upsample_factor}x_crop_bicubic.png\"\r\n",
    ")\r\n",
    "\r\n",
    "cv2.imwrite(str(crop_image_path), image_crop, [cv2.IMWRITE_PNG_COMPRESSION, 0])\r\n",
    "cv2.imwrite(\r\n",
    "    str(superres_image_path), image_super, [cv2.IMWRITE_PNG_COMPRESSION, 0]\r\n",
    ")\r\n",
    "cv2.imwrite(\r\n",
    "    str(bicubic_image_path), image_bicubic, [cv2.IMWRITE_PNG_COMPRESSION, 0]\r\n",
    ")\r\n",
    "print(f\"Images written to directory: {IMAGE_PATH.parent}\")"
   ],
   "outputs": [],
   "metadata": {
    "tags": []
   }
  },
  {
   "cell_type": "markdown",
   "source": [
    "#### Write animated gif with bicubic/superresolution comparison"
   ],
   "metadata": {}
  },
  {
   "cell_type": "code",
   "execution_count": null,
   "source": [
    "result_pil = Image.fromarray(to_rgb(image_super))\r\n",
    "bicubic_pil = Image.fromarray(to_rgb(image_bicubic))\r\n",
    "gif_image_path = IMAGE_PATH.with_name(\r\n",
    "    f\"{IMAGE_PATH.stem}_{image_id}_comparison_{adjusted_upsample_factor}x.gif\"\r\n",
    ")\r\n",
    "\r\n",
    "result_pil.save(\r\n",
    "    fp=str(gif_image_path),\r\n",
    "    format=\"GIF\",\r\n",
    "    append_images=[bicubic_pil],\r\n",
    "    save_all=True,\r\n",
    "    duration=1000,\r\n",
    "    loop=0,\r\n",
    ")\r\n",
    "\r\n",
    "# DisplayImage(str(gif_image_path)) doesn't work in Colab\r\n",
    "DisplayImage(open(gif_image_path, \"rb\").read(), width=1920 // 2)"
   ],
   "outputs": [],
   "metadata": {
    "tags": []
   }
  },
  {
   "cell_type": "markdown",
   "source": [
    "#### Create video with sliding bicubic/superresolution comparison\n",
    "\n",
    "This may take a while. For the video, the superresolution and bicubic image are resized by a factor two to improve processing speed. This gives an indication of the superresolution effect. The video is saved as an .avi video. You can click on the link to download the video, or open it directly from the images directory, and play it locally."
   ],
   "metadata": {}
  },
  {
   "cell_type": "code",
   "execution_count": null,
   "source": [
    "FOURCC = cv2.VideoWriter_fourcc(*\"MJPG\")\r\n",
    "\r\n",
    "result_video_path = IMAGE_PATH.with_name(\r\n",
    "    f\"{IMAGE_PATH.stem}_{image_id}_crop_comparison_{adjusted_upsample_factor}x.avi\"\r\n",
    ")\r\n",
    "video_target_height, video_target_width = (\r\n",
    "    result_image.shape[0] // 2,\r\n",
    "    result_image.shape[1] // 2,\r\n",
    ")\r\n",
    "\r\n",
    "out_video = cv2.VideoWriter(\r\n",
    "    str(result_video_path),\r\n",
    "    FOURCC,\r\n",
    "    90,\r\n",
    "    (video_target_width, video_target_height),\r\n",
    ")\r\n",
    "\r\n",
    "resized_result_image = cv2.resize(\r\n",
    "    result_image, (video_target_width, video_target_height)\r\n",
    ")\r\n",
    "resized_bicubic_image = cv2.resize(\r\n",
    "    bicubic_image, (video_target_width, video_target_height)\r\n",
    ")\r\n",
    "\r\n",
    "progress_bar = ProgressBar(total=video_target_width)\r\n",
    "progress_bar.display()\r\n",
    "\r\n",
    "for i in range(video_target_width):\r\n",
    "    # Create a frame where the left part (until i pixels width) contains the\r\n",
    "    # superresolution image, and the right part (from i pixels width) contains\r\n",
    "    # the bicubic image\r\n",
    "    comparison_frame = np.hstack(\r\n",
    "        (\r\n",
    "            resized_result_image[:, :i, :],\r\n",
    "            resized_bicubic_image[:, i:, :],\r\n",
    "        )\r\n",
    "    )\r\n",
    "    # create a small black border line between the superresolution\r\n",
    "    # and bicubic part of the image\r\n",
    "    comparison_frame[:, i - 1 : i + 1, :] = 0\r\n",
    "    out_video.write(comparison_frame)\r\n",
    "    progress_bar.progress = i\r\n",
    "    progress_bar.update()\r\n",
    "out_video.release()\r\n",
    "clear_output()\r\n",
    "\r\n",
    "video_link = FileLink(result_video_path)\r\n",
    "video_link.html_link_str = \"<a href='%s' download>%s</a>\"\r\n",
    "display(HTML(f\"The video has been saved to {video_link._repr_html_()}\"))"
   ],
   "outputs": [],
   "metadata": {
    "tags": []
   }
  },
  {
   "cell_type": "markdown",
   "source": [
    "## Superresolution on full input image\n",
    "\n",
    "Superresolution on the full image is done by dividing the image into patches of equal size, doing superresolution on each path, and then stitching the resulting patches together again. For this demo, patches near the border of the image are ignored.\n",
    "\n",
    "Adjust the `CROPLINES` setting in the next cell if you see boundary effects"
   ],
   "metadata": {}
  },
  {
   "cell_type": "markdown",
   "source": [
    "### Compute patches"
   ],
   "metadata": {}
  },
  {
   "cell_type": "code",
   "execution_count": null,
   "source": [
    "# Set the number of lines to crop from the network result to prevent\r\n",
    "# boundary effects. Should be an integer >= 1.\r\n",
    "CROPLINES = 10\r\n",
    "# See Superresolution on one crop of the image for description of CROP_FACTOR\r\n",
    "CROP_FACTOR = 2\r\n",
    "\r\n",
    "full_image_height, full_image_width = full_image.shape[:2]\r\n",
    "\r\n",
    "# Compute x and y coordinates of left top of image tiles\r\n",
    "x_coords = list(\r\n",
    "    range(0, full_image_width, input_width * CROP_FACTOR - CROPLINES * 2)\r\n",
    ")\r\n",
    "while full_image_width - x_coords[-1] < input_width * CROP_FACTOR:\r\n",
    "    x_coords.pop(-1)\r\n",
    "y_coords = list(\r\n",
    "    range(0, full_image_height, input_height * CROP_FACTOR - CROPLINES * 2)\r\n",
    ")\r\n",
    "while full_image_height - y_coords[-1] < input_height * CROP_FACTOR:\r\n",
    "    y_coords.pop(-1)\r\n",
    "\r\n",
    "# Compute the width and height to crop the full image. The full image is\r\n",
    "# cropped at the border to tiles of input size\r\n",
    "crop_width = x_coords[-1] + input_width * CROP_FACTOR\r\n",
    "crop_height = y_coords[-1] + input_height * CROP_FACTOR\r\n",
    "\r\n",
    "# Compute the width and height of the target superresolution image\r\n",
    "new_width = (\r\n",
    "    x_coords[-1] * (upsample_factor // CROP_FACTOR)\r\n",
    "    + target_width\r\n",
    "    - CROPLINES * 2 * (upsample_factor // CROP_FACTOR)\r\n",
    ")\r\n",
    "new_height = (\r\n",
    "    y_coords[-1] * (upsample_factor // CROP_FACTOR)\r\n",
    "    + target_height\r\n",
    "    - CROPLINES * 2 * (upsample_factor // CROP_FACTOR)\r\n",
    ")\r\n",
    "print(\r\n",
    "    f\"The output image will have a width of {new_width} \"\r\n",
    "    f\"and a height of {new_height}\"\r\n",
    ")"
   ],
   "outputs": [],
   "metadata": {
    "tags": []
   }
  },
  {
   "cell_type": "markdown",
   "source": [
    "### Do inference\n",
    "\n",
    "The code in this cell reads one patch of the image at a time. Each patch is reshaped to network input shape and upsampled with bicubic interpolation to target shape. Both the original and the bicubic image are propagated through the network. The network result is a numpy array with floating point values, with a shape of (1,3,1920,1080). This array is converted to an 8-bit image with shape (1080,1920,3) and written to `full_superresolution_image`. The bicubic image is written to `full_bicubic_image` for comparison. A progress bar shows the progress of the process. Inference time is measured, as well as total time to process each patch."
   ],
   "metadata": {}
  },
  {
   "cell_type": "code",
   "execution_count": null,
   "source": [
    "start_time = time.perf_counter()\r\n",
    "patch_nr = 0\r\n",
    "num_patches = len(x_coords) * len(y_coords)\r\n",
    "progress_bar = ProgressBar(total=num_patches)\r\n",
    "progress_bar.display()\r\n",
    "\r\n",
    "# Crop image to fit tiles of input size\r\n",
    "full_image_crop = full_image.copy()[:crop_height, :crop_width, :]\r\n",
    "\r\n",
    "# Create empty array of target size.\r\n",
    "full_superresolution_image = np.empty(\r\n",
    "    (new_height, new_width, 3), dtype=np.uint8\r\n",
    ")\r\n",
    "\r\n",
    "# Create bicubic upsampled image of target size for comparison\r\n",
    "full_bicubic_image = cv2.resize(\r\n",
    "    full_image_crop[CROPLINES:-CROPLINES, CROPLINES:-CROPLINES, :],\r\n",
    "    (new_width, new_height),\r\n",
    "    interpolation=cv2.INTER_CUBIC,\r\n",
    ")\r\n",
    "\r\n",
    "total_inference_duration = 0\r\n",
    "for y in y_coords:\r\n",
    "    for x in x_coords:\r\n",
    "        patch_nr += 1\r\n",
    "\r\n",
    "        # Take a crop of the input image\r\n",
    "        image_crop = full_image_crop[\r\n",
    "            y : y + input_height * CROP_FACTOR,\r\n",
    "            x : x + input_width * CROP_FACTOR,\r\n",
    "        ]\r\n",
    "\r\n",
    "        # Resize the images to the target shape with bicubic interpolation\r\n",
    "        bicubic_image = cv2.resize(\r\n",
    "            image_crop,\r\n",
    "            (target_width, target_height),\r\n",
    "            interpolation=cv2.INTER_CUBIC,\r\n",
    "        )\r\n",
    "\r\n",
    "        if CROP_FACTOR > 1:\r\n",
    "            image_crop = cv2.resize(image_crop, (input_width, input_height))\r\n",
    "\r\n",
    "        input_image_original = np.expand_dims(\r\n",
    "            image_crop.transpose(2, 0, 1), axis=0\r\n",
    "        )\r\n",
    "\r\n",
    "        input_image_bicubic = np.expand_dims(\r\n",
    "            bicubic_image.transpose(2, 0, 1), axis=0\r\n",
    "        )\r\n",
    "\r\n",
    "        # Do inference\r\n",
    "        inference_start_time = time.perf_counter()\r\n",
    "\r\n",
    "        network_result = exec_net.infer(\r\n",
    "            inputs={\r\n",
    "                original_image_key: input_image_original,\r\n",
    "                bicubic_image_key: input_image_bicubic,\r\n",
    "            }\r\n",
    "        )\r\n",
    "\r\n",
    "        inference_stop_time = time.perf_counter()\r\n",
    "        inference_duration = inference_stop_time - inference_start_time\r\n",
    "        total_inference_duration += inference_duration\r\n",
    "\r\n",
    "        # Reshape inference result to image shape and data type\r\n",
    "        result = network_result[output_key]\r\n",
    "        result_image = convert_result_to_image(result)\r\n",
    "\r\n",
    "        # Add the inference result of this patch to the full superresolution\r\n",
    "        # image\r\n",
    "        adjusted_upsample_factor = upsample_factor // CROP_FACTOR\r\n",
    "        new_y = y * adjusted_upsample_factor\r\n",
    "        new_x = x * adjusted_upsample_factor\r\n",
    "        full_superresolution_image[\r\n",
    "            new_y : new_y\r\n",
    "            + target_height\r\n",
    "            - CROPLINES * adjusted_upsample_factor * 2,\r\n",
    "            new_x : new_x\r\n",
    "            + target_width\r\n",
    "            - CROPLINES * adjusted_upsample_factor * 2,\r\n",
    "        ] = result_image[\r\n",
    "            CROPLINES\r\n",
    "            * adjusted_upsample_factor : -CROPLINES\r\n",
    "            * adjusted_upsample_factor,\r\n",
    "            CROPLINES\r\n",
    "            * adjusted_upsample_factor : -CROPLINES\r\n",
    "            * adjusted_upsample_factor,\r\n",
    "            :,\r\n",
    "        ]\r\n",
    "\r\n",
    "        progress_bar.progress = patch_nr\r\n",
    "        progress_bar.update()\r\n",
    "\r\n",
    "        if patch_nr % 10 == 0:\r\n",
    "            clear_output(wait=True)\r\n",
    "            progress_bar.display()\r\n",
    "            display(\r\n",
    "                Pretty(\r\n",
    "                    f\"Processed patch {patch_nr}/{num_patches}. \"\r\n",
    "                    f\"Inference time: {inference_duration:.2f} seconds \"\r\n",
    "                    f\"({1/inference_duration:.2f} FPS)\"\r\n",
    "                )\r\n",
    "            )\r\n",
    "\r\n",
    "end_time = time.perf_counter()\r\n",
    "duration = end_time - start_time\r\n",
    "clear_output(wait=True)\r\n",
    "print(\r\n",
    "    f\"Processed {num_patches} patches in {duration:.2f} seconds. \"\r\n",
    "    f\"Total patches per second (including processing): \"\r\n",
    "    f\"{num_patches/duration:.2f}.\\nInference patches per second: \"\r\n",
    "    f\"{num_patches/total_inference_duration:.2f} \"\r\n",
    ")"
   ],
   "outputs": [],
   "metadata": {
    "tags": []
   }
  },
  {
   "cell_type": "markdown",
   "source": [
    "### Save superresolution image and the bicubic image"
   ],
   "metadata": {}
  },
  {
   "cell_type": "code",
   "execution_count": null,
   "source": [
    "full_superresolution_image_path = IMAGE_PATH.with_name(\r\n",
    "    f\"{IMAGE_PATH.stem}_full_superres_{adjusted_upsample_factor}x.jpg\"\r\n",
    ")\r\n",
    "full_bicubic_image_path = IMAGE_PATH.with_name(\r\n",
    "    f\"{IMAGE_PATH.stem}_full_bicubic_{adjusted_upsample_factor}x.jpg\"\r\n",
    ")\r\n",
    "cv2.imwrite(str(full_superresolution_image_path), full_superresolution_image)\r\n",
    "cv2.imwrite(str(full_bicubic_image_path), full_bicubic_image);"
   ],
   "outputs": [],
   "metadata": {
    "tags": []
   }
  },
  {
   "cell_type": "code",
   "execution_count": null,
   "source": [
    "bicubic_link = FileLink(full_bicubic_image_path)\r\n",
    "image_link = FileLink(full_superresolution_image_path)\r\n",
    "bicubic_link.html_link_str = \"<a href='%s' download>%s</a>\"\r\n",
    "image_link.html_link_str = \"<a href='%s' download>%s</a>\"\r\n",
    "display(\r\n",
    "    HTML(\r\n",
    "        \"The images are saved in the images directory. You can also download \"\r\n",
    "        \"them by clicking on these links:\"\r\n",
    "        f\"<ul><li>{image_link._repr_html_()}<li>{bicubic_link._repr_html_()}\"\r\n",
    "    )\r\n",
    ")"
   ],
   "outputs": [],
   "metadata": {
    "tags": []
   }
  }
 ],
 "metadata": {
  "kernelspec": {
   "display_name": "openvino_env",
   "language": "python",
   "name": "openvino_env"
  },
  "language_info": {
   "codemirror_mode": {
    "name": "ipython",
    "version": 3
   },
   "file_extension": ".py",
   "mimetype": "text/x-python",
   "name": "python",
   "nbconvert_exporter": "python",
   "pygments_lexer": "ipython3",
   "version": "3.7.9"
  }
 },
 "nbformat": 4,
 "nbformat_minor": 5
}