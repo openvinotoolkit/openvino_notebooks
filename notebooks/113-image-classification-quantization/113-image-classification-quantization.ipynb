{
 "cells": [
  {
   "cell_type": "markdown",
   "metadata": {
    "id": "rQc-wXjqrEuR"
   },
   "source": [
    "# Quantization of Image Classification Models\n",
    "\n",
    "This tutorial demonstrates how to apply `INT8` quantization to Image Classification model using [NNCF](https://github.com/openvinotoolkit/nncf). It uses the Mobilenet V2 model, trained on Cifar10 dataset. The code is designed to be extendable to custom models and datasets. The tutorial uses OpenVINO backend for performing model quantization in NNCF, if you interested how to apply quantization on PyTorch model, please check this [tutorial](../112-pytorch-post-training-quantization-nncf/112-pytorch-post-training-quantization-nncf.ipynb).\n",
    "\n",
    "This tutorial consists of the following steps:\n",
    "- Prepare the model for quantization.\n",
    "- Define a data loading functionality.\n",
    "- Perform quantization.\n",
    "- Compare accuracy of the original and quantized models.\n",
    "- Compare performance of the original and quantized models.\n",
    "- Compare results on one picture."
   ]
  },
  {
   "cell_type": "code",
   "execution_count": 1,
   "metadata": {
    "tags": []
   },
   "outputs": [],
   "source": [
    "from pathlib import Path\n",
    "\n",
    "# Set the data and model directories\n",
    "DATA_DIR = Path('../data/datasets/cifar10')\n",
    "MODEL_DIR = Path('model')\n",
    "model_repo = 'pytorch-cifar-models'\n",
    "\n",
    "DATA_DIR.mkdir(exist_ok=True)\n",
    "MODEL_DIR.mkdir(exist_ok=True)"
   ]
  },
  {
   "cell_type": "markdown",
   "metadata": {
    "id": "D-frbVLKrkmv"
   },
   "source": [
    "## Prepare the Model\n",
    "Model preparation stage has the following steps:\n",
    "- Download a PyTorch model\n",
    "- Convert model to OpenVINO Intermediate Representation format (IR) using Model Optimizer Python API\n",
    "- Serialize converted model on disk\n"
   ]
  },
  {
   "cell_type": "code",
   "execution_count": 2,
   "metadata": {
    "tags": []
   },
   "outputs": [],
   "source": [
    "import sys\n",
    "\n",
    "if not Path(model_repo).exists():\n",
    "    !git clone https://github.com/chenyaofo/pytorch-cifar-models.git\n",
    "\n",
    "sys.path.append(model_repo)"
   ]
  },
  {
   "cell_type": "code",
   "execution_count": 3,
   "metadata": {
    "tags": []
   },
   "outputs": [],
   "source": [
    "from pytorch_cifar_models import cifar10_mobilenetv2_x1_0\n",
    "\n",
    "model = cifar10_mobilenetv2_x1_0(pretrained=True)"
   ]
  },
  {
   "cell_type": "markdown",
   "metadata": {},
   "source": [
    "OpenVINO support PyTorch models via conversion to OpenVINO Intermediate Representation format. Model Optimizer Python API should be used for conversion. `mo.convert_model` accept PyTorch model instance and convert it into `openvino.runtime.Model` representation of model in OpenVINO. Optionally, you may specify `example_input` which serves as helper for model tracing and `input_shape` for conversion model with static shape. Conveted model is ready to be loaded on device for inference and can be saved on disk for next usage via `serialize` function. More details about Model Optimizer Python API can be found on this [page](https://docs.openvino.ai/2023.0/openvino_docs_MO_DG_Python_API.html)."
   ]
  },
  {
   "cell_type": "code",
   "execution_count": 4,
   "metadata": {
    "id": "f7i6dWUmhloy",
    "tags": []
   },
   "outputs": [],
   "source": [
    "from openvino.tools import mo\n",
    "from openvino.runtime import serialize\n",
    "\n",
    "model.eval()\n",
    "\n",
    "ov_model = mo.convert_model(model, input_shape=[1,3,32,32])\n",
    "\n",
    "serialize(ov_model, MODEL_DIR / \"mobilenet_v2.xml\") "
   ]
  },
  {
   "cell_type": "markdown",
   "metadata": {
    "id": "ynLvh8rNc2wv"
   },
   "source": [
    "## Prepare Dataset\n",
    "\n",
    "We will use [CIFAR10](https://www.cs.toronto.edu/~kriz/cifar.html) dataset from [torchvision](https://pytorch.org/vision/stable/generated/torchvision.datasets.CIFAR10.html). Preprocessing for model obtained from training [config](https://github.com/chenyaofo/image-classification-codebase/blob/master/conf/cifar10.conf)"
   ]
  },
  {
   "cell_type": "code",
   "execution_count": 5,
   "metadata": {
    "tags": []
   },
   "outputs": [
    {
     "name": "stdout",
     "output_type": "stream",
     "text": [
      "Files already downloaded and verified\n"
     ]
    }
   ],
   "source": [
    "import torch\n",
    "from torchvision import transforms\n",
    "from torchvision.datasets import CIFAR10\n",
    "\n",
    "transform = transforms.Compose([transforms.ToTensor(), transforms.Normalize((0.4914, 0.4822, 0.4465), (0.247, 0.243, 0.261))])\n",
    "dataset = CIFAR10(root=DATA_DIR, train=False, transform=transform, download=True)\n",
    "val_loader = torch.utils.data.DataLoader(\n",
    "    dataset,\n",
    "    batch_size=1,\n",
    "    shuffle=False,\n",
    "    num_workers=0,\n",
    "    pin_memory=True,\n",
    ")"
   ]
  },
  {
   "cell_type": "markdown",
   "metadata": {},
   "source": [
    "## Perform Quantization\n",
    "\n",
    "[NNCF](https://github.com/openvinotoolkit/nncf) provides a suite of advanced algorithms for Neural Networks inference optimization in OpenVINO with minimal accuracy drop.\n",
    "We will use 8-bit quantization in post-training mode (without the fine-tuning pipeline) to optimize MobilenetV2.\n",
    "The optimization process contains the following steps:\n",
    "\n",
    "1. Create a Dataset for quantization.\n",
    "2. Run `nncf.quantize` for getting an optimized model.\n",
    "3. Serialize an OpenVINO IR model, using the `openvino.runtime.serialize` function.\n",
    "\n",
    "\n",
    "### Create Datset for Validation\n",
    "\n",
    "NNCF is compatible with `torch.utils.data.DataLoader` interface.  For performing quantization it should be passed into `nncf.Dataset` object with transformation function, which prepares input data to fit into model during quantization, in our case, to pick input tensor from pair (input tensor and label) and convert PyTorch tensor to numpy. "
   ]
  },
  {
   "cell_type": "code",
   "execution_count": 6,
   "metadata": {
    "id": "DErQofk8tO6c",
    "tags": []
   },
   "outputs": [
    {
     "name": "stdout",
     "output_type": "stream",
     "text": [
      "INFO:nncf:NNCF initialized successfully. Supported frameworks detected: torch, tensorflow, onnx, openvino\n"
     ]
    }
   ],
   "source": [
    "import nncf\n",
    "\n",
    "def transform_fn(data_item):\n",
    "    image_tensor = data_item[0]\n",
    "    return image_tensor.numpy()\n",
    "\n",
    "quantization_dataset = nncf.Dataset(val_loader, transform_fn)"
   ]
  },
  {
   "cell_type": "markdown",
   "metadata": {},
   "source": [
    "## Run nncf.quantize for Getting an Optimized Model\n",
    "\n",
    "`nncf.quantize` function accepts model and prepared quantization dataset for performing basic quantization. Optionally, additional parameters like `subset_size`, `preset`, `ignored_scope` can be provided to improve quantization result if applicable. More details about supported parameters can be found on this [page](https://docs.openvino.ai/2023.0/basic_quantization_flow.html#tune-quantization-parameters)"
   ]
  },
  {
   "cell_type": "code",
   "execution_count": 7,
   "metadata": {
    "tags": []
   },
   "outputs": [
    {
     "name": "stderr",
     "output_type": "stream",
     "text": [
      "Statistics collection: 100%|██████████████████| 300/300 [00:06<00:00, 44.91it/s]\n",
      "Biases correction: 100%|████████████████████████| 36/36 [00:01<00:00, 20.95it/s]\n"
     ]
    }
   ],
   "source": [
    "quant_ov_model = nncf.quantize(ov_model, quantization_dataset)"
   ]
  },
  {
   "cell_type": "markdown",
   "metadata": {},
   "source": [
    "##  Serialize an OpenVINO IR model\n",
    "\n",
    "Similar to `mo.convert_model`, quantized model is `openvino.runtime.Model` object which ready to be loaded into device and can be serialized on disk using `openvino.runtime.serialize`."
   ]
  },
  {
   "cell_type": "code",
   "execution_count": 8,
   "metadata": {},
   "outputs": [],
   "source": [
    "serialize(quant_ov_model, MODEL_DIR / \"quantized_mobilenet_v2.xml\")"
   ]
  },
  {
   "cell_type": "markdown",
   "metadata": {},
   "source": [
    "## Compare Accuracy of the Original and Quantized Models"
   ]
  },
  {
   "cell_type": "code",
   "execution_count": 9,
   "metadata": {
    "tags": []
   },
   "outputs": [],
   "source": [
    "from tqdm.notebook import tqdm\n",
    "import numpy as np\n",
    "\n",
    "def test_accuracy(ov_model, data_loader):\n",
    "    correct = 0\n",
    "    total = 0\n",
    "    for (batch_imgs, batch_labels) in tqdm(data_loader):\n",
    "        result = ov_model(batch_imgs)[0]\n",
    "        top_label = np.argmax(result)\n",
    "        correct += top_label == batch_labels.numpy()\n",
    "        total += 1\n",
    "    return correct / total"
   ]
  },
  {
   "cell_type": "code",
   "execution_count": 10,
   "metadata": {
    "tags": []
   },
   "outputs": [
    {
     "data": {
      "application/vnd.jupyter.widget-view+json": {
       "model_id": "418a969a63b949e4a095520f37ea491b",
       "version_major": 2,
       "version_minor": 0
      },
      "text/plain": [
       "  0%|          | 0/10000 [00:00<?, ?it/s]"
      ]
     },
     "metadata": {},
     "output_type": "display_data"
    },
    {
     "data": {
      "application/vnd.jupyter.widget-view+json": {
       "model_id": "7fdc6b83d77a40d19b6973f6b80537ee",
       "version_major": 2,
       "version_minor": 0
      },
      "text/plain": [
       "  0%|          | 0/10000 [00:00<?, ?it/s]"
      ]
     },
     "metadata": {},
     "output_type": "display_data"
    }
   ],
   "source": [
    "from openvino.runtime import Core\n",
    "\n",
    "core = Core()\n",
    "compiled_model = core.compile_model(ov_model)\n",
    "optimized_compiled_model = core.compile_model(quant_ov_model)\n",
    "\n",
    "orig_accuracy = test_accuracy(compiled_model, val_loader)\n",
    "optimized_accuracy = test_accuracy(optimized_compiled_model, val_loader)"
   ]
  },
  {
   "cell_type": "code",
   "execution_count": 11,
   "metadata": {
    "tags": []
   },
   "outputs": [
    {
     "name": "stdout",
     "output_type": "stream",
     "text": [
      "Accuracy of the original model: 93.61%\n",
      "Accuracy of the optimized model: 93.51%\n"
     ]
    }
   ],
   "source": [
    "print(f\"Accuracy of the original model: {orig_accuracy[0] * 100 :.2f}%\")\n",
    "print(f\"Accuracy of the optimized model: {optimized_accuracy[0] * 100 :.2f}%\")"
   ]
  },
  {
   "cell_type": "markdown",
   "metadata": {
    "id": "vQACMfAUo52V"
   },
   "source": [
    "## Compare Performance of the Original and Quantized Models\n",
    "\n",
    "Finally, measure the inference performance of the `FP32` and `INT8` models, using [Benchmark Tool](https://docs.openvino.ai/2023.0/openvino_inference_engine_tools_benchmark_tool_README.html) - an inference performance measurement tool in OpenVINO.\n",
    "\n",
    "> **NOTE**: For more accurate performance, it is recommended to run benchmark_app in a terminal/command prompt after closing other applications. Run `benchmark_app -m model.xml -d CPU` to benchmark async inference on CPU for one minute. Change CPU to GPU to benchmark on GPU. Run `benchmark_app --help` to see an overview of all command-line options.\n"
   ]
  },
  {
   "cell_type": "code",
   "execution_count": 12,
   "metadata": {
    "id": "pC0gnO0c9-tI"
   },
   "outputs": [
    {
     "name": "stdout",
     "output_type": "stream",
     "text": [
      "[Step 1/11] Parsing and validating input arguments\n",
      "[ INFO ] Parsing input parameters\n",
      "[Step 2/11] Loading OpenVINO Runtime\n",
      "[ INFO ] OpenVINO:\n",
      "[ INFO ] Build ................................. 2023.0.0-10926-b4452d56304-releases/2023/0\n",
      "[ INFO ] \n",
      "[ INFO ] Device info:\n",
      "[ INFO ] CPU\n",
      "[ INFO ] Build ................................. 2023.0.0-10926-b4452d56304-releases/2023/0\n",
      "[ INFO ] \n",
      "[ INFO ] \n",
      "[Step 3/11] Setting device configuration\n",
      "[ WARNING ] Performance hint was not explicitly specified in command line. Device(CPU) performance hint will be set to PerformanceMode.THROUGHPUT.\n",
      "[Step 4/11] Reading model files\n",
      "[ INFO ] Loading model files\n",
      "[ INFO ] Read model took 16.41 ms\n",
      "[ INFO ] Original model I/O parameters:\n",
      "[ INFO ] Model inputs:\n",
      "[ INFO ]     x.1 , x , 1 (node: Parameter_2) : f32 / [...] / [1,3,32,32]\n",
      "[ INFO ] Model outputs:\n",
      "[ INFO ]     223 (node: aten::linear_928) : f32 / [...] / [1,10]\n",
      "[Step 5/11] Resizing model to match image sizes and given batch\n",
      "[ INFO ] Model batch size: 1\n",
      "[Step 6/11] Configuring input of the model\n",
      "[ INFO ] Model inputs:\n",
      "[ INFO ]     x.1 , x , 1 (node: Parameter_2) : u8 / [N,C,H,W] / [1,3,32,32]\n",
      "[ INFO ] Model outputs:\n",
      "[ INFO ]     223 (node: aten::linear_928) : f32 / [...] / [1,10]\n",
      "[Step 7/11] Loading the model to the device\n",
      "[ INFO ] Compile model took 140.08 ms\n",
      "[Step 8/11] Querying optimal runtime parameters\n",
      "[ INFO ] Model:\n",
      "[ INFO ]   NETWORK_NAME: Model0\n",
      "[ INFO ]   OPTIMAL_NUMBER_OF_INFER_REQUESTS: 18\n",
      "[ INFO ]   NUM_STREAMS: 18\n",
      "[ INFO ]   AFFINITY: Affinity.CORE\n",
      "[ INFO ]   INFERENCE_NUM_THREADS: 36\n",
      "[ INFO ]   PERF_COUNT: False\n",
      "[ INFO ]   INFERENCE_PRECISION_HINT: <Type: 'float32'>\n",
      "[ INFO ]   PERFORMANCE_HINT: PerformanceMode.THROUGHPUT\n",
      "[ INFO ]   EXECUTION_MODE_HINT: ExecutionMode.PERFORMANCE\n",
      "[ INFO ]   PERFORMANCE_HINT_NUM_REQUESTS: 0\n",
      "[ INFO ]   ENABLE_CPU_PINNING: True\n",
      "[ INFO ]   SCHEDULING_CORE_TYPE: SchedulingCoreType.ANY_CORE\n",
      "[ INFO ]   ENABLE_HYPER_THREADING: True\n",
      "[ INFO ]   EXECUTION_DEVICES: ['CPU']\n",
      "[Step 9/11] Creating infer requests and preparing input tensors\n",
      "[ WARNING ] No input files were given for input '1'!. This input will be filled with random values!\n",
      "[ INFO ] Fill input '1' with random values \n",
      "[Step 10/11] Measuring performance (Start inference asynchronously, 18 inference requests, limits: 15000 ms duration)\n",
      "[ INFO ] Benchmarking in inference only mode (inputs filling are not included in measurement loop).\n",
      "[ INFO ] First inference took 3.05 ms\n",
      "[Step 11/11] Dumping statistics report\n",
      "[ INFO ] Execution Devices:['CPU']\n",
      "[ INFO ] Count:            119034 iterations\n",
      "[ INFO ] Duration:         15003.91 ms\n",
      "[ INFO ] Latency:\n",
      "[ INFO ]    Median:        1.98 ms\n",
      "[ INFO ]    Average:       2.08 ms\n",
      "[ INFO ]    Min:           1.20 ms\n",
      "[ INFO ]    Max:           25.97 ms\n",
      "[ INFO ] Throughput:   7933.53 FPS\n"
     ]
    }
   ],
   "source": [
    "# Inference FP16 model (OpenVINO IR)\n",
    "!benchmark_app -m \"model/mobilenet_v2.xml\" -d CPU -api async -t 15"
   ]
  },
  {
   "cell_type": "code",
   "execution_count": 13,
   "metadata": {
    "id": "4VR3-joFu9hH"
   },
   "outputs": [
    {
     "name": "stdout",
     "output_type": "stream",
     "text": [
      "[Step 1/11] Parsing and validating input arguments\n",
      "[ INFO ] Parsing input parameters\n",
      "[Step 2/11] Loading OpenVINO Runtime\n",
      "[ INFO ] OpenVINO:\n",
      "[ INFO ] Build ................................. 2023.0.0-10926-b4452d56304-releases/2023/0\n",
      "[ INFO ] \n",
      "[ INFO ] Device info:\n",
      "[ INFO ] CPU\n",
      "[ INFO ] Build ................................. 2023.0.0-10926-b4452d56304-releases/2023/0\n",
      "[ INFO ] \n",
      "[ INFO ] \n",
      "[Step 3/11] Setting device configuration\n",
      "[ WARNING ] Performance hint was not explicitly specified in command line. Device(CPU) performance hint will be set to PerformanceMode.THROUGHPUT.\n",
      "[Step 4/11] Reading model files\n",
      "[ INFO ] Loading model files\n",
      "[ INFO ] Read model took 25.00 ms\n",
      "[ INFO ] Original model I/O parameters:\n",
      "[ INFO ] Model inputs:\n",
      "[ INFO ]     x , 1 , x.1 (node: Parameter_2) : f32 / [...] / [1,3,32,32]\n",
      "[ INFO ] Model outputs:\n",
      "[ INFO ]     223 (node: aten::linear_928) : f32 / [...] / [1,10]\n",
      "[Step 5/11] Resizing model to match image sizes and given batch\n",
      "[ INFO ] Model batch size: 1\n",
      "[Step 6/11] Configuring input of the model\n",
      "[ INFO ] Model inputs:\n",
      "[ INFO ]     x , 1 , x.1 (node: Parameter_2) : u8 / [N,C,H,W] / [1,3,32,32]\n",
      "[ INFO ] Model outputs:\n",
      "[ INFO ]     223 (node: aten::linear_928) : f32 / [...] / [1,10]\n",
      "[Step 7/11] Loading the model to the device\n",
      "[ INFO ] Compile model took 229.32 ms\n",
      "[Step 8/11] Querying optimal runtime parameters\n",
      "[ INFO ] Model:\n",
      "[ INFO ]   NETWORK_NAME: Model0\n",
      "[ INFO ]   OPTIMAL_NUMBER_OF_INFER_REQUESTS: 18\n",
      "[ INFO ]   NUM_STREAMS: 18\n",
      "[ INFO ]   AFFINITY: Affinity.CORE\n",
      "[ INFO ]   INFERENCE_NUM_THREADS: 36\n",
      "[ INFO ]   PERF_COUNT: False\n",
      "[ INFO ]   INFERENCE_PRECISION_HINT: <Type: 'float32'>\n",
      "[ INFO ]   PERFORMANCE_HINT: PerformanceMode.THROUGHPUT\n",
      "[ INFO ]   EXECUTION_MODE_HINT: ExecutionMode.PERFORMANCE\n",
      "[ INFO ]   PERFORMANCE_HINT_NUM_REQUESTS: 0\n",
      "[ INFO ]   ENABLE_CPU_PINNING: True\n",
      "[ INFO ]   SCHEDULING_CORE_TYPE: SchedulingCoreType.ANY_CORE\n",
      "[ INFO ]   ENABLE_HYPER_THREADING: True\n",
      "[ INFO ]   EXECUTION_DEVICES: ['CPU']\n",
      "[Step 9/11] Creating infer requests and preparing input tensors\n",
      "[ WARNING ] No input files were given for input '1'!. This input will be filled with random values!\n",
      "[ INFO ] Fill input '1' with random values \n",
      "[Step 10/11] Measuring performance (Start inference asynchronously, 18 inference requests, limits: 15000 ms duration)\n",
      "[ INFO ] Benchmarking in inference only mode (inputs filling are not included in measurement loop).\n",
      "[ INFO ] First inference took 1.84 ms\n",
      "[Step 11/11] Dumping statistics report\n",
      "[ INFO ] Execution Devices:['CPU']\n",
      "[ INFO ] Count:            215568 iterations\n",
      "[ INFO ] Duration:         15001.81 ms\n",
      "[ INFO ] Latency:\n",
      "[ INFO ]    Median:        1.06 ms\n",
      "[ INFO ]    Average:       1.11 ms\n",
      "[ INFO ]    Min:           0.71 ms\n",
      "[ INFO ]    Max:           20.95 ms\n",
      "[ INFO ] Throughput:   14369.47 FPS\n"
     ]
    }
   ],
   "source": [
    "# Inference INT8 model (OpenVINO IR)\n",
    "!benchmark_app -m \"model/quantized_mobilenet_v2.xml\" -d CPU -api async -t 15"
   ]
  },
  {
   "cell_type": "markdown",
   "metadata": {},
   "source": [
    "## Compare results on four pictures"
   ]
  },
  {
   "cell_type": "code",
   "execution_count": 14,
   "metadata": {
    "tags": []
   },
   "outputs": [],
   "source": [
    "# Define all possible labels from the CIFAR10 dataset\n",
    "labels_names = [\"airplane\", \"automobile\", \"bird\", \"cat\", \"deer\", \"dog\", \"frog\", \"horse\", \"ship\", \"truck\"]\n",
    "all_pictures = []\n",
    "all_labels = []\n",
    "\n",
    "# Get all pictures and their labels.\n",
    "for i, batch in enumerate(val_loader):\n",
    "    all_pictures.append(batch[0].numpy())\n",
    "    all_labels.append(batch[1].item())"
   ]
  },
  {
   "cell_type": "code",
   "execution_count": 15,
   "metadata": {
    "tags": []
   },
   "outputs": [],
   "source": [
    "import matplotlib.pyplot as plt\n",
    "\n",
    "def plot_pictures(indexes: list, all_pictures=all_pictures, all_labels=all_labels):\n",
    "    \"\"\"Plot 4 pictures.\n",
    "    :param indexes: a list of indexes of pictures to be displayed.\n",
    "    :param all_batches: batches with pictures.\n",
    "    \"\"\"\n",
    "    images, labels = [], []\n",
    "    num_pics = len(indexes)\n",
    "    assert num_pics == 4, f'No enough indexes for pictures to be displayed, got {num_pics}'\n",
    "    for idx in indexes:\n",
    "        assert idx < 10000, 'Cannot get such index, there are only 10000'\n",
    "        pic = np.rollaxis(all_pictures[idx].squeeze(), 0, 3)\n",
    "        images.append(pic)\n",
    "\n",
    "        labels.append(labels_names[all_labels[idx]])\n",
    "\n",
    "    f, axarr = plt.subplots(1, 4)\n",
    "    axarr[0].imshow(images[0])\n",
    "    axarr[0].set_title(labels[0])\n",
    "\n",
    "    axarr[1].imshow(images[1])\n",
    "    axarr[1].set_title(labels[1])\n",
    "\n",
    "    axarr[2].imshow(images[2])\n",
    "    axarr[2].set_title(labels[2])\n",
    "\n",
    "    axarr[3].imshow(images[3])\n",
    "    axarr[3].set_title(labels[3])"
   ]
  },
  {
   "cell_type": "code",
   "execution_count": 16,
   "metadata": {
    "tags": []
   },
   "outputs": [],
   "source": [
    "def infer_on_pictures(model, indexes: list, all_pictures=all_pictures):\n",
    "    \"\"\" Inference model on a few pictures.\n",
    "    :param net: model on which do inference\n",
    "    :param indexes: list of indexes \n",
    "    \"\"\"\n",
    "    output_key = model.output(0)\n",
    "    predicted_labels = []\n",
    "    for idx in indexes:\n",
    "        assert idx < 10000, 'Cannot get such index, there are only 10000'\n",
    "        result = model(all_pictures[idx])[output_key]\n",
    "        result = labels_names[np.argmax(result[0])]\n",
    "        predicted_labels.append(result)\n",
    "    return predicted_labels"
   ]
  },
  {
   "cell_type": "code",
   "execution_count": 17,
   "metadata": {
    "tags": []
   },
   "outputs": [
    {
     "name": "stderr",
     "output_type": "stream",
     "text": [
      "Clipping input data to the valid range for imshow with RGB data ([0..1] for floats or [0..255] for integers).\n",
      "Clipping input data to the valid range for imshow with RGB data ([0..1] for floats or [0..255] for integers).\n",
      "Clipping input data to the valid range for imshow with RGB data ([0..1] for floats or [0..255] for integers).\n",
      "Clipping input data to the valid range for imshow with RGB data ([0..1] for floats or [0..255] for integers).\n"
     ]
    },
    {
     "name": "stdout",
     "output_type": "stream",
     "text": [
      "Labels for picture from float model : ['frog', 'dog', 'ship', 'horse'].\n",
      "Labels for picture from quantized model : ['frog', 'dog', 'ship', 'horse'].\n"
     ]
    },
    {
     "data": {
      "image/png": "[encoded data removed]",
      "text/plain": [
       "<Figure size 640x480 with 4 Axes>"
      ]
     },
     "metadata": {},
     "output_type": "display_data"
    }
   ],
   "source": [
    "indexes_to_infer = [7, 12, 15, 20]  # To plot, specify 4 indexes.\n",
    "\n",
    "plot_pictures(indexes_to_infer)\n",
    "\n",
    "results_float = infer_on_pictures(compiled_model, indexes_to_infer)\n",
    "results_quanized = infer_on_pictures(optimized_compiled_model, indexes_to_infer)\n",
    "\n",
    "print(f\"Labels for picture from float model : {results_float}.\")\n",
    "print(f\"Labels for picture from quantized model : {results_quanized}.\")"
   ]
  }
 ],
 "metadata": {
  "colab": {
   "collapsed_sections": [],
   "name": "tutorial_tiny.ipynb",
   "private_outputs": true,
   "provenance": []
  },
  "kernelspec": {
   "display_name": "Python 3 (ipykernel)",
   "language": "python",
   "name": "python3"
  },
  "language_info": {
   "codemirror_mode": {
    "name": "ipython",
    "version": 3
   },
   "file_extension": ".py",
   "mimetype": "text/x-python",
   "name": "python",
   "nbconvert_exporter": "python",
   "pygments_lexer": "ipython3",
   "version": "3.8.10"
  },
  "vscode": {
   "interpreter": {
    "hash": "916dbcbb3f70747c44a77c7bcd40155683ae19c65e1c03b4aa3499c5328201f1"
   }
  }
 },
 "nbformat": 4,
 "nbformat_minor": 4
}
