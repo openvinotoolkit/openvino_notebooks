{
 "cells": [
  {
   "cell_type": "markdown",
   "metadata": {
    "id": "rQc-wXjqrEuR"
   },
   "source": [
    "# Quantization of Image Classification Models\n",
    "\n",
    "This tutorial demonstrates how to apply `INT8` quantization to Image Classification model using [Post-training Optimization Tool API](../../compression/api/README.md). It also assumes that OpenVINO™ is already installed and it uses the Mobilenet V2 model, trained on Cifar10 dataset. The code is designed to be extendable to custom models and datasets. \n",
    "\n",
    "This tutorial consists of the following steps:\n",
    "- Prepare the model for quantization.\n",
    "- Define a data loading and an accuracy validation functionality.\n",
    "- Run optimization pipeline.\n",
    "- Compare accuracy of the original and quantized models.\n",
    "- Compare performance of the original and quantized models.\n",
    "- Compare results on one picture.\n",
    "\n"
   ]
  },
  {
   "cell_type": "code",
   "execution_count": 1,
   "metadata": {
    "id": "4cSNQWdbSyeo"
   },
   "outputs": [
    {
     "name": "stderr",
     "output_type": "stream",
     "text": [
      "/home/ea/work/notebooks_env/lib/python3.8/site-packages/openvino/offline_transformations/__init__.py:10: FutureWarning: The module is private and following namespace `offline_transformations` will be removed in the future.\n",
      "  warnings.warn(\n"
     ]
    },
    {
     "name": "stdout",
     "output_type": "stream",
     "text": [
      "[ DEBUG ] Falling back to TensorFlow client; we recommended you install the Cloud TPU client directly with pip install cloud-tpu-client.\n",
      "[ DEBUG ] Creating converter from 7 to 5\n",
      "[ DEBUG ] Creating converter from 5 to 7\n",
      "[ DEBUG ] Creating converter from 7 to 5\n",
      "[ DEBUG ] Creating converter from 5 to 7\n"
     ]
    }
   ],
   "source": [
    "import os\n",
    "from pathlib import Path\n",
    "import sys\n",
    "\n",
    "import matplotlib.pyplot as plt\n",
    "import numpy as np\n",
    "from openvino.tools.pot.api import DataLoader, Metric\n",
    "from openvino.tools.pot.engines.ie_engine import IEEngine\n",
    "from openvino.tools.pot.graph import load_model, save_model\n",
    "from openvino.tools.pot.graph.model_utils import compress_model_weights\n",
    "from openvino.tools.pot.pipeline.initializer import create_pipeline\n",
    "from openvino.runtime import Core\n",
    "from torchvision import transforms\n",
    "from torchvision.datasets import CIFAR10"
   ]
  },
  {
   "cell_type": "code",
   "execution_count": 2,
   "metadata": {},
   "outputs": [],
   "source": [
    "# Set the data and model directories\n",
    "DATA_DIR = '../data/datasets/cifar10'\n",
    "MODEL_DIR = 'model'\n",
    "model_repo = 'pytorch-cifar-models'\n",
    "\n",
    "os.makedirs(DATA_DIR, exist_ok=True)\n",
    "os.makedirs(MODEL_DIR, exist_ok=True)"
   ]
  },
  {
   "cell_type": "markdown",
   "metadata": {
    "id": "D-frbVLKrkmv"
   },
   "source": [
    "## Prepare the Model\n",
    "Model preparation stage has the following steps:\n",
    "- Download a PyTorch model from Torchvision repository\n",
    "- Convert it to ONNX format\n",
    "- Run Model Optimizer to convert ONNX to OpenVINO Intermediate Representation (OpenVINO IR)\n",
    "\n"
   ]
  },
  {
   "cell_type": "code",
   "execution_count": 3,
   "metadata": {},
   "outputs": [],
   "source": [
    "if not Path(model_repo).exists():\n",
    "    !git clone https://github.com/chenyaofo/pytorch-cifar-models.git\n",
    "\n",
    "sys.path.append(model_repo)"
   ]
  },
  {
   "cell_type": "code",
   "execution_count": 4,
   "metadata": {},
   "outputs": [],
   "source": [
    "from pytorch_cifar_models import cifar10_mobilenetv2_x1_0\n",
    "\n",
    "model = cifar10_mobilenetv2_x1_0(pretrained=True)"
   ]
  },
  {
   "cell_type": "code",
   "execution_count": 5,
   "metadata": {
    "id": "f7i6dWUmhloy"
   },
   "outputs": [
    {
     "name": "stdout",
     "output_type": "stream",
     "text": [
      "[ INFO ] The model was converted to IR v11, the latest model format that corresponds to the source DL framework input/output format. While IR v11 is backwards compatible with OpenVINO Inference Engine API v1.0, please use API v2.0 (as of 2022.1) to take advantage of the latest improvements in IR v11.\n",
      "Find more information about API v2.0 and IR v11 at  https://docs.openvino.ai/2023.0/openvino_2_0_transition_guide.html\n",
      "[ SUCCESS ] Generated IR version 11 model.\n",
      "[ SUCCESS ] XML file: /home/ea/work/openvino_notebooks/notebooks/113-image-classification-quantization/model/mobilenet_v2.xml\n",
      "[ SUCCESS ] BIN file: /home/ea/work/openvino_notebooks/notebooks/113-image-classification-quantization/model/mobilenet_v2.bin\n"
     ]
    }
   ],
   "source": [
    "import torch\n",
    "\n",
    "model.eval()\n",
    "\n",
    "dummy_input = torch.randn(1, 3, 32, 32)\n",
    "\n",
    "onnx_model_path = Path(MODEL_DIR) / 'mobilenet_v2.onnx'\n",
    "ir_model_xml = onnx_model_path.with_suffix('.xml')\n",
    "ir_model_bin = onnx_model_path.with_suffix('.bin')\n",
    "\n",
    "torch.onnx.export(model, dummy_input, onnx_model_path)\n",
    "\n",
    "# Run Model Optimizer to convert ONNX to OpenVINO IR.\n",
    "!mo --compress_to_fp16 -m $onnx_model_path  --output_dir $MODEL_DIR"
   ]
  },
  {
   "cell_type": "markdown",
   "metadata": {
    "id": "ynLvh8rNc2wv"
   },
   "source": [
    "## Define Data Loader\n",
    "In this step, the `DataLoader` interface from POT API is implemented."
   ]
  },
  {
   "cell_type": "code",
   "execution_count": 6,
   "metadata": {},
   "outputs": [
    {
     "name": "stdout",
     "output_type": "stream",
     "text": [
      "Files already downloaded and verified\n"
     ]
    }
   ],
   "source": [
    "transform = transforms.Compose([transforms.ToTensor(), transforms.Normalize((0.4914, 0.4822, 0.4465), (0.247, 0.243, 0.261))])\n",
    "dataset = CIFAR10(root=DATA_DIR, train=False, transform=transform, download=True)"
   ]
  },
  {
   "cell_type": "code",
   "execution_count": 7,
   "metadata": {
    "id": "DErQofk8tO6c",
    "test_replace": {
     "len(self.dataset)": "100"
    }
   },
   "outputs": [],
   "source": [
    "# Create a DataLoader from a CIFAR10 dataset.\n",
    "class CifarDataLoader(DataLoader):\n",
    "\n",
    "    def __init__(self, config):\n",
    "        \"\"\"\n",
    "        Initialize config and dataset.\n",
    "        :param config: created config with DATA_DIR path.\n",
    "        \"\"\"\n",
    "        super().__init__(config)\n",
    "        self.dataset = dataset\n",
    "        \n",
    "    def __len__(self):\n",
    "        return len(self.dataset)\n",
    "\n",
    "    def __getitem__(self, index):\n",
    "        \"\"\"\n",
    "        Return one sample of index, label and picture.\n",
    "        :param index: index of the taken sample.\n",
    "        \"\"\"\n",
    "        image, label = self.dataset[index]\n",
    "        return (index, label), image.numpy()\n",
    "\n",
    "    def load_data(self, dataset):\n",
    "        \"\"\"\n",
    "        Load dataset in needed format. \n",
    "        :param dataset:  downloaded dataset.\n",
    "        \"\"\"\n",
    "        pictures, labels, indexes = [], [], []\n",
    "        \n",
    "        for idx, sample in enumerate(dataset):\n",
    "            pictures.append(sample[0])\n",
    "            labels.append(sample[1])\n",
    "            indexes.append(idx)\n",
    "\n",
    "        return indexes, pictures, labels"
   ]
  },
  {
   "cell_type": "markdown",
   "metadata": {
    "id": "Re9-YhbBddh3"
   },
   "source": [
    "## Define Accuracy Metric Calculation\n",
    "In this step, the `Metric` interface for accuracy Top-1 metric is implemented. It is used for validating accuracy of quantized model."
   ]
  },
  {
   "cell_type": "code",
   "execution_count": 8,
   "metadata": {
    "id": "GB8L492ztZEC"
   },
   "outputs": [],
   "source": [
    "# Custom implementation of classification accuracy metric.\n",
    "\n",
    "class Accuracy(Metric):\n",
    "\n",
    "    # Required methods\n",
    "    def __init__(self, top_k=1):\n",
    "        super().__init__()\n",
    "        self._top_k = top_k\n",
    "        self._name = 'accuracy@top{}'.format(self._top_k)\n",
    "        self._matches = []\n",
    "\n",
    "    @property\n",
    "    def value(self):\n",
    "        \"\"\" Returns accuracy metric value for the last model output. \"\"\"\n",
    "        return {self._name: self._matches[-1]}\n",
    "\n",
    "    @property\n",
    "    def avg_value(self):\n",
    "        \"\"\" Returns accuracy metric value for all model outputs. \"\"\"\n",
    "        return {self._name: np.ravel(self._matches).mean()}\n",
    "\n",
    "    def update(self, output, target):\n",
    "        \"\"\" Updates prediction matches.\n",
    "        :param output: model output\n",
    "        :param target: annotations\n",
    "        \"\"\"\n",
    "        if len(output) > 1:\n",
    "            raise Exception('The accuracy metric cannot be calculated '\n",
    "                            'for a model with multiple outputs')\n",
    "        if isinstance(target, dict):\n",
    "            target = list(target.values())\n",
    "        predictions = np.argsort(output[0], axis=1)[:, -self._top_k:]\n",
    "        match = [float(t in predictions[i]) for i, t in enumerate(target)]\n",
    "\n",
    "        self._matches.append(match)\n",
    "\n",
    "    def reset(self):\n",
    "        \"\"\" Resets collected matches \"\"\"\n",
    "        self._matches = []\n",
    "\n",
    "    def get_attributes(self):\n",
    "        \"\"\"\n",
    "        Returns a dictionary of metric attributes {metric_name: {attribute_name: value}}.\n",
    "        Required attributes: 'direction': 'higher-better' or 'higher-worse'\n",
    "                             'type': metric type\n",
    "        \"\"\"\n",
    "        return {self._name: {'direction': 'higher-better',\n",
    "                             'type': 'accuracy'}}"
   ]
  },
  {
   "attachments": {},
   "cell_type": "markdown",
   "metadata": {
    "id": "CclWk-fVd9Wi"
   },
   "source": [
    "## Run Quantization Pipeline and compare the accuracy of the original and quantized models\n",
    "In this step, define a configuration for the quantization pipeline and run it.\n",
    "\n",
    "> **NOTE**: Use built-in `IEEngine` implementation of the `Engine` interface from the POT API for model inference. `IEEngine` is built on top of OpenVINO Python API for inference and provides basic functionality for inference of simple models. If you have a more complicated inference flow for your model/models, you should create your own implementation of `Engine` interface, for example, by inheriting from `IEEngine` and extending it."
   ]
  },
  {
   "cell_type": "code",
   "execution_count": 9,
   "metadata": {
    "id": "PiAvrwo0tr6Z"
   },
   "outputs": [
    {
     "name": "stdout",
     "output_type": "stream",
     "text": [
      "Accuracy of the original model: accuracy@top1: 0.9353\n",
      "Accuracy of the optimized model: accuracy@top1: 0.9353\n"
     ]
    }
   ],
   "source": [
    "model_config = {\n",
    "    'model_name': 'mobilenet_v2',\n",
    "    'model': ir_model_xml,\n",
    "    'weights': ir_model_bin\n",
    "}\n",
    "engine_config = {'device': 'CPU'}\n",
    "dataset_config = {\n",
    "    'data_source': DATA_DIR\n",
    "}\n",
    "algorithms = [\n",
    "    {\n",
    "        'name': 'DefaultQuantization',\n",
    "        'params': {\n",
    "            'target_device': 'CPU',\n",
    "            'preset': 'performance',\n",
    "            'stat_subset_size': 300\n",
    "        }\n",
    "    }\n",
    "]\n",
    "\n",
    "# Steps 1-7: Model optimization\n",
    "# Step 1: Load the model.\n",
    "model = load_model(model_config)\n",
    "\n",
    "# Step 2: Initialize the data loader.\n",
    "data_loader = CifarDataLoader(dataset_config)\n",
    "\n",
    "# Step 3 (Optional. Required for AccuracyAwareQuantization): Initialize the metric.\n",
    "metric = Accuracy(top_k=1)\n",
    "\n",
    "# Step 4: Initialize the engine for metric calculation and statistics collection.\n",
    "engine = IEEngine(engine_config, data_loader, metric)\n",
    "\n",
    "# Step 5: Create a pipeline of compression algorithms.\n",
    "pipeline = create_pipeline(algorithms, engine)\n",
    "\n",
    "# Step 6: Execute the pipeline.\n",
    "compressed_model = pipeline.run(model)\n",
    "\n",
    "# Step 7 (Optional): Compress model weights quantized precision\n",
    "#                    in order to reduce the size of final .bin file.\n",
    "compress_model_weights(compressed_model)\n",
    "\n",
    "# Step 8: Save the compressed model to the desired path.\n",
    "compressed_model_paths = save_model(model=compressed_model, save_path=MODEL_DIR, model_name=\"quantized_mobilenet_v2\"\n",
    ")\n",
    "compressed_model_xml = compressed_model_paths[0][\"model\"]\n",
    "compressed_model_bin = Path(compressed_model_paths[0][\"model\"]).with_suffix(\".bin\")\n",
    "\n",
    "# Step 9: Compare accuracy of the original and quantized models.\n",
    "metric_results = pipeline.evaluate(model)\n",
    "if metric_results:\n",
    "    for name, value in metric_results.items():\n",
    "        print(f\"Accuracy of the original model: {name}: {value}\")\n",
    "\n",
    "metric_results = pipeline.evaluate(compressed_model)\n",
    "if metric_results:\n",
    "    for name, value in metric_results.items():\n",
    "        print(f\"Accuracy of the optimized model: {name}: {value}\")"
   ]
  },
  {
   "attachments": {},
   "cell_type": "markdown",
   "metadata": {
    "id": "vQACMfAUo52V"
   },
   "source": [
    "## Compare Performance of the Original and Quantized Models\n",
    "\n",
    "Finally, measure the inference performance of the `FP32` and `INT8` models, using [Benchmark Tool](https://docs.openvino.ai/2023.0/openvino_inference_engine_tools_benchmark_tool_README.html) - an inference performance measurement tool in OpenVINO.\n",
    "\n",
    "> **NOTE**: For more accurate performance, it is recommended to run benchmark_app in a terminal/command prompt after closing other applications. Run `benchmark_app -m model.xml -d CPU` to benchmark async inference on CPU for one minute. Change CPU to GPU to benchmark on GPU. Run `benchmark_app --help` to see an overview of all command-line options.\n"
   ]
  },
  {
   "cell_type": "code",
   "execution_count": 10,
   "metadata": {
    "id": "pC0gnO0c9-tI"
   },
   "outputs": [
    {
     "name": "stdout",
     "output_type": "stream",
     "text": [
      "[Step 1/11] Parsing and validating input arguments\n",
      "[ INFO ] Parsing input parameters\n",
      "[Step 2/11] Loading OpenVINO Runtime\n",
      "[ INFO ] OpenVINO:\n",
      "[ INFO ] Build ................................. 2023.0.0-9771-d7f47aa1228\n",
      "[ INFO ] \n",
      "[ INFO ] Device info:\n",
      "[ INFO ] CPU\n",
      "[ INFO ] Build ................................. 2023.0.0-9771-d7f47aa1228\n",
      "[ INFO ] \n",
      "[ INFO ] \n",
      "[Step 3/11] Setting device configuration\n",
      "[ WARNING ] Performance hint was not explicitly specified in command line. Device(CPU) performance hint will be set to THROUGHPUT.\n",
      "[Step 4/11] Reading model files\n",
      "[ INFO ] Loading model files\n",
      "[ INFO ] Read model took 24.41 ms\n",
      "[ INFO ] Original model I/O parameters:\n",
      "[ INFO ] Model inputs:\n",
      "[ INFO ]     input.1 (node: input.1) : f32 / [...] / [1,3,32,32]\n",
      "[ INFO ] Model outputs:\n",
      "[ INFO ]     536 (node: 536) : f32 / [...] / [1,10]\n",
      "[Step 5/11] Resizing model to match image sizes and given batch\n",
      "[ INFO ] Model batch size: 1\n",
      "[Step 6/11] Configuring input of the model\n",
      "[ INFO ] Model inputs:\n",
      "[ INFO ]     input.1 (node: input.1) : u8 / [N,C,H,W] / [1,3,32,32]\n",
      "[ INFO ] Model outputs:\n",
      "[ INFO ]     536 (node: 536) : f32 / [...] / [1,10]\n",
      "[Step 7/11] Loading the model to the device\n",
      "[ INFO ] Compile model took 189.23 ms\n",
      "[Step 8/11] Querying optimal runtime parameters\n",
      "[ INFO ] Model:\n",
      "[ INFO ]   NETWORK_NAME: torch_jit\n",
      "[ INFO ]   OPTIMAL_NUMBER_OF_INFER_REQUESTS: 18\n",
      "[ INFO ]   NUM_STREAMS: 18\n",
      "[ INFO ]   AFFINITY: Affinity.CORE\n",
      "[ INFO ]   INFERENCE_NUM_THREADS: 36\n",
      "[ INFO ]   PERF_COUNT: False\n",
      "[ INFO ]   INFERENCE_PRECISION_HINT: <Type: 'float32'>\n",
      "[ INFO ]   PERFORMANCE_HINT: PerformanceMode.THROUGHPUT\n",
      "[ INFO ]   PERFORMANCE_HINT_NUM_REQUESTS: 0\n",
      "[ INFO ]   EXECUTION_DEVICES: ['CPU']\n",
      "[Step 9/11] Creating infer requests and preparing input tensors\n",
      "[ WARNING ] No input files were given for input 'input.1'!. This input will be filled with random values!\n",
      "[ INFO ] Fill input 'input.1' with random values \n",
      "[Step 10/11] Measuring performance (Start inference asynchronously, 18 inference requests, limits: 60000 ms duration)\n",
      "[ INFO ] Benchmarking in inference only mode (inputs filling are not included in measurement loop).\n",
      "[ INFO ] First inference took 3.16 ms\n",
      "[Step 11/11] Dumping statistics report\n",
      "[ INFO ] Execution Devices:['CPU']\n",
      "[ INFO ] Count:            351882 iterations\n",
      "[ INFO ] Duration:         60001.76 ms\n",
      "[ INFO ] Latency:\n",
      "[ INFO ]    Median:        2.23 ms\n",
      "[ INFO ]    Average:       2.86 ms\n",
      "[ INFO ]    Min:           1.21 ms\n",
      "[ INFO ]    Max:           33.69 ms\n",
      "[ INFO ] Throughput:   5864.53 FPS\n"
     ]
    }
   ],
   "source": [
    "# Inference FP16 model (OpenVINO IR)\n",
    "!benchmark_app -m $ir_model_xml -d CPU -api async"
   ]
  },
  {
   "cell_type": "code",
   "execution_count": 11,
   "metadata": {
    "id": "4VR3-joFu9hH"
   },
   "outputs": [
    {
     "name": "stdout",
     "output_type": "stream",
     "text": [
      "[Step 1/11] Parsing and validating input arguments\n",
      "[ INFO ] Parsing input parameters\n",
      "[Step 2/11] Loading OpenVINO Runtime\n",
      "[ INFO ] OpenVINO:\n",
      "[ INFO ] Build ................................. 2023.0.0-9771-d7f47aa1228\n",
      "[ INFO ] \n",
      "[ INFO ] Device info:\n",
      "[ INFO ] CPU\n",
      "[ INFO ] Build ................................. 2023.0.0-9771-d7f47aa1228\n",
      "[ INFO ] \n",
      "[ INFO ] \n",
      "[Step 3/11] Setting device configuration\n",
      "[ WARNING ] Performance hint was not explicitly specified in command line. Device(CPU) performance hint will be set to THROUGHPUT.\n",
      "[Step 4/11] Reading model files\n",
      "[ INFO ] Loading model files\n",
      "[ INFO ] Read model took 23.71 ms\n",
      "[ INFO ] Original model I/O parameters:\n",
      "[ INFO ] Model inputs:\n",
      "[ INFO ]     input.1 (node: input.1) : f32 / [...] / [1,3,32,32]\n",
      "[ INFO ] Model outputs:\n",
      "[ INFO ]     536 (node: 536) : f32 / [...] / [1,10]\n",
      "[Step 5/11] Resizing model to match image sizes and given batch\n",
      "[ INFO ] Model batch size: 1\n",
      "[Step 6/11] Configuring input of the model\n",
      "[ INFO ] Model inputs:\n",
      "[ INFO ]     input.1 (node: input.1) : u8 / [N,C,H,W] / [1,3,32,32]\n",
      "[ INFO ] Model outputs:\n",
      "[ INFO ]     536 (node: 536) : f32 / [...] / [1,10]\n",
      "[Step 7/11] Loading the model to the device\n",
      "[ INFO ] Compile model took 297.91 ms\n",
      "[Step 8/11] Querying optimal runtime parameters\n",
      "[ INFO ] Model:\n",
      "[ INFO ]   NETWORK_NAME: torch_jit\n",
      "[ INFO ]   OPTIMAL_NUMBER_OF_INFER_REQUESTS: 18\n",
      "[ INFO ]   NUM_STREAMS: 18\n",
      "[ INFO ]   AFFINITY: Affinity.CORE\n",
      "[ INFO ]   INFERENCE_NUM_THREADS: 36\n",
      "[ INFO ]   PERF_COUNT: False\n",
      "[ INFO ]   INFERENCE_PRECISION_HINT: <Type: 'float32'>\n",
      "[ INFO ]   PERFORMANCE_HINT: PerformanceMode.THROUGHPUT\n",
      "[ INFO ]   PERFORMANCE_HINT_NUM_REQUESTS: 0\n",
      "[ INFO ]   EXECUTION_DEVICES: ['CPU']\n",
      "[Step 9/11] Creating infer requests and preparing input tensors\n",
      "[ WARNING ] No input files were given for input 'input.1'!. This input will be filled with random values!\n",
      "[ INFO ] Fill input 'input.1' with random values \n",
      "[Step 10/11] Measuring performance (Start inference asynchronously, 18 inference requests, limits: 60000 ms duration)\n",
      "[ INFO ] Benchmarking in inference only mode (inputs filling are not included in measurement loop).\n",
      "[ INFO ] First inference took 1.69 ms\n",
      "[Step 11/11] Dumping statistics report\n",
      "[ INFO ] Execution Devices:['CPU']\n",
      "[ INFO ] Count:            875934 iterations\n",
      "[ INFO ] Duration:         60007.00 ms\n",
      "[ INFO ] Latency:\n",
      "[ INFO ]    Median:        1.01 ms\n",
      "[ INFO ]    Average:       1.07 ms\n",
      "[ INFO ]    Min:           0.66 ms\n",
      "[ INFO ]    Max:           24.71 ms\n",
      "[ INFO ] Throughput:   14597.20 FPS\n"
     ]
    }
   ],
   "source": [
    "# Inference INT8 model (OpenVINO IR)\n",
    "!benchmark_app -m $compressed_model_xml -d CPU -api async"
   ]
  },
  {
   "cell_type": "markdown",
   "metadata": {},
   "source": [
    "## Compare results on four pictures."
   ]
  },
  {
   "cell_type": "code",
   "execution_count": 12,
   "metadata": {},
   "outputs": [],
   "source": [
    "ie = Core()\n",
    "\n",
    "# Read and load a float model.\n",
    "float_model = ie.read_model(\n",
    "    model=ir_model_xml, weights=ir_model_bin\n",
    ")\n",
    "float_compiled_model = ie.compile_model(model=float_model, device_name=\"CPU\")\n",
    "\n",
    "# Read and load a quantized model.\n",
    "quantized_model = ie.read_model(\n",
    "    model=compressed_model_xml, weights=compressed_model_bin\n",
    ")\n",
    "quantized_compiled_model = ie.compile_model(model=quantized_model, device_name=\"CPU\")"
   ]
  },
  {
   "cell_type": "code",
   "execution_count": 13,
   "metadata": {},
   "outputs": [],
   "source": [
    "# Define all possible labels from the CIFAR10 dataset.\n",
    "labels_names = [\"airplane\", \"automobile\", \"bird\", \"cat\", \"deer\", \"dog\", \"frog\", \"horse\", \"ship\", \"truck\"]\n",
    "all_pictures = []\n",
    "all_labels = []\n",
    "\n",
    "# Get all pictures and their labels.\n",
    "for i, batch in enumerate(data_loader):\n",
    "    all_pictures.append(batch[1])\n",
    "    all_labels.append(batch[0][1])"
   ]
  },
  {
   "cell_type": "code",
   "execution_count": 14,
   "metadata": {},
   "outputs": [],
   "source": [
    "def plot_pictures(indexes: list, all_pictures=all_pictures, all_labels=all_labels):\n",
    "    \"\"\"Plot 4 pictures.\n",
    "    :param indexes: a list of indexes of pictures to be displayed.\n",
    "    :param all_batches: batches with pictures.\n",
    "    \"\"\"\n",
    "    images, labels = [], []\n",
    "    num_pics = len(indexes)\n",
    "    assert num_pics == 4, f'No enough indexes for pictures to be displayed, got {num_pics}'\n",
    "    for idx in indexes:\n",
    "        assert idx < 10000, 'Cannot get such index, there are only 10000'\n",
    "        pic = np.rollaxis(all_pictures[idx].squeeze(), 0, 3)\n",
    "        images.append(pic)\n",
    "\n",
    "        labels.append(labels_names[all_labels[idx]])\n",
    "\n",
    "    f, axarr = plt.subplots(1, 4)\n",
    "    axarr[0].imshow(images[0])\n",
    "    axarr[0].set_title(labels[0])\n",
    "\n",
    "    axarr[1].imshow(images[1])\n",
    "    axarr[1].set_title(labels[1])\n",
    "\n",
    "    axarr[2].imshow(images[2])\n",
    "    axarr[2].set_title(labels[2])\n",
    "\n",
    "    axarr[3].imshow(images[3])\n",
    "    axarr[3].set_title(labels[3])"
   ]
  },
  {
   "cell_type": "code",
   "execution_count": 26,
   "metadata": {},
   "outputs": [],
   "source": [
    "from openvino.runtime import Tensor\n",
    "\n",
    "def infer_on_pictures(model, indexes: list, all_pictures=all_pictures):\n",
    "    \"\"\" Inference model on a few pictures.\n",
    "    :param net: model on which do inference\n",
    "    :param indexes: list of indexes \n",
    "    \"\"\"\n",
    "    output_key = model.output(0)\n",
    "    predicted_labels = []\n",
    "    for idx in indexes:\n",
    "        assert idx < 10000, 'Cannot get such index, there are only 10000'\n",
    "        result = model(Tensor(all_pictures[idx][None,]))[output_key]\n",
    "        result = labels_names[np.argmax(result[0])]\n",
    "        predicted_labels.append(result)\n",
    "    return predicted_labels"
   ]
  },
  {
   "cell_type": "code",
   "execution_count": 27,
   "metadata": {
    "tags": []
   },
   "outputs": [
    {
     "name": "stdout",
     "output_type": "stream",
     "text": [
      "Labels for picture from float model : ['frog', 'dog', 'ship', 'horse'].\n",
      "Labels for picture from quantized model : ['frog', 'dog', 'ship', 'horse'].\n"
     ]
    },
    {
     "data": {
      "image/png": "[encoded data removed]",
      "text/plain": [
       "<Figure size 640x480 with 4 Axes>"
      ]
     },
     "metadata": {},
     "output_type": "display_data"
    }
   ],
   "source": [
    "indexes_to_infer = [7, 12, 15, 20]  # To plot, specify 4 indexes.\n",
    "\n",
    "plot_pictures(indexes_to_infer)\n",
    "\n",
    "results_float = infer_on_pictures(float_compiled_model, indexes_to_infer)\n",
    "results_quanized = infer_on_pictures(quantized_compiled_model, indexes_to_infer)\n",
    "\n",
    "print(f\"Labels for picture from float model : {results_float}.\")\n",
    "print(f\"Labels for picture from quantized model : {results_quanized}.\")"
   ]
  }
 ],
 "metadata": {
  "colab": {
   "collapsed_sections": [],
   "name": "tutorial_tiny.ipynb",
   "private_outputs": true,
   "provenance": []
  },
  "kernelspec": {
   "display_name": "Python 3 (ipykernel)",
   "language": "python",
   "name": "python3"
  },
  "language_info": {
   "codemirror_mode": {
    "name": "ipython",
    "version": 3
   },
   "file_extension": ".py",
   "mimetype": "text/x-python",
   "name": "python",
   "nbconvert_exporter": "python",
   "pygments_lexer": "ipython3",
   "version": "3.8.10"
  },
  "vscode": {
   "interpreter": {
    "hash": "916dbcbb3f70747c44a77c7bcd40155683ae19c65e1c03b4aa3499c5328201f1"
   }
  }
 },
 "nbformat": 4,
 "nbformat_minor": 4
}
