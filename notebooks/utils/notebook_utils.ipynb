{
 "cells": [
  {
   "cell_type": "markdown",
   "id": "2b1bc29e-704b-4ccd-9f14-d33ac52fedc2",
   "metadata": {
    "tags": [
     "hide"
    ]
   },
   "source": [
    "# Notebook Utils\n",
    "\n",
    "This notebook contains helper functions and classes for use with OpenVINO Notebooks. The code is synchronized with the `notebook_utils.py` file in the same directory as this notebook.\n",
    "\n",
    "There are four categories:\n",
    "\n",
    "- [Files](#Files)\n",
    "- [Images](#Images)\n",
    "- [Visualization](#Visualization)\n",
    "- [Checks and Alerts](#Checks-and-Alerts)\n",
    "\n",
    "Each category contains a test cell that also shows how to use the functions in the section. "
   ]
  },
  {
   "cell_type": "code",
   "execution_count": null,
   "id": "5c7e5ecb-cd72-4b58-ad38-b5c543612284",
   "metadata": {},
   "outputs": [],
   "source": [
    "import os\n",
    "import shutil\n",
    "import urllib\n",
    "import urllib.parse\n",
    "import urllib.request\n",
    "from os import PathLike\n",
    "from pathlib import Path\n",
    "from typing import List, NamedTuple, Optional, Tuple\n",
    "\n",
    "import cv2\n",
    "import matplotlib\n",
    "import matplotlib.pyplot as plt\n",
    "import numpy as np\n",
    "import openvino.inference_engine\n",
    "from IPython.display import HTML, ProgressBar, clear_output, display\n",
    "from matplotlib.lines import Line2D\n",
    "from openvino.inference_engine import IECore"
   ]
  },
  {
   "cell_type": "markdown",
   "id": "febfb3e3-f9ef-4cdc-9b2c-e390092b8f72",
   "metadata": {},
   "source": [
    "## Files\n",
    "\n",
    "Load an image, download a file, download an IR model, and create a progress bar to show download progress."
   ]
  },
  {
   "cell_type": "code",
   "execution_count": null,
   "id": "1972c2f8-0c3d-49b5-8538-ab517890680e",
   "metadata": {},
   "outputs": [],
   "source": [
    "def load_image(path: str) -> np.ndarray:\n",
    "    \"\"\"\n",
    "    Loads an image from `path` and returns it as BGR numpy array. `path`\n",
    "    should point to an image file, either a local filename or a url. The image is\n",
    "    not stored to the filesystem. Use the `download_file` function to download and\n",
    "    store an image.\n",
    "\n",
    "    :param path: Local path name or URL to image.\n",
    "    :return: image as BGR numpy array\n",
    "    \"\"\"\n",
    "    if path.startswith(\"http\"):\n",
    "        # Set User-Agent to Mozilla because some websites block\n",
    "        # requests with User-Agent Python\n",
    "        request = urllib.request.Request(path, headers={\"User-Agent\": \"Mozilla/5.0\"})\n",
    "        response = urllib.request.urlopen(request)\n",
    "        array = np.asarray(bytearray(response.read()), dtype=\"uint8\")\n",
    "        image = cv2.imdecode(array, -1)  # Loads the image as BGR\n",
    "    else:\n",
    "        image = cv2.imread(path)\n",
    "    return image\n",
    "\n",
    "\n",
    "class DownloadProgressBar:\n",
    "    \"\"\"\n",
    "    IPython Progress bar for downloading files with urllib.request.urlretrieve\n",
    "\n",
    "    :param filename: Filename of the file that is being downloaded. Used for displaying only.\n",
    "    \"\"\"\n",
    "\n",
    "    def __init__(self, filename: str):\n",
    "        self.progress_bar = None\n",
    "        self.filename = filename\n",
    "\n",
    "    def __call__(self, block_num, block_size, total_size):\n",
    "        try:\n",
    "            if not self.progress_bar and block_num == 0:\n",
    "                print(f\"Downloading {self.filename}...\")\n",
    "                self.progress_bar = ProgressBar(total=total_size)\n",
    "                self.progress_bar.display()\n",
    "\n",
    "            downloaded = block_num * block_size\n",
    "            if downloaded < total_size:\n",
    "                if block_num % 20 == 0:\n",
    "                    # Update progress bar after 20 blocks have been received\n",
    "                    self.progress_bar.progress = downloaded\n",
    "                    self.progress_bar.update()\n",
    "            else:\n",
    "                clear_output()\n",
    "                print(f\"Downloaded {self.filename}\")\n",
    "        except Exception:\n",
    "            # Do not fail the download just because the progress bar does not work\n",
    "            pass\n",
    "\n",
    "\n",
    "def download_file(\n",
    "    url: PathLike,\n",
    "    filename: PathLike = None,\n",
    "    directory: PathLike = None,\n",
    "    show_progress: bool = True,\n",
    "    silent: bool = False,\n",
    ") -> str:\n",
    "    \"\"\"\n",
    "    Download a file from a url and save it to the local filesystem. The file is saved to the\n",
    "    current directory by default, or to `directory` if specified. If a filename is not given,\n",
    "    the filename of the URL will be used.\n",
    "\n",
    "    :param url: URL that points to the file to download\n",
    "    :param filename: Name of the local file to save. Should point to the name of the file only,\n",
    "                     not the full path. If None the filename from the url will be used\n",
    "    :param directory: Directory to save the file to. Will be created if it doesn't exist\n",
    "                      If None the file will be saved to the current working directory\n",
    "    :param show_progress: If True, show an IPython ProgressBar\n",
    "    :param silent: If True, do not print a message if the file already exists\n",
    "    :return: path to downloaded file\n",
    "    \"\"\"\n",
    "    try:\n",
    "        opener = urllib.request.build_opener()\n",
    "        opener.addheaders = [(\"User-agent\", \"Mozilla/5.0\")]\n",
    "        urllib.request.install_opener(opener)\n",
    "        urlobject = urllib.request.urlopen(url)\n",
    "        if filename is None:\n",
    "            filename = urlobject.info().get_filename() or Path(urllib.parse.urlparse(url).path).name\n",
    "    except urllib.error.HTTPError as e:\n",
    "        raise Exception(f\"File downloading failed with error: {e.code} {e.msg}\") from None\n",
    "    filename = Path(filename)\n",
    "    if len(filename.parts) > 1:\n",
    "        raise ValueError(\n",
    "            \"`filename` should refer to the name of the file, excluding the directory. \"\n",
    "            \"Use the `directory` parameter to specify a target directory for the downloaded file.\"\n",
    "        )\n",
    "\n",
    "    # create the directory if it does not exist, and add the directory to the filename\n",
    "    if directory is not None:\n",
    "        directory = Path(directory)\n",
    "        directory.mkdir(parents=True, exist_ok=True)\n",
    "        filename = directory / Path(filename)\n",
    "\n",
    "    # download the file if it does not exist, or if it exists with an incorrect file size\n",
    "    urlobject_size = urlobject_size = int(urlobject.info().get(\"Content-Length\", 0))\n",
    "    if not filename.exists() or (os.stat(filename).st_size != urlobject_size):\n",
    "        progress_callback = DownloadProgressBar(filename) if show_progress else None\n",
    "        urllib.request.urlretrieve(url, filename, progress_callback)\n",
    "    else:\n",
    "        if not silent:\n",
    "            print(f\"'{filename}' already exists.\")\n",
    "    return filename.resolve()\n",
    "\n",
    "\n",
    "def download_ir_model(model_xml_url: str, destination_folder: str = None) -> str:\n",
    "    \"\"\"\n",
    "    Download IR model from `model_xml_url`. Downloads model xml and bin file; the weights file is\n",
    "    assumed to exist at the same location and name as model_xml_url with a \".bin\" extension.\n",
    "\n",
    "    :param model_xml_url: URL to model xml file to download\n",
    "    :param destination_folder: Directory where downloaded model xml and bin are saved. If None, model\n",
    "                               files are saved to the current directory\n",
    "    :return: path to downloaded xml model file\n",
    "    \"\"\"\n",
    "    model_bin_url = model_xml_url[:-4] + \".bin\"\n",
    "    model_xml_path = download_file(model_xml_url, directory=destination_folder, show_progress=False)\n",
    "    download_file(model_bin_url, directory=destination_folder)\n",
    "    return model_xml_path"
   ]
  },
  {
   "cell_type": "markdown",
   "id": "2bb8148c-f077-46b9-94f8-6883eb68d6e9",
   "metadata": {
    "tags": [
     "hide"
    ]
   },
   "source": [
    "### Test File Functions"
   ]
  },
  {
   "cell_type": "code",
   "execution_count": null,
   "id": "9b9977f6-2a69-4687-81a0-d46b4337ff84",
   "metadata": {
    "tags": [
     "hide"
    ]
   },
   "outputs": [],
   "source": [
    "model_url = \"https://github.com/openvinotoolkit/openvino_notebooks/raw/main/notebooks/002-openvino-api/model/segmentation.xml\"\n",
    "download_ir_model(model_url, \"model\")\n",
    "\n",
    "assert os.path.exists(\"model/segmentation.xml\")\n",
    "assert os.path.exists(\"model/segmentation.bin\")"
   ]
  },
  {
   "cell_type": "code",
   "execution_count": null,
   "id": "ea1f7f83-a305-47e2-ad76-8e1615c42e83",
   "metadata": {
    "tags": [
     "hide"
    ]
   },
   "outputs": [],
   "source": [
    "url = \"https://github.com/intel-iot-devkit/safety-gear-detector-python/raw/master/resources/Safety_Full_Hat_and_Vest.mp4\"\n",
    "if os.path.exists(os.path.basename(url)):\n",
    "    os.remove(os.path.basename(url))\n",
    "video_file = download_file(url)\n",
    "print(video_file)\n",
    "assert Path(video_file).exists()"
   ]
  },
  {
   "cell_type": "code",
   "execution_count": null,
   "id": "575fb9a3-c042-43e1-a5f6-9907d9196273",
   "metadata": {
    "tags": [
     "hide"
    ]
   },
   "outputs": [],
   "source": [
    "url = \"https://raw.githubusercontent.com/openvinotoolkit/openvino_notebooks/main/README.md\"\n",
    "filename = \"openvino_notebooks_readme.md\"\n",
    "if os.path.exists(filename):\n",
    "    os.remove(filename)\n",
    "readme_file = download_file(url, filename=filename)\n",
    "print(readme_file)\n",
    "assert Path(readme_file).exists()"
   ]
  },
  {
   "cell_type": "code",
   "execution_count": null,
   "id": "ddf11cf7-22dd-4f51-a727-962c5bf52e07",
   "metadata": {
    "tags": [
     "hide"
    ]
   },
   "outputs": [],
   "source": [
    "url = \"https://raw.githubusercontent.com/openvinotoolkit/openvino_notebooks/main/README.md\"\n",
    "filename = \"openvino_notebooks_readme.md\"\n",
    "directory = \"temp\"\n",
    "video_file = download_file(\n",
    "    url, filename=filename, directory=directory, show_progress=False, silent=True\n",
    ")\n",
    "print(readme_file)\n",
    "assert Path(readme_file).exists()\n",
    "shutil.rmtree(\"temp\")"
   ]
  },
  {
   "cell_type": "markdown",
   "id": "5977fccf-534a-441a-b3a7-13cec332d795",
   "metadata": {},
   "source": [
    "## Images"
   ]
  },
  {
   "cell_type": "markdown",
   "id": "4321d7fe-93e4-4e23-b2e5-465f347ac9d1",
   "metadata": {},
   "source": [
    "### Convert Pixel Data\n",
    "\n",
    "Normalize image pixel values between 0 and 1, and convert images to RGB and BGR."
   ]
  },
  {
   "cell_type": "code",
   "execution_count": null,
   "id": "034ff5b6-b9aa-427e-985c-da7d738da388",
   "metadata": {},
   "outputs": [],
   "source": [
    "def normalize_minmax(data):\n",
    "    \"\"\"\n",
    "    Normalizes the values in `data` between 0 and 1\n",
    "    \"\"\"\n",
    "    if data.max() == data.min():\n",
    "        raise ValueError(\n",
    "            \"Normalization is not possible because all elements of\"\n",
    "            f\"`data` have the same value: {data.max()}.\"\n",
    "        )\n",
    "    return (data - data.min()) / (data.max() - data.min())\n",
    "\n",
    "\n",
    "def to_rgb(image_data) -> np.ndarray:\n",
    "    \"\"\"\n",
    "    Convert image_data from BGR to RGB\n",
    "    \"\"\"\n",
    "    return cv2.cvtColor(image_data, cv2.COLOR_BGR2RGB)\n",
    "\n",
    "\n",
    "def to_bgr(image_data) -> np.ndarray:\n",
    "    \"\"\"\n",
    "    Convert image_data from RGB to BGR\n",
    "    \"\"\"\n",
    "    return cv2.cvtColor(image_data, cv2.COLOR_RGB2BGR)"
   ]
  },
  {
   "cell_type": "markdown",
   "id": "5e72ceb6-5e9c-41f4-aee0-4c1d950782a4",
   "metadata": {
    "tags": [
     "hide"
    ]
   },
   "source": [
    "### Test Data Conversion Functions"
   ]
  },
  {
   "cell_type": "code",
   "execution_count": null,
   "id": "4cb9e061-f4d7-44ad-9c5e-4edf40b3550e",
   "metadata": {
    "tags": [
     "hide"
    ]
   },
   "outputs": [],
   "source": [
    "test_array = np.random.randint(0, 255, (100, 100, 3))\n",
    "normalized_array = normalize_minmax(test_array)\n",
    "\n",
    "assert normalized_array.min() == 0\n",
    "assert normalized_array.max() == 1"
   ]
  },
  {
   "cell_type": "code",
   "execution_count": null,
   "id": "a364d7e4-3452-444b-969f-6b8ffba17e4c",
   "metadata": {
    "tags": [
     "hide"
    ]
   },
   "outputs": [],
   "source": [
    "bgr_array = np.ones((100, 100, 3), dtype=np.uint8)\n",
    "bgr_array[:, :, 0] = 0\n",
    "bgr_array[:, :, 1] = 1\n",
    "bgr_array[:, :, 2] = 2\n",
    "rgb_array = to_rgb(bgr_array)\n",
    "\n",
    "assert np.all(bgr_array[:, :, 0] == rgb_array[:, :, 2])\n",
    "\n",
    "bgr_array_converted = to_bgr(rgb_array)\n",
    "assert np.all(bgr_array_converted == bgr_array)"
   ]
  },
  {
   "cell_type": "markdown",
   "id": "9eb310e1-37e1-4dd6-ad16-34117a348cde",
   "metadata": {},
   "source": [
    "## Visualization"
   ]
  },
  {
   "cell_type": "markdown",
   "id": "e45516f2-0307-4df9-a7d1-f5c0144609c6",
   "metadata": {},
   "source": [
    "### Segmentation\n",
    "\n",
    "Define a SegmentationMap NamedTuple that keeps the labels and colormap for a segmentation project/dataset. Create CityScapesSegmentation and BinarySegmentation SegmentationMaps. Create a function to convert a segmentation map to an RGB image with a colormap, and to show the segmentation result as an overlay over the original image."
   ]
  },
  {
   "cell_type": "code",
   "execution_count": null,
   "id": "a74d903e-feed-4d0f-a366-eaee28eaf0f8",
   "metadata": {},
   "outputs": [],
   "source": [
    "class Label(NamedTuple):\n",
    "    index: int\n",
    "    color: Tuple\n",
    "    name: Optional[str] = None"
   ]
  },
  {
   "cell_type": "code",
   "execution_count": null,
   "id": "4ce8cc8e-50b1-4859-8a03-cd7769f0d9e3",
   "metadata": {},
   "outputs": [],
   "source": [
    "class SegmentationMap(NamedTuple):\n",
    "    labels: List\n",
    "\n",
    "    def get_colormap(self):\n",
    "        return np.array([label.color for label in self.labels])\n",
    "\n",
    "    def get_labels(self):\n",
    "        labelnames = [label.name for label in self.labels]\n",
    "        if any(labelnames):\n",
    "            return labelnames\n",
    "        else:\n",
    "            return None"
   ]
  },
  {
   "cell_type": "code",
   "execution_count": null,
   "id": "5072524c-d036-48b2-9d7e-1401c918c33c",
   "metadata": {},
   "outputs": [],
   "source": [
    "cityscape_labels = [\n",
    "    Label(index=0, color=(128, 64, 128), name=\"road\"),\n",
    "    Label(index=1, color=(244, 35, 232), name=\"sidewalk\"),\n",
    "    Label(index=2, color=(70, 70, 70), name=\"building\"),\n",
    "    Label(index=3, color=(102, 102, 156), name=\"wall\"),\n",
    "    Label(index=4, color=(190, 153, 153), name=\"fence\"),\n",
    "    Label(index=5, color=(153, 153, 153), name=\"pole\"),\n",
    "    Label(index=6, color=(250, 170, 30), name=\"traffic light\"),\n",
    "    Label(index=7, color=(220, 220, 0), name=\"traffic sign\"),\n",
    "    Label(index=8, color=(107, 142, 35), name=\"vegetation\"),\n",
    "    Label(index=9, color=(152, 251, 152), name=\"terrain\"),\n",
    "    Label(index=10, color=(70, 130, 180), name=\"sky\"),\n",
    "    Label(index=11, color=(220, 20, 60), name=\"person\"),\n",
    "    Label(index=12, color=(255, 0, 0), name=\"rider\"),\n",
    "    Label(index=13, color=(0, 0, 142), name=\"car\"),\n",
    "    Label(index=14, color=(0, 0, 70), name=\"truck\"),\n",
    "    Label(index=15, color=(0, 60, 100), name=\"bus\"),\n",
    "    Label(index=16, color=(0, 80, 100), name=\"train\"),\n",
    "    Label(index=17, color=(0, 0, 230), name=\"motorcycle\"),\n",
    "    Label(index=18, color=(119, 11, 32), name=\"bicycle\"),\n",
    "    Label(index=19, color=(255, 255, 255), name=\"background\"),\n",
    "]\n",
    "\n",
    "CityScapesSegmentation = SegmentationMap(cityscape_labels)\n",
    "\n",
    "binary_labels = [\n",
    "    Label(index=0, color=(255, 255, 255), name=\"background\"),\n",
    "    Label(index=1, color=(0, 0, 0), name=\"foreground\"),\n",
    "]\n",
    "\n",
    "BinarySegmentation = SegmentationMap(binary_labels)"
   ]
  },
  {
   "cell_type": "code",
   "execution_count": null,
   "id": "3d7b864c-3cb2-4aa0-92e7-d71a59e972c6",
   "metadata": {
    "tags": []
   },
   "outputs": [],
   "source": [
    "def segmentation_map_to_image(\n",
    "    result: np.ndarray, colormap: np.ndarray, remove_holes=False\n",
    ") -> np.ndarray:\n",
    "    \"\"\"\n",
    "    Convert network result of floating point numbers to an RGB image with\n",
    "    integer values from 0-255 by applying a colormap.\n",
    "\n",
    "    :param result: A single network result after converting to pixel values in H,W or 1,H,W shape.\n",
    "    :param colormap: A numpy array of shape (num_classes, 3) with an RGB value per class.\n",
    "    :param remove_holes: If True, remove holes in the segmentation result.\n",
    "    :return: An RGB image where each pixel is an int8 value according to colormap.\n",
    "    \"\"\"\n",
    "    if len(result.shape) != 2 and result.shape[0] != 1:\n",
    "        raise ValueError(\n",
    "            f\"Expected result with shape (H,W) or (1,H,W), got result with shape {result.shape}\"\n",
    "        )\n",
    "\n",
    "    if len(np.unique(result)) > colormap.shape[0]:\n",
    "        raise ValueError(\n",
    "            f\"Expected max {colormap[0]} classes in result, got {len(np.unique(result))} \"\n",
    "            \"different output values. Please make sure to convert the network output to \"\n",
    "            \"pixel values before calling this function.\"\n",
    "        )\n",
    "    elif result.shape[0] == 1:\n",
    "        result = result.squeeze(0)\n",
    "\n",
    "    result = result.astype(np.uint8)\n",
    "\n",
    "    contour_mode = cv2.RETR_EXTERNAL if remove_holes else cv2.RETR_TREE\n",
    "    mask = np.zeros((result.shape[0], result.shape[1], 3), dtype=np.uint8)\n",
    "    for label_index, color in enumerate(colormap):\n",
    "        label_index_map = result == label_index\n",
    "        label_index_map = label_index_map.astype(np.uint8) * 255\n",
    "        contours, hierarchies = cv2.findContours(\n",
    "            label_index_map, contour_mode, cv2.CHAIN_APPROX_SIMPLE\n",
    "        )\n",
    "        cv2.drawContours(\n",
    "            mask,\n",
    "            contours,\n",
    "            contourIdx=-1,\n",
    "            color=color.tolist(),\n",
    "            thickness=cv2.FILLED,\n",
    "        )\n",
    "\n",
    "    return mask\n",
    "\n",
    "\n",
    "def segmentation_map_to_overlay(image, result, alpha, colormap, remove_holes=False) -> np.ndarray:\n",
    "    \"\"\"\n",
    "    Returns a new image where a segmentation mask (created with colormap) is overlayed on\n",
    "    the source image.\n",
    "\n",
    "    :param image: Source image.\n",
    "    :param result: A single network result after converting to pixel values in H,W or 1,H,W shape.\n",
    "    :param alpha: Alpha transparency value for the overlay image.\n",
    "    :param colormap: A numpy array of shape (num_classes, 3) with an RGB value per class.\n",
    "    :param remove_holes: If True, remove holes in the segmentation result.\n",
    "    :return: An RGP image with segmentation mask overlayed on the source image.\n",
    "    \"\"\"\n",
    "    if len(image.shape) == 2:\n",
    "        image = np.repeat(np.expand_dims(image, -1), 3, 2)\n",
    "\n",
    "    mask = segmentation_map_to_image(result, colormap, remove_holes)\n",
    "    return cv2.addWeighted(mask, alpha, image, 1 - alpha, 0)"
   ]
  },
  {
   "cell_type": "markdown",
   "id": "7986f210-b63a-4ae7-9026-6b1fdcf4d4cb",
   "metadata": {},
   "source": [
    "### Network Results\n",
    "\n",
    "Show network result image, optionally together with the source image and a legend with labels."
   ]
  },
  {
   "cell_type": "code",
   "execution_count": null,
   "id": "ad1d9e07-a2b5-4608-b63d-2e3330dfebea",
   "metadata": {
    "tags": []
   },
   "outputs": [],
   "source": [
    "def viz_result_image(\n",
    "    result_image: np.ndarray,\n",
    "    source_image: np.ndarray = None,\n",
    "    source_title: str = None,\n",
    "    result_title: str = None,\n",
    "    labels: List[Label] = None,\n",
    "    resize: bool = False,\n",
    "    bgr_to_rgb: bool = False,\n",
    "    hide_axes: bool = False,\n",
    ") -> matplotlib.figure.Figure:\n",
    "    \"\"\"\n",
    "    Show result image, optionally together with source images, and a legend with labels.\n",
    "\n",
    "    :param result_image: Numpy array of RGB result image.\n",
    "    :param source_image: Numpy array of source image. If provided this image will be shown\n",
    "                         next to the result image. source_image is expected to be in RGB format.\n",
    "                         Set bgr_to_rgb to True if source_image is in BGR format.\n",
    "    :param source_title: Title to display for the source image.\n",
    "    :param result_title: Title to display for the result image.\n",
    "    :param labels: List of labels. If provided, a legend will be shown with the given labels.\n",
    "    :param resize: If true, resize the result image to the same shape as the source image.\n",
    "    :param bgr_to_rgb: If true, convert the source image from BGR to RGB. Use this option if\n",
    "                       source_image is a BGR image.\n",
    "    :param hide_axes: If true, do not show matplotlib axes.\n",
    "    :return: Matplotlib figure with result image\n",
    "    \"\"\"\n",
    "    if bgr_to_rgb:\n",
    "        source_image = to_rgb(source_image)\n",
    "    if resize:\n",
    "        result_image = cv2.resize(result_image, (source_image.shape[1], source_image.shape[0]))\n",
    "\n",
    "    num_images = 1 if source_image is None else 2\n",
    "\n",
    "    fig, ax = plt.subplots(1, num_images, figsize=(16, 8), squeeze=False)\n",
    "    if source_image is not None:\n",
    "        ax[0, 0].imshow(source_image)\n",
    "        ax[0, 0].set_title(source_title)\n",
    "\n",
    "    ax[0, num_images - 1].imshow(result_image)\n",
    "    ax[0, num_images - 1].set_title(result_title)\n",
    "\n",
    "    if hide_axes:\n",
    "        for a in ax.ravel():\n",
    "            a.axis(\"off\")\n",
    "    if labels:\n",
    "        colors = labels.get_colormap()\n",
    "        lines = [\n",
    "            Line2D(\n",
    "                [0],\n",
    "                [0],\n",
    "                color=[item / 255 for item in c.tolist()],\n",
    "                linewidth=3,\n",
    "                linestyle=\"-\",\n",
    "            )\n",
    "            for c in colors\n",
    "        ]\n",
    "        plt.legend(\n",
    "            lines,\n",
    "            labels.get_labels(),\n",
    "            bbox_to_anchor=(1, 1),\n",
    "            loc=\"upper left\",\n",
    "            prop={\"size\": 12},\n",
    "        )\n",
    "    plt.close(fig)\n",
    "    return fig"
   ]
  },
  {
   "cell_type": "markdown",
   "id": "c5355ac3-f534-4e3a-8ba4-2a21a97f47fa",
   "metadata": {
    "tags": [
     "hide"
    ]
   },
   "source": [
    "### Test Visualization Functions"
   ]
  },
  {
   "cell_type": "code",
   "execution_count": null,
   "id": "77b047d4-dadf-4981-a214-6d7dfb18d603",
   "metadata": {
    "tags": [
     "hide"
    ]
   },
   "outputs": [],
   "source": [
    "testimage = np.zeros((100, 100, 3), dtype=np.uint8)\n",
    "testimage[30:80, 30:80, :] = [0, 255, 0]\n",
    "testimage[0:10, 0:10, :] = 100\n",
    "testimage[40:60, 40:60, :] = 128\n",
    "testimage[testimage == 0] = 128\n",
    "\n",
    "\n",
    "testmask1 = np.zeros((100, 100))\n",
    "testmask1[30:80, 30:80] = 1\n",
    "testmask1[40:50, 40:50] = 0\n",
    "testmask1[0:15, 0:10] = 2\n",
    "\n",
    "result_image_overlay = segmentation_map_to_overlay(\n",
    "    image=testimage,\n",
    "    result=testmask1,\n",
    "    alpha=0.6,\n",
    "    colormap=np.array([[0, 0, 0], [255, 0, 0], [255, 255, 0]]),\n",
    ")\n",
    "result_image = segmentation_map_to_image(testmask1, CityScapesSegmentation.get_colormap())\n",
    "result_image_no_holes = segmentation_map_to_image(\n",
    "    testmask1, CityScapesSegmentation.get_colormap(), remove_holes=True\n",
    ")\n",
    "resized_result_image = cv2.resize(result_image, (50, 50))\n",
    "overlay_result_image = segmentation_map_to_overlay(\n",
    "    testimage, testmask1, 0.6, CityScapesSegmentation.get_colormap(), remove_holes=False\n",
    ")\n",
    "\n",
    "fig1 = viz_result_image(result_image, testimage)\n",
    "fig2 = viz_result_image(result_image_no_holes, testimage, labels=CityScapesSegmentation)\n",
    "fig3 = viz_result_image(\n",
    "    resized_result_image,\n",
    "    testimage,\n",
    "    source_title=\"Source Image\",\n",
    "    result_title=\"Resized Result Image\",\n",
    "    resize=True,\n",
    ")\n",
    "fig4 = viz_result_image(\n",
    "    overlay_result_image, labels=CityScapesSegmentation, result_title=\"Image with Result Overlay\"\n",
    ")\n",
    "\n",
    "display(fig1, fig2, fig3, fig4)"
   ]
  },
  {
   "cell_type": "markdown",
   "id": "a92ee213-837e-40c5-b6ad-e4e65f57227b",
   "metadata": {},
   "source": [
    "## Checks and Alerts\n",
    "\n",
    "Create an alert class to show stylized info/error/warning messages and a `check_device` function that checks whether a given device is available."
   ]
  },
  {
   "cell_type": "code",
   "execution_count": null,
   "id": "83ed1c3c-5686-4361-8dcb-8e6d0697c1e6",
   "metadata": {},
   "outputs": [],
   "source": [
    "class NotebookAlert(Exception):\n",
    "    def __init__(self, message: str, alert_class: str):\n",
    "        \"\"\"\n",
    "        Show an alert box with the given message.\n",
    "\n",
    "        :param message: The message to display.\n",
    "        :param alert_class: The class for styling the message. Options: info, warning, success, danger.\n",
    "        \"\"\"\n",
    "        self.message = message\n",
    "        self.alert_class = alert_class\n",
    "        self.show_message()\n",
    "\n",
    "    def show_message(self):\n",
    "        display(HTML(f\"\"\"<div class=\"alert alert-{self.alert_class}\">{self.message}\"\"\"))\n",
    "\n",
    "\n",
    "class DeviceNotFoundAlert(NotebookAlert):\n",
    "    def __init__(self, device: str):\n",
    "        \"\"\"\n",
    "        Show a warning message about an unavailable device. This class does not check whether or\n",
    "        not the device is available, use the `check_device` function to check this. `check_device`\n",
    "        also shows the warning if the device is not found.\n",
    "\n",
    "        :param device: The unavailable device.\n",
    "        :return: A formatted alert box with the message that `device` is not available, and a list\n",
    "                 of devices that are available.\n",
    "        \"\"\"\n",
    "        ie = IECore()\n",
    "        supported_devices = ie.available_devices\n",
    "        self.message = (\n",
    "            f\"Running this cell requires a {device} device, \"\n",
    "            \"which is not available on this system. \"\n",
    "        )\n",
    "        self.alert_class = \"warning\"\n",
    "        if len(supported_devices) == 1:\n",
    "            self.message += f\"The following device is available: {ie.available_devices[0]}\"\n",
    "        else:\n",
    "            self.message += (\n",
    "                \"The following devices are available: \" f\"{', '.join(ie.available_devices)}\"\n",
    "            )\n",
    "        super().__init__(self.message, self.alert_class)\n",
    "\n",
    "\n",
    "def check_device(device: str) -> bool:\n",
    "    \"\"\"\n",
    "    Check if the specified device is available on the system.\n",
    "\n",
    "    :param device: Device to check. e.g. CPU, GPU\n",
    "    :return: True if the device is available, False if not. If the device is not available,\n",
    "             a DeviceNotFoundAlert will be shown.\n",
    "    \"\"\"\n",
    "    ie = IECore()\n",
    "    if device not in ie.available_devices:\n",
    "        DeviceNotFoundAlert(device)\n",
    "        return False\n",
    "    else:\n",
    "        return True\n",
    "\n",
    "\n",
    "def check_openvino_version(version: str) -> bool:\n",
    "    \"\"\"\n",
    "    Check if the specified OpenVINO version is installed.\n",
    "\n",
    "    :param version: the OpenVINO version to check. Example: 2021.4\n",
    "    :return: True if the version is installed, False if not. If the version is not installed,\n",
    "             an alert message will be shown.\n",
    "    \"\"\"\n",
    "    installed_version = openvino.inference_engine.get_version()\n",
    "    if version not in installed_version:\n",
    "        NotebookAlert(\n",
    "            f\"This notebook requires OpenVINO {version}. \"\n",
    "            f\"The version on your system is: <i>{installed_version}</i>.<br>\"\n",
    "            \"Please run <span style='font-family:monospace'>pip install --upgrade -r requirements.txt</span> \"\n",
    "            \"in the openvino_env environment to install this version. \"\n",
    "            \"See the <a href='https://github.com/openvinotoolkit/openvino_notebooks'>\"\n",
    "            \"OpenVINO Notebooks README</a> for detailed instructions\",\n",
    "            alert_class=\"danger\",\n",
    "        )\n",
    "        return False\n",
    "    else:\n",
    "        return True"
   ]
  },
  {
   "cell_type": "markdown",
   "id": "02710665-a5a4-48af-b8de-5ca6b4a8d700",
   "metadata": {
    "tags": [
     "hide"
    ]
   },
   "source": [
    "### Test Alerts"
   ]
  },
  {
   "cell_type": "code",
   "execution_count": null,
   "id": "1618c32b-4212-488c-a3ae-91dd885cb771",
   "metadata": {
    "tags": [
     "hide"
    ]
   },
   "outputs": [],
   "source": [
    "NotebookAlert(message=\"Hello, world!\", alert_class=\"info\")\n",
    "DeviceNotFoundAlert(\"GPU\");"
   ]
  },
  {
   "cell_type": "code",
   "execution_count": null,
   "id": "c88a4929-490e-4cac-9add-ac792c2baaab",
   "metadata": {
    "tags": [
     "hide"
    ]
   },
   "outputs": [],
   "source": [
    "assert check_device(\"CPU\")"
   ]
  },
  {
   "cell_type": "code",
   "execution_count": null,
   "id": "2ce74e7b-0a56-4b5d-9e24-1af40c12b662",
   "metadata": {
    "tags": [
     "hide"
    ]
   },
   "outputs": [],
   "source": [
    "if check_device(\"HELLOWORLD\"):\n",
    "    print(\"Hello World device found.\")"
   ]
  },
  {
   "cell_type": "code",
   "execution_count": null,
   "id": "fbd8bb4d-6bd7-4709-a9fa-300b3a2e5166",
   "metadata": {
    "tags": [
     "hide"
    ]
   },
   "outputs": [],
   "source": [
    "assert check_openvino_version(\"2021.4\")"
   ]
  },
  {
   "cell_type": "code",
   "execution_count": null,
   "id": "4766b886-b7a4-4559-958a-34456892764e",
   "metadata": {
    "tags": [
     "hide"
    ]
   },
   "outputs": [],
   "source": [
    "check_openvino_version(\"2022.1\");"
   ]
  }
 ],
 "metadata": {
  "kernelspec": {
   "display_name": "openvino_env",
   "language": "python",
   "name": "openvino_env"
  },
  "language_info": {
   "codemirror_mode": {
    "name": "ipython",
    "version": 3
   },
   "file_extension": ".py",
   "mimetype": "text/x-python",
   "name": "python",
   "nbconvert_exporter": "python",
   "pygments_lexer": "ipython3",
   "version": "3.7.9"
  }
 },
 "nbformat": 4,
 "nbformat_minor": 5
}
