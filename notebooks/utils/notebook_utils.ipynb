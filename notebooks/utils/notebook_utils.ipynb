{
 "cells": [
  {
   "cell_type": "markdown",
   "id": "e0ae5969",
   "metadata": {
    "tags": [
     "hide"
    ]
   },
   "source": [
    "# Notebook Utils\n",
    "\n",
    "This notebook contains helper functions and classes for use with OpenVINO™ Notebooks. The code is synchronized with the `notebook_utils.py` file in the same directory as this notebook.\n",
    "\n",
    "There are five categories:\n",
    "\n",
    "- [Files](#Files)\n",
    "- [Images](#Images)\n",
    "- [Videos](#Videos)\n",
    "- [Visualization](#Visualization)\n",
    "- [OpenVINO Tools](#OpenVINO-Tools)\n",
    "- [Checks and Alerts](#Checks-and-Alerts)\n",
    "\n",
    "Each category contains a test cell that also shows how to use the functions in the section. "
   ]
  },
  {
   "cell_type": "code",
   "execution_count": null,
   "id": "610d8c96",
   "metadata": {},
   "outputs": [],
   "source": [
    "import os\n",
    "import shutil\n",
    "import socket\n",
    "import threading\n",
    "import time\n",
    "import urllib\n",
    "import urllib.parse\n",
    "import urllib.request\n",
    "from os import PathLike\n",
    "from pathlib import Path\n",
    "from typing import Callable, List, NamedTuple, Optional, Tuple\n",
    "\n",
    "import cv2\n",
    "import matplotlib\n",
    "import matplotlib.pyplot as plt\n",
    "import numpy as np\n",
    "import openvino.inference_engine\n",
    "from async_pipeline import AsyncPipeline\n",
    "from IPython.display import HTML, Image, Markdown, clear_output, display\n",
    "from matplotlib.lines import Line2D\n",
    "from models import model\n",
    "from openvino.inference_engine import IECore\n",
    "from tqdm.notebook import tqdm_notebook"
   ]
  },
  {
   "cell_type": "markdown",
   "id": "9e8b4817",
   "metadata": {},
   "source": [
    "## Files\n",
    "\n",
    "Load an image, download a file, download an OpenVINO IR model, and create a progress bar to show download progress."
   ]
  },
  {
   "cell_type": "code",
   "execution_count": null,
   "id": "1584d210",
   "metadata": {},
   "outputs": [],
   "source": [
    "def load_image(path: str) -> np.ndarray:\n",
    "    \"\"\"\n",
    "    Loads an image from `path` and returns it as BGR numpy array. The `path` variable\n",
    "    should point to an image file, either a local filename or a url. The image is\n",
    "    not stored to the filesystem. Use the `download_file` function to download and\n",
    "    store an image.\n",
    "\n",
    "    :param path: Local path name or URL to image.\n",
    "    :return: image as BGR numpy array\n",
    "    \"\"\"\n",
    "    if path.startswith(\"http\"):\n",
    "        # Set User-Agent to Mozilla because some websites block\n",
    "        # requests with User-Agent Python.\n",
    "        request = urllib.request.Request(path, headers={\"User-Agent\": \"Mozilla/5.0\"})\n",
    "        response = urllib.request.urlopen(request)\n",
    "        array = np.asarray(bytearray(response.read()), dtype=\"uint8\")\n",
    "        image = cv2.imdecode(array, -1)  # Loads the image as BGR.\n",
    "    else:\n",
    "        image = cv2.imread(path)\n",
    "    return image\n",
    "\n",
    "\n",
    "class DownloadProgressBar(tqdm_notebook):\n",
    "    \"\"\"\n",
    "    TQDM Progress bar for downloading files with urllib.request.urlretrieve\n",
    "    \"\"\"\n",
    "\n",
    "    def update_to(self, block_num: int, block_size: int, total_size: int):\n",
    "        downloaded = block_num * block_size\n",
    "        if downloaded <= total_size:\n",
    "            self.update(downloaded - self.n)\n",
    "\n",
    "\n",
    "def download_file(\n",
    "    url: PathLike,\n",
    "    filename: PathLike = None,\n",
    "    directory: PathLike = None,\n",
    "    show_progress: bool = True,\n",
    "    silent: bool = False,\n",
    "    timeout: int = 10,\n",
    ") -> str:\n",
    "    \"\"\"\n",
    "    Download a file from a url and save it to the local filesystem. The file is saved to the\n",
    "    current directory by default, or to `directory` if specified. If a filename is not given,\n",
    "    the filename of the URL will be used.\n",
    "\n",
    "    :param url: URL that points to the file to download.\n",
    "    :param filename: A name of the local file to save. It should point to the name of the file only,\n",
    "                     not the full path. If set to None, the filename from the url will be used\n",
    "    :param directory: A directory to save the file to. It will be created if it does not exist\n",
    "                      If set to None, the file will be saved to the current working directory.\n",
    "    :param show_progress: If set to True, shows an TQDM ProgressBar.\n",
    "    :param silent: If set to True, does not print a message if the file already exists.\n",
    "    :param timeout: number of seconds before cancelling the connection attempt\n",
    "    :return: path to downloaded file\n",
    "    \"\"\"\n",
    "    try:\n",
    "        opener = urllib.request.build_opener()\n",
    "        opener.addheaders = [(\"User-agent\", \"Mozilla/5.0\")]\n",
    "        urllib.request.install_opener(opener)\n",
    "        urlobject = urllib.request.urlopen(url, timeout=timeout)\n",
    "        if filename is None:\n",
    "            filename = urlobject.info().get_filename() or Path(urllib.parse.urlparse(url).path).name\n",
    "    except urllib.error.HTTPError as e:\n",
    "        raise Exception(f\"File downloading failed with error: {e.code} {e.msg}\") from None\n",
    "    except urllib.error.URLError as error:\n",
    "        if isinstance(error.reason, socket.timeout):\n",
    "            raise Exception(\n",
    "                \"Connection timed out. If you access the internet through a proxy server, \"\n",
    "                \"make sure the proxy is set in the shell from where you launched Jupyter. If your \"\n",
    "                \"internet connection is slow, you can call `download_file(url, timeout=30)` to \"\n",
    "                \"wait for 30 seconds before raising this error.\"\n",
    "            ) from None\n",
    "        else:\n",
    "            raise\n",
    "\n",
    "    filename = Path(filename)\n",
    "    if len(filename.parts) > 1:\n",
    "        raise ValueError(\n",
    "            \"The `filename` parameter should refer to the name of the file, excluding the directory. \"\n",
    "            \"Use the `directory` parameter to specify a target directory for the downloaded file.\"\n",
    "        )\n",
    "\n",
    "    # Create the directory if it does not exist, and add the directory to the filename.\n",
    "    if directory is not None:\n",
    "        directory = Path(directory)\n",
    "        directory.mkdir(parents=True, exist_ok=True)\n",
    "        filename = directory / Path(filename)\n",
    "\n",
    "    # Download the file if it does not exist, or if it exists with an incorrect file size.\n",
    "    urlobject_size = int(urlobject.info().get(\"Content-Length\", 0))\n",
    "    if not filename.exists() or (os.stat(filename).st_size != urlobject_size):\n",
    "        progress_callback = DownloadProgressBar(\n",
    "            total=urlobject_size,\n",
    "            unit=\"B\",\n",
    "            unit_scale=True,\n",
    "            unit_divisor=1024,\n",
    "            desc=str(filename),\n",
    "            disable=not show_progress,\n",
    "        )\n",
    "        urllib.request.urlretrieve(url, filename, reporthook=progress_callback.update_to)\n",
    "        if os.stat(filename).st_size >= urlobject_size:\n",
    "            progress_callback.update(urlobject_size - progress_callback.n)\n",
    "            progress_callback.refresh()\n",
    "    else:\n",
    "        if not silent:\n",
    "            print(f\"'{filename}' already exists.\")\n",
    "    return filename.resolve()\n",
    "\n",
    "\n",
    "def download_ir_model(model_xml_url: str, destination_folder: PathLike = None) -> PathLike:\n",
    "    \"\"\"\n",
    "    Download OpenVINO IR model from `model_xml_url`. Downloads xml and bin file of the model; the weights file is\n",
    "    assumed to exist at the same location and name as `model_xml_url` with a \".bin\" extension.\n",
    "\n",
    "    :param model_xml_url: The URL to xml file of the model to download.\n",
    "    :param destination_folder: A directory where downloaded xml and bin files of the model are saved. If set to None, model\n",
    "                               files are saved to the current directory.\n",
    "    :return: The path to downloaded xml file of the model.\n",
    "    \"\"\"\n",
    "    model_bin_url = model_xml_url[:-4] + \".bin\"\n",
    "    model_xml_path = download_file(model_xml_url, directory=destination_folder, show_progress=False)\n",
    "    download_file(model_bin_url, directory=destination_folder)\n",
    "    return model_xml_path"
   ]
  },
  {
   "cell_type": "markdown",
   "id": "407d4219",
   "metadata": {
    "tags": [
     "hide"
    ]
   },
   "source": [
    "### Test File Functions"
   ]
  },
  {
   "cell_type": "code",
   "execution_count": null,
   "id": "fa1a0ee0",
   "metadata": {
    "tags": [
     "hide"
    ]
   },
   "outputs": [],
   "source": [
    "model_url = \"https://github.com/openvinotoolkit/openvino_notebooks/raw/main/notebooks/002-openvino-api/model/segmentation.xml\"\n",
    "download_ir_model(model_url, \"model\")\n",
    "\n",
    "assert os.path.exists(\"model/segmentation.xml\")\n",
    "assert os.path.exists(\"model/segmentation.bin\")"
   ]
  },
  {
   "cell_type": "code",
   "execution_count": null,
   "id": "51392a8e",
   "metadata": {
    "tags": [
     "hide"
    ]
   },
   "outputs": [],
   "source": [
    "url = \"https://github.com/intel-iot-devkit/safety-gear-detector-python/raw/master/resources/Safety_Full_Hat_and_Vest.mp4\"\n",
    "if os.path.exists(os.path.basename(url)):\n",
    "    os.remove(os.path.basename(url))\n",
    "video_file = download_file(url)\n",
    "print(video_file)\n",
    "assert Path(video_file).exists()"
   ]
  },
  {
   "cell_type": "code",
   "execution_count": null,
   "id": "46478651",
   "metadata": {
    "tags": [
     "hide"
    ]
   },
   "outputs": [],
   "source": [
    "url = \"https://raw.githubusercontent.com/openvinotoolkit/openvino_notebooks/main/README.md\"\n",
    "filename = \"openvino_notebooks_readme.md\"\n",
    "if os.path.exists(filename):\n",
    "    os.remove(filename)\n",
    "readme_file = download_file(url, filename=filename)\n",
    "print(readme_file)\n",
    "assert Path(readme_file).exists()"
   ]
  },
  {
   "cell_type": "code",
   "execution_count": null,
   "id": "d15056b5",
   "metadata": {
    "tags": [
     "hide"
    ]
   },
   "outputs": [],
   "source": [
    "url = \"https://raw.githubusercontent.com/openvinotoolkit/openvino_notebooks/main/README.md\"\n",
    "filename = \"openvino_notebooks_readme.md\"\n",
    "directory = \"temp\"\n",
    "video_file = download_file(\n",
    "    url, filename=filename, directory=directory, show_progress=False, silent=True\n",
    ")\n",
    "print(readme_file)\n",
    "assert Path(readme_file).exists()\n",
    "shutil.rmtree(\"temp\")"
   ]
  },
  {
   "cell_type": "markdown",
   "id": "b6f5caa5",
   "metadata": {},
   "source": [
    "## Images"
   ]
  },
  {
   "cell_type": "markdown",
   "id": "9c45916c",
   "metadata": {},
   "source": [
    "### Convert Pixel Data\n",
    "\n",
    "Normalize image pixel values between 0 and 1, and convert images to `RGB` and `BGR`."
   ]
  },
  {
   "cell_type": "code",
   "execution_count": null,
   "id": "4051c7ef",
   "metadata": {},
   "outputs": [],
   "source": [
    "def normalize_minmax(data):\n",
    "    \"\"\"\n",
    "    Normalizes the values in `data` between 0 and 1\n",
    "    \"\"\"\n",
    "    if data.max() == data.min():\n",
    "        raise ValueError(\n",
    "            \"Normalization is not possible because all elements of\"\n",
    "            f\"`data` have the same value: {data.max()}.\"\n",
    "        )\n",
    "    return (data - data.min()) / (data.max() - data.min())\n",
    "\n",
    "\n",
    "def to_rgb(image_data: np.ndarray) -> np.ndarray:\n",
    "    \"\"\"\n",
    "    Convert image_data from BGR to RGB.\n",
    "    \"\"\"\n",
    "    return cv2.cvtColor(image_data, cv2.COLOR_BGR2RGB)\n",
    "\n",
    "\n",
    "def to_bgr(image_data: np.ndarray) -> np.ndarray:\n",
    "    \"\"\"\n",
    "    Convert image_data from RGB to BGR.\n",
    "    \"\"\"\n",
    "    return cv2.cvtColor(image_data, cv2.COLOR_RGB2BGR)"
   ]
  },
  {
   "cell_type": "markdown",
   "id": "6a2ec41b",
   "metadata": {
    "tags": [
     "hide"
    ]
   },
   "source": [
    "### Test Data Conversion Functions"
   ]
  },
  {
   "cell_type": "code",
   "execution_count": null,
   "id": "b8ae28f4",
   "metadata": {
    "tags": [
     "hide"
    ]
   },
   "outputs": [],
   "source": [
    "test_array = np.random.randint(0, 255, (100, 100, 3))\n",
    "normalized_array = normalize_minmax(test_array)\n",
    "\n",
    "assert normalized_array.min() == 0\n",
    "assert normalized_array.max() == 1"
   ]
  },
  {
   "cell_type": "code",
   "execution_count": null,
   "id": "e2922a67",
   "metadata": {
    "tags": [
     "hide"
    ]
   },
   "outputs": [],
   "source": [
    "bgr_array = np.ones((100, 100, 3), dtype=np.uint8)\n",
    "bgr_array[:, :, 0] = 0\n",
    "bgr_array[:, :, 1] = 1\n",
    "bgr_array[:, :, 2] = 2\n",
    "rgb_array = to_rgb(bgr_array)\n",
    "\n",
    "assert np.all(bgr_array[:, :, 0] == rgb_array[:, :, 2])\n",
    "\n",
    "bgr_array_converted = to_bgr(rgb_array)\n",
    "assert np.all(bgr_array_converted == bgr_array)"
   ]
  },
  {
   "cell_type": "markdown",
   "id": "8e27e37e",
   "metadata": {},
   "source": [
    "## Videos"
   ]
  },
  {
   "cell_type": "markdown",
   "id": "b134d512",
   "metadata": {},
   "source": [
    "### Video Player\n",
    "\n",
    "A custom video player to fulfill FPS requirements. You can set target FPS and output size, flip the video horizontally or skip first N frames."
   ]
  },
  {
   "cell_type": "code",
   "execution_count": null,
   "id": "fd5a3145",
   "metadata": {
    "pycharm": {
     "name": "#%% \n"
    }
   },
   "outputs": [],
   "source": [
    "class VideoPlayer:\n",
    "    \"\"\"\n",
    "    Custom video player to fulfill FPS requirements. You can set target FPS and output size,\n",
    "    flip the video horizontally or skip first N frames.\n",
    "\n",
    "    :param source: Video source. It could be either camera device or video file.\n",
    "    :param size: Output frame size.\n",
    "    :param flip: Flip source horizontally.\n",
    "    :param fps: Target FPS.\n",
    "    :param skip_first_frames: Skip first N frames.\n",
    "    \"\"\"\n",
    "\n",
    "    def __init__(self, source, size=None, flip=False, fps=None, skip_first_frames=0):\n",
    "        self.__cap = cv2.VideoCapture(source)\n",
    "        if not self.__cap.isOpened():\n",
    "            raise RuntimeError(\n",
    "                f\"Cannot open {'camera' if isinstance(source, int) else ''} {source}\"\n",
    "            )\n",
    "        # Skip first N frames.\n",
    "        self.__cap.set(cv2.CAP_PROP_POS_FRAMES, skip_first_frames)\n",
    "        # fps of input file\n",
    "        self.__input_fps = self.__cap.get(cv2.CAP_PROP_FPS)\n",
    "        if self.__input_fps <= 0:\n",
    "            self.__input_fps = 60\n",
    "        # target fps given by user\n",
    "        self.__output_fps = fps if fps is not None else self.__input_fps\n",
    "        self.__flip = flip\n",
    "        self.__size = None\n",
    "        self.__interpolation = None\n",
    "        if size is not None:\n",
    "            self.__size = size\n",
    "            # AREA better for shrinking, LINEAR better for enlarging\n",
    "            self.__interpolation = (\n",
    "                cv2.INTER_AREA\n",
    "                if size[0] < self.__cap.get(cv2.CAP_PROP_FRAME_WIDTH)\n",
    "                else cv2.INTER_LINEAR\n",
    "            )\n",
    "        # first frame\n",
    "        _, self.__frame = self.__cap.read()\n",
    "        self.__lock = threading.Lock()\n",
    "        self.__thread = None\n",
    "        self.__stop = False\n",
    "\n",
    "    \"\"\"\n",
    "    Start playing.\n",
    "    \"\"\"\n",
    "\n",
    "    def start(self):\n",
    "        self.__stop = False\n",
    "        self.__thread = threading.Thread(target=self.__run, daemon=True)\n",
    "        self.__thread.start()\n",
    "\n",
    "    \"\"\"\n",
    "    Stop playing and release resources.\n",
    "    \"\"\"\n",
    "\n",
    "    def stop(self):\n",
    "        self.__stop = True\n",
    "        if self.__thread is not None:\n",
    "            self.__thread.join()\n",
    "        self.__cap.release()\n",
    "\n",
    "    def __run(self):\n",
    "        prev_time = 0\n",
    "        while not self.__stop:\n",
    "            t1 = time.time()\n",
    "            ret, frame = self.__cap.read()\n",
    "            if not ret:\n",
    "                break\n",
    "\n",
    "            # Fulfill target fps.\n",
    "            if 1 / self.__output_fps < time.time() - prev_time:\n",
    "                prev_time = time.time()\n",
    "                # Replace by current frame.\n",
    "                with self.__lock:\n",
    "                    self.__frame = frame\n",
    "\n",
    "            t2 = time.time()\n",
    "            # time to wait [s] to fulfill input fps\n",
    "            wait_time = 1 / self.__input_fps - (t2 - t1)\n",
    "            # Wait until.\n",
    "            time.sleep(max(0, wait_time))\n",
    "\n",
    "        self.__frame = None\n",
    "\n",
    "    \"\"\"\n",
    "    Get current frame.\n",
    "    \"\"\"\n",
    "\n",
    "    def next(self):\n",
    "        with self.__lock:\n",
    "            if self.__frame is None:\n",
    "                return None\n",
    "            # Need to copy frame, because it can be cached and reused if fps is low.\n",
    "            frame = self.__frame.copy()\n",
    "        if self.__size is not None:\n",
    "            frame = cv2.resize(frame, self.__size, interpolation=self.__interpolation)\n",
    "        if self.__flip:\n",
    "            frame = cv2.flip(frame, 1)\n",
    "        return frame"
   ]
  },
  {
   "cell_type": "markdown",
   "id": "8ab7b29e",
   "metadata": {
    "tags": [
     "hide"
    ]
   },
   "source": [
    "### Test Video Player"
   ]
  },
  {
   "cell_type": "code",
   "execution_count": null,
   "id": "e3b1fc3c",
   "metadata": {
    "tags": [
     "hide"
    ]
   },
   "outputs": [],
   "source": [
    "video = \"../201-vision-monodepth/data/Coco Walking in Berkeley.mp4\"\n",
    "\n",
    "player = VideoPlayer(video, fps=15, skip_first_frames=10)\n",
    "player.start()\n",
    "for i in range(50):\n",
    "    frame = player.next()\n",
    "    _, encoded_img = cv2.imencode(\".jpg\", frame, params=[cv2.IMWRITE_JPEG_QUALITY, 90])\n",
    "    img = Image(data=encoded_img)\n",
    "    clear_output(wait=True)\n",
    "    display(img)\n",
    "\n",
    "player.stop()\n",
    "print(\"Finished\")"
   ]
  },
  {
   "cell_type": "markdown",
   "id": "b9c69891",
   "metadata": {},
   "source": [
    "## Visualization"
   ]
  },
  {
   "cell_type": "markdown",
   "id": "67182f4f",
   "metadata": {},
   "source": [
    "### Segmentation\n",
    "\n",
    "Define a `SegmentationMap NamedTuple` that keeps the labels and colormap for a segmentation project/dataset. Create `CityScapesSegmentation` and `BinarySegmentation SegmentationMaps`. Create a function to convert a segmentation map to an `RGB` image with a `colormap`, and to show the segmentation result as an overlay over the original image."
   ]
  },
  {
   "cell_type": "code",
   "execution_count": null,
   "id": "c8c64d62",
   "metadata": {},
   "outputs": [],
   "source": [
    "class Label(NamedTuple):\n",
    "    index: int\n",
    "    color: Tuple\n",
    "    name: Optional[str] = None"
   ]
  },
  {
   "cell_type": "code",
   "execution_count": null,
   "id": "693bd276",
   "metadata": {},
   "outputs": [],
   "source": [
    "class SegmentationMap(NamedTuple):\n",
    "    labels: List\n",
    "\n",
    "    def get_colormap(self):\n",
    "        return np.array([label.color for label in self.labels])\n",
    "\n",
    "    def get_labels(self):\n",
    "        labelnames = [label.name for label in self.labels]\n",
    "        if any(labelnames):\n",
    "            return labelnames\n",
    "        else:\n",
    "            return None"
   ]
  },
  {
   "cell_type": "code",
   "execution_count": null,
   "id": "fd88c7ae",
   "metadata": {},
   "outputs": [],
   "source": [
    "cityscape_labels = [\n",
    "    Label(index=0, color=(128, 64, 128), name=\"road\"),\n",
    "    Label(index=1, color=(244, 35, 232), name=\"sidewalk\"),\n",
    "    Label(index=2, color=(70, 70, 70), name=\"building\"),\n",
    "    Label(index=3, color=(102, 102, 156), name=\"wall\"),\n",
    "    Label(index=4, color=(190, 153, 153), name=\"fence\"),\n",
    "    Label(index=5, color=(153, 153, 153), name=\"pole\"),\n",
    "    Label(index=6, color=(250, 170, 30), name=\"traffic light\"),\n",
    "    Label(index=7, color=(220, 220, 0), name=\"traffic sign\"),\n",
    "    Label(index=8, color=(107, 142, 35), name=\"vegetation\"),\n",
    "    Label(index=9, color=(152, 251, 152), name=\"terrain\"),\n",
    "    Label(index=10, color=(70, 130, 180), name=\"sky\"),\n",
    "    Label(index=11, color=(220, 20, 60), name=\"person\"),\n",
    "    Label(index=12, color=(255, 0, 0), name=\"rider\"),\n",
    "    Label(index=13, color=(0, 0, 142), name=\"car\"),\n",
    "    Label(index=14, color=(0, 0, 70), name=\"truck\"),\n",
    "    Label(index=15, color=(0, 60, 100), name=\"bus\"),\n",
    "    Label(index=16, color=(0, 80, 100), name=\"train\"),\n",
    "    Label(index=17, color=(0, 0, 230), name=\"motorcycle\"),\n",
    "    Label(index=18, color=(119, 11, 32), name=\"bicycle\"),\n",
    "    Label(index=19, color=(255, 255, 255), name=\"background\"),\n",
    "]\n",
    "\n",
    "CityScapesSegmentation = SegmentationMap(cityscape_labels)\n",
    "\n",
    "binary_labels = [\n",
    "    Label(index=0, color=(255, 255, 255), name=\"background\"),\n",
    "    Label(index=1, color=(0, 0, 0), name=\"foreground\"),\n",
    "]\n",
    "\n",
    "BinarySegmentation = SegmentationMap(binary_labels)"
   ]
  },
  {
   "cell_type": "code",
   "execution_count": null,
   "id": "0fa0b5dc",
   "metadata": {
    "tags": []
   },
   "outputs": [],
   "source": [
    "def segmentation_map_to_image(\n",
    "    result: np.ndarray, colormap: np.ndarray, remove_holes: bool = False\n",
    ") -> np.ndarray:\n",
    "    \"\"\"\n",
    "    Convert network result of floating point numbers to an RGB image with\n",
    "    integer values from 0-255 by applying a colormap.\n",
    "\n",
    "    :param result: A single network result after converting to pixel values in H,W or 1,H,W shape.\n",
    "    :param colormap: A numpy array of shape (num_classes, 3) with an RGB value per class.\n",
    "    :param remove_holes: If set to True, remove holes in the segmentation result.\n",
    "    :return: An RGB image where each pixel is an int8 value according to colormap.\n",
    "    \"\"\"\n",
    "    if len(result.shape) != 2 and result.shape[0] != 1:\n",
    "        raise ValueError(\n",
    "            f\"Expected result with shape (H,W) or (1,H,W), got result with shape {result.shape}\"\n",
    "        )\n",
    "\n",
    "    if len(np.unique(result)) > colormap.shape[0]:\n",
    "        raise ValueError(\n",
    "            f\"Expected max {colormap[0]} classes in result, got {len(np.unique(result))} \"\n",
    "            \"different output values. Make sure to convert the network output to \"\n",
    "            \"pixel values before calling this function.\"\n",
    "        )\n",
    "    elif result.shape[0] == 1:\n",
    "        result = result.squeeze(0)\n",
    "\n",
    "    result = result.astype(np.uint8)\n",
    "\n",
    "    contour_mode = cv2.RETR_EXTERNAL if remove_holes else cv2.RETR_TREE\n",
    "    mask = np.zeros((result.shape[0], result.shape[1], 3), dtype=np.uint8)\n",
    "    for label_index, color in enumerate(colormap):\n",
    "        label_index_map = result == label_index\n",
    "        label_index_map = label_index_map.astype(np.uint8) * 255\n",
    "        contours, hierarchies = cv2.findContours(\n",
    "            label_index_map, contour_mode, cv2.CHAIN_APPROX_SIMPLE\n",
    "        )\n",
    "        cv2.drawContours(\n",
    "            mask,\n",
    "            contours,\n",
    "            contourIdx=-1,\n",
    "            color=color.tolist(),\n",
    "            thickness=cv2.FILLED,\n",
    "        )\n",
    "\n",
    "    return mask\n",
    "\n",
    "\n",
    "def segmentation_map_to_overlay(image, result, alpha, colormap, remove_holes=False) -> np.ndarray:\n",
    "    \"\"\"\n",
    "    Returns a new image where a segmentation mask (created with colormap) is overlayed on\n",
    "    the source image.\n",
    "\n",
    "    :param image: Source image.\n",
    "    :param result: A single network result after converting to pixel values in H,W or 1,H,W shape.\n",
    "    :param alpha: Alpha transparency value for the overlay image.\n",
    "    :param colormap: A numpy array of shape (num_classes, 3) with an RGB value per class.\n",
    "    :param remove_holes: If set to True, remove holes in the segmentation result.\n",
    "    :return: An RGP image with segmentation mask overlayed on the source image.\n",
    "    \"\"\"\n",
    "    if len(image.shape) == 2:\n",
    "        image = np.repeat(np.expand_dims(image, -1), 3, 2)\n",
    "    mask = segmentation_map_to_image(result, colormap, remove_holes)\n",
    "    image_height, image_width = image.shape[:2]\n",
    "    mask = cv2.resize(src=mask, dsize=(image_width, image_height))\n",
    "    return cv2.addWeighted(mask, alpha, image, 1 - alpha, 0)"
   ]
  },
  {
   "cell_type": "markdown",
   "id": "72ab2c0c",
   "metadata": {},
   "source": [
    "### Network Results\n",
    "\n",
    "Show network result image, optionally together with the source image and a legend with labels."
   ]
  },
  {
   "cell_type": "code",
   "execution_count": null,
   "id": "d162edd1",
   "metadata": {
    "tags": []
   },
   "outputs": [],
   "source": [
    "def viz_result_image(\n",
    "    result_image: np.ndarray,\n",
    "    source_image: np.ndarray = None,\n",
    "    source_title: str = None,\n",
    "    result_title: str = None,\n",
    "    labels: List[Label] = None,\n",
    "    resize: bool = False,\n",
    "    bgr_to_rgb: bool = False,\n",
    "    hide_axes: bool = False,\n",
    ") -> matplotlib.figure.Figure:\n",
    "    \"\"\"\n",
    "    Show result image, optionally together with source images, and a legend with labels.\n",
    "\n",
    "    :param result_image: Numpy array of RGB result image.\n",
    "    :param source_image: Numpy array of source image. If provided, this image will be shown\n",
    "                         next to the result image. The 'source_image' is expected to be in RGB format.\n",
    "                         Set `bgr_to_rgb` to True if `source_image` is in BGR format.\n",
    "    :param source_title: Title to display for the source image.\n",
    "    :param result_title: Title to display for the result image.\n",
    "    :param labels: List of labels. If provided, a legend will be shown with the given labels.\n",
    "    :param resize: If set to True, resize the result image to the same shape as the source image.\n",
    "    :param bgr_to_rgb: If set to True, convert the source image from BGR to RGB. Use this option if\n",
    "                       `source_image` is a BGR image.\n",
    "    :param hide_axes: If set to True, do not show matplotlib axes.\n",
    "    :return: Matplotlib figure with the result image.\n",
    "    \"\"\"\n",
    "    if bgr_to_rgb:\n",
    "        source_image = to_rgb(source_image)\n",
    "    if resize:\n",
    "        result_image = cv2.resize(result_image, (source_image.shape[1], source_image.shape[0]))\n",
    "\n",
    "    num_images = 1 if source_image is None else 2\n",
    "\n",
    "    fig, ax = plt.subplots(1, num_images, figsize=(16, 8), squeeze=False)\n",
    "    if source_image is not None:\n",
    "        ax[0, 0].imshow(source_image)\n",
    "        ax[0, 0].set_title(source_title)\n",
    "\n",
    "    ax[0, num_images - 1].imshow(result_image)\n",
    "    ax[0, num_images - 1].set_title(result_title)\n",
    "\n",
    "    if hide_axes:\n",
    "        for a in ax.ravel():\n",
    "            a.axis(\"off\")\n",
    "    if labels:\n",
    "        colors = labels.get_colormap()\n",
    "        lines = [\n",
    "            Line2D(\n",
    "                [0],\n",
    "                [0],\n",
    "                color=[item / 255 for item in c.tolist()],\n",
    "                linewidth=3,\n",
    "                linestyle=\"-\",\n",
    "            )\n",
    "            for c in colors\n",
    "        ]\n",
    "        plt.legend(\n",
    "            lines,\n",
    "            labels.get_labels(),\n",
    "            bbox_to_anchor=(1, 1),\n",
    "            loc=\"upper left\",\n",
    "            prop={\"size\": 12},\n",
    "        )\n",
    "    plt.close(fig)\n",
    "    return fig"
   ]
  },
  {
   "cell_type": "markdown",
   "id": "a6f109c8-1b31-44ce-9c8e-6e52dd489994",
   "metadata": {
    "tags": [
     "hide"
    ]
   },
   "source": [
    "### Test Visualization Functions"
   ]
  },
  {
   "cell_type": "code",
   "execution_count": null,
   "id": "2d300c70",
   "metadata": {
    "tags": [
     "hide"
    ]
   },
   "outputs": [],
   "source": [
    "testimage = np.zeros((100, 100, 3), dtype=np.uint8)\n",
    "testimage[30:80, 30:80, :] = [0, 255, 0]\n",
    "testimage[0:10, 0:10, :] = 100\n",
    "testimage[40:60, 40:60, :] = 128\n",
    "testimage[testimage == 0] = 128\n",
    "\n",
    "\n",
    "testmask1 = np.zeros((testimage.shape[:2]))\n",
    "testmask1[30:80, 30:80] = 1\n",
    "testmask1[40:50, 40:50] = 0\n",
    "testmask1[0:15, 0:10] = 2\n",
    "\n",
    "result_image_overlay = segmentation_map_to_overlay(\n",
    "    image=testimage,\n",
    "    result=testmask1,\n",
    "    alpha=0.6,\n",
    "    colormap=np.array([[0, 0, 0], [255, 0, 0], [255, 255, 0]]),\n",
    ")\n",
    "result_image = segmentation_map_to_image(testmask1, CityScapesSegmentation.get_colormap())\n",
    "result_image_no_holes = segmentation_map_to_image(\n",
    "    testmask1, CityScapesSegmentation.get_colormap(), remove_holes=True\n",
    ")\n",
    "resized_result_image = cv2.resize(result_image, (50, 50))\n",
    "overlay_result_image = segmentation_map_to_overlay(\n",
    "    testimage, testmask1, 0.6, CityScapesSegmentation.get_colormap(), remove_holes=False\n",
    ")\n",
    "\n",
    "fig1 = viz_result_image(result_image, testimage)\n",
    "fig2 = viz_result_image(result_image_no_holes, testimage, labels=CityScapesSegmentation)\n",
    "fig3 = viz_result_image(\n",
    "    resized_result_image,\n",
    "    testimage,\n",
    "    source_title=\"Source Image\",\n",
    "    result_title=\"Resized Result Image\",\n",
    "    resize=True,\n",
    ")\n",
    "fig4 = viz_result_image(\n",
    "    overlay_result_image,\n",
    "    labels=CityScapesSegmentation,\n",
    "    result_title=\"Image with Result Overlay\",\n",
    ")\n",
    "\n",
    "display(fig1, fig2, fig3, fig4)"
   ]
  },
  {
   "cell_type": "markdown",
   "id": "97885ed0-8dea-4511-8558-bf146f5ae9d9",
   "metadata": {},
   "source": [
    "### Live Inference"
   ]
  },
  {
   "cell_type": "code",
   "execution_count": null,
   "id": "c3cf6f55-3d43-467b-94ed-318e345a4d1c",
   "metadata": {},
   "outputs": [],
   "source": [
    "def showarray(frame: np.ndarray, display_handle=None):\n",
    "    \"\"\"\n",
    "    Display `frame` array. Replace information at `display_handle` with `frame`\n",
    "    encoded as jpeg image. The `frame` array is expected to have data in BGR order.\n",
    "\n",
    "    Create a `display_handle` with: `display_handle = display(display_id=True)`\n",
    "    \"\"\"\n",
    "    _, frame = cv2.imencode(ext=\".jpeg\", img=frame)\n",
    "    if display_handle is None:\n",
    "        display_handle = display(Image(data=frame.tobytes()), display_id=True)\n",
    "    else:\n",
    "        display_handle.update(Image(data=frame.tobytes()))\n",
    "    return display_handle\n",
    "\n",
    "\n",
    "def show_live_inference(\n",
    "    ie, image_paths: List, model: model.Model, device: str, reader: Optional[Callable] = None\n",
    "):\n",
    "    \"\"\"\n",
    "    Do inference of images listed in `image_paths` on `model` on the given `device` and show\n",
    "    the results in real time in a Jupyter Notebook.\n",
    "\n",
    "    :param image_paths: List of image filenames to load.\n",
    "    :param model: Model instance for inference.\n",
    "    :param device: Name of device to perform inference on. For example: \"CPU\".\n",
    "    :param reader: Image reader. Should return a numpy array with image data.\n",
    "                   If set to None, `cv2.imread` will be used, with the `cv2.IMREAD_UNCHANGED` flag.\n",
    "    \"\"\"\n",
    "    display_handle = None\n",
    "    next_frame_id = 0\n",
    "    next_frame_id_to_show = 0\n",
    "\n",
    "    input_layer = next(iter(model.net.input_info))\n",
    "\n",
    "    # Create asynchronous pipeline and print time it takes to load the model.\n",
    "    load_start_time = time.perf_counter()\n",
    "    pipeline = AsyncPipeline(\n",
    "        ie=ie, model=model, plugin_config={}, device=device, max_num_requests=0\n",
    "    )\n",
    "    load_end_time = time.perf_counter()\n",
    "\n",
    "    # Perform asynchronous inference.\n",
    "    start_time = time.perf_counter()\n",
    "\n",
    "    while next_frame_id < len(image_paths) - 1:\n",
    "        results = pipeline.get_result(next_frame_id_to_show)\n",
    "\n",
    "        if results:\n",
    "            # Show next result from async pipeline.\n",
    "            result, meta = results\n",
    "            display_handle = showarray(result, display_handle)\n",
    "            next_frame_id_to_show += 1\n",
    "        if pipeline.is_ready():\n",
    "            # Submit a new image to async pipeline.\n",
    "            image_path = image_paths[next_frame_id]\n",
    "            if reader is None:\n",
    "                image = cv2.imread(filename=str(image_path), flags=cv2.IMREAD_UNCHANGED)\n",
    "            else:\n",
    "                image = reader(str(image_path))\n",
    "            pipeline.submit_data(\n",
    "                inputs={input_layer: image}, id=next_frame_id, meta={\"frame\": image}\n",
    "            )\n",
    "            del image\n",
    "            next_frame_id += 1\n",
    "        else:\n",
    "            # If the pipeline is not ready yet and there are no results: wait.\n",
    "            pipeline.await_any()\n",
    "\n",
    "    pipeline.await_all()\n",
    "\n",
    "    # Show all frames that are in the pipeline after all images have been submitted.\n",
    "    while pipeline.has_completed_request():\n",
    "        results = pipeline.get_result(next_frame_id_to_show)\n",
    "        if results:\n",
    "            result, meta = results\n",
    "            display_handle = showarray(result, display_handle)\n",
    "            next_frame_id_to_show += 1\n",
    "\n",
    "    end_time = time.perf_counter()\n",
    "    duration = end_time - start_time\n",
    "    fps = len(image_paths) / duration\n",
    "    print(f\"Loaded model to {device} in {load_end_time-load_start_time:.2f} seconds.\")\n",
    "    print(f\"Total time for {next_frame_id} frames: {duration:.2f} seconds, fps:{fps:.2f}\")\n",
    "\n",
    "    del pipeline.exec_net\n",
    "    del pipeline"
   ]
  },
  {
   "cell_type": "markdown",
   "id": "45df4809-567b-4d3b-b947-d4a0ed981ce9",
   "metadata": {
    "tags": [
     "hide"
    ]
   },
   "source": [
    "#### Test Live Inference"
   ]
  },
  {
   "cell_type": "code",
   "execution_count": null,
   "id": "4e6be35b-de7b-47b7-8cd1-f6ef96e2d0cb",
   "metadata": {
    "tags": [
     "hide"
    ]
   },
   "outputs": [],
   "source": [
    "# Test binary segmentation\n",
    "from models.custom_segmentation import SegmentationModel\n",
    "\n",
    "image_paths = sorted(list(Path(\"../111-detection-quantization/data\").glob(\"*.jpg\")))\n",
    "\n",
    "ie = IECore()\n",
    "segmentation_model = SegmentationModel(\n",
    "    ie,\n",
    "    Path(\"model/segmentation.xml\"),\n",
    "    sigmoid=False,\n",
    "    colormap=np.array([[0, 0, 0], [0, 0, 255]]),\n",
    "    rgb=True,\n",
    "    rotate_and_flip=False,\n",
    ")\n",
    "\n",
    "show_live_inference(\n",
    "    ie=ie,\n",
    "    image_paths=image_paths,\n",
    "    model=segmentation_model,\n",
    "    device=\"CPU\",\n",
    "    reader=lambda x: cv2.cvtColor(cv2.imread(x), cv2.COLOR_BGR2RGB),\n",
    ")"
   ]
  },
  {
   "cell_type": "code",
   "execution_count": null,
   "id": "c42b9127-74b5-4172-8104-5aacf6a22b9c",
   "metadata": {
    "tags": [
     "hide"
    ]
   },
   "outputs": [],
   "source": [
    "# Test multiclass segmentation with different input shape.\n",
    "# This requires running the 102 notebook first, to generate the Fastseg model.\n",
    "\n",
    "fastseg_path = Path(\"../102-pytorch-onnx-to-openvino/model/fastseg1024.xml\")\n",
    "image_path = \"../102-pytorch-onnx-to-openvino/data/street.jpg\"\n",
    "\n",
    "if fastseg_path.exists():\n",
    "    image_paths = [\n",
    "        image_path,\n",
    "    ] * 5\n",
    "\n",
    "    ie = IECore()\n",
    "    CityScapesSegmentation = SegmentationMap(cityscape_labels)\n",
    "    segmentation_model = SegmentationModel(\n",
    "        ie,\n",
    "        fastseg_path,\n",
    "        sigmoid=False,\n",
    "        argmax=True,\n",
    "        colormap=CityScapesSegmentation.get_colormap(),\n",
    "        rgb=True,\n",
    "    )\n",
    "    show_live_inference(ie=ie, image_paths=image_paths, model=segmentation_model, device=\"CPU\")"
   ]
  },
  {
   "cell_type": "markdown",
   "id": "13eba0a6-1494-478c-ba01-e1ed6cdee608",
   "metadata": {
    "tags": []
   },
   "source": [
    "## OpenVINO Tools"
   ]
  },
  {
   "cell_type": "code",
   "execution_count": null,
   "id": "0214f54b-0873-4200-8c3a-73760594cdf4",
   "metadata": {},
   "outputs": [],
   "source": [
    "def benchmark_model(\n",
    "    model_path: PathLike,\n",
    "    device: str = \"CPU\",\n",
    "    seconds: int = 60,\n",
    "    api: str = \"async\",\n",
    "    batch: int = 1,\n",
    "    cache_dir: PathLike = \"model_cache\",\n",
    "):\n",
    "    \"\"\"\n",
    "    Benchmark model specified in `model_path` with `benchmark_app`. Returns the output of `benchmark_app`\n",
    "    without logging info, and information about the device.\n",
    "\n",
    "    :param model_path: The path to an xml file of the OpenVINO IR model, or ONNX model.\n",
    "    :param device: A device to benchmark on. For example, \"CPU\" or \"MULTI:CPU,GPU\".\n",
    "    :param seconds: A number of seconds to run benchmark_app.\n",
    "    :param api: API. Possible options: sync or async.\n",
    "    :param batch: Batch size.\n",
    "    :param cache_dir: A directory that contains model/kernel cache files.\n",
    "    \"\"\"\n",
    "    ie = IECore()\n",
    "    model_path = Path(model_path)\n",
    "    if (\"GPU\" in device) and (\"GPU\" not in ie.available_devices):\n",
    "        raise ValueError(\n",
    "            f\"A GPU device is not available. Available devices are: {ie.available_devices}\"\n",
    "        )\n",
    "    else:\n",
    "        benchmark_command = f\"benchmark_app -m {model_path} -d {device} -t {seconds} -api {api} -b {batch} -cdir {cache_dir}\"\n",
    "        display(\n",
    "            Markdown(\n",
    "                f\"**Benchmark {model_path.name} with {device} for {seconds} seconds with {api} inference**\"\n",
    "            )\n",
    "        )\n",
    "        display(Markdown(f\"Benchmark command: `{benchmark_command}`\"))\n",
    "\n",
    "        benchmark_output = get_ipython().run_line_magic(\"sx\", \"$benchmark_command\")\n",
    "        benchmark_result = [\n",
    "            line\n",
    "            for line in benchmark_output\n",
    "            if not (line.startswith(r\"[\") or line.startswith(\"      \") or line == \"\")\n",
    "        ]\n",
    "        print(\"\\n\".join(benchmark_result))\n",
    "        print()\n",
    "        if \"MULTI\" in device:\n",
    "            devices = device.replace(\"MULTI:\", \"\").split(\",\")\n",
    "            for single_device in devices:\n",
    "                device_name = ie.get_metric(\n",
    "                    device_name=single_device, metric_name=\"FULL_DEVICE_NAME\"\n",
    "                )\n",
    "                print(f\"{single_device} device: {device_name}\")\n",
    "        else:\n",
    "            print(f\"Device: {ie.get_metric(device_name=device, metric_name='FULL_DEVICE_NAME')}\")"
   ]
  },
  {
   "cell_type": "markdown",
   "id": "bb29655c-d1d8-4f73-b56d-2389ef1cc237",
   "metadata": {
    "tags": [
     "hide"
    ]
   },
   "source": [
    "### Test OpenVINO Tools\n"
   ]
  },
  {
   "cell_type": "code",
   "execution_count": null,
   "id": "093969fd-149d-4f6c-8e13-6ed6705170ed",
   "metadata": {
    "tags": [
     "hide"
    ]
   },
   "outputs": [],
   "source": [
    "ie = IECore()\n",
    "model_url = \"https://github.com/openvinotoolkit/openvino_notebooks/raw/main/notebooks/002-openvino-api/model/segmentation.xml\"\n",
    "model_path = download_ir_model(model_url, \"model\")\n",
    "device = \"MULTI:CPU,GPU\" if \"GPU\" in ie.available_devices else \"CPU\"\n",
    "display(Markdown(device))\n",
    "benchmark_model(model_path=model_path, device=device, seconds=5)"
   ]
  },
  {
   "cell_type": "markdown",
   "id": "46431fa9",
   "metadata": {},
   "source": [
    "## Checks and Alerts\n",
    "\n",
    "Create an alert class to show stylized info/error/warning messages and a `check_device` function that checks whether a given device is available."
   ]
  },
  {
   "cell_type": "code",
   "execution_count": null,
   "id": "7f5ccdef",
   "metadata": {},
   "outputs": [],
   "source": [
    "class NotebookAlert(Exception):\n",
    "    def __init__(self, message: str, alert_class: str):\n",
    "        \"\"\"\n",
    "        Show an alert box with the given message.\n",
    "\n",
    "        :param message: The message to display.\n",
    "        :param alert_class: The class for styling the message. Options: info, warning, success, danger.\n",
    "        \"\"\"\n",
    "        self.message = message\n",
    "        self.alert_class = alert_class\n",
    "        self.show_message()\n",
    "\n",
    "    def show_message(self):\n",
    "        display(HTML(f\"\"\"<div class=\"alert alert-{self.alert_class}\">{self.message}\"\"\"))\n",
    "\n",
    "\n",
    "class DeviceNotFoundAlert(NotebookAlert):\n",
    "    def __init__(self, device: str):\n",
    "        \"\"\"\n",
    "        Show a warning message about an unavailable device. This class does not check whether or\n",
    "        not the device is available, use `check_device` to check this. The `check_device` function\n",
    "        also shows the warning if the device is not found.\n",
    "\n",
    "        :param device: The unavailable device.\n",
    "        :return: A formatted alert box with the message that `device` is not available, and a list\n",
    "                 of devices that are available.\n",
    "        \"\"\"\n",
    "        ie = IECore()\n",
    "        supported_devices = ie.available_devices\n",
    "        self.message = (\n",
    "            f\"Running this cell requires a {device} device, \"\n",
    "            \"which is not available on this system. \"\n",
    "        )\n",
    "        self.alert_class = \"warning\"\n",
    "        if len(supported_devices) == 1:\n",
    "            self.message += f\"The following device is available: {ie.available_devices[0]}\"\n",
    "        else:\n",
    "            self.message += (\n",
    "                \"The following devices are available: \" f\"{', '.join(ie.available_devices)}\"\n",
    "            )\n",
    "        super().__init__(self.message, self.alert_class)\n",
    "\n",
    "\n",
    "def check_device(device: str) -> bool:\n",
    "    \"\"\"\n",
    "    Check if the specified device is available on the system.\n",
    "\n",
    "    :param device: Device to check. For example, CPU, GPU.\n",
    "    :return: True if the device is available, False if not. If the device is not available,\n",
    "             a `DeviceNotFoundAlert` message will be shown.\n",
    "    \"\"\"\n",
    "    ie = IECore()\n",
    "    if device not in ie.available_devices:\n",
    "        DeviceNotFoundAlert(device)\n",
    "        return False\n",
    "    else:\n",
    "        return True\n",
    "\n",
    "\n",
    "def check_openvino_version(version: str) -> bool:\n",
    "    \"\"\"\n",
    "    Check if the specified OpenVINO version is installed.\n",
    "\n",
    "    :param version: The OpenVINO version to check. Example: 2021.4.\n",
    "    :return: True if the version is installed, False if not. If the version is not installed,\n",
    "             an alert message will be shown.\n",
    "    \"\"\"\n",
    "    installed_version = openvino.inference_engine.get_version()\n",
    "    if version not in installed_version:\n",
    "        NotebookAlert(\n",
    "            f\"This notebook requires OpenVINO {version}. \"\n",
    "            f\"The version on your system is: <i>{installed_version}</i>.<br>\"\n",
    "            \"Run <span style='font-family:monospace'>pip install --upgrade -r requirements.txt</span> \"\n",
    "            \"in the 'openvino_env' environment to install this version. \"\n",
    "            \"See the <a href='https://github.com/openvinotoolkit/openvino_notebooks'>\"\n",
    "            \"OpenVINO Notebooks README</a> for detailed instructions\",\n",
    "            alert_class=\"danger\",\n",
    "        )\n",
    "        return False\n",
    "    else:\n",
    "        return True"
   ]
  },
  {
   "cell_type": "markdown",
   "id": "a19e1d08",
   "metadata": {
    "tags": [
     "hide"
    ]
   },
   "source": [
    "### Test Alerts"
   ]
  },
  {
   "cell_type": "code",
   "execution_count": null,
   "id": "a7983c8f",
   "metadata": {
    "tags": [
     "hide"
    ]
   },
   "outputs": [],
   "source": [
    "NotebookAlert(message=\"Hello, world!\", alert_class=\"info\")\n",
    "DeviceNotFoundAlert(\"GPU\");"
   ]
  },
  {
   "cell_type": "code",
   "execution_count": null,
   "id": "6bda8ef3",
   "metadata": {
    "tags": [
     "hide"
    ]
   },
   "outputs": [],
   "source": [
    "assert check_device(\"CPU\")"
   ]
  },
  {
   "cell_type": "code",
   "execution_count": null,
   "id": "944820e1",
   "metadata": {
    "tags": [
     "hide"
    ]
   },
   "outputs": [],
   "source": [
    "if check_device(\"HELLOWORLD\"):\n",
    "    print(\"Hello World device found.\")"
   ]
  },
  {
   "cell_type": "code",
   "execution_count": null,
   "id": "41c370ef",
   "metadata": {
    "tags": [
     "hide"
    ]
   },
   "outputs": [],
   "source": [
    "check_openvino_version(\"2022.1\");"
   ]
  }
 ],
 "metadata": {
  "celltoolbar": "Edit Metadata",
  "interpreter": {
   "hash": "ae617ccb002f72b3ab6d0069d721eac67ac2a969e83c083c4321cfcab0437cd1"
  },
  "kernelspec": {
   "display_name": "Python 3",
   "language": "python",
   "name": "python3"
  },
  "language_info": {
   "codemirror_mode": {
    "name": "ipython",
    "version": 3
   },
   "file_extension": ".py",
   "mimetype": "text/x-python",
   "name": "python",
   "nbconvert_exporter": "python",
   "pygments_lexer": "ipython3",
   "version": "3.8.10"
  }
 },
 "nbformat": 4,
 "nbformat_minor": 5
}
