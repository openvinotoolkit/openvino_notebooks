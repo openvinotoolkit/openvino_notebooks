{
 "cells": [
  {
   "cell_type": "markdown",
   "source": [
    "# Convert PyTorch Model to ONNX and OpenVINO IR\n",
    "\n",
    "This tutorial demonstrates step-by-step instructions to perform inference on a PyTorch semantic segmentation model using [OpenVINO](https://github.com/openvinotoolkit/openvino)\n",
    "\n",
    "The PyTorch model is converted to ONNX and OpenVINO Intermediate Representation (IR) format. The ONNX and IR models are loaded in OpenVINO Inference Engine to show model predictions. The model is pretrained on [CityScapes](https://www.cityscapes-dataset.com). The model source is https://github.com/ekzhang/fastseg"
   ],
   "metadata": {
    "id": "JwEAhQVzkAwA"
   }
  },
  {
   "cell_type": "markdown",
   "source": [
    "## Preparation"
   ],
   "metadata": {}
  },
  {
   "cell_type": "markdown",
   "source": [
    "### Imports"
   ],
   "metadata": {
    "id": "QB4Yo-rGGLmV"
   }
  },
  {
   "cell_type": "code",
   "execution_count": null,
   "source": [
    "import sys\n",
    "import time\n",
    "import os\n",
    "from pathlib import Path\n",
    "\n",
    "import cv2\n",
    "import matplotlib.pyplot as plt\n",
    "import mo_onnx\n",
    "import numpy as np\n",
    "import torch\n",
    "from fastseg import MobileV3Large\n",
    "from openvino.inference_engine import IECore\n",
    "\n",
    "\n",
    "sys.path.append(\"../utils\")\n",
    "from notebook_utils import CityScapes, create_local_folder, segmentation_map_to_image, viz_image_and_result"
   ],
   "outputs": [],
   "metadata": {
    "id": "2ynWRum4iiTz"
   }
  },
  {
   "cell_type": "markdown",
   "source": [
    "### Settings\n",
    "\n",
    "Set the name for the model, and the image width and height that will be used for the network. CityScapes is pretrained on images of 2048x1024. Using smaller dimensions will impact model accuracy, but will improve inference speed. "
   ],
   "metadata": {}
  },
  {
   "cell_type": "code",
   "execution_count": null,
   "source": [
    "IMAGE_WIDTH = 1024  # Suggested values: 2048, 1024 or 512. The minimum width is 512.\n",
    "# Set IMAGE_HEIGHT manually for custom input sizes. Minimum height is 512\n",
    "IMAGE_HEIGHT = 1024 if IMAGE_WIDTH == 2048 else 512\n",
    "DIRECTORY_NAME = \"local\"\n",
    "BASE_MODEL_NAME = DIRECTORY_NAME + f\"/fastseg{IMAGE_WIDTH}\"\n",
    "\n",
    "# Paths where PyTorch, ONNX and OpenVINO IR models will be stored\n",
    "model_path = Path(BASE_MODEL_NAME).with_suffix(\".pth\")\n",
    "onnx_path = model_path.with_suffix(\".onnx\")\n",
    "ir_path = model_path.with_suffix(\".xml\")"
   ],
   "outputs": [],
   "metadata": {}
  },
  {
   "cell_type": "markdown",
   "source": [
    "### Download the Fastseg Model\n",
    "\n",
    "This downloads and loads the model and pretrained weights. It may take some time."
   ],
   "metadata": {
    "id": "u5xKw0hR0jq6"
   }
  },
  {
   "cell_type": "code",
   "execution_count": null,
   "source": [
    "print(\"Downloading the Fastseg model (if it has not been downloaded before)....\")\n",
    "model = MobileV3Large.from_pretrained().cpu().eval()\n",
    "print(\"Loaded PyTorch Fastseg model\")\n",
    "\n",
    "# Save the model\n",
    "if not model_path.exists():\n",
    "    if not os.path.isdir(DIRECTORY_NAME):\n",
    "        if not create_local_folder():\n",
    "            raise OSError(\"Unable to create folder\")\n",
    "    print(\"\\nSaving the model\")\n",
    "    torch.save(model.state_dict(), str(model_path))\n",
    "    print(f\"Model saved at {model_path}\")"
   ],
   "outputs": [],
   "metadata": {
    "colab": {
     "base_uri": "https://localhost:8080/"
    },
    "id": "xGKkMRfvi0op",
    "outputId": "4eb1f9af-a4c5-424c-f808-dd9cc2600975"
   }
  },
  {
   "cell_type": "markdown",
   "source": [
    "## ONNX Model Conversion\n",
    "\n",
    "### Convert PyTorch model to ONNX\n",
    "\n",
    "The output for this cell will show some warnings. These are most likely harmless. Conversion succeeded if the last line of the output says `ONNX model exported to fastseg1024.onnx.` "
   ],
   "metadata": {
    "id": "Rhc_7EObUypw"
   }
  },
  {
   "cell_type": "code",
   "execution_count": null,
   "source": [
    "if not onnx_path.exists():\n",
    "    dummy_input = torch.randn(1, 3, IMAGE_HEIGHT, IMAGE_WIDTH)\n",
    "\n",
    "    # For the Fastseg model, setting do_constant_folding to False is required\n",
    "    # for PyTorch>1.5.1\n",
    "    torch.onnx.export(\n",
    "        model,\n",
    "        dummy_input,\n",
    "        onnx_path,\n",
    "        opset_version=11,\n",
    "        do_constant_folding=False,\n",
    "    )\n",
    "    print(f\"ONNX model exported to {onnx_path}.\")\n",
    "else:\n",
    "    print(f\"ONNX model {onnx_path} already exists.\")"
   ],
   "outputs": [],
   "metadata": {
    "colab": {
     "base_uri": "https://localhost:8080/"
    },
    "id": "ipQWpbgQUxoo",
    "outputId": "bbc1734a-c2a2-4261-ed45-264b9e3edd00"
   }
  },
  {
   "cell_type": "markdown",
   "source": [
    "### Convert ONNX model to OpenVINO IR Format\n",
    "\n",
    "Call the OpenVINO Model Optimizer tool to convert the ONNX model to OpenVINO IR, with FP16 precision. The models are saved to the current directory. We add the mean values to the model and scale the output with the standard deviation with `--scale_values`. With these options, it is not necessary to normalize input data before propagating it through the network.\n",
    "\n",
    "See the [Model Optimizer Developer Guide](https://docs.openvinotoolkit.org/latest/openvino_docs_MO_DG_Deep_Learning_Model_Optimizer_DevGuide.html) for more information about Model Optimizer."
   ],
   "metadata": {
    "id": "6JSoEIk60uxV"
   }
  },
  {
   "cell_type": "markdown",
   "source": [
    "Executing this command may take a while. There may be some errors or warnings in the output. Model Optimization was succesful if the last lines of the output include `[ SUCCESS ] Generated IR version 10 model.\n",
    "`"
   ],
   "metadata": {}
  },
  {
   "cell_type": "code",
   "execution_count": null,
   "source": [
    "# Get the path to the Model Optimizer script\n",
    "mo_path = str(Path(mo_onnx.__file__))\n",
    "\n",
    "# Construct the command for Model Optimizer\n",
    "mo_command = f\"\"\"\"{sys.executable}\"\n",
    "                 \"{mo_path}\"\n",
    "                 --input_model \"{onnx_path}\"\n",
    "                 --input_shape \"[1,3, {IMAGE_HEIGHT}, {IMAGE_WIDTH}]\"\n",
    "                 --mean_values=\"[123.675, 116.28 , 103.53]\"\n",
    "                 --scale_values=\"[58.395, 57.12 , 57.375]\"\n",
    "                 --data_type FP16\n",
    "                 --output_dir \"{model_path.parent}\"\n",
    "                 \"\"\"\n",
    "mo_command = \" \".join(mo_command.split())\n",
    "print(\"Model Optimizer command to convert the ONNX model to OpenVINO:\")\n",
    "print(mo_command)"
   ],
   "outputs": [],
   "metadata": {
    "tags": []
   }
  },
  {
   "cell_type": "code",
   "execution_count": null,
   "source": [
    "if not ir_path.exists():\n",
    "    print(\"Exporting ONNX model to IR... This may take a few minutes.\")\n",
    "    mo_result = %sx $mo_command\n",
    "    print(\"\\n\".join(mo_result))\n",
    "else:\n",
    "    print(f\"IR model {ir_path} already exists.\")"
   ],
   "outputs": [],
   "metadata": {
    "id": "6YUwrq7QWSzw",
    "tags": []
   }
  },
  {
   "cell_type": "markdown",
   "source": [
    "## Show Results\n",
    "\n",
    "Confirm that the segmentation results look as expected, by comparing model predictions on the ONNX, IR and PyTorch model"
   ],
   "metadata": {
    "id": "FAGmlKQ83ecE"
   }
  },
  {
   "cell_type": "markdown",
   "source": [
    "### Load and Preprocess an Input Image\n",
    "\n",
    "For the OpenVINO model, normalization is moved to the model. For the ONNX and PyTorch models, images need to be normalized before propagating through the network."
   ],
   "metadata": {
    "id": "JyD5EKka34Wd"
   }
  },
  {
   "cell_type": "code",
   "execution_count": null,
   "source": [
    "def normalize(image: np.ndarray) -> np.ndarray:\n",
    "    \"\"\"\n",
    "    Normalize the image to the given mean and standard deviation\n",
    "    for CityScapes models.\n",
    "    \"\"\"\n",
    "    image = image.astype(np.float32)\n",
    "    mean = (0.485, 0.456, 0.406)\n",
    "    std = (0.229, 0.224, 0.225)\n",
    "    image /= 255.0\n",
    "    image -= mean\n",
    "    image /= std\n",
    "    return image"
   ],
   "outputs": [],
   "metadata": {
    "id": "QTOoQnSetzQM",
    "tags": []
   }
  },
  {
   "cell_type": "code",
   "execution_count": null,
   "source": [
    "image_filename = \"data/coco_cross.png\"\n",
    "image = cv2.cvtColor(cv2.imread(image_filename), cv2.COLOR_BGR2RGB)\n",
    "\n",
    "resized_image = cv2.resize(image, (IMAGE_WIDTH, IMAGE_HEIGHT))\n",
    "normalized_image = normalize(resized_image)\n",
    "\n",
    "# Convert the resized images to network input shape\n",
    "input_image = np.expand_dims(np.transpose(resized_image, (2, 0, 1)), 0)\n",
    "normalized_input_image = np.expand_dims(np.transpose(normalized_image, (2, 0, 1)), 0)"
   ],
   "outputs": [],
   "metadata": {
    "colab": {
     "base_uri": "https://localhost:8080/"
    },
    "id": "DGFW5VXL3x9G",
    "outputId": "300eacff-c6de-4eb5-e99a-8def5260da1a",
    "tags": []
   }
  },
  {
   "cell_type": "markdown",
   "source": [
    "### Load the OpenVINO IR network and Run Inference on the ONNX model\n",
    "\n",
    "Inference Engine can load ONNX models directly. We first load the ONNX model, do inference and show the results. After that we load the model that was converted to Intermediate Representation (IR) with Model Optimizer and do inference on that model and show the results.\n",
    "\n",
    "#### 1. ONNX model in Inference Engine"
   ],
   "metadata": {
    "id": "FnEiEbNq4Csh"
   }
  },
  {
   "cell_type": "code",
   "execution_count": null,
   "source": [
    "# Load network to Inference Engine\n",
    "ie = IECore()\n",
    "net_onnx = ie.read_network(model=onnx_path)\n",
    "exec_net_onnx = ie.load_network(network=net_onnx, device_name=\"CPU\")\n",
    "\n",
    "input_layer_onnx = next(iter(exec_net_onnx.input_info))\n",
    "output_layer_onnx = next(iter(exec_net_onnx.outputs))\n",
    "\n",
    "# Run inference on the input image\n",
    "res_onnx = exec_net_onnx.infer(inputs={input_layer_onnx: normalized_input_image})\n",
    "res_onnx = res_onnx[output_layer_onnx]"
   ],
   "outputs": [],
   "metadata": {
    "id": "otfT6EDk03KV",
    "tags": []
   }
  },
  {
   "cell_type": "code",
   "execution_count": null,
   "source": [
    "# Convert network result to segmentation map and display the result\n",
    "result_mask_onnx = np.squeeze(np.argmax(res_onnx, axis=1)).astype(np.uint8)\n",
    "viz_image_and_result(\n",
    "    image, segmentation_map_to_image(result_mask_onnx, CityScapes.get_colormap()), resize=True\n",
    ")"
   ],
   "outputs": [],
   "metadata": {
    "colab": {
     "base_uri": "https://localhost:8080/",
     "height": 348
    },
    "id": "q8NRH8hLuWeV",
    "outputId": "8b17f90e-b3bc-456f-b6f3-e9cd4f743b2f",
    "tags": []
   }
  },
  {
   "cell_type": "markdown",
   "source": [
    "#### 2. IR model in Inference Engine"
   ],
   "metadata": {
    "id": "FnEiEbNq4Csh"
   }
  },
  {
   "cell_type": "code",
   "execution_count": null,
   "source": [
    "# Load network to Inference Engine\n",
    "ie = IECore()\n",
    "net_ir = ie.read_network(model=ir_path)\n",
    "exec_net_ir = ie.load_network(network=net_ir, device_name=\"CPU\")\n",
    "\n",
    "# Get names of input and output layers\n",
    "input_layer_ir = next(iter(exec_net_ir.input_info))\n",
    "output_layer_ir = next(iter(exec_net_ir.outputs))\n",
    "\n",
    "# Run the Inference on the Input image...\n",
    "res_ir = exec_net_ir.infer(inputs={input_layer_ir: input_image})\n",
    "res_ir = res_ir[output_layer_ir]"
   ],
   "outputs": [],
   "metadata": {
    "id": "otfT6EDk03KV",
    "tags": []
   }
  },
  {
   "cell_type": "code",
   "execution_count": null,
   "source": [
    "result_mask_ir = np.squeeze(np.argmax(res_ir, axis=1)).astype(np.uint8)\n",
    "viz_image_and_result(\n",
    "    image, segmentation_map_to_image(result_mask_ir, CityScapes.get_colormap()), resize=True\n",
    ")"
   ],
   "outputs": [],
   "metadata": {
    "colab": {
     "base_uri": "https://localhost:8080/",
     "height": 348
    },
    "id": "q8NRH8hLuWeV",
    "outputId": "8b17f90e-b3bc-456f-b6f3-e9cd4f743b2f",
    "tags": []
   }
  },
  {
   "cell_type": "markdown",
   "source": [
    "## PyTorch Comparison\n",
    "\n",
    "Do inference on the PyTorch model to verify that the output visually looks the same as the output on the ONNX/IR models."
   ],
   "metadata": {
    "id": "w3UUduQEGsQm"
   }
  },
  {
   "cell_type": "code",
   "execution_count": null,
   "source": [
    "with torch.no_grad():\n",
    "    result_torch = model(torch.as_tensor(normalized_input_image).float())\n",
    "\n",
    "result_mask_torch = torch.argmax(result_torch, dim=1).squeeze(0).numpy().astype(np.uint8)\n",
    "viz_image_and_result(\n",
    "    image, segmentation_map_to_image(result_mask_torch, CityScapes.get_colormap()), resize=True\n",
    ")"
   ],
   "outputs": [],
   "metadata": {
    "colab": {
     "base_uri": "https://localhost:8080/",
     "height": 348
    },
    "id": "1l1JtgeV4Wuw",
    "outputId": "f21c8904-83da-438c-df39-4620bb679554",
    "tags": []
   }
  },
  {
   "cell_type": "markdown",
   "source": [
    "## Performance Comparison\n",
    "\n",
    "Measure the time it takes to do inference on five images. This gives an indication of performance. For more accurate benchmarking, use the [OpenVINO Benchmark Tool](https://docs.openvinotoolkit.org/latest/openvino_inference_engine_tools_benchmark_tool_README.html). Note that many optimizations are possible to improve the performance. "
   ],
   "metadata": {}
  },
  {
   "cell_type": "code",
   "execution_count": null,
   "source": [
    "num_images = 5\n",
    "\n",
    "start = time.perf_counter()\n",
    "for _ in range(num_images):\n",
    "    exec_net_onnx.infer(inputs={input_layer_onnx: input_image})\n",
    "end = time.perf_counter()\n",
    "time_onnx = end - start\n",
    "print(\n",
    "    f\"ONNX model in Inference Engine/CPU: {time_onnx/num_images:.3f} \"\n",
    "    f\"seconds per image, FPS: {num_images/time_onnx:.2f}\"\n",
    ")\n",
    "\n",
    "start = time.perf_counter()\n",
    "for _ in range(num_images):\n",
    "    exec_net_ir.infer(inputs={input_layer_ir: input_image})\n",
    "end = time.perf_counter()\n",
    "time_ir = end - start\n",
    "print(\n",
    "    f\"IR model in Inference Engine/CPU: {time_ir/num_images:.3f} \"\n",
    "    f\"seconds per image, FPS: {num_images/time_ir:.2f}\"\n",
    ")\n",
    "\n",
    "with torch.no_grad():\n",
    "    start = time.perf_counter()\n",
    "    for _ in range(num_images):\n",
    "        model(torch.as_tensor(input_image).float())\n",
    "    end = time.perf_counter()\n",
    "    time_torch = end - start\n",
    "print(\n",
    "    f\"PyTorch model on CPU: {time_torch/num_images:.3f} seconds per image, \"\n",
    "    f\"FPS: {num_images/time_torch:.2f}\"\n",
    ")\n",
    "\n",
    "## Uncomment the following lines for iGPU performance stats\n",
    "\n",
    "# exec_net_onnx_gpu = ie.load_network(network=net_ir, device_name=\"GPU\")\n",
    "# start = time.perf_counter()\n",
    "# for _ in range(num_images):\n",
    "#     exec_net_onnx_gpu.infer(inputs={input_layer_onnx: input_image})\n",
    "# end = time.perf_counter()\n",
    "# time_onnx_gpu = end - start\n",
    "# print(\n",
    "#     f\"ONNX model in Inference Engine/GPU: {time_onnx_gpu/num_images:.3f} \"\n",
    "#     f\"seconds per image, FPS: {num_images/time_onnx_gpu:.2f}\"\n",
    "# )\n",
    "\n",
    "# exec_net_ir_gpu = ie.load_network(network=net_ir, device_name=\"GPU\")\n",
    "# start = time.perf_counter()\n",
    "# for _ in range(num_images):\n",
    "#     exec_net_ir_gpu.infer(inputs={input_layer_ir: input_image})\n",
    "# end = time.perf_counter()\n",
    "# time_ir_gpu = end - start\n",
    "# print(\n",
    "#     f\"IR model in Inference Engine/GPU: {time_ir_gpu/num_images:.3f} \"\n",
    "#     f\"seconds per image, FPS: {num_images/time_ir_gpu:.2f}\"\n",
    "# )"
   ],
   "outputs": [],
   "metadata": {}
  },
  {
   "cell_type": "markdown",
   "source": [
    "**Show CPU Information for reference**"
   ],
   "metadata": {}
  },
  {
   "cell_type": "code",
   "execution_count": null,
   "source": [
    "try:\n",
    "    import cpuinfo\n",
    "\n",
    "    print(cpuinfo.get_cpu_info()[\"brand_raw\"])\n",
    "except Exception:\n",
    "    # OpenVINO installs cpuinfo, but if a different version is installed\n",
    "    # the command above may not work\n",
    "    import platform\n",
    "\n",
    "    print(platform.processor())"
   ],
   "outputs": [],
   "metadata": {}
  },
  {
   "cell_type": "markdown",
   "source": [
    "# References\n",
    "\n",
    "* Fastseg: https://github.com/ekzhang/fastseg\n",
    "* PIP install openvino-dev: https://github.com/openvinotoolkit/openvino/blob/releases/2021/3/docs/install_guides/pypi-openvino-dev.md\n",
    "* OpenVINO ONNX support: https://docs.openvinotoolkit.org/latest/openvino_docs_IE_DG_ONNX_Support.html\n",
    "* Model Optimizer Documentation: https://docs.openvinotoolkit.org/latest/openvino_docs_MO_DG_prepare_model_convert_model_Converting_Model_General.html\n"
   ],
   "metadata": {}
  },
  {
   "cell_type": "code",
   "execution_count": null,
   "source": [],
   "outputs": [],
   "metadata": {}
  }
 ],
 "metadata": {
  "colab": {
   "collapsed_sections": [],
   "name": "OpenVINO 2021.3 PIP installer - PyTorch Image Segmentation.ipynb",
   "provenance": [],
   "toc_visible": true
  },
  "kernelspec": {
   "name": "python3",
   "display_name": "Python 3.7.8 64-bit ('venv': venv)"
  },
  "language_info": {
   "name": "python",
   "version": "3.7.8",
   "mimetype": "text/x-python",
   "codemirror_mode": {
    "name": "ipython",
    "version": 3
   },
   "pygments_lexer": "ipython3",
   "nbconvert_exporter": "python",
   "file_extension": ".py"
  },
  "interpreter": {
   "hash": "ae617ccb002f72b3ab6d0069d721eac67ac2a969e83c083c4321cfcab0437cd1"
  }
 },
 "nbformat": 4,
 "nbformat_minor": 4
}