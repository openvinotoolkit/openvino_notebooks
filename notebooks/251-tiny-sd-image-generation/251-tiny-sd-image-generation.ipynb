{
 "cells": [
  {
   "cell_type": "markdown",
   "metadata": {},
   "source": [
    "# Image Generation with Tiny-SD and OpenVINO™\n",
    "\n",
    "In recent times, the AI community has witnessed a remarkable surge in the development of larger and more performant language models, such as Falcon 40B, LLaMa-2 70B, Falcon 40B, MPT 30B, and in the imaging domain with models like SD2.1 and SDXL. These advancements have undoubtedly pushed the boundaries of what AI can achieve, enabling highly versatile and state-of-the-art image generation and language understanding capabilities. However, the breakthrough of large models comes with substantial computational demands. To resolve this issue, recent research on efficient Stable Diffusion has prioritized reducing the number of sampling steps and utilizing network quantization.\n",
    "\n",
    "Moving towards the goal of making image generative models faster, smaller, and cheaper, Tiny-SD was proposed by Segmind. Tiny SD is a compressed Stable Diffusion (SD) model that has been trained on Knowledge-Distillation (KD) techniques and the work has been largely based on this [paper](https://arxiv.org/pdf/2305.15798.pdf). The authors describe a Block-removal Knowledge-Distillation method where some of the UNet layers are removed and the student model weights are trained. Using the KD methods described in the paper, they were able to train two compressed models using the 🧨 diffusers library; Small and Tiny, that have 35% and 55% fewer parameters, respectively than the base model while achieving comparable image fidelity as the base model. More details about model can be found in [model card](https://huggingface.co/segmind/tiny-sd), [blog post](https://huggingface.co/blog/sd_distillation) and training [repository](https://github.com/segmind/distill-sd).\n",
    "\n",
    "This notebook demonstrates how to convert and run the Tiny-SD model using OpenVINO.\n",
    "\n",
    "The notebook contains the following steps:\n",
    "\n",
    "1. Convert PyTorch models to OpenVINO Intermediate Representation using OpenVINO Converter Tool (OVC).\n",
    "2. Prepare Inference Pipeline.\n",
    "3. Run Inference pipeline with OpenVINO.\n",
    "4. Run Interactive demo for Tiny-SD model\n"
   ]
  },
  {
   "cell_type": "markdown",
   "metadata": {},
   "source": [
    "### Table of content:\n",
    "- [Prerequisites](#Prerequisites-Uparrow)\n",
    "- [Create PyTorch Models pipeline](#Create-PyTorch-Models-pipeline-Uparrow)\n",
    "- [Convert models to OpenVINO Intermediate representation (IR) format](#Convert-models-to-OpenVINO-Intermediate-representation-format-Uparrow)\n",
    "    - [Text Encoder](#Text-Encoder-Uparrow)\n",
    "    - [U-net](#U-net-Uparrow)\n",
    "    - [VAE](#VAE-Uparrow)\n",
    "- [Prepare Inference Pipeline](#Prepare-Inference-Pipeline-Uparrow)\n",
    "- [Configure Inference Pipeline](#Configure-Inference-Pipeline-Uparrow)\n",
    "    - [Text-to-Image generation](#Text-to-Image-generation-Uparrow)\n",
    "    - [Image-to-Image generation](#Image-to-Image-generation-Uparrow)\n",
    "- [Interactive Demo](#Interactive-Demo-Uparrow)"
   ]
  },
  {
   "cell_type": "markdown",
   "metadata": {},
   "source": [
    "## Prerequisites [$\\Uparrow$](#Table-of-content:)\n",
    "\n",
    "Install required dependencies"
   ]
  },
  {
   "cell_type": "code",
   "execution_count": 1,
   "metadata": {},
   "outputs": [
    {
     "name": "stdout",
     "output_type": "stream",
     "text": [
      "Note: you may need to restart the kernel to use updated packages.\n",
      "Note: you may need to restart the kernel to use updated packages.\n"
     ]
    }
   ],
   "source": [
    "%pip install -q --find-links https://download.pytorch.org/whl/torch_stable.html \\\n",
    "\"torch==2.1.0; sys_platform == 'darwin'\" \\\n",
    "\"torch==2.1.0+cpu; sys_platform == 'linux' or platform_system == 'Windows'\" \\\n",
    "\"torchvision==0.16.0; sys_platform == 'darwin'\" \\\n",
    "\"torchvision==0.16.0+cpu; sys_platform == 'linux' or platform_system == 'Windows'\"\n",
    "%pip -q install \"openvino>=2023.1.0\" \"diffusers>=0.18.0\" \"transformers>=4.30.2\" \"gradio\""
   ]
  },
  {
   "cell_type": "markdown",
   "metadata": {},
   "source": [
    "## Create PyTorch Models pipeline [$\\Uparrow$](#Table-of-content:)\n",
    "`StableDiffusionPipeline` is an end-to-end inference pipeline that you can use to generate images from text with just a few lines of code.\n",
    "\n",
    "First, load the pre-trained weights of all components of the model."
   ]
  },
  {
   "cell_type": "code",
   "execution_count": 2,
   "metadata": {
    "colab": {
     "base_uri": "https://localhost:8080/"
    },
    "id": "8NS0mazM0icN",
    "outputId": "b98b31ca-65ca-4bb0-fad2-2599c668ccad"
   },
   "outputs": [
    {
     "name": "stderr",
     "output_type": "stream",
     "text": [
      "vae/diffusion_pytorch_model.safetensors not found\n"
     ]
    },
    {
     "data": {
      "application/vnd.jupyter.widget-view+json": {
       "model_id": "c03046d245de42a8b98a95f19b4e632a",
       "version_major": 2,
       "version_minor": 0
      },
      "text/plain": [
       "Loading pipeline components...:   0%|          | 0/5 [00:00<?, ?it/s]"
      ]
     },
     "metadata": {},
     "output_type": "display_data"
    },
    {
     "data": {
      "text/plain": [
       "27"
      ]
     },
     "execution_count": 2,
     "metadata": {},
     "output_type": "execute_result"
    }
   ],
   "source": [
    "import gc\n",
    "from diffusers import StableDiffusionPipeline\n",
    "\n",
    "model_id = \"segmind/tiny-sd\"\n",
    "\n",
    "pipe = StableDiffusionPipeline.from_pretrained(model_id).to(\"cpu\")\n",
    "text_encoder = pipe.text_encoder\n",
    "text_encoder.eval()\n",
    "unet = pipe.unet\n",
    "unet.eval()\n",
    "vae = pipe.vae\n",
    "vae.eval()\n",
    "\n",
    "del pipe\n",
    "gc.collect()"
   ]
  },
  {
   "cell_type": "markdown",
   "metadata": {},
   "source": [
    "## Convert models to OpenVINO Intermediate representation format [$\\Uparrow$](#Table-of-content:)\n",
    "\n",
    "OpenVINO supports PyTorch through conversion to OpenVINO Intermediate Representation (IR) format.  To take the advantage of OpenVINO optimization tools and features, the model should be converted using the OpenVINO Converter tool (OVC). The `openvino.convert_model` function provides Python API for OVC usage. The function returns the instance of the OpenVINO Model class, which is ready for use in the Python interface. However, it can also be saved on disk using `openvino.save_model` for future execution.\n",
    "\n",
    "Starting from OpenVINO 2023.0.0 release OpenVINO supports direct conversion PyTorch models. To perform conversion, we should provide PyTorch model instance and example input into `openvino.convert_model`. By default, model converted with dynamic shapes preserving, in order to fixate input shape to generate image of specific resolution, `input` parameter additionally can be specified.\n",
    "\n",
    "The model consists of three important parts:\n",
    "\n",
    "* Text Encoder for creation condition to generate image from text prompt.\n",
    "* U-net for step by step denoising latent image representation.\n",
    "* Autoencoder (VAE) for encoding input image to latent space (if required) and decoding latent space to image back after generation.\n",
    "\n",
    "Let us convert each part."
   ]
  },
  {
   "cell_type": "markdown",
   "metadata": {},
   "source": [
    "### Text Encoder [$\\Uparrow$](#Table-of-content:)\n",
    "\n",
    "The text-encoder is responsible for transforming the input prompt, for example, \"a photo of an astronaut riding a horse\" into an embedding space that can be understood by the U-Net. It is usually a simple transformer-based encoder that maps a sequence of input tokens to a sequence of latent text embeddings.\n",
    "\n",
    "Input of the text encoder is the tensor `input_ids` which contains indexes of tokens from text processed by tokenizer and padded to maximum length accepted by model. Model outputs are two tensors: `last_hidden_state` - hidden state from the last MultiHeadAttention layer in the model and `pooler_out` - Pooled output for whole model hidden states."
   ]
  },
  {
   "cell_type": "code",
   "execution_count": 3,
   "metadata": {
    "colab": {
     "base_uri": "https://localhost:8080/"
    },
    "id": "U1cQFbVS0Ugf",
    "outputId": "9b3b825f-2adc-4d90-cae0-74890d368eab"
   },
   "outputs": [
    {
     "name": "stdout",
     "output_type": "stream",
     "text": [
      "Text encoder will be loaded from text_encoder.xml\n"
     ]
    },
    {
     "data": {
      "text/plain": [
       "0"
      ]
     },
     "execution_count": 3,
     "metadata": {},
     "output_type": "execute_result"
    }
   ],
   "source": [
    "from pathlib import Path\n",
    "import torch\n",
    "import openvino as ov\n",
    "\n",
    "TEXT_ENCODER_OV_PATH = Path(\"text_encoder.xml\")\n",
    "\n",
    "\n",
    "def convert_encoder(text_encoder: torch.nn.Module, ir_path:Path):\n",
    "    \"\"\"\n",
    "    Convert Text Encoder mode. \n",
    "    Function accepts text encoder model, and prepares example inputs for conversion, \n",
    "    Parameters: \n",
    "        text_encoder (torch.nn.Module): text_encoder model from Stable Diffusion pipeline\n",
    "        ir_path (Path): File for storing model\n",
    "    Returns:\n",
    "        None\n",
    "    \"\"\"\n",
    "    input_ids = torch.ones((1, 77), dtype=torch.long)\n",
    "    # switch model to inference mode\n",
    "    text_encoder.eval()\n",
    "\n",
    "    # disable gradients calculation for reducing memory consumption\n",
    "    with torch.no_grad():\n",
    "        # Export model to IR format\n",
    "        ov_model = ov.convert_model(text_encoder, example_input=input_ids, input=[(1,77),])\n",
    "    ov.save_model(ov_model, ir_path)\n",
    "    del ov_model\n",
    "    print(f'Text Encoder successfully converted to IR and saved to {ir_path}')\n",
    "    \n",
    "\n",
    "if not TEXT_ENCODER_OV_PATH.exists():\n",
    "    convert_encoder(text_encoder, TEXT_ENCODER_OV_PATH)\n",
    "else:\n",
    "    print(f\"Text encoder will be loaded from {TEXT_ENCODER_OV_PATH}\")\n",
    "\n",
    "del text_encoder\n",
    "gc.collect()"
   ]
  },
  {
   "cell_type": "markdown",
   "metadata": {},
   "source": [
    "### U-net [$\\Uparrow$](#Table-of-content:)\n",
    "\n",
    "U-net model has three inputs:\n",
    "\n",
    "* `sample` - latent image sample from previous step. Generation process has not been started yet, so you will use random noise.\n",
    "* `timestep` - current scheduler step.\n",
    "* `encoder_hidden_state` - hidden state of text encoder.\n",
    "\n",
    "Model predicts the `sample` state for the next step."
   ]
  },
  {
   "cell_type": "code",
   "execution_count": 4,
   "metadata": {
    "id": "PscvJUXf_hpm"
   },
   "outputs": [
    {
     "name": "stdout",
     "output_type": "stream",
     "text": [
      "Unet will be loaded from unet.xml\n"
     ]
    },
    {
     "data": {
      "text/plain": [
       "0"
      ]
     },
     "execution_count": 4,
     "metadata": {},
     "output_type": "execute_result"
    }
   ],
   "source": [
    "import numpy as np\n",
    "from openvino import PartialShape, Type\n",
    "\n",
    "UNET_OV_PATH = Path('unet.xml')\n",
    "\n",
    "dtype_mapping = {\n",
    "    torch.float32: Type.f32,\n",
    "    torch.float64: Type.f64\n",
    "}\n",
    "\n",
    "\n",
    "def convert_unet(unet:torch.nn.Module, ir_path:Path):\n",
    "    \"\"\"\n",
    "    Convert U-net model to IR format. \n",
    "    Function accepts unet model, prepares example inputs for conversion, \n",
    "    Parameters: \n",
    "        unet (StableDiffusionPipeline): unet from Stable Diffusion pipeline\n",
    "        ir_path (Path): File for storing model\n",
    "    Returns:\n",
    "        None\n",
    "    \"\"\"\n",
    "    # prepare inputs\n",
    "    encoder_hidden_state = torch.ones((2, 77, 768))\n",
    "    latents_shape = (2, 4, 512 // 8, 512 // 8)\n",
    "    latents = torch.randn(latents_shape)\n",
    "    t = torch.from_numpy(np.array(1, dtype=float))\n",
    "    dummy_inputs = (latents, t, encoder_hidden_state)\n",
    "    input_info = []\n",
    "    for input_tensor in dummy_inputs:\n",
    "        shape = PartialShape(tuple(input_tensor.shape))\n",
    "        element_type = dtype_mapping[input_tensor.dtype]\n",
    "        input_info.append((shape, element_type))\n",
    "\n",
    "    unet.eval()\n",
    "    with torch.no_grad():\n",
    "        ov_model = ov.convert_model(unet, example_input=dummy_inputs, input=input_info)\n",
    "    ov.save_model(ov_model, ir_path)\n",
    "    del ov_model\n",
    "    print(f'Unet successfully converted to IR and saved to {ir_path}')\n",
    "\n",
    "\n",
    "if not UNET_OV_PATH.exists():\n",
    "    convert_unet(unet, UNET_OV_PATH)\n",
    "    gc.collect()\n",
    "else:\n",
    "    print(f\"Unet will be loaded from {UNET_OV_PATH}\")\n",
    "del unet\n",
    "gc.collect()"
   ]
  },
  {
   "cell_type": "markdown",
   "metadata": {},
   "source": [
    "### VAE [$\\Uparrow$](#Table-of-content:)\n",
    "\n",
    "The VAE model has two parts, an encoder and a decoder. The encoder is used to convert the image into a low dimensional latent representation, which will serve as the input to the U-Net model. The decoder, conversely, transforms the latent representation back into an image.\n",
    "\n",
    "During latent diffusion training, the encoder is used to get the latent representations (latents) of the images for the forward diffusion process, which applies more and more noise at each step. During inference, the denoised latents generated by the reverse diffusion process are converted back into images using the VAE decoder. When you run inference for text-to-image, there is no initial image as a starting point. You can skip this step and directly generate initial random noise.\n",
    "\n",
    "As the encoder and the decoder are used independently in different parts of the pipeline, it will be better to convert them to separate models."
   ]
  },
  {
   "cell_type": "code",
   "execution_count": 5,
   "metadata": {
    "id": "fQvd38qPHLtq"
   },
   "outputs": [
    {
     "name": "stdout",
     "output_type": "stream",
     "text": [
      "VAE encoder will be loaded from vae_encodr.xml\n",
      "VAE decoder will be loaded from vae_decoder.xml\n"
     ]
    },
    {
     "data": {
      "text/plain": [
       "0"
      ]
     },
     "execution_count": 5,
     "metadata": {},
     "output_type": "execute_result"
    }
   ],
   "source": [
    "VAE_ENCODER_OV_PATH = Path(\"vae_encodr.xml\")\n",
    "\n",
    "def convert_vae_encoder(vae: torch.nn.Module, ir_path: Path):\n",
    "    \"\"\"\n",
    "    Convert VAE model for encoding to IR format. \n",
    "    Function accepts vae model, creates wrapper class for export only necessary for inference part, \n",
    "    prepares example inputs for conversion, \n",
    "    Parameters: \n",
    "        vae (torch.nn.Module): VAE model from StableDiffusio pipeline \n",
    "        ir_path (Path): File for storing model\n",
    "    Returns:\n",
    "        None\n",
    "    \"\"\"\n",
    "    class VAEEncoderWrapper(torch.nn.Module):\n",
    "        def __init__(self, vae):\n",
    "            super().__init__()\n",
    "            self.vae = vae\n",
    "\n",
    "        def forward(self, image):\n",
    "            return self.vae.encode(x=image)[\"latent_dist\"].sample()\n",
    "    vae_encoder = VAEEncoderWrapper(vae)\n",
    "    vae_encoder.eval()\n",
    "    image = torch.zeros((1, 3, 512, 512))\n",
    "    with torch.no_grad():\n",
    "        ov_model = ov.convert_model(vae_encoder, example_input=image, input=[((1,3,512,512),)])\n",
    "    ov.save_model(ov_model, ir_path)\n",
    "    del ov_model\n",
    "    print(f'VAE encoder successfully converted to IR and saved to {ir_path}')\n",
    "\n",
    "\n",
    "if not VAE_ENCODER_OV_PATH.exists():\n",
    "    convert_vae_encoder(vae, VAE_ENCODER_OV_PATH)\n",
    "else:\n",
    "    print(f\"VAE encoder will be loaded from {VAE_ENCODER_OV_PATH}\")\n",
    "\n",
    "VAE_DECODER_OV_PATH = Path('vae_decoder.xml')\n",
    "\n",
    "def convert_vae_decoder(vae: torch.nn.Module, ir_path: Path):\n",
    "    \"\"\"\n",
    "    Convert VAE model for decoding to IR format. \n",
    "    Function accepts vae model, creates wrapper class for export only necessary for inference part, \n",
    "    prepares example inputs for conversion, \n",
    "    Parameters: \n",
    "        vae (torch.nn.Module): VAE model frm StableDiffusion pipeline\n",
    "        ir_path (Path): File for storing model\n",
    "    Returns:\n",
    "        None\n",
    "    \"\"\"\n",
    "    class VAEDecoderWrapper(torch.nn.Module):\n",
    "        def __init__(self, vae):\n",
    "            super().__init__()\n",
    "            self.vae = vae\n",
    "\n",
    "        def forward(self, latents):\n",
    "            return self.vae.decode(latents)\n",
    "    \n",
    "    vae_decoder = VAEDecoderWrapper(vae)\n",
    "    latents = torch.zeros((1, 4, 64, 64))\n",
    "\n",
    "    vae_decoder.eval()\n",
    "    with torch.no_grad():\n",
    "        ov_model = ov.convert_model(vae_decoder, example_input=latents, input=[((1,4,64,64),)])\n",
    "    ov.save_model(ov_model, ir_path)\n",
    "    del ov_model\n",
    "    print(f'VAE decoder successfully converted to IR and saved to {ir_path}')\n",
    "\n",
    "\n",
    "if not VAE_DECODER_OV_PATH.exists():\n",
    "    convert_vae_decoder(vae, VAE_DECODER_OV_PATH)\n",
    "else:\n",
    "    print(f\"VAE decoder will be loaded from {VAE_DECODER_OV_PATH}\")\n",
    "\n",
    "del vae\n",
    "gc.collect()"
   ]
  },
  {
   "cell_type": "markdown",
   "metadata": {},
   "source": [
    "## Prepare Inference Pipeline [$\\Uparrow$](#Table-of-content:)\n",
    "\n",
    "Putting it all together, let us now take a closer look at how the model works in inference by illustrating the logical flow."
   ]
  },
  {
   "cell_type": "markdown",
   "metadata": {},
   "source": [
    "![sd-pipeline](https://user-images.githubusercontent.com/29454499/260981188-c112dd0a-5752-4515-adca-8b09bea5d14a.png)\n",
    "\n",
    "As you can see from the diagram, the only difference between Text-to-Image and text-guided Image-to-Image generation in approach is how initial latent state is generated. In case of Image-to-Image generation, you additionally have an image encoded by VAE encoder mixed with the noise produced by using latent seed, while in Text-to-Image you use only noise as initial latent state.\n",
    "The stable diffusion model takes both a latent image representation of size $64 \\times 64$ and a text prompt is transformed to text embeddings of size $77 \\times 768$ via CLIP's text encoder as an input.\n",
    "\n",
    "Next, the U-Net iteratively *denoises* the random latent image representations while being conditioned on the text embeddings. The output of the U-Net, being the noise residual, is used to compute a denoised latent image representation via a scheduler algorithm. Many different scheduler algorithms can be used for this computation, each having its pros and cons. For Stable Diffusion, it is recommended to use one of:\n",
    "\n",
    "- [PNDM scheduler](https://github.com/huggingface/diffusers/blob/main/src/diffusers/schedulers/scheduling_pndm.py)\n",
    "- [DDIM scheduler](https://github.com/huggingface/diffusers/blob/main/src/diffusers/schedulers/scheduling_ddim.py)\n",
    "- [K-LMS scheduler](https://github.com/huggingface/diffusers/blob/main/src/diffusers/schedulers/scheduling_lms_discrete.py)(you will use it in your pipeline)\n",
    "\n",
    "Theory on how the scheduler algorithm function works is out of scope for this notebook. Nonetheless, in short, you should remember that you compute the predicted denoised image representation from the previous noise representation and the predicted noise residual.\n",
    "For more information, refer to the recommended [Elucidating the Design Space of Diffusion-Based Generative Models](https://arxiv.org/abs/2206.00364)\n",
    "\n",
    "The *denoising* process is repeated given number of times (by default 50) to step-by-step retrieve better latent image representations.\n",
    "When complete, the latent image representation is decoded by the decoder part of the variational auto encoder."
   ]
  },
  {
   "cell_type": "code",
   "execution_count": 6,
   "metadata": {},
   "outputs": [],
   "source": [
    "import inspect\n",
    "from typing import List, Optional, Union, Dict\n",
    "\n",
    "import PIL\n",
    "import cv2\n",
    "\n",
    "from transformers import CLIPTokenizer\n",
    "from diffusers.pipelines.pipeline_utils import DiffusionPipeline\n",
    "from diffusers.schedulers import DDIMScheduler, LMSDiscreteScheduler, PNDMScheduler\n",
    "\n",
    "\n",
    "def scale_fit_to_window(dst_width:int, dst_height:int, image_width:int, image_height:int):\n",
    "    \"\"\"\n",
    "    Preprocessing helper function for calculating image size for resize with peserving original aspect ratio \n",
    "    and fitting image to specific window size\n",
    "    \n",
    "    Parameters:\n",
    "      dst_width (int): destination window width\n",
    "      dst_height (int): destination window height\n",
    "      image_width (int): source image width\n",
    "      image_height (int): source image height\n",
    "    Returns:\n",
    "      result_width (int): calculated width for resize\n",
    "      result_height (int): calculated height for resize\n",
    "    \"\"\"\n",
    "    im_scale = min(dst_height / image_height, dst_width / image_width)\n",
    "    return int(im_scale * image_width), int(im_scale * image_height)\n",
    "\n",
    "\n",
    "def preprocess(image: PIL.Image.Image):\n",
    "    \"\"\"\n",
    "    Image preprocessing function. Takes image in PIL.Image format, resizes it to keep aspect ration and fits to model input window 512x512,\n",
    "    then converts it to np.ndarray and adds padding with zeros on right or bottom side of image (depends from aspect ratio), after that\n",
    "    converts data to float32 data type and change range of values from [0, 255] to [-1, 1], finally, converts data layout from planar NHWC to NCHW.\n",
    "    The function returns preprocessed input tensor and padding size, which can be used in postprocessing.\n",
    "    \n",
    "    Parameters:\n",
    "      image (PIL.Image.Image): input image\n",
    "    Returns:\n",
    "       image (np.ndarray): preprocessed image tensor\n",
    "       meta (Dict): dictionary with preprocessing metadata info\n",
    "    \"\"\"\n",
    "    src_width, src_height = image.size\n",
    "    dst_width, dst_height = scale_fit_to_window(\n",
    "        512, 512, src_width, src_height)\n",
    "    image = np.array(image.resize((dst_width, dst_height),\n",
    "                     resample=PIL.Image.Resampling.LANCZOS))[None, :]\n",
    "    pad_width = 512 - dst_width\n",
    "    pad_height = 512 - dst_height\n",
    "    pad = ((0, 0), (0, pad_height), (0, pad_width), (0, 0))\n",
    "    image = np.pad(image, pad, mode=\"constant\")\n",
    "    image = image.astype(np.float32) / 255.0\n",
    "    image = 2.0 * image - 1.0\n",
    "    image = image.transpose(0, 3, 1, 2)\n",
    "    return image, {\"padding\": pad, \"src_width\": src_width, \"src_height\": src_height}\n",
    "\n",
    "\n",
    "class OVStableDiffusionPipeline(DiffusionPipeline):\n",
    "    def __init__(\n",
    "        self,\n",
    "        vae_decoder: ov.Model,\n",
    "        text_encoder: ov.Model,\n",
    "        tokenizer: CLIPTokenizer,\n",
    "        unet: ov.Model,\n",
    "        scheduler: Union[DDIMScheduler, PNDMScheduler, LMSDiscreteScheduler],\n",
    "        vae_encoder: ov.Model = None,\n",
    "    ):\n",
    "        \"\"\"\n",
    "        Pipeline for text-to-image generation using Stable Diffusion.\n",
    "        Parameters:\n",
    "            vae (Model):\n",
    "                Variational Auto-Encoder (VAE) Model to decode images to and from latent representations.\n",
    "            text_encoder (Model):\n",
    "                Frozen text-encoder. Stable Diffusion uses the text portion of\n",
    "                [CLIP](https://huggingface.co/docs/transformers/model_doc/clip#transformers.CLIPTextModel), specifically\n",
    "                the clip-vit-large-patch14(https://huggingface.co/openai/clip-vit-large-patch14) variant.\n",
    "            tokenizer (CLIPTokenizer):\n",
    "                Tokenizer of class CLIPTokenizer(https://huggingface.co/docs/transformers/v4.21.0/en/model_doc/clip#transformers.CLIPTokenizer).\n",
    "            unet (Model): Conditional U-Net architecture to denoise the encoded image latents.\n",
    "            scheduler (SchedulerMixin):\n",
    "                A scheduler to be used in combination with unet to denoise the encoded image latents. Can be one of\n",
    "                DDIMScheduler, LMSDiscreteScheduler, or PNDMScheduler.\n",
    "        \"\"\"\n",
    "        super().__init__()\n",
    "        self.scheduler = scheduler\n",
    "        self.vae_decoder = vae_decoder\n",
    "        self.vae_encoder = vae_encoder\n",
    "        self.text_encoder = text_encoder\n",
    "        self.unet = unet\n",
    "        self._text_encoder_output = text_encoder.output(0)\n",
    "        self._unet_output = unet.output(0)\n",
    "        self._vae_d_output = vae_decoder.output(0)\n",
    "        self._vae_e_output = vae_encoder.output(0) if vae_encoder is not None else None\n",
    "        self.height = 512\n",
    "        self.width = 512\n",
    "        self.tokenizer = tokenizer\n",
    "\n",
    "    def __call__(\n",
    "        self,\n",
    "        prompt: Union[str, List[str]],\n",
    "        image: PIL.Image.Image = None,\n",
    "        num_inference_steps: Optional[int] = 50,\n",
    "        negative_prompt: Union[str, List[str]] = None,\n",
    "        guidance_scale: Optional[float] = 7.5,\n",
    "        eta: Optional[float] = 0.0,\n",
    "        output_type: Optional[str] = \"pil\",\n",
    "        seed: Optional[int] = None,\n",
    "        strength: float = 1.0,\n",
    "        gif: Optional[bool] = False,\n",
    "        **kwargs,\n",
    "    ):\n",
    "        \"\"\"\n",
    "        Function invoked when calling the pipeline for generation.\n",
    "        Parameters:\n",
    "            prompt (str or List[str]):\n",
    "                The prompt or prompts to guide the image generation.\n",
    "            image (PIL.Image.Image, *optional*, None):\n",
    "                 Intinal image for generation.\n",
    "            num_inference_steps (int, *optional*, defaults to 50):\n",
    "                The number of denoising steps. More denoising steps usually lead to a higher quality image at the\n",
    "                expense of slower inference.\n",
    "            negative_prompt (str or List[str]):\n",
    "                The negative prompt or prompts to guide the image generation.\n",
    "            guidance_scale (float, *optional*, defaults to 7.5):\n",
    "                Guidance scale as defined in Classifier-Free Diffusion Guidance(https://arxiv.org/abs/2207.12598).\n",
    "                guidance_scale is defined as `w` of equation 2.\n",
    "                Higher guidance scale encourages to generate images that are closely linked to the text prompt,\n",
    "                usually at the expense of lower image quality.\n",
    "            eta (float, *optional*, defaults to 0.0):\n",
    "                Corresponds to parameter eta (η) in the DDIM paper: https://arxiv.org/abs/2010.02502. Only applies to\n",
    "                [DDIMScheduler], will be ignored for others.\n",
    "            output_type (`str`, *optional*, defaults to \"pil\"):\n",
    "                The output format of the generate image. Choose between\n",
    "                [PIL](https://pillow.readthedocs.io/en/stable/): PIL.Image.Image or np.array.\n",
    "            seed (int, *optional*, None):\n",
    "                Seed for random generator state initialization.\n",
    "            gif (bool, *optional*, False):\n",
    "                Flag for storing all steps results or not.\n",
    "        Returns:\n",
    "            Dictionary with keys: \n",
    "                sample - the last generated image PIL.Image.Image or np.array\n",
    "                iterations - *optional* (if gif=True) images for all diffusion steps, List of PIL.Image.Image or np.array.\n",
    "        \"\"\"\n",
    "        if seed is not None:\n",
    "            np.random.seed(seed)\n",
    "\n",
    "        img_buffer = []\n",
    "        do_classifier_free_guidance = guidance_scale > 1.0\n",
    "        # get prompt text embeddings\n",
    "        text_embeddings = self._encode_prompt(prompt, do_classifier_free_guidance=do_classifier_free_guidance, negative_prompt=negative_prompt)\n",
    "        \n",
    "        # set timesteps\n",
    "        accepts_offset = \"offset\" in set(inspect.signature(self.scheduler.set_timesteps).parameters.keys())\n",
    "        extra_set_kwargs = {}\n",
    "        if accepts_offset:\n",
    "            extra_set_kwargs[\"offset\"] = 1\n",
    "\n",
    "        self.scheduler.set_timesteps(num_inference_steps, **extra_set_kwargs)\n",
    "        timesteps, num_inference_steps = self.get_timesteps(num_inference_steps, strength)\n",
    "        latent_timestep = timesteps[:1]\n",
    "\n",
    "        # get the initial random noise unless the user supplied it\n",
    "        latents, meta = self.prepare_latents(image, latent_timestep)\n",
    "\n",
    "        # prepare extra kwargs for the scheduler step, since not all schedulers have the same signature\n",
    "        # eta (η) is only used with the DDIMScheduler, it will be ignored for other schedulers.\n",
    "        # eta corresponds to η in DDIM paper: https://arxiv.org/abs/2010.02502\n",
    "        # and should be between [0, 1]\n",
    "        accepts_eta = \"eta\" in set(inspect.signature(self.scheduler.step).parameters.keys())\n",
    "        extra_step_kwargs = {}\n",
    "        if accepts_eta:\n",
    "            extra_step_kwargs[\"eta\"] = eta\n",
    "\n",
    "        for i, t in enumerate(self.progress_bar(timesteps)):\n",
    "            # expand the latents if you are doing classifier free guidance\n",
    "            latent_model_input = np.concatenate([latents] * 2) if do_classifier_free_guidance else latents\n",
    "            latent_model_input = self.scheduler.scale_model_input(latent_model_input, t)\n",
    "\n",
    "            # predict the noise residual\n",
    "            noise_pred = self.unet([latent_model_input, t, text_embeddings])[self._unet_output]\n",
    "            # perform guidance\n",
    "            if do_classifier_free_guidance:\n",
    "                noise_pred_uncond, noise_pred_text = noise_pred[0], noise_pred[1]\n",
    "                noise_pred = noise_pred_uncond + guidance_scale * (noise_pred_text - noise_pred_uncond)\n",
    "\n",
    "            # compute the previous noisy sample x_t -> x_t-1\n",
    "            latents = self.scheduler.step(torch.from_numpy(noise_pred), t, torch.from_numpy(latents), **extra_step_kwargs)[\"prev_sample\"].numpy()\n",
    "            if gif:\n",
    "                image = self.vae_decoder(latents * (1 / 0.18215))[self._vae_d_output]\n",
    "                image = self.postprocess_image(image, meta, output_type)\n",
    "                img_buffer.extend(image)\n",
    "\n",
    "        # scale and decode the image latents with vae\n",
    "        image = self.vae_decoder(latents * (1 / 0.18215))[self._vae_d_output]\n",
    "\n",
    "        image = self.postprocess_image(image, meta, output_type)\n",
    "        return {\"sample\": image, 'iterations': img_buffer}\n",
    "    \n",
    "    def _encode_prompt(self, prompt:Union[str, List[str]], num_images_per_prompt:int = 1, do_classifier_free_guidance:bool = True, negative_prompt:Union[str, List[str]] = None):\n",
    "        \"\"\"\n",
    "        Encodes the prompt into text encoder hidden states.\n",
    "\n",
    "        Parameters:\n",
    "            prompt (str or list(str)): prompt to be encoded\n",
    "            num_images_per_prompt (int): number of images that should be generated per prompt\n",
    "            do_classifier_free_guidance (bool): whether to use classifier free guidance or not\n",
    "            negative_prompt (str or list(str)): negative prompt to be encoded\n",
    "        Returns:\n",
    "            text_embeddings (np.ndarray): text encoder hidden states\n",
    "        \"\"\"\n",
    "        batch_size = len(prompt) if isinstance(prompt, list) else 1\n",
    "\n",
    "        # tokenize input prompts\n",
    "        text_inputs = self.tokenizer(\n",
    "            prompt,\n",
    "            padding=\"max_length\",\n",
    "            max_length=self.tokenizer.model_max_length,\n",
    "            truncation=True,\n",
    "            return_tensors=\"np\",\n",
    "        )\n",
    "        text_input_ids = text_inputs.input_ids\n",
    "\n",
    "        text_embeddings = self.text_encoder(\n",
    "            text_input_ids)[self._text_encoder_output]\n",
    "\n",
    "        # duplicate text embeddings for each generation per prompt\n",
    "        if num_images_per_prompt != 1:\n",
    "            bs_embed, seq_len, _ = text_embeddings.shape\n",
    "            text_embeddings = np.tile(\n",
    "                text_embeddings, (1, num_images_per_prompt, 1))\n",
    "            text_embeddings = np.reshape(\n",
    "                text_embeddings, (bs_embed * num_images_per_prompt, seq_len, -1))\n",
    "\n",
    "        # get unconditional embeddings for classifier free guidance\n",
    "        if do_classifier_free_guidance:\n",
    "            uncond_tokens: List[str]\n",
    "            max_length = text_input_ids.shape[-1]\n",
    "            if negative_prompt is None:\n",
    "                uncond_tokens = [\"\"] * batch_size\n",
    "            elif isinstance(negative_prompt, str):\n",
    "                uncond_tokens = [negative_prompt]\n",
    "            else:\n",
    "                uncond_tokens = negative_prompt\n",
    "            uncond_input = self.tokenizer(\n",
    "                uncond_tokens,\n",
    "                padding=\"max_length\",\n",
    "                max_length=max_length,\n",
    "                truncation=True,\n",
    "                return_tensors=\"np\",\n",
    "            )\n",
    "\n",
    "            uncond_embeddings = self.text_encoder(uncond_input.input_ids)[self._text_encoder_output]\n",
    "\n",
    "            # duplicate unconditional embeddings for each generation per prompt, using mps friendly method\n",
    "            seq_len = uncond_embeddings.shape[1]\n",
    "            uncond_embeddings = np.tile(uncond_embeddings, (1, num_images_per_prompt, 1))\n",
    "            uncond_embeddings = np.reshape(uncond_embeddings, (batch_size * num_images_per_prompt, seq_len, -1))\n",
    "\n",
    "            # For classifier free guidance, we need to do two forward passes.\n",
    "            # Here we concatenate the unconditional and text embeddings into a single batch\n",
    "            # to avoid doing two forward passes\n",
    "            text_embeddings = np.concatenate([uncond_embeddings, text_embeddings])\n",
    "\n",
    "        return text_embeddings\n",
    "\n",
    "\n",
    "    def prepare_latents(self, image:PIL.Image.Image = None, latent_timestep:torch.Tensor = None):\n",
    "        \"\"\"\n",
    "        Function for getting initial latents for starting generation\n",
    "        \n",
    "        Parameters:\n",
    "            image (PIL.Image.Image, *optional*, None):\n",
    "                Input image for generation, if not provided randon noise will be used as starting point\n",
    "            latent_timestep (torch.Tensor, *optional*, None):\n",
    "                Predicted by scheduler initial step for image generation, required for latent image mixing with nosie\n",
    "        Returns:\n",
    "            latents (np.ndarray):\n",
    "                Image encoded in latent space\n",
    "        \"\"\"\n",
    "        latents_shape = (1, 4, self.height // 8, self.width // 8)\n",
    "        noise = np.random.randn(*latents_shape).astype(np.float32)\n",
    "        if image is None:\n",
    "            # if you use LMSDiscreteScheduler, let's make sure latents are multiplied by sigmas\n",
    "            if isinstance(self.scheduler, LMSDiscreteScheduler):\n",
    "                noise = noise * self.scheduler.sigmas[0].numpy()\n",
    "                return noise, {}\n",
    "        input_image, meta = preprocess(image)\n",
    "        latents = self.vae_encoder(input_image)[self._vae_e_output] * 0.18215\n",
    "        latents = self.scheduler.add_noise(torch.from_numpy(latents), torch.from_numpy(noise), latent_timestep).numpy()\n",
    "        return latents, meta\n",
    "\n",
    "    def postprocess_image(self, image:np.ndarray, meta:Dict, output_type:str = \"pil\"):\n",
    "        \"\"\"\n",
    "        Postprocessing for decoded image. Takes generated image decoded by VAE decoder, unpad it to initila image size (if required), \n",
    "        normalize and convert to [0, 255] pixels range. Optionally, convertes it from np.ndarray to PIL.Image format\n",
    "        \n",
    "        Parameters:\n",
    "            image (np.ndarray):\n",
    "                Generated image\n",
    "            meta (Dict):\n",
    "                Metadata obtained on latents preparing step, can be empty\n",
    "            output_type (str, *optional*, pil):\n",
    "                Output format for result, can be pil or numpy\n",
    "        Returns:\n",
    "            image (List of np.ndarray or PIL.Image.Image):\n",
    "                Postprocessed images\n",
    "        \"\"\"\n",
    "        if \"padding\" in meta:\n",
    "            pad = meta[\"padding\"]\n",
    "            (_, end_h), (_, end_w) = pad[1:3]\n",
    "            h, w = image.shape[2:]\n",
    "            unpad_h = h - end_h\n",
    "            unpad_w = w - end_w\n",
    "            image = image[:, :, :unpad_h, :unpad_w]\n",
    "        image = np.clip(image / 2 + 0.5, 0, 1)\n",
    "        image = np.transpose(image, (0, 2, 3, 1))\n",
    "        # 9. Convert to PIL\n",
    "        if output_type == \"pil\":\n",
    "            image = self.numpy_to_pil(image)\n",
    "            if \"src_height\" in meta:\n",
    "                orig_height, orig_width = meta[\"src_height\"], meta[\"src_width\"]\n",
    "                image = [img.resize((orig_width, orig_height),\n",
    "                                    PIL.Image.Resampling.LANCZOS) for img in image]\n",
    "        else:\n",
    "            if \"src_height\" in meta:\n",
    "                orig_height, orig_width = meta[\"src_height\"], meta[\"src_width\"]\n",
    "                image = [cv2.resize(img, (orig_width, orig_width))\n",
    "                         for img in image]\n",
    "        return image\n",
    "\n",
    "    def get_timesteps(self, num_inference_steps:int, strength:float):\n",
    "        \"\"\"\n",
    "        Helper function for getting scheduler timesteps for generation\n",
    "        In case of image-to-image generation, it updates number of steps according to strength\n",
    "        \n",
    "        Parameters:\n",
    "           num_inference_steps (int):\n",
    "              number of inference steps for generation\n",
    "           strength (float):\n",
    "               value between 0.0 and 1.0, that controls the amount of noise that is added to the input image. \n",
    "               Values that approach 1.0 enable lots of variations but will also produce images that are not semantically consistent with the input.\n",
    "        \"\"\"\n",
    "        # get the original timestep using init_timestep\n",
    "        init_timestep = min(int(num_inference_steps * strength), num_inference_steps)\n",
    "\n",
    "        t_start = max(num_inference_steps - init_timestep, 0)\n",
    "        timesteps = self.scheduler.timesteps[t_start:]\n",
    "\n",
    "        return timesteps, num_inference_steps - t_start "
   ]
  },
  {
   "cell_type": "markdown",
   "metadata": {},
   "source": [
    "## Configure Inference Pipeline [$\\Uparrow$](#Table-of-content:)\n"
   ]
  },
  {
   "cell_type": "markdown",
   "metadata": {},
   "source": [
    "First, you should create instances of OpenVINO Model."
   ]
  },
  {
   "cell_type": "code",
   "execution_count": 7,
   "metadata": {},
   "outputs": [],
   "source": [
    "core = ov.Core()"
   ]
  },
  {
   "cell_type": "markdown",
   "metadata": {},
   "source": [
    "Select device from dropdown list for running inference using OpenVINO."
   ]
  },
  {
   "cell_type": "code",
   "execution_count": 18,
   "metadata": {},
   "outputs": [
    {
     "data": {
      "application/vnd.jupyter.widget-view+json": {
       "model_id": "8ae8d9e5da2e451a8051b40a73007623",
       "version_major": 2,
       "version_minor": 0
      },
      "text/plain": [
       "Dropdown(description='Device:', index=2, options=('CPU', 'GPU', 'AUTO'), value='AUTO')"
      ]
     },
     "execution_count": 18,
     "metadata": {},
     "output_type": "execute_result"
    }
   ],
   "source": [
    "import ipywidgets as widgets\n",
    "\n",
    "device = widgets.Dropdown(\n",
    "    options=core.available_devices + [\"AUTO\"],\n",
    "    value='AUTO',\n",
    "    description='Device:',\n",
    "    disabled=False,\n",
    ")\n",
    "\n",
    "device"
   ]
  },
  {
   "cell_type": "code",
   "execution_count": 9,
   "metadata": {},
   "outputs": [],
   "source": [
    "text_enc = core.compile_model(TEXT_ENCODER_OV_PATH, device.value)"
   ]
  },
  {
   "cell_type": "code",
   "execution_count": 10,
   "metadata": {},
   "outputs": [],
   "source": [
    "unet_model = core.compile_model(UNET_OV_PATH, device.value)"
   ]
  },
  {
   "cell_type": "code",
   "execution_count": 11,
   "metadata": {},
   "outputs": [],
   "source": [
    "ov_config = {\"INFERENCE_PRECISION_HINT\": \"f32\"} if device.value != \"CPU\" else {}\n",
    "\n",
    "vae_decoder = core.compile_model(VAE_DECODER_OV_PATH, device.value, ov_config)\n",
    "vae_encoder = core.compile_model(VAE_ENCODER_OV_PATH, device.value, ov_config)"
   ]
  },
  {
   "cell_type": "markdown",
   "metadata": {},
   "source": [
    "Model tokenizer and scheduler are also important parts of the pipeline. Let us define them and put all components together"
   ]
  },
  {
   "cell_type": "code",
   "execution_count": 12,
   "metadata": {},
   "outputs": [],
   "source": [
    "from transformers import CLIPTokenizer\n",
    "from diffusers.schedulers import LMSDiscreteScheduler\n",
    "\n",
    "lms = LMSDiscreteScheduler(\n",
    "    beta_start=0.00085, \n",
    "    beta_end=0.012, \n",
    "    beta_schedule=\"scaled_linear\"\n",
    ")\n",
    "tokenizer = CLIPTokenizer.from_pretrained('openai/clip-vit-large-patch14')\n",
    "\n",
    "ov_pipe = OVStableDiffusionPipeline(\n",
    "    tokenizer=tokenizer,\n",
    "    text_encoder=text_enc,\n",
    "    unet=unet_model,\n",
    "    vae_encoder=vae_encoder,\n",
    "    vae_decoder=vae_decoder,\n",
    "    scheduler=lms\n",
    ")"
   ]
  },
  {
   "cell_type": "code",
   "execution_count": 13,
   "metadata": {},
   "outputs": [],
   "source": [
    "# Fetch `model_upcast_utils` which helps to restore accuracy when inferred on GPU\n",
    "import urllib.request\n",
    "urllib.request.urlretrieve(\n",
    "    url='https://raw.githubusercontent.com/openvinotoolkit/openvino_notebooks/main/notebooks/utils/model_upcast_utils.py',\n",
    "    filename='model_upcast_utils.py'\n",
    ")\n",
    "from model_upcast_utils import is_model_partially_upcasted, partially_upcast_nodes_to_fp32\n",
    "\n",
    "def get_inputs_for_calibration(\n",
    "        prompt='professional photo portrait of woman, highly detailed, hyper realistic, cinematic effects, soft lighting',\n",
    "        negative_prompt = \"blurry, poor quality, low res, worst quality, cropped, ugly, poorly drawn face, without eyes, mutation, unreal, animate, poorly drawn eyes\",\n",
    "        num_inference_steps = 50,\n",
    "        guidance_scale = 7.5,\n",
    "        strength = 0.68,\n",
    "    ):\n",
    "\n",
    "    from diffusers.utils import load_image\n",
    "    default_image_url = \"https://user-images.githubusercontent.com/29454499/260418860-69cc443a-9ee6-493c-a393-3a97af080be7.jpg\"\n",
    "    image = load_image(default_image_url)\n",
    "\n",
    "    do_classifier_free_guidance = guidance_scale > 1.0\n",
    "    text_embeddings = ov_pipe._encode_prompt(prompt, do_classifier_free_guidance=do_classifier_free_guidance, negative_prompt=negative_prompt)\n",
    "\n",
    "    accepts_offset = \"offset\" in set(inspect.signature(ov_pipe.scheduler.set_timesteps).parameters.keys())\n",
    "    extra_set_kwargs = {}\n",
    "    if accepts_offset:\n",
    "        extra_set_kwargs[\"offset\"] = 1\n",
    "\n",
    "    ov_pipe.scheduler.set_timesteps(num_inference_steps, **extra_set_kwargs)\n",
    "    timesteps, num_inference_steps = ov_pipe.get_timesteps(num_inference_steps, strength)\n",
    "    latent_timestep = timesteps[:1]\n",
    "\n",
    "    latents, meta = ov_pipe.prepare_latents(image, latent_timestep)\n",
    "    t = timesteps[0]\n",
    "    latent_model_input = np.concatenate([latents] * 2) if do_classifier_free_guidance else latents\n",
    "    latent_model_input = ov_pipe.scheduler.scale_model_input(latent_model_input, t)\n",
    "    return [latent_model_input, t, text_embeddings]\n",
    "\n",
    "if 'GPU' in core.available_devices and not is_model_partially_upcasted(core.read_model(UNET_OV_PATH)):\n",
    "    upcasted_unet = partially_upcast_nodes_to_fp32(core.read_model(UNET_OV_PATH), example_input=get_inputs_for_calibration())\n",
    "    compiled_unet = core.compile_model(upcasted_unet, device.value)\n",
    "\n",
    "    del ov_pipe\n",
    "    gc.collect();\n",
    "    import os\n",
    "    os.remove(UNET_OV_PATH)\n",
    "    os.remove(str(UNET_OV_PATH).replace('.xml', '.bin'))\n",
    "    ov.save_model(upcasted_unet, UNET_OV_PATH, compress_to_fp16=False)\n",
    "    \n",
    "    ov_pipe = OVStableDiffusionPipeline(\n",
    "        tokenizer=tokenizer,\n",
    "        text_encoder=text_enc,\n",
    "        unet=compiled_unet,\n",
    "        vae_encoder=vae_encoder,\n",
    "        vae_decoder=vae_decoder,\n",
    "        scheduler=lms\n",
    "    )"
   ]
  },
  {
   "cell_type": "markdown",
   "metadata": {},
   "source": [
    "### Text-to-Image generation [$\\Uparrow$](#Table-of-content:)\n",
    "\n",
    "Now, let's see model in action"
   ]
  },
  {
   "cell_type": "code",
   "execution_count": 14,
   "metadata": {},
   "outputs": [],
   "source": [
    "text_prompt = 'RAW studio photo of An intricate forest minitown landscape trapped in a bottle, atmospheric oliva lighting, on the table, intricate details, dark shot, soothing tones, muted colors '\n",
    "seed = 431\n",
    "num_steps = 20"
   ]
  },
  {
   "cell_type": "code",
   "execution_count": 15,
   "metadata": {},
   "outputs": [
    {
     "name": "stdout",
     "output_type": "stream",
     "text": [
      "Pipeline settings\n",
      "Input text: RAW studio photo of An intricate forest minitown landscape trapped in a bottle, atmospheric oliva lighting, on the table, intricate details, dark shot, soothing tones, muted colors \n",
      "Seed: 431\n",
      "Number of steps: 20\n"
     ]
    }
   ],
   "source": [
    "print('Pipeline settings')\n",
    "print(f'Input text: {text_prompt}')\n",
    "print(f'Seed: {seed}')\n",
    "print(f'Number of steps: {num_steps}')"
   ]
  },
  {
   "cell_type": "code",
   "execution_count": 16,
   "metadata": {},
   "outputs": [
    {
     "data": {
      "application/vnd.jupyter.widget-view+json": {
       "model_id": "20b46f3820014a43985bdfa3bad33455",
       "version_major": 2,
       "version_minor": 0
      },
      "text/plain": [
       "  0%|          | 0/20 [00:00<?, ?it/s]"
      ]
     },
     "metadata": {},
     "output_type": "display_data"
    },
    {
     "ename": "RuntimeError",
     "evalue": "Exception from src/inference/src/infer_request.cpp:231:\nclWaitForEvents\n",
     "output_type": "error",
     "traceback": [
      "\u001b[0;31m---------------------------------------------------------------------------\u001b[0m",
      "\u001b[0;31mRuntimeError\u001b[0m                              Traceback (most recent call last)",
      "Cell \u001b[0;32mIn[16], line 1\u001b[0m\n\u001b[0;32m----> 1\u001b[0m result \u001b[39m=\u001b[39m ov_pipe(text_prompt, num_inference_steps\u001b[39m=\u001b[39;49mnum_steps, seed\u001b[39m=\u001b[39;49mseed)\n",
      "Cell \u001b[0;32mIn[6], line 180\u001b[0m, in \u001b[0;36mOVStableDiffusionPipeline.__call__\u001b[0;34m(self, prompt, image, num_inference_steps, negative_prompt, guidance_scale, eta, output_type, seed, strength, gif, **kwargs)\u001b[0m\n\u001b[1;32m    177\u001b[0m latent_model_input \u001b[39m=\u001b[39m \u001b[39mself\u001b[39m\u001b[39m.\u001b[39mscheduler\u001b[39m.\u001b[39mscale_model_input(latent_model_input, t)\n\u001b[1;32m    179\u001b[0m \u001b[39m# predict the noise residual\u001b[39;00m\n\u001b[0;32m--> 180\u001b[0m noise_pred \u001b[39m=\u001b[39m \u001b[39mself\u001b[39;49m\u001b[39m.\u001b[39;49munet([latent_model_input, t, text_embeddings])[\u001b[39mself\u001b[39m\u001b[39m.\u001b[39m_unet_output]\n\u001b[1;32m    181\u001b[0m \u001b[39m# perform guidance\u001b[39;00m\n\u001b[1;32m    182\u001b[0m \u001b[39mif\u001b[39;00m do_classifier_free_guidance:\n",
      "File \u001b[0;32m~/devel/openvino/bin/intel64/Release/python/openvino/runtime/ie_api.py:384\u001b[0m, in \u001b[0;36mCompiledModel.__call__\u001b[0;34m(self, inputs, share_inputs, share_outputs, shared_memory)\u001b[0m\n\u001b[1;32m    381\u001b[0m \u001b[39mif\u001b[39;00m \u001b[39mself\u001b[39m\u001b[39m.\u001b[39m_infer_request \u001b[39mis\u001b[39;00m \u001b[39mNone\u001b[39;00m:\n\u001b[1;32m    382\u001b[0m     \u001b[39mself\u001b[39m\u001b[39m.\u001b[39m_infer_request \u001b[39m=\u001b[39m \u001b[39mself\u001b[39m\u001b[39m.\u001b[39mcreate_infer_request()\n\u001b[0;32m--> 384\u001b[0m \u001b[39mreturn\u001b[39;00m \u001b[39mself\u001b[39;49m\u001b[39m.\u001b[39;49m_infer_request\u001b[39m.\u001b[39;49minfer(\n\u001b[1;32m    385\u001b[0m     inputs,\n\u001b[1;32m    386\u001b[0m     share_inputs\u001b[39m=\u001b[39;49m_deprecated_memory_arg(shared_memory, share_inputs),\n\u001b[1;32m    387\u001b[0m     share_outputs\u001b[39m=\u001b[39;49mshare_outputs,\n\u001b[1;32m    388\u001b[0m )\n",
      "File \u001b[0;32m~/devel/openvino/bin/intel64/Release/python/openvino/runtime/ie_api.py:143\u001b[0m, in \u001b[0;36mInferRequest.infer\u001b[0;34m(self, inputs, share_inputs, share_outputs, shared_memory)\u001b[0m\n\u001b[1;32m     68\u001b[0m \u001b[39mdef\u001b[39;00m \u001b[39minfer\u001b[39m(\n\u001b[1;32m     69\u001b[0m     \u001b[39mself\u001b[39m,\n\u001b[1;32m     70\u001b[0m     inputs: Any \u001b[39m=\u001b[39m \u001b[39mNone\u001b[39;00m,\n\u001b[0;32m   (...)\u001b[0m\n\u001b[1;32m     74\u001b[0m     shared_memory: Any \u001b[39m=\u001b[39m \u001b[39mNone\u001b[39;00m,\n\u001b[1;32m     75\u001b[0m ) \u001b[39m-\u001b[39m\u001b[39m>\u001b[39m OVDict:\n\u001b[1;32m     76\u001b[0m \u001b[39m    \u001b[39m\u001b[39m\"\"\"Infers specified input(s) in synchronous mode.\u001b[39;00m\n\u001b[1;32m     77\u001b[0m \n\u001b[1;32m     78\u001b[0m \u001b[39m    Blocks all methods of InferRequest while request is running.\u001b[39;00m\n\u001b[0;32m   (...)\u001b[0m\n\u001b[1;32m    141\u001b[0m \u001b[39m    :rtype: OVDict\u001b[39;00m\n\u001b[1;32m    142\u001b[0m \u001b[39m    \"\"\"\u001b[39;00m\n\u001b[0;32m--> 143\u001b[0m     \u001b[39mreturn\u001b[39;00m OVDict(\u001b[39msuper\u001b[39;49m()\u001b[39m.\u001b[39;49minfer(_data_dispatch(\n\u001b[1;32m    144\u001b[0m         \u001b[39mself\u001b[39;49m,\n\u001b[1;32m    145\u001b[0m         inputs,\n\u001b[1;32m    146\u001b[0m         is_shared\u001b[39m=\u001b[39;49m_deprecated_memory_arg(shared_memory, share_inputs),\n\u001b[1;32m    147\u001b[0m     ), share_outputs\u001b[39m=\u001b[39;49mshare_outputs))\n",
      "\u001b[0;31mRuntimeError\u001b[0m: Exception from src/inference/src/infer_request.cpp:231:\nclWaitForEvents\n"
     ]
    }
   ],
   "source": [
    "result = ov_pipe(text_prompt, num_inference_steps=num_steps, seed=seed)"
   ]
  },
  {
   "cell_type": "markdown",
   "metadata": {},
   "source": [
    "Finally, let us save generation results.\n",
    "The pipeline returns several results: `sample` contains final generated image, `iterations` contains list of intermediate results for each step."
   ]
  },
  {
   "cell_type": "code",
   "execution_count": null,
   "metadata": {},
   "outputs": [],
   "source": [
    "final_image = result['sample'][0]\n",
    "final_image.save('result.png')"
   ]
  },
  {
   "cell_type": "markdown",
   "metadata": {},
   "source": [
    "Now is show time!"
   ]
  },
  {
   "cell_type": "code",
   "execution_count": null,
   "metadata": {},
   "outputs": [],
   "source": [
    "text = '\\n\\t'.join(text_prompt.split('.'))\n",
    "print(\"Input text:\")\n",
    "print(\"\\t\" + text)\n",
    "display(final_image)"
   ]
  },
  {
   "cell_type": "markdown",
   "metadata": {},
   "source": [
    "Nice. As you can see, the picture has quite a high definition 🔥."
   ]
  },
  {
   "cell_type": "markdown",
   "metadata": {},
   "source": [
    "### Image-to-Image generation [$\\Uparrow$](#Table-of-content:)\n",
    "\n",
    "One of the most amazing features of Stable Diffusion model is the ability to condition image generation from an existing image or sketch. Given a (potentially crude) image and the right text prompt, latent diffusion models can be used to “enhance” an image.\n",
    "\n",
    "Image-to-Image generation, in additionally to the text prompt, requires providing the initial image. Optionally, you can also change `strength` parameter, which is a value between 0.0 and 1.0, that controls the amount of noise that is added to the input image. Values that approach 1.0 enable lots of variations but will also produce images that are not semantically consistent with the input. One of the interesting use cases for Image-to-Image generation is depainting - turning sketches or paintings into realistic photographs.\n",
    "\n",
    "Additionally, to improve image generation quality, model supports negative prompting. Technically, positive prompt steers the diffusion toward the images associated with it, while negative prompt steers the diffusion away from it.In other words, negative prompt declares undesired concepts for generation image, e.g. if we want to have colorful and bright image, gray scale image will be result which we want to avoid, in this case gray scale can be treated as negative prompt. The positive and negative prompt are in equal footing. You can always use one with or without the other. More explanation of how it works can be found in this [article](https://stable-diffusion-art.com/how-negative-prompt-work/). "
   ]
  },
  {
   "cell_type": "code",
   "execution_count": null,
   "metadata": {},
   "outputs": [],
   "source": [
    "text_prompt_i2i = 'professional photo portrait of woman, highly detailed, hyper realistic, cinematic effects, soft lighting'\n",
    "negative_prompt_i2i = \"blurry, poor quality, low res, worst quality, cropped, ugly, poorly drawn face, without eyes, mutation, unreal, animate, poorly drawn eyes\"\n",
    "num_steps_i2i = 40\n",
    "seed_i2i = 82698152\n",
    "strength = 0.68"
   ]
  },
  {
   "cell_type": "code",
   "execution_count": null,
   "metadata": {},
   "outputs": [],
   "source": [
    "from diffusers.utils import load_image\n",
    "\n",
    "default_image_url = \"https://user-images.githubusercontent.com/29454499/260418860-69cc443a-9ee6-493c-a393-3a97af080be7.jpg\"\n",
    "# read uploaded image\n",
    "image = load_image(default_image_url)\n",
    "print('Pipeline settings')\n",
    "print(f'Input positive prompt: \\n\\t{text_prompt_i2i}')\n",
    "print(f'Input negative prompt: \\n\\t{negative_prompt_i2i}')\n",
    "print(f'Seed: {seed_i2i}')\n",
    "print(f'Number of steps: {num_steps_i2i}')\n",
    "print(f'Strength: {strength}')\n",
    "print(\"Input image:\")\n",
    "display(image)\n",
    "processed_image = ov_pipe(text_prompt_i2i, image, negative_prompt=negative_prompt_i2i, num_inference_steps=num_steps_i2i, seed=seed_i2i, strength=strength)"
   ]
  },
  {
   "cell_type": "code",
   "execution_count": null,
   "metadata": {},
   "outputs": [],
   "source": [
    "final_image_i2i = processed_image['sample'][0]\n",
    "final_image_i2i.save('result_i2i.png')"
   ]
  },
  {
   "cell_type": "code",
   "execution_count": null,
   "metadata": {},
   "outputs": [],
   "source": [
    "text_i2i = '\\n\\t'.join(text_prompt_i2i.split('.'))\n",
    "print(\"Input text:\")\n",
    "print(\"\\t\" + text_i2i)\n",
    "display(final_image_i2i)"
   ]
  },
  {
   "cell_type": "markdown",
   "metadata": {},
   "source": [
    "### Interactive Demo [$\\Uparrow$](#Table-of-content:)"
   ]
  },
  {
   "cell_type": "code",
   "execution_count": null,
   "metadata": {},
   "outputs": [],
   "source": [
    "import gradio as gr\n",
    "\n",
    "sample_img_url = \"https://storage.openvinotoolkit.org/repositories/openvino_notebooks/data/data/image/tower.jpg\"\n",
    "\n",
    "img = load_image(sample_img_url).save(\"tower.jpg\")\n",
    "\n",
    "def generate_from_text(text, negative_text, seed, num_steps, _=gr.Progress(track_tqdm=True)):\n",
    "    result = ov_pipe(text, negative_prompt=negative_text, num_inference_steps=num_steps, seed=seed)\n",
    "    return result[\"sample\"][0]\n",
    "\n",
    "\n",
    "def generate_from_image(img, text, negative_text, seed, num_steps, strength, _=gr.Progress(track_tqdm=True)):\n",
    "    result = ov_pipe(text, img, negative_prompt=negative_text, num_inference_steps=num_steps, seed=seed, strength=strength)\n",
    "    return result[\"sample\"][0]\n",
    "\n",
    "\n",
    "with gr.Blocks() as demo:\n",
    "    with gr.Tab(\"Text-to-Image generation\"):\n",
    "        with gr.Row():\n",
    "            with gr.Column():\n",
    "                text_input = gr.Textbox(lines=3, label=\"Positive prompt\")\n",
    "                negative_text_input = gr.Textbox(lines=3, label=\"Negative prompt\")\n",
    "                seed_input = gr.Slider(0, 10000000, value=751, label=\"Seed\")\n",
    "                steps_input = gr.Slider(1, 50, value=20, step=1, label=\"Steps\")\n",
    "            out = gr.Image(label=\"Result\", type=\"pil\")\n",
    "        sample_text = \"futuristic synthwave city, retro sunset, crystals, spires, volumetric lighting, studio Ghibli style, rendered in unreal engine with clean details\"\n",
    "        sample_text2 = \"RAW studio photo of tiny cute happy  cat in a yellow raincoat in the woods, rain, a character portrait, soft lighting, high resolution, photo realistic, extremely detailed\"\n",
    "        negative_sample_text = \"\"\n",
    "        negative_sample_text2 = \"bad anatomy, blurry, noisy, jpeg artifacts, low quality, geometry, mutation, disgusting. ugly\"\n",
    "        btn = gr.Button()\n",
    "        btn.click(generate_from_text, [text_input, negative_text_input, seed_input, steps_input], out)\n",
    "        gr.Examples([[sample_text, negative_sample_text, 42, 20], [sample_text2, negative_sample_text2, 1561, 25]], [text_input, negative_text_input, seed_input, steps_input])\n",
    "    with gr.Tab(\"Image-to-Image generation\"):\n",
    "        with gr.Row():\n",
    "            with gr.Column():\n",
    "                i2i_input = gr.Image(label=\"Image\", type=\"pil\")\n",
    "                i2i_text_input = gr.Textbox(lines=3, label=\"Text\")\n",
    "                i2i_negative_text_input = gr.Textbox(lines=3, label=\"Negative prompt\")\n",
    "                i2i_seed_input = gr.Slider(0, 10000000, value=42, label=\"Seed\")\n",
    "                i2i_steps_input = gr.Slider(1, 50, value=10, step=1, label=\"Steps\")\n",
    "                strength_input = gr.Slider(0, 1, value=0.5, label=\"Strength\")\n",
    "            i2i_out = gr.Image(label=\"Result\", type=\"pil\")\n",
    "        i2i_btn = gr.Button()\n",
    "        sample_i2i_text = \"amazing watercolor painting\"\n",
    "        i2i_btn.click(\n",
    "            generate_from_image,\n",
    "            [i2i_input, i2i_text_input, i2i_negative_text_input, i2i_seed_input, i2i_steps_input, strength_input],\n",
    "            i2i_out,\n",
    "        )\n",
    "        gr.Examples(\n",
    "            [[\"tower.jpg\", sample_i2i_text, \"\", 6400023, 40, 0.3]],\n",
    "            [i2i_input, i2i_text_input, i2i_negative_text_input, i2i_seed_input, i2i_steps_input, strength_input],\n",
    "        )\n",
    "\n",
    "try:\n",
    "    demo.queue().launch(debug=True)\n",
    "except Exception:\n",
    "    demo.queue().launch(share=True, debug=True)\n",
    "# if you are launching remotely, specify server_name and server_port\n",
    "# demo.launch(server_name='your server name', server_port='server port in int')\n",
    "# Read more in the docs: https://gradio.app/docs/"
   ]
  }
 ],
 "metadata": {
  "colab": {
   "provenance": []
  },
  "kernelspec": {
   "display_name": "Python 3",
   "language": "python",
   "name": "python3"
  },
  "language_info": {
   "codemirror_mode": {
    "name": "ipython",
    "version": 3
   },
   "file_extension": ".py",
   "mimetype": "text/x-python",
   "name": "python",
   "nbconvert_exporter": "python",
   "pygments_lexer": "ipython3",
   "version": "3.10.12"
  },
  "vscode": {
   "interpreter": {
    "hash": "30f6166f5f0cb6253cad15b1c8ca46093b160f1914c051aeccf8063f98b299b9"
   }
  },
  "widgets": {
   "application/vnd.jupyter.widget-state+json": {
    "state": {
     "09a9d980c8c44f399b57fb37d41d4b11": {
      "model_module": "@jupyter-widgets/controls",
      "model_module_version": "2.0.0",
      "model_name": "HTMLStyleModel",
      "state": {
       "description_width": "",
       "font_size": null,
       "text_color": null
      }
     },
     "1f1bf199e52f4234a11f8447ac4c038a": {
      "model_module": "@jupyter-widgets/base",
      "model_module_version": "2.0.0",
      "model_name": "LayoutModel",
      "state": {}
     },
     "240d60043780485492cfcbb5b9fe2e46": {
      "model_module": "@jupyter-widgets/controls",
      "model_module_version": "2.0.0",
      "model_name": "DropdownModel",
      "state": {
       "_options_labels": [
        "CPU",
        "GPU",
        "AUTO"
       ],
       "description": "Device:",
       "index": 2,
       "layout": "IPY_MODEL_9f014123a2f5469cbc69380f4a3cbcde",
       "style": "IPY_MODEL_352a37e906c343e3a0af29e00fd75e83"
      }
     },
     "25d65d5f3e5f4fafb3dfe655953ca51f": {
      "model_module": "@jupyter-widgets/base",
      "model_module_version": "2.0.0",
      "model_name": "LayoutModel",
      "state": {}
     },
     "2da7421f41fb4a309967172c288dd3ad": {
      "model_module": "@jupyter-widgets/controls",
      "model_module_version": "2.0.0",
      "model_name": "ProgressStyleModel",
      "state": {
       "description_width": ""
      }
     },
     "2e0599d18f644e8285b100bea829c36e": {
      "model_module": "@jupyter-widgets/controls",
      "model_module_version": "2.0.0",
      "model_name": "HTMLStyleModel",
      "state": {
       "description_width": "",
       "font_size": null,
       "text_color": null
      }
     },
     "2fe6e59a0d6445d38f3b34dd743141c2": {
      "model_module": "@jupyter-widgets/controls",
      "model_module_version": "2.0.0",
      "model_name": "FloatProgressModel",
      "state": {
       "bar_style": "success",
       "layout": "IPY_MODEL_fd04a6d3d6f741118ce3078cae3a43f6",
       "max": 27,
       "style": "IPY_MODEL_7e96c1d87f2a412e9e5b13732660d9fa",
       "value": 27
      }
     },
     "33347948be8f4f77bb878e19fe7607c0": {
      "model_module": "@jupyter-widgets/controls",
      "model_module_version": "2.0.0",
      "model_name": "FloatProgressModel",
      "state": {
       "bar_style": "success",
       "layout": "IPY_MODEL_1f1bf199e52f4234a11f8447ac4c038a",
       "max": 5,
       "style": "IPY_MODEL_4082c9e433f243339271f1a3f077c038",
       "value": 5
      }
     },
     "352a37e906c343e3a0af29e00fd75e83": {
      "model_module": "@jupyter-widgets/controls",
      "model_module_version": "2.0.0",
      "model_name": "DescriptionStyleModel",
      "state": {
       "description_width": ""
      }
     },
     "3a72bd37f65845b9a813e9b74a85b053": {
      "model_module": "@jupyter-widgets/base",
      "model_module_version": "2.0.0",
      "model_name": "LayoutModel",
      "state": {}
     },
     "4082c9e433f243339271f1a3f077c038": {
      "model_module": "@jupyter-widgets/controls",
      "model_module_version": "2.0.0",
      "model_name": "ProgressStyleModel",
      "state": {
       "description_width": ""
      }
     },
     "41ca36ed590e4e91bc9f0986c4858dc8": {
      "model_module": "@jupyter-widgets/controls",
      "model_module_version": "2.0.0",
      "model_name": "HTMLModel",
      "state": {
       "layout": "IPY_MODEL_f1e6ee20df234577ba77f6399200dc1b",
       "style": "IPY_MODEL_b0ab0b019a5847f8a296a199cc64ddb1",
       "value": " 5/5 [00:01&lt;00:00,  3.52it/s]"
      }
     },
     "4396601720a547c68095fdf6774d41df": {
      "model_module": "@jupyter-widgets/base",
      "model_module_version": "2.0.0",
      "model_name": "LayoutModel",
      "state": {}
     },
     "531d29d528e247c596163e527fc483dd": {
      "model_module": "@jupyter-widgets/controls",
      "model_module_version": "2.0.0",
      "model_name": "HTMLModel",
      "state": {
       "layout": "IPY_MODEL_70238ccc3e68496180869002a2f71e96",
       "style": "IPY_MODEL_09a9d980c8c44f399b57fb37d41d4b11",
       "value": " 27/27 [00:21&lt;00:00,  1.23it/s]"
      }
     },
     "5a9adbbe40e347238430bb9366fb3e0b": {
      "model_module": "@jupyter-widgets/controls",
      "model_module_version": "2.0.0",
      "model_name": "HTMLModel",
      "state": {
       "layout": "IPY_MODEL_7fae979c1aa14c43a0a952de2a597b3b",
       "style": "IPY_MODEL_a2998180b9c74427a564ad1b021d9eaf",
       "value": "100%"
      }
     },
     "70238ccc3e68496180869002a2f71e96": {
      "model_module": "@jupyter-widgets/base",
      "model_module_version": "2.0.0",
      "model_name": "LayoutModel",
      "state": {}
     },
     "70672a15d7f949fbb5b73b0330f8ac2b": {
      "model_module": "@jupyter-widgets/base",
      "model_module_version": "2.0.0",
      "model_name": "LayoutModel",
      "state": {}
     },
     "770d66974d644d85a781a540881af2ab": {
      "model_module": "@jupyter-widgets/base",
      "model_module_version": "2.0.0",
      "model_name": "LayoutModel",
      "state": {}
     },
     "7d03a049391c403bbafa0c4ca0ced5a6": {
      "model_module": "@jupyter-widgets/base",
      "model_module_version": "2.0.0",
      "model_name": "LayoutModel",
      "state": {}
     },
     "7e96c1d87f2a412e9e5b13732660d9fa": {
      "model_module": "@jupyter-widgets/controls",
      "model_module_version": "2.0.0",
      "model_name": "ProgressStyleModel",
      "state": {
       "description_width": ""
      }
     },
     "7fae979c1aa14c43a0a952de2a597b3b": {
      "model_module": "@jupyter-widgets/base",
      "model_module_version": "2.0.0",
      "model_name": "LayoutModel",
      "state": {}
     },
     "855f9b823b794a518b2b9c1ff3f70bae": {
      "model_module": "@jupyter-widgets/controls",
      "model_module_version": "2.0.0",
      "model_name": "HBoxModel",
      "state": {
       "children": [
        "IPY_MODEL_5a9adbbe40e347238430bb9366fb3e0b",
        "IPY_MODEL_2fe6e59a0d6445d38f3b34dd743141c2",
        "IPY_MODEL_531d29d528e247c596163e527fc483dd"
       ],
       "layout": "IPY_MODEL_70672a15d7f949fbb5b73b0330f8ac2b"
      }
     },
     "8dbe952878aa4bdabe35702590af63cd": {
      "model_module": "@jupyter-widgets/controls",
      "model_module_version": "2.0.0",
      "model_name": "HTMLModel",
      "state": {
       "layout": "IPY_MODEL_770d66974d644d85a781a540881af2ab",
       "style": "IPY_MODEL_a844d730c20e4f90ad5c13a70c4ab431",
       "value": " 20/20 [00:16&lt;00:00,  1.24it/s]"
      }
     },
     "9d0ec2f04a2f4759800cfc3bdf055625": {
      "model_module": "@jupyter-widgets/controls",
      "model_module_version": "2.0.0",
      "model_name": "HBoxModel",
      "state": {
       "children": [
        "IPY_MODEL_d5e852bb030d4f2ea258966b6dad6c9e",
        "IPY_MODEL_af160fab7d934c30a87b54bc27c32a7b",
        "IPY_MODEL_8dbe952878aa4bdabe35702590af63cd"
       ],
       "layout": "IPY_MODEL_a56f8d9a28f74a3ab1befb40f0a26c43"
      }
     },
     "9f014123a2f5469cbc69380f4a3cbcde": {
      "model_module": "@jupyter-widgets/base",
      "model_module_version": "2.0.0",
      "model_name": "LayoutModel",
      "state": {}
     },
     "a2998180b9c74427a564ad1b021d9eaf": {
      "model_module": "@jupyter-widgets/controls",
      "model_module_version": "2.0.0",
      "model_name": "HTMLStyleModel",
      "state": {
       "description_width": "",
       "font_size": null,
       "text_color": null
      }
     },
     "a56f8d9a28f74a3ab1befb40f0a26c43": {
      "model_module": "@jupyter-widgets/base",
      "model_module_version": "2.0.0",
      "model_name": "LayoutModel",
      "state": {}
     },
     "a844d730c20e4f90ad5c13a70c4ab431": {
      "model_module": "@jupyter-widgets/controls",
      "model_module_version": "2.0.0",
      "model_name": "HTMLStyleModel",
      "state": {
       "description_width": "",
       "font_size": null,
       "text_color": null
      }
     },
     "ac2fa7ee7f05429ab3608b214c662c88": {
      "model_module": "@jupyter-widgets/controls",
      "model_module_version": "2.0.0",
      "model_name": "HTMLModel",
      "state": {
       "layout": "IPY_MODEL_3a72bd37f65845b9a813e9b74a85b053",
       "style": "IPY_MODEL_eaf9fcea7fd9483c86797882d9ad3f99",
       "value": "Loading pipeline components...: 100%"
      }
     },
     "af160fab7d934c30a87b54bc27c32a7b": {
      "model_module": "@jupyter-widgets/controls",
      "model_module_version": "2.0.0",
      "model_name": "FloatProgressModel",
      "state": {
       "bar_style": "success",
       "layout": "IPY_MODEL_25d65d5f3e5f4fafb3dfe655953ca51f",
       "max": 20,
       "style": "IPY_MODEL_2da7421f41fb4a309967172c288dd3ad",
       "value": 20
      }
     },
     "b0ab0b019a5847f8a296a199cc64ddb1": {
      "model_module": "@jupyter-widgets/controls",
      "model_module_version": "2.0.0",
      "model_name": "HTMLStyleModel",
      "state": {
       "description_width": "",
       "font_size": null,
       "text_color": null
      }
     },
     "c59872da328b4737a159fb44e6017783": {
      "model_module": "@jupyter-widgets/controls",
      "model_module_version": "2.0.0",
      "model_name": "HBoxModel",
      "state": {
       "children": [
        "IPY_MODEL_ac2fa7ee7f05429ab3608b214c662c88",
        "IPY_MODEL_33347948be8f4f77bb878e19fe7607c0",
        "IPY_MODEL_41ca36ed590e4e91bc9f0986c4858dc8"
       ],
       "layout": "IPY_MODEL_7d03a049391c403bbafa0c4ca0ced5a6"
      }
     },
     "d5e852bb030d4f2ea258966b6dad6c9e": {
      "model_module": "@jupyter-widgets/controls",
      "model_module_version": "2.0.0",
      "model_name": "HTMLModel",
      "state": {
       "layout": "IPY_MODEL_4396601720a547c68095fdf6774d41df",
       "style": "IPY_MODEL_2e0599d18f644e8285b100bea829c36e",
       "value": "100%"
      }
     },
     "eaf9fcea7fd9483c86797882d9ad3f99": {
      "model_module": "@jupyter-widgets/controls",
      "model_module_version": "2.0.0",
      "model_name": "HTMLStyleModel",
      "state": {
       "description_width": "",
       "font_size": null,
       "text_color": null
      }
     },
     "f1e6ee20df234577ba77f6399200dc1b": {
      "model_module": "@jupyter-widgets/base",
      "model_module_version": "2.0.0",
      "model_name": "LayoutModel",
      "state": {}
     },
     "fd04a6d3d6f741118ce3078cae3a43f6": {
      "model_module": "@jupyter-widgets/base",
      "model_module_version": "2.0.0",
      "model_name": "LayoutModel",
      "state": {}
     }
    },
    "version_major": 2,
    "version_minor": 0
   }
  }
 },
 "nbformat": 4,
 "nbformat_minor": 4
}
