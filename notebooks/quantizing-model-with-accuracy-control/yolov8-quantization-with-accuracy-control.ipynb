{
 "cells": [
  {
   "cell_type": "markdown",
   "metadata": {},
   "source": [
    "# Convert and Optimize YOLOv8 with OpenVINO™\n",
    "\n",
    "The YOLOv8 algorithm developed by Ultralytics is a cutting-edge, state-of-the-art (SOTA) model that is designed to be fast, accurate, and easy to use, making it an excellent choice for a wide range of object detection, image segmentation, and image classification tasks.\n",
    "More details about its realization can be found in the original model [repository](https://github.com/ultralytics/ultralytics).\n",
    "\n",
    "This tutorial demonstrates step-by-step instructions on how to run apply quantization with accuracy control to PyTorch YOLOv8.\n",
    "The advanced quantization flow allows to apply 8-bit quantization to the model with control of accuracy metric. This is achieved by keeping the most impactful operations within the model in the original precision. The flow is based on the [Basic 8-bit quantization](https://docs.openvino.ai/2024/openvino-workflow/model-optimization-guide/quantizing-models-post-training/basic-quantization-flow.html) and has the following differences:\n",
    "\n",
    "- Besides the calibration dataset, a validation dataset is required to compute the accuracy metric. Both datasets can refer to the same data in the simplest case.\n",
    "- Validation function, used to compute accuracy metric is required. It can be a function that is already available in the source framework or a custom function.\n",
    "- Since accuracy validation is run several times during the quantization process, quantization with accuracy control can take more time than the Basic 8-bit quantization flow.\n",
    "- The resulted model can provide smaller performance improvement than the Basic 8-bit quantization flow because some of the operations are kept in the original precision.\n",
    "\n",
    "> **NOTE**: Currently, 8-bit quantization with accuracy control in NNCF is available only for models in OpenVINO representation.\n",
    "\n",
    "The steps for the quantization with accuracy control are described below.\n",
    "\n",
    "\n",
    "#### Table of contents:\n",
    "\n",
    "- [Prerequisites](#Prerequisites)\n",
    "- [Get Pytorch model and OpenVINO IR model](#Get-Pytorch-model-and-OpenVINO-IR-model)\n",
    "    - [Define validator and data loader](#Define-validator-and-data-loader)\n",
    "    - [Prepare calibration and validation datasets](#Prepare-calibration-and-validation-datasets)\n",
    "    - [Prepare validation function](#Prepare-validation-function)\n",
    "- [Run quantization with accuracy control](#Run-quantization-with-accuracy-control)\n",
    "- [Compare Accuracy and Performance of the Original and Quantized Models](#Compare-Accuracy-and-Performance-of-the-Original-and-Quantized-Models)\n",
    "\n"
   ]
  },
  {
   "cell_type": "markdown",
   "metadata": {},
   "source": [
    "#### Prerequisites\n",
    "[back to top ⬆️](#Table-of-contents:)\n",
    "\n",
    "Install necessary packages."
   ]
  },
  {
   "cell_type": "code",
   "execution_count": 1,
   "metadata": {
    "collapsed": false,
    "jupyter": {
     "outputs_hidden": false
    }
   },
   "outputs": [
    {
     "name": "stdout",
     "output_type": "stream",
     "text": [
      "Note: you may need to restart the kernel to use updated packages.\n",
      "Note: you may need to restart the kernel to use updated packages.\n",
      "Note: you may need to restart the kernel to use updated packages.\n"
     ]
    }
   ],
   "source": [
    "%pip install -q \"openvino>=2023.1.0\"\n",
    "%pip install -q \"nncf>=2.6.0\"\n",
    "%pip install -q \"ultralytics==8.0.43\" --extra-index-url https://download.pytorch.org/whl/cpu"
   ]
  },
  {
   "cell_type": "markdown",
   "metadata": {},
   "source": [
    "## Get Pytorch model and OpenVINO IR model\n",
    "[back to top ⬆️](#Table-of-contents:)\n",
    "\n",
    "Generally, PyTorch models represent an instance of the [`torch.nn.Module`](https://pytorch.org/docs/stable/generated/torch.nn.Module.html) class, initialized by a state dictionary with model weights.\n",
    "We will use the YOLOv8 nano model (also known as `yolov8n`) pre-trained on a COCO dataset, which is available in this [repo](https://github.com/ultralytics/ultralytics). Similar steps are also applicable to other YOLOv8 models.\n",
    "Typical steps to obtain a pre-trained model:\n",
    "\n",
    "1. Create an instance of a model class.\n",
    "2. Load a checkpoint state dict, which contains the pre-trained model weights.\n",
    "\n",
    "In this case, the creators of the model provide an API that enables converting the YOLOv8 model to ONNX and then to OpenVINO IR. Therefore, we do not need to do these steps manually."
   ]
  },
  {
   "cell_type": "code",
   "execution_count": 2,
   "metadata": {
    "collapsed": false,
    "jupyter": {
     "outputs_hidden": false
    }
   },
   "outputs": [],
   "source": [
    "import os\n",
    "from pathlib import Path\n",
    "\n",
    "from ultralytics import YOLO\n",
    "from ultralytics.yolo.cfg import get_cfg\n",
    "from ultralytics.yolo.data.utils import check_det_dataset\n",
    "from ultralytics.yolo.engine.validator import BaseValidator as Validator\n",
    "from ultralytics.yolo.utils import DEFAULT_CFG\n",
    "from ultralytics.yolo.utils import ops\n",
    "from ultralytics.yolo.utils.metrics import ConfusionMatrix\n",
    "\n",
    "ROOT = os.path.abspath('')\n",
    "\n",
    "MODEL_NAME = \"yolov8n-seg\"\n",
    "\n",
    "model = YOLO(f\"{ROOT}/{MODEL_NAME}.pt\")\n",
    "args = get_cfg(cfg=DEFAULT_CFG)\n",
    "args.data = \"coco128-seg.yaml\""
   ]
  },
  {
   "cell_type": "code",
   "execution_count": 3,
   "metadata": {},
   "outputs": [],
   "source": [
    "# Fetch the notebook utils script from the openvino_notebooks repo\n",
    "import urllib.request\n",
    "urllib.request.urlretrieve(\n",
    "    url='https://raw.githubusercontent.com/openvinotoolkit/openvino_notebooks/main/notebooks/utils/notebook_utils.py',\n",
    "    filename='notebook_utils.py'\n",
    ")\n",
    "\n",
    "from notebook_utils import download_file"
   ]
  },
  {
   "cell_type": "code",
   "execution_count": 5,
   "metadata": {},
   "outputs": [
    {
     "name": "stdout",
     "output_type": "stream",
     "text": [
      "'datasets/coco128-seg.zip' already exists.\n"
     ]
    },
    {
     "data": {
      "application/vnd.jupyter.widget-view+json": {
       "model_id": "8cfc39160c5a4024aa053e65a7a94b23",
       "version_major": 2,
       "version_minor": 0
      },
      "text/plain": [
       "datasets/coco128-seg.yaml:   0%|          | 0.00/0.98k [00:00<?, ?B/s]"
      ]
     },
     "metadata": {},
     "output_type": "display_data"
    }
   ],
   "source": [
    "from zipfile import ZipFile\n",
    "\n",
    "DATA_URL = \"https://www.ultralytics.com/assets/coco128-seg.zip\"\n",
    "CFG_URL = \"https://raw.githubusercontent.com/ultralytics/ultralytics/8ebe94d1e928687feaa1fee6d5668987df5e43be/ultralytics/datasets/coco128-seg.yaml\"  # last compatible format with ultralytics 8.0.43\n",
    "\n",
    "OUT_DIR = Path('./datasets')\n",
    "\n",
    "DATA_PATH = OUT_DIR / \"coco128-seg.zip\"\n",
    "CFG_PATH = OUT_DIR / \"coco128-seg.yaml\"\n",
    "\n",
    "download_file(DATA_URL, DATA_PATH.name, DATA_PATH.parent)\n",
    "download_file(CFG_URL, CFG_PATH.name, CFG_PATH.parent)\n",
    "\n",
    "if not (OUT_DIR / \"coco128/labels\").exists():\n",
    "    with ZipFile(DATA_PATH , \"r\") as zip_ref:\n",
    "        zip_ref.extractall(OUT_DIR)"
   ]
  },
  {
   "cell_type": "markdown",
   "metadata": {},
   "source": [
    "Load model."
   ]
  },
  {
   "cell_type": "code",
   "execution_count": 6,
   "metadata": {
    "collapsed": false,
    "jupyter": {
     "outputs_hidden": false
    }
   },
   "outputs": [],
   "source": [
    "import openvino as ov\n",
    "\n",
    "\n",
    "model_path = Path(f\"{ROOT}/{MODEL_NAME}_openvino_model/{MODEL_NAME}.xml\")\n",
    "if not model_path.exists():\n",
    "    model.export(format=\"openvino\", dynamic=True, half=False)\n",
    "\n",
    "ov_model = ov.Core().read_model(model_path)"
   ]
  },
  {
   "cell_type": "markdown",
   "metadata": {},
   "source": [
    "#### Define validator and data loader\n",
    "[back to top ⬆️](#Table-of-contents:)\n",
    "\n",
    "The original model repository uses a `Validator` wrapper, which represents the accuracy validation pipeline. It creates dataloader and evaluation metrics and updates metrics on each data batch produced by the dataloader. Besides that, it is responsible for data preprocessing and results postprocessing. For class initialization, the configuration should be provided. We will use the default setup, but it can be replaced with some parameters overriding to test on custom data. The model has connected the `ValidatorClass` method, which creates a validator class instance."
   ]
  },
  {
   "cell_type": "code",
   "execution_count": 9,
   "metadata": {
    "collapsed": false,
    "jupyter": {
     "outputs_hidden": false
    }
   },
   "outputs": [
    {
     "name": "stderr",
     "output_type": "stream",
     "text": [
      "\u001b[34m\u001b[1mval: \u001b[0mScanning datasets/coco128-seg/labels/train2017... 126 images, 2 backgrounds, 0 corrupt: 100%|██████████| 128/128 [00:00<00:00, 964.99it/s]\u001b[0m\n",
      "\u001b[34m\u001b[1mval: \u001b[0mNew cache created: datasets/coco128-seg/labels/train2017.cache\n"
     ]
    }
   ],
   "source": [
    "validator = model.ValidatorClass(args)\n",
    "validator.data = check_det_dataset(args.data)\n",
    "data_loader = validator.get_dataloader(\"datasets/coco128-seg\", 1)\n",
    "\n",
    "validator.is_coco = True\n",
    "validator.class_map = ops.coco80_to_coco91_class()\n",
    "validator.names = model.model.names\n",
    "validator.metrics.names = validator.names\n",
    "validator.nc = model.model.model[-1].nc\n",
    "validator.nm = 32\n",
    "validator.process = ops.process_mask\n",
    "validator.plot_masks = []"
   ]
  },
  {
   "cell_type": "markdown",
   "metadata": {},
   "source": [
    "#### Prepare calibration and validation datasets\n",
    "[back to top ⬆️](#Table-of-contents:)\n",
    "\n",
    "We can use one dataset as calibration and validation datasets. Name it `quantization_dataset`."
   ]
  },
  {
   "cell_type": "code",
   "execution_count": 10,
   "metadata": {
    "collapsed": false,
    "jupyter": {
     "outputs_hidden": false
    }
   },
   "outputs": [
    {
     "name": "stdout",
     "output_type": "stream",
     "text": [
      "INFO:nncf:NNCF initialized successfully. Supported frameworks detected: torch, tensorflow, onnx, openvino\n"
     ]
    }
   ],
   "source": [
    "from typing import Dict\n",
    "\n",
    "import nncf\n",
    "\n",
    "\n",
    "def transform_fn(data_item: Dict):\n",
    "    input_tensor = validator.preprocess(data_item)[\"img\"].numpy()\n",
    "    return input_tensor\n",
    "\n",
    "\n",
    "quantization_dataset = nncf.Dataset(data_loader, transform_fn)"
   ]
  },
  {
   "cell_type": "markdown",
   "metadata": {},
   "source": [
    "#### Prepare validation function\n",
    "[back to top ⬆️](#Table-of-contents:)\n"
   ]
  },
  {
   "cell_type": "code",
   "execution_count": 11,
   "metadata": {
    "collapsed": false,
    "jupyter": {
     "outputs_hidden": false
    }
   },
   "outputs": [],
   "source": [
    "from functools import partial\n",
    "\n",
    "import torch\n",
    "from nncf.quantization.advanced_parameters import AdvancedAccuracyRestorerParameters\n",
    "\n",
    "\n",
    "def validation_ac(\n",
    "    compiled_model: ov.CompiledModel,\n",
    "    validation_loader: torch.utils.data.DataLoader,\n",
    "    validator: Validator,\n",
    "    num_samples: int = None,\n",
    "    log=True\n",
    ") -> float:\n",
    "    validator.seen = 0\n",
    "    validator.jdict = []\n",
    "    validator.stats = []\n",
    "    validator.batch_i = 1\n",
    "    validator.confusion_matrix = ConfusionMatrix(nc=validator.nc)\n",
    "    num_outputs = len(compiled_model.outputs)\n",
    "\n",
    "    counter = 0\n",
    "    for batch_i, batch in enumerate(validation_loader):\n",
    "        if num_samples is not None and batch_i == num_samples:\n",
    "            break\n",
    "        batch = validator.preprocess(batch)\n",
    "        results = compiled_model(batch[\"img\"])\n",
    "        if num_outputs == 1:\n",
    "            preds = torch.from_numpy(results[compiled_model.output(0)])\n",
    "        else:\n",
    "            preds = [\n",
    "                torch.from_numpy(results[compiled_model.output(0)]),\n",
    "                torch.from_numpy(results[compiled_model.output(1)]),\n",
    "            ]\n",
    "        preds = validator.postprocess(preds)\n",
    "        validator.update_metrics(preds, batch)\n",
    "        counter += 1\n",
    "    stats = validator.get_stats()\n",
    "    if num_outputs == 1:\n",
    "        stats_metrics = stats[\"metrics/mAP50-95(B)\"]\n",
    "    else:\n",
    "        stats_metrics = stats[\"metrics/mAP50-95(M)\"]\n",
    "    if log:\n",
    "        print(f\"Validate: dataset length = {counter}, metric value = {stats_metrics:.3f}\")\n",
    "    \n",
    "    return stats_metrics\n",
    "\n",
    "\n",
    "validation_fn = partial(validation_ac, validator=validator, log=False)"
   ]
  },
  {
   "cell_type": "markdown",
   "metadata": {},
   "source": [
    "## Run quantization with accuracy control\n",
    "[back to top ⬆️](#Table-of-contents:)\n",
    "\n",
    "You should provide the calibration dataset and the validation dataset. It can be the same dataset. \n",
    "  - parameter `max_drop` defines the accuracy drop threshold. The quantization process stops when the degradation of accuracy metric on the validation dataset is less than the `max_drop`. The default value is 0.01. NNCF will stop the quantization and report an error if the `max_drop` value can’t be reached.\n",
    "  - `drop_type` defines how the accuracy drop will be calculated: ABSOLUTE (used by default) or RELATIVE.\n",
    "  - `ranking_subset_size` - size of a subset that is used to rank layers by their contribution to the accuracy drop. Default value is 300, and the more samples it has the better ranking, potentially. Here we use the value 25 to speed up the execution. \n",
    "\n",
    "> **NOTE**: Execution can take tens of minutes and requires up to 15 GB of free memory"
   ]
  },
  {
   "cell_type": "code",
   "execution_count": 12,
   "metadata": {
    "collapsed": false,
    "jupyter": {
     "outputs_hidden": false
    }
   },
   "outputs": [
    {
     "name": "stderr",
     "output_type": "stream",
     "text": [
      "2024-02-28 13:33:46.187903: I tensorflow/core/util/port.cc:110] oneDNN custom operations are on. You may see slightly different numerical results due to floating-point round-off errors from different computation orders. To turn them off, set the environment variable `TF_ENABLE_ONEDNN_OPTS=0`.\n",
      "2024-02-28 13:33:46.189894: I tensorflow/tsl/cuda/cudart_stub.cc:28] Could not find cuda drivers on your machine, GPU will not be used.\n",
      "2024-02-28 13:33:46.226943: I tensorflow/core/platform/cpu_feature_guard.cc:182] This TensorFlow binary is optimized to use available CPU instructions in performance-critical operations.\n",
      "To enable the following instructions: AVX2 AVX512F AVX512_VNNI FMA, in other operations, rebuild TensorFlow with the appropriate compiler flags.\n",
      "2024-02-28 13:33:46.942396: W tensorflow/compiler/tf2tensorrt/utils/py_utils.cc:38] TF-TRT Warning: Could not find TensorRT\n"
     ]
    },
    {
     "data": {
      "application/vnd.jupyter.widget-view+json": {
       "model_id": "e77b68ac2ae544adbcf28b9b6ad7a37f",
       "version_major": 2,
       "version_minor": 0
      },
      "text/plain": [
       "Output()"
      ]
     },
     "metadata": {},
     "output_type": "display_data"
    },
    {
     "data": {
      "text/html": [
       "<pre style=\"white-space:pre;overflow-x:auto;line-height:normal;font-family:Menlo,'DejaVu Sans Mono',consolas,'Courier New',monospace\"></pre>\n"
      ],
      "text/plain": []
     },
     "metadata": {},
     "output_type": "display_data"
    },
    {
     "data": {
      "text/html": [
       "<pre style=\"white-space:pre;overflow-x:auto;line-height:normal;font-family:Menlo,'DejaVu Sans Mono',consolas,'Courier New',monospace\">\n",
       "</pre>\n"
      ],
      "text/plain": [
       "\n"
      ]
     },
     "metadata": {},
     "output_type": "display_data"
    },
    {
     "data": {
      "application/vnd.jupyter.widget-view+json": {
       "model_id": "92c00c4966f741afb4e290bedffc2f35",
       "version_major": 2,
       "version_minor": 0
      },
      "text/plain": [
       "Output()"
      ]
     },
     "metadata": {},
     "output_type": "display_data"
    },
    {
     "data": {
      "text/html": [
       "<pre style=\"white-space:pre;overflow-x:auto;line-height:normal;font-family:Menlo,'DejaVu Sans Mono',consolas,'Courier New',monospace\"></pre>\n"
      ],
      "text/plain": []
     },
     "metadata": {},
     "output_type": "display_data"
    },
    {
     "data": {
      "text/html": [
       "<pre style=\"white-space:pre;overflow-x:auto;line-height:normal;font-family:Menlo,'DejaVu Sans Mono',consolas,'Courier New',monospace\">\n",
       "</pre>\n"
      ],
      "text/plain": [
       "\n"
      ]
     },
     "metadata": {},
     "output_type": "display_data"
    },
    {
     "name": "stdout",
     "output_type": "stream",
     "text": [
      "INFO:nncf:Validation of initial model was started\n",
      "INFO:nncf:Elapsed Time: 00:00:00\n",
      "INFO:nncf:Elapsed Time: 00:00:05\n",
      "INFO:nncf:Metric of initial model: 0.36611468358574506\n",
      "INFO:nncf:Collecting values for each data item using the initial model\n",
      "INFO:nncf:Elapsed Time: 00:00:06\n",
      "INFO:nncf:Validation of quantized model was started\n",
      "INFO:nncf:Elapsed Time: 00:00:00\n",
      "INFO:nncf:Elapsed Time: 00:00:05\n",
      "INFO:nncf:Metric of quantized model: 0.3406029678292\n",
      "INFO:nncf:Collecting values for each data item using the quantized model\n",
      "INFO:nncf:Elapsed Time: 00:00:06\n",
      "INFO:nncf:Accuracy drop: 0.02551171575654504 (absolute)\n",
      "INFO:nncf:Accuracy drop: 0.02551171575654504 (absolute)\n",
      "INFO:nncf:Total number of quantized operations in the model: 91\n",
      "INFO:nncf:Number of parallel workers to rank quantized operations: 1\n",
      "INFO:nncf:ORIGINAL metric is used to rank quantizers\n"
     ]
    },
    {
     "data": {
      "application/vnd.jupyter.widget-view+json": {
       "model_id": "80497347f6b74ff7a24214e0cfacba0e",
       "version_major": 2,
       "version_minor": 0
      },
      "text/plain": [
       "Output()"
      ]
     },
     "metadata": {},
     "output_type": "display_data"
    },
    {
     "data": {
      "text/html": [
       "<pre style=\"white-space:pre;overflow-x:auto;line-height:normal;font-family:Menlo,'DejaVu Sans Mono',consolas,'Courier New',monospace\"></pre>\n"
      ],
      "text/plain": []
     },
     "metadata": {},
     "output_type": "display_data"
    },
    {
     "data": {
      "text/html": [
       "<pre style=\"white-space:pre;overflow-x:auto;line-height:normal;font-family:Menlo,'DejaVu Sans Mono',consolas,'Courier New',monospace\">\n",
       "</pre>\n"
      ],
      "text/plain": [
       "\n"
      ]
     },
     "metadata": {},
     "output_type": "display_data"
    },
    {
     "name": "stdout",
     "output_type": "stream",
     "text": [
      "INFO:nncf:Elapsed Time: 00:02:25\n",
      "INFO:nncf:Changing the scope of quantizer nodes was started\n",
      "INFO:nncf:Reverted 2 operations to the floating-point precision: \n",
      "\t/model.22/Add_11\n",
      "\t/model.22/Sub_1\n",
      "INFO:nncf:Accuracy drop with the new quantization scope is 0.013524778006655136 (absolute)\n",
      "INFO:nncf:Reverted 1 operations to the floating-point precision: \n",
      "\t/model.22/Mul_5\n",
      "INFO:nncf:Accuracy drop with the new quantization scope is 0.011937545450662279 (absolute)\n",
      "INFO:nncf:Reverted 1 operations to the floating-point precision: \n",
      "\t/model.2/cv1/conv/Conv/WithoutBiases\n",
      "INFO:nncf:Algorithm completed: achieved required accuracy drop 0.00905169821338292 (absolute)\n",
      "INFO:nncf:4 out of 91 were reverted back to the floating-point precision:\n",
      "\t/model.22/Add_11\n",
      "\t/model.22/Sub_1\n",
      "\t/model.22/Mul_5\n",
      "\t/model.2/cv1/conv/Conv/WithoutBiases\n"
     ]
    }
   ],
   "source": [
    "quantized_model = nncf.quantize_with_accuracy_control(\n",
    "    ov_model,\n",
    "    quantization_dataset,\n",
    "    quantization_dataset,\n",
    "    validation_fn=validation_fn,\n",
    "    max_drop=0.01,\n",
    "    preset=nncf.QuantizationPreset.MIXED,\n",
    "    subset_size=128,\n",
    "    advanced_accuracy_restorer_parameters=AdvancedAccuracyRestorerParameters(\n",
    "        ranking_subset_size=25\n",
    "    ),\n",
    ")"
   ]
  },
  {
   "cell_type": "markdown",
   "metadata": {},
   "source": [
    "## Compare Accuracy and Performance of the Original and Quantized Models\n",
    "[back to top ⬆️](#Table-of-contents:)\n",
    "\n",
    "Now we can compare metrics of the Original non-quantized OpenVINO IR model and Quantized OpenVINO IR model to make sure that the `max_drop` is not exceeded."
   ]
  },
  {
   "cell_type": "code",
   "execution_count": 13,
   "metadata": {},
   "outputs": [
    {
     "data": {
      "application/vnd.jupyter.widget-view+json": {
       "model_id": "5bfe1eed8a234fb6991329a0f1ff20d8",
       "version_major": 2,
       "version_minor": 0
      },
      "text/plain": [
       "Dropdown(description='Device:', index=1, options=('CPU', 'AUTO'), value='AUTO')"
      ]
     },
     "execution_count": 13,
     "metadata": {},
     "output_type": "execute_result"
    }
   ],
   "source": [
    "import ipywidgets as widgets\n",
    "\n",
    "core = ov.Core()\n",
    "\n",
    "device = widgets.Dropdown(\n",
    "    options=core.available_devices + [\"AUTO\"],\n",
    "    value='AUTO',\n",
    "    description='Device:',\n",
    "    disabled=False,\n",
    ")\n",
    "\n",
    "device"
   ]
  },
  {
   "cell_type": "code",
   "execution_count": 14,
   "metadata": {
    "collapsed": false,
    "jupyter": {
     "outputs_hidden": false
    }
   },
   "outputs": [
    {
     "name": "stdout",
     "output_type": "stream",
     "text": [
      "Validate: dataset length = 128, metric value = 0.368\n",
      "Validate: dataset length = 128, metric value = 0.357\n",
      "[Original OpenVINO]: 0.3677\n",
      "[Quantized OpenVINO]: 0.3570\n"
     ]
    }
   ],
   "source": [
    "core = ov.Core()\n",
    "ov_config = {}\n",
    "if \"GPU\" in device.value or (\"AUTO\" in device.value and \"GPU\" in core.available_devices):\n",
    "    ov_config = {\"GPU_DISABLE_WINOGRAD_CONVOLUTION\": \"YES\"}\n",
    "quantized_compiled_model = core.compile_model(model=quantized_model, device_name=device.value, ov_config)\n",
    "compiled_ov_model = core.compile_model(model=ov_model, device_name=device.value, ov_config)\n",
    "\n",
    "pt_result = validation_ac(compiled_ov_model, data_loader, validator)\n",
    "quantized_result = validation_ac(quantized_compiled_model, data_loader, validator)\n",
    "\n",
    "\n",
    "print(f'[Original OpenVINO]: {pt_result:.4f}')\n",
    "print(f'[Quantized OpenVINO]: {quantized_result:.4f}')"
   ]
  },
  {
   "cell_type": "markdown",
   "metadata": {},
   "source": [
    "And compare performance. "
   ]
  },
  {
   "cell_type": "code",
   "execution_count": 15,
   "metadata": {
    "collapsed": false,
    "jupyter": {
     "outputs_hidden": false
    }
   },
   "outputs": [],
   "source": [
    "from pathlib import Path\n",
    "# Set model directory\n",
    "MODEL_DIR = Path(\"model\")\n",
    "MODEL_DIR.mkdir(exist_ok=True)\n",
    "\n",
    "ir_model_path = MODEL_DIR / 'ir_model.xml'\n",
    "quantized_model_path = MODEL_DIR / 'quantized_model.xml'\n",
    "\n",
    "# Save models to use them in the commandline banchmark app\n",
    "ov.save_model(ov_model, ir_model_path, compress_to_fp16=False)\n",
    "ov.save_model(quantized_model, quantized_model_path, compress_to_fp16=False)"
   ]
  },
  {
   "cell_type": "code",
   "execution_count": 16,
   "metadata": {
    "collapsed": false,
    "jupyter": {
     "outputs_hidden": false
    }
   },
   "outputs": [
    {
     "name": "stdout",
     "output_type": "stream",
     "text": [
      "[Step 1/11] Parsing and validating input arguments\n",
      "[ INFO ] Parsing input parameters\n",
      "[Step 2/11] Loading OpenVINO Runtime\n",
      "[ WARNING ] Default duration 120 seconds is used for unknown device AUTO\n",
      "[ INFO ] OpenVINO:\n",
      "[ INFO ] Build ................................. 2024.1.0-14589-0ef2fab3490\n",
      "[ INFO ] \n",
      "[ INFO ] Device info:\n",
      "[ INFO ] AUTO\n",
      "[ INFO ] Build ................................. 2024.1.0-14589-0ef2fab3490\n",
      "[ INFO ] \n",
      "[ INFO ] \n",
      "[Step 3/11] Setting device configuration\n",
      "[ WARNING ] Performance hint was not explicitly specified in command line. Device(AUTO) performance hint will be set to PerformanceMode.THROUGHPUT.\n",
      "[Step 4/11] Reading model files\n",
      "[ INFO ] Loading model files\n",
      "[ INFO ] Read model took 17.83 ms\n",
      "[ INFO ] Original model I/O parameters:\n",
      "[ INFO ] Model inputs:\n",
      "[ INFO ]     images (node: images) : f32 / [...] / [?,3,?,?]\n",
      "[ INFO ] Model outputs:\n",
      "[ INFO ]     output0 (node: output0) : f32 / [...] / [?,116,?]\n",
      "[ INFO ]     output1 (node: output1) : f32 / [...] / [?,32,8..,8..]\n",
      "[Step 5/11] Resizing model to match image sizes and given batch\n",
      "[ INFO ] Model batch size: 1\n",
      "[ INFO ] Reshaping model: 'images': [1,3,640,640]\n",
      "[ INFO ] Reshape model took 13.50 ms\n",
      "[Step 6/11] Configuring input of the model\n",
      "[ INFO ] Model inputs:\n",
      "[ INFO ]     images (node: images) : u8 / [N,C,H,W] / [1,3,640,640]\n",
      "[ INFO ] Model outputs:\n",
      "[ INFO ]     output0 (node: output0) : f32 / [...] / [1,116,8400]\n",
      "[ INFO ]     output1 (node: output1) : f32 / [...] / [1,32,160,160]\n",
      "[Step 7/11] Loading the model to the device\n",
      "[ INFO ] Compile model took 320.32 ms\n",
      "[Step 8/11] Querying optimal runtime parameters\n",
      "[ INFO ] Model:\n",
      "[ INFO ]   NETWORK_NAME: torch_jit\n",
      "[ INFO ]   EXECUTION_DEVICES: ['CPU']\n",
      "[ INFO ]   PERFORMANCE_HINT: PerformanceMode.THROUGHPUT\n",
      "[ INFO ]   OPTIMAL_NUMBER_OF_INFER_REQUESTS: 12\n",
      "[ INFO ]   MULTI_DEVICE_PRIORITIES: CPU\n",
      "[ INFO ]   CPU:\n",
      "[ INFO ]     AFFINITY: Affinity.CORE\n",
      "[ INFO ]     CPU_DENORMALS_OPTIMIZATION: False\n",
      "[ INFO ]     CPU_SPARSE_WEIGHTS_DECOMPRESSION_RATE: 1.0\n",
      "[ INFO ]     DYNAMIC_QUANTIZATION_GROUP_SIZE: 0\n",
      "[ INFO ]     ENABLE_CPU_PINNING: True\n",
      "[ INFO ]     ENABLE_HYPER_THREADING: True\n",
      "[ INFO ]     EXECUTION_DEVICES: ['CPU']\n",
      "[ INFO ]     EXECUTION_MODE_HINT: ExecutionMode.PERFORMANCE\n",
      "[ INFO ]     INFERENCE_NUM_THREADS: 36\n",
      "[ INFO ]     INFERENCE_PRECISION_HINT: <Type: 'float32'>\n",
      "[ INFO ]     KV_CACHE_PRECISION: <Type: 'float16'>\n",
      "[ INFO ]     LOG_LEVEL: Level.NO\n",
      "[ INFO ]     NETWORK_NAME: torch_jit\n",
      "[ INFO ]     NUM_STREAMS: 12\n",
      "[ INFO ]     OPTIMAL_NUMBER_OF_INFER_REQUESTS: 12\n",
      "[ INFO ]     PERFORMANCE_HINT: THROUGHPUT\n",
      "[ INFO ]     PERFORMANCE_HINT_NUM_REQUESTS: 0\n",
      "[ INFO ]     PERF_COUNT: NO\n",
      "[ INFO ]     SCHEDULING_CORE_TYPE: SchedulingCoreType.ANY_CORE\n",
      "[ INFO ]   MODEL_PRIORITY: Priority.MEDIUM\n",
      "[ INFO ]   LOADED_FROM_CACHE: False\n",
      "[Step 9/11] Creating infer requests and preparing input tensors\n",
      "[ WARNING ] No input files were given for input 'images'!. This input will be filled with random values!\n",
      "[ INFO ] Fill input 'images' with random values \n",
      "[Step 10/11] Measuring performance (Start inference asynchronously, 12 inference requests, limits: 120000 ms duration)\n",
      "[ INFO ] Benchmarking in inference only mode (inputs filling are not included in measurement loop).\n",
      "[ INFO ] First inference took 44.16 ms\n",
      "[Step 11/11] Dumping statistics report\n",
      "[ INFO ] Execution Devices:['CPU']\n",
      "[ INFO ] Count:            14820 iterations\n",
      "[ INFO ] Duration:         120139.10 ms\n",
      "[ INFO ] Latency:\n",
      "[ INFO ]    Median:        95.27 ms\n",
      "[ INFO ]    Average:       97.10 ms\n",
      "[ INFO ]    Min:           72.93 ms\n",
      "[ INFO ]    Max:           164.81 ms\n",
      "[ INFO ] Throughput:   123.36 FPS\n"
     ]
    }
   ],
   "source": [
    "# Inference Original model (OpenVINO IR)\n",
    "! benchmark_app -m $ir_model_path -shape \"[1,3,640,640]\" -d $device.value -api async"
   ]
  },
  {
   "cell_type": "code",
   "execution_count": 17,
   "metadata": {
    "collapsed": false,
    "jupyter": {
     "outputs_hidden": false
    }
   },
   "outputs": [
    {
     "name": "stdout",
     "output_type": "stream",
     "text": [
      "[Step 1/11] Parsing and validating input arguments\n",
      "[ INFO ] Parsing input parameters\n",
      "[Step 2/11] Loading OpenVINO Runtime\n",
      "[ WARNING ] Default duration 120 seconds is used for unknown device AUTO\n",
      "[ INFO ] OpenVINO:\n",
      "[ INFO ] Build ................................. 2024.1.0-14589-0ef2fab3490\n",
      "[ INFO ] \n",
      "[ INFO ] Device info:\n",
      "[ INFO ] AUTO\n",
      "[ INFO ] Build ................................. 2024.1.0-14589-0ef2fab3490\n",
      "[ INFO ] \n",
      "[ INFO ] \n",
      "[Step 3/11] Setting device configuration\n",
      "[ WARNING ] Performance hint was not explicitly specified in command line. Device(AUTO) performance hint will be set to PerformanceMode.THROUGHPUT.\n",
      "[Step 4/11] Reading model files\n",
      "[ INFO ] Loading model files\n",
      "[ INFO ] Read model took 28.33 ms\n",
      "[ INFO ] Original model I/O parameters:\n",
      "[ INFO ] Model inputs:\n",
      "[ INFO ]     images (node: images) : f32 / [...] / [?,3,?,?]\n",
      "[ INFO ] Model outputs:\n",
      "[ INFO ]     output0 (node: output0) : f32 / [...] / [?,116,?]\n",
      "[ INFO ]     output1 (node: output1) : f32 / [...] / [?,32,8..,8..]\n",
      "[Step 5/11] Resizing model to match image sizes and given batch\n",
      "[ INFO ] Model batch size: 1\n",
      "[ INFO ] Reshaping model: 'images': [1,3,640,640]\n",
      "[ INFO ] Reshape model took 17.60 ms\n",
      "[Step 6/11] Configuring input of the model\n",
      "[ INFO ] Model inputs:\n",
      "[ INFO ]     images (node: images) : u8 / [N,C,H,W] / [1,3,640,640]\n",
      "[ INFO ] Model outputs:\n",
      "[ INFO ]     output0 (node: output0) : f32 / [...] / [1,116,8400]\n",
      "[ INFO ]     output1 (node: output1) : f32 / [...] / [1,32,160,160]\n",
      "[Step 7/11] Loading the model to the device\n",
      "[ INFO ] Compile model took 605.73 ms\n",
      "[Step 8/11] Querying optimal runtime parameters\n",
      "[ INFO ] Model:\n",
      "[ INFO ]   NETWORK_NAME: torch_jit\n",
      "[ INFO ]   EXECUTION_DEVICES: ['CPU']\n",
      "[ INFO ]   PERFORMANCE_HINT: PerformanceMode.THROUGHPUT\n",
      "[ INFO ]   OPTIMAL_NUMBER_OF_INFER_REQUESTS: 12\n",
      "[ INFO ]   MULTI_DEVICE_PRIORITIES: CPU\n",
      "[ INFO ]   CPU:\n",
      "[ INFO ]     AFFINITY: Affinity.CORE\n",
      "[ INFO ]     CPU_DENORMALS_OPTIMIZATION: False\n",
      "[ INFO ]     CPU_SPARSE_WEIGHTS_DECOMPRESSION_RATE: 1.0\n",
      "[ INFO ]     DYNAMIC_QUANTIZATION_GROUP_SIZE: 0\n",
      "[ INFO ]     ENABLE_CPU_PINNING: True\n",
      "[ INFO ]     ENABLE_HYPER_THREADING: True\n",
      "[ INFO ]     EXECUTION_DEVICES: ['CPU']\n",
      "[ INFO ]     EXECUTION_MODE_HINT: ExecutionMode.PERFORMANCE\n",
      "[ INFO ]     INFERENCE_NUM_THREADS: 36\n",
      "[ INFO ]     INFERENCE_PRECISION_HINT: <Type: 'float32'>\n",
      "[ INFO ]     KV_CACHE_PRECISION: <Type: 'float16'>\n",
      "[ INFO ]     LOG_LEVEL: Level.NO\n",
      "[ INFO ]     NETWORK_NAME: torch_jit\n",
      "[ INFO ]     NUM_STREAMS: 12\n",
      "[ INFO ]     OPTIMAL_NUMBER_OF_INFER_REQUESTS: 12\n",
      "[ INFO ]     PERFORMANCE_HINT: THROUGHPUT\n",
      "[ INFO ]     PERFORMANCE_HINT_NUM_REQUESTS: 0\n",
      "[ INFO ]     PERF_COUNT: NO\n",
      "[ INFO ]     SCHEDULING_CORE_TYPE: SchedulingCoreType.ANY_CORE\n",
      "[ INFO ]   MODEL_PRIORITY: Priority.MEDIUM\n",
      "[ INFO ]   LOADED_FROM_CACHE: False\n",
      "[Step 9/11] Creating infer requests and preparing input tensors\n",
      "[ WARNING ] No input files were given for input 'images'!. This input will be filled with random values!\n",
      "[ INFO ] Fill input 'images' with random values \n",
      "[Step 10/11] Measuring performance (Start inference asynchronously, 12 inference requests, limits: 120000 ms duration)\n",
      "[ INFO ] Benchmarking in inference only mode (inputs filling are not included in measurement loop).\n",
      "[ INFO ] First inference took 22.24 ms\n",
      "[Step 11/11] Dumping statistics report\n",
      "[ INFO ] Execution Devices:['CPU']\n",
      "[ INFO ] Count:            33624 iterations\n",
      "[ INFO ] Duration:         120057.46 ms\n",
      "[ INFO ] Latency:\n",
      "[ INFO ]    Median:        41.97 ms\n",
      "[ INFO ]    Average:       42.70 ms\n",
      "[ INFO ]    Min:           31.11 ms\n",
      "[ INFO ]    Max:           86.51 ms\n",
      "[ INFO ] Throughput:   280.07 FPS\n"
     ]
    }
   ],
   "source": [
    "# Inference Quantized model (OpenVINO IR)\n",
    "! benchmark_app -m $quantized_model_path -shape \"[1,3,640,640]\" -d $device.value -api async"
   ]
  }
 ],
 "metadata": {
  "kernelspec": {
   "display_name": "Python 3 (ipykernel)",
   "language": "python",
   "name": "python3"
  },
  "language_info": {
   "codemirror_mode": {
    "name": "ipython",
    "version": 3
   },
   "file_extension": ".py",
   "mimetype": "text/x-python",
   "name": "python",
   "nbconvert_exporter": "python",
   "pygments_lexer": "ipython3",
   "version": "3.8.10"
  },
  "openvino_notebooks": {
   "imageUrl": "",
   "tags": {
    "categories": [
     "Convert",
     "Optimize"
    ],
    "libraries": [],
    "other": [],
    "tasks": [
     "Image Segmentation"
    ]
   }
  },
  "widgets": {
   "application/vnd.jupyter.widget-state+json": {
    "state": {},
    "version_major": 2,
    "version_minor": 0
   }
  }
 },
 "nbformat": 4,
 "nbformat_minor": 4
}
