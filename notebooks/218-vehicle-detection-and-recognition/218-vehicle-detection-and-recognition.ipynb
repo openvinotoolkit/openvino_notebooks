{
 "cells": [
  {
   "cell_type": "markdown",
   "id": "c4d7e4eb",
   "metadata": {},
   "source": [
    "# Vehicle Detection And Recognition with OpenVINO™\n",
    "\n",
    "This tutorial demonstrates how to use two pre-trained models from [Open Model Zoo](https://github.com/openvinotoolkit/open_model_zoo): [vehicle-detection-0200](https://github.com/openvinotoolkit/open_model_zoo/tree/master/models/intel/vehicle-detection-0200) for object detection and [vehicle-attributes-recognition-barrier-0039](https://github.com/openvinotoolkit/open_model_zoo/tree/master/models/intel/vehicle-attributes-recognition-barrier-0039) for image classification. Using these models, you will detect vehicles from raw images and recognize attributes of detected vehicles.\n",
    "![flowchart](https://user-images.githubusercontent.com/47499836/157867076-9e997781-f9ef-45f6-9a51-b515bbf41048.png)\n",
    "\n",
    "As a result, you can get:\n",
    "\n",
    "![result](https://user-images.githubusercontent.com/47499836/157867020-99738b30-62ca-44e2-8d9e-caf13fb724ed.png)\n"
   ]
  },
  {
   "cell_type": "markdown",
   "id": "98cae98b",
   "metadata": {},
   "source": [
    "## Imports\n",
    "\n",
    "Import the required modules."
   ]
  },
  {
   "cell_type": "code",
   "execution_count": null,
   "id": "d205028a",
   "metadata": {},
   "outputs": [],
   "source": [
    "import os\n",
    "import sys\n",
    "from pathlib import Path\n",
    "from typing import Tuple\n",
    "\n",
    "import cv2\n",
    "import numpy as np\n",
    "import matplotlib.pyplot as plt\n",
    "from openvino.runtime import Core\n",
    "\n",
    "sys.path.append(\"../utils\")\n",
    "import notebook_utils as utils"
   ]
  },
  {
   "cell_type": "markdown",
   "id": "448e7312",
   "metadata": {},
   "source": [
    "## Download Models\n",
    "\n",
    "Use `omz_downloader` - a command-line tool from the `openvino-dev` package. The `omz_downloader` tool automatically creates a directory structure and downloads the selected model. This step is skipped if the model is already downloaded. The selected model comes from the public directory, which means it must be converted into OpenVINO Intermediate Representation (OpenVINO IR).\n",
    "\n",
    "> **Note**: To change the model, replace the name of the model in the code below, for example to `\"vehicle-detection-0201\"` or `\"vehicle-detection-0202\"`. Keep in mind that they support different image input sizes in detection. Also, you can change the recognition model to `\"vehicle-attributes-recognition-barrier-0042\"`. They are trained from different deep learning frames. Therefore, if you want to change the precision, you need to modify the precision value in `\"FP32\"`, `\"FP16\"`, and `\"FP16-INT8\"`. A different type has a different model size and a precision value."
   ]
  },
  {
   "cell_type": "code",
   "execution_count": null,
   "id": "94f2c2be",
   "metadata": {},
   "outputs": [],
   "source": [
    "# A directory where the model will be downloaded.\n",
    "base_model_dir = \"model\"\n",
    "# The name of the model from Open Model Zoo.\n",
    "detection_model_name = \"vehicle-detection-0200\"\n",
    "recognition_model_name = \"vehicle-attributes-recognition-barrier-0039\"\n",
    "# Selected precision (FP32, FP16, FP16-INT8)\n",
    "precision = \"FP32\"\n",
    "\n",
    "# Check if the model exists.\n",
    "detection_model_path = (\n",
    "    f\"model/intel/{detection_model_name}/{precision}/{detection_model_name}.xml\"\n",
    ")\n",
    "recognition_model_path = (\n",
    "    f\"model/intel/{recognition_model_name}/{precision}/{recognition_model_name}.xml\"\n",
    ")\n",
    "\n",
    "# Download the detection model.\n",
    "if not os.path.exists(detection_model_path):\n",
    "    download_command = f\"omz_downloader \" \\\n",
    "                       f\"--name {detection_model_name} \" \\\n",
    "                       f\"--precision {precision} \" \\\n",
    "                       f\"--output_dir {base_model_dir}\"\n",
    "    ! $download_command\n",
    "# Download the recognition model.\n",
    "if not os.path.exists(recognition_model_path):\n",
    "    download_command = f\"omz_downloader \" \\\n",
    "                       f\"--name {recognition_model_name} \" \\\n",
    "                       f\"--precision {precision} \" \\\n",
    "                       f\"--output_dir {base_model_dir}\"\n",
    "    ! $download_command"
   ]
  },
  {
   "cell_type": "markdown",
   "id": "61c678fb",
   "metadata": {},
   "source": [
    "## Load Models\n",
    "\n",
    "This tutorial requires a detection model and a recognition model. After downloading the models, initialize OpenVINO Runtime, and use `read_model()` to read network architecture and weights from `*.xml` and `*.bin` files. Then, compile it with `compile_model()` to the specified device."
   ]
  },
  {
   "cell_type": "code",
   "execution_count": null,
   "id": "41d874b5",
   "metadata": {},
   "outputs": [],
   "source": [
    "# Initialize OpenVINO Runtime runtime.\n",
    "ie_core = Core()\n",
    "\n",
    "\n",
    "def model_init(model_path: str) -> Tuple:\n",
    "    \"\"\"\n",
    "    Read the network and weights from file, load the\n",
    "    model on the CPU and get input and output names of nodes\n",
    "\n",
    "    :param: model: model architecture path *.xml\n",
    "    :retuns:\n",
    "            input_key: Input node network\n",
    "            output_key: Output node network\n",
    "            exec_net: Encoder model network\n",
    "            net: Model network\n",
    "    \"\"\"\n",
    "\n",
    "    # Read the network and corresponding weights from a file.\n",
    "    model = ie_core.read_model(model=model_path)\n",
    "    # Compile the model for CPU (you can use GPU or MYRIAD as well).\n",
    "    compiled_model = ie_core.compile_model(model=model, device_name=\"CPU\")\n",
    "    # Get input and output names of nodes.\n",
    "    input_keys = compiled_model.input(0)\n",
    "    output_keys = compiled_model.output(0)\n",
    "    return input_keys, output_keys, compiled_model"
   ]
  },
  {
   "cell_type": "markdown",
   "id": "95c97641",
   "metadata": {},
   "source": [
    "### Get attributes from model\n",
    "\n",
    "Use `input_keys.shape` to get data shapes."
   ]
  },
  {
   "cell_type": "code",
   "execution_count": null,
   "id": "2d864515",
   "metadata": {},
   "outputs": [],
   "source": [
    "# de -> detection\n",
    "# re -> recognition\n",
    "# Detection model initialization.\n",
    "input_key_de, output_keys_de, compiled_model_de = model_init(detection_model_path)\n",
    "# Recognition model initialization.\n",
    "input_key_re, output_keys_re, compiled_model_re = model_init(recognition_model_path)\n",
    "\n",
    "# Get input size - Detection.\n",
    "height_de, width_de = list(input_key_de.shape)[2:]\n",
    "# Get input size - Recognition.\n",
    "height_re, width_re = list(input_key_re.shape)[2:]"
   ]
  },
  {
   "cell_type": "markdown",
   "id": "bb050ef3",
   "metadata": {},
   "source": [
    "### Helper function\n",
    "\n",
    "The `plt_show()` function is used to show image."
   ]
  },
  {
   "cell_type": "code",
   "execution_count": null,
   "id": "474826d8",
   "metadata": {},
   "outputs": [],
   "source": [
    "def plt_show(raw_image):\n",
    "    \"\"\"\n",
    "    Use matplot to show image inline\n",
    "    raw_image: input image\n",
    "\n",
    "    :param: raw_image:image array\n",
    "    \"\"\"\n",
    "    plt.figure(figsize=(10, 6))\n",
    "    plt.axis(\"off\")\n",
    "    plt.imshow(raw_image)"
   ]
  },
  {
   "cell_type": "markdown",
   "id": "3595c8e4",
   "metadata": {},
   "source": [
    "### Read and display a test image\n",
    "\n",
    "The input shape of detection model is `[1, 3, 256, 256]`. Therefore, you need to resize the image to `256 x 256`, and expand the batch channel with `expand_dims` function."
   ]
  },
  {
   "cell_type": "code",
   "execution_count": null,
   "id": "ef702517",
   "metadata": {},
   "outputs": [],
   "source": [
    "# Load an image.\n",
    "url = \"https://storage.openvinotoolkit.org/data/test_data/images/person-bicycle-car-detection.bmp\"\n",
    "filename = \"cars.jpg\"\n",
    "directory = \"data\"\n",
    "image_file = utils.download_file(\n",
    "    url, filename=filename, directory=directory, show_progress=False, silent=True,timeout=30\n",
    ")\n",
    "assert Path(image_file).exists()\n",
    "\n",
    "# Read the image.\n",
    "image_de = cv2.imread(\"data/cars.jpg\")\n",
    "# Resize it to [3, 256, 256].\n",
    "resized_image_de = cv2.resize(image_de, (width_de, height_de))\n",
    "# Expand the batch channel to [1, 3, 256, 256].\n",
    "input_image_de = np.expand_dims(resized_image_de.transpose(2, 0, 1), 0)\n",
    "# Show the image.\n",
    "plt_show(cv2.cvtColor(image_de, cv2.COLOR_BGR2RGB))"
   ]
  },
  {
   "cell_type": "markdown",
   "id": "6484b074",
   "metadata": {},
   "source": [
    "## Use the Detection Model to Detect Vehicles\n",
    "\n",
    "![pipline](https://user-images.githubusercontent.com/47499836/157867076-9e997781-f9ef-45f6-9a51-b515bbf41048.png)\n",
    "\n",
    "As shown in the flowchart, images of individual vehicles are sent to the recognition model. First, use `infer` function to get the result.\n",
    "\n",
    "The detection model output has the format [image_id, label, conf, x_min, y_min, x_max, y_max], where:\n",
    "\n",
    "- image_id - ID of the image in the batch\n",
    "- label - predicted class ID (0 - vehicle)\n",
    "- conf - confidence for the predicted class\n",
    "- (x_min, y_min) - coordinates of the top left bounding box corner\n",
    "- (x_max, y_max) - coordinates of the bottom right bounding box corner\n",
    "\n",
    "Delete unused dims and filter out results that are not used."
   ]
  },
  {
   "cell_type": "code",
   "execution_count": null,
   "id": "5f2540c3",
   "metadata": {},
   "outputs": [],
   "source": [
    "# Run inference.\n",
    "boxes = compiled_model_de([input_image_de])[output_keys_de]\n",
    "# Delete the dim of 0, 1.\n",
    "boxes = np.squeeze(boxes, (0, 1))\n",
    "# Remove zero only boxes.\n",
    "boxes = boxes[~np.all(boxes == 0, axis=1)]"
   ]
  },
  {
   "cell_type": "markdown",
   "id": "bc4c6523",
   "metadata": {},
   "source": [
    "### Detection Processing\n",
    "\n",
    "With the function below, you change the ratio to the real position in the image and filter out low-confidence results."
   ]
  },
  {
   "cell_type": "code",
   "execution_count": null,
   "id": "d27eeb80",
   "metadata": {},
   "outputs": [],
   "source": [
    "def crop_images(bgr_image, resized_image, boxes, threshold=0.6) -> np.ndarray:\n",
    "    \"\"\"\n",
    "    Use bounding boxes from detection model to find the absolute car position\n",
    "    \n",
    "    :param: bgr_image: raw image\n",
    "    :param: resized_image: resized image\n",
    "    :param: boxes: detection model returns rectangle position\n",
    "    :param: threshold: confidence threshold\n",
    "    :returns: car_position: car's absolute position\n",
    "    \"\"\"\n",
    "    # Fetch image shapes to calculate ratio\n",
    "    (real_y, real_x), (resized_y, resized_x) = bgr_image.shape[:2], resized_image.shape[:2]\n",
    "    ratio_x, ratio_y = real_x / resized_x, real_y / resized_y\n",
    "\n",
    "    # Find the boxes ratio\n",
    "    boxes = boxes[:, 2:]\n",
    "    # Store the vehicle's position\n",
    "    car_position = []\n",
    "    # Iterate through non-zero boxes\n",
    "    for box in boxes:\n",
    "        # Pick confidence factor from last place in array\n",
    "        conf = box[0]\n",
    "        if conf > threshold:\n",
    "            # Convert float to int and multiply corner position of each box by x and y ratio\n",
    "            # In case that bounding box is found at the top of the image, \n",
    "            # upper box  bar should be positioned a little bit lower to make it visible on image \n",
    "            (x_min, y_min, x_max, y_max) = [\n",
    "                int(max(corner_position * ratio_y * resized_y, 10)) if idx % 2 \n",
    "                else int(corner_position * ratio_x * resized_x)\n",
    "                for idx, corner_position in enumerate(box[1:])\n",
    "            ]\n",
    "            \n",
    "            car_position.append([x_min, y_min, x_max, y_max])\n",
    "            \n",
    "    return car_position"
   ]
  },
  {
   "cell_type": "code",
   "execution_count": null,
   "id": "e51ed237",
   "metadata": {},
   "outputs": [],
   "source": [
    "# Find the position of a car.\n",
    "car_position = crop_images(image_de, resized_image_de, boxes)"
   ]
  },
  {
   "cell_type": "markdown",
   "id": "7f0d5580",
   "metadata": {},
   "source": [
    "### Recognize vehicle attributes\n",
    "\n",
    "Select one of the detected boxes. Then, crop to an area containing a vehicle to test with the recognition model. Again, you need to resize the input image and run inference."
   ]
  },
  {
   "cell_type": "code",
   "execution_count": null,
   "id": "7bbbc9e0",
   "metadata": {},
   "outputs": [],
   "source": [
    "# Select a vehicle to recognize.\n",
    "pos = car_position[0]\n",
    "# Crop the image with [y_min:y_max, x_min:x_max].\n",
    "test_car = image_de[pos[1]:pos[3], pos[0]:pos[2]]\n",
    "# Resize the image to input_size.\n",
    "resized_image_re = cv2.resize(test_car, (width_re, height_re))\n",
    "input_image_re = np.expand_dims(resized_image_re.transpose(2, 0, 1), 0)\n",
    "plt_show(cv2.cvtColor(resized_image_re, cv2.COLOR_BGR2RGB))"
   ]
  },
  {
   "cell_type": "markdown",
   "id": "8a70376f",
   "metadata": {},
   "source": [
    "##### Recognition processing\n",
    "\n",
    "The result contains colors of the vehicles (white, gray, yellow, red, green, blue, black) and types of vehicles (car, bus, truck, van). Next, you need to calculate the probability of each attribute. Then, you determine the maximum probability as the result."
   ]
  },
  {
   "cell_type": "code",
   "execution_count": null,
   "id": "f2159ec4",
   "metadata": {},
   "outputs": [],
   "source": [
    "def vehicle_recognition(compiled_model_re, input_size, raw_image):\n",
    "    \"\"\"\n",
    "    Vehicle attributes recognition, input a single vehicle, return attributes\n",
    "    :param: compiled_model_re: recognition net \n",
    "    :param: input_size: recognition input size\n",
    "    :param: raw_image: single vehicle image\n",
    "    :returns: attr_color: predicted color\n",
    "                       attr_type: predicted type\n",
    "    \"\"\"\n",
    "    # An attribute of a vehicle.\n",
    "    colors = ['White', 'Gray', 'Yellow', 'Red', 'Green', 'Blue', 'Black']\n",
    "    types = ['Car', 'Bus', 'Truck', 'Van']\n",
    "    \n",
    "    # Resize the image to input size.\n",
    "    resized_image_re = cv2.resize(raw_image, input_size)\n",
    "    input_image_re = np.expand_dims(resized_image_re.transpose(2, 0, 1), 0)\n",
    "    \n",
    "    # Run inference.\n",
    "    # Predict result.\n",
    "    predict_colors = compiled_model_re([input_image_re])[compiled_model_re.output(1)]\n",
    "    # Delete the dim of 2, 3.\n",
    "    predict_colors = np.squeeze(predict_colors, (2, 3))\n",
    "    predict_types = compiled_model_re([input_image_re])[compiled_model_re.output(0)]\n",
    "    predict_types = np.squeeze(predict_types, (2, 3))\n",
    "\n",
    "    attr_color, attr_type = (colors[np.argmax(predict_colors)],\n",
    "                             types[np.argmax(predict_types)])\n",
    "    return attr_color, attr_type"
   ]
  },
  {
   "cell_type": "code",
   "execution_count": null,
   "id": "79505e68",
   "metadata": {},
   "outputs": [],
   "source": [
    "print(f\"Attributes:{vehicle_recognition(compiled_model_re, (72, 72), test_car)}\")"
   ]
  },
  {
   "cell_type": "markdown",
   "id": "54075f4e",
   "metadata": {},
   "source": [
    "### Combine two models\n",
    "\n",
    "Congratulations! You successfully used a detection model to crop an image with a vehicle and recognize the attributes of a vehicle."
   ]
  },
  {
   "cell_type": "code",
   "execution_count": null,
   "id": "59402e0d",
   "metadata": {},
   "outputs": [],
   "source": [
    "def convert_result_to_image(compiled_model_re, bgr_image, resized_image, boxes, threshold=0.6):\n",
    "    \"\"\"\n",
    "    Use Detection model boxes to draw rectangles and plot the result\n",
    "    \n",
    "    :param: compiled_model_re: recognition net\n",
    "    :param: input_key_re: recognition input key\n",
    "    :param: bgr_image: raw image\n",
    "    :param: resized_image: resized image\n",
    "    :param: boxes: detection model returns rectangle position\n",
    "    :param: threshold: confidence threshold\n",
    "    :returns: rgb_image: processed image\n",
    "    \"\"\"\n",
    "    # Define colors for boxes and descriptions.\n",
    "    colors = {\"red\": (255, 0, 0), \"green\": (0, 255, 0)}\n",
    "    \n",
    "    # Convert the base image from BGR to RGB format.\n",
    "    rgb_image = cv2.cvtColor(bgr_image, cv2.COLOR_BGR2RGB)\n",
    "    \n",
    "    # Find positions of cars.\n",
    "    car_position = crop_images(image_de, resized_image, boxes)\n",
    "    \n",
    "    for x_min, y_min, x_max, y_max in car_position:\n",
    "        # Run vehicle recognition inference.\n",
    "        attr_color, attr_type = vehicle_recognition(compiled_model_re, (72, 72), \n",
    "                                                    image_de[y_min:y_max, x_min:x_max])\n",
    "\n",
    "        # Close the window with a vehicle.\n",
    "        plt.close()\n",
    "\n",
    "        # Draw a bounding box based on position.\n",
    "        # Parameters in the `rectangle` function are: image, start_point, end_point, color, thickness.\n",
    "        rgb_image = cv2.rectangle(rgb_image, (x_min, y_min), (x_max, y_max), colors[\"red\"], 2)\n",
    "\n",
    "        # Print the attributes of a vehicle. \n",
    "        # Parameters in the `putText` function are: img, text, org, fontFace, fontScale, color, thickness, lineType.\n",
    "        rgb_image = cv2.putText(\n",
    "            rgb_image, \n",
    "            f\"{attr_color} {attr_type}\",\n",
    "            (x_min, y_min - 10),\n",
    "            cv2.FONT_HERSHEY_SIMPLEX,\n",
    "            2,\n",
    "            colors[\"green\"],\n",
    "            10,\n",
    "            cv2.LINE_AA\n",
    "        )\n",
    "\n",
    "    return rgb_image"
   ]
  },
  {
   "cell_type": "code",
   "execution_count": null,
   "id": "75ba043b",
   "metadata": {},
   "outputs": [],
   "source": [
    "plt_show(convert_result_to_image(compiled_model_re, image_de, resized_image_de, boxes))"
   ]
  }
 ],
 "metadata": {
  "kernelspec": {
   "display_name": "Python 3 (ipykernel)",
   "language": "python",
   "name": "python3"
  },
  "language_info": {
   "codemirror_mode": {
    "name": "ipython",
    "version": 3
   },
   "file_extension": ".py",
   "mimetype": "text/x-python",
   "name": "python",
   "nbconvert_exporter": "python",
   "pygments_lexer": "ipython3",
   "version": "3.7.11"
  }
 },
 "nbformat": 4,
 "nbformat_minor": 5
}
