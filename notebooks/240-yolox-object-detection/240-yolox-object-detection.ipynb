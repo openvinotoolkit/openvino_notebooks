{
  "cells": [
    {
      "cell_type": "markdown",
      "metadata": {
        "id": "vYTAAuNtglkS"
      },
      "source": [
        "# Object Detection using YOLOX with OpenVINO™"
      ]
    },
    {
      "cell_type": "markdown",
      "metadata": {
        "id": "0YyjE0VIgNSR"
      },
      "source": [
        "Welcome to this tutorial notebook that demonstrates the use of YOLOX with OpenVINO. YOLOX is a state-of-the-art object detection algorithm that achieves excellent accuracy while maintaining real-time performance. OpenVINO, on the other hand, is a powerful toolkit that optimizes the inference of deep learning models on a wide range of hardware platforms.\n",
        "\n",
        "![image.png](data:image/png;base64,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)\n",
        "\n",
        "By combining the strengths of YOLOX and OpenVINO, you can get the best of both worlds: highly accurate object detection with lightning-fast inference on a variety of hardware devices. This tutorial will guide you through the process of using YOLOX with OpenVINO to detect objects in images and videos.\n",
        "\n",
        "Whether you are a computer vision researcher, an engineer working on a product that requires object detection, or just an enthusiast interested in learning about the latest and greatest in computer vision, this tutorial will provide you with a solid foundation to get started with YOLOX and OpenVINO. So let's dive in and explore the exciting world of object detection with YOLOX and OpenVINO!\n",
        "\n",
        "\n",
        "YOLOX Paper Link: https://arxiv.org/abs/2107.08430  \\\n",
        "YOLOx Repository: https://github.com/Megvii-BaseDetection/YOLOX"
      ]
    },
    {
      "cell_type": "markdown",
      "metadata": {
        "id": "IFJb6fA23FhS"
      },
      "source": [
        "To give a overview of the notebook, the major sections of this notebook are:\n",
        "* Adding Google Colab Support\n",
        "* Converting Model to use with OpenVino\n",
        "* Inference with YOLOX using OpenVino\n",
        "* Validation on COCO 2017 dataset"
      ]
    },
    {
      "cell_type": "markdown",
      "metadata": {
        "id": "PhTWXcbW3FhS"
      },
      "source": [
        "Lets Start!"
      ]
    },
    {
      "cell_type": "markdown",
      "metadata": {
        "id": "BBnGDZVSced5"
      },
      "source": [
        "# Adding Google Colab Support"
      ]
    },
    {
      "cell_type": "markdown",
      "metadata": {
        "id": "U0TxIqxCch-3"
      },
      "source": [
        "Uncomment & Run this cell if you are running on Google Colab, or at any environment other than within the repository."
      ]
    },
    {
      "cell_type": "code",
      "execution_count": 37,
      "metadata": {
        "colab": {
          "base_uri": "https://localhost:8080/"
        },
        "id": "xZcfOCjSMT2L",
        "outputId": "1319b5f3-2c46-446c-ed62-2f52b76dccd2"
      },
      "outputs": [
        {
          "name": "stdout",
          "output_type": "stream",
          "text": [
            "Cloning into 'openvino_notebooks'...\n",
            "remote: Enumerating objects: 4492, done.\u001b[K\n",
            "remote: Counting objects: 100% (4490/4490), done.\u001b[K\n",
            "remote: Compressing objects: 100% (1679/1679), done.\u001b[K\n",
            "remote: Total 4492 (delta 2709), reused 4489 (delta 2709), pack-reused 2\u001b[K\n",
            "Receiving objects: 100% (4492/4492), 301.05 MiB | 16.82 MiB/s, done.\n",
            "Resolving deltas: 100% (2709/2709), done.\n",
            "Updating files: 100% (326/326), done.\n"
          ]
        }
      ],
      "source": [
        "import os\n",
        "from glob import glob\n",
        "from IPython.core.getipython import get_ipython\n",
        "\n",
        "# Checking if running in Google Colab\n",
        "IN_COLAB = 'google.colab' in str(get_ipython())\n",
        "\n",
        "# Clone, Install dependecies and Change Directory if running in Google Colab\n",
        "if IN_COLAB:\n",
        "    ! pip install openvino-dev -q\n",
        "    !git clone -b yolox-notebook https://github.com/sawradip/openvino_notebooks.git\n",
        "    notebook_dir = glob(\"openvino_notebooks/notebooks/*-yolox-object-detection\")[0]\n",
        "    os.chdir(notebook_dir)"
      ]
    },
    {
      "cell_type": "markdown",
      "metadata": {
        "id": "W0ENCUtzSeXO"
      },
      "source": [
        "Here we are importing some utility functions imported inside `openvino-notebooks` repository."
      ]
    },
    {
      "cell_type": "code",
      "execution_count": 38,
      "metadata": {
        "id": "NLP7PP_BgSum"
      },
      "outputs": [],
      "source": [
        "import sys \n",
        "sys.path.insert(0, \"../utils\")\n",
        "import notebook_utils"
      ]
    },
    {
      "cell_type": "markdown",
      "metadata": {
        "id": "VP2zqc2bb-CE"
      },
      "source": [
        "# Getting the YOLOX repository"
      ]
    },
    {
      "cell_type": "markdown",
      "metadata": {
        "id": "_lYWpQmag1P3"
      },
      "source": [
        "Here, we are downloading and installing the `YOLOX` repository so that we can install the implemented function and models.\n"
      ]
    },
    {
      "cell_type": "code",
      "execution_count": 39,
      "metadata": {
        "colab": {
          "base_uri": "https://localhost:8080/"
        },
        "id": "skasUZuNekvy",
        "outputId": "05587ee6-6860-4ef5-fa31-128194e38d56"
      },
      "outputs": [
        {
          "name": "stdout",
          "output_type": "stream",
          "text": [
            "Cloning into 'YOLOX'...\n",
            "remote: Enumerating objects: 1880, done.\u001b[K\n",
            "remote: Counting objects: 100% (98/98), done.\u001b[K\n",
            "remote: Compressing objects: 100% (81/81), done.\u001b[K\n",
            "remote: Total 1880 (delta 34), reused 47 (delta 13), pack-reused 1782\u001b[K\n",
            "Receiving objects: 100% (1880/1880), 7.54 MiB | 15.14 MiB/s, done.\n",
            "Resolving deltas: 100% (1099/1099), done.\n",
            "  Preparing metadata (setup.py) ... \u001b[?25l\u001b[?25hdone\n"
          ]
        }
      ],
      "source": [
        "from pathlib import Path\n",
        "\n",
        "# Cloning the YOLOX repository if not already present\n",
        "if not Path('YOLOX').exists():\n",
        "    ! git clone https://github.com/Megvii-BaseDetection/YOLOX.git\n",
        "\n",
        "# Changing Directory\n",
        "os.chdir('YOLOX')\n",
        "\n",
        "# Installing YOLOX in edit mote\n",
        "! pip install -q -e ."
      ]
    },
    {
      "cell_type": "markdown",
      "metadata": {
        "id": "LY2K7ag9fzf5"
      },
      "source": [
        "# Converting Model to use with Openvino"
      ]
    },
    {
      "cell_type": "markdown",
      "metadata": {
        "id": "pLyiS92tLQBy"
      },
      "source": [
        "In this section, we our going to convert a trained `yolox` model to `xml/bin` format that is specialized, easy to use and optimize for openvino."
      ]
    },
    {
      "cell_type": "code",
      "execution_count": 40,
      "metadata": {
        "id": "O-wWcVJgikm4"
      },
      "outputs": [],
      "source": [
        "# Import Libraries\n",
        "import cv2\n",
        "import yaml\n",
        "import torch\n",
        "from torch import nn\n",
        "import numpy as np\n",
        "from tqdm.notebook import tqdm\n",
        "from typing import List\n",
        "from pathlib import Path\n",
        "import matplotlib.pyplot as plt\n",
        "from openvino.runtime import Model\n",
        "from collections import namedtuple\n",
        "\n",
        "%matplotlib inline\n",
        "\n",
        "from yolox.exp import get_exp\n",
        "from yolox.utils import replace_module\n",
        "from yolox.models.network_blocks import SiLU"
      ]
    },
    {
      "cell_type": "markdown",
      "metadata": {
        "id": "XwRN5k5EIY3Y"
      },
      "source": [
        "\n",
        "**Note**: The official `YOLOX` repository contains converted version of all the models, which can be used directly. To download the ONNX version of a model, please copy the download link from this `weights table` and use it in the next cell(uncommenting it) to initiate the download process.\n",
        "\n",
        "| Model | Parameters | GFLOPs | Test Size | mAP | ONNX Weights |\n",
        "|:------| :----: | :----: | :---: | :---: | :---: |\n",
        "|  yolox_nano |  0.91M  | 1.08 | 416x416 | 25.8 |[github](https://github.com/Megvii-BaseDetection/YOLOX/releases/download/0.1.1rc0/yolox_nano.onnx) |\n",
        "|  yolox_tiny | 5.06M     | 6.45 | 416x416 |32.8 | [github](https://github.com/Megvii-BaseDetection/YOLOX/releases/download/0.1.1rc0/yolox_tiny.onnx) |\n",
        "|  yolox_s | 9.0M | 26.8 | 640x640 |40.5 | [github](https://github.com/Megvii-BaseDetection/YOLOX/releases/download/0.1.1rc0/yolox_s.onnx) |\n",
        "|  yolox_m | 25.3M | 73.8 | 640x640 |47.2 | [github](https://github.com/Megvii-BaseDetection/YOLOX/releases/download/0.1.1rc0/yolox_m.onnx) |\n",
        "|  yolox_l | 54.2M | 155.6 | 640x640 |50.1 | [github](https://github.com/Megvii-BaseDetection/YOLOX/releases/download/0.1.1rc0/yolox_l.onnx) |\n",
        "|  yolox_darknet| 63.72M | 185.3 | 640x640 |48.0 | [github](https://github.com/Megvii-BaseDetection/YOLOX/releases/download/0.1.1rc0/yolox_darknet.onnx) |\n",
        "|  yolox_x | 99.1M | 281.9 | 640x640 |51.5 | [github](https://github.com/Megvii-BaseDetection/YOLOX/releases/download/0.1.1rc0/yolox_x.onnx) |\n",
        "\n",
        "\n",
        "However, in order to use with any `yolox` model, we going to convert a `yolox_tiny` model from scratch.\n",
        "\n",
        "You can use this code with any other `yolox` models , just by changing the variable `model_name` with any model from the `weights table`."
      ]
    },
    {
      "cell_type": "code",
      "execution_count": 41,
      "metadata": {
        "id": "XDHCiTUKOpnY"
      },
      "outputs": [],
      "source": [
        "# Set the model name you want to work on\n",
        "model_name = 'yolox_nano'"
      ]
    },
    {
      "cell_type": "markdown",
      "metadata": {
        "id": "f7IUn1WPObDc"
      },
      "source": [
        "Loading the `exp` opbject containing the model and related information for selected `model_name` model."
      ]
    },
    {
      "cell_type": "code",
      "execution_count": 42,
      "metadata": {
        "colab": {
          "base_uri": "https://localhost:8080/"
        },
        "id": "ucmhm2bjmhah",
        "outputId": "7c20348c-6ff8-4034-bc07-b758380430cf"
      },
      "outputs": [
        {
          "name": "stdout",
          "output_type": "stream",
          "text": [
            "╒═══════════════════╤════════════════════════════╕\n",
            "│ keys              │ values                     │\n",
            "╞═══════════════════╪════════════════════════════╡\n",
            "│ seed              │ None                       │\n",
            "├───────────────────┼────────────────────────────┤\n",
            "│ output_dir        │ './YOLOX_outputs'          │\n",
            "├───────────────────┼────────────────────────────┤\n",
            "│ print_interval    │ 10                         │\n",
            "├───────────────────┼────────────────────────────┤\n",
            "│ eval_interval     │ 10                         │\n",
            "├───────────────────┼────────────────────────────┤\n",
            "│ dataset           │ None                       │\n",
            "├───────────────────┼────────────────────────────┤\n",
            "│ num_classes       │ 80                         │\n",
            "├───────────────────┼────────────────────────────┤\n",
            "│ depth             │ 0.33                       │\n",
            "├───────────────────┼────────────────────────────┤\n",
            "│ width             │ 0.25                       │\n",
            "├───────────────────┼────────────────────────────┤\n",
            "│ act               │ 'silu'                     │\n",
            "├───────────────────┼────────────────────────────┤\n",
            "│ data_num_workers  │ 4                          │\n",
            "├───────────────────┼────────────────────────────┤\n",
            "│ input_size        │ (416, 416)                 │\n",
            "├───────────────────┼────────────────────────────┤\n",
            "│ multiscale_range  │ 5                          │\n",
            "├───────────────────┼────────────────────────────┤\n",
            "│ data_dir          │ None                       │\n",
            "├───────────────────┼────────────────────────────┤\n",
            "│ train_ann         │ 'instances_train2017.json' │\n",
            "├───────────────────┼────────────────────────────┤\n",
            "│ val_ann           │ 'instances_val2017.json'   │\n",
            "├───────────────────┼────────────────────────────┤\n",
            "│ test_ann          │ 'instances_test2017.json'  │\n",
            "├───────────────────┼────────────────────────────┤\n",
            "│ mosaic_prob       │ 0.5                        │\n",
            "├───────────────────┼────────────────────────────┤\n",
            "│ mixup_prob        │ 1.0                        │\n",
            "├───────────────────┼────────────────────────────┤\n",
            "│ hsv_prob          │ 1.0                        │\n",
            "├───────────────────┼────────────────────────────┤\n",
            "│ flip_prob         │ 0.5                        │\n",
            "├───────────────────┼────────────────────────────┤\n",
            "│ degrees           │ 10.0                       │\n",
            "├───────────────────┼────────────────────────────┤\n",
            "│ translate         │ 0.1                        │\n",
            "├───────────────────┼────────────────────────────┤\n",
            "│ mosaic_scale      │ (0.5, 1.5)                 │\n",
            "├───────────────────┼────────────────────────────┤\n",
            "│ enable_mixup      │ False                      │\n",
            "├───────────────────┼────────────────────────────┤\n",
            "│ mixup_scale       │ (0.5, 1.5)                 │\n",
            "├───────────────────┼────────────────────────────┤\n",
            "│ shear             │ 2.0                        │\n",
            "├───────────────────┼────────────────────────────┤\n",
            "│ warmup_epochs     │ 5                          │\n",
            "├───────────────────┼────────────────────────────┤\n",
            "│ max_epoch         │ 300                        │\n",
            "├───────────────────┼────────────────────────────┤\n",
            "│ warmup_lr         │ 0                          │\n",
            "├───────────────────┼────────────────────────────┤\n",
            "│ min_lr_ratio      │ 0.05                       │\n",
            "├───────────────────┼────────────────────────────┤\n",
            "│ basic_lr_per_img  │ 0.00015625                 │\n",
            "├───────────────────┼────────────────────────────┤\n",
            "│ scheduler         │ 'yoloxwarmcos'             │\n",
            "├───────────────────┼────────────────────────────┤\n",
            "│ no_aug_epochs     │ 15                         │\n",
            "├───────────────────┼────────────────────────────┤\n",
            "│ ema               │ True                       │\n",
            "├───────────────────┼────────────────────────────┤\n",
            "│ weight_decay      │ 0.0005                     │\n",
            "├───────────────────┼────────────────────────────┤\n",
            "│ momentum          │ 0.9                        │\n",
            "├───────────────────┼────────────────────────────┤\n",
            "│ save_history_ckpt │ True                       │\n",
            "├───────────────────┼────────────────────────────┤\n",
            "│ exp_name          │ 'yolox_nano'               │\n",
            "├───────────────────┼────────────────────────────┤\n",
            "│ test_size         │ (416, 416)                 │\n",
            "├───────────────────┼────────────────────────────┤\n",
            "│ test_conf         │ 0.01                       │\n",
            "├───────────────────┼────────────────────────────┤\n",
            "│ nmsthre           │ 0.65                       │\n",
            "├───────────────────┼────────────────────────────┤\n",
            "│ random_size       │ (10, 20)                   │\n",
            "╘═══════════════════╧════════════════════════════╛\n"
          ]
        }
      ],
      "source": [
        "# Load experiment configuration file\n",
        "exp = get_exp(exp_file=f\"exps/default/{model_name}.py\")\n",
        "\n",
        "# Printing the model information\n",
        "print(exp)"
      ]
    },
    {
      "cell_type": "markdown",
      "metadata": {
        "id": "Oetv-IQUTsrF"
      },
      "source": [
        "Lets download the pretreined weight for the selected `yolox` model. \n",
        "\n",
        "If you want to use the weight of your trained model, replace the checkpoint_file path."
      ]
    },
    {
      "cell_type": "code",
      "execution_count": 43,
      "metadata": {
        "colab": {
          "base_uri": "https://localhost:8080/",
          "height": 49,
          "referenced_widgets": [
            "1be9785b6656456fa157b9bffe6bb538",
            "7ff0e970ad9945ada72610e21db1d8a3",
            "a74f81d50a174fe8a27d89a3486f5c2c",
            "a1442fc9e06846728e1a209a43635bc5",
            "16f5be9977ce4a7994cdbfbb37aed2a5",
            "29e48f1b8ba349d3a938e839cb139ff9",
            "f4c1971b3b0241d8873df69170ea4d5d",
            "4a9802f5b31744108460920ce8e13500",
            "d59fca76045b4b24b7bab6e6ad86f798",
            "c5d63ccfd12e467eb3345d5fbe419d93",
            "6337f6630e474a35ab6d8def476cef13"
          ]
        },
        "id": "0ljRRp9xtJ8v",
        "outputId": "dbb000a5-f5c0-4fb1-c088-980f9e21448f"
      },
      "outputs": [
        {
          "data": {
            "application/vnd.jupyter.widget-view+json": {
              "model_id": "1be9785b6656456fa157b9bffe6bb538",
              "version_major": 2,
              "version_minor": 0
            },
            "text/plain": [
              "yolox_nano.pth:   0%|          | 0.00/7.34M [00:00<?, ?B/s]"
            ]
          },
          "metadata": {},
          "output_type": "display_data"
        }
      ],
      "source": [
        "\n",
        "# Weight url\n",
        "ckpt_url = f\"https://github.com/Megvii-BaseDetection/YOLOX/releases/download/0.1.1rc0/{model_name}.pth\"\n",
        "\n",
        "# Downloading\n",
        "ckpt_file = notebook_utils.download_file(ckpt_url)"
      ]
    },
    {
      "cell_type": "markdown",
      "metadata": {
        "id": "PYzCshNBUoea"
      },
      "source": [
        "Next, we are going to export the model to `onnx` format(PyTorch built-in `onnx.export`), and then convert to OpenVino's optimized `xml` format(OpenVino's `convert` and `serialize` model). \n"
      ]
    },
    {
      "cell_type": "markdown",
      "metadata": {
        "id": "kqVYGwUFtiY0"
      },
      "source": [
        "Lets set up some parameters, necessary for model conversion."
      ]
    },
    {
      "cell_type": "code",
      "execution_count": 44,
      "metadata": {
        "id": "NV7TelNmvhsH"
      },
      "outputs": [],
      "source": [
        "# Define the path to the experiment configuration file\n",
        "exp_file = f\"exps/default/{model_name}.py\"\n",
        "\n",
        "# Define the name for the output ONNX file\n",
        "output_name = f'my_{model_name}.onnx'\n",
        "\n",
        "# Define input & output node name\n",
        "input_node = \"images\"\n",
        "output_node = \"output\"\n",
        "\n",
        "# Define the batch size for inference\n",
        "batch_size = 1\n",
        "\n",
        "# Set the ONNX opset version\n",
        "opset = 11"
      ]
    },
    {
      "cell_type": "markdown",
      "metadata": {
        "id": "H1N1rD3cSoX6"
      },
      "source": [
        "This code block loads a YOLOX model from a checkpoint file, replaces a specific activation function in the model, and then exports the model to the ONNX format."
      ]
    },
    {
      "cell_type": "code",
      "execution_count": 45,
      "metadata": {
        "colab": {
          "base_uri": "https://localhost:8080/",
          "height": 52
        },
        "id": "tnCBnNq7yXmO",
        "outputId": "d535ff30-dd70-42c2-de9e-03bb89c7722e"
      },
      "outputs": [
        {
          "name": "stdout",
          "output_type": "stream",
          "text": [
            "loading checkpoint done.\n",
            "ONNX conversion done: my_yolox_nano.onnx\n"
          ]
        }
      ],
      "source": [
        "# Instantiate model\n",
        "model = exp.get_model()\n",
        "\n",
        "# Load model weights from checkpoint\n",
        "ckpt = torch.load(ckpt_file, map_location=\"cpu\")\n",
        "model.eval()\n",
        "if \"model\" in ckpt:\n",
        "    ckpt = ckpt[\"model\"]\n",
        "model.load_state_dict(ckpt)\n",
        "\n",
        "# Replace nn.SiLU with custom SiLU activation function\n",
        "model = replace_module(model, nn.SiLU, SiLU)\n",
        "\n",
        "# Set decode_in_inference flag of model head\n",
        "model.head.decode_in_inference = False\n",
        "\n",
        "# Print message indicating checkpoint loading is complete\n",
        "print(\"loading checkpoint done.\")\n",
        "\n",
        "# Create dummy input tensor for exporting to ONNX format\n",
        "dummy_input = torch.randn(batch_size, 3, exp.test_size[0], exp.test_size[1])\n",
        "\n",
        "# Export model to ONNX format\n",
        "torch.onnx.export(model, dummy_input, output_name,\n",
        "                  input_names=[input_node],\n",
        "                  output_names=[output_node],\n",
        "                  opset_version=opset,\n",
        ")\n",
        "\n",
        "# Print message indicating ONNX export is complete\n",
        "print(\"ONNX conversion done: {}\".format(output_name))"
      ]
    },
    {
      "cell_type": "markdown",
      "metadata": {
        "id": "AUnMkSZPYgOY"
      },
      "source": [
        "OpenVINO XML format is a standardized file format for representing neural network models optimized for use with Intel hardware.\n",
        "\n",
        "It is a part of the OpenVINO toolkit which is designed to accelerate neural network inference on Intel platforms.\n",
        "The XML format is optimized for high-performance inference on CPUs and other Intel hardware, making it suitable for deployment in a range of scenarios.\n",
        "\n",
        "Here, the `serialize` function is used to serialize an OpenVINO IR model that has been converted from the YOLOX model using the Model Optimizer (MO) tool, and save it to an XML file. The resulting XML file can be loaded into the OpenVINO Inference Engine for deployment on an Intel hardware platform.\n",
        "\n",
        "**Note:** Both the `.xml` and `.bin` files will be saved at the given destination."
      ]
    },
    {
      "cell_type": "code",
      "execution_count": 46,
      "metadata": {
        "id": "FcSo8WQ4-P1W"
      },
      "outputs": [],
      "source": [
        "from openvino.tools import mo\n",
        "from openvino.runtime import serialize\n",
        "\n",
        "# Convert the ONNX model to OpenVINO Intermediate Representation (IR) format\n",
        "model = mo.convert_model(f'my_{model_name}.onnx')\n",
        "\n",
        "# Serialize and save the converted IR model to the specified path\n",
        "serialize(model=model, xml_path=f'vino/{model_name}.xml')"
      ]
    },
    {
      "cell_type": "markdown",
      "metadata": {
        "id": "EADOLm_H84LM"
      },
      "source": [
        "# Inference with YOLOX using OpenVino"
      ]
    },
    {
      "cell_type": "markdown",
      "metadata": {
        "id": "KDdW57qgZiv1"
      },
      "source": [
        "Here, we are loading and viewing the image we are going to test on."
      ]
    },
    {
      "cell_type": "code",
      "execution_count": 47,
      "metadata": {
        "colab": {
          "base_uri": "https://localhost:8080/",
          "height": 212
        },
        "id": "ObAycc1qEU-c",
        "outputId": "f66e9e29-be76-46b9-c90a-61d06325ea72"
      },
      "outputs": [
        {
          "data": {
            "text/plain": [
              "<matplotlib.image.AxesImage at 0x7fbb8b964760>"
            ]
          },
          "execution_count": 47,
          "metadata": {},
          "output_type": "execute_result"
        },
        {
          "data": {
            "image/png": "[encoded data removed]",
            "text/plain": [
              "<Figure size 432x288 with 1 Axes>"
            ]
          },
          "metadata": {
            "needs_background": "light"
          },
          "output_type": "display_data"
        }
      ],
      "source": [
        "# Load the image and visulize\n",
        "input_path = \"../input.jpg\"\n",
        "image = notebook_utils.load_image(input_path)\n",
        "plt.imshow(image[:, :, ::-1])"
      ]
    },
    {
      "cell_type": "markdown",
      "metadata": {
        "id": "yh0WJHscamUb"
      },
      "source": [
        "Name of the 80 different classed this model is trained on."
      ]
    },
    {
      "cell_type": "code",
      "execution_count": 48,
      "metadata": {
        "colab": {
          "base_uri": "https://localhost:8080/"
        },
        "id": "1wOyy1wjAu5c",
        "outputId": "1e81aa32-03a3-44a7-f078-8d97c61966ac"
      },
      "outputs": [
        {
          "name": "stdout",
          "output_type": "stream",
          "text": [
            "80\n"
          ]
        }
      ],
      "source": [
        "# A list of class names\n",
        "COCO_CLASSES = ('person', 'bicycle', 'car', 'motorcycle', 'airplane', 'bus', \n",
        "                'train', 'truck', 'boat', 'traffic light', 'fire hydrant', \n",
        "                'stop sign', 'parking meter', 'bench', 'bird', 'cat', 'dog', \n",
        "                'horse', 'sheep', 'cow', 'elephant', 'bear', 'zebra', \n",
        "                'giraffe', 'backpack', 'umbrella', 'handbag', 'tie', \n",
        "                'suitcase', 'frisbee', 'skis', 'snowboard', 'sports ball', \n",
        "                'kite', 'baseball bat', 'baseball glove', 'skateboard', \n",
        "                'surfboard', 'tennis racket', 'bottle', 'wine glass', 'cup', \n",
        "                'fork', 'knife', 'spoon', 'bowl', 'banana', 'apple', 'sandwich', \n",
        "                'orange', 'broccoli', 'carrot', 'hot dog', 'pizza', 'donut', \n",
        "                'cake', 'chair', 'couch', 'potted plant', 'bed', 'dining table', \n",
        "                'toilet', 'tv', 'laptop', 'mouse', 'remote', 'keyboard', \n",
        "                'cell phone', 'microwave', 'oven', 'toaster', 'sink', \n",
        "                'refrigerator', 'book', 'clock', 'vase', 'scissors', \n",
        "                'teddy bear', 'hair drier', 'toothbrush')\n",
        "\n",
        "# Checking number of classes\n",
        "print(len(COCO_CLASSES))"
      ]
    },
    {
      "cell_type": "markdown",
      "metadata": {
        "id": "gT_GCN-ZahjN"
      },
      "source": [
        "Loading a list of 80 different Colors for Bounding boxes of each class."
      ]
    },
    {
      "cell_type": "code",
      "execution_count": 49,
      "metadata": {
        "colab": {
          "base_uri": "https://localhost:8080/"
        },
        "id": "yttYG5OjAytd",
        "outputId": "ea94c246-dc44-42cc-ec43-71aa2fa3b7df"
      },
      "outputs": [
        {
          "name": "stdout",
          "output_type": "stream",
          "text": [
            "(80, 3)\n"
          ]
        }
      ],
      "source": [
        "# Loading an np.array of colors\n",
        "_COLORS = np.load('../colors.npy')\n",
        "\n",
        "# Checking the shape\n",
        "print(_COLORS.shape)"
      ]
    },
    {
      "cell_type": "markdown",
      "metadata": {
        "id": "SxcF8PtabKzO"
      },
      "source": [
        "## These are some utility functions necessary for the inference process"
      ]
    },
    {
      "cell_type": "code",
      "execution_count": 50,
      "metadata": {
        "id": "hBySgljg9uAu"
      },
      "outputs": [],
      "source": [
        "def preprocess(img, input_size, swap=(2, 0, 1)):\n",
        "    \"\"\"\n",
        "    Preprocesses an image by resizing and padding it to a specific input size, and converting it to a float32 NumPy array.\n",
        "\n",
        "    :param numpy.ndarray img: The image to preprocess.\n",
        "    :param tuple input_size: A tuple of two integers representing the desired input size.\n",
        "    :param tuple swap: (optional) A tuple of three integers representing the desired order of color channels. Defaults to (2, 0, 1).\n",
        "\n",
        "    :return: The preprocessed image as a float32 NumPy array and the scaling ratio of the image as a float.\n",
        "    :rtype: Tuple[numpy.ndarray, float]\n",
        "\n",
        "    \"\"\"\n",
        "\n",
        "    # Check if image has 3 dimensions, otherwise pad it with 114\n",
        "    if len(img.shape) == 3:\n",
        "        padded_img = np.ones((input_size[0], input_size[1], 3),\n",
        "                             dtype=np.uint8) * 114\n",
        "    else:\n",
        "        padded_img = np.ones(input_size, dtype=np.uint8) * 114\n",
        "\n",
        "    # Resize the image and calculate the scaling ratio\n",
        "    r = min(input_size[0] / img.shape[0], input_size[1] / img.shape[1])\n",
        "    resized_img = cv2.resize(\n",
        "        img,\n",
        "        (int(img.shape[1] * r), int(img.shape[0] * r)),\n",
        "        interpolation=cv2.INTER_LINEAR,\n",
        "    ).astype(np.uint8)\n",
        "\n",
        "    # Copy the resized image into the padded image array\n",
        "    padded_img[: int(img.shape[0] * r), : int(img.shape[1] * r)] = resized_img\n",
        "\n",
        "    # Swap the color channels and convert the padded image array to a float32\n",
        "    # NumPy array\n",
        "    padded_img = padded_img.transpose(swap)\n",
        "    padded_img = np.ascontiguousarray(padded_img, dtype=np.float32)\n",
        "    return padded_img, r\n",
        "\n",
        "\n",
        "def nms(boxes, scores, nms_thr):\n",
        "    \"\"\"\n",
        "    Apply Non-Maximum Suppression (NMS) to a set of bounding boxes, removing\n",
        "    those that overlap with higher-scoring boxes.\n",
        "\n",
        "    :param boxes: Numpy array of shape (num_boxes, 4), containing the coordinates of\n",
        "                each bounding box in (x1, y1, x2, y2) format.\n",
        "    :type boxes: numpy.ndarray\n",
        "    :param scores: Numpy array of shape (num_boxes,), containing the confidence scores\n",
        "                of each bounding box.\n",
        "    :type scores: numpy.ndarray\n",
        "    :param nms_thr: Float specifying the threshold for overlap between bounding boxes,\n",
        "                    above which the lower-scoring box will be removed.\n",
        "    :type nms_thr: float\n",
        "\n",
        "    :returns: List of indices corresponding to the bounding boxes that were\n",
        "            retained after NMS.\n",
        "    :rtype: list\n",
        "    \"\"\"\n",
        "    # Extract coordinates of bounding boxes\n",
        "    x1 = boxes[:, 0]\n",
        "    y1 = boxes[:, 1]\n",
        "    x2 = boxes[:, 2]\n",
        "    y2 = boxes[:, 3]\n",
        "\n",
        "    # Calculate area of each bounding box\n",
        "    areas = (x2 - x1 + 1) * (y2 - y1 + 1)\n",
        "\n",
        "    # Sort scores in descending order and get corresponding indices\n",
        "    order = scores.argsort()[::-1]\n",
        "\n",
        "    # Initialize list to store indices of boxes to keep\n",
        "    keep = []\n",
        "\n",
        "    # Loop over all boxes\n",
        "    while order.size > 0:\n",
        "        # Select box with highest score\n",
        "        i = order[0]\n",
        "        keep.append(i)\n",
        "\n",
        "        # Calculate intersection between selected box and all other boxes\n",
        "        xx1 = np.maximum(x1[i], x1[order[1:]])\n",
        "        yy1 = np.maximum(y1[i], y1[order[1:]])\n",
        "        xx2 = np.minimum(x2[i], x2[order[1:]])\n",
        "        yy2 = np.minimum(y2[i], y2[order[1:]])\n",
        "\n",
        "        # Calculate overlap between selected box and all other boxes\n",
        "        w = np.maximum(0.0, xx2 - xx1 + 1)\n",
        "        h = np.maximum(0.0, yy2 - yy1 + 1)\n",
        "        inter = w * h\n",
        "        ovr = inter / (areas[i] + areas[order[1:]] - inter)\n",
        "\n",
        "        # Keep only boxes with overlap less than NMS threshold\n",
        "        inds = np.where(ovr <= nms_thr)[0]\n",
        "        order = order[inds + 1]\n",
        "\n",
        "    return keep\n",
        "\n",
        "\n",
        "def multiclass_nms(boxes, scores, nms_thr, score_thr, class_agnostic=True):\n",
        "    \"\"\"\n",
        "    Apply non-maximum suppression (NMS) on boxes according to their intersection-over-union (IoU) overlap and class scores.\n",
        "\n",
        "    :param boxes: A numpy array of shape (N, 4) where N is the number of bounding boxes, and the last dimension represents (x1, y1, x2, y2) of each bounding box.\n",
        "    :type boxes: numpy.ndarray\n",
        "    :param scores: A numpy array of shape (N, C) where N is the number of bounding boxes, and C is the number of classes. Each element represents the score of each bounding box for each class.\n",
        "    :type scores: numpy.ndarray\n",
        "    :param nms_thr: The IoU threshold used in non-maximum suppression.\n",
        "    :type nms_thr: float\n",
        "    :param score_thr: The threshold used to filter out bounding boxes with scores lower than this value.\n",
        "    :type score_thr: float\n",
        "    :param class_agnostic: Whether to use class-agnostic NMS or class-aware NMS. If True, class-agnostic NMS is used.\n",
        "    :type class_agnostic: bool\n",
        "\n",
        "    :return: A numpy array of shape (M, 6) where M is the number of final detections after NMS, and the last dimension represents (x1, y1, x2, y2, score, class) of each detection.\n",
        "    :rtype: numpy.ndarray\n",
        "    \"\"\"\n",
        "    # Choose NMS method\n",
        "    if class_agnostic:\n",
        "        nms_method = multiclass_nms_class_agnostic\n",
        "    else:\n",
        "        nms_method = multiclass_nms_class_aware\n",
        "\n",
        "    # Apply NMS\n",
        "    return nms_method(boxes, scores, nms_thr, score_thr)\n",
        "\n",
        "\n",
        "def multiclass_nms_class_aware(boxes, scores, nms_thr, score_thr):\n",
        "    \"\"\"\n",
        "    The function performs class aware non-maximum suppression.\n",
        "    Given bounding boxes and their corresponding scores,\n",
        "    the function applies non-maximum suppression (NMS) to discard\n",
        "    overlapping bounding boxes. Only bounding boxes with scores above\n",
        "    `score_thr` are considered.\n",
        "\n",
        "    :param boxes: A numpy array of shape (N, 4) where N is the number of\n",
        "        bounding boxes, and the last dimension represents (x1, y1, x2, y2) of\n",
        "        each bounding box.\n",
        "    :type boxes: numpy.ndarray\n",
        "\n",
        "    :param scores: A numpy array of shape (N, C) where N is the number of\n",
        "        bounding boxes, and C is the number of classes. Each element represents\n",
        "        the score of each bounding box for each class.\n",
        "    :type scores: numpy.ndarray\n",
        "\n",
        "    :param nms_thr: The IoU threshold used in non-maximum suppression.\n",
        "    :type nms_thr: float\n",
        "\n",
        "    :param score_thr: The threshold used to filter out bounding boxes with\n",
        "        scores lower than this value.\n",
        "    :type score_thr: float\n",
        "\n",
        "    :return: A numpy array of shape (M, 6) where M is the number of final\n",
        "        detections after NMS, and the last dimension represents (x1, y1, x2, y2,\n",
        "        score, class) of each detection.\n",
        "    :rtype: numpy.ndarray\n",
        "    \"\"\"\n",
        "\n",
        "    final_dets = []\n",
        "    num_classes = scores.shape[1]\n",
        "\n",
        "    # Iterate over all classes\n",
        "    for cls_ind in range(num_classes):\n",
        "        cls_scores = scores[:, cls_ind]\n",
        "        valid_score_mask = cls_scores > score_thr\n",
        "\n",
        "        # If no bounding boxes have score above the threshold for this class,\n",
        "        # skip to the next class\n",
        "        if valid_score_mask.sum() == 0:\n",
        "            continue\n",
        "\n",
        "        # Otherwise, select the valid bounding boxes and their scores\n",
        "        else:\n",
        "            valid_scores = cls_scores[valid_score_mask]\n",
        "            valid_boxes = boxes[valid_score_mask]\n",
        "\n",
        "            # Apply NMS on the selected bounding boxes\n",
        "            keep = nms(valid_boxes, valid_scores, nms_thr)\n",
        "            if len(keep) > 0:\n",
        "                cls_inds = np.ones((len(keep), 1)) * cls_ind\n",
        "                dets = np.concatenate(\n",
        "                    [valid_boxes[keep], valid_scores[keep, None], cls_inds], 1\n",
        "                )\n",
        "                final_dets.append(dets)\n",
        "\n",
        "    # If there are no detections, return None\n",
        "    if len(final_dets) == 0:\n",
        "        return None\n",
        "\n",
        "    # Concatenate the final detections from all classes into a single numpy\n",
        "    # array\n",
        "    return np.concatenate(final_dets, 0)\n",
        "\n",
        "\n",
        "def multiclass_nms_class_agnostic(boxes, scores, nms_thr, score_thr):\n",
        "    \"\"\" \n",
        "    The function performs class-agnostic non-maximum suppression.\n",
        "    Given bounding boxes and their corresponding scores, the function applies\n",
        "    non-maximum suppression (NMS) to discard overlapping bounding boxes. Only\n",
        "    bounding boxes with scores above `score_thr` are considered.\n",
        "\n",
        "    :param boxes: A numpy array of shape (N, 4) where N is the number\n",
        "                of bounding boxes, and the last dimension\n",
        "                represents (x1, y1, x2, y2) of each bounding box.\n",
        "    :type boxes: numpy.ndarray\n",
        "    :param scores: A numpy array of shape (N,) containing the\n",
        "                confidence scores of each bounding box.\n",
        "    :type scores: numpy.ndarray\n",
        "    :param nms_thr: The IoU threshold used in non-maximum suppression.\n",
        "    :type nms_thr: float\n",
        "    :param score_thr: The threshold used to filter out bounding boxes with\n",
        "                    scores lower than this value.\n",
        "    :type score_thr: float\n",
        "\n",
        "    :return: A numpy array of shape (M, 5) where M is the number of\n",
        "            final detections after NMS, and the last dimension\n",
        "            represents (x1, y1, x2, y2, score) of each detection.\n",
        "    :rtype: numpy.ndarray\n",
        "    \"\"\"\n",
        "    # Get the index of the highest scoring class for each box.\n",
        "    cls_inds = scores.argmax(1)\n",
        "\n",
        "    # Get the score for the highest scoring class for each box.\n",
        "    cls_scores = scores[np.arange(len(cls_inds)), cls_inds]\n",
        "\n",
        "    # Create a mask to select boxes that have scores greater than the\n",
        "    # threshold.\n",
        "    valid_score_mask = cls_scores > score_thr\n",
        "\n",
        "    # If there are no boxes that pass the score threshold, return None.\n",
        "    if valid_score_mask.sum() == 0:\n",
        "        return None\n",
        "\n",
        "    # Select the scores, boxes, and class indices for the boxes that pass\n",
        "    # the score threshold.\n",
        "    valid_scores = cls_scores[valid_score_mask]\n",
        "    valid_boxes = boxes[valid_score_mask]\n",
        "    valid_cls_inds = cls_inds[valid_score_mask]\n",
        "\n",
        "    # Apply non-maximum suppression to the selected boxes and scores.\n",
        "    keep = nms(valid_boxes, valid_scores, nms_thr)\n",
        "\n",
        "    # If there are no boxes that survive non-maximum suppression, return None.\n",
        "    if keep:\n",
        "        # Combine the selected boxes, scores, and class indices into a single\n",
        "        # array.\n",
        "        dets = np.concatenate(\n",
        "            [valid_boxes[keep], valid_scores[keep, None],\n",
        "             valid_cls_inds[keep, None]], 1\n",
        "        )\n",
        "    return dets\n",
        "\n",
        "\n",
        "def demo_postprocess(outputs, img_size, p6=False):\n",
        "    \"\"\"\n",
        "    Postprocesses the output of the YOLOX model for object detection.\n",
        "\n",
        "    :param outputs: The output of the YOLOv5 model.\n",
        "    :type outputs: ndarray\n",
        "    :param img_size: A tuple containing the height and width of the input image.\n",
        "    :type img_size: tuple\n",
        "    :param p6: A flag indicating whether to use the P6 output from the model. Defaults to False.\n",
        "    :type p6: bool, optional\n",
        "\n",
        "    :returns: The post-processed output of the YOLOv5 model for object detection.\n",
        "    :rtype: ndarray\n",
        "    \"\"\"\n",
        "\n",
        "    # Create empty lists to hold the grid and expanded stride values for\n",
        "    # each scale\n",
        "    grids = []\n",
        "    expanded_strides = []\n",
        "\n",
        "    # Define the strides for each scale\n",
        "    strides = [8, 16, 32] if not p6 else [8, 16, 32, 64]\n",
        "\n",
        "    # Calculate the height and width of the feature maps for each scale\n",
        "    hsizes = [img_size[0] // stride for stride in strides]\n",
        "    wsizes = [img_size[1] // stride for stride in strides]\n",
        "\n",
        "    # Create the grid and expanded stride values for each scale\n",
        "    for hsize, wsize, stride in zip(hsizes, wsizes, strides):\n",
        "        xv, yv = np.meshgrid(np.arange(wsize), np.arange(hsize))\n",
        "        grid = np.stack((xv, yv), 2).reshape(1, -1, 2)\n",
        "        grids.append(grid)\n",
        "        shape = grid.shape[:2]\n",
        "        expanded_strides.append(np.full((*shape, 1), stride))\n",
        "\n",
        "    # Concatenate the grid and expanded stride values for each scale\n",
        "    grids = np.concatenate(grids, 1)\n",
        "    expanded_strides = np.concatenate(expanded_strides, 1)\n",
        "\n",
        "    # Apply the final post-processing steps to the model output\n",
        "    outputs[..., :2] = (outputs[..., :2] + grids) * expanded_strides\n",
        "    outputs[..., 2:4] = np.exp(outputs[..., 2:4]) * expanded_strides\n",
        "\n",
        "    # Return the post-processed output\n",
        "    return outputs\n",
        "\n",
        "\n",
        "def prepare_input_tensor(image: np.ndarray):\n",
        "    \"\"\"\n",
        "    Converts preprocessed image to tensor format according to YOLOv7 input requirements.\n",
        "\n",
        "    :param image: Numpy array of shape (height, width, channels) with uint8 data in [0, 255] range.\n",
        "    :type image: numpy.ndarray\n",
        "\n",
        "    :return: Torch tensor object of shape (channels, height, width) with float data in [0, 1] range.\n",
        "    :rtype: torch.Tensor\n",
        "    \"\"\"\n",
        "    input_tensor = image.astype(np.float32)  # uint8 to fp16/32\n",
        "    # input_tensor /= 255.0  # 0 - 255 to 0.0 - 1.0\n",
        "    \n",
        "    if input_tensor.ndim == 3:\n",
        "        input_tensor = np.expand_dims(input_tensor, 0)\n",
        "    return input_tensor\n",
        "    \n",
        "\n",
        "def vis(img, boxes, scores, cls_ids, conf=0.5, class_names=None):\n",
        "    \"\"\"\n",
        "    Visualize detection results on an image.\n",
        "\n",
        "    :param img: An input image.\n",
        "    :type img: ndarray\n",
        "    :param boxes: An array of bounding boxes in format (x0, y0, x1, y1).\n",
        "    :type boxes: ndarray\n",
        "    :param scores: An array of detection scores.\n",
        "    :type scores: ndarray\n",
        "    :param cls_ids: An array of class IDs.\n",
        "    :type cls_ids: ndarray\n",
        "    :param conf: Confidence threshold to filter out low confidence detections. Defaults to 0.5.\n",
        "    :type conf: float\n",
        "    :param class_names: A list of class names. If None, class IDs will be used instead.\n",
        "    :type class_names: list or None\n",
        "\n",
        "    :returns: An annotated image with bounding boxes, class labels and scores.\n",
        "    :rtype: ndarray\n",
        "    \"\"\"\n",
        "\n",
        "    # Loop through each bounding box and its corresponding class ID and score\n",
        "    for i in range(len(boxes)):\n",
        "\n",
        "        # Get the current bounding box, class ID, and score\n",
        "        box = boxes[i]\n",
        "        cls_id = int(cls_ids[i])\n",
        "        score = scores[i]\n",
        "\n",
        "        # If the score is below the confidence threshold, skip this box\n",
        "        if score < conf:\n",
        "            continue\n",
        "\n",
        "        # Extract the coordinates of the bounding box\n",
        "        x0 = int(box[0])\n",
        "        y0 = int(box[1])\n",
        "        x1 = int(box[2])\n",
        "        y1 = int(box[3])\n",
        "\n",
        "        # Get color for the box border from a pre-defined color palette\n",
        "        color = (_COLORS[cls_id] * 255).astype(np.uint8).tolist()\n",
        "\n",
        "        # Construct the label text and get text color based on the box border\n",
        "        # color\n",
        "        text = '{}:{:.1f}%'.format(class_names[cls_id], score * 100)\n",
        "        if np.mean(_COLORS[cls_id]) > 0.5:\n",
        "            txt_color = (0, 0, 0)\n",
        "        else:\n",
        "            txt_color = (255, 255, 255)\n",
        "\n",
        "        # Set the font for the label text and get the size\n",
        "        font = cv2.FONT_HERSHEY_SIMPLEX\n",
        "        txt_size = cv2.getTextSize(text, font, 0.4, 1)[0]\n",
        "\n",
        "        # Draw the bounding box and label on the image\n",
        "        cv2.rectangle(img, (x0, y0), (x1, y1), color, 2)\n",
        "\n",
        "        txt_bk_color = (_COLORS[cls_id] * 255 * 0.7).astype(np.uint8).tolist()\n",
        "        cv2.rectangle(\n",
        "            img=img,\n",
        "            pt1=(x0, y0 + 1),\n",
        "            pt2=(x0 + txt_size[0] + 1, y0 + int(1.5 * txt_size[1])),\n",
        "            color=txt_bk_color,\n",
        "            thickness=-1\n",
        "        )\n",
        "        # Draw the text label on the image\n",
        "        cv2.putText(img, text, (x0, y0 + txt_size[1]), font, 0.4, txt_color,\n",
        "                    thickness=1)\n",
        "\n",
        "    return img"
      ]
    },
    {
      "cell_type": "markdown",
      "metadata": {
        "id": "pFgfXggjByOo"
      },
      "source": [
        "# Openvino Workflow\n",
        "\n"
      ]
    },
    {
      "cell_type": "markdown",
      "metadata": {
        "id": "junm7TSSB08k"
      },
      "source": [
        "This cell initializes an instance of the Inference Engine Core using the `Core` class from the OpenVINO toolkit. The inference engine core is a runtime engine that provides a unified API for running pre-trained deep learning models on various hardware devices such as CPU, GPU, VPU, and FPGA. \n",
        "\n",
        "The `Core` class is the central class that provides a simple and unified way to load and run deep learning models using the Inference Engine. It is a fundamental class to work with the Inference Engine and is required to load the models into the memory and run the inference."
      ]
    },
    {
      "cell_type": "code",
      "execution_count": 51,
      "metadata": {
        "id": "lu7vkBuyV1HB"
      },
      "outputs": [],
      "source": [
        "# Step 1. Initialize inference engine core\n",
        "import openvino.runtime as ov\n",
        "core = ov.Core()"
      ]
    },
    {
      "cell_type": "markdown",
      "metadata": {
        "id": "C-8Mgt9oCN1v"
      },
      "source": [
        "In this step, the inference engine core reads the model in OpenVINO Intermediate Representation or ONNX format. The `read_model()` function of the `Core` object is used for this purpose. The function takes a single argument model, which is the path to the ONNX file containing the model.\n",
        "\n",
        "The `read_model()` function returns a network object, which represents the topology of the model. This object can be used to perform inference on input data."
      ]
    },
    {
      "cell_type": "code",
      "execution_count": 52,
      "metadata": {
        "id": "j7SEo4jMWe5S"
      },
      "outputs": [],
      "source": [
        "# Step 2. Read a model in OpenVINO Intermediate Representation or ONNX\n",
        "# format\n",
        "model = core.read_model(model=f'vino/{model_name}.xml')"
      ]
    },
    {
      "cell_type": "markdown",
      "metadata": {
        "id": "3qUBj-X2C4f0"
      },
      "source": [
        "This step reads the model in either OpenVINO IR format or `ONNX format`. \n"
      ]
    },
    {
      "cell_type": "markdown",
      "metadata": {
        "id": "aoWuoRyLDWRi"
      },
      "source": [
        "This step loads the model onto the specified `device`. The device is specified as a string in the device variable, which is set to `CPU` in this case. The `compile_model()` method of the ie object is called to compile the model on the specified device. The method takes in two arguments: `model` which is the network to be loaded, and `device_name`, which is the device on which to load the network."
      ]
    },
    {
      "cell_type": "code",
      "execution_count": 53,
      "metadata": {
        "id": "sLOHJsz7XjnU"
      },
      "outputs": [],
      "source": [
        "# Step 3. Loading model to the device\n",
        "\n",
        "device = 'CPU'\n",
        "exec_net = core.compile_model(model=model, device_name=device)"
      ]
    },
    {
      "cell_type": "markdown",
      "metadata": {
        "id": "l7hruFFfeLK1"
      },
      "source": [
        "Overall, these steps set the groundwork for loading a neural network model, configuring it for optimal performance, and defining the input/output layer information."
      ]
    },
    {
      "cell_type": "markdown",
      "metadata": {
        "id": "c3lmi-XyHXoG"
      },
      "source": [
        "This cell block creates an inference request and prepares the input image for inference by resizing and processing it. It uses OpenVINO Inference Engine to run the inference."
      ]
    },
    {
      "cell_type": "code",
      "execution_count": 54,
      "metadata": {
        "colab": {
          "base_uri": "https://localhost:8080/"
        },
        "id": "eHRQa6kgZTPw",
        "outputId": "c0fa7d8f-248b-4ef0-fe48-e80f86a9ffc4"
      },
      "outputs": [
        {
          "name": "stdout",
          "output_type": "stream",
          "text": [
            "(3, 416, 416)\n"
          ]
        }
      ],
      "source": [
        "# Step 4. Prepare input\n",
        "\n",
        "# Load the image from input_path using the helper function\n",
        "origin_img = notebook_utils.load_image(input_path)\n",
        "\n",
        "# Get the shape of the input tensor required by the model\n",
        "_, _, h, w = exec_net.inputs[0].shape\n",
        "\n",
        "# Preprocess the input image by resizing it to the required shape,\n",
        "# and normalizing its pixel values. Also, return the ratio by which\n",
        "# the image was resized, as we will use it to rescale the predicted\n",
        "# boxes\n",
        "image, ratio = preprocess(origin_img, (h, w))\n",
        "\n",
        "# Convert the preprocessed input image to a tensor, and prepare it for inference by reshaping it\n",
        "# and transposing its dimensions to match the expected input tensor shape\n",
        "prepared_img = prepare_input_tensor(image)\n",
        "\n",
        "# Printing shpae of the prepared image\n",
        "print(image.shape)"
      ]
    },
    {
      "cell_type": "markdown",
      "metadata": {
        "id": "2m3fRYlPHkJ9"
      },
      "source": [
        "This step is doing the inference of the input image using the Executable Network instance created in Step 3. \n",
        "\n",
        "It takes the preprocessed image as input and returns a dictionary containing the inference results. Then we are reading the value from the dictionary using key `output_blob`."
      ]
    },
    {
      "cell_type": "code",
      "execution_count": 55,
      "metadata": {
        "id": "9Ie4sM2rZkbX"
      },
      "outputs": [],
      "source": [
        "# Step 5. Do inference\n",
        "\n",
        "output_blob = exec_net.output(0)\n",
        "res = exec_net(prepared_img)[output_blob]"
      ]
    },
    {
      "cell_type": "markdown",
      "metadata": {
        "id": "hhzR5BN0PHN_"
      },
      "source": [
        "This block of code takes the output of the infer request and processes it to produce the final detection results. It performs non-maximum suppression and visualizes the detected objects with bounding boxes and class labels on the input image."
      ]
    },
    {
      "cell_type": "code",
      "execution_count": 56,
      "metadata": {
        "colab": {
          "base_uri": "https://localhost:8080/",
          "height": 212
        },
        "id": "v7ZX6qZsYGbE",
        "outputId": "5b7a4e4f-ae1a-4772-d2f4-f33179847958"
      },
      "outputs": [
        {
          "data": {
            "text/plain": [
              "<matplotlib.image.AxesImage at 0x7fbba6a5aa30>"
            ]
          },
          "execution_count": 56,
          "metadata": {},
          "output_type": "execute_result"
        },
        {
          "data": {
            "image/png": "[encoded data removed]",
            "text/plain": [
              "<Figure size 432x288 with 1 Axes>"
            ]
          },
          "metadata": {
            "needs_background": "light"
          },
          "output_type": "display_data"
        }
      ],
      "source": [
        "# Step 6. Process output\n",
        "\n",
        "# Set a threshold for score confidence\n",
        "score_thr = 0.3\n",
        "\n",
        "# Set the path for output image\n",
        "output_path = \"test.jpg\"\n",
        "\n",
        "# Extract results from the model's output blob\n",
        "# res = res[out_blob]\n",
        "\n",
        "# Post-process the output to get predictions\n",
        "predictions = demo_postprocess(res, (h, w))[0]\n",
        "\n",
        "# Extract bounding boxes and scores from the predictions\n",
        "boxes = predictions[:, :4]\n",
        "scores = predictions[:, 4, None] * predictions[:, 5:]\n",
        "\n",
        "# Convert the bounding boxes from (x_center, y_center, width, height)\n",
        "# to (x1, y1, x2, y2) format\n",
        "boxes_xyxy = np.ones_like(boxes)\n",
        "boxes_xyxy[:, 0] = boxes[:, 0] - boxes[:, 2] / 2.\n",
        "boxes_xyxy[:, 1] = boxes[:, 1] - boxes[:, 3] / 2.\n",
        "boxes_xyxy[:, 2] = boxes[:, 0] + boxes[:, 2] / 2.\n",
        "boxes_xyxy[:, 3] = boxes[:, 1] + boxes[:, 3] / 2.\n",
        "\n",
        "# Convert the bounding box coordinates to the original image size\n",
        "boxes_xyxy /= ratio\n",
        "\n",
        "# Apply Non-Maximum Suppression (NMS) to get the final detections\n",
        "dets = multiclass_nms(boxes=boxes_xyxy, scores=scores,\n",
        "                      nms_thr=0.45, score_thr=0.1)\n",
        "\n",
        "\n",
        "# If there are any detections above the confidence threshold\n",
        "if dets is not None:\n",
        "\n",
        "    # Get the final bounding boxes, scores, and class indices\n",
        "    final_boxes = dets[:, :4]\n",
        "    final_scores, final_cls_inds = dets[:, 4], dets[:, 5]\n",
        "\n",
        "    # Visualize the bounding boxes on the original image\n",
        "    detecetd_img = vis(img=origin_img, boxes=final_boxes,\n",
        "                       scores=final_scores, cls_ids=final_cls_inds,\n",
        "                       conf=score_thr, class_names=COCO_CLASSES)\n",
        "\n",
        "# Save the image with bounding boxes drawn on it\n",
        "cv2.imwrite(output_path, detecetd_img)\n",
        "\n",
        "plt.imshow(detecetd_img[:, :, ::-1])"
      ]
    },
    {
      "cell_type": "markdown",
      "metadata": {
        "id": "yYApIQFF_F4s"
      },
      "source": [
        "# Validation on COCO 2017 dataset"
      ]
    },
    {
      "cell_type": "markdown",
      "metadata": {
        "id": "L83fwCQVgLh0"
      },
      "source": [
        "In this section, we are going to test the preformance of the model inference using OpenVino.\n",
        "\n",
        "**Note:** For the purpose of validation, we are going to use some utility functions implemented in [YOLOV7](https://github.com/WongKinYiu/yolov7) repository.\n",
        "\n",
        "Lets clone the repository."
      ]
    },
    {
      "cell_type": "code",
      "execution_count": 57,
      "metadata": {
        "colab": {
          "base_uri": "https://localhost:8080/"
        },
        "id": "Kv0ZzvYo_IWI",
        "outputId": "ff2fa405-54cb-4f19-f4ac-0c6b52188a34"
      },
      "outputs": [
        {
          "name": "stdout",
          "output_type": "stream",
          "text": [
            "Cloning into 'yolov7'...\n",
            "remote: Enumerating objects: 1130, done.\u001b[K\n",
            "remote: Total 1130 (delta 0), reused 0 (delta 0), pack-reused 1130\u001b[K\n",
            "Receiving objects: 100% (1130/1130), 69.94 MiB | 25.98 MiB/s, done.\n",
            "Resolving deltas: 100% (520/520), done.\n"
          ]
        }
      ],
      "source": [
        "# Going back to base directory\n",
        "os.chdir('..')\n",
        "\n",
        "# Clone if yolov7 repository is not already present\n",
        "if not Path('yolov7').exists():\n",
        "    ! git clone https://github.com/WongKinYiu/yolov7\n",
        "    \n",
        "os.chdir('yolov7')"
      ]
    },
    {
      "cell_type": "markdown",
      "metadata": {
        "id": "PwHhDnxK5iRA"
      },
      "source": [
        "Here are some necessary imports for the Validation, some are obtained from `yolov7` repository."
      ]
    },
    {
      "cell_type": "code",
      "execution_count": 58,
      "metadata": {
        "id": "wZQwkcrQlYqh"
      },
      "outputs": [],
      "source": [
        "from utils.datasets import create_dataloader\n",
        "from utils.metrics import ap_per_class\n",
        "from utils.general import check_dataset, box_iou, xywh2xyxy, colorstr"
      ]
    },
    {
      "cell_type": "markdown",
      "metadata": {
        "id": "mnRagCTWFKpI"
      },
      "source": [
        "We are going to use `COCO VAL2017` data for validation. The annotations we use are obtained from `ultralutics/yolov5` project."
      ]
    },
    {
      "cell_type": "code",
      "execution_count": 59,
      "metadata": {
        "colab": {
          "base_uri": "https://localhost:8080/",
          "height": 81,
          "referenced_widgets": [
            "75d81c776412445baccf6d4e6dfa9034",
            "42c95448835d48ed965a8224c088b963",
            "0e2575ea12ad465280e1a31e16b388b8",
            "50a40cce44ba4dc3bfdbaa9982579f8f",
            "32e35278e48f4b638f2999b5b3b49577",
            "ff9504ace8314675bdfe3435c01549e0",
            "870719e82f994092a31170fcfa281416",
            "324d5ff2300c4bf7ad5ec9fc6568fd1a",
            "45079417e13c419093f87c1a031e0278",
            "d3f8f7ce4e8b49b9bbca6662ccb56ddb",
            "f0b06304623944659668178b4edf46b2",
            "3c1a77d0f54347b19183a5290022bd73",
            "c5397f04769345f0a3b0dd8843ccccdb",
            "e02a47daf66f416689796382969af6f2",
            "d153cf0f2e464577be2be9f36719c6df",
            "4cd12820683547e88fff5c9a88ddab67",
            "015fee26a96e420e9ec851db82705b3d",
            "36d1a5a511cc4ff5b368c9ed294c58bc",
            "24996825832348f3ad9906e3177c2aca",
            "5059741d75ae413db8e0b68501e0641b",
            "07ab68eaffcc4296a2adb0129993fa8b",
            "0761fe338ff64c7586fc739149bd5170"
          ]
        },
        "id": "kAGdwAR2rRzB",
        "outputId": "3128e247-9f31-4495-d7ab-97ae0ddf90f2"
      },
      "outputs": [
        {
          "data": {
            "application/vnd.jupyter.widget-view+json": {
              "model_id": "75d81c776412445baccf6d4e6dfa9034",
              "version_major": 2,
              "version_minor": 0
            },
            "text/plain": [
              "val2017.zip:   0%|          | 0.00/778M [00:00<?, ?B/s]"
            ]
          },
          "metadata": {},
          "output_type": "display_data"
        },
        {
          "data": {
            "application/vnd.jupyter.widget-view+json": {
              "model_id": "3c1a77d0f54347b19183a5290022bd73",
              "version_major": 2,
              "version_minor": 0
            },
            "text/plain": [
              "coco2017labels-segments.zip:   0%|          | 0.00/169M [00:00<?, ?B/s]"
            ]
          },
          "metadata": {},
          "output_type": "display_data"
        }
      ],
      "source": [
        "from zipfile import ZipFile\n",
        "\n",
        "# Set URLs for the COCO dataset and labels\n",
        "DATA_URL = \"http://images.cocodataset.org/zips/val2017.zip\"\n",
        "LABELS_URL = \"https://github.com/ultralytics/yolov5/releases/download/v1.0/coco2017labels-segments.zip\"\n",
        "\n",
        "# Set the output directory\n",
        "OUT_DIR = Path('.')\n",
        "\n",
        "# Download and extract the COCO dataset and labels\n",
        "notebook_utils.download_file(DATA_URL, directory=OUT_DIR, show_progress=True)\n",
        "notebook_utils.download_file(LABELS_URL, directory=OUT_DIR, show_progress=True)\n",
        "\n",
        "\n",
        "# If the \"labels\" folder does not exist in the output directory, extract the \n",
        "# COCO labels and the validation dataset images\n",
        "if not (OUT_DIR / \"coco/labels\").exists():\n",
        "\n",
        "    # Extract the labels zip file\n",
        "    with ZipFile('coco2017labels-segments.zip', \"r\") as zip_ref:\n",
        "        zip_ref.extractall(OUT_DIR)\n",
        "\n",
        "    # Extract the validation dataset images zip file\n",
        "    with ZipFile('val2017.zip', \"r\") as zip_ref:\n",
        "        zip_ref.extractall(OUT_DIR / 'coco/images')"
      ]
    },
    {
      "cell_type": "code",
      "execution_count": 60,
      "metadata": {
        "colab": {
          "base_uri": "https://localhost:8080/"
        },
        "id": "RQ2vK_Kv_WNK",
        "outputId": "f3768e7f-019a-455e-8b5a-4388c4f24c48"
      },
      "outputs": [
        {
          "name": "stderr",
          "output_type": "stream",
          "text": [
            "\u001b[34m\u001b[1mval: \u001b[0mScanning 'coco/val2017' images and labels... 4952 found, 48 missing, 0 empty, 0 corrupted: 100%|██████████| 5000/5000 [00:04<00:00, 1006.89it/s]\n"
          ]
        }
      ],
      "source": [
        "# Read dataset config\n",
        "DATA_CONFIG = 'data/coco.yaml'\n",
        "with open(DATA_CONFIG) as f:\n",
        "    data = yaml.load(stream=f, Loader=yaml.SafeLoader)\n",
        "\n",
        "# Set input shape\n",
        "_, _, _, hw = exec_net.inputs[0].shape\n",
        "\n",
        "# Set task and options\n",
        "TASK = 'val'\n",
        "\n",
        "# Imitation of CLI provided options for Single Class Evaluation\n",
        "Option = namedtuple('Options', ['single_cls'])\n",
        "opt = Option(False)\n",
        "\n",
        "# Create dataloader\n",
        "dataloader = create_dataloader(\n",
        "    data[TASK], hw, 1, 32, opt, pad=0.5,\n",
        "    prefix=colorstr(f'{TASK}: ')\n",
        ")"
      ]
    },
    {
      "cell_type": "markdown",
      "metadata": {
        "id": "STTQpIO2C_KV"
      },
      "source": [
        "Visualizing some validation images, from `COCO Val2017 dataset`, along with annotations."
      ]
    },
    {
      "cell_type": "code",
      "execution_count": 61,
      "metadata": {
        "colab": {
          "base_uri": "https://localhost:8080/",
          "height": 269
        },
        "id": "eWcuCUpII-S2",
        "outputId": "bd413138-bee0-47dd-ac00-e89a6c8c2969"
      },
      "outputs": [
        {
          "data": {
            "image/png": "[encoded data removed]",
            "text/plain": [
              "<Figure size 432x288 with 1 Axes>"
            ]
          },
          "metadata": {
            "needs_background": "light"
          },
          "output_type": "display_data"
        }
      ],
      "source": [
        "def test_imshow(nth: int, loader):\n",
        "    \"\"\"\n",
        "    Displays nth validation image from the given data loader\n",
        "    with bounding boxes and class labels overlaid on the image\n",
        "    using the COCO_CLASSES dataset.\n",
        "\n",
        "    :param n: Number of sample images to display.\n",
        "    :type n: int\n",
        "    :param loader: A PyTorch DataLoader containing the sample\n",
        "        images and their targets.\n",
        "    :type loader: DataLoader\n",
        "\n",
        "    :return: None\n",
        "    :rtype: NoneType\n",
        "    \"\"\"\n",
        "    for i, (_, targets, impath, shapes) in enumerate(loader):\n",
        "\n",
        "        # Get the bounding boxes from the targets\n",
        "        boxes = targets[:, 2:]\n",
        "\n",
        "        # Convert bounding boxes from [x, y, w, h] to [x1, y1, x2, y2]\n",
        "        boxes_xyxy = xywh2xyxy(boxes.clone())\n",
        "\n",
        "        # Check if we have reached the nth sample to display\n",
        "        if (i == nth):\n",
        "            break\n",
        "\n",
        "    # Get the height and width of the image\n",
        "    height, width = shapes[0]\n",
        "\n",
        "    # Scale the bounding boxes to match the image size\n",
        "    boxes_xyxy *= np.array([width, height, width, height])\n",
        "\n",
        "    # Visualization of the annotated objects in the image\n",
        "    detecetd_img = vis(img=cv2.imread(impath),\n",
        "                       boxes=boxes_xyxy,\n",
        "                       scores=np.ones_like(targets[:, 0]),\n",
        "                       cls_ids=targets[:, 1],\n",
        "                       conf=score_thr,\n",
        "                       class_names=COCO_CLASSES)\n",
        "\n",
        "    # Display the image using matplotlib\n",
        "    plt.imshow(detecetd_img[:, :, ::-1])\n",
        "\n",
        "\n",
        "# Showing images with annotated bboxes\n",
        "test_imshow(nth=41, loader=dataloader[1])"
      ]
    },
    {
      "cell_type": "markdown",
      "metadata": {
        "id": "fLQXMa1eBTq7"
      },
      "source": [
        "This is the validation function, inspired from the one in `yolov7` repository, but changed it to use with `yolox`models."
      ]
    },
    {
      "cell_type": "code",
      "execution_count": 62,
      "metadata": {
        "id": "nrx9-_qJ_SXb"
      },
      "outputs": [],
      "source": [
        "# Defining the modified validation function for YOLOX\n",
        "def yolox_test(data,\n",
        "               model: Model,\n",
        "               dataloader: torch.utils.data.DataLoader,\n",
        "               conf_thres: float = 0.01,\n",
        "               iou_thres: float = 0.65,\n",
        "               single_cls: bool = False,\n",
        "               v5_metric: bool = False,\n",
        "               names: List[str] = None,\n",
        "               num_samples: int = None):\n",
        "\n",
        "    # Get the prediction containing key of the model\n",
        "    output_blob = model.output(0)\n",
        "\n",
        "    # Check the dataset to ensure it has the expected format\n",
        "    check_dataset(data)\n",
        "\n",
        "    # Determine the number of classes\n",
        "    nc = 1 if single_cls else int(data['nc'])  # number of classes\n",
        "\n",
        "    # Create an IoU vector for computing mAP\n",
        "    iouv = torch.linspace(0.5, 0.95, 10)  # iou vector for mAP@0.5:0.95\n",
        "    niou = iouv.numel()\n",
        "\n",
        "    # Initialize variables for tracking evaluation statistics\n",
        "    seen = 0\n",
        "    p, r, mp, mr, map50, map = 0., 0., 0., 0., 0., 0.\n",
        "    stats, ap, ap_class = [], [], []\n",
        "\n",
        "    # Get the height and width of the input to the model\n",
        "    _, _, h, w = model.inputs[0].shape\n",
        "    output_blob = model.output(0)\n",
        "\n",
        "    # Iterate through each batch of images in the dataloader\n",
        "    for (_, targets, impath, shapes) in tqdm(dataloader):\n",
        "\n",
        "        # Get the number of labels in the batch, amd image dimensions\n",
        "        nl = len(targets)\n",
        "        im_h, im_w = shapes[0]\n",
        "\n",
        "        # Load and Preprocess the image to fit the input dimensions of\n",
        "        # the model\n",
        "        origin_img = notebook_utils.load_image(path=impath)\n",
        "        image, ratio = preprocess(origin_img, (h, w))\n",
        "\n",
        "        # Prepare the input tensor for the model\n",
        "        prepared_img = prepare_input_tensor(image=image)\n",
        "\n",
        "        # Disable gradient calculations\n",
        "        with torch.no_grad():\n",
        "            # Post-process the model's output to get the predictions\n",
        "            res = model(prepared_img)[output_blob]\n",
        "\n",
        "        # Post-process the model's output to get the predictions\n",
        "        predictions = demo_postprocess(outputs=res, img_size=(h, w))[0]\n",
        "\n",
        "        ### Prediction\n",
        "        # Extract bounding boxes and confidence scores from the predictions\n",
        "        boxes = predictions[:, :4]\n",
        "        scores = predictions[:, 4, None] * predictions[:, 5:]\n",
        "\n",
        "        # Convert the bounding boxes to the format (x1, y1, x2, y2) and adjust\n",
        "        # for the image's aspect ratio\n",
        "        boxes_xyxy = xywh2xyxy(boxes)\n",
        "        boxes_xyxy /= ratio\n",
        "\n",
        "        # Apply non-maximum suppression to get the final set of predictions\n",
        "        dets = multiclass_nms(boxes=boxes_xyxy,\n",
        "                              scores=scores,\n",
        "                              nms_thr=iou_thres,\n",
        "                              score_thr=conf_thres)\n",
        "\n",
        "        # If there are no detections, skip this image\n",
        "        if dets is None:\n",
        "            print(f\"No detection at {impath}\")\n",
        "            continue\n",
        "\n",
        "        # Extract the predicted bounding boxes, confidence scores, and class\n",
        "        # labels from the detections\n",
        "        pred_boxes_xyxy = torch.tensor(dets[:, :4])\n",
        "        pred_conf = torch.tensor(dets[:, 4])\n",
        "        pred_cls = torch.tensor(dets[:, 5])\n",
        "\n",
        "        # Assign all predictions as incorrect\n",
        "        correct = torch.zeros(dets.shape[0],\n",
        "                              niou,\n",
        "                              dtype=torch.bool,\n",
        "                              device='cpu')\n",
        "\n",
        "        ### Truths\n",
        "\n",
        "        # Extract ground truth class and bounding box coordinates\n",
        "        gt_cls = targets[:, 1]\n",
        "        gt_boxes = targets[:, 2:]\n",
        "\n",
        "        # Convert bounding box coordinates from (x, y, w, h) format to\n",
        "        # (x1, y1, x2, y2) format and scale according to image size\n",
        "        gt_boxes_xyxy = xywh2xyxy(gt_boxes) * \\\n",
        "            np.array([im_w, im_h, im_w, im_h])\n",
        "\n",
        "        # Initialize an empty list to store the detected bounding boxes\n",
        "        detected = []\n",
        "\n",
        "        # Loop over unique ground truth classes\n",
        "        for cls in torch.unique(gt_cls):\n",
        "\n",
        "            # Find the indices of the ground truth and prediction boxes that\n",
        "            # belong to the current class\n",
        "            ti = (cls == gt_cls).nonzero(as_tuple=False).view(-1)\n",
        "            pi = (cls == pred_cls).nonzero(as_tuple=False).view(-1)\n",
        "\n",
        "            # If there are predicted boxes that belong to the current class\n",
        "            if pi.shape[0]:\n",
        "\n",
        "                # Compute the intersection over union (IoU) between the\n",
        "                # predicted and ground truth boxes and select best ones\n",
        "                ious, i = box_iou(pred_boxes_xyxy[pi],\n",
        "                                  gt_boxes_xyxy[ti]).max(1)\n",
        "\n",
        "                # Append the detected ground truth boxes to the `detected` list\n",
        "                detected_set = set()\n",
        "                for j in (ious > iouv[0]).nonzero(as_tuple=False):\n",
        "                    # Detected Target\n",
        "                    d = ti[i[j]]\n",
        "                    if d.item() not in detected_set:\n",
        "                        detected_set.add(d.item())\n",
        "                        detected.append(d)\n",
        "                        correct[pi[j]] = ious[j] > iouv  # iou_thres is 1xn\n",
        "\n",
        "                        # If all ground truth boxes have been detected, break\n",
        "                        # out of the loop\n",
        "                        if len(detected) == nl:\n",
        "                            break\n",
        "        # Append the results for the current image to the `stats` list\n",
        "        stats.append((correct.cpu(), pred_conf.cpu(), pred_cls.cpu(), gt_cls))\n",
        "\n",
        "    # Compute statistics\n",
        "    stats = [np.concatenate(x, 0) for x in zip(*stats)]  # to numpy\n",
        "\n",
        "    if len(stats) and stats[0].any():\n",
        "\n",
        "        # Compute the average precision (AP) per class\n",
        "        p, r, ap, f1, ap_class = ap_per_class(*stats,\n",
        "                                              plot=False,\n",
        "                                              v5_metric=v5_metric,\n",
        "                                              names=names)\n",
        "\n",
        "        # Compute the AP at IoU threshold 0.5 and the mean AP over all IoU\n",
        "        # thresholds from 0.5 to 0.95\n",
        "        ap50, ap = ap[:, 0], ap.mean(1)\n",
        "\n",
        "        # Compute the mean precision, mean recall, mean AP at IoU threshold\n",
        "        # 0.5, and mean AP over all IoU thresholds from 0.5 to 0.95\n",
        "        mp, mr, map50, map = p.mean(), r.mean(), ap50.mean(), ap.mean()\n",
        "\n",
        "        # Compute the number of targets per class\n",
        "        nt = np.bincount(stats[3].astype(np.int64), minlength=nc)\n",
        "\n",
        "    else:\n",
        "\n",
        "        # If no detections were made, set the number of targets to 0\n",
        "        nt = torch.zeros(1)\n",
        "\n",
        "    # Compute the mean AP for each class\n",
        "    maps = np.zeros(nc) + map\n",
        "    for i, c in enumerate(ap_class):\n",
        "        maps[c] = ap[i]\n",
        "\n",
        "    # Return the mean precision, mean recall, mean AP at IoU threshold 0.5,\n",
        "    # mean AP over all IoU thresholds from 0.5 to 0.95,\n",
        "    return mp, mr, map50, map, maps, seen, nt.sum()"
      ]
    },
    {
      "cell_type": "markdown",
      "metadata": {
        "id": "xjBUBSx77ldN"
      },
      "source": [
        "\n",
        "The `yolox_test` validation function reports following list of accuracy metrics:\n",
        "\n",
        "* `Precision` is the degree of exactness of the model in identifying only relevant objects.\n",
        "* `Recall` measures the ability of the model to detect all ground truths objects.\n",
        "* `mAP@t - mean average precision`, represented as area under the Precision-Recall curve agregated over all classes in dataset, where t is Intersection Over Union (IOU) threshold, degree of overlaping between ground truth and predicted objects. So, mAP@.5 means that mean average precision calculated at 0.5 IOU threshold, mAP@.5:.95 - calculated on range IOU threshlods from 0.5 to 0.95 with step 0.05.\n"
      ]
    },
    {
      "cell_type": "code",
      "execution_count": 64,
      "metadata": {
        "colab": {
          "base_uri": "https://localhost:8080/",
          "height": 153,
          "referenced_widgets": [
            "64e31adfac34436b976bb2c11e0a222f",
            "2ca6de9383894b4e840287cb134f1c1a",
            "94a73c3466894ec1a0edce8f7fa61f88",
            "e766fba721ac4887bb548583289a920f",
            "aace6c11993a4362b7b93ff48db205a2",
            "a97e09215a5c4025aeba42a82dc9c85b",
            "acb6daf967c64a3183eef718ee1519b2",
            "2ab8877533b14e3e939419079407a7e9",
            "dc2bd4517c2d4ac79edecce588a12332",
            "47575921d1724bf28127e40657e677f0",
            "6996c965b4844d51a2a2f61f60e28f1d"
          ]
        },
        "id": "n34s7AhEqeC3",
        "outputId": "1a4fb4c1-a489-4705-f959-8584cdb35054"
      },
      "outputs": [
        {
          "data": {
            "application/vnd.jupyter.widget-view+json": {
              "model_id": "64e31adfac34436b976bb2c11e0a222f",
              "version_major": 2,
              "version_minor": 0
            },
            "text/plain": [
              "  0%|          | 0/5000 [00:00<?, ?it/s]"
            ]
          },
          "metadata": {},
          "output_type": "display_data"
        },
        {
          "name": "stdout",
          "output_type": "stream",
          "text": [
            "No detection at coco/images/val2017/000000173183.jpg\n",
            "No detection at coco/images/val2017/000000267946.jpg\n",
            "No detection at coco/images/val2017/000000268996.jpg\n",
            "No detection at coco/images/val2017/000000374727.jpg\n",
            "               Class      Images      Labels   Precision      Recall      mAP@.5  mAP@.5:.95\n",
            "                 all           0       36335       0.419        0.23       0.206      0.0597\n"
          ]
        }
      ],
      "source": [
        "# Run yolox test\n",
        "mp, mr, map50, map, maps, num_images, labels = yolox_test(\n",
        "    data=data, model=exec_net, dataloader=dataloader[1], names=COCO_CLASSES)\n",
        "\n",
        "# Print calculated result\n",
        "s = ('%20s' + '%12s' * 6) % ('Class', 'Images', 'Labels', 'Precision',\n",
        "                             'Recall', 'mAP@.5', 'mAP@.5:.95')\n",
        "print(s)\n",
        "pf = '%20s' + '%12i' * 2 + '%12.3g' * 4\n",
        "print(pf % ('all', num_images, labels, mp, mr, map50, map))"
      ]
    },
    {
      "cell_type": "code",
      "execution_count": null,
      "metadata": {
        "id": "vl2AlaZMczCD"
      },
      "outputs": [],
      "source": []
    }
  ],
  "metadata": {
    "colab": {
      "provenance": []
    },
    "kernelspec": {
      "display_name": "openvino-dev",
      "language": "python",
      "name": "python3"
    },
    "language_info": {
      "codemirror_mode": {
        "name": "ipython",
        "version": 3
      },
      "file_extension": ".py",
      "mimetype": "text/x-python",
      "name": "python",
      "nbconvert_exporter": "python",
      "pygments_lexer": "ipython3",
      "version": "3.10.9"
    },
    "vscode": {
      "interpreter": {
        "hash": "53afd51bfe807bb4ff88c4ce24ba3bfae39d378265c52a6c329dbe62d27be878"
      }
    },
    "widgets": {
      "application/vnd.jupyter.widget-state+json": {
        "015fee26a96e420e9ec851db82705b3d": {
          "model_module": "@jupyter-widgets/base",
          "model_module_version": "1.2.0",
          "model_name": "LayoutModel",
          "state": {
            "_model_module": "@jupyter-widgets/base",
            "_model_module_version": "1.2.0",
            "_model_name": "LayoutModel",
            "_view_count": null,
            "_view_module": "@jupyter-widgets/base",
            "_view_module_version": "1.2.0",
            "_view_name": "LayoutView",
            "align_content": null,
            "align_items": null,
            "align_self": null,
            "border": null,
            "bottom": null,
            "display": null,
            "flex": null,
            "flex_flow": null,
            "grid_area": null,
            "grid_auto_columns": null,
            "grid_auto_flow": null,
            "grid_auto_rows": null,
            "grid_column": null,
            "grid_gap": null,
            "grid_row": null,
            "grid_template_areas": null,
            "grid_template_columns": null,
            "grid_template_rows": null,
            "height": null,
            "justify_content": null,
            "justify_items": null,
            "left": null,
            "margin": null,
            "max_height": null,
            "max_width": null,
            "min_height": null,
            "min_width": null,
            "object_fit": null,
            "object_position": null,
            "order": null,
            "overflow": null,
            "overflow_x": null,
            "overflow_y": null,
            "padding": null,
            "right": null,
            "top": null,
            "visibility": null,
            "width": null
          }
        },
        "0761fe338ff64c7586fc739149bd5170": {
          "model_module": "@jupyter-widgets/controls",
          "model_module_version": "1.5.0",
          "model_name": "DescriptionStyleModel",
          "state": {
            "_model_module": "@jupyter-widgets/controls",
            "_model_module_version": "1.5.0",
            "_model_name": "DescriptionStyleModel",
            "_view_count": null,
            "_view_module": "@jupyter-widgets/base",
            "_view_module_version": "1.2.0",
            "_view_name": "StyleView",
            "description_width": ""
          }
        },
        "07ab68eaffcc4296a2adb0129993fa8b": {
          "model_module": "@jupyter-widgets/base",
          "model_module_version": "1.2.0",
          "model_name": "LayoutModel",
          "state": {
            "_model_module": "@jupyter-widgets/base",
            "_model_module_version": "1.2.0",
            "_model_name": "LayoutModel",
            "_view_count": null,
            "_view_module": "@jupyter-widgets/base",
            "_view_module_version": "1.2.0",
            "_view_name": "LayoutView",
            "align_content": null,
            "align_items": null,
            "align_self": null,
            "border": null,
            "bottom": null,
            "display": null,
            "flex": null,
            "flex_flow": null,
            "grid_area": null,
            "grid_auto_columns": null,
            "grid_auto_flow": null,
            "grid_auto_rows": null,
            "grid_column": null,
            "grid_gap": null,
            "grid_row": null,
            "grid_template_areas": null,
            "grid_template_columns": null,
            "grid_template_rows": null,
            "height": null,
            "justify_content": null,
            "justify_items": null,
            "left": null,
            "margin": null,
            "max_height": null,
            "max_width": null,
            "min_height": null,
            "min_width": null,
            "object_fit": null,
            "object_position": null,
            "order": null,
            "overflow": null,
            "overflow_x": null,
            "overflow_y": null,
            "padding": null,
            "right": null,
            "top": null,
            "visibility": null,
            "width": null
          }
        },
        "0e2575ea12ad465280e1a31e16b388b8": {
          "model_module": "@jupyter-widgets/controls",
          "model_module_version": "1.5.0",
          "model_name": "FloatProgressModel",
          "state": {
            "_dom_classes": [],
            "_model_module": "@jupyter-widgets/controls",
            "_model_module_version": "1.5.0",
            "_model_name": "FloatProgressModel",
            "_view_count": null,
            "_view_module": "@jupyter-widgets/controls",
            "_view_module_version": "1.5.0",
            "_view_name": "ProgressView",
            "bar_style": "success",
            "description": "",
            "description_tooltip": null,
            "layout": "IPY_MODEL_324d5ff2300c4bf7ad5ec9fc6568fd1a",
            "max": 815585330,
            "min": 0,
            "orientation": "horizontal",
            "style": "IPY_MODEL_45079417e13c419093f87c1a031e0278",
            "value": 815585330
          }
        },
        "16f5be9977ce4a7994cdbfbb37aed2a5": {
          "model_module": "@jupyter-widgets/base",
          "model_module_version": "1.2.0",
          "model_name": "LayoutModel",
          "state": {
            "_model_module": "@jupyter-widgets/base",
            "_model_module_version": "1.2.0",
            "_model_name": "LayoutModel",
            "_view_count": null,
            "_view_module": "@jupyter-widgets/base",
            "_view_module_version": "1.2.0",
            "_view_name": "LayoutView",
            "align_content": null,
            "align_items": null,
            "align_self": null,
            "border": null,
            "bottom": null,
            "display": null,
            "flex": null,
            "flex_flow": null,
            "grid_area": null,
            "grid_auto_columns": null,
            "grid_auto_flow": null,
            "grid_auto_rows": null,
            "grid_column": null,
            "grid_gap": null,
            "grid_row": null,
            "grid_template_areas": null,
            "grid_template_columns": null,
            "grid_template_rows": null,
            "height": null,
            "justify_content": null,
            "justify_items": null,
            "left": null,
            "margin": null,
            "max_height": null,
            "max_width": null,
            "min_height": null,
            "min_width": null,
            "object_fit": null,
            "object_position": null,
            "order": null,
            "overflow": null,
            "overflow_x": null,
            "overflow_y": null,
            "padding": null,
            "right": null,
            "top": null,
            "visibility": null,
            "width": null
          }
        },
        "1be9785b6656456fa157b9bffe6bb538": {
          "model_module": "@jupyter-widgets/controls",
          "model_module_version": "1.5.0",
          "model_name": "HBoxModel",
          "state": {
            "_dom_classes": [],
            "_model_module": "@jupyter-widgets/controls",
            "_model_module_version": "1.5.0",
            "_model_name": "HBoxModel",
            "_view_count": null,
            "_view_module": "@jupyter-widgets/controls",
            "_view_module_version": "1.5.0",
            "_view_name": "HBoxView",
            "box_style": "",
            "children": [
              "IPY_MODEL_7ff0e970ad9945ada72610e21db1d8a3",
              "IPY_MODEL_a74f81d50a174fe8a27d89a3486f5c2c",
              "IPY_MODEL_a1442fc9e06846728e1a209a43635bc5"
            ],
            "layout": "IPY_MODEL_16f5be9977ce4a7994cdbfbb37aed2a5"
          }
        },
        "24996825832348f3ad9906e3177c2aca": {
          "model_module": "@jupyter-widgets/base",
          "model_module_version": "1.2.0",
          "model_name": "LayoutModel",
          "state": {
            "_model_module": "@jupyter-widgets/base",
            "_model_module_version": "1.2.0",
            "_model_name": "LayoutModel",
            "_view_count": null,
            "_view_module": "@jupyter-widgets/base",
            "_view_module_version": "1.2.0",
            "_view_name": "LayoutView",
            "align_content": null,
            "align_items": null,
            "align_self": null,
            "border": null,
            "bottom": null,
            "display": null,
            "flex": null,
            "flex_flow": null,
            "grid_area": null,
            "grid_auto_columns": null,
            "grid_auto_flow": null,
            "grid_auto_rows": null,
            "grid_column": null,
            "grid_gap": null,
            "grid_row": null,
            "grid_template_areas": null,
            "grid_template_columns": null,
            "grid_template_rows": null,
            "height": null,
            "justify_content": null,
            "justify_items": null,
            "left": null,
            "margin": null,
            "max_height": null,
            "max_width": null,
            "min_height": null,
            "min_width": null,
            "object_fit": null,
            "object_position": null,
            "order": null,
            "overflow": null,
            "overflow_x": null,
            "overflow_y": null,
            "padding": null,
            "right": null,
            "top": null,
            "visibility": null,
            "width": null
          }
        },
        "29e48f1b8ba349d3a938e839cb139ff9": {
          "model_module": "@jupyter-widgets/base",
          "model_module_version": "1.2.0",
          "model_name": "LayoutModel",
          "state": {
            "_model_module": "@jupyter-widgets/base",
            "_model_module_version": "1.2.0",
            "_model_name": "LayoutModel",
            "_view_count": null,
            "_view_module": "@jupyter-widgets/base",
            "_view_module_version": "1.2.0",
            "_view_name": "LayoutView",
            "align_content": null,
            "align_items": null,
            "align_self": null,
            "border": null,
            "bottom": null,
            "display": null,
            "flex": null,
            "flex_flow": null,
            "grid_area": null,
            "grid_auto_columns": null,
            "grid_auto_flow": null,
            "grid_auto_rows": null,
            "grid_column": null,
            "grid_gap": null,
            "grid_row": null,
            "grid_template_areas": null,
            "grid_template_columns": null,
            "grid_template_rows": null,
            "height": null,
            "justify_content": null,
            "justify_items": null,
            "left": null,
            "margin": null,
            "max_height": null,
            "max_width": null,
            "min_height": null,
            "min_width": null,
            "object_fit": null,
            "object_position": null,
            "order": null,
            "overflow": null,
            "overflow_x": null,
            "overflow_y": null,
            "padding": null,
            "right": null,
            "top": null,
            "visibility": null,
            "width": null
          }
        },
        "2ab8877533b14e3e939419079407a7e9": {
          "model_module": "@jupyter-widgets/base",
          "model_module_version": "1.2.0",
          "model_name": "LayoutModel",
          "state": {
            "_model_module": "@jupyter-widgets/base",
            "_model_module_version": "1.2.0",
            "_model_name": "LayoutModel",
            "_view_count": null,
            "_view_module": "@jupyter-widgets/base",
            "_view_module_version": "1.2.0",
            "_view_name": "LayoutView",
            "align_content": null,
            "align_items": null,
            "align_self": null,
            "border": null,
            "bottom": null,
            "display": null,
            "flex": null,
            "flex_flow": null,
            "grid_area": null,
            "grid_auto_columns": null,
            "grid_auto_flow": null,
            "grid_auto_rows": null,
            "grid_column": null,
            "grid_gap": null,
            "grid_row": null,
            "grid_template_areas": null,
            "grid_template_columns": null,
            "grid_template_rows": null,
            "height": null,
            "justify_content": null,
            "justify_items": null,
            "left": null,
            "margin": null,
            "max_height": null,
            "max_width": null,
            "min_height": null,
            "min_width": null,
            "object_fit": null,
            "object_position": null,
            "order": null,
            "overflow": null,
            "overflow_x": null,
            "overflow_y": null,
            "padding": null,
            "right": null,
            "top": null,
            "visibility": null,
            "width": null
          }
        },
        "2ca6de9383894b4e840287cb134f1c1a": {
          "model_module": "@jupyter-widgets/controls",
          "model_module_version": "1.5.0",
          "model_name": "HTMLModel",
          "state": {
            "_dom_classes": [],
            "_model_module": "@jupyter-widgets/controls",
            "_model_module_version": "1.5.0",
            "_model_name": "HTMLModel",
            "_view_count": null,
            "_view_module": "@jupyter-widgets/controls",
            "_view_module_version": "1.5.0",
            "_view_name": "HTMLView",
            "description": "",
            "description_tooltip": null,
            "layout": "IPY_MODEL_a97e09215a5c4025aeba42a82dc9c85b",
            "placeholder": "​",
            "style": "IPY_MODEL_acb6daf967c64a3183eef718ee1519b2",
            "value": "100%"
          }
        },
        "324d5ff2300c4bf7ad5ec9fc6568fd1a": {
          "model_module": "@jupyter-widgets/base",
          "model_module_version": "1.2.0",
          "model_name": "LayoutModel",
          "state": {
            "_model_module": "@jupyter-widgets/base",
            "_model_module_version": "1.2.0",
            "_model_name": "LayoutModel",
            "_view_count": null,
            "_view_module": "@jupyter-widgets/base",
            "_view_module_version": "1.2.0",
            "_view_name": "LayoutView",
            "align_content": null,
            "align_items": null,
            "align_self": null,
            "border": null,
            "bottom": null,
            "display": null,
            "flex": null,
            "flex_flow": null,
            "grid_area": null,
            "grid_auto_columns": null,
            "grid_auto_flow": null,
            "grid_auto_rows": null,
            "grid_column": null,
            "grid_gap": null,
            "grid_row": null,
            "grid_template_areas": null,
            "grid_template_columns": null,
            "grid_template_rows": null,
            "height": null,
            "justify_content": null,
            "justify_items": null,
            "left": null,
            "margin": null,
            "max_height": null,
            "max_width": null,
            "min_height": null,
            "min_width": null,
            "object_fit": null,
            "object_position": null,
            "order": null,
            "overflow": null,
            "overflow_x": null,
            "overflow_y": null,
            "padding": null,
            "right": null,
            "top": null,
            "visibility": null,
            "width": null
          }
        },
        "32e35278e48f4b638f2999b5b3b49577": {
          "model_module": "@jupyter-widgets/base",
          "model_module_version": "1.2.0",
          "model_name": "LayoutModel",
          "state": {
            "_model_module": "@jupyter-widgets/base",
            "_model_module_version": "1.2.0",
            "_model_name": "LayoutModel",
            "_view_count": null,
            "_view_module": "@jupyter-widgets/base",
            "_view_module_version": "1.2.0",
            "_view_name": "LayoutView",
            "align_content": null,
            "align_items": null,
            "align_self": null,
            "border": null,
            "bottom": null,
            "display": null,
            "flex": null,
            "flex_flow": null,
            "grid_area": null,
            "grid_auto_columns": null,
            "grid_auto_flow": null,
            "grid_auto_rows": null,
            "grid_column": null,
            "grid_gap": null,
            "grid_row": null,
            "grid_template_areas": null,
            "grid_template_columns": null,
            "grid_template_rows": null,
            "height": null,
            "justify_content": null,
            "justify_items": null,
            "left": null,
            "margin": null,
            "max_height": null,
            "max_width": null,
            "min_height": null,
            "min_width": null,
            "object_fit": null,
            "object_position": null,
            "order": null,
            "overflow": null,
            "overflow_x": null,
            "overflow_y": null,
            "padding": null,
            "right": null,
            "top": null,
            "visibility": null,
            "width": null
          }
        },
        "36d1a5a511cc4ff5b368c9ed294c58bc": {
          "model_module": "@jupyter-widgets/controls",
          "model_module_version": "1.5.0",
          "model_name": "DescriptionStyleModel",
          "state": {
            "_model_module": "@jupyter-widgets/controls",
            "_model_module_version": "1.5.0",
            "_model_name": "DescriptionStyleModel",
            "_view_count": null,
            "_view_module": "@jupyter-widgets/base",
            "_view_module_version": "1.2.0",
            "_view_name": "StyleView",
            "description_width": ""
          }
        },
        "3c1a77d0f54347b19183a5290022bd73": {
          "model_module": "@jupyter-widgets/controls",
          "model_module_version": "1.5.0",
          "model_name": "HBoxModel",
          "state": {
            "_dom_classes": [],
            "_model_module": "@jupyter-widgets/controls",
            "_model_module_version": "1.5.0",
            "_model_name": "HBoxModel",
            "_view_count": null,
            "_view_module": "@jupyter-widgets/controls",
            "_view_module_version": "1.5.0",
            "_view_name": "HBoxView",
            "box_style": "",
            "children": [
              "IPY_MODEL_c5397f04769345f0a3b0dd8843ccccdb",
              "IPY_MODEL_e02a47daf66f416689796382969af6f2",
              "IPY_MODEL_d153cf0f2e464577be2be9f36719c6df"
            ],
            "layout": "IPY_MODEL_4cd12820683547e88fff5c9a88ddab67"
          }
        },
        "42c95448835d48ed965a8224c088b963": {
          "model_module": "@jupyter-widgets/controls",
          "model_module_version": "1.5.0",
          "model_name": "HTMLModel",
          "state": {
            "_dom_classes": [],
            "_model_module": "@jupyter-widgets/controls",
            "_model_module_version": "1.5.0",
            "_model_name": "HTMLModel",
            "_view_count": null,
            "_view_module": "@jupyter-widgets/controls",
            "_view_module_version": "1.5.0",
            "_view_name": "HTMLView",
            "description": "",
            "description_tooltip": null,
            "layout": "IPY_MODEL_ff9504ace8314675bdfe3435c01549e0",
            "placeholder": "​",
            "style": "IPY_MODEL_870719e82f994092a31170fcfa281416",
            "value": "val2017.zip: 100%"
          }
        },
        "45079417e13c419093f87c1a031e0278": {
          "model_module": "@jupyter-widgets/controls",
          "model_module_version": "1.5.0",
          "model_name": "ProgressStyleModel",
          "state": {
            "_model_module": "@jupyter-widgets/controls",
            "_model_module_version": "1.5.0",
            "_model_name": "ProgressStyleModel",
            "_view_count": null,
            "_view_module": "@jupyter-widgets/base",
            "_view_module_version": "1.2.0",
            "_view_name": "StyleView",
            "bar_color": null,
            "description_width": ""
          }
        },
        "47575921d1724bf28127e40657e677f0": {
          "model_module": "@jupyter-widgets/base",
          "model_module_version": "1.2.0",
          "model_name": "LayoutModel",
          "state": {
            "_model_module": "@jupyter-widgets/base",
            "_model_module_version": "1.2.0",
            "_model_name": "LayoutModel",
            "_view_count": null,
            "_view_module": "@jupyter-widgets/base",
            "_view_module_version": "1.2.0",
            "_view_name": "LayoutView",
            "align_content": null,
            "align_items": null,
            "align_self": null,
            "border": null,
            "bottom": null,
            "display": null,
            "flex": null,
            "flex_flow": null,
            "grid_area": null,
            "grid_auto_columns": null,
            "grid_auto_flow": null,
            "grid_auto_rows": null,
            "grid_column": null,
            "grid_gap": null,
            "grid_row": null,
            "grid_template_areas": null,
            "grid_template_columns": null,
            "grid_template_rows": null,
            "height": null,
            "justify_content": null,
            "justify_items": null,
            "left": null,
            "margin": null,
            "max_height": null,
            "max_width": null,
            "min_height": null,
            "min_width": null,
            "object_fit": null,
            "object_position": null,
            "order": null,
            "overflow": null,
            "overflow_x": null,
            "overflow_y": null,
            "padding": null,
            "right": null,
            "top": null,
            "visibility": null,
            "width": null
          }
        },
        "4a9802f5b31744108460920ce8e13500": {
          "model_module": "@jupyter-widgets/base",
          "model_module_version": "1.2.0",
          "model_name": "LayoutModel",
          "state": {
            "_model_module": "@jupyter-widgets/base",
            "_model_module_version": "1.2.0",
            "_model_name": "LayoutModel",
            "_view_count": null,
            "_view_module": "@jupyter-widgets/base",
            "_view_module_version": "1.2.0",
            "_view_name": "LayoutView",
            "align_content": null,
            "align_items": null,
            "align_self": null,
            "border": null,
            "bottom": null,
            "display": null,
            "flex": null,
            "flex_flow": null,
            "grid_area": null,
            "grid_auto_columns": null,
            "grid_auto_flow": null,
            "grid_auto_rows": null,
            "grid_column": null,
            "grid_gap": null,
            "grid_row": null,
            "grid_template_areas": null,
            "grid_template_columns": null,
            "grid_template_rows": null,
            "height": null,
            "justify_content": null,
            "justify_items": null,
            "left": null,
            "margin": null,
            "max_height": null,
            "max_width": null,
            "min_height": null,
            "min_width": null,
            "object_fit": null,
            "object_position": null,
            "order": null,
            "overflow": null,
            "overflow_x": null,
            "overflow_y": null,
            "padding": null,
            "right": null,
            "top": null,
            "visibility": null,
            "width": null
          }
        },
        "4cd12820683547e88fff5c9a88ddab67": {
          "model_module": "@jupyter-widgets/base",
          "model_module_version": "1.2.0",
          "model_name": "LayoutModel",
          "state": {
            "_model_module": "@jupyter-widgets/base",
            "_model_module_version": "1.2.0",
            "_model_name": "LayoutModel",
            "_view_count": null,
            "_view_module": "@jupyter-widgets/base",
            "_view_module_version": "1.2.0",
            "_view_name": "LayoutView",
            "align_content": null,
            "align_items": null,
            "align_self": null,
            "border": null,
            "bottom": null,
            "display": null,
            "flex": null,
            "flex_flow": null,
            "grid_area": null,
            "grid_auto_columns": null,
            "grid_auto_flow": null,
            "grid_auto_rows": null,
            "grid_column": null,
            "grid_gap": null,
            "grid_row": null,
            "grid_template_areas": null,
            "grid_template_columns": null,
            "grid_template_rows": null,
            "height": null,
            "justify_content": null,
            "justify_items": null,
            "left": null,
            "margin": null,
            "max_height": null,
            "max_width": null,
            "min_height": null,
            "min_width": null,
            "object_fit": null,
            "object_position": null,
            "order": null,
            "overflow": null,
            "overflow_x": null,
            "overflow_y": null,
            "padding": null,
            "right": null,
            "top": null,
            "visibility": null,
            "width": null
          }
        },
        "5059741d75ae413db8e0b68501e0641b": {
          "model_module": "@jupyter-widgets/controls",
          "model_module_version": "1.5.0",
          "model_name": "ProgressStyleModel",
          "state": {
            "_model_module": "@jupyter-widgets/controls",
            "_model_module_version": "1.5.0",
            "_model_name": "ProgressStyleModel",
            "_view_count": null,
            "_view_module": "@jupyter-widgets/base",
            "_view_module_version": "1.2.0",
            "_view_name": "StyleView",
            "bar_color": null,
            "description_width": ""
          }
        },
        "50a40cce44ba4dc3bfdbaa9982579f8f": {
          "model_module": "@jupyter-widgets/controls",
          "model_module_version": "1.5.0",
          "model_name": "HTMLModel",
          "state": {
            "_dom_classes": [],
            "_model_module": "@jupyter-widgets/controls",
            "_model_module_version": "1.5.0",
            "_model_name": "HTMLModel",
            "_view_count": null,
            "_view_module": "@jupyter-widgets/controls",
            "_view_module_version": "1.5.0",
            "_view_name": "HTMLView",
            "description": "",
            "description_tooltip": null,
            "layout": "IPY_MODEL_d3f8f7ce4e8b49b9bbca6662ccb56ddb",
            "placeholder": "​",
            "style": "IPY_MODEL_f0b06304623944659668178b4edf46b2",
            "value": " 778M/778M [00:19&lt;00:00, 46.2MB/s]"
          }
        },
        "6337f6630e474a35ab6d8def476cef13": {
          "model_module": "@jupyter-widgets/controls",
          "model_module_version": "1.5.0",
          "model_name": "DescriptionStyleModel",
          "state": {
            "_model_module": "@jupyter-widgets/controls",
            "_model_module_version": "1.5.0",
            "_model_name": "DescriptionStyleModel",
            "_view_count": null,
            "_view_module": "@jupyter-widgets/base",
            "_view_module_version": "1.2.0",
            "_view_name": "StyleView",
            "description_width": ""
          }
        },
        "64e31adfac34436b976bb2c11e0a222f": {
          "model_module": "@jupyter-widgets/controls",
          "model_module_version": "1.5.0",
          "model_name": "HBoxModel",
          "state": {
            "_dom_classes": [],
            "_model_module": "@jupyter-widgets/controls",
            "_model_module_version": "1.5.0",
            "_model_name": "HBoxModel",
            "_view_count": null,
            "_view_module": "@jupyter-widgets/controls",
            "_view_module_version": "1.5.0",
            "_view_name": "HBoxView",
            "box_style": "",
            "children": [
              "IPY_MODEL_2ca6de9383894b4e840287cb134f1c1a",
              "IPY_MODEL_94a73c3466894ec1a0edce8f7fa61f88",
              "IPY_MODEL_e766fba721ac4887bb548583289a920f"
            ],
            "layout": "IPY_MODEL_aace6c11993a4362b7b93ff48db205a2"
          }
        },
        "6996c965b4844d51a2a2f61f60e28f1d": {
          "model_module": "@jupyter-widgets/controls",
          "model_module_version": "1.5.0",
          "model_name": "DescriptionStyleModel",
          "state": {
            "_model_module": "@jupyter-widgets/controls",
            "_model_module_version": "1.5.0",
            "_model_name": "DescriptionStyleModel",
            "_view_count": null,
            "_view_module": "@jupyter-widgets/base",
            "_view_module_version": "1.2.0",
            "_view_name": "StyleView",
            "description_width": ""
          }
        },
        "75d81c776412445baccf6d4e6dfa9034": {
          "model_module": "@jupyter-widgets/controls",
          "model_module_version": "1.5.0",
          "model_name": "HBoxModel",
          "state": {
            "_dom_classes": [],
            "_model_module": "@jupyter-widgets/controls",
            "_model_module_version": "1.5.0",
            "_model_name": "HBoxModel",
            "_view_count": null,
            "_view_module": "@jupyter-widgets/controls",
            "_view_module_version": "1.5.0",
            "_view_name": "HBoxView",
            "box_style": "",
            "children": [
              "IPY_MODEL_42c95448835d48ed965a8224c088b963",
              "IPY_MODEL_0e2575ea12ad465280e1a31e16b388b8",
              "IPY_MODEL_50a40cce44ba4dc3bfdbaa9982579f8f"
            ],
            "layout": "IPY_MODEL_32e35278e48f4b638f2999b5b3b49577"
          }
        },
        "7ff0e970ad9945ada72610e21db1d8a3": {
          "model_module": "@jupyter-widgets/controls",
          "model_module_version": "1.5.0",
          "model_name": "HTMLModel",
          "state": {
            "_dom_classes": [],
            "_model_module": "@jupyter-widgets/controls",
            "_model_module_version": "1.5.0",
            "_model_name": "HTMLModel",
            "_view_count": null,
            "_view_module": "@jupyter-widgets/controls",
            "_view_module_version": "1.5.0",
            "_view_name": "HTMLView",
            "description": "",
            "description_tooltip": null,
            "layout": "IPY_MODEL_29e48f1b8ba349d3a938e839cb139ff9",
            "placeholder": "​",
            "style": "IPY_MODEL_f4c1971b3b0241d8873df69170ea4d5d",
            "value": "yolox_nano.pth: 100%"
          }
        },
        "870719e82f994092a31170fcfa281416": {
          "model_module": "@jupyter-widgets/controls",
          "model_module_version": "1.5.0",
          "model_name": "DescriptionStyleModel",
          "state": {
            "_model_module": "@jupyter-widgets/controls",
            "_model_module_version": "1.5.0",
            "_model_name": "DescriptionStyleModel",
            "_view_count": null,
            "_view_module": "@jupyter-widgets/base",
            "_view_module_version": "1.2.0",
            "_view_name": "StyleView",
            "description_width": ""
          }
        },
        "94a73c3466894ec1a0edce8f7fa61f88": {
          "model_module": "@jupyter-widgets/controls",
          "model_module_version": "1.5.0",
          "model_name": "FloatProgressModel",
          "state": {
            "_dom_classes": [],
            "_model_module": "@jupyter-widgets/controls",
            "_model_module_version": "1.5.0",
            "_model_name": "FloatProgressModel",
            "_view_count": null,
            "_view_module": "@jupyter-widgets/controls",
            "_view_module_version": "1.5.0",
            "_view_name": "ProgressView",
            "bar_style": "success",
            "description": "",
            "description_tooltip": null,
            "layout": "IPY_MODEL_2ab8877533b14e3e939419079407a7e9",
            "max": 5000,
            "min": 0,
            "orientation": "horizontal",
            "style": "IPY_MODEL_dc2bd4517c2d4ac79edecce588a12332",
            "value": 5000
          }
        },
        "a1442fc9e06846728e1a209a43635bc5": {
          "model_module": "@jupyter-widgets/controls",
          "model_module_version": "1.5.0",
          "model_name": "HTMLModel",
          "state": {
            "_dom_classes": [],
            "_model_module": "@jupyter-widgets/controls",
            "_model_module_version": "1.5.0",
            "_model_name": "HTMLModel",
            "_view_count": null,
            "_view_module": "@jupyter-widgets/controls",
            "_view_module_version": "1.5.0",
            "_view_name": "HTMLView",
            "description": "",
            "description_tooltip": null,
            "layout": "IPY_MODEL_c5d63ccfd12e467eb3345d5fbe419d93",
            "placeholder": "​",
            "style": "IPY_MODEL_6337f6630e474a35ab6d8def476cef13",
            "value": " 7.34M/7.34M [00:00&lt;00:00, 13.0MB/s]"
          }
        },
        "a74f81d50a174fe8a27d89a3486f5c2c": {
          "model_module": "@jupyter-widgets/controls",
          "model_module_version": "1.5.0",
          "model_name": "FloatProgressModel",
          "state": {
            "_dom_classes": [],
            "_model_module": "@jupyter-widgets/controls",
            "_model_module_version": "1.5.0",
            "_model_name": "FloatProgressModel",
            "_view_count": null,
            "_view_module": "@jupyter-widgets/controls",
            "_view_module_version": "1.5.0",
            "_view_name": "ProgressView",
            "bar_style": "success",
            "description": "",
            "description_tooltip": null,
            "layout": "IPY_MODEL_4a9802f5b31744108460920ce8e13500",
            "max": 7694953,
            "min": 0,
            "orientation": "horizontal",
            "style": "IPY_MODEL_d59fca76045b4b24b7bab6e6ad86f798",
            "value": 7694953
          }
        },
        "a97e09215a5c4025aeba42a82dc9c85b": {
          "model_module": "@jupyter-widgets/base",
          "model_module_version": "1.2.0",
          "model_name": "LayoutModel",
          "state": {
            "_model_module": "@jupyter-widgets/base",
            "_model_module_version": "1.2.0",
            "_model_name": "LayoutModel",
            "_view_count": null,
            "_view_module": "@jupyter-widgets/base",
            "_view_module_version": "1.2.0",
            "_view_name": "LayoutView",
            "align_content": null,
            "align_items": null,
            "align_self": null,
            "border": null,
            "bottom": null,
            "display": null,
            "flex": null,
            "flex_flow": null,
            "grid_area": null,
            "grid_auto_columns": null,
            "grid_auto_flow": null,
            "grid_auto_rows": null,
            "grid_column": null,
            "grid_gap": null,
            "grid_row": null,
            "grid_template_areas": null,
            "grid_template_columns": null,
            "grid_template_rows": null,
            "height": null,
            "justify_content": null,
            "justify_items": null,
            "left": null,
            "margin": null,
            "max_height": null,
            "max_width": null,
            "min_height": null,
            "min_width": null,
            "object_fit": null,
            "object_position": null,
            "order": null,
            "overflow": null,
            "overflow_x": null,
            "overflow_y": null,
            "padding": null,
            "right": null,
            "top": null,
            "visibility": null,
            "width": null
          }
        },
        "aace6c11993a4362b7b93ff48db205a2": {
          "model_module": "@jupyter-widgets/base",
          "model_module_version": "1.2.0",
          "model_name": "LayoutModel",
          "state": {
            "_model_module": "@jupyter-widgets/base",
            "_model_module_version": "1.2.0",
            "_model_name": "LayoutModel",
            "_view_count": null,
            "_view_module": "@jupyter-widgets/base",
            "_view_module_version": "1.2.0",
            "_view_name": "LayoutView",
            "align_content": null,
            "align_items": null,
            "align_self": null,
            "border": null,
            "bottom": null,
            "display": null,
            "flex": null,
            "flex_flow": null,
            "grid_area": null,
            "grid_auto_columns": null,
            "grid_auto_flow": null,
            "grid_auto_rows": null,
            "grid_column": null,
            "grid_gap": null,
            "grid_row": null,
            "grid_template_areas": null,
            "grid_template_columns": null,
            "grid_template_rows": null,
            "height": null,
            "justify_content": null,
            "justify_items": null,
            "left": null,
            "margin": null,
            "max_height": null,
            "max_width": null,
            "min_height": null,
            "min_width": null,
            "object_fit": null,
            "object_position": null,
            "order": null,
            "overflow": null,
            "overflow_x": null,
            "overflow_y": null,
            "padding": null,
            "right": null,
            "top": null,
            "visibility": null,
            "width": null
          }
        },
        "acb6daf967c64a3183eef718ee1519b2": {
          "model_module": "@jupyter-widgets/controls",
          "model_module_version": "1.5.0",
          "model_name": "DescriptionStyleModel",
          "state": {
            "_model_module": "@jupyter-widgets/controls",
            "_model_module_version": "1.5.0",
            "_model_name": "DescriptionStyleModel",
            "_view_count": null,
            "_view_module": "@jupyter-widgets/base",
            "_view_module_version": "1.2.0",
            "_view_name": "StyleView",
            "description_width": ""
          }
        },
        "c5397f04769345f0a3b0dd8843ccccdb": {
          "model_module": "@jupyter-widgets/controls",
          "model_module_version": "1.5.0",
          "model_name": "HTMLModel",
          "state": {
            "_dom_classes": [],
            "_model_module": "@jupyter-widgets/controls",
            "_model_module_version": "1.5.0",
            "_model_name": "HTMLModel",
            "_view_count": null,
            "_view_module": "@jupyter-widgets/controls",
            "_view_module_version": "1.5.0",
            "_view_name": "HTMLView",
            "description": "",
            "description_tooltip": null,
            "layout": "IPY_MODEL_015fee26a96e420e9ec851db82705b3d",
            "placeholder": "​",
            "style": "IPY_MODEL_36d1a5a511cc4ff5b368c9ed294c58bc",
            "value": "coco2017labels-segments.zip: 100%"
          }
        },
        "c5d63ccfd12e467eb3345d5fbe419d93": {
          "model_module": "@jupyter-widgets/base",
          "model_module_version": "1.2.0",
          "model_name": "LayoutModel",
          "state": {
            "_model_module": "@jupyter-widgets/base",
            "_model_module_version": "1.2.0",
            "_model_name": "LayoutModel",
            "_view_count": null,
            "_view_module": "@jupyter-widgets/base",
            "_view_module_version": "1.2.0",
            "_view_name": "LayoutView",
            "align_content": null,
            "align_items": null,
            "align_self": null,
            "border": null,
            "bottom": null,
            "display": null,
            "flex": null,
            "flex_flow": null,
            "grid_area": null,
            "grid_auto_columns": null,
            "grid_auto_flow": null,
            "grid_auto_rows": null,
            "grid_column": null,
            "grid_gap": null,
            "grid_row": null,
            "grid_template_areas": null,
            "grid_template_columns": null,
            "grid_template_rows": null,
            "height": null,
            "justify_content": null,
            "justify_items": null,
            "left": null,
            "margin": null,
            "max_height": null,
            "max_width": null,
            "min_height": null,
            "min_width": null,
            "object_fit": null,
            "object_position": null,
            "order": null,
            "overflow": null,
            "overflow_x": null,
            "overflow_y": null,
            "padding": null,
            "right": null,
            "top": null,
            "visibility": null,
            "width": null
          }
        },
        "d153cf0f2e464577be2be9f36719c6df": {
          "model_module": "@jupyter-widgets/controls",
          "model_module_version": "1.5.0",
          "model_name": "HTMLModel",
          "state": {
            "_dom_classes": [],
            "_model_module": "@jupyter-widgets/controls",
            "_model_module_version": "1.5.0",
            "_model_name": "HTMLModel",
            "_view_count": null,
            "_view_module": "@jupyter-widgets/controls",
            "_view_module_version": "1.5.0",
            "_view_name": "HTMLView",
            "description": "",
            "description_tooltip": null,
            "layout": "IPY_MODEL_07ab68eaffcc4296a2adb0129993fa8b",
            "placeholder": "​",
            "style": "IPY_MODEL_0761fe338ff64c7586fc739149bd5170",
            "value": " 169M/169M [00:03&lt;00:00, 37.4MB/s]"
          }
        },
        "d3f8f7ce4e8b49b9bbca6662ccb56ddb": {
          "model_module": "@jupyter-widgets/base",
          "model_module_version": "1.2.0",
          "model_name": "LayoutModel",
          "state": {
            "_model_module": "@jupyter-widgets/base",
            "_model_module_version": "1.2.0",
            "_model_name": "LayoutModel",
            "_view_count": null,
            "_view_module": "@jupyter-widgets/base",
            "_view_module_version": "1.2.0",
            "_view_name": "LayoutView",
            "align_content": null,
            "align_items": null,
            "align_self": null,
            "border": null,
            "bottom": null,
            "display": null,
            "flex": null,
            "flex_flow": null,
            "grid_area": null,
            "grid_auto_columns": null,
            "grid_auto_flow": null,
            "grid_auto_rows": null,
            "grid_column": null,
            "grid_gap": null,
            "grid_row": null,
            "grid_template_areas": null,
            "grid_template_columns": null,
            "grid_template_rows": null,
            "height": null,
            "justify_content": null,
            "justify_items": null,
            "left": null,
            "margin": null,
            "max_height": null,
            "max_width": null,
            "min_height": null,
            "min_width": null,
            "object_fit": null,
            "object_position": null,
            "order": null,
            "overflow": null,
            "overflow_x": null,
            "overflow_y": null,
            "padding": null,
            "right": null,
            "top": null,
            "visibility": null,
            "width": null
          }
        },
        "d59fca76045b4b24b7bab6e6ad86f798": {
          "model_module": "@jupyter-widgets/controls",
          "model_module_version": "1.5.0",
          "model_name": "ProgressStyleModel",
          "state": {
            "_model_module": "@jupyter-widgets/controls",
            "_model_module_version": "1.5.0",
            "_model_name": "ProgressStyleModel",
            "_view_count": null,
            "_view_module": "@jupyter-widgets/base",
            "_view_module_version": "1.2.0",
            "_view_name": "StyleView",
            "bar_color": null,
            "description_width": ""
          }
        },
        "dc2bd4517c2d4ac79edecce588a12332": {
          "model_module": "@jupyter-widgets/controls",
          "model_module_version": "1.5.0",
          "model_name": "ProgressStyleModel",
          "state": {
            "_model_module": "@jupyter-widgets/controls",
            "_model_module_version": "1.5.0",
            "_model_name": "ProgressStyleModel",
            "_view_count": null,
            "_view_module": "@jupyter-widgets/base",
            "_view_module_version": "1.2.0",
            "_view_name": "StyleView",
            "bar_color": null,
            "description_width": ""
          }
        },
        "e02a47daf66f416689796382969af6f2": {
          "model_module": "@jupyter-widgets/controls",
          "model_module_version": "1.5.0",
          "model_name": "FloatProgressModel",
          "state": {
            "_dom_classes": [],
            "_model_module": "@jupyter-widgets/controls",
            "_model_module_version": "1.5.0",
            "_model_name": "FloatProgressModel",
            "_view_count": null,
            "_view_module": "@jupyter-widgets/controls",
            "_view_module_version": "1.5.0",
            "_view_name": "ProgressView",
            "bar_style": "success",
            "description": "",
            "description_tooltip": null,
            "layout": "IPY_MODEL_24996825832348f3ad9906e3177c2aca",
            "max": 176694178,
            "min": 0,
            "orientation": "horizontal",
            "style": "IPY_MODEL_5059741d75ae413db8e0b68501e0641b",
            "value": 176694178
          }
        },
        "e766fba721ac4887bb548583289a920f": {
          "model_module": "@jupyter-widgets/controls",
          "model_module_version": "1.5.0",
          "model_name": "HTMLModel",
          "state": {
            "_dom_classes": [],
            "_model_module": "@jupyter-widgets/controls",
            "_model_module_version": "1.5.0",
            "_model_name": "HTMLModel",
            "_view_count": null,
            "_view_module": "@jupyter-widgets/controls",
            "_view_module_version": "1.5.0",
            "_view_name": "HTMLView",
            "description": "",
            "description_tooltip": null,
            "layout": "IPY_MODEL_47575921d1724bf28127e40657e677f0",
            "placeholder": "​",
            "style": "IPY_MODEL_6996c965b4844d51a2a2f61f60e28f1d",
            "value": " 5000/5000 [07:15&lt;00:00,  9.84it/s]"
          }
        },
        "f0b06304623944659668178b4edf46b2": {
          "model_module": "@jupyter-widgets/controls",
          "model_module_version": "1.5.0",
          "model_name": "DescriptionStyleModel",
          "state": {
            "_model_module": "@jupyter-widgets/controls",
            "_model_module_version": "1.5.0",
            "_model_name": "DescriptionStyleModel",
            "_view_count": null,
            "_view_module": "@jupyter-widgets/base",
            "_view_module_version": "1.2.0",
            "_view_name": "StyleView",
            "description_width": ""
          }
        },
        "f4c1971b3b0241d8873df69170ea4d5d": {
          "model_module": "@jupyter-widgets/controls",
          "model_module_version": "1.5.0",
          "model_name": "DescriptionStyleModel",
          "state": {
            "_model_module": "@jupyter-widgets/controls",
            "_model_module_version": "1.5.0",
            "_model_name": "DescriptionStyleModel",
            "_view_count": null,
            "_view_module": "@jupyter-widgets/base",
            "_view_module_version": "1.2.0",
            "_view_name": "StyleView",
            "description_width": ""
          }
        },
        "ff9504ace8314675bdfe3435c01549e0": {
          "model_module": "@jupyter-widgets/base",
          "model_module_version": "1.2.0",
          "model_name": "LayoutModel",
          "state": {
            "_model_module": "@jupyter-widgets/base",
            "_model_module_version": "1.2.0",
            "_model_name": "LayoutModel",
            "_view_count": null,
            "_view_module": "@jupyter-widgets/base",
            "_view_module_version": "1.2.0",
            "_view_name": "LayoutView",
            "align_content": null,
            "align_items": null,
            "align_self": null,
            "border": null,
            "bottom": null,
            "display": null,
            "flex": null,
            "flex_flow": null,
            "grid_area": null,
            "grid_auto_columns": null,
            "grid_auto_flow": null,
            "grid_auto_rows": null,
            "grid_column": null,
            "grid_gap": null,
            "grid_row": null,
            "grid_template_areas": null,
            "grid_template_columns": null,
            "grid_template_rows": null,
            "height": null,
            "justify_content": null,
            "justify_items": null,
            "left": null,
            "margin": null,
            "max_height": null,
            "max_width": null,
            "min_height": null,
            "min_width": null,
            "object_fit": null,
            "object_position": null,
            "order": null,
            "overflow": null,
            "overflow_x": null,
            "overflow_y": null,
            "padding": null,
            "right": null,
            "top": null,
            "visibility": null,
            "width": null
          }
        }
      }
    }
  },
  "nbformat": 4,
  "nbformat_minor": 0
}
