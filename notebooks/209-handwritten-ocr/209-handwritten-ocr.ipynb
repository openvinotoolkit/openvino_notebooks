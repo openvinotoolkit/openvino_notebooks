{
 "cells": [
  {
   "cell_type": "markdown",
   "source": [
    "## Imports modules required to run"
   ],
   "metadata": {}
  },
  {
   "cell_type": "code",
   "execution_count": null,
   "source": [
    "import cv2\n",
    "import matplotlib.pyplot as plt\n",
    "import numpy as np\n",
    "import sys\n",
    "from openvino.inference_engine import IECore\n",
    "from os import path, makedirs\n",
    "\n",
    "sys.path.append(\"../utils\")\n",
    "from notebook_utils import download_file"
   ],
   "outputs": [],
   "metadata": {
    "collapsed": false,
    "pycharm": {
     "name": "#%%\n"
    }
   }
  },
  {
   "cell_type": "markdown",
   "source": [
    "## Settings"
   ],
   "metadata": {}
  },
  {
   "cell_type": "code",
   "execution_count": null,
   "source": [
    "class Files:\n",
    "    def __init__(self, model: str, charlist_link: str, charlist_name: str = None):\n",
    "        self.model = model\n",
    "        self.charlist_link = charlist_link\n",
    "        self.charlist_name = charlist_name if charlist_name is not None else self.charlist_link.split('/')[-1]\n",
    "\n",
    "ie = IECore()\n",
    "\n",
    "model_folder = \"model\"\n",
    "data_folder = \"data\"\n",
    "charlist_folder = f\"{model_folder}/charlists\"\n",
    "\n",
    "precision = \"FP16\"\n",
    "\n",
    "model_extensions = (\"bin\", \"xml\")\n",
    "\n",
    "handwritten_japanese_model_name = \"handwritten-japanese-recognition-0001\"\n",
    "handwritten_simplified_chinese_model_name = \"handwritten-simplified-chinese-recognition-0001\"\n",
    "\n",
    "japaneses_charlist_link = \"https://raw.githubusercontent.com/openvinotoolkit/open_model_zoo/master/data/dataset_classes/kondate_nakayosi.txt\"\n",
    "simplified_chinese_charlist_link = \"https://raw.githubusercontent.com/openvinotoolkit/open_model_zoo/master/data/dataset_classes/scut_ept.txt\"\n",
    "\n",
    "japaneses_files = Files(handwritten_japanese_model_name, japaneses_charlist_link)\n",
    "chinese_files = Files(handwritten_simplified_chinese_model_name, simplified_chinese_charlist_link)"
   ],
   "outputs": [],
   "metadata": {}
  },
  {
   "cell_type": "markdown",
   "source": [
    "## Download models and convert public model\n",
    "\n",
    "If it is your first run models will download and convert here. It might take up to ten minutes. "
   ],
   "metadata": {}
  },
  {
   "cell_type": "code",
   "execution_count": null,
   "source": [
    "makedirs(model_folder, exist_ok=True)\n",
    "\n",
    "used_files = (chinese_files, japaneses_files)\n",
    "\n",
    "for file_name in used_files:\n",
    "    for extension in model_extensions:\n",
    "        if not path.isfile(f'{model_folder}/intel/{file_name.model}/{precision}/{file_name.model}.{extension}'):\n",
    "            download_command = f'omz_downloader --name {file_name.model} --output_dir {model_folder} --precision {precision}'\n",
    "            ! $download_command\n",
    "            \n",
    "for file_name in used_files:\n",
    "    if not path.isfile(f'{charlist_folder}/{file_name.charlist_name}'):\n",
    "        download_file(file_name.charlist_link, directory=charlist_folder, show_progress=False)    "
   ],
   "outputs": [],
   "metadata": {}
  },
  {
   "cell_type": "markdown",
   "source": [
    "## Load the network"
   ],
   "metadata": {
    "collapsed": false
   }
  },
  {
   "cell_type": "code",
   "execution_count": null,
   "source": [
    "currently_used_model = handwritten_simplified_chinese_model_name\n",
    "\n",
    "net = ie.read_network(\n",
    "    model=f\"{model_folder}/intel/{currently_used_model}/{precision}/{currently_used_model}.xml\"\n",
    ")\n",
    "\n",
    "exec_net = ie.load_network(net, \"CPU\")\n",
    "\n",
    "recognition_output_layer = next(iter(exec_net.outputs))\n",
    "recognition_input_layer = next(iter(exec_net.input_info))"
   ],
   "outputs": [],
   "metadata": {
    "collapsed": false,
    "pycharm": {
     "name": "#%%\n"
    }
   }
  },
  {
   "cell_type": "markdown",
   "source": [
    "## Load an Image"
   ],
   "metadata": {
    "collapsed": false
   }
  },
  {
   "cell_type": "code",
   "execution_count": null,
   "source": [
    "# Create data folder\n",
    "makedirs(data_folder, exist_ok=True)\n",
    "\n",
    "# Download image\n",
    "image_link = 'https://github.com/openvinotoolkit/open_model_zoo/raw/master/demos/handwritten_text_recognition_demo/python/data/handwritten_simplified_chinese_test.png'\n",
    "file_name = image_link.split('/')[-1]\n",
    "download_file(image_link, directory=data_folder, show_progress=False)\n",
    "\n",
    "# Text detection models expects image in BGR format\n",
    "image = cv2.imread(f\"{data_folder}/{file_name}\", cv2.IMREAD_GRAYSCALE)\n",
    "image_height, image_width = image.shape\n",
    "aspect_ratio = image_width/image_height\n",
    "\n",
    "# B,C,H,W = batch size, number of channels, height, width\n",
    "_, _, H, W = net.input_info[recognition_input_layer].input_data.shape\n",
    "\n",
    "# Resize image to meet network expected input sizes\n",
    "resized_image = cv2.resize(image, (int(H*aspect_ratio), H), interpolation=cv2.INTER_AREA)\n",
    "resized_image = np.pad(resized_image, ((0, 0), (0, W - int(H*aspect_ratio))), mode='edge')\n",
    "\n",
    "# Reshape to network input shape\n",
    "input_image = resized_image[None, None, :, :]\n",
    "\n",
    "plt.imshow(resized_image);"
   ],
   "outputs": [],
   "metadata": {
    "collapsed": false,
    "pycharm": {
     "name": "#%%\n"
    }
   }
  },
  {
   "cell_type": "code",
   "execution_count": null,
   "source": [
    "# Get dictionary to encode output, based on model documentation\n",
    "used_charlist = chinese_files.charlist_name if currently_used_model == handwritten_simplified_chinese_model_name else japaneses_files.charlist_name\n",
    "\n",
    "blank_char = '~'\n",
    "\n",
    "with open(f\"{charlist_folder}/{used_charlist}\", 'r', encoding='utf-8') as charlist:\n",
    "    letters = blank_char + ''.join(line.strip() for line in charlist)"
   ],
   "outputs": [],
   "metadata": {}
  },
  {
   "cell_type": "code",
   "execution_count": null,
   "source": [
    "predictions = exec_net.infer(inputs={recognition_input_layer: input_image})[recognition_output_layer]\n",
    "predictions = np.squeeze(predictions)\n",
    "predictions_c = np.argsort(predictions, axis=1)[:,-2:][:,::-1]\n",
    "\n",
    "output_text = []\n",
    "cnt, prob = 0, 0\n",
    "for i, p in enumerate(predictions_c):\n",
    "    if p[0] != 0:\n",
    "        cnt += 1\n",
    "        if 0 in p:\n",
    "            prob += predictions[i][p[0]] - predictions[i][0]\n",
    "\n",
    "for i, p in enumerate(predictions_c):\n",
    "    if p[0] != 0:\n",
    "        if (0 in p and predictions[i][p[0]] - predictions[i][0] > prob/cnt) or 0 not in p:\n",
    "            output_text.append(letters[p[0]])\n",
    "\n",
    "print(''.join(output_text))"
   ],
   "outputs": [],
   "metadata": {}
  }
 ],
 "metadata": {
  "kernelspec": {
   "display_name": "openvino_env",
   "language": "python",
   "name": "openvino_env"
  },
  "language_info": {
   "codemirror_mode": {
    "name": "ipython",
    "version": 3
   },
   "file_extension": ".py",
   "mimetype": "text/x-python",
   "name": "python",
   "nbconvert_exporter": "python",
   "pygments_lexer": "ipython3",
   "version": "3.7.9"
  }
 },
 "nbformat": 4,
 "nbformat_minor": 5
}