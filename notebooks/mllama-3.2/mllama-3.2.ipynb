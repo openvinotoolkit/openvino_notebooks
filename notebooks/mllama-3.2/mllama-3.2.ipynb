{
 "cells": [
  {
   "cell_type": "code",
   "execution_count": null,
   "metadata": {},
   "outputs": [],
   "source": [
    "%pip install \"transformers>=4.45.0\" \"torch>=2.1\" \"torchvision\" \"Pillow\" \"tqdm\" \"datasets>=2.14.6\" \"gradio>=4.36\" \"nncf>=2.13.0\" --extra-index-url https://download.pytorch.org/whl/cpu\n",
    "%pip install -U --pre \"openvino>=2024.5.0\" --extra-index-url https://storage.openvinotoolkit.org/simple/wheels/nightly"
   ]
  },
  {
   "cell_type": "code",
   "execution_count": null,
   "metadata": {},
   "outputs": [],
   "source": [
    "from pathlib import Path\n",
    "from ov_mllama_helper import convert_mllama\n",
    "\n",
    "model_id = \"Llama-3.2-11B-Vision-Instruct\"\n",
    "model_dir = Path(model_id.split(\"/\")[-1]) / \"OV\"\n",
    "\n",
    "# uncomment the line to see model conversion code \n",
    "# convert_mllama??"
   ]
  },
  {
   "cell_type": "code",
   "execution_count": null,
   "metadata": {},
   "outputs": [],
   "source": [
    "convert_mllama(model_id, model_dir)"
   ]
  },
  {
   "cell_type": "code",
   "execution_count": null,
   "metadata": {},
   "outputs": [],
   "source": [
    "from notebook_utils import device_widget\n",
    "\n",
    "device = device_widget()"
   ]
  },
  {
   "cell_type": "code",
   "execution_count": null,
   "metadata": {},
   "outputs": [],
   "source": [
    "from transformers import AutoProcessor\n",
    "from ov_mllama_compression import compress\n",
    "\n",
    "processor = AutoProcessor.from_pretrained(model_dir)\n",
    "\n",
    "# uncomment the line to see compression code\n",
    "# compress??"
   ]
  },
  {
   "cell_type": "code",
   "execution_count": null,
   "metadata": {},
   "outputs": [],
   "source": [
    "compress(model_dir, processor)"
   ]
  },
  {
   "cell_type": "code",
   "execution_count": null,
   "metadata": {},
   "outputs": [],
   "source": []
  },
  {
   "cell_type": "code",
   "execution_count": null,
   "metadata": {},
   "outputs": [],
   "source": []
  }
 ],
 "metadata": {
  "language_info": {
   "name": "python"
  }
 },
 "nbformat": 4,
 "nbformat_minor": 2
}
