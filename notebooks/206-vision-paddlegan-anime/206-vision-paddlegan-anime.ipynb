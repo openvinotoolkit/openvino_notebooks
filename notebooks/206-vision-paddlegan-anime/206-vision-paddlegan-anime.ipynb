{
 "cells": [
  {
   "cell_type": "markdown",
   "id": "5c044bd4",
   "metadata": {},
   "source": [
    "# Photos to Anime with PaddleGAN and OpenVINO\n",
    "\n",
    "This tutorial demonstrates converting a [PaddlePaddle/PaddleGAN](https://github.com/PaddlePaddle/PaddleGAN) AnimeGAN model to OpenVINO IR format, and shows inference results on the PaddleGAN and IR models.\n",
    "\n",
    "For more information about the AnimeGAN model, see [PaddleGAN's AnimeGAN documentation](https://github.com/PaddlePaddle/PaddleGAN/blob/develop/docs/en_US/tutorials/animegan.md)\n",
    "\n",
    "<img src=\"https://user-images.githubusercontent.com/15709723/123559130-04550100-d74f-11eb-819c-a02284654428.jpg\">"
   ]
  },
  {
   "cell_type": "markdown",
   "id": "96e1f503",
   "metadata": {},
   "source": [
    "### Imports"
   ]
  },
  {
   "cell_type": "code",
   "execution_count": null,
   "id": "fe02fa14",
   "metadata": {},
   "outputs": [],
   "source": [
    "import sys\n",
    "import time\n",
    "import os\n",
    "from pathlib import Path\n",
    "\n",
    "import cv2\n",
    "import matplotlib.pyplot as plt\n",
    "import mo_onnx\n",
    "import numpy as np\n",
    "from IPython.display import HTML, display\n",
    "from openvino.inference_engine import IECore\n",
    "\n",
    "# PaddlePaddle requires a C++ compiler. If importing the paddle packages fails, please\n",
    "# install C++\n",
    "try:\n",
    "    import paddle\n",
    "    from paddle.static import InputSpec\n",
    "    from ppgan.apps import AnimeGANPredictor\n",
    "except NameError:\n",
    "    if sys.platform == \"win32\":\n",
    "        install_message = (\n",
    "            \"To use this notebook, please install the free Microsoft \"\n",
    "            \"Visual C++ redistributable from <a href='https://aka.ms/vs/16/release/vc_redist.x64.exe'>\"\n",
    "            \"https://aka.ms/vs/16/release/vc_redist.x64.exe</a>\"\n",
    "        )\n",
    "    else:\n",
    "        install_message = (\n",
    "            \"To use this notebook, please install a C++ compiler. On macOS, \"\n",
    "            \"`xcode-select --install` installs many developer tools, including C++. On Linux, \"\n",
    "            \"install gcc with your distribution's package manager.\"\n",
    "        )\n",
    "    display(\n",
    "        HTML(\n",
    "            f\"\"\"<div class=\"alert alert-danger\" ><i>\n",
    "    <b>Error: </b>PaddlePaddle requires installation of C++. {install_message}\"\"\"\n",
    "        )\n",
    "    )\n",
    "    raise"
   ]
  },
  {
   "cell_type": "markdown",
   "id": "16b2e5ee",
   "metadata": {},
   "source": [
    "### Settings"
   ]
  },
  {
   "cell_type": "code",
   "execution_count": null,
   "id": "ccdb81b9",
   "metadata": {},
   "outputs": [],
   "source": [
    "MODEL_DIR = \"model\"\n",
    "MODEL_NAME = \"paddlegan_anime\"\n",
    "\n",
    "os.makedirs(MODEL_DIR, exist_ok=True)\n",
    "\n",
    "# Create filenames of the models that will be converted in this notebook.\n",
    "model_path = Path(f\"{MODEL_DIR}/{MODEL_NAME}\")\n",
    "ir_path = model_path.with_suffix(\".xml\")\n",
    "onnx_path = model_path.with_suffix(\".onnx\")"
   ]
  },
  {
   "cell_type": "markdown",
   "id": "0d1fa797",
   "metadata": {},
   "source": [
    "### Functions"
   ]
  },
  {
   "cell_type": "code",
   "execution_count": null,
   "id": "ceef6133",
   "metadata": {},
   "outputs": [],
   "source": [
    "def resize_to_max_width(image, max_width):\n",
    "    \"\"\"\n",
    "    Resize `image` to `max_width`, preserving the aspect ratio of the image.\n",
    "    \"\"\"\n",
    "    if image.shape[1] > max_width:\n",
    "        hw_ratio = image.shape[0] / image.shape[1]\n",
    "        new_height = int(max_width * hw_ratio)\n",
    "        image = cv2.resize(image, (max_width, new_height))\n",
    "    return image"
   ]
  },
  {
   "cell_type": "markdown",
   "id": "b42a1025",
   "metadata": {},
   "source": [
    "## Inference on PaddleGAN Model\n",
    "\n",
    "The PaddleGAN [documentation](https://github.com/PaddlePaddle/PaddleGAN/blob/develop/docs/en_US/tutorials/animegan.md) explains to run the model with `.run()`. Let's see what that function does with Jupyter's `??` shortcut to show the docstring and source of the function."
   ]
  },
  {
   "cell_type": "code",
   "execution_count": null,
   "id": "2a83fd1a",
   "metadata": {},
   "outputs": [],
   "source": [
    "# This cell will initialize the AnimeGANPredictor() and download the weights from PaddlePaddle.\n",
    "# This may take a while. The weights are stored in a cache and are only downloaded once.\n",
    "predictor = AnimeGANPredictor()"
   ]
  },
  {
   "cell_type": "code",
   "execution_count": null,
   "id": "19656fda",
   "metadata": {},
   "outputs": [],
   "source": [
    "# In a Jupyter Notebook, ?? shows the source and docstring\n",
    "predictor.run??"
   ]
  },
  {
   "cell_type": "markdown",
   "id": "cca83782",
   "metadata": {},
   "source": [
    "The `AnimeGANPredictor.run()` method:\n",
    "\n",
    "1. loads an image with OpenCV and converts it to RGB\n",
    "2. transforms the image \n",
    "3. propagates the transformed image through the generator model and postprocesses the results to return an array with a [0,255] range\n",
    "4. transposes the result from (C,H,W) to (H,W,C) shape\n",
    "5. resizes the result image to the original image size\n",
    "6. optionally adjusts the brightness of the result image\n",
    "7. saves the image\n",
    "\n",
    "We can execute these steps manually and confirm that the result looks correct. To speed up inference time, resize large images before propagating them through the network. The inference step in the next cell will still take some time to execute. If you want to skip this step, set `PADDLEGAN_INFERENCE = False` in the first line of the next cell."
   ]
  },
  {
   "cell_type": "code",
   "execution_count": null,
   "id": "4286e254",
   "metadata": {},
   "outputs": [],
   "source": [
    "PADDLEGAN_INFERENCE = True\n",
    "OUTPUT_DIR = \"output\"\n",
    "\n",
    "os.makedirs(OUTPUT_DIR, exist_ok=True)\n",
    "# Step 1. Load the image and convert to RGB\n",
    "image_path = Path(\"data/coco_bricks.png\")\n",
    "\n",
    "image = cv2.cvtColor(cv2.imread(str(image_path), flags=cv2.IMREAD_COLOR), cv2.COLOR_BGR2RGB)\n",
    "\n",
    "## Inference takes a long time on large images. Resize to a max width of 600\n",
    "image = resize_to_max_width(image, 600)\n",
    "\n",
    "# Step 2. Transform the image\n",
    "transformed_image = predictor.transform(image)\n",
    "input_tensor = paddle.to_tensor(transformed_image[None, ::])\n",
    "\n",
    "if PADDLEGAN_INFERENCE:\n",
    "    # Step 3. Do inference. \n",
    "    predictor.generator.eval()\n",
    "    with paddle.no_grad():\n",
    "        result = predictor.generator(input_tensor)\n",
    "\n",
    "    # Step 4. Convert the inference result to an image following the same steps as\n",
    "    # PaddleGAN's predictor.run() function\n",
    "    result_image_pg = (result * 0.5 + 0.5)[0].numpy() * 255\n",
    "    result_image_pg = result_image_pg.transpose((1, 2, 0))\n",
    "\n",
    "    # Step 5. Resize the result image\n",
    "    result_image_pg = cv2.resize(result_image_pg, image.shape[:2][::-1])\n",
    "\n",
    "    # Step 6. Adjust the brightness\n",
    "    result_image_pg = predictor.adjust_brightness(result_image_pg, image)\n",
    "\n",
    "    # Step 7. Save the result image\n",
    "    anime_image_path_pg = Path(f\"{OUTPUT_DIR}/{image_path.stem}_anime_pg\").with_suffix(\".jpg\")\n",
    "    if cv2.imwrite(str(anime_image_path_pg), result_image_pg[:, :, (2, 1, 0)]):\n",
    "        print(f\"The anime image was saved to {anime_image_path_pg}\")"
   ]
  },
  {
   "cell_type": "markdown",
   "id": "1fe63995",
   "metadata": {},
   "source": [
    "### Show Inference Results on PaddleGAN model"
   ]
  },
  {
   "cell_type": "code",
   "execution_count": null,
   "id": "0e8346ad",
   "metadata": {},
   "outputs": [],
   "source": [
    "if PADDLEGAN_INFERENCE:\n",
    "    fig, ax = plt.subplots(1, 2, figsize=(25, 15))\n",
    "    ax[0].imshow(image)\n",
    "    ax[1].imshow(result_image_pg)\n",
    "else:\n",
    "    print(\"PADDLEGAN_INFERENCE is not enabled. Set PADDLEGAN_INFERENCE = True in the previous cell and run that cell to show inference results.\")"
   ]
  },
  {
   "cell_type": "markdown",
   "id": "062c50c2",
   "metadata": {},
   "source": [
    "## Model Conversion to ONNX and IR\n",
    "\n",
    "We convert the PaddleGAN model to OpenVINO IR by first converting PaddleGAN to ONNX with `paddle2onnx` and then converting the ONNX model to IR with OpenVINO's Model Optimizer."
   ]
  },
  {
   "cell_type": "markdown",
   "id": "88421b35",
   "metadata": {},
   "source": [
    "### Convert to ONNX\n",
    "\n",
    "Exporting to ONNX requires specifying an input shape with PaddlePaddle's `InputSpec` and calling `paddle.onnx.export`. We check the input shape of the transformed image and use that as input shape for the ONNX model. Exporting to ONNX should not take long. If exporting succeeded, the output of the next cell will include `ONNX model saved in paddlegan_anime.onnx`."
   ]
  },
  {
   "cell_type": "code",
   "execution_count": null,
   "id": "e463f3d5",
   "metadata": {},
   "outputs": [],
   "source": [
    "target_height, target_width = transformed_image.shape[1:]\n",
    "target_height, target_width"
   ]
  },
  {
   "cell_type": "code",
   "execution_count": null,
   "id": "bd613c87",
   "metadata": {},
   "outputs": [],
   "source": [
    "predictor.generator.eval()\n",
    "x_spec = InputSpec([None, 3, target_height, target_width], \"float32\", \"x\")\n",
    "paddle.onnx.export(predictor.generator, str(model_path), input_spec=[x_spec], opset_version=11)"
   ]
  },
  {
   "cell_type": "markdown",
   "id": "d6e3b045",
   "metadata": {},
   "source": [
    "### Convert to IR\n",
    "\n",
    "The OpenVINO IR format allows storing the preprocessing normalization in the model file. It is then no longer necessary to normalize input images manually. Let's check the transforms that the `.run()` method used:"
   ]
  },
  {
   "cell_type": "code",
   "execution_count": null,
   "id": "68b63d9c",
   "metadata": {},
   "outputs": [],
   "source": [
    "predictor.__init__??"
   ]
  },
  {
   "cell_type": "code",
   "execution_count": null,
   "id": "b0ee771d",
   "metadata": {},
   "outputs": [],
   "source": [
    "t = predictor.transform.transforms[0]\n",
    "t.params"
   ]
  },
  {
   "cell_type": "code",
   "execution_count": null,
   "id": "566ae694",
   "metadata": {},
   "outputs": [],
   "source": [
    "## Uncomment the line below to see the documentation and code of the ResizeToScale transformation\n",
    "# t??"
   ]
  },
  {
   "cell_type": "markdown",
   "id": "7fa54081",
   "metadata": {},
   "source": [
    "There are three transformations: resize, transpose, and normalize, where normalize uses a mean and scale of [127.5, 127.5, 127.5]. \n",
    "\n",
    "The ResizeToScale class is called with (256,256) as argument for size. Further analysis shows that this is\n",
    "the minimum size to resize to. The ResizeToScale transform resizes images to the size specified in the\n",
    "ResizeToScale params, with width and height as multiples of 32.\n",
    "\n",
    "Now that we know the mean and standard deviation values, and the shape of the model inputs, we can call Model Optimizer and convert the model to IR with these values. We use FP16 precision and set log level to CRITICAL to ignore warnings that are irrelevant for this demo. See the [Model Optimizer Documentation](https://docs.openvinotoolkit.org/latest/openvino_docs_MO_DG_prepare_model_convert_model_Converting_Model_General.html) for information about Model Optimizer parameters."
   ]
  },
  {
   "cell_type": "markdown",
   "id": "41c3cd0b",
   "metadata": {},
   "source": [
    "**Convert Model to IR with Model Optimizer**"
   ]
  },
  {
   "cell_type": "code",
   "execution_count": null,
   "id": "81a64832",
   "metadata": {},
   "outputs": [],
   "source": [
    "mo = mo_onnx.__file__\n",
    "python = sys.executable\n",
    "onnx_path = model_path.with_suffix(\".onnx\")\n",
    "print(\"Exporting ONNX model to IR... This may take a few minutes.\")\n",
    "! $python $mo --input_model $onnx_path --output_dir $MODEL_DIR --input_shape [1,3,$target_height,$target_width] --model_name $MODEL_NAME --data_type \"FP16\" --mean_values=\"[127.5,127.5,127.5]\" --scale_values=\"[127.5,127.5,127.5]\" --log_level \"CRITICAL\""
   ]
  },
  {
   "cell_type": "markdown",
   "id": "7d43b2e1",
   "metadata": {},
   "source": [
    "## Show Inference Results on IR and PaddleGAN Models"
   ]
  },
  {
   "cell_type": "markdown",
   "id": "271d64ca",
   "metadata": {},
   "source": [
    "If the Model Optimizer output in the cell above showed _SUCCESS_, model conversion succeeded and the IR model is generated. \n",
    "\n",
    "We can use the model for inference now with the `adjust_brightness()` method from the PaddleGAN model, but in order to use the IR model without installing PaddleGAN, it is useful to check what these functions do and extract them."
   ]
  },
  {
   "cell_type": "markdown",
   "id": "409c755c",
   "metadata": {},
   "source": [
    "### Create Postprocessing Functions"
   ]
  },
  {
   "cell_type": "code",
   "execution_count": null,
   "id": "78fb8d56",
   "metadata": {},
   "outputs": [],
   "source": [
    "predictor.adjust_brightness??"
   ]
  },
  {
   "cell_type": "code",
   "execution_count": null,
   "id": "42120455",
   "metadata": {},
   "outputs": [],
   "source": [
    "predictor.calc_avg_brightness??"
   ]
  },
  {
   "cell_type": "markdown",
   "id": "79bb7ffb",
   "metadata": {},
   "source": [
    "The average brightness is computed by a standard formula, see https://www.w3.org/TR/AERT/#color-contrast. To adjust the brightness, the difference in brightness between the source and destination (anime) image is computed and the brightness of the destination image is  adjusted based on that. The image is then converted to an 8-bit image.\n",
    "\n",
    "We copy these functions to the next cell, and will use them for inference on the IR model"
   ]
  },
  {
   "cell_type": "code",
   "execution_count": null,
   "id": "2e44615f",
   "metadata": {},
   "outputs": [],
   "source": [
    "# Copyright (c) 2020 PaddlePaddle Authors. Licensed under the Apache License, Version 2.0\n",
    "\n",
    "\n",
    "def calc_avg_brightness(img):\n",
    "    R = img[..., 0].mean()\n",
    "    G = img[..., 1].mean()\n",
    "    B = img[..., 2].mean()\n",
    "\n",
    "    brightness = 0.299 * R + 0.587 * G + 0.114 * B\n",
    "    return brightness, B, G, R\n",
    "\n",
    "\n",
    "def adjust_brightness(dst, src):\n",
    "    brightness1, B1, G1, R1 = AnimeGANPredictor.calc_avg_brightness(src)\n",
    "    brightness2, B2, G2, R2 = AnimeGANPredictor.calc_avg_brightness(dst)\n",
    "    brightness_difference = brightness1 / brightness2\n",
    "    dstf = dst * brightness_difference\n",
    "    dstf = np.clip(dstf, 0, 255)\n",
    "    dstf = np.uint8(dstf)\n",
    "    return dstf"
   ]
  },
  {
   "cell_type": "markdown",
   "id": "c643f9eb",
   "metadata": {},
   "source": [
    "### Do Inference on IR Model\n",
    "\n",
    "Load the IR model, and do inference, following the same steps as for the PaddleGAN model. See the [OpenVINO Inference Engine API notebook](../002-openvino-api/002-openvino-api.ipynb) for more information about inference on IR models.\n",
    "\n",
    "The IR model is generated with an input shape that is computed based on the input image. If you do inference on images with different input shapes, results may differ from the PaddleGAN results. "
   ]
  },
  {
   "cell_type": "code",
   "execution_count": null,
   "id": "67b8d317",
   "metadata": {},
   "outputs": [],
   "source": [
    "# Load and prepare the IR model.\n",
    "ie = IECore()\n",
    "net = ie.read_network(ir_path)\n",
    "exec_net = ie.load_network(net, \"CPU\")\n",
    "input_key = next(iter(net.input_info.keys()))\n",
    "output_key = next(iter(net.outputs.keys()))"
   ]
  },
  {
   "cell_type": "code",
   "execution_count": null,
   "id": "bfb9d826",
   "metadata": {},
   "outputs": [],
   "source": [
    "# Step 1. Load an image and convert to RGB\n",
    "image_path = Path(\"data/coco_bricks.png\")\n",
    "image = cv2.cvtColor(cv2.imread(str(image_path), flags=cv2.IMREAD_COLOR), cv2.COLOR_BGR2RGB)\n",
    "\n",
    "# Step 2. Transform the image (only resize and transpose are still required)\n",
    "resized_image = cv2.resize(image, (target_width, target_height))\n",
    "input_image = resized_image.transpose(2, 0, 1)[None, :, :, :]\n",
    "\n",
    "# Step 3. Do inference.\n",
    "result_ir = exec_net.infer({input_key: input_image})\n",
    "\n",
    "# Step 4. Convert the inference result to an image following the same steps as\n",
    "# PaddleGAN's predictor.run() function\n",
    "result_image_ir = (result_ir[output_key] * 0.5 + 0.5)[0] * 255\n",
    "result_image_ir = result_image_ir.transpose((1, 2, 0))\n",
    "\n",
    "# Step 5. Resize the result image\n",
    "result_image_ir = cv2.resize(result_image_ir, image.shape[:2][::-1])\n",
    "\n",
    "# Step 6. Adjust the brightness\n",
    "result_image_ir = adjust_brightness(result_image_ir, image)\n",
    "\n",
    "# Step 7. Save the result image\n",
    "anime_fn_ir = Path(f\"{OUTPUT_DIR}/{image_path.stem}_anime_ir\").with_suffix(\".jpg\")\n",
    "if cv2.imwrite(str(anime_fn_ir), result_image_ir[:, :, (2, 1, 0)]):\n",
    "    print(f\"The anime image was saved to {anime_fn_ir}\")"
   ]
  },
  {
   "cell_type": "markdown",
   "id": "0620d3f3",
   "metadata": {},
   "source": [
    "**Show Inference Results**"
   ]
  },
  {
   "cell_type": "code",
   "execution_count": null,
   "id": "9bdbd71f",
   "metadata": {},
   "outputs": [],
   "source": [
    "fig, ax = plt.subplots(1, 2, figsize=(25, 15))\n",
    "ax[0].imshow(image)\n",
    "ax[1].imshow(result_image_ir)\n",
    "ax[0].set_title(\"Image\")\n",
    "ax[1].set_title(\"OpenVINO IR result\");"
   ]
  },
  {
   "cell_type": "markdown",
   "id": "e4a230f7",
   "metadata": {},
   "source": [
    "## Performance Comparison\n",
    "\n",
    "Measure the time it takes to do inference on an image. This gives an indication of performance. It is not a perfect measure. Since the PaddleGAN model requires quite a bit of memory for inference, we only measure inference on one image. For more accurate benchmarking, use the [OpenVINO benchmark tool](../104-model-tools/104-model-tools.ipynb)"
   ]
  },
  {
   "cell_type": "code",
   "execution_count": null,
   "id": "f78c6aaf",
   "metadata": {},
   "outputs": [],
   "source": [
    "NUM_IMAGES = 1\n",
    "start = time.perf_counter()\n",
    "for _ in range(NUM_IMAGES):\n",
    "    exec_net.infer(inputs={input_key: input_image})\n",
    "end = time.perf_counter()\n",
    "time_ir = end - start\n",
    "print(\n",
    "    f\"IR model in Inference Engine/CPU: {time_ir/NUM_IMAGES:.3f} \"\n",
    "    f\"seconds per image, FPS: {NUM_IMAGES/time_ir:.2f}\"\n",
    ")\n",
    "\n",
    "## Uncomment the lines below to measure inference time on an Intel iGPU.\n",
    "## Note that it will take some time to load the model to the GPU\n",
    "\n",
    "# if \"GPU\" in ie.available_devices:\n",
    "#     # Loading the IR model on the GPU takes some time\n",
    "#     exec_net_multi = ie.load_network(net, \"GPU\")\n",
    "#     start = time.perf_counter()\n",
    "#     for _ in range(NUM_IMAGES):\n",
    "#         exec_net_multi.infer(inputs={input_key: input_image})\n",
    "#     end = time.perf_counter()\n",
    "#     time_ir = end - start\n",
    "#     print(\n",
    "#         f\"IR model in Inference Engine/GPU: {time_ir/NUM_IMAGES:.3f} \"\n",
    "#         f\"seconds per image, FPS: {NUM_IMAGES/time_ir:.2f}\"\n",
    "#     )\n",
    "# else:\n",
    "#     print(\"A supported iGPU device is not available on this system.\")\n",
    "\n",
    "## PADDLEGAN_INFERENCE is defined in the section \"Inference on PaddleGAN model\"\n",
    "## Uncomment the next line to enable a performance comparison with the PaddleGAN model \n",
    "## if you disabled it earlier. \n",
    "\n",
    "# PADDLEGAN_INFERENCE = True\n",
    "\n",
    "if PADDLEGAN_INFERENCE:\n",
    "    with paddle.no_grad():\n",
    "        start = time.perf_counter()\n",
    "        for _ in range(NUM_IMAGES):\n",
    "            predictor.generator(input_tensor)\n",
    "        end = time.perf_counter()\n",
    "        time_paddle = end - start\n",
    "    print(\n",
    "        f\"PaddleGAN model on CPU: {time_paddle/NUM_IMAGES:.3f} seconds per image, \"\n",
    "        f\"FPS: {NUM_IMAGES/time_paddle:.2f}\"\n",
    "    )"
   ]
  },
  {
   "cell_type": "markdown",
   "id": "bc996414",
   "metadata": {},
   "source": [
    "## References\n",
    "\n",
    "* PaddleGAN: https://github.com/PaddlePaddle/PaddleGAN\n",
    "* Paddle2ONNX: https://github.com/PaddlePaddle/paddle2onnx\n",
    "* OpenVINO ONNX support: https://docs.openvinotoolkit.org/latest/openvino_docs_IE_DG_ONNX_Support.html\n",
    "* OpenVINO Model Optimizer Documentation: https://docs.openvinotoolkit.org/latest/openvino_docs_MO_DG_prepare_model_convert_model_Converting_Model_General.html\n",
    "\n",
    "The PaddleGAN code that is shown in this notebook is written by PaddlePaddle Authors and licensed under the Apache 2.0 license. \n",
    "The license for this code is displayed below.\n",
    "\n",
    "    #  Copyright (c) 2020 PaddlePaddle Authors. All Rights Reserve.\n",
    "    #\n",
    "    #Licensed under the Apache License, Version 2.0 (the \"License\");\n",
    "    #you may not use this file except in compliance with the License.\n",
    "    #You may obtain a copy of the License at\n",
    "    #\n",
    "    #    http://www.apache.org/licenses/LICENSE-2.0\n",
    "    #\n",
    "    #Unless required by applicable law or agreed to in writing, software\n",
    "    #distributed under the License is distributed on an \"AS IS\" BASIS,\n",
    "    #WITHOUT WARRANTIES OR CONDITIONS OF ANY KIND, either express or implied.\n",
    "    #See the License for the specific language governing permissions and\n",
    "    #limitations under the License."
   ]
  }
 ],
 "metadata": {
  "kernelspec": {
   "display_name": "openvino_env",
   "language": "python",
   "name": "openvino_env"
  },
  "language_info": {
   "codemirror_mode": {
    "name": "ipython",
    "version": 3
   },
   "file_extension": ".py",
   "mimetype": "text/x-python",
   "name": "python",
   "nbconvert_exporter": "python",
   "pygments_lexer": "ipython3",
   "version": "3.8.10"
  }
 },
 "nbformat": 4,
 "nbformat_minor": 5
}
