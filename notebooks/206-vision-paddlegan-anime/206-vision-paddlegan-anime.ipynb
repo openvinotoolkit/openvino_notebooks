{
 "cells": [
  {
   "cell_type": "markdown",
   "source": [
    "# Photo to Anime with PaddleGAN and OpenVINO\n",
    "\n",
    "This notebook demonstrates converting a [PaddlePaddle/PaddleGAN](https://github.com/PaddlePaddle/PaddleGAN) AnimeGAN model to OpenVINO's Intermediate Representation (IR) format, and shows inference results on the PaddleGAN and IR models.\n",
    "\n",
    "For more information about the AnimeGAN model, see [PaddleGAN's AnimeGAN documentation](https://github.com/PaddlePaddle/PaddleGAN/blob/develop/docs/en_US/tutorials/animegan.md)\n",
    "\n",
    "<img src=\"https://user-images.githubusercontent.com/15709723/123559130-04550100-d74f-11eb-819c-a02284654428.jpg\">"
   ],
   "metadata": {}
  },
  {
   "cell_type": "markdown",
   "source": [
    "## Preparation\n",
    "\n",
    "PaddleGAN requires installation of `paddlepaddle`, `ppgan` and `paddle2onnx`. These packages are not installed by the default OpenVINO Notebooks installation. Running the cell below checks if the PaddleGAN packages are installed, and installs them if necessary."
   ],
   "metadata": {}
  },
  {
   "cell_type": "code",
   "execution_count": null,
   "source": [
    "installed = !pip show paddle2onnx ppgan paddlepaddle\r\n",
    "if \"WARNING\" in installed.get_nlstr():\r\n",
    "    print(\"Installing PaddleGAN requirements...\")\r\n",
    "    !pip install --upgrade paddle2onnx ppgan paddlepaddle\r\n",
    "else:\r\n",
    "    print(\"The PaddleGAN requirements are installed\")"
   ],
   "outputs": [],
   "metadata": {}
  },
  {
   "cell_type": "markdown",
   "source": [
    "### Imports"
   ],
   "metadata": {}
  },
  {
   "cell_type": "code",
   "execution_count": null,
   "source": [
    "import sys\r\n",
    "import time\r\n",
    "from pathlib import Path\r\n",
    "\r\n",
    "import cv2\r\n",
    "import matplotlib.pyplot as plt\r\n",
    "import mo_onnx\r\n",
    "import numpy as np\r\n",
    "from IPython.display import HTML, display\r\n",
    "from openvino.inference_engine import IECore\r\n",
    "\r\n",
    "# PaddlePaddle requires a C++ compiler. If importing the paddle packages fails, please\r\n",
    "# install C++\r\n",
    "try:\r\n",
    "    import paddle\r\n",
    "    from paddle.static import InputSpec\r\n",
    "    from ppgan.apps import AnimeGANPredictor\r\n",
    "except NameError:\r\n",
    "    if sys.platform == \"win32\":\r\n",
    "        install_message = (\r\n",
    "            \"To use this notebook, please install the free Microsoft \"\r\n",
    "            \"Visual C++ redistributable from <a href='https://aka.ms/vs/16/release/vc_redist.x64.exe'>\"\r\n",
    "            \"https://aka.ms/vs/16/release/vc_redist.x64.exe</a>\"\r\n",
    "        )\r\n",
    "    else:\r\n",
    "        install_message = (\r\n",
    "            \"To use this notebook, please install a C++ compiler. On macOS, \"\r\n",
    "            \"`xcode-select --install` installs many developer tools, including C++. On Linux, \"\r\n",
    "            \"install gcc with your distribution's package manager.\"\r\n",
    "        )\r\n",
    "    display(\r\n",
    "        HTML(\r\n",
    "            f\"\"\"<div class=\"alert alert-danger\" ><i>\r\n",
    "    <b>Error: </b>PaddlePaddle requires installation of C++. {install_message}\"\"\"\r\n",
    "        )\r\n",
    "    )\r\n",
    "    raise"
   ],
   "outputs": [],
   "metadata": {}
  },
  {
   "cell_type": "markdown",
   "source": [
    "### Settings"
   ],
   "metadata": {}
  },
  {
   "cell_type": "code",
   "execution_count": null,
   "source": [
    "MODEL_NAME = \"paddlegan_anime\"\r\n",
    "\r\n",
    "# Create filenames of the models that will be converted in this notebook.\r\n",
    "model_path = Path(MODEL_NAME)\r\n",
    "ir_path = model_path.with_suffix(\".xml\")\r\n",
    "onnx_path = model_path.with_suffix(\".onnx\")"
   ],
   "outputs": [],
   "metadata": {}
  },
  {
   "cell_type": "markdown",
   "source": [
    "### Functions"
   ],
   "metadata": {}
  },
  {
   "cell_type": "code",
   "execution_count": null,
   "source": [
    "def resize_to_max_width(image, max_width):\r\n",
    "    \"\"\"\r\n",
    "    Resize `image` to `max_width`, preserving the aspect ratio of the image.\r\n",
    "    \"\"\"\r\n",
    "    if image.shape[1] > max_width:\r\n",
    "        hw_ratio = image.shape[0] / image.shape[1]\r\n",
    "        new_height = int(max_width * hw_ratio)\r\n",
    "        image = cv2.resize(image, (max_width, new_height))\r\n",
    "    return image"
   ],
   "outputs": [],
   "metadata": {}
  },
  {
   "cell_type": "markdown",
   "source": [
    "## Inference on PaddleGAN Model\n",
    "\n",
    "The PaddleGAN [documentation](https://github.com/PaddlePaddle/PaddleGAN/blob/develop/docs/en_US/tutorials/animegan.md) explains to run the model with `.run()`. Let's see what that function does with Jupyter's `??` shortcut to show the docstring and source of the function."
   ],
   "metadata": {}
  },
  {
   "cell_type": "code",
   "execution_count": null,
   "source": [
    "# This cell will initialize the AnimeGANPredictor() and download the weights from PaddlePaddle.\r\n",
    "# This may take a while. The weights are stored in a cache and are only downloaded once.\r\n",
    "predictor = AnimeGANPredictor()"
   ],
   "outputs": [],
   "metadata": {}
  },
  {
   "cell_type": "code",
   "execution_count": null,
   "source": [
    "# In a Jupyter Notebook, ?? shows the source and docstring\r\n",
    "predictor.run??"
   ],
   "outputs": [],
   "metadata": {}
  },
  {
   "cell_type": "markdown",
   "source": [
    "The `AnimeGANPredictor.run()` method:\n",
    "\n",
    "1. loads an image with OpenCV and converts it to RGB\n",
    "2. transforms the image \n",
    "3. propagates the transformed image through the generator model and postprocesses the results to return an array with a [0,255] range\n",
    "4. transposes the result from (C,H,W) to (H,W,C) shape\n",
    "5. resizes the result image to the original image size\n",
    "6. optionally adjusts the brightness of the result image\n",
    "7. saves the image\n",
    "\n",
    "We can execute these steps manually and confirm that the result looks correct. To speed up inference time, resize large images before propagating them through the network. The inference step in the next cell will still take some time to execute. If you want to skip this step, set `PADDLEGAN_INFERENCE = False` in the first line of the next cell."
   ],
   "metadata": {}
  },
  {
   "cell_type": "code",
   "execution_count": null,
   "source": [
    "PADDLEGAN_INFERENCE = True\r\n",
    "\r\n",
    "# Step 1. Load the image and convert to RGB\r\n",
    "image_path = Path(\"data/coco_bricks.png\")\r\n",
    "\r\n",
    "image = cv2.cvtColor(cv2.imread(str(image_path), flags=cv2.IMREAD_COLOR), cv2.COLOR_BGR2RGB)\r\n",
    "\r\n",
    "## Inference takes a long time on large images. Resize to a max width of 600\r\n",
    "image = resize_to_max_width(image, 600)\r\n",
    "\r\n",
    "# Step 2. Transform the image\r\n",
    "transformed_image = predictor.transform(image)\r\n",
    "input_tensor = paddle.to_tensor(transformed_image[None, ::])\r\n",
    "\r\n",
    "if PADDLEGAN_INFERENCE:\r\n",
    "    # Step 3. Do inference. \r\n",
    "    predictor.generator.eval()\r\n",
    "    with paddle.no_grad():\r\n",
    "        result = predictor.generator(input_tensor)\r\n",
    "\r\n",
    "    # Step 4. Convert the inference result to an image following the same steps as\r\n",
    "    # PaddleGAN's predictor.run() function\r\n",
    "    result_image_pg = (result * 0.5 + 0.5)[0].numpy() * 255\r\n",
    "    result_image_pg = result_image_pg.transpose((1, 2, 0))\r\n",
    "\r\n",
    "    # Step 5. Resize the result image\r\n",
    "    result_image_pg = cv2.resize(result_image_pg, image.shape[:2][::-1])\r\n",
    "\r\n",
    "    # Step 6. Adjust the brightness\r\n",
    "    result_image_pg = predictor.adjust_brightness(result_image_pg, image)\r\n",
    "\r\n",
    "    # Step 7. Save the result image\r\n",
    "    anime_image_path_pg = image_path.with_name(image_path.stem + \"_anime_pg\").with_suffix(\".jpg\")\r\n",
    "    if cv2.imwrite(str(anime_image_path_pg), result_image_pg[:, :, (2, 1, 0)]):\r\n",
    "        print(f\"The anime image was saved to {anime_image_path_pg}\")"
   ],
   "outputs": [],
   "metadata": {}
  },
  {
   "cell_type": "markdown",
   "source": [
    "### Show Inference Results on PaddleGAN model"
   ],
   "metadata": {}
  },
  {
   "cell_type": "code",
   "execution_count": null,
   "source": [
    "if PADDLEGAN_INFERENCE:\r\n",
    "    fig, ax = plt.subplots(1, 2, figsize=(25, 15))\r\n",
    "    ax[0].imshow(image)\r\n",
    "    ax[1].imshow(result_image_pg)\r\n",
    "else:\r\n",
    "    print(\"PADDLEGAN_INFERENCE is not enabled. Set PADDLEGAN_INFERENCE = True in the previous cell and run that cell to show inference results.\")"
   ],
   "outputs": [],
   "metadata": {}
  },
  {
   "cell_type": "markdown",
   "source": [
    "## Model Conversion to ONNX and IR\n",
    "\n",
    "We convert the PaddleGAN model to OpenVINO IR by first converting PaddleGAN to ONNX with `paddle2onnx` and then converting the ONNX model to IR with OpenVINO's Model Optimizer."
   ],
   "metadata": {}
  },
  {
   "cell_type": "markdown",
   "source": [
    "### Convert to ONNX\n",
    "\n",
    "Exporting to ONNX requires specifying an input shape with PaddlePaddle's `InputSpec` and calling `paddle.onnx.export`. We check the input shape of the transformed image and use that as input shape for the ONNX model. Exporting to ONNX should not take long. If exporting succeeded, the output of the next cell will include `ONNX model saved in paddlegan_anime.onnx`."
   ],
   "metadata": {}
  },
  {
   "cell_type": "code",
   "execution_count": null,
   "source": [
    "target_height, target_width = transformed_image.shape[1:]\r\n",
    "target_height, target_width"
   ],
   "outputs": [],
   "metadata": {}
  },
  {
   "cell_type": "code",
   "execution_count": null,
   "source": [
    "predictor.generator.eval()\r\n",
    "x_spec = InputSpec([None, 3, target_height, target_width], \"float32\", \"x\")\r\n",
    "paddle.onnx.export(predictor.generator, str(model_path), input_spec=[x_spec], opset_version=11)"
   ],
   "outputs": [],
   "metadata": {}
  },
  {
   "cell_type": "markdown",
   "source": [
    "### Convert to IR\n",
    "\n",
    "The OpenVINO IR format allows storing the preprocessing normalization in the model file. It is then no longer necessary to normalize input images manually. Let's check the transforms that the `.run()` method used:"
   ],
   "metadata": {}
  },
  {
   "cell_type": "code",
   "execution_count": null,
   "source": [
    "predictor.__init__??"
   ],
   "outputs": [],
   "metadata": {}
  },
  {
   "cell_type": "code",
   "execution_count": null,
   "source": [
    "t = predictor.transform.transforms[0]\r\n",
    "t.params"
   ],
   "outputs": [],
   "metadata": {}
  },
  {
   "cell_type": "code",
   "execution_count": null,
   "source": [
    "## Uncomment the line below to see the documentation and code of the ResizeToScale transformation\r\n",
    "# t??"
   ],
   "outputs": [],
   "metadata": {}
  },
  {
   "cell_type": "markdown",
   "source": [
    "There are three transforms: resize, transpose, and normalize, where normalize uses a mean and scale of [127.5, 127.5, 127.5]. \n",
    "\n",
    "The ResizeToScale class is called with (256,256) as argument for size. Further analysis shows that this is\n",
    "the minimum size to resize to. The ResizeToScale transform resizes images to the size specified in the\n",
    "ResizeToScale params, with width and height as multiples of 32.\n",
    "\n",
    "Now that we know the mean and standard deviation values, and the shape of the model inputs, we can call Model Optimizer and convert the model to IR with these values. We use FP16 precision and set log level to CRITICAL to ignore warnings that are irrelevant for this demo. See the [Model Optimizer Documentation](https://docs.openvinotoolkit.org/latest/openvino_docs_MO_DG_prepare_model_convert_model_Converting_Model_General.html) for information about Model Optimizer parameters."
   ],
   "metadata": {}
  },
  {
   "cell_type": "markdown",
   "source": [
    "**Convert Model to IR with Model Optimizer**"
   ],
   "metadata": {}
  },
  {
   "cell_type": "code",
   "execution_count": null,
   "source": [
    "mo = mo_onnx.__file__\r\n",
    "python = sys.executable\r\n",
    "onnx_path = model_path.with_suffix(\".onnx\")\r\n",
    "print(\"Exporting ONNX model to IR... This may take a few minutes.\")\r\n",
    "! $python $mo --input_model $onnx_path --input_shape [1,3,$target_height,$target_width] --model_name $MODEL_NAME --data_type \"FP16\" --mean_values=\"[127.5,127.5,127.5]\" --scale_values=\"[127.5,127.5,127.5]\" --log_level \"CRITICAL\""
   ],
   "outputs": [],
   "metadata": {}
  },
  {
   "cell_type": "markdown",
   "source": [
    "## Show Inference Results on IR and PaddleGAN model"
   ],
   "metadata": {}
  },
  {
   "cell_type": "markdown",
   "source": [
    "If the Model Optimizer output in the cell above showed _SUCCESS_, model conversion succeeded and the IR model is generated. \n",
    "\n",
    "We can use the model for inference now with the `adjust_brightness()` method from the PaddleGAN model, but in order to use the IR model without installing PaddleGAN, it is useful to check what these functions do and extract them."
   ],
   "metadata": {}
  },
  {
   "cell_type": "markdown",
   "source": [
    "### Create Postprocessing Functions"
   ],
   "metadata": {}
  },
  {
   "cell_type": "code",
   "execution_count": null,
   "source": [
    "predictor.adjust_brightness??"
   ],
   "outputs": [],
   "metadata": {}
  },
  {
   "cell_type": "code",
   "execution_count": null,
   "source": [
    "predictor.calc_avg_brightness??"
   ],
   "outputs": [],
   "metadata": {}
  },
  {
   "cell_type": "markdown",
   "source": [
    "The average brightness is computed by a standard formula, see https://www.w3.org/TR/AERT/#color-contrast. To adjust the brightness, the difference in brightness between the source and destination (anime) image is computed and the brightness of the destination image is  adjusted based on that. The image is then converted to an 8-bit image.\n",
    "\n",
    "We copy these functions to the next cell, and will use them for inference on the IR model"
   ],
   "metadata": {}
  },
  {
   "cell_type": "code",
   "execution_count": null,
   "source": [
    "# Copyright (c) 2020 PaddlePaddle Authors. Licensed under the Apache License, Version 2.0\r\n",
    "\r\n",
    "\r\n",
    "def calc_avg_brightness(img):\r\n",
    "    R = img[..., 0].mean()\r\n",
    "    G = img[..., 1].mean()\r\n",
    "    B = img[..., 2].mean()\r\n",
    "\r\n",
    "    brightness = 0.299 * R + 0.587 * G + 0.114 * B\r\n",
    "    return brightness, B, G, R\r\n",
    "\r\n",
    "\r\n",
    "def adjust_brightness(dst, src):\r\n",
    "    brightness1, B1, G1, R1 = AnimeGANPredictor.calc_avg_brightness(src)\r\n",
    "    brightness2, B2, G2, R2 = AnimeGANPredictor.calc_avg_brightness(dst)\r\n",
    "    brightness_difference = brightness1 / brightness2\r\n",
    "    dstf = dst * brightness_difference\r\n",
    "    dstf = np.clip(dstf, 0, 255)\r\n",
    "    dstf = np.uint8(dstf)\r\n",
    "    return dstf"
   ],
   "outputs": [],
   "metadata": {}
  },
  {
   "cell_type": "markdown",
   "source": [
    "### Do Inference on IR Model\n",
    "\n",
    "Load the IR model, and do inference, following the same steps as for the PaddleGAN model. See the [OpenVINO Inference Engine API notebook](../002-openvino-api/002-openvino-api.ipynb) for more information about inference on IR models.\n",
    "\n",
    "The IR model is generated with an input shape that is computed based on the input image. If you do inference on images with different input shapes, results may differ from the PaddleGAN results. "
   ],
   "metadata": {}
  },
  {
   "cell_type": "code",
   "execution_count": null,
   "source": [
    "# Load and prepare the IR model.\r\n",
    "ie = IECore()\r\n",
    "net = ie.read_network(ir_path)\r\n",
    "exec_net = ie.load_network(net, \"CPU\")\r\n",
    "input_key = next(iter(net.input_info.keys()))\r\n",
    "output_key = next(iter(net.outputs.keys()))"
   ],
   "outputs": [],
   "metadata": {}
  },
  {
   "cell_type": "code",
   "execution_count": null,
   "source": [
    "# Step 1. Load an image and convert to RGB\r\n",
    "image_path = Path(\"data/coco_bricks.png\")\r\n",
    "image = cv2.cvtColor(cv2.imread(str(image_path), flags=cv2.IMREAD_COLOR), cv2.COLOR_BGR2RGB)\r\n",
    "\r\n",
    "# Step 2. Transform the image (only resize and transpose are still required)\r\n",
    "resized_image = cv2.resize(image, (target_width, target_height))\r\n",
    "input_image = resized_image.transpose(2, 0, 1)[None, :, :, :]\r\n",
    "\r\n",
    "# Step 3. Do inference.\r\n",
    "result_ir = exec_net.infer({input_key: input_image})\r\n",
    "\r\n",
    "# Step 4. Convert the inference result to an image following the same steps as\r\n",
    "# PaddleGAN's predictor.run() function\r\n",
    "result_image_ir = (result_ir[output_key] * 0.5 + 0.5)[0] * 255\r\n",
    "result_image_ir = result_image_ir.transpose((1, 2, 0))\r\n",
    "\r\n",
    "# Step 5. Resize the result image\r\n",
    "result_image_ir = cv2.resize(result_image_ir, image.shape[:2][::-1])\r\n",
    "\r\n",
    "# Step 6. Adjust the brightness\r\n",
    "result_image_ir = adjust_brightness(result_image_ir, image)\r\n",
    "\r\n",
    "# Step 7. Save the result image\r\n",
    "anime_fn_ir = image_path.with_name(image_path.stem + \"_anime_ir\").with_suffix(\".jpg\")\r\n",
    "if cv2.imwrite(str(anime_fn_ir), result_image_ir[:, :, (2, 1, 0)]):\r\n",
    "    print(f\"The anime image was saved to {anime_fn_ir}\")"
   ],
   "outputs": [],
   "metadata": {}
  },
  {
   "cell_type": "markdown",
   "source": [
    "**Show Inference Results**"
   ],
   "metadata": {}
  },
  {
   "cell_type": "code",
   "execution_count": null,
   "source": [
    "fig, ax = plt.subplots(1, 2, figsize=(25, 15))\n",
    "ax[0].imshow(image)\n",
    "ax[1].imshow(result_image_ir)\n",
    "ax[0].set_title(\"Image\")\n",
    "ax[1].set_title(\"OpenVINO IR result\");"
   ],
   "outputs": [],
   "metadata": {}
  },
  {
   "cell_type": "markdown",
   "source": [
    "## Performance Comparison\n",
    "\n",
    "Measure the time it takes to do inference on an image. This gives an indication of performance. It is not a perfect measure. Since the PaddleGAN model requires quite a bit of memory for inference, we only measure inference on one image.For more accurate benchmarking, use the [OpenVINO benchmark tool](https://github.com/openvinotoolkit/openvino/tree/master/inference-engine/tools/benchmark_tool)."
   ],
   "metadata": {}
  },
  {
   "cell_type": "code",
   "execution_count": null,
   "source": [
    "NUM_IMAGES = 1\n",
    "start = time.perf_counter()\n",
    "for _ in range(NUM_IMAGES):\n",
    "    exec_net.infer(inputs={input_key: input_image})\n",
    "end = time.perf_counter()\n",
    "time_ir = end - start\n",
    "print(\n",
    "    f\"IR model in Inference Engine/CPU: {time_ir/NUM_IMAGES:.3f} \"\n",
    "    f\"seconds per image, FPS: {NUM_IMAGES/time_ir:.2f}\"\n",
    ")\n",
    "\n",
    "## Uncomment the lines below to measure inference time on an Intel iGPU.\n",
    "## Note that it will take some time to load the model to the GPU\n",
    "\n",
    "# if \"GPU\" in ie.available_devices:\n",
    "#     # Loading the IR model on the GPU takes some time\n",
    "#     exec_net_multi = ie.load_network(net, \"GPU\")\n",
    "#     start = time.perf_counter()\n",
    "#     for _ in range(NUM_IMAGES):\n",
    "#         exec_net_multi.infer(inputs={input_key: input_image})\n",
    "#     end = time.perf_counter()\n",
    "#     time_ir = end - start\n",
    "#     print(\n",
    "#         f\"IR model in Inference Engine/GPU: {time_ir/NUM_IMAGES:.3f} \"\n",
    "#         f\"seconds per image, FPS: {NUM_IMAGES/time_ir:.2f}\"\n",
    "#     )\n",
    "# else:\n",
    "#     print(\"A supported iGPU device is not available on this system.\")\n",
    "\n",
    "## PADDLEGAN_INFERENCE is defined in the section \"Inference on PaddleGAN model\"\n",
    "## Uncomment the next line to enable a performance comparison with the PaddleGAN model \n",
    "## if you disabled it earlier. \n",
    "\n",
    "# PADDLEGAN_INFERENCE = True\n",
    "\n",
    "if PADDLEGAN_INFERENCE:\n",
    "    with paddle.no_grad():\n",
    "        start = time.perf_counter()\n",
    "        for _ in range(NUM_IMAGES):\n",
    "            predictor.generator(input_tensor)\n",
    "        end = time.perf_counter()\n",
    "        time_paddle = end - start\n",
    "    print(\n",
    "        f\"PaddleGAN model on CPU: {time_paddle/NUM_IMAGES:.3f} seconds per image, \"\n",
    "        f\"FPS: {NUM_IMAGES/time_paddle:.2f}\"\n",
    "    )"
   ],
   "outputs": [],
   "metadata": {}
  },
  {
   "cell_type": "markdown",
   "source": [
    "## References\n",
    "\n",
    "* PaddleGAN: https://github.com/PaddlePaddle/PaddleGAN\n",
    "* Paddle2ONNX: https://github.com/PaddlePaddle/paddle2onnx\n",
    "* OpenVINO ONNX support: https://docs.openvinotoolkit.org/latest/openvino_docs_IE_DG_ONNX_Support.html\n",
    "* OpenVINO Model Optimizer Documentation: https://docs.openvinotoolkit.org/latest/openvino_docs_MO_DG_prepare_model_convert_model_Converting_Model_General.html\n",
    "\n",
    "The PaddleGAN code that is shown in this notebook is written by PaddlePaddle Authors and licensed under the Apache 2.0 license. \n",
    "The license for this code is displayed below.\n",
    "\n",
    "    #  Copyright (c) 2020 PaddlePaddle Authors. All Rights Reserve.\n",
    "    #\n",
    "    #Licensed under the Apache License, Version 2.0 (the \"License\");\n",
    "    #you may not use this file except in compliance with the License.\n",
    "    #You may obtain a copy of the License at\n",
    "    #\n",
    "    #    http://www.apache.org/licenses/LICENSE-2.0\n",
    "    #\n",
    "    #Unless required by applicable law or agreed to in writing, software\n",
    "    #distributed under the License is distributed on an \"AS IS\" BASIS,\n",
    "    #WITHOUT WARRANTIES OR CONDITIONS OF ANY KIND, either express or implied.\n",
    "    #See the License for the specific language governing permissions and\n",
    "    #limitations under the License."
   ],
   "metadata": {}
  },
  {
   "cell_type": "code",
   "execution_count": null,
   "source": [],
   "outputs": [],
   "metadata": {}
  }
 ],
 "metadata": {
  "kernelspec": {
   "display_name": "openvino_env",
   "language": "python",
   "name": "openvino_env"
  },
  "language_info": {
   "codemirror_mode": {
    "name": "ipython",
    "version": 3
   },
   "file_extension": ".py",
   "mimetype": "text/x-python",
   "name": "python",
   "nbconvert_exporter": "python",
   "pygments_lexer": "ipython3",
   "version": "3.7.9"
  }
 },
 "nbformat": 4,
 "nbformat_minor": 5
}