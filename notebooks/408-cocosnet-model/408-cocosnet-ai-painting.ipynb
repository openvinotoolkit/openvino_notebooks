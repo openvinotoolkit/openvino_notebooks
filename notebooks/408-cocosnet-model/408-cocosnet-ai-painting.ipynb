{
 "cells": [
  {
   "cell_type": "markdown",
   "id": "f6ae5762",
   "metadata": {},
   "source": [
    "## AI photo-realistic Synthesis with OpenVINO™\n",
    "\n",
    "This notebook demonstrates the synthesis of AI photo-realistic image based on an exemplar image sketch semantic using CocosNet and OpenVINO. We utilize CoCosNet model from Open Model Zoo. At the end of the notebook you should see the demo where users can draw sketch using interactive canvas and get a realistic photo based on provided semantic drawings.\n"
   ]
  },
  {
   "cell_type": "markdown",
   "id": "5878dc07",
   "metadata": {},
   "source": [
    "### Imports"
   ]
  },
  {
   "cell_type": "code",
   "execution_count": 38,
   "id": "c4268c9a",
   "metadata": {},
   "outputs": [],
   "source": [
    "import sys\n",
    "import os\n",
    "\n",
    "import cv2\n",
    "from pathlib import Path\n",
    "import gradio as gr\n",
    "import numpy as np\n",
    "import logging as log\n",
    "from openvino.runtime import Core, get_version\n",
    "\n",
    "from utils.models import CocosnetModel, SegmentationModel\n",
    "from utils.preprocessing import preprocess_for_seg_model, preprocess_image, preprocess_semantics\n",
    "from utils.postprocessing import postprocess, save_result\n",
    "\n",
    "log.basicConfig(format='[ %(levelname)s ] %(message)s', level=log.DEBUG, stream=sys.stdout)"
   ]
  },
  {
   "cell_type": "markdown",
   "id": "4423e63f",
   "metadata": {},
   "source": [
    "## The Model"
   ]
  },
  {
   "cell_type": "markdown",
   "id": "bd96bc8d",
   "metadata": {},
   "source": [
    "### Download the Model\n",
    "\n",
    "The cococsnet model, will be downloaded to the `base_model_dir`. if you have not already downloaded it. This notebook will also show how you can use the Model downloader to get OpenVINO Intermediate Representation (IR) with FP16 precision."
   ]
  },
  {
   "cell_type": "code",
   "execution_count": 53,
   "id": "52d58a82",
   "metadata": {},
   "outputs": [
    {
     "name": "stdout",
     "output_type": "stream",
     "text": [
      "model/public/cocosnet/FP16/cocosnet\n"
     ]
    }
   ],
   "source": [
    "# directory where model will be downloaded\n",
    "base_model_dir = \"model\"\n",
    "\n",
    "# model name as named in Open Model Zoo\n",
    "translation_model_name = \"cocosnet\"\n",
    "segmentation_model_name = \"hrnet-v2-c1-segmentation\"\n",
    "# selected precision (FP32, FP16)\n",
    "precision = \"FP16\"\n",
    "\n",
    "TRANSLATION_MODEL = f\"{base_model_dir}/public/{translation_model_name}/{precision}/{translation_model_name}\"\n",
    "SEGMENTATION_MODEL = f\"{base_model_dir}/public/{segmentation_model_name}/{precision}/{segmentation_model_name}\"\n",
    "\n",
    "# Path to the model path\n",
    "translation_model_path = Path(TRANSLATION_MODEL).with_suffix(\".xml\")\n",
    "segmentation_model_path = Path(SEGMENTATION_MODEL).with_suffix(\".xml\")\n",
    "\n",
    "if not translation_model_path.exists() :\n",
    "    download_command = (\n",
    "        f\"omz_downloader \" f\"--name {translation_model_name} \" f\"--output_dir {base_model_dir}\"\n",
    "    )\n",
    "    ! $download_command\n",
    "if not segmentation_model_path.exists() :\n",
    "    download_command = (\n",
    "        f\"omz_downloader \" f\"--name {segmentation_model_name} \" f\"--output_dir {base_model_dir}\"\n",
    "    )\n",
    "    ! $download_command"
   ]
  },
  {
   "cell_type": "markdown",
   "id": "ab1bdd2b",
   "metadata": {},
   "source": [
    "### Convert Model to OpenVINO IR format\n",
    "The selected model comes from the public directory, which means it must be converted into OpenVINO Intermediate Representation (OpenVINO IR). We use `omz_converter` to convert the ONNX format model to the OpenVINO IR format."
   ]
  },
  {
   "cell_type": "code",
   "execution_count": 55,
   "id": "4af2f7ac",
   "metadata": {},
   "outputs": [],
   "source": [
    "TRANSLATION_ONNX = f\"{base_model_dir}/public/{translation_model_name}/{translation_model_name}\"\n",
    "SEGMENTATION_ONNX = f\"{base_model_dir}/public/{segmentation_model_name}/{segmentation_model_name}\"\n",
    "translation_onnx_path = Path(TRANSLATION_ONNX).with_suffix(\".onnx\")\n",
    "segmentation_onnx_path = Path(SEGMENTATION_ONNX).with_suffix(\".onnx\")\n",
    "\n",
    "if not translation_onnx_path.exists():\n",
    "    convert_command = (\n",
    "        f\"omz_converter \"\n",
    "        f\"--name {translation_model_name} \"\n",
    "        f\"--precisions {precision} \"\n",
    "        f\"--download_dir {base_model_dir} \"\n",
    "        f\"--output_dir {base_model_dir}\"\n",
    "    )\n",
    "    ! $convert_command\n",
    "\n",
    "if not segmentation_onnx_path.exists():\n",
    "    convert_command = (\n",
    "        f\"omz_converter \"\n",
    "        f\"--name {segmentation_model_name} \"\n",
    "        f\"--precisions {precision} \"\n",
    "        f\"--download_dir {base_model_dir} \"\n",
    "        f\"--output_dir {base_model_dir}\"\n",
    "    )\n",
    "    ! $convert_command"
   ]
  },
  {
   "cell_type": "markdown",
   "id": "85452b04",
   "metadata": {},
   "source": [
    "## Model Initialization\n",
    "\n",
    "We are loading Cocosnet and Segmentation model for image translation.\n",
    "\n",
    "Converted models are located in a fixed structure, which indicates vendor, model name and precision.\n",
    "First, initialize the inference engine, OpenVINO Runtime. Then, read the network architecture and model weights from the .bin and .xml files to compile for the desired device. An inference request is then created to infer the compiled model."
   ]
  },
  {
   "cell_type": "code",
   "execution_count": 56,
   "id": "1612742b",
   "metadata": {},
   "outputs": [],
   "source": [
    "# Initialize OpenVINO Runtime.\n",
    "ie_core = Core()\n",
    "device = \"CPU\"\n",
    "\n",
    "# Initialize CocosnetModel\n",
    "gan_model = CocosnetModel(ie_core, translation_model_path, device)\n",
    "\n",
    "# Initialize SegmentationModel\n",
    "seg_model = SegmentationModel(ie_core, segmentation_model_path,\n",
    "                              device) if segmentation_model_path else None"
   ]
  },
  {
   "cell_type": "markdown",
   "id": "be073058",
   "metadata": {},
   "source": [
    "## Input preprocessing and Model inferencing\n",
    "\n",
    "In this section, we are mainly preprocessing the input by using masks from segmentation model to generate input and reference semantics.\n",
    "\n",
    "Model Inference is done with the GAN model, by providing input and reference semantics repectively."
   ]
  },
  {
   "cell_type": "code",
   "execution_count": 45,
   "id": "92f12b88",
   "metadata": {},
   "outputs": [],
   "source": [
    "# Method to get mask from image\n",
    "def get_mask_from_image(image, model):\n",
    "    image = preprocess_for_seg_model(image, input_size=model.input_size)\n",
    "    res = model.infer(image)\n",
    "    mask = np.argmax(res, axis=1)\n",
    "    mask = np.squeeze(mask, 0)\n",
    "    return mask + 1\n",
    "\n",
    "# Process the input and reference image\n",
    "def gradioProcessing(input_image=None, reference_image=None, input_semantic=None, reference_semantic=None):\n",
    "#     Set to True if no input and reference semantics are provided\n",
    "    use_seg = True\n",
    "    assert use_seg ^ (bool(input_semantic) and bool(reference_semantic)), \"Verify Gradio module to provide semantic inputs\"\n",
    "\n",
    "    if use_seg:\n",
    "        if input_image is None:\n",
    "            raise IOError('Image {} cannot be read'.format(input_image))\n",
    "        input_semantic = get_mask_from_image(input_image, seg_model)\n",
    "        if reference_image is None:\n",
    "            raise IOError('Image {} cannot be read'.format(reference_image))\n",
    "        reference_semantic = get_mask_from_image(reference_image, seg_model)\n",
    "    else:\n",
    "            # TODO: Remove this snippet if reference and input semantics are not required\n",
    "            #   input_sem_file = input_semantic\n",
    "            #   input_sem = cv2.imread(input_sem_file, cv2.IMREAD_GRAYSCALE)\n",
    "        if input_semantic is None:\n",
    "            raise IOError('Image {} cannot be read'.format(input_semantic))\n",
    "            # TODO: Remove this snippet if reference and input semantics are not required\n",
    "            #   ref_sem_file = ref_sem\n",
    "            #   ref_sem = cv2.imread(ref_sem, cv2.IMREAD_GRAYSCALE)\n",
    "        if ref_sem is None:\n",
    "            raise IOError('Image {} cannot be read'.format(reference_semantic))\n",
    "    input_semantic = preprocess_semantics(input_semantic, input_size=gan_model.input_semantic_size)\n",
    "\n",
    "    if reference_image is None:\n",
    "        raise IOError('Image {} cannot be read'.format(reference_image))\n",
    "    reference_image = preprocess_image(reference_image, input_size=gan_model.input_image_size)\n",
    "    reference_semantic = preprocess_semantics(reference_semantic, input_size=gan_model.input_semantic_size)\n",
    "    # Model Inference\n",
    "    result = postprocess(gan_model.infer(input_semantic, reference_image, reference_semantic))\n",
    "        \n",
    "    return result"
   ]
  },
  {
   "cell_type": "markdown",
   "id": "98fa20c5",
   "metadata": {},
   "source": [
    "## Gradio interface \n",
    "\n",
    "A web-based GUI to synthesize an image based on the drawing input on the Gradio canvas and the uploaded reference image. \n",
    "User can upload the reference image and draw on the gradio canvas using different colors representing different objects.\n",
    "Click Generate button to synthesize the AI painting.\n",
    "\n",
    "Path to reference images: `data/`\n"
   ]
  },
  {
   "cell_type": "code",
   "execution_count": 48,
   "id": "42ff73b3",
   "metadata": {},
   "outputs": [
    {
     "name": "stdout",
     "output_type": "stream",
     "text": [
      "[ DEBUG ] Starting new HTTPS connection (1): api.gradio.app:443\n",
      "[ DEBUG ] Using selector: EpollSelector\n",
      "[ DEBUG ] Starting new HTTP connection (1): 127.0.0.1:7874\n",
      "[ DEBUG ] http://127.0.0.1:7874 \"GET /startup-events HTTP/1.1\" 200 5\n",
      "[ DEBUG ] Starting new HTTP connection (1): 127.0.0.1:7874\n",
      "[ DEBUG ] http://127.0.0.1:7874 \"HEAD / HTTP/1.1\" 200 0\n",
      "Running on local URL:  http://127.0.0.1:7874\n",
      "[ DEBUG ] Starting new HTTPS connection (1): api.gradio.app:443\n",
      "[ DEBUG ] https://api.gradio.app:443 \"POST /gradio-initiated-analytics/ HTTP/1.1\" 200 None\n",
      "[ DEBUG ] https://api.gradio.app:443 \"GET /v2/tunnel-request HTTP/1.1\" 200 None\n",
      "Running on public URL: https://75baaec7091cd1a80d.gradio.live\n",
      "\n",
      "This share link expires in 72 hours. For free permanent hosting and GPU upgrades (NEW!), check out Spaces: https://huggingface.co/spaces\n",
      "[ DEBUG ] Starting new HTTPS connection (1): 75baaec7091cd1a80d.gradio.live:443\n",
      "[ DEBUG ] https://75baaec7091cd1a80d.gradio.live:443 \"HEAD / HTTP/1.1\" 200 0\n"
     ]
    },
    {
     "data": {
      "text/html": [
       "<div><iframe src=\"https://75baaec7091cd1a80d.gradio.live\" width=\"100%\" height=\"500\" allow=\"autoplay; camera; microphone; clipboard-read; clipboard-write;\" frameborder=\"0\" allowfullscreen></iframe></div>"
      ],
      "text/plain": [
       "<IPython.core.display.HTML object>"
      ]
     },
     "metadata": {},
     "output_type": "display_data"
    },
    {
     "name": "stdout",
     "output_type": "stream",
     "text": [
      "[ DEBUG ] Starting new HTTPS connection (1): api.gradio.app:443\n",
      "[ DEBUG ] Starting new HTTPS connection (1): api.gradio.app:443\n"
     ]
    },
    {
     "data": {
      "text/plain": []
     },
     "execution_count": 48,
     "metadata": {},
     "output_type": "execute_result"
    },
    {
     "name": "stdout",
     "output_type": "stream",
     "text": [
      "[ DEBUG ] https://api.gradio.app:443 \"POST /gradio-launched-analytics/ HTTP/1.1\" 200 None\n",
      "[ DEBUG ] https://api.gradio.app:443 \"POST /gradio-launched-telemetry/ HTTP/1.1\" 200 None\n"
     ]
    }
   ],
   "source": [
    "# gradio method to fetch user input and reference image\n",
    "def generate(image_input, ref_image):\n",
    "    result = gradioProcessing(input_image=image_input, reference_image=ref_image,\n",
    "                           input_semantic=None, reference_semantic=None)\n",
    "    return result\n",
    "\n",
    "# Initialize gradio canvas\n",
    "with gr.Blocks(css=\"#small-b {width: 24px}\") as demo:\n",
    "    with gr.Row().style(equal_height=True):\n",
    "        with gr.Column():\n",
    "            canvas_input = gr.Paint()\n",
    "            submit = gr.Button(\"Translate\")\n",
    "        output_image = gr.Image(label='Synthesis')\n",
    "        ref_image = gr.Image(label='Reference')\n",
    "        submit.click(generate, inputs=[canvas_input, ref_image], outputs=output_image)\n",
    "\n",
    "# Start the gradio interactive canvas\n",
    "demo.launch(share=True)"
   ]
  }
 ],
 "metadata": {
  "kernelspec": {
   "display_name": "Python 3 (ipykernel)",
   "language": "python",
   "name": "python3"
  },
  "language_info": {
   "codemirror_mode": {
    "name": "ipython",
    "version": 3
   },
   "file_extension": ".py",
   "mimetype": "text/x-python",
   "name": "python",
   "nbconvert_exporter": "python",
   "pygments_lexer": "ipython3",
   "version": "3.10.6"
  }
 },
 "nbformat": 4,
 "nbformat_minor": 5
}
