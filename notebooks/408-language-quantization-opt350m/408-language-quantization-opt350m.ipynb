{
 "cells": [
  {
   "attachments": {},
   "cell_type": "markdown",
   "id": "cacbe6b4",
   "metadata": {
    "id": "cacbe6b4"
   },
   "source": [
    "# Quantize OPT350m model with Post-Training Optimization Tool ​in OpenVINO™\n",
    "This tutorial demonstrates how to apply `INT8` quantization to the [OPT350m](https://huggingface.co/facebook/opt-350m), using the [Post-Training Optimization Tool API](https://docs.openvino.ai/latest/pot_compression_api_README.html) (part of the [OpenVINO Toolkit](https://docs.openvino.ai/)). [Microsoft Research Paraphrase Corpus (MRPC)](https://www.microsoft.com/en-us/download/details.aspx?id=52398) dataset is used for quantization.\n",
    "Structure of the notebook is as follows:\n",
    "- Download and prepare the OPT350m model and MRPC dataset.\n",
    "- Define data loading and accuracy validation functionality. Accuracy checking was not performed due to memory limits\n",
    "- Prepare the model for quantization.\n",
    "- Run optimization pipeline.\n",
    "- Load and test quantized model.\n",
    "- Compare the performance of the original, converted and quantized models."
   ]
  },
  {
   "cell_type": "markdown",
   "id": "4d6b41e6-132b-40da-b3b9-91bacba29e31",
   "metadata": {
    "id": "4d6b41e6-132b-40da-b3b9-91bacba29e31"
   },
   "source": [
    "## Imports"
   ]
  },
  {
   "cell_type": "code",
   "execution_count": null,
   "id": "771388d6",
   "metadata": {
    "executionInfo": {
     "elapsed": 374,
     "status": "ok",
     "timestamp": 1679500531274,
     "user": {
      "displayName": "Zhumakhan Nazir",
      "userId": "11929776087798199813"
     },
     "user_tz": -360
    },
    "id": "771388d6"
   },
   "outputs": [],
   "source": [
    "import os\n",
    "import sys\n",
    "import time\n",
    "import warnings\n",
    "import typing as t\n",
    "from pathlib import Path\n",
    "from zipfile import ZipFile\n",
    "\n",
    "import numpy as np\n",
    "import torch\n",
    "from torch import nn\n",
    "from addict import Dict\n",
    "from openvino import runtime as ov\n",
    "from openvino.tools.pot import DataLoader as POTDataLoader\n",
    "from openvino.tools.pot import Metric, IEEngine, load_model, save_model, compress_model_weights, create_pipeline\n",
    "from torch.utils.data import TensorDataset\n",
    "from transformers import AutoTokenizer, OPTModel\n",
    "from transformers import (\n",
    "    glue_convert_examples_to_features as convert_examples_to_features,\n",
    ")\n",
    "from transformers import glue_output_modes as output_modes\n",
    "from transformers import glue_processors as processors\n",
    "\n",
    "sys.path.append(\"../utils\")"
   ]
  },
  {
   "cell_type": "markdown",
   "id": "e9e66896-d439-4065-868a-65b44d31525a",
   "metadata": {
    "id": "e9e66896-d439-4065-868a-65b44d31525a"
   },
   "source": [
    "## Settings"
   ]
  },
  {
   "cell_type": "code",
   "execution_count": 5,
   "id": "284e9a4b",
   "metadata": {
    "executionInfo": {
     "elapsed": 404,
     "status": "ok",
     "timestamp": 1679500535851,
     "user": {
      "displayName": "Zhumakhan Nazir",
      "userId": "11929776087798199813"
     },
     "user_tz": -360
    },
    "id": "284e9a4b"
   },
   "outputs": [],
   "source": [
    "# Set the data and model directories, source URL and the filename of the model.\n",
    "DATA_DIR = \".\"\n",
    "MODEL_DIR = \".\"\n",
    "\n",
    "os.makedirs(DATA_DIR, exist_ok=True)\n",
    "os.makedirs(MODEL_DIR, exist_ok=True)"
   ]
  },
  {
   "cell_type": "markdown",
   "id": "44dc335d",
   "metadata": {
    "id": "44dc335d",
    "pycharm": {
     "name": "#%% md\n"
    }
   },
   "source": [
    "## Prepare the Model\n",
    "Perform the following:\n",
    "- Download and unpack pre-trained BERT model for MRPC by PyTorch.\n",
    "- Convert the model to the ONNX.\n",
    "- Run Model Optimizer to convert the model from the ONNX representation to the OpenVINO Intermediate Representation (OpenVINO IR)"
   ]
  },
  {
   "cell_type": "markdown",
   "id": "5dca2fa0",
   "metadata": {
    "id": "5dca2fa0"
   },
   "source": [
    "Import all dependencies to load the original PyTorch model and convert it to the ONNX representation."
   ]
  },
  {
   "cell_type": "code",
   "execution_count": 6,
   "id": "eb2f6d66",
   "metadata": {
    "executionInfo": {
     "elapsed": 9238,
     "status": "ok",
     "timestamp": 1679500548366,
     "user": {
      "displayName": "Zhumakhan Nazir",
      "userId": "11929776087798199813"
     },
     "user_tz": -360
    },
    "id": "eb2f6d66",
    "pycharm": {
     "name": "#%%\n"
    }
   },
   "outputs": [],
   "source": [
    "BATCH_SIZE = 1\n",
    "MAX_SEQ_LENGTH = 128\n",
    "\n",
    "\n",
    "def export_model_to_onnx(model: nn.Module, path: t.Union[str, Path]) -> None:\n",
    "    \n",
    "    '''\n",
    "    Converts pytorch model to onnx file\n",
    "\n",
    "    Parameters\n",
    "    ----------\n",
    "    model : pytorch model to be converted to onnx\n",
    "    path : path to onnx file\n",
    "    '''\n",
    "\n",
    "    with torch.no_grad():\n",
    "        default_input = torch.ones(1, MAX_SEQ_LENGTH, dtype=torch.int64)\n",
    "        \n",
    "        inputs = {\n",
    "            \"input_ids\": default_input,\n",
    "            \"attention_mask\": default_input,\n",
    "        }\n",
    "        \n",
    "        symbolic_names = {0: \"batch_size\", 1: \"max_seq_len\"}\n",
    "\n",
    "        torch.onnx.export(\n",
    "            model,\n",
    "            (inputs[\"input_ids\"], inputs[\"attention_mask\"]),\n",
    "            path,\n",
    "            opset_version=11,\n",
    "            do_constant_folding=True,\n",
    "            input_names=[\"input_ids\", \"attention_mask\"],\n",
    "            output_names=[\"output\"],\n",
    "            dynamic_axes={\n",
    "                \"input_ids\": symbolic_names,\n",
    "                \"attention_mask\": symbolic_names,\n",
    "            },\n",
    "        )\n",
    "        print(\"ONNX model saved to {}\".format(path))\n",
    "\n",
    "\n",
    "torch_model = OPTModel.from_pretrained(\"facebook/opt-350m\")\n",
    "onnx_model_path = Path(MODEL_DIR) / \"opt350m.onnx\"\n",
    "\n",
    "if not onnx_model_path.exists():\n",
    "    export_model_to_onnx(torch_model, onnx_model_path)"
   ]
  },
  {
   "cell_type": "code",
   "execution_count": 7,
   "id": "q1OdJe2sCKZj",
   "metadata": {
    "executionInfo": {
     "elapsed": 8,
     "status": "ok",
     "timestamp": 1679500560397,
     "user": {
      "displayName": "Zhumakhan Nazir",
      "userId": "11929776087798199813"
     },
     "user_tz": -360
    },
    "id": "q1OdJe2sCKZj"
   },
   "outputs": [],
   "source": [
    "## If RAM is not enough for quantization, consider deleting unnecessary objects\n",
    "\n",
    "# del torch_model\n",
    "# import gc\n",
    "# gc.collect()"
   ]
  },
  {
   "cell_type": "code",
   "execution_count": 12,
   "id": "c952e66a",
   "metadata": {
    "id": "c952e66a"
   },
   "outputs": [
    {
     "name": "stdout",
     "output_type": "stream",
     "text": [
      "input_ids ['batch_size', 'max_seq_len']\n",
      "attention_mask ['batch_size', 'max_seq_len']\n"
     ]
    },
    {
     "data": {
      "text/plain": [
       "((1, 16, 7, 64), 49)"
      ]
     },
     "execution_count": 12,
     "metadata": {},
     "output_type": "execute_result"
    }
   ],
   "source": [
    "# This is to check if created onnx model is working, at least if inference is successful\n",
    "\n",
    "import onnxruntime as ort\n",
    "\n",
    "so = ort.SessionOptions()\n",
    "so.log_severity_level = 3\n",
    "\n",
    "rt_sess = ort.InferenceSession(str(onnx_model_path), sess_options=so, providers=['CPUExecutionProvider'])\n",
    "input_name = rt_sess.get_inputs()[0].name\n",
    "input_shape =rt_sess.get_inputs()[0].shape\n",
    "print(input_name, input_shape)\n",
    "\n",
    "\n",
    "input_name = rt_sess.get_inputs()[1].name\n",
    "input_shape =rt_sess.get_inputs()[1].shape\n",
    "print(input_name, input_shape)\n",
    "\n",
    "tokenizer = AutoTokenizer.from_pretrained(\"facebook/opt-350m\")\n",
    "inputs = tokenizer(\"Hello, my dog is cute\", return_tensors=\"np\")\n",
    "x = dict(**inputs)\n",
    "onnx_out = rt_sess.run(None, x)\n",
    "\n",
    "onnx_out[1].shape, len(onnx_out)"
   ]
  },
  {
   "cell_type": "markdown",
   "id": "d6911365",
   "metadata": {
    "id": "d6911365"
   },
   "source": [
    "## Convert the ONNX Model to OpenVINO IR"
   ]
  },
  {
   "cell_type": "code",
   "execution_count": 13,
   "id": "20aeea80",
   "metadata": {
    "executionInfo": {
     "elapsed": 443,
     "status": "ok",
     "timestamp": 1679500581736,
     "user": {
      "displayName": "Zhumakhan Nazir",
      "userId": "11929776087798199813"
     },
     "user_tz": -360
    },
    "id": "20aeea80",
    "pycharm": {
     "name": "#%%\n"
    }
   },
   "outputs": [],
   "source": [
    "ir_model_xml = onnx_model_path.with_suffix(\".xml\")\n",
    "ir_model_bin = onnx_model_path.with_suffix(\".bin\")\n",
    "\n",
    "# Convert the ONNX model to OpenVINO IR FP32.\n",
    "if not ir_model_xml.exists():\n",
    "    !mo --input_model $onnx_model_path --output_dir $MODEL_DIR --model_name $ir_model_xml.stem --input input_ids,attention_mask --input_shape \"[1,128],[1,128]\" --output output"
   ]
  },
  {
   "cell_type": "markdown",
   "id": "635f4b0d",
   "metadata": {
    "id": "635f4b0d"
   },
   "source": [
    "## Prepare MRPC Task Dataset\n",
    "\n",
    "To run this tutorial, you will need to download the General Language Understanding Evaluation  (GLUE) data for the MRPC task from HuggingFace. Use the code below to download a script that fetches the MRPC dataset."
   ]
  },
  {
   "cell_type": "code",
   "execution_count": 9,
   "id": "43070514",
   "metadata": {
    "executionInfo": {
     "elapsed": 1441,
     "status": "ok",
     "timestamp": 1679499141162,
     "user": {
      "displayName": "Zhumakhan Nazir",
      "userId": "11929776087798199813"
     },
     "user_tz": -360
    },
    "id": "43070514"
   },
   "outputs": [
    {
     "name": "stdout",
     "output_type": "stream",
     "text": [
      "--2023-03-22 22:29:50--  https://raw.githubusercontent.com/huggingface/transformers/f98ef14d161d7bcdc9808b5ec399981481411cc1/utils/download_glue_data.py\n",
      "Resolving raw.githubusercontent.com (raw.githubusercontent.com)... 185.199.108.133, 185.199.109.133, 185.199.110.133, ...\n",
      "Connecting to raw.githubusercontent.com (raw.githubusercontent.com)|185.199.108.133|:443... connected.\n",
      "HTTP request sent, awaiting response... 200 OK\n",
      "Length: 8209 (8,0K) [text/plain]\n",
      "Saving to: ‘download_glue_data.py’\n",
      "\n",
      "download_glue_data. 100%[===================>]   8,02K  --.-KB/s    in 0,02s   \n",
      "\n",
      "2023-03-22 22:29:51 (344 KB/s) - ‘download_glue_data.py’ saved [8209/8209]\n",
      "\n"
     ]
    }
   ],
   "source": [
    "!wget https://raw.githubusercontent.com/huggingface/transformers/f98ef14d161d7bcdc9808b5ec399981481411cc1/utils/download_glue_data.py"
   ]
  },
  {
   "cell_type": "code",
   "execution_count": 10,
   "id": "af48e548",
   "metadata": {
    "colab": {
     "base_uri": "https://localhost:8080/"
    },
    "executionInfo": {
     "elapsed": 1020,
     "status": "ok",
     "timestamp": 1679499201631,
     "user": {
      "displayName": "Zhumakhan Nazir",
      "userId": "11929776087798199813"
     },
     "user_tz": -360
    },
    "id": "af48e548",
    "outputId": "0b61c090-2f1f-4012-ea80-e696af5b167a"
   },
   "outputs": [
    {
     "name": "stdout",
     "output_type": "stream",
     "text": [
      "Processing MRPC...\n",
      "Local MRPC data not specified, downloading data from https://dl.fbaipublicfiles.com/senteval/senteval_data/msr_paraphrase_train.txt\n",
      "\tCompleted!\n"
     ]
    }
   ],
   "source": [
    "from download_glue_data import format_mrpc\n",
    "\n",
    "format_mrpc(DATA_DIR, \"\")"
   ]
  },
  {
   "cell_type": "markdown",
   "id": "da802acd",
   "metadata": {
    "id": "da802acd"
   },
   "source": [
    "## Define DataLoader for POT\n",
    "In this step, you define `DataLoader` based on POT API. It will be used to collect statistics for quantization and run model evaluation. \n",
    "Use helper functions from the HuggingFace Transformers to do the data preprocessing. It takes raw text data and encodes sentences and words, producing three model inputs. \n",
    "For more details about the data preprocessing and tokenization, refer to this [description](https://medium.com/@dhartidhami/understanding-bert-word-embeddings-7dc4d2ea54ca)."
   ]
  },
  {
   "cell_type": "code",
   "execution_count": 16,
   "id": "d2a378cb",
   "metadata": {
    "executionInfo": {
     "elapsed": 6,
     "status": "ok",
     "timestamp": 1679500591447,
     "user": {
      "displayName": "Zhumakhan Nazir",
      "userId": "11929776087798199813"
     },
     "user_tz": -360
    },
    "id": "d2a378cb",
    "tags": [],
    "test_replace": {
     "return len(self.dataset)": "return 30"
    }
   },
   "outputs": [],
   "source": [
    "class MRPCDataLoader(POTDataLoader):\n",
    "    # Required methods\n",
    "    def __init__(self, config: Dict):\n",
    "        \"\"\"Constructor\n",
    "        :param config: data loader specific config\n",
    "        \"\"\"\n",
    "        if not isinstance(config, Dict):\n",
    "            config = Dict(config)\n",
    "        super().__init__(config)\n",
    "        self._task = config[\"task\"].lower()\n",
    "        self._model_dir = config[\"model_dir\"]\n",
    "        self._data_dir = config[\"data_source\"]\n",
    "        self._batch_size = config[\"batch_size\"]\n",
    "        self._max_length = config[\"max_length\"]\n",
    "        self.examples = []\n",
    "        self._prepare_dataset()\n",
    "\n",
    "    def __len__(self)-> int:\n",
    "        \"\"\"Returns size of the dataset\"\"\"\n",
    "        return len(self.dataset)\n",
    "\n",
    "    def __getitem__(self, index: int)-> t.Tuple[t.Tuple, t.Dict]:\n",
    "        \"\"\"\n",
    "        Returns annotation, data and metadata at the specified index.\n",
    "        Possible formats:\n",
    "        (index, annotation), data\n",
    "        (index, annotation), data, metadata\n",
    "        \"\"\"\n",
    "        if index >= len(self):\n",
    "            raise IndexError\n",
    "\n",
    "        batch = self.dataset[index]\n",
    "        batch = tuple(t.detach().cpu().numpy() for t in batch)\n",
    "        inputs = {\"input_ids\": batch[0], \"attention_mask\": batch[1]}\n",
    "        labels = batch[2]\n",
    "        return (index, labels), inputs\n",
    "\n",
    "    # Methods specific to the current implementation\n",
    "    def _prepare_dataset(self):\n",
    "        \"\"\"Prepare dataset\"\"\"\n",
    "        tokenizer = AutoTokenizer.from_pretrained(\"facebook/opt-350m\", do_lower_case=True)\n",
    "        processor = processors[self._task]()\n",
    "        output_mode = output_modes[self._task]\n",
    "        label_list = processor.get_labels()\n",
    "        examples = processor.get_dev_examples(self._data_dir)\n",
    "        features = convert_examples_to_features(\n",
    "            examples,\n",
    "            tokenizer,\n",
    "            label_list=label_list,\n",
    "            max_length=self._max_length,\n",
    "            output_mode=output_mode,\n",
    "        )\n",
    "        all_input_ids = torch.unsqueeze(torch.tensor([f.input_ids for f in features], dtype=torch.long), 1)\n",
    "        all_attention_mask = torch.unsqueeze(torch.tensor([f.attention_mask for f in features], dtype=torch.long), 1)\n",
    "        all_labels = torch.unsqueeze(torch.tensor([f.label for f in features], dtype=torch.long), 1)\n",
    "        self.dataset = TensorDataset(\n",
    "            all_input_ids, all_attention_mask, all_labels\n",
    "        )\n",
    "        self.examples = examples"
   ]
  },
  {
   "cell_type": "markdown",
   "id": "71c867d3",
   "metadata": {
    "id": "71c867d3"
   },
   "source": [
    "## Define Accuracy Metric Calculation\n",
    "In this step the `Metric` interface for MRPC task metrics is implemented. It is used for validating the accuracy of the models."
   ]
  },
  {
   "cell_type": "code",
   "execution_count": 17,
   "id": "2f4e7fbc",
   "metadata": {
    "executionInfo": {
     "elapsed": 1061,
     "status": "ok",
     "timestamp": 1679500594650,
     "user": {
      "displayName": "Zhumakhan Nazir",
      "userId": "11929776087798199813"
     },
     "user_tz": -360
    },
    "id": "2f4e7fbc"
   },
   "outputs": [],
   "source": [
    "class Accuracy(Metric):\n",
    "\n",
    "    # Required methods\n",
    "    def __init__(self):\n",
    "        super().__init__()\n",
    "        self._name = \"Accuracy\"\n",
    "        self._matches = []\n",
    "\n",
    "    @property\n",
    "    def value(self) -> t.Dict:\n",
    "        \"\"\"Returns accuracy metric value for the last model output.\"\"\"\n",
    "        return {self._name: self._matches[-1]}\n",
    "\n",
    "    @property\n",
    "    def avg_value(self) -> t.Dict:\n",
    "        \"\"\"Returns accuracy metric value for all model outputs.\"\"\"\n",
    "        return {self._name: np.ravel(self._matches).mean()}\n",
    "\n",
    "    def update(self, output: np.ndarray, target: np.ndarray):\n",
    "        \"\"\"\n",
    "        Updates prediction matches.\n",
    "\n",
    "        :param output: model output\n",
    "        :param target: annotations\n",
    "        \"\"\"\n",
    "        if len(output) > 1:\n",
    "            raise Exception(\n",
    "                \"The accuracy metric cannot be calculated \" \"for a model with multiple outputs\"\n",
    "            )\n",
    "        output = np.argmax(output)\n",
    "        match = output == target[0]\n",
    "        self._matches.append(match)\n",
    "\n",
    "    def reset(self):\n",
    "        \"\"\"\n",
    "        Resets collected matches\n",
    "        \"\"\"\n",
    "        self._matches = []\n",
    "\n",
    "    def get_attributes(self) -> t.Dict :\n",
    "        \"\"\"\n",
    "        Returns a dictionary of metric attributes {metric_name: {attribute_name: value}}.\n",
    "        Required attributes: 'direction': 'higher-better' or 'higher-worse'\n",
    "                             'type': metric type\n",
    "        \"\"\"\n",
    "        return {self._name: {\"direction\": \"higher-better\", \"type\": \"accuracy\"}}"
   ]
  },
  {
   "cell_type": "markdown",
   "id": "9bbbca4a",
   "metadata": {
    "id": "9bbbca4a"
   },
   "source": [
    "## Run Quantization Pipeline\n",
    "Define a configuration for the quantization pipeline and run it. Keep in mind that built-in `IEEngine` implementation of `Engine` interface from the POT API for model inference is used here."
   ]
  },
  {
   "cell_type": "code",
   "execution_count": 23,
   "id": "16457bd4",
   "metadata": {
    "executionInfo": {
     "elapsed": 39481,
     "status": "ok",
     "timestamp": 1679500660861,
     "user": {
      "displayName": "Zhumakhan Nazir",
      "userId": "11929776087798199813"
     },
     "user_tz": -360
    },
    "id": "16457bd4",
    "tags": [],
    "test_replace": {
     "\"stat_subset_size\": 250,": "\"stat_subset_size\": 25,"
    }
   },
   "outputs": [],
   "source": [
    "warnings.filterwarnings(\"ignore\")  # Suppress accuracychecker warnings.\n",
    "\n",
    "model_config = Dict({\"model_name\": \"opt350m_defquant\", \"model\": ir_model_xml, \"weights\": ir_model_bin})\n",
    "engine_config = Dict({\"device\": \"CPU\"})\n",
    "dataset_config = {\n",
    "    \"task\": \"mrpc\",\n",
    "    \"data_source\": os.path.join(DATA_DIR, \"MRPC\"),\n",
    "    \"model_dir\": os.path.join(MODEL_DIR, \"MRPC\"),\n",
    "    \"batch_size\": BATCH_SIZE,\n",
    "    \"max_length\": MAX_SEQ_LENGTH,\n",
    "}\n",
    "\n",
    "# We are using DefaultQuantization, and target device is any. Target device can be replaced to CPU\n",
    "# stat_subset_size is set to 2 to lower the memory consumption\n",
    "\n",
    "algorithms = [\n",
    "    {\n",
    "        \"name\": \"DefaultQuantization\",\n",
    "        \"params\": {\n",
    "            \"target_device\": \"ANY\",\n",
    "            \"model_type\": \"transformer\",\n",
    "            \"preset\": \"performance\",\n",
    "            \"stat_subset_size\": 2,\n",
    "        },\n",
    "    }\n",
    "]\n",
    "\n",
    "\n",
    "# Step 1: Load the model.\n",
    "model = load_model(model_config=model_config)\n",
    "\n",
    "# Step 2: Initialize the data loader.\n",
    "data_loader = MRPCDataLoader(config=dataset_config)\n",
    "\n",
    "# Step 3 (Optional. Required for AccuracyAwareQuantization): Initialize the metric.\n",
    "# metric = Accuracy()\n",
    "\n",
    "# Step 4: Initialize the engine for metric calculation and statistics collection.\n",
    "# engine = IEEngine(config=engine_config, data_loader=data_loader, metric=metric)\n",
    "engine = IEEngine(config=engine_config, data_loader=data_loader)\n",
    "\n",
    "# Step 5: Create a pipeline of compression algorithms.\n",
    "pipeline = create_pipeline(algo_config=algorithms, engine=engine)\n",
    "\n",
    "# Step 6 (Optional): Evaluate the original model. Print the results.\n",
    "# fp_results = pipeline.evaluate(model=model)\n",
    "# if fp_results:\n",
    "#     print(\"FP32 model results:\")\n",
    "#     for name, value in fp_results.items():\n",
    "#         print(f\"{name}: {value:.5f}\")"
   ]
  },
  {
   "cell_type": "code",
   "execution_count": 20,
   "id": "bb01e65b",
   "metadata": {},
   "outputs": [
    {
     "data": {
      "text/plain": [
       "123443"
      ]
     },
     "execution_count": 20,
     "metadata": {},
     "output_type": "execute_result"
    }
   ],
   "source": [
    "# To remove unnecessary objects\n",
    "import gc\n",
    "gc.collect()"
   ]
  },
  {
   "cell_type": "code",
   "execution_count": 25,
   "id": "a05b3999",
   "metadata": {
    "colab": {
     "base_uri": "https://localhost:8080/"
    },
    "id": "a05b3999",
    "outputId": "7cd9b0a0-6223-4aca-bc22-b6392eb3b5f9"
   },
   "outputs": [
    {
     "name": "stdout",
     "output_type": "stream",
     "text": [
      "Quantizing model with performance preset and DefaultQuantization\n",
      "Quantization finished in 372.00 seconds\n"
     ]
    }
   ],
   "source": [
    "# Step 7: Execute the pipeline.\n",
    "warnings.filterwarnings(\"ignore\")  # Suppress accuracychecker warnings.\n",
    "print(\n",
    "    f\"Quantizing model with {algorithms[0]['params']['preset']} preset and {algorithms[0]['name']}\"\n",
    ")\n",
    "start_time = time.perf_counter()\n",
    "compressed_model = pipeline.run(model=model)\n",
    "\n",
    "del model\n",
    "gc.collect()\n",
    "\n",
    "end_time = time.perf_counter()\n",
    "print(f\"Quantization finished in {end_time - start_time:.2f} seconds\")\n",
    "\n",
    "# Step 8 (Optional): Compress model weights to quantized precision\n",
    "#                    in order to reduce the size of the final .bin file.\n",
    "compress_model_weights(model=compressed_model)\n",
    "\n",
    "# Step 9: Save the compressed model to the desired path.\n",
    "compressed_model_paths = save_model(model=compressed_model, save_path=MODEL_DIR, model_name=\"opt350_defquant\")\n",
    "\n",
    "compressed_model_xml = compressed_model_paths[0][\"model\"]"
   ]
  },
  {
   "cell_type": "markdown",
   "id": "7c30ab44",
   "metadata": {
    "id": "7c30ab44",
    "pycharm": {
     "name": "#%% md\n"
    }
   },
   "source": [
    "## Load and Test OpenVINO Model\n",
    "\n",
    "To load and test converted model, perform the following:\n",
    "* Load the model and compile it for CPU.\n",
    "* Prepare the input.\n",
    "* Run the inference.\n",
    "* Get the answer from the model output."
   ]
  },
  {
   "cell_type": "code",
   "execution_count": 26,
   "id": "4d79b1a5",
   "metadata": {
    "id": "4d79b1a5",
    "pycharm": {
     "name": "#%%\n"
    }
   },
   "outputs": [],
   "source": [
    "core = ov.Core()\n",
    "\n",
    "# Read the model from files.\n",
    "model = core.read_model(model=compressed_model_xml)\n",
    "\n",
    "# Assign dynamic shapes to every input layer.\n",
    "for input_layer in model.inputs:\n",
    "    input_shape = input_layer.partial_shape\n",
    "    input_shape[1] = -1\n",
    "    model.reshape({input_layer: input_shape})\n",
    "\n",
    "# Compile the model for a specific device.\n",
    "compiled_model_int8 = core.compile_model(model=model, device_name=\"CPU\")\n",
    "\n",
    "output_layer = compiled_model_int8.outputs[0]"
   ]
  },
  {
   "cell_type": "markdown",
   "id": "ef1d846e",
   "metadata": {
    "id": "ef1d846e",
    "pycharm": {
     "name": "#%% md\n"
    }
   },
   "source": [
    "The Data Loader returns a pair of sentences (indicated by `sample_idx`) and the inference compares these sentences and outputs whether their meaning is the same. You can test other sentences by changing `sample_idx` to another value (from 0 to 407)."
   ]
  },
  {
   "cell_type": "markdown",
   "id": "4f67f6a2",
   "metadata": {
    "id": "4f67f6a2",
    "tags": []
   },
   "source": [
    "## Compare Performance of the Original, Converted and Quantized Models\n",
    "\n",
    "Compare the original PyTorch model with OpenVINO converted and quantized models (`FP32`, `INT8`) to see the difference in performance. It is expressed in Sentences Per Second (SPS) measure, which is the same as Frames Per Second (FPS) for images."
   ]
  },
  {
   "cell_type": "code",
   "execution_count": 27,
   "id": "734ae69a",
   "metadata": {
    "id": "734ae69a",
    "pycharm": {
     "name": "#%%\n"
    }
   },
   "outputs": [],
   "source": [
    "model = core.read_model(model=ir_model_xml)\n",
    "\n",
    "# Assign dynamic shapes to every input layer.\n",
    "for input_layer in model.inputs:\n",
    "    input_shape = input_layer.partial_shape\n",
    "    input_shape[1] = -1\n",
    "    model.reshape({input_layer: input_shape})\n",
    "\n",
    "# Compile the model for a specific device.\n",
    "compiled_model_fp32 = core.compile_model(model=model, device_name=\"CPU\")"
   ]
  },
  {
   "cell_type": "code",
   "execution_count": 20,
   "id": "f484fff2",
   "metadata": {
    "id": "f484fff2",
    "pycharm": {
     "name": "#%%\n"
    }
   },
   "outputs": [
    {
     "name": "stdout",
     "output_type": "stream",
     "text": [
      "PyTorch model on CPU: 1.240 seconds per sentence, SPS: 0.81\n",
      "IR FP32 model in OpenVINO Runtime/CPU: 0.443 seconds per sentence, SPS: 2.26\n",
      "OpenVINO IR INT8 model in OpenVINO Runtime/CPU: 0.165 seconds per sentence, SPS: 6.06\n"
     ]
    }
   ],
   "source": [
    "num_samples = 50\n",
    "inputs = data_loader[0][1]\n",
    "\n",
    "with torch.no_grad():\n",
    "    start = time.perf_counter()\n",
    "    for _ in range(num_samples):\n",
    "        torch_model(torch.as_tensor(list(inputs.values())).squeeze())\n",
    "    end = time.perf_counter()\n",
    "    time_torch = end - start\n",
    "print(\n",
    "    f\"PyTorch model on CPU: {time_torch / num_samples:.3f} seconds per sentence, \"\n",
    "    f\"SPS: {num_samples / time_torch:.2f}\"\n",
    ")\n",
    "\n",
    "start = time.perf_counter()\n",
    "for _ in range(num_samples):\n",
    "    compiled_model_fp32(inputs)\n",
    "end = time.perf_counter()\n",
    "time_ir = end - start\n",
    "print(\n",
    "    f\"IR FP32 model in OpenVINO Runtime/CPU: {time_ir / num_samples:.3f} \"\n",
    "    f\"seconds per sentence, SPS: {num_samples / time_ir:.2f}\"\n",
    ")\n",
    "\n",
    "start = time.perf_counter()\n",
    "for _ in range(num_samples):\n",
    "    compiled_model_int8(inputs)\n",
    "end = time.perf_counter()\n",
    "time_ir = end - start\n",
    "print(\n",
    "    f\"OpenVINO IR INT8 model in OpenVINO Runtime/CPU: {time_ir / num_samples:.3f} \"\n",
    "    f\"seconds per sentence, SPS: {num_samples / time_ir:.2f}\"\n",
    ")"
   ]
  },
  {
   "cell_type": "markdown",
   "id": "add78af0",
   "metadata": {
    "id": "add78af0",
    "pycharm": {
     "name": "#%% md\n"
    }
   },
   "source": [
    "Finally, measure the inference performance of OpenVINO `FP32` and `INT8` models. For this purpose, use [Benchmark Tool](https://docs.openvino.ai/latest/openvino_inference_engine_tools_benchmark_tool_README.html) in OpenVINO.\n",
    "\n",
    "> **Note**: The `benchmark_app` tool is able to measure the performance of the OpenVINO Intermediate Representation (OpenVINO IR) models only. For more accurate performance, run `benchmark_app` in a terminal/command prompt after closing other applications. Run `benchmark_app -m model.xml -d CPU` to benchmark async inference on CPU for one minute. Change `CPU` to `GPU` to benchmark on GPU. Run `benchmark_app --help` to see an overview of all command-line options."
   ]
  },
  {
   "cell_type": "code",
   "execution_count": 21,
   "id": "f71b38a8",
   "metadata": {
    "id": "f71b38a8",
    "pycharm": {
     "name": "#%%\n"
    }
   },
   "outputs": [
    {
     "name": "stdout",
     "output_type": "stream",
     "text": [
      "[Step 1/11] Parsing and validating input arguments\n",
      "[ INFO ] Parsing input parameters\n",
      "[Step 2/11] Loading OpenVINO Runtime\n",
      "[ INFO ] OpenVINO:\n",
      "[ INFO ] Build ................................. 2022.3.0-9052-9752fafe8eb-releases/2022/3\n",
      "[ INFO ] \n",
      "[ INFO ] Device info:\n",
      "[ INFO ] CPU\n",
      "[ INFO ] Build ................................. 2022.3.0-9052-9752fafe8eb-releases/2022/3\n",
      "[ INFO ] \n",
      "[ INFO ] \n",
      "[Step 3/11] Setting device configuration\n",
      "[ WARNING ] Performance hint was not explicitly specified in command line. Device(CPU) performance hint will be set to LATENCY.\n",
      "[Step 4/11] Reading model files\n",
      "[ INFO ] Loading model files\n",
      "[ INFO ] Read model took 689.95 ms\n",
      "[ INFO ] Original model I/O parameters:\n",
      "[ INFO ] Model inputs:\n",
      "[ INFO ]     input_ids (node: input_ids) : i64 / [...] / [1,128]\n",
      "[ INFO ]     attention_mask , /decoder/embed_positions/Cast_output_0 (node: attention_mask) : i64 / [...] / [1,128]\n",
      "[ INFO ] Model outputs:\n",
      "[ INFO ]     output (node: output) : f32 / [...] / [1,128,512]\n",
      "[Step 5/11] Resizing model to match image sizes and given batch\n",
      "[ INFO ] Model batch size: 1\n",
      "[Step 6/11] Configuring input of the model\n",
      "[ INFO ] Model inputs:\n",
      "[ INFO ]     input_ids (node: input_ids) : i64 / [...] / [1,128]\n",
      "[ INFO ]     attention_mask , /decoder/embed_positions/Cast_output_0 (node: attention_mask) : i64 / [...] / [1,128]\n",
      "[ INFO ] Model outputs:\n",
      "[ INFO ]     output (node: output) : f32 / [...] / [1,128,512]\n",
      "[Step 7/11] Loading the model to the device\n",
      "[ INFO ] Compile model took 2695.63 ms\n",
      "[Step 8/11] Querying optimal runtime parameters\n",
      "[ INFO ] Model:\n",
      "[ INFO ]   NETWORK_NAME: torch_jit\n",
      "[ INFO ]   OPTIMAL_NUMBER_OF_INFER_REQUESTS: 1\n",
      "[ INFO ]   NUM_STREAMS: 1\n",
      "[ INFO ]   AFFINITY: Affinity.CORE\n",
      "[ INFO ]   INFERENCE_NUM_THREADS: 6\n",
      "[ INFO ]   PERF_COUNT: False\n",
      "[ INFO ]   INFERENCE_PRECISION_HINT: <Type: 'float32'>\n",
      "[ INFO ]   PERFORMANCE_HINT: PerformanceMode.LATENCY\n",
      "[ INFO ]   PERFORMANCE_HINT_NUM_REQUESTS: 0\n",
      "[Step 9/11] Creating infer requests and preparing input tensors\n",
      "[ WARNING ] No input files were given for input 'input_ids'!. This input will be filled with random values!\n",
      "[ WARNING ] No input files were given for input '/decoder/embed_positions/Cast_output_0'!. This input will be filled with random values!\n",
      "[ INFO ] Fill input 'input_ids' with random values \n",
      "[ INFO ] Fill input '/decoder/embed_positions/Cast_output_0' with random values \n",
      "[Step 10/11] Measuring performance (Start inference synchronously, limits: 60000 ms duration)\n",
      "[ INFO ] Benchmarking in inference only mode (inputs filling are not included in measurement loop).\n",
      "[ INFO ] First inference took 491.99 ms\n",
      "[Step 11/11] Dumping statistics report\n",
      "[ INFO ] Count:            137 iterations\n",
      "[ INFO ] Duration:         60020.16 ms\n",
      "[ INFO ] Latency:\n",
      "[ INFO ]    Median:        433.66 ms\n",
      "[ INFO ]    Average:       438.01 ms\n",
      "[ INFO ]    Min:           429.08 ms\n",
      "[ INFO ]    Max:           480.90 ms\n",
      "[ INFO ] Throughput:   2.31 FPS\n"
     ]
    }
   ],
   "source": [
    "# Inference FP32 model (OpenVINO IR)\n",
    "! benchmark_app -m $ir_model_xml -d CPU -api sync"
   ]
  },
  {
   "cell_type": "code",
   "execution_count": 23,
   "id": "fdf41525",
   "metadata": {
    "id": "fdf41525",
    "pycharm": {
     "name": "#%%\n"
    },
    "tags": [],
    "test_replace": {
     "benchmark_app": "benchmark-app -t 5"
    }
   },
   "outputs": [
    {
     "name": "stdout",
     "output_type": "stream",
     "text": [
      "[Step 1/11] Parsing and validating input arguments\n",
      "[ INFO ] Parsing input parameters\n",
      "[Step 2/11] Loading OpenVINO Runtime\n",
      "[ INFO ] OpenVINO:\n",
      "[ INFO ] Build ................................. 2022.3.0-9052-9752fafe8eb-releases/2022/3\n",
      "[ INFO ] \n",
      "[ INFO ] Device info:\n",
      "[ INFO ] CPU\n",
      "[ INFO ] Build ................................. 2022.3.0-9052-9752fafe8eb-releases/2022/3\n",
      "[ INFO ] \n",
      "[ INFO ] \n",
      "[Step 3/11] Setting device configuration\n",
      "[ WARNING ] Performance hint was not explicitly specified in command line. Device(CPU) performance hint will be set to LATENCY.\n",
      "[Step 4/11] Reading model files\n",
      "[ INFO ] Loading model files\n",
      "[ INFO ] Read model took 418.53 ms\n",
      "[ INFO ] Original model I/O parameters:\n",
      "[ INFO ] Model inputs:\n",
      "[ INFO ]     input_ids (node: input_ids) : i64 / [...] / [1,128]\n",
      "[ INFO ]     attention_mask , /decoder/embed_positions/Cast_output_0 (node: attention_mask) : i64 / [...] / [1,128]\n",
      "[ INFO ] Model outputs:\n",
      "[ INFO ]     output (node: output) : f32 / [...] / [1,128,512]\n",
      "[Step 5/11] Resizing model to match image sizes and given batch\n",
      "[ INFO ] Model batch size: 1\n",
      "[Step 6/11] Configuring input of the model\n",
      "[ INFO ] Model inputs:\n",
      "[ INFO ]     input_ids (node: input_ids) : i64 / [...] / [1,128]\n",
      "[ INFO ]     attention_mask , /decoder/embed_positions/Cast_output_0 (node: attention_mask) : i64 / [...] / [1,128]\n",
      "[ INFO ] Model outputs:\n",
      "[ INFO ]     output (node: output) : f32 / [...] / [1,128,512]\n",
      "[Step 7/11] Loading the model to the device\n",
      "[ INFO ] Compile model took 1798.52 ms\n",
      "[Step 8/11] Querying optimal runtime parameters\n",
      "[ INFO ] Model:\n",
      "[ INFO ]   NETWORK_NAME: torch_jit\n",
      "[ INFO ]   OPTIMAL_NUMBER_OF_INFER_REQUESTS: 1\n",
      "[ INFO ]   NUM_STREAMS: 1\n",
      "[ INFO ]   AFFINITY: Affinity.CORE\n",
      "[ INFO ]   INFERENCE_NUM_THREADS: 6\n",
      "[ INFO ]   PERF_COUNT: False\n",
      "[ INFO ]   INFERENCE_PRECISION_HINT: <Type: 'float32'>\n",
      "[ INFO ]   PERFORMANCE_HINT: PerformanceMode.LATENCY\n",
      "[ INFO ]   PERFORMANCE_HINT_NUM_REQUESTS: 0\n",
      "[Step 9/11] Creating infer requests and preparing input tensors\n",
      "[ WARNING ] No input files were given for input 'input_ids'!. This input will be filled with random values!\n",
      "[ WARNING ] No input files were given for input '/decoder/embed_positions/Cast_output_0'!. This input will be filled with random values!\n",
      "[ INFO ] Fill input 'input_ids' with random values \n",
      "[ INFO ] Fill input '/decoder/embed_positions/Cast_output_0' with random values \n",
      "[Step 10/11] Measuring performance (Start inference synchronously, limits: 60000 ms duration)\n",
      "[ INFO ] Benchmarking in inference only mode (inputs filling are not included in measurement loop).\n",
      "[ INFO ] First inference took 214.46 ms\n",
      "[Step 11/11] Dumping statistics report\n",
      "[ INFO ] Count:            374 iterations\n",
      "[ INFO ] Duration:         60036.81 ms\n",
      "[ INFO ] Latency:\n",
      "[ INFO ]    Median:        158.17 ms\n",
      "[ INFO ]    Average:       160.42 ms\n",
      "[ INFO ]    Min:           155.11 ms\n",
      "[ INFO ]    Max:           183.11 ms\n",
      "[ INFO ] Throughput:   6.32 FPS\n"
     ]
    }
   ],
   "source": [
    "# Inference INT8 model (OpenVINO IR)\n",
    "! benchmark_app -m opt350_defquant.xml -d CPU -api sync"
   ]
  }
 ],
 "metadata": {
  "colab": {
   "provenance": []
  },
  "kernelspec": {
   "display_name": "Python 3",
   "language": "python",
   "name": "python3"
  },
  "language_info": {
   "codemirror_mode": {
    "name": "ipython",
    "version": 3
   },
   "file_extension": ".py",
   "mimetype": "text/x-python",
   "name": "python",
   "nbconvert_exporter": "python",
   "pygments_lexer": "ipython3",
   "version": "3.8.10"
  },
  "vscode": {
   "interpreter": {
    "hash": "916dbcbb3f70747c44a77c7bcd40155683ae19c65e1c03b4aa3499c5328201f1"
   }
  }
 },
 "nbformat": 4,
 "nbformat_minor": 5
}
