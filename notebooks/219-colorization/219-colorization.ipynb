{
 "cells": [
  {
   "cell_type": "markdown",
   "metadata": {},
   "source": [
    "# Colorization with OpenVINO\n",
    "\n",
    "This notebook demostrates colorization with OpenVINO. We use the [colorizatioin siggraph](https://github.com/openvinotoolkit/open_model_zoo/tree/master/models/public/colorization-siggraph) from [Open Model Zoo](https://github.com/openvinotoolkit/open_model_zoo/). Given a black and white image, the colorization model can turn it into a plausible color version of the image.\n"
   ]
  },
  {
   "cell_type": "markdown",
   "metadata": {},
   "source": [
    "## Imports"
   ]
  },
  {
   "cell_type": "code",
   "execution_count": null,
   "metadata": {},
   "outputs": [],
   "source": [
    "import os\n",
    "import sys\n",
    "\n",
    "import cv2 as cv\n",
    "import numpy as np\n",
    "from openvino.runtime import Core, get_version\n",
    "from matplotlib import pyplot as plt\n",
    "\n",
    "sys.path.append(\"../utils\")\n",
    "from notebook_utils import load_image"
   ]
  },
  {
   "cell_type": "markdown",
   "metadata": {},
   "source": [
    "## The Model\n",
    "\n",
    "### Download the Model\n",
    "\n",
    "`omz_downloader`, a command-line tool from the `openvino-dev` package, can help us download pretrained models easily. "
   ]
  },
  {
   "cell_type": "code",
   "execution_count": null,
   "metadata": {},
   "outputs": [],
   "source": [
    "# directory where model will be downloaded\n",
    "base_model_dir = \"model\"\n",
    "\n",
    "# model name as named in Open Model Zoo\n",
    "model_name = \"colorization-siggraph\"\n",
    "\n",
    "download_command = f\"omz_downloader \" \\\n",
    "                   f\"--name {model_name} \" \\\n",
    "                   f\"--output_dir {base_model_dir} \" \\\n",
    "                   f\"--cache_dir {base_model_dir}\"\n",
    "! $download_command"
   ]
  },
  {
   "cell_type": "markdown",
   "metadata": {},
   "source": [
    "### Convert the Model\n",
    "\n",
    "The pre-trained model is in PyTorch format. We will use Model Converter (`omz_converter`) to convert it to OpenVINO IR format. `omz_converter`, which is also a command-line tool from the `openvino-dev` package, can help us convert different models to OpenVINO IR format easily. If the converted model already exists, then the conversion step will be skipped and there will be no output from this step."
   ]
  },
  {
   "cell_type": "code",
   "execution_count": null,
   "metadata": {},
   "outputs": [],
   "source": [
    "# FP16 is also available\n",
    "precision = \"FP32\"\n",
    "\n",
    "# output path for the conversion\n",
    "converted_model_path = f\"model/public/{model_name}/{precision}/{model_name}.xml\"\n",
    "\n",
    "if not os.path.exists(converted_model_path):\n",
    "    convert_command = f\"omz_converter \" \\\n",
    "                      f\"--name {model_name} \" \\\n",
    "                      f\"--download_dir {base_model_dir} \" \\\n",
    "                      f\"--precisions {precision}\"\n",
    "    ! $convert_command"
   ]
  },
  {
   "cell_type": "markdown",
   "metadata": {},
   "source": [
    "## Load the Model\n",
    "\n"
   ]
  },
  {
   "cell_type": "code",
   "execution_count": null,
   "metadata": {},
   "outputs": [],
   "source": [
    "# load the inference engine, read model and compile model\n",
    "\n",
    "ie_core = Core()\n",
    "model = ie_core.read_model(model=converted_model_path)\n",
    "compiled_model = ie_core.compile_model(model=model, device_name=\"CPU\")"
   ]
  },
  {
   "cell_type": "markdown",
   "metadata": {},
   "source": [
    "## Processing and utility function"
   ]
  },
  {
   "cell_type": "code",
   "execution_count": null,
   "metadata": {},
   "outputs": [],
   "source": [
    "def preprocess(img, W, H):\n",
    "    \"\"\"\n",
    "    convert RGB-image to LAB-image, resize to (W, H)\n",
    "    return LAB-image, L-channel of LAB-image(resized)\n",
    "    \"\"\"\n",
    "    img_rgb = img.astype(np.float32) / 255\n",
    "    img_lab = cv.cvtColor(img_rgb, cv.COLOR_RGB2Lab)\n",
    "    img_l_channel = cv.resize(img_lab.copy(), (W, H))[:, :, 0]\n",
    "    return img_lab, img_l_channel\n",
    "\n",
    "def postprocess(img, img_lab, W, H):\n",
    "    \"\"\"\n",
    "    process the output of inference, \n",
    "    img is a LAB-image with only AB-channel.\n",
    "    return BGR-image\n",
    "    \"\"\"\n",
    "    # (B, C, H, W) -> (C, H, W), when B = 1\n",
    "    img = np.squeeze(img)\n",
    "    # (C, H, W) -> (H, W, C)\n",
    "    img = img.transpose((1, 2, 0))\n",
    "    img = cv.resize(img, (W, H))\n",
    "    img_lab_full = np.concatenate((img_lab[:, :, 0][:, :, np.newaxis], img), axis=2)\n",
    "    img_bgr = np.clip(cv.cvtColor(img_lab_full, cv.COLOR_Lab2BGR), 0, 1)\n",
    "    img_bgr = (img_bgr * 255).astype(np.uint8)\n",
    "    return img_bgr\n",
    "\n",
    "def show_input_output_image(input_image, output_image):\n",
    "    \"\"\"\n",
    "    show input image and output image\n",
    "    \"\"\"\n",
    "    fig = plt.figure(figsize=(10, 7))\n",
    "    rows = 1\n",
    "    columns = 2\n",
    "\n",
    "    fig.add_subplot(rows, columns, 1)\n",
    "    plt.imshow(input_image)\n",
    "    plt.axis('off')\n",
    "    plt.title(\"Input\")\n",
    "\n",
    "    fig.add_subplot(rows, columns, 2)\n",
    "    plt.imshow(output_image)\n",
    "    plt.axis('off')\n",
    "    plt.title(\"Output\")"
   ]
  },
  {
   "cell_type": "markdown",
   "metadata": {},
   "source": [
    "## Run Inference\n",
    "\n",
    "To run inference, we need to create infer request. `colorization-siggraph` model takes 3 inputs: `data_l`, `user_ab`, `user_map`, we  don't need to specify all three inputs to use the model. We can set the input `data_l` to the preprocessed image, and the remaining inputs `user_ab`, `user_map` to zeros. We can call request.infer() method to run inference, then get output from result tensors."
   ]
  },
  {
   "cell_type": "code",
   "execution_count": null,
   "metadata": {},
   "outputs": [],
   "source": [
    "input_tensor_name = 'data_l'\n",
    "output_tensor = compiled_model.outputs[0]\n",
    "\n",
    "inputs = {}\n",
    "for input in model.inputs:\n",
    "    inputs[input.get_any_name()] = np.zeros(input.shape)\n",
    "inputs.keys()"
   ]
  },
  {
   "cell_type": "code",
   "execution_count": null,
   "metadata": {},
   "outputs": [],
   "source": [
    "def colorize(image_path):\n",
    "    \"\"\"\n",
    "    image_path can be local path or URL\n",
    "    \"\"\"\n",
    "    H, W = 256, 256\n",
    "    image = load_image(image_path)\n",
    "    (h, w, c) = image.shape\n",
    "    img_lab, img_l_channel = preprocess(image, W, H)\n",
    "    inputs[input_tensor_name] = np.expand_dims(img_l_channel, axis=[0, 1])\n",
    "\n",
    "    # create infer request and perform inference\n",
    "    infer_request = compiled_model.create_infer_request()\n",
    "    res = infer_request.infer(inputs)[output_tensor]\n",
    "\n",
    "    out = postprocess(res, img_lab, w, h)\n",
    "    show_input_output_image(cv.cvtColor(image, cv.COLOR_BGR2RGB), cv.cvtColor(out, cv.COLOR_BGR2RGB))"
   ]
  },
  {
   "cell_type": "code",
   "execution_count": null,
   "metadata": {},
   "outputs": [],
   "source": [
    "colorize('lena.png')"
   ]
  },
  {
   "cell_type": "code",
   "execution_count": null,
   "metadata": {},
   "outputs": [],
   "source": [
    "colorize('einstein.jpeg')"
   ]
  },
  {
   "cell_type": "markdown",
   "metadata": {},
   "source": [
    "## References"
   ]
  },
  {
   "cell_type": "markdown",
   "metadata": {},
   "source": [
    "1. [Open Model Zoo](https://github.com/openvinotoolkit/open_model_zoo/)\n",
    "2. [colorization-siggraph](https://github.com/openvinotoolkit/open_model_zoo/tree/master/models/public/colorization-siggraph)\n",
    "3. [Real-Time User-Guided Image Colorization with Learned Deep Priors](https://arxiv.org/abs/1705.02999)"
   ]
  },
  {
   "cell_type": "code",
   "execution_count": null,
   "metadata": {},
   "outputs": [],
   "source": []
  }
 ],
 "metadata": {
  "kernelspec": {
   "display_name": "openvino_env",
   "language": "python",
   "name": "openvino_env"
  },
  "language_info": {
   "codemirror_mode": {
    "name": "ipython",
    "version": 3
   },
   "file_extension": ".py",
   "mimetype": "text/x-python",
   "name": "python",
   "nbconvert_exporter": "python",
   "pygments_lexer": "ipython3",
   "version": "3.8.12"
  }
 },
 "nbformat": 4,
 "nbformat_minor": 4
}
