{
 "cells": [
  {
   "cell_type": "markdown",
   "id": "99b677ff-3399-4f27-ac0f-782bfe25f151",
   "metadata": {},
   "source": [
    "# Grammatical Error Correction with OpenVINO\n",
    "\n",
    "AI-based auto-correction products are becoming increasingly popular due to their ease of use, editing speed, and affordability. These products improve the quality of written text in emails, blogs, and chats.\n",
    "\n",
    "Grammatical Error Correction (GEC) is the task of correcting different types of errors in text such as spelling, punctuation, grammatical and word choice errors.\n",
    "GEC is typically formulated as a sentence correction task. A GEC system takes a potentially erroneous sentence as input and is expected to transform it into a more correct version. See the example given below:\n",
    "\n",
    "| Input (Erroneous)                                         | Output (Corrected)                                       |\n",
    "| --------------------------------------------------------- | -------------------------------------------------------- |\n",
    "| I like to rides my bicycle. | I like to ride my bicycle. |\n",
    "\n",
    " As shown in the image below, different types of errors in written language can be corrected.\n",
    "\n",
    "![error_types](https://cdn-images-1.medium.com/max/540/1*Voez5hEn5MU8Knde3fIZfw.png)\n",
    "\n",
    "This tutorial shows how to perform grammatical error correction using OpenVINO. We will use pre-trained models from the [Hugging Face Transformers](https://huggingface.co/docs/transformers/index) library. To simplify the user experience, the [Hugging Face Optimum](https://huggingface.co/docs/optimum) library is used to convert the models to OpenVINO™ IR format.\n",
    "\n",
    "It consists of the following steps:\n",
    "\n",
    "- Install prerequisites\n",
    "- Download and convert models from a public source using the [OpenVINO integration with Hugging Face Optimum](https://huggingface.co/blog/openvino).\n",
    "- Create an inference pipeline for grammatical error checking"
   ]
  },
  {
   "cell_type": "markdown",
   "id": "efafd7fb-95ea-47c0-9441-7b2bbb8e6b89",
   "metadata": {},
   "source": [
    "## How does it work?\n",
    "\n",
    "A Grammatical Error Correction task can be thought of as a sequence-to-sequence task where a model is trained to take a grammatically incorrect sentence as input and return a grammatically correct sentence as output. We will use the [FLAN-T5](https://huggingface.co/pszemraj/flan-t5-large-grammar-synthesis) model finetuned on an expanded version of the [JFLEG](https://paperswithcode.com/dataset/jfleg) dataset.\n",
    "\n",
    "The version of FLAN-T5 released with the [Scaling Instruction-Finetuned Language Models](https://arxiv.org/pdf/2210.11416.pdf) paper is an enhanced version of [T5](https://huggingface.co/t5-large) that has been finetuned on a combination of tasks. The paper explores instruction finetuning with a particular focus on scaling the number of tasks, scaling the model size, and finetuning on chain-of-thought data. The paper discovers that overall instruction finetuning is a general method that improves the performance and usability of pre-trained language models.\n",
    "\n",
    "![flan-t5 training](https://production-media.paperswithcode.com/methods/a04cb14e-e6b8-449e-9487-bc4262911d74.png)\n",
    "\n",
    "For more details about the model, please check out [paper](https://arxiv.org/abs/2210.11416), original [repository](https://github.com/google-research/t5x), and Hugging Face [model card](https://huggingface.co/google/flan-t5-large)\n",
    "\n",
    "Additionally, to reduce the number of sentences required to be processed, you can perform grammatical correctness checking. This task should be considered as a simple binary text classification, where the model gets input text and predicts label 1 if a text contains any grammatical errors and 0 if it does not. You will use the [roberta-base-CoLA](https://huggingface.co/textattack/roberta-base-CoLA) model, the RoBERTa Base model finetuned on the CoLA dataset. The RoBERTa model was proposed in [RoBERTa: A Robustly Optimized BERT Pretraining Approach paper](https://arxiv.org/abs/1907.11692). It builds on BERT and modifies key hyperparameters, removing the next-sentence pre-training objective and training with much larger mini-batches and learning rates. Additional details about the model can be found in a [blog post](https://ai.facebook.com/blog/roberta-an-optimized-method-for-pretraining-self-supervised-nlp-systems/) by Meta AI and in the [Hugging Face documentation](https://huggingface.co/docs/transformers/model_doc/roberta)\n",
    "\n",
    "Now that we know more about FLAN-T5 and RoBERTa, let us get started. 🚀"
   ]
  },
  {
   "cell_type": "markdown",
   "id": "ed9a760a-aaf7-41f6-ab0d-da993e486336",
   "metadata": {},
   "source": [
    "## Prerequisites\n",
    "\n",
    "First, we need to install the [Hugging Face Optimum](https://huggingface.co/docs/transformers/index) library accelerated by OpenVINO integration.\n",
    "The Hugging Face Optimum API is a high-level API that enables us to convert and quantize models from the Hugging Face Transformers library to the OpenVINO™ IR format. For more details, refer to the [Hugging Face Optimum documentation](https://huggingface.co/docs/optimum/intel/inference)."
   ]
  },
  {
   "cell_type": "code",
   "execution_count": 1,
   "id": "2974cad4-bd3f-4552-82ac-ebd21bf75d9d",
   "metadata": {},
   "outputs": [
    {
     "name": "stdout",
     "output_type": "stream",
     "text": [
      "\n",
      "\u001b[1m[\u001b[0m\u001b[34;49mnotice\u001b[0m\u001b[1;39;49m]\u001b[0m\u001b[39;49m A new release of pip is available: \u001b[0m\u001b[31;49m23.1.2\u001b[0m\u001b[39;49m -> \u001b[0m\u001b[32;49m23.2\u001b[0m\n",
      "\u001b[1m[\u001b[0m\u001b[34;49mnotice\u001b[0m\u001b[1;39;49m]\u001b[0m\u001b[39;49m To update, run: \u001b[0m\u001b[32;49mpip install --upgrade pip\u001b[0m\n"
     ]
    }
   ],
   "source": [
    "!pip install -q \"git+https://github.com/huggingface/optimum-intel.git\" onnx onnxruntime"
   ]
  },
  {
   "cell_type": "markdown",
   "id": "c13b157a-2bbb-49db-9046-47c2b6ba2953",
   "metadata": {},
   "source": [
    "## Download and Convert Models\n",
    "\n",
    "Optimum Intel can be used to load optimized models from the [Hugging Face Hub](https://huggingface.co/docs/optimum/intel/hf.co/models) and create pipelines to run an inference with OpenVINO Runtime using Hugging Face APIs. The Optimum Inference models are API compatible with Hugging Face Transformers models.  This means we just need to replace `AutoModelForXxx` class with the corresponding `OVModelForXxx` class.\n",
    "\n",
    "Below is an example of the RoBERTa text classification model\n",
    "\n",
    "```diff\n",
    "-from transformers import AutoModelForSequenceClassification\n",
    "+from optimum.intel.openvino import OVModelForSequenceClassification\n",
    "from transformers import AutoTokenizer, pipeline\n",
    "\n",
    "model_id = \"textattack/roberta-base-CoLA\"\n",
    "-model = AutoModelForSequenceClassification.from_pretrained(model_id)\n",
    "+model = OVModelForSequenceClassification.from_pretrained(model_id, from_transformers=True)\n",
    "```\n",
    "\n",
    "Model class initialization starts with calling `from_pretrained` method. When downloading and converting Transformers model, the parameter `from_transformers=True` should be added. We can save the converted model for the next usage with the `save_pretrained` method.\n",
    "Tokenizer class and pipelines API are compatible with Optimum models."
   ]
  },
  {
   "cell_type": "code",
   "execution_count": 2,
   "id": "b99c7c6c-256d-43ae-9b8b-fc1d4f501e06",
   "metadata": {},
   "outputs": [
    {
     "name": "stderr",
     "output_type": "stream",
     "text": [
      "2023-07-17 14:43:08.812267: I tensorflow/core/util/port.cc:110] oneDNN custom operations are on. You may see slightly different numerical results due to floating-point round-off errors from different computation orders. To turn them off, set the environment variable `TF_ENABLE_ONEDNN_OPTS=0`.\n",
      "2023-07-17 14:43:08.850959: I tensorflow/core/platform/cpu_feature_guard.cc:182] This TensorFlow binary is optimized to use available CPU instructions in performance-critical operations.\n",
      "To enable the following instructions: AVX2 AVX512F AVX512_VNNI FMA, in other operations, rebuild TensorFlow with the appropriate compiler flags.\n",
      "2023-07-17 14:43:09.468643: W tensorflow/compiler/tf2tensorrt/utils/py_utils.cc:38] TF-TRT Warning: Could not find TensorRT\n"
     ]
    },
    {
     "name": "stdout",
     "output_type": "stream",
     "text": [
      "INFO:nncf:NNCF initialized successfully. Supported frameworks detected: torch, tensorflow, onnx, openvino\n"
     ]
    },
    {
     "name": "stderr",
     "output_type": "stream",
     "text": [
      "No CUDA runtime is found, using CUDA_HOME='/usr/local/cuda'\n",
      "comet_ml is installed but `COMET_API_KEY` is not set.\n"
     ]
    }
   ],
   "source": [
    "from pathlib import Path\n",
    "from transformers import pipeline, AutoTokenizer\n",
    "from optimum.intel.openvino import OVModelForSeq2SeqLM, OVModelForSequenceClassification"
   ]
  },
  {
   "cell_type": "markdown",
   "id": "833e0871-c828-4104-a986-230a27c913a5",
   "metadata": {},
   "source": [
    "### Select inference device\n",
    "\n",
    "select device from dropdown list for running inference using OpenVINO"
   ]
  },
  {
   "cell_type": "code",
   "execution_count": 3,
   "id": "053b4f68-a329-43ac-920c-9d86949edc05",
   "metadata": {},
   "outputs": [
    {
     "data": {
      "application/vnd.jupyter.widget-view+json": {
       "model_id": "a6cc5a5b6a764c07883ab0d2aa6b7ae9",
       "version_major": 2,
       "version_minor": 0
      },
      "text/plain": [
       "Dropdown(description='Device:', index=2, options=('CPU', 'GPU', 'AUTO'), value='AUTO')"
      ]
     },
     "execution_count": 3,
     "metadata": {},
     "output_type": "execute_result"
    }
   ],
   "source": [
    "import ipywidgets as widgets\n",
    "from openvino.runtime import Core\n",
    "\n",
    "core = Core()\n",
    "\n",
    "device = widgets.Dropdown(\n",
    "    options=core.available_devices + [\"AUTO\"],\n",
    "    value='AUTO',\n",
    "    description='Device:',\n",
    "    disabled=False,\n",
    ")\n",
    "\n",
    "device"
   ]
  },
  {
   "cell_type": "markdown",
   "id": "6131a0ec-654e-435e-a668-55ad33cff74b",
   "metadata": {},
   "source": [
    "### Grammar Checker"
   ]
  },
  {
   "cell_type": "code",
   "execution_count": 4,
   "id": "47af0ecf-99ff-4852-bfaa-6692caeaca21",
   "metadata": {},
   "outputs": [
    {
     "name": "stderr",
     "output_type": "stream",
     "text": [
      "Compiling the model...\n",
      "Set CACHE_DIR to roberta-base-cola/model_cache\n"
     ]
    }
   ],
   "source": [
    "grammar_checker_model_id = \"textattack/roberta-base-CoLA\"\n",
    "grammar_checker_dir = Path(\"roberta-base-cola\")\n",
    "grammar_checker_tokenizer = AutoTokenizer.from_pretrained(grammar_checker_model_id)\n",
    "\n",
    "if grammar_checker_dir.exists():\n",
    "    grammar_checker_model = OVModelForSequenceClassification.from_pretrained(grammar_checker_dir, device=device.value)\n",
    "else:\n",
    "    grammar_checker_model = OVModelForSequenceClassification.from_pretrained(grammar_checker_model_id, export=True, device=device.value)\n",
    "    grammar_checker_model.save_pretrained(grammar_checker_dir)"
   ]
  },
  {
   "cell_type": "markdown",
   "id": "482a5d75-916a-4363-bf24-5b642a6bf437",
   "metadata": {},
   "source": [
    "Let us check model work, using inference pipeline for `text-classification` task. You can find more information about usage Hugging Face inference pipelines in this [tutorial](https://huggingface.co/docs/transformers/pipeline_tutorial)"
   ]
  },
  {
   "cell_type": "code",
   "execution_count": 5,
   "id": "90e48d59-9eea-4962-ac9a-fc9a6330b406",
   "metadata": {},
   "outputs": [
    {
     "name": "stderr",
     "output_type": "stream",
     "text": [
      "Xformers is not installed correctly. If you want to use memory_efficient_attention to accelerate training use the following command to install Xformers\n",
      "pip install xformers.\n"
     ]
    },
    {
     "name": "stdout",
     "output_type": "stream",
     "text": [
      "input text: They are moved by salar energy\n",
      "predicted label: contains_errors\n",
      "predicted score: 0.88\n"
     ]
    }
   ],
   "source": [
    "input_text = \"They are moved by salar energy\"\n",
    "grammar_checker_pipe = pipeline(\"text-classification\", model=grammar_checker_model, tokenizer=grammar_checker_tokenizer)\n",
    "result = grammar_checker_pipe(input_text)[0]\n",
    "print(f\"input text: {input_text}\")\n",
    "print(f'predicted label: {\"contains_errors\" if result[\"label\"] == \"LABEL_1\" else \"no errors\"}')\n",
    "print(f'predicted score: {result[\"score\"] :.2}')"
   ]
  },
  {
   "cell_type": "markdown",
   "id": "5c4e358c-bbf8-4ea8-9b19-d8616c41562d",
   "metadata": {},
   "source": [
    "Great! Looks like the model can detect errors in the sample."
   ]
  },
  {
   "cell_type": "markdown",
   "id": "cdba3c17-9f94-4d1c-afae-39c857caf5af",
   "metadata": {},
   "source": [
    "### Grammar Corrector\n",
    "\n",
    "The steps for loading the Grammar Corrector model are very similar, except for the model class that is used. Because FLAN-T5 is a sequence-to-sequence text generation model, we should use the `OVModelForSeq2SeqLM` class and the `text2text-generation` pipeline to run it."
   ]
  },
  {
   "cell_type": "code",
   "execution_count": 6,
   "id": "a4771627-a3d1-4023-a016-c668ec079f34",
   "metadata": {
    "test_replace": {
     "flan-t5-large-grammar-synthesis": "grammar-synthesis-small"
    }
   },
   "outputs": [
    {
     "name": "stderr",
     "output_type": "stream",
     "text": [
      "The argument `from_transformers` is deprecated, and will be removed in optimum 2.0.  Use `export` instead\n",
      "Framework not specified. Using pt to export to ONNX.\n",
      "Using framework PyTorch: 1.13.1+cpu\n",
      "Overriding 1 configuration item(s)\n",
      "\t- use_cache -> False\n",
      "Using framework PyTorch: 1.13.1+cpu\n",
      "Overriding 1 configuration item(s)\n",
      "\t- use_cache -> True\n",
      "/home/ea/work/notebooks_convert/notebooks_conv_env/lib/python3.8/site-packages/transformers/modeling_utils.py:850: TracerWarning: Converting a tensor to a Python boolean might cause the trace to be incorrect. We can't record the data flow of Python values, so this value will be treated as a constant in the future. This means that the trace might not generalize to other inputs!\n",
      "  if causal_mask.shape[1] < attention_mask.shape[1]:\n",
      "Using framework PyTorch: 1.13.1+cpu\n",
      "Overriding 1 configuration item(s)\n",
      "\t- use_cache -> True\n",
      "/home/ea/work/notebooks_convert/notebooks_conv_env/lib/python3.8/site-packages/transformers/models/t5/modeling_t5.py:507: TracerWarning: Converting a tensor to a Python boolean might cause the trace to be incorrect. We can't record the data flow of Python values, so this value will be treated as a constant in the future. This means that the trace might not generalize to other inputs!\n",
      "  elif past_key_value.shape[2] != key_value_states.shape[1]:\n",
      "In-place op on output of tensor.shape. See https://pytorch.org/docs/master/onnx.html#avoid-inplace-operations-when-using-tensor-shape-in-tracing-mode\n",
      "In-place op on output of tensor.shape. See https://pytorch.org/docs/master/onnx.html#avoid-inplace-operations-when-using-tensor-shape-in-tracing-mode\n",
      "Compiling the encoder...\n",
      "Compiling the decoder...\n",
      "Compiling the decoder...\n"
     ]
    }
   ],
   "source": [
    "grammar_corrector_model_id = \"pszemraj/flan-t5-large-grammar-synthesis\"\n",
    "grammar_corrector_dir = Path(\"flan-t5-large-grammar-synthesis\")\n",
    "grammar_corrector_tokenizer = AutoTokenizer.from_pretrained(grammar_corrector_model_id)\n",
    "\n",
    "if grammar_corrector_dir.exists():\n",
    "    grammar_corrector_model = OVModelForSeq2SeqLM.from_pretrained(grammar_corrector_dir, device=device.value)\n",
    "else:\n",
    "    grammar_corrector_model = OVModelForSeq2SeqLM.from_pretrained(grammar_corrector_model_id, export=True, device=device.value)\n",
    "    grammar_corrector_model.save_pretrained(grammar_corrector_dir)"
   ]
  },
  {
   "cell_type": "code",
   "execution_count": 7,
   "id": "cf3d0d24-c94a-42c7-b603-499bd9d251d6",
   "metadata": {},
   "outputs": [],
   "source": [
    "grammar_corrector_pipe = pipeline(\"text2text-generation\", model=grammar_corrector_model, tokenizer=grammar_corrector_tokenizer)"
   ]
  },
  {
   "cell_type": "code",
   "execution_count": 8,
   "id": "4bdf3a9d-1b4d-415f-8e7a-6be89f700898",
   "metadata": {},
   "outputs": [
    {
     "name": "stdout",
     "output_type": "stream",
     "text": [
      "input text:     They are moved by salar energy\n",
      "generated text: They are powered by solar energy.\n"
     ]
    }
   ],
   "source": [
    "result = grammar_corrector_pipe(input_text)[0]\n",
    "print(f\"input text:     {input_text}\") \n",
    "print(f'generated text: {result[\"generated_text\"]}') "
   ]
  },
  {
   "cell_type": "markdown",
   "id": "992cb162-efd3-49da-99c5-0c44af34afaf",
   "metadata": {},
   "source": [
    "Nice! The result looks pretty good!"
   ]
  },
  {
   "cell_type": "markdown",
   "id": "69faa673-45fd-481d-9573-4f54ea17fb77",
   "metadata": {},
   "source": [
    "## Prepare Demo Pipeline\n",
    "\n",
    "Now let us put everything together and create the pipeline for grammar correction.\n",
    "The pipeline accepts input text, verifies its correctness, and generates the correct version if required. It will consist of several steps:\n",
    "\n",
    "1. Split text on sentences.\n",
    "2. Check grammatical correctness for each sentence using Grammar Checker.\n",
    "3. Generate an improved version of the sentence if required."
   ]
  },
  {
   "cell_type": "code",
   "execution_count": 9,
   "id": "15edc678-6bf7-4241-a230-5de5dd251d5b",
   "metadata": {},
   "outputs": [],
   "source": [
    "import re\n",
    "import transformers\n",
    "from tqdm.notebook import tqdm\n",
    "\n",
    "\n",
    "def split_text(text: str) -> list:\n",
    "    \"\"\"\n",
    "    Split a string of text into a list of sentence batches.\n",
    "\n",
    "    Parameters:\n",
    "    text (str): The text to be split into sentence batches.\n",
    "\n",
    "    Returns:\n",
    "    list: A list of sentence batches. Each sentence batch is a list of sentences.\n",
    "    \"\"\"\n",
    "    # Split the text into sentences using regex\n",
    "    sentences = re.split(r\"(?<=[^A-Z].[.?]) +(?=[A-Z])\", text)\n",
    "\n",
    "    # Initialize a list to store the sentence batches\n",
    "    sentence_batches = []\n",
    "\n",
    "    # Initialize a temporary list to store the current batch of sentences\n",
    "    temp_batch = []\n",
    "\n",
    "    # Iterate through the sentences\n",
    "    for sentence in sentences:\n",
    "        # Add the sentence to the temporary batch\n",
    "        temp_batch.append(sentence)\n",
    "\n",
    "        # If the length of the temporary batch is between 2 and 3 sentences, or if it is the last batch, add it to the list of sentence batches\n",
    "        if len(temp_batch) >= 2 and len(temp_batch) <= 3 or sentence == sentences[-1]:\n",
    "            sentence_batches.append(temp_batch)\n",
    "            temp_batch = []\n",
    "\n",
    "    return sentence_batches\n",
    "\n",
    "\n",
    "def correct_text(text: str, checker: transformers.pipelines.Pipeline, corrector: transformers.pipelines.Pipeline, separator: str = \" \") -> str:\n",
    "    \"\"\"\n",
    "    Correct the grammar in a string of text using a text-classification and text-generation pipeline.\n",
    "\n",
    "    Parameters:\n",
    "    text (str): The inpur text to be corrected.\n",
    "    checker (transformers.pipelines.Pipeline): The text-classification pipeline to use for checking the grammar quality of the text.\n",
    "    corrector (transformers.pipelines.Pipeline): The text-generation pipeline to use for correcting the text.\n",
    "    separator (str, optional): The separator to use when joining the corrected text into a single string. Default is a space character.\n",
    "\n",
    "    Returns:\n",
    "    str: The corrected text.\n",
    "    \"\"\"\n",
    "    # Split the text into sentence batches\n",
    "    sentence_batches = split_text(text)\n",
    "\n",
    "    # Initialize a list to store the corrected text\n",
    "    corrected_text = []\n",
    "\n",
    "    # Iterate through the sentence batches\n",
    "    for batch in tqdm(\n",
    "        sentence_batches, total=len(sentence_batches), desc=\"correcting text..\"\n",
    "    ):\n",
    "        # Join the sentences in the batch into a single string\n",
    "        raw_text = \" \".join(batch)\n",
    "\n",
    "        # Check the grammar quality of the text using the text-classification pipeline\n",
    "        results = checker(raw_text)\n",
    "\n",
    "        # Only correct the text if the results of the text-classification are not LABEL_1 or are LABEL_1 with a score below 0.9\n",
    "        if results[0][\"label\"] != \"LABEL_1\" or (\n",
    "            results[0][\"label\"] == \"LABEL_1\" and results[0][\"score\"] < 0.9\n",
    "        ):\n",
    "            # Correct the text using the text-generation pipeline\n",
    "            corrected_batch = corrector(raw_text)\n",
    "            corrected_text.append(corrected_batch[0][\"generated_text\"])\n",
    "        else:\n",
    "            corrected_text.append(raw_text)\n",
    "\n",
    "    # Join the corrected text into a single string\n",
    "    corrected_text = separator.join(corrected_text)\n",
    "\n",
    "    return corrected_text"
   ]
  },
  {
   "cell_type": "markdown",
   "id": "26d3d759-3cb2-418d-82f8-3be2e445916a",
   "metadata": {},
   "source": [
    "Let us see it in action. Enter text to be corrected in the text box and execute the following cells."
   ]
  },
  {
   "cell_type": "code",
   "execution_count": 10,
   "id": "aee397f5-12cb-460b-8824-327f19af8e5f",
   "metadata": {},
   "outputs": [
    {
     "data": {
      "application/vnd.jupyter.widget-view+json": {
       "model_id": "44b1c27db36641e58268ac097c32240c",
       "version_major": 2,
       "version_minor": 0
      },
      "text/plain": [
       "Textarea(value='Most of the course is about semantic or  content of language but there are also interesting to…"
      ]
     },
     "execution_count": 10,
     "metadata": {},
     "output_type": "execute_result"
    }
   ],
   "source": [
    "import ipywidgets as widgets\n",
    "\n",
    "text_widget = widgets.Textarea(value=\"Most of the course is about semantic or  content of language but there are also interesting topics to be learned from the servicefeatures except statistics in characters in documents.\"\n",
    "                               \"At this point, He introduces herself as his native English speaker and goes on to say that if you contine to work on social scnce\", \n",
    "                               description='your text', layout=widgets.Layout(width=\"auto\"))\n",
    "text_widget"
   ]
  },
  {
   "cell_type": "code",
   "execution_count": 11,
   "id": "2e691874-125d-48da-8ae3-fa7dcf791084",
   "metadata": {},
   "outputs": [
    {
     "name": "stdout",
     "output_type": "stream",
     "text": [
      "huggingface/tokenizers: The current process just got forked, after parallelism has already been used. Disabling parallelism to avoid deadlocks...\n",
      "To disable this warning, you can either:\n",
      "\t- Avoid using `tokenizers` before the fork if possible\n",
      "\t- Explicitly set the environment variable TOKENIZERS_PARALLELISM=(true | false)\n"
     ]
    },
    {
     "data": {
      "application/vnd.jupyter.widget-view+json": {
       "model_id": "873341cd0b374e6abd68ead9e0fb5eea",
       "version_major": 2,
       "version_minor": 0
      },
      "text/plain": [
       "correcting text..:   0%|          | 0/1 [00:00<?, ?it/s]"
      ]
     },
     "metadata": {},
     "output_type": "display_data"
    }
   ],
   "source": [
    "corrected_text = correct_text(text_widget.value, grammar_checker_pipe, grammar_corrector_pipe)"
   ]
  },
  {
   "cell_type": "code",
   "execution_count": 12,
   "id": "5862ec36-8d77-418f-9295-5dc644b50068",
   "metadata": {
    "tags": []
   },
   "outputs": [
    {
     "name": "stdout",
     "output_type": "stream",
     "text": [
      "input text:     Most of the course is about semantic or  content of language but there are also interesting topics to be learned from the servicefeatures except statistics in characters in documents.At this point, He introduces herself as his native English speaker and goes on to say that if you contine to work on social scnce\n",
      "\n",
      "generated text: Most of the course is about the semantic content of language but there are also interesting topics to be learned from the service features except statistics in characters in documents. At this point, she introduces herself as a native English speaker and goes on to say that if you continue to work on social science, you will continue to be successful.\n"
     ]
    }
   ],
   "source": [
    "print(f\"input text:     {text_widget.value}\\n\") \n",
    "print(f'generated text: {corrected_text}') "
   ]
  }
 ],
 "metadata": {
  "kernelspec": {
   "display_name": "Python 3 (ipykernel)",
   "language": "python",
   "name": "python3"
  },
  "language_info": {
   "codemirror_mode": {
    "name": "ipython",
    "version": 3
   },
   "file_extension": ".py",
   "mimetype": "text/x-python",
   "name": "python",
   "nbconvert_exporter": "python",
   "pygments_lexer": "ipython3",
   "version": "3.8.10"
  },
  "widgets": {
   "application/vnd.jupyter.widget-state+json": {
    "state": {
     "04987ecd2c7a48c48a599fd1f23ea586": {
      "model_module": "@jupyter-widgets/controls",
      "model_module_version": "2.0.0",
      "model_name": "TextStyleModel",
      "state": {
       "description_width": "",
       "font_size": null,
       "text_color": null
      }
     },
     "2cf6aa309bfe43ae9f694ee2e26b27eb": {
      "model_module": "@jupyter-widgets/controls",
      "model_module_version": "2.0.0",
      "model_name": "HTMLModel",
      "state": {
       "layout": "IPY_MODEL_8865247c89cc4a60b22380b09547f508",
       "style": "IPY_MODEL_7bd41bb8c1ad4bf6a2ee29a96900eea6",
       "value": "correcting text..: 100%"
      }
     },
     "40d0eca7cba048a79102b84d1e14a802": {
      "model_module": "@jupyter-widgets/base",
      "model_module_version": "2.0.0",
      "model_name": "LayoutModel",
      "state": {}
     },
     "44b1c27db36641e58268ac097c32240c": {
      "model_module": "@jupyter-widgets/controls",
      "model_module_version": "2.0.0",
      "model_name": "TextareaModel",
      "state": {
       "description": "your text",
       "layout": "IPY_MODEL_a2d5a746e06e4e81aa4d2c4faadd9ed7",
       "style": "IPY_MODEL_04987ecd2c7a48c48a599fd1f23ea586",
       "value": "Most of the course is about semantic or  content of language but there are also interesting topics to be learned from the servicefeatures except statistics in characters in documents.At this point, He introduces herself as his native English speaker and goes on to say that if you contine to work on social scnce"
      }
     },
     "62b441aad45e407c9b108778bb7819b7": {
      "model_module": "@jupyter-widgets/controls",
      "model_module_version": "2.0.0",
      "model_name": "FloatProgressModel",
      "state": {
       "bar_style": "success",
       "layout": "IPY_MODEL_40d0eca7cba048a79102b84d1e14a802",
       "max": 1,
       "style": "IPY_MODEL_63a5bb6794e14161b6a507fa233c7ff6",
       "value": 1
      }
     },
     "63a5bb6794e14161b6a507fa233c7ff6": {
      "model_module": "@jupyter-widgets/controls",
      "model_module_version": "2.0.0",
      "model_name": "ProgressStyleModel",
      "state": {
       "description_width": ""
      }
     },
     "6f75e3b03db54b3aaf74c8039a46c904": {
      "model_module": "@jupyter-widgets/controls",
      "model_module_version": "2.0.0",
      "model_name": "HTMLModel",
      "state": {
       "layout": "IPY_MODEL_fd18874977234332aba5ea97af20e016",
       "style": "IPY_MODEL_ebec355dbe87452fbceb2bde75fa716c",
       "value": " 1/1 [00:04&lt;00:00,  4.42s/it]"
      }
     },
     "7bd41bb8c1ad4bf6a2ee29a96900eea6": {
      "model_module": "@jupyter-widgets/controls",
      "model_module_version": "2.0.0",
      "model_name": "HTMLStyleModel",
      "state": {
       "description_width": "",
       "font_size": null,
       "text_color": null
      }
     },
     "873341cd0b374e6abd68ead9e0fb5eea": {
      "model_module": "@jupyter-widgets/controls",
      "model_module_version": "2.0.0",
      "model_name": "HBoxModel",
      "state": {
       "children": [
        "IPY_MODEL_2cf6aa309bfe43ae9f694ee2e26b27eb",
        "IPY_MODEL_62b441aad45e407c9b108778bb7819b7",
        "IPY_MODEL_6f75e3b03db54b3aaf74c8039a46c904"
       ],
       "layout": "IPY_MODEL_964b79b8f6c84659861916b5098d44b4"
      }
     },
     "8865247c89cc4a60b22380b09547f508": {
      "model_module": "@jupyter-widgets/base",
      "model_module_version": "2.0.0",
      "model_name": "LayoutModel",
      "state": {}
     },
     "964b79b8f6c84659861916b5098d44b4": {
      "model_module": "@jupyter-widgets/base",
      "model_module_version": "2.0.0",
      "model_name": "LayoutModel",
      "state": {}
     },
     "9e896b2be776416b906d41bca2cc56a6": {
      "model_module": "@jupyter-widgets/controls",
      "model_module_version": "2.0.0",
      "model_name": "DescriptionStyleModel",
      "state": {
       "description_width": ""
      }
     },
     "a2d5a746e06e4e81aa4d2c4faadd9ed7": {
      "model_module": "@jupyter-widgets/base",
      "model_module_version": "2.0.0",
      "model_name": "LayoutModel",
      "state": {
       "width": "auto"
      }
     },
     "a6cc5a5b6a764c07883ab0d2aa6b7ae9": {
      "model_module": "@jupyter-widgets/controls",
      "model_module_version": "2.0.0",
      "model_name": "DropdownModel",
      "state": {
       "_options_labels": [
        "CPU",
        "GPU",
        "AUTO"
       ],
       "description": "Device:",
       "index": 2,
       "layout": "IPY_MODEL_ca698f18cc0c48abac11c1d6d4075e91",
       "style": "IPY_MODEL_9e896b2be776416b906d41bca2cc56a6"
      }
     },
     "ca698f18cc0c48abac11c1d6d4075e91": {
      "model_module": "@jupyter-widgets/base",
      "model_module_version": "2.0.0",
      "model_name": "LayoutModel",
      "state": {}
     },
     "ebec355dbe87452fbceb2bde75fa716c": {
      "model_module": "@jupyter-widgets/controls",
      "model_module_version": "2.0.0",
      "model_name": "HTMLStyleModel",
      "state": {
       "description_width": "",
       "font_size": null,
       "text_color": null
      }
     },
     "fd18874977234332aba5ea97af20e016": {
      "model_module": "@jupyter-widgets/base",
      "model_module_version": "2.0.0",
      "model_name": "LayoutModel",
      "state": {}
     }
    },
    "version_major": 2,
    "version_minor": 0
   }
  }
 },
 "nbformat": 4,
 "nbformat_minor": 5
}
