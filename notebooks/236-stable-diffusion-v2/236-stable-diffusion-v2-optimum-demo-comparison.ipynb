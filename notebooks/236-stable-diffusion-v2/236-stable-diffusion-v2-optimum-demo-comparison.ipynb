{
 "cells": [
  {
   "attachments": {},
   "cell_type": "markdown",
   "id": "fd7a2a4d",
   "metadata": {},
   "source": [
    "<h1 style=\"text-align: center;\">Stable Diffusion v2.1 using Optimum-Intel OpenVINO and multiple Intel Hardware</h1>\n",
    "<img src=\"https://github.com/openvinotoolkit/openvino_notebooks/assets/10940214/1858dae4-72fd-401e-b055-66d503d82446\"  width=\"30%\" height=\"30%\">\n"
   ]
  },
  {
   "attachments": {},
   "cell_type": "markdown",
   "id": "58fe2d87",
   "metadata": {},
   "source": [
    "Optimum Intel is the interface between the Transformers and Diffusers libraries and the different tools and libraries provided by Intel to accelerate end-to-end pipelines on Intel architectures. More details in this [repository](https://github.com/huggingface/optimum-intel#openvino). \n",
    "\n",
    "`Note: We suggest you to create a different environment and run the following installation command there.`"
   ]
  },
  {
   "cell_type": "code",
   "execution_count": null,
   "id": "ec2a1a2a",
   "metadata": {},
   "outputs": [],
   "source": [
    "%pip install -q \"optimum-intel[openvino,diffusers]\" \"ipywidgets\""
   ]
  },
  {
   "cell_type": "code",
   "execution_count": 1,
   "id": "6960adc6",
   "metadata": {},
   "outputs": [],
   "source": [
    "import warnings\n",
    "warnings.filterwarnings('ignore')"
   ]
  },
  {
   "attachments": {},
   "cell_type": "markdown",
   "id": "b3e8c87b",
   "metadata": {},
   "source": [
    "### Showing Info Available Devices\n",
    "\n",
    "The `available_devices` property shows the available devices in your system. The \"FULL_DEVICE_NAME\" option to `ie.get_property()` shows the name of the device. Check what is the ID name for the discrete GPU, if you have integrated GPU (iGPU) and discrete GPU (dGPU), it will show `device_name=\"GPU.0\"` for iGPU and `device_name=\"GPU.1\"` for dGPU. If you just have dGPU that will be assigned to `\"GPU.0\"`"
   ]
  },
  {
   "cell_type": "code",
   "execution_count": null,
   "id": "f71b081b",
   "metadata": {},
   "outputs": [],
   "source": [
    "from openvino.runtime import Core\n",
    "\n",
    "ie = Core()\n",
    "devices = ie.available_devices\n",
    "\n",
    "for device in devices:\n",
    "    device_name = ie.get_property(device, \"FULL_DEVICE_NAME\")\n",
    "    print(f\"{device}: {device_name}\")"
   ]
  },
  {
   "attachments": {},
   "cell_type": "markdown",
   "id": "2857b2f8",
   "metadata": {},
   "source": [
    "### Using full precision model in CPU with StableDiffusionPipeline\n"
   ]
  },
  {
   "cell_type": "code",
   "execution_count": null,
   "id": "99c65ed5",
   "metadata": {},
   "outputs": [],
   "source": [
    "from diffusers import StableDiffusionPipeline\n",
    "\n",
    "model_id = \"stabilityai/stable-diffusion-2-1-base\"\n",
    "pipe = StableDiffusionPipeline.from_pretrained(model_id)\n",
    "pipe.save_pretrained(\"./stabilityai_cpu\")\n",
    "prompt = \"red car in snowy forest\"\n",
    "output_cpu = pipe(prompt, num_inference_steps=17).images[0]\n",
    "output_cpu.save(\"image_cpu.png\")\n",
    "output_cpu"
   ]
  },
  {
   "attachments": {},
   "cell_type": "markdown",
   "id": "7860bb7f",
   "metadata": {},
   "source": [
    "### Using full precision model in CPU with OVStableDiffusionPipeline"
   ]
  },
  {
   "cell_type": "code",
   "execution_count": null,
   "id": "f8578ffd",
   "metadata": {},
   "outputs": [],
   "source": [
    "from optimum.intel.openvino import OVStableDiffusionPipeline\n",
    "\n",
    "model_id = \"stabilityai/stable-diffusion-2-1-base\"\n",
    "ov_pipe = OVStableDiffusionPipeline.from_pretrained(model_id, export=True, compile=False)\n",
    "ov_pipe.reshape(batch_size=1, height=512, width=512, num_images_per_prompt=1)\n",
    "ov_pipe.save_pretrained(\"./openvino_ir\")\n",
    "ov_pipe.compile()\n"
   ]
  },
  {
   "cell_type": "code",
   "execution_count": null,
   "id": "63b2aecf",
   "metadata": {},
   "outputs": [],
   "source": [
    "prompt = \"red car in snowy forest\"\n",
    "output_cpu_ov = ov_pipe(prompt, num_inference_steps=17).images[0]\n",
    "output_cpu_ov.save(\"image_ov_cpu.png\")\n",
    "output_cpu_ov"
   ]
  },
  {
   "attachments": {},
   "cell_type": "markdown",
   "id": "d4444a06",
   "metadata": {},
   "source": [
    "### Using FP16 precision model in dGPU with StableDiffusionPipeline\n"
   ]
  },
  {
   "cell_type": "code",
   "execution_count": null,
   "id": "3a93b439",
   "metadata": {},
   "outputs": [],
   "source": [
    "#from optimum.intel.openvino import OVStableDiffusionPipeline\n",
    "#ov_pipe = OVStableDiffusionPipeline.from_pretrained(\"./openvino_ir\"\")\n",
    "ov_pipe.to(\"GPU.1\")\n",
    "ov_pipe.compile()"
   ]
  },
  {
   "cell_type": "code",
   "execution_count": null,
   "id": "4a0d175c",
   "metadata": {},
   "outputs": [],
   "source": [
    "prompt = \"red car in snowy forest\"\n",
    "output_gpu_ov = ov_pipe(prompt, num_inference_steps=17).images[0]\n",
    "output_gpu_ov.save(\"image_ov_gpu.png\")\n",
    "output_gpu_ov"
   ]
  },
  {
   "cell_type": "code",
   "execution_count": null,
   "id": "333c3906",
   "metadata": {},
   "outputs": [],
   "source": []
  }
 ],
 "metadata": {
  "kernelspec": {
   "display_name": "Python 3 (ipykernel)",
   "language": "python",
   "name": "python3"
  },
  "language_info": {
   "codemirror_mode": {
    "name": "ipython",
    "version": 3
   },
   "file_extension": ".py",
   "mimetype": "text/x-python",
   "name": "python",
   "nbconvert_exporter": "python",
   "pygments_lexer": "ipython3",
   "version": "3.8.8"
  }
 },
 "nbformat": 4,
 "nbformat_minor": 5
}
