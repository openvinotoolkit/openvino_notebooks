{
 "cells": [
  {
   "cell_type": "markdown",
   "id": "220db57c-608d-4ebd-8e5d-97486477bc8e",
   "metadata": {},
   "source": [
    "# Infinite Zoom Stable Diffusion v2 and OpenVINO™\n",
    "\n",
    "Stable Diffusion v2 is the next generation of Stable Diffusion model a Text-to-Image latent diffusion model created by the researchers and engineers from [Stability AI](https://stability.ai/) and [LAION](https://laion.ai/). \n",
    "\n",
    "General diffusion models are machine learning systems that are trained to denoise random gaussian noise step by step, to get to a sample of interest, such as an image.\n",
    "Diffusion models have shown to achieve state-of-the-art results for generating image data. But one downside of diffusion models is that the reverse denoising process is slow. In addition, these models consume a lot of memory because they operate in pixel space, which becomes unreasonably expensive when generating high-resolution images. Therefore, it is challenging to train these models and also use them for inference. OpenVINO brings capabilities to run model inference on Intel hardware and opens the door to the fantastic world of diffusion models for everyone!\n",
    "\n",
    "In previous notebooks, we already discussed how to run [Text-to-Image generation and Image-to-Image generation using Stable Diffusion v1](../225-stable-diffusion-text-to-image/225-stable-diffusion-text-to-image.ipynb) and [controlling its generation process using ControlNet](./235-controlnet-stable-diffusion/235-controlnet-stable-diffusion.ipynb). Now is turn of Stable Diffusion v2.\n",
    "\n",
    "## Stable Diffusion v2: What’s new?\n",
    "\n",
    "The new stable diffusion model offers a bunch of new features inspired by the other models that have emerged since the introduction of the first iteration. Some of the features that can be found in the new model are:\n",
    "* The model comes with a new robust encoder, OpenCLIP, created by LAION and aided by Stability AI; this version v2 significantly enhances the produced photos over the V1 versions. \n",
    "* The model can now generate images in a 768x768 resolution, offering more information to be shown in the generated images.\n",
    "* The model finetuned with [v-objective](https://arxiv.org/abs/2202.00512). The v-parameterization is particularly useful for numerical stability throughout the diffusion process to enable progressive distillation for models. For models that operate at higher resolution, it is also discovered that the v-parameterization avoids color shifting artifacts that are known to affect high resolution diffusion models, and in the video setting it avoids temporal color shifting that sometimes appears with epsilon-prediction used in Stable Diffusion v1. \n",
    "* The model also comes with a new diffusion model capable of running upscaling on the images generated. Upscaled images can be adjusted up to 4 times the original image. Provided as separated model, for more details please check [stable-diffusion-x4-upscaler](https://huggingface.co/stabilityai/stable-diffusion-x4-upscaler)\n",
    "* The model comes with a new refined depth architecture capable of preserving context from prior generation layers in an image-to-image setting. This structure preservation helps generate images that preserving forms and shadow of objects, but with different content.\n",
    "* The model comes with an updated inpainting module built upon the previous model. This text-guided inpainting makes switching out parts in the image easier than before.\n",
    "\n",
    "This notebook demonstrates how to convert and run Stable Diffusion v2 model using OpenVINO.\n",
    "\n",
    "Notebook contains the following steps:\n",
    "1. Convert PyTorch models to ONNX format.\n",
    "2. Convert ONNX models to OpenVINO IR format, using Model Optimizer tool.\n",
    "3. Run Stable Diffusion v2 inpainting pipeline for generation infinity zoom video"
   ]
  },
  {
   "cell_type": "markdown",
   "id": "9ad7780c",
   "metadata": {},
   "source": [
    "## Stable Diffusion v2 Infinite Zoom Showcase\n",
    "\n",
    "In this tutorial we consider how to use Stable Diffusion v2 model for generation sequence of images for infinite zoom video effect.\n",
    "To do this, we will need [`stabilityai/stable-diffusion-2-inpainting`](https://huggingface.co/stabilityai/stable-diffusion-2-inpainting) model.\n",
    "\n",
    "### Stable Diffusion Text guided Inpainting\n",
    "In image editing, inpainting is a process of restoring missing parts of pictures. Most commonly applied to reconstructing old deteriorated images, removing cracks, scratches, dust spots, or red-eyes from photographs.\n",
    "\n",
    "But with the power of AI and the Stable Diffusion model, inpainting can be used to achieve more than that. For example, instead of just restoring missing parts of an image, it can be used to render something entirely new in any part of an existing picture. Only your imagination limits it.\n",
    "\n",
    "The workflow diagram explains how Stable Diffusion inpainting pipeline for inpainting works:\n",
    "\n",
    "![sd2-inpainting](https://github.com/openvinotoolkit/openvino_notebooks/assets/22090501/9ac6de45-186f-4a3c-aa20-825825a337eb)\n",
    "\n",
    "The pipeline has a lot of common with Text-to-Image generation pipeline discussed in previous section. Additionally to text prompt, pipeline accepts input source image and mask which provides an area of image which should be modified. Masked image encoded by VAE encoder into latent diffusion space and concatenated with randomly generated (on initial step only) or produced by U-Net latent generated image representation and used as input for next step denoising.\n",
    "\n",
    "Using this inpainting feature, decreasing image by certain margin and masking this border for every new frame we can create interesting Zoom Out video based on our prompt."
   ]
  },
  {
   "cell_type": "markdown",
   "id": "ee430286",
   "metadata": {},
   "source": [
    "## Prerequisites\n",
    "install required packages"
   ]
  },
  {
   "cell_type": "code",
   "execution_count": 1,
   "id": "ceaa943d",
   "metadata": {},
   "outputs": [
    {
     "name": "stdout",
     "output_type": "stream",
     "text": [
      "\n",
      "\u001b[1m[\u001b[0m\u001b[34;49mnotice\u001b[0m\u001b[1;39;49m]\u001b[0m\u001b[39;49m A new release of pip is available: \u001b[0m\u001b[31;49m23.1.2\u001b[0m\u001b[39;49m -> \u001b[0m\u001b[32;49m23.2\u001b[0m\n",
      "\u001b[1m[\u001b[0m\u001b[34;49mnotice\u001b[0m\u001b[1;39;49m]\u001b[0m\u001b[39;49m To update, run: \u001b[0m\u001b[32;49mpip install --upgrade pip\u001b[0m\n"
     ]
    }
   ],
   "source": [
    "!pip install -q \"diffusers>=0.14.0\" openvino-dev \"transformers >= 4.25.1\" gradio"
   ]
  },
  {
   "cell_type": "markdown",
   "id": "994be0f4",
   "metadata": {},
   "source": [
    "### Stable Diffusion in Diffusers library\n",
    "To work with Stable Diffusion v2, we will use Hugging Face [Diffusers](https://github.com/huggingface/diffusers) library. To experiment with Stable Diffusion models for Inpainting use case, Diffusers exposes the [`StableDiffusionInpaintPipeline`](https://huggingface.co/docs/diffusers/using-diffusers/conditional_image_generation) similar to the [other Diffusers pipelines](https://huggingface.co/docs/diffusers/api/pipelines/overview).  The code below demonstrates how to create `StableDiffusionInpaintPipeline` using `stable-diffusion-2-inpainting`:"
   ]
  },
  {
   "cell_type": "code",
   "execution_count": 2,
   "id": "9f3f6d26",
   "metadata": {},
   "outputs": [
    {
     "name": "stderr",
     "output_type": "stream",
     "text": [
      "2023-07-16 15:45:16.540634: I tensorflow/core/util/port.cc:110] oneDNN custom operations are on. You may see slightly different numerical results due to floating-point round-off errors from different computation orders. To turn them off, set the environment variable `TF_ENABLE_ONEDNN_OPTS=0`.\n",
      "2023-07-16 15:45:16.577870: I tensorflow/core/platform/cpu_feature_guard.cc:182] This TensorFlow binary is optimized to use available CPU instructions in performance-critical operations.\n",
      "To enable the following instructions: AVX2 AVX512F AVX512_VNNI FMA, in other operations, rebuild TensorFlow with the appropriate compiler flags.\n",
      "2023-07-16 15:45:17.175991: W tensorflow/compiler/tf2tensorrt/utils/py_utils.cc:38] TF-TRT Warning: Could not find TensorRT\n"
     ]
    },
    {
     "data": {
      "application/vnd.jupyter.widget-view+json": {
       "model_id": "ab159ad9a9d445ca933b6526fec41ad0",
       "version_major": 2,
       "version_minor": 0
      },
      "text/plain": [
       "Downloading (…)ain/model_index.json:   0%|          | 0.00/544 [00:00<?, ?B/s]"
      ]
     },
     "metadata": {},
     "output_type": "display_data"
    },
    {
     "data": {
      "application/vnd.jupyter.widget-view+json": {
       "model_id": "984e26693f584d928f0c71e1728b7d65",
       "version_major": 2,
       "version_minor": 0
      },
      "text/plain": [
       "Fetching 13 files:   0%|          | 0/13 [00:00<?, ?it/s]"
      ]
     },
     "metadata": {},
     "output_type": "display_data"
    },
    {
     "data": {
      "application/vnd.jupyter.widget-view+json": {
       "model_id": "c55726ad43d649bbba1e00df0e182a9c",
       "version_major": 2,
       "version_minor": 0
      },
      "text/plain": [
       "Downloading (…)okenizer_config.json:   0%|          | 0.00/829 [00:00<?, ?B/s]"
      ]
     },
     "metadata": {},
     "output_type": "display_data"
    },
    {
     "data": {
      "application/vnd.jupyter.widget-view+json": {
       "model_id": "d32c6f1a74b74c899c20439b7fd34652",
       "version_major": 2,
       "version_minor": 0
      },
      "text/plain": [
       "Downloading (…)cial_tokens_map.json:   0%|          | 0.00/460 [00:00<?, ?B/s]"
      ]
     },
     "metadata": {},
     "output_type": "display_data"
    },
    {
     "data": {
      "application/vnd.jupyter.widget-view+json": {
       "model_id": "b706ef49c2a6447ca1f1efd39cf3f2c7",
       "version_major": 2,
       "version_minor": 0
      },
      "text/plain": [
       "Downloading (…)cheduler_config.json:   0%|          | 0.00/308 [00:00<?, ?B/s]"
      ]
     },
     "metadata": {},
     "output_type": "display_data"
    },
    {
     "data": {
      "application/vnd.jupyter.widget-view+json": {
       "model_id": "457e162e1ada43dab383bdd7760f060c",
       "version_major": 2,
       "version_minor": 0
      },
      "text/plain": [
       "Downloading (…)rocessor_config.json:   0%|          | 0.00/342 [00:00<?, ?B/s]"
      ]
     },
     "metadata": {},
     "output_type": "display_data"
    },
    {
     "data": {
      "application/vnd.jupyter.widget-view+json": {
       "model_id": "7b3794a1ff82420590c34cd7edcc1b5e",
       "version_major": 2,
       "version_minor": 0
      },
      "text/plain": [
       "Downloading (…)_encoder/config.json:   0%|          | 0.00/638 [00:00<?, ?B/s]"
      ]
     },
     "metadata": {},
     "output_type": "display_data"
    },
    {
     "data": {
      "application/vnd.jupyter.widget-view+json": {
       "model_id": "83bedfc5cfff4089b85eae5c0738f253",
       "version_major": 2,
       "version_minor": 0
      },
      "text/plain": [
       "Downloading (…)tokenizer/merges.txt:   0%|          | 0.00/525k [00:00<?, ?B/s]"
      ]
     },
     "metadata": {},
     "output_type": "display_data"
    },
    {
     "data": {
      "application/vnd.jupyter.widget-view+json": {
       "model_id": "3b29a1c0aa614ef78e8c4cadab419d6e",
       "version_major": 2,
       "version_minor": 0
      },
      "text/plain": [
       "Downloading (…)tokenizer/vocab.json:   0%|          | 0.00/1.06M [00:00<?, ?B/s]"
      ]
     },
     "metadata": {},
     "output_type": "display_data"
    },
    {
     "data": {
      "application/vnd.jupyter.widget-view+json": {
       "model_id": "36492772339c42b1a2c9c0972cfc6194",
       "version_major": 2,
       "version_minor": 0
      },
      "text/plain": [
       "Downloading (…)4590/vae/config.json:   0%|          | 0.00/616 [00:00<?, ?B/s]"
      ]
     },
     "metadata": {},
     "output_type": "display_data"
    },
    {
     "data": {
      "application/vnd.jupyter.widget-view+json": {
       "model_id": "960a4142976241e99e2148df1597341a",
       "version_major": 2,
       "version_minor": 0
      },
      "text/plain": [
       "Downloading (…)590/unet/config.json:   0%|          | 0.00/914 [00:00<?, ?B/s]"
      ]
     },
     "metadata": {},
     "output_type": "display_data"
    },
    {
     "data": {
      "application/vnd.jupyter.widget-view+json": {
       "model_id": "c7fa8ef236464cd9a10365b2fc175e52",
       "version_major": 2,
       "version_minor": 0
      },
      "text/plain": [
       "Downloading model.safetensors:   0%|          | 0.00/1.36G [00:00<?, ?B/s]"
      ]
     },
     "metadata": {},
     "output_type": "display_data"
    },
    {
     "data": {
      "application/vnd.jupyter.widget-view+json": {
       "model_id": "a449d29fca0f460b9bc0fc0c36e8a0cf",
       "version_major": 2,
       "version_minor": 0
      },
      "text/plain": [
       "Downloading (…)ch_model.safetensors:   0%|          | 0.00/335M [00:00<?, ?B/s]"
      ]
     },
     "metadata": {},
     "output_type": "display_data"
    },
    {
     "data": {
      "application/vnd.jupyter.widget-view+json": {
       "model_id": "3211b4c159dd48fd97349a8316dba057",
       "version_major": 2,
       "version_minor": 0
      },
      "text/plain": [
       "Downloading (…)ch_model.safetensors:   0%|          | 0.00/3.46G [00:00<?, ?B/s]"
      ]
     },
     "metadata": {},
     "output_type": "display_data"
    }
   ],
   "source": [
    "from diffusers import StableDiffusionInpaintPipeline, DPMSolverMultistepScheduler\n",
    "\n",
    "model_id_inpaint = \"stabilityai/stable-diffusion-2-inpainting\"\n",
    "\n",
    "pipe_inpaint = StableDiffusionInpaintPipeline.from_pretrained(model_id_inpaint)\n",
    "scheduler_inpaint = DPMSolverMultistepScheduler.from_config(pipe_inpaint.scheduler.config)"
   ]
  },
  {
   "cell_type": "code",
   "execution_count": 3,
   "id": "9cb89d2a",
   "metadata": {},
   "outputs": [],
   "source": [
    "import gc\n",
    "\n",
    "text_encoder_inpaint = pipe_inpaint.text_encoder\n",
    "text_encoder_inpaint.eval()\n",
    "unet_inpaint = pipe_inpaint.unet\n",
    "unet_inpaint.eval()\n",
    "vae_inpaint = pipe_inpaint.vae\n",
    "vae_inpaint.eval()\n",
    "\n",
    "del pipe_inpaint\n",
    "gc.collect();"
   ]
  },
  {
   "cell_type": "markdown",
   "id": "ccb8cd08",
   "metadata": {},
   "source": [
    "### Convert models to OpenVINO Intermediate representation (IR) format\n",
    "\n",
    "Conversion part of model stayed remain as in [Text-to-Image generation notebook](./236-stable-diffusion-v2-text-to-image.ipynb). Except U-Net now has 9 channels, which now calculated like 4 for U-Net generated latents channels + 4 for latent representation of masked image + 1 channel resized mask."
   ]
  },
  {
   "cell_type": "code",
   "execution_count": 4,
   "id": "6a16709b",
   "metadata": {},
   "outputs": [],
   "source": [
    "from pathlib import Path\n",
    "import torch\n",
    "import numpy as np\n",
    "\n",
    "sd2_inpainting_model_dir = Path(\"sd2_inpainting\")\n",
    "sd2_inpainting_model_dir.mkdir(exist_ok=True)"
   ]
  },
  {
   "cell_type": "code",
   "execution_count": 5,
   "id": "e18e5964-77b2-4968-b73d-643b7b9bdd91",
   "metadata": {},
   "outputs": [],
   "source": [
    "def convert_encoder_onnx(text_encoder: torch.nn.Module, onnx_path:Path):\n",
    "    \"\"\"\n",
    "    Convert Text Encoder model to ONNX. \n",
    "    Function accepts pipeline, prepares example inputs for ONNX conversion via torch.export, \n",
    "    Parameters: \n",
    "        text_encoder (torch.nn.Module): text encoder PyTorch model\n",
    "        onnx_path (Path): File for storing onnx model\n",
    "    Returns:\n",
    "        None\n",
    "    \"\"\"\n",
    "    if not onnx_path.exists():\n",
    "        input_ids = torch.ones((1, 77), dtype=torch.long)\n",
    "        # switch model to inference mode\n",
    "        text_encoder.eval()\n",
    "\n",
    "        # disable gradients calculation for reducing memory consumption\n",
    "        with torch.no_grad():\n",
    "            # export model to ONNX format\n",
    "            torch.onnx._export(\n",
    "                text_encoder,  # model instance\n",
    "                input_ids,  # inputs for model tracing\n",
    "                onnx_path,  # output file for saving result\n",
    "                input_names=['tokens'],  # model input name for onnx representation\n",
    "                output_names=['last_hidden_state', 'pooler_out'],  # model output names for onnx representation\n",
    "                opset_version=14,  # onnx opset version for export,\n",
    "                onnx_shape_inference=False\n",
    "            )\n",
    "        print('Text Encoder successfully converted to ONNX')\n",
    "\n",
    "        \n",
    "def convert_unet_onnx(unet:torch.nn.Module, onnx_path:Path, num_channels:int = 4, width:int = 64, height:int = 64):\n",
    "    \"\"\"\n",
    "    Convert Unet model to ONNX, then IR format. \n",
    "    Function accepts pipeline, prepares example inputs for ONNX conversion via torch.export, \n",
    "    Parameters: \n",
    "        unet (torch.nn.Module): UNet PyTorch model\n",
    "        onnx_path (Path): File for storing onnx model\n",
    "        num_channels (int, optional, 4): number of input channels\n",
    "        width (int, optional, 64): input width\n",
    "        height (int, optional, 64): input height\n",
    "    Returns:\n",
    "        None\n",
    "    \"\"\"\n",
    "    if not onnx_path.exists():\n",
    "        # prepare inputs\n",
    "        encoder_hidden_state = torch.ones((2, 77, 1024))\n",
    "        latents_shape = (2, num_channels, width, height)\n",
    "        latents = torch.randn(latents_shape)\n",
    "        t = torch.from_numpy(np.array(1, dtype=np.float32))\n",
    "\n",
    "        # model size > 2Gb, it will be represented as onnx with external data files, we will store it in separated directory for avoid a lot of files in current directory\n",
    "        onnx_path.parent.mkdir(exist_ok=True, parents=True)\n",
    "        unet.eval()\n",
    "\n",
    "        with torch.no_grad():\n",
    "            torch.onnx._export(\n",
    "                unet, \n",
    "                (latents, t, encoder_hidden_state), str(onnx_path),\n",
    "                input_names=['latent_model_input', 't', 'encoder_hidden_states'],\n",
    "                output_names=['out_sample'],\n",
    "                onnx_shape_inference=False\n",
    "            )\n",
    "        print('U-Net successfully converted to ONNX')\n",
    "\n",
    "\n",
    "def convert_vae_encoder_onnx(vae: torch.nn.Module, onnx_path: Path, width:int = 512, height:int = 512):\n",
    "    \"\"\"\n",
    "    Convert VAE model to ONNX, then IR format. \n",
    "    Function accepts pipeline, creates wrapper class for export only necessary for inference part, \n",
    "    prepares example inputs for ONNX conversion via torch.export, \n",
    "    Parameters: \n",
    "        vae (torch.nn.Module): VAE PyTorch model\n",
    "        onnx_path (Path): File for storing onnx model\n",
    "        width (int, optional, 512): input width\n",
    "        height (int, optional, 512): input height\n",
    "    Returns:\n",
    "        None\n",
    "    \"\"\"\n",
    "    class VAEEncoderWrapper(torch.nn.Module):\n",
    "        def __init__(self, vae):\n",
    "            super().__init__()\n",
    "            self.vae = vae\n",
    "\n",
    "        def forward(self, image):\n",
    "            h = self.vae.encoder(image)\n",
    "            moments = self.vae.quant_conv(h)\n",
    "            return moments\n",
    "\n",
    "    if not onnx_path.exists():\n",
    "        vae_encoder = VAEEncoderWrapper(vae)\n",
    "        vae_encoder.eval()\n",
    "        image = torch.zeros((1, 3, width, height))\n",
    "        with torch.no_grad():\n",
    "            torch.onnx.export(vae_encoder, image, onnx_path, input_names=[\n",
    "                              'init_image'], output_names=['image_latent'])\n",
    "        print('VAE encoder successfully converted to ONNX')\n",
    "\n",
    "\n",
    "def convert_vae_decoder_onnx(vae: torch.nn.Module, onnx_path: Path, width:int = 64, height:int = 64):\n",
    "    \"\"\"\n",
    "    Convert VAE model to ONNX, then IR format. \n",
    "    Function accepts pipeline, creates wrapper class for export only necessary for inference part, \n",
    "    prepares example inputs for ONNX conversion via torch.export, \n",
    "    Parameters: \n",
    "        vae: \n",
    "        onnx_path (Path): File for storing onnx model\n",
    "        width (int, optional, 64): input width\n",
    "        height (int, optional, 64): input height\n",
    "    Returns:\n",
    "        None\n",
    "    \"\"\"\n",
    "    class VAEDecoderWrapper(torch.nn.Module):\n",
    "        def __init__(self, vae):\n",
    "            super().__init__()\n",
    "            self.vae = vae\n",
    "\n",
    "        def forward(self, latents):\n",
    "            latents = 1 / 0.18215 * latents \n",
    "            return self.vae.decode(latents)\n",
    "\n",
    "    if not onnx_path.exists():\n",
    "        vae_decoder = VAEDecoderWrapper(vae)\n",
    "        latents = torch.zeros((1, 4, width, height))\n",
    "\n",
    "        vae_decoder.eval()\n",
    "        with torch.no_grad():\n",
    "            torch.onnx.export(vae_decoder, latents, onnx_path, input_names=[\n",
    "                              'latents'], output_names=['sample'])\n",
    "        print('VAE decoder successfully converted to ONNX')"
   ]
  },
  {
   "cell_type": "code",
   "execution_count": 6,
   "id": "01937fb1",
   "metadata": {},
   "outputs": [
    {
     "name": "stderr",
     "output_type": "stream",
     "text": [
      "/tmp/ipykernel_1181138/3505677505.py:19: FutureWarning: 'torch.onnx._export' is deprecated in version 1.12.0 and will be removed in version 1.14. Please use `torch.onnx.export` instead.\n",
      "  torch.onnx._export(\n",
      "/home/ea/work/notebooks_convert/notebooks_conv_env/lib/python3.8/site-packages/transformers/models/clip/modeling_clip.py:684: TracerWarning: torch.tensor results are registered as constants in the trace. You can safely ignore this warning if you use this function to create tensors out of constant variables that would be the same every time you call this function. In any other case, this might cause the trace to be incorrect.\n",
      "  mask = torch.full((tgt_len, tgt_len), torch.tensor(torch.finfo(dtype).min, device=device), device=device)\n",
      "/home/ea/work/notebooks_convert/notebooks_conv_env/lib/python3.8/site-packages/transformers/models/clip/modeling_clip.py:284: TracerWarning: Converting a tensor to a Python boolean might cause the trace to be incorrect. We can't record the data flow of Python values, so this value will be treated as a constant in the future. This means that the trace might not generalize to other inputs!\n",
      "  if attn_weights.size() != (bsz * self.num_heads, tgt_len, src_len):\n",
      "/home/ea/work/notebooks_convert/notebooks_conv_env/lib/python3.8/site-packages/transformers/models/clip/modeling_clip.py:292: TracerWarning: Converting a tensor to a Python boolean might cause the trace to be incorrect. We can't record the data flow of Python values, so this value will be treated as a constant in the future. This means that the trace might not generalize to other inputs!\n",
      "  if causal_attention_mask.size() != (bsz, 1, tgt_len, src_len):\n",
      "/home/ea/work/notebooks_convert/notebooks_conv_env/lib/python3.8/site-packages/transformers/models/clip/modeling_clip.py:324: TracerWarning: Converting a tensor to a Python boolean might cause the trace to be incorrect. We can't record the data flow of Python values, so this value will be treated as a constant in the future. This means that the trace might not generalize to other inputs!\n",
      "  if attn_output.size() != (bsz * self.num_heads, tgt_len, self.head_dim):\n",
      "/home/ea/work/notebooks_convert/notebooks_conv_env/lib/python3.8/site-packages/torch/onnx/symbolic_helper.py:710: UserWarning: Type cannot be inferred, which might cause exported graph to produce incorrect results.\n",
      "  warnings.warn(\n",
      "/home/ea/work/notebooks_convert/notebooks_conv_env/lib/python3.8/site-packages/torch/onnx/symbolic_opset9.py:5408: UserWarning: Exporting aten::index operator of advanced indexing in opset 14 is achieved by combination of multiple ONNX operators, including Reshape, Transpose, Concat, and Gather. If indices include negative values, the exported graph will produce incorrect results.\n",
      "  warnings.warn(\n"
     ]
    },
    {
     "name": "stdout",
     "output_type": "stream",
     "text": [
      "Text Encoder successfully converted to ONNX\n",
      "[ INFO ] The model was converted to IR v11, the latest model format that corresponds to the source DL framework input/output format. While IR v11 is backwards compatible with OpenVINO Inference Engine API v1.0, please use API v2.0 (as of 2022.1) to take advantage of the latest improvements in IR v11.\n",
      "Find more information about API v2.0 and IR v11 at https://docs.openvino.ai/2023.0/openvino_2_0_transition_guide.html\n",
      "[ SUCCESS ] Generated IR version 11 model.\n",
      "[ SUCCESS ] XML file: /home/ea/work/openvino_notebooks/notebooks/236-stable-diffusion-v2/sd2_inpainting/text_encoder.xml\n",
      "[ SUCCESS ] BIN file: /home/ea/work/openvino_notebooks/notebooks/236-stable-diffusion-v2/sd2_inpainting/text_encoder.bin\n",
      "Text Encoder successfully converted to IR\n"
     ]
    }
   ],
   "source": [
    "TEXT_ENCODER_ONNX_PATH_INPAINT = sd2_inpainting_model_dir / \"text_encoder.onnx\"\n",
    "TEXT_ENCODER_OV_PATH_INPAINT = TEXT_ENCODER_ONNX_PATH_INPAINT.with_suffix('.xml')\n",
    "\n",
    "if not TEXT_ENCODER_OV_PATH_INPAINT.exists():\n",
    "    convert_encoder_onnx(text_encoder_inpaint, TEXT_ENCODER_ONNX_PATH_INPAINT)\n",
    "    !mo --input_model $TEXT_ENCODER_ONNX_PATH_INPAINT --output_dir $sd2_inpainting_model_dir\n",
    "    print('Text Encoder successfully converted to IR')\n",
    "else:\n",
    "    print(f\"Text encoder will be loaded from {TEXT_ENCODER_OV_PATH_INPAINT}\")\n",
    "\n",
    "del text_encoder_inpaint\n",
    "gc.collect();"
   ]
  },
  {
   "cell_type": "code",
   "execution_count": 7,
   "id": "dcfc1bf7",
   "metadata": {},
   "outputs": [
    {
     "name": "stderr",
     "output_type": "stream",
     "text": [
      "/tmp/ipykernel_1181138/3505677505.py:56: FutureWarning: 'torch.onnx._export' is deprecated in version 1.12.0 and will be removed in version 1.14. Please use `torch.onnx.export` instead.\n",
      "  torch.onnx._export(\n",
      "/home/ea/work/notebooks_convert/notebooks_conv_env/lib/python3.8/site-packages/diffusers/models/unet_2d_condition.py:752: TracerWarning: Converting a tensor to a Python boolean might cause the trace to be incorrect. We can't record the data flow of Python values, so this value will be treated as a constant in the future. This means that the trace might not generalize to other inputs!\n",
      "  if any(s % default_overall_up_factor != 0 for s in sample.shape[-2:]):\n",
      "/home/ea/work/notebooks_convert/notebooks_conv_env/lib/python3.8/site-packages/diffusers/models/resnet.py:214: TracerWarning: Converting a tensor to a Python boolean might cause the trace to be incorrect. We can't record the data flow of Python values, so this value will be treated as a constant in the future. This means that the trace might not generalize to other inputs!\n",
      "  assert hidden_states.shape[1] == self.channels\n",
      "/home/ea/work/notebooks_convert/notebooks_conv_env/lib/python3.8/site-packages/diffusers/models/resnet.py:219: TracerWarning: Converting a tensor to a Python boolean might cause the trace to be incorrect. We can't record the data flow of Python values, so this value will be treated as a constant in the future. This means that the trace might not generalize to other inputs!\n",
      "  assert hidden_states.shape[1] == self.channels\n",
      "/home/ea/work/notebooks_convert/notebooks_conv_env/lib/python3.8/site-packages/diffusers/models/resnet.py:138: TracerWarning: Converting a tensor to a Python boolean might cause the trace to be incorrect. We can't record the data flow of Python values, so this value will be treated as a constant in the future. This means that the trace might not generalize to other inputs!\n",
      "  assert hidden_states.shape[1] == self.channels\n",
      "/home/ea/work/notebooks_convert/notebooks_conv_env/lib/python3.8/site-packages/diffusers/models/resnet.py:151: TracerWarning: Converting a tensor to a Python boolean might cause the trace to be incorrect. We can't record the data flow of Python values, so this value will be treated as a constant in the future. This means that the trace might not generalize to other inputs!\n",
      "  if hidden_states.shape[0] >= 64:\n",
      "/home/ea/work/notebooks_convert/notebooks_conv_env/lib/python3.8/site-packages/diffusers/models/unet_2d_condition.py:977: TracerWarning: Converting a tensor to a Python boolean might cause the trace to be incorrect. We can't record the data flow of Python values, so this value will be treated as a constant in the future. This means that the trace might not generalize to other inputs!\n",
      "  if not return_dict:\n"
     ]
    },
    {
     "name": "stdout",
     "output_type": "stream",
     "text": [
      "U-Net successfully converted to ONNX\n",
      "[ INFO ] The model was converted to IR v11, the latest model format that corresponds to the source DL framework input/output format. While IR v11 is backwards compatible with OpenVINO Inference Engine API v1.0, please use API v2.0 (as of 2022.1) to take advantage of the latest improvements in IR v11.\n",
      "Find more information about API v2.0 and IR v11 at https://docs.openvino.ai/2023.0/openvino_2_0_transition_guide.html\n",
      "[ SUCCESS ] Generated IR version 11 model.\n",
      "[ SUCCESS ] XML file: /home/ea/work/openvino_notebooks/notebooks/236-stable-diffusion-v2/sd2_inpainting/unet.xml\n",
      "[ SUCCESS ] BIN file: /home/ea/work/openvino_notebooks/notebooks/236-stable-diffusion-v2/sd2_inpainting/unet.bin\n",
      "U-Net successfully converted to IR\n"
     ]
    }
   ],
   "source": [
    "UNET_ONNX_PATH_INPAINT = sd2_inpainting_model_dir / 'unet/unet.onnx'\n",
    "UNET_OV_PATH_INPAINT = UNET_ONNX_PATH_INPAINT.parents[1] / 'unet.xml'\n",
    "if not UNET_OV_PATH_INPAINT.exists():\n",
    "    convert_unet_onnx(unet_inpaint, UNET_ONNX_PATH_INPAINT, num_channels=9, width=64, height=64)\n",
    "    del unet_inpaint\n",
    "    gc.collect()\n",
    "    !mo --input_model $UNET_ONNX_PATH_INPAINT --output_dir $sd2_inpainting_model_dir\n",
    "    print('U-Net successfully converted to IR')\n",
    "else:\n",
    "    del unet_inpaint\n",
    "    print(f\"U-Net will be loaded from {UNET_OV_PATH_INPAINT}\")\n",
    "gc.collect();"
   ]
  },
  {
   "cell_type": "code",
   "execution_count": 8,
   "id": "8a9f4910",
   "metadata": {},
   "outputs": [
    {
     "name": "stderr",
     "output_type": "stream",
     "text": [
      "/home/ea/work/notebooks_convert/notebooks_conv_env/lib/python3.8/site-packages/torch/onnx/_internal/jit_utils.py:258: UserWarning: Constant folding - Only steps=1 can be constant folded for opset >= 10 onnx::Slice op. Constant folding not applied. (Triggered internally at ../torch/csrc/jit/passes/onnx/constant_fold.cpp:179.)\n",
      "  _C._jit_pass_onnx_node_shape_type_inference(node, params_dict, opset_version)\n",
      "/home/ea/work/notebooks_convert/notebooks_conv_env/lib/python3.8/site-packages/torch/onnx/utils.py:687: UserWarning: Constant folding - Only steps=1 can be constant folded for opset >= 10 onnx::Slice op. Constant folding not applied. (Triggered internally at ../torch/csrc/jit/passes/onnx/constant_fold.cpp:179.)\n",
      "  _C._jit_pass_onnx_graph_shape_type_inference(\n",
      "/home/ea/work/notebooks_convert/notebooks_conv_env/lib/python3.8/site-packages/torch/onnx/utils.py:1178: UserWarning: Constant folding - Only steps=1 can be constant folded for opset >= 10 onnx::Slice op. Constant folding not applied. (Triggered internally at ../torch/csrc/jit/passes/onnx/constant_fold.cpp:179.)\n",
      "  _C._jit_pass_onnx_graph_shape_type_inference(\n"
     ]
    },
    {
     "name": "stdout",
     "output_type": "stream",
     "text": [
      "VAE encoder successfully converted to ONNX\n",
      "[ INFO ] The model was converted to IR v11, the latest model format that corresponds to the source DL framework input/output format. While IR v11 is backwards compatible with OpenVINO Inference Engine API v1.0, please use API v2.0 (as of 2022.1) to take advantage of the latest improvements in IR v11.\n",
      "Find more information about API v2.0 and IR v11 at https://docs.openvino.ai/2023.0/openvino_2_0_transition_guide.html\n",
      "[ SUCCESS ] Generated IR version 11 model.\n",
      "[ SUCCESS ] XML file: /home/ea/work/openvino_notebooks/notebooks/236-stable-diffusion-v2/sd2_inpainting/vae_encoder.xml\n",
      "[ SUCCESS ] BIN file: /home/ea/work/openvino_notebooks/notebooks/236-stable-diffusion-v2/sd2_inpainting/vae_encoder.bin\n",
      "VAE encoder successfully converted to IR\n"
     ]
    },
    {
     "name": "stderr",
     "output_type": "stream",
     "text": [
      "/home/ea/work/notebooks_convert/notebooks_conv_env/lib/python3.8/site-packages/torch/onnx/_internal/jit_utils.py:258: UserWarning: The shape inference of prim::Constant type is missing, so it may result in wrong shape inference for the exported graph. Please consider adding it in symbolic function. (Triggered internally at ../torch/csrc/jit/passes/onnx/shape_type_inference.cpp:1884.)\n",
      "  _C._jit_pass_onnx_node_shape_type_inference(node, params_dict, opset_version)\n",
      "/home/ea/work/notebooks_convert/notebooks_conv_env/lib/python3.8/site-packages/torch/onnx/utils.py:687: UserWarning: The shape inference of prim::Constant type is missing, so it may result in wrong shape inference for the exported graph. Please consider adding it in symbolic function. (Triggered internally at ../torch/csrc/jit/passes/onnx/shape_type_inference.cpp:1884.)\n",
      "  _C._jit_pass_onnx_graph_shape_type_inference(\n",
      "/home/ea/work/notebooks_convert/notebooks_conv_env/lib/python3.8/site-packages/torch/onnx/utils.py:1178: UserWarning: The shape inference of prim::Constant type is missing, so it may result in wrong shape inference for the exported graph. Please consider adding it in symbolic function. (Triggered internally at ../torch/csrc/jit/passes/onnx/shape_type_inference.cpp:1884.)\n",
      "  _C._jit_pass_onnx_graph_shape_type_inference(\n"
     ]
    },
    {
     "name": "stdout",
     "output_type": "stream",
     "text": [
      "VAE decoder successfully converted to ONNX\n",
      "[ INFO ] The model was converted to IR v11, the latest model format that corresponds to the source DL framework input/output format. While IR v11 is backwards compatible with OpenVINO Inference Engine API v1.0, please use API v2.0 (as of 2022.1) to take advantage of the latest improvements in IR v11.\n",
      "Find more information about API v2.0 and IR v11 at https://docs.openvino.ai/2023.0/openvino_2_0_transition_guide.html\n",
      "[ SUCCESS ] Generated IR version 11 model.\n",
      "[ SUCCESS ] XML file: /home/ea/work/openvino_notebooks/notebooks/236-stable-diffusion-v2/sd2_inpainting/vae_decoder.xml\n",
      "[ SUCCESS ] BIN file: /home/ea/work/openvino_notebooks/notebooks/236-stable-diffusion-v2/sd2_inpainting/vae_decoder.bin\n",
      "VAE decoder successfully converted to IR\n"
     ]
    }
   ],
   "source": [
    "VAE_ENCODER_ONNX_PATH_INPAINT = sd2_inpainting_model_dir / 'vae_encoder.onnx'\n",
    "VAE_ENCODER_OV_PATH_INPAINT = VAE_ENCODER_ONNX_PATH_INPAINT.with_suffix('.xml')\n",
    "\n",
    "if not VAE_ENCODER_OV_PATH_INPAINT.exists():\n",
    "    convert_vae_encoder_onnx(vae_inpaint, VAE_ENCODER_ONNX_PATH_INPAINT, 512, 512)\n",
    "    !mo --input_model $VAE_ENCODER_ONNX_PATH_INPAINT --output_dir $sd2_inpainting_model_dir\n",
    "    print('VAE encoder successfully converted to IR')\n",
    "else:\n",
    "    print(f\"VAE encoder will be loaded from {VAE_ENCODER_OV_PATH_INPAINT}\")\n",
    "\n",
    "VAE_DECODER_ONNX_PATH_INPAINT = sd2_inpainting_model_dir / 'vae_decoder.onnx'\n",
    "VAE_DECODER_OV_PATH_INPAINT = VAE_DECODER_ONNX_PATH_INPAINT.with_suffix('.xml')\n",
    "if not VAE_DECODER_OV_PATH_INPAINT.exists():\n",
    "    convert_vae_decoder_onnx(vae_inpaint, VAE_DECODER_ONNX_PATH_INPAINT, 64, 64)\n",
    "    !mo --input_model $VAE_DECODER_ONNX_PATH_INPAINT --output_dir $sd2_inpainting_model_dir\n",
    "    print('VAE decoder successfully converted to IR')\n",
    "else:\n",
    "    print(f\"VAE decoder will be loaded from {VAE_DECODER_OV_PATH_INPAINT}\")\n",
    "\n",
    "del vae_inpaint\n",
    "gc.collect();"
   ]
  },
  {
   "cell_type": "markdown",
   "id": "5dece3b0",
   "metadata": {},
   "source": [
    "### Prepare Inference pipeline\n",
    "\n",
    "As it was discussed previously, Inpainting inference pipeline is based on Text-to-Image inference pipeline with addition mask processing step. We will reuse `OVStableDiffusionPipeline` basic utilities in `OVStableDiffusionInpaintingPipeline` class."
   ]
  },
  {
   "cell_type": "code",
   "execution_count": 9,
   "id": "7c5dbefc",
   "metadata": {},
   "outputs": [
    {
     "name": "stderr",
     "output_type": "stream",
     "text": [
      "/tmp/ipykernel_1181138/859685649.py:8: FutureWarning: Importing `DiffusionPipeline` or `ImagePipelineOutput` from diffusers.pipeline_utils is deprecated. Please import from diffusers.pipelines.pipeline_utils instead.\n",
      "  from diffusers.pipeline_utils import DiffusionPipeline\n"
     ]
    }
   ],
   "source": [
    "import inspect\n",
    "from typing import List, Optional, Union, Dict\n",
    "\n",
    "import PIL\n",
    "import cv2\n",
    "\n",
    "from transformers import CLIPTokenizer\n",
    "from diffusers.pipeline_utils import DiffusionPipeline\n",
    "from diffusers.schedulers import DDIMScheduler, LMSDiscreteScheduler, PNDMScheduler\n",
    "from openvino.runtime import Model\n",
    "\n",
    "\n",
    "def prepare_mask_and_masked_image(image:PIL.Image.Image, mask:PIL.Image.Image):\n",
    "    \"\"\"\n",
    "    Prepares a pair (image, mask) to be consumed by the Stable Diffusion pipeline. This means that those inputs will be\n",
    "    converted to ``np.array`` with shapes ``batch x channels x height x width`` where ``channels`` is ``3`` for the\n",
    "    ``image`` and ``1`` for the ``mask``.\n",
    "\n",
    "    The ``image`` will be converted to ``np.float32`` and normalized to be in ``[-1, 1]``. The ``mask`` will be\n",
    "    binarized (``mask > 0.5``) and cast to ``np.float32`` too.\n",
    "\n",
    "    Args:\n",
    "        image (Union[np.array, PIL.Image]): The image to inpaint.\n",
    "            It can be a ``PIL.Image``, or a ``height x width x 3`` ``np.array``\n",
    "        mask (_type_): The mask to apply to the image, i.e. regions to inpaint.\n",
    "            It can be a ``PIL.Image``, or a ``height x width`` ``np.array``.\n",
    "\n",
    "    Returns:\n",
    "        tuple[np.array]: The pair (mask, masked_image) as ``torch.Tensor`` with 4\n",
    "            dimensions: ``batch x channels x height x width``.\n",
    "    \"\"\"\n",
    "    if isinstance(image, (PIL.Image.Image, np.ndarray)):\n",
    "        image = [image]\n",
    "\n",
    "    if isinstance(image, list) and isinstance(image[0], PIL.Image.Image):\n",
    "        image = [np.array(i.convert(\"RGB\"))[None, :] for i in image]\n",
    "        image = np.concatenate(image, axis=0)\n",
    "    elif isinstance(image, list) and isinstance(image[0], np.ndarray):\n",
    "        image = np.concatenate([i[None, :] for i in image], axis=0)\n",
    "\n",
    "    image = image.transpose(0, 3, 1, 2)\n",
    "    image = image.astype(np.float32) / 127.5 - 1.0\n",
    "\n",
    "    # preprocess mask\n",
    "    if isinstance(mask, (PIL.Image.Image, np.ndarray)):\n",
    "        mask = [mask]\n",
    "\n",
    "    if isinstance(mask, list) and isinstance(mask[0], PIL.Image.Image):\n",
    "        mask = np.concatenate([np.array(m.convert(\"L\"))[None, None, :] for m in mask], axis=0)\n",
    "        mask = mask.astype(np.float32) / 255.0\n",
    "    elif isinstance(mask, list) and isinstance(mask[0], np.ndarray):\n",
    "        mask = np.concatenate([m[None, None, :] for m in mask], axis=0)\n",
    "\n",
    "    mask[mask < 0.5] = 0\n",
    "    mask[mask >= 0.5] = 1\n",
    "\n",
    "    masked_image = image * (mask < 0.5)\n",
    "\n",
    "    return mask, masked_image"
   ]
  },
  {
   "cell_type": "code",
   "execution_count": 10,
   "id": "486f0a6f",
   "metadata": {},
   "outputs": [],
   "source": [
    "class OVStableDiffusionInpaintingPipeline(DiffusionPipeline):\n",
    "    def __init__(\n",
    "        self,\n",
    "        vae_decoder: Model,\n",
    "        text_encoder: Model,\n",
    "        tokenizer: CLIPTokenizer,\n",
    "        unet: Model,\n",
    "        scheduler: Union[DDIMScheduler, PNDMScheduler, LMSDiscreteScheduler],\n",
    "        vae_encoder: Model = None,\n",
    "    ):\n",
    "        \"\"\"\n",
    "        Pipeline for text-to-image generation using Stable Diffusion.\n",
    "        Parameters:\n",
    "            vae_decoder (Model):\n",
    "                Variational Auto-Encoder (VAE) Model to decode images to and from latent representations.\n",
    "            text_encoder (Model):\n",
    "                Frozen text-encoder. Stable Diffusion uses the text portion of\n",
    "                [CLIP](https://huggingface.co/docs/transformers/model_doc/clip#transformers.CLIPTextModel), specifically\n",
    "                the clip-vit-large-patch14(https://huggingface.co/openai/clip-vit-large-patch14) variant.\n",
    "            tokenizer (CLIPTokenizer):\n",
    "                Tokenizer of class CLIPTokenizer(https://huggingface.co/docs/transformers/v4.21.0/en/model_doc/clip#transformers.CLIPTokenizer).\n",
    "            unet (Model): Conditional U-Net architecture to denoise the encoded image latents.\n",
    "            vae_encoder (Model):\n",
    "                Variational Auto-Encoder (VAE) Model to encode images to latent representation.\n",
    "            scheduler (SchedulerMixin):\n",
    "                A scheduler to be used in combination with unet to denoise the encoded image latents. Can be one of\n",
    "                DDIMScheduler, LMSDiscreteScheduler, or PNDMScheduler.\n",
    "        \"\"\"\n",
    "        super().__init__()\n",
    "        self.scheduler = scheduler\n",
    "        self.vae_decoder = vae_decoder\n",
    "        self.vae_encoder = vae_encoder\n",
    "        self.text_encoder = text_encoder\n",
    "        self.unet = unet\n",
    "        self._text_encoder_output = text_encoder.output(0)\n",
    "        self._unet_output = unet.output(0)\n",
    "        self._vae_d_output = vae_decoder.output(0)\n",
    "        self._vae_e_output = vae_encoder.output(0) if vae_encoder is not None else None\n",
    "        self.height = self.unet.input(0).shape[2] * 8\n",
    "        self.width = self.unet.input(0).shape[3] * 8\n",
    "        self.tokenizer = tokenizer\n",
    "        self.register_to_config(_progress_bar_config={})\n",
    "\n",
    "    def prepare_mask_latents(\n",
    "        self,\n",
    "        mask,\n",
    "        masked_image,\n",
    "        height=512,\n",
    "        width=512,\n",
    "        do_classifier_free_guidance=True,\n",
    "    ):\n",
    "        \"\"\"\n",
    "        Prepare mask as Unet nput and encode input masked image to latent space using vae encoder\n",
    "\n",
    "        Parameters:\n",
    "          mask (np.array): input mask array\n",
    "          masked_image (np.array): masked input image tensor\n",
    "          heigh (int, *optional*, 512): generated image height\n",
    "          width (int, *optional*, 512): generated image width\n",
    "          do_classifier_free_guidance (bool, *optional*, True): whether to use classifier free guidance or not\n",
    "        Returns:\n",
    "          mask (np.array): resized mask tensor\n",
    "          masked_image_latents (np.array): masked image encoded into latent space using VAE\n",
    "        \"\"\"\n",
    "        mask = torch.nn.functional.interpolate(torch.from_numpy(mask), size=(height // 8, width // 8))\n",
    "        mask = mask.numpy()\n",
    "\n",
    "        # encode the mask image into latents space so we can concatenate it to the latents\n",
    "        moments = self.vae_encoder(masked_image)[self._vae_e_output]\n",
    "        mean, logvar = np.split(moments, 2, axis=1)\n",
    "        std = np.exp(logvar * 0.5)\n",
    "        masked_image_latents = (mean + std * np.random.randn(*mean.shape)) * 0.18215\n",
    "\n",
    "        mask = np.concatenate([mask] * 2) if do_classifier_free_guidance else mask\n",
    "        masked_image_latents = (\n",
    "            np.concatenate([masked_image_latents] * 2)\n",
    "            if do_classifier_free_guidance\n",
    "            else masked_image_latents\n",
    "        )\n",
    "        return mask, masked_image_latents\n",
    "\n",
    "    def __call__(\n",
    "        self,\n",
    "        prompt: Union[str, List[str]],\n",
    "        image: PIL.Image.Image,\n",
    "        mask_image: PIL.Image.Image,\n",
    "        negative_prompt: Union[str, List[str]] = None,\n",
    "        num_inference_steps: Optional[int] = 50,\n",
    "        guidance_scale: Optional[float] = 7.5,\n",
    "        eta: Optional[float] = 0,\n",
    "        output_type: Optional[str] = \"pil\",\n",
    "        seed: Optional[int] = None,\n",
    "    ):\n",
    "        \"\"\"\n",
    "        Function invoked when calling the pipeline for generation.\n",
    "        Parameters:\n",
    "            prompt (str or List[str]):\n",
    "                The prompt or prompts to guide the image generation.\n",
    "            image (PIL.Image.Image):\n",
    "                 Source image for inpainting.\n",
    "            mask_image (PIL.Image.Image):\n",
    "                 Mask area for inpainting\n",
    "            negative_prompt (str or List[str]):\n",
    "                The negative prompt or prompts to guide the image generation.\n",
    "            num_inference_steps (int, *optional*, defaults to 50):\n",
    "                The number of denoising steps. More denoising steps usually lead to a higher quality image at the\n",
    "                expense of slower inference.\n",
    "            guidance_scale (float, *optional*, defaults to 7.5):\n",
    "                Guidance scale as defined in Classifier-Free Diffusion Guidance(https://arxiv.org/abs/2207.12598).\n",
    "                guidance_scale is defined as `w` of equation 2.\n",
    "                Higher guidance scale encourages to generate images that are closely linked to the text prompt,\n",
    "                usually at the expense of lower image quality.\n",
    "            eta (float, *optional*, defaults to 0.0):\n",
    "                Corresponds to parameter eta (η) in the DDIM paper: https://arxiv.org/abs/2010.02502. Only applies to\n",
    "                [DDIMScheduler], will be ignored for others.\n",
    "            output_type (`str`, *optional*, defaults to \"pil\"):\n",
    "                The output format of the generate image. Choose between\n",
    "                [PIL](https://pillow.readthedocs.io/en/stable/): PIL.Image.Image or np.array.\n",
    "            seed (int, *optional*, None):\n",
    "                Seed for random generator state initialization.\n",
    "        Returns:\n",
    "            Dictionary with keys:\n",
    "                sample - the last generated image PIL.Image.Image or np.array\n",
    "        \"\"\"\n",
    "        if seed is not None:\n",
    "            np.random.seed(seed)\n",
    "        # here `guidance_scale` is defined analog to the guidance weight `w` of equation (2)\n",
    "        # of the Imagen paper: https://arxiv.org/pdf/2205.11487.pdf . `guidance_scale = 1`\n",
    "        # corresponds to doing no classifier free guidance.\n",
    "        do_classifier_free_guidance = guidance_scale > 1.0\n",
    "        # get prompt text embeddings\n",
    "        text_embeddings = self._encode_prompt(\n",
    "            prompt,\n",
    "            do_classifier_free_guidance=do_classifier_free_guidance,\n",
    "            negative_prompt=negative_prompt,\n",
    "        )\n",
    "        # prepare mask\n",
    "        mask, masked_image = prepare_mask_and_masked_image(image, mask_image)\n",
    "        # set timesteps\n",
    "        accepts_offset = \"offset\" in set(\n",
    "            inspect.signature(self.scheduler.set_timesteps).parameters.keys()\n",
    "        )\n",
    "        extra_set_kwargs = {}\n",
    "        if accepts_offset:\n",
    "            extra_set_kwargs[\"offset\"] = 1\n",
    "\n",
    "        self.scheduler.set_timesteps(num_inference_steps, **extra_set_kwargs)\n",
    "        timesteps, num_inference_steps = self.get_timesteps(num_inference_steps, 1)\n",
    "        latent_timestep = timesteps[:1]\n",
    "\n",
    "        # get the initial random noise unless the user supplied it\n",
    "        latents, meta = self.prepare_latents(None, latent_timestep)\n",
    "        mask, masked_image_latents = self.prepare_mask_latents(\n",
    "            mask,\n",
    "            masked_image,\n",
    "            do_classifier_free_guidance=do_classifier_free_guidance,\n",
    "        )\n",
    "\n",
    "        # prepare extra kwargs for the scheduler step, since not all schedulers have the same signature\n",
    "        # eta (η) is only used with the DDIMScheduler, it will be ignored for other schedulers.\n",
    "        # eta corresponds to η in DDIM paper: https://arxiv.org/abs/2010.02502\n",
    "        # and should be between [0, 1]\n",
    "        accepts_eta = \"eta\" in set(\n",
    "            inspect.signature(self.scheduler.step).parameters.keys()\n",
    "        )\n",
    "        extra_step_kwargs = {}\n",
    "        if accepts_eta:\n",
    "            extra_step_kwargs[\"eta\"] = eta\n",
    "\n",
    "        for t in self.progress_bar(timesteps):\n",
    "            # expand the latents if we are doing classifier free guidance\n",
    "            latent_model_input = (\n",
    "                np.concatenate([latents] * 2)\n",
    "                if do_classifier_free_guidance\n",
    "                else latents\n",
    "            )\n",
    "            latent_model_input = self.scheduler.scale_model_input(latent_model_input, t)\n",
    "            latent_model_input = np.concatenate(\n",
    "                [latent_model_input, mask, masked_image_latents], axis=1\n",
    "            )\n",
    "            # predict the noise residual\n",
    "            noise_pred = self.unet(\n",
    "                [latent_model_input, np.array(t, dtype=np.float32), text_embeddings]\n",
    "            )[self._unet_output]\n",
    "            # perform guidance\n",
    "            if do_classifier_free_guidance:\n",
    "                noise_pred_uncond, noise_pred_text = noise_pred[0], noise_pred[1]\n",
    "                noise_pred = noise_pred_uncond + guidance_scale * (\n",
    "                    noise_pred_text - noise_pred_uncond\n",
    "                )\n",
    "\n",
    "            # compute the previous noisy sample x_t -> x_t-1\n",
    "            latents = self.scheduler.step(\n",
    "                torch.from_numpy(noise_pred),\n",
    "                t,\n",
    "                torch.from_numpy(latents),\n",
    "                **extra_step_kwargs,\n",
    "            )[\"prev_sample\"].numpy()\n",
    "        # scale and decode the image latents with vae\n",
    "        image = self.vae_decoder(latents)[self._vae_d_output]\n",
    "\n",
    "        image = self.postprocess_image(image, meta, output_type)\n",
    "        return {\"sample\": image}\n",
    "\n",
    "    def _encode_prompt(self, prompt:Union[str, List[str]], num_images_per_prompt:int = 1, do_classifier_free_guidance:bool = True, negative_prompt:Union[str, List[str]] = None):\n",
    "        \"\"\"\n",
    "        Encodes the prompt into text encoder hidden states.\n",
    "\n",
    "        Parameters:\n",
    "            prompt (str or list(str)): prompt to be encoded\n",
    "            num_images_per_prompt (int): number of images that should be generated per prompt\n",
    "            do_classifier_free_guidance (bool): whether to use classifier free guidance or not\n",
    "            negative_prompt (str or list(str)): negative prompt to be encoded\n",
    "        Returns:\n",
    "            text_embeddings (np.ndarray): text encoder hidden states\n",
    "        \"\"\"\n",
    "        batch_size = len(prompt) if isinstance(prompt, list) else 1\n",
    "\n",
    "        # tokenize input prompts\n",
    "        text_inputs = self.tokenizer(\n",
    "            prompt,\n",
    "            padding=\"max_length\",\n",
    "            max_length=self.tokenizer.model_max_length,\n",
    "            truncation=True,\n",
    "            return_tensors=\"np\",\n",
    "        )\n",
    "        text_input_ids = text_inputs.input_ids\n",
    "\n",
    "        text_embeddings = self.text_encoder(\n",
    "            text_input_ids)[self._text_encoder_output]\n",
    "\n",
    "        # duplicate text embeddings for each generation per prompt\n",
    "        if num_images_per_prompt != 1:\n",
    "            bs_embed, seq_len, _ = text_embeddings.shape\n",
    "            text_embeddings = np.tile(\n",
    "                text_embeddings, (1, num_images_per_prompt, 1))\n",
    "            text_embeddings = np.reshape(\n",
    "                text_embeddings, (bs_embed * num_images_per_prompt, seq_len, -1))\n",
    "\n",
    "        # get unconditional embeddings for classifier free guidance\n",
    "        if do_classifier_free_guidance:\n",
    "            uncond_tokens: List[str]\n",
    "            max_length = text_input_ids.shape[-1]\n",
    "            if negative_prompt is None:\n",
    "                uncond_tokens = [\"\"] * batch_size\n",
    "            elif isinstance(negative_prompt, str):\n",
    "                uncond_tokens = [negative_prompt]\n",
    "            else:\n",
    "                uncond_tokens = negative_prompt\n",
    "            uncond_input = self.tokenizer(\n",
    "                uncond_tokens,\n",
    "                padding=\"max_length\",\n",
    "                max_length=max_length,\n",
    "                truncation=True,\n",
    "                return_tensors=\"np\",\n",
    "            )\n",
    "\n",
    "            uncond_embeddings = self.text_encoder(uncond_input.input_ids)[self._text_encoder_output]\n",
    "\n",
    "            # duplicate unconditional embeddings for each generation per prompt, using mps friendly method\n",
    "            seq_len = uncond_embeddings.shape[1]\n",
    "            uncond_embeddings = np.tile(uncond_embeddings, (1, num_images_per_prompt, 1))\n",
    "            uncond_embeddings = np.reshape(uncond_embeddings, (batch_size * num_images_per_prompt, seq_len, -1))\n",
    "\n",
    "            # For classifier free guidance, we need to do two forward passes.\n",
    "            # Here we concatenate the unconditional and text embeddings into a single batch\n",
    "            # to avoid doing two forward passes\n",
    "            text_embeddings = np.concatenate([uncond_embeddings, text_embeddings])\n",
    "\n",
    "        return text_embeddings\n",
    "\n",
    "    def prepare_latents(self, image:PIL.Image.Image = None, latent_timestep:torch.Tensor = None):\n",
    "        \"\"\"\n",
    "        Function for getting initial latents for starting generation\n",
    "        \n",
    "        Parameters:\n",
    "            image (PIL.Image.Image, *optional*, None):\n",
    "                Input image for generation, if not provided randon noise will be used as starting point\n",
    "            latent_timestep (torch.Tensor, *optional*, None):\n",
    "                Predicted by scheduler initial step for image generation, required for latent image mixing with nosie\n",
    "        Returns:\n",
    "            latents (np.ndarray):\n",
    "                Image encoded in latent space\n",
    "        \"\"\"\n",
    "        latents_shape = (1, 4, self.height // 8, self.width // 8)\n",
    "        noise = np.random.randn(*latents_shape).astype(np.float32)\n",
    "        if image is None:\n",
    "            # if we use LMSDiscreteScheduler, let's make sure latents are mulitplied by sigmas\n",
    "            if isinstance(self.scheduler, LMSDiscreteScheduler):\n",
    "                noise = noise * self.scheduler.sigmas[0].numpy()\n",
    "            return noise, {}\n",
    "        input_image, meta = preprocess(image)\n",
    "        moments = self.vae_encoder(input_image)[self._vae_e_output]\n",
    "        mean, logvar = np.split(moments, 2, axis=1) \n",
    "        std = np.exp(logvar * 0.5)\n",
    "        latents = (mean + std * np.random.randn(*mean.shape)) * 0.18215\n",
    "        latents = self.scheduler.add_noise(torch.from_numpy(latents), torch.from_numpy(noise), latent_timestep).numpy()\n",
    "        return latents, meta\n",
    "\n",
    "    def postprocess_image(self, image:np.ndarray, meta:Dict, output_type:str = \"pil\"):\n",
    "        \"\"\"\n",
    "        Postprocessing for decoded image. Takes generated image decoded by VAE decoder, unpad it to initila image size (if required), \n",
    "        normalize and convert to [0, 255] pixels range. Optionally, convertes it from np.ndarray to PIL.Image format\n",
    "        \n",
    "        Parameters:\n",
    "            image (np.ndarray):\n",
    "                Generated image\n",
    "            meta (Dict):\n",
    "                Metadata obtained on latents preparing step, can be empty\n",
    "            output_type (str, *optional*, pil):\n",
    "                Output format for result, can be pil or numpy\n",
    "        Returns:\n",
    "            image (List of np.ndarray or PIL.Image.Image):\n",
    "                Postprocessed images\n",
    "        \"\"\"\n",
    "        if \"padding\" in meta:\n",
    "            pad = meta[\"padding\"]\n",
    "            (_, end_h), (_, end_w) = pad[1:3]\n",
    "            h, w = image.shape[2:]\n",
    "            unpad_h = h - end_h\n",
    "            unpad_w = w - end_w\n",
    "            image = image[:, :, :unpad_h, :unpad_w]\n",
    "        image = np.clip(image / 2 + 0.5, 0, 1)\n",
    "        image = np.transpose(image, (0, 2, 3, 1))\n",
    "        # 9. Convert to PIL\n",
    "        if output_type == \"pil\":\n",
    "            image = self.numpy_to_pil(image)\n",
    "            if \"src_height\" in meta:\n",
    "                orig_height, orig_width = meta[\"src_height\"], meta[\"src_width\"]\n",
    "                image = [img.resize((orig_width, orig_height),\n",
    "                                    PIL.Image.Resampling.LANCZOS) for img in image]\n",
    "        else:\n",
    "            if \"src_height\" in meta:\n",
    "                orig_height, orig_width = meta[\"src_height\"], meta[\"src_width\"]\n",
    "                image = [cv2.resize(img, (orig_width, orig_width))\n",
    "                         for img in image]\n",
    "        return image\n",
    "\n",
    "    def get_timesteps(self, num_inference_steps:int, strength:float):\n",
    "        \"\"\"\n",
    "        Helper function for getting scheduler timesteps for generation\n",
    "        In case of image-to-image generation, it updates number of steps according to strength\n",
    "        \n",
    "        Parameters:\n",
    "           num_inference_steps (int):\n",
    "              number of inference steps for generation\n",
    "           strength (float):\n",
    "               value between 0.0 and 1.0, that controls the amount of noise that is added to the input image. \n",
    "               Values that approach 1.0 allow for lots of variations but will also produce images that are not semantically consistent with the input.\n",
    "        \"\"\"\n",
    "        # get the original timestep using init_timestep\n",
    "        init_timestep = min(int(num_inference_steps * strength), num_inference_steps)\n",
    "\n",
    "        t_start = max(num_inference_steps - init_timestep, 0)\n",
    "        timesteps = self.scheduler.timesteps[t_start:]\n",
    "\n",
    "        return timesteps, num_inference_steps - t_start "
   ]
  },
  {
   "cell_type": "markdown",
   "id": "a0a54ba0",
   "metadata": {},
   "source": [
    "### Zoom Video Generation\n",
    "\n",
    "For achieving zoom effect, we will use inpainting to expand images beyond their original borders.\n",
    "We run our `OVStableDiffusionInpaintingPipeline` in the loop, where each next frame will add edges to previous. The frame generation process illustrated on diagram below:\n",
    "\n",
    "![frame generation)](https://user-images.githubusercontent.com/29454499/228739686-436f2759-4c79-42a2-a70f-959fb226834c.png)\n",
    "\n",
    "After processing current frame, we decrease size of current image by mask size pixels from each side and use it as input for next step. Changing size of mask we can influence the size of painting area and image scaling.\n",
    "\n",
    "There are 2 zooming directions:\n",
    "* Zoom Out - move away from object\n",
    "* Zoom In - move closer to object\n",
    "\n",
    "Zoom In will be processed in the same way like Zoom Out, but after generation is finished, we record frames in reversed order."
   ]
  },
  {
   "cell_type": "code",
   "execution_count": 11,
   "id": "051acf7f",
   "metadata": {},
   "outputs": [],
   "source": [
    "from tqdm import trange\n",
    "def generate_video(\n",
    "    pipe:OVStableDiffusionInpaintingPipeline,\n",
    "    prompt:Union[str, List[str]],\n",
    "    negative_prompt:Union[str, List[str]],\n",
    "    guidance_scale:float = 7.5,\n",
    "    num_inference_steps:int = 20,\n",
    "    num_frames:int = 20,\n",
    "    mask_width:int = 128,\n",
    "    seed:int = 9999,\n",
    "    zoom_in:bool = False,\n",
    "):\n",
    "    \"\"\"\n",
    "    Zoom video generation function\n",
    "    \n",
    "    Parameters:\n",
    "      pipe (OVStableDiffusionInpaintingPipeline): inpainting pipeline.\n",
    "      prompt (str or List[str]): The prompt or prompts to guide the image generation.\n",
    "      negative_prompt (str or List[str]): The negative prompt or prompts to guide the image generation.\n",
    "      guidance_scale (float, *optional*, defaults to 7.5):\n",
    "                Guidance scale as defined in Classifier-Free Diffusion Guidance(https://arxiv.org/abs/2207.12598).\n",
    "                guidance_scale is defined as `w` of equation 2.\n",
    "                Higher guidance scale encourages to generate images that are closely linked to the text prompt,\n",
    "                usually at the expense of lower image quality.\n",
    "      num_inference_steps (int, *optional*, defaults to 50): The number of denoising steps for each frame. More denoising steps usually lead to a higher quality image at the expense of slower inference.\n",
    "      num_frames (int, *optional*, 20): number frames for video.\n",
    "      mask_width (int, *optional*, 128): size of border mask for inpainting on each step.\n",
    "      seed (int, *optional*, None): Seed for random generator state initialization.\n",
    "      zoom_in (bool, *optional*, False): zoom mode Zoom In or Zoom Out.\n",
    "    Returns:\n",
    "      output_path (str): Path where generated video loacated.\n",
    "    \"\"\"\n",
    "\n",
    "    height = 512\n",
    "    width = height\n",
    "\n",
    "    current_image = PIL.Image.new(mode=\"RGBA\", size=(height, width))\n",
    "    mask_image = np.array(current_image)[:, :, 3]\n",
    "    mask_image = PIL.Image.fromarray(255 - mask_image).convert(\"RGB\")\n",
    "    current_image = current_image.convert(\"RGB\")\n",
    "    pipe.set_progress_bar_config(desc='Generating initial image...')\n",
    "    init_images = pipe(\n",
    "        prompt=prompt,\n",
    "        negative_prompt=negative_prompt,\n",
    "        image=current_image,\n",
    "        guidance_scale=guidance_scale,\n",
    "        mask_image=mask_image,\n",
    "        seed=seed,\n",
    "        num_inference_steps=num_inference_steps,\n",
    "    )[\"sample\"]\n",
    "    pipe.set_progress_bar_config()\n",
    "\n",
    "    image_grid(init_images, rows=1, cols=1)\n",
    "\n",
    "    num_outpainting_steps = num_frames\n",
    "    num_interpol_frames = 30\n",
    "\n",
    "    current_image = init_images[0]\n",
    "    all_frames = []\n",
    "    all_frames.append(current_image)\n",
    "    for i in trange(num_outpainting_steps, desc=f'Generating {num_outpainting_steps} additional images...'):\n",
    "        prev_image_fix = current_image\n",
    "\n",
    "        prev_image = shrink_and_paste_on_blank(current_image, mask_width)\n",
    "\n",
    "        current_image = prev_image\n",
    "\n",
    "        # create mask (black image with white mask_width width edges)\n",
    "        mask_image = np.array(current_image)[:, :, 3]\n",
    "        mask_image = PIL.Image.fromarray(255 - mask_image).convert(\"RGB\")\n",
    "\n",
    "        # inpainting step\n",
    "        current_image = current_image.convert(\"RGB\")\n",
    "        images = pipe(\n",
    "            prompt=prompt,\n",
    "            negative_prompt=negative_prompt,\n",
    "            image=current_image,\n",
    "            guidance_scale=guidance_scale,\n",
    "            mask_image=mask_image,\n",
    "            seed=seed,\n",
    "            num_inference_steps=num_inference_steps,\n",
    "        )[\"sample\"]\n",
    "        current_image = images[0]\n",
    "        current_image.paste(prev_image, mask=prev_image)\n",
    "\n",
    "        # interpolation steps bewteen 2 inpainted images (=sequential zoom and crop)\n",
    "        for j in range(num_interpol_frames - 1):\n",
    "            interpol_image = current_image\n",
    "            interpol_width = round((1 - (1 - 2 * mask_width / height) ** (1 - (j + 1) / num_interpol_frames)) * height / 2)\n",
    "            interpol_image = interpol_image.crop(\n",
    "                (\n",
    "                    interpol_width,\n",
    "                    interpol_width,\n",
    "                    width - interpol_width,\n",
    "                    height - interpol_width,\n",
    "                )\n",
    "            )\n",
    "\n",
    "            interpol_image = interpol_image.resize((height, width))\n",
    "\n",
    "            # paste the higher resolution previous image in the middle to avoid drop in quality caused by zooming\n",
    "            interpol_width2 = round((1 - (height - 2 * mask_width) / (height - 2 * interpol_width)) / 2 * height)\n",
    "            prev_image_fix_crop = shrink_and_paste_on_blank(prev_image_fix, interpol_width2)\n",
    "            interpol_image.paste(prev_image_fix_crop, mask=prev_image_fix_crop)\n",
    "            all_frames.append(interpol_image)\n",
    "        all_frames.append(current_image)\n",
    "\n",
    "    video_file_name = f\"infinite_zoom_{'in' if zoom_in else 'out'}\"\n",
    "    fps = 30\n",
    "    save_path = video_file_name + \".mp4\"\n",
    "    write_video(save_path, all_frames, fps, reversed_order=zoom_in)\n",
    "    return save_path"
   ]
  },
  {
   "cell_type": "code",
   "execution_count": 12,
   "id": "d9666757",
   "metadata": {},
   "outputs": [],
   "source": [
    "def shrink_and_paste_on_blank(current_image:PIL.Image.Image, mask_width:int):\n",
    "    \"\"\"\n",
    "    Decreases size of current_image by mask_width pixels from each side,\n",
    "    then adds a mask_width width transparent frame,\n",
    "    so that the image the function returns is the same size as the input.\n",
    "    \n",
    "    Parameters:\n",
    "        current_image (PIL.Image): input image to transform\n",
    "        mask_width (int): width in pixels to shrink from each side\n",
    "    Returns:\n",
    "       prev_image (PIL.Image): resized image with extended borders\n",
    "    \"\"\"\n",
    "\n",
    "    height = current_image.height\n",
    "    width = current_image.width\n",
    "\n",
    "    # shrink down by mask_width\n",
    "    prev_image = current_image.resize((height - 2 * mask_width, width - 2 * mask_width))\n",
    "    prev_image = prev_image.convert(\"RGBA\")\n",
    "    prev_image = np.array(prev_image)\n",
    "\n",
    "    # create blank non-transparent image\n",
    "    blank_image = np.array(current_image.convert(\"RGBA\")) * 0\n",
    "    blank_image[:, :, 3] = 1\n",
    "\n",
    "    # paste shrinked onto blank\n",
    "    blank_image[\n",
    "        mask_width : height - mask_width, mask_width : width - mask_width, :\n",
    "    ] = prev_image\n",
    "    prev_image = PIL.Image.fromarray(blank_image)\n",
    "\n",
    "    return prev_image\n",
    "\n",
    "\n",
    "def image_grid(imgs:List[PIL.Image.Image], rows:int, cols:int):\n",
    "    \"\"\"\n",
    "    Insert images to grid\n",
    "    \n",
    "    Parameters:\n",
    "        imgs (List[PIL.Image.Image]): list of images for making grid\n",
    "        rows (int): number of rows in grid\n",
    "        cols (int): number of columns in grid\n",
    "    Returns:\n",
    "        grid (PIL.Image): image with input images collage\n",
    "    \"\"\"\n",
    "    assert len(imgs) == rows * cols\n",
    "\n",
    "    w, h = imgs[0].size\n",
    "    grid = PIL.Image.new(\"RGB\", size=(cols * w, rows * h))\n",
    "\n",
    "    for i, img in enumerate(imgs):\n",
    "        grid.paste(img, box=(i % cols * w, i // cols * h))\n",
    "    return grid\n",
    "\n",
    "\n",
    "def write_video(file_path:str, frames:List[PIL.Image.Image], fps:float, reversed_order:bool = True, gif:bool = True):\n",
    "    \"\"\"\n",
    "    Writes frames to an mp4 video file and optionaly to gif\n",
    "    \n",
    "    Parameters:\n",
    "        file_path (str): Path to output video, must end with .mp4\n",
    "        frames (List of PIL.Image): list of frames\n",
    "        fps (float): Desired frame rate\n",
    "        reversed_order (bool): if order of images to be reversed (default = True)\n",
    "        gif (bool): save frames to gif format (default = True)\n",
    "    Returns:\n",
    "        None\n",
    "    \"\"\"\n",
    "    if reversed_order:\n",
    "        frames.reverse()\n",
    "\n",
    "    w, h = frames[0].size\n",
    "    fourcc = cv2.VideoWriter_fourcc(\"m\", \"p\", \"4\", \"v\")\n",
    "    # fourcc = cv2.VideoWriter_fourcc(*'avc1')\n",
    "    writer = cv2.VideoWriter(file_path, fourcc, fps, (w, h))\n",
    "\n",
    "    for frame in frames:\n",
    "        np_frame = np.array(frame.convert(\"RGB\"))\n",
    "        cv_frame = cv2.cvtColor(np_frame, cv2.COLOR_RGB2BGR)\n",
    "        writer.write(cv_frame)\n",
    "\n",
    "    writer.release()\n",
    "    if gif:\n",
    "        frames[0].save(\n",
    "            file_path.replace(\".mp4\", \".gif\"),\n",
    "            save_all=True,\n",
    "            append_images=frames[1:],\n",
    "            duratiobn=len(frames) / fps,\n",
    "            loop=0,\n",
    "        )"
   ]
  },
  {
   "cell_type": "markdown",
   "id": "e96e2c00",
   "metadata": {},
   "source": [
    "### Configure Inference Pipeline\n",
    "\n",
    "Configuration steps:\n",
    "1. Load models on device\n",
    "2. Configure tokenizer and scheduler\n",
    "3. Create instance of `OVStableDiffusionInpaintingPipeline` class"
   ]
  },
  {
   "cell_type": "code",
   "execution_count": 13,
   "id": "c5470d37",
   "metadata": {},
   "outputs": [],
   "source": [
    "from openvino.runtime import Core\n",
    "\n",
    "core = Core()\n",
    "\n",
    "tokenizer = CLIPTokenizer.from_pretrained('openai/clip-vit-large-patch14')"
   ]
  },
  {
   "cell_type": "markdown",
   "id": "3f5c1ceb-11bb-4de8-ad55-804cfc0e153c",
   "metadata": {},
   "source": [
    "### Select inference device\n",
    "\n",
    "select device from dropdown list for running inference using OpenVINO"
   ]
  },
  {
   "cell_type": "code",
   "execution_count": 14,
   "id": "d7459a0f-29b9-484c-9e1a-5c6e64f337a8",
   "metadata": {},
   "outputs": [
    {
     "data": {
      "application/vnd.jupyter.widget-view+json": {
       "model_id": "5fc18176227d4e0f8de3767858c1484f",
       "version_major": 2,
       "version_minor": 0
      },
      "text/plain": [
       "Dropdown(description='Device:', index=2, options=('CPU', 'GPU', 'AUTO'), value='AUTO')"
      ]
     },
     "execution_count": 14,
     "metadata": {},
     "output_type": "execute_result"
    }
   ],
   "source": [
    "import ipywidgets as widgets\n",
    "\n",
    "device = widgets.Dropdown(\n",
    "    options=core.available_devices + [\"AUTO\"],\n",
    "    value='AUTO',\n",
    "    description='Device:',\n",
    "    disabled=False,\n",
    ")\n",
    "\n",
    "device"
   ]
  },
  {
   "cell_type": "code",
   "execution_count": 15,
   "id": "67ac7373-35be-492f-8564-297b37e07642",
   "metadata": {},
   "outputs": [],
   "source": [
    "\n",
    "text_enc_inpaint = core.compile_model(TEXT_ENCODER_OV_PATH_INPAINT, device.value)\n",
    "unet_model_inpaint = core.compile_model(UNET_OV_PATH_INPAINT, device.value)\n",
    "vae_decoder_inpaint = core.compile_model(VAE_DECODER_OV_PATH_INPAINT, device.value)\n",
    "vae_encoder_inpaint = core.compile_model(VAE_ENCODER_OV_PATH_INPAINT, device.value)\n",
    "\n",
    "ov_pipe_inpaint = OVStableDiffusionInpaintingPipeline(\n",
    "    tokenizer=tokenizer,\n",
    "    text_encoder=text_enc_inpaint,\n",
    "    unet=unet_model_inpaint,\n",
    "    vae_encoder=vae_encoder_inpaint,\n",
    "    vae_decoder=vae_decoder_inpaint,\n",
    "    scheduler=scheduler_inpaint,\n",
    ")"
   ]
  },
  {
   "cell_type": "markdown",
   "id": "66fd066a",
   "metadata": {},
   "source": [
    "### Run Infinite Zoom video generation"
   ]
  },
  {
   "cell_type": "code",
   "execution_count": 16,
   "id": "eeb67824-7d1c-4680-8f3c-e55edc5b36eb",
   "metadata": {
    "tags": []
   },
   "outputs": [
    {
     "name": "stdout",
     "output_type": "stream",
     "text": [
      "Running on local URL:  http://127.0.0.1:7861\n",
      "Running on public URL: https://462b1833bf3b980731.gradio.live\n",
      "\n",
      "This share link expires in 72 hours. For free permanent hosting and GPU upgrades, run `gradio deploy` from Terminal to deploy to Spaces (https://huggingface.co/spaces)\n"
     ]
    },
    {
     "data": {
      "text/html": [
       "<div><iframe src=\"https://462b1833bf3b980731.gradio.live\" width=\"100%\" height=\"500\" allow=\"autoplay; camera; microphone; clipboard-read; clipboard-write;\" frameborder=\"0\" allowfullscreen></iframe></div>"
      ],
      "text/plain": [
       "<IPython.core.display.HTML object>"
      ]
     },
     "metadata": {},
     "output_type": "display_data"
    },
    {
     "data": {
      "text/plain": []
     },
     "execution_count": 16,
     "metadata": {},
     "output_type": "execute_result"
    }
   ],
   "source": [
    "import gradio as gr\n",
    "from socket import gethostbyname, gethostname\n",
    "\n",
    "def generate(\n",
    "    prompt,\n",
    "    negative_prompt,\n",
    "    seed,\n",
    "    steps,\n",
    "    frames,\n",
    "    edge_size,\n",
    "    zoom_in,\n",
    "    progress=gr.Progress(track_tqdm=True),\n",
    "):\n",
    "    video_path = generate_video(\n",
    "        ov_pipe_inpaint,\n",
    "        prompt,\n",
    "        negative_prompt,\n",
    "        num_inference_steps=steps,\n",
    "        num_frames=frames,\n",
    "        mask_width=edge_size,\n",
    "        seed=seed,\n",
    "        zoom_in=zoom_in,\n",
    "    )\n",
    "    return video_path.replace(\".mp4\", \".gif\")\n",
    "\n",
    "\n",
    "gr.close_all()\n",
    "demo = gr.Interface(\n",
    "    generate,\n",
    "    [\n",
    "        gr.Textbox(\n",
    "            \"valley in the Alps at sunset, epic vista, beautiful landscape, 4k, 8k\",\n",
    "            label=\"Prompt\",\n",
    "        ),\n",
    "        gr.Textbox(\"lurry, bad art, blurred, text, watermark\", label=\"Negative prompt\"),\n",
    "        gr.Slider(value=9999, label=\"Seed\", maximum=10000000),\n",
    "        gr.Slider(value=20, label=\"Steps\", minimum=1, maximum=50),\n",
    "        gr.Slider(value=3, label=\"Frames\", minimum=1, maximum=50),\n",
    "        gr.Slider(value=128, label=\"Edge size\", minimum=32, maximum=256),\n",
    "        gr.Checkbox(label=\"Zoom in\"),\n",
    "    ],\n",
    "    \"image\",\n",
    ")\n",
    "ipaddr = gethostbyname(gethostname())\n",
    "demo.queue().launch(share=True)"
   ]
  }
 ],
 "metadata": {
  "kernelspec": {
   "display_name": "Python 3 (ipykernel)",
   "language": "python",
   "name": "python3"
  },
  "language_info": {
   "codemirror_mode": {
    "name": "ipython",
    "version": 3
   },
   "file_extension": ".py",
   "mimetype": "text/x-python",
   "name": "python",
   "nbconvert_exporter": "python",
   "pygments_lexer": "ipython3",
   "version": "3.8.10"
  },
  "widgets": {
   "application/vnd.jupyter.widget-state+json": {
    "state": {
     "00f8a25924844197ace14d523931f994": {
      "model_module": "@jupyter-widgets/controls",
      "model_module_version": "2.0.0",
      "model_name": "HTMLStyleModel",
      "state": {
       "description_width": "",
       "font_size": null,
       "text_color": null
      }
     },
     "07c9e7b62413449795ed12f55c1b8176": {
      "model_module": "@jupyter-widgets/base",
      "model_module_version": "2.0.0",
      "model_name": "LayoutModel",
      "state": {}
     },
     "07da2bec8acf4cda9f7daa3e1d34e1ce": {
      "model_module": "@jupyter-widgets/base",
      "model_module_version": "2.0.0",
      "model_name": "LayoutModel",
      "state": {}
     },
     "09b4abc5e52c4dadbb2cfde0a2279838": {
      "model_module": "@jupyter-widgets/controls",
      "model_module_version": "2.0.0",
      "model_name": "DescriptionStyleModel",
      "state": {
       "description_width": ""
      }
     },
     "09ef600d513a4e50b39b021480d02ff1": {
      "model_module": "@jupyter-widgets/base",
      "model_module_version": "2.0.0",
      "model_name": "LayoutModel",
      "state": {}
     },
     "0ad33d14305c44ab9d9c71b3d588c954": {
      "model_module": "@jupyter-widgets/base",
      "model_module_version": "2.0.0",
      "model_name": "LayoutModel",
      "state": {}
     },
     "0b459073280641dfa878572ed63e7808": {
      "model_module": "@jupyter-widgets/controls",
      "model_module_version": "2.0.0",
      "model_name": "HTMLModel",
      "state": {
       "layout": "IPY_MODEL_52b14b718a88404a80ad3cdfcf14510b",
       "style": "IPY_MODEL_cb36381fcc0d43e2b5443c22d2ee3993",
       "value": " 335M/335M [00:16&lt;00:00, 22.5MB/s]"
      }
     },
     "0c0c25b8e4f64d25bcb0651e5ce74bc4": {
      "model_module": "@jupyter-widgets/base",
      "model_module_version": "2.0.0",
      "model_name": "LayoutModel",
      "state": {}
     },
     "0cd8406c74bd439e88946f1e624018e3": {
      "model_module": "@jupyter-widgets/controls",
      "model_module_version": "2.0.0",
      "model_name": "HTMLModel",
      "state": {
       "layout": "IPY_MODEL_f3370242c1fb4cedafb2f0275b6d87fd",
       "style": "IPY_MODEL_b8fab78ceeb142ad849c05dc8b610394",
       "value": " 3.46G/3.46G [02:59&lt;00:00, 22.0MB/s]"
      }
     },
     "0ee455241121403889fc9d6c117d9418": {
      "model_module": "@jupyter-widgets/controls",
      "model_module_version": "2.0.0",
      "model_name": "FloatProgressModel",
      "state": {
       "bar_style": "success",
       "layout": "IPY_MODEL_8e22d631ad9444d1a0b2377d87eb4564",
       "max": 616,
       "style": "IPY_MODEL_40f0715859e045679c71d22848690157",
       "value": 616
      }
     },
     "0f43ae6d918b4e3b8af398123f7bfffa": {
      "model_module": "@jupyter-widgets/controls",
      "model_module_version": "2.0.0",
      "model_name": "ProgressStyleModel",
      "state": {
       "description_width": ""
      }
     },
     "139574e934cf4462bb756593e42e5363": {
      "model_module": "@jupyter-widgets/controls",
      "model_module_version": "2.0.0",
      "model_name": "HTMLModel",
      "state": {
       "layout": "IPY_MODEL_aa9f956b45354546be8ea4fc03dc9a65",
       "style": "IPY_MODEL_74bed3b8ffc54752abb5d2c6bbdec3f7",
       "value": "Downloading (…)ain/model_index.json: 100%"
      }
     },
     "141d59d7eecb432284735b7328fbc65c": {
      "model_module": "@jupyter-widgets/base",
      "model_module_version": "2.0.0",
      "model_name": "LayoutModel",
      "state": {}
     },
     "1566ac0397cc4fce9d7121c015470579": {
      "model_module": "@jupyter-widgets/controls",
      "model_module_version": "2.0.0",
      "model_name": "ProgressStyleModel",
      "state": {
       "description_width": ""
      }
     },
     "16ca8dd82b6b44888604d6b137101e8b": {
      "model_module": "@jupyter-widgets/controls",
      "model_module_version": "2.0.0",
      "model_name": "HTMLStyleModel",
      "state": {
       "description_width": "",
       "font_size": null,
       "text_color": null
      }
     },
     "1b4dd7ff138144f2951d0bba74546784": {
      "model_module": "@jupyter-widgets/controls",
      "model_module_version": "2.0.0",
      "model_name": "HTMLStyleModel",
      "state": {
       "description_width": "",
       "font_size": null,
       "text_color": null
      }
     },
     "1bf5c4ecb481434c975025dd5a2c4d79": {
      "model_module": "@jupyter-widgets/controls",
      "model_module_version": "2.0.0",
      "model_name": "HTMLStyleModel",
      "state": {
       "description_width": "",
       "font_size": null,
       "text_color": null
      }
     },
     "1fa70669f9e448f09fc05b2d3fee7d9b": {
      "model_module": "@jupyter-widgets/controls",
      "model_module_version": "2.0.0",
      "model_name": "HTMLStyleModel",
      "state": {
       "description_width": "",
       "font_size": null,
       "text_color": null
      }
     },
     "1fdc5b3235074a009c7b100a90454c2c": {
      "model_module": "@jupyter-widgets/base",
      "model_module_version": "2.0.0",
      "model_name": "LayoutModel",
      "state": {}
     },
     "1ffe8ffe45aa44bdbd76aca1d0ca3b74": {
      "model_module": "@jupyter-widgets/controls",
      "model_module_version": "2.0.0",
      "model_name": "HTMLModel",
      "state": {
       "layout": "IPY_MODEL_c27b210eab644bf2a98c7da15fb3836c",
       "style": "IPY_MODEL_b9ef945487484977b102d1c442d44fb5",
       "value": "Fetching 13 files: 100%"
      }
     },
     "217a59c0d66e4cd1aea85f6b6d059d4d": {
      "model_module": "@jupyter-widgets/controls",
      "model_module_version": "2.0.0",
      "model_name": "HTMLStyleModel",
      "state": {
       "description_width": "",
       "font_size": null,
       "text_color": null
      }
     },
     "243e0c69113e45caa4436a3d740076df": {
      "model_module": "@jupyter-widgets/base",
      "model_module_version": "2.0.0",
      "model_name": "LayoutModel",
      "state": {}
     },
     "27ea5f210d884d37b5a47d7c36ca5a5c": {
      "model_module": "@jupyter-widgets/controls",
      "model_module_version": "2.0.0",
      "model_name": "ProgressStyleModel",
      "state": {
       "description_width": ""
      }
     },
     "283e09b34cb247bfb3014d140bc95eb7": {
      "model_module": "@jupyter-widgets/base",
      "model_module_version": "2.0.0",
      "model_name": "LayoutModel",
      "state": {}
     },
     "29a3cf15e7714d068b58a686dec4fb7e": {
      "model_module": "@jupyter-widgets/controls",
      "model_module_version": "2.0.0",
      "model_name": "HTMLModel",
      "state": {
       "layout": "IPY_MODEL_3073f519fba6474b990a93ecceed2f4f",
       "style": "IPY_MODEL_879f573ea28347569a44c7efc1435ed8",
       "value": " 13/13 [03:01&lt;00:00, 17.27s/it]"
      }
     },
     "2b3be18248124922af19aa9f2d5ea96d": {
      "model_module": "@jupyter-widgets/controls",
      "model_module_version": "2.0.0",
      "model_name": "FloatProgressModel",
      "state": {
       "bar_style": "success",
       "layout": "IPY_MODEL_6cf8112f56eb496a866694618ea98381",
       "max": 460,
       "style": "IPY_MODEL_0f43ae6d918b4e3b8af398123f7bfffa",
       "value": 460
      }
     },
     "2f494b939dea471caa720dbe342bc0a8": {
      "model_module": "@jupyter-widgets/controls",
      "model_module_version": "2.0.0",
      "model_name": "HTMLStyleModel",
      "state": {
       "description_width": "",
       "font_size": null,
       "text_color": null
      }
     },
     "3050fb30fa0a49d6beb14047ff81cd34": {
      "model_module": "@jupyter-widgets/controls",
      "model_module_version": "2.0.0",
      "model_name": "HTMLModel",
      "state": {
       "layout": "IPY_MODEL_f275f77e83a94a65ba5575b81f4700e6",
       "style": "IPY_MODEL_a1cd57b6c5434826b244f5f61d02f3e4",
       "value": "Downloading (…)okenizer_config.json: 100%"
      }
     },
     "3073f519fba6474b990a93ecceed2f4f": {
      "model_module": "@jupyter-widgets/base",
      "model_module_version": "2.0.0",
      "model_name": "LayoutModel",
      "state": {}
     },
     "3211b4c159dd48fd97349a8316dba057": {
      "model_module": "@jupyter-widgets/controls",
      "model_module_version": "2.0.0",
      "model_name": "HBoxModel",
      "state": {
       "children": [
        "IPY_MODEL_7a39b16f2bc14810af4cdc49b0ffb9c9",
        "IPY_MODEL_a616c51b87e14919a21a9f497fcc8a22",
        "IPY_MODEL_0cd8406c74bd439e88946f1e624018e3"
       ],
       "layout": "IPY_MODEL_a6ede08fcb1d406ebb59e6595fa1472d"
      }
     },
     "36492772339c42b1a2c9c0972cfc6194": {
      "model_module": "@jupyter-widgets/controls",
      "model_module_version": "2.0.0",
      "model_name": "HBoxModel",
      "state": {
       "children": [
        "IPY_MODEL_e605d171bc98483d863fb6aaeebef68d",
        "IPY_MODEL_0ee455241121403889fc9d6c117d9418",
        "IPY_MODEL_f661a0085b1a4450a4ea87d807e6f0ca"
       ],
       "layout": "IPY_MODEL_7d8bcd1e527a49a0bb60e40d8a7989d7"
      }
     },
     "38204c43f9a343eab656b1b9bc8ddb93": {
      "model_module": "@jupyter-widgets/base",
      "model_module_version": "2.0.0",
      "model_name": "LayoutModel",
      "state": {}
     },
     "396133fb33bf4457926fc4d01e78819a": {
      "model_module": "@jupyter-widgets/controls",
      "model_module_version": "2.0.0",
      "model_name": "FloatProgressModel",
      "state": {
       "bar_style": "success",
       "layout": "IPY_MODEL_be2a5da2c58a4713adcf0e893db55390",
       "max": 544,
       "style": "IPY_MODEL_571d8a2aa7824f9d99b91a54465ceaba",
       "value": 544
      }
     },
     "3b29a1c0aa614ef78e8c4cadab419d6e": {
      "model_module": "@jupyter-widgets/controls",
      "model_module_version": "2.0.0",
      "model_name": "HBoxModel",
      "state": {
       "children": [
        "IPY_MODEL_bd76b11b21bd458ba20e65ad1509cd6e",
        "IPY_MODEL_5cbfb25315324466a0c8e12cc594f253",
        "IPY_MODEL_f400d210673447c6a1b847bc95cfe8bc"
       ],
       "layout": "IPY_MODEL_bbcea8b54d7c4a7aa806cbb47703f931"
      }
     },
     "3bcf1040ebb742709bfb9e01ff0d07cc": {
      "model_module": "@jupyter-widgets/controls",
      "model_module_version": "2.0.0",
      "model_name": "HTMLStyleModel",
      "state": {
       "description_width": "",
       "font_size": null,
       "text_color": null
      }
     },
     "3eb6fb0a2cb9432c8764d4e7ce3e0562": {
      "model_module": "@jupyter-widgets/base",
      "model_module_version": "2.0.0",
      "model_name": "LayoutModel",
      "state": {}
     },
     "40f0715859e045679c71d22848690157": {
      "model_module": "@jupyter-widgets/controls",
      "model_module_version": "2.0.0",
      "model_name": "ProgressStyleModel",
      "state": {
       "description_width": ""
      }
     },
     "42998d4e36b64937a6ea9cf9fbc0ca0b": {
      "model_module": "@jupyter-widgets/base",
      "model_module_version": "2.0.0",
      "model_name": "LayoutModel",
      "state": {}
     },
     "457e162e1ada43dab383bdd7760f060c": {
      "model_module": "@jupyter-widgets/controls",
      "model_module_version": "2.0.0",
      "model_name": "HBoxModel",
      "state": {
       "children": [
        "IPY_MODEL_760ebd1314e54b01854580dd4ad309d5",
        "IPY_MODEL_d39c322156e54d93b14b65b9f235d9de",
        "IPY_MODEL_5481bf22fffc421ca0e988b2a95cf1fa"
       ],
       "layout": "IPY_MODEL_07c9e7b62413449795ed12f55c1b8176"
      }
     },
     "4839ef1c413d4e268db3c8a3c034a2cf": {
      "model_module": "@jupyter-widgets/controls",
      "model_module_version": "2.0.0",
      "model_name": "HTMLModel",
      "state": {
       "layout": "IPY_MODEL_8a854c7c447f48fea6099cdd167d3cc5",
       "style": "IPY_MODEL_1b4dd7ff138144f2951d0bba74546784",
       "value": " 914/914 [00:00&lt;00:00, 63.6kB/s]"
      }
     },
     "4e53caa2eb724e4a92d7ac40202fc387": {
      "model_module": "@jupyter-widgets/controls",
      "model_module_version": "2.0.0",
      "model_name": "FloatProgressModel",
      "state": {
       "bar_style": "success",
       "layout": "IPY_MODEL_1fdc5b3235074a009c7b100a90454c2c",
       "max": 524619,
       "style": "IPY_MODEL_a9937a1ec2364881b1a9b778f2898ab2",
       "value": 524619
      }
     },
     "4fcaa2e8f33c4fe4bfb24dcb64c45996": {
      "model_module": "@jupyter-widgets/base",
      "model_module_version": "2.0.0",
      "model_name": "LayoutModel",
      "state": {}
     },
     "52b14b718a88404a80ad3cdfcf14510b": {
      "model_module": "@jupyter-widgets/base",
      "model_module_version": "2.0.0",
      "model_name": "LayoutModel",
      "state": {}
     },
     "5481bf22fffc421ca0e988b2a95cf1fa": {
      "model_module": "@jupyter-widgets/controls",
      "model_module_version": "2.0.0",
      "model_name": "HTMLModel",
      "state": {
       "layout": "IPY_MODEL_9f05ca205ecc4cfb9d723f618485d472",
       "style": "IPY_MODEL_c29eb418a6604981a94ebe2ad92f941e",
       "value": " 342/342 [00:00&lt;00:00, 7.76kB/s]"
      }
     },
     "5512af9d31c943a9a1aa8cfb037e7561": {
      "model_module": "@jupyter-widgets/base",
      "model_module_version": "2.0.0",
      "model_name": "LayoutModel",
      "state": {}
     },
     "559a5280a0dc4c54a18a525096d3051d": {
      "model_module": "@jupyter-widgets/base",
      "model_module_version": "2.0.0",
      "model_name": "LayoutModel",
      "state": {}
     },
     "571d8a2aa7824f9d99b91a54465ceaba": {
      "model_module": "@jupyter-widgets/controls",
      "model_module_version": "2.0.0",
      "model_name": "ProgressStyleModel",
      "state": {
       "description_width": ""
      }
     },
     "576762f742774c429b1f286eb2c2de12": {
      "model_module": "@jupyter-widgets/controls",
      "model_module_version": "2.0.0",
      "model_name": "HTMLStyleModel",
      "state": {
       "description_width": "",
       "font_size": null,
       "text_color": null
      }
     },
     "5cbfb25315324466a0c8e12cc594f253": {
      "model_module": "@jupyter-widgets/controls",
      "model_module_version": "2.0.0",
      "model_name": "FloatProgressModel",
      "state": {
       "bar_style": "success",
       "layout": "IPY_MODEL_637f3f5658ef4a948eb267312ec56e80",
       "max": 1059962,
       "style": "IPY_MODEL_f89240bb749b45d2b3b0a6f63bb61331",
       "value": 1059962
      }
     },
     "5da18e2fd9bd4669aee9ee614190f4ce": {
      "model_module": "@jupyter-widgets/controls",
      "model_module_version": "2.0.0",
      "model_name": "HTMLStyleModel",
      "state": {
       "description_width": "",
       "font_size": null,
       "text_color": null
      }
     },
     "5fc18176227d4e0f8de3767858c1484f": {
      "model_module": "@jupyter-widgets/controls",
      "model_module_version": "2.0.0",
      "model_name": "DropdownModel",
      "state": {
       "_options_labels": [
        "CPU",
        "GPU",
        "AUTO"
       ],
       "description": "Device:",
       "index": 2,
       "layout": "IPY_MODEL_f9c344a53936470c94185de0e2c63b65",
       "style": "IPY_MODEL_09b4abc5e52c4dadbb2cfde0a2279838"
      }
     },
     "637f3f5658ef4a948eb267312ec56e80": {
      "model_module": "@jupyter-widgets/base",
      "model_module_version": "2.0.0",
      "model_name": "LayoutModel",
      "state": {}
     },
     "64f78b64ec404a519cc54da25f40b899": {
      "model_module": "@jupyter-widgets/base",
      "model_module_version": "2.0.0",
      "model_name": "LayoutModel",
      "state": {}
     },
     "669494ded1ba410fbaa4b09f6103e433": {
      "model_module": "@jupyter-widgets/controls",
      "model_module_version": "2.0.0",
      "model_name": "HTMLStyleModel",
      "state": {
       "description_width": "",
       "font_size": null,
       "text_color": null
      }
     },
     "67cc80d963634fc68fba72898530242e": {
      "model_module": "@jupyter-widgets/base",
      "model_module_version": "2.0.0",
      "model_name": "LayoutModel",
      "state": {}
     },
     "6842ae1338b5461290f0967b0a4f37db": {
      "model_module": "@jupyter-widgets/controls",
      "model_module_version": "2.0.0",
      "model_name": "FloatProgressModel",
      "state": {
       "bar_style": "success",
       "layout": "IPY_MODEL_95aaeb3e29b44a9dae71801941af76a6",
       "max": 308,
       "style": "IPY_MODEL_be09170883f0429b91b0ccd6dad3e64b",
       "value": 308
      }
     },
     "68fc67286a574ddba639040237612e72": {
      "model_module": "@jupyter-widgets/controls",
      "model_module_version": "2.0.0",
      "model_name": "ProgressStyleModel",
      "state": {
       "description_width": ""
      }
     },
     "6a8d6afe184d49da942e811c605c1d74": {
      "model_module": "@jupyter-widgets/controls",
      "model_module_version": "2.0.0",
      "model_name": "HTMLStyleModel",
      "state": {
       "description_width": "",
       "font_size": null,
       "text_color": null
      }
     },
     "6bc84cdf1fbc4b3d997acdffaabb3708": {
      "model_module": "@jupyter-widgets/base",
      "model_module_version": "2.0.0",
      "model_name": "LayoutModel",
      "state": {}
     },
     "6cf8112f56eb496a866694618ea98381": {
      "model_module": "@jupyter-widgets/base",
      "model_module_version": "2.0.0",
      "model_name": "LayoutModel",
      "state": {}
     },
     "6f6c66690fb249d198dbcf1271017d47": {
      "model_module": "@jupyter-widgets/controls",
      "model_module_version": "2.0.0",
      "model_name": "HTMLModel",
      "state": {
       "layout": "IPY_MODEL_0ad33d14305c44ab9d9c71b3d588c954",
       "style": "IPY_MODEL_c3b2a338c1cd438f858d49019cb3499e",
       "value": "Downloading (…)ch_model.safetensors: 100%"
      }
     },
     "74bed3b8ffc54752abb5d2c6bbdec3f7": {
      "model_module": "@jupyter-widgets/controls",
      "model_module_version": "2.0.0",
      "model_name": "HTMLStyleModel",
      "state": {
       "description_width": "",
       "font_size": null,
       "text_color": null
      }
     },
     "760ebd1314e54b01854580dd4ad309d5": {
      "model_module": "@jupyter-widgets/controls",
      "model_module_version": "2.0.0",
      "model_name": "HTMLModel",
      "state": {
       "layout": "IPY_MODEL_6bc84cdf1fbc4b3d997acdffaabb3708",
       "style": "IPY_MODEL_cac66060d6314a83a12ee65fa582cbb5",
       "value": "Downloading (…)rocessor_config.json: 100%"
      }
     },
     "76184637c71c4d0dbd276f3b72f31578": {
      "model_module": "@jupyter-widgets/base",
      "model_module_version": "2.0.0",
      "model_name": "LayoutModel",
      "state": {}
     },
     "7677c4a6e86a435f97853d7ede9bbf27": {
      "model_module": "@jupyter-widgets/base",
      "model_module_version": "2.0.0",
      "model_name": "LayoutModel",
      "state": {}
     },
     "77eb8d39f0f1477e800308dd67df5f5a": {
      "model_module": "@jupyter-widgets/controls",
      "model_module_version": "2.0.0",
      "model_name": "HTMLStyleModel",
      "state": {
       "description_width": "",
       "font_size": null,
       "text_color": null
      }
     },
     "781e04a8f0b04e27b03e0302d4121054": {
      "model_module": "@jupyter-widgets/controls",
      "model_module_version": "2.0.0",
      "model_name": "HTMLStyleModel",
      "state": {
       "description_width": "",
       "font_size": null,
       "text_color": null
      }
     },
     "7a39b16f2bc14810af4cdc49b0ffb9c9": {
      "model_module": "@jupyter-widgets/controls",
      "model_module_version": "2.0.0",
      "model_name": "HTMLModel",
      "state": {
       "layout": "IPY_MODEL_5512af9d31c943a9a1aa8cfb037e7561",
       "style": "IPY_MODEL_77eb8d39f0f1477e800308dd67df5f5a",
       "value": "Downloading (…)ch_model.safetensors: 100%"
      }
     },
     "7b3794a1ff82420590c34cd7edcc1b5e": {
      "model_module": "@jupyter-widgets/controls",
      "model_module_version": "2.0.0",
      "model_name": "HBoxModel",
      "state": {
       "children": [
        "IPY_MODEL_8eee72deb3374aa0b75feccd75d53afb",
        "IPY_MODEL_ffe1bdd190ce4a43b6815550b493376c",
        "IPY_MODEL_c68ba787b88f47ad98fa308002a1ed1a"
       ],
       "layout": "IPY_MODEL_8e4f7b5cc1ef4ecb9bb474054906ba46"
      }
     },
     "7b9488297b37413f8536f030dd0ba3c8": {
      "model_module": "@jupyter-widgets/base",
      "model_module_version": "2.0.0",
      "model_name": "LayoutModel",
      "state": {}
     },
     "7d8bcd1e527a49a0bb60e40d8a7989d7": {
      "model_module": "@jupyter-widgets/base",
      "model_module_version": "2.0.0",
      "model_name": "LayoutModel",
      "state": {}
     },
     "7e05299d56594a0184b1b668f1b47bf2": {
      "model_module": "@jupyter-widgets/base",
      "model_module_version": "2.0.0",
      "model_name": "LayoutModel",
      "state": {}
     },
     "80faba76a8be4cefbad14182d05d0d3d": {
      "model_module": "@jupyter-widgets/controls",
      "model_module_version": "2.0.0",
      "model_name": "HTMLModel",
      "state": {
       "layout": "IPY_MODEL_f1e2ce095f8c40eaa8b0e85ceed4f249",
       "style": "IPY_MODEL_5da18e2fd9bd4669aee9ee614190f4ce",
       "value": " 544/544 [00:00&lt;00:00, 25.5kB/s]"
      }
     },
     "8166e57767f34da8bb930912908d52b2": {
      "model_module": "@jupyter-widgets/controls",
      "model_module_version": "2.0.0",
      "model_name": "FloatProgressModel",
      "state": {
       "bar_style": "success",
       "layout": "IPY_MODEL_f72ce6e266b04baa8456ad40fccd40a1",
       "max": 334643276,
       "style": "IPY_MODEL_f9bbc10c56154229b52e213f946f882f",
       "value": 334643276
      }
     },
     "830916b17a674db2bf169ca2a6249e8f": {
      "model_module": "@jupyter-widgets/controls",
      "model_module_version": "2.0.0",
      "model_name": "HTMLModel",
      "state": {
       "layout": "IPY_MODEL_8836f3095a8143d0bf5e550eb5741016",
       "style": "IPY_MODEL_1fa70669f9e448f09fc05b2d3fee7d9b",
       "value": " 308/308 [00:00&lt;00:00, 5.10kB/s]"
      }
     },
     "83bedfc5cfff4089b85eae5c0738f253": {
      "model_module": "@jupyter-widgets/controls",
      "model_module_version": "2.0.0",
      "model_name": "HBoxModel",
      "state": {
       "children": [
        "IPY_MODEL_fd4fbc5c726047af8740686219e130fa",
        "IPY_MODEL_4e53caa2eb724e4a92d7ac40202fc387",
        "IPY_MODEL_8f66d63bc5ec4a1bbc2d3cd702ef52ae"
       ],
       "layout": "IPY_MODEL_283e09b34cb247bfb3014d140bc95eb7"
      }
     },
     "879f573ea28347569a44c7efc1435ed8": {
      "model_module": "@jupyter-widgets/controls",
      "model_module_version": "2.0.0",
      "model_name": "HTMLStyleModel",
      "state": {
       "description_width": "",
       "font_size": null,
       "text_color": null
      }
     },
     "8836f3095a8143d0bf5e550eb5741016": {
      "model_module": "@jupyter-widgets/base",
      "model_module_version": "2.0.0",
      "model_name": "LayoutModel",
      "state": {}
     },
     "8a854c7c447f48fea6099cdd167d3cc5": {
      "model_module": "@jupyter-widgets/base",
      "model_module_version": "2.0.0",
      "model_name": "LayoutModel",
      "state": {}
     },
     "8e22d631ad9444d1a0b2377d87eb4564": {
      "model_module": "@jupyter-widgets/base",
      "model_module_version": "2.0.0",
      "model_name": "LayoutModel",
      "state": {}
     },
     "8e4f7b5cc1ef4ecb9bb474054906ba46": {
      "model_module": "@jupyter-widgets/base",
      "model_module_version": "2.0.0",
      "model_name": "LayoutModel",
      "state": {}
     },
     "8ecc033518774923b9712fa1bb039949": {
      "model_module": "@jupyter-widgets/controls",
      "model_module_version": "2.0.0",
      "model_name": "HTMLModel",
      "state": {
       "layout": "IPY_MODEL_97e4a9d274b54d9290345cf366b2b019",
       "style": "IPY_MODEL_a922222828524c578604a3bfdbd39c89",
       "value": "Downloading (…)590/unet/config.json: 100%"
      }
     },
     "8eee72deb3374aa0b75feccd75d53afb": {
      "model_module": "@jupyter-widgets/controls",
      "model_module_version": "2.0.0",
      "model_name": "HTMLModel",
      "state": {
       "layout": "IPY_MODEL_fd5e86323a3b4e1a902b96ce333ddd97",
       "style": "IPY_MODEL_16ca8dd82b6b44888604d6b137101e8b",
       "value": "Downloading (…)_encoder/config.json: 100%"
      }
     },
     "8f66d63bc5ec4a1bbc2d3cd702ef52ae": {
      "model_module": "@jupyter-widgets/controls",
      "model_module_version": "2.0.0",
      "model_name": "HTMLModel",
      "state": {
       "layout": "IPY_MODEL_07da2bec8acf4cda9f7daa3e1d34e1ce",
       "style": "IPY_MODEL_3bcf1040ebb742709bfb9e01ff0d07cc",
       "value": " 525k/525k [00:00&lt;00:00, 969kB/s]"
      }
     },
     "90d075725b274ab08ae4ccc31a4d2e10": {
      "model_module": "@jupyter-widgets/controls",
      "model_module_version": "2.0.0",
      "model_name": "HTMLStyleModel",
      "state": {
       "description_width": "",
       "font_size": null,
       "text_color": null
      }
     },
     "9277412afef84aecbafdafffafd27404": {
      "model_module": "@jupyter-widgets/base",
      "model_module_version": "2.0.0",
      "model_name": "LayoutModel",
      "state": {}
     },
     "94e486f290be40eea6c8dd80de206bc7": {
      "model_module": "@jupyter-widgets/controls",
      "model_module_version": "2.0.0",
      "model_name": "FloatProgressModel",
      "state": {
       "bar_style": "success",
       "layout": "IPY_MODEL_7677c4a6e86a435f97853d7ede9bbf27",
       "max": 914,
       "style": "IPY_MODEL_27ea5f210d884d37b5a47d7c36ca5a5c",
       "value": 914
      }
     },
     "95aaeb3e29b44a9dae71801941af76a6": {
      "model_module": "@jupyter-widgets/base",
      "model_module_version": "2.0.0",
      "model_name": "LayoutModel",
      "state": {}
     },
     "960a4142976241e99e2148df1597341a": {
      "model_module": "@jupyter-widgets/controls",
      "model_module_version": "2.0.0",
      "model_name": "HBoxModel",
      "state": {
       "children": [
        "IPY_MODEL_8ecc033518774923b9712fa1bb039949",
        "IPY_MODEL_94e486f290be40eea6c8dd80de206bc7",
        "IPY_MODEL_4839ef1c413d4e268db3c8a3c034a2cf"
       ],
       "layout": "IPY_MODEL_141d59d7eecb432284735b7328fbc65c"
      }
     },
     "97e4a9d274b54d9290345cf366b2b019": {
      "model_module": "@jupyter-widgets/base",
      "model_module_version": "2.0.0",
      "model_name": "LayoutModel",
      "state": {}
     },
     "983dffb25dcb401b97c701f53d012333": {
      "model_module": "@jupyter-widgets/base",
      "model_module_version": "2.0.0",
      "model_name": "LayoutModel",
      "state": {}
     },
     "984e26693f584d928f0c71e1728b7d65": {
      "model_module": "@jupyter-widgets/controls",
      "model_module_version": "2.0.0",
      "model_name": "HBoxModel",
      "state": {
       "children": [
        "IPY_MODEL_1ffe8ffe45aa44bdbd76aca1d0ca3b74",
        "IPY_MODEL_bb3286cabc7148d48e341168507453a7",
        "IPY_MODEL_29a3cf15e7714d068b58a686dec4fb7e"
       ],
       "layout": "IPY_MODEL_9277412afef84aecbafdafffafd27404"
      }
     },
     "9f05ca205ecc4cfb9d723f618485d472": {
      "model_module": "@jupyter-widgets/base",
      "model_module_version": "2.0.0",
      "model_name": "LayoutModel",
      "state": {}
     },
     "9f33055d4ae8438d936af69f05585699": {
      "model_module": "@jupyter-widgets/controls",
      "model_module_version": "2.0.0",
      "model_name": "FloatProgressModel",
      "state": {
       "bar_style": "success",
       "layout": "IPY_MODEL_4fcaa2e8f33c4fe4bfb24dcb64c45996",
       "max": 1361597018,
       "style": "IPY_MODEL_cf3c8a1ecbcb438dba33842b527e2cfe",
       "value": 1361597018
      }
     },
     "a1cd57b6c5434826b244f5f61d02f3e4": {
      "model_module": "@jupyter-widgets/controls",
      "model_module_version": "2.0.0",
      "model_name": "HTMLStyleModel",
      "state": {
       "description_width": "",
       "font_size": null,
       "text_color": null
      }
     },
     "a22fa3c035b14f7cae59a7604e235d3c": {
      "model_module": "@jupyter-widgets/base",
      "model_module_version": "2.0.0",
      "model_name": "LayoutModel",
      "state": {}
     },
     "a449d29fca0f460b9bc0fc0c36e8a0cf": {
      "model_module": "@jupyter-widgets/controls",
      "model_module_version": "2.0.0",
      "model_name": "HBoxModel",
      "state": {
       "children": [
        "IPY_MODEL_6f6c66690fb249d198dbcf1271017d47",
        "IPY_MODEL_8166e57767f34da8bb930912908d52b2",
        "IPY_MODEL_0b459073280641dfa878572ed63e7808"
       ],
       "layout": "IPY_MODEL_e94024f84afb4c129e61421226e28aba"
      }
     },
     "a616c51b87e14919a21a9f497fcc8a22": {
      "model_module": "@jupyter-widgets/controls",
      "model_module_version": "2.0.0",
      "model_name": "FloatProgressModel",
      "state": {
       "bar_style": "success",
       "layout": "IPY_MODEL_bb49e0451c6b4b4592d9b374cf52deb6",
       "max": 3463784116,
       "style": "IPY_MODEL_f7943e85327b415fae3ad3fd3a097c07",
       "value": 3463784116
      }
     },
     "a6ede08fcb1d406ebb59e6595fa1472d": {
      "model_module": "@jupyter-widgets/base",
      "model_module_version": "2.0.0",
      "model_name": "LayoutModel",
      "state": {}
     },
     "a922222828524c578604a3bfdbd39c89": {
      "model_module": "@jupyter-widgets/controls",
      "model_module_version": "2.0.0",
      "model_name": "HTMLStyleModel",
      "state": {
       "description_width": "",
       "font_size": null,
       "text_color": null
      }
     },
     "a9937a1ec2364881b1a9b778f2898ab2": {
      "model_module": "@jupyter-widgets/controls",
      "model_module_version": "2.0.0",
      "model_name": "ProgressStyleModel",
      "state": {
       "description_width": ""
      }
     },
     "aa9f956b45354546be8ea4fc03dc9a65": {
      "model_module": "@jupyter-widgets/base",
      "model_module_version": "2.0.0",
      "model_name": "LayoutModel",
      "state": {}
     },
     "ab159ad9a9d445ca933b6526fec41ad0": {
      "model_module": "@jupyter-widgets/controls",
      "model_module_version": "2.0.0",
      "model_name": "HBoxModel",
      "state": {
       "children": [
        "IPY_MODEL_139574e934cf4462bb756593e42e5363",
        "IPY_MODEL_396133fb33bf4457926fc4d01e78819a",
        "IPY_MODEL_80faba76a8be4cefbad14182d05d0d3d"
       ],
       "layout": "IPY_MODEL_7e05299d56594a0184b1b668f1b47bf2"
      }
     },
     "b409a86594ab472b83da8316d954a805": {
      "model_module": "@jupyter-widgets/controls",
      "model_module_version": "2.0.0",
      "model_name": "ProgressStyleModel",
      "state": {
       "description_width": ""
      }
     },
     "b5c302ebc86c47bf8cbddac6d6200255": {
      "model_module": "@jupyter-widgets/controls",
      "model_module_version": "2.0.0",
      "model_name": "HTMLModel",
      "state": {
       "layout": "IPY_MODEL_a22fa3c035b14f7cae59a7604e235d3c",
       "style": "IPY_MODEL_576762f742774c429b1f286eb2c2de12",
       "value": "Downloading model.safetensors: 100%"
      }
     },
     "b5e363e6cb4d42338b363c1a210413c3": {
      "model_module": "@jupyter-widgets/base",
      "model_module_version": "2.0.0",
      "model_name": "LayoutModel",
      "state": {}
     },
     "b619107010614f83b68c494aba0796a1": {
      "model_module": "@jupyter-widgets/base",
      "model_module_version": "2.0.0",
      "model_name": "LayoutModel",
      "state": {}
     },
     "b706ef49c2a6447ca1f1efd39cf3f2c7": {
      "model_module": "@jupyter-widgets/controls",
      "model_module_version": "2.0.0",
      "model_name": "HBoxModel",
      "state": {
       "children": [
        "IPY_MODEL_bc1bf5a1ff1849efab01439c18dbc3ed",
        "IPY_MODEL_6842ae1338b5461290f0967b0a4f37db",
        "IPY_MODEL_830916b17a674db2bf169ca2a6249e8f"
       ],
       "layout": "IPY_MODEL_fee4c5b925f84ec8bd21ecb4e1ac71b8"
      }
     },
     "b8fab78ceeb142ad849c05dc8b610394": {
      "model_module": "@jupyter-widgets/controls",
      "model_module_version": "2.0.0",
      "model_name": "HTMLStyleModel",
      "state": {
       "description_width": "",
       "font_size": null,
       "text_color": null
      }
     },
     "b9982b20bb124d6db2c5b9305d392f06": {
      "model_module": "@jupyter-widgets/base",
      "model_module_version": "2.0.0",
      "model_name": "LayoutModel",
      "state": {}
     },
     "b9ef945487484977b102d1c442d44fb5": {
      "model_module": "@jupyter-widgets/controls",
      "model_module_version": "2.0.0",
      "model_name": "HTMLStyleModel",
      "state": {
       "description_width": "",
       "font_size": null,
       "text_color": null
      }
     },
     "bb3286cabc7148d48e341168507453a7": {
      "model_module": "@jupyter-widgets/controls",
      "model_module_version": "2.0.0",
      "model_name": "FloatProgressModel",
      "state": {
       "bar_style": "success",
       "layout": "IPY_MODEL_64f78b64ec404a519cc54da25f40b899",
       "max": 13,
       "style": "IPY_MODEL_b409a86594ab472b83da8316d954a805",
       "value": 13
      }
     },
     "bb49e0451c6b4b4592d9b374cf52deb6": {
      "model_module": "@jupyter-widgets/base",
      "model_module_version": "2.0.0",
      "model_name": "LayoutModel",
      "state": {}
     },
     "bbcea8b54d7c4a7aa806cbb47703f931": {
      "model_module": "@jupyter-widgets/base",
      "model_module_version": "2.0.0",
      "model_name": "LayoutModel",
      "state": {}
     },
     "bc1bf5a1ff1849efab01439c18dbc3ed": {
      "model_module": "@jupyter-widgets/controls",
      "model_module_version": "2.0.0",
      "model_name": "HTMLModel",
      "state": {
       "layout": "IPY_MODEL_b9982b20bb124d6db2c5b9305d392f06",
       "style": "IPY_MODEL_217a59c0d66e4cd1aea85f6b6d059d4d",
       "value": "Downloading (…)cheduler_config.json: 100%"
      }
     },
     "bd76b11b21bd458ba20e65ad1509cd6e": {
      "model_module": "@jupyter-widgets/controls",
      "model_module_version": "2.0.0",
      "model_name": "HTMLModel",
      "state": {
       "layout": "IPY_MODEL_dac1c8c4426248c58a04e07599a95b7a",
       "style": "IPY_MODEL_669494ded1ba410fbaa4b09f6103e433",
       "value": "Downloading (…)tokenizer/vocab.json: 100%"
      }
     },
     "be09170883f0429b91b0ccd6dad3e64b": {
      "model_module": "@jupyter-widgets/controls",
      "model_module_version": "2.0.0",
      "model_name": "ProgressStyleModel",
      "state": {
       "description_width": ""
      }
     },
     "be2a5da2c58a4713adcf0e893db55390": {
      "model_module": "@jupyter-widgets/base",
      "model_module_version": "2.0.0",
      "model_name": "LayoutModel",
      "state": {}
     },
     "beacc14a4c504062a22423bdf9a0d827": {
      "model_module": "@jupyter-widgets/controls",
      "model_module_version": "2.0.0",
      "model_name": "HTMLModel",
      "state": {
       "layout": "IPY_MODEL_b5e363e6cb4d42338b363c1a210413c3",
       "style": "IPY_MODEL_90d075725b274ab08ae4ccc31a4d2e10",
       "value": " 1.36G/1.36G [01:07&lt;00:00, 22.8MB/s]"
      }
     },
     "c0b41fb039904118ba9b84286cc82614": {
      "model_module": "@jupyter-widgets/base",
      "model_module_version": "2.0.0",
      "model_name": "LayoutModel",
      "state": {}
     },
     "c27b210eab644bf2a98c7da15fb3836c": {
      "model_module": "@jupyter-widgets/base",
      "model_module_version": "2.0.0",
      "model_name": "LayoutModel",
      "state": {}
     },
     "c29eb418a6604981a94ebe2ad92f941e": {
      "model_module": "@jupyter-widgets/controls",
      "model_module_version": "2.0.0",
      "model_name": "HTMLStyleModel",
      "state": {
       "description_width": "",
       "font_size": null,
       "text_color": null
      }
     },
     "c3b2a338c1cd438f858d49019cb3499e": {
      "model_module": "@jupyter-widgets/controls",
      "model_module_version": "2.0.0",
      "model_name": "HTMLStyleModel",
      "state": {
       "description_width": "",
       "font_size": null,
       "text_color": null
      }
     },
     "c55726ad43d649bbba1e00df0e182a9c": {
      "model_module": "@jupyter-widgets/controls",
      "model_module_version": "2.0.0",
      "model_name": "HBoxModel",
      "state": {
       "children": [
        "IPY_MODEL_3050fb30fa0a49d6beb14047ff81cd34",
        "IPY_MODEL_d6de589b7059493d83d487a9f03ddb84",
        "IPY_MODEL_ed928d3ad5134b02b8d1d45e315f8c1d"
       ],
       "layout": "IPY_MODEL_7b9488297b37413f8536f030dd0ba3c8"
      }
     },
     "c68ba787b88f47ad98fa308002a1ed1a": {
      "model_module": "@jupyter-widgets/controls",
      "model_module_version": "2.0.0",
      "model_name": "HTMLModel",
      "state": {
       "layout": "IPY_MODEL_09ef600d513a4e50b39b021480d02ff1",
       "style": "IPY_MODEL_781e04a8f0b04e27b03e0302d4121054",
       "value": " 638/638 [00:00&lt;00:00, 10.6kB/s]"
      }
     },
     "c7fa8ef236464cd9a10365b2fc175e52": {
      "model_module": "@jupyter-widgets/controls",
      "model_module_version": "2.0.0",
      "model_name": "HBoxModel",
      "state": {
       "children": [
        "IPY_MODEL_b5c302ebc86c47bf8cbddac6d6200255",
        "IPY_MODEL_9f33055d4ae8438d936af69f05585699",
        "IPY_MODEL_beacc14a4c504062a22423bdf9a0d827"
       ],
       "layout": "IPY_MODEL_3eb6fb0a2cb9432c8764d4e7ce3e0562"
      }
     },
     "c8357bf36c184175a68075bb1b575802": {
      "model_module": "@jupyter-widgets/controls",
      "model_module_version": "2.0.0",
      "model_name": "HTMLModel",
      "state": {
       "layout": "IPY_MODEL_983dffb25dcb401b97c701f53d012333",
       "style": "IPY_MODEL_f3a440555fd74be2b09a179db1d053cd",
       "value": " 460/460 [00:00&lt;00:00, 10.4kB/s]"
      }
     },
     "cac66060d6314a83a12ee65fa582cbb5": {
      "model_module": "@jupyter-widgets/controls",
      "model_module_version": "2.0.0",
      "model_name": "HTMLStyleModel",
      "state": {
       "description_width": "",
       "font_size": null,
       "text_color": null
      }
     },
     "cb36381fcc0d43e2b5443c22d2ee3993": {
      "model_module": "@jupyter-widgets/controls",
      "model_module_version": "2.0.0",
      "model_name": "HTMLStyleModel",
      "state": {
       "description_width": "",
       "font_size": null,
       "text_color": null
      }
     },
     "cf3c8a1ecbcb438dba33842b527e2cfe": {
      "model_module": "@jupyter-widgets/controls",
      "model_module_version": "2.0.0",
      "model_name": "ProgressStyleModel",
      "state": {
       "description_width": ""
      }
     },
     "d32c6f1a74b74c899c20439b7fd34652": {
      "model_module": "@jupyter-widgets/controls",
      "model_module_version": "2.0.0",
      "model_name": "HBoxModel",
      "state": {
       "children": [
        "IPY_MODEL_d95c3c608e434aa68e7deb8f556e2902",
        "IPY_MODEL_2b3be18248124922af19aa9f2d5ea96d",
        "IPY_MODEL_c8357bf36c184175a68075bb1b575802"
       ],
       "layout": "IPY_MODEL_b619107010614f83b68c494aba0796a1"
      }
     },
     "d39c322156e54d93b14b65b9f235d9de": {
      "model_module": "@jupyter-widgets/controls",
      "model_module_version": "2.0.0",
      "model_name": "FloatProgressModel",
      "state": {
       "bar_style": "success",
       "layout": "IPY_MODEL_76184637c71c4d0dbd276f3b72f31578",
       "max": 342,
       "style": "IPY_MODEL_1566ac0397cc4fce9d7121c015470579",
       "value": 342
      }
     },
     "d6de589b7059493d83d487a9f03ddb84": {
      "model_module": "@jupyter-widgets/controls",
      "model_module_version": "2.0.0",
      "model_name": "FloatProgressModel",
      "state": {
       "bar_style": "success",
       "layout": "IPY_MODEL_67cc80d963634fc68fba72898530242e",
       "max": 829,
       "style": "IPY_MODEL_68fc67286a574ddba639040237612e72",
       "value": 829
      }
     },
     "d95c3c608e434aa68e7deb8f556e2902": {
      "model_module": "@jupyter-widgets/controls",
      "model_module_version": "2.0.0",
      "model_name": "HTMLModel",
      "state": {
       "layout": "IPY_MODEL_559a5280a0dc4c54a18a525096d3051d",
       "style": "IPY_MODEL_1bf5c4ecb481434c975025dd5a2c4d79",
       "value": "Downloading (…)cial_tokens_map.json: 100%"
      }
     },
     "dac1c8c4426248c58a04e07599a95b7a": {
      "model_module": "@jupyter-widgets/base",
      "model_module_version": "2.0.0",
      "model_name": "LayoutModel",
      "state": {}
     },
     "e145092d68714b94bde119dc54238b0f": {
      "model_module": "@jupyter-widgets/controls",
      "model_module_version": "2.0.0",
      "model_name": "HTMLStyleModel",
      "state": {
       "description_width": "",
       "font_size": null,
       "text_color": null
      }
     },
     "e605d171bc98483d863fb6aaeebef68d": {
      "model_module": "@jupyter-widgets/controls",
      "model_module_version": "2.0.0",
      "model_name": "HTMLModel",
      "state": {
       "layout": "IPY_MODEL_42998d4e36b64937a6ea9cf9fbc0ca0b",
       "style": "IPY_MODEL_e145092d68714b94bde119dc54238b0f",
       "value": "Downloading (…)4590/vae/config.json: 100%"
      }
     },
     "e94024f84afb4c129e61421226e28aba": {
      "model_module": "@jupyter-widgets/base",
      "model_module_version": "2.0.0",
      "model_name": "LayoutModel",
      "state": {}
     },
     "ebfea897192f4fe29cf2942e2e9f5d39": {
      "model_module": "@jupyter-widgets/controls",
      "model_module_version": "2.0.0",
      "model_name": "HTMLStyleModel",
      "state": {
       "description_width": "",
       "font_size": null,
       "text_color": null
      }
     },
     "ec458ca6911f46c9b6171f9767e3d097": {
      "model_module": "@jupyter-widgets/controls",
      "model_module_version": "2.0.0",
      "model_name": "ProgressStyleModel",
      "state": {
       "description_width": ""
      }
     },
     "ed928d3ad5134b02b8d1d45e315f8c1d": {
      "model_module": "@jupyter-widgets/controls",
      "model_module_version": "2.0.0",
      "model_name": "HTMLModel",
      "state": {
       "layout": "IPY_MODEL_0c0c25b8e4f64d25bcb0651e5ce74bc4",
       "style": "IPY_MODEL_00f8a25924844197ace14d523931f994",
       "value": " 829/829 [00:00&lt;00:00, 11.7kB/s]"
      }
     },
     "f03047de81734072a1601f30148766ce": {
      "model_module": "@jupyter-widgets/base",
      "model_module_version": "2.0.0",
      "model_name": "LayoutModel",
      "state": {}
     },
     "f1e2ce095f8c40eaa8b0e85ceed4f249": {
      "model_module": "@jupyter-widgets/base",
      "model_module_version": "2.0.0",
      "model_name": "LayoutModel",
      "state": {}
     },
     "f275f77e83a94a65ba5575b81f4700e6": {
      "model_module": "@jupyter-widgets/base",
      "model_module_version": "2.0.0",
      "model_name": "LayoutModel",
      "state": {}
     },
     "f3370242c1fb4cedafb2f0275b6d87fd": {
      "model_module": "@jupyter-widgets/base",
      "model_module_version": "2.0.0",
      "model_name": "LayoutModel",
      "state": {}
     },
     "f3a440555fd74be2b09a179db1d053cd": {
      "model_module": "@jupyter-widgets/controls",
      "model_module_version": "2.0.0",
      "model_name": "HTMLStyleModel",
      "state": {
       "description_width": "",
       "font_size": null,
       "text_color": null
      }
     },
     "f400d210673447c6a1b847bc95cfe8bc": {
      "model_module": "@jupyter-widgets/controls",
      "model_module_version": "2.0.0",
      "model_name": "HTMLModel",
      "state": {
       "layout": "IPY_MODEL_f03047de81734072a1601f30148766ce",
       "style": "IPY_MODEL_6a8d6afe184d49da942e811c605c1d74",
       "value": " 1.06M/1.06M [00:00&lt;00:00, 1.54MB/s]"
      }
     },
     "f661a0085b1a4450a4ea87d807e6f0ca": {
      "model_module": "@jupyter-widgets/controls",
      "model_module_version": "2.0.0",
      "model_name": "HTMLModel",
      "state": {
       "layout": "IPY_MODEL_c0b41fb039904118ba9b84286cc82614",
       "style": "IPY_MODEL_ebfea897192f4fe29cf2942e2e9f5d39",
       "value": " 616/616 [00:00&lt;00:00, 29.6kB/s]"
      }
     },
     "f72ce6e266b04baa8456ad40fccd40a1": {
      "model_module": "@jupyter-widgets/base",
      "model_module_version": "2.0.0",
      "model_name": "LayoutModel",
      "state": {}
     },
     "f7943e85327b415fae3ad3fd3a097c07": {
      "model_module": "@jupyter-widgets/controls",
      "model_module_version": "2.0.0",
      "model_name": "ProgressStyleModel",
      "state": {
       "description_width": ""
      }
     },
     "f89240bb749b45d2b3b0a6f63bb61331": {
      "model_module": "@jupyter-widgets/controls",
      "model_module_version": "2.0.0",
      "model_name": "ProgressStyleModel",
      "state": {
       "description_width": ""
      }
     },
     "f9bbc10c56154229b52e213f946f882f": {
      "model_module": "@jupyter-widgets/controls",
      "model_module_version": "2.0.0",
      "model_name": "ProgressStyleModel",
      "state": {
       "description_width": ""
      }
     },
     "f9c344a53936470c94185de0e2c63b65": {
      "model_module": "@jupyter-widgets/base",
      "model_module_version": "2.0.0",
      "model_name": "LayoutModel",
      "state": {}
     },
     "fd4fbc5c726047af8740686219e130fa": {
      "model_module": "@jupyter-widgets/controls",
      "model_module_version": "2.0.0",
      "model_name": "HTMLModel",
      "state": {
       "layout": "IPY_MODEL_38204c43f9a343eab656b1b9bc8ddb93",
       "style": "IPY_MODEL_2f494b939dea471caa720dbe342bc0a8",
       "value": "Downloading (…)tokenizer/merges.txt: 100%"
      }
     },
     "fd5e86323a3b4e1a902b96ce333ddd97": {
      "model_module": "@jupyter-widgets/base",
      "model_module_version": "2.0.0",
      "model_name": "LayoutModel",
      "state": {}
     },
     "fee4c5b925f84ec8bd21ecb4e1ac71b8": {
      "model_module": "@jupyter-widgets/base",
      "model_module_version": "2.0.0",
      "model_name": "LayoutModel",
      "state": {}
     },
     "ffe1bdd190ce4a43b6815550b493376c": {
      "model_module": "@jupyter-widgets/controls",
      "model_module_version": "2.0.0",
      "model_name": "FloatProgressModel",
      "state": {
       "bar_style": "success",
       "layout": "IPY_MODEL_243e0c69113e45caa4436a3d740076df",
       "max": 638,
       "style": "IPY_MODEL_ec458ca6911f46c9b6171f9767e3d097",
       "value": 638
      }
     }
    },
    "version_major": 2,
    "version_minor": 0
   }
  }
 },
 "nbformat": 4,
 "nbformat_minor": 5
}
