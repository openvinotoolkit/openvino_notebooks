{
 "cells": [
  {
   "attachments": {},
   "cell_type": "markdown",
   "metadata": {},
   "source": [
    "# Programming Language Classification with OpenVINO\n",
    "## Overview\n",
    "This tutorial will be divided in 2 parts:\n",
    "1. Create a simple inference pipeline with a pre-trained model using the OpenVINO™ IR format.\n",
    "2. Conduct [post-training quantization](https://docs.openvino.ai/latest/ptq_introduction.html) on a pre-trained model using Hugging Face Optimum and benchmark performance.\n",
    "\n",
    "Feel free to use the notebook outline in Jupyter or your IDE for easy navigation. \n"
   ]
  },
  {
   "attachments": {},
   "cell_type": "markdown",
   "metadata": {},
   "source": [
    "## Introduction\n",
    "### Task\n",
    "**Programming language classification** is the task of identifying which programming language is used in an arbitrary code snippet. This can be useful to label new data to include in a dataset, and potentially serve as an intermediary step when input snippets need to be process based on their programming language.\n",
    "\n",
    "It is a relatively easy machine learning task given that each programming language has its own formal symbols, syntax, and grammar. However, there are some potential edge cases:\n",
    "- **Ambiguous short snippets**: For example, TypeScript is a superset of JavaScript, meaning it does everything Javascript can and more. For a short input snippet, it might be impossible to distinguish between the two. Given we know TypeScript is a superset, and the model doesn't, we should default to classifying the input as JavaScript in a post-processing step.\n",
    "- **Nested programming languages**: Some languages are typically used in tandem. For example, most HTML contains CSS and JavaScript, and it is not uncommon to see SQL nested in other scripting languages. For such input, it is unclear what the expected output class should be. \n",
    "- **Evolving programming language**: Even though programming languages are formal, their symbols, syntax, and grammar can be revised and updated. For example, the walrus operator (`:=`) was a symbol distinctively used in Golang, but was later introduced in Python 3.8."
   ]
  },
  {
   "attachments": {},
   "cell_type": "markdown",
   "metadata": {},
   "source": [
    "### Model\n",
    "The classification model that will be used in this notebook is [`CodeBERTa-language-id`](https://huggingface.co/huggingface/CodeBERTa-language-id) by HuggingFace. This model was fine-tuned from the masked language modeling model [`CodeBERTa-small-v1`](https://huggingface.co/huggingface/CodeBERTa-small-v1) trained on the [`CodeSearchNet`](https://huggingface.co/huggingface/CodeBERTa-small-v1) dataset (Husain, 2019).\n",
    "\n",
    "It supports 6 programming languages:\n",
    "- Go\n",
    "- Java\n",
    "- JavaScript\n",
    "- PHP\n",
    "- Python\n",
    "- Ruby"
   ]
  },
  {
   "attachments": {},
   "cell_type": "markdown",
   "metadata": {},
   "source": [
    "## Part 1: Inference pipeline with OpenVINO\n",
    "For this section, we will use the [**HuggingFace Optimum**](https://huggingface.co/docs/optimum/index) library, which aims to optimize inference on specific hardware and integrates with the OpenVINO toolkit. The code will be very similar to the [**HuggingFace Transformers**](https://huggingface.co/docs/transformers/index), but will allow to automatically convert models to the OpenVINO™ IR format."
   ]
  },
  {
   "attachments": {},
   "cell_type": "markdown",
   "metadata": {},
   "source": [
    "### Install prerequesites\n",
    "First, complete the [repository installation steps](../../README.md).\n",
    "\n",
    "Then, the following cell will install:\n",
    "- HuggingFace Optimum with OpenVINO support\n",
    "- HuggingFace Evaluate to benchmark results"
   ]
  },
  {
   "cell_type": "code",
   "execution_count": null,
   "metadata": {},
   "outputs": [],
   "source": [
    "!pip install optimum[openvino] evaluate"
   ]
  },
  {
   "attachments": {},
   "cell_type": "markdown",
   "metadata": {},
   "source": [
    "### Imports\n",
    "The import `OVModelForSequenceClassification` from Optimum is equivalent to `AutoModelForSequenceClassification` from Transformers"
   ]
  },
  {
   "cell_type": "code",
   "execution_count": null,
   "metadata": {},
   "outputs": [],
   "source": [
    "from functools import partial\n",
    "from pathlib import Path\n",
    "\n",
    "import pandas as pd\n",
    "from datasets import load_dataset, Dataset\n",
    "import evaluate\n",
    "from transformers import pipeline, AutoTokenizer, AutoModelForSequenceClassification\n",
    "from optimum.intel import OVModelForSequenceClassification  \n",
    "from optimum.intel.openvino import OVConfig, OVQuantizer\n",
    "from huggingface_hub.utils import RepositoryNotFoundError"
   ]
  },
  {
   "attachments": {},
   "cell_type": "markdown",
   "metadata": {},
   "source": [
    "### Setting up HuggingFace cache\n",
    "Resources from HuggingFace will be downloaded in the local folder `./model` (next to this notebook) instead of the device global cache for easy cleanup. Learn more [here](https://huggingface.co/docs/transformers/installation?highlight=transformers_cache#cache-setup)."
   ]
  },
  {
   "cell_type": "code",
   "execution_count": null,
   "metadata": {},
   "outputs": [],
   "source": [
    "MODEL_NAME = \"CodeBERTa-language-id\"\n",
    "MODEL_ID = f\"huggingface/{MODEL_NAME}\"\n",
    "MODEL_LOCAL_PATH = Path(\"./model\").joinpath(MODEL_NAME)"
   ]
  },
  {
   "attachments": {},
   "cell_type": "markdown",
   "metadata": {},
   "source": [
    "### Download resources\n"
   ]
  },
  {
   "cell_type": "code",
   "execution_count": null,
   "metadata": {},
   "outputs": [],
   "source": [
    "# try to load resources locally\n",
    "try:\n",
    "    model = OVModelForSequenceClassification.from_pretrained(MODEL_LOCAL_PATH)\n",
    "    tokenizer = AutoTokenizer.from_pretrained(MODEL_LOCAL_PATH)\n",
    "    print(f\"Loaded resources from local path: {MODEL_LOCAL_PATH.absolute()}\")\n",
    "\n",
    "# if not found, download from HuggingFace Hub then save locally\n",
    "except (RepositoryNotFoundError, OSError):\n",
    "    print(\"Downloading resources from HuggingFace Hub\")\n",
    "    tokenizer = AutoTokenizer.from_pretrained(MODEL_ID)\n",
    "    tokenizer.save_pretrained(MODEL_LOCAL_PATH)\n",
    "\n",
    "    # export=True is needed to convert the PyTorch model to OpenVINO\n",
    "    model = OVModelForSequenceClassification.from_pretrained(MODEL_ID, export=True)\n",
    "    model.save_pretrained(MODEL_LOCAL_PATH)\n",
    "    print(f\"Ressources cached locally at: {MODEL_LOCAL_PATH.absolute()}\")"
   ]
  },
  {
   "attachments": {},
   "cell_type": "markdown",
   "metadata": {},
   "source": [
    "### Create inference pipeline"
   ]
  },
  {
   "cell_type": "code",
   "execution_count": null,
   "metadata": {},
   "outputs": [],
   "source": [
    "code_classification_pipe = pipeline(\"text-classification\", model=model, tokenizer=tokenizer)"
   ]
  },
  {
   "attachments": {},
   "cell_type": "markdown",
   "metadata": {},
   "source": [
    "### Inference on new input"
   ]
  },
  {
   "cell_type": "code",
   "execution_count": null,
   "metadata": {},
   "outputs": [],
   "source": [
    "# change input snippet to test model\n",
    "input_snippet = \"df['speed'] = df.distance / df.time\"\n",
    "output = code_classification_pipe(input_snippet)\n",
    "\n",
    "print(f\"Input snippet:\\n  {input_snippet}\\n\")\n",
    "print(f\"Predicted label: {output[0]['label']}\")\n",
    "print(f\"Predicted score: {output[0]['score']:.2}\")"
   ]
  },
  {
   "attachments": {},
   "cell_type": "markdown",
   "metadata": {},
   "source": [
    "## Part 2: OpenVINO post-training quantization with HuggingFace Optimum\n",
    "In this section, we will quantize a trained model. At a high-level, this process consists of using lower precision numbers in the model, which results in a smaller model size and faster inference at the cost of a potential marginal performance degradation. [Learn more](https://docs.openvino.ai/latest/ptq_introduction.html).\n",
    "\n",
    "The HuggingFace Optimum library supports post-training quantization for OpenVINO. [Learn more](https://huggingface.co/docs/optimum/main/en/intel/index).\n",
    "\n",
    "![illustration of quantization](https://docs.openvino.ai/latest/_images/quantization_picture.svg)"
   ]
  },
  {
   "attachments": {},
   "cell_type": "markdown",
   "metadata": {},
   "source": [
    "### Define constants and functions"
   ]
  },
  {
   "cell_type": "code",
   "execution_count": null,
   "metadata": {},
   "outputs": [],
   "source": [
    "QUANTIZED_MODEL_LOCAL_PATH = MODEL_LOCAL_PATH.with_name(f\"{MODEL_NAME}-quantized\")\n",
    "DATASET_NAME = \"code_search_net\"\n",
    "LABEL_MAPPING = {\"go\": 0, \"java\": 1, \"javascript\": 2, \"php\": 3, \"python\": 4, \"ruby\": 5}\n",
    "\n",
    "\n",
    "def preprocess_function(examples: dict, tokenizer):\n",
    "    \"\"\"Preprocess inputs by tokenizing the `func_code_string` column\"\"\"\n",
    "    return tokenizer(\n",
    "        examples[\"func_code_string\"],\n",
    "        padding=\"max_length\",\n",
    "        max_length=tokenizer.model_max_length,\n",
    "        truncation=True,\n",
    "    )\n",
    "\n",
    "\n",
    "def map_labels(example: dict) -> dict:\n",
    "    \"\"\"Convert string labels to integers\"\"\"\n",
    "    label_mapping = {\"go\": 0, \"java\": 1, \"javascript\": 2, \"php\": 3, \"python\": 4, \"ruby\": 5}\n",
    "    example[\"language\"] = label_mapping[example[\"language\"]]\n",
    "    return example \n",
    "\n",
    "\n",
    "def get_dataset_sample(dataset_split: str, num_samples: int) -> Dataset:\n",
    "    \"\"\"Create a sample with equal representation of each class without downloading the entire data\"\"\"\n",
    "    labels = [\"go\", \"java\", \"javascript\", \"php\", \"python\", \"ruby\"]\n",
    "    example_per_label = num_samples // len(labels)\n",
    "\n",
    "    examples = []\n",
    "    for label in labels:\n",
    "        subset = load_dataset(\"code_search_net\", split=dataset_split, name=label, streaming=True)\n",
    "        subset = subset.map(map_labels)\n",
    "        examples.extend([example for example in subset.shuffle().take(example_per_label)])\n",
    "    \n",
    "    return Dataset.from_list(examples)"
   ]
  },
  {
   "attachments": {},
   "cell_type": "markdown",
   "metadata": {},
   "source": [
    "### Load resources\n",
    "NOTE: the base model is loaded using `AutoModelForSequenceClassification` from `Transformers`"
   ]
  },
  {
   "cell_type": "code",
   "execution_count": null,
   "metadata": {},
   "outputs": [],
   "source": [
    "tokenizer = AutoTokenizer.from_pretrained(MODEL_LOCAL_PATH)\n",
    "base_model = AutoModelForSequenceClassification.from_pretrained(MODEL_ID)\n",
    "\n",
    "quantizer = OVQuantizer.from_pretrained(base_model)\n",
    "quantization_config = OVConfig()"
   ]
  },
  {
   "attachments": {},
   "cell_type": "markdown",
   "metadata": {},
   "source": [
    "### Load calibration dataset\n",
    "The `get_dataset_sample()` function will sample up to `num_samples`, with an equal number of examples across the 6 programming languages.\n",
    "\n",
    "NOTE: Uncomment the method below to download and use the full dataset (5+ Gb). "
   ]
  },
  {
   "cell_type": "code",
   "execution_count": null,
   "metadata": {},
   "outputs": [],
   "source": [
    "calibration_sample = get_dataset_sample(dataset_split=\"train\", num_samples=300)\n",
    "calibration_sample = calibration_sample.map(partial(preprocess_function, tokenizer=tokenizer))\n",
    "\n",
    "# calibration_sample = quantizer.get_calibration_dataset(\n",
    "#     DATASET_NAME,\n",
    "#     preprocess_function=partial(preprocess_function, tokenizer=tokenizer),\n",
    "#     num_samples=300,\n",
    "#     dataset_split=\"train\",\n",
    "#     preprocess_batch=True,\n",
    "# )"
   ]
  },
  {
   "attachments": {},
   "cell_type": "markdown",
   "metadata": {},
   "source": [
    "### Quantize model\n",
    "Calling `quantizer.quantize(...)` will iterate through the calibration dataset to quantize and save the model"
   ]
  },
  {
   "cell_type": "code",
   "execution_count": null,
   "metadata": {},
   "outputs": [],
   "source": [
    "quantizer.quantize(\n",
    "    quantization_config=quantization_config,\n",
    "    calibration_dataset=calibration_sample,\n",
    "    save_directory=QUANTIZED_MODEL_LOCAL_PATH,\n",
    ")"
   ]
  },
  {
   "attachments": {},
   "cell_type": "markdown",
   "metadata": {},
   "source": [
    "### Load quantized model\n",
    "NOTE: the argument `export=True` is not required since the quantized model is already in the OpenVINO format."
   ]
  },
  {
   "cell_type": "code",
   "execution_count": null,
   "metadata": {},
   "outputs": [],
   "source": [
    "quantized_model = OVModelForSequenceClassification.from_pretrained(QUANTIZED_MODEL_LOCAL_PATH)\n",
    "quantized_code_classification_pipe = pipeline(\"text-classification\", model=quantized_model, tokenizer=tokenizer)"
   ]
  },
  {
   "attachments": {},
   "cell_type": "markdown",
   "metadata": {},
   "source": [
    "### Load evaluation set\n",
    "NOTE: Uncomment the method below to download and use the full dataset (5+ Gb). "
   ]
  },
  {
   "cell_type": "code",
   "execution_count": null,
   "metadata": {},
   "outputs": [],
   "source": [
    "validation_sample = get_dataset_sample(dataset_split=\"validation\", num_samples=300)\n",
    "\n",
    "# validation_sample = load_dataset(DATASET_NAME, split=\"validation\")"
   ]
  },
  {
   "attachments": {},
   "cell_type": "markdown",
   "metadata": {},
   "source": [
    "### Evaluate model"
   ]
  },
  {
   "cell_type": "code",
   "execution_count": null,
   "metadata": {},
   "outputs": [],
   "source": [
    "# This class is needed due to a current limitation of the Evaluate library with multiclass metrics\n",
    "# ref: https://discuss.huggingface.co/t/combining-metrics-for-multiclass-predictions-evaluations/21792/16\n",
    "class ConfiguredMetric:\n",
    "    def __init__(self, metric, *metric_args, **metric_kwargs):\n",
    "        self.metric = metric\n",
    "        self.metric_args = metric_args\n",
    "        self.metric_kwargs = metric_kwargs\n",
    "    \n",
    "    def add(self, *args, **kwargs):\n",
    "        return self.metric.add(*args, **kwargs)\n",
    "    \n",
    "    def add_batch(self, *args, **kwargs):\n",
    "        return self.metric.add_batch(*args, **kwargs)\n",
    "\n",
    "    def compute(self, *args, **kwargs):\n",
    "        return self.metric.compute(*args, *self.metric_args, **kwargs, **self.metric_kwargs)\n",
    "\n",
    "    @property\n",
    "    def name(self):\n",
    "        return self.metric.name\n",
    "\n",
    "    def _feature_names(self):\n",
    "        return self.metric._feature_names()"
   ]
  },
  {
   "attachments": {},
   "cell_type": "markdown",
   "metadata": {},
   "source": [
    "First, an `Evaluator` object for `text-classification` and a set of `EvaluationModule` are instantiated. Then, the evaluator `.compute()` method is called on both the base `code_classification_pipe` and the quantized `quantized_code_classification_pipeline`. Finally, results are displayed."
   ]
  },
  {
   "cell_type": "code",
   "execution_count": null,
   "metadata": {},
   "outputs": [],
   "source": [
    "code_classification_evaluator = evaluate.evaluator(\"text-classification\")\n",
    "# instantiate an object that can contain multiple `evaluate` metrics\n",
    "metrics = evaluate.combine([\n",
    "    ConfiguredMetric(evaluate.load('f1'), average='macro'),\n",
    "])\n",
    "\n",
    "base_results = code_classification_evaluator.compute(\n",
    "    model_or_pipeline=code_classification_pipe,\n",
    "    data=validation_sample,\n",
    "    input_column=\"func_code_string\",\n",
    "    label_column=\"language\",\n",
    "    label_mapping=LABEL_MAPPING,\n",
    "    metric=metrics,\n",
    ")\n",
    "\n",
    "quantized_results = code_classification_evaluator.compute(\n",
    "    model_or_pipeline=quantized_code_classification_pipe,\n",
    "    data=validation_sample,\n",
    "    input_column=\"func_code_string\",\n",
    "    label_column=\"language\",\n",
    "    label_mapping=LABEL_MAPPING,\n",
    "    metric=metrics,\n",
    ")\n",
    "\n",
    "results_df = pd.DataFrame.from_records([base_results, quantized_results], index=[\"base\", \"quantized\"])\n",
    "results_df"
   ]
  },
  {
   "attachments": {},
   "cell_type": "markdown",
   "metadata": {},
   "source": [
    "## Additional resources\n",
    "- [Grammatical Error Correction with OpenVINO](https://github.com/openvinotoolkit/openvino_notebooks/blob/main/notebooks/214-grammar-correction/214-grammar-correction.ipynb)\n",
    "- [Quantize a Hugging Face Question-Answering Model with OpenVINO](https://github.com/huggingface/optimum-intel/blob/main/notebooks/openvino/question_answering_quantization.ipynb)**"
   ]
  },
  {
   "attachments": {},
   "cell_type": "markdown",
   "metadata": {},
   "source": [
    "## Clean up\n",
    "Uncomment and run cell below to delete all resources cached locally in ./model"
   ]
  },
  {
   "cell_type": "code",
   "execution_count": null,
   "metadata": {},
   "outputs": [],
   "source": [
    "# import os\n",
    "# import shutil\n",
    "\n",
    "# try:\n",
    "#     shutil.rmtree(path=QUANTIZED_MODEL_LOCAL_PATH)\n",
    "#     shutil.rmtree(path=MODEL_LOCAL_PATH)\n",
    "#     os.remove(path=\"./compressed_graph.dot\")\n",
    "#     os.remove(path=\"./original_graph.dot\")\n",
    "# except FileNotFoundError:\n",
    "#     print(\"Directory was already deleted\")"
   ]
  }
 ],
 "metadata": {
  "kernelspec": {
   "display_name": "base",
   "language": "python",
   "name": "python3"
  },
  "language_info": {
   "codemirror_mode": {
    "name": "ipython",
    "version": 3
   },
   "file_extension": ".py",
   "mimetype": "text/x-python",
   "name": "python",
   "nbconvert_exporter": "python",
   "pygments_lexer": "ipython3",
   "version": "3.8.16"
  },
  "orig_nbformat": 4
 },
 "nbformat": 4,
 "nbformat_minor": 2
}
