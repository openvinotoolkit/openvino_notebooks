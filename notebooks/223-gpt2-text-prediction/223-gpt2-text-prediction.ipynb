{
 "cells": [
  {
   "cell_type": "markdown",
   "metadata": {},
   "source": [
    "# GPT-2 Text Prediction with OpenVINO\n",
    "\n",
    "This notebook shows a text prediction with OpenVINO. We use the [GPT-2](https://d4mucfpksywv.cloudfront.net/better-language-models/language_models_are_unsupervised_multitask_learners.pdf) model, which is a part of the Generative Pre-trained Transformer (GPT) family. GPT-2 is pre-trained on a large corpus of English text using unsupervised training. The model is available from [HuggingFace](https://huggingface.co/gpt2). GPT-2 displays a broad set of capabilities, including the ability to generate conditional synthetic text samples of unprecedented quality, where we prime the model with an input and have it generate a lengthy continuation.\n",
    "\n",
    "The following image illustrates complete demo pipeline used for this scenario:\n",
    "\n",
    "![image2](https://user-images.githubusercontent.com/91228207/163990722-d2713ede-921e-4594-8b00-8b5c1a4d73b5.jpeg)\n",
    "\n",
    "Model input is tokenized text, which serves as initial condition for generation, then logits from model inference result should be obtained and token with the highest probability is selected using top-k sampling strategy and joined to input sequence. The procedure repeats until end of sequence token will be recived or specified maximul length will be reached. After that, decoding token ids to text using tokenized should be applied.\n"
   ]
  },
  {
   "cell_type": "markdown",
   "metadata": {},
   "source": [
    "## The model\n"
   ]
  },
  {
   "cell_type": "code",
   "execution_count": null,
   "metadata": {},
   "outputs": [],
   "source": [
    "from transformers import GPT2Tokenizer, GPT2LMHeadModel\n",
    "\n",
    "tokenizer = GPT2Tokenizer.from_pretrained('gpt2')\n",
    "pt_model = GPT2LMHeadModel.from_pretrained('gpt2')"
   ]
  },
  {
   "cell_type": "markdown",
   "metadata": {},
   "source": [
    "## Convert GPT-2 to OpenVINO IR\n",
    "\n",
    "![conversion_pipeline](https://user-images.githubusercontent.com/29454499/211261803-784d4791-15cb-4aea-8795-0969dfbb8291.png)\n",
    "\n",
    "For starting work with GPT2 model using OpenVINO, model should be converted to OpenVINO Intermediate Represenation (IR) format. HuggingFace provided gpt2 model is PyTorch model, which supported in OpenVINO via conversion to ONNX. We will use HuggingFace transformers library capabilities for export model to ONNX. `transformers.onnx.export` accept preprocessing function for input sample generation (tokenizer in our case), instance of model, ONNX export configuration, ONNX opset version for export and output path. More information about transformers export to ONNX can be found in HuggingFace [documentation](https://huggingface.co/docs/transformers/serialization).\n",
    "\n",
    "While ONNX models are directly supported by OpenVINO runtime, it can be useful to convert them to IR format to take advantage of OpenVINO optimization tools and features.\n",
    "`mo.convert_model` python function can be used for converting model using [OpenVINO Model Optimizer](https://docs.openvino.ai/latest/openvino_docs_MO_DG_Python_API.html). The function returns instance of OpenVINO Model class, which is ready to use in Python interface but can also be serialized to OpenVINO IR format for future execution using `openvino.runtime.serialize`. In our case, `compress_to_fp16` parameter is enabled for compression model weights to fp16 precision and also specified dynamic input shapes with possible shape range (from 1 token to maximum length defined in our processing function) for optimization of memory consumption."
   ]
  },
  {
   "cell_type": "code",
   "execution_count": null,
   "metadata": {},
   "outputs": [],
   "source": [
    "from pathlib import Path\n",
    "from openvino.runtime import serialize\n",
    "from openvino.tools import mo\n",
    "from transformers.onnx import export, FeaturesManager\n",
    "\n",
    "\n",
    "# define path for saving onnx model\n",
    "onnx_path = Path(\"model/gpt2.onnx\")\n",
    "onnx_path.parent.mkdir(exist_ok=True)\n",
    "\n",
    "# define path for saving openvino model\n",
    "model_path = onnx_path.with_suffix(\".xml\")\n",
    "\n",
    "# get model onnx config function for output feature format casual-lm\n",
    "model_kind, model_onnx_config = FeaturesManager.check_supported_model_or_raise(pt_model, feature='causal-lm')\n",
    "\n",
    "# fill onnx config based on pytorch model config\n",
    "onnx_config = model_onnx_config(pt_model.config)\n",
    "\n",
    "# convert model to onnx\n",
    "onnx_inputs, onnx_outputs = export(tokenizer, pt_model, onnx_config, onnx_config.default_onnx_opset, onnx_path)\n",
    "\n",
    "# convert model to openvino\n",
    "ov_model = mo.convert_model(onnx_path, compress_to_fp16=True, input=\"input_ids[1,1..128],attention_mask[1,1..128]\")\n",
    "\n",
    "# serialize openvino model\n",
    "serialize(ov_model, str(model_path))"
   ]
  },
  {
   "attachments": {},
   "cell_type": "markdown",
   "metadata": {},
   "source": [
    "### Load the model\n",
    "\n",
    "We start by building an OpenVINO Core object. Then we read the network architecture and model weights from the .xml and .bin files, respectively. Finally, we compile the model for the desired device. Because we use the dynamic shapes feature, which is only available on CPU, we must use `CPU` for the device. Dynamic shapes support on GPU is coming soon.\n",
    "\n",
    "Since the text recognition model has a dynamic input shape, you cannot directly switch device to `GPU` for inference on integrated or discrete Intel GPUs. In order to run inference on iGPU or dGPU with this model, you will need to resize the inputs to this model to use a fixed size and then try running the inference on `GPU` device."
   ]
  },
  {
   "cell_type": "code",
   "execution_count": null,
   "metadata": {},
   "outputs": [],
   "source": [
    "from openvino.runtime import Core\n",
    "\n",
    "# initialize openvino core\n",
    "core = Core()\n",
    "\n",
    "# read the model and corresponding weights from file\n",
    "model = core.read_model(model_path)\n",
    "\n",
    "# compile the model for CPU devices\n",
    "compiled_model = core.compile_model(model=model, device_name=\"CPU\")\n",
    "\n",
    "# get output tensors\n",
    "output_key = compiled_model.output(0)"
   ]
  },
  {
   "cell_type": "markdown",
   "metadata": {},
   "source": [
    "Input keys are the names of the input nodes and output keys contain names of the output nodes of the network. In the case of GPT-2, we have `batch size` and `sequence length` as inputs and `batch size`, `sequence length` and `vocab size` as outputs."
   ]
  },
  {
   "cell_type": "markdown",
   "metadata": {},
   "source": [
    "## Pre-Processing\n",
    "\n",
    "NLP models often take a list of tokens as a standard input. A token is a single word mapped to an integer. To provide the proper input, we use a vocabulary file to handle the mapping. So first let's load the vocabulary file."
   ]
  },
  {
   "cell_type": "markdown",
   "metadata": {},
   "source": [
    "## Define tokenization"
   ]
  },
  {
   "cell_type": "code",
   "execution_count": null,
   "metadata": {},
   "outputs": [],
   "source": [
    "# this function converts text to tokens\n",
    "def tokenize(text):\n",
    "    \"\"\"\n",
    "    tokenize input text using GPT2 tokenizer\n",
    "    \n",
    "    Parameters:\n",
    "      text, str - input text\n",
    "    Returns:\n",
    "      input_ids - np.array with input token ids\n",
    "      attention_mask - np.array with 0 in place, where should be padding and 1 for places where original tokens are located, represents attention mask for model \n",
    "    \"\"\"\n",
    "    \n",
    "    inputs = tokenizer(text, return_tensors=\"np\")\n",
    "    return inputs[\"input_ids\"], inputs[\"attention_mask\"]"
   ]
  },
  {
   "cell_type": "markdown",
   "metadata": {},
   "source": [
    "`eos_token` is special token, which means that generation is finished. We store the index of this token in order to use this index as padding at later stage."
   ]
  },
  {
   "cell_type": "code",
   "execution_count": null,
   "metadata": {},
   "outputs": [],
   "source": [
    "eos_token_id = tokenizer.eos_token_id"
   ]
  },
  {
   "cell_type": "markdown",
   "metadata": {},
   "source": [
    "### Define Softmax layer\n",
    "A softmax function is used to convert top-k logits into a probability distribution. "
   ]
  },
  {
   "cell_type": "code",
   "execution_count": null,
   "metadata": {},
   "outputs": [],
   "source": [
    "import numpy as np\n",
    "\n",
    "\n",
    "def softmax(x):\n",
    "    e_x = np.exp(x - np.max(x, axis=-1, keepdims=True))\n",
    "    summation = e_x.sum(axis=-1, keepdims=True)\n",
    "    return e_x / summation"
   ]
  },
  {
   "cell_type": "markdown",
   "metadata": {},
   "source": [
    "### Set the minimum sequence length  \n",
    "If the minimum sequence length is not reached, the following code will reduce the probability of the `eos` token occurring. This continues the process of generating the next words."
   ]
  },
  {
   "cell_type": "code",
   "execution_count": null,
   "metadata": {},
   "outputs": [],
   "source": [
    "def process_logits(cur_length, scores, eos_token_id, min_length=0):\n",
    "    \"\"\"\n",
    "    reduce probability for padded indicies\n",
    "    \n",
    "    Parameters:\n",
    "      cur_length - current length of input sequence\n",
    "      scores - model output logits\n",
    "      eos_token_id - index of end of string token in model vocab\n",
    "      min_length - minimum length for appling postprocessing\n",
    "    \"\"\"\n",
    "    if cur_length < min_length:\n",
    "        scores[:, eos_token_id] = -float(\"inf\")\n",
    "    return scores"
   ]
  },
  {
   "cell_type": "markdown",
   "metadata": {},
   "source": [
    "### Top-K sampling\n",
    "In Top-K sampling, we filter the K most likely next words and redistribute the probability mass among only those K next words. "
   ]
  },
  {
   "cell_type": "code",
   "execution_count": null,
   "metadata": {},
   "outputs": [],
   "source": [
    "def get_top_k_logits(scores, top_k):\n",
    "    \"\"\"\n",
    "    perform top-k sampling\n",
    "    \n",
    "    Parameters:\n",
    "      scores - model output logits\n",
    "      top_k - number of elements with highest probability to select\n",
    "    \"\"\"\n",
    "    filter_value = -float(\"inf\")\n",
    "    top_k = min(max(top_k, 1), scores.shape[-1])\n",
    "    top_k_scores = -np.sort(-scores)[:, :top_k]\n",
    "    indices_to_remove = scores < np.min(top_k_scores)\n",
    "    filtred_scores = np.ma.array(scores, mask=indices_to_remove,\n",
    "                                 fill_value=filter_value).filled()\n",
    "    return filtred_scores"
   ]
  },
  {
   "cell_type": "markdown",
   "metadata": {},
   "source": [
    "### Main Processing Function\n",
    "Generating the predicted sequence."
   ]
  },
  {
   "cell_type": "code",
   "execution_count": null,
   "metadata": {},
   "outputs": [],
   "source": [
    "def generate_sequence(input_ids, attention_mask, max_sequence_length=128,\n",
    "                      eos_token_id=eos_token_id, dynamic_shapes=True):\n",
    "    \"\"\"\n",
    "    text prediction cycle.\n",
    "\n",
    "    Parameters:\n",
    "      input_ids: tokenized input ids for model\n",
    "      attention_mask: attention mask for model\n",
    "      max_sequence_length: maximum sequence length for stop iteration\n",
    "      eos_token_ids: end of sequence index from vocab\n",
    "      dynamic_shapes: use dynamic shapes for inference or pad model input to max_sequece_length\n",
    "    Returns:\n",
    "      predicted token ids sequence\n",
    "    \"\"\"\n",
    "    while True:\n",
    "        cur_input_len = len(input_ids[0])\n",
    "        if not dynamic_shapes:\n",
    "            pad_len = max_sequence_length - cur_input_len\n",
    "            model_input_ids = np.concatenate((input_ids, [[eos_token_id] * pad_len]), axis=-1)\n",
    "            model_input_attention_mask = np.concatenate((attention_mask, [[0] * pad_len]), axis=-1)\n",
    "        else:\n",
    "            model_input_ids = input_ids\n",
    "            model_input_attention_mask = attention_mask\n",
    "        outputs = compiled_model({\"input_ids\": model_input_ids, \"attention_mask\": model_input_attention_mask})[output_key]\n",
    "        next_token_logits = outputs[:, cur_input_len - 1, :]\n",
    "        # pre-process distribution\n",
    "        next_token_scores = process_logits(cur_input_len,\n",
    "                                           next_token_logits, eos_token_id)\n",
    "        top_k = 20\n",
    "        next_token_scores = get_top_k_logits(next_token_scores, top_k)\n",
    "        # get next token id\n",
    "        probs = softmax(next_token_scores)\n",
    "        next_tokens = np.random.choice(probs.shape[-1], 1,\n",
    "                                       p=probs[0], replace=True)\n",
    "        # break the loop if max length or end of text token is reached\n",
    "        if cur_input_len == max_sequence_length or next_tokens == eos_token_id:\n",
    "            break\n",
    "        else:\n",
    "            input_ids = np.concatenate((input_ids, [next_tokens]), axis=-1)\n",
    "            attention_mask = np.concatenate((attention_mask, [[1] * len(next_tokens)]), axis=-1)\n",
    "    return input_ids"
   ]
  },
  {
   "cell_type": "markdown",
   "metadata": {},
   "source": [
    "## Run\n",
    "The `text` variable below is the input used to generate a predicted sequence."
   ]
  },
  {
   "cell_type": "code",
   "execution_count": null,
   "metadata": {},
   "outputs": [],
   "source": [
    "import time\n",
    "text = \"Deep learning is a type of machine learning that uses neural networks\"\n",
    "input_ids, attention_mask = tokenize(text)\n",
    "\n",
    "start = time.perf_counter()\n",
    "output_ids = generate_sequence(input_ids, attention_mask)\n",
    "end = time.perf_counter()\n",
    "output_text = \" \"\n",
    "# Convert IDs to words and make the sentence from it\n",
    "for i in output_ids[0]:\n",
    "    output_text += tokenizer.convert_tokens_to_string(tokenizer._convert_id_to_token(i))\n",
    "print(f\"Generation took {end - start:.3f} s\")\n",
    "print(\"Input Text: \", text)\n",
    "print()\n",
    "print(f\"Predicted Sequence:{output_text}\")"
   ]
  }
 ],
 "metadata": {
  "kernelspec": {
   "display_name": "Python 3",
   "language": "python",
   "name": "python3"
  },
  "language_info": {
   "codemirror_mode": {
    "name": "ipython",
    "version": 3
   },
   "file_extension": ".py",
   "mimetype": "text/x-python",
   "name": "python",
   "nbconvert_exporter": "python",
   "pygments_lexer": "ipython3",
   "version": "3.8.10"
  },
  "vscode": {
   "interpreter": {
    "hash": "033257a69bf603b2de0dc0c42b5465d421ac707c57e304e82520be1d43cc042f"
   }
  }
 },
 "nbformat": 4,
 "nbformat_minor": 4
}
