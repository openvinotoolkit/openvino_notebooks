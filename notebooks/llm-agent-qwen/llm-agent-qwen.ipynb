{
 "cells": [
  {
   "attachments": {},
   "cell_type": "markdown",
   "id": "b3c04f1a",
   "metadata": {},
   "source": [
    "# Create LLM Agent using OpenVINO and Qwen\n",
    "\n",
    "LLM are limited to the knowledge on which they have been trained and the additional knowledge provided as context, as a result, if a useful piece of information is missing the provided knowledge, the model cannot “go around” and try to find it in other sources. This is the reason why we need to introduce the concept of Agents.\n",
    "\n",
    "The core idea of agents is to use a language model to choose a sequence of actions to take. In agents, a language model is used as a reasoning engine to determine which actions to take and in which order. Agents can be seen as applications powered by LLMs and integrated with a set of tools like search engines, databases, websites, and so on. Within an agent, the LLM is the reasoning engine that, based on the user input, is able to plan and execute a set of actions that are needed to fulfill the request.\n",
    "\n",
    "![agent](https://github.com/openvinotoolkit/openvino_notebooks/assets/91237924/22fa5396-8381-400f-a78f-97e25d57d807)\n",
    "\n",
    "[Qwen-Agent](https://github.com/QwenLM/Qwen-Agent) is a framework for developing LLM applications based on the instruction following, tool usage, planning, and memory capabilities of Qwen. It also comes with example applications such as Browser Assistant, Code Interpreter, and Custom Assistant.\n",
    "\n",
    "This notebook explores how to create a Function calling Agent step by step using OpenVINO and Qwen-Agent.\n",
    "\n",
    "#### Table of contents:\n",
    "\n",
    "- [Prerequisites](#Prerequisites)\n",
    "- [Create a Function calling agent](#Create-a-Function-calling-agent)\n",
    "  - [Create functions](#Create-functions)\n",
    "  - [Download model](#Download-model)\n",
    "  - [Select inference device for LLM](#Select-inference-device-for-LLM)\n",
    "  - [Create LLM for Qwen-Agent](#Create-LLM-for-Qwen-Agent)\n",
    "  - [Create Function-calling pipeline](#Create-Function-calling-pipeline)\n",
    "- [Interactive Demo](#Interactive-Demo)\n",
    "  - [Create tools](#Create-tools)\n",
    "  - [Create AI agent demo with Qwen-Agent and Gradio UI](#Create-AI-agent-demo-with-Qwen-Agent-and-Gradio-UI)\n"
   ]
  },
  {
   "attachments": {},
   "cell_type": "markdown",
   "id": "f7bb0a67",
   "metadata": {},
   "source": [
    "## Prerequisites\n",
    "\n",
    "[back to top ⬆️](#Table-of-contents:)\n"
   ]
  },
  {
   "cell_type": "code",
   "execution_count": 5,
   "id": "47d43de7-9946-482d-84cb-222294c1cda8",
   "metadata": {},
   "outputs": [
    {
     "name": "stdout",
     "output_type": "stream",
     "text": [
      "Note: you may need to restart the kernel to use updated packages.\n",
      "\u001b[33mWARNING: Skipping optimum as it is not installed.\u001b[0m\u001b[33m\n",
      "\u001b[0m\u001b[33mWARNING: Skipping optimum-intel as it is not installed.\u001b[0m\u001b[33m\n",
      "\u001b[0mNote: you may need to restart the kernel to use updated packages.\n",
      "Note: you may need to restart the kernel to use updated packages.\n",
      "Note: you may need to restart the kernel to use updated packages.\n"
     ]
    }
   ],
   "source": [
    "import os\n",
    "\n",
    "os.environ[\"GIT_CLONE_PROTECTION_ACTIVE\"] = \"false\"\n",
    "\n",
    "%pip install -Uq pip\n",
    "%pip uninstall -q -y optimum optimum-intel\n",
    "%pip install --pre -Uq openvino openvino-tokenizers[transformers] --extra-index-url https://storage.openvinotoolkit.org/simple/wheels/nightly\n",
    "%pip install -q --extra-index-url https://download.pytorch.org/whl/cpu\\\n",
    "\"git+https://github.com/huggingface/optimum-intel.git\"\\\n",
    "\"git+https://github.com/openvinotoolkit/nncf.git\"\\\n",
    "\"git+https://github.com/QwenLM/Qwen-Agent.git\"\\\n",
    "\"torch>=2.1\"\\\n",
    "\"datasets\"\\\n",
    "\"accelerate\"\\\n",
    "\"gradio>=4.19\"\\\n",
    "\"transformers>=4.38.1\" \"modelscope_studio\""
   ]
  },
  {
   "cell_type": "markdown",
   "id": "625a2e19-56be-478c-87cf-4d906b08a20f",
   "metadata": {},
   "source": [
    "## Create a Function calling agent\n",
    "\n",
    "[back to top ⬆️](#Table-of-contents:)\n",
    "\n",
    "Function calling allows a model to detect when one or more tools should be called and respond with the inputs that should be passed to those tools. In an API call, you can describe tools and have the model intelligently choose to output a structured object like JSON containing arguments to call these tools. The goal of tools APIs is to more reliably return valid and useful tool calls than what can be done using a generic text completion or chat API.\n",
    "\n",
    "We can take advantage of this structured output, combined with the fact that you can bind multiple tools to a tool calling chat model and allow the model to choose which one to call, to create an agent that repeatedly calls tools and receives results until a query is resolved."
   ]
  },
  {
   "attachments": {},
   "cell_type": "markdown",
   "id": "c722d565",
   "metadata": {},
   "source": [
    "### Create a function\n",
    "\n",
    "[back to top ⬆️](#Table-of-contents:)\n",
    "\n",
    "First, we need to create a example function/tool for getting the informantion of current weahter."
   ]
  },
  {
   "cell_type": "code",
   "execution_count": 1,
   "id": "e8bfe609-1823-4df7-9a68-f210a58a0d38",
   "metadata": {},
   "outputs": [],
   "source": [
    "import requests\n",
    "\n",
    "def get_current_weather(city_name):\n",
    "    \"\"\"Get the current weather in a given city name\"\"\"\n",
    "    if not isinstance(city_name, str):\n",
    "        raise TypeError(\"City name must be a string\")\n",
    "    key_selection = {\n",
    "        \"current_condition\": [\n",
    "            \"temp_C\",\n",
    "            \"FeelsLikeC\",\n",
    "            \"humidity\",\n",
    "            \"weatherDesc\",\n",
    "            \"observation_time\",\n",
    "        ],\n",
    "    }\n",
    "    resp = requests.get(f\"https://wttr.in/{city_name}?format=j1\")\n",
    "    resp.raise_for_status()\n",
    "    resp = resp.json()\n",
    "    ret = {k: {_v: resp[k][0][_v] for _v in v} for k, v in key_selection.items()}\n",
    "\n",
    "    return str(ret)"
   ]
  },
  {
   "cell_type": "markdown",
   "id": "31041310-cc81-4989-b8c1-c83face90b2c",
   "metadata": {},
   "source": [
    "Wrap the function's name and decription into a json list, and it will help LLM to find out which function should be called for current task."
   ]
  },
  {
   "cell_type": "code",
   "execution_count": 2,
   "id": "5ea4ce13",
   "metadata": {},
   "outputs": [],
   "source": [
    "functions = [{\n",
    "    'name': 'get_current_weather',\n",
    "    'description': 'Get the current weather in a given city name',\n",
    "    'parameters': {\n",
    "        'type': 'object',\n",
    "        'properties': {\n",
    "            'city_name': {\n",
    "                'type': 'string',\n",
    "                'description': 'The city and state, e.g. San Francisco, CA',\n",
    "            },\n",
    "        },\n",
    "        'required': ['city_name'],\n",
    "    },\n",
    "}]"
   ]
  },
  {
   "attachments": {},
   "cell_type": "markdown",
   "id": "259e1f0d",
   "metadata": {},
   "source": [
    "### Download model\n",
    "\n",
    "[back to top ⬆️](#Table-of-contents:)\n",
    "\n",
    "Large Language Models (LLMs) are a core component of Agent. In this example, we will demostrate how to create a OpenVINO LLM model in Qwen-Agent framework. Since Qwen2 can support function calling during text generation, we select `Qwen/Qwen2-7B-Instruct` as LLM in agent pipeline.\n",
    "\n",
    "* **Qwen/Qwen2-7B-Instruct** - Qwen2 is the new series of Qwen large language models. Compared with the state-of-the-art opensource language models, including the previous released Qwen1.5, Qwen2 has generally surpassed most opensource models and demonstrated competitiveness against proprietary models across a series of benchmarks targeting for language understanding, language generation, multilingual capability, coding, mathematics, reasoning, etc. [Model Card](https://huggingface.co/Qwen/Qwen2-7B-Instruct)\n",
    "\n",
    "To run LLM locally, we have to download the model in the first step. It is possible to [export your model](https://github.com/huggingface/optimum-intel?tab=readme-ov-file#export) to the OpenVINO IR format with the CLI, and load the model from local folder.\n"
   ]
  },
  {
   "cell_type": "code",
   "execution_count": 3,
   "id": "981df8fe-cfcf-455a-919e-dda36f3b5dfb",
   "metadata": {
    "test_replace": {
     "mistralai/Mistral-7B-Instruct-v0.3": "TinyLlama/TinyLlama-1.1B-Chat-v1.0"
    }
   },
   "outputs": [],
   "source": [
    "from pathlib import Path\n",
    "\n",
    "model_id = \"Qwen/Qwen2-7B-Instruct\"\n",
    "model_path = \"Qwen2-7B-Instruct-ov\"\n",
    "\n",
    "if not Path(model_path).exists():\n",
    "    !optimum-cli export openvino --model {model_id} --task text-generation-with-past --trust-remote-code --weight-format int4 {model_path}"
   ]
  },
  {
   "attachments": {},
   "cell_type": "markdown",
   "id": "6cfdbbae",
   "metadata": {},
   "source": [
    "### Select inference device for LLM\n",
    "\n",
    "[back to top ⬆️](#Table-of-contents:)\n"
   ]
  },
  {
   "cell_type": "code",
   "execution_count": 4,
   "id": "a1ea3bdb-f97c-4374-880a-2b62abb5baaa",
   "metadata": {},
   "outputs": [
    {
     "data": {
      "application/vnd.jupyter.widget-view+json": {
       "model_id": "c6ffb36ea9694aaf84fb451c09bab71b",
       "version_major": 2,
       "version_minor": 0
      },
      "text/plain": [
       "Dropdown(description='Device:', options=('CPU', 'GPU', 'AUTO'), value='CPU')"
      ]
     },
     "execution_count": 4,
     "metadata": {},
     "output_type": "execute_result"
    }
   ],
   "source": [
    "import openvino as ov\n",
    "import ipywidgets as widgets\n",
    "\n",
    "core = ov.Core()\n",
    "\n",
    "support_devices = core.available_devices\n",
    "if \"NPU\" in support_devices:\n",
    "    support_devices.remove(\"NPU\")\n",
    "\n",
    "device = widgets.Dropdown(\n",
    "    options=support_devices + [\"AUTO\"],\n",
    "    value=\"CPU\",\n",
    "    description=\"Device:\",\n",
    "    disabled=False,\n",
    ")\n",
    "\n",
    "device"
   ]
  },
  {
   "attachments": {},
   "cell_type": "markdown",
   "id": "77244c52",
   "metadata": {},
   "source": [
    "### Create LLM for Qwen-Agent\n",
    "\n",
    "[back to top ⬆️](#Table-of-contents:)\n",
    "\n",
    "OpenVINO has been integrated into the `Qwen-Agent` framework. You can use following method to create a OpenVINO based LLM for a `Qwen-Agent` pipeline."
   ]
  },
  {
   "cell_type": "code",
   "execution_count": 5,
   "id": "abfaab28-fd5b-46cd-88ad-b60ea5a3cdd6",
   "metadata": {},
   "outputs": [
    {
     "name": "stderr",
     "output_type": "stream",
     "text": [
      "2024-06-26 07:28:18.372885: I tensorflow/core/util/port.cc:111] oneDNN custom operations are on. You may see slightly different numerical results due to floating-point round-off errors from different computation orders. To turn them off, set the environment variable `TF_ENABLE_ONEDNN_OPTS=0`.\n",
      "2024-06-26 07:28:18.376226: I tensorflow/tsl/cuda/cudart_stub.cc:28] Could not find cuda drivers on your machine, GPU will not be used.\n",
      "2024-06-26 07:28:18.418367: E tensorflow/compiler/xla/stream_executor/cuda/cuda_dnn.cc:9342] Unable to register cuDNN factory: Attempting to register factory for plugin cuDNN when one has already been registered\n",
      "2024-06-26 07:28:18.418389: E tensorflow/compiler/xla/stream_executor/cuda/cuda_fft.cc:609] Unable to register cuFFT factory: Attempting to register factory for plugin cuFFT when one has already been registered\n",
      "2024-06-26 07:28:18.418421: E tensorflow/compiler/xla/stream_executor/cuda/cuda_blas.cc:1518] Unable to register cuBLAS factory: Attempting to register factory for plugin cuBLAS when one has already been registered\n",
      "2024-06-26 07:28:18.426787: I tensorflow/core/platform/cpu_feature_guard.cc:182] This TensorFlow binary is optimized to use available CPU instructions in performance-critical operations.\n",
      "To enable the following instructions: AVX2 AVX512F AVX512_VNNI FMA, in other operations, rebuild TensorFlow with the appropriate compiler flags.\n",
      "2024-06-26 07:28:19.898992: W tensorflow/compiler/tf2tensorrt/utils/py_utils.cc:38] TF-TRT Warning: Could not find TensorRT\n",
      "Compiling the model to CPU ...\n",
      "Special tokens have been added in the vocabulary, make sure the associated word embeddings are fine-tuned or trained.\n"
     ]
    }
   ],
   "source": [
    "from qwen_agent.llm import get_chat_model\n",
    "\n",
    "ov_config = {\"PERFORMANCE_HINT\": \"LATENCY\", \"NUM_STREAMS\": \"1\", \"CACHE_DIR\": \"\"}\n",
    "llm_cfg = {\n",
    "    'ov_model_dir': model_path,\n",
    "    'model_type': 'openvino',\n",
    "    'device': device.value,\n",
    "    'ov_config': ov_config\n",
    "}\n",
    "llm = get_chat_model(llm_cfg)"
   ]
  },
  {
   "attachments": {},
   "cell_type": "markdown",
   "id": "d70905e2",
   "metadata": {},
   "source": [
    "You can get additional inference speed improvement with [Dynamic Quantization of activations and KV-cache quantization] on CPU(https://docs.openvino.ai/2024/learn-openvino/llm_inference_guide/llm-inference-hf.html#enabling-openvino-runtime-optimizations). These options can be enabled with `ov_config` as follows:"
   ]
  },
  {
   "attachments": {},
   "cell_type": "markdown",
   "id": "52a9a190",
   "metadata": {},
   "source": [
    "## Create Function-calling pipeline\n",
    "\n",
    "[back to top ⬆️](#Table-of-contents:)\n",
    "\n",
    "After defining the functions and LLM, we can build the agent pipeline with capability of function calling.\n",
    "\n",
    "The workflow of Qwen2 function calling consists of several steps:\n",
    "\n",
    "1. Role `user` sending the request.\n",
    "2. Check if the model wanted to call a function, and call the function if needed\n",
    "3. Get the observation from `function`'s results.\n",
    "4. Consolidate the observation into final respone of `assistant`.\n",
    "\n",
    "A typical multi-turn dialogue structure is as follows:\n",
    "\n",
    "```\n",
    "{'role': 'user', 'content': 'create a picture of cute cat'},\n",
    "{'role': 'assistant', 'content': '', 'function_call': {'name': 'my_image_gen', 'arguments': '{\"prompt\": \"a cute cat\"}'}},\n",
    "{'role': 'function', 'content': '{\"image_url\": \"https://image.pollinations.ai/prompt/a%20cute%20cat\"}', 'name': 'my_image_gen'},\n",
    "{'role': 'assistant', 'content': \"Here is the image of a cute cat based on your description:\\n\\n![](https://image.pollinations.ai/prompt/a%20cute%20cat).\"},\n",
    "    \n",
    "```"
   ]
  },
  {
   "cell_type": "code",
   "execution_count": 6,
   "id": "4799540b-eee0-491f-a5b6-5bae68c22af9",
   "metadata": {},
   "outputs": [
    {
     "name": "stdout",
     "output_type": "stream",
     "text": [
      "# User question:\n",
      "[{'role': 'user', 'content': \"What's the weather like in San Francisco?\"}]\n",
      "# Assistant Response 1:\n",
      "{'role': 'assistant', 'content': '', 'function_call': {'name': 'get_current_weather', 'arguments': '{\"city_name\": \"San Francisco\"}'}}\n",
      "# Function Response:\n",
      "{'current_condition': {'temp_C': '13', 'FeelsLikeC': '13', 'humidity': '93', 'weatherDesc': [{'value': 'Overcast'}], 'observation_time': '02:27 PM'}}\n",
      "# Assistant Response 2:\n",
      "{'role': 'assistant', 'content': 'The current weather in San Francisco is Overcast with a temperature of 13 degrees Celsius and a humidity level of 93%. The conditions feel exactly the same as the temperature. This information was last observed at 02:27 PM.'}\n"
     ]
    }
   ],
   "source": [
    "import json\n",
    "\n",
    "print('# User question:')\n",
    "messages = [{'role': 'user', 'content': \"What's the weather like in San Francisco?\"}]\n",
    "print(messages)\n",
    "\n",
    "print('# Assistant Response 1:')\n",
    "responses = []\n",
    "\n",
    "# Step 1: Role `user` sending the request\n",
    "for responses in llm.chat(\n",
    "        messages=messages,\n",
    "        functions=functions,\n",
    "        stream=False,\n",
    "):\n",
    "    print(responses)\n",
    "\n",
    "messages.append(responses)\n",
    "\n",
    "# Step 2: check if the model wanted to call a function, and call the function if needed\n",
    "last_response = messages[-1]\n",
    "if last_response.get('function_call', None):\n",
    "    available_functions = {\n",
    "        'get_current_weather': get_current_weather,\n",
    "    }  # only one function in this example, but you can have multiple\n",
    "    function_name = last_response['function_call']['name']\n",
    "    function_to_call = available_functions[function_name]\n",
    "    function_args = json.loads(last_response['function_call']['arguments'])\n",
    "    function_response = function_to_call(\n",
    "        city_name=function_args.get('city_name'),\n",
    "    )\n",
    "    print('# Function Response:')\n",
    "    print(function_response)\n",
    "\n",
    "    # Step 3: Get the observation from `function`'s results\n",
    "    messages.append({\n",
    "        'role': 'function',\n",
    "        'name': function_name,\n",
    "        'content': function_response,\n",
    "    })\n",
    "\n",
    "    print('# Assistant Response 2:')\n",
    "    # Step 4: Consolidate the observation from function into final respone\n",
    "    for responses in llm.chat(\n",
    "            messages=messages,\n",
    "            functions=functions,\n",
    "            stream=False,\n",
    "    ):  # get a new response from the model where it can see the function response\n",
    "        print(responses)"
   ]
  },
  {
   "attachments": {},
   "cell_type": "markdown",
   "id": "688ced57",
   "metadata": {},
   "source": [
    "## Interactive Demo\n",
    "\n",
    "[back to top ⬆️](#Table-of-contents:)\n",
    "\n",
    "Let's create a interactive agent using [Gradio](https://www.gradio.app/).\n"
   ]
  },
  {
   "attachments": {},
   "cell_type": "markdown",
   "id": "ce623516",
   "metadata": {},
   "source": [
    "### Create tools\n",
    "\n",
    "[back to top ⬆️](#Table-of-contents:)\n",
    "\n",
    "Qwen-Agent provides a mechanism for [registering tools](https://github.com/QwenLM/Qwen-Agent/blob/main/docs/tool.md). For example, to register your own image generation tool:\n",
    "\n",
    "- Specify the tool’s name, description, and parameters. Note that the string passed to `@register_tool('my_image_gen')` is automatically added as the `.name` attribute of the class and will serve as the unique identifier for the tool.\n",
    "- Implement the `call(...)` function."
   ]
  },
  {
   "cell_type": "code",
   "execution_count": 7,
   "id": "1f64b67c-1259-4fe6-bfc3-af317bfe04f6",
   "metadata": {},
   "outputs": [],
   "source": [
    "import urllib.parse\n",
    "import json5\n",
    "from qwen_agent.tools.base import BaseTool, register_tool\n",
    "\n",
    "@register_tool('my_image_gen')\n",
    "class MyImageGen(BaseTool):\n",
    "    description = 'AI painting (image generation) service, input text description, and return the image URL drawn based on text information.'\n",
    "    parameters = [{\n",
    "        'name': 'prompt',\n",
    "        'type': 'string',\n",
    "        'description': 'Detailed description of the desired image content, in English',\n",
    "        'required': True\n",
    "    }]\n",
    "\n",
    "    def call(self, params: str, **kwargs) -> str:\n",
    "        prompt = json5.loads(params)['prompt']\n",
    "        prompt = urllib.parse.quote(prompt)\n",
    "        return json5.dumps(\n",
    "            {'image_url': f'https://image.pollinations.ai/prompt/{prompt}'},\n",
    "            ensure_ascii=False)\n",
    "\n",
    "\n",
    "@register_tool('get_current_weather')\n",
    "class GetCurrentWeather(BaseTool):\n",
    "    description = 'Get the current weather in a given city name.'\n",
    "    parameters = [{\n",
    "        'name': 'city_name',\n",
    "        'type': 'string',\n",
    "        'description': 'The city and state, e.g. San Francisco, CA',\n",
    "        'required': True\n",
    "    }]\n",
    "\n",
    "    def call(self, params: str, **kwargs) -> str:\n",
    "        # `params` are the arguments generated by the LLM agent.\n",
    "        city_name = json5.loads(params)['city_name']\n",
    "        key_selection = {\n",
    "            \"current_condition\": [\n",
    "                \"temp_C\",\n",
    "                \"FeelsLikeC\",\n",
    "                \"humidity\",\n",
    "                \"weatherDesc\",\n",
    "                \"observation_time\",\n",
    "            ],\n",
    "        }\n",
    "        resp = requests.get(f\"https://wttr.in/{city_name}?format=j1\")\n",
    "        resp.raise_for_status()\n",
    "        resp = resp.json()\n",
    "        ret = {k: {_v: resp[k][0][_v] for _v in v} for k, v in key_selection.items()}\n",
    "        return str(ret)\n"
   ]
  },
  {
   "cell_type": "code",
   "execution_count": 8,
   "id": "ea649d2f-ab4b-4228-8f32-75b01a98d9a7",
   "metadata": {},
   "outputs": [],
   "source": [
    "tools = ['my_image_gen', 'get_current_weather']"
   ]
  },
  {
   "cell_type": "markdown",
   "id": "148b7c9d-2b8b-45fa-9fc1-c37ebdc1e5fb",
   "metadata": {},
   "source": [
    "### Create AI agent demo with Qwen-Agent and Gradio UI\n",
    "\n",
    "[back to top ⬆️](#Table-of-contents:)\n",
    "\n",
    "The Agent class serves as a higher-level interface for Qwen-Agent, where an Agent object integrates the interfaces for tool calls and LLM (Large Language Model). The Agent receives a list of messages as input and produces a generator that yields a list of messages, effectively providing a stream of output messages.\n",
    "\n",
    "Qwen-Agent offer a generic Agent class: the `Assistant` class, which, when directly instantiated, can handle the majority of Single-Agent tasks. Features:\n",
    "\n",
    "- It supports role-playing;\n",
    "- It provides automatic planning and tool calls abilities;\n",
    "- RAG (Retrieval-Augmented Generation): It accepts documents input, and can use an integrated RAG strategy to parse the documents."
   ]
  },
  {
   "cell_type": "code",
   "execution_count": 14,
   "id": "52aed08c-b515-40b5-b371-16e27fb89e60",
   "metadata": {},
   "outputs": [
    {
     "name": "stderr",
     "output_type": "stream",
     "text": [
      "Compiling the model to CPU ...\n",
      "Special tokens have been added in the vocabulary, make sure the associated word embeddings are fine-tuned or trained.\n"
     ]
    },
    {
     "name": "stdout",
     "output_type": "stream",
     "text": [
      "Running on local URL:  http://10.3.233.99:4569\n",
      "IMPORTANT: You are using gradio version 4.22.0, however version 4.29.0 is available, please upgrade.\n",
      "--------\n"
     ]
    },
    {
     "ename": "ValueError",
     "evalue": "When localhost is not accessible, a shareable link must be created. Please set share=True or check your proxy settings to allow access to localhost.",
     "output_type": "error",
     "traceback": [
      "\u001b[0;31m---------------------------------------------------------------------------\u001b[0m",
      "\u001b[0;31mValueError\u001b[0m                                Traceback (most recent call last)",
      "Cell \u001b[0;32mIn[14], line 19\u001b[0m\n\u001b[1;32m     11\u001b[0m demo \u001b[38;5;241m=\u001b[39m WebUI(\n\u001b[1;32m     12\u001b[0m     bot,\n\u001b[1;32m     13\u001b[0m     chatbot_config\u001b[38;5;241m=\u001b[39mchatbot_config,\n\u001b[1;32m     14\u001b[0m )\n\u001b[1;32m     17\u001b[0m \u001b[38;5;66;03m# if you are launching remotely, specify server_name and server_port\u001b[39;00m\n\u001b[1;32m     18\u001b[0m \u001b[38;5;66;03m#  demo.run(server_name='your server name', server_port='server port in int')\u001b[39;00m\n\u001b[0;32m---> 19\u001b[0m \u001b[43mdemo\u001b[49m\u001b[38;5;241;43m.\u001b[39;49m\u001b[43mrun\u001b[49m\u001b[43m(\u001b[49m\u001b[43mserver_name\u001b[49m\u001b[43m \u001b[49m\u001b[38;5;241;43m=\u001b[39;49m\u001b[43m \u001b[49m\u001b[38;5;124;43m'\u001b[39;49m\u001b[38;5;124;43m10.3.233.99\u001b[39;49m\u001b[38;5;124;43m'\u001b[39;49m\u001b[43m,\u001b[49m\u001b[43m \u001b[49m\u001b[43mserver_port\u001b[49m\u001b[43m \u001b[49m\u001b[38;5;241;43m=\u001b[39;49m\u001b[43m \u001b[49m\u001b[38;5;241;43m4569\u001b[39;49m\u001b[43m)\u001b[49m\n",
      "File \u001b[0;32m~/intel/openvino_notebooks/openvino_env/lib/python3.10/site-packages/qwen_agent/gui/web_ui.py:165\u001b[0m, in \u001b[0;36mWebUI.run\u001b[0;34m(self, messages, share, server_name, server_port, concurrency_limit, enable_mention, **kwargs)\u001b[0m\n\u001b[1;32m    161\u001b[0m         input_promise\u001b[38;5;241m.\u001b[39mthen(\u001b[38;5;28mself\u001b[39m\u001b[38;5;241m.\u001b[39mflushed, \u001b[38;5;28;01mNone\u001b[39;00m, [\u001b[38;5;28minput\u001b[39m])\n\u001b[1;32m    163\u001b[0m     demo\u001b[38;5;241m.\u001b[39mload(\u001b[38;5;28;01mNone\u001b[39;00m)\n\u001b[0;32m--> 165\u001b[0m \u001b[43mdemo\u001b[49m\u001b[38;5;241;43m.\u001b[39;49m\u001b[43mqueue\u001b[49m\u001b[43m(\u001b[49m\u001b[43mdefault_concurrency_limit\u001b[49m\u001b[38;5;241;43m=\u001b[39;49m\u001b[43mconcurrency_limit\u001b[49m\u001b[43m)\u001b[49m\u001b[38;5;241;43m.\u001b[39;49m\u001b[43mlaunch\u001b[49m\u001b[43m(\u001b[49m\u001b[43mshare\u001b[49m\u001b[38;5;241;43m=\u001b[39;49m\u001b[43mshare\u001b[49m\u001b[43m,\u001b[49m\n\u001b[1;32m    166\u001b[0m \u001b[43m                                                               \u001b[49m\u001b[43mserver_name\u001b[49m\u001b[38;5;241;43m=\u001b[39;49m\u001b[43mserver_name\u001b[49m\u001b[43m,\u001b[49m\n\u001b[1;32m    167\u001b[0m \u001b[43m                                                               \u001b[49m\u001b[43mserver_port\u001b[49m\u001b[38;5;241;43m=\u001b[39;49m\u001b[43mserver_port\u001b[49m\u001b[43m)\u001b[49m\n",
      "File \u001b[0;32m~/intel/openvino_notebooks/openvino_env/lib/python3.10/site-packages/gradio/blocks.py:2182\u001b[0m, in \u001b[0;36mBlocks.launch\u001b[0;34m(self, inline, inbrowser, share, debug, max_threads, auth, auth_message, prevent_thread_lock, show_error, server_name, server_port, height, width, favicon_path, ssl_keyfile, ssl_certfile, ssl_keyfile_password, ssl_verify, quiet, show_api, allowed_paths, blocked_paths, root_path, app_kwargs, state_session_capacity, share_server_address, share_server_protocol, auth_dependency, _frontend)\u001b[0m\n\u001b[1;32m   2174\u001b[0m \u001b[38;5;66;03m# If running in a colab or not able to access localhost,\u001b[39;00m\n\u001b[1;32m   2175\u001b[0m \u001b[38;5;66;03m# a shareable link must be created.\u001b[39;00m\n\u001b[1;32m   2176\u001b[0m \u001b[38;5;28;01mif\u001b[39;00m (\n\u001b[1;32m   2177\u001b[0m     _frontend\n\u001b[1;32m   2178\u001b[0m     \u001b[38;5;129;01mand\u001b[39;00m \u001b[38;5;129;01mnot\u001b[39;00m wasm_utils\u001b[38;5;241m.\u001b[39mIS_WASM\n\u001b[1;32m   2179\u001b[0m     \u001b[38;5;129;01mand\u001b[39;00m \u001b[38;5;129;01mnot\u001b[39;00m networking\u001b[38;5;241m.\u001b[39murl_ok(\u001b[38;5;28mself\u001b[39m\u001b[38;5;241m.\u001b[39mlocal_url)\n\u001b[1;32m   2180\u001b[0m     \u001b[38;5;129;01mand\u001b[39;00m \u001b[38;5;129;01mnot\u001b[39;00m \u001b[38;5;28mself\u001b[39m\u001b[38;5;241m.\u001b[39mshare\n\u001b[1;32m   2181\u001b[0m ):\n\u001b[0;32m-> 2182\u001b[0m     \u001b[38;5;28;01mraise\u001b[39;00m \u001b[38;5;167;01mValueError\u001b[39;00m(\n\u001b[1;32m   2183\u001b[0m         \u001b[38;5;124m\"\u001b[39m\u001b[38;5;124mWhen localhost is not accessible, a shareable link must be created. Please set share=True or check your proxy settings to allow access to localhost.\u001b[39m\u001b[38;5;124m\"\u001b[39m\n\u001b[1;32m   2184\u001b[0m     )\n\u001b[1;32m   2186\u001b[0m \u001b[38;5;28;01mif\u001b[39;00m \u001b[38;5;28mself\u001b[39m\u001b[38;5;241m.\u001b[39mis_colab \u001b[38;5;129;01mand\u001b[39;00m \u001b[38;5;129;01mnot\u001b[39;00m quiet:\n\u001b[1;32m   2187\u001b[0m     \u001b[38;5;28;01mif\u001b[39;00m debug:\n",
      "\u001b[0;31mValueError\u001b[0m: When localhost is not accessible, a shareable link must be created. Please set share=True or check your proxy settings to allow access to localhost."
     ]
    }
   ],
   "source": [
    "from qwen_agent.agents import Assistant\n",
    "from qwen_agent.gui import WebUI\n",
    "\n",
    "bot = Assistant(llm=llm_cfg,\n",
    "                function_list=tools,)\n",
    "\n",
    "# chatbot_config = {\n",
    "#     'user.name': 'OpenVINO Agent',\n",
    "#     'prompt.suggestions': [\"hello\"]\n",
    "# }\n",
    "# demo = WebUI(\n",
    "#     bot,\n",
    "#     chatbot_config=chatbot_config,\n",
    "# )\n",
    "\n",
    "\n",
    "# # if you are launching remotely, specify server_name and server_port\n",
    "# #  demo.run(server_name='your server name', server_port='server port in int')\n",
    "# demo.run(server_name = '10.3.233.99', server_port = 4569)"
   ]
  },
  {
   "cell_type": "code",
   "execution_count": 42,
   "id": "752e052d-74d7-4df7-81eb-bbf317196ab1",
   "metadata": {},
   "outputs": [
    {
     "name": "stdout",
     "output_type": "stream",
     "text": [
      "Running on local URL:  http://10.3.233.99:4575\n",
      "IMPORTANT: You are using gradio version 4.22.0, however version 4.29.0 is available, please upgrade.\n",
      "--------\n"
     ]
    },
    {
     "ename": "ValueError",
     "evalue": "When localhost is not accessible, a shareable link must be created. Please set share=True or check your proxy settings to allow access to localhost.",
     "output_type": "error",
     "traceback": [
      "\u001b[0;31m---------------------------------------------------------------------------\u001b[0m",
      "\u001b[0;31mValueError\u001b[0m                                Traceback (most recent call last)",
      "Cell \u001b[0;32mIn[42], line 98\u001b[0m\n\u001b[1;32m     90\u001b[0m chatbot_config \u001b[38;5;241m=\u001b[39m {\n\u001b[1;32m     91\u001b[0m     \u001b[38;5;124m'\u001b[39m\u001b[38;5;124muser.name\u001b[39m\u001b[38;5;124m'\u001b[39m: \u001b[38;5;124m'\u001b[39m\u001b[38;5;124mOpenVINO Agent\u001b[39m\u001b[38;5;124m'\u001b[39m,\n\u001b[1;32m     92\u001b[0m     \u001b[38;5;124m'\u001b[39m\u001b[38;5;124mprompt.suggestions\u001b[39m\u001b[38;5;124m'\u001b[39m: [\u001b[38;5;124m\"\u001b[39m\u001b[38;5;124mhello\u001b[39m\u001b[38;5;124m\"\u001b[39m]\n\u001b[1;32m     93\u001b[0m }\n\u001b[1;32m     94\u001b[0m demo \u001b[38;5;241m=\u001b[39m OpenVINOUI(\n\u001b[1;32m     95\u001b[0m     bot,\n\u001b[1;32m     96\u001b[0m     chatbot_config\u001b[38;5;241m=\u001b[39mchatbot_config,\n\u001b[1;32m     97\u001b[0m )\n\u001b[0;32m---> 98\u001b[0m \u001b[43mdemo\u001b[49m\u001b[38;5;241;43m.\u001b[39;49m\u001b[43mrun\u001b[49m\u001b[43m(\u001b[49m\u001b[43mserver_name\u001b[49m\u001b[43m \u001b[49m\u001b[38;5;241;43m=\u001b[39;49m\u001b[43m \u001b[49m\u001b[38;5;124;43m'\u001b[39;49m\u001b[38;5;124;43m10.3.233.99\u001b[39;49m\u001b[38;5;124;43m'\u001b[39;49m\u001b[43m,\u001b[49m\u001b[43m \u001b[49m\u001b[43mserver_port\u001b[49m\u001b[43m \u001b[49m\u001b[38;5;241;43m=\u001b[39;49m\u001b[43m \u001b[49m\u001b[38;5;241;43m4575\u001b[39;49m\u001b[43m)\u001b[49m\n",
      "Cell \u001b[0;32mIn[42], line 83\u001b[0m, in \u001b[0;36mOpenVINOUI.run\u001b[0;34m(self, messages, share, server_name, server_port, concurrency_limit, enable_mention, **kwargs)\u001b[0m\n\u001b[1;32m     79\u001b[0m     input_promise\u001b[38;5;241m.\u001b[39mthen(\u001b[38;5;28mself\u001b[39m\u001b[38;5;241m.\u001b[39mflushed, \u001b[38;5;28;01mNone\u001b[39;00m, [\u001b[38;5;28minput\u001b[39m])\n\u001b[1;32m     81\u001b[0m     \u001b[38;5;28mself\u001b[39m\u001b[38;5;241m.\u001b[39mdemo\u001b[38;5;241m.\u001b[39mload(\u001b[38;5;28;01mNone\u001b[39;00m)\n\u001b[0;32m---> 83\u001b[0m \u001b[38;5;28;43mself\u001b[39;49m\u001b[38;5;241;43m.\u001b[39;49m\u001b[43mdemo\u001b[49m\u001b[38;5;241;43m.\u001b[39;49m\u001b[43mqueue\u001b[49m\u001b[43m(\u001b[49m\u001b[43mdefault_concurrency_limit\u001b[49m\u001b[38;5;241;43m=\u001b[39;49m\u001b[43mconcurrency_limit\u001b[49m\u001b[43m)\u001b[49m\u001b[38;5;241;43m.\u001b[39;49m\u001b[43mlaunch\u001b[49m\u001b[43m(\u001b[49m\u001b[43mshare\u001b[49m\u001b[38;5;241;43m=\u001b[39;49m\u001b[43mshare\u001b[49m\u001b[43m,\u001b[49m\n\u001b[1;32m     84\u001b[0m \u001b[43m                                                               \u001b[49m\u001b[43mserver_name\u001b[49m\u001b[38;5;241;43m=\u001b[39;49m\u001b[43mserver_name\u001b[49m\u001b[43m,\u001b[49m\n\u001b[1;32m     85\u001b[0m \u001b[43m                                                               \u001b[49m\u001b[43mserver_port\u001b[49m\u001b[38;5;241;43m=\u001b[39;49m\u001b[43mserver_port\u001b[49m\u001b[43m)\u001b[49m\n",
      "File \u001b[0;32m~/intel/openvino_notebooks/openvino_env/lib/python3.10/site-packages/gradio/blocks.py:2182\u001b[0m, in \u001b[0;36mBlocks.launch\u001b[0;34m(self, inline, inbrowser, share, debug, max_threads, auth, auth_message, prevent_thread_lock, show_error, server_name, server_port, height, width, favicon_path, ssl_keyfile, ssl_certfile, ssl_keyfile_password, ssl_verify, quiet, show_api, allowed_paths, blocked_paths, root_path, app_kwargs, state_session_capacity, share_server_address, share_server_protocol, auth_dependency, _frontend)\u001b[0m\n\u001b[1;32m   2174\u001b[0m \u001b[38;5;66;03m# If running in a colab or not able to access localhost,\u001b[39;00m\n\u001b[1;32m   2175\u001b[0m \u001b[38;5;66;03m# a shareable link must be created.\u001b[39;00m\n\u001b[1;32m   2176\u001b[0m \u001b[38;5;28;01mif\u001b[39;00m (\n\u001b[1;32m   2177\u001b[0m     _frontend\n\u001b[1;32m   2178\u001b[0m     \u001b[38;5;129;01mand\u001b[39;00m \u001b[38;5;129;01mnot\u001b[39;00m wasm_utils\u001b[38;5;241m.\u001b[39mIS_WASM\n\u001b[1;32m   2179\u001b[0m     \u001b[38;5;129;01mand\u001b[39;00m \u001b[38;5;129;01mnot\u001b[39;00m networking\u001b[38;5;241m.\u001b[39murl_ok(\u001b[38;5;28mself\u001b[39m\u001b[38;5;241m.\u001b[39mlocal_url)\n\u001b[1;32m   2180\u001b[0m     \u001b[38;5;129;01mand\u001b[39;00m \u001b[38;5;129;01mnot\u001b[39;00m \u001b[38;5;28mself\u001b[39m\u001b[38;5;241m.\u001b[39mshare\n\u001b[1;32m   2181\u001b[0m ):\n\u001b[0;32m-> 2182\u001b[0m     \u001b[38;5;28;01mraise\u001b[39;00m \u001b[38;5;167;01mValueError\u001b[39;00m(\n\u001b[1;32m   2183\u001b[0m         \u001b[38;5;124m\"\u001b[39m\u001b[38;5;124mWhen localhost is not accessible, a shareable link must be created. Please set share=True or check your proxy settings to allow access to localhost.\u001b[39m\u001b[38;5;124m\"\u001b[39m\n\u001b[1;32m   2184\u001b[0m     )\n\u001b[1;32m   2186\u001b[0m \u001b[38;5;28;01mif\u001b[39;00m \u001b[38;5;28mself\u001b[39m\u001b[38;5;241m.\u001b[39mis_colab \u001b[38;5;129;01mand\u001b[39;00m \u001b[38;5;129;01mnot\u001b[39;00m quiet:\n\u001b[1;32m   2187\u001b[0m     \u001b[38;5;28;01mif\u001b[39;00m debug:\n",
      "\u001b[0;31mValueError\u001b[0m: When localhost is not accessible, a shareable link must be created. Please set share=True or check your proxy settings to allow access to localhost."
     ]
    }
   ],
   "source": [
    "class OpenVINOUI(WebUI):\n",
    "    def run(self,\n",
    "        messages: List[Message] = None,\n",
    "        share: bool = False,\n",
    "        server_name: str = None,\n",
    "        server_port: int = None,\n",
    "        concurrency_limit: int = 10,\n",
    "        enable_mention: bool = False,\n",
    "        **kwargs):\n",
    "        self.run_kwargs = kwargs\n",
    "    \n",
    "        from qwen_agent.gui.gradio import gr, mgr\n",
    "    \n",
    "        customTheme = gr.themes.Default(\n",
    "            primary_hue=gr.themes.utils.colors.blue,\n",
    "            radius_size=gr.themes.utils.sizes.radius_none,\n",
    "        )\n",
    "    \n",
    "        with gr.Blocks(\n",
    "            theme=gr.themes.Soft(),\n",
    "            css=\".disclaimer {font-variant-caps: all-small-caps;}\",\n",
    "        ) as self.demo:\n",
    "            history = gr.State([])\n",
    "    \n",
    "            with gr.Column():\n",
    "                chatbot = mgr.Chatbot(\n",
    "                    value=convert_history_to_chatbot(messages=messages),\n",
    "                    avatar_images=[\n",
    "                        self.user_config,\n",
    "                        self.agent_config_list,\n",
    "                    ],\n",
    "                    height=700,\n",
    "                    avatar_image_width=80,\n",
    "                    flushing=False,\n",
    "                    show_copy_button=True,\n",
    "                )\n",
    "            with gr.Column():\n",
    "                input = mgr.MultimodalInput(placeholder=self.input_placeholder,)\n",
    "            msg = gr.Textbox(\n",
    "                label=\"Chat Message Box\",\n",
    "                placeholder=\"Chat Message Box\",\n",
    "                show_label=False,\n",
    "                container=False,\n",
    "            )\n",
    "            gr.Examples(['yes'], inputs=msg, label=\"Click on any example and press the 'Submit' button\")\n",
    "            \n",
    "            if len(self.agent_list) > 1:\n",
    "                agent_selector.change(\n",
    "                    fn=self.change_agent,\n",
    "                    inputs=[agent_selector],\n",
    "                    outputs=[agent_selector, agent_info_block, agent_plugins_block],\n",
    "                    queue=False,\n",
    "                )\n",
    "            \n",
    "            input_promise = input.submit(\n",
    "                fn=self.add_text,\n",
    "                inputs=[input, chatbot, history],\n",
    "                outputs=[input, chatbot, history],\n",
    "                queue=False,\n",
    "            )\n",
    "\n",
    "            if len(self.agent_list) > 1 and enable_mention:\n",
    "                input_promise = input_promise.then(\n",
    "                    self.add_mention,\n",
    "                    [chatbot, agent_selector],\n",
    "                    [chatbot, agent_selector],\n",
    "                ).then(\n",
    "                    self.agent_run,\n",
    "                    [chatbot, history, agent_selector],\n",
    "                    [chatbot, history, agent_selector],\n",
    "                )\n",
    "            else:\n",
    "                input_promise = input_promise.then(\n",
    "                    self.agent_run,\n",
    "                    [chatbot, history],\n",
    "                    [chatbot, history],\n",
    "                )\n",
    "\n",
    "            input_promise.then(self.flushed, None, [input])\n",
    "    \n",
    "            self.demo.load(None)\n",
    "    \n",
    "        self.demo.queue(default_concurrency_limit=concurrency_limit).launch(share=share,\n",
    "                                                                       server_name=server_name,\n",
    "                                                                       server_port=server_port)\n",
    "    def close():\n",
    "        self.demo.close\n",
    "    \n",
    "\n",
    "chatbot_config = {\n",
    "    'user.name': 'OpenVINO Agent',\n",
    "    'prompt.suggestions': [\"hello\"]\n",
    "}\n",
    "demo = OpenVINOUI(\n",
    "    bot,\n",
    "    chatbot_config=chatbot_config,\n",
    ")\n",
    "demo.run(server_name = '10.3.233.99', server_port = 4575)"
   ]
  },
  {
   "cell_type": "code",
   "execution_count": 43,
   "id": "afa134b3-5e1b-498a-8efa-91a08861bca5",
   "metadata": {},
   "outputs": [
    {
     "data": {
      "text/plain": [
       "<bound method OpenVINOUI.close of <__main__.OpenVINOUI object at 0x7fa0d044a470>>"
      ]
     },
     "execution_count": 43,
     "metadata": {},
     "output_type": "execute_result"
    }
   ],
   "source": [
    "demo.close"
   ]
  },
  {
   "cell_type": "code",
   "execution_count": null,
   "id": "929c6222-2a0a-4c77-8d57-a2838165da6a",
   "metadata": {},
   "outputs": [],
   "source": []
  }
 ],
 "metadata": {
  "kernelspec": {
   "display_name": "Python 3 (ipykernel)",
   "language": "python",
   "name": "python3"
  },
  "language_info": {
   "codemirror_mode": {
    "name": "ipython",
    "version": 3
   },
   "file_extension": ".py",
   "mimetype": "text/x-python",
   "name": "python",
   "nbconvert_exporter": "python",
   "pygments_lexer": "ipython3",
   "version": "3.10.12"
  },
  "openvino_notebooks": {
   "imageUrl": "https://github.com/openvinotoolkit/openvino_notebooks/assets/91237924/2abb2389-e612-4599-82c6-64cdac259120",
   "tags": {
    "categories": [
     "Model Demos",
     "AI Trends"
    ],
    "libraries": [],
    "other": [
     "LLM"
    ],
    "tasks": [
     "Text Generation"
    ]
   }
  },
  "widgets": {
   "application/vnd.jupyter.widget-state+json": {
    "state": {},
    "version_major": 2,
    "version_minor": 0
   }
  }
 },
 "nbformat": 4,
 "nbformat_minor": 5
}
