{
  "nbformat": 4,
  "nbformat_minor": 0,
  "metadata": {
    "colab": {
      "provenance": []
    },
    "kernelspec": {
      "name": "python3",
      "display_name": "Python 3"
    },
    "language_info": {
      "name": "python"
    }
  },
  "cells": [
    {
      "cell_type": "markdown",
      "source": [
        "Hi, \n",
        "I am Akhil Sasi Kumar. I am a current graduate student at Northeastern univeristy. I recently came across the competition and wanted to participate in the OpenVINO GSoC project. Due to time shortage I am posting a link to my pre-requisite notebook here. Kindly consider the colab notebook I am uploading on this link:\n",
        "\n",
        "\n",
        "https://colab.research.google.com/drive/1iAnCKbL8MLRtBvp17VT7JkualEXZnjjY?usp=sharing\n"
      ],
      "metadata": {
        "id": "FIxpwOQGUKpZ"
      }
    },
    {
      "cell_type": "code",
      "execution_count": null,
      "metadata": {
        "id": "jCR9x8oAUFc4"
      },
      "outputs": [],
      "source": []
    }
  ]
}