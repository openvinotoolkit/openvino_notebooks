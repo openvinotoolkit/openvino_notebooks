{
 "cells": [
  {
   "cell_type": "markdown",
   "id": "4ad832c5-71db-456f-9702-fb8f3b489e46",
   "metadata": {},
   "source": [
    "# Post-Training Quantization of ImageBind model with NNCF\n",
    "\n",
    "The goal of this tutorial is to demonstrate how to speed up the model by applying 8-bit post-training quantization from [NNCF](https://github.com/openvinotoolkit/nncf/) (Neural Network Compression Framework) and infer quantized model via OpenVINO™ Toolkit. \n",
    "\n",
    "The optimization process contains the following steps:\n",
    "1. Quantize converted OpenVINO model from [notebook](239-image-bind-convert.ipynb) with NNCF.\n",
    "2. Compare probability matrices between converted and quantized models on input data examples.\n",
    "3. Compare model size of converted and quantized models.\n",
    "4. Compare performance of converted and quantized models.\n",
    "\n",
    "> **NOTE**: you should run [239-image-bind-convert](239-image-bind-convert.ipynb) notebook first to generate OpenVINO IR models that are used for quantization.\n"
   ]
  },
  {
   "cell_type": "markdown",
   "id": "57ec0370",
   "metadata": {},
   "source": [
    "#### Table of contents:\n",
    "- [Prerequisites](#Prerequisites)\n",
    "- [Create and initialize quantization](#Create-and-initialize-quantization)\n",
    "    - [Prepare datasets](#Prepare-datasets)\n",
    "- [Compare results for the OpenVINO FP16 model and the quantized model](#Compare-results-for-the-OpenVINO-FP16-model-and-the-quantized-model)\n",
    "    - [Select inference device](#Select-inference-device)\n",
    "        - [Compare File Size](#Compare-File-Size)\n",
    "        - [Compare inference time of the FP16 IR and quantized models](#Compare-inference-time-of-the-FP16-IR-and-quantized-models)\n"
   ]
  },
  {
   "cell_type": "markdown",
   "id": "5487fe23-6122-47ca-9c29-3beb7802b292",
   "metadata": {},
   "source": [
    "## Prerequisites\n",
    "[back to top ⬆️](#Table-of-contents:)\n"
   ]
  },
  {
   "cell_type": "code",
   "execution_count": 1,
   "id": "13473357",
   "metadata": {},
   "outputs": [
    {
     "name": "stdout",
     "output_type": "stream",
     "text": [
      "\u001b[33mDEPRECATION: omegaconf 2.0.6 has a non-standard dependency specifier PyYAML>=5.1.*. pip 23.3 will enforce this behaviour change. A possible replacement is to upgrade to a newer version of omegaconf or contact the author to suggest that they release a version with a conforming dependency specifiers. Discussion can be found at https://github.com/pypa/pip/issues/12063\u001b[0m\u001b[33m\n",
      "\u001b[0m\u001b[33mDEPRECATION: pytorch-lightning 1.6.5 has a non-standard dependency specifier torch>=1.8.*. pip 23.3 will enforce this behaviour change. A possible replacement is to upgrade to a newer version of pytorch-lightning or contact the author to suggest that they release a version with a conforming dependency specifiers. Discussion can be found at https://github.com/pypa/pip/issues/12063\u001b[0m\u001b[33m\n",
      "\u001b[0m\n",
      "\u001b[1m[\u001b[0m\u001b[34;49mnotice\u001b[0m\u001b[1;39;49m]\u001b[0m\u001b[39;49m A new release of pip is available: \u001b[0m\u001b[31;49m23.2.1\u001b[0m\u001b[39;49m -> \u001b[0m\u001b[32;49m23.3.1\u001b[0m\n",
      "\u001b[1m[\u001b[0m\u001b[34;49mnotice\u001b[0m\u001b[1;39;49m]\u001b[0m\u001b[39;49m To update, run: \u001b[0m\u001b[32;49mpip install --upgrade pip\u001b[0m\n",
      "Note: you may need to restart the kernel to use updated packages.\n"
     ]
    }
   ],
   "source": [
    "%pip install -q datasets librosa soundfile \"openvino>=2023.1.0\" \"nncf\""
   ]
  },
  {
   "cell_type": "code",
   "execution_count": 2,
   "id": "e1a60d45",
   "metadata": {},
   "outputs": [
    {
     "name": "stdout",
     "output_type": "stream",
     "text": [
      "/home/ea/work/openvino_notebooks/notebooks/239-image-bind/ImageBind\n"
     ]
    }
   ],
   "source": [
    "from pathlib import Path\n",
    "\n",
    "repo_dir = Path(\"ImageBind\")\n",
    "\n",
    "if not repo_dir.exists():\n",
    "    raise RuntimeError('This notebook should be run after 239-image-bind-convert notebook')\n",
    "\n",
    "%cd {repo_dir}"
   ]
  },
  {
   "cell_type": "markdown",
   "id": "488397fd",
   "metadata": {},
   "source": [
    "## Create and initialize quantization\n",
    "[back to top ⬆️](#Table-of-contents:)\n",
    "\n",
    "[NNCF](https://github.com/openvinotoolkit/nncf/) enables post-training quantization by adding the quantization layers into the model graph and then using a subset of the training dataset to initialize the parameters of these additional quantization layers. The framework is designed so that modifications to your original training code are minor. Quantization is the simplest scenario and requires a few modifications.\n",
    "\n",
    "The optimization process contains the following steps:\n",
    "1. Create a Dataset for quantization.\n",
    "2. Run `nncf.quantize` for getting a quantized model.\n",
    "3. Serialize the `INT8` model using `openvino.save_model` function."
   ]
  },
  {
   "cell_type": "code",
   "execution_count": 3,
   "id": "810e2dd7",
   "metadata": {},
   "outputs": [
    {
     "name": "stderr",
     "output_type": "stream",
     "text": [
      "/home/ea/work/ov_venv/lib/python3.8/site-packages/torchvision/transforms/functional_tensor.py:5: UserWarning: The torchvision.transforms.functional_tensor module is deprecated in 0.15 and will be **removed in 0.17**. Please don't rely on it. You probably just need to use APIs in torchvision.transforms.functional or in torchvision.transforms.v2.functional.\n",
      "  warnings.warn(\n",
      "/home/ea/work/ov_venv/lib/python3.8/site-packages/torchvision/transforms/_functional_video.py:6: UserWarning: The 'torchvision.transforms._functional_video' module is deprecated since 0.12 and will be removed in the future. Please use the 'torchvision.transforms.functional' module instead.\n",
      "  warnings.warn(\n",
      "/home/ea/work/ov_venv/lib/python3.8/site-packages/torchvision/transforms/_transforms_video.py:22: UserWarning: The 'torchvision.transforms._transforms_video' module is deprecated since 0.12 and will be removed in the future. Please use the 'torchvision.transforms' module instead.\n",
      "  warnings.warn(\n"
     ]
    }
   ],
   "source": [
    "from pathlib import Path\n",
    "from imagebind.models.imagebind_model import ModalityType\n",
    "\n",
    "modalities = [ModalityType.TEXT, ModalityType.VISION, ModalityType.AUDIO]\n",
    "fp_model_paths = {modality: Path(f\"image-bind-{modality}\") / f\"image-bind-{modality}.xml\" for modality in modalities}\n",
    "int8_model_paths = {modality: Path(f\"image-bind-{modality}\") / f\"image-bind-{modality}_int8.xml\" for modality in modalities}"
   ]
  },
  {
   "cell_type": "markdown",
   "id": "f261e6a4",
   "metadata": {},
   "source": [
    "### Prepare datasets\n",
    "[back to top ⬆️](#Table-of-contents:)\n"
   ]
  },
  {
   "cell_type": "markdown",
   "id": "65d8d559",
   "metadata": {},
   "source": [
    "The [Conceptual Captions](https://ai.google.com/research/ConceptualCaptions/) dataset consisting of ~3.3M images annotated with captions. Dataset is used to quantize image and text models."
   ]
  },
  {
   "cell_type": "code",
   "execution_count": 4,
   "id": "40d71747",
   "metadata": {},
   "outputs": [],
   "source": [
    "import imagebind.data as data\n",
    "import os\n",
    "import requests\n",
    "import tempfile\n",
    "\n",
    "from requests.packages.urllib3.exceptions import InsecureRequestWarning\n",
    "requests.packages.urllib3.disable_warnings(InsecureRequestWarning)\n",
    "\n",
    "def check_text_data(data):\n",
    "    \"\"\"\n",
    "    Check if the given data is text-based.\n",
    "    \"\"\"\n",
    "    if isinstance(data, str):\n",
    "        return True\n",
    "    if isinstance(data, list):\n",
    "        return all(isinstance(x, str) for x in data)\n",
    "    return False\n",
    "\n",
    "def collate_fn(examples, image_column=\"image_url\", text_column=\"caption\"):\n",
    "    \"\"\"\n",
    "    Collates examples into a batch for processing.\n",
    "    Preprocesses each example by loading and transforming image and text data.\n",
    "    Checks if the text data in the example is valid by calling the `check_text_data` function.\n",
    "    Downloads the image specified by the URL in the image_column of the example dictionary.\n",
    "    Constructs and returns a dictionary representing the collated batch with the following keys:\n",
    "       - \"pixel_values\": The pixel values of the preprocessed example.\n",
    "       - \"input_ids\": The transformed text data of the preprocessed example.\n",
    "    \"\"\"\n",
    "    assert len(examples) == 1\n",
    "    example = examples[0]\n",
    "    if not check_text_data(example[text_column]):\n",
    "        raise ValueError(\"Text data is not valid\")\n",
    "\n",
    "    url = example[image_column]\n",
    "    with tempfile.TemporaryDirectory() as tempdir:\n",
    "        f_name = os.path.join(tempdir, 'image.jpg')\n",
    "        try:\n",
    "            response = requests.get(url, verify=False, timeout=20)\n",
    "            with open(f_name, \"wb\") as file:\n",
    "                file.write(response.content)\n",
    "            pixel_values = data.load_and_transform_vision_data([f_name], \"cpu\")\n",
    "        except Exception:\n",
    "            print(f\"Can't load image from url: {url}\")\n",
    "            return None\n",
    "\n",
    "    text = data.load_and_transform_text([example[text_column]], \"cpu\")\n",
    "\n",
    "    return {\n",
    "        \"pixel_values\": pixel_values,\n",
    "        \"input_ids\": text\n",
    "    }"
   ]
  },
  {
   "cell_type": "code",
   "execution_count": 5,
   "id": "befc2204",
   "metadata": {},
   "outputs": [],
   "source": [
    "from datasets import load_dataset\n",
    "import itertools\n",
    "import torch\n",
    "from tqdm.notebook import tqdm\n",
    "\n",
    "def collect_vision_text_data(dataloader, init_steps):\n",
    "    \"\"\"\n",
    "    This function collects vision and text data from a dataloader for a specified number of initialization steps.\n",
    "    It iterates over the dataloader, fetching batches and storing the relevant vision and text data.\n",
    "    Returns a tuple containing the collected vision_data and text_data lists.\n",
    "    \"\"\"\n",
    "    text_data = []\n",
    "    vision_data = []\n",
    "    print(f\"Fetching {init_steps} for the initialization...\")\n",
    "    counter = 0\n",
    "    for batch in tqdm(dataloader):\n",
    "        if counter == init_steps:\n",
    "            break\n",
    "        with torch.no_grad():\n",
    "            if batch:\n",
    "                counter += 1\n",
    "                text_data.append(batch[\"input_ids\"].to(\"cpu\"))\n",
    "                vision_data.append(batch[\"pixel_values\"].to(\"cpu\"))\n",
    "    return vision_data, text_data\n",
    "\n",
    "def prepare_vision_text_dataset(opt_init_steps=300):\n",
    "    \"\"\"\n",
    "    Prepares a vision-text dataset for quantization by collecting vision and text data.\n",
    "    \"\"\"\n",
    "    dataset = load_dataset(\"conceptual_captions\", streaming=True)\n",
    "    train_dataset = dataset[\"train\"].shuffle(seed=0)\n",
    "    dataloader = torch.utils.data.DataLoader(train_dataset, collate_fn=collate_fn, batch_size=1)\n",
    "    vision_data, text_data = collect_vision_text_data(dataloader, opt_init_steps)\n",
    "    return vision_data, text_data"
   ]
  },
  {
   "cell_type": "markdown",
   "id": "3c0f6587",
   "metadata": {},
   "source": [
    "The [`ESC-50`](https://github.com/karolpiczak/ESC-50) dataset is used to quantize the audio modality of the ImageBind model.\n",
    "Dataset is a labeled collection of 2000 environmental audio recordings suitable for benchmarking methods of environmental sound classification.\n",
    "The dataset consists of 5-second-long recordings organized into 50 semantic classes."
   ]
  },
  {
   "cell_type": "code",
   "execution_count": 6,
   "id": "2a2d4357",
   "metadata": {},
   "outputs": [],
   "source": [
    "import numpy as np\n",
    "import torchaudio\n",
    "\n",
    "def collect_audio_data(dataloader, init_steps=300):\n",
    "    \"\"\"\n",
    "    This function collects audio data from a dataloader for a specified number of initialization steps.\n",
    "    It iterates over the dataloader, fetching batches and storing them in a list.\n",
    "    \"\"\"\n",
    "    audio_data = []\n",
    "    for _, batch in tqdm(zip(range(init_steps), itertools.islice(dataloader, 0, init_steps))):\n",
    "        with torch.no_grad():\n",
    "            audio_data.append(batch)\n",
    "    return audio_data\n",
    "\n",
    "def prepare_audio_dataset():\n",
    "    \"\"\"\n",
    "    Prepares an \"ashraq/esc50\" audio dataset for quantization by collecting audio data.\n",
    "    Collects audio data from the dataloader by calling the `collect_audio_data` function.\n",
    "    Returns a list containing the collected calibration audio data batches.\n",
    "    \"\"\"\n",
    "    audio_dataset = load_dataset(\"ashraq/esc50\", streaming=True)\n",
    "    train_dataset = audio_dataset[\"train\"].shuffle(seed=42, buffer_size=1000)\n",
    "\n",
    "    def collate_fn(examples):\n",
    "        assert len(examples) == 1\n",
    "        with tempfile.TemporaryDirectory() as tempdir:\n",
    "            f_name = os.path.join(tempdir, 'audio.wav')\n",
    "            audio_data = examples[0]['audio']['array']\n",
    "            sample_rate = examples[0]['audio'][\"sampling_rate\"]\n",
    "            audio_data = torch.from_numpy(audio_data).to(torch.float32).unsqueeze(0)\n",
    "            torchaudio.save(f_name, audio_data, sample_rate)\n",
    "            return data.load_and_transform_audio_data([f_name], \"cpu\")\n",
    "\n",
    "    dataloader = torch.utils.data.DataLoader(train_dataset, collate_fn=collate_fn, batch_size=1)\n",
    "    calibration_data = collect_audio_data(dataloader)\n",
    "    return calibration_data"
   ]
  },
  {
   "cell_type": "markdown",
   "id": "768c5f5f",
   "metadata": {},
   "source": [
    "Create a quantized model from the pre-trained `FP16` model."
   ]
  },
  {
   "cell_type": "code",
   "execution_count": 7,
   "id": "4137cd4b",
   "metadata": {},
   "outputs": [
    {
     "name": "stdout",
     "output_type": "stream",
     "text": [
      "Fetching 300 for the initialization...\n"
     ]
    },
    {
     "data": {
      "application/vnd.jupyter.widget-view+json": {
       "model_id": "242df870a8da438a9a3b488455ea73f4",
       "version_major": 2,
       "version_minor": 0
      },
      "text/plain": [
       "0it [00:00, ?it/s]"
      ]
     },
     "metadata": {},
     "output_type": "display_data"
    },
    {
     "name": "stdout",
     "output_type": "stream",
     "text": [
      "Can't load image from url: http://homeklondike.org/wp-content/uploads/2015/06/2-Bright-living-room-in-the-attic1.jpg\n",
      "Can't load image from url: http://www.lovemeinitaly.com/wp-content/uploads/cache/images/2018/01/4A-e1491723576743/4A-e1491723576743-1964759082.jpg\n",
      "Can't load image from url: https://i0.wp.com/childphotocompetition.com/wp-content/uploads/2016/02/Agnieszka_He%E2%80%8E_childphotocompetition.jpg\n",
      "Can't load image from url: https://magankonoski.com/wp-content/uploads/2016/05/MaganKonoskiFineArtWeddingandLifestylePhotographer-25-683x1024.jpg\n",
      "Can't load image from url: http://www.huahin-home-property.com/wp-content/uploads/2016/11/2immobilier-real-eatate-huahin-maison-a-vendre-condo-for-salerent-The-Autumm-Khao-takibe.jpg\n",
      "Can't load image from url: http://www.americanclassichomes.com/blog/wp-content/uploads/2015/04/Alki_SB_Kitchen_internet.jpg\n",
      "Can't load image from url: http://assets.nydailynews.com/polopoly_fs/1.110031.1313943805!/img/httpImage/image.jpg_gen/derivatives/article_750/alg-fencer-sara-harvey-browne-2-jpg.jpg\n",
      "Can't load image from url: http://static.panoramio.com/photos/large/34107183.jpg\n",
      "Can't load image from url: https://odis.homeaway.com/odis/listing/2f9f1d46-0559-4811-95ed-c97cc8608793.c10.jpg\n",
      "Can't load image from url: https://odis.homeaway.com/odis/listing/75953842-3278-42a1-91ef-2bb2be2ecb05.c10.jpg\n",
      "Can't load image from url: https://ak6.picdn.net/shutterstock/videos/2504486/thumb/1.jpg\n",
      "Can't load image from url: http://www.buro247.my/thumb/625x960_0/galleries/2017/10/lady-dior-art-2-19.jpg\n",
      "Can't load image from url: http://oneindiaonepeople.com/wp-content/uploads/2014/02/13.jpg\n",
      "Can't load image from url: http://www.johnsoncitypress.com/image/2016/10/27/640x_cCM_q30/XC-Region-A-AA-JPG.jpg\n",
      "Can't load image from url: http://fromthedeckchair.com/wp-content/uploads/2013/06/ftdc_norwegianpearl-0737.jpg\n",
      "Can't load image from url: http://thedailyquotes.com/wp-content/uploads/2015/04/could-be-another-broken-heart-love-daily-quotes-sayings-pictures.jpg\n",
      "Can't load image from url: https://www.popsci.com/sites/popsci.com/files/styles/1000_1x_/public/vizdata_map_key.jpg?itok=7myhqx2P\n",
      "Can't load image from url: https://www.interlatesystems.com/img/1166/183.jpg\n",
      "Can't load image from url: https://i1.wp.com/dailynexus.com/wp-content/uploads/2016/10/HalloweenWeekend_KennethSong-4-1024x671.jpg?resize=1024%2C671\n",
      "Can't load image from url: https://odis.homeaway.com/odis/listing/d81ed29b-f448-444a-9048-ed9cc9fe666a.c10.jpg\n",
      "Can't load image from url: http://exploresrilanka.lk/wp-content/uploads/2016/04/BTI37666.jpg\n",
      "Can't load image from url: http://www.tampabay.com/storyimage/HI/20170528/ARTICLE/305289727/AR/0/AR-305289727.jpg\n",
      "Can't load image from url: http://wewegombel.me/photo/558689/IMG_7994.jpg\n",
      "Can't load image from url: http://www.thedonkeysanctuary.ie/sites/ireland/files/styles/large/public/press/259-1445414098.jpg?itok=dwa9kRh_\n",
      "Can't load image from url: https://thumb1.shutterstock.com/display_pic_with_logo/3816881/478955293/stock-vector-abstract-pattern-in-the-memphis-style-of-large-white-spots-and-little-green-with-black-dots-on-a-478955293.jpg\n",
      "Can't load image from url: http://media.santabanta.com/images/picsms/2016/sms-16401.jpg\n",
      "Can't load image from url: https://lookaside.fbsbx.com/lookaside/crawler/media/?media_id=657209177718359\n",
      "Can't load image from url: http://www.blogbeen.com/wp-content/uploads/2017/09/-mesmerizing-bathroom-tiles-11-jpg-bathroom-full-version-helulis-.jpg\n",
      "Can't load image from url: https://6e58e2e225bb143c019e-e234a4d870c026b5f56b4446f6e62d64.ssl.cf1.rackcdn.com/a9ad7fa8-cf6c-4d2b-bbc6-591e0fd0cb2f.jpg\n",
      "Can't load image from url: http://wewegombel.me/photo/487654/img_8173.jpg\n",
      "Can't load image from url: http://s1.ibtimes.com/sites/www.ibtimes.com/files/styles/lg/public/2011/06/04/109074-an-african-giant-pouch-rat-is-watched-by-his-handler-at-a-laboratory-i.jpg\n",
      "Can't load image from url: http://nnimgt-a.akamaihd.net/transform/v1/crop/frm/w9qsSAVumVxqyCiyw3G2iR/d9d78dda-7d5d-4420-9f3d-a1d44813c251.jpg/r0_64_960_604_w1200_h678_fmax.jpg\n",
      "Can't load image from url: https://www.thenational.ae/image/policy:1.197226:1499310330/image/jpeg.jpg?f=16x9&w=1024&$p$f$w=2589da4\n",
      "Can't load image from url: https://ak4.picdn.net/shutterstock/videos/14101994/thumb/1.jpg?i10c=img.resize(height:160)\n",
      "Can't load image from url: http://sanpancholife.com/photos/home/2386/super/5005683111355530342.jpeg\n",
      "Can't load image from url: https://media.gettyimages.com/photos/two-bottles-of-pills-one-knocked-over-with-contents-spilling-out-and-picture-id73740799?s=612x612\n",
      "Can't load image from url: https://www.thestar.com/content/dam/thestar/entertainment/music/2017/04/17/prince-was-prescribed-oxycodone-under-another-name-court-document/prince-07.jpg.size.custom.crop.891x650.jpg\n",
      "Can't load image from url: http://photos.mycapture.com/TWCM/1473481/41921058E.jpg\n",
      "Can't load image from url: http://xboxhut.com/wp-content/uploads/2016/05/simple-bathroom-designs-grey-modern-double-sink-bathroom-vanities60-37.jpg\n",
      "Can't load image from url: http://seanverret.com/wp-content/uploads/2012/07/20120710_104349.jpg\n",
      "Can't load image from url: http://neveradulldayinpoland.com/wp-content/uploads/2014/04/DSC_3434-1024x682.jpg\n",
      "Can't load image from url: http://wewegombel.me/photo/687156/watercolor-christmas-tree-isolated-white-background-texture-paper-new-year-christmas-card-template-62641882.jpg\n",
      "Can't load image from url: http://expatedna.com/wp-content/uploads/2015/06/City-in-the-sky-by-Expat-Edna.jpg\n",
      "Can't load image from url: https://lookaside.fbsbx.com/lookaside/crawler/media/?media_id=1291121264312721\n",
      "Can't load image from url: https://i0.wp.com/cindi-keller.com/wp-content/uploads/2014/09/cindi-keller_2014-08-15_15.07.29_ronda-spain.jpg?w=400&h=533&crop&ssl=1\n",
      "Can't load image from url: http://www.robinhoodshow.com/clients/17668/8642054_org.jpg\n",
      "Can't load image from url: https://www.101india.com/sites/default/files/image-upload/blogs/TravelandFood/29NovSecretDevkundWaterfalls/Inline%204%20%3C%20Sunrise%20at%20the%20river%20behind%20the%20farmhouse%20%3E.jpg\n",
      "Can't load image from url: http://www.nextavenue.org/wp-content/uploads/2017/05/image-3-w1024-750x485.jpg\n",
      "Can't load image from url: http://nnimgt-a.akamaihd.net/transform/v1/crop/frm/342N54ExNnUCDyWzghgYbSC/cd538c73-466c-4e05-8202-0892dceb8a44.jpg/r401_321_5388_3369_w1200_h678_fmax.jpg\n",
      "Can't load image from url: https://www.universetoday.com/wp-content/uploads/2016/05/Earth-magnetosphere-ESA-Medialab.jpg\n",
      "Can't load image from url: https://c5eeb468edc90bcfda59-8477d1500ace5389b08f6bb1cc2fee82.ssl.cf5.rackcdn.com/837712-residential-x722qn-o.jpg\n",
      "Can't load image from url: https://ak3.picdn.net/shutterstock/videos/7414963/thumb/1.jpg\n"
     ]
    }
   ],
   "source": [
    "vision_data, text_data = prepare_vision_text_dataset()"
   ]
  },
  {
   "cell_type": "code",
   "execution_count": 8,
   "id": "1d6e9780",
   "metadata": {},
   "outputs": [
    {
     "name": "stdout",
     "output_type": "stream",
     "text": [
      "INFO:nncf:NNCF initialized successfully. Supported frameworks detected: torch, tensorflow, onnx, openvino\n"
     ]
    }
   ],
   "source": [
    "import logging\n",
    "import nncf\n",
    "import openvino as ov\n",
    "\n",
    "nncf.set_log_level(logging.ERROR)\n",
    "\n",
    "core = ov.Core()\n",
    "\n",
    "def quantize_openvino_model(modality, calibration_data):\n",
    "    model_path = fp_model_paths[modality]\n",
    "    if not os.path.exists(model_path):\n",
    "        raise RuntimeError(f\"Model: {model_path} not found. \\\n",
    "                             First run 239-image-bind-convert notebook to convert model to OpenVINO IR.\")\n",
    "\n",
    "    model = core.read_model(model_path)\n",
    "    quantized_model = nncf.quantize(\n",
    "        model=model,\n",
    "        calibration_dataset=calibration_data,\n",
    "        model_type=nncf.ModelType.TRANSFORMER,\n",
    "        # remove ignored_scope for nncf>=2.6.0 (PR with fix https://github.com/openvinotoolkit/nncf/pull/1953)\n",
    "        ignored_scope=nncf.IgnoredScope(types=[\"ReduceL2\"])\n",
    "    )\n",
    "    ov.save_model(quantized_model, int8_model_paths[modality])\n",
    "    return quantized_model"
   ]
  },
  {
   "cell_type": "markdown",
   "id": "6e56bc39",
   "metadata": {},
   "source": [
    "Quantize ImageBind model for vision modality.\n",
    "\n",
    "> **NOTE**: Quantization is time and memory consuming operation. Running quantization code below may take a long time."
   ]
  },
  {
   "cell_type": "code",
   "execution_count": 9,
   "id": "3213f8b7",
   "metadata": {},
   "outputs": [
    {
     "name": "stderr",
     "output_type": "stream",
     "text": [
      "2023-10-26 13:34:25.166422: I tensorflow/core/util/port.cc:110] oneDNN custom operations are on. You may see slightly different numerical results due to floating-point round-off errors from different computation orders. To turn them off, set the environment variable `TF_ENABLE_ONEDNN_OPTS=0`.\n",
      "2023-10-26 13:34:25.203294: I tensorflow/core/platform/cpu_feature_guard.cc:182] This TensorFlow binary is optimized to use available CPU instructions in performance-critical operations.\n",
      "To enable the following instructions: AVX2 AVX512F AVX512_VNNI FMA, in other operations, rebuild TensorFlow with the appropriate compiler flags.\n",
      "2023-10-26 13:34:26.097309: W tensorflow/compiler/tf2tensorrt/utils/py_utils.cc:38] TF-TRT Warning: Could not find TensorRT\n",
      "Statistics collection: 100%|████████████████████████████████████████████████████████████████████████████████████████████████████████████████████████████████████████████████| 300/300 [01:18<00:00,  3.81it/s]\n",
      "Applying Smooth Quant: 100%|████████████████████████████████████████████████████████████████████████████████████████████████████████████████████████████████████████████████| 129/129 [00:13<00:00,  9.69it/s]\n",
      "Statistics collection: 100%|████████████████████████████████████████████████████████████████████████████████████████████████████████████████████████████████████████████████| 300/300 [03:03<00:00,  1.64it/s]\n",
      "Applying Fast Bias correction: 100%|████████████████████████████████████████████████████████████████████████████████████████████████████████████████████████████████████████| 128/128 [00:23<00:00,  5.54it/s]\n"
     ]
    }
   ],
   "source": [
    "if len(vision_data) == 0:\n",
    "    raise RuntimeError(\n",
    "        'Calibration dataset is empty. Please check internet connection and try to download images manually from the URLs above.'\n",
    "    )\n",
    "\n",
    "vision_dataset = nncf.Dataset(vision_data)\n",
    "vision_quantized_model = quantize_openvino_model(modality=ModalityType.VISION, calibration_data=vision_dataset)"
   ]
  },
  {
   "cell_type": "markdown",
   "id": "9db7cc5e",
   "metadata": {},
   "source": [
    "Quantize ImageBind model for text modality"
   ]
  },
  {
   "cell_type": "code",
   "execution_count": 10,
   "id": "7d5eba00",
   "metadata": {},
   "outputs": [
    {
     "name": "stderr",
     "output_type": "stream",
     "text": [
      "Statistics collection: 100%|████████████████████████████████████████████████████████████████████████████████████████████████████████████████████████████████████████████████| 300/300 [00:17<00:00, 16.82it/s]\n",
      "Applying Smooth Quant: 100%|██████████████████████████████████████████████████████████████████████████████████████████████████████████████████████████████████████████████████| 97/97 [00:06<00:00, 15.41it/s]\n",
      "Statistics collection: 100%|████████████████████████████████████████████████████████████████████████████████████████████████████████████████████████████████████████████████| 300/300 [00:50<00:00,  5.97it/s]\n",
      "Applying Fast Bias correction: 100%|████████████████████████████████████████████████████████████████████████████████████████████████████████████████████████████████████████| 120/120 [00:10<00:00, 11.06it/s]\n"
     ]
    }
   ],
   "source": [
    "text_dataset = nncf.Dataset(text_data)\n",
    "text_quantized_model = quantize_openvino_model(modality=ModalityType.TEXT, calibration_data=text_dataset)"
   ]
  },
  {
   "cell_type": "markdown",
   "id": "a27983fe",
   "metadata": {},
   "source": [
    "Quantize ImageBind model for audio modality"
   ]
  },
  {
   "cell_type": "code",
   "execution_count": 11,
   "id": "95540877",
   "metadata": {},
   "outputs": [
    {
     "name": "stderr",
     "output_type": "stream",
     "text": [
      "Repo card metadata block was not found. Setting CardData to empty.\n"
     ]
    },
    {
     "data": {
      "application/vnd.jupyter.widget-view+json": {
       "model_id": "91de671970d5430fa5051869b1a09464",
       "version_major": 2,
       "version_minor": 0
      },
      "text/plain": [
       "0it [00:00, ?it/s]"
      ]
     },
     "metadata": {},
     "output_type": "display_data"
    },
    {
     "name": "stderr",
     "output_type": "stream",
     "text": [
      "Statistics collection: 100%|████████████████████████████████████████████████████████████████████████████████████████████████████████████████████████████████████████████████| 300/300 [01:10<00:00,  4.26it/s]\n",
      "Applying Smooth Quant: 100%|██████████████████████████████████████████████████████████████████████████████████████████████████████████████████████████████████████████████████| 49/49 [00:01<00:00, 27.79it/s]\n",
      "Statistics collection: 100%|████████████████████████████████████████████████████████████████████████████████████████████████████████████████████████████████████████████████| 300/300 [01:21<00:00,  3.69it/s]\n",
      "Applying Fast Bias correction: 100%|██████████████████████████████████████████████████████████████████████████████████████████████████████████████████████████████████████████| 48/48 [00:03<00:00, 12.18it/s]\n"
     ]
    }
   ],
   "source": [
    "audio_calibration_data = prepare_audio_dataset()\n",
    "audio_dataset = nncf.Dataset(audio_calibration_data)\n",
    "audio_quantized_model = quantize_openvino_model(modality=ModalityType.AUDIO, calibration_data=audio_dataset)"
   ]
  },
  {
   "cell_type": "markdown",
   "id": "8af6d642",
   "metadata": {},
   "source": [
    "NNCF also supports quantization-aware training, and other algorithms than quantization.\n",
    "See the [NNCF documentation](https://github.com/openvinotoolkit/nncf/#documentation) in the NNCF repository for more information."
   ]
  },
  {
   "cell_type": "markdown",
   "id": "b0508c15",
   "metadata": {},
   "source": [
    "## Compare results for the OpenVINO FP16 model and the quantized model\n",
    "[back to top ⬆️](#Table-of-contents:)\n",
    "\n",
    "Compare the probability matrices for `FP16` and `INT8` models.\n",
    "More details about probability matrix can be found in [notebook](239-image-bind-convert.ipynb)."
   ]
  },
  {
   "cell_type": "code",
   "execution_count": 12,
   "id": "06d49203",
   "metadata": {},
   "outputs": [],
   "source": [
    "# Prepare inputs\n",
    "from imagebind.models.imagebind_model import ModalityType\n",
    "\n",
    "text_list = [\"A car\", \"A bird\", \"A dog\"]\n",
    "image_paths = [\".assets/dog_image.jpg\", \".assets/car_image.jpg\", \".assets/bird_image.jpg\"]\n",
    "audio_paths = [\".assets/dog_audio.wav\", \".assets/bird_audio.wav\", \".assets/car_audio.wav\"]\n",
    "\n",
    "inputs = {\n",
    "    ModalityType.TEXT: data.load_and_transform_text(text_list, \"cpu\"),\n",
    "    ModalityType.VISION: data.load_and_transform_vision_data(image_paths, \"cpu\"),\n",
    "    ModalityType.AUDIO: data.load_and_transform_audio_data(audio_paths, \"cpu\"),\n",
    "}"
   ]
  },
  {
   "cell_type": "markdown",
   "id": "cfab93b3-f01f-4fc7-ac64-2ffc68c070a9",
   "metadata": {},
   "source": [
    "### Select inference device\n",
    "[back to top ⬆️](#Table-of-contents:)\n",
    "\n",
    "select device from dropdown list for running inference using OpenVINO"
   ]
  },
  {
   "cell_type": "code",
   "execution_count": 13,
   "id": "059788af-9ec0-4808-aa60-dac04216f4a3",
   "metadata": {},
   "outputs": [
    {
     "data": {
      "application/vnd.jupyter.widget-view+json": {
       "model_id": "0f65e2986e2a4c73ac0828c503cff91a",
       "version_major": 2,
       "version_minor": 0
      },
      "text/plain": [
       "Dropdown(description='Device:', index=2, options=('CPU', 'GPU', 'AUTO'), value='AUTO')"
      ]
     },
     "execution_count": 13,
     "metadata": {},
     "output_type": "execute_result"
    }
   ],
   "source": [
    "import ipywidgets as widgets\n",
    "\n",
    "device = widgets.Dropdown(\n",
    "    options=core.available_devices + [\"AUTO\"],\n",
    "    value='AUTO',\n",
    "    description='Device:',\n",
    "    disabled=False,\n",
    ")\n",
    "\n",
    "device"
   ]
  },
  {
   "cell_type": "markdown",
   "id": "1de57780",
   "metadata": {},
   "source": [
    "Get embeddings of original models"
   ]
  },
  {
   "cell_type": "code",
   "execution_count": 14,
   "id": "82e8b0d3",
   "metadata": {},
   "outputs": [],
   "source": [
    "embeddings = {}\n",
    "for modality in modalities:\n",
    "    ov_model = core.compile_model(fp_model_paths[modality], device.value)\n",
    "    embeddings[modality] = ov_model(inputs[modality])[ov_model.output(0)]"
   ]
  },
  {
   "cell_type": "markdown",
   "id": "1dcf3317",
   "metadata": {},
   "source": [
    "Get embeddings of quantized models"
   ]
  },
  {
   "cell_type": "code",
   "execution_count": 15,
   "id": "995c089a",
   "metadata": {},
   "outputs": [],
   "source": [
    "quantized_embeddings = {}\n",
    "for modality in modalities:\n",
    "    model = core.compile_model(int8_model_paths[modality], device.value)\n",
    "    quantized_embeddings[modality] = model(inputs[modality])[model.output(0)]"
   ]
  },
  {
   "cell_type": "code",
   "execution_count": 16,
   "id": "7668461c",
   "metadata": {},
   "outputs": [],
   "source": [
    "import matplotlib.pyplot as plt\n",
    "from scipy.special import softmax\n",
    "\n",
    "def visualize_prob_matrices(fp_matrix, int_matrix, x_label, y_label):\n",
    "    fig, ax = plt.subplots(1, 2)\n",
    "    for i, matrix in enumerate([fp_matrix, int_matrix]):\n",
    "        ax[i].matshow(matrix, cmap='winter')\n",
    "\n",
    "        for (k, j), z in np.ndenumerate(matrix):\n",
    "            ax[i].title.set_text('FP16 probs' if i == 0 else 'INT8 probs')\n",
    "            ax[i].text(j, k, '{:0.3f}'.format(z), ha='center', va='center')\n",
    "            ax[i].set_xticks(range(len(x_label)), x_label)\n",
    "            ax[i].set_yticks(range(len(y_label)), y_label)\n",
    "    fig.tight_layout()\n",
    "\n",
    "image_list = [img.split('/')[-1] for img in image_paths]\n",
    "audio_list = [audio.split('/')[-1] for audio in audio_paths]"
   ]
  },
  {
   "cell_type": "code",
   "execution_count": 17,
   "id": "ca8620d1",
   "metadata": {},
   "outputs": [
    {
     "data": {
      "image/png": "[encoded data removed]",
      "text/plain": [
       "<Figure size 640x480 with 2 Axes>"
      ]
     },
     "metadata": {},
     "output_type": "display_data"
    }
   ],
   "source": [
    "fp_text_vision_scores = softmax(embeddings[ModalityType.VISION] @ embeddings[ModalityType.TEXT].T, axis=-1)\n",
    "int_text_vision_scores = softmax(quantized_embeddings[ModalityType.VISION] @ quantized_embeddings[ModalityType.TEXT].T, axis=-1)\n",
    "\n",
    "visualize_prob_matrices(fp_text_vision_scores, int_text_vision_scores, text_list, image_list)"
   ]
  },
  {
   "cell_type": "code",
   "execution_count": 18,
   "id": "5519db85",
   "metadata": {},
   "outputs": [
    {
     "data": {
      "image/png": "[encoded data removed]",
      "text/plain": [
       "<Figure size 640x480 with 2 Axes>"
      ]
     },
     "metadata": {},
     "output_type": "display_data"
    }
   ],
   "source": [
    "fp_text_audio_scores = softmax(embeddings[ModalityType.AUDIO] @ embeddings[ModalityType.TEXT].T, axis=-1)\n",
    "int_text_audio_scores = softmax(quantized_embeddings[ModalityType.AUDIO] @ quantized_embeddings[ModalityType.TEXT].T, axis=-1)\n",
    "\n",
    "visualize_prob_matrices(fp_text_audio_scores, int_text_audio_scores, text_list, image_list)"
   ]
  },
  {
   "cell_type": "code",
   "execution_count": 19,
   "id": "d11e9584",
   "metadata": {},
   "outputs": [
    {
     "data": {
      "image/png": "[encoded data removed]",
      "text/plain": [
       "<Figure size 640x480 with 2 Axes>"
      ]
     },
     "metadata": {},
     "output_type": "display_data"
    }
   ],
   "source": [
    "fp_audio_vision_scores = softmax(embeddings[ModalityType.VISION] @ embeddings[ModalityType.AUDIO].T, axis=-1)\n",
    "int_audio_vision_scores = softmax(quantized_embeddings[ModalityType.VISION] @ quantized_embeddings[ModalityType.AUDIO].T, axis=-1)\n",
    "\n",
    "visualize_prob_matrices(fp_audio_vision_scores, int_audio_vision_scores, text_list, image_list)"
   ]
  },
  {
   "cell_type": "markdown",
   "id": "c5173300",
   "metadata": {},
   "source": [
    "#### Compare File Size\n",
    "[back to top ⬆️](#Table-of-contents:)\n"
   ]
  },
  {
   "cell_type": "code",
   "execution_count": 20,
   "id": "d87de6af",
   "metadata": {},
   "outputs": [],
   "source": [
    "def calculate_compression_rate(modality):\n",
    "    fp16_ir_model_size = Path(fp_model_paths[modality]).with_suffix(\".bin\").stat().st_size / 1024\n",
    "    quantized_model_size = Path(int8_model_paths[modality]).with_suffix(\".bin\").stat().st_size / 1024\n",
    "    print(f'Modality: {modality}')\n",
    "    print(f\"    * FP16 IR model size: {fp16_ir_model_size:.2f} KB\")\n",
    "    print(f\"    * INT8 model size: {quantized_model_size:.2f} KB\")\n",
    "    print(f\"    * Model compression rate: {fp16_ir_model_size / quantized_model_size:.3f}\")"
   ]
  },
  {
   "cell_type": "code",
   "execution_count": 21,
   "id": "3d673a2c",
   "metadata": {},
   "outputs": [
    {
     "name": "stdout",
     "output_type": "stream",
     "text": [
      "Modality: text\n",
      "    * FP16 IR model size: 691481.77 KB\n",
      "    * INT8 model size: 347007.35 KB\n",
      "    * Model compression rate: 1.993\n",
      "Modality: vision\n",
      "    * FP16 IR model size: 1235995.26 KB\n",
      "    * INT8 model size: 620133.72 KB\n",
      "    * Model compression rate: 1.993\n",
      "Modality: audio\n",
      "    * FP16 IR model size: 168429.22 KB\n",
      "    * INT8 model size: 84818.78 KB\n",
      "    * Model compression rate: 1.986\n"
     ]
    }
   ],
   "source": [
    "for modality in modalities:\n",
    "    calculate_compression_rate(modality)"
   ]
  },
  {
   "cell_type": "markdown",
   "id": "5c5bd231",
   "metadata": {},
   "source": [
    "#### Compare inference time of the FP16 IR and quantized models\n",
    "[back to top ⬆️](#Table-of-contents:)\n",
    "\n",
    "To measure the inference performance of the `FP16` and `INT8` models, we use median inference time on calibration dataset.\n",
    "So we can approximately estimate the speed up of the dynamic quantized models.\n",
    "\n",
    "\n",
    "> **NOTE**: For the most accurate performance estimation, it is recommended to run `benchmark_app` in a terminal/command prompt after closing other applications with static shapes."
   ]
  },
  {
   "cell_type": "code",
   "execution_count": 22,
   "id": "92ce5218",
   "metadata": {},
   "outputs": [],
   "source": [
    "import time\n",
    "\n",
    "def calculate_inference_time(model_path, calibration_data):\n",
    "    model = core.compile_model(model_path)\n",
    "    output_layer = model.output(0)\n",
    "    inference_time = []\n",
    "    for batch in calibration_data:\n",
    "        start = time.perf_counter()\n",
    "        _ = model(batch)[output_layer]\n",
    "        end = time.perf_counter()\n",
    "        delta = end - start\n",
    "        inference_time.append(delta)\n",
    "    return np.median(inference_time)"
   ]
  },
  {
   "cell_type": "markdown",
   "id": "108e7533",
   "metadata": {},
   "source": [
    "Vision model"
   ]
  },
  {
   "cell_type": "code",
   "execution_count": 23,
   "id": "8c59a370",
   "metadata": {},
   "outputs": [
    {
     "name": "stdout",
     "output_type": "stream",
     "text": [
      "Performance speed up: 2.040\n"
     ]
    }
   ],
   "source": [
    "fp16_latency = calculate_inference_time(fp_model_paths[ModalityType.VISION], vision_data)\n",
    "int8_latency = calculate_inference_time(int8_model_paths[ModalityType.VISION], vision_data)\n",
    "print(f\"Performance speed up: {fp16_latency / int8_latency:.3f}\")"
   ]
  },
  {
   "cell_type": "markdown",
   "id": "4775b72a",
   "metadata": {},
   "source": [
    "Text model"
   ]
  },
  {
   "cell_type": "code",
   "execution_count": 24,
   "id": "8ef63bf6",
   "metadata": {},
   "outputs": [
    {
     "name": "stdout",
     "output_type": "stream",
     "text": [
      "Performance speed up: 1.404\n"
     ]
    }
   ],
   "source": [
    "fp16_latency = calculate_inference_time(fp_model_paths[ModalityType.TEXT], text_data)\n",
    "int8_latency = calculate_inference_time(int8_model_paths[ModalityType.TEXT], text_data)\n",
    "print(f\"Performance speed up: {fp16_latency / int8_latency:.3f}\")"
   ]
  },
  {
   "cell_type": "markdown",
   "id": "d1d075b5",
   "metadata": {},
   "source": [
    "Audio model"
   ]
  },
  {
   "cell_type": "code",
   "execution_count": 25,
   "id": "88ed82c6",
   "metadata": {},
   "outputs": [
    {
     "name": "stdout",
     "output_type": "stream",
     "text": [
      "Performance speed up: 5.713\n"
     ]
    }
   ],
   "source": [
    "fp16_latency = calculate_inference_time(fp_model_paths[ModalityType.AUDIO], audio_calibration_data)\n",
    "int8_latency = calculate_inference_time(int8_model_paths[ModalityType.AUDIO], audio_calibration_data)\n",
    "print(f\"Performance speed up: {fp16_latency / int8_latency:.3f}\")"
   ]
  }
 ],
 "metadata": {
  "kernelspec": {
   "display_name": "Python 3 (ipykernel)",
   "language": "python",
   "name": "python3"
  },
  "language_info": {
   "codemirror_mode": {
    "name": "ipython",
    "version": 3
   },
   "file_extension": ".py",
   "mimetype": "text/x-python",
   "name": "python",
   "nbconvert_exporter": "python",
   "pygments_lexer": "ipython3",
   "version": "3.8.10"
  },
  "openvino_notebooks": {
   "imageUrl": "https://user-images.githubusercontent.com/29454499/240364108-39868933-d221-41e6-9b2e-dac1b14ef32f.png",
   "tags": {
    "categories": [
     "Model Demos",
     "AI Trends"
    ],
    "libraries": [],
    "other": [],
    "tasks": [
     "Feature Extraction",
     "Zero-Shot Image Classification",
     "Audio Classification"
    ]
   }
  },
  "widgets": {
   "application/vnd.jupyter.widget-state+json": {
    "state": {},
    "version_major": 2,
    "version_minor": 0
   }
  }
 },
 "nbformat": 4,
 "nbformat_minor": 5
}
