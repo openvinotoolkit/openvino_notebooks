{
 "cells": [
  {
   "cell_type": "markdown",
   "id": "4ad832c5-71db-456f-9702-fb8f3b489e46",
   "metadata": {},
   "source": [
    "# Post-Training Quantization of ImageBind model with NNCF\n",
    "\n",
    "The goal of this tutorial is to demonstrate how to speed up the model by applying 8-bit post-training quantization from [NNCF](https://github.com/openvinotoolkit/nncf/) (Neural Network Compression Framework) and infer quantized model via OpenVINO™ Toolkit. \n",
    "\n",
    "The optimization process contains the following steps:\n",
    "1. Quantize converted OpenVINO model from [notebook](239-image-bind-convert.ipynb) with NNCF.\n",
    "2. Compare probability matrices between converted and quantized models on input data examples.\n",
    "3. Compare model size of converted and quantized models.\n",
    "4. Compare performance of converted and quantized models.\n",
    "\n",
    "> **NOTE**: you should run [239-image-bind-convert](239-image-bind-convert.ipynb) notebook first to generate OpenVINO IR models that are used for quantization.\n"
   ]
  },
  {
   "cell_type": "markdown",
   "id": "57ec0370",
   "metadata": {},
   "source": [
    "### Table of content:\n",
    "- [Prerequisites](#Prerequisites-Uparrow)\n",
    "- [Create and initialize quantization](#Create-and-initialize-quantization-Uparrow)\n",
    "    - [Prepare datasets](#Prepare-datasets-Uparrow)\n",
    "- [Compare results for the OpenVINO FP16 model and the quantized model](#Compare-results-for-the-OpenVINO-FP16-model-and-the-quantized-model-Uparrow)\n",
    "    - [Select inference device](#Select-inference-device-Uparrow)\n",
    "        - [Compare File Size](#Compare-File-Size-Uparrow)\n",
    "        - [Compare inference time of the FP16 IR and quantized models](#Compare-inference-time-of-the-FP16-IR-and-quantized-models-Uparrow)"
   ]
  },
  {
   "cell_type": "markdown",
   "id": "5487fe23-6122-47ca-9c29-3beb7802b292",
   "metadata": {},
   "source": [
    "## Prerequisites [$\\Uparrow$](#Table-of-content:)\n"
   ]
  },
  {
   "cell_type": "code",
   "execution_count": 1,
   "id": "13473357",
   "metadata": {},
   "outputs": [],
   "source": [
    "%pip install -q datasets librosa soundfile \"openvino>=2023.1.0\" \"nncf\""
   ]
  },
  {
   "cell_type": "code",
   "execution_count": 1,
   "id": "e1a60d45",
   "metadata": {},
   "outputs": [
    {
     "name": "stdout",
     "output_type": "stream",
     "text": [
      "/home/ltalamanova/openvino_notebooks/notebooks/239-image-bind/ImageBind\n"
     ]
    }
   ],
   "source": [
    "from pathlib import Path\n",
    "\n",
    "repo_dir = Path(\"ImageBind\")\n",
    "\n",
    "if not repo_dir.exists():\n",
    "    raise RuntimeError('This notebook should be run after 239-image-bind-convert notebook')\n",
    "\n",
    "%cd {repo_dir}"
   ]
  },
  {
   "cell_type": "markdown",
   "id": "488397fd",
   "metadata": {},
   "source": [
    "## Create and initialize quantization [$\\Uparrow$](#Table-of-content:)\n",
    "\n",
    "[NNCF](https://github.com/openvinotoolkit/nncf/) enables post-training quantization by adding the quantization layers into the model graph and then using a subset of the training dataset to initialize the parameters of these additional quantization layers. The framework is designed so that modifications to your original training code are minor. Quantization is the simplest scenario and requires a few modifications.\n",
    "\n",
    "The optimization process contains the following steps:\n",
    "1. Create a Dataset for quantization.\n",
    "2. Run `nncf.quantize` for getting a quantized model.\n",
    "3. Serialize the `INT8` model using `openvino.save_model` function."
   ]
  },
  {
   "cell_type": "code",
   "execution_count": 2,
   "id": "810e2dd7",
   "metadata": {},
   "outputs": [],
   "source": [
    "from pathlib import Path\n",
    "from imagebind.models.imagebind_model import ModalityType\n",
    "\n",
    "modalities = [ModalityType.TEXT, ModalityType.VISION, ModalityType.AUDIO]\n",
    "fp_model_paths = {modality: Path(f\"image-bind-{modality}\") / f\"image-bind-{modality}.xml\" for modality in modalities}\n",
    "int8_model_paths = {modality: Path(f\"image-bind-{modality}\") / f\"image-bind-{modality}_int8.xml\" for modality in modalities}"
   ]
  },
  {
   "cell_type": "markdown",
   "id": "f261e6a4",
   "metadata": {},
   "source": [
    "### Prepare datasets [$\\Uparrow$](#Table-of-content:)\n"
   ]
  },
  {
   "cell_type": "markdown",
   "id": "65d8d559",
   "metadata": {},
   "source": [
    "The [Conceptual Captions](https://ai.google.com/research/ConceptualCaptions/) dataset consisting of ~3.3M images annotated with captions. Dataset is used to quantize image and text models."
   ]
  },
  {
   "cell_type": "code",
   "execution_count": 4,
   "id": "40d71747",
   "metadata": {},
   "outputs": [],
   "source": [
    "import imagebind.data as data\n",
    "import os\n",
    "import requests\n",
    "import tempfile\n",
    "\n",
    "from requests.packages.urllib3.exceptions import InsecureRequestWarning\n",
    "requests.packages.urllib3.disable_warnings(InsecureRequestWarning)\n",
    "\n",
    "def check_text_data(data):\n",
    "    \"\"\"\n",
    "    Check if the given data is text-based.\n",
    "    \"\"\"\n",
    "    if isinstance(data, str):\n",
    "        return True\n",
    "    if isinstance(data, list):\n",
    "        return all(isinstance(x, str) for x in data)\n",
    "    return False\n",
    "\n",
    "def collate_fn(examples, image_column=\"image_url\", text_column=\"caption\"):\n",
    "    \"\"\"\n",
    "    Collates examples into a batch for processing.\n",
    "    Preprocesses each example by loading and transforming image and text data.\n",
    "    Checks if the text data in the example is valid by calling the `check_text_data` function.\n",
    "    Downloads the image specified by the URL in the image_column of the example dictionary.\n",
    "    Constructs and returns a dictionary representing the collated batch with the following keys:\n",
    "       - \"pixel_values\": The pixel values of the preprocessed example.\n",
    "       - \"input_ids\": The transformed text data of the preprocessed example.\n",
    "    \"\"\"\n",
    "    assert len(examples) == 1\n",
    "    example = examples[0]\n",
    "    if not check_text_data(example[text_column]):\n",
    "        raise ValueError(\"Text data is not valid\")\n",
    "\n",
    "    url = example[image_column]\n",
    "    with tempfile.TemporaryDirectory() as tempdir:\n",
    "        f_name = os.path.join(tempdir, 'image.jpg')\n",
    "        try:\n",
    "            response = requests.get(url, verify=False, timeout=20)\n",
    "            with open(f_name, \"wb\") as file:\n",
    "                file.write(response.content)\n",
    "            pixel_values = data.load_and_transform_vision_data([f_name], \"cpu\")\n",
    "        except Exception:\n",
    "            print(f\"Can't load image from url: {url}\")\n",
    "            return None\n",
    "\n",
    "    text = data.load_and_transform_text([example[text_column]], \"cpu\")\n",
    "\n",
    "    return {\n",
    "        \"pixel_values\": pixel_values,\n",
    "        \"input_ids\": text\n",
    "    }"
   ]
  },
  {
   "cell_type": "code",
   "execution_count": 7,
   "id": "befc2204",
   "metadata": {},
   "outputs": [],
   "source": [
    "from datasets import load_dataset\n",
    "import itertools\n",
    "import torch\n",
    "\n",
    "def collect_vision_text_data(dataloader, init_steps):\n",
    "    \"\"\"\n",
    "    This function collects vision and text data from a dataloader for a specified number of initialization steps.\n",
    "    It iterates over the dataloader, fetching batches and storing the relevant vision and text data.\n",
    "    Returns a tuple containing the collected vision_data and text_data lists.\n",
    "    \"\"\"\n",
    "    text_data = []\n",
    "    vision_data = []\n",
    "    print(f\"Fetching {init_steps} for the initialization...\")\n",
    "    counter = 0\n",
    "    for batch in dataloader:\n",
    "        if counter == init_steps:\n",
    "            break\n",
    "        with torch.no_grad():\n",
    "            if batch:\n",
    "                counter += 1\n",
    "                text_data.append(batch[\"input_ids\"].to(\"cpu\"))\n",
    "                vision_data.append(batch[\"pixel_values\"].to(\"cpu\"))\n",
    "    return vision_data, text_data\n",
    "\n",
    "def prepare_vision_text_dataset(opt_init_steps=300):\n",
    "    \"\"\"\n",
    "    Prepares a vision-text dataset for quantization by collecting vision and text data.\n",
    "    \"\"\"\n",
    "    dataset = load_dataset(\"conceptual_captions\", streaming=True)\n",
    "    train_dataset = dataset[\"train\"].shuffle(seed=0)\n",
    "    dataloader = torch.utils.data.DataLoader(train_dataset, collate_fn=collate_fn, batch_size=1)\n",
    "    vision_data, text_data = collect_vision_text_data(dataloader, opt_init_steps)\n",
    "    return vision_data, text_data"
   ]
  },
  {
   "cell_type": "markdown",
   "id": "3c0f6587",
   "metadata": {},
   "source": [
    "The [`ESC-50`](https://github.com/karolpiczak/ESC-50) dataset is used to quantize the audio modality of the ImageBind model.\n",
    "Dataset is a labeled collection of 2000 environmental audio recordings suitable for benchmarking methods of environmental sound classification.\n",
    "The dataset consists of 5-second-long recordings organized into 50 semantic classes."
   ]
  },
  {
   "cell_type": "code",
   "execution_count": 5,
   "id": "2a2d4357",
   "metadata": {},
   "outputs": [],
   "source": [
    "import numpy as np\n",
    "import torchaudio\n",
    "\n",
    "def collect_audio_data(dataloader, init_steps=300):\n",
    "    \"\"\"\n",
    "    This function collects audio data from a dataloader for a specified number of initialization steps.\n",
    "    It iterates over the dataloader, fetching batches and storing them in a list.\n",
    "    \"\"\"\n",
    "    audio_data = []\n",
    "    for _, batch in zip(range(init_steps), itertools.islice(dataloader, 0, init_steps)):\n",
    "        with torch.no_grad():\n",
    "            audio_data.append(batch)\n",
    "    return audio_data\n",
    "\n",
    "def prepare_audio_dataset():\n",
    "    \"\"\"\n",
    "    Prepares an \"ashraq/50\" audio dataset for quantization by collecting audio data.\n",
    "    Collects audio data from the dataloader by calling the `collect_audio_data` function.\n",
    "    Returns a list containing the collected calibration audio data batches.\n",
    "    \"\"\"\n",
    "    audio_dataset = load_dataset(\"ashraq/50\", \"clean\", streaming=True)\n",
    "    train_dataset = audio_dataset[\"train\"].shuffle(seed=42, buffer_size=1000)\n",
    "\n",
    "    def collate_fn(examples):\n",
    "        assert len(examples) == 1\n",
    "        with tempfile.TemporaryDirectory() as tempdir:\n",
    "            f_name = os.path.join(tempdir, 'audio.wav')\n",
    "            audio_data = torch.from_numpy(examples[0]['audio']['array'].astype(np.float32)).unsqueeze(0)\n",
    "            torchaudio.save(f_name, audio_data, examples[0]['audio']['sampling_rate'])\n",
    "            return data.load_and_transform_audio_data([f_name], \"cpu\")\n",
    "\n",
    "    dataloader = torch.utils.data.DataLoader(train_dataset, collate_fn=collate_fn, batch_size=1)\n",
    "    calibration_data = collect_audio_data(dataloader)\n",
    "    return calibration_data"
   ]
  },
  {
   "cell_type": "markdown",
   "id": "768c5f5f",
   "metadata": {},
   "source": [
    "Create a quantized model from the pre-trained `FP16` model."
   ]
  },
  {
   "cell_type": "code",
   "execution_count": null,
   "id": "4137cd4b",
   "metadata": {},
   "outputs": [],
   "source": [
    "vision_data, text_data = prepare_vision_text_dataset()"
   ]
  },
  {
   "cell_type": "code",
   "execution_count": null,
   "id": "1d6e9780",
   "metadata": {},
   "outputs": [],
   "source": [
    "import logging\n",
    "import nncf\n",
    "import openvino as ov\n",
    "\n",
    "nncf.set_log_level(logging.ERROR)\n",
    "\n",
    "core = ov.Core()\n",
    "\n",
    "def quantize_openvino_model(modality, calibration_data):\n",
    "    model_path = fp_model_paths[modality]\n",
    "    if not os.path.exists(model_path):\n",
    "        raise RuntimeError(f\"Model: {model_path} not found. \\\n",
    "                             First run 239-image-bind-convert notebook to convert model to OpenVINO IR.\")\n",
    "\n",
    "    model = core.read_model(model_path)\n",
    "    quantized_model = nncf.quantize(\n",
    "        model=model,\n",
    "        calibration_dataset=calibration_data,\n",
    "        model_type=nncf.ModelType.TRANSFORMER,\n",
    "        # remove ignored_scope for nncf>=2.6.0 (PR with fix https://github.com/openvinotoolkit/nncf/pull/1953)\n",
    "        ignored_scope=nncf.IgnoredScope(types=[\"ReduceL2\"])\n",
    "    )\n",
    "    ov.save_model(quantized_model, int8_model_paths[modality])\n",
    "    return quantized_model"
   ]
  },
  {
   "cell_type": "markdown",
   "id": "6e56bc39",
   "metadata": {},
   "source": [
    "Quantize ImageBind model for vision modality.\n",
    "\n",
    "> **NOTE**: Quantization is time and memory consuming operation. Running quantization code below may take a long time."
   ]
  },
  {
   "cell_type": "code",
   "execution_count": 10,
   "id": "3213f8b7",
   "metadata": {},
   "outputs": [
    {
     "name": "stderr",
     "output_type": "stream",
     "text": [
      "Statistics collection: 100%|██████████| 300/300 [00:58<00:00,  5.16it/s]\n",
      "Statistics collection: 100%|██████████| 300/300 [02:56<00:00,  1.70it/s]\n",
      "Applying Fast Bias correction: 100%|██████████| 128/128 [03:17<00:00,  1.54s/it]\n"
     ]
    }
   ],
   "source": [
    "if len(vision_data) == 0:\n",
    "    raise RuntimeError(\n",
    "        'Calibration dataset is empty. Please check internet connection and try to download images manually from the URLs above.'\n",
    "    )\n",
    "\n",
    "vision_dataset = nncf.Dataset(vision_data)\n",
    "vision_quantized_model = quantize_openvino_model(modality=ModalityType.VISION, calibration_data=vision_dataset)"
   ]
  },
  {
   "cell_type": "markdown",
   "id": "9db7cc5e",
   "metadata": {},
   "source": [
    "Quantize ImageBind model for text modality"
   ]
  },
  {
   "cell_type": "code",
   "execution_count": 11,
   "id": "7d5eba00",
   "metadata": {},
   "outputs": [
    {
     "name": "stderr",
     "output_type": "stream",
     "text": [
      "Statistics collection: 100%|██████████| 300/300 [00:12<00:00, 24.32it/s]\n",
      "Statistics collection: 100%|██████████| 300/300 [00:52<00:00,  5.67it/s]\n",
      "Applying Fast Bias correction: 100%|██████████| 120/120 [01:35<00:00,  1.26it/s]\n"
     ]
    }
   ],
   "source": [
    "text_dataset = nncf.Dataset(text_data)\n",
    "text_quantized_model = quantize_openvino_model(modality=ModalityType.TEXT, calibration_data=text_dataset)"
   ]
  },
  {
   "cell_type": "markdown",
   "id": "a27983fe",
   "metadata": {},
   "source": [
    "Quantize ImageBind model for audio modality"
   ]
  },
  {
   "cell_type": "code",
   "execution_count": 12,
   "id": "95540877",
   "metadata": {},
   "outputs": [
    {
     "name": "stderr",
     "output_type": "stream",
     "text": [
      "Statistics collection: 100%|██████████| 300/300 [00:57<00:00,  5.19it/s]\n",
      "Statistics collection: 100%|██████████| 300/300 [01:45<00:00,  2.84it/s]\n",
      "Applying Fast Bias correction: 100%|██████████| 48/48 [00:27<00:00,  1.74it/s]\n"
     ]
    }
   ],
   "source": [
    "audio_calibration_data = prepare_audio_dataset()\n",
    "audio_dataset = nncf.Dataset(audio_calibration_data)\n",
    "audio_quantized_model = quantize_openvino_model(modality=ModalityType.AUDIO, calibration_data=audio_dataset)"
   ]
  },
  {
   "cell_type": "markdown",
   "id": "8af6d642",
   "metadata": {},
   "source": [
    "NNCF also supports quantization-aware training, and other algorithms than quantization.\n",
    "See the [NNCF documentation](https://github.com/openvinotoolkit/nncf/#documentation) in the NNCF repository for more information."
   ]
  },
  {
   "cell_type": "markdown",
   "id": "b0508c15",
   "metadata": {},
   "source": [
    "## Compare results for the OpenVINO FP16 model and the quantized model [$\\Uparrow$](#Table-of-content:)\n",
    "\n",
    "Compare the probability matrices for `FP16` and `INT8` models.\n",
    "More details about probability matrix can be found in [notebook](239-image-bind-convert.ipynb)."
   ]
  },
  {
   "cell_type": "code",
   "execution_count": 13,
   "id": "06d49203",
   "metadata": {},
   "outputs": [],
   "source": [
    "# Prepare inputs\n",
    "from imagebind.models.imagebind_model import ModalityType\n",
    "\n",
    "text_list = [\"A car\", \"A bird\", \"A dog\"]\n",
    "image_paths = [\".assets/dog_image.jpg\", \".assets/car_image.jpg\", \".assets/bird_image.jpg\"]\n",
    "audio_paths = [\".assets/dog_audio.wav\", \".assets/bird_audio.wav\", \".assets/car_audio.wav\"]\n",
    "\n",
    "inputs = {\n",
    "    ModalityType.TEXT: data.load_and_transform_text(text_list, \"cpu\"),\n",
    "    ModalityType.VISION: data.load_and_transform_vision_data(image_paths, \"cpu\"),\n",
    "    ModalityType.AUDIO: data.load_and_transform_audio_data(audio_paths, \"cpu\"),\n",
    "}"
   ]
  },
  {
   "cell_type": "markdown",
   "id": "cfab93b3-f01f-4fc7-ac64-2ffc68c070a9",
   "metadata": {},
   "source": [
    "### Select inference device [$\\Uparrow$](#Table-of-content:)\n",
    "\n",
    "select device from dropdown list for running inference using OpenVINO"
   ]
  },
  {
   "cell_type": "code",
   "execution_count": null,
   "id": "059788af-9ec0-4808-aa60-dac04216f4a3",
   "metadata": {},
   "outputs": [],
   "source": [
    "import ipywidgets as widgets\n",
    "\n",
    "device = widgets.Dropdown(\n",
    "    options=core.available_devices + [\"AUTO\"],\n",
    "    value='AUTO',\n",
    "    description='Device:',\n",
    "    disabled=False,\n",
    ")\n",
    "\n",
    "device"
   ]
  },
  {
   "cell_type": "markdown",
   "id": "1de57780",
   "metadata": {},
   "source": [
    "Get embeddings of original models"
   ]
  },
  {
   "cell_type": "code",
   "execution_count": 14,
   "id": "82e8b0d3",
   "metadata": {},
   "outputs": [],
   "source": [
    "embeddings = {}\n",
    "for modality in modalities:\n",
    "    ov_model = core.compile_model(fp_model_paths[modality], device.value)\n",
    "    embeddings[modality] = ov_model(inputs[modality])[ov_model.output(0)]"
   ]
  },
  {
   "cell_type": "markdown",
   "id": "1dcf3317",
   "metadata": {},
   "source": [
    "Get embeddings of quantized models"
   ]
  },
  {
   "cell_type": "code",
   "execution_count": 15,
   "id": "995c089a",
   "metadata": {},
   "outputs": [],
   "source": [
    "quantized_embeddings = {}\n",
    "for modality in modalities:\n",
    "    model = compile_model(int8_model_paths[modality], device.value)\n",
    "    quantized_embeddings[modality] = model(inputs[modality])[model.output(0)]"
   ]
  },
  {
   "cell_type": "code",
   "execution_count": 16,
   "id": "7668461c",
   "metadata": {},
   "outputs": [],
   "source": [
    "import matplotlib.pyplot as plt\n",
    "from scipy.special import softmax\n",
    "\n",
    "def visualize_prob_matrices(fp_matrix, int_matrix, x_label, y_label):\n",
    "    fig, ax = plt.subplots(1, 2)\n",
    "    for i, matrix in enumerate([fp_matrix, int_matrix]):\n",
    "        ax[i].matshow(matrix, cmap='winter')\n",
    "\n",
    "        for (k, j), z in np.ndenumerate(matrix):\n",
    "            ax[i].title.set_text('FP16 probs' if i == 0 else 'INT8 probs')\n",
    "            ax[i].text(j, k, '{:0.3f}'.format(z), ha='center', va='center')\n",
    "            ax[i].set_xticks(range(len(x_label)), x_label)\n",
    "            ax[i].set_yticks(range(len(y_label)), y_label)\n",
    "    fig.tight_layout()\n",
    "\n",
    "image_list = [img.split('/')[-1] for img in image_paths]\n",
    "audio_list = [audio.split('/')[-1] for audio in audio_paths]"
   ]
  },
  {
   "cell_type": "code",
   "execution_count": 17,
   "id": "ca8620d1",
   "metadata": {},
   "outputs": [
    {
     "data": {
      "image/png": "[encoded data removed]",
      "text/plain": [
       "<Figure size 640x480 with 2 Axes>"
      ]
     },
     "metadata": {},
     "output_type": "display_data"
    }
   ],
   "source": [
    "fp_text_vision_scores = softmax(embeddings[ModalityType.VISION] @ embeddings[ModalityType.TEXT].T, axis=-1)\n",
    "int_text_vision_scores = softmax(quantized_embeddings[ModalityType.VISION] @ quantized_embeddings[ModalityType.TEXT].T, axis=-1)\n",
    "\n",
    "visualize_prob_matrices(fp_text_vision_scores, int_text_vision_scores, text_list, image_list)"
   ]
  },
  {
   "cell_type": "code",
   "execution_count": 18,
   "id": "5519db85",
   "metadata": {},
   "outputs": [
    {
     "data": {
      "image/png": "[encoded data removed]",
      "text/plain": [
       "<Figure size 640x480 with 2 Axes>"
      ]
     },
     "metadata": {},
     "output_type": "display_data"
    }
   ],
   "source": [
    "fp_text_audio_scores = softmax(embeddings[ModalityType.AUDIO] @ embeddings[ModalityType.TEXT].T, axis=-1)\n",
    "int_text_audio_scores = softmax(quantized_embeddings[ModalityType.AUDIO] @ quantized_embeddings[ModalityType.TEXT].T, axis=-1)\n",
    "\n",
    "visualize_prob_matrices(fp_text_audio_scores, int_text_audio_scores, text_list, image_list)"
   ]
  },
  {
   "cell_type": "code",
   "execution_count": 19,
   "id": "d11e9584",
   "metadata": {},
   "outputs": [
    {
     "data": {
      "image/png": "[encoded data removed]",
      "text/plain": [
       "<Figure size 640x480 with 2 Axes>"
      ]
     },
     "metadata": {},
     "output_type": "display_data"
    }
   ],
   "source": [
    "fp_audio_vision_scores = softmax(embeddings[ModalityType.VISION] @ embeddings[ModalityType.AUDIO].T, axis=-1)\n",
    "int_audio_vision_scores = softmax(quantized_embeddings[ModalityType.VISION] @ quantized_embeddings[ModalityType.AUDIO].T, axis=-1)\n",
    "\n",
    "visualize_prob_matrices(fp_audio_vision_scores, int_audio_vision_scores, text_list, image_list)"
   ]
  },
  {
   "cell_type": "markdown",
   "id": "c5173300",
   "metadata": {},
   "source": [
    "#### Compare File Size [$\\Uparrow$](#Table-of-content:)\n"
   ]
  },
  {
   "cell_type": "code",
   "execution_count": 16,
   "id": "d87de6af",
   "metadata": {},
   "outputs": [],
   "source": [
    "def calculate_compression_rate(modality):\n",
    "    fp16_ir_model_size = Path(fp_model_paths[modality]).with_suffix(\".bin\").stat().st_size / 1024\n",
    "    quantized_model_size = Path(int8_model_paths[modality]).with_suffix(\".bin\").stat().st_size / 1024\n",
    "    print(f'Modality: {modality}')\n",
    "    print(f\"    * FP16 IR model size: {fp16_ir_model_size:.2f} KB\")\n",
    "    print(f\"    * INT8 model size: {quantized_model_size:.2f} KB\")\n",
    "    print(f\"    * Model compression rate: {fp16_ir_model_size / quantized_model_size:.3f}\")"
   ]
  },
  {
   "cell_type": "code",
   "execution_count": 17,
   "id": "3d673a2c",
   "metadata": {},
   "outputs": [
    {
     "name": "stdout",
     "output_type": "stream",
     "text": [
      "Modality: text\n",
      "    * FP16 IR model size: 691481.76 KB\n",
      "    * INT8 model size: 396414.89 KB\n",
      "    * Model compression rate: 1.744\n",
      "Modality: vision\n",
      "    * FP16 IR model size: 1235995.30 KB\n",
      "    * INT8 model size: 620295.82 KB\n",
      "    * Model compression rate: 1.993\n",
      "Modality: audio\n",
      "    * FP16 IR model size: 168429.25 KB\n",
      "    * INT8 model size: 84856.83 KB\n",
      "    * Model compression rate: 1.985\n"
     ]
    }
   ],
   "source": [
    "for modality in modalities:\n",
    "    calculate_compression_rate(modality)"
   ]
  },
  {
   "cell_type": "markdown",
   "id": "5c5bd231",
   "metadata": {},
   "source": [
    "#### Compare inference time of the FP16 IR and quantized models [$\\Uparrow$](#Table-of-content:)\n",
    "To measure the inference performance of the `FP16` and `INT8` models, we use median inference time on calibration dataset.\n",
    "So we can approximately estimate the speed up of the dynamic quantized models.\n",
    "\n",
    "\n",
    "> **NOTE**: For the most accurate performance estimation, it is recommended to run `benchmark_app` in a terminal/command prompt after closing other applications with static shapes."
   ]
  },
  {
   "cell_type": "code",
   "execution_count": 18,
   "id": "92ce5218",
   "metadata": {},
   "outputs": [],
   "source": [
    "import time\n",
    "\n",
    "def calculate_inference_time(model_path, calibration_data):\n",
    "    model = compile_model(model_path)\n",
    "    output_layer = model.output(0)\n",
    "    inference_time = []\n",
    "    for batch in calibration_data:\n",
    "        start = time.perf_counter()\n",
    "        _ = model(batch)[output_layer]\n",
    "        end = time.perf_counter()\n",
    "        delta = end - start\n",
    "        inference_time.append(delta)\n",
    "    return np.median(inference_time)"
   ]
  },
  {
   "cell_type": "markdown",
   "id": "108e7533",
   "metadata": {},
   "source": [
    "Vision model"
   ]
  },
  {
   "cell_type": "code",
   "execution_count": null,
   "id": "8c59a370",
   "metadata": {},
   "outputs": [
    {
     "name": "stdout",
     "output_type": "stream",
     "text": [
      "Performance speed up: 1.121\n"
     ]
    }
   ],
   "source": [
    "fp16_latency = calculate_inference_time(fp_model_paths[ModalityType.VISION], vision_data)\n",
    "int8_latency = calculate_inference_time(int8_model_paths[ModalityType.VISION], vision_data)\n",
    "print(f\"Performance speed up: {fp16_latency / int8_latency:.3f}\")"
   ]
  },
  {
   "cell_type": "markdown",
   "id": "4775b72a",
   "metadata": {},
   "source": [
    "Text model"
   ]
  },
  {
   "cell_type": "code",
   "execution_count": 77,
   "id": "8ef63bf6",
   "metadata": {},
   "outputs": [
    {
     "name": "stdout",
     "output_type": "stream",
     "text": [
      "Performance speed up: 1.064\n"
     ]
    }
   ],
   "source": [
    "fp16_latency = calculate_inference_time(fp_model_paths[ModalityType.TEXT], text_data)\n",
    "int8_latency = calculate_inference_time(int8_model_paths[ModalityType.TEXT], text_data)\n",
    "print(f\"Performance speed up: {fp16_latency / int8_latency:.3f}\")"
   ]
  },
  {
   "cell_type": "markdown",
   "id": "d1d075b5",
   "metadata": {},
   "source": [
    "Audio model"
   ]
  },
  {
   "cell_type": "code",
   "execution_count": 21,
   "id": "88ed82c6",
   "metadata": {},
   "outputs": [
    {
     "name": "stdout",
     "output_type": "stream",
     "text": [
      "Performance speed up: 6.399\n"
     ]
    }
   ],
   "source": [
    "fp16_latency = calculate_inference_time(fp_model_paths[ModalityType.AUDIO], audio_calibration_data)\n",
    "int8_latency = calculate_inference_time(int8_model_paths[ModalityType.AUDIO], audio_calibration_data)\n",
    "print(f\"Performance speed up: {fp16_latency / int8_latency:.3f}\")"
   ]
  }
 ],
 "metadata": {
  "kernelspec": {
   "display_name": "Python 3",
   "language": "python",
   "name": "python3"
  },
  "language_info": {
   "codemirror_mode": {
    "name": "ipython",
    "version": 3
   },
   "file_extension": ".py",
   "mimetype": "text/x-python",
   "name": "python",
   "nbconvert_exporter": "python",
   "pygments_lexer": "ipython3",
   "version": "3.8.10"
  },
  "widgets": {
   "application/vnd.jupyter.widget-state+json": {
    "state": {},
    "version_major": 2,
    "version_minor": 0
   }
  }
 },
 "nbformat": 4,
 "nbformat_minor": 5
}
