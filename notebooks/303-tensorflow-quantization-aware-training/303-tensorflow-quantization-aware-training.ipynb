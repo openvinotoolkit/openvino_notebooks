{
 "cells": [
  {
   "cell_type": "markdown",
   "id": "f855a151",
   "metadata": {},
   "source": [
    "# Quantization Aware Training with NNCF, using TensorFlow framework\n",
    "\n",
    "The goal of this notebook to demonstrate how to use the Neural Network Compression Framework [NNCF](https://github.com/openvinotoolkit/nncf) 8-bit quantization to optimize a TensorFlow model for inference with OpenVINO Toolkit. The optimization process contains the following steps:\n",
    "* Fine-tuning of FP32 model\n",
    "* Transform the original FP32 model to INT8\n",
    "* Use fine-tuning to restore the accuracy\n",
    "* Export optimized and original models to Frozen Graph and then to OpenVINO\n",
    "* Measure and compare the performance of models\n",
    "\n",
    "For more advanced usage, please refer to these [examples](https://github.com/openvinotoolkit/nncf/tree/develop/examples).\n",
    "\n",
    "We selected the ResNet-50 model with Imagenette dataset. Imagenette is a subset of 10 easily classified classes from the Imagenet dataset. Using the smaller model and dataset will speed up training and download time. To see other Keras models, visit [tf.keras.applications](https://www.tensorflow.org/api_docs/python/tf/keras/applications#functions) module."
   ]
  },
  {
   "cell_type": "markdown",
   "id": "ddd1b744",
   "metadata": {},
   "source": [
    "## Imports and Settings\n",
    "\n",
    "On Windows, add the required C++ directories to the system's path.\n",
    "\n",
    "Import NNCF and all auxiliary packages from your Python* code.\n",
    "Set a name for the model, input image size, used batch size, and the learning rate. Also define paths where Frozen Graph and OpenVINO IR versions of the models will be stored."
   ]
  },
  {
   "cell_type": "code",
   "execution_count": null,
   "id": "826a30ac",
   "metadata": {},
   "outputs": [],
   "source": [
    "# On Windows, add the directory that contains cl.exe to the PATH to enable PyTorch to find the\n",
    "# required C++ tools. This code assumes that Visual Studio 2019 is installed in the default\n",
    "# directory. If you have a different C++ compiler, please add the correct path to os.environ[\"PATH\"]\n",
    "# directly.\n",
    "\n",
    "# Adding the path to os.environ[\"LIB\"] is not always required - it depends on the system's configuration\n",
    "\n",
    "import sys\n",
    "\n",
    "if sys.platform == \"win32\":\n",
    "    import distutils.command.build_ext\n",
    "    import os\n",
    "    from pathlib import Path\n",
    "\n",
    "    VS_INSTALL_DIR = r\"C:/Program Files (x86)/Microsoft Visual Studio\"\n",
    "    cl_paths = sorted(list(Path(VS_INSTALL_DIR).glob(\"**/Hostx86/x64/cl.exe\")))\n",
    "    if len(cl_paths) == 0:\n",
    "        raise ValueError(\n",
    "            \"Cannot find Visual Studio. This notebook requires C++. If you installed \"\n",
    "            \"a C++ compiler, please add the directory that contains cl.exe to \"\n",
    "            \"`os.environ['PATH']`\"\n",
    "        )\n",
    "    else:\n",
    "        # If multiple versions of MSVC are installed, get the most recent version\n",
    "        cl_path = cl_paths[-1]\n",
    "        vs_dir = str(cl_path.parent)\n",
    "        os.environ[\"PATH\"] += f\"{os.pathsep}{vs_dir}\"\n",
    "        # Code for finding the library dirs from\n",
    "        # https://stackoverflow.com/questions/47423246/get-pythons-lib-path\n",
    "        d = distutils.core.Distribution()\n",
    "        b = distutils.command.build_ext.build_ext(d)\n",
    "        b.finalize_options()\n",
    "        os.environ[\"LIB\"] = os.pathsep.join(b.library_dirs)\n",
    "        print(f\"Added {vs_dir} to PATH\")"
   ]
  },
  {
   "cell_type": "code",
   "execution_count": null,
   "id": "a1e95247",
   "metadata": {},
   "outputs": [],
   "source": [
    "from pathlib import Path\n",
    "\n",
    "import tensorflow as tf\n",
    "from tensorflow import keras\n",
    "import tensorflow_datasets as tfds\n",
    "from tensorflow.python.framework.convert_to_constants import convert_variables_to_constants_v2\n",
    "\n",
    "from nncf import NNCFConfig\n",
    "from nncf.tensorflow.helpers.model_creation import create_compressed_model\n",
    "from nncf.tensorflow.initialization import register_default_init_args\n",
    "\n",
    "OUTPUT_DIR = Path(\"output\")\n",
    "OUTPUT_DIR.mkdir(exist_ok=True)\n",
    "\n",
    "BASE_MODEL_NAME = \"ResNet-50\"\n",
    "\n",
    "fp32_pb_path = Path(OUTPUT_DIR / (BASE_MODEL_NAME + \"_fp32\")).with_suffix(\".pb\")\n",
    "fp32_pb_name = Path(BASE_MODEL_NAME + \"_fp32\").with_suffix(\".pb\")\n",
    "fp32_ir_path = fp32_pb_path.with_suffix(\".xml\")\n",
    "int8_pb_path = Path(OUTPUT_DIR / (BASE_MODEL_NAME + \"_int8\")).with_suffix(\".pb\")\n",
    "int8_pb_name = Path(BASE_MODEL_NAME + \"_int8\").with_suffix(\".pb\")\n",
    "int8_ir_path = int8_pb_path.with_suffix(\".xml\")\n",
    "\n",
    "BATCH_SIZE = 32\n",
    "IMG_SIZE = (224, 224) # Imagenet image size\n",
    "NUM_CLASSES = 10 # For Imagenette dataset\n",
    "\n",
    "LR = 1e-5"
   ]
  },
  {
   "cell_type": "markdown",
   "id": "f178c3c1",
   "metadata": {},
   "source": [
    "## Dataset preprocessing\n",
    "\n",
    "Download and prepare Imagenette 160px dataset.\n",
    "- Number of classes: 10\n",
    "- Download size: 94.18 MiB\n",
    "| Split        | Examples |\n",
    "|--------------|----------|\n",
    "| 'train'      | 12,894   |\n",
    "| 'validation' | 500      |"
   ]
  },
  {
   "cell_type": "code",
   "execution_count": null,
   "id": "2dc3b1a5",
   "metadata": {},
   "outputs": [],
   "source": [
    "datasets, datasets_info = tfds.load('imagenette/160px', as_supervised=True, with_info=True)\n",
    "train_dataset, validation_dataset = datasets['train'], datasets['validation']\n",
    "fig = tfds.show_examples(train_dataset, datasets_info)"
   ]
  },
  {
   "cell_type": "code",
   "execution_count": null,
   "id": "83e376a0",
   "metadata": {},
   "outputs": [],
   "source": [
    "def train_preprocessing(image, label):\n",
    "    image = tf.image.resize(image, IMG_SIZE)\n",
    "    image = tf.image.random_flip_left_right(image)\n",
    "    image = tf.image.random_brightness(image, 0.2)\n",
    "    image = tf.image.random_contrast(image, 0.2, 0.4)\n",
    "    return image, label\n",
    "\n",
    "def val_preprocessing(image, label):\n",
    "    image = tf.image.resize(image, IMG_SIZE)\n",
    "    return image, label\n",
    "\n",
    "train_dataset = (train_dataset.map(train_preprocessing, num_parallel_calls=tf.data.experimental.AUTOTUNE)\n",
    "                              .shuffle(datasets_info.splits['train'].num_examples)\n",
    "                              .batch(BATCH_SIZE)\n",
    "                              .prefetch(tf.data.experimental.AUTOTUNE))\n",
    "\n",
    "validation_dataset = (validation_dataset.map(val_preprocessing, num_parallel_calls=tf.data.experimental.AUTOTUNE)\n",
    "                                        .batch(BATCH_SIZE)\n",
    "                                        .prefetch(tf.data.experimental.AUTOTUNE))"
   ]
  },
  {
   "cell_type": "markdown",
   "id": "978e0fdb",
   "metadata": {},
   "source": [
    "## Define a floating-point model"
   ]
  },
  {
   "cell_type": "code",
   "execution_count": null,
   "id": "b8e6650e",
   "metadata": {},
   "outputs": [],
   "source": [
    "# Create the base model from the MobileNet V3 Small model. The model is pretrained on ImageNet.\n",
    "IMG_SHAPE = IMG_SIZE + (3,)\n",
    "base_model = tf.keras.applications.MobileNetV3Small(input_shape=IMG_SHAPE,\n",
    "                                                    include_top=False,\n",
    "                                                    weights='imagenet')\n",
    "# tf.keras.applications.MobileNetV3Small\n",
    "# tf.keras.applications.ResNet50\n",
    "\n",
    "# Add a classification head to meet the number of classes in the used dataset\n",
    "x = tf.keras.layers.GlobalAveragePooling2D()(base_model.output)\n",
    "x = tf.keras.layers.Dropout(0.2)(x)\n",
    "outputs = tf.keras.layers.Dense(NUM_CLASSES)(x)\n",
    "model = tf.keras.Model(base_model.input, outputs)"
   ]
  },
  {
   "cell_type": "markdown",
   "id": "97fcd3fc",
   "metadata": {},
   "source": [
    "## Pre-train floating-point model\n",
    "\n",
    "Using NNCF for model compression assumes that the user has a pre-trained model and a training pipeline.\n",
    "\n",
    "Here we demonstrate one possible training pipeline: ResNet-50 model pre-trained on 1000 classes from ImageNet and fine-tuned with 10 classes from Imagenette.\n",
    "\n",
    "Subsequently, the training and validation functions will be reused for quantization-aware training.\n",
    "\n",
    "> **NOTE** The model is not tuned till the final accuracy. For the sake of simplicity of the tutorial, we tune for 4 epochs only and take the last model state for quantization."
   ]
  },
  {
   "cell_type": "code",
   "execution_count": null,
   "id": "b43ee6ad",
   "metadata": {},
   "outputs": [],
   "source": [
    "# Compile the floating-point model\n",
    "model.compile(optimizer=tf.keras.optimizers.Adam(lr=LR),\n",
    "              loss=tf.keras.losses.SparseCategoricalCrossentropy(from_logits=True),\n",
    "              metrics=['accuracy'])\n",
    "\n",
    "# Train the floating-point model\n",
    "model.fit(train_dataset,\n",
    "          epochs=1, # 4\n",
    "          validation_data=validation_dataset)\n",
    "\n",
    "# Validate the floating-point model\n",
    "test_loss, test_acc = model.evaluate(validation_dataset)\n",
    "print(f\"\\nAccuracy of FP32 model: {test_acc:.3f}\")"
   ]
  },
  {
   "cell_type": "markdown",
   "id": "b80f67d6",
   "metadata": {},
   "source": [
    "Save the floating-point model to the frozen graph, which will be later used for conversion to OpenVINO IR and further performance measurement."
   ]
  },
  {
   "cell_type": "code",
   "execution_count": null,
   "id": "450cbcb2",
   "metadata": {},
   "outputs": [],
   "source": [
    "def export_model_to_frozen_graph(model, output_dir, model_name):\n",
    "    # Convert Keras model to the frozen graph.\n",
    "    input_signature = []\n",
    "    for item in model.inputs:\n",
    "        input_signature.append(tf.TensorSpec(item.shape, item.dtype, item.name))\n",
    "    concrete_function = tf.function(model).get_concrete_function(input_signature)\n",
    "    frozen_func = convert_variables_to_constants_v2(concrete_function, lower_control_flow=False)\n",
    "    frozen_graph = frozen_func.graph.as_graph_def(add_shapes=True)\n",
    "    \n",
    "    tf.io.write_graph(frozen_graph, output_dir, model_name, as_text=False)\n",
    "\n",
    "export_model_to_frozen_graph(model, OUTPUT_DIR, fp32_pb_name)"
   ]
  },
  {
   "cell_type": "markdown",
   "id": "13b81167",
   "metadata": {},
   "source": [
    "## Create and initialize quantization\n",
    "\n",
    "NNCF enables compression-aware training by integrating into regular training pipelines. The framework is designed so that modifications to your original training code are minor. Quantization is the simplest scenario and requires only 3 modifications."
   ]
  },
  {
   "cell_type": "markdown",
   "id": "61b74e77",
   "metadata": {},
   "source": [
    "1. Configure NNCF parameters to specify compression"
   ]
  },
  {
   "cell_type": "code",
   "execution_count": null,
   "id": "9cafb190",
   "metadata": {},
   "outputs": [],
   "source": [
    "nncf_config_dict = {\n",
    "    \"input_info\": {\"sample_size\": [1, 3] + list(IMG_SIZE)},\n",
    "    \"log_dir\": str(OUTPUT_DIR),  # log directory for NNCF-specific logging outputs\n",
    "    \"compression\": {\n",
    "        \"algorithm\": \"quantization\",  # specify the algorithm here\n",
    "        \"initializer\": {\n",
    "            \"batchnorm_adaptation\": {\n",
    "                \"num_bn_adaptation_samples\": 2048 # change the default number of samples for BatchNormalization adaptation\n",
    "            }\n",
    "        }\n",
    "    },\n",
    "}\n",
    "nncf_config = NNCFConfig.from_dict(nncf_config_dict)"
   ]
  },
  {
   "cell_type": "markdown",
   "id": "e0fb9e4d",
   "metadata": {},
   "source": [
    "2. Provide data loader to initialize the values of quantization ranges and determine which activation should be signed or unsigned from the collected statistics using a given number of samples."
   ]
  },
  {
   "cell_type": "code",
   "execution_count": null,
   "id": "54d541d8",
   "metadata": {},
   "outputs": [],
   "source": [
    "nncf_config = register_default_init_args(nncf_config=nncf_config,\n",
    "                                         data_loader=train_dataset,\n",
    "                                         batch_size=BATCH_SIZE)"
   ]
  },
  {
   "cell_type": "markdown",
   "id": "ddc64e3e",
   "metadata": {},
   "source": [
    "3. Create a wrapped model ready for compression fine-tuning from a pre-trained FP32 model and configuration object."
   ]
  },
  {
   "cell_type": "code",
   "execution_count": null,
   "id": "f2c9021c",
   "metadata": {},
   "outputs": [],
   "source": [
    "compression_ctrl, model = create_compressed_model(model, nncf_config, None)"
   ]
  },
  {
   "cell_type": "markdown",
   "id": "ffadfd04",
   "metadata": {},
   "source": [
    "Evaluate the new model on the validation set after initialization of quantization. The accuracy should be not far from the accuracy of the floating-point FP32 model for a simple case like the one we are demonstrating now."
   ]
  },
  {
   "cell_type": "code",
   "execution_count": null,
   "id": "e95d5821",
   "metadata": {},
   "outputs": [],
   "source": [
    "# Compile the int8 model\n",
    "model.compile(optimizer=tf.keras.optimizers.Adam(lr=LR),\n",
    "              loss=tf.keras.losses.SparseCategoricalCrossentropy(from_logits=True),\n",
    "              metrics=['accuracy'])\n",
    "\n",
    "# Validate the int8 model\n",
    "test_loss, test_acc = model.evaluate(validation_dataset)\n",
    "print(f\"\\nAccuracy of INT8 model after initialization: {test_acc:.3f}\")"
   ]
  },
  {
   "cell_type": "markdown",
   "id": "16d0b8f8",
   "metadata": {},
   "source": [
    "## Fine-tune the compressed model\n",
    "\n",
    "At this step, a regular fine-tuning process is applied to restore accuracy drop. Normally, several epochs of tuning are required with a small learning rate, the same that is usually used at the end of the training of the original model. No other changes in the training pipeline are required. Here is a simple example."
   ]
  },
  {
   "cell_type": "code",
   "execution_count": null,
   "id": "b4047d88",
   "metadata": {
    "scrolled": false
   },
   "outputs": [],
   "source": [
    "# Train the int8 model\n",
    "model.fit(train_dataset,\n",
    "          epochs=1) # 2\n",
    "\n",
    "# Validate the int8 model\n",
    "test_loss, test_acc = model.evaluate(validation_dataset)\n",
    "print(f\"\\nAccuracy of INT8 model after fine-tuning: {test_acc:.3f}\")"
   ]
  },
  {
   "cell_type": "markdown",
   "id": "7af453ef",
   "metadata": {},
   "source": [
    "Save the INT8 model to the frozen graph, which will be later used for conversion to OpenVINO IR and further performance measurement."
   ]
  },
  {
   "cell_type": "code",
   "execution_count": null,
   "id": "6b208b6c",
   "metadata": {},
   "outputs": [],
   "source": [
    "export_model_to_frozen_graph(model, OUTPUT_DIR, int8_pb_name)"
   ]
  },
  {
   "cell_type": "markdown",
   "id": "73345cd0",
   "metadata": {},
   "source": [
    "## Export Frozen Graph models to OpenVINO™ Intermediate Representation (IR)"
   ]
  },
  {
   "cell_type": "markdown",
   "id": "1248a563",
   "metadata": {},
   "source": [
    "Call the OpenVINO Model Optimizer tool to convert the Frozen Graph model to OpenVINO IR. The models are saved to the current directory.\n",
    "\n",
    "See the [Model Optimizer Developer Guide](https://docs.openvinotoolkit.org/latest/openvino_docs_MO_DG_Deep_Learning_Model_Optimizer_DevGuide.html) for more information about Model Optimizer.\n",
    "\n",
    "Executing this command may take a while. There may be some errors or warnings in the output. Model Optimization successfully export to IR if the last lines of the output include: `[ SUCCESS ] Generated IR version 10 model`"
   ]
  },
  {
   "cell_type": "code",
   "execution_count": null,
   "id": "92fda382",
   "metadata": {},
   "outputs": [],
   "source": [
    "if not fp32_ir_path.exists():\n",
    "    !mo  --framework=tf --reverse_input_channels --input_shape=[1,224,224,3] --input=Placeholder --input_model=$fp32_pb_path --output_dir=$OUTPUT_DIR"
   ]
  },
  {
   "cell_type": "code",
   "execution_count": null,
   "id": "8adccc72",
   "metadata": {},
   "outputs": [],
   "source": [
    "if not int8_ir_path.exists():\n",
    "    !mo  --framework=tf --reverse_input_channels --input_shape=[1,224,224,3] --input=Placeholder --input_model=$int8_pb_path --output_dir=$OUTPUT_DIR"
   ]
  },
  {
   "cell_type": "markdown",
   "id": "f6d3bbaf",
   "metadata": {},
   "source": [
    "## Benchmark model performance by computing inference time"
   ]
  },
  {
   "cell_type": "markdown",
   "id": "f048b410",
   "metadata": {},
   "source": [
    "Finally, we will measure the inference performance of the FP32 and INT8 models. To do this, we use [Benchmark Tool](https://docs.openvinotoolkit.org/latest/openvino_inference_engine_tools_benchmark_tool_README.html) - OpenVINO's inference performance measurement tool. By default, Benchmark Tool runs inference for 60 seconds in asynchronous mode on CPU. It returns inference speed as latency (milliseconds per image) and throughput (frames per second) values."
   ]
  },
  {
   "cell_type": "markdown",
   "id": "304a76c9",
   "metadata": {},
   "source": [
    "> **NOTE**: In this notebook we run benchmark_app for 15 seconds to give a quick indication of performance. For more accurate performance, we recommended running benchmark_app in a terminal/command prompt after closing other applications. Run benchmark_app -m model.xml -d CPU to benchmark async inference on CPU for one minute. Change CPU to GPU to benchmark on GPU. Run benchmark_app --help to see an overview of all command line options."
   ]
  },
  {
   "cell_type": "code",
   "execution_count": null,
   "id": "63355744",
   "metadata": {
    "scrolled": true
   },
   "outputs": [],
   "source": [
    "def parse_benchmark_output(benchmark_output):\n",
    "    parsed_output = [line for line in benchmark_output if not (line.startswith(r\"[\") or line.startswith(\"  \") or line==\"\")]\n",
    "    print(*parsed_output, sep='\\n')\n",
    "\n",
    "print('Benchmark FP32 model (IR)')\n",
    "benchmark_output = ! benchmark_app -m $fp32_ir_path -d CPU -api async -t 15\n",
    "parse_benchmark_output(benchmark_output)\n",
    "\n",
    "print('\\nBenchmark INT8 model (IR)')\n",
    "benchmark_output = ! benchmark_app -m $int8_ir_path -d CPU -api async -t 15\n",
    "parse_benchmark_output(benchmark_output)"
   ]
  },
  {
   "cell_type": "markdown",
   "id": "f60b19e9",
   "metadata": {},
   "source": [
    "Show CPU Information for reference"
   ]
  },
  {
   "cell_type": "code",
   "execution_count": null,
   "id": "6c9c892c",
   "metadata": {},
   "outputs": [],
   "source": [
    "try:\n",
    "    import cpuinfo\n",
    "\n",
    "    print(cpuinfo.get_cpu_info()[\"brand_raw\"])\n",
    "except Exception:\n",
    "    # OpenVINO installs cpuinfo, but if a different version is installed\n",
    "    # the command above may not work\n",
    "    print(platform.processor())"
   ]
  }
 ],
 "metadata": {
  "kernelspec": {
   "display_name": "Python 3 (ipykernel)",
   "language": "python",
   "name": "python3"
  },
  "language_info": {
   "codemirror_mode": {
    "name": "ipython",
    "version": 3
   },
   "file_extension": ".py",
   "mimetype": "text/x-python",
   "name": "python",
   "nbconvert_exporter": "python",
   "pygments_lexer": "ipython3",
   "version": "3.7.5"
  }
 },
 "nbformat": 4,
 "nbformat_minor": 5
}
