{
 "cells": [
  {
   "cell_type": "markdown",
   "metadata": {},
   "source": [
    "# Text Prediction with OpenVINO™\n",
    "\n",
    "This notebook shows text prediction with OpenVINO. This notebook can work in two different modes, Text Generation and Conversation, which the user can select via selecting the model in the Model Selection Section. We use three models [GPT-2](https://d4mucfpksywv.cloudfront.net/better-language-models/language_models_are_unsupervised_multitask_learners.pdf), [GPT-Neo](https://zenodo.org/record/5297715#.ZAmpsXZBztU), and [PersonaGPT](https://arxiv.org/abs/2110.12949v1), which are a part of the Generative Pre-trained Transformer (GPT) family. GPT-2 and GPT-Neo can be used for text generation, whereas PersonaGPT is trained for the downstream task of conversation.\n",
    "\n",
    "GPT-2 and GPT-Neo are pre-trained on a large corpus of English text using unsupervised training. They both display a broad set of capabilities, including the ability to generate conditional synthetic text samples of unprecedented quality, where we prime the model with an input and have it generate a lengthy continuation.\n",
    "\n",
    "More details about the models are provided on their HuggingFace cards:\n",
    "\n",
    "* [GPT-2](https://huggingface.co/gpt2)\n",
    "* [GPT-Neo](https://huggingface.co/EleutherAI/gpt-neo-125M)\n",
    "\n",
    "PersonaGPT is an open-domain conversational agent that can decode  _personalized_ and _controlled_ responses based on user input. It is built on the pretrained [DialoGPT-medium](https://github.com/microsoft/DialoGPT) model, following the [GPT-2](https://github.com/openai/gpt-2) architecture. \n",
    "PersonaGPT is fine-tuned on the [Persona-Chat](https://arxiv.org/pdf/1801.07243) dataset. The model is available from [HuggingFace](https://huggingface.co/af1tang/personaGPT). PersonaGPT displays a broad set of capabilities, including the ability to take on personas, where we prime the model with few facts and have it generate based upon that, it can also be used for creating a chatbot on a knowledge base.\n",
    "\n",
    "The following image illustrates the complete demo pipeline used for text generation:\n",
    "\n",
    "![image2](https://user-images.githubusercontent.com/91228207/163990722-d2713ede-921e-4594-8b00-8b5c1a4d73b5.jpeg)\n",
    "\n",
    "This is a demonstration in which the user can type the beginning of the text and the network will generate a further. This procedure can be repeated as many times as the user desires.\n",
    "\n",
    "For Text Generation, The model input is tokenized text, which serves as the initial condition for text generation. Then, logits from the models' inference results are obtained, and the token with the highest probability is selected using the top-k sampling strategy and joined to the input sequence. This procedure repeats until the end of the sequence token is received or the specified maximum length is reached. After that, tokenized IDs are decoded to text.\n",
    "\n",
    "The following image illustrates the demo pipeline for conversation:\n",
    "\n",
    "![image2](https://user-images.githubusercontent.com/95569637/226101538-e204aebd-a34f-4c8b-b90c-5363ba41c080.jpeg)\n",
    "\n",
    "For Conversation, User Input is tokenized with `eos_token` concatenated in the end. Then, the text gets generated as detailed above. The Generated response is added to the history with the `eos_token` at the end. Additional user input is added to the history, and the sequence is passed back into the model.",
    "\n",
    "<a id=\"0\"></a>\n",
    "Table of content:\n",
    "- [Model Selection](#1)\n",
    "- [Load Model](#2)\n",
    "- [Convert Pytorch Model to OpenVINO IR](#3)\n",
    "    - [Load the model](#4)\n",
    "        - [Select inference device](#5)\n",
    "- [Pre-Processing](#6)\n",
    "- [Define tokenization](#7)\n",
    "    - [Define Softmax layer](#8)\n",
    "    - [Set the minimum sequence length](#9)\n",
    "    - [Top-K sampling](#10)\n",
    "    - [Main Processing Function](#11)\n",
    "- [Inference with GPT-Neo/GPT-2](#12)\n",
    "- [Conversation with PersonaGPT using OpenVINO™](#13)\n",
    "- [Converse Function](#14)\n",
    "- [Conversation Class](#15)\n",
    "- [Conversation with PersonaGPT](#16)\n"
   ]
  },
  {
   "cell_type": "markdown",
   "metadata": {},
   "source": [
    "<a id=\"1\"></a>\n",
    "## Model Selection [&#8657;](#0)\n",
    "\n",
    "Select the Model to be used for text generation, GPT-2 and GPT-Neo are used for text generation whereas PersonaGPT is used for Conversation."
   ]
  },
  {
   "cell_type": "code",
   "execution_count": 1,
   "metadata": {},
   "outputs": [
    {
     "name": "stdout",
     "output_type": "stream",
     "text": [
      "\u001b[33mWARNING: Ignoring invalid distribution -orch (/home/ea/work/ov_venv/lib/python3.8/site-packages)\u001b[0m\u001b[33m\n",
      "\u001b[0m\u001b[33mWARNING: Ignoring invalid distribution -orch (/home/ea/work/ov_venv/lib/python3.8/site-packages)\u001b[0m\u001b[33m\n",
      "\u001b[0m\u001b[33mWARNING: Ignoring invalid distribution -orch (/home/ea/work/ov_venv/lib/python3.8/site-packages)\u001b[0m\u001b[33m\n",
      "\u001b[0m\u001b[33mWARNING: Ignoring invalid distribution -orch (/home/ea/work/ov_venv/lib/python3.8/site-packages)\u001b[0m\u001b[33m\n",
      "\u001b[0m\u001b[33mWARNING: Ignoring invalid distribution -orch (/home/ea/work/ov_venv/lib/python3.8/site-packages)\u001b[0m\u001b[33m\n",
      "\u001b[0m\u001b[33mWARNING: Ignoring invalid distribution -orch (/home/ea/work/ov_venv/lib/python3.8/site-packages)\u001b[0m\u001b[33m\n",
      "\u001b[0m\n",
      "\u001b[1m[\u001b[0m\u001b[34;49mnotice\u001b[0m\u001b[1;39;49m]\u001b[0m\u001b[39;49m A new release of pip available: \u001b[0m\u001b[31;49m22.3\u001b[0m\u001b[39;49m -> \u001b[0m\u001b[32;49m23.2.1\u001b[0m\n",
      "\u001b[1m[\u001b[0m\u001b[34;49mnotice\u001b[0m\u001b[1;39;49m]\u001b[0m\u001b[39;49m To update, run: \u001b[0m\u001b[32;49mpip install --upgrade pip\u001b[0m\n",
      "\u001b[33mWARNING: Ignoring invalid distribution -orch (/home/ea/work/ov_venv/lib/python3.8/site-packages)\u001b[0m\u001b[33m\n",
      "\u001b[0m\u001b[33mWARNING: Ignoring invalid distribution -orch (/home/ea/work/ov_venv/lib/python3.8/site-packages)\u001b[0m\u001b[33m\n",
      "\u001b[0m\u001b[33mWARNING: Ignoring invalid distribution -orch (/home/ea/work/ov_venv/lib/python3.8/site-packages)\u001b[0m\u001b[33m\n",
      "\u001b[0m\u001b[33mWARNING: Ignoring invalid distribution -orch (/home/ea/work/ov_venv/lib/python3.8/site-packages)\u001b[0m\u001b[33m\n",
      "\u001b[0m\u001b[33mWARNING: Ignoring invalid distribution -orch (/home/ea/work/ov_venv/lib/python3.8/site-packages)\u001b[0m\u001b[33m\n",
      "\u001b[0m\u001b[33mWARNING: Ignoring invalid distribution -orch (/home/ea/work/ov_venv/lib/python3.8/site-packages)\u001b[0m\u001b[33m\n",
      "\u001b[0m\n",
      "\u001b[1m[\u001b[0m\u001b[34;49mnotice\u001b[0m\u001b[1;39;49m]\u001b[0m\u001b[39;49m A new release of pip available: \u001b[0m\u001b[31;49m22.3\u001b[0m\u001b[39;49m -> \u001b[0m\u001b[32;49m23.2.1\u001b[0m\n",
      "\u001b[1m[\u001b[0m\u001b[34;49mnotice\u001b[0m\u001b[1;39;49m]\u001b[0m\u001b[39;49m To update, run: \u001b[0m\u001b[32;49mpip install --upgrade pip\u001b[0m\n",
      "\u001b[33mWARNING: Ignoring invalid distribution -orch (/home/ea/work/ov_venv/lib/python3.8/site-packages)\u001b[0m\u001b[33m\n",
      "\u001b[0m\u001b[33mWARNING: Ignoring invalid distribution -orch (/home/ea/work/ov_venv/lib/python3.8/site-packages)\u001b[0m\u001b[33m\n",
      "\u001b[0m\u001b[33mWARNING: Ignoring invalid distribution -orch (/home/ea/work/ov_venv/lib/python3.8/site-packages)\u001b[0m\u001b[33m\n",
      "\u001b[0m\u001b[33mWARNING: Ignoring invalid distribution -orch (/home/ea/work/ov_venv/lib/python3.8/site-packages)\u001b[0m\u001b[33m\n",
      "\u001b[0m\u001b[33mWARNING: Ignoring invalid distribution -orch (/home/ea/work/ov_venv/lib/python3.8/site-packages)\u001b[0m\u001b[33m\n",
      "\u001b[0m\u001b[33mWARNING: Ignoring invalid distribution -orch (/home/ea/work/ov_venv/lib/python3.8/site-packages)\u001b[0m\u001b[33m\n",
      "\u001b[0m\n",
      "\u001b[1m[\u001b[0m\u001b[34;49mnotice\u001b[0m\u001b[1;39;49m]\u001b[0m\u001b[39;49m A new release of pip available: \u001b[0m\u001b[31;49m22.3\u001b[0m\u001b[39;49m -> \u001b[0m\u001b[32;49m23.2.1\u001b[0m\n",
      "\u001b[1m[\u001b[0m\u001b[34;49mnotice\u001b[0m\u001b[1;39;49m]\u001b[0m\u001b[39;49m To update, run: \u001b[0m\u001b[32;49mpip install --upgrade pip\u001b[0m\n"
     ]
    }
   ],
   "source": [
    "# Install Gradio for Interactive Inference and other requirements\n",
    "!pip install -q \"openvino-dev>=2023.0.0\"\n",
    "!pip install -q gradio\n",
    "!pip install -q transformers[torch] onnx"
   ]
  },
  {
   "cell_type": "code",
   "execution_count": 2,
   "metadata": {},
   "outputs": [
    {
     "data": {
      "application/vnd.jupyter.widget-view+json": {
       "model_id": "5747da99bfb74128a4e16280c919c62d",
       "version_major": 2,
       "version_minor": 0
      },
      "text/plain": [
       "VBox(children=(Select(description='Select Model:', options=('PersonaGPT (Converastional)', 'GPT-2', 'GPT-Neo')…"
      ]
     },
     "execution_count": 2,
     "metadata": {},
     "output_type": "execute_result"
    }
   ],
   "source": [
    "from gradio import Blocks, Chatbot, Textbox, Row, Column\n",
    "import ipywidgets as widgets\n",
    "\n",
    "style = {'description_width': 'initial'}\n",
    "model_name = widgets.Select(\n",
    "    options=['PersonaGPT (Converastional)', 'GPT-2', 'GPT-Neo'],\n",
    "    value='PersonaGPT (Converastional)',\n",
    "    description='Select Model:',\n",
    "    disabled=False\n",
    ")\n",
    "\n",
    "widgets.VBox([model_name])"
   ]
  },
  {
   "cell_type": "markdown",
   "metadata": {},
   "source": [
    "<a id=\"2\"></a>\n",
    "## Load Model [&#8657;](#0)\n",
    "Download the Selected Model and Tokenizer from HuggingFace"
   ]
  },
  {
   "cell_type": "code",
   "execution_count": 3,
   "metadata": {},
   "outputs": [],
   "source": [
    "from transformers import GPTNeoForCausalLM, GPT2TokenizerFast, GPT2Tokenizer, GPT2LMHeadModel\n",
    "\n",
    "if model_name.value == \"PersonaGPT (Converastional)\":\n",
    "    pt_model = GPT2LMHeadModel.from_pretrained('af1tang/personaGPT')\n",
    "    tokenizer = GPT2Tokenizer.from_pretrained('af1tang/personaGPT')\n",
    "elif model_name.value == 'GPT-2':\n",
    "    pt_model = GPT2LMHeadModel.from_pretrained('gpt2')\n",
    "    tokenizer = GPT2Tokenizer.from_pretrained('gpt2')\n",
    "elif model_name.value == 'GPT-Neo':\n",
    "    pt_model = GPTNeoForCausalLM.from_pretrained('EleutherAI/gpt-neo-125M')\n",
    "    tokenizer = GPT2TokenizerFast.from_pretrained('EleutherAI/gpt-neo-125M')"
   ]
  },
  {
   "cell_type": "markdown",
   "metadata": {},
   "source": [
    "<a id=\"3\"></a>\n",
    "## Convert Pytorch Model to OpenVINO IR [&#8657;](#0)\n",
    "\n",
    "![conversion_pipeline](https://user-images.githubusercontent.com/29454499/211261803-784d4791-15cb-4aea-8795-0969dfbb8291.png)\n",
    "\n",
    "For starting work with GPT-Neo model using OpenVINO, a model should be converted to OpenVINO Intermediate Representation (IR) format. HuggingFace provides a GPT-Neo model in PyTorch format, which is supported in OpenVINO via conversion to ONNX. We use the HuggingFace transformers library's onnx module to export the model to ONNX. `transformers.onnx.export` accepts the preprocessing function for input sample generation (the tokenizer in our case), an instance of the model, ONNX export configuration, the ONNX opset version for export and output path. More information about transformers export to ONNX can be found in HuggingFace [documentation](https://huggingface.co/docs/transformers/serialization).\n",
    "\n",
    "While ONNX models are directly supported by OpenVINO runtime, it can be useful to convert them to IR format to take advantage of OpenVINO optimization tools and features.\n",
    "The `mo.convert_model` Python function of [model conversion API](https://docs.openvino.ai/2023.0/openvino_docs_model_processing_introduction.html) can be used for converting the model. The function returns instance of OpenVINO Model class, which is ready to use in Python interface but can also be serialized to OpenVINO IR format for future execution using `openvino.runtime.serialize`. In our case, the `compress_to_fp16` parameter is enabled for compression model weights to FP16 precision and also specified dynamic input shapes with a possible shape range (from 1 token to a maximum length defined in our processing function) for optimization of memory consumption."
   ]
  },
  {
   "cell_type": "code",
   "execution_count": 4,
   "metadata": {},
   "outputs": [
    {
     "name": "stderr",
     "output_type": "stream",
     "text": [
      "/home/ea/work/transformers/src/transformers/models/gpt2/modeling_gpt2.py:807: TracerWarning: Converting a tensor to a Python boolean might cause the trace to be incorrect. We can't record the data flow of Python values, so this value will be treated as a constant in the future. This means that the trace might not generalize to other inputs!\n",
      "  if batch_size <= 0:\n"
     ]
    }
   ],
   "source": [
    "from pathlib import Path\n",
    "from openvino.runtime import serialize\n",
    "from openvino.tools import mo\n",
    "from transformers.onnx import export, FeaturesManager\n",
    "\n",
    "\n",
    "# define path for saving onnx model\n",
    "onnx_path = Path(\"model/text_generator.onnx\")\n",
    "onnx_path.parent.mkdir(exist_ok=True)\n",
    "\n",
    "# define path for saving openvino model\n",
    "model_path = onnx_path.with_suffix(\".xml\")\n",
    "\n",
    "# get model onnx config function for output feature format casual-lm\n",
    "model_kind, model_onnx_config = FeaturesManager.check_supported_model_or_raise(pt_model, feature='causal-lm')\n",
    "\n",
    "# fill onnx config based on pytorch model config\n",
    "onnx_config = model_onnx_config(pt_model.config)\n",
    "\n",
    "# convert model to onnx\n",
    "onnx_inputs, onnx_outputs = export(preprocessor=tokenizer,model=pt_model,config=onnx_config,opset=onnx_config.default_onnx_opset,output=onnx_path)\n",
    "\n",
    "# convert model to openvino\n",
    "if model_name.value == \"PersonaGPT (Converastional)\":\n",
    "    ov_model = mo.convert_model(onnx_path, compress_to_fp16=True, input=\"input_ids[1,-1],attention_mask[1,-1]\")\n",
    "else:\n",
    "    ov_model = mo.convert_model(onnx_path, compress_to_fp16=True, input=\"input_ids[1,1..128],attention_mask[1,1..128]\")\n",
    "\n",
    "# serialize openvino model\n",
    "serialize(ov_model, str(model_path))"
   ]
  },
  {
   "cell_type": "markdown",
   "metadata": {},
   "source": [
    "<a id=\"4\"></a>\n",
    "### Load the model [&#8657;](#0)\n",
    "\n",
    "We start by building an OpenVINO Core object. Then we read the network architecture and model weights from the `.xml` and `.bin` files, respectively. Finally, we compile the model for the desired device."
   ]
  },
  {
   "cell_type": "markdown",
   "metadata": {},
   "source": [
    "<a id=\"5\"></a>\n",
    "#### Select inference device [&#8657;](#0)\n",
    "\n",
    "select device from dropdown list for running inference using OpenVINO"
   ]
  },
  {
   "cell_type": "code",
   "execution_count": 5,
   "metadata": {},
   "outputs": [
    {
     "data": {
      "application/vnd.jupyter.widget-view+json": {
       "model_id": "9c1259643d59457293d7cf0a8189181e",
       "version_major": 2,
       "version_minor": 0
      },
      "text/plain": [
       "Dropdown(description='Device:', index=2, options=('CPU', 'GNA', 'AUTO'), value='AUTO')"
      ]
     },
     "execution_count": 5,
     "metadata": {},
     "output_type": "execute_result"
    }
   ],
   "source": [
    "from openvino.runtime import Core\n",
    "import ipywidgets as widgets\n",
    "\n",
    "core = Core()\n",
    "\n",
    "device = widgets.Dropdown(\n",
    "    options=core.available_devices + [\"AUTO\"],\n",
    "    value='AUTO',\n",
    "    description='Device:',\n",
    "    disabled=False,\n",
    ")\n",
    "\n",
    "device"
   ]
  },
  {
   "cell_type": "code",
   "execution_count": 6,
   "metadata": {},
   "outputs": [],
   "source": [
    "# initialize openvino core\n",
    "core = Core()\n",
    "\n",
    "# read the model and corresponding weights from file\n",
    "model = core.read_model(model_path)"
   ]
  },
  {
   "cell_type": "code",
   "execution_count": 7,
   "metadata": {},
   "outputs": [],
   "source": [
    "# compile the model for CPU devices\n",
    "compiled_model = core.compile_model(model=model, device_name=device.value)\n",
    "\n",
    "# get output tensors\n",
    "output_key = compiled_model.output(0)"
   ]
  },
  {
   "cell_type": "markdown",
   "metadata": {},
   "source": [
    "Input keys are the names of the input nodes and output keys contain names of the output nodes of the network. In the case of GPT-Neo, we have `batch size` and `sequence length` as inputs and `batch size`, `sequence length` and `vocab size` as outputs."
   ]
  },
  {
   "cell_type": "markdown",
   "metadata": {},
   "source": [
    "<a id=\"6\"></a>\n",
    "## Pre-Processing [&#8657;](#0)\n",
    "\n",
    "NLP models often take a list of tokens as a standard input. A token is a word or a part of a word mapped to an integer. To provide the proper input, we use a vocabulary file to handle the mapping. So first let's load the vocabulary file."
   ]
  },
  {
   "cell_type": "markdown",
   "metadata": {},
   "source": [
    "<a id=\"7\"></a>\n",
    "## Define tokenization [&#8657;](#0)\n"
   ]
  },
  {
   "cell_type": "code",
   "execution_count": 8,
   "metadata": {},
   "outputs": [],
   "source": [
    "from typing import List, Tuple\n",
    "\n",
    "\n",
    "# this function converts text to tokens\n",
    "def tokenize(text: str) -> Tuple[List[int], List[int]]:\n",
    "    \"\"\"\n",
    "    tokenize input text using GPT2 tokenizer\n",
    "\n",
    "    Parameters:\n",
    "      text, str - input text\n",
    "    Returns:\n",
    "      input_ids - np.array with input token ids\n",
    "      attention_mask - np.array with 0 in place, where should be padding and 1 for places where original tokens are located, represents attention mask for model\n",
    "    \"\"\"\n",
    "\n",
    "    inputs = tokenizer(text, return_tensors=\"np\")\n",
    "    return inputs[\"input_ids\"], inputs[\"attention_mask\"]"
   ]
  },
  {
   "cell_type": "markdown",
   "metadata": {},
   "source": [
    "`eos_token` is special token, which means that generation is finished. We store the index of this token in order to use this index as padding at later stage."
   ]
  },
  {
   "cell_type": "code",
   "execution_count": 9,
   "metadata": {},
   "outputs": [],
   "source": [
    "eos_token_id = tokenizer.eos_token_id\n",
    "eos_token = tokenizer.decode(eos_token_id)"
   ]
  },
  {
   "cell_type": "markdown",
   "metadata": {},
   "source": [
    "<a id=\"8\"></a>\n",
    "### Define Softmax layer [&#8657;](#0)\n",
    "A softmax function is used to convert top-k logits into a probability distribution. "
   ]
  },
  {
   "cell_type": "code",
   "execution_count": 10,
   "metadata": {},
   "outputs": [],
   "source": [
    "import numpy as np\n",
    "\n",
    "\n",
    "def softmax(x : np.array) -> np.array:\n",
    "    e_x = np.exp(x - np.max(x, axis=-1, keepdims=True))\n",
    "    summation = e_x.sum(axis=-1, keepdims=True)\n",
    "    return e_x / summation"
   ]
  },
  {
   "cell_type": "markdown",
   "metadata": {},
   "source": [
    "<a id=\"9\"></a>\n",
    "### Set the minimum sequence length [&#8657;](#0)\n",
    "If the minimum sequence length is not reached, the following code will reduce the probability of the `eos` token occurring. This continues the process of generating the next words."
   ]
  },
  {
   "cell_type": "code",
   "execution_count": 11,
   "metadata": {},
   "outputs": [],
   "source": [
    "def process_logits(cur_length: int, scores: np.array, eos_token_id : int, min_length : int = 0) -> np.array:\n",
    "    \"\"\"\n",
    "    Reduce probability for padded indices.\n",
    "\n",
    "    Parameters:\n",
    "      cur_length: Current length of input sequence.\n",
    "      scores: Model output logits.\n",
    "      eos_token_id: Index of end of string token in model vocab.\n",
    "      min_length: Minimum length for applying postprocessing.\n",
    "\n",
    "    Returns:\n",
    "      Processed logits with reduced probability for padded indices.\n",
    "    \"\"\"\n",
    "    if cur_length < min_length:\n",
    "        scores[:, eos_token_id] = -float(\"inf\")\n",
    "    return scores"
   ]
  },
  {
   "cell_type": "markdown",
   "metadata": {},
   "source": [
    "<a id=\"10\"></a>\n",
    "### Top-K sampling [&#8657;](#0)\n",
    "In Top-K sampling, we filter the K most likely next words and redistribute the probability mass among only those K next words. "
   ]
  },
  {
   "cell_type": "code",
   "execution_count": 12,
   "metadata": {},
   "outputs": [],
   "source": [
    "def get_top_k_logits(scores : np.array, top_k : int) -> np.array:\n",
    "    \"\"\"\n",
    "    Perform top-k sampling on the logits scores.\n",
    "\n",
    "    Parameters:\n",
    "      scores: np.array, model output logits.\n",
    "      top_k: int, number of elements with the highest probability to select.\n",
    "\n",
    "    Returns:\n",
    "      np.array, shape (batch_size, sequence_length, vocab_size),\n",
    "        filtered logits scores where only the top-k elements with the highest\n",
    "        probability are kept and the rest are replaced with -inf\n",
    "    \"\"\"\n",
    "    filter_value = -float(\"inf\")\n",
    "    top_k = min(max(top_k, 1), scores.shape[-1])\n",
    "    top_k_scores = -np.sort(-scores)[:, :top_k]\n",
    "    indices_to_remove = scores < np.min(top_k_scores)\n",
    "    filtred_scores = np.ma.array(scores, mask=indices_to_remove,\n",
    "                                 fill_value=filter_value).filled()\n",
    "    return filtred_scores"
   ]
  },
  {
   "cell_type": "markdown",
   "metadata": {},
   "source": [
    "<a id=\"11\"></a>\n",
    "### Main Processing Function [&#8657;](#0)\n",
    "Generating the predicted sequence."
   ]
  },
  {
   "cell_type": "code",
   "execution_count": 13,
   "metadata": {},
   "outputs": [],
   "source": [
    "def generate_sequence(input_ids : List[int], attention_mask : List[int], max_sequence_length : int = 128,\n",
    "                      eos_token_id : int = eos_token_id, dynamic_shapes : bool = True) -> List[int]:\n",
    "    \"\"\"\n",
    "    Generates a sequence of tokens using a pre-trained language model.\n",
    "\n",
    "    Parameters:\n",
    "      input_ids: np.array, tokenized input ids for model\n",
    "      attention_mask: np.array, attention mask for model\n",
    "      max_sequence_length: int, maximum sequence length for stopping iteration\n",
    "      eos_token_id: int, index of the end-of-sequence token in the model's vocabulary\n",
    "      dynamic_shapes: bool, whether to use dynamic shapes for inference or pad model input to max_sequence_length\n",
    "\n",
    "    Returns:\n",
    "      np.array, the predicted sequence of token ids\n",
    "    \"\"\"\n",
    "    while True:\n",
    "        cur_input_len = len(input_ids[0])\n",
    "        if not dynamic_shapes:\n",
    "            pad_len = max_sequence_length - cur_input_len\n",
    "            model_input_ids = np.concatenate((input_ids, [[eos_token_id] * pad_len]), axis=-1)\n",
    "            model_input_attention_mask = np.concatenate((attention_mask, [[0] * pad_len]), axis=-1)\n",
    "        else:\n",
    "            model_input_ids = input_ids\n",
    "            model_input_attention_mask = attention_mask\n",
    "        outputs = compiled_model({\"input_ids\": model_input_ids, \"attention_mask\": model_input_attention_mask})[output_key]\n",
    "        next_token_logits = outputs[:, cur_input_len - 1, :]\n",
    "        # pre-process distribution\n",
    "        next_token_scores = process_logits(cur_input_len,\n",
    "                                           next_token_logits, eos_token_id)\n",
    "        top_k = 20\n",
    "        next_token_scores = get_top_k_logits(next_token_scores, top_k)\n",
    "        # get next token id\n",
    "        probs = softmax(next_token_scores)\n",
    "        next_tokens = np.random.choice(probs.shape[-1], 1,\n",
    "                                       p=probs[0], replace=True)\n",
    "        # break the loop if max length or end of text token is reached\n",
    "        if cur_input_len == max_sequence_length or next_tokens[0] == eos_token_id:\n",
    "            break\n",
    "        else:\n",
    "            input_ids = np.concatenate((input_ids, [next_tokens]), axis=-1)\n",
    "            attention_mask = np.concatenate((attention_mask, [[1] * len(next_tokens)]), axis=-1)\n",
    "    return input_ids"
   ]
  },
  {
   "cell_type": "markdown",
   "metadata": {},
   "source": [
    "<a id=\"12\"></a>\n",
    "## Inference with GPT-Neo/GPT-2 [&#8657;](#0)\n",
    "The `text` variable below is the input used to generate a predicted sequence."
   ]
  },
  {
   "cell_type": "code",
   "execution_count": 14,
   "metadata": {},
   "outputs": [
    {
     "name": "stdout",
     "output_type": "stream",
     "text": [
      "Selected Model is PersonaGPT. Please select GPT-Neo or GPT-2 in the first cell to generate text sequences\n"
     ]
    }
   ],
   "source": [
    "import time\n",
    "if not model_name.value == \"PersonaGPT (Converastional)\":\n",
    "    text = \"Deep learning is a type of machine learning that uses neural networks\"\n",
    "    input_ids, attention_mask = tokenize(text)\n",
    "\n",
    "    start = time.perf_counter()\n",
    "    output_ids = generate_sequence(input_ids, attention_mask)\n",
    "    end = time.perf_counter()\n",
    "    output_text = \" \"\n",
    "    # Convert IDs to words and make the sentence from it\n",
    "    for i in output_ids[0]:\n",
    "        output_text += tokenizer.batch_decode([i])[0]\n",
    "    print(f\"Generation took {end - start:.3f} s\")\n",
    "    print(f\"Input Text:  {text}\")\n",
    "    print()\n",
    "    print(f\"{model_name.value}: {output_text}\")\n",
    "else:\n",
    "    print(\"Selected Model is PersonaGPT. Please select GPT-Neo or GPT-2 in the first cell to generate text sequences\")"
   ]
  },
  {
   "cell_type": "markdown",
   "metadata": {},
   "source": [
    "<a id=\"13\"></a>\n",
    "# Conversation with PersonaGPT using OpenVINO™ [&#8657;](#0)\n",
    "\n",
    "User Input is tokenized with `eos_token` concatenated in the end. Model input is tokenized text, which serves as initial condition for generation, then logits from model inference result should be obtained and token with the highest probability is selected using top-k sampling strategy and joined to input sequence. The procedure repeats until end of sequence token will be received or specified maximum length is reached. After that, decoding token ids to text using tokenized should be applied.\n",
    "\n",
    "The Generated response is added to the history with the `eos_token` at the end. Further User Input is added to it and again passed into the model."
   ]
  },
  {
   "cell_type": "markdown",
   "metadata": {},
   "source": [
    "<a id=\"14\"></a>\n",
    "## Converse Function [&#8657;](#0)\n",
    "Wrapper on generate sequence function to support conversation"
   ]
  },
  {
   "cell_type": "code",
   "execution_count": 15,
   "metadata": {},
   "outputs": [],
   "source": [
    "def converse(input: str, history: List[int], eos_token: str = eos_token,\n",
    "             eos_token_id: int = eos_token_id) -> Tuple[str, List[int]]:\n",
    "    \"\"\"\n",
    "    Converse with the Model.\n",
    "\n",
    "    Parameters:\n",
    "      input: Text input given by the User\n",
    "      history: Chat History, ids of tokens of chat occured so far\n",
    "      eos_token: end of sequence string\n",
    "      eos_token_id: end of sequence index from vocab\n",
    "    Returns:\n",
    "      response: Text Response generated by the model\n",
    "      history: Chat History, Ids of the tokens of chat occured so far,including the tokens of generated response\n",
    "    \"\"\"\n",
    "\n",
    "    # Get Input Ids of the User Input\n",
    "    new_user_input_ids, _ = tokenize(input + eos_token)\n",
    "\n",
    "    # append the new user input tokens to the chat history, if history exists\n",
    "    if len(history) == 0:\n",
    "        bot_input_ids = new_user_input_ids\n",
    "    else:\n",
    "        bot_input_ids = np.concatenate([history, new_user_input_ids[0]])\n",
    "        bot_input_ids = np.expand_dims(bot_input_ids, axis=0)\n",
    "\n",
    "    # Create Attention Mask\n",
    "    bot_attention_mask = np.ones_like(bot_input_ids)\n",
    "\n",
    "    # Generate Response from the model\n",
    "    history = generate_sequence(bot_input_ids, bot_attention_mask, max_sequence_length=1000)\n",
    "\n",
    "    # Add the eos_token to mark end of sequence\n",
    "    history = np.append(history[0], eos_token_id)\n",
    "\n",
    "    # convert the tokens to text, and then split the responses into lines and retrieve the response from the Model\n",
    "    response = ''.join(tokenizer.batch_decode(history)).split(eos_token)[-2]\n",
    "    return response, history"
   ]
  },
  {
   "cell_type": "markdown",
   "metadata": {},
   "source": [
    "<a id=\"15\"></a>\n",
    "## Conversation Class [&#8657;](#0)\n"
   ]
  },
  {
   "cell_type": "code",
   "execution_count": 16,
   "metadata": {},
   "outputs": [],
   "source": [
    "class Conversation:\n",
    "    def __init__(self):\n",
    "        # Initialize Empty History\n",
    "        self.history = []\n",
    "        self.messages = []\n",
    "\n",
    "    def chat(self, input_text):\n",
    "        \"\"\"\n",
    "        Wrapper Over Converse Function.\n",
    "        Parameters:\n",
    "            input_text: Text input given by the User\n",
    "        Returns:\n",
    "            response: Text Response generated by the model\n",
    "        \"\"\"\n",
    "        response, self.history = converse(input_text, self.history)\n",
    "        self.messages.append(f\"Person: {input_text}\")\n",
    "        self.messages.append(f\"PersonaGPT: {response}\")\n",
    "        return response"
   ]
  },
  {
   "cell_type": "markdown",
   "metadata": {},
   "source": [
    "<a id=\"16\"></a>\n",
    "## Conversation with PersonaGPT [&#8657;](#0)\n",
    "\n",
    "This notebook provides two styles of inference, Plain and Interactive. The style of inference can be selected in the next cell."
   ]
  },
  {
   "cell_type": "code",
   "execution_count": 17,
   "metadata": {},
   "outputs": [
    {
     "data": {
      "application/vnd.jupyter.widget-view+json": {
       "model_id": "ad60eb1e54ba4317bdc24d00348e1a5d",
       "version_major": 2,
       "version_minor": 0
      },
      "text/plain": [
       "VBox(children=(Select(description='Inference Style:', options=('Plain', 'Interactive'), value='Plain'),))"
      ]
     },
     "execution_count": 17,
     "metadata": {},
     "output_type": "execute_result"
    }
   ],
   "source": [
    "style = {'description_width': 'initial'}\n",
    "interactive_mode = widgets.Select(\n",
    "    options=['Plain', 'Interactive'],\n",
    "    value='Plain',\n",
    "    description='Inference Style:',\n",
    "    disabled=False\n",
    ")\n",
    "\n",
    "widgets.VBox([interactive_mode])"
   ]
  },
  {
   "cell_type": "code",
   "execution_count": 18,
   "metadata": {},
   "outputs": [
    {
     "name": "stdout",
     "output_type": "stream",
     "text": [
      "Person: Hi,How are you?\n",
      "PersonaGPT: good, just thinking of what to do for dinner tonight\n",
      "Person: What are you doing?\n",
      "PersonaGPT: trying to decide what to make for dinner\n",
      "Person: I like to dance,do you?\n",
      "PersonaGPT: no, i do not dance, i'm too busy with work\n",
      "Person: Can you recommend me some books?\n",
      "PersonaGPT: i like to read mystery books and crime dramas\n",
      "Person: Hi,How are you?\n",
      "PersonaGPT: good, just thinking of what to make for dinner\n",
      "Person: What are you doing?\n",
      "PersonaGPT: i am cooking rice and corn\n",
      "Person: I like to dance,do you?\n",
      "PersonaGPT: no i do not dance, i am too busy with my job\n",
      "Person: Can you recommend me some books?\n",
      "PersonaGPT: i love mystery books.\n",
      "Person: Hi,How are you?\n",
      "PersonaGPT: good, just thinking what to make for dinner\n",
      "Person: What are you doing?\n",
      "PersonaGPT: drinking water and eating my rice\n"
     ]
    }
   ],
   "source": [
    "if model_name.value == \"PersonaGPT (Converastional)\":\n",
    "    if interactive_mode.value == 'Plain':\n",
    "        conversation = Conversation()\n",
    "        user_prompt = None\n",
    "        pre_written_prompts = [\"Hi,How are you?\", \"What are you doing?\", \"I like to dance,do you?\", \"Can you recommend me some books?\"]\n",
    "        # Number of responses generated by model\n",
    "        n_prompts = 10\n",
    "        for i in range(n_prompts):\n",
    "            # Uncomment for taking User Input\n",
    "            # user_prompt = input()\n",
    "            if not user_prompt:\n",
    "                user_prompt = pre_written_prompts[i % len(pre_written_prompts)]\n",
    "            conversation.chat(user_prompt)\n",
    "            print(conversation.messages[-2])\n",
    "            print(conversation.messages[-1])\n",
    "            user_prompt = None\n",
    "    else:\n",
    "        def add_text(history, text):\n",
    "            history = history + [(text, None)]\n",
    "            return history, \"\"\n",
    "\n",
    "        conversation = Conversation()\n",
    "\n",
    "        def bot(history):\n",
    "            conversation.chat(history[-1][0])\n",
    "            response = conversation.messages[-1]\n",
    "            history[-1][1] = response\n",
    "            return history\n",
    "\n",
    "        with Blocks() as demo:\n",
    "            chatbot = Chatbot([], elem_id=\"chatbot\").style()\n",
    "\n",
    "            with Row():\n",
    "                with Column():\n",
    "                    txt = Textbox(\n",
    "                        show_label=False,\n",
    "                        placeholder=\"Enter text and press enter, or upload an image\",\n",
    "                    ).style(container=False)\n",
    "\n",
    "            txt.submit(add_text, [chatbot, txt], [chatbot, txt]).then(\n",
    "                bot, chatbot, chatbot\n",
    "            )\n",
    "\n",
    "        demo.launch()\n",
    "else:\n",
    "    print(\"Selected Model is not PersonaGPT, Please select PersonaGPT in the first cell to have a conversation\")"
   ]
  }
 ],
 "metadata": {
  "kernelspec": {
   "display_name": "Python 3",
   "language": "python",
   "name": "python3"
  },
  "language_info": {
   "codemirror_mode": {
    "name": "ipython",
    "version": 3
   },
   "file_extension": ".py",
   "mimetype": "text/x-python",
   "name": "python",
   "nbconvert_exporter": "python",
   "pygments_lexer": "ipython3",
   "version": "3.8.10"
  },
  "vscode": {
   "interpreter": {
    "hash": "a9b3b68eddeff8457de47f167459c4b20b0e6a6bfb00512a2de4d11c79c0e0f1"
   }
  },
  "widgets": {
   "application/vnd.jupyter.widget-state+json": {
    "state": {
     "007c69499d8148ceadefc4fac5d78c68": {
      "model_module": "@jupyter-widgets/base",
      "model_module_version": "2.0.0",
      "model_name": "LayoutModel",
      "state": {}
     },
     "255a928a026244708ef0356a243e7548": {
      "model_module": "@jupyter-widgets/controls",
      "model_module_version": "2.0.0",
      "model_name": "SelectModel",
      "state": {
       "_options_labels": [
        "Plain",
        "Interactive"
       ],
       "description": "Inference Style:",
       "index": 0,
       "layout": "IPY_MODEL_312352cc85ee4f96834cbcbc5460cf65",
       "style": "IPY_MODEL_f018bc9e22b24e38ac74fa7c82dc6bb4"
      }
     },
     "312352cc85ee4f96834cbcbc5460cf65": {
      "model_module": "@jupyter-widgets/base",
      "model_module_version": "2.0.0",
      "model_name": "LayoutModel",
      "state": {}
     },
     "3fc5d760de6b44d8828eedfce06afea8": {
      "model_module": "@jupyter-widgets/base",
      "model_module_version": "2.0.0",
      "model_name": "LayoutModel",
      "state": {}
     },
     "5747da99bfb74128a4e16280c919c62d": {
      "model_module": "@jupyter-widgets/controls",
      "model_module_version": "2.0.0",
      "model_name": "VBoxModel",
      "state": {
       "children": [
        "IPY_MODEL_e72069e50ae540b9bbc999b0235710d6"
       ],
       "layout": "IPY_MODEL_8276de14bbad4c2ea4ce0aa43d5bc1a1"
      }
     },
     "57ff7d4b4c174f97b28a897615d7e650": {
      "model_module": "@jupyter-widgets/controls",
      "model_module_version": "2.0.0",
      "model_name": "DescriptionStyleModel",
      "state": {
       "description_width": ""
      }
     },
     "8276de14bbad4c2ea4ce0aa43d5bc1a1": {
      "model_module": "@jupyter-widgets/base",
      "model_module_version": "2.0.0",
      "model_name": "LayoutModel",
      "state": {}
     },
     "9c1259643d59457293d7cf0a8189181e": {
      "model_module": "@jupyter-widgets/controls",
      "model_module_version": "2.0.0",
      "model_name": "DropdownModel",
      "state": {
       "_options_labels": [
        "CPU",
        "GNA",
        "AUTO"
       ],
       "description": "Device:",
       "index": 2,
       "layout": "IPY_MODEL_d4bed44ac3ef4047bc078be79cc08ccd",
       "style": "IPY_MODEL_57ff7d4b4c174f97b28a897615d7e650"
      }
     },
     "ad60eb1e54ba4317bdc24d00348e1a5d": {
      "model_module": "@jupyter-widgets/controls",
      "model_module_version": "2.0.0",
      "model_name": "VBoxModel",
      "state": {
       "children": [
        "IPY_MODEL_255a928a026244708ef0356a243e7548"
       ],
       "layout": "IPY_MODEL_007c69499d8148ceadefc4fac5d78c68"
      }
     },
     "d4bed44ac3ef4047bc078be79cc08ccd": {
      "model_module": "@jupyter-widgets/base",
      "model_module_version": "2.0.0",
      "model_name": "LayoutModel",
      "state": {}
     },
     "de0e9ab2d90b443fba3427114febfc2d": {
      "model_module": "@jupyter-widgets/controls",
      "model_module_version": "2.0.0",
      "model_name": "DescriptionStyleModel",
      "state": {
       "description_width": ""
      }
     },
     "e72069e50ae540b9bbc999b0235710d6": {
      "model_module": "@jupyter-widgets/controls",
      "model_module_version": "2.0.0",
      "model_name": "SelectModel",
      "state": {
       "_options_labels": [
        "PersonaGPT (Converastional)",
        "GPT-2",
        "GPT-Neo"
       ],
       "description": "Select Model:",
       "index": 0,
       "layout": "IPY_MODEL_3fc5d760de6b44d8828eedfce06afea8",
       "style": "IPY_MODEL_de0e9ab2d90b443fba3427114febfc2d"
      }
     },
     "f018bc9e22b24e38ac74fa7c82dc6bb4": {
      "model_module": "@jupyter-widgets/controls",
      "model_module_version": "2.0.0",
      "model_name": "DescriptionStyleModel",
      "state": {
       "description_width": ""
      }
     }
    },
    "version_major": 2,
    "version_minor": 0
   }
  }
 },
 "nbformat": 4,
 "nbformat_minor": 4
}