{
 "cells": [
  {
   "cell_type": "markdown",
   "source": [
    "# Tensorflow training OpenVINO\n"
   ],
   "metadata": {}
  },
  {
   "cell_type": "code",
   "execution_count": null,
   "source": [
    "# @title Licensed under the Apache License, Version 2.0 (the \"License\");\n",
    "# you may not use this file except in compliance with the License.\n",
    "# You may obtain a copy of the License at\n",
    "#\n",
    "# https://www.apache.org/licenses/LICENSE-2.0\n",
    "#\n",
    "# Unless required by applicable law or agreed to in writing, software\n",
    "# distributed under the License is distributed on an \"AS IS\" BASIS,\n",
    "# WITHOUT WARRANTIES OR CONDITIONS OF ANY KIND, either express or implied.\n",
    "# See the License for the specific language governing permissions and\n",
    "# limitations under the License.\n",
    "\n",
    "# Copyright 2018 The TensorFlow Authors"
   ],
   "outputs": [],
   "metadata": {}
  },
  {
   "cell_type": "markdown",
   "source": [
    "## From Training to Deployment with TensorFlow and OpenVINO \n",
    "\n",
    "This example demonstrates how to train, convert, and deploy an image classification model with TensorFlow and OpenVINO. This particular notebook shows the process where we perform the inference step on the freshly trained model. \n",
    "\n",
    "The training code is based on the official TensorFlow Image Classification Tutorial: (https://www.tensorflow.org/tutorials/images/classification).\n",
    "\n",
    "The **flower_ir.bin** and **flower_ir.xml** (pre-trained models) can be obtained by executing the code with 'Runtime->Run All' or the Ctrl+F9 command. \n"
   ],
   "metadata": {
    "id": "KwQtSOz0VrVX"
   }
  },
  {
   "cell_type": "markdown",
   "source": [
    "## TensorFlow Image Classification Training"
   ],
   "metadata": {}
  },
  {
   "cell_type": "markdown",
   "source": [
    "The first part of the tutorial shows how to classify images of flowers (based on the TensorFlow's official tutorial). It creates an image classifier using a `keras.Sequential` model, and loads data using `preprocessing.image_dataset_from_directory`. You will gain practical experience with the following concepts:\n",
    "\n",
    "* Efficiently loading a dataset off disk.\n",
    "* Identifying overfitting and applying techniques to mitigate it, including data augmentation and Dropout.\n",
    "\n",
    "This tutorial follows a basic machine learning workflow:\n",
    "\n",
    "1. Examine and understand data\n",
    "2. Build an input pipeline\n",
    "3. Build the model\n",
    "4. Train the model\n",
    "5. Test the model"
   ],
   "metadata": {
    "id": "gN7G9GFmVrVY"
   }
  },
  {
   "cell_type": "markdown",
   "source": [
    "## Import TensorFlow and other libraries"
   ],
   "metadata": {
    "id": "zF9uvbXNVrVY"
   }
  },
  {
   "cell_type": "code",
   "execution_count": null,
   "source": [
    "import matplotlib.pyplot as plt\n",
    "import numpy as np\n",
    "import os\n",
    "import PIL\n",
    "from PIL import Image\n",
    "from pathlib import Path\n",
    "import sys\n",
    "import subprocess\n",
    "import urllib\n",
    "\n",
    "import mo_tf\n",
    "from openvino.inference_engine import IECore\n",
    "\n",
    "import tensorflow as tf\n",
    "from tensorflow import keras\n",
    "from tensorflow.keras import layers\n",
    "from tensorflow.keras.models import Sequential"
   ],
   "outputs": [],
   "metadata": {
    "id": "L1WtoaOHVrVh"
   }
  },
  {
   "cell_type": "markdown",
   "source": [
    "## Download and explore the dataset"
   ],
   "metadata": {
    "id": "UZZI6lNkVrVm"
   }
  },
  {
   "cell_type": "markdown",
   "source": [
    "This tutorial uses a dataset of about 3,700 photos of flowers. The dataset contains 5 sub-directories, one per class:\n",
    "\n",
    "```\n",
    "flower_photo/\n",
    "  daisy/\n",
    "  dandelion/\n",
    "  roses/\n",
    "  sunflowers/\n",
    "  tulips/\n",
    "```"
   ],
   "metadata": {
    "id": "DPHx8-t-VrVo"
   }
  },
  {
   "cell_type": "code",
   "execution_count": null,
   "source": [
    "import pathlib\n",
    "dataset_url = \"https://storage.googleapis.com/download.tensorflow.org/example_images/flower_photos.tgz\"\n",
    "data_dir = tf.keras.utils.get_file('flower_photos', origin=dataset_url, untar=True)\n",
    "data_dir = pathlib.Path(data_dir)"
   ],
   "outputs": [],
   "metadata": {
    "id": "57CcilYSG0zv"
   }
  },
  {
   "cell_type": "markdown",
   "source": [
    "After downloading, you should now have a copy of the dataset available. There are 3,670 total images:"
   ],
   "metadata": {
    "id": "VpmywIlsVrVx"
   }
  },
  {
   "cell_type": "code",
   "execution_count": null,
   "source": [
    "image_count = len(list(data_dir.glob('*/*.jpg')))\n",
    "print(image_count)"
   ],
   "outputs": [],
   "metadata": {
    "id": "SbtTDYhOHZb6"
   }
  },
  {
   "cell_type": "markdown",
   "source": [
    "Here are some roses:"
   ],
   "metadata": {
    "id": "PVmwkOSdHZ5A"
   }
  },
  {
   "cell_type": "code",
   "execution_count": null,
   "source": [
    "roses = list(data_dir.glob('roses/*'))\n",
    "PIL.Image.open(str(roses[0]))"
   ],
   "outputs": [],
   "metadata": {
    "id": "N1loMlbYHeiJ"
   }
  },
  {
   "cell_type": "code",
   "execution_count": null,
   "source": [
    "PIL.Image.open(str(roses[1]))"
   ],
   "outputs": [],
   "metadata": {
    "id": "RQbZBOTLHiUP"
   }
  },
  {
   "cell_type": "markdown",
   "source": [
    "And some tulips:"
   ],
   "metadata": {
    "id": "DGEqiBbRHnyI"
   }
  },
  {
   "cell_type": "code",
   "execution_count": null,
   "source": [
    "tulips = list(data_dir.glob('tulips/*'))\n",
    "PIL.Image.open(str(tulips[0]))"
   ],
   "outputs": [],
   "metadata": {
    "id": "HyQkfPGdHilw"
   }
  },
  {
   "cell_type": "code",
   "execution_count": null,
   "source": [
    "PIL.Image.open(str(tulips[1]))"
   ],
   "outputs": [],
   "metadata": {
    "id": "wtlhWJPAHivf"
   }
  },
  {
   "cell_type": "markdown",
   "source": [
    "# Load using keras.preprocessing\n",
    "\n",
    "Let's load these images off disk using the helpful [image_dataset_from_directory](https://www.tensorflow.org/api_docs/python/tf/keras/preprocessing/image_dataset_from_directory) utility. This will take you from a directory of images on disk to a `tf.data.Dataset` in just a couple lines of code. If you like, you can also write your own data loading code from scratch by visiting the [load images](https://www.tensorflow.org/tutorials/load_data/images) tutorial."
   ],
   "metadata": {
    "id": "gIjgz7_JIo_m"
   }
  },
  {
   "cell_type": "markdown",
   "source": [
    "## Create a dataset"
   ],
   "metadata": {
    "id": "xyDNn9MbIzfT"
   }
  },
  {
   "cell_type": "markdown",
   "source": [
    "Define some parameters for the loader:"
   ],
   "metadata": {
    "id": "anqiK_AGI086"
   }
  },
  {
   "cell_type": "code",
   "execution_count": null,
   "source": [
    "batch_size = 32\n",
    "img_height = 180\n",
    "img_width = 180"
   ],
   "outputs": [],
   "metadata": {
    "id": "H74l2DoDI2XD"
   }
  },
  {
   "cell_type": "markdown",
   "source": [
    "It's good practice to use a validation split when developing your model. Let's use 80% of the images for training, and 20% for validation."
   ],
   "metadata": {
    "id": "pFBhRrrEI49z"
   }
  },
  {
   "cell_type": "code",
   "execution_count": null,
   "source": [
    "train_ds = tf.keras.preprocessing.image_dataset_from_directory(\n",
    "  data_dir,\n",
    "  validation_split=0.2,\n",
    "  subset=\"training\",\n",
    "  seed=123,\n",
    "  image_size=(img_height, img_width),\n",
    "  batch_size=batch_size)"
   ],
   "outputs": [],
   "metadata": {
    "id": "fIR0kRZiI_AT"
   }
  },
  {
   "cell_type": "code",
   "execution_count": null,
   "source": [
    "val_ds = tf.keras.preprocessing.image_dataset_from_directory(\n",
    "  data_dir,\n",
    "  validation_split=0.2,\n",
    "  subset=\"validation\",\n",
    "  seed=123,\n",
    "  image_size=(img_height, img_width),\n",
    "  batch_size=batch_size)"
   ],
   "outputs": [],
   "metadata": {
    "id": "iscU3UoVJBXj"
   }
  },
  {
   "cell_type": "markdown",
   "source": [
    "You can find the class names in the `class_names` attribute on these datasets. These correspond to the directory names in alphabetical order."
   ],
   "metadata": {
    "id": "WLQULyAvJC3X"
   }
  },
  {
   "cell_type": "code",
   "execution_count": null,
   "source": [
    "class_names = train_ds.class_names\n",
    "print(class_names)"
   ],
   "outputs": [],
   "metadata": {
    "id": "ZHAxkHX5JD3k"
   }
  },
  {
   "cell_type": "markdown",
   "source": [
    "## Visualize the data\n",
    "\n",
    "Here are the first 9 images from the training dataset."
   ],
   "metadata": {
    "id": "_uoVvxSLJW9m"
   }
  },
  {
   "cell_type": "code",
   "execution_count": null,
   "source": [
    "import matplotlib.pyplot as plt\n",
    "\n",
    "plt.figure(figsize=(10, 10))\n",
    "for images, labels in train_ds.take(1):\n",
    "  for i in range(9):\n",
    "    ax = plt.subplot(3, 3, i + 1)\n",
    "    plt.imshow(images[i].numpy().astype(\"uint8\"))\n",
    "    plt.title(class_names[labels[i]])\n",
    "    plt.axis(\"off\")"
   ],
   "outputs": [],
   "metadata": {
    "id": "wBmEA9c0JYes"
   }
  },
  {
   "cell_type": "markdown",
   "source": [
    "You will train a model using these datasets by passing them to `model.fit` in a moment. If you like, you can also manually iterate over the dataset and retrieve batches of images:"
   ],
   "metadata": {
    "id": "5M6BXtXFJdW0"
   }
  },
  {
   "cell_type": "code",
   "execution_count": null,
   "source": [
    "for image_batch, labels_batch in train_ds:\n",
    "  print(image_batch.shape)\n",
    "  print(labels_batch.shape)\n",
    "  break"
   ],
   "outputs": [],
   "metadata": {
    "id": "2-MfMoenJi8s"
   }
  },
  {
   "cell_type": "markdown",
   "source": [
    "The `image_batch` is a tensor of the shape `(32, 180, 180, 3)`. This is a batch of 32 images of shape `180x180x3` (the last dimension refers to color channels RGB). The `label_batch` is a tensor of the shape `(32,)`, these are corresponding labels to the 32 images. \n",
    "\n",
    "You can call `.numpy()` on the `image_batch` and `labels_batch` tensors to convert them to a `numpy.ndarray`.\n"
   ],
   "metadata": {
    "id": "Wj4FrKxxJkoW"
   }
  },
  {
   "cell_type": "markdown",
   "source": [
    "## Configure the dataset for performance\n",
    "\n",
    "Let's make sure to use buffered prefetching so you can yield data from disk without having I/O become blocking. These are two important methods you should use when loading data.\n",
    "\n",
    "`Dataset.cache()` keeps the images in memory after they're loaded off disk during the first epoch. This will ensure the dataset does not become a bottleneck while training your model. If your dataset is too large to fit into memory, you can also use this method to create a performant on-disk cache.\n",
    "\n",
    "`Dataset.prefetch()` overlaps data preprocessing and model execution while training. \n",
    "\n",
    "Interested readers can learn more about both methods, as well as how to cache data to disk in the [data performance guide](https://www.tensorflow.org/guide/data_performance#prefetching)."
   ],
   "metadata": {
    "id": "4Dr0at41KcAU"
   }
  },
  {
   "cell_type": "code",
   "execution_count": null,
   "source": [
    "# AUTOTUNE = tf.data.AUTOTUNE\n",
    "AUTOTUNE = tf.data.experimental.AUTOTUNE\n",
    "train_ds = train_ds.cache().shuffle(1000).prefetch(buffer_size=AUTOTUNE)\n",
    "val_ds = val_ds.cache().prefetch(buffer_size=AUTOTUNE)"
   ],
   "outputs": [],
   "metadata": {
    "id": "nOjJSm7DKoZA"
   }
  },
  {
   "cell_type": "markdown",
   "source": [
    "## Standardize the data"
   ],
   "metadata": {
    "id": "8GUnmPF4JvEf"
   }
  },
  {
   "cell_type": "markdown",
   "source": [
    "The RGB channel values are in the `[0, 255]` range. This is not ideal for a neural network; in general you should seek to make your input values small. Here, you will standardize values to be in the `[0, 1]` range by using a Rescaling layer."
   ],
   "metadata": {
    "id": "e56VXHMWJxYT"
   }
  },
  {
   "cell_type": "code",
   "execution_count": null,
   "source": [
    "normalization_layer = layers.experimental.preprocessing.Rescaling(1./255)"
   ],
   "outputs": [],
   "metadata": {
    "id": "PEYxo2CTJvY9"
   }
  },
  {
   "cell_type": "markdown",
   "source": [
    "Note: The Keras Preprocessing utilities and layers introduced in this section are currently experimental and may change."
   ],
   "metadata": {
    "id": "8aGpkwFaIw4i"
   }
  },
  {
   "cell_type": "markdown",
   "source": [
    "There are two ways to use this layer. You can apply it to the dataset by calling map:"
   ],
   "metadata": {
    "id": "Bl4RmanbJ4g0"
   }
  },
  {
   "cell_type": "code",
   "execution_count": null,
   "source": [
    "normalized_ds = train_ds.map(lambda x, y: (normalization_layer(x), y))\n",
    "image_batch, labels_batch = next(iter(normalized_ds))\n",
    "first_image = image_batch[0]\n",
    "# Notice the pixels values are now in `[0,1]`.\n",
    "print(np.min(first_image), np.max(first_image)) "
   ],
   "outputs": [],
   "metadata": {
    "id": "X9o9ESaJJ502"
   }
  },
  {
   "cell_type": "markdown",
   "source": [
    "Or, you can include the layer inside your model definition, which can simplify deployment. Let's use the second approach here."
   ],
   "metadata": {
    "id": "XWEOmRSBJ9J8"
   }
  },
  {
   "cell_type": "markdown",
   "source": [
    "Note: you previously resized images using the `image_size` argument of `image_dataset_from_directory`. If you want to include the resizing logic in your model as well, you can use the [Resizing](https://www.tensorflow.org/api_docs/python/tf/keras/layers/experimental/preprocessing/Resizing) layer."
   ],
   "metadata": {
    "id": "XsRk1xCwKZR4"
   }
  },
  {
   "cell_type": "markdown",
   "source": [
    "# Create the model\n",
    "\n",
    "The model consists of three convolution blocks with a max pool layer in each of them. There's a fully connected layer with 128 units on top of it that is activated by a `relu` activation function. This model has not been tuned for high accuracy, the goal of this tutorial is to show a standard approach. "
   ],
   "metadata": {
    "id": "WcUTyDOPKucd"
   }
  },
  {
   "cell_type": "code",
   "execution_count": null,
   "source": [
    "num_classes = 5\n",
    "\n",
    "model = Sequential([\n",
    "  layers.experimental.preprocessing.Rescaling(1./255, input_shape=(img_height, img_width, 3)),\n",
    "  layers.Conv2D(16, 3, padding='same', activation='relu'),\n",
    "  layers.MaxPooling2D(),\n",
    "  layers.Conv2D(32, 3, padding='same', activation='relu'),\n",
    "  layers.MaxPooling2D(),\n",
    "  layers.Conv2D(64, 3, padding='same', activation='relu'),\n",
    "  layers.MaxPooling2D(),\n",
    "  layers.Flatten(),\n",
    "  layers.Dense(128, activation='relu'),\n",
    "  layers.Dense(num_classes)\n",
    "])"
   ],
   "outputs": [],
   "metadata": {
    "id": "QR6argA1K074"
   }
  },
  {
   "cell_type": "markdown",
   "source": [
    "## Compile the model\n",
    "\n",
    "For this tutorial, choose the `optimizers.Adam` optimizer and `losses.SparseCategoricalCrossentropy` loss function. To view training and validation accuracy for each training epoch, pass the `metrics` argument."
   ],
   "metadata": {
    "id": "EaKFzz72Lqpg"
   }
  },
  {
   "cell_type": "code",
   "execution_count": null,
   "source": [
    "model.compile(optimizer='adam',\n",
    "              loss=tf.keras.losses.SparseCategoricalCrossentropy(from_logits=True),\n",
    "              metrics=['accuracy'])"
   ],
   "outputs": [],
   "metadata": {
    "id": "jloGNS1MLx3A"
   }
  },
  {
   "cell_type": "markdown",
   "source": [
    "## Model summary\n",
    "\n",
    "View all the layers of the network using the model's `summary` method.\n",
    "\n",
    "> **NOTE:** This section is commented out for performance reasons. Please feel free to uncomment these to compare the results."
   ],
   "metadata": {
    "id": "aMJ4DnuJL55A"
   }
  },
  {
   "cell_type": "code",
   "execution_count": null,
   "source": [
    "# model.summary()"
   ],
   "outputs": [],
   "metadata": {
    "id": "llLYH-BXL7Xe"
   }
  },
  {
   "cell_type": "markdown",
   "source": [
    "## Train the model"
   ],
   "metadata": {
    "id": "NiYHcbvaL9H-"
   }
  },
  {
   "cell_type": "code",
   "execution_count": null,
   "source": [
    "# epochs=10\n",
    "# history = model.fit(\n",
    "#   train_ds,\n",
    "#   validation_data=val_ds,\n",
    "#   epochs=epochs\n",
    "# )"
   ],
   "outputs": [],
   "metadata": {
    "id": "5fWToCqYMErH"
   }
  },
  {
   "cell_type": "markdown",
   "source": [
    "## Visualize training results"
   ],
   "metadata": {
    "id": "SyFKdQpXMJT4"
   }
  },
  {
   "cell_type": "markdown",
   "source": [
    "Create plots of loss and accuracy on the training and validation sets."
   ],
   "metadata": {
    "id": "dFvOvmAmMK9w"
   }
  },
  {
   "cell_type": "code",
   "execution_count": null,
   "source": [
    "# acc = history.history['accuracy']\n",
    "# val_acc = history.history['val_accuracy']\n",
    "\n",
    "# loss = history.history['loss']\n",
    "# val_loss = history.history['val_loss']\n",
    "\n",
    "# epochs_range = range(epochs)\n",
    "\n",
    "# plt.figure(figsize=(8, 8))\n",
    "# plt.subplot(1, 2, 1)\n",
    "# plt.plot(epochs_range, acc, label='Training Accuracy')\n",
    "# plt.plot(epochs_range, val_acc, label='Validation Accuracy')\n",
    "# plt.legend(loc='lower right')\n",
    "# plt.title('Training and Validation Accuracy')\n",
    "\n",
    "# plt.subplot(1, 2, 2)\n",
    "# plt.plot(epochs_range, loss, label='Training Loss')\n",
    "# plt.plot(epochs_range, val_loss, label='Validation Loss')\n",
    "# plt.legend(loc='upper right')\n",
    "# plt.title('Training and Validation Loss')\n",
    "# plt.show()"
   ],
   "outputs": [],
   "metadata": {
    "id": "jWnopEChMMCn"
   }
  },
  {
   "cell_type": "markdown",
   "source": [
    "As you can see from the plots, training accuracy and validation accuracy are off by large margin and the model has achieved only around 60% accuracy on the validation set.\n",
    "\n",
    "Let's look at what went wrong and try to increase the overall performance of the model."
   ],
   "metadata": {
    "id": "hO_jT7HwMrEn"
   }
  },
  {
   "cell_type": "markdown",
   "source": [
    "## Overfitting"
   ],
   "metadata": {
    "id": "hqtyGodAMvNV"
   }
  },
  {
   "cell_type": "markdown",
   "source": [
    "In the plots above, the training accuracy is increasing linearly over time, whereas validation accuracy stalls around 60% in the training process. Also, the difference in accuracy between training and validation accuracy is noticeable—a sign of [overfitting](https://www.tensorflow.org/tutorials/keras/overfit_and_underfit).\n",
    "\n",
    "When there are a small number of training examples, the model sometimes learns from noises or unwanted details from training examples—to an extent that it negatively impacts the performance of the model on new examples. This phenomenon is known as overfitting. It means that the model will have a difficult time generalizing on a new dataset.\n",
    "\n",
    "There are multiple ways to fight overfitting in the training process. In this tutorial, you'll use *data augmentation* and add *Dropout* to your model."
   ],
   "metadata": {
    "id": "ixsz9XFfMxcu"
   }
  },
  {
   "cell_type": "markdown",
   "source": [
    "## Data augmentation"
   ],
   "metadata": {
    "id": "BDMfYqwmM1C-"
   }
  },
  {
   "cell_type": "markdown",
   "source": [
    "Overfitting generally occurs when there are a small number of training examples. [Data augmentation](https://www.tensorflow.org/tutorials/images/data_augmentation) takes the approach of generating additional training data from your existing examples by augmenting them using random transformations that yield believable-looking images. This helps expose the model to more aspects of the data and generalize better.\n",
    "\n",
    "You will implement data augmentation using the layers from `tf.keras.layers.experimental.preprocessing`. These can be included inside your model like other layers, and run on the GPU."
   ],
   "metadata": {
    "id": "GxYwix81M2YO"
   }
  },
  {
   "cell_type": "code",
   "execution_count": null,
   "source": [
    "data_augmentation = keras.Sequential(\n",
    "  [\n",
    "    layers.experimental.preprocessing.RandomFlip(\"horizontal\", \n",
    "                                                 input_shape=(img_height, \n",
    "                                                              img_width,\n",
    "                                                              3)),\n",
    "    layers.experimental.preprocessing.RandomRotation(0.1),\n",
    "    layers.experimental.preprocessing.RandomZoom(0.1),\n",
    "  ]\n",
    ")"
   ],
   "outputs": [],
   "metadata": {
    "id": "9J80BAbIMs21"
   }
  },
  {
   "cell_type": "markdown",
   "source": [
    "Let's visualize what a few augmented examples look like by applying data augmentation to the same image several times:"
   ],
   "metadata": {
    "id": "PN4k1dK3S6eV"
   }
  },
  {
   "cell_type": "code",
   "execution_count": null,
   "source": [
    "plt.figure(figsize=(10, 10))\n",
    "for images, _ in train_ds.take(1):\n",
    "  for i in range(9):\n",
    "    augmented_images = data_augmentation(images)\n",
    "    ax = plt.subplot(3, 3, i + 1)\n",
    "    plt.imshow(augmented_images[0].numpy().astype(\"uint8\"))\n",
    "    plt.axis(\"off\")"
   ],
   "outputs": [],
   "metadata": {
    "id": "7Z90k539S838"
   }
  },
  {
   "cell_type": "markdown",
   "source": [
    "You will use data augmentation to train a model in a moment."
   ],
   "metadata": {
    "id": "tsjXCBLYYNs5"
   }
  },
  {
   "cell_type": "markdown",
   "source": [
    "## Dropout\n",
    "\n",
    "Another technique to reduce overfitting is to introduce [Dropout](https://developers.google.com/machine-learning/glossary#dropout_regularization) to the network, a form of *regularization*.\n",
    "\n",
    "When you apply Dropout to a layer it randomly drops out (by setting the activation to zero) a number of output units from the layer during the training process. Dropout takes a fractional number as its input value, in the form such as 0.1, 0.2, 0.4, etc. This means dropping out 10%, 20% or 40% of the output units randomly from the applied layer.\n",
    "\n",
    "Let's create a new neural network using `layers.Dropout`, then train it using augmented images."
   ],
   "metadata": {
    "id": "ZeD3bXepYKXs"
   }
  },
  {
   "cell_type": "code",
   "execution_count": null,
   "source": [
    "model = Sequential([\n",
    "  data_augmentation,\n",
    "  layers.experimental.preprocessing.Rescaling(1./255),\n",
    "  layers.Conv2D(16, 3, padding='same', activation='relu'),\n",
    "  layers.MaxPooling2D(),\n",
    "  layers.Conv2D(32, 3, padding='same', activation='relu'),\n",
    "  layers.MaxPooling2D(),\n",
    "  layers.Conv2D(64, 3, padding='same', activation='relu'),\n",
    "  layers.MaxPooling2D(),\n",
    "  layers.Dropout(0.2),\n",
    "  layers.Flatten(),\n",
    "  layers.Dense(128, activation='relu'),\n",
    "  layers.Dense(num_classes)\n",
    "])"
   ],
   "outputs": [],
   "metadata": {
    "id": "2Zeg8zsqXCsm"
   }
  },
  {
   "cell_type": "markdown",
   "source": [
    "## Compile and train the model"
   ],
   "metadata": {
    "id": "L4nEcuqgZLbi"
   }
  },
  {
   "cell_type": "code",
   "execution_count": null,
   "source": [
    "model.compile(optimizer='adam',\n",
    "              loss=tf.keras.losses.SparseCategoricalCrossentropy(from_logits=True),\n",
    "              metrics=['accuracy'])"
   ],
   "outputs": [],
   "metadata": {
    "id": "EvyAINs9ZOmJ"
   }
  },
  {
   "cell_type": "code",
   "execution_count": null,
   "source": [
    "model.summary()"
   ],
   "outputs": [],
   "metadata": {
    "id": "wWLkKoKjZSoC"
   }
  },
  {
   "cell_type": "code",
   "execution_count": null,
   "source": [
    "epochs = 15\n",
    "history = model.fit(\n",
    "  train_ds,\n",
    "  validation_data=val_ds,\n",
    "  epochs=epochs\n",
    ")"
   ],
   "outputs": [],
   "metadata": {
    "id": "LWS-vvNaZDag"
   }
  },
  {
   "cell_type": "markdown",
   "source": [
    "## Visualize training results\n",
    "\n",
    "After applying data augmentation and Dropout, there is less overfitting than before, and training and validation accuracy are closer aligned. "
   ],
   "metadata": {
    "id": "Lkdl8VsBbZOu"
   }
  },
  {
   "cell_type": "code",
   "execution_count": null,
   "source": [
    "acc = history.history['accuracy']\n",
    "val_acc = history.history['val_accuracy']\n",
    "\n",
    "loss = history.history['loss']\n",
    "val_loss = history.history['val_loss']\n",
    "\n",
    "epochs_range = range(epochs)\n",
    "\n",
    "plt.figure(figsize=(8, 8))\n",
    "plt.subplot(1, 2, 1)\n",
    "plt.plot(epochs_range, acc, label='Training Accuracy')\n",
    "plt.plot(epochs_range, val_acc, label='Validation Accuracy')\n",
    "plt.legend(loc='lower right')\n",
    "plt.title('Training and Validation Accuracy')\n",
    "\n",
    "plt.subplot(1, 2, 2)\n",
    "plt.plot(epochs_range, loss, label='Training Loss')\n",
    "plt.plot(epochs_range, val_loss, label='Validation Loss')\n",
    "plt.legend(loc='upper right')\n",
    "plt.title('Training and Validation Loss')\n",
    "plt.show()"
   ],
   "outputs": [],
   "metadata": {
    "id": "dduoLfKsZVIA"
   }
  },
  {
   "cell_type": "markdown",
   "source": [
    "## Predict on new data"
   ],
   "metadata": {
    "id": "dtv5VbaVb-3W"
   }
  },
  {
   "cell_type": "markdown",
   "source": [
    "Finally, let's use our model to classify an image that wasn't included in the training or validation sets."
   ],
   "metadata": {
    "id": "10buWpJbcCQz"
   }
  },
  {
   "cell_type": "markdown",
   "source": [
    "Note: Data augmentation and Dropout layers are inactive at inference time."
   ],
   "metadata": {
    "id": "NKgMZ4bDcHf7"
   }
  },
  {
   "cell_type": "code",
   "execution_count": null,
   "source": [
    "sunflower_url = \"https://storage.googleapis.com/download.tensorflow.org/example_images/592px-Red_sunflower.jpg\"\n",
    "sunflower_path = tf.keras.utils.get_file('Red_sunflower', origin=sunflower_url)\n",
    "\n",
    "img = keras.preprocessing.image.load_img(\n",
    "    sunflower_path, target_size=(img_height, img_width)\n",
    ")\n",
    "img_array = keras.preprocessing.image.img_to_array(img)\n",
    "img_array = tf.expand_dims(img_array, 0) # Create a batch\n",
    "\n",
    "predictions = model.predict(img_array)\n",
    "score = tf.nn.softmax(predictions[0])\n",
    "\n",
    "print(\n",
    "    \"This image most likely belongs to {} with a {:.2f} percent confidence.\"\n",
    "    .format(class_names[np.argmax(score)], 100 * np.max(score))\n",
    ")"
   ],
   "outputs": [],
   "metadata": {
    "id": "dC40sRITBSsQ",
    "tags": []
   }
  },
  {
   "cell_type": "markdown",
   "source": [
    "## Save the TensorFlow Model"
   ],
   "metadata": {}
  },
  {
   "cell_type": "code",
   "execution_count": null,
   "source": [
    "#save the trained model - a new folder flower will be created\n",
    "#and the file \"saved_model.pb\" is the pre-trained model\n",
    "model_dir = \"model\"\n",
    "model_fname = f\"{model_dir}/flower\"\n",
    "model.save(model_fname)"
   ],
   "outputs": [],
   "metadata": {}
  },
  {
   "cell_type": "markdown",
   "source": [
    "# Convert the TensorFlow model with OpenVINO Model Optimizer"
   ],
   "metadata": {}
  },
  {
   "cell_type": "code",
   "execution_count": null,
   "source": [
    "# The paths of the source and converted models\n",
    "model_name = \"flower\"\n",
    "model_path = Path(model_fname)\n",
    "ir_data_type = \"FP16\"\n",
    "ir_model_name = \"flower_ir\"\n",
    "\n",
    "# Get the path to the Model Optimizer script\n",
    "mo_path = str(Path(mo_tf.__file__))\n",
    "\n",
    "# Construct the command for Model Optimizer\n",
    "mo_command = f\"\"\"\"{sys.executable}\"\n",
    "                 \"{mo_path}\" \n",
    "                 --saved_model_dir \"{model_fname}\"\n",
    "                 --input_shape \"[1,180,180,3]\" \n",
    "                 --data_type \"{ir_data_type}\" \n",
    "                 --output_dir \"{model_fname}\"\n",
    "                 --model_name \"{ir_model_name}\"\n",
    "                 \"\"\"\n",
    "mo_command = \" \".join(mo_command.split())\n",
    "print(\"Model Optimizer command to convert TensorFlow to OpenVINO:\")\n",
    "print(mo_command)"
   ],
   "outputs": [],
   "metadata": {}
  },
  {
   "cell_type": "code",
   "execution_count": null,
   "source": [
    "# Run the Model Optimizer (overwrites the older model)\n",
    "print(\"Exporting TensorFlow model to IR... This may take a few minutes.\")\n",
    "mo_result = %sx $mo_command\n",
    "print(\"\\n\".join(mo_result))"
   ],
   "outputs": [],
   "metadata": {}
  },
  {
   "cell_type": "markdown",
   "source": [
    "## Preprocessing Image Function"
   ],
   "metadata": {}
  },
  {
   "cell_type": "code",
   "execution_count": null,
   "source": [
    "def pre_process_image(imagePath, img_height=180):\n",
    "    # Model input format\n",
    "    n, c, h, w = [1, 3, img_height, img_height]\n",
    "    image = Image.open(imagePath)\n",
    "    image = image.resize((h, w), resample=Image.BILINEAR)\n",
    "\n",
    "    # Normalize to keep data between 0 - 1\n",
    "    image = np.array(image) \n",
    "\n",
    "    # Change data layout from HWC to CHW\n",
    "    image = image.transpose((2, 0, 1))\n",
    "    input_image = image.reshape((n, c, h, w))\n",
    "\n",
    "    return input_image"
   ],
   "outputs": [],
   "metadata": {}
  },
  {
   "cell_type": "markdown",
   "source": [
    "## OpenVINO Inference Engine Setup"
   ],
   "metadata": {}
  },
  {
   "cell_type": "code",
   "execution_count": null,
   "source": [
    "class_names=[\"daisy\", \"dandelion\", \"roses\", \"sunflowers\", \"tulips\"]\n",
    "\n",
    "model_xml = f\"{model_fname}/flower_ir.xml\"\n",
    "\n",
    "# Load network to the plugin\n",
    "ie = IECore()\n",
    "net = ie.read_network(model=model_xml)\n",
    "\n",
    "# Neural Compute Stick\n",
    "# exec_net = ie.load_network(network=net, device_name=\"MYRIAD\")\n",
    "exec_net = ie.load_network(network=net, device_name=\"CPU\")\n",
    "\n",
    "del net\n",
    "\n",
    "input_layer = next(iter(exec_net.input_info))\n",
    "output_layer = next(iter(exec_net.outputs))"
   ],
   "outputs": [],
   "metadata": {}
  },
  {
   "cell_type": "markdown",
   "source": [
    "## Run the Inference Step"
   ],
   "metadata": {}
  },
  {
   "cell_type": "code",
   "execution_count": null,
   "source": [
    "# Run the Inference on the Input image...\n",
    "inp_img_url = \"https://upload.wikimedia.org/wikipedia/commons/4/48/A_Close_Up_Photo_of_a_Dandelion.jpg\"\n",
    "OUTPUT_DIR = \"output\"\n",
    "inp_file_name = f\"{OUTPUT_DIR}/A_Close_Up_Photo_of_a_Dandelion.jpg\"\n",
    "\n",
    "os.makedirs(OUTPUT_DIR, exist_ok=True)\n",
    "\n",
    "# Download the image from the storage\n",
    "urllib.request.urlretrieve(inp_img_url, inp_file_name)\n",
    "\n",
    "#Pre-process the image and get it ready for inference.\n",
    "input_image = pre_process_image(inp_file_name)\n",
    "\n",
    "res = exec_net.infer(inputs={input_layer: input_image})\n",
    "res = res[output_layer]\n",
    "\n",
    "score = tf.nn.softmax(res[0])\n",
    "\n",
    "#show the results\n",
    "image = Image.open(inp_file_name)\n",
    "plt.imshow(image)\n",
    "print(\n",
    "    \"This image most likely belongs to {} with a {:.2f} percent confidence.\"\n",
    "    .format(class_names[np.argmax(score)], 100 * np.max(score))\n",
    ")"
   ],
   "outputs": [],
   "metadata": {}
  },
  {
   "cell_type": "markdown",
   "source": [
    "# Thank you! "
   ],
   "metadata": {}
  }
 ],
 "metadata": {
  "accelerator": "GPU",
  "colab": {
   "collapsed_sections": [],
   "name": "classification.ipynb",
   "toc_visible": true
  },
  "kernelspec": {
   "display_name": "openvino_env",
   "language": "python",
   "name": "openvino_env"
  },
  "language_info": {
   "codemirror_mode": {
    "name": "ipython",
    "version": 3
   },
   "file_extension": ".py",
   "mimetype": "text/x-python",
   "name": "python",
   "nbconvert_exporter": "python",
   "pygments_lexer": "ipython3",
   "version": "3.7.9"
  }
 },
 "nbformat": 4,
 "nbformat_minor": 4
}