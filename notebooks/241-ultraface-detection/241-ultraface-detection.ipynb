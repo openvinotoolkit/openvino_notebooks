{
 "cells": [
  {
   "cell_type": "markdown",
   "id": "968e6b19",
   "metadata": {},
   "source": [
    "# Ultra-lightweight face detection model with OpenVINO\n",
    "\n",
    "- This tutorial demonstrates Ultra-lightweight face detection in OpenVINO using both imgs and videos.\n",
    "- Model information can be found in [Ultra-Light-Fast-Generic-Face-Detector-1MB](https://github.com/Linzaer/Ultra-Light-Fast-Generic-Face-Detector-1MB).\n",
    "\n",
    "<img src='https://github.com/Linzaer/Ultra-Light-Fast-Generic-Face-Detector-1MB/raw/master/readme_imgs/27.jpg' width=\"50%\">\n",
    "\n",
    "\n",
    "### What is Ultra-Light-Fast-Generic-Face-Detector-1MB?\n",
    "This model is a lightweight facedetection model designed for edge computing devices.\n",
    "\n",
    "- In terms of model size, the default FP32 precision (.pth) file size is **1.04~1.1MB**, and the inference framework int8 quantization size is about **300KB**.\n",
    "- In terms of the calculation amount of the model, the input resolution of 320x240 is about **90~109 MFlops**.\n",
    "- There are two versions of the model, version-slim (network backbone simplification,slightly faster) and version-RFB (with the modified RFB module, higher precision).\n",
    "- Widerface training pre-training model with different input resolutions of 320x240 and 640x480 is provided to better work in different application scenarios.\n"
   ]
  },
  {
   "cell_type": "markdown",
   "id": "a8890342",
   "metadata": {},
   "source": [
    "## Preparation\n",
    "\n",
    "### Imports"
   ]
  },
  {
   "cell_type": "code",
   "execution_count": null,
   "id": "73e8c5f9",
   "metadata": {},
   "outputs": [],
   "source": [
    "import cv2\n",
    "import numpy as np\n",
    "import time\n",
    "from pathlib import Path\n",
    "from openvino.inference_engine import IECore\n",
    "import matplotlib.cm\n",
    "import matplotlib.pyplot as plt\n",
    "from IPython.display import (\n",
    "    Video,\n",
    "    display,\n",
    "    FileLink,\n",
    "    HTML\n",
    ")"
   ]
  },
  {
   "cell_type": "markdown",
   "id": "dd18d5fa",
   "metadata": {},
   "source": [
    "### Settings"
   ]
  },
  {
   "cell_type": "code",
   "execution_count": null,
   "id": "ebad916c",
   "metadata": {},
   "outputs": [],
   "source": [
    "DEVICE = \"CPU\"\n",
    "#MODEL_XML = r\"models\\version-RFB-640.xml\"\n",
    "#MODEL_BIN = r\"models\\version-RFB-640.bin\"\n",
    "\n",
    "MODEL_XML = r\"models\\version-RFB-320.xml\"\n",
    "MODEL_BIN = r\"models\\version-RFB-320.bin\""
   ]
  },
  {
   "cell_type": "markdown",
   "id": "e2329016",
   "metadata": {},
   "source": [
    "## Functions"
   ]
  },
  {
   "cell_type": "code",
   "execution_count": null,
   "id": "2c7b711f",
   "metadata": {},
   "outputs": [],
   "source": [
    "def to_rgb(image_data) -> np.ndarray:\n",
    "    \"\"\"\n",
    "    Convert image_data from BGR to RGB\n",
    "    \"\"\"\n",
    "    return cv2.cvtColor(image_data, cv2.COLOR_BGR2RGB)\n",
    "\n",
    "def area_of(left_top, right_bottom):\n",
    "    \"\"\"\n",
    "    Compute the areas of rectangles given two corners.\n",
    "    Args:\n",
    "        left_top (N, 2): left top corner.\n",
    "        right_bottom (N, 2): right bottom corner.\n",
    "\n",
    "    Returns:\n",
    "        area (N): return the area.\n",
    "    \"\"\"\n",
    "    hw = np.clip(right_bottom - left_top, 0.0, None)\n",
    "    return hw[..., 0] * hw[..., 1]\n",
    "\n",
    "def iou_of(boxes0, boxes1, eps=1e-5):\n",
    "    \"\"\"\n",
    "    Return intersection-over-union (Jaccard index) of boxes.\n",
    "    Args:\n",
    "        boxes0 (N, 4): ground truth boxes.\n",
    "        boxes1 (N or 1, 4): predicted boxes.\n",
    "        eps: a small number to avoid 0 as denominator.\n",
    "    Returns:\n",
    "        iou (N): IoU values.\n",
    "    \"\"\"\n",
    "    overlap_left_top = np.maximum(boxes0[..., :2], boxes1[..., :2])\n",
    "    overlap_right_bottom = np.minimum(boxes0[..., 2:], boxes1[..., 2:])\n",
    "\n",
    "    overlap_area = area_of(overlap_left_top, overlap_right_bottom)\n",
    "    area0 = area_of(boxes0[..., :2], boxes0[..., 2:])\n",
    "    area1 = area_of(boxes1[..., :2], boxes1[..., 2:])\n",
    "    return overlap_area / (area0 + area1 - overlap_area + eps)\n",
    "\n",
    "def hard_nms(box_scores, iou_threshold, top_k=-1, candidate_size=200):\n",
    "    \"\"\"\n",
    "    Args:\n",
    "        box_scores (N, 5): boxes in corner-form and probabilities.\n",
    "        iou_threshold: intersection over union threshold.\n",
    "        top_k: keep top_k results. If k <= 0, keep all the results.\n",
    "        candidate_size: only consider the candidates with the highest scores.\n",
    "    Returns:\n",
    "         picked: a list of indexes of the kept boxes\n",
    "    \"\"\"\n",
    "    scores = box_scores[:, -1]\n",
    "    boxes = box_scores[:, :-1]\n",
    "    picked = []\n",
    "    # _, indexes = scores.sort(descending=True)\n",
    "    indexes = np.argsort(scores)\n",
    "    # indexes = indexes[:candidate_size]\n",
    "    indexes = indexes[-candidate_size:]\n",
    "    while len(indexes) > 0:\n",
    "        # current = indexes[0]\n",
    "        current = indexes[-1]\n",
    "        picked.append(current)\n",
    "        if 0 < top_k == len(picked) or len(indexes) == 1:\n",
    "            break\n",
    "        current_box = boxes[current, :]\n",
    "        # indexes = indexes[1:]\n",
    "        indexes = indexes[:-1]\n",
    "        rest_boxes = boxes[indexes, :]\n",
    "        iou = iou_of(rest_boxes,np.expand_dims(current_box, axis=0),)\n",
    "        indexes = indexes[iou <= iou_threshold]\n",
    "\n",
    "    return box_scores[picked, :]\n",
    "\n",
    "def predict(width, height, confidences, boxes, prob_threshold, iou_threshold=0.3, top_k=-1):\n",
    "    boxes = boxes[0]\n",
    "    confidences = confidences[0]\n",
    "    picked_box_probs = []\n",
    "    picked_labels = []\n",
    "    for class_index in range(1, confidences.shape[1]):\n",
    "        probs = confidences[:, class_index]\n",
    "        mask = probs > prob_threshold\n",
    "        probs = probs[mask]\n",
    "        if probs.shape[0] == 0:\n",
    "            continue\n",
    "        subset_boxes = boxes[mask, :]\n",
    "        box_probs = np.concatenate([subset_boxes, probs.reshape(-1, 1)], axis=1)\n",
    "        box_probs = hard_nms(box_probs,\n",
    "                            iou_threshold=iou_threshold,\n",
    "                            top_k=top_k,\n",
    "                            )\n",
    "        picked_box_probs.append(box_probs)\n",
    "        picked_labels.extend([class_index] * box_probs.shape[0])\n",
    "    if not picked_box_probs:\n",
    "        return np.array([]), np.array([]), np.array([])\n",
    "    picked_box_probs = np.concatenate(picked_box_probs)\n",
    "    picked_box_probs[:, 0] *= width\n",
    "    picked_box_probs[:, 1] *= height\n",
    "    picked_box_probs[:, 2] *= width\n",
    "    picked_box_probs[:, 3] *= height\n",
    "    return picked_box_probs[:, :4].astype(np.int32), np.array(picked_labels), picked_box_probs[:, 4]"
   ]
  },
  {
   "cell_type": "markdown",
   "id": "16ae90ef",
   "metadata": {},
   "source": [
    "## Load the Model\n",
    "Load the model in OpenVINO Runtime with `ie.read_neywork` and load it for the specified device with `ie.load_network`. Get input and output keys and the expected input shape for the model."
   ]
  },
  {
   "cell_type": "code",
   "execution_count": null,
   "id": "2a73ca39",
   "metadata": {},
   "outputs": [],
   "source": [
    "ie = IECore()\n",
    "net = ie.read_network(model=MODEL_XML, weights=MODEL_BIN)\n",
    "exec_net = ie.load_network(network=net, device_name=DEVICE, num_requests=1)\n",
    "\n",
    "class_names = ['BACKGROUND', 'face']\n",
    "RESULT_PATH = \"output/\"\n",
    "IMG_PATH = \"../data/image/\"\n",
    "\n",
    "# Create Path objects for the result \n",
    "output_directory = Path(\"output\")\n",
    "output_directory.mkdir(exist_ok=True)\n",
    "\n",
    "threshold = 0.7\n",
    "#Check net_info\n",
    "input_blob = next(iter(net.input_info))\n",
    "output_blob = next(iter(net.outputs))\n",
    "\n",
    "input_shape = net.input_info[input_blob].input_data.shape\n",
    "print(f\"net input shape: \",input_shape)\n",
    "output_shape = net.outputs[output_blob].shape\n",
    "print(f\"net output shape: \",output_shape)\n",
    "print(class_names)"
   ]
  },
  {
   "cell_type": "markdown",
   "id": "a450ac83",
   "metadata": {},
   "source": [
    "## Face Detect on Image\n",
    "\n",
    "### Load, resize and reshape input image\n",
    "\n",
    "The input image is read with OpenCV, resized to network input size."
   ]
  },
  {
   "cell_type": "code",
   "execution_count": null,
   "id": "f59615e7",
   "metadata": {},
   "outputs": [],
   "source": [
    "# Load image and preprocess it\n",
    "orig_image = cv2.imread(IMG_PATH+f\"241_face_img.jpg\")\n",
    "image = cv2.cvtColor(orig_image, cv2.COLOR_BGR2RGB)\n",
    "image = cv2.resize(image, (320, 240))\n",
    "image_mean = np.array([127, 127, 127])\n",
    "image = (image - image_mean) / 128\n",
    "image = np.transpose(image, [2, 0, 1])\n",
    "image = np.expand_dims(image, axis=0)\n",
    "image = image.astype(np.float32)"
   ]
  },
  {
   "cell_type": "markdown",
   "id": "9c92a4bb",
   "metadata": {},
   "source": [
    "### Do inference on the image\n",
    "Do inference, convert the result to an image, and resize it to the original image shape."
   ]
  },
  {
   "cell_type": "code",
   "execution_count": null,
   "id": "4dda6ac3",
   "metadata": {},
   "outputs": [],
   "source": [
    "#Post-proess\n",
    "output = exec_net.infer(inputs={input_blob: image})\n",
    "boxes = output['boxes']\n",
    "confidences = output['scores']\n",
    "\n",
    "#predict\n",
    "boxes, labels, probs = predict(orig_image.shape[1], orig_image.shape[0], confidences, boxes, threshold)\n",
    "for i in range(boxes.shape[0]):\n",
    "    box = boxes[i, :]\n",
    "    label = f\"{class_names[labels[i]]}: {probs[i]:.2f}\"\n",
    "\n",
    "    cv2.rectangle(orig_image, (box[0], box[1]), (box[2], box[3]), (255, 255, 0), 4)\n",
    "\n",
    "    # cv2.putText(orig_image, label,\n",
    "    #             (box[0] + 20, box[1] + 40),\n",
    "    #             cv2.FONT_HERSHEY_SIMPLEX,\n",
    "    #             1,  # font scale\n",
    "    #             (255, 0, 255),\n",
    "    #             2)  # line type\n",
    "    cv2.imwrite(RESULT_PATH+f\"output_img.jpg\", orig_image)"
   ]
  },
  {
   "cell_type": "markdown",
   "id": "c8e51f25",
   "metadata": {},
   "source": [
    "### Display result image"
   ]
  },
  {
   "cell_type": "code",
   "execution_count": null,
   "id": "a1f9a696",
   "metadata": {},
   "outputs": [],
   "source": [
    "fig, ax = plt.subplots(1, 2, figsize=(20, 15))\n",
    "orig_image = cv2.imread(IMG_PATH+f\"241_face_img.jpg\")\n",
    "result_image = cv2.imread(RESULT_PATH+f\"/output_img.jpg\")\n",
    "ax[0].imshow(to_rgb(orig_image))\n",
    "ax[1].imshow(to_rgb(result_image))"
   ]
  },
  {
   "cell_type": "markdown",
   "id": "886ae90d",
   "metadata": {},
   "source": [
    "## Face Detect on Image"
   ]
  },
  {
   "cell_type": "markdown",
   "id": "44aba28b",
   "metadata": {},
   "source": [
    "### Video Settings"
   ]
  },
  {
   "cell_type": "code",
   "execution_count": null,
   "id": "bc8526fb",
   "metadata": {},
   "outputs": [],
   "source": [
    "VIDEO_FILE = \"../data/video/241_face_video.mp4\"\n",
    "\n",
    "OUTPUT_PATH = \"output/\""
   ]
  },
  {
   "cell_type": "code",
   "execution_count": null,
   "id": "7488fa84",
   "metadata": {},
   "outputs": [],
   "source": [
    "cap = cv2.VideoCapture(VIDEO_FILE)  # capture from camera\n",
    "\n",
    "width = int(cap.get(cv2.CAP_PROP_FRAME_WIDTH))\n",
    "height = int(cap.get(cv2.CAP_PROP_FRAME_HEIGHT))\n",
    "\n",
    "print(width,height)\n",
    "\n",
    "FACE_SUM = 0\n",
    "ZIP_RATE = 0.7\n",
    "THRESHOLD = 0.7\n",
    "SUMTIME=0\n",
    "fourcc = cv2.VideoWriter_fourcc('X','2','6','4')\n",
    "out = cv2.VideoWriter(OUTPUT_PATH+f'output_video.mp4', fourcc, 30.0, (int(ZIP_RATE*width),int(ZIP_RATE* height)),True)"
   ]
  },
  {
   "cell_type": "code",
   "execution_count": null,
   "id": "bbee7de4",
   "metadata": {
    "scrolled": true
   },
   "outputs": [],
   "source": [
    "while True:\n",
    "    ret, orig_image = cap.read()\n",
    "    if orig_image is None:\n",
    "        print(f\"no img , process ended\")\n",
    "        break\n",
    "    image = cv2.cvtColor(orig_image, cv2.COLOR_BGR2RGB)\n",
    "    image = cv2.resize(image, (320, 240))\n",
    "    # image = cv2.resize(image, (640, 480))\n",
    "    image_mean = np.array([127, 127, 127])\n",
    "    image = (image - image_mean) / 128\n",
    "    image = np.transpose(image, [2, 0, 1])\n",
    "    image = np.expand_dims(image, axis=0)\n",
    "    image = image.astype(np.float32)\n",
    "    time_time = time.time()\n",
    "    output = exec_net.infer(inputs={input_blob: image})\n",
    "    boxes = output['boxes']\n",
    "    confidences = output['scores']\n",
    "    SUMTIME +=time.time() - time_time\n",
    "    boxes, labels, probs = predict(orig_image.shape[1], orig_image.shape[0], confidences, boxes, THRESHOLD)\n",
    "    for i in range(boxes.shape[0]):\n",
    "        box = boxes[i, :]\n",
    "        label = f\"{class_names[labels[i]]}: {probs[i]:.2f}\"\n",
    "\n",
    "        cv2.rectangle(orig_image, (box[0], box[1]), (box[2], box[3]), (255, 255, 0), 4)\n",
    "        \n",
    "        # cv2.putText(orig_image, label,\n",
    "        #             (box[0] + 20, box[1] + 40),\n",
    "        #             cv2.FONT_HERSHEY_SIMPLEX,\n",
    "        #             1,  # font scale\n",
    "        #             (255, 0, 255),\n",
    "        #             2)  # line type\n",
    "    FACE_SUM += boxes.shape[0]\n",
    "    orig_image = cv2.resize(orig_image, (0, 0), fx=Zip_Rate, fy=Zip_Rate)\n",
    "    out.write(orig_image)\n",
    "print(f\"cost time:{totaltime}\")\n",
    "cap.release()\n",
    "out.release()\n",
    "cv2.destroyAllWindows()\n",
    "print(f\"face_sum:{face_sum}\")"
   ]
  },
  {
   "cell_type": "code",
   "execution_count": null,
   "id": "f51d5dd5",
   "metadata": {},
   "outputs": [],
   "source": [
    "video = Video(OUTPUT_PATH+'output_video.mp4', width=800, embed=True)\n",
    "video_link = FileLink(OUTPUT_PATH+'output_video.mp4')\n",
    "video_link.html_link_str = \"<a href='%s' download>%s</a>\"\n",
    "display(HTML(video_link._repr_html_()))\n",
    "display(video)"
   ]
  }
 ],
 "metadata": {
  "kernelspec": {
   "display_name": "Python 3 (ipykernel)",
   "language": "python",
   "name": "python3"
  },
  "language_info": {
   "codemirror_mode": {
    "name": "ipython",
    "version": 3
   },
   "file_extension": ".py",
   "mimetype": "text/x-python",
   "name": "python",
   "nbconvert_exporter": "python",
   "pygments_lexer": "ipython3",
   "version": "3.9.13"
  }
 },
 "nbformat": 4,
 "nbformat_minor": 5
}
