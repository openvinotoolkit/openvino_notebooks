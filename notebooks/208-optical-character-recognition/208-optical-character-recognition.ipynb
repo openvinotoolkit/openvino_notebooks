{
 "cells": [
  {
   "cell_type": "markdown",
   "id": "a3c3d7f4",
   "metadata": {},
   "source": [
    "# Optical Character Recognition with OpenVINO\n",
    "\n",
    "This notebook tutorial demonstrates how to perform optical character recognition. It is a continuation of the [004-hello-detection](../004-hello-detection) notebook, which shows text detection only.\n",
    "\n",
    "The [horizontal-text-detection-0001](https://docs.openvinotoolkit.org/latest/omz_models_model_horizontal_text_detection_0001.html) and [text-recognition-resnet](https://docs.openvinotoolkit.org/latest/omz_models_model_text_recognition_resnet_fc.html) models are used together for text detection and then text recognition."
   ]
  },
  {
   "cell_type": "markdown",
   "id": "38a8791e",
   "metadata": {},
   "source": [
    "## Imports modules required to run"
   ]
  },
  {
   "cell_type": "code",
   "execution_count": null,
   "id": "8fcabe82",
   "metadata": {
    "collapsed": false,
    "jupyter": {
     "outputs_hidden": false
    },
    "pycharm": {
     "name": "#%%\n"
    }
   },
   "outputs": [],
   "source": [
    "import cv2\n",
    "import matplotlib.pyplot as plt\n",
    "import numpy as np\n",
    "from openvino.inference_engine import IECore\n",
    "from os import path, makedirs, listdir\n",
    "from shutil import copy, copyfileobj\n",
    "from requests import get"
   ]
  },
  {
   "cell_type": "markdown",
   "id": "48a52fad",
   "metadata": {},
   "source": [
    "## Settings"
   ]
  },
  {
   "cell_type": "code",
   "execution_count": null,
   "id": "92e378bf",
   "metadata": {},
   "outputs": [],
   "source": [
    "ie = IECore()\n",
    "\n",
    "model_folder = \"model\"\n",
    "download_folder = \"output\"\n",
    "data_folder = \"data\"\n",
    "\n",
    "precision = \"FP16\"\n",
    "detection_model_name = \"horizontal-text-detection-0001\"\n",
    "recognition_model_name = \"text-recognition-resnet-fc\"\n",
    "model_extensions = (\"bin\", \"xml\")"
   ]
  },
  {
   "cell_type": "markdown",
   "id": "e7307283",
   "metadata": {},
   "source": [
    "## Download models and convert public model\n",
    "\n",
    "If it is your first run models will download and convert here. It might take up to ten minutes. "
   ]
  },
  {
   "cell_type": "code",
   "execution_count": null,
   "id": "00ad42ff",
   "metadata": {},
   "outputs": [],
   "source": [
    "makedirs(model_folder, exist_ok=True)\n",
    "makedirs(download_folder, exist_ok=True)\n",
    "\n",
    "# Check if models are already downloaded in download directory\n",
    "try:\n",
    "    for model_name, folder_name in ((detection_model_name, f'intel/{detection_model_name}'), (recognition_model_name, f'public/{recognition_model_name}')):\n",
    "        for extension in model_extensions:\n",
    "            if not path.isfile(f'{download_folder}/{folder_name}/{precision}/{model_name}.{extension}'):\n",
    "                raise FileNotFoundError\n",
    "except FileNotFoundError:\n",
    "    download_command = f\"omz_downloader --name {detection_model_name},{recognition_model_name} --output_dir {download_folder} --precision {precision} --num_attempts 3\"\n",
    "    convert_command = f\"omz_converter --name {recognition_model_name} --precisions {precision} --download_dir {download_folder} --output_dir {download_folder}\"\n",
    "    # Run commands, first download model than convert it to inferable \n",
    "    !! $download_command\n",
    "    print('Models downloded')\n",
    "    # Models are downloaded straight to output folder, we will keep all not used files outside of models directory\n",
    "    ! $convert_command\n",
    "    print('Model converted')"
   ]
  },
  {
   "cell_type": "markdown",
   "id": "af27f259",
   "metadata": {},
   "source": [
    "## Copy models to model folder\n",
    "\n",
    "At this point both models are kept in download_folder (by default named 'output'). We need only .bin and .xml files from there that we will copy to model directory."
   ]
  },
  {
   "cell_type": "code",
   "execution_count": null,
   "id": "b447574b",
   "metadata": {},
   "outputs": [],
   "source": [
    "for text_detection_model in listdir(f\"{download_folder}/intel/{detection_model_name}/{precision}\"):\n",
    "    copy(src=f\"{download_folder}/intel/{detection_model_name}/{precision}/{text_detection_model}\", dst=model_folder)\n",
    "\n",
    "for text_recognition_model in listdir(f\"{download_folder}/public/{recognition_model_name}/{precision}\"):\n",
    "    copy(src=f\"{download_folder}/public/{recognition_model_name}/{precision}/{text_recognition_model}\", dst=model_folder)"
   ]
  },
  {
   "cell_type": "markdown",
   "id": "b12579c5",
   "metadata": {},
   "source": [
    "## Load the network"
   ]
  },
  {
   "cell_type": "code",
   "execution_count": null,
   "id": "1bba4170",
   "metadata": {
    "collapsed": false,
    "jupyter": {
     "outputs_hidden": false
    },
    "pycharm": {
     "name": "#%%\n"
    }
   },
   "outputs": [],
   "source": [
    "net = ie.read_network(\n",
    "    model=f\"{model_folder}/{detection_model_name}.xml\"\n",
    ")\n",
    "exec_net = ie.load_network(net, \"CPU\")\n",
    "\n",
    "input_layer_ir = next(iter(exec_net.input_info))"
   ]
  },
  {
   "cell_type": "markdown",
   "id": "9729bafe",
   "metadata": {},
   "source": [
    "## Load an Image"
   ]
  },
  {
   "cell_type": "code",
   "execution_count": null,
   "id": "66495015",
   "metadata": {
    "collapsed": false,
    "jupyter": {
     "outputs_hidden": false
    },
    "pycharm": {
     "name": "#%%\n"
    }
   },
   "outputs": [],
   "source": [
    "# Create data folder\n",
    "makedirs(data_folder, exist_ok=True)\n",
    "\n",
    "# Download image\n",
    "image_link = 'https://github.com/openvinotoolkit/openvino_notebooks/raw/main/notebooks/004-hello-detection/data/intel_rnb.jpg'\n",
    "r = get(image_link, stream=True)\n",
    "if r.status_code == 200:\n",
    "    r.raw.decode_content = True\n",
    "    filename = image_link.split('/')[-1]\n",
    "    with open(f\"{data_folder}/{filename}\",'wb') as f:\n",
    "        copyfileobj(r.raw, f)\n",
    "else:\n",
    "    raise FileNotFoundError(f'Unable to download image from link {image_link}, Status code: {r.status_code}')\n",
    "\n",
    "# Text detection models expects image in BGR format\n",
    "image = cv2.imread(\"data/intel_rnb.jpg\")\n",
    "\n",
    "# N,C,H,W = batch size, number of channels, height, width\n",
    "N, C, H, W = net.input_info[input_layer_ir].tensor_desc.dims\n",
    "\n",
    "# Resize image to meet network expected input sizes\n",
    "resized_image = cv2.resize(image, (W, H))\n",
    "\n",
    "# Reshape to network input shape\n",
    "input_image = np.expand_dims(\n",
    "    resized_image.transpose(2, 0, 1), 0\n",
    ")\n",
    "\n",
    "plt.imshow(cv2.cvtColor(image, cv2.COLOR_BGR2RGB))"
   ]
  },
  {
   "cell_type": "markdown",
   "id": "7c2ed960",
   "metadata": {},
   "source": [
    "## Get boxes\n",
    "\n",
    "It detects texts in images and returns blob of data in shape of [100, 5]. For each detection description has format [x_min, y_min, x_max, y_max, conf]."
   ]
  },
  {
   "cell_type": "code",
   "execution_count": null,
   "id": "f1f7a391",
   "metadata": {
    "collapsed": false,
    "jupyter": {
     "outputs_hidden": false
    },
    "pycharm": {
     "name": "#%%\n"
    }
   },
   "outputs": [],
   "source": [
    "result = exec_net.infer(inputs={input_layer_ir: input_image})\n",
    "\n",
    "# Extract list of boxes from results\n",
    "boxes = result['boxes']\n",
    "\n",
    "# Remove zero only boxes\n",
    "boxes = boxes[~np.all(boxes==0, axis=1)]"
   ]
  },
  {
   "cell_type": "code",
   "execution_count": null,
   "id": "09025d97",
   "metadata": {
    "collapsed": false,
    "jupyter": {
     "outputs_hidden": false
    },
    "pycharm": {
     "name": "#%%\n"
    }
   },
   "outputs": [],
   "source": [
    "def multiply_by_ratio(ratio_x, ratio_y, box):\n",
    "    return [max(shape * ratio_y, 10) if idx % 2 else shape * ratio_x for idx, shape in enumerate(box[:-1])]\n",
    "\n",
    "def run_preprocesing_on_crop(crop, net_shape):\n",
    "    temp_img = cv2.resize(crop, net_shape)\n",
    "    temp_img = temp_img.reshape((1,) * 2 + temp_img.shape)\n",
    "    return temp_img\n",
    "\n",
    "\n",
    "def convert_result_to_image(bgr_image, resized_image, boxes, threshold=0.3, conf_labels=True): \n",
    "    # Define colors for boxes and descriptions\n",
    "    colors = {'red': (255, 0, 0), 'green': (0, 255, 0), 'white': (255, 255, 255)} \n",
    "\n",
    "    # Fetch image shapes to calculate ratio\n",
    "    (real_y, real_x), (resized_y, resized_x) = image.shape[:2], resized_image.shape[:2]\n",
    "    ratio_x, ratio_y = real_x/resized_x, real_y/resized_y\n",
    "\n",
    "    # Convert base image from bgr to rgb format\n",
    "    rgb_image = cv2.cvtColor(bgr_image, cv2.COLOR_BGR2RGB) \n",
    "\n",
    "    # Iterate through non-zero boxes\n",
    "    for box, annotation in boxes: \n",
    "        # Pick confidence factor from last place in array\n",
    "        conf = box[-1]\n",
    "        if conf > threshold: \n",
    "            # Convert float to int and multiply position of each box by x and y ratio\n",
    "            (x_min, y_min, x_max, y_max) = map(int, multiply_by_ratio(ratio_x, ratio_y, box)) \n",
    "\n",
    "            # Draw box based on position, parameters in rectangle function are: image, start_point, end_point, color, thickness \n",
    "            cv2.rectangle( \n",
    "                rgb_image, \n",
    "                (x_min, y_min), \n",
    "                (x_max, y_max), \n",
    "                colors['green'], \n",
    "                3\n",
    "            ) \n",
    "\n",
    "            # Add text to image based on position and confidence, parameters in putText function are: image, text, bottomleft_corner_textfield, font, font_scale, color, thickness, line_type \n",
    "            if conf_labels:\n",
    "                # Create background box based on annotation length\n",
    "                (text_w, text_h), _ = cv2.getTextSize(f\"{annotation}\", cv2.FONT_HERSHEY_TRIPLEX, 0.8, 1)\n",
    "                image_copy = rgb_image.copy()\n",
    "                cv2.rectangle( \n",
    "                    image_copy, \n",
    "                    (x_min, y_min - text_h - 10), \n",
    "                    (x_min + text_w, y_min - 10), \n",
    "                    colors['white'], \n",
    "                    -1\n",
    "                )\n",
    "                # Add weighted image copy with white boxes under text\n",
    "                cv2.addWeighted(image_copy, 0.4, rgb_image, 0.6, 0, rgb_image)\n",
    "                cv2.putText( \n",
    "                    rgb_image, \n",
    "                    f\"{annotation}\", \n",
    "                    (x_min, y_min - 10), \n",
    "                    cv2.FONT_HERSHEY_SIMPLEX, \n",
    "                    0.8, \n",
    "                    colors['red'], \n",
    "                    1, \n",
    "                    cv2.LINE_AA\n",
    "                ) \n",
    "            \n",
    "    return rgb_image"
   ]
  },
  {
   "cell_type": "code",
   "execution_count": null,
   "id": "2e4653fc",
   "metadata": {},
   "outputs": [],
   "source": [
    "recognition_net = ie.read_network(\n",
    "    model=f\"{model_folder}/{recognition_model_name}.xml\"\n",
    ")\n",
    "\n",
    "exec_recognition_net = ie.load_network(recognition_net, \"CPU\")\n",
    "\n",
    "recognition_output_layer = next(iter(exec_recognition_net.outputs))\n",
    "recognition_input_layer = next(iter(exec_recognition_net.input_info))\n"
   ]
  },
  {
   "cell_type": "code",
   "execution_count": null,
   "id": "409b77d7",
   "metadata": {},
   "outputs": [],
   "source": [
    "# Get height and width of input layer\n",
    "_, _, H, W = recognition_net.input_info[recognition_input_layer].tensor_desc.dims\n",
    "\n",
    "# Calculate scale for image resizing\n",
    "(real_y, real_x), (resized_y, resized_x) = image.shape[:2], resized_image.shape[:2]\n",
    "ratio_x, ratio_y = real_x/resized_x, real_y/resized_y\n",
    "\n",
    "# Convert image to grayscale for text recognition model\n",
    "grayscale_image = cv2.cvtColor(image, cv2.COLOR_BGR2GRAY)\n",
    "\n",
    "# Get dictionary to encode output, based on model documentation\n",
    "letters = \"~0123456789abcdefghijklmnopqrstuvwxyz\"\n",
    "\n",
    "# Prepare empty list for annotations\n",
    "annotations = list()\n",
    "\n",
    "# For each crop, based on boxes given by detection model we want to get annotations\n",
    "for crop in boxes:\n",
    "    # Get coordinates on corners of crop\n",
    "    (x_min, y_min, x_max, y_max) = map(int, multiply_by_ratio(ratio_x, ratio_y, crop))\n",
    "    image_crop = run_preprocesing_on_crop(grayscale_image[y_min:y_max, x_min:x_max], (W, H))\n",
    "    \n",
    "    # Run inference with recognition model\n",
    "    recognition_result = exec_recognition_net.infer(inputs={recognition_input_layer: image_crop})\n",
    "    \n",
    "    # Squeeze output to remove unnececery dimension\n",
    "    recognition_results_test = np.squeeze(recognition_result[recognition_output_layer])\n",
    "    \n",
    "    # Read annotation based on probabilities from output layer\n",
    "    annotation = list()\n",
    "    for letter in recognition_results_test:\n",
    "        parsed_letter = letters[letter.argmax()]\n",
    "\n",
    "        # Returning 0 index from argmax signalises end of string\n",
    "        if parsed_letter == letters[0]:\n",
    "            break\n",
    "        annotation.append(parsed_letter)\n",
    "    annotations.append(''.join(annotation))\n",
    "\n",
    "boxes_with_annotations = zip(boxes, annotations)\n"
   ]
  },
  {
   "cell_type": "code",
   "execution_count": null,
   "id": "152458bf",
   "metadata": {},
   "outputs": [],
   "source": [
    "plt.imshow(convert_result_to_image(image, resized_image, boxes_with_annotations, conf_labels=True))\n"
   ]
  },
  {
   "cell_type": "markdown",
   "id": "18e3dcbe",
   "metadata": {},
   "source": [
    "## Print annotation in text format\n",
    "\n",
    "Print annotations for detected text based on their position in the input image starting from the upper left corner.\n"
   ]
  },
  {
   "cell_type": "code",
   "execution_count": null,
   "id": "59ea77ce",
   "metadata": {},
   "outputs": [],
   "source": [
    "[annotation for _, annotation in sorted(zip(boxes, annotations), key=lambda x: x[0][0]**2 + x[0][1]**2)]"
   ]
  }
 ],
 "metadata": {
  "kernelspec": {
   "display_name": "openvino_env",
   "language": "python",
   "name": "openvino_env"
  },
  "language_info": {
   "codemirror_mode": {
    "name": "ipython",
    "version": 3
   },
   "file_extension": ".py",
   "mimetype": "text/x-python",
   "name": "python",
   "nbconvert_exporter": "python",
   "pygments_lexer": "ipython3",
   "version": "3.7.9"
  }
 },
 "nbformat": 4,
 "nbformat_minor": 5
}
