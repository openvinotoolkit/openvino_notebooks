{
 "cells": [
  {
   "cell_type": "markdown",
   "id": "ef2ed242-3561-464c-8d1c-cc3862e23702",
   "metadata": {},
   "source": [
    "# Text Generation via Speculative Sampling, KV Caching, and OpenVINO™\n",
    "\n",
    "As model sizes grow, Generative AI implementations require significant inference resources. This not only increases the cost per generation from a prompt, but also increases the power consumption used to serve such requests.\n",
    "\n",
    "Inference optimizations for text generation are essential for reducing costs and power consumption. When optimizing the inference process, the amount of time and energy required to generate text can be significantly reduced. This can lead to cost savings in terms of hardware and software, as well as reduced power consumption. Additionally, inference optimizations can help improve the accuracy of text generation as well as the speed at which it can be generated. This can lead to an improved user experience and increased efficiency in text-generation tasks. In summary, inference optimizations for text generation are essential to reduce costs and power consumption, while also improving the accuracy and speed of text generation.\n",
    "\n",
    "Another necessary condition is that the optimizations are compatible with each other. That is, implementing a certain optimization should not preclude other optimizations. There are several levels of optimizations that can provide significant speedup without \"bumping into each other\" in a way that will compromise overall efficiency.\n",
    "\n",
    "For details on this method, please refer to the paper by Chen et al, http://arxiv.org/abs/2302.01318. Additionally, there's an interesting proof of correctness of speculative sampling (showing that the original distribution is preserved) by Leviathan et al, http://arxiv.org/abs/2211.17192\n",
    "\n",
    "Our blog article describing this implementation with OpenVino is available at openvino.ai"
   ]
  },
  {
   "cell_type": "markdown",
   "id": "f97c435a",
   "metadata": {},
   "source": [
    "\n",
    "#### Table of contents:\n",
    "- [Prerequisites](#Prerequisites)\n",
    "    - [Select inference device](#Select-inference-device)\n",
    "- [Create autoregressive and speculative forms of sampling with KV Cache support](#Create-autoregressive-and-speculative-forms-of-sampling-with-KV-Cache-support)\n",
    "    - [Setup imports](#Setup-imports)\n",
    "    - [Prepare autoregressive sampling](#Prepare-autoregressive-sampling)\n",
    "    - [Prepare speculative sampling](#Prepare-speculative-sampling)\n",
    "- [Main generation function](#Main-generation-function)\n",
    "    - [Download and Convert Model](#Download-and-Convert-Model)\n"
   ]
  },
  {
   "cell_type": "markdown",
   "id": "08aa16b1-d2f6-4a3a-abfb-5ec278133c80",
   "metadata": {},
   "source": [
    "## Prerequisites\n",
    "[back to top ⬆️](#Table-of-contents:)\n",
    "\n",
    "\n",
    "First, we should install the [Hugging Face Optimum](https://huggingface.co/docs/optimum/installation) library accelerated by OpenVINO integration.\n",
    "The Hugging Face Optimum Intel API is a high-level API that enables us to convert and quantize models from the Hugging Face Transformers library to the OpenVINO™ IR format. For more details, refer to the [Hugging Face Optimum Intel documentation](https://huggingface.co/docs/optimum/intel/inference).\n",
    "\n",
    "We will also need to install transformers (HuggingFace) and some other useful modules."
   ]
  },
  {
   "cell_type": "code",
   "execution_count": null,
   "id": "4421fc85-bed6-4a62-b8fa-19c7ba474891",
   "metadata": {
    "tags": []
   },
   "outputs": [],
   "source": [
    "%pip install -q --upgrade pip\n",
    "%pip install -q --upgrade transformers torch gradio openvino accelerate onnx ipywidgets --extra-index-url https://download.pytorch.org/whl/cpu\n",
    "%pip install -q \"git+https://github.com/huggingface/optimum-intel.git\""
   ]
  },
  {
   "cell_type": "markdown",
   "id": "367f84f8-33e8-4ad6-bd40-e6fd41d2d703",
   "metadata": {},
   "source": [
    "### Select inference device\n",
    "[back to top ⬆️](#Table-of-contents:)\n",
    "\n",
    "\n",
    "Select the device from dropdown list for running inference using OpenVINO."
   ]
  },
  {
   "cell_type": "code",
   "execution_count": null,
   "id": "6ddd57de-9f41-403c-bccc-8d3118654a24",
   "metadata": {
    "tags": []
   },
   "outputs": [],
   "source": [
    "import ipywidgets as widgets\n",
    "from openvino.runtime import Core\n",
    "\n",
    "core = Core()\n",
    "\n",
    "device = widgets.Dropdown(\n",
    "    options=core.available_devices + [\"AUTO\"],\n",
    "    value='CPU',\n",
    "    description='Device:',\n",
    "    disabled=False,\n",
    ")\n",
    "\n",
    "device"
   ]
  },
  {
   "cell_type": "markdown",
   "id": "b6d9c4a5-ef75-4076-9f1c-f45a2259ec46",
   "metadata": {},
   "source": [
    "## Create autoregressive and speculative forms of sampling with KV Cache support\n",
    "[back to top ⬆️](#Table-of-contents:)\n",
    "\n",
    " \n",
    "Text generation is often done in an autoregressive fashion. We will all support a KV cache (aka Past Value Cache) in the code. Note that we are using greedy sampling. We do not adjust other text generation parameters (e.g. temperature) so keep this illustration of speculative sampling as simple and understandable as possible.\n",
    " \n"
   ]
  },
  {
   "cell_type": "markdown",
   "id": "b9b5da4d-d2fd-440b-b204-7fbc6966dd1f",
   "metadata": {},
   "source": [
    "### Setup imports\n",
    "[back to top ⬆️](#Table-of-contents:)\n"
   ]
  },
  {
   "cell_type": "code",
   "execution_count": null,
   "id": "6f976094-8603-42c4-8f18-a32ba6d7192e",
   "metadata": {
    "tags": []
   },
   "outputs": [],
   "source": [
    "import time\n",
    "import numpy as np\n",
    "import torch\n",
    "import gradio as gr"
   ]
  },
  {
   "cell_type": "markdown",
   "id": "c58611d6-0a91-4efd-976e-4221acbb43cd",
   "metadata": {},
   "source": [
    "### Prepare autoregressive sampling\n",
    "[back to top ⬆️](#Table-of-contents:)\n"
   ]
  },
  {
   "cell_type": "code",
   "execution_count": null,
   "id": "52ac10a5-3141-4227-8f0b-0617acd027c8",
   "metadata": {
    "tags": []
   },
   "outputs": [],
   "source": [
    "def max_fn(x):\n",
    "    x_max = torch.where(x > 0, x, torch.zeros_like(x))\n",
    "    return x_max / torch.sum(x_max)\n",
    "\n",
    "def autoregressive_sampling_with_pkv(x, model, N):\n",
    "    n = len(x)\n",
    "    T = n + N\n",
    "    input = x\n",
    "    past_kv = None\n",
    "\n",
    "    while n < T:\n",
    "        res = model(input, attention_mask=torch.ones(input.size(), dtype=torch.long), past_key_values=past_kv)\n",
    "        model_out = torch.softmax(res.logits, dim=2)\n",
    "        past_kv = res.past_key_values\n",
    "        next_token = torch.reshape(torch.argmax(model_out[-1][-1]), (1, 1))\n",
    "        x = torch.cat((x, next_token), dim=1)\n",
    "        n += 1\n",
    "        input = next_token\n",
    "\n",
    "    return x"
   ]
  },
  {
   "cell_type": "markdown",
   "id": "27a01739-1363-42ef-927f-6a340bdbe7ba",
   "metadata": {},
   "source": [
    "### Prepare speculative sampling\n",
    "[back to top ⬆️](#Table-of-contents:)\n",
    "\n",
    "\n",
    "* Step 1: With speculative sampling, we first generate K samples from the draft model (in an autoregressive manner).\n",
    "* Step 2: These are now candidates to examine using the target model (step 2) using a batch size of K.\n",
    "* Step 3: We now determine if the K candidates from the draft model are acceptable based on the logits generated from the target model in step 2. \n",
    "* Step 4: We can sample another token with no additional cost (assuming that all the candidates were accepted).\n",
    "\n",
    "Regarding the acceptance criterion for step 3, we need to compare logits from the target model and compare with the draft model. If the ratio is high\n",
    "enough, it's likely to be accepted (using a random number)."
   ]
  },
  {
   "cell_type": "code",
   "execution_count": null,
   "id": "524e72f4-8750-48ff-b002-e558d03b3302",
   "metadata": {
    "tags": []
   },
   "outputs": [],
   "source": [
    "def speculative_sampling_with_pkv(x, draft_model, target_model, N, K):\n",
    "    n = x.size(1)\n",
    "    T = n + N\n",
    "    target_past_kv = None\n",
    "    while n < T:\n",
    "        # Step 1: autoregressive decode of K candidate tokens from\n",
    "        # the draft model and get final p for this batch of candidates\n",
    "        x_draft = None\n",
    "        draft_past_kv = None\n",
    "        x_draft_input = x\n",
    "        p_cum = None\n",
    "        for _ in range(K):\n",
    "            res_draft = draft_model(x_draft_input, attention_mask=torch.ones(x_draft_input.size(), dtype=torch.long), past_key_values=draft_past_kv, use_cache=True)\n",
    "            p = res_draft.logits\n",
    "            p = torch.softmax(p, dim=2)\n",
    "            draft_past_kv = res_draft.past_key_values\n",
    "            next_token = torch.reshape(torch.argmax(p[-1][-1]), (1, 1))\n",
    "            x_draft_input = next_token\n",
    "            if p_cum is None:\n",
    "                p_cum = p[:, -1].unsqueeze(1)\n",
    "                x_draft = next_token\n",
    "            else:\n",
    "                p_cum = torch.cat((p_cum, p), dim=1)\n",
    "                x_draft = torch.cat((x_draft, next_token), dim=1)\n",
    "        # Step 2: target model forward passes on x_draft\n",
    "        if target_past_kv is None:\n",
    "            x_draft_target_input = torch.cat((x, x_draft), dim=1)\n",
    "        else:\n",
    "            x_draft_target_input = x_draft\n",
    "\n",
    "        res = target_model(x_draft_target_input, attention_mask=torch.ones(x_draft_target_input.size(), dtype=torch.long), use_cache=False)\n",
    "        q = res.logits\n",
    "\n",
    "        target_new_past_kv = res.past_key_values\n",
    "        # Step 3: append draft tokens based on acceptance-rejection criterion and resample a token on rejection\n",
    "        all_accepted = True\n",
    "        for k in range(K):\n",
    "            j = x_draft[0][k].item()\n",
    "\n",
    "            q_item = q[-1][k][j].detach().numpy()\n",
    "            p_item = p_cum[-1][k][j].detach().numpy()\n",
    "\n",
    "            if np.random.random() < min(1, (q_item / p_item)):  # accepted\n",
    "                x = torch.cat((x, torch.tensor(j).reshape(1,1)), dim=1)\n",
    "                n += 1\n",
    "            else:                                               # rejected\n",
    "                q_p = max_fn(q[0][k] - p_cum[0][k])\n",
    "                resampled_output = torch.argmax(q_p)      \n",
    "                resampled_output = torch.reshape(resampled_output, (1,1))\n",
    "                x = torch.cat((x, resampled_output), dim=1)\n",
    "                n += 1\n",
    "                all_accepted = False\n",
    "                break\n",
    "            \n",
    "        target_past_kv = target_new_past_kv\n",
    "        # Step 4: if all draft tokens were accepted, sample a final token\n",
    "        if all_accepted:\n",
    "            x = torch.cat((x, torch.reshape(torch.argmax(q[-1][-1]), (1,1))), dim=1)\n",
    "            n += 1\n",
    "\n",
    "    return x"
   ]
  },
  {
   "cell_type": "markdown",
   "id": "583202d2-6d29-4729-af2e-232d3ee0bc2c",
   "metadata": {},
   "source": [
    "## Main generation function\n",
    "[back to top ⬆️](#Table-of-contents:)\n",
    "\n",
    "\n"
   ]
  },
  {
   "cell_type": "markdown",
   "id": "d6993840-e8b2-4c26-8da4-e1b046c3f3cc",
   "metadata": {},
   "source": [
    "### Download and Convert Model\n",
    "[back to top ⬆️](#Table-of-contents:)\n",
    "\n",
    "\n",
    "Optimum Intel can be used to load optimized models from the [Hugging Face Hub](https://huggingface.co/docs/optimum/intel/hf.co/models) and create pipelines to run an inference with OpenVINO Runtime using Hugging Face APIs. The Optimum Inference models are API compatible with Hugging Face Transformers models.  This means we just need to replace `AutoModelForXxx` class with the corresponding `OVModelForXxx` class.\n",
    "\n",
    "Below is an example of the Dolly model\n",
    "\n",
    "```diff\n",
    "-from transformers import AutoModelForCausalLM\n",
    "+from optimum.intel.openvino import OVModelForCausalLM\n",
    "from transformers import AutoTokenizer, pipeline\n",
    "\n",
    "model_id = \"databricks/dolly-v2-3b\"\n",
    "-model = AutoModelForCausalLM.from_pretrained(model_id)\n",
    "+model = OVModelForCausalLM.from_pretrained(model_id, from_transformers=True)\n",
    "```\n",
    "\n",
    "Model class initialization starts with calling `from_pretrained` method. When downloading and converting Transformers model, the parameter `from_transformers=True` should be added. We can save the converted model for the next usage with the `save_pretrained` method.\n",
    "Tokenizer class and pipelines API are compatible with Optimum models.\n"
   ]
  },
  {
   "cell_type": "code",
   "execution_count": null,
   "id": "85afb708",
   "metadata": {},
   "outputs": [],
   "source": [
    "from pathlib import Path\n",
    "from transformers import AutoTokenizer\n",
    "from optimum.intel.openvino import OVModelForCausalLM\n",
    "\n",
    "#  If you are on a large system with lots of memory, you can run a larger model like DollyV2\n",
    "# draft_model_id = \"databricks/dolly-v2-3b\"\n",
    "# draft_model_path = Path(\"dolly-v2-3b\")\n",
    "# target_model_id = \"databricks/dolly-v2-12b\"\n",
    "# target_model_path = Path(\"dolly-v2-12b\")\n",
    "#  If you are on a system with limited memory, you can try the smaller GPT2 models\n",
    "draft_model_id = \"gpt2\"\n",
    "draft_model_path = Path(\"gpt2-local\")\n",
    "target_model_id = \"gpt2-xl\"\n",
    "target_model_path = Path(\"gpt2-xl-local\")\n",
    "\n",
    "target_tokenizer = AutoTokenizer.from_pretrained(target_model_id)\n",
    "\n",
    "current_device = device.value\n",
    "\n",
    "# Save local copies for subsequent runs\n",
    "if draft_model_path.exists():\n",
    "    draft_ov_model = OVModelForCausalLM.from_pretrained(draft_model_path, device=current_device)\n",
    "else:\n",
    "    draft_ov_model = OVModelForCausalLM.from_pretrained(draft_model_id, device=current_device, from_transformers=True)\n",
    "    draft_ov_model.save_pretrained(draft_model_path)\n",
    "if target_model_path.exists():\n",
    "    target_ov_model = OVModelForCausalLM.from_pretrained(target_model_path, device=current_device)\n",
    "else:\n",
    "    target_ov_model = OVModelForCausalLM.from_pretrained(target_model_id, device=current_device, from_transformers=True)\n",
    "    target_ov_model.save_pretrained(target_model_path)\n"
   ]
  },
  {
   "cell_type": "code",
   "execution_count": null,
   "id": "67fb4f9d-5877-48d8-8eff-c30ff6974d7a",
   "metadata": {
    "tags": []
   },
   "outputs": [],
   "source": [
    "def main(\n",
    "    prompt: str = \"Explain the difference between fission and fusion\",\n",
    "    n_tokens_to_generate: int = 100,\n",
    "    K: int = 5,\n",
    "    seed: int = 5555,\n",
    "):\n",
    "    # seed numpy rng\n",
    "    np.random.seed(seed)\n",
    "    draft_model = draft_ov_model\n",
    "    target_model = target_ov_model\n",
    "    \n",
    "\n",
    "    input_ids = target_tokenizer(prompt, return_tensors=\"pt\")['input_ids']\n",
    "\n",
    "    def run_autoregressive_sampling_fn(decode_fn, input_ids, **kwargs):\n",
    "        start = time.perf_counter()\n",
    "        output_ids = decode_fn(x=input_ids, **kwargs)\n",
    "        text = target_tokenizer.decode(output_ids[0], skip_special_tokens=True)\n",
    "        elapsed_time = time.perf_counter() - start\n",
    "        return text, elapsed_time\n",
    "\n",
    "    def run_speculative_sampling_fn(decode_fn, input_ids, **kwargs):\n",
    "        start = time.perf_counter()\n",
    "        output_ids = decode_fn(x=input_ids, **kwargs)\n",
    "        text = target_tokenizer.decode(output_ids[0], skip_special_tokens=True)\n",
    "        elapsed_time = time.perf_counter() - start\n",
    "        return text, elapsed_time\n",
    "\n",
    "    autoregressive_text, autoregressive_time = run_autoregressive_sampling_fn(\n",
    "        autoregressive_sampling_with_pkv,\n",
    "        input_ids,\n",
    "        model=target_model,\n",
    "        N=n_tokens_to_generate,\n",
    "    )\n",
    "\n",
    "    speculative_text, speculative_time = run_speculative_sampling_fn(\n",
    "        speculative_sampling_with_pkv,\n",
    "        input_ids,\n",
    "        target_model=target_model,\n",
    "        draft_model=draft_model,\n",
    "        N=n_tokens_to_generate,\n",
    "        K=K,\n",
    "    )\n",
    "\n",
    "#   Format results for output in gradio\n",
    "    out = \"\\n\" + \"Autoregressive Decode\" + \"\\n\" + \"---------------------\" + \"\\n\"\n",
    "    out = out + f\"Time = {autoregressive_time:.2f}s\" + \"\\n\" + f\"Text = {autoregressive_text}\" + \"\\n\"\n",
    "    out = out + \"\\n\" + \"Speculative Decode\" + \"\\n\" + \"------------------\" + \"\\n\"\n",
    "    out = out + f\"Time = {speculative_time:.2f}s\" + \"\\n\" + f\"Text = {speculative_text}\"\n",
    "    return out\n",
    "\n",
    "if __name__ == \"__main__\":\n",
    "    with gr.Blocks() as demo:\n",
    "        gr.Markdown(\n",
    "            \"\"\"\n",
    "            # Speculative Sampling Demo\n",
    "            ## The output will show a comparison of Autoregressive Sampling vs Speculative Sampling\n",
    "            - Target Model: Dolly V2 12B\n",
    "            - Draft Model: Dolly V2 3B\n",
    "            - K = 5\n",
    "            > Some improvements can be made to acceptance criterion and adjusting temperature to improve text quality.\n",
    "            \"\"\")\n",
    "        with gr.Row():\n",
    "            inp = gr.Textbox(placeholder=\"THIS CANNOT BE EMPTY\", label=\"Input Prompt\")\n",
    "            out = gr.Textbox(label=\"Output\")\n",
    "        btn = gr.Button(\"Run\")\n",
    "        btn.click(fn=main, inputs=inp, outputs=out)\n",
    "    demo.launch()"
   ]
  }
 ],
 "metadata": {
  "kernelspec": {
   "display_name": "Python 3 (ipykernel)",
   "language": "python",
   "name": "python3"
  },
  "language_info": {
   "codemirror_mode": {
    "name": "ipython",
    "version": 3
   },
   "file_extension": ".py",
   "mimetype": "text/x-python",
   "name": "python",
   "nbconvert_exporter": "python",
   "pygments_lexer": "ipython3",
   "version": "3.8.10"
  },
  "openvino_notebooks": {
   "imageUrl": "",
   "tags": {
    "categories": [
     "Model Demos"
    ],
    "libraries": [],
    "other": [],
    "tasks": [
     "Text Generation"
    ]
   }
  },
  "vscode": {
   "interpreter": {
    "hash": "cec18e25feb9469b5ff1085a8097bdcd86db6a4ac301d6aeff87d0f3e7ce4ca5"
   }
  },
  "widgets": {
   "application/vnd.jupyter.widget-state+json": {
    "state": {},
    "version_major": 2,
    "version_minor": 0
   }
  }
 },
 "nbformat": 4,
 "nbformat_minor": 5
}
