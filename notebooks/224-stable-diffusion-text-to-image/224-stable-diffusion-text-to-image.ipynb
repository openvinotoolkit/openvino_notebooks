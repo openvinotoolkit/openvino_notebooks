{
  "cells": [
    {
      "cell_type": "markdown",
      "metadata": {},
      "source": [
        "# Text to image generation with Stable Diffusion and OpenVINO\n",
        "\n",
        "Stable Diffusion is a text-to-image latent diffusion model created by the researchers and engineers from [CompVis](https://github.com/CompVis), [Stability AI](https://stability.ai/) and [LAION](https://laion.ai/). It's trained on 512x512 images from a subset of the [LAION-5B](https://laion.ai/blog/laion-5b/) database. This model uses a frozen CLIP ViT-L/14 text encoder to condition the model on text prompts. With its 860M UNet and 123M text encoder.\n",
        "See the [model card](https://huggingface.co/CompVis/stable-diffusion) for more information.\n",
        "\n",
        "General diffusion models are machine learning systems that are trained to denoise random gaussian noise step by step, to get to a sample of interest, such as an image.\n",
        "Diffusion models have shown to achieve state-of-the-art results for generating image data. But one downside of diffusion models is that the reverse denoising process is slow. In addition, these models consume a lot of memory because they operate in pixel space, which becomes unreasonably expensive when generating high-resolution images. Therefore, it is challenging to train these models and also use them for inference. OpenVINO brings capabilities to run model inference on Intel hardware and opens the door to the fantastic world of diffusion models for everyone!\n",
        "\n",
        "\n",
        "This notebook demonstrates how to convert and run stable diffusion using OpenVINO.\n",
        "\n",
        "Notebook contains the following steps:\n",
        "1. Convert PyTorch models to ONNX format.\n",
        "2. Convert ONNX models to OpenVINO IR format using Model Optimizer tool.\n",
        "3. Run Stable Diffusion pipeline with OpenVINO."
      ]
    },
    {
      "cell_type": "markdown",
      "metadata": {},
      "source": [
        "## Prerequisites\n",
        "You also need to accept the model license before downloading or using the weights. In this post we'll use `stable-diffusion-v1-4` model version, so you'll need to  visit [its card](https://huggingface.co/CompVis/stable-diffusion-v1-4), read the license and tick the checkbox if you agree. \n",
        "\n",
        "You have to be a registered user in 🤗 Hugging Face Hub, and you'll also need to use an access token for the code to work. For more information on access tokens, please refer to [this section of the documentation](https://huggingface.co/docs/hub/security-tokens)."
      ]
    },
    {
      "cell_type": "code",
      "execution_count": 1,
      "metadata": {},
      "outputs": [
        {
          "name": "stdout",
          "output_type": "stream",
          "text": [
            "Requirement already satisfied: torch>=1.9 in c:\\users\\eaidova\\anaconda3\\envs\\notebooks_env\\lib\\site-packages (from -r requirements.txt (line 1)) (1.12.1)\n",
            "Requirement already satisfied: transformers~=4.21 in c:\\users\\eaidova\\anaconda3\\envs\\notebooks_env\\lib\\site-packages (from -r requirements.txt (line 2)) (4.22.2)\n",
            "Requirement already satisfied: diffusers>=0.2.4 in c:\\users\\eaidova\\anaconda3\\envs\\notebooks_env\\lib\\site-packages (from -r requirements.txt (line 3)) (0.3.0)\n",
            "Requirement already satisfied: huggingface-hub>=0.9.1 in c:\\users\\eaidova\\appdata\\roaming\\python\\python39\\site-packages (from -r requirements.txt (line 4)) (0.10.0)\n",
            "Requirement already satisfied: typing-extensions in c:\\users\\eaidova\\anaconda3\\envs\\notebooks_env\\lib\\site-packages (from torch>=1.9->-r requirements.txt (line 1)) (3.7.4.3)\n",
            "Requirement already satisfied: regex!=2019.12.17 in c:\\users\\eaidova\\anaconda3\\envs\\notebooks_env\\lib\\site-packages (from transformers~=4.21->-r requirements.txt (line 2)) (2022.9.13)\n",
            "Requirement already satisfied: tokenizers!=0.11.3,<0.13,>=0.11.1 in c:\\users\\eaidova\\anaconda3\\envs\\notebooks_env\\lib\\site-packages (from transformers~=4.21->-r requirements.txt (line 2)) (0.12.1)\n",
            "Requirement already satisfied: requests in c:\\users\\eaidova\\appdata\\roaming\\python\\python39\\site-packages (from transformers~=4.21->-r requirements.txt (line 2)) (2.28.1)\n",
            "Requirement already satisfied: numpy>=1.17 in c:\\users\\eaidova\\anaconda3\\envs\\notebooks_env\\lib\\site-packages (from transformers~=4.21->-r requirements.txt (line 2)) (1.19.3)\n",
            "Requirement already satisfied: packaging>=20.0 in c:\\users\\eaidova\\appdata\\roaming\\python\\python39\\site-packages (from transformers~=4.21->-r requirements.txt (line 2)) (21.3)\n",
            "Requirement already satisfied: pyyaml>=5.1 in c:\\users\\eaidova\\appdata\\roaming\\python\\python39\\site-packages (from transformers~=4.21->-r requirements.txt (line 2)) (6.0)\n",
            "Requirement already satisfied: filelock in c:\\users\\eaidova\\appdata\\roaming\\python\\python39\\site-packages (from transformers~=4.21->-r requirements.txt (line 2)) (3.8.0)\n",
            "Requirement already satisfied: tqdm>=4.27 in c:\\users\\eaidova\\appdata\\roaming\\python\\python39\\site-packages (from transformers~=4.21->-r requirements.txt (line 2)) (4.64.1)\n",
            "Requirement already satisfied: Pillow in c:\\users\\eaidova\\anaconda3\\envs\\notebooks_env\\lib\\site-packages (from diffusers>=0.2.4->-r requirements.txt (line 3)) (9.2.0)\n",
            "Requirement already satisfied: importlib-metadata in c:\\users\\eaidova\\anaconda3\\envs\\notebooks_env\\lib\\site-packages (from diffusers>=0.2.4->-r requirements.txt (line 3)) (5.0.0)\n",
            "Requirement already satisfied: pyparsing!=3.0.5,>=2.0.2 in c:\\users\\eaidova\\appdata\\roaming\\python\\python39\\site-packages (from packaging>=20.0->transformers~=4.21->-r requirements.txt (line 2)) (2.4.7)\n",
            "Requirement already satisfied: colorama in c:\\users\\eaidova\\appdata\\roaming\\python\\python39\\site-packages (from tqdm>=4.27->transformers~=4.21->-r requirements.txt (line 2)) (0.4.5)\n",
            "Requirement already satisfied: zipp>=0.5 in c:\\users\\eaidova\\anaconda3\\envs\\notebooks_env\\lib\\site-packages (from importlib-metadata->diffusers>=0.2.4->-r requirements.txt (line 3)) (3.8.1)\n",
            "Requirement already satisfied: charset-normalizer<3,>=2 in c:\\users\\eaidova\\appdata\\roaming\\python\\python39\\site-packages (from requests->transformers~=4.21->-r requirements.txt (line 2)) (2.1.1)\n",
            "Requirement already satisfied: certifi>=2017.4.17 in c:\\users\\eaidova\\appdata\\roaming\\python\\python39\\site-packages (from requests->transformers~=4.21->-r requirements.txt (line 2)) (2022.9.24)\n",
            "Requirement already satisfied: idna<4,>=2.5 in c:\\users\\eaidova\\appdata\\roaming\\python\\python39\\site-packages (from requests->transformers~=4.21->-r requirements.txt (line 2)) (3.4)\n",
            "Requirement already satisfied: urllib3<1.27,>=1.21.1 in c:\\users\\eaidova\\anaconda3\\envs\\notebooks_env\\lib\\site-packages (from requests->transformers~=4.21->-r requirements.txt (line 2)) (1.26.12)\n"
          ]
        }
      ],
      "source": [
        "!pip install -r requirements.txt"
      ]
    },
    {
      "cell_type": "code",
      "execution_count": 2,
      "metadata": {
        "colab": {
          "base_uri": "https://localhost:8080/",
          "height": 326,
          "referenced_widgets": [
            "b4656701b5c84bcb9cfa7d7ec7c21d55",
            "8d8931fd52b1466eb979969d17314464",
            "49ab313845ac4ade8c69b8623268c446",
            "00192ea199ef46f8bb5551524122795c",
            "351c384b36794b8a8cd4517e5d40a348",
            "d8c4e80da01c4d3ba23cd3281fa9331a",
            "ce4f5a434a9844bb94f0091eff940da8",
            "4732b897f35345ff8a4ad1b254075423",
            "25ab9b26c5684d08abebad96b23776af",
            "6a3754f23eb04d7daa0f0f604962b8a5",
            "a258eb0811d54af58f2155e42da012f9",
            "98b6268992ec494bbcf8435ab1e4773a",
            "bfcb91a708ee42ce8ccf9c6809e88d31",
            "6381f50416224da6b9a502dff848ea7c"
          ]
        },
        "id": "V9bI-wji0eht",
        "outputId": "c874a649-4024-4703-b664-d11fd5756bf8"
      },
      "outputs": [
        {
          "name": "stdout",
          "output_type": "stream",
          "text": [
            "Login successful\n",
            "Your token has been saved to C:\\Users\\eaidova\\.huggingface\\token\n",
            "\u001b[1m\u001b[31mAuthenticated through git-credential store but this isn't the helper defined on your machine.\n",
            "You might have to re-authenticate when pushing to the Hugging Face Hub. Run the following command in your terminal in case you want to set this credential helper as the default\n",
            "\n",
            "git config --global credential.helper store\u001b[0m\n"
          ]
        }
      ],
      "source": [
        "## login to huggingfacehub to get access to pretrained model \n",
        "from huggingface_hub import notebook_login\n",
        "\n",
        "notebook_login()"
      ]
    },
    {
      "cell_type": "markdown",
      "metadata": {},
      "source": [
        "## Create Pytorch Models pipeline\n",
        "StableDiffusionPipeline is an end-to-end inference pipeline that you can use to generate images from text with just a few lines of code.\n",
        "\n",
        "First, we load the pre-trained weights of all components of the model.\n",
        "\n",
        "In addition to the model id `CompVis/stable-diffusion-v1-4`, we're also passing a `use_auth_token` to the from_pretrained method `use_auth_token` to verify that you have indeed accepted the model's license."
      ]
    },
    {
      "cell_type": "code",
      "execution_count": 1,
      "metadata": {
        "colab": {
          "base_uri": "https://localhost:8080/"
        },
        "id": "8NS0mazM0icN",
        "outputId": "b98b31ca-65ca-4bb0-fad2-2599c668ccad"
      },
      "outputs": [
        {
          "data": {
            "application/vnd.jupyter.widget-view+json": {
              "model_id": "44b68e869a6a47a6b494a397a46387ce",
              "version_major": 2,
              "version_minor": 0
            },
            "text/plain": [
              "Fetching 19 files:   0%|          | 0/19 [00:00<?, ?it/s]"
            ]
          },
          "metadata": {},
          "output_type": "display_data"
        },
        {
          "name": "stderr",
          "output_type": "stream",
          "text": [
            "ftfy or spacy is not installed using BERT BasicTokenizer instead of ftfy.\n",
            "{'trained_betas'} was not found in config. Values will be initialized to default values.\n"
          ]
        }
      ],
      "source": [
        "from diffusers import StableDiffusionPipeline\n",
        "\n",
        "pipe = StableDiffusionPipeline.from_pretrained(\"CompVis/stable-diffusion-v1-4\", use_auth_token=True)"
      ]
    },
    {
      "cell_type": "markdown",
      "metadata": {},
      "source": [
        "## Convert models to ONNX format\n",
        "\n",
        "OpenVINO supports PyTorch\\* through export to the ONNX\\* format. We will use `torch.onnx.export` function for obtaining ONNX, \n",
        "you can find more info about it in [PyTorch documentation](https://pytorch.org/docs/stable/onnx.html). \n",
        "We need provide model object, input data for model tracing and path for model saving. \n",
        "Optioanally, we can provide target onnx opset for conversion and other parameters specified in documentation (e.g. input and output names or dynamic shapes).\n",
        "\n",
        "The model consists from three important parts:\n",
        "* Text Encoder for creation condition to generate image from text prompt\n",
        "* Unet for step by step denoising latent image representation\n",
        "* Autoencoder (VAE) for decoding latent space to image\n",
        "\n",
        "Let's convert each part"
      ]
    },
    {
      "cell_type": "markdown",
      "metadata": {},
      "source": [
        "### Text Encoder\n",
        "\n",
        "The text-encoder is responsible for transforming the input prompt, e.g. \"a photo of an astronaut riding a horse\" into an embedding space that can be understood by the U-Net. It is usually a simple transformer-based encoder that maps a sequence of input tokens to a sequence of latent text embeddings.\n",
        "\n",
        "Input of text encoder is tensor `input_ids` which contains indexes of tokens from text processed by tokenizer and padded to maximum length accepted by model.\n",
        "Output of model is 2 tensors: `last_hidden_state` - hidden state from the last MultiHeadAttention layer in model and `pooler_out` - Pooled output for whole model hidden states. We will use `opset_version=14`, because model contains `triu` operation, supported in ONNX only starting from this opset."
      ]
    },
    {
      "cell_type": "code",
      "execution_count": 2,
      "metadata": {
        "colab": {
          "base_uri": "https://localhost:8080/"
        },
        "id": "U1cQFbVS0Ugf",
        "outputId": "9b3b825f-2adc-4d90-cae0-74890d368eab"
      },
      "outputs": [
        {
          "name": "stderr",
          "output_type": "stream",
          "text": [
            "c:\\Users\\eaidova\\Anaconda3\\envs\\notebooks_env\\lib\\site-packages\\transformers\\models\\clip\\modeling_clip.py:682: TracerWarning: torch.tensor results are registered as constants in the trace. You can safely ignore this warning if you use this function to create tensors out of constant variables that would be the same every time you call this function. In any other case, this might cause the trace to be incorrect.\n",
            "  mask.fill_(torch.tensor(torch.finfo(dtype).min))\n",
            "c:\\Users\\eaidova\\Anaconda3\\envs\\notebooks_env\\lib\\site-packages\\transformers\\models\\clip\\modeling_clip.py:222: TracerWarning: Converting a tensor to a Python boolean might cause the trace to be incorrect. We can't record the data flow of Python values, so this value will be treated as a constant in the future. This means that the trace might not generalize to other inputs!\n",
            "  if attn_weights.size() != (bsz * self.num_heads, tgt_len, src_len):\n",
            "c:\\Users\\eaidova\\Anaconda3\\envs\\notebooks_env\\lib\\site-packages\\transformers\\models\\clip\\modeling_clip.py:230: TracerWarning: Converting a tensor to a Python boolean might cause the trace to be incorrect. We can't record the data flow of Python values, so this value will be treated as a constant in the future. This means that the trace might not generalize to other inputs!\n",
            "  if causal_attention_mask.size() != (bsz, 1, tgt_len, src_len):\n",
            "c:\\Users\\eaidova\\Anaconda3\\envs\\notebooks_env\\lib\\site-packages\\transformers\\models\\clip\\modeling_clip.py:262: TracerWarning: Converting a tensor to a Python boolean might cause the trace to be incorrect. We can't record the data flow of Python values, so this value will be treated as a constant in the future. This means that the trace might not generalize to other inputs!\n",
            "  if attn_output.size() != (bsz * self.num_heads, tgt_len, self.head_dim):\n",
            "c:\\Users\\eaidova\\Anaconda3\\envs\\notebooks_env\\lib\\site-packages\\torch\\onnx\\symbolic_opset9.py:4189: UserWarning: Exporting aten::index operator of advanced indexing in opset 14 is achieved by combination of multiple ONNX operators, including Reshape, Transpose, Concat, and Gather. If indices include negative values, the exported graph will produce incorrect results.\n",
            "  warnings.warn(\n"
          ]
        }
      ],
      "source": [
        "import torch\n",
        "\n",
        "text = 'a photo of an astronaut riding a horse on mars'\n",
        "text_encoder = pipe.text_encoder\n",
        "input_ids = pipe.tokenizer(\n",
        "    text,\n",
        "    padding=\"max_length\",\n",
        "    max_length=pipe.tokenizer.model_max_length,\n",
        "    truncation=True,\n",
        "    return_tensors=\"pt\",\n",
        ").input_ids\n",
        "\n",
        "# switch model to inference mode\n",
        "text_encoder.eval()\n",
        "\n",
        "# disable gradients calculation for reducing memory consumption\n",
        "with torch.no_grad():\n",
        "    # infer model, just to make sure that it works and get inputs for next pipeline stage\n",
        "    text_encoder_output = text_encoder(input_ids)\n",
        "    # export model to ONNX format\n",
        "    torch.onnx.export(\n",
        "        text_encoder,  # model instance\n",
        "        input_ids,  # inputs for model tracing\n",
        "        'text-encoder.onnx',  # output file for saving result\n",
        "        input_names=['input_ids'],  # model input name for onnx representation\n",
        "        output_names=['last_hidden_state', 'pooler_out'],  # model output names for onnx representation\n",
        "        opset_version=14  # onnx opset version for export\n",
        "    )"
      ]
    },
    {
      "cell_type": "markdown",
      "metadata": {},
      "source": [
        "### U-net\n",
        "\n",
        "Unet model has 3 inputs:\n",
        "* `sample` - latent image sample from previous step, generation process has not been started yet, so we will use random noise\n",
        "* `timestep` - current scheduler step\n",
        "* `encoder_hidden_state` - hidden state of text encoder.\n",
        "\n",
        "Model predicts the `sample` state for the next step.\n",
        "\n",
        "Unet contains `brodcast_to` operator which is not supported for onnx conversion yet, but there is equivalent operation in onnx named `Expand`, let's define custom symbolic operation for this case. More details about custom operations can be found on this [page](https://pytorch.org/docs/stable/onnx.html#custom-operators)\n"
      ]
    },
    {
      "cell_type": "code",
      "execution_count": 5,
      "metadata": {},
      "outputs": [],
      "source": [
        "from torch.onnx import register_custom_op_symbolic\n",
        "\n",
        "# define custom symbolic function\n",
        "def broadcast_to_onnx(ctx: torch.onnx.SymbolicContext, g: torch._C.Graph, input, shape):\n",
        "    return g.op('Expand', input, shape)\n",
        "\n",
        "\n",
        "# register custom symbolic function with name brodcast_to to main pytorch domain and opset 13\n",
        "register_custom_op_symbolic(\"::broadcast_to\", broadcast_to_onnx, 13)"
      ]
    },
    {
      "cell_type": "code",
      "execution_count": 6,
      "metadata": {
        "id": "PscvJUXf_hpm"
      },
      "outputs": [
        {
          "name": "stderr",
          "output_type": "stream",
          "text": [
            "A subdirectory or file unet already exists.\n",
            "c:\\Users\\eaidova\\Anaconda3\\envs\\notebooks_env\\lib\\site-packages\\torch\\nn\\functional.py:2515: UserWarning: __floordiv__ is deprecated, and its behavior will change in a future version of pytorch. It currently rounds toward 0 (like the 'trunc' function NOT 'floor'). This results in incorrect rounding for negative values. To keep the current behavior, use torch.div(a, b, rounding_mode='trunc'), or for actual floor division, use torch.div(a, b, rounding_mode='floor').\n",
            "  _verify_batch_size([input.size(0) * input.size(1) // num_groups, num_groups] + list(input.size()[2:]))\n",
            "c:\\Users\\eaidova\\Anaconda3\\envs\\notebooks_env\\lib\\site-packages\\diffusers\\models\\attention.py:239: UserWarning: __floordiv__ is deprecated, and its behavior will change in a future version of pytorch. It currently rounds toward 0 (like the 'trunc' function NOT 'floor'). This results in incorrect rounding for negative values. To keep the current behavior, use torch.div(a, b, rounding_mode='trunc'), or for actual floor division, use torch.div(a, b, rounding_mode='floor').\n",
            "  tensor = tensor.reshape(batch_size, seq_len, head_size, dim // head_size)\n",
            "c:\\Users\\eaidova\\Anaconda3\\envs\\notebooks_env\\lib\\site-packages\\diffusers\\models\\attention.py:240: UserWarning: __floordiv__ is deprecated, and its behavior will change in a future version of pytorch. It currently rounds toward 0 (like the 'trunc' function NOT 'floor'). This results in incorrect rounding for negative values. To keep the current behavior, use torch.div(a, b, rounding_mode='trunc'), or for actual floor division, use torch.div(a, b, rounding_mode='floor').\n",
            "  tensor = tensor.permute(0, 2, 1, 3).reshape(batch_size * head_size, seq_len, dim // head_size)\n",
            "c:\\Users\\eaidova\\Anaconda3\\envs\\notebooks_env\\lib\\site-packages\\diffusers\\models\\attention.py:272: UserWarning: __floordiv__ is deprecated, and its behavior will change in a future version of pytorch. It currently rounds toward 0 (like the 'trunc' function NOT 'floor'). This results in incorrect rounding for negative values. To keep the current behavior, use torch.div(a, b, rounding_mode='trunc'), or for actual floor division, use torch.div(a, b, rounding_mode='floor').\n",
            "  (batch_size_attention, sequence_length, dim // self.heads), device=query.device, dtype=query.dtype\n",
            "c:\\Users\\eaidova\\Anaconda3\\envs\\notebooks_env\\lib\\site-packages\\diffusers\\models\\attention.py:275: UserWarning: __floordiv__ is deprecated, and its behavior will change in a future version of pytorch. It currently rounds toward 0 (like the 'trunc' function NOT 'floor'). This results in incorrect rounding for negative values. To keep the current behavior, use torch.div(a, b, rounding_mode='trunc'), or for actual floor division, use torch.div(a, b, rounding_mode='floor').\n",
            "  for i in range(hidden_states.shape[0] // slice_size):\n",
            "c:\\Users\\eaidova\\Anaconda3\\envs\\notebooks_env\\lib\\site-packages\\diffusers\\models\\attention.py:246: UserWarning: __floordiv__ is deprecated, and its behavior will change in a future version of pytorch. It currently rounds toward 0 (like the 'trunc' function NOT 'floor'). This results in incorrect rounding for negative values. To keep the current behavior, use torch.div(a, b, rounding_mode='trunc'), or for actual floor division, use torch.div(a, b, rounding_mode='floor').\n",
            "  tensor = tensor.reshape(batch_size // head_size, head_size, seq_len, dim)\n",
            "c:\\Users\\eaidova\\Anaconda3\\envs\\notebooks_env\\lib\\site-packages\\diffusers\\models\\attention.py:247: UserWarning: __floordiv__ is deprecated, and its behavior will change in a future version of pytorch. It currently rounds toward 0 (like the 'trunc' function NOT 'floor'). This results in incorrect rounding for negative values. To keep the current behavior, use torch.div(a, b, rounding_mode='trunc'), or for actual floor division, use torch.div(a, b, rounding_mode='floor').\n",
            "  tensor = tensor.permute(0, 2, 1, 3).reshape(batch_size // head_size, seq_len, dim * head_size)\n",
            "c:\\Users\\eaidova\\Anaconda3\\envs\\notebooks_env\\lib\\site-packages\\diffusers\\models\\resnet.py:89: TracerWarning: Converting a tensor to a Python boolean might cause the trace to be incorrect. We can't record the data flow of Python values, so this value will be treated as a constant in the future. This means that the trace might not generalize to other inputs!\n",
            "  assert x.shape[1] == self.channels\n",
            "c:\\Users\\eaidova\\Anaconda3\\envs\\notebooks_env\\lib\\site-packages\\diffusers\\models\\resnet.py:94: TracerWarning: Converting a tensor to a Python boolean might cause the trace to be incorrect. We can't record the data flow of Python values, so this value will be treated as a constant in the future. This means that the trace might not generalize to other inputs!\n",
            "  assert x.shape[1] == self.channels\n",
            "c:\\Users\\eaidova\\Anaconda3\\envs\\notebooks_env\\lib\\site-packages\\diffusers\\models\\resnet.py:39: TracerWarning: Converting a tensor to a Python boolean might cause the trace to be incorrect. We can't record the data flow of Python values, so this value will be treated as a constant in the future. This means that the trace might not generalize to other inputs!\n",
            "  assert x.shape[1] == self.channels\n",
            "c:\\Users\\eaidova\\Anaconda3\\envs\\notebooks_env\\lib\\site-packages\\diffusers\\models\\unet_2d_condition.py:267: TracerWarning: Converting a tensor to a Python boolean might cause the trace to be incorrect. We can't record the data flow of Python values, so this value will be treated as a constant in the future. This means that the trace might not generalize to other inputs!\n",
            "  if not return_dict:\n"
          ]
        }
      ],
      "source": [
        "import numpy as np\n",
        "latents_shape = (2, 4, 512 // 8, 512 // 8)\n",
        "latents = torch.randn(latents_shape)\n",
        "t = torch.from_numpy(np.array(1, dtype=float))\n",
        "\n",
        "# model size > 2Gb, it will be represented as onnx with external data files, we will store it in separated directory for avoid a lot of files in current directory\n",
        "!mkdir unet\n",
        "\n",
        "max_length = input_ids.shape[-1]\n",
        "\n",
        "# we plan to use unet with classificator free guidence, in this cace conditionaly generated text embeddings should be concatenated with uncoditional\n",
        "uncond_input = pipe.tokenizer([\"\"], padding=\"max_length\", max_length=max_length, return_tensors=\"pt\")\n",
        "uncond_embeddings = pipe.text_encoder(uncond_input.input_ids)[0]\n",
        "encoder_hidden_state = torch.cat([uncond_embeddings, text_encoder_output[0]])\n",
        "\n",
        "# to make sure that model works and save input for vae decoder\n",
        "output_latents = pipe.unet(latents, t, encoder_hidden_state)[0]\n",
        "\n",
        "with torch.no_grad():\n",
        "    torch.onnx.export(\n",
        "        pipe.unet, \n",
        "        (latents, t, encoder_hidden_state), 'unet/unet.onnx',\n",
        "        input_names=['sample', 'timestep', 'encoder_hidden_state'],\n",
        "        output_names=['out_sample']\n",
        "    )\n"
      ]
    },
    {
      "cell_type": "markdown",
      "metadata": {},
      "source": [
        "### VAE\n",
        "\n",
        "The VAE model has two parts, an encoder and a decoder. The encoder is used to convert the image into a low dimensional latent representation, which will serve as the input to the U-Net model. The decoder, conversely, transforms the latent representation back into an image.\n",
        "\n",
        "During latent diffusion training, the encoder is used to get the latent representations (latents) of the images for the forward diffusion process, which applies more and more noise at each step. During inference, the denoised latents generated by the reverse diffusion process are converted back into images using the VAE decoder. As we will see during inference we **only need the VAE decoder**.\n",
        "\n",
        "In our inference pipeline, we will need only decoding part of VAE, but forward function, which used for tracing runs encoding too. For obtaining only necessary part of model, we will wrap it into new model class."
      ]
    },
    {
      "cell_type": "code",
      "execution_count": 9,
      "metadata": {
        "id": "fQvd38qPHLtq"
      },
      "outputs": [
        {
          "name": "stderr",
          "output_type": "stream",
          "text": [
            "c:\\Users\\eaidova\\Anaconda3\\envs\\notebooks_env\\lib\\site-packages\\torch\\nn\\functional.py:2515: UserWarning: __floordiv__ is deprecated, and its behavior will change in a future version of pytorch. It currently rounds toward 0 (like the 'trunc' function NOT 'floor'). This results in incorrect rounding for negative values. To keep the current behavior, use torch.div(a, b, rounding_mode='trunc'), or for actual floor division, use torch.div(a, b, rounding_mode='floor').\n",
            "  _verify_batch_size([input.size(0) * input.size(1) // num_groups, num_groups] + list(input.size()[2:]))\n",
            "c:\\Users\\eaidova\\Anaconda3\\envs\\notebooks_env\\lib\\site-packages\\diffusers\\models\\resnet.py:39: TracerWarning: Converting a tensor to a Python boolean might cause the trace to be incorrect. We can't record the data flow of Python values, so this value will be treated as a constant in the future. This means that the trace might not generalize to other inputs!\n",
            "  assert x.shape[1] == self.channels\n"
          ]
        }
      ],
      "source": [
        "class VAEDecoderWrapper(torch.nn.Module):\n",
        "    def __init__(self, vae):\n",
        "        super().__init__()\n",
        "        self.vae = vae\n",
        "\n",
        "    def forward(self, latents):\n",
        "        return self.vae.decode(latents)\n",
        "\n",
        "\n",
        "vae_decoder = VAEDecoderWrapper(pipe.vae)\n",
        "\n",
        "latents_uncond, latents_text = output_latents[0].unsqueeze(0), output_latents[1].unsqueeze(0)\n",
        "latents = latents_uncond + 7.5 * (latents_text - latents_uncond)\n",
        "\n",
        "vae_decoder.eval()\n",
        "with torch.no_grad():\n",
        "    torch.onnx.export(vae_decoder, latents, 'vae_decoder.onnx', input_names=['latents'], output_names=['sample'])"
      ]
    },
    {
      "cell_type": "code",
      "execution_count": 10,
      "metadata": {},
      "outputs": [],
      "source": [
        "# to reduce memory consumption, remove pipeline form memory as we will not use it anymore\n",
        "del pipe"
      ]
    },
    {
      "cell_type": "markdown",
      "metadata": {},
      "source": [
        "## Convert models using OpenVINO Model Optimizer API"
      ]
    },
    {
      "cell_type": "markdown",
      "metadata": {},
      "source": [
        "While ONNX models are directly supported by OpenVINO™, it can be useful to convert them to IR format to take advantage of advanced OpenVINO optimization tools and features. `mo.convert' function can be used for converting model using OpenVINO Model Optimizer capabilities. It returns of instance OpenVINO Model class, which is ready to use in python interface and can be serialized to IR for next usages."
      ]
    },
    {
      "cell_type": "code",
      "execution_count": 11,
      "metadata": {},
      "outputs": [],
      "source": [
        "from openvino.tools import mo\n",
        "from openvino.runtime import serialize\n",
        "\n",
        "text_encoder = mo.convert(input_model='text-encoder.onnx', data_type='FP16')\n",
        "serialize(text_encoder, 'text_encoder.xml')\n",
        "unet = mo.convert(input_model='unet/unet.onnx', data_type='FP16')\n",
        "serialize(unet, 'unet.xml')\n",
        "vae_decoder = mo.convert(input_model='vae_decoder.onnx', data_type='FP16')\n",
        "serialize(vae_decoder, 'vae_decoder.xml')"
      ]
    },
    {
      "cell_type": "markdown",
      "metadata": {},
      "source": [
        "\n",
        "## Prepare Inference Pipeline\n",
        "\n",
        "Putting it all together, let's now take a closer look at how the model works in inference by illustrating the logical flow."
      ]
    },
    {
      "cell_type": "markdown",
      "metadata": {},
      "source": [
        "<p align=\"left\">\n",
        "<img src=\"https://raw.githubusercontent.com/patrickvonplaten/scientific_images/master/stable_diffusion.png\" alt=\"sd-pipeline\" width=\"500\"/>\n",
        "</p>\n",
        "\n",
        "The stable diffusion model takes both a latent seed and a text prompt as an input. The latent seed is then used to generate random latent image representations of size $64 \\times 64$ where as the text prompt is transformed to text embeddings of size $77 \\times 768$ via CLIP's text encoder.\n",
        "\n",
        "Next the U-Net iteratively *denoises* the random latent image representations while being conditioned on the text embeddings. The output of the U-Net, being the noise residual, is used to compute a denoised latent image representation via a scheduler algorithm. Many different scheduler algorithms can be used for this computation, each having its pros and cons. For Stable Diffusion, it is recommended using one of:\n",
        "\n",
        "- [PNDM scheduler](https://github.com/huggingface/diffusers/blob/main/src/diffusers/schedulers/scheduling_pndm.py)\n",
        "- [DDIM scheduler](https://github.com/huggingface/diffusers/blob/main/src/diffusers/schedulers/scheduling_ddim.py)\n",
        "- [K-LMS scheduler](https://github.com/huggingface/diffusers/blob/main/src/diffusers/schedulers/scheduling_lms_discrete.py)(we will use it in our pipeline)\n",
        "\n",
        "Theory on how the scheduler algorithm function is out of scope for this notebook, but in short one should remember that they compute the predicted denoised image representation from the previous noise representation and the predicted noise residual.\n",
        "For more information, we recommend looking into [Elucidating the Design Space of Diffusion-Based Generative Models](https://arxiv.org/abs/2206.00364)\n",
        "\n",
        "The *denoising* process is repeated given number of times (by default 50) to step-by-step retrieve better latent image representations.\n",
        "Once complete, the latent image representation is decoded by the decoder part of the variational auto encoder."
      ]
    },
    {
      "cell_type": "code",
      "execution_count": 14,
      "metadata": {},
      "outputs": [],
      "source": [
        "import inspect\n",
        "from typing import List, Optional, Union\n",
        "import numpy as np\n",
        "import torch\n",
        "\n",
        "from transformers import CLIPTokenizer\n",
        "from diffusers.pipeline_utils import DiffusionPipeline\n",
        "from diffusers.schedulers import DDIMScheduler, LMSDiscreteScheduler, PNDMScheduler\n",
        "from openvino.runtime import Model\n",
        "\n",
        "class OVStableDiffusionPipeline(DiffusionPipeline):\n",
        "    def __init__(\n",
        "        self,\n",
        "        vae: Model,\n",
        "        text_encoder: Model,\n",
        "        tokenizer: CLIPTokenizer,\n",
        "        unet: Model,\n",
        "        scheduler: Union[DDIMScheduler, PNDMScheduler, LMSDiscreteScheduler],\n",
        "    ):\n",
        "        super().__init__()\n",
        "        self.scheduler = scheduler.set_format(\"np\")\n",
        "        self.vae = vae\n",
        "        self.text_encoder = text_encoder\n",
        "        self.unet = unet\n",
        "        self._text_encoder_output = text_encoder.output(0)\n",
        "        self._unet_output = unet.output(0)\n",
        "        self._vae_output = vae.output(0)\n",
        "        self.height = self.unet.input(0).shape[2] * 8\n",
        "        self.width = self.unet.input(0).shape[3] * 8\n",
        "        self.tokenizer = tokenizer\n",
        "\n",
        "    @torch.no_grad()\n",
        "    def __call__(\n",
        "        self,\n",
        "        prompt: Union[str, List[str]],\n",
        "        num_inference_steps: Optional[int] = 50,\n",
        "        guidance_scale: Optional[float] = 7.5,\n",
        "        eta: Optional[float] = 0.0,\n",
        "        latents: Optional[np.array] = None,\n",
        "        output_type: Optional[str] = \"pil\",\n",
        "        gif: Optional[bool] = False,\n",
        "        **kwargs,\n",
        "    ):\n",
        "\n",
        "        if isinstance(prompt, str):\n",
        "            batch_size = 1\n",
        "        elif isinstance(prompt, list):\n",
        "            batch_size = len(prompt)\n",
        "        else:\n",
        "            raise ValueError(f\"`prompt` has to be of type `str` or `list` but is {type(prompt)}\")\n",
        "\n",
        "        img_buffer = []\n",
        "        # get prompt text embeddings\n",
        "        text_input = self.tokenizer(\n",
        "            prompt,\n",
        "            padding=\"max_length\",\n",
        "            max_length=self.tokenizer.model_max_length,\n",
        "            truncation=True,\n",
        "            return_tensors=\"np\",\n",
        "        )\n",
        "        text_embeddings = self.text_encoder(text_input.input_ids)[self._text_encoder_output]\n",
        "        # here `guidance_scale` is defined analog to the guidance weight `w` of equation (2)\n",
        "        # of the Imagen paper: https://arxiv.org/pdf/2205.11487.pdf . `guidance_scale = 1`\n",
        "        # corresponds to doing no classifier free guidance.\n",
        "        do_classifier_free_guidance = guidance_scale > 1.0\n",
        "        # get unconditional embeddings for classifier free guidance\n",
        "        if do_classifier_free_guidance:\n",
        "            max_length = text_input.input_ids.shape[-1]\n",
        "            uncond_input = self.tokenizer(\n",
        "                [\"\"] * batch_size, padding=\"max_length\", max_length=max_length, return_tensors=\"np\"\n",
        "            )\n",
        "            uncond_embeddings = self.text_encoder(uncond_input.input_ids)[self._text_encoder_output]\n",
        "\n",
        "            # For classifier free guidance, we need to do two forward passes.\n",
        "            # Here we concatenate the unconditional and text embeddings into a single batch\n",
        "            # to avoid doing two forward passes\n",
        "            text_embeddings = np.concatenate([uncond_embeddings, text_embeddings])\n",
        "\n",
        "        # get the initial random noise unless the user supplied it\n",
        "        latents_shape = (batch_size, 4, self.height // 8, self.width // 8)\n",
        "        if latents is None:\n",
        "            latents = np.random.randn(\n",
        "                *latents_shape\n",
        "            )\n",
        "        else:\n",
        "            if latents.shape != latents_shape:\n",
        "                raise ValueError(f\"Unexpected latents shape, got {latents.shape}, expected {latents_shape}\")\n",
        "\n",
        "        # set timesteps\n",
        "        accepts_offset = \"offset\" in set(inspect.signature(self.scheduler.set_timesteps).parameters.keys())\n",
        "        extra_set_kwargs = {}\n",
        "        if accepts_offset:\n",
        "            extra_set_kwargs[\"offset\"] = 1\n",
        "\n",
        "        self.scheduler.set_timesteps(num_inference_steps, **extra_set_kwargs)\n",
        "\n",
        "        # if we use LMSDiscreteScheduler, let's make sure latents are mulitplied by sigmas\n",
        "        if isinstance(self.scheduler, LMSDiscreteScheduler):\n",
        "            latents = latents * self.scheduler.sigmas[0]\n",
        "\n",
        "        # prepare extra kwargs for the scheduler step, since not all schedulers have the same signature\n",
        "        # eta (η) is only used with the DDIMScheduler, it will be ignored for other schedulers.\n",
        "        # eta corresponds to η in DDIM paper: https://arxiv.org/abs/2010.02502\n",
        "        # and should be between [0, 1]\n",
        "        accepts_eta = \"eta\" in set(inspect.signature(self.scheduler.step).parameters.keys())\n",
        "        extra_step_kwargs = {}\n",
        "        if accepts_eta:\n",
        "            extra_step_kwargs[\"eta\"] = eta\n",
        "\n",
        "        for i, t in enumerate(self.progress_bar(self.scheduler.timesteps)):\n",
        "            # expand the latents if we are doing classifier free guidance\n",
        "            latent_model_input = np.concatenate([latents] * 2) if do_classifier_free_guidance else latents\n",
        "            if isinstance(self.scheduler, LMSDiscreteScheduler):\n",
        "                sigma = self.scheduler.sigmas[i]\n",
        "                # the model input needs to be scaled to match the continuous ODE formulation in K-LMS\n",
        "                latent_model_input = latent_model_input / ((sigma**2 + 1) ** 0.5)\n",
        "\n",
        "            # predict the noise residual\n",
        "            noise_pred = self.unet([latent_model_input, t, text_embeddings])[self._unet_output]\n",
        "            # perform guidance\n",
        "            if do_classifier_free_guidance:\n",
        "                noise_pred_uncond, noise_pred_text = noise_pred[0], noise_pred[1]\n",
        "                noise_pred = noise_pred_uncond + guidance_scale * (noise_pred_text - noise_pred_uncond)\n",
        "\n",
        "            # compute the previous noisy sample x_t -> x_t-1\n",
        "            if isinstance(self.scheduler, LMSDiscreteScheduler):\n",
        "                latents = self.scheduler.step(noise_pred, i, latents, **extra_step_kwargs)[\"prev_sample\"]\n",
        "            else:\n",
        "                latents = self.scheduler.step(noise_pred, t, latents, **extra_step_kwargs)[\"prev_sample\"]\n",
        "            if gif:\n",
        "                image = self.vae( 1 / 0.18215 * latents)[self._vae_output]\n",
        "                image = (image / 2 + 0.5).clip(0, 1)\n",
        "                image = image.transpose(0, 2, 3, 1)\n",
        "                if output_type == \"pil\":\n",
        "                    image = self.numpy_to_pil(image)\n",
        "                img_buffer.extend(image)\n",
        "\n",
        "\n",
        "        # scale and decode the image latents with vae\n",
        "        latents = 1 / 0.18215 * latents\n",
        "        image = self.vae(latents)[self._vae_output]\n",
        "\n",
        "        image = (image / 2 + 0.5).clip(0, 1)\n",
        "        image = image.transpose(0, 2, 3, 1)\n",
        "        if output_type == \"pil\":\n",
        "            image = self.numpy_to_pil(image)\n",
        "\n",
        "        return {\"sample\": image, 'iterations': img_buffer}"
      ]
    },
    {
      "cell_type": "markdown",
      "metadata": {},
      "source": [
        "## Configure Inference Pipeline"
      ]
    },
    {
      "cell_type": "markdown",
      "metadata": {},
      "source": [
        "First of all, we should create instance of our OpenVINOModel wrapper. We use it for more convinient getting inference results."
      ]
    },
    {
      "cell_type": "code",
      "execution_count": 16,
      "metadata": {},
      "outputs": [],
      "source": [
        "from openvino.runtime import Core\n",
        "core = Core()\n",
        "text_enc = core.compile_model('text_encoder.xml', device='CPU')"
      ]
    },
    {
      "cell_type": "code",
      "execution_count": 17,
      "metadata": {},
      "outputs": [],
      "source": [
        "unet_model = core.compile_model('unet.xml', device='CPU')"
      ]
    },
    {
      "cell_type": "code",
      "execution_count": 18,
      "metadata": {},
      "outputs": [],
      "source": [
        "vae = core.compile_model('vae_decoder.xml', device='CPU')"
      ]
    },
    {
      "cell_type": "markdown",
      "metadata": {},
      "source": [
        "Besides, models tokenizer and scheduler are also important parts of pipeline. Let's define them and put all components together"
      ]
    },
    {
      "cell_type": "code",
      "execution_count": 19,
      "metadata": {},
      "outputs": [
        {
          "name": "stderr",
          "output_type": "stream",
          "text": [
            "ftfy or spacy is not installed using BERT BasicTokenizer instead of ftfy.\n"
          ]
        }
      ],
      "source": [
        "from transformers import CLIPTokenizer\n",
        "from diffusers.schedulers import LMSDiscreteScheduler\n",
        "\n",
        "lms = LMSDiscreteScheduler(\n",
        "    beta_start=0.00085, \n",
        "    beta_end=0.012, \n",
        "    beta_schedule=\"scaled_linear\"\n",
        ")\n",
        "tokenizer = CLIPTokenizer.from_pretrained('openai/clip-vit-large-patch14')\n",
        "\n",
        "\n",
        "ov_pipe = OVStableDiffusionPipeline(\n",
        "    tokenizer=tokenizer,\n",
        "    text_encoder=text_enc,\n",
        "    unet=unet_model,\n",
        "    vae=vae,\n",
        "    scheduler=lms\n",
        ")"
      ]
    },
    {
      "cell_type": "markdown",
      "metadata": {},
      "source": [
        "Now, we are ready to define text prompt for generation and run inference pipeline"
      ]
    },
    {
      "cell_type": "code",
      "execution_count": 20,
      "metadata": {},
      "outputs": [
        {
          "data": {
            "application/vnd.jupyter.widget-view+json": {
              "model_id": "9b6b891534b7487694d3773344f3bf45",
              "version_major": 2,
              "version_minor": 0
            },
            "text/plain": [
              "Text(value='A pikachu fine dining with a view to the Eiffel Tower', description='your text')"
            ]
          },
          "metadata": {},
          "output_type": "display_data"
        }
      ],
      "source": [
        "import ipywidgets as widgets\n",
        "\n",
        "text_prompt = widgets.Text(value='A pikachu fine dining with a view to the Eiffel Tower', description='your text')\n",
        "text_prompt"
      ]
    },
    {
      "cell_type": "code",
      "execution_count": 21,
      "metadata": {},
      "outputs": [
        {
          "data": {
            "application/vnd.jupyter.widget-view+json": {
              "model_id": "f992403e29f54d2a98d3457077bd7dbb",
              "version_major": 2,
              "version_minor": 0
            },
            "text/plain": [
              "  0%|          | 0/50 [00:00<?, ?it/s]"
            ]
          },
          "metadata": {},
          "output_type": "display_data"
        }
      ],
      "source": [
        "result = ov_pipe(text_prompt.value, num_inference_steps=50, gif=True)"
      ]
    },
    {
      "cell_type": "markdown",
      "metadata": {},
      "source": [
        "And finally, let's convert the image to PIL so we can display or save it. \n",
        "Our pipeline returns several results: `sample` contains final generated image, `iterations` contains list of intermediate results for each step."
      ]
    },
    {
      "cell_type": "code",
      "execution_count": 22,
      "metadata": {},
      "outputs": [],
      "source": [
        "final_image = result['sample'][0]\n",
        "\n",
        "all_frames = result['iterations']\n",
        "\n",
        "img = next(iter(all_frames))\n",
        "img.save(fp='result.gif', format='GIF', append_images=iter(all_frames), save_all=True, duration=len(all_frames) * 5, loop=0)\n",
        "final_image.save('result.png')"
      ]
    },
    {
      "cell_type": "markdown",
      "metadata": {},
      "source": [
        "Now, we can see how step by step noise and blurry outlines turn into an image"
      ]
    },
    {
      "cell_type": "code",
      "execution_count": 23,
      "metadata": {},
      "outputs": [
        {
          "name": "stdout",
          "output_type": "stream",
          "text": [
            "Input text: A pikachu fine dining with a view to the Eiffel Tower\n"
          ]
        },
        {
          "data": {
            "application/vnd.jupyter.widget-view+json": {
              "model_id": "8388e3d3e3f64b998e869fd67908159c",
              "version_major": 2,
              "version_minor": 0
            },
            "text/plain": [
              "interactive(children=(IntSlider(value=1, description='step', max=50, min=1), Output()), _dom_classes=('widget-…"
            ]
          },
          "metadata": {},
          "output_type": "display_data"
        }
      ],
      "source": [
        "import ipywidgets as widgets\n",
        "\n",
        "\n",
        "print(f'Input text: {text_prompt.value}')\n",
        "@widgets.interact(step=(1, len(all_frames)))\n",
        "def display_step(step=0):\n",
        "    display(all_frames[step - 1])"
      ]
    },
    {
      "cell_type": "markdown",
      "metadata": {},
      "source": [
        "Nice, as we can see the picture has quite a definition 🔥."
      ]
    }
  ],
  "metadata": {
    "colab": {
      "provenance": []
    },
    "kernelspec": {
      "display_name": "Python 3.9.13 ('notebooks_env')",
      "language": "python",
      "name": "python3"
    },
    "language_info": {
      "codemirror_mode": {
        "name": "ipython",
        "version": 3
      },
      "file_extension": ".py",
      "mimetype": "text/x-python",
      "name": "python",
      "nbconvert_exporter": "python",
      "pygments_lexer": "ipython3",
      "version": "3.9.13"
    },
    "vscode": {
      "interpreter": {
        "hash": "717b7b8c7a822e9cab017ab5f6f7c73214695c6beffdbd9cf4aab286e452ca5a"
      }
    },
    "widgets": {
      "application/vnd.jupyter.widget-state+json": {
        "00192ea199ef46f8bb5551524122795c": {
          "model_module": "@jupyter-widgets/controls",
          "model_module_version": "1.5.0",
          "model_name": "ButtonModel",
          "state": {
            "_dom_classes": [],
            "_model_module": "@jupyter-widgets/controls",
            "_model_module_version": "1.5.0",
            "_model_name": "ButtonModel",
            "_view_count": null,
            "_view_module": "@jupyter-widgets/controls",
            "_view_module_version": "1.5.0",
            "_view_name": "ButtonView",
            "button_style": "",
            "description": "Login",
            "disabled": false,
            "icon": "",
            "layout": "IPY_MODEL_a258eb0811d54af58f2155e42da012f9",
            "style": "IPY_MODEL_98b6268992ec494bbcf8435ab1e4773a",
            "tooltip": ""
          }
        },
        "25ab9b26c5684d08abebad96b23776af": {
          "model_module": "@jupyter-widgets/base",
          "model_module_version": "1.2.0",
          "model_name": "LayoutModel",
          "state": {
            "_model_module": "@jupyter-widgets/base",
            "_model_module_version": "1.2.0",
            "_model_name": "LayoutModel",
            "_view_count": null,
            "_view_module": "@jupyter-widgets/base",
            "_view_module_version": "1.2.0",
            "_view_name": "LayoutView",
            "align_content": null,
            "align_items": null,
            "align_self": null,
            "border": null,
            "bottom": null,
            "display": null,
            "flex": null,
            "flex_flow": null,
            "grid_area": null,
            "grid_auto_columns": null,
            "grid_auto_flow": null,
            "grid_auto_rows": null,
            "grid_column": null,
            "grid_gap": null,
            "grid_row": null,
            "grid_template_areas": null,
            "grid_template_columns": null,
            "grid_template_rows": null,
            "height": null,
            "justify_content": null,
            "justify_items": null,
            "left": null,
            "margin": null,
            "max_height": null,
            "max_width": null,
            "min_height": null,
            "min_width": null,
            "object_fit": null,
            "object_position": null,
            "order": null,
            "overflow": null,
            "overflow_x": null,
            "overflow_y": null,
            "padding": null,
            "right": null,
            "top": null,
            "visibility": null,
            "width": null
          }
        },
        "351c384b36794b8a8cd4517e5d40a348": {
          "model_module": "@jupyter-widgets/controls",
          "model_module_version": "1.5.0",
          "model_name": "HTMLModel",
          "state": {
            "_dom_classes": [],
            "_model_module": "@jupyter-widgets/controls",
            "_model_module_version": "1.5.0",
            "_model_name": "HTMLModel",
            "_view_count": null,
            "_view_module": "@jupyter-widgets/controls",
            "_view_module_version": "1.5.0",
            "_view_name": "HTMLView",
            "description": "",
            "description_tooltip": null,
            "layout": "IPY_MODEL_bfcb91a708ee42ce8ccf9c6809e88d31",
            "placeholder": "​",
            "style": "IPY_MODEL_6381f50416224da6b9a502dff848ea7c",
            "value": "\n<b>Pro Tip:</b> If you don't already have one, you can create a dedicated\n'notebooks' token with 'write' access, that you can then easily reuse for all\nnotebooks. </center>"
          }
        },
        "4732b897f35345ff8a4ad1b254075423": {
          "model_module": "@jupyter-widgets/controls",
          "model_module_version": "1.5.0",
          "model_name": "DescriptionStyleModel",
          "state": {
            "_model_module": "@jupyter-widgets/controls",
            "_model_module_version": "1.5.0",
            "_model_name": "DescriptionStyleModel",
            "_view_count": null,
            "_view_module": "@jupyter-widgets/base",
            "_view_module_version": "1.2.0",
            "_view_name": "StyleView",
            "description_width": ""
          }
        },
        "49ab313845ac4ade8c69b8623268c446": {
          "model_module": "@jupyter-widgets/controls",
          "model_module_version": "1.5.0",
          "model_name": "PasswordModel",
          "state": {
            "_dom_classes": [],
            "_model_module": "@jupyter-widgets/controls",
            "_model_module_version": "1.5.0",
            "_model_name": "PasswordModel",
            "_view_count": null,
            "_view_module": "@jupyter-widgets/controls",
            "_view_module_version": "1.5.0",
            "_view_name": "PasswordView",
            "continuous_update": true,
            "description": "Token:",
            "description_tooltip": null,
            "disabled": false,
            "layout": "IPY_MODEL_25ab9b26c5684d08abebad96b23776af",
            "placeholder": "​",
            "style": "IPY_MODEL_6a3754f23eb04d7daa0f0f604962b8a5",
            "value": ""
          }
        },
        "6381f50416224da6b9a502dff848ea7c": {
          "model_module": "@jupyter-widgets/controls",
          "model_module_version": "1.5.0",
          "model_name": "DescriptionStyleModel",
          "state": {
            "_model_module": "@jupyter-widgets/controls",
            "_model_module_version": "1.5.0",
            "_model_name": "DescriptionStyleModel",
            "_view_count": null,
            "_view_module": "@jupyter-widgets/base",
            "_view_module_version": "1.2.0",
            "_view_name": "StyleView",
            "description_width": ""
          }
        },
        "6a3754f23eb04d7daa0f0f604962b8a5": {
          "model_module": "@jupyter-widgets/controls",
          "model_module_version": "1.5.0",
          "model_name": "DescriptionStyleModel",
          "state": {
            "_model_module": "@jupyter-widgets/controls",
            "_model_module_version": "1.5.0",
            "_model_name": "DescriptionStyleModel",
            "_view_count": null,
            "_view_module": "@jupyter-widgets/base",
            "_view_module_version": "1.2.0",
            "_view_name": "StyleView",
            "description_width": ""
          }
        },
        "8d8931fd52b1466eb979969d17314464": {
          "model_module": "@jupyter-widgets/controls",
          "model_module_version": "1.5.0",
          "model_name": "HTMLModel",
          "state": {
            "_dom_classes": [],
            "_model_module": "@jupyter-widgets/controls",
            "_model_module_version": "1.5.0",
            "_model_name": "HTMLModel",
            "_view_count": null,
            "_view_module": "@jupyter-widgets/controls",
            "_view_module_version": "1.5.0",
            "_view_name": "HTMLView",
            "description": "",
            "description_tooltip": null,
            "layout": "IPY_MODEL_ce4f5a434a9844bb94f0091eff940da8",
            "placeholder": "​",
            "style": "IPY_MODEL_4732b897f35345ff8a4ad1b254075423",
            "value": "<center> <img\nsrc=https://huggingface.co/front/assets/huggingface_logo-noborder.svg\nalt='Hugging Face'> <br> Copy a token from <a\nhref=\"https://huggingface.co/settings/tokens\" target=\"_blank\">your Hugging Face\ntokens page</a> and paste it below. <br> Immediately click login after copying\nyour token or it might be stored in plain text in this notebook file. </center>"
          }
        },
        "98b6268992ec494bbcf8435ab1e4773a": {
          "model_module": "@jupyter-widgets/controls",
          "model_module_version": "1.5.0",
          "model_name": "ButtonStyleModel",
          "state": {
            "_model_module": "@jupyter-widgets/controls",
            "_model_module_version": "1.5.0",
            "_model_name": "ButtonStyleModel",
            "_view_count": null,
            "_view_module": "@jupyter-widgets/base",
            "_view_module_version": "1.2.0",
            "_view_name": "StyleView",
            "button_color": null,
            "font_weight": ""
          }
        },
        "a258eb0811d54af58f2155e42da012f9": {
          "model_module": "@jupyter-widgets/base",
          "model_module_version": "1.2.0",
          "model_name": "LayoutModel",
          "state": {
            "_model_module": "@jupyter-widgets/base",
            "_model_module_version": "1.2.0",
            "_model_name": "LayoutModel",
            "_view_count": null,
            "_view_module": "@jupyter-widgets/base",
            "_view_module_version": "1.2.0",
            "_view_name": "LayoutView",
            "align_content": null,
            "align_items": null,
            "align_self": null,
            "border": null,
            "bottom": null,
            "display": null,
            "flex": null,
            "flex_flow": null,
            "grid_area": null,
            "grid_auto_columns": null,
            "grid_auto_flow": null,
            "grid_auto_rows": null,
            "grid_column": null,
            "grid_gap": null,
            "grid_row": null,
            "grid_template_areas": null,
            "grid_template_columns": null,
            "grid_template_rows": null,
            "height": null,
            "justify_content": null,
            "justify_items": null,
            "left": null,
            "margin": null,
            "max_height": null,
            "max_width": null,
            "min_height": null,
            "min_width": null,
            "object_fit": null,
            "object_position": null,
            "order": null,
            "overflow": null,
            "overflow_x": null,
            "overflow_y": null,
            "padding": null,
            "right": null,
            "top": null,
            "visibility": null,
            "width": null
          }
        },
        "b4656701b5c84bcb9cfa7d7ec7c21d55": {
          "model_module": "@jupyter-widgets/controls",
          "model_module_version": "1.5.0",
          "model_name": "VBoxModel",
          "state": {
            "_dom_classes": [],
            "_model_module": "@jupyter-widgets/controls",
            "_model_module_version": "1.5.0",
            "_model_name": "VBoxModel",
            "_view_count": null,
            "_view_module": "@jupyter-widgets/controls",
            "_view_module_version": "1.5.0",
            "_view_name": "VBoxView",
            "box_style": "",
            "children": [
              "IPY_MODEL_8d8931fd52b1466eb979969d17314464",
              "IPY_MODEL_49ab313845ac4ade8c69b8623268c446",
              "IPY_MODEL_00192ea199ef46f8bb5551524122795c",
              "IPY_MODEL_351c384b36794b8a8cd4517e5d40a348"
            ],
            "layout": "IPY_MODEL_d8c4e80da01c4d3ba23cd3281fa9331a"
          }
        },
        "bfcb91a708ee42ce8ccf9c6809e88d31": {
          "model_module": "@jupyter-widgets/base",
          "model_module_version": "1.2.0",
          "model_name": "LayoutModel",
          "state": {
            "_model_module": "@jupyter-widgets/base",
            "_model_module_version": "1.2.0",
            "_model_name": "LayoutModel",
            "_view_count": null,
            "_view_module": "@jupyter-widgets/base",
            "_view_module_version": "1.2.0",
            "_view_name": "LayoutView",
            "align_content": null,
            "align_items": null,
            "align_self": null,
            "border": null,
            "bottom": null,
            "display": null,
            "flex": null,
            "flex_flow": null,
            "grid_area": null,
            "grid_auto_columns": null,
            "grid_auto_flow": null,
            "grid_auto_rows": null,
            "grid_column": null,
            "grid_gap": null,
            "grid_row": null,
            "grid_template_areas": null,
            "grid_template_columns": null,
            "grid_template_rows": null,
            "height": null,
            "justify_content": null,
            "justify_items": null,
            "left": null,
            "margin": null,
            "max_height": null,
            "max_width": null,
            "min_height": null,
            "min_width": null,
            "object_fit": null,
            "object_position": null,
            "order": null,
            "overflow": null,
            "overflow_x": null,
            "overflow_y": null,
            "padding": null,
            "right": null,
            "top": null,
            "visibility": null,
            "width": null
          }
        },
        "ce4f5a434a9844bb94f0091eff940da8": {
          "model_module": "@jupyter-widgets/base",
          "model_module_version": "1.2.0",
          "model_name": "LayoutModel",
          "state": {
            "_model_module": "@jupyter-widgets/base",
            "_model_module_version": "1.2.0",
            "_model_name": "LayoutModel",
            "_view_count": null,
            "_view_module": "@jupyter-widgets/base",
            "_view_module_version": "1.2.0",
            "_view_name": "LayoutView",
            "align_content": null,
            "align_items": null,
            "align_self": null,
            "border": null,
            "bottom": null,
            "display": null,
            "flex": null,
            "flex_flow": null,
            "grid_area": null,
            "grid_auto_columns": null,
            "grid_auto_flow": null,
            "grid_auto_rows": null,
            "grid_column": null,
            "grid_gap": null,
            "grid_row": null,
            "grid_template_areas": null,
            "grid_template_columns": null,
            "grid_template_rows": null,
            "height": null,
            "justify_content": null,
            "justify_items": null,
            "left": null,
            "margin": null,
            "max_height": null,
            "max_width": null,
            "min_height": null,
            "min_width": null,
            "object_fit": null,
            "object_position": null,
            "order": null,
            "overflow": null,
            "overflow_x": null,
            "overflow_y": null,
            "padding": null,
            "right": null,
            "top": null,
            "visibility": null,
            "width": null
          }
        },
        "d8c4e80da01c4d3ba23cd3281fa9331a": {
          "model_module": "@jupyter-widgets/base",
          "model_module_version": "1.2.0",
          "model_name": "LayoutModel",
          "state": {
            "_model_module": "@jupyter-widgets/base",
            "_model_module_version": "1.2.0",
            "_model_name": "LayoutModel",
            "_view_count": null,
            "_view_module": "@jupyter-widgets/base",
            "_view_module_version": "1.2.0",
            "_view_name": "LayoutView",
            "align_content": null,
            "align_items": "center",
            "align_self": null,
            "border": null,
            "bottom": null,
            "display": "flex",
            "flex": null,
            "flex_flow": "column",
            "grid_area": null,
            "grid_auto_columns": null,
            "grid_auto_flow": null,
            "grid_auto_rows": null,
            "grid_column": null,
            "grid_gap": null,
            "grid_row": null,
            "grid_template_areas": null,
            "grid_template_columns": null,
            "grid_template_rows": null,
            "height": null,
            "justify_content": null,
            "justify_items": null,
            "left": null,
            "margin": null,
            "max_height": null,
            "max_width": null,
            "min_height": null,
            "min_width": null,
            "object_fit": null,
            "object_position": null,
            "order": null,
            "overflow": null,
            "overflow_x": null,
            "overflow_y": null,
            "padding": null,
            "right": null,
            "top": null,
            "visibility": null,
            "width": "50%"
          }
        }
      }
    }
  },
  "nbformat": 4,
  "nbformat_minor": 0
}
