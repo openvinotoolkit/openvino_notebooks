{
 "cells": [
  {
   "cell_type": "markdown",
   "source": [
    "# Table Question Answering using TAPAS and OpenVINO™\n",
    "\n",
    "Table Question Answering (Table QA) is the answering a question about an information on a given table. You can use the Table Question Answering models to simulate SQL execution by inputting a table.\n",
    "\n",
    "In this tutorial we demonstrate how to perform table question answering using OpenVINO. This example based on [TAPAS base model fine-tuned on WikiTable Questions (WTQ)](https://huggingface.co/google/tapas-base-finetuned-wtq) that is based on the paper [TAPAS: Weakly Supervised Table Parsing via Pre-training](https://arxiv.org/abs/2004.02349#:~:text=Answering%20natural%20language%20questions%20over,denotations%20instead%20of%20logical%20forms).\n",
    "\n",
    "Answering natural language questions over tables is usually seen as a semantic parsing task. To alleviate the collection cost of full logical forms, one popular approach focuses on weak supervision consisting of denotations instead of logical forms. However, training semantic parsers from weak supervision poses difficulties, and in addition, the generated logical forms are only used as an intermediate step prior to retrieving the denotation. In [this paper](https://arxiv.org/pdf/2004.02349.pdf), it is presented TAPAS, an approach to question answering over tables without generating logical forms. TAPAS trains from weak supervision, and predicts the denotation by selecting table cells and optionally applying a corresponding aggregation operator to such selection. TAPAS extends BERT's architecture to encode tables as input, initializes from an effective joint pre-training of text segments and tables crawled from Wikipedia, and is trained end-to-end.\n",
    "\n",
    "\n",
    "### Table of contents:\n",
    "- [Prerequisites](#Prerequisites-$\\Uparrow$)\n",
    "- [Use the original model to run an inference](#Use-the-original-model-to-run-an-inference--$\\Uparrow$)\n",
    "- [Convert the original model to OpenVINO Intermediate Representation (IR) format](#Convert-the-original-model-to-OpenVINO-Intermediate-Representation-(IR)-format-$\\Uparrow$)\n",
    "- [Run the OpenVINO model](#Run-the-OpenVINO-model-$\\Uparrow$)\n",
    "- [Interactive inference](#Interactive-inference-$\\Uparrow$)"
   ],
   "metadata": {
    "collapsed": false
   }
  },
  {
   "cell_type": "markdown",
   "source": [
    "### Prerequisites [$\\Uparrow$](#Table-of-contents:)"
   ],
   "metadata": {
    "collapsed": false
   }
  },
  {
   "cell_type": "code",
   "execution_count": null,
   "outputs": [],
   "source": [
    "%pip install -q --upgrade pip\n",
    "# this model is not supported in release, so we have to install nightly version\n",
    "%pip uninstall -q -y openvino\n",
    "%pip install -q openvino-nightly\n",
    "# other dependencies\n",
    "%pip install -q torch \"transformers>=4.31.0\"\n",
    "%pip install -q \"gradio>=4.0.2\""
   ],
   "metadata": {
    "collapsed": false
   }
  },
  {
   "cell_type": "code",
   "execution_count": null,
   "outputs": [],
   "source": [
    "import torch\n",
    "from transformers import TapasForQuestionAnswering\n",
    "from transformers import TapasTokenizer\n",
    "from transformers import pipeline\n",
    "import pandas as pd"
   ],
   "metadata": {
    "collapsed": false
   }
  },
  {
   "cell_type": "markdown",
   "source": [
    "Use `TapasForQuestionAnswering.from_pretrained` to download a pretrained model and `TapasTokenizer.from_pretrained` to get a tokenizer."
   ],
   "metadata": {
    "collapsed": false
   }
  },
  {
   "cell_type": "code",
   "execution_count": null,
   "outputs": [],
   "source": [
    "model = TapasForQuestionAnswering.from_pretrained('google/tapas-large-finetuned-wtq')\n",
    "tokenizer = TapasTokenizer.from_pretrained(\"google/tapas-large-finetuned-wtq\")\n",
    "\n",
    "data = {\"Actors\": [\"Brad Pitt\", \"Leonardo Di Caprio\", \"George Clooney\"], \"Number of movies\": [\"87\", \"53\", \"69\"]}\n",
    "table = pd.DataFrame.from_dict(data)\n",
    "question = \"how many movies does Leonardo Di Caprio have?\"\n",
    "print(table)"
   ],
   "metadata": {
    "collapsed": false
   }
  },
  {
   "cell_type": "markdown",
   "source": [
    "### Use the original model to run an inference [$\\Uparrow$](#Table-of-contents:)\n",
    "\n",
    "We use [this example](https://huggingface.co/tasks/table-question-answering) to demonstrate how to make an inference. You can use `pipeline` from `transformer` library for this purpose."
   ],
   "metadata": {
    "collapsed": false
   }
  },
  {
   "cell_type": "code",
   "execution_count": null,
   "outputs": [],
   "source": [
    "tqa = pipeline(task=\"table-question-answering\", model=model, tokenizer=tokenizer)\n",
    "result = tqa(table=table, query=question)\n",
    "print(f\"The answer is {result['cells'][0]}\")"
   ],
   "metadata": {
    "collapsed": false
   }
  },
  {
   "cell_type": "markdown",
   "source": [
    "You can read more about the inference output structure in [this documentation](https://huggingface.co/docs/transformers/model_doc/tapas)."
   ],
   "metadata": {
    "collapsed": false
   }
  },
  {
   "cell_type": "markdown",
   "source": [
    "### Convert the original model to OpenVINO Intermediate Representation (IR) format [$\\Uparrow$](#Table-of-contents:)\n",
    "The original model is a PyTorch module, that can be converted with `ov.convert_model` function directly. We also use `ov.save_model` function to serialize the result of conversion."
   ],
   "metadata": {
    "collapsed": false
   }
  },
  {
   "cell_type": "code",
   "execution_count": null,
   "outputs": [],
   "source": [
    "from pathlib import Path\n",
    "\n",
    "import openvino as ov\n",
    "\n",
    "\n",
    "# Define the input shape\n",
    "batch_size = 1\n",
    "sequence_length = 29\n",
    "\n",
    "# Modify the input shape of the dummy_input dictionary\n",
    "dummy_input = {\n",
    "    \"input_ids\": torch.zeros((batch_size, sequence_length), dtype=torch.long),\n",
    "    \"attention_mask\": torch.zeros((batch_size, sequence_length), dtype=torch.long),\n",
    "    \"token_type_ids\": torch.zeros((batch_size, sequence_length, 7), dtype=torch.long),\n",
    "}\n",
    "\n",
    "\n",
    "ov_model_xml_path = Path('models/ov_model.xml')\n",
    "\n",
    "if not ov_model_xml_path.exists():\n",
    "    ov_model = ov.convert_model(\n",
    "        model,\n",
    "        example_input=dummy_input\n",
    "    )\n",
    "    ov.save_model(ov_model, ov_model_xml_path)"
   ],
   "metadata": {
    "collapsed": false
   }
  },
  {
   "cell_type": "markdown",
   "source": [
    "### Run the OpenVINO model [$\\Uparrow$](#Table-of-contents:)\n",
    "\n",
    "Select a device from dropdown list for running inference using OpenVINO."
   ],
   "metadata": {
    "collapsed": false
   }
  },
  {
   "cell_type": "code",
   "execution_count": null,
   "outputs": [],
   "source": [
    "import ipywidgets as widgets\n",
    "\n",
    "core = ov.Core()\n",
    "\n",
    "device = widgets.Dropdown(\n",
    "    options=core.available_devices + [\"AUTO\"],\n",
    "    value='AUTO',\n",
    "    description='Device:',\n",
    "    disabled=False,\n",
    ")\n",
    "\n",
    "device"
   ],
   "metadata": {
    "collapsed": false
   }
  },
  {
   "cell_type": "markdown",
   "source": [
    "We use `ov.compile_model` to make it ready to use for loading on a device. To prepare inputs use the original `tokenizer`."
   ],
   "metadata": {
    "collapsed": false
   }
  },
  {
   "cell_type": "code",
   "execution_count": null,
   "outputs": [],
   "source": [
    "inputs = tokenizer(table=table, queries=question, padding=\"max_length\", return_tensors=\"pt\")\n",
    "\n",
    "compiled_model = core.compile_model(ov_model_xml_path, device.value)\n",
    "result = compiled_model((inputs[\"input_ids\"], inputs[\"attention_mask\"], inputs[\"token_type_ids\"]))"
   ],
   "metadata": {
    "collapsed": false
   }
  },
  {
   "cell_type": "markdown",
   "source": [
    "Now we should postprocess results. For this, we can use the appropriate part of the code from [`postprocess`](https://github.com/huggingface/transformers/blob/fe2877ce21eb75d34d30664757e2727d7eab817e/src/transformers/pipelines/table_question_answering.py#L393) method of `TableQuestionAnsweringPipeline`."
   ],
   "metadata": {
    "collapsed": false
   }
  },
  {
   "cell_type": "code",
   "execution_count": null,
   "outputs": [],
   "source": [
    "logits = result[0]\n",
    "logits_aggregation = result[1]\n",
    "\n",
    "\n",
    "predictions = tokenizer.convert_logits_to_predictions(inputs, torch.from_numpy(result[0]))\n",
    "answer_coordinates_batch = predictions[0]\n",
    "aggregators = {}\n",
    "aggregators_prefix = {}\n",
    "answers = []\n",
    "for index, coordinates in enumerate(answer_coordinates_batch):\n",
    "    cells = [table.iat[coordinate] for coordinate in coordinates]\n",
    "    aggregator = aggregators.get(index, \"\")\n",
    "    aggregator_prefix = aggregators_prefix.get(index, \"\")\n",
    "    answer = {\n",
    "        \"answer\": aggregator_prefix + \", \".join(cells),\n",
    "        \"coordinates\": coordinates,\n",
    "        \"cells\": [table.iat[coordinate] for coordinate in coordinates],\n",
    "    }\n",
    "    if aggregator:\n",
    "        answer[\"aggregator\"] = aggregator\n",
    "\n",
    "    answers.append(answer)\n",
    "\n",
    "print(answers[0][\"cells\"][0])"
   ],
   "metadata": {
    "collapsed": false
   }
  },
  {
   "cell_type": "markdown",
   "source": [
    "Also, we can use the original pipeline. For this, we should create a wrapper for `TapasForQuestionAnswering` class replacing `forward` method to use the OpenVINO model for inference and methods and attributes of original model class to be integrated into the pipeline."
   ],
   "metadata": {
    "collapsed": false
   }
  },
  {
   "cell_type": "code",
   "execution_count": null,
   "outputs": [],
   "source": [
    "from transformers import TapasConfig\n",
    "\n",
    "\n",
    "# get config for pretrained model\n",
    "config = TapasConfig.from_pretrained('google/tapas-large-finetuned-wtq')\n",
    "\n",
    "\n",
    "\n",
    "class TapasForQuestionAnswering(TapasForQuestionAnswering):  # it is better to keep the class name to avoid warnings\n",
    "    def __init__(self, ov_model_path):\n",
    "        super().__init__(config)  # pass config from the pretrained model\n",
    "        self.tqa_model = core.compile_model(ov_model_path, device.value)\n",
    "        \n",
    "    def forward(self, input_ids, *, attention_mask, token_type_ids):\n",
    "        results = self.tqa_model((input_ids, attention_mask, token_type_ids))\n",
    "        \n",
    "        return torch.from_numpy(results[0]), torch.from_numpy(results[1])\n",
    "\n",
    "\n",
    "compiled_model = TapasForQuestionAnswering(ov_model_xml_path)\n",
    "tqa = pipeline(task=\"table-question-answering\", model=compiled_model, tokenizer=tokenizer)\n",
    "print(tqa(table=table, query=question)[\"cells\"][0])"
   ],
   "metadata": {
    "collapsed": false
   }
  },
  {
   "cell_type": "markdown",
   "source": [
    "### Interactive inference [$\\Uparrow$](#Table-of-contents:)"
   ],
   "metadata": {
    "collapsed": false
   }
  },
  {
   "cell_type": "code",
   "execution_count": null,
   "outputs": [],
   "source": [
    "import urllib.request\n",
    "\n",
    "import gradio as gr\n",
    "import pandas as pd\n",
    "\n",
    "\n",
    "urllib.request.urlretrieve(\n",
    "    url=\"https://github.com/openvinotoolkit/openvino_notebooks/files/13215688/eu_city_population_top10.csv\",\n",
    "    filename=\"eu_city_population_top10.csv\"\n",
    ")\n",
    "\n",
    "\n",
    "def display_table(csv_file_name):\n",
    "    table = pd.read_csv(csv_file_name.name, delimiter=\",\")\n",
    "    table = table.astype(str)\n",
    "\n",
    "    return table\n",
    "\n",
    "\n",
    "def highlight_answers(x, coordinates):\n",
    "    highlighted_table = pd.DataFrame('', index=x.index, columns=x.columns)\n",
    "    for coordinates_i in coordinates:\n",
    "        highlighted_table.iloc[coordinates_i[0], coordinates_i[1]] = \"background-color: lightgreen\"\n",
    "    \n",
    "    return highlighted_table\n",
    "\n",
    "\n",
    "def infer(query, csv_file_name):\n",
    "    table = pd.read_csv(csv_file_name.name, delimiter=\",\")\n",
    "    table = table.astype(str)\n",
    "\n",
    "    result = tqa(table=table, query=query)\n",
    "    table = table.style.apply(highlight_answers, axis=None, coordinates=result[\"coordinates\"])\n",
    "    \n",
    "    return result[\"answer\"], table\n",
    "\n",
    "\n",
    "with gr.Blocks(title=\"TAPAS Table Question Answering\") as demo:\n",
    "    with gr.Row():\n",
    "        with gr.Column():\n",
    "            search_query = gr.Textbox(label=\"Search query\")\n",
    "            csv_file = gr.File(label=\"CSV file\")\n",
    "            infer_button = gr.Button(\"Submit\", variant=\"primary\")\n",
    "        with gr.Column():\n",
    "            answer = gr.Textbox(label=\"Result\")\n",
    "            result_csv_file = gr.Dataframe(label=\"All data\")\n",
    "        \n",
    "    examples = [\n",
    "        [\"What is the city with the highest population that is not a capital?\", \"eu_city_population_top10.csv\"],\n",
    "        [\"In which country is Madrid?\", \"eu_city_population_top10.csv\"],\n",
    "        [\"In which cities is the population greater than 2,000,000?\", \"eu_city_population_top10.csv\"],\n",
    "    ]\n",
    "    gr.Examples(examples, inputs=[search_query, csv_file])\n",
    "    \n",
    "    # Callbacks\n",
    "    csv_file.upload(display_table, inputs=csv_file, outputs=result_csv_file)\n",
    "    csv_file.select(display_table, inputs=csv_file, outputs=result_csv_file)\n",
    "    csv_file.change(display_table, inputs=csv_file, outputs=result_csv_file)\n",
    "    infer_button.click(infer, inputs=[search_query, csv_file], outputs=[answer, result_csv_file])\n",
    "\n",
    "try:\n",
    "    demo.queue().launch(debug=True)\n",
    "except Exception:\n",
    "    demo.queue().launch(share=True, debug=True)"
   ],
   "metadata": {
    "collapsed": false
   }
  },
  {
   "cell_type": "markdown",
   "source": [],
   "metadata": {
    "collapsed": false
   }
  }
 ],
 "metadata": {
  "kernelspec": {
   "display_name": "Python 3",
   "language": "python",
   "name": "python3"
  },
  "language_info": {
   "codemirror_mode": {
    "name": "ipython",
    "version": 2
   },
   "file_extension": ".py",
   "mimetype": "text/x-python",
   "name": "python",
   "nbconvert_exporter": "python",
   "pygments_lexer": "ipython2",
   "version": "2.7.6"
  }
 },
 "nbformat": 4,
 "nbformat_minor": 0
}
