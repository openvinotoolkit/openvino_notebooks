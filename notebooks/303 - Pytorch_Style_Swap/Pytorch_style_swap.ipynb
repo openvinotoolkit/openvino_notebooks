{
 "cells": [
  {
   "cell_type": "code",
   "execution_count": 17,
   "id": "f7393456",
   "metadata": {},
   "outputs": [],
   "source": [
    "#Importing all Packages\n",
    "import collections\n",
    "import sys\n",
    "import time\n",
    "import cv2\n",
    "import numpy as np\n",
    "from pathlib import Path\n",
    "from IPython import display\n",
    "from openvino.runtime import Core\n",
    "import notebook_utils as utils\n",
    "import torch\n",
    "import torch.nn as nn\n",
    "import torch.nn.functional as F\n",
    "from torchvision.models import vgg19\n",
    "import torch.onnx\n",
    "import gdown\n",
    "sys.path.append(\"../utils\")"
   ]
  },
  {
   "cell_type": "markdown",
   "id": "474c8899",
   "metadata": {},
   "source": [
    "### Explain about the the model building "
   ]
  },
  {
   "cell_type": "code",
   "execution_count": 18,
   "id": "e8c16b9b",
   "metadata": {},
   "outputs": [],
   "source": [
    "class VGGEncoder(nn.Module):\n",
    "    def __init__(self):\n",
    "        super().__init__()\n",
    "        vgg = vgg19(weights=True).features\n",
    "        self.slice1 = vgg[: 2]\n",
    "        self.slice2 = vgg[2: 7]\n",
    "        self.slice3 = vgg[7: 12]\n",
    "        for p in self.parameters():\n",
    "            p.requires_grad = False\n",
    "\n",
    "    def forward(self, images):\n",
    "        h1 = self.slice1(images)\n",
    "        h2 = self.slice2(h1)\n",
    "        h3 = self.slice3(h2)\n",
    "        return h3\n",
    "class RC(nn.Module):\n",
    "    \"\"\"A wrapper of ReflectionPad2d and Conv2d\"\"\"\n",
    "    def __init__(self, in_channels, out_channels, kernel_size=3, pad_size=1, activated=True):\n",
    "        super().__init__()\n",
    "        self.pad = nn.ReflectionPad2d((pad_size, pad_size, pad_size, pad_size))\n",
    "        self.conv = nn.Conv2d(in_channels, out_channels, kernel_size)\n",
    "        self.activated = activated\n",
    "\n",
    "    def forward(self, x):\n",
    "        h = self.pad(x)\n",
    "        h = self.conv(h)\n",
    "        if self.activated:\n",
    "            return F.relu(h)\n",
    "        else:\n",
    "            return h\n",
    "\n",
    "\n",
    "class Decoder(nn.Module):\n",
    "    def __init__(self):\n",
    "        super().__init__()\n",
    "        self.rc1 = RC(256, 128, 3, 1)\n",
    "        self.rc2 = RC(128, 128, 3, 1)\n",
    "        self.rc3 = RC(128, 64, 3, 1)\n",
    "        self.rc4 = RC(64, 64, 3, 1)\n",
    "        self.rc5 = RC(64, 3, 3, 1, False)\n",
    "\n",
    "    def forward(self, features):\n",
    "        h = self.rc1(features)\n",
    "        h = F.interpolate(h, scale_factor=2)\n",
    "        h = self.rc2(h)\n",
    "        h = self.rc3(h)\n",
    "        h = F.interpolate(h, scale_factor=2)\n",
    "        h = self.rc4(h)\n",
    "        h = self.rc5(h)\n",
    "        return h\n"
   ]
  },
  {
   "cell_type": "code",
   "execution_count": 3,
   "id": "a848d132",
   "metadata": {},
   "outputs": [
    {
     "name": "stderr",
     "output_type": "stream",
     "text": [
      "A subdirectory or file model already exists.\n",
      "Downloading...\n",
      "From: https://drive.google.com/uc?id=1y5OC3KjKl8oZP1VdL9k4Y_NcFNmB9jhv\n",
      "To: C:\\Users\\mgcs1\\OneDrive\\Desktop\\Py\\model\n",
      "100%|████████████████████████████████████████████████████████████████████████████████████████| 2.22M/2.22M [00:01<00:00, 1.83MB/s]\n"
     ]
    },
    {
     "data": {
      "text/plain": [
       "'model'"
      ]
     },
     "execution_count": 3,
     "metadata": {},
     "output_type": "execute_result"
    }
   ],
   "source": [
    "# Downloading Model\n",
    "#model_link = 'https://drive.google.com/file/d/1y5OC3KjKl8oZP1VdL9k4Y_NcFNmB9jhv/view?usp=share_link'\n",
    "file_id = '1y5OC3KjKl8oZP1VdL9k4Y_NcFNmB9jhv'\n",
    "file_url = 'https://drive.google.com/uc?id=' + file_id\n",
    "!mkdir model\n",
    "output_path = 'model'\n",
    "gdown.download(file_url, output_path, quiet=False)"
   ]
  },
  {
   "cell_type": "markdown",
   "id": "35f8adfd",
   "metadata": {},
   "source": [
    "### Loading weights from ```model_state.pth``` to Decoder"
   ]
  },
  {
   "cell_type": "code",
   "execution_count": 19,
   "id": "225cbed4",
   "metadata": {},
   "outputs": [
    {
     "data": {
      "text/plain": [
       "Decoder(\n",
       "  (rc1): RC(\n",
       "    (pad): ReflectionPad2d((1, 1, 1, 1))\n",
       "    (conv): Conv2d(256, 128, kernel_size=(3, 3), stride=(1, 1))\n",
       "  )\n",
       "  (rc2): RC(\n",
       "    (pad): ReflectionPad2d((1, 1, 1, 1))\n",
       "    (conv): Conv2d(128, 128, kernel_size=(3, 3), stride=(1, 1))\n",
       "  )\n",
       "  (rc3): RC(\n",
       "    (pad): ReflectionPad2d((1, 1, 1, 1))\n",
       "    (conv): Conv2d(128, 64, kernel_size=(3, 3), stride=(1, 1))\n",
       "  )\n",
       "  (rc4): RC(\n",
       "    (pad): ReflectionPad2d((1, 1, 1, 1))\n",
       "    (conv): Conv2d(64, 64, kernel_size=(3, 3), stride=(1, 1))\n",
       "  )\n",
       "  (rc5): RC(\n",
       "    (pad): ReflectionPad2d((1, 1, 1, 1))\n",
       "    (conv): Conv2d(64, 3, kernel_size=(3, 3), stride=(1, 1))\n",
       "  )\n",
       ")"
      ]
     },
     "execution_count": 19,
     "metadata": {},
     "output_type": "execute_result"
    }
   ],
   "source": [
    "decoder = Decoder()\n",
    "decoder.load_state_dict(torch.load('model/modelq2lqqavftmp', map_location = 'cpu'))\n",
    "decoder.eval()"
   ]
  },
  {
   "cell_type": "markdown",
   "id": "be419619",
   "metadata": {},
   "source": [
    "#### combining Encoder and Decoder with Sequential api"
   ]
  },
  {
   "cell_type": "code",
   "execution_count": 20,
   "id": "b79ec0f9",
   "metadata": {},
   "outputs": [],
   "source": [
    "model = nn.Sequential(\n",
    "    VGGEncoder(),\n",
    "    decoder\n",
    ")"
   ]
  },
  {
   "cell_type": "code",
   "execution_count": 21,
   "id": "c793bc72",
   "metadata": {},
   "outputs": [
    {
     "data": {
      "text/plain": [
       "Sequential(\n",
       "  (0): VGGEncoder(\n",
       "    (slice1): Sequential(\n",
       "      (0): Conv2d(3, 64, kernel_size=(3, 3), stride=(1, 1), padding=(1, 1))\n",
       "      (1): ReLU(inplace=True)\n",
       "    )\n",
       "    (slice2): Sequential(\n",
       "      (2): Conv2d(64, 64, kernel_size=(3, 3), stride=(1, 1), padding=(1, 1))\n",
       "      (3): ReLU(inplace=True)\n",
       "      (4): MaxPool2d(kernel_size=2, stride=2, padding=0, dilation=1, ceil_mode=False)\n",
       "      (5): Conv2d(64, 128, kernel_size=(3, 3), stride=(1, 1), padding=(1, 1))\n",
       "      (6): ReLU(inplace=True)\n",
       "    )\n",
       "    (slice3): Sequential(\n",
       "      (7): Conv2d(128, 128, kernel_size=(3, 3), stride=(1, 1), padding=(1, 1))\n",
       "      (8): ReLU(inplace=True)\n",
       "      (9): MaxPool2d(kernel_size=2, stride=2, padding=0, dilation=1, ceil_mode=False)\n",
       "      (10): Conv2d(128, 256, kernel_size=(3, 3), stride=(1, 1), padding=(1, 1))\n",
       "      (11): ReLU(inplace=True)\n",
       "    )\n",
       "  )\n",
       "  (1): Decoder(\n",
       "    (rc1): RC(\n",
       "      (pad): ReflectionPad2d((1, 1, 1, 1))\n",
       "      (conv): Conv2d(256, 128, kernel_size=(3, 3), stride=(1, 1))\n",
       "    )\n",
       "    (rc2): RC(\n",
       "      (pad): ReflectionPad2d((1, 1, 1, 1))\n",
       "      (conv): Conv2d(128, 128, kernel_size=(3, 3), stride=(1, 1))\n",
       "    )\n",
       "    (rc3): RC(\n",
       "      (pad): ReflectionPad2d((1, 1, 1, 1))\n",
       "      (conv): Conv2d(128, 64, kernel_size=(3, 3), stride=(1, 1))\n",
       "    )\n",
       "    (rc4): RC(\n",
       "      (pad): ReflectionPad2d((1, 1, 1, 1))\n",
       "      (conv): Conv2d(64, 64, kernel_size=(3, 3), stride=(1, 1))\n",
       "    )\n",
       "    (rc5): RC(\n",
       "      (pad): ReflectionPad2d((1, 1, 1, 1))\n",
       "      (conv): Conv2d(64, 3, kernel_size=(3, 3), stride=(1, 1))\n",
       "    )\n",
       "  )\n",
       ")"
      ]
     },
     "execution_count": 21,
     "metadata": {},
     "output_type": "execute_result"
    }
   ],
   "source": [
    "model.eval()"
   ]
  },
  {
   "cell_type": "code",
   "execution_count": 22,
   "id": "1aca158a",
   "metadata": {},
   "outputs": [
    {
     "name": "stdout",
     "output_type": "stream",
     "text": [
      "---- Completed exporting ----\n"
     ]
    }
   ],
   "source": [
    "# Define an example input to the model\n",
    "from torch.fx import symbolic_trace\n",
    "example_input = torch.randn(1, 3, 256, 256)\n",
    "traced_model = symbolic_trace(model)\n",
    "# Export the model to ONNX format\n",
    "torch.onnx.export(traced_model, example_input, \"model.onnx\", verbose= True)\n",
    "print(\"---- Completed exporting ----\")"
   ]
  },
  {
   "cell_type": "code",
   "execution_count": 23,
   "id": "5ee8b486",
   "metadata": {},
   "outputs": [
    {
     "name": "stdout",
     "output_type": "stream",
     "text": [
      "[ INFO ] The model was converted to IR v11, the latest model format that corresponds to the source DL framework input/output format. While IR v11 is backwards compatible with OpenVINO Inference Engine API v1.0, please use API v2.0 (as of 2022.1) to take advantage of the latest improvements in IR v11.\n",
      "Find more information about API v2.0 and IR v11 at https://docs.openvino.ai/latest/openvino_2_0_transition_guide.html\n",
      "[ SUCCESS ] Generated IR version 11 model.\n",
      "[ SUCCESS ] XML file: C:\\Users\\mgcs1\\OneDrive\\Desktop\\Py\\model.xml\n",
      "[ SUCCESS ] BIN file: C:\\Users\\mgcs1\\OneDrive\\Desktop\\Py\\model.bin\n"
     ]
    }
   ],
   "source": [
    "# Converting from ONNX Format to Openvino \n",
    "!mo --input_model model.onnx --compress_to_fp16"
   ]
  },
  {
   "cell_type": "code",
   "execution_count": 9,
   "id": "7dd138f0",
   "metadata": {},
   "outputs": [],
   "source": [
    "# Converted IR model path\n",
    "ir_path = Path(f\"model.xml\")\n",
    "onnx_path = Path(f\"model.bin\")"
   ]
  },
  {
   "cell_type": "code",
   "execution_count": 10,
   "id": "a3c453db",
   "metadata": {},
   "outputs": [],
   "source": [
    "# Initialize OpenVINO Runtime.\n",
    "ie_core = Core()\n",
    "\n",
    "# Read the network and corresponding weights from ONNX Model.\n",
    "# model = ie_core.read_model(model=onnx_path)\n",
    "\n",
    "# Read the network and corresponding weights from IR Model.\n",
    "model = ie_core.read_model(model=ir_path)\n",
    "\n",
    "# Compile the model for CPU (or change to GPU, MYRIAD etc. for other devices)\n",
    "# or let OpenVINO select the best available device with AUTO.\n",
    "compiled_model = ie_core.compile_model(model=model, device_name=\"AUTO\")\n",
    "\n",
    "# Get the input and output nodes.\n",
    "input_layer = compiled_model.input(0)\n",
    "output_layer = compiled_model.output(0)"
   ]
  },
  {
   "cell_type": "code",
   "execution_count": 11,
   "id": "bdd230a0",
   "metadata": {},
   "outputs": [
    {
     "name": "stdout",
     "output_type": "stream",
     "text": [
      "input.1 162\n",
      "[1,3,256,256]\n",
      "[1,3,256,256]\n"
     ]
    }
   ],
   "source": [
    "print(input_layer.any_name, output_layer.any_name)\n",
    "print(input_layer.shape)\n",
    "print(output_layer.shape)\n",
    "\n",
    "# Get the input size.\n",
    "N, C, H, W = list(input_layer.shape)\n"
   ]
  },
  {
   "cell_type": "code",
   "execution_count": 12,
   "id": "ca71fc1d",
   "metadata": {},
   "outputs": [],
   "source": [
    "# Preprocess the input image.\n",
    "def preprocess_images(frame, H, W):\n",
    "    \"\"\"\n",
    "    Preprocess input image to align with network size\n",
    "\n",
    "    Parameters:\n",
    "        :param frame:  input frame \n",
    "        :param H:  height of the frame to style transfer model\n",
    "        :param W:  width of the frame to style transfer model\n",
    "        :returns: resized and transposed frame\n",
    "    \"\"\"\n",
    "    image = np.array(frame).astype('float32')\n",
    "    image = cv2.cvtColor(image, cv2.COLOR_RGB2BGR)\n",
    "    image = cv2.resize(src=image, dsize=(H, W), interpolation=cv2.INTER_AREA)\n",
    "    image = np.transpose(image, [2, 0, 1])\n",
    "    image = np.expand_dims(image, axis=0)\n",
    "    return image"
   ]
  },
  {
   "cell_type": "code",
   "execution_count": 13,
   "id": "1a99e68d",
   "metadata": {},
   "outputs": [],
   "source": [
    "# Postprocess the result        \n",
    "def convert_result_to_image(frame, stylized_image) -> np.ndarray:\n",
    "    \"\"\"\n",
    "    Postprocess stylized image for visualization\n",
    "\n",
    "    Parameters:\n",
    "        :param frame:  input frame \n",
    "        :param stylized_image:  stylized image with specific style applied\n",
    "        :returns: resized stylized image for visualization\n",
    "    \"\"\"\n",
    "    h, w = frame.shape[:2]\n",
    "    stylized_image = stylized_image.squeeze().transpose(1, 2, 0)\n",
    "    stylized_image = cv2.resize(src=stylized_image, dsize=(w, h), interpolation=cv2.INTER_CUBIC)\n",
    "    stylized_image = np.clip(stylized_image, 0, 255).astype(np.uint8)\n",
    "    stylized_image = cv2.cvtColor(stylized_image, cv2.COLOR_BGR2RGB)\n",
    "    return stylized_image"
   ]
  },
  {
   "cell_type": "code",
   "execution_count": 14,
   "id": "780cfb8e",
   "metadata": {},
   "outputs": [],
   "source": [
    "def run_style_transfer(source=0, flip=False, use_popup=False, skip_first_frames=0):\n",
    "    \"\"\"\n",
    "    Main function to run the style inference:\n",
    "    1. Create a video player to play with target fps (utils.VideoPlayer).\n",
    "    2. Prepare a set of frames for style transfer.\n",
    "    3. Run AI inference for style transfer.\n",
    "    4. Visualize the results.\n",
    "    Parameters:\n",
    "        source: The webcam number to feed the video stream with primary webcam set to \"0\", or the video path.  \n",
    "        flip: To be used by VideoPlayer function for flipping capture image.\n",
    "        use_popup: False for showing encoded frames over this notebook, True for creating a popup window.\n",
    "        skip_first_frames: Number of frames to skip at the beginning of the video. \n",
    "    \"\"\"\n",
    "    # Create a video player to play with target fps.\n",
    "    player = None\n",
    "    try:\n",
    "        player = utils.VideoPlayer(source=source, flip=flip, fps=30, skip_first_frames=skip_first_frames)\n",
    "        # Start video capturing.\n",
    "        player.start()\n",
    "        if use_popup:\n",
    "            title = \"Press ESC to Exit\"\n",
    "            cv2.namedWindow(winname=title, flags=cv2.WINDOW_GUI_NORMAL | cv2.WINDOW_AUTOSIZE)\n",
    "\n",
    "        processing_times = collections.deque()\n",
    "        while True:\n",
    "            # Grab the frame.\n",
    "            frame = player.next()\n",
    "            if frame is None:\n",
    "                print(\"Source ended\")\n",
    "                break\n",
    "            # If the frame is larger than full HD, reduce size to improve the performance.\n",
    "            scale = 720 / max(frame.shape)\n",
    "            if scale < 1:\n",
    "                frame = cv2.resize(src=frame, dsize=None, fx=scale, fy=scale,\n",
    "                                   interpolation=cv2.INTER_AREA)\n",
    "            # Preprocess the input image.\n",
    "\n",
    "            image = preprocess_images(frame, H, W)\n",
    "           \n",
    "            # Measure processing time for the input image.\n",
    "            start_time = time.time()\n",
    "            # Perform the inference step.\n",
    "            stylized_image = compiled_model([image])[output_layer]\n",
    "            stop_time = time.time()\n",
    "\n",
    "            # Postprocessing for stylized image.\n",
    "            result_image = convert_result_to_image(frame, stylized_image)\n",
    "\n",
    "            processing_times.append(stop_time - start_time)\n",
    "            # Use processing times from last 200 frames.\n",
    "            if len(processing_times) > 200:\n",
    "                processing_times.popleft()\n",
    "            processing_time_det = np.mean(processing_times) * 1000\n",
    "\n",
    "            # Visualize the results.\n",
    "            f_height, f_width = frame.shape[:2]\n",
    "            fps = 1000 / processing_time_det\n",
    "            cv2.putText(result_image, text=f\"Inference time: {processing_time_det:.1f}ms ({fps:.1f} FPS)\", \n",
    "                        org=(20, 40),fontFace=cv2.FONT_HERSHEY_COMPLEX, fontScale=f_width / 1000,\n",
    "                        color=(0, 0, 255), thickness=1, lineType=cv2.LINE_AA)\n",
    "            \n",
    "            # Use this workaround if there is flickering.\n",
    "            if use_popup:\n",
    "                cv2.imshow(title, result_image)\n",
    "                key = cv2.waitKey(1)\n",
    "                # escape = 27\n",
    "                if key == 27:\n",
    "                    break\n",
    "            else:\n",
    "                # Encode numpy array to jpg.\n",
    "                _, encoded_img = cv2.imencode(\".jpg\", result_image, params=[cv2.IMWRITE_JPEG_QUALITY, 90])\n",
    "                # Create an IPython image.\n",
    "                i = display.Image(data=encoded_img)\n",
    "                # Display the image in this notebook.\n",
    "                display.clear_output(wait=True)\n",
    "                display.display(i)\n",
    "    # ctrl-c\n",
    "    except KeyboardInterrupt:\n",
    "        print(\"Interrupted\")\n",
    "    # any different error\n",
    "    except RuntimeError as e:\n",
    "        print(e)\n",
    "    finally:\n",
    "        if player is not None:\n",
    "            # Stop capturing.\n",
    "            player.stop()\n",
    "        if use_popup:\n",
    "            cv2.destroyAllWindows()"
   ]
  },
  {
   "cell_type": "code",
   "execution_count": 15,
   "id": "85d46554",
   "metadata": {},
   "outputs": [
    {
     "data": {
      "image/png": "[encoded data removed]",
      "text/plain": [
       "<IPython.core.display.Image object>"
      ]
     },
     "metadata": {},
     "output_type": "display_data"
    },
    {
     "name": "stdout",
     "output_type": "stream",
     "text": [
      "Interrupted\n"
     ]
    }
   ],
   "source": [
    "run_style_transfer(source=0, flip=True, use_popup=False)"
   ]
  }
 ],
 "metadata": {
  "kernelspec": {
   "display_name": "Python 3 (ipykernel)",
   "language": "python",
   "name": "python3"
  },
  "language_info": {
   "codemirror_mode": {
    "name": "ipython",
    "version": 3
   },
   "file_extension": ".py",
   "mimetype": "text/x-python",
   "name": "python",
   "nbconvert_exporter": "python",
   "pygments_lexer": "ipython3",
   "version": "3.8.16"
  }
 },
 "nbformat": 4,
 "nbformat_minor": 5
}
