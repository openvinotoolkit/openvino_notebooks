{
 "cells": [
  {
   "cell_type": "markdown",
   "source": [
    "# Hello Segmentation\n",
    "\n",
    "A very basic introduction to OpenVINO segmentation model.\n",
    "\n",
    "We use a [Semantic Segmentation Adas](https://docs.openvinotoolkit.org/2019_R1/_semantic_segmentation_adas_0001_description_semantic_segmentation_adas_0001.html) from [Open Model Zoo](https://github.com/openvinotoolkit/open_model_zoo/).\n"
   ],
   "metadata": {}
  },
  {
   "cell_type": "markdown",
   "source": [
    "## Imports"
   ],
   "metadata": {}
  },
  {
   "cell_type": "code",
   "execution_count": null,
   "source": [
    "import cv2\n",
    "import matplotlib.pyplot as plt\n",
    "import numpy as np\n",
    "import sys\n",
    "from openvino.inference_engine import IECore\n",
    "\n",
    "sys.path.append(\"../utils\")\n",
    "from notebook_utils import segmentation_map_to_image"
   ],
   "outputs": [],
   "metadata": {}
  },
  {
   "cell_type": "markdown",
   "source": [
    "## Load the network"
   ],
   "metadata": {}
  },
  {
   "cell_type": "code",
   "execution_count": null,
   "source": [
    "ie = IECore()\n",
    "\n",
    "net = ie.read_network(\n",
    "    model=\"model/road-segmentation-adas-0001.xml\", weights=\"model/road-segmentation-adas-0001.bin\"\n",
    ")\n",
    "exec_net = ie.load_network(net, \"CPU\")\n",
    "\n",
    "output_layer_ir = next(iter(exec_net.outputs))\n",
    "input_layer_ir = next(iter(exec_net.input_info))"
   ],
   "outputs": [],
   "metadata": {}
  },
  {
   "cell_type": "markdown",
   "source": [
    "## Load an Image"
   ],
   "metadata": {}
  },
  {
   "cell_type": "code",
   "execution_count": null,
   "source": [
    "# The segmentation network expects images in RGB format\n",
    "image = cv2.cvtColor(cv2.imread(\"data/coco_cross.png\"), cv2.COLOR_BGR2RGB)\n",
    "\n",
    "# N,C,H,W = batch size, number of channels, height, width\n",
    "N, C, H, W = net.input_info[input_layer_ir].tensor_desc.dims\n",
    "\n",
    "# OpenCV resize expects the destination size as (width, height)\n",
    "input_image = cv2.resize(image, (W, H))  \n",
    "# reshape to network input shape\n",
    "input_image = np.expand_dims(\n",
    "    input_image.transpose(2, 0, 1), 0\n",
    ")  \n",
    "plt.imshow(image)"
   ],
   "outputs": [],
   "metadata": {}
  },
  {
   "cell_type": "markdown",
   "source": [
    "## Do Inference"
   ],
   "metadata": {}
  },
  {
   "cell_type": "code",
   "execution_count": null,
   "source": [
    "# Run the infernece\n",
    "result = exec_net.infer(inputs={input_layer_ir: input_image})\n",
    "result_ir = result[output_layer_ir]\n",
    "\n",
    "# Prepare data for visualization\n",
    "result_ir_idx = np.argmax(result_ir, axis=1)\n",
    "plt.imshow(result_ir_idx[0])\n"
   ],
   "outputs": [],
   "metadata": {}
  },
  {
   "cell_type": "markdown",
   "source": [
    "## Prepare data for visualisation"
   ],
   "metadata": {}
  },
  {
   "cell_type": "code",
   "execution_count": null,
   "source": [
    "# Define colormap, each color represents other object type \n",
    "colormap = np.array([[255, 0, 122], [0, 255, 0], [255, 0, 0], [255, 255, 0]])\n",
    "\n",
    "# Define how transparent will be mask on photo\n",
    "alpha = 0.15\n",
    "\n",
    "# Use function from notebook_utils.py to create mask\n",
    "mask = segmentation_map_to_image(result_ir_idx, colormap)\n",
    "\n",
    "# Transpose image back to HWC(height, width, channels) layout\n",
    "input_image_t = np.squeeze(input_image).transpose(1, 2, 0)\n",
    "\n",
    "# Create image with mask put on\n",
    "image_with_mask = cv2.addWeighted(mask, alpha, input_image_t, 1 - alpha, 0)\n"
   ],
   "outputs": [],
   "metadata": {}
  },
  {
   "cell_type": "markdown",
   "source": [
    "## Visualise data"
   ],
   "metadata": {}
  },
  {
   "cell_type": "code",
   "execution_count": null,
   "source": [
    "# Define titles with images\n",
    "data = {'Segmentation': mask, \"Base Photo\": input_image_t, \"Masked Photo\": image_with_mask}\n",
    "\n",
    "# Create subplot to visualise images\n",
    "f, axs = plt.subplots(1, len(data.items()))\n",
    "\n",
    "# Fill subplot\n",
    "for ax, (name, image) in zip(axs, data.items()):\n",
    "    ax.axis('off')\n",
    "    ax.set_title(name)\n",
    "    ax.imshow(image)\n",
    "\n",
    "# Display image\n",
    "plt.show(f)"
   ],
   "outputs": [],
   "metadata": {}
  }
 ],
 "metadata": {
  "kernelspec": {
   "display_name": "openvino_env",
   "language": "python",
   "name": "openvino_env"
  },
  "language_info": {
   "codemirror_mode": {
    "name": "ipython",
    "version": 3
   },
   "file_extension": ".py",
   "mimetype": "text/x-python",
   "name": "python",
   "nbconvert_exporter": "python",
   "pygments_lexer": "ipython3",
   "version": "3.7.9"
  }
 },
 "nbformat": 4,
 "nbformat_minor": 5
}