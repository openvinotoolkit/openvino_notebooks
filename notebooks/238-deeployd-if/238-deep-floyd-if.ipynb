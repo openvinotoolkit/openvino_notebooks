{
 "cells": [
  {
   "cell_type": "markdown",
   "id": "0fbbf681",
   "metadata": {},
   "source": [
    "# Image generation with DeepFloyd IF and OpenVINO™\n",
    "\n",
    "DeepFloyd IF is an advanced open-source text-to-image model that delivers remarkable photorealism and language comprehension. DeepFloyd IF consists of a frozen text encoder and three cascaded pixel diffusion modules: a base model that creates 64x64 pixel images based on text prompts and two super-resolution models, each designed to generate images with increasing resolution: 256x256 pixel and 1024x1024 pixel. All stages of the model employ a frozen text encoder, built on the T5 transformer, to derive text embeddings, which are then passed to a UNet architecture enhanced with cross-attention and attention pooling.\n",
    "\n",
    "### Text encoder impact\n",
    " - **Profound text prompt comprehension.**\n",
    "The generation pipeline leverages the T5-XXL-1.1 Large Language Model (LLM) as a text encoder. Its intelligence is backed by a substantial number of text-image cross-attention layers, this ensures superior alignment between the prompt and the generated image.\n",
    "\n",
    " - **Realistic text in generated images.**\n",
    "Capitalizing on the capabilities of the T5 model, DeepFloyd IF produces readable text depictions alongside objects with distinct attributes, which have typically been a challenge for most existing text-to-image models.\n",
    "\n",
    "\n",
    "### DeepFloyd IF Distinctive Features\n",
    "\n",
    "First of all, it is **Modular**.\n",
    "DeepFloyd IF pipeline is a consecutive inference of several neural networks.\n",
    "\n",
    "Which makes it **Cascaded**.\n",
    "The base model generates low-resolution samples, then super-resolution models upsample the images to produce high-resolution results.\n",
    "The models were individually trained at different resolutions. \n",
    "\n",
    "DeepFloyd IF employs **Diffusion** models. Diffusion models are machine learning systems that are trained to denoise random Gaussian noise step by step, to get to a sample of interest, such as an image.\n",
    "Diffusion models have been shown to achieve state-of-the-art results for generating image data.\n",
    "\n",
    "And finally, DeepFloyd IF operates in **Pixel** space. Unlike latent diffusion models (Stable Diffusion for instance), the diffusion is implemented on a pixel level.\n",
    "\n",
    "![deepfloyd_if_scheme](https://github.com/deep-floyd/IF/raw/develop/pics/deepfloyd_if_scheme.jpg)\n",
    "\n",
    "The graph above depicts the three-stage generation pipeline:\n",
    "A text prompt is passed through the frozen T5-XXL LLM to convert it into a vector in embedded space. \n",
    "\n",
    "1. Stage 1: The first diffusion model in the cascade transforms the embedding vector into a 64x64 image. The DeepFloyd team has trained **three versions** of the base model, each with different parameters: IF-I 400M, IF-I 900M, and IF-I 4.3B. The smallest one is used by default, but users are free to change the checkpoint name to [\"DeepFloyd/IF-I-L-v1.0\"](https://huggingface.co/DeepFloyd/IF-I-L-v1.0) or [\"DeepFloyd/IF-I-XL-v1.0\"](https://huggingface.co/DeepFloyd/IF-I-XL-v1.0)\n",
    "\n",
    "2. Stage 2: To upscale the image, two text-conditional super-resolution models (Efficient U-Net) are applied to the output of the first diffusion model. The first of these upscales the sample from 64x64 pixel to 256x256 pixel resolution. Again, several versions of this model are available: IF-II 400M (default) and IF-II 1.2B (checkpoint name \"DeepFloyd/IF-II-L-v1.0\").\n",
    "\n",
    "3. Stage 3: Follows the same path as Stage 2 and upscales the image to 1024x1024 pixel resolution. It is not released yet, so we will use a conventional Super Resolution network to get hir-res results."
   ]
  },
  {
   "cell_type": "markdown",
   "id": "4e0c79e7",
   "metadata": {},
   "source": [
    "> **NOTE**: \n",
    "> - _This example requires the download of roughly 27 GB of model checkpoints, which could take some time depending on your internet connection speed. Additionally, the converted models will consume another 27 GB of disk space._\n",
    "> - _Please be aware that a minimum of 32 GB of RAM is necessary to convert and run inference on the models. There may be instances where the notebook appears to freeze or stop responding._\n",
    "> - _To access the model checkpoints, you'll need a Hugging Face account. You'll also be prompted to explicitly accept the [model license](https://huggingface.co/DeepFloyd/IF-I-M-v1.0)._"
   ]
  },
  {
   "cell_type": "markdown",
   "id": "4bca7602",
   "metadata": {},
   "source": [
    "## Prerequisites\n",
    "Install required packages."
   ]
  },
  {
   "cell_type": "code",
   "execution_count": null,
   "id": "699e9c54",
   "metadata": {
    "scrolled": true
   },
   "outputs": [],
   "source": [
    "# Set up requirements\n",
    "\n",
    "!pip install -q --upgrade pip\n",
    "!pip install -q \"diffusers>=0.16.1\" accelerate transformers safetensors sentencepiece huggingface_hub\n",
    "!pip install -q --pre --upgrade openvino-dev"
   ]
  },
  {
   "cell_type": "code",
   "execution_count": null,
   "id": "7701f776",
   "metadata": {},
   "outputs": [],
   "source": [
    "from collections import namedtuple\n",
    "import gc\n",
    "from pathlib import Path\n",
    "from typing import Union, Tuple\n",
    "\n",
    "import diffusers\n",
    "from diffusers import DiffusionPipeline\n",
    "from diffusers.utils import pt_to_pil\n",
    "from openvino.runtime import Core, PartialShape, serialize\n",
    "from openvino.tools import mo\n",
    "from openvino.tools.mo.convert import InputCutInfo\n",
    "import torch"
   ]
  },
  {
   "cell_type": "code",
   "execution_count": null,
   "id": "4e1c7f4c",
   "metadata": {},
   "outputs": [],
   "source": [
    "# Set up target computing device\n",
    "DEVICE = 'CPU'\n",
    "\n",
    "checkpoint_variant = 'fp16'\n",
    "model_dtype = torch.float32\n",
    "ir_input_type = 'f32'\n",
    "compress_to_fp16 = False\n",
    "\n",
    "models_dir = Path('./models').expanduser()\n",
    "models_dir.mkdir(exist_ok=True)\n",
    "\n",
    "encoder_ir_path = models_dir / 'encoder_ir.xml'\n",
    "first_stage_unet_ir_path = models_dir / 'unet_ir_I.xml'\n",
    "second_stage_unet_ir_path = models_dir / 'unet_ir_II.xml'"
   ]
  },
  {
   "cell_type": "markdown",
   "id": "678f032a",
   "metadata": {},
   "source": [
    "### Authentication\n",
    "In order to access IF checkpoints, users need to provide an authentication token.\n",
    "\n",
    "If you already have a token, you can input it into the provided form in the next cell. If not, please proceed according to the following instructions:\n",
    "1. Make sure to have a [Hugging Face](https://huggingface.co/) account and be logged in\n",
    "2. Accept the license on the model card of [DeepFloyd/IF-I-M-v1.0](https://huggingface.co/DeepFloyd/IF-I-M-v1.0)\n",
    "3. To generate a token, proceed to [this page](https://huggingface.co/settings/tokens)\n",
    "\n",
    "Uncheck the `Add token as git credential?` box."
   ]
  },
  {
   "cell_type": "code",
   "execution_count": null,
   "id": "e82d3344",
   "metadata": {},
   "outputs": [],
   "source": [
    "from huggingface_hub import login\n",
    "\n",
    "# Execute this cell to access the authentication form\n",
    "login()"
   ]
  },
  {
   "cell_type": "markdown",
   "id": "58a93f32",
   "metadata": {},
   "source": [
    "## DeepFoyd IF in Diffusers library\n",
    "To work with IF by DeepFloyd Lab, we will use [Hugging Face Diffusers package](https://github.com/huggingface/diffusers). Diffusers package exposes the DiffusionPipeline class, simplifying experiments with diffusion models. The code below demonstrates how to create a DiffusionPipeline using IF configs:"
   ]
  },
  {
   "cell_type": "code",
   "execution_count": null,
   "id": "5001b4dc",
   "metadata": {
    "scrolled": true
   },
   "outputs": [],
   "source": [
    "%%time\n",
    "\n",
    "# Downloading the model weights may take some time. The approximate total checkpoints size is 27GB.\n",
    "stage_1 = DiffusionPipeline.from_pretrained(\n",
    "    \"DeepFloyd/IF-I-M-v1.0\",\n",
    "    variant=checkpoint_variant,\n",
    "    torch_dtype=model_dtype\n",
    ")\n",
    "\n",
    "stage_2 = DiffusionPipeline.from_pretrained(\n",
    "    \"DeepFloyd/IF-II-M-v1.0\",\n",
    "    text_encoder=None,\n",
    "    variant=checkpoint_variant,\n",
    "    torch_dtype=model_dtype\n",
    ")"
   ]
  },
  {
   "cell_type": "markdown",
   "id": "84b8cd8f",
   "metadata": {},
   "source": [
    "## Convert models to OpenVINO Intermediate representation (IR) format\n",
    "The OpenVINO Model Optimizer enables direct conversion of PyTorch models. We will utilize the mo.convert_model method to acquire OpenVINO IR versions of the models. This requires providing a model object, input data for model tracing, and other relevant parameters. The use_legacy_frontend=True parameter instructs the Model Optimizer to employ the ONNX model format as an intermediate step, as opposed to using the PyTorch JIT compiler, which is not optimal for our situation.\n",
    "\n",
    "The pipeline consists of three important parts:\n",
    "\n",
    " - A Text Encoder that translates user prompts to vectors in the latent space that the Diffusion model can understand.\n",
    " - A Stage 1 U-Net for step-by-step denoising latent image representation.\n",
    " - A Stage 2 U-Net that takes low resolution output from the previous step and the latent representations to upscale the resulting image.\n",
    " \n",
    "Let us convert each part"
   ]
  },
  {
   "cell_type": "markdown",
   "id": "c44d2557",
   "metadata": {},
   "source": [
    "## 1. Convert Text Encoder\n",
    "\n",
    "The text encoder is responsible for converting the input prompt, such as \"ultra close-up color photo portrait of rainbow owl with deer horns in the woods\" into an embedding space that can be fed to the next stage's U-Net. Typically, it is a transformer-based encoder that maps a sequence of input tokens to a sequence of text embeddings.\n",
    "\n",
    "The input for the text encoder consists of a tensor `input_ids`, which contains token indices from the text processed by the tokenizer and padded to the maximum length accepted by the model."
   ]
  },
  {
   "cell_type": "markdown",
   "id": "80d03da4",
   "metadata": {},
   "source": [
    "_Note_ the `input` argument passed to the `convert_model` method. The `convert_model` can be called with the `input shape` argument and/or the PyTorch-specific `example_input` argument. However, in this case, the `InputCutInfo` class was utilized to describe the model input and provide it as the `input` argument. Using the `InputCutInfo` class offers a framework-agnostic solution and enables the definition of complex inputs. It allows for specifying the input name, shape, type, and value within a single argument, providing greater flexibility.\n",
    "\n",
    "To learn more please refer to [Model Optimizer Python API docs](https://docs.openvino.ai/latest/openvino_docs_MO_DG_Python_API.html)"
   ]
  },
  {
   "cell_type": "code",
   "execution_count": null,
   "id": "a617d3f0",
   "metadata": {
    "scrolled": true
   },
   "outputs": [],
   "source": [
    "%%time\n",
    "\n",
    "if not encoder_ir_path.exists():\n",
    "    encoder_ir = mo.convert_model(\n",
    "        stage_1.text_encoder,\n",
    "        input=[InputCutInfo(shape=PartialShape([1,77]), type='i64'),],\n",
    "        compress_to_fp16=compress_to_fp16,\n",
    "    )\n",
    "    \n",
    "    # Serialize the IR model to disk, we will load it at inference time\n",
    "    serialize(encoder_ir, encoder_ir_path)\n",
    "    del encoder_ir\n",
    "    \n",
    "del stage_1.text_encoder\n",
    "gc.collect();"
   ]
  },
  {
   "cell_type": "markdown",
   "id": "b5214461",
   "metadata": {},
   "source": [
    "## Convert the first Pixel Diffusion module's UNet\n",
    "\n",
    "U-Net model gradually denoises latent image representation guided by text encoder hidden state.\n",
    "\n",
    "U-Net model has three inputs:\n",
    "\n",
    "`sample` - latent image sample from previous step. Generation process has not been started yet, so you will use random noise.\n",
    "`timestep` - current scheduler step.\n",
    "`encoder_hidden_state` - hidden state of text encoder.\n",
    "Model predicts the sample state for the next step.\n",
    "\n",
    "The first Diffusion module in the cascade generates 64x64 pixel low resolution images."
   ]
  },
  {
   "cell_type": "code",
   "execution_count": null,
   "id": "8adf1419",
   "metadata": {},
   "outputs": [],
   "source": [
    "%%time\n",
    "\n",
    "if not first_stage_unet_ir_path.exists():\n",
    "    unet_1_ir = mo.convert_model(\n",
    "        stage_1.unet,\n",
    "        input=[InputCutInfo(shape=PartialShape([2, 3, 64, 64]), type=ir_input_type),\n",
    "               InputCutInfo(shape=PartialShape([]), type='i32'),\n",
    "               InputCutInfo(shape=PartialShape([2, 77, 4096]), type=ir_input_type)],\n",
    "        compress_to_fp16=compress_to_fp16,\n",
    "    )\n",
    "\n",
    "    serialize(unet_1_ir, first_stage_unet_ir_path)\n",
    "    \n",
    "    del unet_1_ir\n",
    "\n",
    "stage_1_config = stage_1.unet.config\n",
    "del stage_1.unet\n",
    "gc.collect();"
   ]
  },
  {
   "cell_type": "markdown",
   "id": "69845c5f",
   "metadata": {},
   "source": [
    "## Convert the second pixel diffusion module"
   ]
  },
  {
   "cell_type": "markdown",
   "id": "62def079",
   "metadata": {},
   "source": [
    "The second Diffusion module in the cascade generates 256x256 pixel images.\n",
    "\n",
    "The second stage pipeline will use bilinear interpolation to upscale the 64x64 image that was generated in the previopus stage to a higher 256x256 resolution. Then it will denoise the image taking into account the encoded user prompt."
   ]
  },
  {
   "cell_type": "code",
   "execution_count": null,
   "id": "b6ec825e",
   "metadata": {},
   "outputs": [],
   "source": [
    "%%time\n",
    "\n",
    "if not second_stage_unet_ir_path.exists():\n",
    "    unet_2_ir = mo.convert_model(\n",
    "        stage_2.unet,\n",
    "        input=[InputCutInfo(shape=PartialShape([2, 6, 256, 256]), type=ir_input_type),\n",
    "               InputCutInfo(shape=PartialShape([]), type='i32'),\n",
    "               InputCutInfo(shape=PartialShape([2, 77, 4096]), type=ir_input_type),\n",
    "               InputCutInfo(shape=PartialShape([2]), type='i32'),],\n",
    "        compress_to_fp16=compress_to_fp16,\n",
    "    )\n",
    "\n",
    "    serialize(unet_2_ir, second_stage_unet_ir_path)\n",
    "    \n",
    "    del unet_2_ir\n",
    "    \n",
    "stage_2_config = stage_2.unet.config\n",
    "del stage_2.unet\n",
    "gc.collect();"
   ]
  },
  {
   "cell_type": "markdown",
   "id": "6e578523",
   "metadata": {},
   "source": [
    "## Prepare Inference pipeline\n",
    "\n",
    "The original pipeline from the source repository will be reused in this example. In order to achieve this, adapter classes were created to enable OpenVINO models to replace Pytorch models and integrate seamlessly into the pipeline."
   ]
  },
  {
   "cell_type": "code",
   "execution_count": null,
   "id": "f86c94e9",
   "metadata": {},
   "outputs": [],
   "source": [
    "core = Core()"
   ]
  },
  {
   "cell_type": "code",
   "execution_count": null,
   "id": "f6887246",
   "metadata": {},
   "outputs": [],
   "source": [
    "class TextEncoder:\n",
    "    \"\"\"\n",
    "    Text Encoder Adapter Class.\n",
    "    \n",
    "    This class is designed to seamlessly integrate the OpenVINO compiled model\n",
    "    into the `stage_1.encode_prompt` routine.\n",
    "    \"\"\"\n",
    "\n",
    "    def __init__(self, ir_path: Union[str, Path], dtype: torch.dtype, device: str = 'CPU') -> None:\n",
    "        \"\"\"\n",
    "        Init the adapter with the IR model path.\n",
    "        \n",
    "        Parameters: \n",
    "            ir_path (str, Path): text encoder IR model path\n",
    "            dtype (torch.dtype): result dtype\n",
    "            device (str): inference device\n",
    "        Returns:\n",
    "            None\n",
    "        \"\"\"\n",
    "        self.ir_path = ir_path \n",
    "        self.dtype = dtype\n",
    "        self.encoder_openvino = core.compile_model(self.ir_path, device)\n",
    "        \n",
    "    def __call__(self, input_ids: torch.LongTensor, attention_mask: torch.FloatTensor = None):\n",
    "        \"\"\"Adapt the network call.\"\"\"\n",
    "        result = self.encoder_openvino(input_ids)\n",
    "        result_numpy = result[self.encoder_openvino.outputs[0]]\n",
    "        return [torch.tensor(result_numpy, dtype=self.dtype)]"
   ]
  },
  {
   "cell_type": "code",
   "execution_count": null,
   "id": "af6e4dae",
   "metadata": {},
   "outputs": [],
   "source": [
    "# The pipelines for Stages 1 and 2 expect the UNet models to return an object containing a sample attribute.\n",
    "result_tuple = namedtuple('result', 'sample')\n",
    "\n",
    "\n",
    "class UnetFirstStage:\n",
    "    \"\"\"\n",
    "    IF Stage-1 Unet Adapter Class.\n",
    "    \n",
    "    This class is designed to seamlessly integrate the OpenVINO compiled model into\n",
    "    the `stage_1` diffusion pipeline.\n",
    "    \"\"\"\n",
    "\n",
    "    def __init__(self, unet_ir_path: Union[str, Path],\n",
    "                 config: diffusers.configuration_utils.FrozenDict,\n",
    "                 dtype: torch.dtype,\n",
    "                 device: str = 'CPU'\n",
    "                 ) -> None:\n",
    "        \"\"\"\n",
    "        Init the adapter with the IR model path and model config.\n",
    "        \n",
    "        Parameters: \n",
    "            unet_ir_path (str, Path): unet IR model path\n",
    "            config (diffusers.configuration_utils.FrozenDict): original model config\n",
    "            dtype (torch.dtype): result dtype\n",
    "            device (str): inference device\n",
    "        Returns:\n",
    "            None\n",
    "        \"\"\"\n",
    "        self.unet_openvino = core.compile_model(unet_ir_path, device)\n",
    "        self.config = config\n",
    "        self.dtype = dtype\n",
    "        \n",
    "    def __call__(self,\n",
    "                 sample: torch.FloatTensor,\n",
    "                 timestamp: int,\n",
    "                 encoder_hidden_states: torch.Tensor,\n",
    "                 class_labels: torch.Tensor = None,\n",
    "                 cross_attention_kwargs: int = None\n",
    "                ) -> Tuple:\n",
    "        \"\"\"\n",
    "        Adapt the network call.\n",
    "        \n",
    "        To learn more abould the model parameters please refer to\n",
    "        its source code: https://github.com/huggingface/diffusers/blob/7200985eab7126801fffcf8251fd149c1cf1f291/src/diffusers/models/unet_2d_condition.py#L610\n",
    "        \"\"\"\n",
    "        result = self.unet_openvino([sample, timestamp, encoder_hidden_states])\n",
    "        result_numpy = result[self.unet_openvino.outputs[0]]\n",
    "        return result_tuple(torch.tensor(result_numpy, dtype=self.dtype))\n",
    "\n",
    "\n",
    "class UnetSecondStage:\n",
    "    \"\"\"\n",
    "    IF Stage-2 Unet Adapter Class.\n",
    "    \n",
    "    This class is designed to seamlessly integrate the OpenVINO compiled model into\n",
    "    the `stage_2` diffusion pipeline.\n",
    "    \"\"\"\n",
    "\n",
    "    def __init__(self, unet_ir_path: Union[str, Path],\n",
    "                 config: diffusers.configuration_utils.FrozenDict,\n",
    "                 dtype: torch.dtype,\n",
    "                 device: str = 'CPU'\n",
    "                 ) -> None:\n",
    "        \"\"\"\n",
    "        Init the adapter with the IR model path and model config.\n",
    "        \n",
    "        Parameters: \n",
    "            unet_ir_path (str, Path): unet IR model path\n",
    "            config (diffusers.configuration_utils.FrozenDict): original model config\n",
    "            dtype (torch.dtype): result dtype\n",
    "            device (str): inference device\n",
    "        Returns:\n",
    "            None\n",
    "        \"\"\"\n",
    "        self.unet_openvino = core.compile_model(unet_ir_path, device)\n",
    "        self.config = config\n",
    "        self.dtype = dtype\n",
    "        \n",
    "    def __call__(self,\n",
    "                 sample: torch.FloatTensor,\n",
    "                 timestamp: int,\n",
    "                 encoder_hidden_states: torch.Tensor,\n",
    "                 class_labels: torch.Tensor = None,\n",
    "                 cross_attention_kwargs: int = None\n",
    "                ) -> Tuple:\n",
    "        \"\"\"\n",
    "        Adapt the network call.\n",
    "        \n",
    "        To learn more abould the model parameters please refer to\n",
    "        its source code: https://github.com/huggingface/diffusers/blob/7200985eab7126801fffcf8251fd149c1cf1f291/src/diffusers/models/unet_2d_condition.py#L610\n",
    "        \"\"\"\n",
    "        result = self.unet_openvino([sample, timestamp, encoder_hidden_states, class_labels])\n",
    "        result_numpy = result[self.unet_openvino.outputs[0]]\n",
    "        return result_tuple(torch.tensor(result_numpy, dtype=self.dtype))"
   ]
  },
  {
   "cell_type": "markdown",
   "id": "88cd5641",
   "metadata": {},
   "source": [
    "## Run Text-to-Image generation\n",
    "\n",
    "Now, we can set a text prompt for image generation and execute the inference pipeline. Optionally, you can also modify the random generator seed for latent state initialization and adjust the number of images to be generated for the given prompt."
   ]
  },
  {
   "cell_type": "markdown",
   "id": "c8503b91",
   "metadata": {},
   "source": [
    "### Text Encoder inference"
   ]
  },
  {
   "cell_type": "code",
   "execution_count": null,
   "id": "4ce5b37b",
   "metadata": {},
   "outputs": [],
   "source": [
    "%%time\n",
    "\n",
    "prompt = 'ultra close color photo portrait of rainbow owl with deer horns in the woods'\n",
    "negative_prompt = 'blurred unreal uncentered occluded'\n",
    "\n",
    "# Initialize TextEncoder wrapper class\n",
    "stage_1.text_encoder = TextEncoder(encoder_ir_path, dtype=model_dtype, device=DEVICE)\n",
    "print('The model has been loaded')\n",
    "\n",
    "# Generate text embeddings\n",
    "prompt_embeds, negative_embeds = stage_1.encode_prompt(prompt, negative_prompt=negative_prompt)\n",
    "\n",
    "# Delete the encoder to free up memory\n",
    "del stage_1.text_encoder.encoder_openvino\n",
    "gc.collect()"
   ]
  },
  {
   "cell_type": "markdown",
   "id": "8a89caf0",
   "metadata": {},
   "source": [
    "### First Stage diffusion block inference"
   ]
  },
  {
   "cell_type": "code",
   "execution_count": null,
   "id": "910ca973",
   "metadata": {},
   "outputs": [],
   "source": [
    "%%time\n",
    "\n",
    "# Changing the following parameters will affect the model output\n",
    "# Note that increasing the number of diffusion steps will increase the inference time linearly.\n",
    "RANDOM_SEED = 42\n",
    "N_DIFFUSION_STEPS = 50\n",
    "\n",
    "# Initialize the First Stage UNet wrapper class\n",
    "stage_1.unet = UnetFirstStage(\n",
    "    first_stage_unet_ir_path,\n",
    "    stage_1_config,\n",
    "    dtype=model_dtype,\n",
    "    device=DEVICE\n",
    ")\n",
    "print('The model has been loaded')\n",
    "\n",
    "# Fix PRNG seed\n",
    "generator = torch.manual_seed(RANDOM_SEED)\n",
    "\n",
    "# Inference\n",
    "image = stage_1(prompt_embeds=prompt_embeds, negative_prompt_embeds=negative_embeds,\n",
    "                generator=generator, output_type=\"pt\", num_inference_steps=N_DIFFUSION_STEPS).images\n",
    "\n",
    "# Delete the model to free up memory\n",
    "del stage_1.unet.unet_openvino\n",
    "gc.collect()\n",
    "\n",
    "# Show the image\n",
    "pt_to_pil(image)[0]"
   ]
  },
  {
   "cell_type": "markdown",
   "id": "23824abc",
   "metadata": {},
   "source": [
    "### Second Stage diffusion block inference"
   ]
  },
  {
   "cell_type": "code",
   "execution_count": null,
   "id": "3673615a",
   "metadata": {},
   "outputs": [],
   "source": [
    "%%time\n",
    "\n",
    "# Initialize the Second Stage UNet wrapper class\n",
    "stage_2.unet = UnetSecondStage(\n",
    "    second_stage_unet_ir_path,\n",
    "    stage_2_config,\n",
    "    dtype=model_dtype,\n",
    "    device=DEVICE\n",
    ")\n",
    "print('The model has been loaded')\n",
    "\n",
    "image = stage_2(\n",
    "    image=image, prompt_embeds=prompt_embeds, negative_prompt_embeds=negative_embeds,\n",
    "    generator=generator, output_type=\"pt\", num_inference_steps=20).images\n",
    "\n",
    "# Delete the model to free up memory\n",
    "del stage_2.unet.unet_openvino\n",
    "gc.collect()\n",
    "\n",
    "# Show the image\n",
    "pil_image = pt_to_pil(image)[0]\n",
    "pil_image"
   ]
  },
  {
   "cell_type": "markdown",
   "id": "b7287779",
   "metadata": {},
   "source": [
    "### Third Stage diffusion block\n",
    "The final block, which upscales images to a higher resolution (1024x1024 px), has not been released by DeepFloyd yet. Stay tuned!\n",
    "\n",
    "### Upscale the generated image using a Super Resolution network\n",
    "\n",
    "Though the third stage has not been officially released, we'll employ the Super Resolution network from [Example #202](https://github.com/openvinotoolkit/openvino_notebooks/blob/main/notebooks/202-vision-superresolution/202-vision-superresolution-image.ipynb) to enhance our low-resolution result!\n",
    "\n",
    "Note, this step will be substituted with the Third IF stage upon its release!"
   ]
  },
  {
   "cell_type": "code",
   "execution_count": null,
   "id": "8c2a2e12",
   "metadata": {},
   "outputs": [],
   "source": [
    "# Temporary requirement\n",
    "!pip install -q matplotlib"
   ]
  },
  {
   "cell_type": "markdown",
   "id": "2d8a25fb",
   "metadata": {},
   "source": [
    "#### Download the Super Resolution model weights"
   ]
  },
  {
   "cell_type": "code",
   "execution_count": null,
   "id": "265a0070",
   "metadata": {},
   "outputs": [],
   "source": [
    "import sys\n",
    "sys.path.append(\"../utils\")\n",
    "\n",
    "import cv2\n",
    "import numpy as np\n",
    "from PIL import Image\n",
    "\n",
    "from notebook_utils import download_file\n",
    "\n",
    "# 1032: 4x superresolution, 1033: 3x superresolution\n",
    "model_name = 'single-image-super-resolution-1032'\n",
    "\n",
    "sr_model_xml_name = f'{model_name}.xml'\n",
    "sr_model_bin_name = f'{model_name}.bin'\n",
    "\n",
    "sr_model_xml_path = models_dir / sr_model_xml_name\n",
    "sr_model_bin_path = models_dir / sr_model_bin_name\n",
    "\n",
    "if not sr_model_xml_path.exists():\n",
    "    base_url = f'https://storage.openvinotoolkit.org/repositories/open_model_zoo/2023.0/models_bin/1/{model_name}/FP16/'\n",
    "    model_xml_url = base_url + sr_model_xml_name\n",
    "    model_bin_url = base_url + sr_model_bin_name\n",
    "\n",
    "    download_file(model_xml_url, sr_model_xml_name, models_dir)\n",
    "    download_file(model_bin_url, sr_model_bin_name, models_dir)\n",
    "else:\n",
    "    print(f'{model_name} already downloaded to {models_dir}')"
   ]
  },
  {
   "cell_type": "markdown",
   "id": "4c226ee8",
   "metadata": {},
   "source": [
    "#### Reshape the model's inputs\n",
    "We need to reshape the inputs for the model. This is necessary because the IR model was converted with a different target input resolution.\n",
    "The Second IF stage returns 256x256 pixel images. Using the 4x SuperResolution model makes our target image size 1024x1024 pixel."
   ]
  },
  {
   "cell_type": "code",
   "execution_count": null,
   "id": "43bb4608",
   "metadata": {},
   "outputs": [],
   "source": [
    "model = core.read_model(model=sr_model_xml_path)\n",
    "model.reshape({\n",
    "    0: [1, 3, 256, 256],\n",
    "    1: [1, 3, 1024, 1024]\n",
    "})\n",
    "compiled_model = core.compile_model(model=model, device_name=DEVICE)"
   ]
  },
  {
   "cell_type": "markdown",
   "id": "8105ba49",
   "metadata": {},
   "source": [
    "#### Prepare the input images and run the model"
   ]
  },
  {
   "cell_type": "code",
   "execution_count": null,
   "id": "2becf3be",
   "metadata": {},
   "outputs": [],
   "source": [
    "original_image = np.array(pil_image)\n",
    "bicubic_image = cv2.resize(\n",
    "    src=original_image, dsize=(1024, 1024), interpolation=cv2.INTER_CUBIC\n",
    ")\n",
    "\n",
    "# Reshape the images from (H,W,C) to (N,C,H,W) as expected by the model.\n",
    "input_image_original = np.expand_dims(original_image.transpose(2, 0, 1), axis=0)\n",
    "input_image_bicubic = np.expand_dims(bicubic_image.transpose(2, 0, 1), axis=0)\n",
    "\n",
    "# Model Inference\n",
    "result = compiled_model(\n",
    "    [input_image_original, input_image_bicubic]\n",
    ")[compiled_model.output(0)]"
   ]
  },
  {
   "cell_type": "markdown",
   "id": "6c1850b8",
   "metadata": {},
   "source": [
    "#### Display the result"
   ]
  },
  {
   "cell_type": "code",
   "execution_count": null,
   "id": "d063c5ed",
   "metadata": {},
   "outputs": [],
   "source": [
    "def convert_result_to_image(result) -> np.ndarray:\n",
    "    \"\"\"\n",
    "    Convert network result of floating point numbers to image with integer\n",
    "    values from 0-255. Values outside this range are clipped to 0 and 255.\n",
    "\n",
    "    :param result: a single superresolution network result in N,C,H,W shape\n",
    "    \"\"\"\n",
    "    result = 255 * result.squeeze(0).transpose(1, 2, 0)\n",
    "    result[result < 0] = 0\n",
    "    result[result > 255] = 255\n",
    "    return Image.fromarray(result.astype(np.uint8), 'RGB')\n",
    "\n",
    "img = convert_result_to_image(result)\n",
    "img"
   ]
  }
 ],
 "metadata": {
  "kernelspec": {
   "display_name": "Python 3",
   "language": "python",
   "name": "python3"
  },
  "language_info": {
   "codemirror_mode": {
    "name": "ipython",
    "version": 3
   },
   "file_extension": ".py",
   "mimetype": "text/x-python",
   "name": "python",
   "nbconvert_exporter": "python",
   "pygments_lexer": "ipython3",
   "version": "3.8.10"
  }
 },
 "nbformat": 4,
 "nbformat_minor": 5
}
