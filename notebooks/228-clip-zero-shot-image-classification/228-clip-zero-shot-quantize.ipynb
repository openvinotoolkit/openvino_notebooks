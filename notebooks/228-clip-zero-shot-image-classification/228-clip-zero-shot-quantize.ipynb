{
 "cells": [
  {
   "cell_type": "markdown",
   "id": "4ad832c5-71db-456f-9702-fb8f3b489e46",
   "metadata": {},
   "source": [
    "# Post-Training Quantization of OpenAI CLIP model with NNCF\n",
    "\n",
    "The goal of this tutorial is to demonstrate how to speed up the model by applying 8-bit post-training quantization from [NNCF](https://github.com/openvinotoolkit/nncf/) (Neural Network Compression Framework) and infer quantized model via OpenVINO™ Toolkit. The optimization process contains the following steps:\n",
    "\n",
    "1. Quantize the converted OpenVINO model from [notebook](228-clip-zero-shot-convert.ipynb) with NNCF.\n",
    "2. Check the model result using the same input data from the [notebook](228-clip-zero-shot-convert.ipynb).\n",
    "3. Compare model size of converted and quantized models.\n",
    "4. Compare performance of converted and quantized models.\n",
    "\n",
    "> **NOTE**: you should run [228-clip-zero-shot-convert](228-clip-zero-shot-convert.ipynb) notebook first to generate OpenVINO IR model that is used for quantization."
   ]
  },
  {
   "cell_type": "markdown",
   "id": "527c4c05",
   "metadata": {},
   "source": [
    "## Prerequisites"
   ]
  },
  {
   "cell_type": "code",
   "execution_count": null,
   "id": "e20c0fa1",
   "metadata": {},
   "outputs": [],
   "source": [
    "!pip install -q datasets\n",
    "!pip install -q \"git+https://github.com/openvinotoolkit/nncf.git@6c0aebadd2fcdbe1481a11b40b8cd9f66b3b6fab\""
   ]
  },
  {
   "cell_type": "markdown",
   "id": "488397fd",
   "metadata": {},
   "source": [
    "## Create and initialize quantization\n",
    "\n",
    "[NNCF](https://github.com/openvinotoolkit/nncf/) enables post-training quantization by adding the quantization layers into the model graph and then using a subset of the training dataset to initialize the parameters of these additional quantization layers. The framework is designed so that modifications to your original training code are minor. Quantization is the simplest scenario and requires a few modifications.\n",
    "\n",
    "The optimization process contains the following steps:\n",
    "1. Create a Dataset for quantization.\n",
    "2. Run `nncf.quantize` for getting a quantized model.\n",
    "3. Serialize the `INT8` model using `openvino.runtime.serialize` function."
   ]
  },
  {
   "cell_type": "markdown",
   "id": "f261e6a4",
   "metadata": {},
   "source": [
    "### Prepare datasets"
   ]
  },
  {
   "cell_type": "markdown",
   "id": "65d8d559",
   "metadata": {},
   "source": [
    "The [Conceptual Captions](https://ai.google.com/research/ConceptualCaptions/) dataset consisting of ~3.3M images annotated with captions is used to quantize model."
   ]
  },
  {
   "cell_type": "code",
   "execution_count": null,
   "id": "924025b4",
   "metadata": {},
   "outputs": [],
   "source": [
    "import os\n",
    "\n",
    "fp16_model_path = 'clip-vit-base-patch16.xml'\n",
    "if not os.path.exists(fp16_model_path):\n",
    "    raise RuntimeError('This notebook should be run after 228-clip-zero-shot-convert.ipynb.')"
   ]
  },
  {
   "cell_type": "code",
   "execution_count": null,
   "id": "6865fdb6",
   "metadata": {},
   "outputs": [],
   "source": [
    "from transformers import CLIPProcessor, CLIPModel\n",
    "\n",
    "model = CLIPModel.from_pretrained(\"openai/clip-vit-base-patch16\")\n",
    "max_length = model.config.text_config.max_position_embeddings\n",
    "processor = CLIPProcessor.from_pretrained(\"openai/clip-vit-base-patch16\")"
   ]
  },
  {
   "cell_type": "code",
   "execution_count": null,
   "id": "40d71747",
   "metadata": {},
   "outputs": [],
   "source": [
    "import requests\n",
    "from io import BytesIO\n",
    "from PIL import Image\n",
    "from requests.packages.urllib3.exceptions import InsecureRequestWarning\n",
    "requests.packages.urllib3.disable_warnings(InsecureRequestWarning)\n",
    "\n",
    "def check_text_data(data):\n",
    "    \"\"\"\n",
    "    Check if the given data is text-based.\n",
    "    \"\"\"\n",
    "    if isinstance(data, str):\n",
    "        return True\n",
    "    if isinstance(data, list):\n",
    "        return all(isinstance(x, str) for x in data)\n",
    "    return False\n",
    "\n",
    "def get_pil_from_url(url):\n",
    "    \"\"\"\n",
    "    Downloads and converts an image from a URL to a PIL Image object.\n",
    "    \"\"\"\n",
    "    response = requests.get(url, verify=False, timeout=20)\n",
    "    image = Image.open(BytesIO(response.content))\n",
    "    return image.convert(\"RGB\")\n",
    "\n",
    "def collate_fn(example, image_column=\"image_url\", text_column=\"caption\"):\n",
    "    \"\"\"\n",
    "    Preprocesses an example by loading and transforming image and text data.\n",
    "    Checks if the text data in the example is valid by calling the `check_text_data` function.\n",
    "    Downloads the image specified by the URL in the image_column by calling the `get_pil_from_url` function.\n",
    "    If there is any error during the download process, returns None.\n",
    "    Returns the preprocessed inputs with transformed image and text data.\n",
    "    \"\"\"\n",
    "    assert len(example) == 1\n",
    "    example = example[0]\n",
    "\n",
    "    if not check_text_data(example[text_column]):\n",
    "        raise ValueError(\"Text data is not valid\")\n",
    "\n",
    "    url = example[image_column]\n",
    "    try:\n",
    "        image = get_pil_from_url(url)\n",
    "    except Exception:\n",
    "        return None\n",
    "\n",
    "    inputs = processor(text=example[text_column], images=[image], return_tensors=\"pt\", padding=True)\n",
    "    if inputs['input_ids'].shape[1] > max_length:\n",
    "        return None\n",
    "    return inputs"
   ]
  },
  {
   "cell_type": "code",
   "execution_count": null,
   "id": "befc2204",
   "metadata": {},
   "outputs": [],
   "source": [
    "import torch\n",
    "from datasets import load_dataset\n",
    "\n",
    "def prepare_calibration_data(dataloader, init_steps):\n",
    "    \"\"\"\n",
    "    This function prepares calibration data from a dataloader for a specified number of initialization steps.\n",
    "    It iterates over the dataloader, fetching batches and storing the relevant data.\n",
    "    \"\"\"\n",
    "    data = []\n",
    "    print(f\"Fetching {init_steps} for the initialization...\")\n",
    "    counter = 0\n",
    "    for batch in dataloader:\n",
    "        if counter == init_steps:\n",
    "            break\n",
    "        if batch:\n",
    "            counter += 1\n",
    "            with torch.no_grad():\n",
    "                data.append(\n",
    "                    {\n",
    "                        \"pixel_values\": batch[\"pixel_values\"].to(\"cpu\"),\n",
    "                        \"input_ids\": batch[\"input_ids\"].to(\"cpu\"),\n",
    "                        \"attention_mask\": batch[\"attention_mask\"].to(\"cpu\")\n",
    "                    }\n",
    "                )\n",
    "    return data\n",
    "\n",
    "\n",
    "def prepare_dataset(opt_init_steps=300, max_train_samples=1000):\n",
    "    \"\"\"\n",
    "    Prepares a vision-text dataset for quantization.\n",
    "    \"\"\"\n",
    "    dataset = load_dataset(\"conceptual_captions\", streaming=True)\n",
    "    train_dataset = dataset[\"train\"].shuffle(seed=42, buffer_size=max_train_samples)\n",
    "    dataloader = torch.utils.data.DataLoader(train_dataset, collate_fn=collate_fn, batch_size=1)\n",
    "    calibration_data = prepare_calibration_data(dataloader, opt_init_steps)\n",
    "    return calibration_data"
   ]
  },
  {
   "cell_type": "markdown",
   "id": "6e56bc39",
   "metadata": {},
   "source": [
    "Create a quantized model from the pre-trained `FP16` model.\n",
    "\n",
    "> **NOTE**: Quantization is time and memory consuming operation. Running quantization code below may take a long time."
   ]
  },
  {
   "cell_type": "code",
   "execution_count": null,
   "id": "7b53d9b5",
   "metadata": {},
   "outputs": [],
   "source": [
    "import logging\n",
    "import nncf\n",
    "from openvino.runtime import Core, serialize\n",
    "\n",
    "core = Core()\n",
    "\n",
    "nncf.set_log_level(logging.ERROR)\n",
    "\n",
    "int8_model_path = 'clip-vit-base-patch16_int8.xml'\n",
    "calibration_data = prepare_dataset()\n",
    "ov_model = core.read_model(fp16_model_path)"
   ]
  },
  {
   "cell_type": "code",
   "execution_count": null,
   "id": "4137cd4b",
   "metadata": {},
   "outputs": [],
   "source": [
    "if len(calibration_data) == 0:\n",
    "    raise RuntimeError(\n",
    "        'Calibration dataset is empty. Please check internet connection and try to download images manually.'\n",
    "    )\n",
    "\n",
    "calibration_dataset = nncf.Dataset(calibration_data)\n",
    "quantized_model = nncf.quantize(\n",
    "    model=ov_model,\n",
    "    calibration_dataset=calibration_dataset,\n",
    "    model_type=nncf.ModelType.TRANSFORMER,\n",
    ")\n",
    "serialize(quantized_model, int8_model_path)"
   ]
  },
  {
   "cell_type": "markdown",
   "id": "8af6d642",
   "metadata": {},
   "source": [
    "NNCF also supports quantization-aware training, and other algorithms than quantization.\n",
    "See the [NNCF documentation](https://github.com/openvinotoolkit/nncf/#documentation) in the NNCF repository for more information."
   ]
  },
  {
   "cell_type": "markdown",
   "id": "b0508c15",
   "metadata": {},
   "source": [
    "## Run quantized OpenVINO model\n",
    "\n",
    "The steps for making predictions with the quantized OpenVINO CLIP model are similar to the PyTorch model. Let us check the model result using the same input data from the [1st notebook](228-clip-zero-shot-image-classification.ipynb)."
   ]
  },
  {
   "cell_type": "code",
   "execution_count": null,
   "id": "02f08dae-d518-4961-9cbc-1f0b19bb9457",
   "metadata": {},
   "outputs": [],
   "source": [
    "import ipywidgets as widgets\n",
    "\n",
    "device = widgets.Dropdown(\n",
    "    options=core.available_devices + [\"AUTO\"],\n",
    "    value='AUTO',\n",
    "    description='Device:',\n",
    "    disabled=False,\n",
    ")\n",
    "\n",
    "device"
   ]
  },
  {
   "cell_type": "code",
   "execution_count": null,
   "id": "2e029ccd",
   "metadata": {},
   "outputs": [],
   "source": [
    "import numpy as np\n",
    "from scipy.special import softmax\n",
    "from openvino.runtime import compile_model\n",
    "from visualize import visualize_result\n",
    "\n",
    "image = Image.open('../data/image/coco.jpg')\n",
    "input_labels = ['cat', 'dog', 'wolf', 'tiger', 'man', 'horse', 'frog', 'tree', 'house', 'computer']\n",
    "text_descriptions = [f\"This is a photo of a {label}\" for label in input_labels]\n",
    "\n",
    "inputs = processor(text=text_descriptions, images=[image], return_tensors=\"pt\", padding=True)\n",
    "compiled_model = compile_model(int8_model_path)\n",
    "logits_per_image_out = compiled_model.output(0)\n",
    "ov_logits_per_image = compiled_model(dict(inputs))[logits_per_image_out]\n",
    "probs = softmax(ov_logits_per_image, axis=1)\n",
    "visualize_result(image, input_labels, probs[0])"
   ]
  },
  {
   "cell_type": "markdown",
   "id": "c5173300",
   "metadata": {},
   "source": [
    "#### Compare File Size"
   ]
  },
  {
   "cell_type": "code",
   "execution_count": null,
   "id": "d87de6af",
   "metadata": {},
   "outputs": [],
   "source": [
    "from pathlib import Path\n",
    "\n",
    "fp16_ir_model_size = Path(fp16_model_path).with_suffix(\".bin\").stat().st_size / 1024\n",
    "quantized_model_size = Path(int8_model_path).with_suffix(\".bin\").stat().st_size / 1024\n",
    "print(f\"FP16 IR model size: {fp16_ir_model_size:.2f} KB\")\n",
    "print(f\"INT8 model size: {quantized_model_size:.2f} KB\")\n",
    "print(f\"Model compression rate: {fp16_ir_model_size / quantized_model_size:.3f}\")"
   ]
  },
  {
   "cell_type": "markdown",
   "id": "5c5bd231",
   "metadata": {},
   "source": [
    "#### Compare inference time of the FP16 IR and quantized models\n",
    "To measure the inference performance of the `FP16` and `INT8` models, we use median inference time on calibration dataset.\n",
    "So we can approximately estimate the speed up of the dynamic quantized models.\n",
    "\n",
    "\n",
    "> **NOTE**: For the most accurate performance estimation, it is recommended to run `benchmark_app` in a terminal/command prompt after closing other applications with static shapes."
   ]
  },
  {
   "cell_type": "code",
   "execution_count": null,
   "id": "92ce5218",
   "metadata": {},
   "outputs": [],
   "source": [
    "import time\n",
    "from openvino.runtime import compile_model\n",
    "\n",
    "def calculate_inference_time(model_path, calibration_data):\n",
    "    model = compile_model(model_path)\n",
    "    output_layer = model.output(0)\n",
    "    inference_time = []\n",
    "    for batch in calibration_data:\n",
    "        start = time.perf_counter()\n",
    "        _ = model(batch)[output_layer]\n",
    "        end = time.perf_counter()\n",
    "        delta = end - start\n",
    "        inference_time.append(delta)\n",
    "    return np.median(inference_time)"
   ]
  },
  {
   "cell_type": "code",
   "execution_count": null,
   "id": "dbf6c463",
   "metadata": {
    "tags": []
   },
   "outputs": [],
   "source": [
    "fp16_latency = calculate_inference_time(fp16_model_path, calibration_data)\n",
    "int8_latency = calculate_inference_time(int8_model_path, calibration_data)\n",
    "print(f\"Performance speed up: {fp16_latency / int8_latency:.3f}\")"
   ]
  }
 ],
 "metadata": {
  "kernelspec": {
   "display_name": "Python 3 (ipykernel)",
   "language": "python",
   "name": "python3"
  },
  "language_info": {
   "codemirror_mode": {
    "name": "ipython",
    "version": 3
   },
   "file_extension": ".py",
   "mimetype": "text/x-python",
   "name": "python",
   "nbconvert_exporter": "python",
   "pygments_lexer": "ipython3",
   "version": "3.8.10"
  },
  "widgets": {
   "application/vnd.jupyter.widget-state+json": {
    "state": {
     "0d03f23ce7514db7b653c6e855489da7": {
      "model_module": "@jupyter-widgets/base",
      "model_module_version": "2.0.0",
      "model_name": "LayoutModel",
      "state": {}
     },
     "1479349f93bc4a129bcd5b8745b590b2": {
      "model_module": "@jupyter-widgets/controls",
      "model_module_version": "2.0.0",
      "model_name": "HTMLModel",
      "state": {
       "layout": "IPY_MODEL_0d03f23ce7514db7b653c6e855489da7",
       "style": "IPY_MODEL_f1e390f7c3ed4152883d5f34826d2545",
       "value": "Downloading readme: 100%"
      }
     },
     "231febc41b9e4956a27efc09ecfd08b6": {
      "model_module": "@jupyter-widgets/controls",
      "model_module_version": "2.0.0",
      "model_name": "HTMLModel",
      "state": {
       "layout": "IPY_MODEL_64605cbea77b49e18115c545ecab8500",
       "style": "IPY_MODEL_c66b3363e25e4b46bb2cd12e088e4666",
       "value": " 7.91k/7.91k [00:00&lt;00:00, 1.01MB/s]"
      }
     },
     "2c0a28fb85164c5b8598a29665c62db7": {
      "model_module": "@jupyter-widgets/controls",
      "model_module_version": "2.0.0",
      "model_name": "HTMLStyleModel",
      "state": {
       "description_width": "",
       "font_size": null,
       "text_color": null
      }
     },
     "4834b0b7d8a1400cb98e6716c27dbc76": {
      "model_module": "@jupyter-widgets/controls",
      "model_module_version": "2.0.0",
      "model_name": "FloatProgressModel",
      "state": {
       "bar_style": "success",
       "layout": "IPY_MODEL_69c56261be2440b78602d56db55e31ae",
       "max": 13915,
       "style": "IPY_MODEL_754078ff9ecd4b12a684a47a260473f4",
       "value": 13915
      }
     },
     "4f7feace619743d8a4b3b2ad1efdfa0c": {
      "model_module": "@jupyter-widgets/controls",
      "model_module_version": "2.0.0",
      "model_name": "FloatProgressModel",
      "state": {
       "bar_style": "success",
       "layout": "IPY_MODEL_bb6c44da35e84dfd8c06b3cd5be10c52",
       "max": 6692,
       "style": "IPY_MODEL_b67e8df6ec214a3980204e1e7aec59b8",
       "value": 6692
      }
     },
     "5807c109caa8483f89c8bcbd62613983": {
      "model_module": "@jupyter-widgets/controls",
      "model_module_version": "2.0.0",
      "model_name": "HBoxModel",
      "state": {
       "children": [
        "IPY_MODEL_93c13170471d451892f5b4b74ccca4c6",
        "IPY_MODEL_4f7feace619743d8a4b3b2ad1efdfa0c",
        "IPY_MODEL_e9644fb83c534e4ba1624727a220ca8f"
       ],
       "layout": "IPY_MODEL_ecab609a4433472d8196794693f26911"
      }
     },
     "6013d785b1654ffea2e3620fae5282ed": {
      "model_module": "@jupyter-widgets/controls",
      "model_module_version": "2.0.0",
      "model_name": "HTMLStyleModel",
      "state": {
       "description_width": "",
       "font_size": null,
       "text_color": null
      }
     },
     "64605cbea77b49e18115c545ecab8500": {
      "model_module": "@jupyter-widgets/base",
      "model_module_version": "2.0.0",
      "model_name": "LayoutModel",
      "state": {}
     },
     "69c56261be2440b78602d56db55e31ae": {
      "model_module": "@jupyter-widgets/base",
      "model_module_version": "2.0.0",
      "model_name": "LayoutModel",
      "state": {}
     },
     "6c22575b8e2347209dc46a6ef4d735f3": {
      "model_module": "@jupyter-widgets/base",
      "model_module_version": "2.0.0",
      "model_name": "LayoutModel",
      "state": {}
     },
     "701068564eea4af0b65f3c74ffcad4be": {
      "model_module": "@jupyter-widgets/controls",
      "model_module_version": "2.0.0",
      "model_name": "HBoxModel",
      "state": {
       "children": [
        "IPY_MODEL_cb96de42ae5941eb8e33f1b834af8791",
        "IPY_MODEL_f410e8d64f0d4f71aa395d3afbf801fc",
        "IPY_MODEL_231febc41b9e4956a27efc09ecfd08b6"
       ],
       "layout": "IPY_MODEL_f086d446d79c4ce39abf4b8995b69f40"
      }
     },
     "754078ff9ecd4b12a684a47a260473f4": {
      "model_module": "@jupyter-widgets/controls",
      "model_module_version": "2.0.0",
      "model_name": "ProgressStyleModel",
      "state": {
       "description_width": ""
      }
     },
     "7e21bcbf074c439baae986d588c719aa": {
      "model_module": "@jupyter-widgets/controls",
      "model_module_version": "2.0.0",
      "model_name": "HTMLModel",
      "state": {
       "layout": "IPY_MODEL_e2d8fa9844ba4af099eb3f86249ce9b9",
       "style": "IPY_MODEL_2c0a28fb85164c5b8598a29665c62db7",
       "value": " 13.9k/13.9k [00:00&lt;00:00, 58.3kB/s]"
      }
     },
     "93c13170471d451892f5b4b74ccca4c6": {
      "model_module": "@jupyter-widgets/controls",
      "model_module_version": "2.0.0",
      "model_name": "HTMLModel",
      "state": {
       "layout": "IPY_MODEL_c2100bb0504e4d1e9c4b1bfbda6d7bca",
       "style": "IPY_MODEL_6013d785b1654ffea2e3620fae5282ed",
       "value": "Downloading builder script: 100%"
      }
     },
     "9edcb93042204b4290a3ec73956fb02a": {
      "model_module": "@jupyter-widgets/controls",
      "model_module_version": "2.0.0",
      "model_name": "HBoxModel",
      "state": {
       "children": [
        "IPY_MODEL_1479349f93bc4a129bcd5b8745b590b2",
        "IPY_MODEL_4834b0b7d8a1400cb98e6716c27dbc76",
        "IPY_MODEL_7e21bcbf074c439baae986d588c719aa"
       ],
       "layout": "IPY_MODEL_6c22575b8e2347209dc46a6ef4d735f3"
      }
     },
     "b67e8df6ec214a3980204e1e7aec59b8": {
      "model_module": "@jupyter-widgets/controls",
      "model_module_version": "2.0.0",
      "model_name": "ProgressStyleModel",
      "state": {
       "description_width": ""
      }
     },
     "ba067d29f91d471f96e9b6917c09aba7": {
      "model_module": "@jupyter-widgets/base",
      "model_module_version": "2.0.0",
      "model_name": "LayoutModel",
      "state": {}
     },
     "bb6c44da35e84dfd8c06b3cd5be10c52": {
      "model_module": "@jupyter-widgets/base",
      "model_module_version": "2.0.0",
      "model_name": "LayoutModel",
      "state": {}
     },
     "bf9093bc9b2a4d8e9c5c30845ee57dd0": {
      "model_module": "@jupyter-widgets/controls",
      "model_module_version": "2.0.0",
      "model_name": "HTMLStyleModel",
      "state": {
       "description_width": "",
       "font_size": null,
       "text_color": null
      }
     },
     "c2100bb0504e4d1e9c4b1bfbda6d7bca": {
      "model_module": "@jupyter-widgets/base",
      "model_module_version": "2.0.0",
      "model_name": "LayoutModel",
      "state": {}
     },
     "c66b3363e25e4b46bb2cd12e088e4666": {
      "model_module": "@jupyter-widgets/controls",
      "model_module_version": "2.0.0",
      "model_name": "HTMLStyleModel",
      "state": {
       "description_width": "",
       "font_size": null,
       "text_color": null
      }
     },
     "cb96de42ae5941eb8e33f1b834af8791": {
      "model_module": "@jupyter-widgets/controls",
      "model_module_version": "2.0.0",
      "model_name": "HTMLModel",
      "state": {
       "layout": "IPY_MODEL_e926b452e92e499197280f6ce8c95a8f",
       "style": "IPY_MODEL_bf9093bc9b2a4d8e9c5c30845ee57dd0",
       "value": "Downloading metadata: 100%"
      }
     },
     "d12071d2d8994903968acba0c93327ec": {
      "model_module": "@jupyter-widgets/controls",
      "model_module_version": "2.0.0",
      "model_name": "HTMLStyleModel",
      "state": {
       "description_width": "",
       "font_size": null,
       "text_color": null
      }
     },
     "e2d8fa9844ba4af099eb3f86249ce9b9": {
      "model_module": "@jupyter-widgets/base",
      "model_module_version": "2.0.0",
      "model_name": "LayoutModel",
      "state": {}
     },
     "e926b452e92e499197280f6ce8c95a8f": {
      "model_module": "@jupyter-widgets/base",
      "model_module_version": "2.0.0",
      "model_name": "LayoutModel",
      "state": {}
     },
     "e9644fb83c534e4ba1624727a220ca8f": {
      "model_module": "@jupyter-widgets/controls",
      "model_module_version": "2.0.0",
      "model_name": "HTMLModel",
      "state": {
       "layout": "IPY_MODEL_ba067d29f91d471f96e9b6917c09aba7",
       "style": "IPY_MODEL_d12071d2d8994903968acba0c93327ec",
       "value": " 6.69k/6.69k [00:00&lt;00:00, 490kB/s]"
      }
     },
     "ea410587b63c46d29757a2144e392eca": {
      "model_module": "@jupyter-widgets/controls",
      "model_module_version": "2.0.0",
      "model_name": "ProgressStyleModel",
      "state": {
       "description_width": ""
      }
     },
     "ecab609a4433472d8196794693f26911": {
      "model_module": "@jupyter-widgets/base",
      "model_module_version": "2.0.0",
      "model_name": "LayoutModel",
      "state": {}
     },
     "f086d446d79c4ce39abf4b8995b69f40": {
      "model_module": "@jupyter-widgets/base",
      "model_module_version": "2.0.0",
      "model_name": "LayoutModel",
      "state": {}
     },
     "f1dfe1e179984b688d277172ccb2ea09": {
      "model_module": "@jupyter-widgets/base",
      "model_module_version": "2.0.0",
      "model_name": "LayoutModel",
      "state": {}
     },
     "f1e390f7c3ed4152883d5f34826d2545": {
      "model_module": "@jupyter-widgets/controls",
      "model_module_version": "2.0.0",
      "model_name": "HTMLStyleModel",
      "state": {
       "description_width": "",
       "font_size": null,
       "text_color": null
      }
     },
     "f410e8d64f0d4f71aa395d3afbf801fc": {
      "model_module": "@jupyter-widgets/controls",
      "model_module_version": "2.0.0",
      "model_name": "FloatProgressModel",
      "state": {
       "bar_style": "success",
       "layout": "IPY_MODEL_f1dfe1e179984b688d277172ccb2ea09",
       "max": 7911,
       "style": "IPY_MODEL_ea410587b63c46d29757a2144e392eca",
       "value": 7911
      }
     }
    },
    "version_major": 2,
    "version_minor": 0
   }
  }
 },
 "nbformat": 4,
 "nbformat_minor": 5
}
