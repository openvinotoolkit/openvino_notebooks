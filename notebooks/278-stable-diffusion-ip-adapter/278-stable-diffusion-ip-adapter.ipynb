{
 "cells": [
  {
   "cell_type": "code",
   "execution_count": 1,
   "id": "04547ab5-2262-44c6-ba11-fa9d21c61d0b",
   "metadata": {},
   "outputs": [],
   "source": [
    "%pip uninstall -y -q openvino-dev openvino openvino-nightly\n",
    "%pip install torch transformers diffusers openvino-nightly gradio --extra-index-url https://download.pytorch.org/whl/cpu"
   ]
  },
  {
   "cell_type": "code",
   "execution_count": 2,
   "id": "1d51d006-1568-437e-a240-11eb86a6de36",
   "metadata": {},
   "outputs": [],
   "source": [
    "from pathlib import Path\n",
    "from diffusers import StableDiffusionPipeline\n",
    "from diffusers.utils import load_image\n",
    "from diffusers import LCMScheduler\n",
    "\n",
    "\n",
    "stable_diffusion_id = \"runwayml/stable-diffusion-v1-5\"\n",
    "ip_adapter_id = \"h94/IP-Adapter\"\n",
    "ip_adapter_weight_name = \"ip-adapter_sd15.bin\"\n",
    "lcm_lora_id = \"latent-consistency/lcm-lora-sdv1-5\"\n",
    "models_dir = Path(\"model\")\n",
    "\n",
    "load_original_pipeline = not all([(models_dir / model_name).exists() for model_name in [\"text_encoder.xml\", \"image_encoder.xml\", \"unet.xml\", \"vae_decoder.xml\", \"vae_encoder.xml\"]])\n",
    "\n",
    "def get_pipeline_components(stable_diffusion_id, ip_adapter_id, ip_adapter_weight_name , lcm_lora_id, ip_adapter_scale=0.6):\n",
    "    pipeline = StableDiffusionPipeline.from_pretrained(stable_diffusion_id)\n",
    "    pipeline.load_lora_weights(lcm_lora_id)\n",
    "    pipeline.fuse_lora()\n",
    "    pipeline.load_ip_adapter(ip_adapter_id, subfolder=\"models\", weight_name=ip_adapter_weight_name)\n",
    "    pipeline.set_ip_adapter_scale(0.6)\n",
    "    scheduler = LCMScheduler.from_pretrained(stable_diffusion_id, subfolder=\"scheduler\")\n",
    "    return pipeline.tokenizer, pipeline.feature_extractor, scheduler, pipeline.text_encoder, pipeline.image_encoder, pipeline.unet, pipeline.vae\n",
    "\n",
    "if load_original_pipeline:\n",
    "    tokenizer, feature_extractor, scheduler, text_encoder, image_encoder, unet, vae = get_pipeline_components(stable_diffusion_id, ip_adapter_id, ip_adapter_weight_name, lcm_lora_id)\n",
    "    scheduler.save_pretrained(models_dir / \"scheduler\")\n",
    "else:\n",
    "    tokenizer, feature_extractor, scheduler, text_encoder, image_encoder, unet, vae = None, None, None, None, None, None, None"
   ]
  },
  {
   "cell_type": "code",
   "execution_count": 3,
   "id": "886b8195-ac5a-4d97-b5be-62459d70ec9b",
   "metadata": {},
   "outputs": [],
   "source": [
    "import openvino as ov\n",
    "import torch\n",
    "import gc\n",
    "\n",
    "def cleanup_torchscript_cache():\n",
    "    \"\"\"\n",
    "    Helper for removing cached model representation\n",
    "    \"\"\"\n",
    "    torch._C._jit_clear_class_registry()\n",
    "    torch.jit._recursive.concrete_type_store = torch.jit._recursive.ConcreteTypeStore()\n",
    "    torch.jit._state._clear_class_state()\n",
    "\n",
    "IMAGE_ENCODER_PATH = models_dir / \"image_encoder.xml\"\n",
    "\n",
    "if not IMAGE_ENCODER_PATH.exists():\n",
    "    with torch.no_grad():\n",
    "        ov_model = ov.convert_model(image_encoder, example_input=torch.zeros((1, 3, 224, 224)), input=[-1,3,224,224])\n",
    "    ov.save_model(ov_model, IMAGE_ENCODER_PATH)\n",
    "    feature_extractor.save_pretrained(models_dir / \"feature_extractor\")\n",
    "    del ov_model\n",
    "    cleanup_torchscript_cache()\n",
    "\n",
    "del image_encoder\n",
    "del feature_extractor\n",
    "\n",
    "gc.collect();"
   ]
  },
  {
   "cell_type": "code",
   "execution_count": 4,
   "id": "68e7cb9a-734c-4c85-9c73-8ac26c26299e",
   "metadata": {},
   "outputs": [],
   "source": [
    "UNET_PATH = models_dir / \"unet.xml\"\n",
    "\n",
    "\n",
    "if not UNET_PATH.exists():\n",
    "    inputs = {\n",
    "        \"sample\": torch.randn((2, 4, 64, 64)),\n",
    "        \"timestep\": torch.tensor(1),\n",
    "        \"encoder_hidden_states\": torch.randn((2,77,768)),\n",
    "        \"added_cond_kwargs\": {\"image_embeds\": torch.ones((2, 1024))}\n",
    "    }\n",
    "\n",
    "    with torch.no_grad():\n",
    "        ov_model = ov.convert_model(unet, example_input=inputs)\n",
    "    # dictionary with added_cond_kwargs will be decomposed during conversion\n",
    "    # in some cases decomposition may lead to losing data type and shape information\n",
    "    # We need to recover it manually after the conversion\n",
    "    ov_model.inputs[-1].get_node().set_element_type(ov.Type.f32)\n",
    "    ov_model.validate_nodes_and_infer_types()\n",
    "    ov.save_model(ov_model, UNET_PATH)\n",
    "    del ov_model\n",
    "    cleanup_torchscript_cache()\n",
    "\n",
    "del unet\n",
    "\n",
    "gc.collect();"
   ]
  },
  {
   "cell_type": "code",
   "execution_count": 5,
   "id": "c289ec9d-0d97-4529-b1ad-29e2f705785e",
   "metadata": {},
   "outputs": [],
   "source": [
    "VAE_DECODER_PATH = models_dir / \"vae_decoder.xml\"\n",
    "VAE_ENCODER_PATH = models_dir / \"vae_encoder.xml\"\n",
    "\n",
    "if not VAE_DECODER_PATH.exists():\n",
    "    class VAEDecoderWrapper(torch.nn.Module):\n",
    "        def __init__(self, vae):\n",
    "            super().__init__()\n",
    "            self.vae = vae\n",
    "    \n",
    "        def forward(self, latents):\n",
    "            return self.vae.decode(latents)\n",
    "\n",
    "    vae_decoder = VAEDecoderWrapper(vae)\n",
    "    with torch.no_grad():\n",
    "        ov_model = ov.convert_model(vae_decoder, example_input=torch.ones([1,4,64,64]))\n",
    "    ov.save_model(ov_model, VAE_DECODER_PATH)\n",
    "    del ov_model\n",
    "    cleanup_torchscript_cache()\n",
    "    del vae_decoder\n",
    "\n",
    "if not VAE_ENCODER_PATH.exists():\n",
    "    class VAEEncoderWrapper(torch.nn.Module):\n",
    "        def __init__(self, vae):\n",
    "            super().__init__()\n",
    "            self.vae = vae\n",
    "\n",
    "        def forward(self, image):\n",
    "            return self.vae.encode(x=image)[\"latent_dist\"].sample()\n",
    "    vae_encoder = VAEEncoderWrapper(vae)\n",
    "    vae_encoder.eval()\n",
    "    image = torch.zeros((1, 3, 512, 512))\n",
    "    with torch.no_grad():\n",
    "        ov_model = ov.convert_model(vae_encoder, example_input=image)\n",
    "    ov.save_model(ov_model, VAE_ENCODER_PATH)\n",
    "    del ov_model\n",
    "    cleanup_torchscript_cache()\n",
    "\n",
    "del vae\n",
    "\n",
    "gc.collect();"
   ]
  },
  {
   "cell_type": "code",
   "execution_count": 6,
   "id": "079023ed-8ea7-4d0c-bbdd-03c915045322",
   "metadata": {},
   "outputs": [],
   "source": [
    "TEXT_ENCODER_PATH = models_dir / \"text_encoder.xml\"\n",
    "\n",
    "if not TEXT_ENCODER_PATH.exists():\n",
    "    with torch.no_grad():\n",
    "        ov_model = ov.convert_model(text_encoder, example_input=torch.ones([1,77], dtype=torch.long), input=[(1,77),])\n",
    "    ov.save_model(ov_model, TEXT_ENCODER_PATH)\n",
    "    del ov_model\n",
    "    cleanup_torchscript_cache()\n",
    "    tokenizer.save_pretrained(models_dir / \"tokenizer\")\n",
    "\n",
    "del text_encoder\n",
    "del tokenizer"
   ]
  },
  {
   "cell_type": "code",
   "execution_count": 33,
   "id": "ca9a443a-b2b5-40ff-9384-14fb1ce6563e",
   "metadata": {},
   "outputs": [],
   "source": [
    "import inspect\n",
    "from typing import List, Optional, Union, Dict, Tuple\n",
    "import numpy as np\n",
    "\n",
    "import PIL\n",
    "import cv2\n",
    "import torch\n",
    "\n",
    "from transformers import CLIPTokenizer, CLIPImageProcessor\n",
    "from diffusers import DiffusionPipeline\n",
    "from diffusers.pipelines.stable_diffusion.pipeline_output import StableDiffusionPipelineOutput\n",
    "from diffusers.schedulers import DDIMScheduler, LMSDiscreteScheduler, PNDMScheduler\n",
    "\n",
    "\n",
    "def scale_fit_to_window(dst_width:int, dst_height:int, image_width:int, image_height:int):\n",
    "    \"\"\"\n",
    "    Preprocessing helper function for calculating image size for resize with peserving original aspect ratio \n",
    "    and fitting image to specific window size\n",
    "    \n",
    "    Parameters:\n",
    "      dst_width (int): destination window width\n",
    "      dst_height (int): destination window height\n",
    "      image_width (int): source image width\n",
    "      image_height (int): source image height\n",
    "    Returns:\n",
    "      result_width (int): calculated width for resize\n",
    "      result_height (int): calculated height for resize\n",
    "    \"\"\"\n",
    "    im_scale = min(dst_height / image_height, dst_width / image_width)\n",
    "    return int(im_scale * image_width), int(im_scale * image_height)\n",
    "\n",
    "\n",
    "def randn_tensor(\n",
    "    shape: Union[Tuple, List],\n",
    "    generator: Optional[Union[List[\"torch.Generator\"], \"torch.Generator\"]] = None,\n",
    "    dtype: Optional[\"torch.dtype\"] = None,\n",
    "):\n",
    "    \"\"\"A helper function to create random tensors on the desired `device` with the desired `dtype`. When\n",
    "    passing a list of generators, you can seed each batch size individually.\n",
    "    \n",
    "    \"\"\"\n",
    "    batch_size = shape[0]\n",
    "    rand_device = torch.device(\"cpu\")\n",
    "\n",
    "    # make sure generator list of length 1 is treated like a non-list\n",
    "    if isinstance(generator, list) and len(generator) == 1:\n",
    "        generator = generator[0]\n",
    "\n",
    "    if isinstance(generator, list):\n",
    "        shape = (1,) + shape[1:]\n",
    "        latents = [\n",
    "            torch.randn(shape, generator=generator[i], device=rand_device, dtype=dtype)\n",
    "            for i in range(batch_size)\n",
    "        ]\n",
    "        latents = torch.cat(latents, dim=0)\n",
    "    else:\n",
    "        latents = torch.randn(shape, generator=generator, device=rand_device, dtype=dtype)\n",
    "\n",
    "    return latents\n",
    "\n",
    "def preprocess(image: PIL.Image.Image, height, width):\n",
    "    \"\"\"\n",
    "    Image preprocessing function. Takes image in PIL.Image format, resizes it to keep aspect ration and fits to model input window 512x512,\n",
    "    then converts it to np.ndarray and adds padding with zeros on right or bottom side of image (depends from aspect ratio), after that\n",
    "    converts data to float32 data type and change range of values from [0, 255] to [-1, 1], finally, converts data layout from planar NHWC to NCHW.\n",
    "    The function returns preprocessed input tensor and padding size, which can be used in postprocessing.\n",
    "    \n",
    "    Parameters:\n",
    "      image (PIL.Image.Image): input image\n",
    "    Returns:\n",
    "       image (np.ndarray): preprocessed image tensor\n",
    "       meta (Dict): dictionary with preprocessing metadata info\n",
    "    \"\"\"\n",
    "    src_width, src_height = image.size\n",
    "    dst_width, dst_height = scale_fit_to_window(\n",
    "        height, width, src_width, src_height)\n",
    "    image = np.array(image.resize((dst_width, dst_height),\n",
    "                     resample=PIL.Image.Resampling.LANCZOS))[None, :]\n",
    "    pad_width = width - dst_width\n",
    "    pad_height = height - dst_height\n",
    "    pad = ((0, 0), (0, pad_height), (0, pad_width), (0, 0))\n",
    "    image = np.pad(image, pad, mode=\"constant\")\n",
    "    image = image.astype(np.float32) / 255.0\n",
    "    image = 2.0 * image - 1.0\n",
    "    image = image.transpose(0, 3, 1, 2)\n",
    "    return image, {\"padding\": pad, \"src_width\": src_width, \"src_height\": src_height}\n",
    "\n",
    "class OVStableDiffusionPipeline(DiffusionPipeline):\n",
    "    def __init__(\n",
    "        self,\n",
    "        vae_decoder: ov.Model,\n",
    "        text_encoder: ov.Model,\n",
    "        tokenizer: CLIPTokenizer,\n",
    "        unet: ov.Model,\n",
    "        scheduler: Union[DDIMScheduler, PNDMScheduler, LMSDiscreteScheduler],\n",
    "        image_encoder: ov.Model,\n",
    "        feature_extractor: CLIPImageProcessor,\n",
    "        vae_encoder: ov.Model\n",
    "    ):\n",
    "        \"\"\"\n",
    "        Pipeline for text-to-image generation using Stable Diffusion and IP-Adapter with OpenVINO\n",
    "        Parameters:\n",
    "            vae_decoder (ov.Model):\n",
    "                Variational Auto-Encoder (VAE) Model to decode images to and from latent representations.\n",
    "            text_encoder (ov.Model):CLIPImageProcessor\n",
    "                Frozen text-encoder. Stable Diffusion uses the text portion of\n",
    "                [CLIP](https://huggingface.co/docs/transformers/model_doc/clip#transformers.CLIPTextModel), specifically\n",
    "                the clip-vit-large-patch14(https://huggingface.co/openai/clip-vit-large-patch14) variant.\n",
    "            tokenizer (CLIPTokenizer):\n",
    "                Tokenizer of class CLIPTokenizer(https://huggingface.co/docs/transformers/v4.21.0/en/model_doc/clip#transformers.CLIPTokenizer).\n",
    "            unet (ov.Model): Conditional U-Net architecture to denoise the encoded image latents.\n",
    "            scheduler (SchedulerMixin):\n",
    "                A scheduler to be used in combination with unet to denoise the encoded image latents\n",
    "            image_encoder (ov.Model):\n",
    "                IP-Adapter image encoder for embedding input image as input prompt for generation\n",
    "            feature_extractor : \n",
    "        \"\"\"\n",
    "        super().__init__()\n",
    "        self.scheduler = scheduler\n",
    "        self.vae_decoder = vae_decoder\n",
    "        self.image_encoder = image_encoder\n",
    "        self.text_encoder = text_encoder\n",
    "        self.unet = unet\n",
    "        self.height = 512\n",
    "        self.width = 512\n",
    "        self.vae_scale_factor = 8\n",
    "        self.tokenizer = tokenizer\n",
    "        self.vae_encoder = vae_encoder\n",
    "        self.feature_extractor = feature_extractor\n",
    "\n",
    "    def __call__(\n",
    "        self,\n",
    "        prompt: Union[str, List[str]],\n",
    "        ip_adapter_image: PIL.Image.Image,\n",
    "        image: PIL.Image.Image = None,\n",
    "        num_inference_steps: Optional[int] = 4,\n",
    "        negative_prompt: Union[str, List[str]] = None,\n",
    "        guidance_scale: Optional[float] = 0.5,\n",
    "        eta: Optional[float] = 0.0,\n",
    "        output_type: Optional[str] = \"pil\",\n",
    "        height: Optional[int] = None,\n",
    "        width: Optional[int] = None,\n",
    "        generator: Optional[Union[torch.Generator, List[torch.Generator]]] = None,\n",
    "        latents: Optional[torch.FloatTensor] = None,\n",
    "        strength: float = 1.,\n",
    "        **kwargs,\n",
    "    ):\n",
    "        \"\"\"\n",
    "        Function invoked when calling the pipeline for generation.\n",
    "        Parameters:\n",
    "            prompt (str or List[str]):\n",
    "                The prompt or prompts to guide the image generation.\n",
    "            image (PIL.Image.Image, *optional*, None):\n",
    "                 Intinal image for generation.\n",
    "            num_inference_steps (int, *optional*, defaults to 50):\n",
    "                The number of denoising steps. More denoising steps usually lead to a higher quality image at the\n",
    "                expense of slower inference.\n",
    "            negative_prompt (str or List[str]):https://user-images.githubusercontent.com/29454499/258651862-28b63016-c5ff-4263-9da8-73ca31100165.jpeg\n",
    "                The negative prompt or prompts to guide the image generation.\n",
    "            guidance_scale (float, *optional*, defaults to 7.5):\n",
    "                Guidance scale as defined in Classifier-Free Diffusion Guidance(https://arxiv.org/abs/2207.12598).\n",
    "                guidance_scale is defined as `w` of equation 2.\n",
    "                Higher guidance scale encourages to generate images that are closely linked to the text prompt,\n",
    "                usually at the expense of lower image quality.\n",
    "            eta (float, *optional*, defaults to 0.0):\n",
    "                Corresponds to parameter eta (η) in the DDIM paper: https://arxiv.org/abs/2010.02502. Only applies to\n",
    "                [DDIMScheduler], will be ignored for others.\n",
    "            output_type (`str`, *optional*, defaults to \"pil\"):\n",
    "                The output format of the generate image. Choose between\n",
    "                [PIL](https://pillow.readthedocs.io/en/stable/): PIL.Image.Image or np.array.\n",
    "            height (int, *optional*, 512): \n",
    "                Generated image height\n",
    "            width (int, *optional*, 512):\n",
    "                Generated image width\n",
    "            generator (`torch.Generator` or `List[torch.Generator]`, *optional*):\n",
    "                A [`torch.Generator`](https://pytorch.org/docs/stable/generated/torch.Generator.html) to make\n",
    "                generation deterministic.\n",
    "            latents (`torch.FloatTensor`, *optional*):\n",
    "                Pre-generated noisy latents sampled from a Gaussian distribution, to be used as inputs for image\n",
    "                generation. Can be used to tweak the same generation with different prompts. If not provided, a latents\n",
    "                tensor is generated by sampling using the supplied random `generator`.\n",
    "        Returns:\n",
    "            Dictionary with keys: \n",
    "                sample - the last generated image PIL.Image.Image or np.array\n",
    "                iterations - *optional* (if gif=True) images for all diffusion steps, List of PIL.Image.Image or np.array.\n",
    "        \"\"\"\n",
    "        img_buffer = []\n",
    "        do_classifier_free_guidance = guidance_scale > 1.0\n",
    "        # get prompt text embeddings\n",
    "        text_embeddings = self._encode_prompt(prompt, do_classifier_free_guidance=do_classifier_free_guidance, negative_prompt=negative_prompt)\n",
    "        # get ip-adapter image embeddings\n",
    "        image_embeds, negative_image_embeds = self.encode_image(ip_adapter_image)\n",
    "        if do_classifier_free_guidance:\n",
    "            image_embeds = np.concatenate([negative_image_embeds, image_embeds])\n",
    "        \n",
    "        # set timesteps\n",
    "        accepts_offset = \"offset\" in set(inspect.signature(self.scheduler.set_timesteps).parameters.keys())\n",
    "        extra_set_kwargs = {}\n",
    "        if accepts_offset:\n",
    "            extra_set_kwargs[\"offset\"] = 1\n",
    "\n",
    "        self.scheduler.set_timesteps(num_inference_steps, **extra_set_kwargs)\n",
    "        timesteps, num_inference_steps = self.get_timesteps(num_inference_steps, strength)\n",
    "        latent_timestep = timesteps[:1]\n",
    "\n",
    "        # get the initial random noise unless the user supplied it\n",
    "        latents, meta = self.prepare_latents(1, 4, height or self.height, width or self.width, generator=generator, latents=latents, image=image, latent_timestep=latent_timestep)\n",
    "\n",
    "        # prepare extra kwargs for the scheduler step, since not all schedulers have the same signature\n",
    "        # eta (η) is only used with the DDIMScheduler, it will be ignored for other schedulers.\n",
    "        # eta corresponds to η in DDIM paper: https://arxiv.org/abs/2010.02502\n",
    "        # and should be between [0, 1]\n",
    "        accepts_eta = \"eta\" in set(inspect.signature(self.scheduler.step).parameters.keys())\n",
    "        extra_step_kwargs = {}\n",
    "        if accepts_eta:\n",
    "            extra_step_kwargs[\"eta\"] = eta\n",
    "\n",
    "        for i, t in enumerate(self.progress_bar(timesteps)):\n",
    "            # expand the latents if you are doing classifier free guidance\n",
    "            latent_model_input = np.concatenate([latents] * 2) if do_classifier_free_guidance else latents\n",
    "            latent_model_input = self.scheduler.scale_model_input(latent_model_input, t)\n",
    "\n",
    "            # predict the noise residual\n",
    "            noise_pred = self.unet([latent_model_input, t, text_embeddings, image_embeds])[0]\n",
    "            # perform guidance\n",
    "            if do_classifier_free_guidance:\n",
    "                noise_pred_uncond, noise_pred_text = noise_pred[0], noise_pred[1]\n",
    "                noise_pred = noise_pred_uncond + guidance_scale * (noise_pred_text - noise_pred_uncond)\n",
    "\n",
    "            # compute the previous noisy sample x_t -> x_t-1\n",
    "            latents = self.scheduler.step(torch.from_numpy(noise_pred), t, torch.from_numpy(latents), **extra_step_kwargs)[\"prev_sample\"].numpy()\n",
    "\n",
    "        # scale and decode the image latents with vae\n",
    "        image = self.vae_decoder(latents * (1 / 0.18215))[0]\n",
    "\n",
    "        image = self.postprocess_image(image, meta, output_type)\n",
    "        return StableDiffusionPipelineOutput(images=image, nsfw_content_detected=False)\n",
    "    \n",
    "    def _encode_prompt(self, prompt:Union[str, List[str]], num_images_per_prompt:int = 1, do_classifier_free_guidance:bool = True, negative_prompt:Union[str, List[str]] = None):\n",
    "        \"\"\"\n",
    "        Encodes the prompt into text encoder hidden states.\n",
    "\n",
    "        Parameters:\n",
    "            prompt (str or list(str)): prompt to be encoded\n",
    "            num_images_per_prompt (int): number of images that should be generated per prompt\n",
    "            do_classifier_free_guidance (bool): whether to use classifier free guidance or not\n",
    "            negative_prompt (str or list(str)): negative prompt to be encoded\n",
    "        Returns:\n",
    "            text_embeddings (np.ndarray): text encoder hidden states\n",
    "        \"\"\"\n",
    "        batch_size = len(prompt) if isinstance(prompt, list) else 1\n",
    "\n",
    "        # tokenize input prompts\n",
    "        text_inputs = self.tokenizer(\n",
    "            prompt,\n",
    "            padding=\"max_length\",\n",
    "            max_length=self.tokenizer.model_max_length,\n",
    "            truncation=True,\n",
    "            return_tensors=\"np\",\n",
    "        )\n",
    "        text_input_ids = text_inputs.input_ids\n",
    "\n",
    "        text_embeddings = self.text_encoder(\n",
    "            text_input_ids)[0]\n",
    "\n",
    "        # duplicate text embeddings for each generation per prompt\n",
    "        if num_images_per_prompt != 1:\n",
    "            bs_embed, seq_len, _ = text_embeddings.shape\n",
    "            text_embeddings = np.tile(\n",
    "                text_embeddings, (1, num_images_per_prompt, 1))\n",
    "            text_embeddings = np.reshape(\n",
    "                text_embeddings, (bs_embed * num_images_per_prompt, seq_len, -1))\n",
    "\n",
    "        # get unconditional embeddings for classifier free guidance\n",
    "        if do_classifier_free_guidance:\n",
    "            uncond_tokens: List[str]\n",
    "            max_length = text_input_ids.shape[-1]\n",
    "            if negative_prompt is None:\n",
    "                uncond_tokens = [\"\"] * batch_size\n",
    "            elif isinstance(negative_prompt, str):\n",
    "                uncond_tokens = [negative_prompt]\n",
    "            else:\n",
    "                uncond_tokens = negative_prompt\n",
    "            uncond_input = self.tokenizer(\n",
    "                uncond_tokens,\n",
    "                padding=\"max_length\",\n",
    "                max_length=max_length,\n",
    "                truncation=True,\n",
    "                return_tensors=\"np\",\n",
    "            )\n",
    "\n",
    "            uncond_embeddings = self.text_encoder(uncond_input.input_ids)[0]\n",
    "\n",
    "            # duplicate unconditional embeddings for each generation per prompt, using mps friendly method\n",
    "            seq_len = uncond_embeddings.shape[1]\n",
    "            uncond_embeddings = np.tile(uncond_embeddings, (1, num_images_per_prompt, 1))\n",
    "            uncond_embeddings = np.reshape(uncond_embeddings, (batch_size * num_images_per_prompt, seq_len, -1))\n",
    "\n",
    "            # For classifier-free guidance, we need to do two forward passes.\n",
    "            # Here we concatenate the unconditional and text embeddings into a single batch\n",
    "            # to avoid doing two forward passes\n",
    "            text_embeddings = np.concatenate([uncond_embeddings, text_embeddings])\n",
    "\n",
    "        return text_embeddings\n",
    "\n",
    "\n",
    "    def prepare_latents(self, batch_size, num_channels_latents, height, width, dtype=torch.float32, generator=None, latents=None, image=None, latent_timestep=None):\n",
    "        shape = (batch_size, num_channels_latents, height // self.vae_scale_factor, width // self.vae_scale_factor)\n",
    "        if isinstance(generator, list) and len(generator) != batch_size:\n",
    "            raise ValueError(\n",
    "                f\"You have passed a list of generators of length {len(generator)}, but requested an effective batch\"\n",
    "                f\" size of {batch_size}. Make sure the batch size matches the length of the generators.\"\n",
    "            )\n",
    "\n",
    "        if latents is None:\n",
    "            latents = randn_tensor(shape, generator=generator, dtype=dtype)\n",
    "\n",
    "        if image is None:\n",
    "            # scale the initial noise by the standard deviation required by the scheduler\n",
    "            latents = latents * self.scheduler.init_noise_sigma\n",
    "            return latents.numpy(), {}\n",
    "        input_image, meta = preprocess(image, height, width)\n",
    "        image_latents = self.vae_encoder(input_image)[0]\n",
    "        image_latents = image_latents * 0.18215\n",
    "        latents = self.scheduler.add_noise(torch.from_numpy(image_latents), latents, latent_timestep).numpy()\n",
    "        return latents, meta\n",
    "        \n",
    "\n",
    "    def postprocess_image(self, image:np.ndarray, meta:Dict, output_type:str = \"pil\"):\n",
    "        \"\"\"\n",
    "        Postprocessing for decoded image. Takes generated image decoded by VAE decoder, unpad it to initila image size (if required), \n",
    "        normalize and convert to [0, 255] pixels range. Optionally, convertes it from np.ndarray to PIL.Image format\n",
    "        \n",
    "        Parameters:\n",
    "            image (np.ndarray):\n",
    "                Generated image\n",
    "            meta (Dict):\n",
    "                Metadata obtained on latents preparing step, can be empty\n",
    "            output_type (str, *optional*, pil):\n",
    "                Output format for result, can be pil or numpy\n",
    "        Returns:\n",
    "            image (List of np.ndarray or PIL.Image.Image):\n",
    "                Postprocessed images\n",
    "        \"\"\"\n",
    "        if \"padding\" in meta:\n",
    "            pad = meta[\"padding\"]\n",
    "            (_, end_h), (_, end_w) = pad[1:3]\n",
    "            h, w = image.shape[2:]\n",
    "            unpad_h = h - end_h\n",
    "            unpad_w = w - end_w\n",
    "            image = image[:, :, :unpad_h, :unpad_w]\n",
    "        image = np.clip(image / 2 + 0.5, 0, 1)\n",
    "        image = np.transpose(image, (0, 2, 3, 1))\n",
    "        # 9. Convert to PIL\n",
    "        if output_type == \"pil\":\n",
    "            image = self.numpy_to_pil(image)\n",
    "            if \"src_height\" in meta:\n",
    "                orig_height, orig_width = meta[\"src_height\"], meta[\"src_width\"]\n",
    "                image = [img.resize((orig_width, orig_height),\n",
    "                                    PIL.Image.Resampling.LANCZOS) for img in image]\n",
    "        else:\n",
    "            if \"src_height\" in meta:\n",
    "                orig_height, orig_width = meta[\"src_height\"], meta[\"src_width\"]\n",
    "                image = [cv2.resize(img, (orig_width, orig_width))\n",
    "                         for img in image]\n",
    "        return image\n",
    "\n",
    "    def encode_image(self, image, num_images_per_prompt=1):\n",
    "        if not isinstance(image, torch.Tensor):\n",
    "            image = self.feature_extractor(image, return_tensors=\"pt\").pixel_values\n",
    "\n",
    "        image_embeds = self.image_encoder(image)[0]\n",
    "        if num_images_per_prompt > 1:\n",
    "            image_embeds = image_embeds.repeat_interleave(num_images_per_prompt, dim=0)\n",
    "\n",
    "        uncond_image_embeds = np.zeros(image_embeds.shape)\n",
    "        return image_embeds, uncond_image_embeds\n",
    "\n",
    "    def get_timesteps(self, num_inference_steps:int, strength:float):\n",
    "        \"\"\"\n",
    "        Helper function for getting scheduler timesteps for generation\n",
    "        In case of image-to-image generation, it updates number of steps according to strength\n",
    "        \n",
    "        Parameters:\n",
    "           num_inference_steps (int):\n",
    "              number of inference steps for generation\n",
    "           strength (float):\n",
    "               value between 0.0 and 1.0, that controls the amount of noise that is added to the input image. \n",
    "               Values that approach 1.0 allow for lots of variations but will also produce images that are not semantically consistent with the input.\n",
    "        \"\"\"\n",
    "        # get the original timestep using init_timestep\n",
    "        init_timestep = min(int(num_inference_steps * strength), num_inference_steps)\n",
    "\n",
    "        t_start = max(num_inference_steps - init_timestep, 0)\n",
    "        timesteps = self.scheduler.timesteps[t_start:]\n",
    "\n",
    "        return timesteps, num_inference_steps - t_start"
   ]
  },
  {
   "cell_type": "code",
   "execution_count": 34,
   "id": "d3a33e7a-1397-4170-bcfe-48809dd4d963",
   "metadata": {},
   "outputs": [
    {
     "data": {
      "application/vnd.jupyter.widget-view+json": {
       "model_id": "16013f0193674cb0a6713455ea2ee58a",
       "version_major": 2,
       "version_minor": 0
      },
      "text/plain": [
       "Dropdown(description='Device:', options=('CPU', 'GPU.0', 'GPU.1', 'AUTO'), value='CPU')"
      ]
     },
     "execution_count": 34,
     "metadata": {},
     "output_type": "execute_result"
    }
   ],
   "source": [
    "core = ov.Core()\n",
    "\n",
    "import ipywidgets as widgets\n",
    "\n",
    "device = widgets.Dropdown(\n",
    "    options=core.available_devices + [\"AUTO\"],\n",
    "    value=\"CPU\",\n",
    "    description=\"Device:\",\n",
    "    disabled=False,\n",
    ")\n",
    "\n",
    "device"
   ]
  },
  {
   "cell_type": "code",
   "execution_count": 35,
   "id": "e3cb7120-9b5b-44b2-907c-f6e02df00371",
   "metadata": {},
   "outputs": [
    {
     "name": "stderr",
     "output_type": "stream",
     "text": [
      "The config attributes {'skip_prk_steps': True} were passed to LCMScheduler, but are not expected and will be ignored. Please verify your scheduler_config.json configuration file.\n"
     ]
    }
   ],
   "source": [
    "from transformers import AutoTokenizer\n",
    "\n",
    "vae_decoder = core.compile_model(VAE_DECODER_PATH, device.value)\n",
    "vae_encoder = core.compile_model(VAE_ENCODER_PATH, device.value)\n",
    "text_encoder = core.compile_model(TEXT_ENCODER_PATH, device.value)\n",
    "image_encoder = core.compile_model(IMAGE_ENCODER_PATH, device.value)\n",
    "unet = core.compile_model(UNET_PATH, device.value)\n",
    "\n",
    "scheduler = LCMScheduler.from_pretrained(models_dir / \"scheduler\")\n",
    "tokenizer = AutoTokenizer.from_pretrained(models_dir / \"tokenizer\")\n",
    "feature_extractor =  CLIPImageProcessor.from_pretrained(models_dir / \"feature_extractor\")\n",
    "\n",
    "ov_pipe =  OVStableDiffusionPipeline(vae_decoder, text_encoder, tokenizer, unet, scheduler, image_encoder, feature_extractor, vae_encoder)"
   ]
  },
  {
   "cell_type": "code",
   "execution_count": 38,
   "id": "94a2679e-9801-49a3-895f-e8465a16fbc3",
   "metadata": {},
   "outputs": [
    {
     "data": {
      "application/vnd.jupyter.widget-view+json": {
       "model_id": "09021629908d4826a0e065edb2f1bb4a",
       "version_major": 2,
       "version_minor": 0
      },
      "text/plain": [
       "  0%|          | 0/4 [00:00<?, ?it/s]"
      ]
     },
     "metadata": {},
     "output_type": "display_data"
    }
   ],
   "source": [
    "generator = torch.Generator(device=\"cpu\").manual_seed(576)\n",
    "image = load_image(\"https://huggingface.co/datasets/huggingface/documentation-images/resolve/main/diffusers/load_neg_embed.png\")\n",
    "\n",
    "result = ov_pipe(prompt='best quality, high quality, wearing sunglasses', \n",
    "    ip_adapter_image=image,\n",
    "    gaidance_scale=1,\n",
    "    negative_prompt=\"monochrome, low-res, bad anatomy, worst quality, low quality\", \n",
    "    num_inference_steps=4,\n",
    "    generator=generator)"
   ]
  },
  {
   "cell_type": "code",
   "execution_count": 39,
   "id": "096ff4e4-19fe-42b0-aebb-daacbd6b5a24",
   "metadata": {},
   "outputs": [
    {
     "data": {
      "image/jpeg": "[encoded data removed]",
      "image/png": "[encoded data removed]",
      "text/plain": [
       "<PIL.Image.Image image mode=RGB size=512x512>"
      ]
     },
     "execution_count": 39,
     "metadata": {},
     "output_type": "execute_result"
    }
   ],
   "source": [
    "result.images[0]"
   ]
  },
  {
   "cell_type": "code",
   "execution_count": 70,
   "id": "90da4fbf-8368-4ef1-b917-e8853eeb03f9",
   "metadata": {},
   "outputs": [
    {
     "data": {
      "application/vnd.jupyter.widget-view+json": {
       "model_id": "fba50c782762457bb9d100d85171b38d",
       "version_major": 2,
       "version_minor": 0
      },
      "text/plain": [
       "  0%|          | 0/5 [00:00<?, ?it/s]"
      ]
     },
     "metadata": {},
     "output_type": "display_data"
    }
   ],
   "source": [
    "image = load_image(\"https://huggingface.co/datasets/YiYiXu/testing-images/resolve/main/vermeer.jpg\")\n",
    "ip_image = load_image(\"https://huggingface.co/datasets/YiYiXu/testing-images/resolve/main/river.png\")\n",
    "\n",
    "result = ov_pipe(prompt='best quality, high quality', \n",
    "    image = image,\n",
    "    ip_adapter_image=ip_image, gaidance_scale=1, generator=generator, strength=0.7, num_inference_steps=8)"
   ]
  },
  {
   "cell_type": "code",
   "execution_count": null,
   "id": "1e5fcdcd-23d5-473f-8429-aaa4ffbd2e3d",
   "metadata": {},
   "outputs": [],
   "source": [
    "result.images[0]"
   ]
  },
  {
   "cell_type": "code",
   "execution_count": null,
   "id": "8b81ba28-934e-46d2-b061-65888da9103a",
   "metadata": {},
   "outputs": [
    {
     "name": "stdout",
     "output_type": "stream",
     "text": [
      "Running on local URL:  http://127.0.0.1:7860\n",
      "\n",
      "To create a public link, set `share=True` in `launch()`.\n"
     ]
    },
    {
     "data": {
      "text/html": [
       "<div><iframe src=\"http://127.0.0.1:7860/\" width=\"100%\" height=\"500\" allow=\"autoplay; camera; microphone; clipboard-read; clipboard-write;\" frameborder=\"0\" allowfullscreen></iframe></div>"
      ],
      "text/plain": [
       "<IPython.core.display.HTML object>"
      ]
     },
     "metadata": {},
     "output_type": "display_data"
    },
    {
     "data": {
      "application/vnd.jupyter.widget-view+json": {
       "model_id": "1e95470905dd44c28aabec542b6343f0",
       "version_major": 2,
       "version_minor": 0
      },
      "text/plain": [
       "  0%|          | 0/4 [00:00<?, ?steps/s]"
      ]
     },
     "metadata": {},
     "output_type": "display_data"
    },
    {
     "data": {
      "application/vnd.jupyter.widget-view+json": {
       "model_id": "a26a9c4fc18546c78686752a655a4333",
       "version_major": 2,
       "version_minor": 0
      },
      "text/plain": [
       "  0%|          | 0/4 [00:00<?, ?steps/s]"
      ]
     },
     "metadata": {},
     "output_type": "display_data"
    },
    {
     "data": {
      "application/vnd.jupyter.widget-view+json": {
       "model_id": "822278e1b34541cb9933019eb7dd4c99",
       "version_major": 2,
       "version_minor": 0
      },
      "text/plain": [
       "  0%|          | 0/4 [00:00<?, ?steps/s]"
      ]
     },
     "metadata": {},
     "output_type": "display_data"
    },
    {
     "data": {
      "application/vnd.jupyter.widget-view+json": {
       "model_id": "9377ea0c7c934f23861264f3bde9d593",
       "version_major": 2,
       "version_minor": 0
      },
      "text/plain": [
       "  0%|          | 0/4 [00:00<?, ?steps/s]"
      ]
     },
     "metadata": {},
     "output_type": "display_data"
    },
    {
     "data": {
      "application/vnd.jupyter.widget-view+json": {
       "model_id": "ff8dd46be2a04abaaaadc58fb2e4e754",
       "version_major": 2,
       "version_minor": 0
      },
      "text/plain": [
       "  0%|          | 0/4 [00:00<?, ?steps/s]"
      ]
     },
     "metadata": {},
     "output_type": "display_data"
    },
    {
     "data": {
      "application/vnd.jupyter.widget-view+json": {
       "model_id": "52e238f20c4d47eba84a1fc899680643",
       "version_major": 2,
       "version_minor": 0
      },
      "text/plain": [
       "  0%|          | 0/4 [00:00<?, ?steps/s]"
      ]
     },
     "metadata": {},
     "output_type": "display_data"
    },
    {
     "data": {
      "application/vnd.jupyter.widget-view+json": {
       "model_id": "8216171974e244c4a0908f82b96f76fc",
       "version_major": 2,
       "version_minor": 0
      },
      "text/plain": [
       "  0%|          | 0/4 [00:00<?, ?steps/s]"
      ]
     },
     "metadata": {},
     "output_type": "display_data"
    },
    {
     "data": {
      "application/vnd.jupyter.widget-view+json": {
       "model_id": "b30dbde9a87c4931b52a11f127bc8134",
       "version_major": 2,
       "version_minor": 0
      },
      "text/plain": [
       "  0%|          | 0/4 [00:00<?, ?steps/s]"
      ]
     },
     "metadata": {},
     "output_type": "display_data"
    },
    {
     "data": {
      "application/vnd.jupyter.widget-view+json": {
       "model_id": "92421e17416b4051967fd0db2d923096",
       "version_major": 2,
       "version_minor": 0
      },
      "text/plain": [
       "  0%|          | 0/4 [00:00<?, ?steps/s]"
      ]
     },
     "metadata": {},
     "output_type": "display_data"
    },
    {
     "data": {
      "application/vnd.jupyter.widget-view+json": {
       "model_id": "d19c514ef5f341dfadda8f70fcf9bd45",
       "version_major": 2,
       "version_minor": 0
      },
      "text/plain": [
       "  0%|          | 0/4 [00:00<?, ?steps/s]"
      ]
     },
     "metadata": {},
     "output_type": "display_data"
    },
    {
     "data": {
      "application/vnd.jupyter.widget-view+json": {
       "model_id": "bfe4d09d55fc421b918e26e99395b6ef",
       "version_major": 2,
       "version_minor": 0
      },
      "text/plain": [
       "  0%|          | 0/4 [00:00<?, ?steps/s]"
      ]
     },
     "metadata": {},
     "output_type": "display_data"
    },
    {
     "data": {
      "application/vnd.jupyter.widget-view+json": {
       "model_id": "478ea7d91c0644caa4dcffda3340d164",
       "version_major": 2,
       "version_minor": 0
      },
      "text/plain": [
       "  0%|          | 0/4 [00:00<?, ?steps/s]"
      ]
     },
     "metadata": {},
     "output_type": "display_data"
    },
    {
     "data": {
      "application/vnd.jupyter.widget-view+json": {
       "model_id": "1020c802748c43ea814fc0a589362649",
       "version_major": 2,
       "version_minor": 0
      },
      "text/plain": [
       "  0%|          | 0/4 [00:00<?, ?steps/s]"
      ]
     },
     "metadata": {},
     "output_type": "display_data"
    },
    {
     "data": {
      "application/vnd.jupyter.widget-view+json": {
       "model_id": "e5aa08c799964ab1a6728eebba769a62",
       "version_major": 2,
       "version_minor": 0
      },
      "text/plain": [
       "  0%|          | 0/2 [00:00<?, ?steps/s]"
      ]
     },
     "metadata": {},
     "output_type": "display_data"
    },
    {
     "data": {
      "application/vnd.jupyter.widget-view+json": {
       "model_id": "35bdf0f09f65435a87f054f23d4aa9c0",
       "version_major": 2,
       "version_minor": 0
      },
      "text/plain": [
       "  0%|          | 0/2 [00:00<?, ?steps/s]"
      ]
     },
     "metadata": {},
     "output_type": "display_data"
    },
    {
     "data": {
      "application/vnd.jupyter.widget-view+json": {
       "model_id": "8fddeb9171924765820bee4aabe1cefc",
       "version_major": 2,
       "version_minor": 0
      },
      "text/plain": [
       "  0%|          | 0/3 [00:00<?, ?steps/s]"
      ]
     },
     "metadata": {},
     "output_type": "display_data"
    },
    {
     "data": {
      "application/vnd.jupyter.widget-view+json": {
       "model_id": "da40abaed5c64c6180e153f25b6fe7cf",
       "version_major": 2,
       "version_minor": 0
      },
      "text/plain": [
       "  0%|          | 0/2 [00:00<?, ?steps/s]"
      ]
     },
     "metadata": {},
     "output_type": "display_data"
    },
    {
     "data": {
      "application/vnd.jupyter.widget-view+json": {
       "model_id": "2bd6347a4b2f4a828f276cc2f8fa2377",
       "version_major": 2,
       "version_minor": 0
      },
      "text/plain": [
       "  0%|          | 0/5 [00:00<?, ?steps/s]"
      ]
     },
     "metadata": {},
     "output_type": "display_data"
    }
   ],
   "source": [
    "import gradio as gr\n",
    "\n",
    "def generate_from_text(positive_prompt, negative_prompt, ip_adapter_image, seed, num_steps, guidance_scale, _=gr.Progress(track_tqdm=True)):\n",
    "    generator = torch.Generator(device=\"cpu\").manual_seed(seed)\n",
    "    result = ov_pipe(positive_prompt, ip_adapter_image=ip_adapter_image, negative_prompt=negative_prompt, guidance_scale=guidance_scale, num_inference_steps=num_steps, generator=generator)\n",
    "    return result.images[0]\n",
    "\n",
    "\n",
    "def generate_from_image(img, ip_adapter_image, positive_prompt, negative_prompt, seed, num_steps, guidance_scale, strength, _=gr.Progress(track_tqdm=True)):\n",
    "    generator = torch.Generator(device=\"cpu\").manual_seed(seed)\n",
    "    result = ov_pipe(positive_prompt, image=img, ip_adapter_image=ip_adapter_image, negative_prompt=negative_prompt, num_inference_steps=num_steps, guidance_scale=guidance_scale, strength=strength, generator=generator)\n",
    "    return result.images[0]\n",
    "\n",
    "\n",
    "with gr.Blocks() as demo:\n",
    "    with gr.Tab(\"Text-to-Image generation\"):\n",
    "        with gr.Row():\n",
    "            with gr.Column():\n",
    "                text_input = gr.Textbox(lines=3, label=\"Positive prompt\")\n",
    "                neg_text_input = gr.Textbox(lines=3, label=\"Negative prompt\")\n",
    "                ip_adapter_input = gr.Image(label=\"IP-Adapter Image\", type=\"pil\")\n",
    "                with gr.Accordion(\"Advanced options\", open=False):\n",
    "                    seed_input = gr.Slider(0, 10000000, value=42, label=\"Seed\")\n",
    "                    steps_input = gr.Slider(1, 12, value=4, step=1, label=\"Steps\")\n",
    "                    guidance_scale_input = gr.Slider(\n",
    "                        label=\"Guidance scale\",\n",
    "                        minimum=0.1,\n",
    "                        maximum=2,\n",
    "                        step=0.1,\n",
    "                        value=0.5,\n",
    "                    )\n",
    "            out = gr.Image(label=\"Result\", type=\"pil\")\n",
    "        btn = gr.Button()\n",
    "        btn.click(generate_from_text, [text_input, neg_text_input, ip_adapter_input, seed_input, steps_input, guidance_scale_input], out)\n",
    "    with gr.Tab(\"Image-to-Image generation\"):\n",
    "        with gr.Row():\n",
    "            with gr.Column():\n",
    "                i2i_input = gr.Image(label=\"Image\", type=\"pil\")\n",
    "                i2i_ip_adapter_input = gr.Image(label=\"IP-Adapter Image\", type=\"pil\")\n",
    "                i2i_text_input = gr.Textbox(lines=3, label=\"Text\")\n",
    "                i2i_neg_text_input = gr.Textbox(lines=3, label=\"Negative prompt\")\n",
    "                with gr.Accordion(\"Advanced options\", open=False):\n",
    "                    i2i_seed_input = gr.Slider(0, 10000000, value=42, label=\"Seed\")\n",
    "                    i2i_steps_input = gr.Slider(1, 12, value=4, step=1, label=\"Steps\")\n",
    "                    strength_input = gr.Slider(0, 1, value=0.7, label=\"Strength\")\n",
    "                    i2i_guidance_scale = gr.Slider(\n",
    "                        label=\"Guidance scale\",\n",
    "                        minimum=0.1,\n",
    "                        maximum=2,\n",
    "                        step=0.1,\n",
    "                        value=0.5,\n",
    "                    )\n",
    "            i2i_out = gr.Image(label=\"Result\")\n",
    "        i2i_btn = gr.Button()\n",
    "        sample_i2i_text = \"amazing watercolor painting\"\n",
    "        i2i_btn.click(\n",
    "            generate_from_image,\n",
    "            [i2i_input, i2i_ip_adapter_input, i2i_text_input, i2i_neg_text_input, i2i_seed_input, i2i_steps_input, i2i_guidance_scale, strength_input],\n",
    "            i2i_out,\n",
    "        )\n",
    "try:\n",
    "    demo.queue().launch(debug=True)\n",
    "except Exception:\n",
    "    demo.queue().launch(share=True, debug=True)\n",
    "# if you are launching remotely, specify server_name and server_port\n",
    "# demo.launch(server_name='your server name', server_port='server port in int')\n",
    "# Read more in the docs: https://gradio.app/docs/"
   ]
  },
  {
   "cell_type": "code",
   "execution_count": null,
   "id": "c07abde1-b0f2-45e5-baee-9e4546e41e6d",
   "metadata": {},
   "outputs": [],
   "source": []
  }
 ],
 "metadata": {
  "kernelspec": {
   "display_name": "Python 3 (ipykernel)",
   "language": "python",
   "name": "python3"
  },
  "language_info": {
   "codemirror_mode": {
    "name": "ipython",
    "version": 3
   },
   "file_extension": ".py",
   "mimetype": "text/x-python",
   "name": "python",
   "nbconvert_exporter": "python",
   "pygments_lexer": "ipython3",
   "version": "3.8.10"
  },
  "widgets": {
   "application/vnd.jupyter.widget-state+json": {
    "state": {
     "002bfdbcae6047f0976294abcbcdbe69": {
      "model_module": "@jupyter-widgets/base",
      "model_module_version": "2.0.0",
      "model_name": "LayoutModel",
      "state": {}
     },
     "00d04978ea95458db3c9eb106d1fe2aa": {
      "model_module": "@jupyter-widgets/controls",
      "model_module_version": "2.0.0",
      "model_name": "HTMLModel",
      "state": {
       "layout": "IPY_MODEL_2f9f7f51f36e4562983b7712c5fdfff0",
       "style": "IPY_MODEL_1b3ab47e29524f66b97899a406b4ad0e",
       "value": " 0/4 [00:53&lt;?, ?steps/s]"
      }
     },
     "0255b870da5e4e6da128b5ec2e43b047": {
      "model_module": "@jupyter-widgets/controls",
      "model_module_version": "2.0.0",
      "model_name": "HTMLModel",
      "state": {
       "layout": "IPY_MODEL_8dcf2a862643474381329ff4b485e35c",
       "style": "IPY_MODEL_fbec69928a64494fa867948b365130c7",
       "value": " 3/3 [00:02&lt;00:00,  1.13it/s]"
      }
     },
     "02652bf52b604c2da87cf15113df6fda": {
      "model_module": "@jupyter-widgets/base",
      "model_module_version": "2.0.0",
      "model_name": "LayoutModel",
      "state": {}
     },
     "037422658b2945d981ae1e3a016d0a0f": {
      "model_module": "@jupyter-widgets/base",
      "model_module_version": "2.0.0",
      "model_name": "LayoutModel",
      "state": {}
     },
     "0457da48b3964ed5a63190c388fde850": {
      "model_module": "@jupyter-widgets/controls",
      "model_module_version": "2.0.0",
      "model_name": "FloatProgressModel",
      "state": {
       "bar_style": "danger",
       "layout": "IPY_MODEL_86e7634ffab14aab8cc4c60dc91c8dbd",
       "max": 4,
       "style": "IPY_MODEL_d036badfad7f4e648f049bc7f7d4089d"
      }
     },
     "04693a9d83f14c25b910fe2d77f0e3a7": {
      "model_module": "@jupyter-widgets/controls",
      "model_module_version": "2.0.0",
      "model_name": "FloatProgressModel",
      "state": {
       "bar_style": "danger",
       "layout": "IPY_MODEL_490c8140f845439eb42611cd69e25e2d",
       "max": 4,
       "style": "IPY_MODEL_049d6e76de7247199c4fd7fc2d0c64b5"
      }
     },
     "0483933700034f6c999bdf4a5e50314d": {
      "model_module": "@jupyter-widgets/controls",
      "model_module_version": "2.0.0",
      "model_name": "HTMLStyleModel",
      "state": {
       "description_width": "",
       "font_size": null,
       "text_color": null
      }
     },
     "049d6e76de7247199c4fd7fc2d0c64b5": {
      "model_module": "@jupyter-widgets/controls",
      "model_module_version": "2.0.0",
      "model_name": "ProgressStyleModel",
      "state": {
       "description_width": ""
      }
     },
     "04e113e9cad24f2bb42eb5dec8986c8b": {
      "model_module": "@jupyter-widgets/controls",
      "model_module_version": "2.0.0",
      "model_name": "HBoxModel",
      "state": {
       "children": [
        "IPY_MODEL_e24c558861e5437fa83fb000f1adaf00",
        "IPY_MODEL_26e30ad334104994b735f4e1efe89a46",
        "IPY_MODEL_a6be12c906814c4d96eea446dcd2ed36"
       ],
       "layout": "IPY_MODEL_cb3843edb3b0434eaaba748a31c8541e"
      }
     },
     "04f9aece3871476fb5e69c2b18312ae7": {
      "model_module": "@jupyter-widgets/controls",
      "model_module_version": "2.0.0",
      "model_name": "HTMLModel",
      "state": {
       "layout": "IPY_MODEL_a1952fa1deb1448387dd7147c7493be7",
       "style": "IPY_MODEL_d83da310483f42c9ac96729846a99ab0",
       "value": " 0/4 [01:06&lt;?, ?steps/s]"
      }
     },
     "0573be1f0b4b4490a05aa9f9f7d73b04": {
      "model_module": "@jupyter-widgets/controls",
      "model_module_version": "2.0.0",
      "model_name": "HTMLStyleModel",
      "state": {
       "description_width": "",
       "font_size": null,
       "text_color": null
      }
     },
     "058c339e87954a92a840f3e154e15f45": {
      "model_module": "@jupyter-widgets/base",
      "model_module_version": "2.0.0",
      "model_name": "LayoutModel",
      "state": {}
     },
     "0611412b7b16450686c43857f1dde1a5": {
      "model_module": "@jupyter-widgets/controls",
      "model_module_version": "2.0.0",
      "model_name": "HTMLStyleModel",
      "state": {
       "description_width": "",
       "font_size": null,
       "text_color": null
      }
     },
     "06dc4a99f5e84cc2bc5b026a78da73b6": {
      "model_module": "@jupyter-widgets/base",
      "model_module_version": "2.0.0",
      "model_name": "LayoutModel",
      "state": {}
     },
     "0713e13ade64463da5333d4fe10aefbf": {
      "model_module": "@jupyter-widgets/controls",
      "model_module_version": "2.0.0",
      "model_name": "HTMLModel",
      "state": {
       "layout": "IPY_MODEL_57e46c89a03d4c9c8abe039f88fb256c",
       "style": "IPY_MODEL_6eb77e101ce34eb18df75bcd3caba3c0",
       "value": "100%"
      }
     },
     "07169e513e78420b9a3082497d508726": {
      "model_module": "@jupyter-widgets/base",
      "model_module_version": "2.0.0",
      "model_name": "LayoutModel",
      "state": {}
     },
     "0761b45ae96b45f989c86b0416ca1f0c": {
      "model_module": "@jupyter-widgets/controls",
      "model_module_version": "2.0.0",
      "model_name": "DescriptionStyleModel",
      "state": {
       "description_width": ""
      }
     },
     "07b2eeee146b48238731386ff0698b29": {
      "model_module": "@jupyter-widgets/controls",
      "model_module_version": "2.0.0",
      "model_name": "ProgressStyleModel",
      "state": {
       "description_width": ""
      }
     },
     "07bb88890e1a487db6c5e69d70f50e84": {
      "model_module": "@jupyter-widgets/controls",
      "model_module_version": "2.0.0",
      "model_name": "HTMLModel",
      "state": {
       "layout": "IPY_MODEL_4a04661e18024f2fa92984c4d283803e",
       "style": "IPY_MODEL_61b7167f934a4a228add39879342f805",
       "value": "  0%"
      }
     },
     "08eb5748624444fe9f683e10309e98e4": {
      "model_module": "@jupyter-widgets/controls",
      "model_module_version": "2.0.0",
      "model_name": "HBoxModel",
      "state": {
       "children": [
        "IPY_MODEL_0713e13ade64463da5333d4fe10aefbf",
        "IPY_MODEL_43be4bb1427140769bad2cccc5fa259d",
        "IPY_MODEL_0e15cbb61c3b4afd81ad2ed607af0dac"
       ],
       "layout": "IPY_MODEL_8fd0ab51773f4afdbe1a8f9b2d545280"
      }
     },
     "08f7e136a80e4a5d825b48abbc55aeb8": {
      "model_module": "@jupyter-widgets/controls",
      "model_module_version": "2.0.0",
      "model_name": "ProgressStyleModel",
      "state": {
       "description_width": ""
      }
     },
     "09021629908d4826a0e065edb2f1bb4a": {
      "model_module": "@jupyter-widgets/controls",
      "model_module_version": "2.0.0",
      "model_name": "HBoxModel",
      "state": {
       "children": [
        "IPY_MODEL_bda8a49db92147639ad207dfb89c31a7",
        "IPY_MODEL_ccff8f765f73419490dce4a8001884d3",
        "IPY_MODEL_5a240456e4f748bbb729cce54b0fb63a"
       ],
       "layout": "IPY_MODEL_002bfdbcae6047f0976294abcbcdbe69"
      }
     },
     "097f9923273e47059e966337715889c0": {
      "model_module": "@jupyter-widgets/controls",
      "model_module_version": "2.0.0",
      "model_name": "HTMLStyleModel",
      "state": {
       "description_width": "",
       "font_size": null,
       "text_color": null
      }
     },
     "0a4d01031263484b980a188fb3e58203": {
      "model_module": "@jupyter-widgets/base",
      "model_module_version": "2.0.0",
      "model_name": "LayoutModel",
      "state": {}
     },
     "0b8e40a11bd144f8afccf40bb27f1a6b": {
      "model_module": "@jupyter-widgets/controls",
      "model_module_version": "2.0.0",
      "model_name": "FloatProgressModel",
      "state": {
       "bar_style": "danger",
       "layout": "IPY_MODEL_81ea2d0fb7ce4fd5a1f781f03e03c208",
       "max": 4,
       "style": "IPY_MODEL_22076a5460a646cbb18df630346d1b51"
      }
     },
     "0c4af846fa314cd5ad5a94b5007d60cd": {
      "model_module": "@jupyter-widgets/controls",
      "model_module_version": "2.0.0",
      "model_name": "HBoxModel",
      "state": {
       "children": [
        "IPY_MODEL_addcfeaec9214f85b27b5e0a2d161745",
        "IPY_MODEL_1c56dbf2f3c140f19f25f92297485481",
        "IPY_MODEL_29089ac7d6ec4b63a8a710a9fd521bc7"
       ],
       "layout": "IPY_MODEL_b60cf21f0d2f4e508e57a4c8421317f2"
      }
     },
     "0c4c667f8e8a4e6bb7a3a205fa291c17": {
      "model_module": "@jupyter-widgets/base",
      "model_module_version": "2.0.0",
      "model_name": "LayoutModel",
      "state": {}
     },
     "0e09cf15207c4812a5a9cf61501bebfa": {
      "model_module": "@jupyter-widgets/controls",
      "model_module_version": "2.0.0",
      "model_name": "FloatProgressModel",
      "state": {
       "bar_style": "success",
       "layout": "IPY_MODEL_347847026d7a465caaf7b6e33fdb994e",
       "max": 4,
       "style": "IPY_MODEL_b0515055ad48470b8f90d5a1a4dcbd5a",
       "value": 4
      }
     },
     "0e15cbb61c3b4afd81ad2ed607af0dac": {
      "model_module": "@jupyter-widgets/controls",
      "model_module_version": "2.0.0",
      "model_name": "HTMLModel",
      "state": {
       "layout": "IPY_MODEL_cbe9ac59b91444aeb607d4eb2ec24bc4",
       "style": "IPY_MODEL_7700e9c5f62a45888cb43175bf48ad47",
       "value": " 2/2 [00:01&lt;00:00,  1.12it/s]"
      }
     },
     "0fb17ab4196d4c8285d1219b82148916": {
      "model_module": "@jupyter-widgets/controls",
      "model_module_version": "2.0.0",
      "model_name": "HTMLStyleModel",
      "state": {
       "description_width": "",
       "font_size": null,
       "text_color": null
      }
     },
     "0fe0bb5b6db24f8fb3de5d86d7654880": {
      "model_module": "@jupyter-widgets/base",
      "model_module_version": "2.0.0",
      "model_name": "LayoutModel",
      "state": {}
     },
     "1020c802748c43ea814fc0a589362649": {
      "model_module": "@jupyter-widgets/controls",
      "model_module_version": "2.0.0",
      "model_name": "HBoxModel",
      "state": {
       "children": [
        "IPY_MODEL_07bb88890e1a487db6c5e69d70f50e84",
        "IPY_MODEL_108d133bf92a4c6f9584ea4bebf542d7",
        "IPY_MODEL_cde3b4427519474689b3665bfbf35d0c"
       ],
       "layout": "IPY_MODEL_49a584ab2f234b558a2e0fdf015b8527"
      }
     },
     "108d133bf92a4c6f9584ea4bebf542d7": {
      "model_module": "@jupyter-widgets/controls",
      "model_module_version": "2.0.0",
      "model_name": "FloatProgressModel",
      "state": {
       "bar_style": "danger",
       "layout": "IPY_MODEL_39f927716de74439ae4f36f5cae30931",
       "max": 4,
       "style": "IPY_MODEL_29f0c69d1c554a1d93e38fd3e0c32e6f"
      }
     },
     "10b6b1ea07644684a7feb4ee1d760e42": {
      "model_module": "@jupyter-widgets/base",
      "model_module_version": "2.0.0",
      "model_name": "LayoutModel",
      "state": {}
     },
     "10cb98ee7693442b80f77be1a9eaaeeb": {
      "model_module": "@jupyter-widgets/controls",
      "model_module_version": "2.0.0",
      "model_name": "HTMLStyleModel",
      "state": {
       "description_width": "",
       "font_size": null,
       "text_color": null
      }
     },
     "12717b409dcf4c6caea286f66a93f608": {
      "model_module": "@jupyter-widgets/controls",
      "model_module_version": "2.0.0",
      "model_name": "HTMLModel",
      "state": {
       "layout": "IPY_MODEL_59abf60153bc44368f3dedec857ff3ae",
       "style": "IPY_MODEL_10cb98ee7693442b80f77be1a9eaaeeb",
       "value": "  0%"
      }
     },
     "1367eea4dba941898b8109cfda58f9a9": {
      "model_module": "@jupyter-widgets/controls",
      "model_module_version": "2.0.0",
      "model_name": "HTMLStyleModel",
      "state": {
       "description_width": "",
       "font_size": null,
       "text_color": null
      }
     },
     "1428bbef42f244ed935becea68ac62f7": {
      "model_module": "@jupyter-widgets/controls",
      "model_module_version": "2.0.0",
      "model_name": "HTMLModel",
      "state": {
       "layout": "IPY_MODEL_2613eb052ebc4479b6a02a6e62712ef5",
       "style": "IPY_MODEL_9c916b7239e944e98d17841b0c38f054",
       "value": " 0/4 [06:36&lt;?, ?steps/s]"
      }
     },
     "15800b6146ec4a49812db826366ee7ed": {
      "model_module": "@jupyter-widgets/base",
      "model_module_version": "2.0.0",
      "model_name": "LayoutModel",
      "state": {}
     },
     "16013f0193674cb0a6713455ea2ee58a": {
      "model_module": "@jupyter-widgets/controls",
      "model_module_version": "2.0.0",
      "model_name": "DropdownModel",
      "state": {
       "_options_labels": [
        "CPU",
        "GPU.0",
        "GPU.1",
        "AUTO"
       ],
       "description": "Device:",
       "index": 0,
       "layout": "IPY_MODEL_a23b5cd3a5184647ab5fcf90504af5ed",
       "style": "IPY_MODEL_5ec5dc600c924b0a8e2baa6e450bf5b8"
      }
     },
     "1625d8b449a64dda92213d874a5f663c": {
      "model_module": "@jupyter-widgets/controls",
      "model_module_version": "2.0.0",
      "model_name": "HTMLStyleModel",
      "state": {
       "description_width": "",
       "font_size": null,
       "text_color": null
      }
     },
     "180805b804d1459eb1264218e0da3d44": {
      "model_module": "@jupyter-widgets/controls",
      "model_module_version": "2.0.0",
      "model_name": "ProgressStyleModel",
      "state": {
       "description_width": ""
      }
     },
     "18711ba9811e465d8e9c52ca6ef000cd": {
      "model_module": "@jupyter-widgets/controls",
      "model_module_version": "2.0.0",
      "model_name": "HTMLStyleModel",
      "state": {
       "description_width": "",
       "font_size": null,
       "text_color": null
      }
     },
     "18d6ad9bcb4845099038ef3e51fe8180": {
      "model_module": "@jupyter-widgets/base",
      "model_module_version": "2.0.0",
      "model_name": "LayoutModel",
      "state": {}
     },
     "19180edee37e407fbbbaeccedb7b4acc": {
      "model_module": "@jupyter-widgets/controls",
      "model_module_version": "2.0.0",
      "model_name": "HTMLStyleModel",
      "state": {
       "description_width": "",
       "font_size": null,
       "text_color": null
      }
     },
     "1991ed2021864b6cb052d9bd33b7b162": {
      "model_module": "@jupyter-widgets/controls",
      "model_module_version": "2.0.0",
      "model_name": "ProgressStyleModel",
      "state": {
       "description_width": ""
      }
     },
     "1a9426b3c68541b78cf3af8ba902d215": {
      "model_module": "@jupyter-widgets/controls",
      "model_module_version": "2.0.0",
      "model_name": "FloatProgressModel",
      "state": {
       "bar_style": "danger",
       "layout": "IPY_MODEL_d133321e08c14829858ec0782d2f945c",
       "max": 2,
       "style": "IPY_MODEL_542a0bbed2944179a47561c9f695dc77"
      }
     },
     "1b3ab47e29524f66b97899a406b4ad0e": {
      "model_module": "@jupyter-widgets/controls",
      "model_module_version": "2.0.0",
      "model_name": "HTMLStyleModel",
      "state": {
       "description_width": "",
       "font_size": null,
       "text_color": null
      }
     },
     "1bb6b632f2e740bb8ab099aaed79d911": {
      "model_module": "@jupyter-widgets/controls",
      "model_module_version": "2.0.0",
      "model_name": "HTMLStyleModel",
      "state": {
       "description_width": "",
       "font_size": null,
       "text_color": null
      }
     },
     "1c56dbf2f3c140f19f25f92297485481": {
      "model_module": "@jupyter-widgets/controls",
      "model_module_version": "2.0.0",
      "model_name": "FloatProgressModel",
      "state": {
       "bar_style": "success",
       "layout": "IPY_MODEL_98978fc4cc294daaa150dc122eb05127",
       "max": 3,
       "style": "IPY_MODEL_b75878daf8aa4a5f992c0aff67add88c",
       "value": 3
      }
     },
     "1e06573e3a924173b4b5d07858eb22eb": {
      "model_module": "@jupyter-widgets/base",
      "model_module_version": "2.0.0",
      "model_name": "LayoutModel",
      "state": {}
     },
     "1e95470905dd44c28aabec542b6343f0": {
      "model_module": "@jupyter-widgets/controls",
      "model_module_version": "2.0.0",
      "model_name": "HBoxModel",
      "state": {
       "children": [
        "IPY_MODEL_1faa4ee92e494ccba0b4aa67c5e928f9",
        "IPY_MODEL_7e5557d804f0498d95f9f181cca9ef1a",
        "IPY_MODEL_1428bbef42f244ed935becea68ac62f7"
       ],
       "layout": "IPY_MODEL_397339bb8d644c55ba87e2fc540cd242"
      }
     },
     "1e97441609014a169cc6e65120923190": {
      "model_module": "@jupyter-widgets/base",
      "model_module_version": "2.0.0",
      "model_name": "LayoutModel",
      "state": {}
     },
     "1f9a9b9d5b8a4c749445756dc3c72e8d": {
      "model_module": "@jupyter-widgets/base",
      "model_module_version": "2.0.0",
      "model_name": "LayoutModel",
      "state": {}
     },
     "1faa4ee92e494ccba0b4aa67c5e928f9": {
      "model_module": "@jupyter-widgets/controls",
      "model_module_version": "2.0.0",
      "model_name": "HTMLModel",
      "state": {
       "layout": "IPY_MODEL_5051599024cc4b27b221de513b99871b",
       "style": "IPY_MODEL_2ba3d323f3284c4abd5b1fe0fdb32ae0",
       "value": "  0%"
      }
     },
     "1fb4a7bf5a854abbb47bfd4c4b5f9472": {
      "model_module": "@jupyter-widgets/base",
      "model_module_version": "2.0.0",
      "model_name": "LayoutModel",
      "state": {}
     },
     "210bef9001714005ae5e5ebc7819b073": {
      "model_module": "@jupyter-widgets/base",
      "model_module_version": "2.0.0",
      "model_name": "LayoutModel",
      "state": {}
     },
     "21bd31479304425d9934fb950b7aaaea": {
      "model_module": "@jupyter-widgets/controls",
      "model_module_version": "2.0.0",
      "model_name": "HTMLModel",
      "state": {
       "layout": "IPY_MODEL_a24aed4961e1406bb936ad26177b92f2",
       "style": "IPY_MODEL_efdbc0e2d6d841b8949e30e534b8f0b7",
       "value": "  0%"
      }
     },
     "22076a5460a646cbb18df630346d1b51": {
      "model_module": "@jupyter-widgets/controls",
      "model_module_version": "2.0.0",
      "model_name": "ProgressStyleModel",
      "state": {
       "description_width": ""
      }
     },
     "234233ddd93d4b868d00521a6b9ff5a2": {
      "model_module": "@jupyter-widgets/controls",
      "model_module_version": "2.0.0",
      "model_name": "HTMLStyleModel",
      "state": {
       "description_width": "",
       "font_size": null,
       "text_color": null
      }
     },
     "243c4994ec784d8f9492a2a8c3da44e4": {
      "model_module": "@jupyter-widgets/base",
      "model_module_version": "2.0.0",
      "model_name": "LayoutModel",
      "state": {}
     },
     "24ee53c1d8b440619ccaf62d66b1cc13": {
      "model_module": "@jupyter-widgets/controls",
      "model_module_version": "2.0.0",
      "model_name": "HTMLModel",
      "state": {
       "layout": "IPY_MODEL_06dc4a99f5e84cc2bc5b026a78da73b6",
       "style": "IPY_MODEL_dd5b1d3dc3484fc591c1aef573bc51e9",
       "value": "  0%"
      }
     },
     "2531249a8f7f45f084124a481dad0848": {
      "model_module": "@jupyter-widgets/controls",
      "model_module_version": "2.0.0",
      "model_name": "HTMLStyleModel",
      "state": {
       "description_width": "",
       "font_size": null,
       "text_color": null
      }
     },
     "2613eb052ebc4479b6a02a6e62712ef5": {
      "model_module": "@jupyter-widgets/base",
      "model_module_version": "2.0.0",
      "model_name": "LayoutModel",
      "state": {}
     },
     "26e30ad334104994b735f4e1efe89a46": {
      "model_module": "@jupyter-widgets/controls",
      "model_module_version": "2.0.0",
      "model_name": "FloatProgressModel",
      "state": {
       "bar_style": "success",
       "layout": "IPY_MODEL_3cbbc592d97749d1aa3459d7b243c108",
       "max": 4,
       "style": "IPY_MODEL_1991ed2021864b6cb052d9bd33b7b162",
       "value": 4
      }
     },
     "27a8a6eefe02486182ad18c7ff20c0fb": {
      "model_module": "@jupyter-widgets/controls",
      "model_module_version": "2.0.0",
      "model_name": "HTMLModel",
      "state": {
       "layout": "IPY_MODEL_c8063fed642046c19b152b533ec5ec1e",
       "style": "IPY_MODEL_cf73a5de39ea46d690a926eb024edf5f",
       "value": "  0%"
      }
     },
     "28073f15c88c4cde87510cdabfb269e7": {
      "model_module": "@jupyter-widgets/base",
      "model_module_version": "2.0.0",
      "model_name": "LayoutModel",
      "state": {}
     },
     "29089ac7d6ec4b63a8a710a9fd521bc7": {
      "model_module": "@jupyter-widgets/controls",
      "model_module_version": "2.0.0",
      "model_name": "HTMLModel",
      "state": {
       "layout": "IPY_MODEL_8bdb41754c7c4302a23781274db9debb",
       "style": "IPY_MODEL_cd4e154eb93a44e0b821913ab8daf845",
       "value": " 3/3 [00:02&lt;00:00,  1.13it/s]"
      }
     },
     "29089e27d04e456587af35895851188f": {
      "model_module": "@jupyter-widgets/controls",
      "model_module_version": "2.0.0",
      "model_name": "HBoxModel",
      "state": {
       "children": [
        "IPY_MODEL_4970fe7c15f749f19662aee47fc62274",
        "IPY_MODEL_53322c7f16544732bfbd14e7ab723d1d",
        "IPY_MODEL_5ccad70c387c4cc496adce49f23c4431"
       ],
       "layout": "IPY_MODEL_d7a43b93af414513822a4bf184185850"
      }
     },
     "29b3541f0f3b42be9dd26f4e5ee991ce": {
      "model_module": "@jupyter-widgets/base",
      "model_module_version": "2.0.0",
      "model_name": "LayoutModel",
      "state": {}
     },
     "29d5ba35e3da42868d172705e91b6b73": {
      "model_module": "@jupyter-widgets/controls",
      "model_module_version": "2.0.0",
      "model_name": "FloatProgressModel",
      "state": {
       "bar_style": "danger",
       "layout": "IPY_MODEL_d3fcf90a772a48dab2be9de409b79a7a",
       "max": 4,
       "style": "IPY_MODEL_765964ef99d94540a13568c0ab50b305"
      }
     },
     "29f0c69d1c554a1d93e38fd3e0c32e6f": {
      "model_module": "@jupyter-widgets/controls",
      "model_module_version": "2.0.0",
      "model_name": "ProgressStyleModel",
      "state": {
       "description_width": ""
      }
     },
     "2a39bc50cbdb4e96b07d171d017ef78d": {
      "model_module": "@jupyter-widgets/controls",
      "model_module_version": "2.0.0",
      "model_name": "ProgressStyleModel",
      "state": {
       "description_width": ""
      }
     },
     "2adccb5e28424d65a0448843458f6062": {
      "model_module": "@jupyter-widgets/controls",
      "model_module_version": "2.0.0",
      "model_name": "HTMLStyleModel",
      "state": {
       "description_width": "",
       "font_size": null,
       "text_color": null
      }
     },
     "2ba3d323f3284c4abd5b1fe0fdb32ae0": {
      "model_module": "@jupyter-widgets/controls",
      "model_module_version": "2.0.0",
      "model_name": "HTMLStyleModel",
      "state": {
       "description_width": "",
       "font_size": null,
       "text_color": null
      }
     },
     "2bd6347a4b2f4a828f276cc2f8fa2377": {
      "model_module": "@jupyter-widgets/controls",
      "model_module_version": "2.0.0",
      "model_name": "HBoxModel",
      "state": {
       "children": [
        "IPY_MODEL_27a8a6eefe02486182ad18c7ff20c0fb",
        "IPY_MODEL_fbe16a7cb82c4d01afc4bf1576c79aa0",
        "IPY_MODEL_56765db38eee4ed4b8fe5658043f08ef"
       ],
       "layout": "IPY_MODEL_65581de5cb02483ca4345ba2c6b4cb62"
      }
     },
     "2c1bf386d2e8400ba9074bfd6e880dca": {
      "model_module": "@jupyter-widgets/base",
      "model_module_version": "2.0.0",
      "model_name": "LayoutModel",
      "state": {}
     },
     "2d6086f0be92462f8635085db84bc904": {
      "model_module": "@jupyter-widgets/controls",
      "model_module_version": "2.0.0",
      "model_name": "DescriptionStyleModel",
      "state": {
       "description_width": ""
      }
     },
     "2d6b9c329cf54d64930b7418a81f9509": {
      "model_module": "@jupyter-widgets/controls",
      "model_module_version": "2.0.0",
      "model_name": "ProgressStyleModel",
      "state": {
       "description_width": ""
      }
     },
     "2d870bcdc2d8472e90b1eaa178334ee9": {
      "model_module": "@jupyter-widgets/controls",
      "model_module_version": "2.0.0",
      "model_name": "HTMLModel",
      "state": {
       "layout": "IPY_MODEL_7052634715954d2b9713033ec6657b28",
       "style": "IPY_MODEL_aff487a06c714ab1919879a1dc66a104",
       "value": " 0/4 [03:15&lt;?, ?steps/s]"
      }
     },
     "2f3fc63051694b6bb65f8cc77aa6f394": {
      "model_module": "@jupyter-widgets/controls",
      "model_module_version": "2.0.0",
      "model_name": "HBoxModel",
      "state": {
       "children": [
        "IPY_MODEL_d3110ed4a8ed4131a6fc9d69ed29a435",
        "IPY_MODEL_7f3dc788f2164001b4f876d86ae2e9a5",
        "IPY_MODEL_d46e6a6b42c84660aaa7c61360ef39af"
       ],
       "layout": "IPY_MODEL_6c911816e379417da6bc4729bb0c085a"
      }
     },
     "2f87498d5e9b4f1a886905194cb83038": {
      "model_module": "@jupyter-widgets/base",
      "model_module_version": "2.0.0",
      "model_name": "LayoutModel",
      "state": {}
     },
     "2f9f7f51f36e4562983b7712c5fdfff0": {
      "model_module": "@jupyter-widgets/base",
      "model_module_version": "2.0.0",
      "model_name": "LayoutModel",
      "state": {}
     },
     "2fb15db766d247afbf39a0af00a024ec": {
      "model_module": "@jupyter-widgets/base",
      "model_module_version": "2.0.0",
      "model_name": "LayoutModel",
      "state": {}
     },
     "307a88e4bdbf46f891445aafd66fc32b": {
      "model_module": "@jupyter-widgets/base",
      "model_module_version": "2.0.0",
      "model_name": "LayoutModel",
      "state": {}
     },
     "30b5775e873c46a1a22dc08dba6067b8": {
      "model_module": "@jupyter-widgets/base",
      "model_module_version": "2.0.0",
      "model_name": "LayoutModel",
      "state": {}
     },
     "31cb243a37b14bdb8bd9f8992b97ee09": {
      "model_module": "@jupyter-widgets/base",
      "model_module_version": "2.0.0",
      "model_name": "LayoutModel",
      "state": {}
     },
     "3279acab42f94d6f8673b0b472ba7f34": {
      "model_module": "@jupyter-widgets/controls",
      "model_module_version": "2.0.0",
      "model_name": "HTMLModel",
      "state": {
       "layout": "IPY_MODEL_10b6b1ea07644684a7feb4ee1d760e42",
       "style": "IPY_MODEL_234233ddd93d4b868d00521a6b9ff5a2",
       "value": "  0%"
      }
     },
     "332f4b5536924180bf13b6cf003d6ef4": {
      "model_module": "@jupyter-widgets/controls",
      "model_module_version": "2.0.0",
      "model_name": "HTMLModel",
      "state": {
       "layout": "IPY_MODEL_f514d1b7b419445eaab536ab4ea912b6",
       "style": "IPY_MODEL_7ef51ce51cb54049b6c466128e3b7091",
       "value": "100%"
      }
     },
     "347847026d7a465caaf7b6e33fdb994e": {
      "model_module": "@jupyter-widgets/base",
      "model_module_version": "2.0.0",
      "model_name": "LayoutModel",
      "state": {}
     },
     "34bcca55ef144a3a91df5413120e3f51": {
      "model_module": "@jupyter-widgets/base",
      "model_module_version": "2.0.0",
      "model_name": "LayoutModel",
      "state": {}
     },
     "35ac0914e9fb4eaf9d54c7b6da4685a0": {
      "model_module": "@jupyter-widgets/controls",
      "model_module_version": "2.0.0",
      "model_name": "HTMLModel",
      "state": {
       "layout": "IPY_MODEL_ba0ce2ae90784b41b40a9cadf852b9b2",
       "style": "IPY_MODEL_a4bbcead9bb647a89a840aeccd582ead",
       "value": "  0%"
      }
     },
     "35bdf0f09f65435a87f054f23d4aa9c0": {
      "model_module": "@jupyter-widgets/controls",
      "model_module_version": "2.0.0",
      "model_name": "HBoxModel",
      "state": {
       "children": [
        "IPY_MODEL_862acb7f9dbd4e618757d462a7933810",
        "IPY_MODEL_87635dc3b2da4d709920fb0641ef76a7",
        "IPY_MODEL_9d087c6350054399b277b73e4f4ff51a"
       ],
       "layout": "IPY_MODEL_91ba849dbb5a43eca98ab0b7c8b199a6"
      }
     },
     "35f19872d46041c8b3a24a6303925fd0": {
      "model_module": "@jupyter-widgets/controls",
      "model_module_version": "2.0.0",
      "model_name": "HBoxModel",
      "state": {
       "children": [
        "IPY_MODEL_fb77b07e888a49e4a416720105d52930",
        "IPY_MODEL_3a4740a377094240b9c593d1c55864a9",
        "IPY_MODEL_845dce47fac54922906c03283b9809ab"
       ],
       "layout": "IPY_MODEL_d045bc6695e248189ad834a2fdd87980"
      }
     },
     "37ac3128dc8444dfa3c661561e573a0e": {
      "model_module": "@jupyter-widgets/controls",
      "model_module_version": "2.0.0",
      "model_name": "HTMLModel",
      "state": {
       "layout": "IPY_MODEL_ae1417b32143406eb7c4c7fb49cfd63b",
       "style": "IPY_MODEL_1367eea4dba941898b8109cfda58f9a9",
       "value": "  0%"
      }
     },
     "37b5ef98d77a40349839f41310564b16": {
      "model_module": "@jupyter-widgets/controls",
      "model_module_version": "2.0.0",
      "model_name": "HTMLModel",
      "state": {
       "layout": "IPY_MODEL_d2bc569bc81743619ea648cf6c491e82",
       "style": "IPY_MODEL_38ea8841f067482ba67b29e872f850ad",
       "value": "  0%"
      }
     },
     "38cc226f039b4f37a82d981f65f914a7": {
      "model_module": "@jupyter-widgets/base",
      "model_module_version": "2.0.0",
      "model_name": "LayoutModel",
      "state": {}
     },
     "38ea8841f067482ba67b29e872f850ad": {
      "model_module": "@jupyter-widgets/controls",
      "model_module_version": "2.0.0",
      "model_name": "HTMLStyleModel",
      "state": {
       "description_width": "",
       "font_size": null,
       "text_color": null
      }
     },
     "397339bb8d644c55ba87e2fc540cd242": {
      "model_module": "@jupyter-widgets/base",
      "model_module_version": "2.0.0",
      "model_name": "LayoutModel",
      "state": {}
     },
     "39f927716de74439ae4f36f5cae30931": {
      "model_module": "@jupyter-widgets/base",
      "model_module_version": "2.0.0",
      "model_name": "LayoutModel",
      "state": {}
     },
     "3a4740a377094240b9c593d1c55864a9": {
      "model_module": "@jupyter-widgets/controls",
      "model_module_version": "2.0.0",
      "model_name": "FloatProgressModel",
      "state": {
       "bar_style": "success",
       "layout": "IPY_MODEL_3ea3b45304874c45aa53d025da2a233d",
       "max": 3,
       "style": "IPY_MODEL_fbd33b293af34cf2acd8b61c64a6d079",
       "value": 3
      }
     },
     "3a86a870e96c49b090b5a5be90bf698a": {
      "model_module": "@jupyter-widgets/controls",
      "model_module_version": "2.0.0",
      "model_name": "HTMLStyleModel",
      "state": {
       "description_width": "",
       "font_size": null,
       "text_color": null
      }
     },
     "3b2ebeafc6b746d49ee4edfcb4cb4739": {
      "model_module": "@jupyter-widgets/controls",
      "model_module_version": "2.0.0",
      "model_name": "FloatProgressModel",
      "state": {
       "bar_style": "success",
       "layout": "IPY_MODEL_6cc60ca7f6c84be8941448d6d46e4928",
       "max": 9,
       "style": "IPY_MODEL_9c9e5f4729a4440bbb61b900b893ba52",
       "value": 9
      }
     },
     "3bef52ea24e441c8a0f47936127dce9d": {
      "model_module": "@jupyter-widgets/controls",
      "model_module_version": "2.0.0",
      "model_name": "FloatProgressModel",
      "state": {
       "bar_style": "danger",
       "layout": "IPY_MODEL_31cb243a37b14bdb8bd9f8992b97ee09",
       "max": 4,
       "style": "IPY_MODEL_ec762bfa03e44e2fadb3480f62240af7"
      }
     },
     "3cbbc592d97749d1aa3459d7b243c108": {
      "model_module": "@jupyter-widgets/base",
      "model_module_version": "2.0.0",
      "model_name": "LayoutModel",
      "state": {}
     },
     "3d88c7a011f04af9a4cb81d775313a52": {
      "model_module": "@jupyter-widgets/controls",
      "model_module_version": "2.0.0",
      "model_name": "DescriptionStyleModel",
      "state": {
       "description_width": ""
      }
     },
     "3dd60875ac8149619621907167cad6ff": {
      "model_module": "@jupyter-widgets/controls",
      "model_module_version": "2.0.0",
      "model_name": "HBoxModel",
      "state": {
       "children": [
        "IPY_MODEL_467e639311c84e8aa7d88fe8d9c118d8",
        "IPY_MODEL_86f6eb26116e4f3b88210317b01b0b71",
        "IPY_MODEL_6d9d4a9b9a564b8a945280fdc81246d0"
       ],
       "layout": "IPY_MODEL_4372e6946a1a4fac8b0e3dd9fb5e8c50"
      }
     },
     "3de9990c64084e078f9fedd9ec81367d": {
      "model_module": "@jupyter-widgets/controls",
      "model_module_version": "2.0.0",
      "model_name": "DropdownModel",
      "state": {
       "_options_labels": [
        "CPU",
        "GPU.0",
        "GPU.1",
        "AUTO"
       ],
       "description": "Device:",
       "index": 0,
       "layout": "IPY_MODEL_b5fba0bb49904d7296c9946841638301",
       "style": "IPY_MODEL_66c36fe6533a41df8d306a2593f6c372"
      }
     },
     "3e8bcf7a43df44d696a8811ed4bb678c": {
      "model_module": "@jupyter-widgets/controls",
      "model_module_version": "2.0.0",
      "model_name": "HTMLModel",
      "state": {
       "layout": "IPY_MODEL_50b9887b13704463aacd0d5a19092889",
       "style": "IPY_MODEL_8e734cd2155049a694f24ee21267e595",
       "value": " 4/4 [00:03&lt;00:00,  1.14it/s]"
      }
     },
     "3e9e9d06d9984807a8c0d3798c68f26e": {
      "model_module": "@jupyter-widgets/controls",
      "model_module_version": "2.0.0",
      "model_name": "HTMLStyleModel",
      "state": {
       "description_width": "",
       "font_size": null,
       "text_color": null
      }
     },
     "3ea3b45304874c45aa53d025da2a233d": {
      "model_module": "@jupyter-widgets/base",
      "model_module_version": "2.0.0",
      "model_name": "LayoutModel",
      "state": {}
     },
     "3f7887f3070e4e45a4b16a6ed7ab8c0b": {
      "model_module": "@jupyter-widgets/controls",
      "model_module_version": "2.0.0",
      "model_name": "HTMLStyleModel",
      "state": {
       "description_width": "",
       "font_size": null,
       "text_color": null
      }
     },
     "42b031edfbc849a1b8154a89266b1e82": {
      "model_module": "@jupyter-widgets/controls",
      "model_module_version": "2.0.0",
      "model_name": "ProgressStyleModel",
      "state": {
       "description_width": ""
      }
     },
     "4323c1be6ffb4303b05d04fe395f23ee": {
      "model_module": "@jupyter-widgets/controls",
      "model_module_version": "2.0.0",
      "model_name": "HTMLModel",
      "state": {
       "layout": "IPY_MODEL_07169e513e78420b9a3082497d508726",
       "style": "IPY_MODEL_e677b574c2b243d58e2b11b51bfd468d",
       "value": "  0%"
      }
     },
     "4372e6946a1a4fac8b0e3dd9fb5e8c50": {
      "model_module": "@jupyter-widgets/base",
      "model_module_version": "2.0.0",
      "model_name": "LayoutModel",
      "state": {}
     },
     "43be4bb1427140769bad2cccc5fa259d": {
      "model_module": "@jupyter-widgets/controls",
      "model_module_version": "2.0.0",
      "model_name": "FloatProgressModel",
      "state": {
       "bar_style": "success",
       "layout": "IPY_MODEL_e7a8f303191b45f7af3984a89772f9af",
       "max": 2,
       "style": "IPY_MODEL_180805b804d1459eb1264218e0da3d44",
       "value": 2
      }
     },
     "43fff26097f3494e8bbac8f587bb6100": {
      "model_module": "@jupyter-widgets/controls",
      "model_module_version": "2.0.0",
      "model_name": "HTMLStyleModel",
      "state": {
       "description_width": "",
       "font_size": null,
       "text_color": null
      }
     },
     "44b30f75538440e69aac7c87f7764f98": {
      "model_module": "@jupyter-widgets/controls",
      "model_module_version": "2.0.0",
      "model_name": "HTMLModel",
      "state": {
       "layout": "IPY_MODEL_737d49cce018422f8dfd407027a7a024",
       "style": "IPY_MODEL_0fb17ab4196d4c8285d1219b82148916",
       "value": "  0%"
      }
     },
     "44dde97fb99049f6ae165469c61c8d32": {
      "model_module": "@jupyter-widgets/base",
      "model_module_version": "2.0.0",
      "model_name": "LayoutModel",
      "state": {}
     },
     "45a62e012a4b40ad8025dff101a52b9f": {
      "model_module": "@jupyter-widgets/base",
      "model_module_version": "2.0.0",
      "model_name": "LayoutModel",
      "state": {}
     },
     "463680ca2f0f4a87903789a760c3cc79": {
      "model_module": "@jupyter-widgets/base",
      "model_module_version": "2.0.0",
      "model_name": "LayoutModel",
      "state": {}
     },
     "467e639311c84e8aa7d88fe8d9c118d8": {
      "model_module": "@jupyter-widgets/controls",
      "model_module_version": "2.0.0",
      "model_name": "HTMLModel",
      "state": {
       "layout": "IPY_MODEL_243c4994ec784d8f9492a2a8c3da44e4",
       "style": "IPY_MODEL_8542c083517947ba8daf76c5b06209eb",
       "value": "100%"
      }
     },
     "478ea7d91c0644caa4dcffda3340d164": {
      "model_module": "@jupyter-widgets/controls",
      "model_module_version": "2.0.0",
      "model_name": "HBoxModel",
      "state": {
       "children": [
        "IPY_MODEL_37ac3128dc8444dfa3c661561e573a0e",
        "IPY_MODEL_a580fbf27e534824b9ee1dca4b6518ad",
        "IPY_MODEL_d06aa9d133774899ad82dcc0c70a6eaa"
       ],
       "layout": "IPY_MODEL_4f440d0a3ad849698bc73e1a23b7f45e"
      }
     },
     "4805519850a6432698f20ced708347d3": {
      "model_module": "@jupyter-widgets/controls",
      "model_module_version": "2.0.0",
      "model_name": "HTMLStyleModel",
      "state": {
       "description_width": "",
       "font_size": null,
       "text_color": null
      }
     },
     "48507500263e470dae13f0669b066af6": {
      "model_module": "@jupyter-widgets/controls",
      "model_module_version": "2.0.0",
      "model_name": "HBoxModel",
      "state": {
       "children": [
        "IPY_MODEL_be4b01470a1143dc9a5b947026bdf4d9",
        "IPY_MODEL_889eec70e06e4d29aee436c52d846967",
        "IPY_MODEL_fd1384a0e6df494d938a9dea2078bde6"
       ],
       "layout": "IPY_MODEL_1fb4a7bf5a854abbb47bfd4c4b5f9472"
      }
     },
     "485fdebd173d460bb0762344bd4c19cf": {
      "model_module": "@jupyter-widgets/controls",
      "model_module_version": "2.0.0",
      "model_name": "HTMLStyleModel",
      "state": {
       "description_width": "",
       "font_size": null,
       "text_color": null
      }
     },
     "48878afa0aba4c678239434bc6a1c797": {
      "model_module": "@jupyter-widgets/controls",
      "model_module_version": "2.0.0",
      "model_name": "HTMLStyleModel",
      "state": {
       "description_width": "",
       "font_size": null,
       "text_color": null
      }
     },
     "48c2053d6f1a4a298579a7a38c174757": {
      "model_module": "@jupyter-widgets/base",
      "model_module_version": "2.0.0",
      "model_name": "LayoutModel",
      "state": {}
     },
     "490c8140f845439eb42611cd69e25e2d": {
      "model_module": "@jupyter-widgets/base",
      "model_module_version": "2.0.0",
      "model_name": "LayoutModel",
      "state": {}
     },
     "4970fe7c15f749f19662aee47fc62274": {
      "model_module": "@jupyter-widgets/controls",
      "model_module_version": "2.0.0",
      "model_name": "HTMLModel",
      "state": {
       "layout": "IPY_MODEL_210bef9001714005ae5e5ebc7819b073",
       "style": "IPY_MODEL_3a86a870e96c49b090b5a5be90bf698a",
       "value": "100%"
      }
     },
     "49a584ab2f234b558a2e0fdf015b8527": {
      "model_module": "@jupyter-widgets/base",
      "model_module_version": "2.0.0",
      "model_name": "LayoutModel",
      "state": {}
     },
     "4a04661e18024f2fa92984c4d283803e": {
      "model_module": "@jupyter-widgets/base",
      "model_module_version": "2.0.0",
      "model_name": "LayoutModel",
      "state": {}
     },
     "4af4057e4ca64af8a7e4cbf0cefca8a8": {
      "model_module": "@jupyter-widgets/controls",
      "model_module_version": "2.0.0",
      "model_name": "HTMLStyleModel",
      "state": {
       "description_width": "",
       "font_size": null,
       "text_color": null
      }
     },
     "4b40ddbb3602439c8514381d3171004a": {
      "model_module": "@jupyter-widgets/controls",
      "model_module_version": "2.0.0",
      "model_name": "HTMLStyleModel",
      "state": {
       "description_width": "",
       "font_size": null,
       "text_color": null
      }
     },
     "4b9e47b335bb47e7a355682188903d31": {
      "model_module": "@jupyter-widgets/controls",
      "model_module_version": "2.0.0",
      "model_name": "HTMLStyleModel",
      "state": {
       "description_width": "",
       "font_size": null,
       "text_color": null
      }
     },
     "4cac2d169d5b41e5b2a350e79344b35b": {
      "model_module": "@jupyter-widgets/controls",
      "model_module_version": "2.0.0",
      "model_name": "ProgressStyleModel",
      "state": {
       "description_width": ""
      }
     },
     "4e0c90489579445bba8e3fd437f07dd6": {
      "model_module": "@jupyter-widgets/controls",
      "model_module_version": "2.0.0",
      "model_name": "HTMLStyleModel",
      "state": {
       "description_width": "",
       "font_size": null,
       "text_color": null
      }
     },
     "4f03081b0cf443f58d8288a9a40bd990": {
      "model_module": "@jupyter-widgets/controls",
      "model_module_version": "2.0.0",
      "model_name": "ProgressStyleModel",
      "state": {
       "description_width": ""
      }
     },
     "4f440d0a3ad849698bc73e1a23b7f45e": {
      "model_module": "@jupyter-widgets/base",
      "model_module_version": "2.0.0",
      "model_name": "LayoutModel",
      "state": {}
     },
     "4fbc0a65c04447f096be1b457760e0da": {
      "model_module": "@jupyter-widgets/base",
      "model_module_version": "2.0.0",
      "model_name": "LayoutModel",
      "state": {}
     },
     "5051599024cc4b27b221de513b99871b": {
      "model_module": "@jupyter-widgets/base",
      "model_module_version": "2.0.0",
      "model_name": "LayoutModel",
      "state": {}
     },
     "50b9887b13704463aacd0d5a19092889": {
      "model_module": "@jupyter-widgets/base",
      "model_module_version": "2.0.0",
      "model_name": "LayoutModel",
      "state": {}
     },
     "50feb9ddfa754832ae0fc583c3c54d44": {
      "model_module": "@jupyter-widgets/base",
      "model_module_version": "2.0.0",
      "model_name": "LayoutModel",
      "state": {}
     },
     "5101160eca384b4e8490e01f024b1fa3": {
      "model_module": "@jupyter-widgets/controls",
      "model_module_version": "2.0.0",
      "model_name": "HTMLStyleModel",
      "state": {
       "description_width": "",
       "font_size": null,
       "text_color": null
      }
     },
     "516f22736e7247dfa164ac0cf8c4fbfc": {
      "model_module": "@jupyter-widgets/controls",
      "model_module_version": "2.0.0",
      "model_name": "ProgressStyleModel",
      "state": {
       "description_width": ""
      }
     },
     "52e238f20c4d47eba84a1fc899680643": {
      "model_module": "@jupyter-widgets/controls",
      "model_module_version": "2.0.0",
      "model_name": "HBoxModel",
      "state": {
       "children": [
        "IPY_MODEL_37b5ef98d77a40349839f41310564b16",
        "IPY_MODEL_a90d85e211434254859016556e22f951",
        "IPY_MODEL_7fa09d7b32ee437ab3ec095d63886139"
       ],
       "layout": "IPY_MODEL_8405dd13e3bd44e583d7de90c6e8620b"
      }
     },
     "53322c7f16544732bfbd14e7ab723d1d": {
      "model_module": "@jupyter-widgets/controls",
      "model_module_version": "2.0.0",
      "model_name": "FloatProgressModel",
      "state": {
       "bar_style": "success",
       "layout": "IPY_MODEL_9651cf6baa2243328af076c8938343a5",
       "max": 4,
       "style": "IPY_MODEL_b7d3879426bb4a6c927d20e5ff9a606a",
       "value": 4
      }
     },
     "542a0bbed2944179a47561c9f695dc77": {
      "model_module": "@jupyter-widgets/controls",
      "model_module_version": "2.0.0",
      "model_name": "ProgressStyleModel",
      "state": {
       "description_width": ""
      }
     },
     "55e55ff91c13445ab7ebb9495768467b": {
      "model_module": "@jupyter-widgets/base",
      "model_module_version": "2.0.0",
      "model_name": "LayoutModel",
      "state": {}
     },
     "56765db38eee4ed4b8fe5658043f08ef": {
      "model_module": "@jupyter-widgets/controls",
      "model_module_version": "2.0.0",
      "model_name": "HTMLModel",
      "state": {
       "layout": "IPY_MODEL_89e9401d620f4423b20a10d05199ea15",
       "style": "IPY_MODEL_43fff26097f3494e8bbac8f587bb6100",
       "value": " 0/5 [00:00&lt;?, ?steps/s]"
      }
     },
     "57e46c89a03d4c9c8abe039f88fb256c": {
      "model_module": "@jupyter-widgets/base",
      "model_module_version": "2.0.0",
      "model_name": "LayoutModel",
      "state": {}
     },
     "58407b913f0a4619b479c1b5ca7f352d": {
      "model_module": "@jupyter-widgets/controls",
      "model_module_version": "2.0.0",
      "model_name": "HTMLStyleModel",
      "state": {
       "description_width": "",
       "font_size": null,
       "text_color": null
      }
     },
     "58757188f04a417f8150706cf48792b2": {
      "model_module": "@jupyter-widgets/controls",
      "model_module_version": "2.0.0",
      "model_name": "HTMLModel",
      "state": {
       "layout": "IPY_MODEL_ed2a144c6b44467a867ccb82a0cc9f35",
       "style": "IPY_MODEL_6dc95a82ee8447098b3dd5be9e5f9e00",
       "value": " 4/4 [00:03&lt;00:00,  1.03it/s]"
      }
     },
     "590c5a9e6afd4cf0a3ecb52be5f489fc": {
      "model_module": "@jupyter-widgets/base",
      "model_module_version": "2.0.0",
      "model_name": "LayoutModel",
      "state": {}
     },
     "590d6725144c4a3ab4520354ff4a36df": {
      "model_module": "@jupyter-widgets/controls",
      "model_module_version": "2.0.0",
      "model_name": "FloatProgressModel",
      "state": {
       "bar_style": "danger",
       "layout": "IPY_MODEL_0a4d01031263484b980a188fb3e58203",
       "max": 4,
       "style": "IPY_MODEL_2d6b9c329cf54d64930b7418a81f9509"
      }
     },
     "59abf60153bc44368f3dedec857ff3ae": {
      "model_module": "@jupyter-widgets/base",
      "model_module_version": "2.0.0",
      "model_name": "LayoutModel",
      "state": {}
     },
     "59b312bc53b04e6e8d4003db7d4e58c3": {
      "model_module": "@jupyter-widgets/base",
      "model_module_version": "2.0.0",
      "model_name": "LayoutModel",
      "state": {}
     },
     "5a240456e4f748bbb729cce54b0fb63a": {
      "model_module": "@jupyter-widgets/controls",
      "model_module_version": "2.0.0",
      "model_name": "HTMLModel",
      "state": {
       "layout": "IPY_MODEL_59b312bc53b04e6e8d4003db7d4e58c3",
       "style": "IPY_MODEL_ac5fd8976ea84d86ab02a64548c98884",
       "value": " 4/4 [00:03&lt;00:00,  1.13it/s]"
      }
     },
     "5a71486a06cb476cbcd05aa8744db5ac": {
      "model_module": "@jupyter-widgets/base",
      "model_module_version": "2.0.0",
      "model_name": "LayoutModel",
      "state": {}
     },
     "5b3c3fa0dbb044ccb10a2ab68543f50e": {
      "model_module": "@jupyter-widgets/base",
      "model_module_version": "2.0.0",
      "model_name": "LayoutModel",
      "state": {}
     },
     "5be7cd38d629464199ff9365910bb1ba": {
      "model_module": "@jupyter-widgets/controls",
      "model_module_version": "2.0.0",
      "model_name": "HBoxModel",
      "state": {
       "children": [
        "IPY_MODEL_332f4b5536924180bf13b6cf003d6ef4",
        "IPY_MODEL_3b2ebeafc6b746d49ee4edfcb4cb4739",
        "IPY_MODEL_b6181c0a0f91477087adc5aa42282966"
       ],
       "layout": "IPY_MODEL_2fb15db766d247afbf39a0af00a024ec"
      }
     },
     "5ccad70c387c4cc496adce49f23c4431": {
      "model_module": "@jupyter-widgets/controls",
      "model_module_version": "2.0.0",
      "model_name": "HTMLModel",
      "state": {
       "layout": "IPY_MODEL_1e97441609014a169cc6e65120923190",
       "style": "IPY_MODEL_097f9923273e47059e966337715889c0",
       "value": " 4/4 [00:03&lt;00:00,  1.14it/s]"
      }
     },
     "5d5dfd3e9434475c84aaf06c660cce1d": {
      "model_module": "@jupyter-widgets/controls",
      "model_module_version": "2.0.0",
      "model_name": "ProgressStyleModel",
      "state": {
       "description_width": ""
      }
     },
     "5ec5dc600c924b0a8e2baa6e450bf5b8": {
      "model_module": "@jupyter-widgets/controls",
      "model_module_version": "2.0.0",
      "model_name": "DescriptionStyleModel",
      "state": {
       "description_width": ""
      }
     },
     "608b8f95d18a4335b3d625b28080b6dc": {
      "model_module": "@jupyter-widgets/controls",
      "model_module_version": "2.0.0",
      "model_name": "HTMLModel",
      "state": {
       "layout": "IPY_MODEL_ed869480ce1441289d48788b88cc144f",
       "style": "IPY_MODEL_fb1c48e0864c4287a17e3912aa684d8f",
       "value": "  0%"
      }
     },
     "60b2efa6e2ee4ba8b079d9483e1f7842": {
      "model_module": "@jupyter-widgets/controls",
      "model_module_version": "2.0.0",
      "model_name": "HBoxModel",
      "state": {
       "children": [
        "IPY_MODEL_768a46757df04179b2fb4871fe642977",
        "IPY_MODEL_63aa2ced2fd44526bf58bb1db725d562",
        "IPY_MODEL_3e8bcf7a43df44d696a8811ed4bb678c"
       ],
       "layout": "IPY_MODEL_abe95278efcb4daca791daf55b45c7c7"
      }
     },
     "615ba4495f6f4fff99461ec73ce90d0e": {
      "model_module": "@jupyter-widgets/base",
      "model_module_version": "2.0.0",
      "model_name": "LayoutModel",
      "state": {}
     },
     "61abdf04a8bf48358ead245bd5fc4ec6": {
      "model_module": "@jupyter-widgets/base",
      "model_module_version": "2.0.0",
      "model_name": "LayoutModel",
      "state": {}
     },
     "61b7167f934a4a228add39879342f805": {
      "model_module": "@jupyter-widgets/controls",
      "model_module_version": "2.0.0",
      "model_name": "HTMLStyleModel",
      "state": {
       "description_width": "",
       "font_size": null,
       "text_color": null
      }
     },
     "63aa2ced2fd44526bf58bb1db725d562": {
      "model_module": "@jupyter-widgets/controls",
      "model_module_version": "2.0.0",
      "model_name": "FloatProgressModel",
      "state": {
       "bar_style": "success",
       "layout": "IPY_MODEL_7f96b807c4534e39aa69706c965510cf",
       "max": 4,
       "style": "IPY_MODEL_5d5dfd3e9434475c84aaf06c660cce1d",
       "value": 4
      }
     },
     "65581de5cb02483ca4345ba2c6b4cb62": {
      "model_module": "@jupyter-widgets/base",
      "model_module_version": "2.0.0",
      "model_name": "LayoutModel",
      "state": {}
     },
     "6612bcbd8d21465b9774d010164408d4": {
      "model_module": "@jupyter-widgets/controls",
      "model_module_version": "2.0.0",
      "model_name": "ProgressStyleModel",
      "state": {
       "description_width": ""
      }
     },
     "66655e041fab4d8d9c7b617e8c64ec99": {
      "model_module": "@jupyter-widgets/controls",
      "model_module_version": "2.0.0",
      "model_name": "HTMLModel",
      "state": {
       "layout": "IPY_MODEL_058c339e87954a92a840f3e154e15f45",
       "style": "IPY_MODEL_f0c8d059fc9d42f18961aaae74981526",
       "value": " 0/2 [00:27&lt;?, ?steps/s]"
      }
     },
     "66c36fe6533a41df8d306a2593f6c372": {
      "model_module": "@jupyter-widgets/controls",
      "model_module_version": "2.0.0",
      "model_name": "DescriptionStyleModel",
      "state": {
       "description_width": ""
      }
     },
     "6883393fad6e49fdaae9a3f0516b3110": {
      "model_module": "@jupyter-widgets/controls",
      "model_module_version": "2.0.0",
      "model_name": "HTMLModel",
      "state": {
       "layout": "IPY_MODEL_db78499408584e4fbe622f4aded3f7eb",
       "style": "IPY_MODEL_2adccb5e28424d65a0448843458f6062",
       "value": " 0/4 [00:35&lt;?, ?steps/s]"
      }
     },
     "698b3d72009a4b728563e0eebf3840bd": {
      "model_module": "@jupyter-widgets/base",
      "model_module_version": "2.0.0",
      "model_name": "LayoutModel",
      "state": {}
     },
     "698c82ac89ed4fbd8fa8e804502ad702": {
      "model_module": "@jupyter-widgets/base",
      "model_module_version": "2.0.0",
      "model_name": "LayoutModel",
      "state": {}
     },
     "6b18a41698044b598acc3485722f94d4": {
      "model_module": "@jupyter-widgets/controls",
      "model_module_version": "2.0.0",
      "model_name": "HTMLStyleModel",
      "state": {
       "description_width": "",
       "font_size": null,
       "text_color": null
      }
     },
     "6c911816e379417da6bc4729bb0c085a": {
      "model_module": "@jupyter-widgets/base",
      "model_module_version": "2.0.0",
      "model_name": "LayoutModel",
      "state": {}
     },
     "6cc60ca7f6c84be8941448d6d46e4928": {
      "model_module": "@jupyter-widgets/base",
      "model_module_version": "2.0.0",
      "model_name": "LayoutModel",
      "state": {}
     },
     "6d190a687965457ab171c435caaf73dd": {
      "model_module": "@jupyter-widgets/base",
      "model_module_version": "2.0.0",
      "model_name": "LayoutModel",
      "state": {}
     },
     "6d2e85601ad843f8946fd955c6b1e438": {
      "model_module": "@jupyter-widgets/controls",
      "model_module_version": "2.0.0",
      "model_name": "HTMLStyleModel",
      "state": {
       "description_width": "",
       "font_size": null,
       "text_color": null
      }
     },
     "6d8e47c815e7436cb36e790be9d14ea1": {
      "model_module": "@jupyter-widgets/base",
      "model_module_version": "2.0.0",
      "model_name": "LayoutModel",
      "state": {}
     },
     "6d9d4a9b9a564b8a945280fdc81246d0": {
      "model_module": "@jupyter-widgets/controls",
      "model_module_version": "2.0.0",
      "model_name": "HTMLModel",
      "state": {
       "layout": "IPY_MODEL_0fe0bb5b6db24f8fb3de5d86d7654880",
       "style": "IPY_MODEL_acff356554c6473b993edf47934e9f58",
       "value": " 5/5 [00:04&lt;00:00,  1.15it/s]"
      }
     },
     "6dc95a82ee8447098b3dd5be9e5f9e00": {
      "model_module": "@jupyter-widgets/controls",
      "model_module_version": "2.0.0",
      "model_name": "HTMLStyleModel",
      "state": {
       "description_width": "",
       "font_size": null,
       "text_color": null
      }
     },
     "6dd90fe8d8c24059b140701276014ba2": {
      "model_module": "@jupyter-widgets/controls",
      "model_module_version": "2.0.0",
      "model_name": "HTMLModel",
      "state": {
       "layout": "IPY_MODEL_4fbc0a65c04447f096be1b457760e0da",
       "style": "IPY_MODEL_48878afa0aba4c678239434bc6a1c797",
       "value": " 0/4 [00:15&lt;?, ?steps/s]"
      }
     },
     "6eb77e101ce34eb18df75bcd3caba3c0": {
      "model_module": "@jupyter-widgets/controls",
      "model_module_version": "2.0.0",
      "model_name": "HTMLStyleModel",
      "state": {
       "description_width": "",
       "font_size": null,
       "text_color": null
      }
     },
     "6ec4cd1bc03b4edc9392233133df2c4a": {
      "model_module": "@jupyter-widgets/base",
      "model_module_version": "2.0.0",
      "model_name": "LayoutModel",
      "state": {}
     },
     "7052634715954d2b9713033ec6657b28": {
      "model_module": "@jupyter-widgets/base",
      "model_module_version": "2.0.0",
      "model_name": "LayoutModel",
      "state": {}
     },
     "7067df99568a42c7afc266174c326ce8": {
      "model_module": "@jupyter-widgets/base",
      "model_module_version": "2.0.0",
      "model_name": "LayoutModel",
      "state": {}
     },
     "70b6c24163fc49a28c9e1232fe75745c": {
      "model_module": "@jupyter-widgets/controls",
      "model_module_version": "2.0.0",
      "model_name": "ProgressStyleModel",
      "state": {
       "description_width": ""
      }
     },
     "718f3ee12f3a4625afae704e4945fe85": {
      "model_module": "@jupyter-widgets/base",
      "model_module_version": "2.0.0",
      "model_name": "LayoutModel",
      "state": {}
     },
     "732cfe5a3fd54312918d149b30bfe460": {
      "model_module": "@jupyter-widgets/controls",
      "model_module_version": "2.0.0",
      "model_name": "HTMLModel",
      "state": {
       "layout": "IPY_MODEL_ca18189667774b4b9601f31dbfdcd51f",
       "style": "IPY_MODEL_906e9a83b35a4e09b0099a3c94f82b65",
       "value": " 5/5 [00:04&lt;00:00,  1.14it/s]"
      }
     },
     "737d49cce018422f8dfd407027a7a024": {
      "model_module": "@jupyter-widgets/base",
      "model_module_version": "2.0.0",
      "model_name": "LayoutModel",
      "state": {}
     },
     "74966889360c4e64827e6f33d9f77fcd": {
      "model_module": "@jupyter-widgets/controls",
      "model_module_version": "2.0.0",
      "model_name": "HTMLStyleModel",
      "state": {
       "description_width": "",
       "font_size": null,
       "text_color": null
      }
     },
     "74f03ce28bbb4ea0b902a3d7e22d9614": {
      "model_module": "@jupyter-widgets/controls",
      "model_module_version": "2.0.0",
      "model_name": "HTMLStyleModel",
      "state": {
       "description_width": "",
       "font_size": null,
       "text_color": null
      }
     },
     "765964ef99d94540a13568c0ab50b305": {
      "model_module": "@jupyter-widgets/controls",
      "model_module_version": "2.0.0",
      "model_name": "ProgressStyleModel",
      "state": {
       "description_width": ""
      }
     },
     "768a46757df04179b2fb4871fe642977": {
      "model_module": "@jupyter-widgets/controls",
      "model_module_version": "2.0.0",
      "model_name": "HTMLModel",
      "state": {
       "layout": "IPY_MODEL_d783abbb0aa04e609f5bedb8e9d4aac1",
       "style": "IPY_MODEL_ccc8fe38ce714866beebfedc7bf76e6a",
       "value": "100%"
      }
     },
     "7700e9c5f62a45888cb43175bf48ad47": {
      "model_module": "@jupyter-widgets/controls",
      "model_module_version": "2.0.0",
      "model_name": "HTMLStyleModel",
      "state": {
       "description_width": "",
       "font_size": null,
       "text_color": null
      }
     },
     "774dc3852e5c4af6a68c70e6d86d8c09": {
      "model_module": "@jupyter-widgets/controls",
      "model_module_version": "2.0.0",
      "model_name": "HTMLModel",
      "state": {
       "layout": "IPY_MODEL_30b5775e873c46a1a22dc08dba6067b8",
       "style": "IPY_MODEL_a3800b26e6cf46e7b5628cf0b0c9dd14",
       "value": " 2/2 [00:01&lt;00:00,  1.11it/s]"
      }
     },
     "77768d4b287a4884b1bbd868d05c59e7": {
      "model_module": "@jupyter-widgets/base",
      "model_module_version": "2.0.0",
      "model_name": "LayoutModel",
      "state": {}
     },
     "78efe7e0cff04c79b9de4f2e49dd658d": {
      "model_module": "@jupyter-widgets/controls",
      "model_module_version": "2.0.0",
      "model_name": "ProgressStyleModel",
      "state": {
       "description_width": ""
      }
     },
     "79f02d51406649eeb784d31f68053a86": {
      "model_module": "@jupyter-widgets/controls",
      "model_module_version": "2.0.0",
      "model_name": "FloatProgressModel",
      "state": {
       "bar_style": "success",
       "layout": "IPY_MODEL_1e06573e3a924173b4b5d07858eb22eb",
       "max": 2,
       "style": "IPY_MODEL_fce1bda020a24390a97565ef6aa3df0b",
       "value": 2
      }
     },
     "7a4b416346ad4e12ba9f0bb777c494d6": {
      "model_module": "@jupyter-widgets/base",
      "model_module_version": "2.0.0",
      "model_name": "LayoutModel",
      "state": {}
     },
     "7a56813f84d44db48c9a7a155b2107c6": {
      "model_module": "@jupyter-widgets/base",
      "model_module_version": "2.0.0",
      "model_name": "LayoutModel",
      "state": {}
     },
     "7b6c647be92d4cbbbb68ac3b13a82e2b": {
      "model_module": "@jupyter-widgets/controls",
      "model_module_version": "2.0.0",
      "model_name": "HTMLModel",
      "state": {
       "layout": "IPY_MODEL_0c4c667f8e8a4e6bb7a3a205fa291c17",
       "style": "IPY_MODEL_1625d8b449a64dda92213d874a5f663c",
       "value": "100%"
      }
     },
     "7b72634dcbbf4c42b4c9e04c01943379": {
      "model_module": "@jupyter-widgets/base",
      "model_module_version": "2.0.0",
      "model_name": "LayoutModel",
      "state": {}
     },
     "7d52137020764925a9dc659bd04a5773": {
      "model_module": "@jupyter-widgets/controls",
      "model_module_version": "2.0.0",
      "model_name": "FloatProgressModel",
      "state": {
       "bar_style": "success",
       "layout": "IPY_MODEL_fe84b89ace7148dd80f5223ca60e10af",
       "max": 3,
       "style": "IPY_MODEL_08f7e136a80e4a5d825b48abbc55aeb8",
       "value": 3
      }
     },
     "7e1eb298635f4a44832d3f9d759a7000": {
      "model_module": "@jupyter-widgets/base",
      "model_module_version": "2.0.0",
      "model_name": "LayoutModel",
      "state": {}
     },
     "7e5557d804f0498d95f9f181cca9ef1a": {
      "model_module": "@jupyter-widgets/controls",
      "model_module_version": "2.0.0",
      "model_name": "FloatProgressModel",
      "state": {
       "bar_style": "danger",
       "layout": "IPY_MODEL_a751ce7a8ecd4ae4bc4cd17bca321cbf",
       "max": 4,
       "style": "IPY_MODEL_4f03081b0cf443f58d8288a9a40bd990"
      }
     },
     "7e96bf0da318434380d0df46f6a53008": {
      "model_module": "@jupyter-widgets/base",
      "model_module_version": "2.0.0",
      "model_name": "LayoutModel",
      "state": {}
     },
     "7eaad365b2374a2f9a7822d9b268b5bb": {
      "model_module": "@jupyter-widgets/controls",
      "model_module_version": "2.0.0",
      "model_name": "DropdownModel",
      "state": {
       "_options_labels": [
        "CPU",
        "GPU.0",
        "GPU.1",
        "AUTO"
       ],
       "description": "Device:",
       "index": 0,
       "layout": "IPY_MODEL_28073f15c88c4cde87510cdabfb269e7",
       "style": "IPY_MODEL_3d88c7a011f04af9a4cb81d775313a52"
      }
     },
     "7ec492b5926943789018b3430cdebc60": {
      "model_module": "@jupyter-widgets/base",
      "model_module_version": "2.0.0",
      "model_name": "LayoutModel",
      "state": {}
     },
     "7ef51ce51cb54049b6c466128e3b7091": {
      "model_module": "@jupyter-widgets/controls",
      "model_module_version": "2.0.0",
      "model_name": "HTMLStyleModel",
      "state": {
       "description_width": "",
       "font_size": null,
       "text_color": null
      }
     },
     "7f3dc788f2164001b4f876d86ae2e9a5": {
      "model_module": "@jupyter-widgets/controls",
      "model_module_version": "2.0.0",
      "model_name": "FloatProgressModel",
      "state": {
       "bar_style": "success",
       "layout": "IPY_MODEL_91d05d887ff04cb5ae49cdb9be0e3b66",
       "max": 2,
       "style": "IPY_MODEL_516f22736e7247dfa164ac0cf8c4fbfc",
       "value": 2
      }
     },
     "7f96b807c4534e39aa69706c965510cf": {
      "model_module": "@jupyter-widgets/base",
      "model_module_version": "2.0.0",
      "model_name": "LayoutModel",
      "state": {}
     },
     "7fa09d7b32ee437ab3ec095d63886139": {
      "model_module": "@jupyter-widgets/controls",
      "model_module_version": "2.0.0",
      "model_name": "HTMLModel",
      "state": {
       "layout": "IPY_MODEL_7067df99568a42c7afc266174c326ce8",
       "style": "IPY_MODEL_e50ea85900c84ec0bb6986f8599e5d11",
       "value": " 0/4 [00:38&lt;?, ?steps/s]"
      }
     },
     "7ffb3b6506e649709ca12dbbe09c9540": {
      "model_module": "@jupyter-widgets/controls",
      "model_module_version": "2.0.0",
      "model_name": "ProgressStyleModel",
      "state": {
       "description_width": ""
      }
     },
     "8105b631de33412fa7e772d51a86463d": {
      "model_module": "@jupyter-widgets/controls",
      "model_module_version": "2.0.0",
      "model_name": "DropdownModel",
      "state": {
       "_options_labels": [
        "CPU",
        "GPU.0",
        "GPU.1",
        "AUTO"
       ],
       "description": "Device:",
       "index": 0,
       "layout": "IPY_MODEL_307a88e4bdbf46f891445aafd66fc32b",
       "style": "IPY_MODEL_c0cb9e85d21f4fa999f1e0e64dc94835"
      }
     },
     "81ad8486de6049c199647dc651d0b132": {
      "model_module": "@jupyter-widgets/base",
      "model_module_version": "2.0.0",
      "model_name": "LayoutModel",
      "state": {}
     },
     "81ea2d0fb7ce4fd5a1f781f03e03c208": {
      "model_module": "@jupyter-widgets/base",
      "model_module_version": "2.0.0",
      "model_name": "LayoutModel",
      "state": {}
     },
     "8216171974e244c4a0908f82b96f76fc": {
      "model_module": "@jupyter-widgets/controls",
      "model_module_version": "2.0.0",
      "model_name": "HBoxModel",
      "state": {
       "children": [
        "IPY_MODEL_e5cb17d9d9bc43bd89fe856cd9258b20",
        "IPY_MODEL_29d5ba35e3da42868d172705e91b6b73",
        "IPY_MODEL_04f9aece3871476fb5e69c2b18312ae7"
       ],
       "layout": "IPY_MODEL_f84cb5ef5ea5499f906b5597b63c2593"
      }
     },
     "822278e1b34541cb9933019eb7dd4c99": {
      "model_module": "@jupyter-widgets/controls",
      "model_module_version": "2.0.0",
      "model_name": "HBoxModel",
      "state": {
       "children": [
        "IPY_MODEL_608b8f95d18a4335b3d625b28080b6dc",
        "IPY_MODEL_590d6725144c4a3ab4520354ff4a36df",
        "IPY_MODEL_92dca5180653439c97cf824a5c79fc5c"
       ],
       "layout": "IPY_MODEL_718f3ee12f3a4625afae704e4945fe85"
      }
     },
     "839b0b01a0d1477f94e0c6ddefe90cb4": {
      "model_module": "@jupyter-widgets/controls",
      "model_module_version": "2.0.0",
      "model_name": "HTMLModel",
      "state": {
       "layout": "IPY_MODEL_87eea6a0a0144fd0820d199a7e5c0152",
       "style": "IPY_MODEL_4af4057e4ca64af8a7e4cbf0cefca8a8",
       "value": "100%"
      }
     },
     "8405dd13e3bd44e583d7de90c6e8620b": {
      "model_module": "@jupyter-widgets/base",
      "model_module_version": "2.0.0",
      "model_name": "LayoutModel",
      "state": {}
     },
     "845dce47fac54922906c03283b9809ab": {
      "model_module": "@jupyter-widgets/controls",
      "model_module_version": "2.0.0",
      "model_name": "HTMLModel",
      "state": {
       "layout": "IPY_MODEL_6d190a687965457ab171c435caaf73dd",
       "style": "IPY_MODEL_5101160eca384b4e8490e01f024b1fa3",
       "value": " 3/3 [00:02&lt;00:00,  1.14it/s]"
      }
     },
     "8542c083517947ba8daf76c5b06209eb": {
      "model_module": "@jupyter-widgets/controls",
      "model_module_version": "2.0.0",
      "model_name": "HTMLStyleModel",
      "state": {
       "description_width": "",
       "font_size": null,
       "text_color": null
      }
     },
     "854f038636f74d5fa35468cd12f0a818": {
      "model_module": "@jupyter-widgets/base",
      "model_module_version": "2.0.0",
      "model_name": "LayoutModel",
      "state": {}
     },
     "85a5a7f433ed4be8924bfb3eab17b84c": {
      "model_module": "@jupyter-widgets/controls",
      "model_module_version": "2.0.0",
      "model_name": "HTMLStyleModel",
      "state": {
       "description_width": "",
       "font_size": null,
       "text_color": null
      }
     },
     "862acb7f9dbd4e618757d462a7933810": {
      "model_module": "@jupyter-widgets/controls",
      "model_module_version": "2.0.0",
      "model_name": "HTMLModel",
      "state": {
       "layout": "IPY_MODEL_9c9be2e3ae2f437c82b3d48f46dc576e",
       "style": "IPY_MODEL_9204e4c6bfbf4a62b4fcadd615eafaea",
       "value": "  0%"
      }
     },
     "86671bd6582c4c87982930f951334e7c": {
      "model_module": "@jupyter-widgets/controls",
      "model_module_version": "2.0.0",
      "model_name": "ProgressStyleModel",
      "state": {
       "description_width": ""
      }
     },
     "86e7634ffab14aab8cc4c60dc91c8dbd": {
      "model_module": "@jupyter-widgets/base",
      "model_module_version": "2.0.0",
      "model_name": "LayoutModel",
      "state": {}
     },
     "86f6eb26116e4f3b88210317b01b0b71": {
      "model_module": "@jupyter-widgets/controls",
      "model_module_version": "2.0.0",
      "model_name": "FloatProgressModel",
      "state": {
       "bar_style": "success",
       "layout": "IPY_MODEL_b2a9df13d8f24f17af473c3efc17e598",
       "max": 5,
       "style": "IPY_MODEL_70b6c24163fc49a28c9e1232fe75745c",
       "value": 5
      }
     },
     "87635dc3b2da4d709920fb0641ef76a7": {
      "model_module": "@jupyter-widgets/controls",
      "model_module_version": "2.0.0",
      "model_name": "FloatProgressModel",
      "state": {
       "bar_style": "danger",
       "layout": "IPY_MODEL_cb577887734c4b66b598324aa1ce873d",
       "max": 2,
       "style": "IPY_MODEL_2a39bc50cbdb4e96b07d171d017ef78d"
      }
     },
     "87eea6a0a0144fd0820d199a7e5c0152": {
      "model_module": "@jupyter-widgets/base",
      "model_module_version": "2.0.0",
      "model_name": "LayoutModel",
      "state": {}
     },
     "889eec70e06e4d29aee436c52d846967": {
      "model_module": "@jupyter-widgets/controls",
      "model_module_version": "2.0.0",
      "model_name": "FloatProgressModel",
      "state": {
       "bar_style": "success",
       "layout": "IPY_MODEL_698c82ac89ed4fbd8fa8e804502ad702",
       "max": 3,
       "style": "IPY_MODEL_bf5cb149c8ba458684f6bc79876efb43",
       "value": 3
      }
     },
     "89e9401d620f4423b20a10d05199ea15": {
      "model_module": "@jupyter-widgets/base",
      "model_module_version": "2.0.0",
      "model_name": "LayoutModel",
      "state": {}
     },
     "8b3ffad4c46b4413b0279e9470b15bb3": {
      "model_module": "@jupyter-widgets/controls",
      "model_module_version": "2.0.0",
      "model_name": "HBoxModel",
      "state": {
       "children": [
        "IPY_MODEL_b3a45dc2adc2462593bca2365fd25313",
        "IPY_MODEL_0e09cf15207c4812a5a9cf61501bebfa",
        "IPY_MODEL_58757188f04a417f8150706cf48792b2"
       ],
       "layout": "IPY_MODEL_1f9a9b9d5b8a4c749445756dc3c72e8d"
      }
     },
     "8bdb41754c7c4302a23781274db9debb": {
      "model_module": "@jupyter-widgets/base",
      "model_module_version": "2.0.0",
      "model_name": "LayoutModel",
      "state": {}
     },
     "8bfb309244574d68b4ff03a1481797af": {
      "model_module": "@jupyter-widgets/base",
      "model_module_version": "2.0.0",
      "model_name": "LayoutModel",
      "state": {}
     },
     "8c4c34a3f655422ca0b99de5205e3017": {
      "model_module": "@jupyter-widgets/controls",
      "model_module_version": "2.0.0",
      "model_name": "FloatProgressModel",
      "state": {
       "bar_style": "success",
       "layout": "IPY_MODEL_f1e30e6501ed4819b6f2625a9c663cb9",
       "max": 3,
       "style": "IPY_MODEL_eca57f593a7c44ba8635d60aa4f4dd4b",
       "value": 3
      }
     },
     "8dcf2a862643474381329ff4b485e35c": {
      "model_module": "@jupyter-widgets/base",
      "model_module_version": "2.0.0",
      "model_name": "LayoutModel",
      "state": {}
     },
     "8e734cd2155049a694f24ee21267e595": {
      "model_module": "@jupyter-widgets/controls",
      "model_module_version": "2.0.0",
      "model_name": "HTMLStyleModel",
      "state": {
       "description_width": "",
       "font_size": null,
       "text_color": null
      }
     },
     "8fd0ab51773f4afdbe1a8f9b2d545280": {
      "model_module": "@jupyter-widgets/base",
      "model_module_version": "2.0.0",
      "model_name": "LayoutModel",
      "state": {}
     },
     "8fddeb9171924765820bee4aabe1cefc": {
      "model_module": "@jupyter-widgets/controls",
      "model_module_version": "2.0.0",
      "model_name": "HBoxModel",
      "state": {
       "children": [
        "IPY_MODEL_44b30f75538440e69aac7c87f7764f98",
        "IPY_MODEL_cf730193053b464a9a37ec13ce31618c",
        "IPY_MODEL_f821c997c2b445ca9745480333e0cdb9"
       ],
       "layout": "IPY_MODEL_f515bc3ce78b47d2bef3139321df1e6c"
      }
     },
     "906e9a83b35a4e09b0099a3c94f82b65": {
      "model_module": "@jupyter-widgets/controls",
      "model_module_version": "2.0.0",
      "model_name": "HTMLStyleModel",
      "state": {
       "description_width": "",
       "font_size": null,
       "text_color": null
      }
     },
     "90c7803644104362857887ad876b21d7": {
      "model_module": "@jupyter-widgets/controls",
      "model_module_version": "2.0.0",
      "model_name": "DropdownModel",
      "state": {
       "_options_labels": [
        "CPU",
        "GPU.0",
        "GPU.1",
        "AUTO"
       ],
       "description": "Device:",
       "index": 0,
       "layout": "IPY_MODEL_9b94639a7da14041bebac5b6dd6352f3",
       "style": "IPY_MODEL_efcfcd0c5adb47deba044141711c526a"
      }
     },
     "9156362e404b48a8be6caac7ffc096cf": {
      "model_module": "@jupyter-widgets/controls",
      "model_module_version": "2.0.0",
      "model_name": "HBoxModel",
      "state": {
       "children": [
        "IPY_MODEL_d5f0248fb60e44af94e42b8da9ca5465",
        "IPY_MODEL_ed81001ef8274c2495f163b55bc6c152",
        "IPY_MODEL_ed342cad18fc4940afcab38f9c8ab528"
       ],
       "layout": "IPY_MODEL_a9f3a87e0f114ff0b49b786e988a10eb"
      }
     },
     "91aa0bced7f049ff9c8c06611d2ad87e": {
      "model_module": "@jupyter-widgets/controls",
      "model_module_version": "2.0.0",
      "model_name": "HTMLModel",
      "state": {
       "layout": "IPY_MODEL_f800a40572f747bea1f9cb71a667d4bb",
       "style": "IPY_MODEL_b837c139aa2649ab869bd71c956f7d8b",
       "value": " 2/2 [00:01&lt;00:00,  1.12it/s]"
      }
     },
     "91ba849dbb5a43eca98ab0b7c8b199a6": {
      "model_module": "@jupyter-widgets/base",
      "model_module_version": "2.0.0",
      "model_name": "LayoutModel",
      "state": {}
     },
     "91d05d887ff04cb5ae49cdb9be0e3b66": {
      "model_module": "@jupyter-widgets/base",
      "model_module_version": "2.0.0",
      "model_name": "LayoutModel",
      "state": {}
     },
     "9204e4c6bfbf4a62b4fcadd615eafaea": {
      "model_module": "@jupyter-widgets/controls",
      "model_module_version": "2.0.0",
      "model_name": "HTMLStyleModel",
      "state": {
       "description_width": "",
       "font_size": null,
       "text_color": null
      }
     },
     "92421e17416b4051967fd0db2d923096": {
      "model_module": "@jupyter-widgets/controls",
      "model_module_version": "2.0.0",
      "model_name": "HBoxModel",
      "state": {
       "children": [
        "IPY_MODEL_d13cc4ff11ba4628953bb4799a7219dd",
        "IPY_MODEL_04693a9d83f14c25b910fe2d77f0e3a7",
        "IPY_MODEL_2d870bcdc2d8472e90b1eaa178334ee9"
       ],
       "layout": "IPY_MODEL_d38e6a17e80142a6af9b9e31bff23877"
      }
     },
     "92dca5180653439c97cf824a5c79fc5c": {
      "model_module": "@jupyter-widgets/controls",
      "model_module_version": "2.0.0",
      "model_name": "HTMLModel",
      "state": {
       "layout": "IPY_MODEL_02652bf52b604c2da87cf15113df6fda",
       "style": "IPY_MODEL_6b18a41698044b598acc3485722f94d4",
       "value": " 0/4 [00:25&lt;?, ?steps/s]"
      }
     },
     "9377ea0c7c934f23861264f3bde9d593": {
      "model_module": "@jupyter-widgets/controls",
      "model_module_version": "2.0.0",
      "model_name": "HBoxModel",
      "state": {
       "children": [
        "IPY_MODEL_12717b409dcf4c6caea286f66a93f608",
        "IPY_MODEL_bc4f2afbecff4a56b72bc72bda1fa40e",
        "IPY_MODEL_f5a3a5fefaa44718b12d999d14cf0573"
       ],
       "layout": "IPY_MODEL_f05f207d8c8948bdafd7c31a2e2a101d"
      }
     },
     "947ecd9136034b3d95af978eebff0695": {
      "model_module": "@jupyter-widgets/controls",
      "model_module_version": "2.0.0",
      "model_name": "HTMLModel",
      "state": {
       "layout": "IPY_MODEL_5b3c3fa0dbb044ccb10a2ab68543f50e",
       "style": "IPY_MODEL_0573be1f0b4b4490a05aa9f9f7d73b04",
       "value": " 0/4 [02:42&lt;?, ?steps/s]"
      }
     },
     "94da3d171a6644a4bbfb61b4e4588cca": {
      "model_module": "@jupyter-widgets/base",
      "model_module_version": "2.0.0",
      "model_name": "LayoutModel",
      "state": {}
     },
     "95c299f6dd6742b39322d311d7cb540e": {
      "model_module": "@jupyter-widgets/base",
      "model_module_version": "2.0.0",
      "model_name": "LayoutModel",
      "state": {}
     },
     "9651cf6baa2243328af076c8938343a5": {
      "model_module": "@jupyter-widgets/base",
      "model_module_version": "2.0.0",
      "model_name": "LayoutModel",
      "state": {}
     },
     "98978fc4cc294daaa150dc122eb05127": {
      "model_module": "@jupyter-widgets/base",
      "model_module_version": "2.0.0",
      "model_name": "LayoutModel",
      "state": {}
     },
     "991b465c748948bb8f34240ca13ba999": {
      "model_module": "@jupyter-widgets/controls",
      "model_module_version": "2.0.0",
      "model_name": "HTMLStyleModel",
      "state": {
       "description_width": "",
       "font_size": null,
       "text_color": null
      }
     },
     "9b94639a7da14041bebac5b6dd6352f3": {
      "model_module": "@jupyter-widgets/base",
      "model_module_version": "2.0.0",
      "model_name": "LayoutModel",
      "state": {}
     },
     "9c916b7239e944e98d17841b0c38f054": {
      "model_module": "@jupyter-widgets/controls",
      "model_module_version": "2.0.0",
      "model_name": "HTMLStyleModel",
      "state": {
       "description_width": "",
       "font_size": null,
       "text_color": null
      }
     },
     "9c9be2e3ae2f437c82b3d48f46dc576e": {
      "model_module": "@jupyter-widgets/base",
      "model_module_version": "2.0.0",
      "model_name": "LayoutModel",
      "state": {}
     },
     "9c9e5f4729a4440bbb61b900b893ba52": {
      "model_module": "@jupyter-widgets/controls",
      "model_module_version": "2.0.0",
      "model_name": "ProgressStyleModel",
      "state": {
       "description_width": ""
      }
     },
     "9d087c6350054399b277b73e4f4ff51a": {
      "model_module": "@jupyter-widgets/controls",
      "model_module_version": "2.0.0",
      "model_name": "HTMLModel",
      "state": {
       "layout": "IPY_MODEL_463680ca2f0f4a87903789a760c3cc79",
       "style": "IPY_MODEL_2531249a8f7f45f084124a481dad0848",
       "value": " 0/2 [00:10&lt;?, ?steps/s]"
      }
     },
     "a0349a66782e4d0baa00b89fe4d85225": {
      "model_module": "@jupyter-widgets/controls",
      "model_module_version": "2.0.0",
      "model_name": "HTMLStyleModel",
      "state": {
       "description_width": "",
       "font_size": null,
       "text_color": null
      }
     },
     "a1550356c0b345098ebc13adb0bee683": {
      "model_module": "@jupyter-widgets/base",
      "model_module_version": "2.0.0",
      "model_name": "LayoutModel",
      "state": {}
     },
     "a1952fa1deb1448387dd7147c7493be7": {
      "model_module": "@jupyter-widgets/base",
      "model_module_version": "2.0.0",
      "model_name": "LayoutModel",
      "state": {}
     },
     "a235c30e87f9466a8cce992bb4001542": {
      "model_module": "@jupyter-widgets/base",
      "model_module_version": "2.0.0",
      "model_name": "LayoutModel",
      "state": {}
     },
     "a236b397510442329ac02b119ec00805": {
      "model_module": "@jupyter-widgets/base",
      "model_module_version": "2.0.0",
      "model_name": "LayoutModel",
      "state": {}
     },
     "a23b5cd3a5184647ab5fcf90504af5ed": {
      "model_module": "@jupyter-widgets/base",
      "model_module_version": "2.0.0",
      "model_name": "LayoutModel",
      "state": {}
     },
     "a24aed4961e1406bb936ad26177b92f2": {
      "model_module": "@jupyter-widgets/base",
      "model_module_version": "2.0.0",
      "model_name": "LayoutModel",
      "state": {}
     },
     "a26a9c4fc18546c78686752a655a4333": {
      "model_module": "@jupyter-widgets/controls",
      "model_module_version": "2.0.0",
      "model_name": "HBoxModel",
      "state": {
       "children": [
        "IPY_MODEL_b1480e0d53d34994a1a3b55081b30a77",
        "IPY_MODEL_0457da48b3964ed5a63190c388fde850",
        "IPY_MODEL_6883393fad6e49fdaae9a3f0516b3110"
       ],
       "layout": "IPY_MODEL_7e1eb298635f4a44832d3f9d759a7000"
      }
     },
     "a27eeb2304a54a25a00bca7074082ca7": {
      "model_module": "@jupyter-widgets/base",
      "model_module_version": "2.0.0",
      "model_name": "LayoutModel",
      "state": {}
     },
     "a3800b26e6cf46e7b5628cf0b0c9dd14": {
      "model_module": "@jupyter-widgets/controls",
      "model_module_version": "2.0.0",
      "model_name": "HTMLStyleModel",
      "state": {
       "description_width": "",
       "font_size": null,
       "text_color": null
      }
     },
     "a4bbcead9bb647a89a840aeccd582ead": {
      "model_module": "@jupyter-widgets/controls",
      "model_module_version": "2.0.0",
      "model_name": "HTMLStyleModel",
      "state": {
       "description_width": "",
       "font_size": null,
       "text_color": null
      }
     },
     "a53880387ac54ddca0b77c62f478c851": {
      "model_module": "@jupyter-widgets/base",
      "model_module_version": "2.0.0",
      "model_name": "LayoutModel",
      "state": {}
     },
     "a580fbf27e534824b9ee1dca4b6518ad": {
      "model_module": "@jupyter-widgets/controls",
      "model_module_version": "2.0.0",
      "model_name": "FloatProgressModel",
      "state": {
       "bar_style": "danger",
       "layout": "IPY_MODEL_95c299f6dd6742b39322d311d7cb540e",
       "max": 4,
       "style": "IPY_MODEL_4cac2d169d5b41e5b2a350e79344b35b"
      }
     },
     "a5b06876fe3a4189a051e6f9dd6e700e": {
      "model_module": "@jupyter-widgets/controls",
      "model_module_version": "2.0.0",
      "model_name": "HTMLStyleModel",
      "state": {
       "description_width": "",
       "font_size": null,
       "text_color": null
      }
     },
     "a6be12c906814c4d96eea446dcd2ed36": {
      "model_module": "@jupyter-widgets/controls",
      "model_module_version": "2.0.0",
      "model_name": "HTMLModel",
      "state": {
       "layout": "IPY_MODEL_38cc226f039b4f37a82d981f65f914a7",
       "style": "IPY_MODEL_74966889360c4e64827e6f33d9f77fcd",
       "value": " 4/4 [00:04&lt;00:00,  1.01it/s]"
      }
     },
     "a72a2449567241ecb070b35ef1f36afa": {
      "model_module": "@jupyter-widgets/controls",
      "model_module_version": "2.0.0",
      "model_name": "ProgressStyleModel",
      "state": {
       "description_width": ""
      }
     },
     "a743041ffb274f4aa4fb7345e7fcc62d": {
      "model_module": "@jupyter-widgets/controls",
      "model_module_version": "2.0.0",
      "model_name": "HTMLModel",
      "state": {
       "layout": "IPY_MODEL_fca0f343ad32435388a194b5c40831a7",
       "style": "IPY_MODEL_6d2e85601ad843f8946fd955c6b1e438",
       "value": " 3/3 [00:02&lt;00:00,  1.14it/s]"
      }
     },
     "a751ce7a8ecd4ae4bc4cd17bca321cbf": {
      "model_module": "@jupyter-widgets/base",
      "model_module_version": "2.0.0",
      "model_name": "LayoutModel",
      "state": {}
     },
     "a90d85e211434254859016556e22f951": {
      "model_module": "@jupyter-widgets/controls",
      "model_module_version": "2.0.0",
      "model_name": "FloatProgressModel",
      "state": {
       "bar_style": "danger",
       "layout": "IPY_MODEL_f9670ac7c0664e848b04532e466b88bb",
       "max": 4,
       "style": "IPY_MODEL_fb17d4b0343b40dc8e2875637d05ade5"
      }
     },
     "a9f3a87e0f114ff0b49b786e988a10eb": {
      "model_module": "@jupyter-widgets/base",
      "model_module_version": "2.0.0",
      "model_name": "LayoutModel",
      "state": {}
     },
     "aa7e09c3148641b7af507d76cc22600f": {
      "model_module": "@jupyter-widgets/controls",
      "model_module_version": "2.0.0",
      "model_name": "FloatProgressModel",
      "state": {
       "bar_style": "success",
       "layout": "IPY_MODEL_55e55ff91c13445ab7ebb9495768467b",
       "max": 5,
       "style": "IPY_MODEL_07b2eeee146b48238731386ff0698b29",
       "value": 5
      }
     },
     "ab674da93c7948228809a7b9151b1965": {
      "model_module": "@jupyter-widgets/controls",
      "model_module_version": "2.0.0",
      "model_name": "HBoxModel",
      "state": {
       "children": [
        "IPY_MODEL_7b6c647be92d4cbbbb68ac3b13a82e2b",
        "IPY_MODEL_c72b38d310174124acbb76825d4a4086",
        "IPY_MODEL_91aa0bced7f049ff9c8c06611d2ad87e"
       ],
       "layout": "IPY_MODEL_2c1bf386d2e8400ba9074bfd6e880dca"
      }
     },
     "ab6ac72b3ba846c0b05c263518fd41c9": {
      "model_module": "@jupyter-widgets/controls",
      "model_module_version": "2.0.0",
      "model_name": "HTMLModel",
      "state": {
       "layout": "IPY_MODEL_a1550356c0b345098ebc13adb0bee683",
       "style": "IPY_MODEL_0611412b7b16450686c43857f1dde1a5",
       "value": "  0%"
      }
     },
     "abb0f3ebc0424b5483ebf526a9571e84": {
      "model_module": "@jupyter-widgets/controls",
      "model_module_version": "2.0.0",
      "model_name": "HTMLStyleModel",
      "state": {
       "description_width": "",
       "font_size": null,
       "text_color": null
      }
     },
     "abd9e64785a346a599e325df6fd6ac5b": {
      "model_module": "@jupyter-widgets/controls",
      "model_module_version": "2.0.0",
      "model_name": "HTMLModel",
      "state": {
       "layout": "IPY_MODEL_037422658b2945d981ae1e3a016d0a0f",
       "style": "IPY_MODEL_19180edee37e407fbbbaeccedb7b4acc",
       "value": " 0/4 [00:27&lt;?, ?steps/s]"
      }
     },
     "abe95278efcb4daca791daf55b45c7c7": {
      "model_module": "@jupyter-widgets/base",
      "model_module_version": "2.0.0",
      "model_name": "LayoutModel",
      "state": {}
     },
     "ac3419132bff4725b439d84587d3329a": {
      "model_module": "@jupyter-widgets/base",
      "model_module_version": "2.0.0",
      "model_name": "LayoutModel",
      "state": {}
     },
     "ac4843c137e442238bb2a82a3c68c02c": {
      "model_module": "@jupyter-widgets/controls",
      "model_module_version": "2.0.0",
      "model_name": "HTMLStyleModel",
      "state": {
       "description_width": "",
       "font_size": null,
       "text_color": null
      }
     },
     "ac5fd8976ea84d86ab02a64548c98884": {
      "model_module": "@jupyter-widgets/controls",
      "model_module_version": "2.0.0",
      "model_name": "HTMLStyleModel",
      "state": {
       "description_width": "",
       "font_size": null,
       "text_color": null
      }
     },
     "accf1f62c2c64c7bb97db48342eb5345": {
      "model_module": "@jupyter-widgets/controls",
      "model_module_version": "2.0.0",
      "model_name": "HTMLStyleModel",
      "state": {
       "description_width": "",
       "font_size": null,
       "text_color": null
      }
     },
     "acff356554c6473b993edf47934e9f58": {
      "model_module": "@jupyter-widgets/controls",
      "model_module_version": "2.0.0",
      "model_name": "HTMLStyleModel",
      "state": {
       "description_width": "",
       "font_size": null,
       "text_color": null
      }
     },
     "addcfeaec9214f85b27b5e0a2d161745": {
      "model_module": "@jupyter-widgets/controls",
      "model_module_version": "2.0.0",
      "model_name": "HTMLModel",
      "state": {
       "layout": "IPY_MODEL_7b72634dcbbf4c42b4c9e04c01943379",
       "style": "IPY_MODEL_58407b913f0a4619b479c1b5ca7f352d",
       "value": "100%"
      }
     },
     "ae1417b32143406eb7c4c7fb49cfd63b": {
      "model_module": "@jupyter-widgets/base",
      "model_module_version": "2.0.0",
      "model_name": "LayoutModel",
      "state": {}
     },
     "aea70c1409604db08f5d5e53848c6c1b": {
      "model_module": "@jupyter-widgets/base",
      "model_module_version": "2.0.0",
      "model_name": "LayoutModel",
      "state": {}
     },
     "aff1aec2743b433c989fa0e5827b452e": {
      "model_module": "@jupyter-widgets/base",
      "model_module_version": "2.0.0",
      "model_name": "LayoutModel",
      "state": {}
     },
     "aff487a06c714ab1919879a1dc66a104": {
      "model_module": "@jupyter-widgets/controls",
      "model_module_version": "2.0.0",
      "model_name": "HTMLStyleModel",
      "state": {
       "description_width": "",
       "font_size": null,
       "text_color": null
      }
     },
     "b0515055ad48470b8f90d5a1a4dcbd5a": {
      "model_module": "@jupyter-widgets/controls",
      "model_module_version": "2.0.0",
      "model_name": "ProgressStyleModel",
      "state": {
       "description_width": ""
      }
     },
     "b055e86df6fb4ce985389b623ca9fea8": {
      "model_module": "@jupyter-widgets/controls",
      "model_module_version": "2.0.0",
      "model_name": "HTMLStyleModel",
      "state": {
       "description_width": "",
       "font_size": null,
       "text_color": null
      }
     },
     "b1480e0d53d34994a1a3b55081b30a77": {
      "model_module": "@jupyter-widgets/controls",
      "model_module_version": "2.0.0",
      "model_name": "HTMLModel",
      "state": {
       "layout": "IPY_MODEL_18d6ad9bcb4845099038ef3e51fe8180",
       "style": "IPY_MODEL_a0349a66782e4d0baa00b89fe4d85225",
       "value": "  0%"
      }
     },
     "b2a9df13d8f24f17af473c3efc17e598": {
      "model_module": "@jupyter-widgets/base",
      "model_module_version": "2.0.0",
      "model_name": "LayoutModel",
      "state": {}
     },
     "b30dbde9a87c4931b52a11f127bc8134": {
      "model_module": "@jupyter-widgets/controls",
      "model_module_version": "2.0.0",
      "model_name": "HBoxModel",
      "state": {
       "children": [
        "IPY_MODEL_35ac0914e9fb4eaf9d54c7b6da4685a0",
        "IPY_MODEL_0b8e40a11bd144f8afccf40bb27f1a6b",
        "IPY_MODEL_abd9e64785a346a599e325df6fd6ac5b"
       ],
       "layout": "IPY_MODEL_aff1aec2743b433c989fa0e5827b452e"
      }
     },
     "b3a45dc2adc2462593bca2365fd25313": {
      "model_module": "@jupyter-widgets/controls",
      "model_module_version": "2.0.0",
      "model_name": "HTMLModel",
      "state": {
       "layout": "IPY_MODEL_7a4b416346ad4e12ba9f0bb777c494d6",
       "style": "IPY_MODEL_de6ea4da17d54f67b7566460ceec7224",
       "value": "100%"
      }
     },
     "b5fba0bb49904d7296c9946841638301": {
      "model_module": "@jupyter-widgets/base",
      "model_module_version": "2.0.0",
      "model_name": "LayoutModel",
      "state": {}
     },
     "b60cf21f0d2f4e508e57a4c8421317f2": {
      "model_module": "@jupyter-widgets/base",
      "model_module_version": "2.0.0",
      "model_name": "LayoutModel",
      "state": {}
     },
     "b6181c0a0f91477087adc5aa42282966": {
      "model_module": "@jupyter-widgets/controls",
      "model_module_version": "2.0.0",
      "model_name": "HTMLModel",
      "state": {
       "layout": "IPY_MODEL_698b3d72009a4b728563e0eebf3840bd",
       "style": "IPY_MODEL_accf1f62c2c64c7bb97db48342eb5345",
       "value": " 9/9 [00:07&lt;00:00,  1.16it/s]"
      }
     },
     "b69bb00106a343f29332f876d8ec016a": {
      "model_module": "@jupyter-widgets/base",
      "model_module_version": "2.0.0",
      "model_name": "LayoutModel",
      "state": {}
     },
     "b6c5ecc2ee4c44b49c8de6d2572da8d5": {
      "model_module": "@jupyter-widgets/base",
      "model_module_version": "2.0.0",
      "model_name": "LayoutModel",
      "state": {}
     },
     "b75878daf8aa4a5f992c0aff67add88c": {
      "model_module": "@jupyter-widgets/controls",
      "model_module_version": "2.0.0",
      "model_name": "ProgressStyleModel",
      "state": {
       "description_width": ""
      }
     },
     "b7d3879426bb4a6c927d20e5ff9a606a": {
      "model_module": "@jupyter-widgets/controls",
      "model_module_version": "2.0.0",
      "model_name": "ProgressStyleModel",
      "state": {
       "description_width": ""
      }
     },
     "b837c139aa2649ab869bd71c956f7d8b": {
      "model_module": "@jupyter-widgets/controls",
      "model_module_version": "2.0.0",
      "model_name": "HTMLStyleModel",
      "state": {
       "description_width": "",
       "font_size": null,
       "text_color": null
      }
     },
     "b8ca2d1898ce4fe09f1302ef86a9488d": {
      "model_module": "@jupyter-widgets/controls",
      "model_module_version": "2.0.0",
      "model_name": "ProgressStyleModel",
      "state": {
       "description_width": ""
      }
     },
     "ba0ce2ae90784b41b40a9cadf852b9b2": {
      "model_module": "@jupyter-widgets/base",
      "model_module_version": "2.0.0",
      "model_name": "LayoutModel",
      "state": {}
     },
     "bc3f1846cccb4fdfada1b069c3ce361f": {
      "model_module": "@jupyter-widgets/controls",
      "model_module_version": "2.0.0",
      "model_name": "HBoxModel",
      "state": {
       "children": [
        "IPY_MODEL_d5091004f611498dae7ec0c7888616a1",
        "IPY_MODEL_7d52137020764925a9dc659bd04a5773",
        "IPY_MODEL_0255b870da5e4e6da128b5ec2e43b047"
       ],
       "layout": "IPY_MODEL_590c5a9e6afd4cf0a3ecb52be5f489fc"
      }
     },
     "bc4f2afbecff4a56b72bc72bda1fa40e": {
      "model_module": "@jupyter-widgets/controls",
      "model_module_version": "2.0.0",
      "model_name": "FloatProgressModel",
      "state": {
       "bar_style": "danger",
       "layout": "IPY_MODEL_6ec4cd1bc03b4edc9392233133df2c4a",
       "max": 4,
       "style": "IPY_MODEL_42b031edfbc849a1b8154a89266b1e82"
      }
     },
     "bda8a49db92147639ad207dfb89c31a7": {
      "model_module": "@jupyter-widgets/controls",
      "model_module_version": "2.0.0",
      "model_name": "HTMLModel",
      "state": {
       "layout": "IPY_MODEL_854f038636f74d5fa35468cd12f0a818",
       "style": "IPY_MODEL_3e9e9d06d9984807a8c0d3798c68f26e",
       "value": "100%"
      }
     },
     "be4b01470a1143dc9a5b947026bdf4d9": {
      "model_module": "@jupyter-widgets/controls",
      "model_module_version": "2.0.0",
      "model_name": "HTMLModel",
      "state": {
       "layout": "IPY_MODEL_34bcca55ef144a3a91df5413120e3f51",
       "style": "IPY_MODEL_1bb6b632f2e740bb8ab099aaed79d911",
       "value": "100%"
      }
     },
     "bf5cb149c8ba458684f6bc79876efb43": {
      "model_module": "@jupyter-widgets/controls",
      "model_module_version": "2.0.0",
      "model_name": "ProgressStyleModel",
      "state": {
       "description_width": ""
      }
     },
     "bfe4d09d55fc421b918e26e99395b6ef": {
      "model_module": "@jupyter-widgets/controls",
      "model_module_version": "2.0.0",
      "model_name": "HBoxModel",
      "state": {
       "children": [
        "IPY_MODEL_21bd31479304425d9934fb950b7aaaea",
        "IPY_MODEL_ef73f78f281545488ebd5dd5b44a026c",
        "IPY_MODEL_947ecd9136034b3d95af978eebff0695"
       ],
       "layout": "IPY_MODEL_44dde97fb99049f6ae165469c61c8d32"
      }
     },
     "c0cb9e85d21f4fa999f1e0e64dc94835": {
      "model_module": "@jupyter-widgets/controls",
      "model_module_version": "2.0.0",
      "model_name": "DescriptionStyleModel",
      "state": {
       "description_width": ""
      }
     },
     "c65da9e46f2548c2a0eb3afcc8d42d2e": {
      "model_module": "@jupyter-widgets/base",
      "model_module_version": "2.0.0",
      "model_name": "LayoutModel",
      "state": {}
     },
     "c663b635082d4259b919dd0c7699afe2": {
      "model_module": "@jupyter-widgets/base",
      "model_module_version": "2.0.0",
      "model_name": "LayoutModel",
      "state": {}
     },
     "c72b38d310174124acbb76825d4a4086": {
      "model_module": "@jupyter-widgets/controls",
      "model_module_version": "2.0.0",
      "model_name": "FloatProgressModel",
      "state": {
       "bar_style": "success",
       "layout": "IPY_MODEL_a236b397510442329ac02b119ec00805",
       "max": 2,
       "style": "IPY_MODEL_86671bd6582c4c87982930f951334e7c",
       "value": 2
      }
     },
     "c8063fed642046c19b152b533ec5ec1e": {
      "model_module": "@jupyter-widgets/base",
      "model_module_version": "2.0.0",
      "model_name": "LayoutModel",
      "state": {}
     },
     "c9d7c028f889442b8b9083d8f05d6768": {
      "model_module": "@jupyter-widgets/controls",
      "model_module_version": "2.0.0",
      "model_name": "HBoxModel",
      "state": {
       "children": [
        "IPY_MODEL_839b0b01a0d1477f94e0c6ddefe90cb4",
        "IPY_MODEL_8c4c34a3f655422ca0b99de5205e3017",
        "IPY_MODEL_a743041ffb274f4aa4fb7345e7fcc62d"
       ],
       "layout": "IPY_MODEL_7a56813f84d44db48c9a7a155b2107c6"
      }
     },
     "ca18189667774b4b9601f31dbfdcd51f": {
      "model_module": "@jupyter-widgets/base",
      "model_module_version": "2.0.0",
      "model_name": "LayoutModel",
      "state": {}
     },
     "cb3843edb3b0434eaaba748a31c8541e": {
      "model_module": "@jupyter-widgets/base",
      "model_module_version": "2.0.0",
      "model_name": "LayoutModel",
      "state": {}
     },
     "cb577887734c4b66b598324aa1ce873d": {
      "model_module": "@jupyter-widgets/base",
      "model_module_version": "2.0.0",
      "model_name": "LayoutModel",
      "state": {}
     },
     "cbe9ac59b91444aeb607d4eb2ec24bc4": {
      "model_module": "@jupyter-widgets/base",
      "model_module_version": "2.0.0",
      "model_name": "LayoutModel",
      "state": {}
     },
     "ccc8fe38ce714866beebfedc7bf76e6a": {
      "model_module": "@jupyter-widgets/controls",
      "model_module_version": "2.0.0",
      "model_name": "HTMLStyleModel",
      "state": {
       "description_width": "",
       "font_size": null,
       "text_color": null
      }
     },
     "ccff8f765f73419490dce4a8001884d3": {
      "model_module": "@jupyter-widgets/controls",
      "model_module_version": "2.0.0",
      "model_name": "FloatProgressModel",
      "state": {
       "bar_style": "success",
       "layout": "IPY_MODEL_94da3d171a6644a4bbfb61b4e4588cca",
       "max": 4,
       "style": "IPY_MODEL_6612bcbd8d21465b9774d010164408d4",
       "value": 4
      }
     },
     "cd4e154eb93a44e0b821913ab8daf845": {
      "model_module": "@jupyter-widgets/controls",
      "model_module_version": "2.0.0",
      "model_name": "HTMLStyleModel",
      "state": {
       "description_width": "",
       "font_size": null,
       "text_color": null
      }
     },
     "cdd0e6e9a2d84160b1760439e45169c8": {
      "model_module": "@jupyter-widgets/base",
      "model_module_version": "2.0.0",
      "model_name": "LayoutModel",
      "state": {}
     },
     "cde3b4427519474689b3665bfbf35d0c": {
      "model_module": "@jupyter-widgets/controls",
      "model_module_version": "2.0.0",
      "model_name": "HTMLModel",
      "state": {
       "layout": "IPY_MODEL_f7773060ec04487e97ee0e6f668eda8e",
       "style": "IPY_MODEL_a5b06876fe3a4189a051e6f9dd6e700e",
       "value": " 0/4 [01:05&lt;?, ?steps/s]"
      }
     },
     "cf730193053b464a9a37ec13ce31618c": {
      "model_module": "@jupyter-widgets/controls",
      "model_module_version": "2.0.0",
      "model_name": "FloatProgressModel",
      "state": {
       "bar_style": "danger",
       "layout": "IPY_MODEL_48c2053d6f1a4a298579a7a38c174757",
       "max": 3,
       "style": "IPY_MODEL_78efe7e0cff04c79b9de4f2e49dd658d"
      }
     },
     "cf73a5de39ea46d690a926eb024edf5f": {
      "model_module": "@jupyter-widgets/controls",
      "model_module_version": "2.0.0",
      "model_name": "HTMLStyleModel",
      "state": {
       "description_width": "",
       "font_size": null,
       "text_color": null
      }
     },
     "d036badfad7f4e648f049bc7f7d4089d": {
      "model_module": "@jupyter-widgets/controls",
      "model_module_version": "2.0.0",
      "model_name": "ProgressStyleModel",
      "state": {
       "description_width": ""
      }
     },
     "d045bc6695e248189ad834a2fdd87980": {
      "model_module": "@jupyter-widgets/base",
      "model_module_version": "2.0.0",
      "model_name": "LayoutModel",
      "state": {}
     },
     "d06aa9d133774899ad82dcc0c70a6eaa": {
      "model_module": "@jupyter-widgets/controls",
      "model_module_version": "2.0.0",
      "model_name": "HTMLModel",
      "state": {
       "layout": "IPY_MODEL_e7bda1fc3b974a769aa8afacbe297267",
       "style": "IPY_MODEL_4805519850a6432698f20ced708347d3",
       "value": " 0/4 [01:56&lt;?, ?steps/s]"
      }
     },
     "d133321e08c14829858ec0782d2f945c": {
      "model_module": "@jupyter-widgets/base",
      "model_module_version": "2.0.0",
      "model_name": "LayoutModel",
      "state": {}
     },
     "d13cc4ff11ba4628953bb4799a7219dd": {
      "model_module": "@jupyter-widgets/controls",
      "model_module_version": "2.0.0",
      "model_name": "HTMLModel",
      "state": {
       "layout": "IPY_MODEL_7ec492b5926943789018b3430cdebc60",
       "style": "IPY_MODEL_df994db60a3648b98f8553efc974334e",
       "value": "  0%"
      }
     },
     "d19c514ef5f341dfadda8f70fcf9bd45": {
      "model_module": "@jupyter-widgets/controls",
      "model_module_version": "2.0.0",
      "model_name": "HBoxModel",
      "state": {
       "children": [
        "IPY_MODEL_3279acab42f94d6f8673b0b472ba7f34",
        "IPY_MODEL_3bef52ea24e441c8a0f47936127dce9d",
        "IPY_MODEL_6dd90fe8d8c24059b140701276014ba2"
       ],
       "layout": "IPY_MODEL_8bfb309244574d68b4ff03a1481797af"
      }
     },
     "d2bc569bc81743619ea648cf6c491e82": {
      "model_module": "@jupyter-widgets/base",
      "model_module_version": "2.0.0",
      "model_name": "LayoutModel",
      "state": {}
     },
     "d3110ed4a8ed4131a6fc9d69ed29a435": {
      "model_module": "@jupyter-widgets/controls",
      "model_module_version": "2.0.0",
      "model_name": "HTMLModel",
      "state": {
       "layout": "IPY_MODEL_77768d4b287a4884b1bbd868d05c59e7",
       "style": "IPY_MODEL_4e0c90489579445bba8e3fd437f07dd6",
       "value": "100%"
      }
     },
     "d3680be7e9a042e2b3929c21a5ff6717": {
      "model_module": "@jupyter-widgets/controls",
      "model_module_version": "2.0.0",
      "model_name": "HTMLModel",
      "state": {
       "layout": "IPY_MODEL_2f87498d5e9b4f1a886905194cb83038",
       "style": "IPY_MODEL_4b40ddbb3602439c8514381d3171004a",
       "value": " 0/2 [00:23&lt;?, ?steps/s]"
      }
     },
     "d38e6a17e80142a6af9b9e31bff23877": {
      "model_module": "@jupyter-widgets/base",
      "model_module_version": "2.0.0",
      "model_name": "LayoutModel",
      "state": {}
     },
     "d3c0e0fef7e34f9ebe57d8cd1d4cb2be": {
      "model_module": "@jupyter-widgets/controls",
      "model_module_version": "2.0.0",
      "model_name": "HTMLStyleModel",
      "state": {
       "description_width": "",
       "font_size": null,
       "text_color": null
      }
     },
     "d3fcf90a772a48dab2be9de409b79a7a": {
      "model_module": "@jupyter-widgets/base",
      "model_module_version": "2.0.0",
      "model_name": "LayoutModel",
      "state": {}
     },
     "d46e6a6b42c84660aaa7c61360ef39af": {
      "model_module": "@jupyter-widgets/controls",
      "model_module_version": "2.0.0",
      "model_name": "HTMLModel",
      "state": {
       "layout": "IPY_MODEL_c663b635082d4259b919dd0c7699afe2",
       "style": "IPY_MODEL_85a5a7f433ed4be8924bfb3eab17b84c",
       "value": " 2/2 [00:01&lt;00:00,  1.12it/s]"
      }
     },
     "d5091004f611498dae7ec0c7888616a1": {
      "model_module": "@jupyter-widgets/controls",
      "model_module_version": "2.0.0",
      "model_name": "HTMLModel",
      "state": {
       "layout": "IPY_MODEL_7e96bf0da318434380d0df46f6a53008",
       "style": "IPY_MODEL_b055e86df6fb4ce985389b623ca9fea8",
       "value": "100%"
      }
     },
     "d5f0248fb60e44af94e42b8da9ca5465": {
      "model_module": "@jupyter-widgets/controls",
      "model_module_version": "2.0.0",
      "model_name": "HTMLModel",
      "state": {
       "layout": "IPY_MODEL_b6c5ecc2ee4c44b49c8de6d2572da8d5",
       "style": "IPY_MODEL_abb0f3ebc0424b5483ebf526a9571e84",
       "value": "100%"
      }
     },
     "d74144f82c194e53846e074bf2a78a0f": {
      "model_module": "@jupyter-widgets/base",
      "model_module_version": "2.0.0",
      "model_name": "LayoutModel",
      "state": {}
     },
     "d783abbb0aa04e609f5bedb8e9d4aac1": {
      "model_module": "@jupyter-widgets/base",
      "model_module_version": "2.0.0",
      "model_name": "LayoutModel",
      "state": {}
     },
     "d798edf5a70640898126c3068c733e30": {
      "model_module": "@jupyter-widgets/controls",
      "model_module_version": "2.0.0",
      "model_name": "HBoxModel",
      "state": {
       "children": [
        "IPY_MODEL_eed3d08a1da04cc3b1c9b965d060bf75",
        "IPY_MODEL_79f02d51406649eeb784d31f68053a86",
        "IPY_MODEL_774dc3852e5c4af6a68c70e6d86d8c09"
       ],
       "layout": "IPY_MODEL_6d8e47c815e7436cb36e790be9d14ea1"
      }
     },
     "d7a43b93af414513822a4bf184185850": {
      "model_module": "@jupyter-widgets/base",
      "model_module_version": "2.0.0",
      "model_name": "LayoutModel",
      "state": {}
     },
     "d83da310483f42c9ac96729846a99ab0": {
      "model_module": "@jupyter-widgets/controls",
      "model_module_version": "2.0.0",
      "model_name": "HTMLStyleModel",
      "state": {
       "description_width": "",
       "font_size": null,
       "text_color": null
      }
     },
     "da40abaed5c64c6180e153f25b6fe7cf": {
      "model_module": "@jupyter-widgets/controls",
      "model_module_version": "2.0.0",
      "model_name": "HBoxModel",
      "state": {
       "children": [
        "IPY_MODEL_ab6ac72b3ba846c0b05c263518fd41c9",
        "IPY_MODEL_e614c8f1454546e38f2c655b84aac92d",
        "IPY_MODEL_d3680be7e9a042e2b3929c21a5ff6717"
       ],
       "layout": "IPY_MODEL_aea70c1409604db08f5d5e53848c6c1b"
      }
     },
     "db78499408584e4fbe622f4aded3f7eb": {
      "model_module": "@jupyter-widgets/base",
      "model_module_version": "2.0.0",
      "model_name": "LayoutModel",
      "state": {}
     },
     "dd5b1d3dc3484fc591c1aef573bc51e9": {
      "model_module": "@jupyter-widgets/controls",
      "model_module_version": "2.0.0",
      "model_name": "HTMLStyleModel",
      "state": {
       "description_width": "",
       "font_size": null,
       "text_color": null
      }
     },
     "de6ea4da17d54f67b7566460ceec7224": {
      "model_module": "@jupyter-widgets/controls",
      "model_module_version": "2.0.0",
      "model_name": "HTMLStyleModel",
      "state": {
       "description_width": "",
       "font_size": null,
       "text_color": null
      }
     },
     "df994db60a3648b98f8553efc974334e": {
      "model_module": "@jupyter-widgets/controls",
      "model_module_version": "2.0.0",
      "model_name": "HTMLStyleModel",
      "state": {
       "description_width": "",
       "font_size": null,
       "text_color": null
      }
     },
     "dfb60d327d4743949581bc91f6af6786": {
      "model_module": "@jupyter-widgets/base",
      "model_module_version": "2.0.0",
      "model_name": "LayoutModel",
      "state": {}
     },
     "dff8d333659c42eea1e4024f4b2b9cfc": {
      "model_module": "@jupyter-widgets/controls",
      "model_module_version": "2.0.0",
      "model_name": "DropdownModel",
      "state": {
       "_options_labels": [
        "CPU",
        "GPU.0",
        "GPU.1",
        "AUTO"
       ],
       "description": "Device:",
       "index": 0,
       "layout": "IPY_MODEL_b69bb00106a343f29332f876d8ec016a",
       "style": "IPY_MODEL_0761b45ae96b45f989c86b0416ca1f0c"
      }
     },
     "e24c558861e5437fa83fb000f1adaf00": {
      "model_module": "@jupyter-widgets/controls",
      "model_module_version": "2.0.0",
      "model_name": "HTMLModel",
      "state": {
       "layout": "IPY_MODEL_61abdf04a8bf48358ead245bd5fc4ec6",
       "style": "IPY_MODEL_d3c0e0fef7e34f9ebe57d8cd1d4cb2be",
       "value": "100%"
      }
     },
     "e3cfa64f1570424eae738f71aba89f45": {
      "model_module": "@jupyter-widgets/controls",
      "model_module_version": "2.0.0",
      "model_name": "ProgressStyleModel",
      "state": {
       "description_width": ""
      }
     },
     "e45019faa2d647e78cf20fda4ad41219": {
      "model_module": "@jupyter-widgets/controls",
      "model_module_version": "2.0.0",
      "model_name": "DropdownModel",
      "state": {
       "_options_labels": [
        "CPU",
        "GPU.0",
        "GPU.1",
        "AUTO"
       ],
       "description": "Device:",
       "index": 0,
       "layout": "IPY_MODEL_a27eeb2304a54a25a00bca7074082ca7",
       "style": "IPY_MODEL_2d6086f0be92462f8635085db84bc904"
      }
     },
     "e4e33fb2dd3b4316b45915fa6519a813": {
      "model_module": "@jupyter-widgets/controls",
      "model_module_version": "2.0.0",
      "model_name": "HTMLModel",
      "state": {
       "layout": "IPY_MODEL_45a62e012a4b40ad8025dff101a52b9f",
       "style": "IPY_MODEL_3f7887f3070e4e45a4b16a6ed7ab8c0b",
       "value": "100%"
      }
     },
     "e50ea85900c84ec0bb6986f8599e5d11": {
      "model_module": "@jupyter-widgets/controls",
      "model_module_version": "2.0.0",
      "model_name": "HTMLStyleModel",
      "state": {
       "description_width": "",
       "font_size": null,
       "text_color": null
      }
     },
     "e5aa08c799964ab1a6728eebba769a62": {
      "model_module": "@jupyter-widgets/controls",
      "model_module_version": "2.0.0",
      "model_name": "HBoxModel",
      "state": {
       "children": [
        "IPY_MODEL_4323c1be6ffb4303b05d04fe395f23ee",
        "IPY_MODEL_1a9426b3c68541b78cf3af8ba902d215",
        "IPY_MODEL_66655e041fab4d8d9c7b617e8c64ec99"
       ],
       "layout": "IPY_MODEL_ec1527c85941477785f8ec6ce0054149"
      }
     },
     "e5cb17d9d9bc43bd89fe856cd9258b20": {
      "model_module": "@jupyter-widgets/controls",
      "model_module_version": "2.0.0",
      "model_name": "HTMLModel",
      "state": {
       "layout": "IPY_MODEL_a235c30e87f9466a8cce992bb4001542",
       "style": "IPY_MODEL_0483933700034f6c999bdf4a5e50314d",
       "value": "  0%"
      }
     },
     "e614c8f1454546e38f2c655b84aac92d": {
      "model_module": "@jupyter-widgets/controls",
      "model_module_version": "2.0.0",
      "model_name": "FloatProgressModel",
      "state": {
       "bar_style": "danger",
       "layout": "IPY_MODEL_e6a367a3be174799bdf420597b037f29",
       "max": 2,
       "style": "IPY_MODEL_fc753435cb0649858729f3d38063d689"
      }
     },
     "e677b574c2b243d58e2b11b51bfd468d": {
      "model_module": "@jupyter-widgets/controls",
      "model_module_version": "2.0.0",
      "model_name": "HTMLStyleModel",
      "state": {
       "description_width": "",
       "font_size": null,
       "text_color": null
      }
     },
     "e6a367a3be174799bdf420597b037f29": {
      "model_module": "@jupyter-widgets/base",
      "model_module_version": "2.0.0",
      "model_name": "LayoutModel",
      "state": {}
     },
     "e7a8f303191b45f7af3984a89772f9af": {
      "model_module": "@jupyter-widgets/base",
      "model_module_version": "2.0.0",
      "model_name": "LayoutModel",
      "state": {}
     },
     "e7bda1fc3b974a769aa8afacbe297267": {
      "model_module": "@jupyter-widgets/base",
      "model_module_version": "2.0.0",
      "model_name": "LayoutModel",
      "state": {}
     },
     "ec1527c85941477785f8ec6ce0054149": {
      "model_module": "@jupyter-widgets/base",
      "model_module_version": "2.0.0",
      "model_name": "LayoutModel",
      "state": {}
     },
     "ec762bfa03e44e2fadb3480f62240af7": {
      "model_module": "@jupyter-widgets/controls",
      "model_module_version": "2.0.0",
      "model_name": "ProgressStyleModel",
      "state": {
       "description_width": ""
      }
     },
     "eca57f593a7c44ba8635d60aa4f4dd4b": {
      "model_module": "@jupyter-widgets/controls",
      "model_module_version": "2.0.0",
      "model_name": "ProgressStyleModel",
      "state": {
       "description_width": ""
      }
     },
     "ed2a144c6b44467a867ccb82a0cc9f35": {
      "model_module": "@jupyter-widgets/base",
      "model_module_version": "2.0.0",
      "model_name": "LayoutModel",
      "state": {}
     },
     "ed342cad18fc4940afcab38f9c8ab528": {
      "model_module": "@jupyter-widgets/controls",
      "model_module_version": "2.0.0",
      "model_name": "HTMLModel",
      "state": {
       "layout": "IPY_MODEL_81ad8486de6049c199647dc651d0b132",
       "style": "IPY_MODEL_18711ba9811e465d8e9c52ca6ef000cd",
       "value": " 2/2 [00:01&lt;00:00,  1.13it/s]"
      }
     },
     "ed81001ef8274c2495f163b55bc6c152": {
      "model_module": "@jupyter-widgets/controls",
      "model_module_version": "2.0.0",
      "model_name": "FloatProgressModel",
      "state": {
       "bar_style": "success",
       "layout": "IPY_MODEL_ac3419132bff4725b439d84587d3329a",
       "max": 2,
       "style": "IPY_MODEL_b8ca2d1898ce4fe09f1302ef86a9488d",
       "value": 2
      }
     },
     "ed869480ce1441289d48788b88cc144f": {
      "model_module": "@jupyter-widgets/base",
      "model_module_version": "2.0.0",
      "model_name": "LayoutModel",
      "state": {}
     },
     "eed3d08a1da04cc3b1c9b965d060bf75": {
      "model_module": "@jupyter-widgets/controls",
      "model_module_version": "2.0.0",
      "model_name": "HTMLModel",
      "state": {
       "layout": "IPY_MODEL_29b3541f0f3b42be9dd26f4e5ee991ce",
       "style": "IPY_MODEL_74f03ce28bbb4ea0b902a3d7e22d9614",
       "value": "100%"
      }
     },
     "ef73f78f281545488ebd5dd5b44a026c": {
      "model_module": "@jupyter-widgets/controls",
      "model_module_version": "2.0.0",
      "model_name": "FloatProgressModel",
      "state": {
       "bar_style": "danger",
       "layout": "IPY_MODEL_c65da9e46f2548c2a0eb3afcc8d42d2e",
       "max": 4,
       "style": "IPY_MODEL_e3cfa64f1570424eae738f71aba89f45"
      }
     },
     "efcfcd0c5adb47deba044141711c526a": {
      "model_module": "@jupyter-widgets/controls",
      "model_module_version": "2.0.0",
      "model_name": "DescriptionStyleModel",
      "state": {
       "description_width": ""
      }
     },
     "efdbc0e2d6d841b8949e30e534b8f0b7": {
      "model_module": "@jupyter-widgets/controls",
      "model_module_version": "2.0.0",
      "model_name": "HTMLStyleModel",
      "state": {
       "description_width": "",
       "font_size": null,
       "text_color": null
      }
     },
     "f05f207d8c8948bdafd7c31a2e2a101d": {
      "model_module": "@jupyter-widgets/base",
      "model_module_version": "2.0.0",
      "model_name": "LayoutModel",
      "state": {}
     },
     "f0c8d059fc9d42f18961aaae74981526": {
      "model_module": "@jupyter-widgets/controls",
      "model_module_version": "2.0.0",
      "model_name": "HTMLStyleModel",
      "state": {
       "description_width": "",
       "font_size": null,
       "text_color": null
      }
     },
     "f1e30e6501ed4819b6f2625a9c663cb9": {
      "model_module": "@jupyter-widgets/base",
      "model_module_version": "2.0.0",
      "model_name": "LayoutModel",
      "state": {}
     },
     "f514d1b7b419445eaab536ab4ea912b6": {
      "model_module": "@jupyter-widgets/base",
      "model_module_version": "2.0.0",
      "model_name": "LayoutModel",
      "state": {}
     },
     "f515bc3ce78b47d2bef3139321df1e6c": {
      "model_module": "@jupyter-widgets/base",
      "model_module_version": "2.0.0",
      "model_name": "LayoutModel",
      "state": {}
     },
     "f5a3a5fefaa44718b12d999d14cf0573": {
      "model_module": "@jupyter-widgets/controls",
      "model_module_version": "2.0.0",
      "model_name": "HTMLModel",
      "state": {
       "layout": "IPY_MODEL_cdd0e6e9a2d84160b1760439e45169c8",
       "style": "IPY_MODEL_991b465c748948bb8f34240ca13ba999",
       "value": " 0/4 [00:10&lt;?, ?steps/s]"
      }
     },
     "f69796a00cf4429cb242141847e5e856": {
      "model_module": "@jupyter-widgets/controls",
      "model_module_version": "2.0.0",
      "model_name": "FloatProgressModel",
      "state": {
       "bar_style": "danger",
       "layout": "IPY_MODEL_a53880387ac54ddca0b77c62f478c851",
       "max": 4,
       "style": "IPY_MODEL_a72a2449567241ecb070b35ef1f36afa"
      }
     },
     "f7773060ec04487e97ee0e6f668eda8e": {
      "model_module": "@jupyter-widgets/base",
      "model_module_version": "2.0.0",
      "model_name": "LayoutModel",
      "state": {}
     },
     "f800a40572f747bea1f9cb71a667d4bb": {
      "model_module": "@jupyter-widgets/base",
      "model_module_version": "2.0.0",
      "model_name": "LayoutModel",
      "state": {}
     },
     "f821c997c2b445ca9745480333e0cdb9": {
      "model_module": "@jupyter-widgets/controls",
      "model_module_version": "2.0.0",
      "model_name": "HTMLModel",
      "state": {
       "layout": "IPY_MODEL_5a71486a06cb476cbcd05aa8744db5ac",
       "style": "IPY_MODEL_4b9e47b335bb47e7a355682188903d31",
       "value": " 0/3 [00:49&lt;?, ?steps/s]"
      }
     },
     "f84cb5ef5ea5499f906b5597b63c2593": {
      "model_module": "@jupyter-widgets/base",
      "model_module_version": "2.0.0",
      "model_name": "LayoutModel",
      "state": {}
     },
     "f9670ac7c0664e848b04532e466b88bb": {
      "model_module": "@jupyter-widgets/base",
      "model_module_version": "2.0.0",
      "model_name": "LayoutModel",
      "state": {}
     },
     "fb17d4b0343b40dc8e2875637d05ade5": {
      "model_module": "@jupyter-widgets/controls",
      "model_module_version": "2.0.0",
      "model_name": "ProgressStyleModel",
      "state": {
       "description_width": ""
      }
     },
     "fb1c48e0864c4287a17e3912aa684d8f": {
      "model_module": "@jupyter-widgets/controls",
      "model_module_version": "2.0.0",
      "model_name": "HTMLStyleModel",
      "state": {
       "description_width": "",
       "font_size": null,
       "text_color": null
      }
     },
     "fb77b07e888a49e4a416720105d52930": {
      "model_module": "@jupyter-widgets/controls",
      "model_module_version": "2.0.0",
      "model_name": "HTMLModel",
      "state": {
       "layout": "IPY_MODEL_d74144f82c194e53846e074bf2a78a0f",
       "style": "IPY_MODEL_485fdebd173d460bb0762344bd4c19cf",
       "value": "100%"
      }
     },
     "fba50c782762457bb9d100d85171b38d": {
      "model_module": "@jupyter-widgets/controls",
      "model_module_version": "2.0.0",
      "model_name": "HBoxModel",
      "state": {
       "children": [
        "IPY_MODEL_e4e33fb2dd3b4316b45915fa6519a813",
        "IPY_MODEL_aa7e09c3148641b7af507d76cc22600f",
        "IPY_MODEL_732cfe5a3fd54312918d149b30bfe460"
       ],
       "layout": "IPY_MODEL_dfb60d327d4743949581bc91f6af6786"
      }
     },
     "fbd33b293af34cf2acd8b61c64a6d079": {
      "model_module": "@jupyter-widgets/controls",
      "model_module_version": "2.0.0",
      "model_name": "ProgressStyleModel",
      "state": {
       "description_width": ""
      }
     },
     "fbe16a7cb82c4d01afc4bf1576c79aa0": {
      "model_module": "@jupyter-widgets/controls",
      "model_module_version": "2.0.0",
      "model_name": "FloatProgressModel",
      "state": {
       "layout": "IPY_MODEL_50feb9ddfa754832ae0fc583c3c54d44",
       "max": 5,
       "style": "IPY_MODEL_7ffb3b6506e649709ca12dbbe09c9540"
      }
     },
     "fbec69928a64494fa867948b365130c7": {
      "model_module": "@jupyter-widgets/controls",
      "model_module_version": "2.0.0",
      "model_name": "HTMLStyleModel",
      "state": {
       "description_width": "",
       "font_size": null,
       "text_color": null
      }
     },
     "fc753435cb0649858729f3d38063d689": {
      "model_module": "@jupyter-widgets/controls",
      "model_module_version": "2.0.0",
      "model_name": "ProgressStyleModel",
      "state": {
       "description_width": ""
      }
     },
     "fca0f343ad32435388a194b5c40831a7": {
      "model_module": "@jupyter-widgets/base",
      "model_module_version": "2.0.0",
      "model_name": "LayoutModel",
      "state": {}
     },
     "fce1bda020a24390a97565ef6aa3df0b": {
      "model_module": "@jupyter-widgets/controls",
      "model_module_version": "2.0.0",
      "model_name": "ProgressStyleModel",
      "state": {
       "description_width": ""
      }
     },
     "fd1384a0e6df494d938a9dea2078bde6": {
      "model_module": "@jupyter-widgets/controls",
      "model_module_version": "2.0.0",
      "model_name": "HTMLModel",
      "state": {
       "layout": "IPY_MODEL_15800b6146ec4a49812db826366ee7ed",
       "style": "IPY_MODEL_ac4843c137e442238bb2a82a3c68c02c",
       "value": " 3/3 [00:02&lt;00:00,  1.14it/s]"
      }
     },
     "fe84b89ace7148dd80f5223ca60e10af": {
      "model_module": "@jupyter-widgets/base",
      "model_module_version": "2.0.0",
      "model_name": "LayoutModel",
      "state": {}
     },
     "ff8dd46be2a04abaaaadc58fb2e4e754": {
      "model_module": "@jupyter-widgets/controls",
      "model_module_version": "2.0.0",
      "model_name": "HBoxModel",
      "state": {
       "children": [
        "IPY_MODEL_24ee53c1d8b440619ccaf62d66b1cc13",
        "IPY_MODEL_f69796a00cf4429cb242141847e5e856",
        "IPY_MODEL_00d04978ea95458db3c9eb106d1fe2aa"
       ],
       "layout": "IPY_MODEL_615ba4495f6f4fff99461ec73ce90d0e"
      }
     }
    },
    "version_major": 2,
    "version_minor": 0
   }
  }
 },
 "nbformat": 4,
 "nbformat_minor": 5
}
