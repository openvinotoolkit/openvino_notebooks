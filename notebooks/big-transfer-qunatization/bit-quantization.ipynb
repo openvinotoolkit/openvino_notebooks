{
 "cells": [
  {
   "cell_type": "code",
   "execution_count": 1,
   "metadata": {},
   "outputs": [
    {
     "name": "stdout",
     "output_type": "stream",
     "text": [
      "Note: you may need to restart the kernel to use updated packages.\n"
     ]
    }
   ],
   "source": [
    "import sys\n",
    "import importlib.util\n",
    "\n",
    "%pip install -q \"openvino>=2023.1.0\" \"nncf==2.4.0\" \"tensorflow-hub>=0.15.0\" \"tensorflow_datasets\"\n"
   ]
  },
  {
   "cell_type": "code",
   "execution_count": 2,
   "metadata": {},
   "outputs": [
    {
     "name": "stderr",
     "output_type": "stream",
     "text": [
      "2023-12-11 15:58:57.883729: I tensorflow/core/util/port.cc:111] oneDNN custom operations are on. You may see slightly different numerical results due to floating-point round-off errors from different computation orders. To turn them off, set the environment variable `TF_ENABLE_ONEDNN_OPTS=0`.\n",
      "2023-12-11 15:58:57.886838: I tensorflow/tsl/cuda/cudart_stub.cc:28] Could not find cuda drivers on your machine, GPU will not be used.\n",
      "2023-12-11 15:58:57.929086: E tensorflow/compiler/xla/stream_executor/cuda/cuda_dnn.cc:9342] Unable to register cuDNN factory: Attempting to register factory for plugin cuDNN when one has already been registered\n",
      "2023-12-11 15:58:57.929118: E tensorflow/compiler/xla/stream_executor/cuda/cuda_fft.cc:609] Unable to register cuFFT factory: Attempting to register factory for plugin cuFFT when one has already been registered\n",
      "2023-12-11 15:58:57.929146: E tensorflow/compiler/xla/stream_executor/cuda/cuda_blas.cc:1518] Unable to register cuBLAS factory: Attempting to register factory for plugin cuBLAS when one has already been registered\n",
      "2023-12-11 15:58:57.936876: I tensorflow/tsl/cuda/cudart_stub.cc:28] Could not find cuda drivers on your machine, GPU will not be used.\n",
      "2023-12-11 15:58:57.937589: I tensorflow/core/platform/cpu_feature_guard.cc:182] This TensorFlow binary is optimized to use available CPU instructions in performance-critical operations.\n",
      "To enable the following instructions: AVX2 AVX512F AVX512_VNNI FMA, in other operations, rebuild TensorFlow with the appropriate compiler flags.\n",
      "2023-12-11 15:58:59.085450: W tensorflow/compiler/tf2tensorrt/utils/py_utils.cc:38] TF-TRT Warning: Could not find TensorRT\n"
     ]
    },
    {
     "name": "stdout",
     "output_type": "stream",
     "text": [
      "[ WARNING ] /home/psakhamo/miniconda3/envs/big_transfer_ipynb/lib/python3.11/site-packages/openvino/tools/accuracy_checker/preprocessor/launcher_preprocessing/ie_preprocessor.py:21: FutureWarning: OpenVINO Inference Engine Python API is deprecated and will be removed in 2024.0 release.For instructions on transitioning to the new API, please refer to https://docs.openvino.ai/latest/openvino_2_0_transition_guide.html\n",
      "  from openvino.inference_engine import ResizeAlgorithm, PreProcessInfo, ColorFormat, MeanVariant  # pylint: disable=import-outside-toplevel,package-absolute-imports\n",
      "\n",
      "[ WARNING ] /home/psakhamo/miniconda3/envs/big_transfer_ipynb/lib/python3.11/site-packages/openvino/tools/accuracy_checker/launcher/dlsdk_launcher.py:60: FutureWarning: OpenVINO nGraph Python API is deprecated and will be removed in 2024.0 release.For instructions on transitioning to the new API, please refer to https://docs.openvino.ai/latest/openvino_2_0_transition_guide.html\n",
      "  import ngraph as ng\n",
      "\n"
     ]
    },
    {
     "name": "stderr",
     "output_type": "stream",
     "text": [
      "Post-training Optimization Tool is deprecated and will be removed in the future. Please use Neural Network Compression Framework instead: https://github.com/openvinotoolkit/nncf\n",
      "Nevergrad package could not be imported. If you are planning to use any hyperparameter optimization algo, consider installing it using pip. This implies advanced usage of the tool. Note that nevergrad is compatible only with Python 3.8+\n"
     ]
    },
    {
     "name": "stdout",
     "output_type": "stream",
     "text": [
      "INFO:nncf:NNCF initialized successfully. Supported frameworks detected: torch, tensorflow, onnx, openvino\n"
     ]
    }
   ],
   "source": [
    "import os, sys\n",
    "import numpy as np\n",
    "from pathlib import Path \n",
    "\n",
    "from openvino.runtime import Core\n",
    "import openvino as ov\n",
    "import nncf\n",
    "import logging\n",
    "\n",
    "sys.path.append(\"../utils\")\n",
    "from notebook_utils import download_file\n",
    "from nncf.common.logging.logger import set_log_level\n",
    "set_log_level(logging.ERROR)\n",
    "\n",
    "import tensorflow as tf\n",
    "import tensorflow_datasets as tfds\n",
    "import tensorflow_hub as hub\n",
    "from tensorflow import keras\n",
    "\n",
    "from PIL import Image\n",
    "from sklearn.metrics import accuracy_score"
   ]
  },
  {
   "cell_type": "markdown",
   "metadata": {},
   "source": [
    "Initializations"
   ]
  },
  {
   "cell_type": "code",
   "execution_count": 3,
   "metadata": {},
   "outputs": [],
   "source": [
    "ie = Core()\n",
    "tf.compat.v1.logging.set_verbosity(tf.compat.v1.logging.ERROR)\n",
    "os.environ['TF_CPP_MIN_LOG_LEVEL'] = '2'\n",
    "\n",
    "\n",
    "# For top 5 labels.\n",
    "MAX_PREDS = 1\n",
    "TRAINING_BATCH_SIZE = 128\n",
    "BATCH_SIZE = 1\n",
    "IMG_SIZE = (256, 256)  # Default Imagenet image size\n",
    "NUM_CLASSES = 10  # For Imagenette dataset\n",
    "FINE_TUNING_STEPS = 1\n",
    "LR = 1e-5\n",
    "\n",
    "MEAN_RGB = (0.485 * 255, 0.456 * 255, 0.406 * 255)  # From Imagenet dataset\n",
    "STDDEV_RGB = (0.229 * 255, 0.224 * 255, 0.225 * 255)  # From Imagenet dataset\n"
   ]
  },
  {
   "cell_type": "markdown",
   "metadata": {},
   "source": [
    "Dataset Preprocessing"
   ]
  },
  {
   "cell_type": "code",
   "execution_count": 4,
   "metadata": {},
   "outputs": [],
   "source": [
    "datasets, datasets_info = tfds.load('imagenette/160px', shuffle_files=True, as_supervised=True, with_info=True,\n",
    "                                    read_config=tfds.ReadConfig(shuffle_seed=0))\n",
    "train_ds, validation_ds = datasets['train'], datasets['validation']\n",
    "#ds, ds_info = tfds.load('imagenette/full-size', split='validation', shuffle_files=True, as_supervised=True, with_info=True,\n",
    "#                                    read_config=tfds.ReadConfig(shuffle_seed=0))\n",
    "#train_dataset, validation_dataset = datasets['train'], datasets['validation']\n",
    "#validation_dataset = ds"
   ]
  },
  {
   "cell_type": "code",
   "execution_count": 5,
   "metadata": {},
   "outputs": [],
   "source": [
    "\n",
    "def preprocessing(image, label):\n",
    "    image = tf.image.resize(image, IMG_SIZE)\n",
    "    image = tf.cast(image, tf.float32) / 255.0\n",
    "    label = tf.one_hot(label, NUM_CLASSES)\n",
    "    return image, label\n",
    "\n",
    "\n",
    "train_dataset = (train_ds.map(preprocessing, num_parallel_calls=tf.data.experimental.AUTOTUNE)\n",
    "                              .batch(TRAINING_BATCH_SIZE)\n",
    "                              .prefetch(tf.data.experimental.AUTOTUNE))\n",
    "\n",
    "validation_dataset = (validation_ds.map(preprocessing, num_parallel_calls=tf.data.experimental.AUTOTUNE)\n",
    "                                        .batch(TRAINING_BATCH_SIZE)\n",
    "                                        .prefetch(tf.data.experimental.AUTOTUNE))"
   ]
  },
  {
   "cell_type": "markdown",
   "metadata": {},
   "source": [
    "Tensorflow BiT Classification model fine-tuning"
   ]
  },
  {
   "cell_type": "code",
   "execution_count": 6,
   "metadata": {},
   "outputs": [
    {
     "name": "stdout",
     "output_type": "stream",
     "text": [
      "101/101 [==============================] - 479s 4s/step - loss: 0.5609 - accuracy: 0.8675 - val_loss: 0.0756 - val_accuracy: 0.9780\n"
     ]
    }
   ],
   "source": [
    "# Load the BiT model\n",
    "bit_model_url = \"https://tfhub.dev/google/bit/m-r50x1/1\"\n",
    "bit_m = hub.KerasLayer(bit_model_url, trainable=True)\n",
    "\n",
    "# Customize the model for the new task\n",
    "model = tf.keras.Sequential([\n",
    "    bit_m,\n",
    "    tf.keras.layers.Dense(NUM_CLASSES, activation='softmax')\n",
    "])\n",
    "\n",
    "# Compile the model\n",
    "model.compile(optimizer=tf.keras.optimizers.Adam(learning_rate=LR),\n",
    "              loss='categorical_crossentropy',\n",
    "              metrics=['accuracy'])\n",
    "\n",
    "# Fine-tune the model\n",
    "model.fit(train_dataset.take(5000),\n",
    "          epochs=FINE_TUNING_STEPS,\n",
    "          validation_data=validation_dataset.take(2000))\n",
    "model.save(\"./bit_tf_model/\", save_format='tf')"
   ]
  },
  {
   "cell_type": "markdown",
   "metadata": {},
   "source": [
    "OpenVINO Model Optimization: TF FP32 to OV FP32"
   ]
  },
  {
   "cell_type": "code",
   "execution_count": 7,
   "metadata": {},
   "outputs": [
    {
     "name": "stdout",
     "output_type": "stream",
     "text": [
      "Exporting Tensorflow model to IR..!!!\n"
     ]
    }
   ],
   "source": [
    "ir_path = Path(\"./bit_ov_model/bit_m_r50x1_1.xml\")\n",
    "if not ir_path.exists():\n",
    "    print(\"Exporting Tensorflow model to IR..!!!\")\n",
    "    ov_model = ov.convert_model(\"./bit_tf_model\")\n",
    "    ov.save_model(ov_model, ir_path)\n",
    "else:\n",
    "    print(f\"IR model {ir_path} already exists.\")\n",
    "   "
   ]
  },
  {
   "cell_type": "markdown",
   "metadata": {},
   "source": [
    "TF FP32 Model Accuracy"
   ]
  },
  {
   "cell_type": "code",
   "execution_count": 8,
   "metadata": {},
   "outputs": [
    {
     "name": "stderr",
     "output_type": "stream",
     "text": [
      "2023-12-11 16:09:21.910833: W tensorflow/core/common_runtime/graph_constructor.cc:839] Node 're_lu_48/PartitionedCall' has 1 outputs but the _output_shapes attribute specifies shapes for 2 outputs. Output shapes may be inaccurate.\n",
      "2023-12-11 16:09:21.910906: W tensorflow/core/common_runtime/graph_constructor.cc:839] Node 'global_average_pooling2d/PartitionedCall' has 1 outputs but the _output_shapes attribute specifies shapes for 3 outputs. Output shapes may be inaccurate.\n"
     ]
    },
    {
     "name": "stdout",
     "output_type": "stream",
     "text": [
      "TF FP32 Model Accuracy = 0.978\n"
     ]
    }
   ],
   "source": [
    "tf_model = tf.keras.models.load_model(\"./bit_tf_model/\")\n",
    "   \n",
    "tf_predictions = []\n",
    "gt_label = []\n",
    "\n",
    "for _, label in validation_dataset:\n",
    "    for l in label:\n",
    "        l_list = l.numpy().tolist()\n",
    "        gt_label.append(l_list.index(1))\n",
    "        \n",
    "for img_batch, label_batch in validation_dataset:\n",
    "    tf_result_batch = tf_model.predict(img_batch, verbose=0)\n",
    "    for i in range(len(img_batch)):\n",
    "        tf_result = tf_result_batch[i]\n",
    "        tf_result = tf.reshape(tf_result, [-1])\n",
    "        top5_label_idx = np.argsort(tf_result)[-MAX_PREDS::][::-1]\n",
    "        tf_predictions.append(top5_label_idx)\n",
    "\n",
    "# Convert the lists to NumPy arrays for accuracy calculation\n",
    "tf_predictions = np.array(tf_predictions)\n",
    "gt_label = np.array(gt_label)\n",
    "\n",
    "acc_score = accuracy_score(tf_predictions, gt_label)\n",
    "print(f\"TF FP32 Model Accuracy = {acc_score}\")"
   ]
  },
  {
   "cell_type": "markdown",
   "metadata": {},
   "source": [
    "BiT OpenVINO FP32 Model Accuracy "
   ]
  },
  {
   "cell_type": "code",
   "execution_count": 9,
   "metadata": {},
   "outputs": [
    {
     "name": "stdout",
     "output_type": "stream",
     "text": [
      "OV FP32 Model Accuracy = 0.978\n"
     ]
    }
   ],
   "source": [
    "ov_fp32_model = ie.read_model(\"./bit_ov_model/bit_m_r50x1_1.xml\")\n",
    "ov_fp32_model.reshape([1, IMG_SIZE[0], IMG_SIZE[1], 3])\n",
    "\n",
    "# Target device set to CPU (Other options Ex: AUTO/GPU/dGPU/)\n",
    "compiled_model = ov.compile_model(ov_fp32_model)#, device_name=\"CPU\")\n",
    "output = compiled_model.outputs[0]\n",
    "\n",
    "ov_predictions = []\n",
    "for img_batch, _ in validation_dataset:\n",
    "    for image in img_batch:\n",
    "        image = tf.expand_dims(image, axis=0)\n",
    "        pred = compiled_model(image)[output]\n",
    "        ov_result = tf.reshape(pred, [-1])\n",
    "        top_label_idx = np.argsort(ov_result)[-MAX_PREDS::][::-1]\n",
    "        ov_predictions.append(top_label_idx)\n",
    "\n",
    "acc_score = accuracy_score(ov_predictions, gt_label)\n",
    "print(f\"OV FP32 Model Accuracy = {acc_score}\")"
   ]
  },
  {
   "cell_type": "markdown",
   "metadata": {},
   "source": [
    "NNCF: BiT OpenVINO FP32 Model Quantization to INT8"
   ]
  },
  {
   "cell_type": "code",
   "execution_count": 10,
   "metadata": {},
   "outputs": [
    {
     "name": "stdout",
     "output_type": "stream",
     "text": [
      "Preparing NNCF Calibration dataset....!!!\n",
      "Started NNCF qunatization process\n",
      "NNCF qunatization process completed..!!!\n"
     ]
    }
   ],
   "source": [
    "def nncf_preprocessing(image, label):\n",
    "  image = tf.image.resize(image, IMG_SIZE)\n",
    "  image = image - MEAN_RGB\n",
    "  image = image / STDDEV_RGB\n",
    "  label = tf.one_hot(label, NUM_CLASSES)\n",
    "  return image#, label\n",
    "\n",
    "val_ds = (validation_ds.map(nncf_preprocessing, num_parallel_calls=tf.data.experimental.AUTOTUNE)\n",
    "                                        .batch(1)\n",
    "                                        .prefetch(tf.data.experimental.AUTOTUNE))\n",
    "\n",
    "print(\"Preparing NNCF Calibration dataset....!!!\")\n",
    "calibration_dataset = nncf.Dataset(val_ds)\n",
    "    \n",
    "ov_fp32_model = ie.read_model(\"./bit_ov_model/bit_m_r50x1_1.xml\")\n",
    "#ov_fp32_model.reshape([1, IMG_SIZE[0], IMG_SIZE[1], 3])\n",
    "    \n",
    "#print(f\"ov_fp32_model.input_info = {ov_fp32_model.input_info}\")\n",
    "print(\"Started NNCF qunatization process\")\n",
    "ov_int8_model = nncf.quantize(ov_fp32_model, calibration_dataset, fast_bias_correction=False)\n",
    "\n",
    "ov.serialize(ov_int8_model, \"./bit_ov_int8_model/bit_m_r50x1_1_ov_int8.xml\")\n",
    "print(\"NNCF qunatization process completed..!!!\")"
   ]
  },
  {
   "cell_type": "markdown",
   "metadata": {},
   "source": [
    "BiT OpenVINO INT8 Model Accuracy"
   ]
  },
  {
   "cell_type": "code",
   "execution_count": 11,
   "metadata": {},
   "outputs": [],
   "source": [
    "nncf_quantized_model = ie.read_model(\"./bit_ov_int8_model/bit_m_r50x1_1_ov_int8.xml\")\n",
    "nncf_quantized_model.reshape([1, IMG_SIZE[0], IMG_SIZE[1], 3])"
   ]
  },
  {
   "cell_type": "code",
   "execution_count": 12,
   "metadata": {},
   "outputs": [],
   "source": [
    "# Release previously compiled fp32 OV model\n",
    "#compiled_model.release()\n",
    "# Target device set to CPU (Other options Ex: AUTO/GPU/dGPU/)\n",
    "compiled_model = ov.compile_model(nncf_quantized_model)\n",
    "output = compiled_model.outputs[0]"
   ]
  },
  {
   "cell_type": "code",
   "execution_count": 13,
   "metadata": {},
   "outputs": [
    {
     "name": "stdout",
     "output_type": "stream",
     "text": [
      "OV INT8 Model Accuracy = 0.974\n"
     ]
    }
   ],
   "source": [
    "ov_predictions = []\n",
    "inp_tensor = nncf_quantized_model.inputs[0]\n",
    "out_tensor = nncf_quantized_model.outputs[0]\n",
    "        \n",
    "for img_batch, _ in validation_dataset:\n",
    "    for image in img_batch:\n",
    "        image = tf.expand_dims(image, axis=0)\n",
    "        pred = compiled_model(image)[output]\n",
    "        ov_result = tf.reshape(pred, [-1])\n",
    "        top_label_idx = np.argsort(ov_result)[-MAX_PREDS::][::-1]\n",
    "        ov_predictions.append(top_label_idx)\n",
    "        \n",
    "acc_score = accuracy_score(ov_predictions, gt_label)\n",
    "print(f\"OV INT8 Model Accuracy = {acc_score}\")"
   ]
  }
 ],
 "metadata": {
  "kernelspec": {
   "display_name": "Python 3.11.0 ('big_transfer_ipynb')",
   "language": "python",
   "name": "python3"
  },
  "language_info": {
   "codemirror_mode": {
    "name": "ipython",
    "version": 3
   },
   "file_extension": ".py",
   "mimetype": "text/x-python",
   "name": "python",
   "nbconvert_exporter": "python",
   "pygments_lexer": "ipython3",
   "version": "3.11.0"
  },
  "orig_nbformat": 4,
  "vscode": {
   "interpreter": {
    "hash": "374b2cdb0125ad729a0bf7d184e929e9a00ea95c1808fc9bf693319fefdaf0d2"
   }
  }
 },
 "nbformat": 4,
 "nbformat_minor": 2
}
