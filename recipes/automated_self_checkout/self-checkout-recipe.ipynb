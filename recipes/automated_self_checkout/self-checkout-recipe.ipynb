{
 "cells": [
  {
   "cell_type": "markdown",
   "id": "e550b39c-f84f-4ac8-94b7-5623724557bc",
   "metadata": {},
   "source": [
    "# Detect and Track Objects with OpenVINO™ for Self-Checkout\n",
    "\n",
    "Automated self-checkout is a popular application centered around improving shoppers’ experiences through expedited check-out experiences. Consumers can easily grasp an object, place it in a shopping cart, or scan the object in a self-checkout kiosk and purchase the item with minimal contact, allowing for increased operational efficiency.unting.\r\n",
    "\r\n"
   ]
  },
  {
   "cell_type": "markdown",
   "id": "d95f099a-23bb-4c03-bcf6-7bfd3340b138",
   "metadata": {},
   "source": [
    "In this article, you’ll learn how to use OpenVINO™ with Ultralytics’ YOLOv8 and Roboflow’s supervision libraries to create the fundamentals of an Automated Self-Checkout system. This application offers a short and easily modifiable implementation to detect and tracks objects in a zone and provide real-time analytics data regarding whether the object was added or removed from the zone and the IDs of the person who interact with the objects. "
   ]
  },
  {
   "cell_type": "markdown",
   "id": "20093565-419d-4428-8d39-329c4950171a",
   "metadata": {},
   "source": [
    "Because the zone definition is flexible, retailers can define custom zones depending on the type of self-checkout they would like to perform, such as:\n",
    "\n",
    "-\tSelf-checkout counters with designated areas for placing, removing, and bagging the item.\n",
    "-\tDefining a zone on shelves to identify how many objects are removed from shelves for theft detecion.\n",
    "-\tWithin shopping carts to identify how many items users add/remove from the platform/shelf."
   ]
  },
  {
   "cell_type": "markdown",
   "id": "d74a2785-3443-4967-868e-47755f2cb95f",
   "metadata": {},
   "source": [
    "This application leverages the YOLOv8 model and optimization process and tackles similar elements for zone definition also described in **Intelligent Queue Management Edge AI Reference Kit**."
   ]
  },
  {
   "cell_type": "markdown",
   "id": "30cbe295-0777-4a6d-b2dd-9afca8a2794f",
   "metadata": {},
   "source": [
    "> NOTE: This notebook involves performing object detection and tracking on a video clip, for accurate definition of the polygone zone."
   ]
  },
  {
   "cell_type": "markdown",
   "id": "8d510730-ceab-4aa0-946a-6cd055709331",
   "metadata": {},
   "source": [
    "# Imports and Dependencies Installation"
   ]
  },
  {
   "cell_type": "code",
   "execution_count": 162,
   "id": "dc6c71ce-b870-4558-8812-be294758d384",
   "metadata": {
    "scrolled": true
   },
   "outputs": [],
   "source": [
    "!pip install -r requirements.txt\n",
    "\n",
    "from IPython import display\n",
    "display.clear_output()"
   ]
  },
  {
   "cell_type": "code",
   "execution_count": 2,
   "id": "93d7fce1-dd43-41df-b320-bb8201d06415",
   "metadata": {},
   "outputs": [],
   "source": [
    "import supervision as sv\n",
    "from ultralytics import YOLO\n",
    "import cv2\n",
    "import numpy as np\n",
    "from pathlib import Path\n",
    "from collections import Counter\n",
    "import logging as log\n",
    "import json\n",
    "\n",
    "log.basicConfig(level=log.INFO)"
   ]
  },
  {
   "cell_type": "markdown",
   "id": "b1fa3058-d00a-49e8-bfb8-76f18e7ebab1",
   "metadata": {},
   "source": [
    "# Loading our OpenVINO™ YOLO model"
   ]
  },
  {
   "cell_type": "markdown",
   "id": "3420c560-0653-48be-9e14-90929470d4d7",
   "metadata": {},
   "source": [
    "YOLOv8 provides API for convenient model exporting to different formats, including OpenVINO IR. `model.export` is responsible for model conversion. We need to specify the format, and additionally, we could preserve dynamic shapes in the model. It would limit us to use CPU only, so we're not doing this. Also, we specify we want to use half-precision (FP16) to get better performance.\n",
    "\n",
    "Let's load our OpenVINO YOLOv8 model FP16 model via the Ultralytics API for faster inference with a smaller model footprint."
   ]
  },
  {
   "cell_type": "code",
   "execution_count": 27,
   "id": "e5176a81-64ee-456e-8efb-93e7711811a5",
   "metadata": {},
   "outputs": [
    {
     "name": "stderr",
     "output_type": "stream",
     "text": [
      "Ultralytics YOLOv8.0.117  Python-3.10.6 torch-1.13.1+cpu CPU\n",
      "YOLOv8m summary (fused): 218 layers, 25886080 parameters, 0 gradients, 78.9 GFLOPs\n",
      "\n",
      "\u001b[34m\u001b[1mPyTorch:\u001b[0m starting from model\\yolov8m.pt with input shape (1, 3, 640, 640) BCHW and output shape(s) (1, 84, 8400) (49.7 MB)\n",
      "\n",
      "\u001b[34m\u001b[1mONNX:\u001b[0m starting export with onnx 1.14.0 opset 16...\n",
      "\u001b[34m\u001b[1mONNX:\u001b[0m export success  3.2s, saved as model\\yolov8m.onnx (99.0 MB)\n",
      "\n",
      "\u001b[34m\u001b[1mOpenVINO:\u001b[0m starting export with openvino 2023.0.0-10926-b4452d56304-releases/2023/0...\n",
      "\u001b[34m\u001b[1mOpenVINO:\u001b[0m export success  3.7s, saved as model\\yolov8m_openvino_model\\ (49.8 MB)\n",
      "\n",
      "Export complete (9.1s)\n",
      "Results saved to \u001b[1mC:\\Users\\rcheruvu\\Desktop\\openvino_notebooks\\recipes\\automated_detection_tracking\\model\u001b[0m\n",
      "Predict:         yolo predict task=detect model=model\\yolov8m_openvino_model imgsz=640 \n",
      "Validate:        yolo val task=detect model=model\\yolov8m_openvino_model imgsz=640 data=coco.yaml \n",
      "Visualize:       https://netron.app\n",
      "WARNING  Unable to automatically guess model task, assuming 'task=detect'. Explicitly define task for your model, i.e. 'task=detect', 'segment', 'classify', or 'pose'.\n"
     ]
    }
   ],
   "source": [
    "#Specify our models path\n",
    "models_dir = Path('./model')\n",
    "models_dir.mkdir(exist_ok=True)\n",
    "\n",
    "DET_MODEL_NAME = \"yolov8m\"\n",
    "det_model = YOLO(models_dir / f'{DET_MODEL_NAME}.pt')\n",
    "label_map = det_model.model.names\n",
    "\n",
    "# Load our Yolov8 object detection model\n",
    "ov_model_path = Path(f\"model/{DET_MODEL_NAME}_openvino_model/{DET_MODEL_NAME}.xml\")\n",
    "if not ov_model_path.exists():\n",
    "    # export model to OpenVINO format\n",
    "    out_dir = det_model.export(format=\"openvino\", dynamic=False, half=True)\n",
    "\n",
    "model = YOLO('model/yolov8m_openvino_model/')"
   ]
  },
  {
   "cell_type": "markdown",
   "id": "734c1f0f-b117-4f60-9aa3-8b0b982b01c3",
   "metadata": {},
   "source": [
    "# Define and Load a Zone\n",
    "\n",
    "In order to accurately define a zone for our input video clip, we can extract a single video frame from our clip using the Supervision library, and drag and drop it into [Roboflow's open-source Polygon Zone tool](https://roboflow.github.io/polygonzone/) to define the coordinates of our zone.\n",
    "\n",
    "Let's start with loading in a sample video and extracting a single frame."
   ]
  },
  {
   "cell_type": "code",
   "execution_count": 28,
   "id": "98ad8ac8-1a62-4c4b-9408-db86f7c7ce51",
   "metadata": {},
   "outputs": [
    {
     "data": {
      "text/plain": [
       "VideoInfo(width=3840, height=2160, fps=29, total_frames=640)"
      ]
     },
     "execution_count": 28,
     "metadata": {},
     "output_type": "execute_result"
    }
   ],
   "source": [
    "#Load in our sample video\n",
    "VID_PATH = \"data/asset.mp4\"\n",
    "#Show the dimensions and additional information from the video\n",
    "video_info = sv.VideoInfo.from_video_path(VID_PATH)\n",
    "video_info"
   ]
  },
  {
   "cell_type": "code",
   "execution_count": 29,
   "id": "6cb899ca-737b-4626-a494-0f7101898482",
   "metadata": {},
   "outputs": [
    {
     "data": {
      "text/plain": [
       "True"
      ]
     },
     "execution_count": 29,
     "metadata": {},
     "output_type": "execute_result"
    }
   ],
   "source": [
    "#Extract a single frame from the video\n",
    "generator = sv.get_video_frames_generator(VID_PATH)\n",
    "iterator = iter(generator)\n",
    "frame = next(iterator)\n",
    "#Save the frame\n",
    "cv2.imwrite(\"frame.jpg\", frame)"
   ]
  },
  {
   "cell_type": "markdown",
   "id": "6fc046bd-69b4-4a05-b9dc-3f35cfe889c9",
   "metadata": {},
   "source": [
    "Next, we can navigate over to the Polygon Zone tool to extract the coordinates and incorporate them into the zones.json file.\n",
    "\n",
    "We've already included two example configurations as part of the zones.json file that you can also readily leverage."
   ]
  },
  {
   "cell_type": "markdown",
   "id": "707f6d09-bd59-4e71-befc-34a73a4f145d",
   "metadata": {},
   "source": [
    "![Roboflow Tool snapshot](https://github.com/openvinotoolkit/openvino_notebooks/assets/22090501/51d8ef0f-ff7a-42c8-b755-5aaaae9a3a11)"
   ]
  },
  {
   "cell_type": "markdown",
   "id": "05d33b32-c539-4ce6-835f-7463140b3080",
   "metadata": {},
   "source": [
    "Next, let's load our zone coordinates. The following function takes a path to a JSON file that defines zones and their boundaries."
   ]
  },
  {
   "cell_type": "code",
   "execution_count": 30,
   "id": "4f470947-5887-422b-81b4-5cf2b4ed64cc",
   "metadata": {},
   "outputs": [],
   "source": [
    "def load_zones(json_path, zone_str):\n",
    "    \"\"\"\n",
    "        Load zones specified in an external json file\n",
    "        Parameters:\n",
    "            json_path: path to the json file with defined zones\n",
    "            zone_str:  name of the zone in the json file\n",
    "        Returns:\n",
    "           zones: a list of arrays with zone points\n",
    "    \"\"\"\n",
    "    # load json file\n",
    "    with open(json_path) as f:\n",
    "        zones_dict = json.load(f)\n",
    "    # return a list of zones defined by points\n",
    "    return np.array(zones_dict[zone_str][\"points\"], np.int32)"
   ]
  },
  {
   "cell_type": "code",
   "execution_count": 31,
   "id": "ccca375c-b219-4e50-93a8-75fe6e8811c9",
   "metadata": {},
   "outputs": [
    {
     "data": {
      "text/plain": [
       "array([[ 776,  321],\n",
       "       [3092,  305],\n",
       "       [3112, 1965],\n",
       "       [ 596, 2005],\n",
       "       [ 768,  321]])"
      ]
     },
     "execution_count": 31,
     "metadata": {},
     "output_type": "execute_result"
    }
   ],
   "source": [
    "polygon = load_zones(\"zones.json\", \"test-example-1\")\n",
    "polygon"
   ]
  },
  {
   "cell_type": "markdown",
   "id": "87111c2b-1abd-4544-9438-a42891c2e5d9",
   "metadata": {},
   "source": [
    "We can now create PolygonZone, PolygonZoneAnnotator, and BoxAnnotator objects for each zone based on the polygon coordinates we determined."
   ]
  },
  {
   "cell_type": "code",
   "execution_count": 32,
   "id": "6bff6ee2-d595-42a6-8491-4377f8cf3b6b",
   "metadata": {},
   "outputs": [],
   "source": [
    "zone = sv.PolygonZone(polygon=polygon, frame_resolution_wh=video_info.resolution_wh)\n",
    "box_annotator = sv.BoxAnnotator(thickness=4, text_thickness=4, text_scale=2)\n",
    "zone_annotator = sv.PolygonZoneAnnotator(zone=zone, color=sv.Color.white(), thickness=6, text_thickness=6, text_scale=4)"
   ]
  },
  {
   "cell_type": "markdown",
   "id": "424a0e66-cac8-4cba-a4ec-e74a29502854",
   "metadata": {},
   "source": [
    "# Define Helper Functions\n",
    "\n",
    "In this section, we'll define a few helper functions that can helps us with the flow of our self-checkout pipeline.\n",
    "\n",
    "The `draw_text()` function calculates the size of the text and the size of the rectangle that will be drawn around the text based on the image size. It uses the `cv2.rectangle()` function to draw the rectangle and the `cv2.putText()` function to draw the text. We'll need this function to be able to overlay text on our video stream."
   ]
  },
  {
   "cell_type": "code",
   "execution_count": 33,
   "id": "bb92d49c-45d4-4f04-83af-411a1d92f0a0",
   "metadata": {},
   "outputs": [],
   "source": [
    "def draw_text(image, text, point, color=(255, 255, 255)) -> None:\n",
    "    \"\"\"\n",
    "    Draws text\n",
    "\n",
    "    Parameters:\n",
    "        image: image to draw on\n",
    "        text: text to draw\n",
    "        point:\n",
    "        color: text color\n",
    "    \"\"\"\n",
    "    _, f_width = image.shape[:2]\n",
    "    \n",
    "    text_size, _ = cv2.getTextSize(text, fontFace=cv2.FONT_HERSHEY_SIMPLEX, fontScale=2, thickness=2)\n",
    "\n",
    "    rect_width = text_size[0] + 20\n",
    "    rect_height = text_size[1] + 20\n",
    "    rect_x, rect_y = point\n",
    "\n",
    "    cv2.rectangle(image, pt1=(rect_x, rect_y), pt2=(rect_x + rect_width, rect_y + rect_height), color=(255, 255, 255), thickness=cv2.FILLED)\n",
    "\n",
    "    text_x = (rect_x + (rect_width - text_size[0]) // 2) - 10\n",
    "    text_y = (rect_y + (rect_height + text_size[1]) // 2) - 10\n",
    "    \n",
    "    cv2.putText(image, text=text, org=(text_x, text_y), fontFace=cv2.FONT_HERSHEY_SIMPLEX, fontScale=2, color=color, thickness=2, lineType=cv2.LINE_AA)"
   ]
  },
  {
   "cell_type": "markdown",
   "id": "f5d74548-2661-407d-a594-70d2a6e29df8",
   "metadata": {},
   "source": [
    "The `get_iou()` function calculates the Intersection Over Union score using the `xyxy` coordinates of two bounding boxes corresponding to two detected objects. In this case, we will use the `get_iou()` function to identify if the detected bounding boxes for a person intersects with a detected object."
   ]
  },
  {
   "cell_type": "code",
   "execution_count": 48,
   "id": "ca866c33-7363-4232-a97f-1eccfe72b1c3",
   "metadata": {},
   "outputs": [],
   "source": [
    "def get_iou(person_det, object_det):\n",
    "    #Obtain the Intersection \n",
    "    x_left = max(person_det[0], object_det[0])\n",
    "    y_top = max(person_det[1], object_det[1])\n",
    "    x_right = min(person_det[2], object_det[2])\n",
    "    y_bottom = min(person_det[3], object_det[3])\n",
    "    if x_right < x_left or y_bottom < y_top:\n",
    "        return 0.0\n",
    "    intersection_area = (x_right - x_left) * (y_bottom - y_top)\n",
    "\n",
    "    person_area = (person_det[2] - person_det[0]) * (person_det[3] - person_det[1])\n",
    "    obj_area = (object_det[2] - object_det[0]) * (object_det[3] - object_det[1])\n",
    "    \n",
    "    return intersection_area / float(person_area + obj_area - intersection_area)"
   ]
  },
  {
   "cell_type": "markdown",
   "id": "c4c16abe-8b1f-4d94-94d6-1108a89c79aa",
   "metadata": {},
   "source": [
    "The `intersecting_bboxes()` function identifies if the bounding boxes for people and objects are intersecting leveraging the above function, and logs the appropriate interaction accordingly."
   ]
  },
  {
   "cell_type": "code",
   "execution_count": 49,
   "id": "b7706a43-c90e-450e-a6eb-38360fd6ed2e",
   "metadata": {},
   "outputs": [],
   "source": [
    "def intersecting_bboxes(bboxes, person_bbox, action_str):\n",
    "    #Identify if person and object bounding boxes are intersecting using IOU\n",
    "    for box in bboxes:\n",
    "      if box.cls == 0:\n",
    "          #If it is a person\n",
    "          try:\n",
    "              person_bbox.append([box.xyxy[0], box.id.numpy().astype(int)])\n",
    "          except:\n",
    "              pass\n",
    "      elif box.cls != 0 and len(person_bbox) >= 1:\n",
    "          #If it is not a person and an interaction took place with a person\n",
    "          for p_bbox in person_bbox:\n",
    "              if box.cls != 0:\n",
    "                  result_iou = get_iou(p_bbox[0], box.xyxy[0])\n",
    "                  if result_iou > 0:\n",
    "                     try:\n",
    "                        person_intersection_str = f\"Person #{p_bbox[1][0]} interacted with object #{int(box.id[0])} {label_map[int(box.cls[0])]}\"\n",
    "                     except:\n",
    "                         person_intersection_str = f\"Person {p_bbox[1][0]} interacted with object (ID unable to be assigned) {label_map[int(box.cls[0])]}\"\n",
    "                     #log.info(person_intersection_str)\n",
    "                     person_action_str = action_str + f\" by person {p_bbox[1][0]}\"\n",
    "                     return person_action_str"
   ]
  },
  {
   "cell_type": "markdown",
   "id": "adbfa74c-62ff-4981-b0fb-00a4d802694d",
   "metadata": {},
   "source": [
    "# Run the Main Processing Loop"
   ]
  },
  {
   "cell_type": "markdown",
   "id": "d09ece60-a7a2-4202-afab-00b4c34807ff",
   "metadata": {},
   "source": [
    "Run object detection and tracking on the specified video clip.\n",
    "\n",
    "To customize the tracking algorithm, visit [https://docs.ultralytics.com/modes/track/#tracker-selection](https://docs.ultralytics.com/modes/track/#tracker-selection) to learn more about the default algorithm and additional option. \n",
    "\n",
    "Note that there are a few misses that can occur with object detection and tracking algorithms in this use case: \n",
    "\n",
    "- The off-the-shelf object detection algorithm sometimes does not immediately detect objects that are present, and can take a few frames to do so\n",
    "- The off-the-shelf tracking algorithm can sometimes assign multiple IDs for the same object (and even in some cases multiple objects the same ID). It's important to keep these potential mistakes the algorithm can make in mind, and consider a custom tracking algorithm (using the details in the link above) to be able to customize the algorithm for your use case if these elements impact your use case."
   ]
  },
  {
   "cell_type": "code",
   "execution_count": 66,
   "id": "6d0e5f85-b2ee-4d23-a9e9-e522bf83d97e",
   "metadata": {
    "scrolled": true
   },
   "outputs": [
    {
     "name": "stderr",
     "output_type": "stream",
     "text": [
      "\n",
      "video 1/1 (1/640) C:\\Users\\rcheruvu\\Desktop\\openvino_notebooks\\recipes\\automated_detection_tracking\\data\\asset.mp4: 640x640 1 bottle, 1 banana, 1 apple, 949.0ms\n",
      "video 1/1 (2/640) C:\\Users\\rcheruvu\\Desktop\\openvino_notebooks\\recipes\\automated_detection_tracking\\data\\asset.mp4: 640x640 1 bottle, 1 banana, 1 apple, 930.7ms\n",
      "video 1/1 (3/640) C:\\Users\\rcheruvu\\Desktop\\openvino_notebooks\\recipes\\automated_detection_tracking\\data\\asset.mp4: 640x640 1 bottle, 1 banana, 1 apple, 1100.5ms\n",
      "video 1/1 (4/640) C:\\Users\\rcheruvu\\Desktop\\openvino_notebooks\\recipes\\automated_detection_tracking\\data\\asset.mp4: 640x640 1 bottle, 1 banana, 1 apple, 975.3ms\n",
      "video 1/1 (5/640) C:\\Users\\rcheruvu\\Desktop\\openvino_notebooks\\recipes\\automated_detection_tracking\\data\\asset.mp4: 640x640 1 bottle, 1 banana, 1 apple, 974.3ms\n",
      "video 1/1 (6/640) C:\\Users\\rcheruvu\\Desktop\\openvino_notebooks\\recipes\\automated_detection_tracking\\data\\asset.mp4: 640x640 1 bottle, 1 banana, 1 apple, 955.4ms\n",
      "video 1/1 (7/640) C:\\Users\\rcheruvu\\Desktop\\openvino_notebooks\\recipes\\automated_detection_tracking\\data\\asset.mp4: 640x640 1 bottle, 1 banana, 1 apple, 983.3ms\n",
      "video 1/1 (8/640) C:\\Users\\rcheruvu\\Desktop\\openvino_notebooks\\recipes\\automated_detection_tracking\\data\\asset.mp4: 640x640 1 bottle, 1 banana, 1 apple, 989.3ms\n",
      "video 1/1 (9/640) C:\\Users\\rcheruvu\\Desktop\\openvino_notebooks\\recipes\\automated_detection_tracking\\data\\asset.mp4: 640x640 1 bottle, 1 banana, 1 apple, 1008.9ms\n",
      "video 1/1 (10/640) C:\\Users\\rcheruvu\\Desktop\\openvino_notebooks\\recipes\\automated_detection_tracking\\data\\asset.mp4: 640x640 1 bottle, 1 banana, 1 apple, 1035.4ms\n",
      "video 1/1 (11/640) C:\\Users\\rcheruvu\\Desktop\\openvino_notebooks\\recipes\\automated_detection_tracking\\data\\asset.mp4: 640x640 1 bottle, 1 banana, 1 apple, 1095.7ms\n",
      "video 1/1 (12/640) C:\\Users\\rcheruvu\\Desktop\\openvino_notebooks\\recipes\\automated_detection_tracking\\data\\asset.mp4: 640x640 1 bottle, 1 banana, 1 apple, 959.9ms\n",
      "video 1/1 (13/640) C:\\Users\\rcheruvu\\Desktop\\openvino_notebooks\\recipes\\automated_detection_tracking\\data\\asset.mp4: 640x640 1 bottle, 1 banana, 1 apple, 967.8ms\n",
      "video 1/1 (14/640) C:\\Users\\rcheruvu\\Desktop\\openvino_notebooks\\recipes\\automated_detection_tracking\\data\\asset.mp4: 640x640 1 bottle, 1 banana, 1 apple, 1100.9ms\n",
      "video 1/1 (15/640) C:\\Users\\rcheruvu\\Desktop\\openvino_notebooks\\recipes\\automated_detection_tracking\\data\\asset.mp4: 640x640 1 bottle, 1 banana, 1 apple, 1218.6ms\n",
      "video 1/1 (16/640) C:\\Users\\rcheruvu\\Desktop\\openvino_notebooks\\recipes\\automated_detection_tracking\\data\\asset.mp4: 640x640 1 bottle, 1 banana, 1 apple, 962.7ms\n",
      "video 1/1 (17/640) C:\\Users\\rcheruvu\\Desktop\\openvino_notebooks\\recipes\\automated_detection_tracking\\data\\asset.mp4: 640x640 1 bottle, 1 banana, 1 apple, 1014.6ms\n",
      "video 1/1 (18/640) C:\\Users\\rcheruvu\\Desktop\\openvino_notebooks\\recipes\\automated_detection_tracking\\data\\asset.mp4: 640x640 1 bottle, 1 banana, 1 apple, 1089.9ms\n",
      "video 1/1 (19/640) C:\\Users\\rcheruvu\\Desktop\\openvino_notebooks\\recipes\\automated_detection_tracking\\data\\asset.mp4: 640x640 1 person, 1 bottle, 1 banana, 1 apple, 1140.7ms\n",
      "video 1/1 (20/640) C:\\Users\\rcheruvu\\Desktop\\openvino_notebooks\\recipes\\automated_detection_tracking\\data\\asset.mp4: 640x640 1 person, 1 bottle, 1 banana, 1 apple, 956.3ms\n",
      "video 1/1 (21/640) C:\\Users\\rcheruvu\\Desktop\\openvino_notebooks\\recipes\\automated_detection_tracking\\data\\asset.mp4: 640x640 1 person, 1 bottle, 1 banana, 1 apple, 1000.6ms\n",
      "video 1/1 (22/640) C:\\Users\\rcheruvu\\Desktop\\openvino_notebooks\\recipes\\automated_detection_tracking\\data\\asset.mp4: 640x640 1 person, 1 bottle, 1 banana, 1 apple, 1007.6ms\n",
      "video 1/1 (23/640) C:\\Users\\rcheruvu\\Desktop\\openvino_notebooks\\recipes\\automated_detection_tracking\\data\\asset.mp4: 640x640 1 person, 1 bottle, 1 banana, 1 apple, 973.0ms\n",
      "video 1/1 (24/640) C:\\Users\\rcheruvu\\Desktop\\openvino_notebooks\\recipes\\automated_detection_tracking\\data\\asset.mp4: 640x640 1 person, 1 bottle, 1 banana, 1 apple, 1095.1ms\n",
      "video 1/1 (25/640) C:\\Users\\rcheruvu\\Desktop\\openvino_notebooks\\recipes\\automated_detection_tracking\\data\\asset.mp4: 640x640 1 person, 1 bottle, 1 banana, 1 apple, 962.6ms\n",
      "video 1/1 (26/640) C:\\Users\\rcheruvu\\Desktop\\openvino_notebooks\\recipes\\automated_detection_tracking\\data\\asset.mp4: 640x640 1 person, 1 bottle, 1 banana, 1 apple, 1041.2ms\n",
      "video 1/1 (27/640) C:\\Users\\rcheruvu\\Desktop\\openvino_notebooks\\recipes\\automated_detection_tracking\\data\\asset.mp4: 640x640 1 person, 1 bottle, 1 banana, 1 apple, 997.4ms\n",
      "video 1/1 (28/640) C:\\Users\\rcheruvu\\Desktop\\openvino_notebooks\\recipes\\automated_detection_tracking\\data\\asset.mp4: 640x640 1 person, 1 bottle, 1 banana, 1 apple, 1141.5ms\n",
      "video 1/1 (29/640) C:\\Users\\rcheruvu\\Desktop\\openvino_notebooks\\recipes\\automated_detection_tracking\\data\\asset.mp4: 640x640 1 person, 1 bottle, 1 banana, 1 apple, 981.8ms\n",
      "video 1/1 (30/640) C:\\Users\\rcheruvu\\Desktop\\openvino_notebooks\\recipes\\automated_detection_tracking\\data\\asset.mp4: 640x640 1 person, 1 bottle, 1 banana, 1 apple, 974.6ms\n",
      "video 1/1 (31/640) C:\\Users\\rcheruvu\\Desktop\\openvino_notebooks\\recipes\\automated_detection_tracking\\data\\asset.mp4: 640x640 1 person, 1 bottle, 1 banana, 1 apple, 998.6ms\n",
      "video 1/1 (32/640) C:\\Users\\rcheruvu\\Desktop\\openvino_notebooks\\recipes\\automated_detection_tracking\\data\\asset.mp4: 640x640 1 person, 1 bottle, 1 banana, 1 apple, 969.7ms\n",
      "video 1/1 (33/640) C:\\Users\\rcheruvu\\Desktop\\openvino_notebooks\\recipes\\automated_detection_tracking\\data\\asset.mp4: 640x640 1 person, 1 bottle, 1 banana, 1 apple, 1019.1ms\n",
      "video 1/1 (34/640) C:\\Users\\rcheruvu\\Desktop\\openvino_notebooks\\recipes\\automated_detection_tracking\\data\\asset.mp4: 640x640 1 person, 1 bottle, 1 banana, 1 apple, 984.3ms\n",
      "video 1/1 (35/640) C:\\Users\\rcheruvu\\Desktop\\openvino_notebooks\\recipes\\automated_detection_tracking\\data\\asset.mp4: 640x640 1 person, 1 bottle, 1 banana, 1 apple, 1102.5ms\n",
      "video 1/1 (36/640) C:\\Users\\rcheruvu\\Desktop\\openvino_notebooks\\recipes\\automated_detection_tracking\\data\\asset.mp4: 640x640 1 person, 1 bottle, 1 banana, 1 apple, 1116.0ms\n",
      "video 1/1 (37/640) C:\\Users\\rcheruvu\\Desktop\\openvino_notebooks\\recipes\\automated_detection_tracking\\data\\asset.mp4: 640x640 1 person, 1 bottle, 1 banana, 1 apple, 994.7ms\n",
      "video 1/1 (38/640) C:\\Users\\rcheruvu\\Desktop\\openvino_notebooks\\recipes\\automated_detection_tracking\\data\\asset.mp4: 640x640 1 person, 1 bottle, 1 banana, 1 apple, 1099.4ms\n",
      "video 1/1 (39/640) C:\\Users\\rcheruvu\\Desktop\\openvino_notebooks\\recipes\\automated_detection_tracking\\data\\asset.mp4: 640x640 1 person, 1 bottle, 1 banana, 1 apple, 983.8ms\n",
      "INFO:root:1 #5 banana added to zone by person 4\n",
      "video 1/1 (40/640) C:\\Users\\rcheruvu\\Desktop\\openvino_notebooks\\recipes\\automated_detection_tracking\\data\\asset.mp4: 640x640 1 person, 1 bottle, 2 bananas, 1 apple, 988.9ms\n",
      "INFO:root:1 #5 banana added to zone by person 4\n",
      "video 1/1 (41/640) C:\\Users\\rcheruvu\\Desktop\\openvino_notebooks\\recipes\\automated_detection_tracking\\data\\asset.mp4: 640x640 1 person, 1 bottle, 2 bananas, 1 apple, 1128.0ms\n",
      "INFO:root:1 #5 banana added to zone by person 4\n",
      "video 1/1 (42/640) C:\\Users\\rcheruvu\\Desktop\\openvino_notebooks\\recipes\\automated_detection_tracking\\data\\asset.mp4: 640x640 1 person, 1 bottle, 2 bananas, 1 apple, 1148.6ms\n",
      "INFO:root:1 #5 banana added to zone by person 4\n",
      "video 1/1 (43/640) C:\\Users\\rcheruvu\\Desktop\\openvino_notebooks\\recipes\\automated_detection_tracking\\data\\asset.mp4: 640x640 1 person, 1 bottle, 2 bananas, 1 apple, 1122.0ms\n",
      "INFO:root:1 #5 banana added to zone by person 4\n",
      "video 1/1 (44/640) C:\\Users\\rcheruvu\\Desktop\\openvino_notebooks\\recipes\\automated_detection_tracking\\data\\asset.mp4: 640x640 1 person, 1 bottle, 2 bananas, 1 apple, 1020.7ms\n",
      "INFO:root:1 #5 banana added to zone by person 4\n",
      "video 1/1 (45/640) C:\\Users\\rcheruvu\\Desktop\\openvino_notebooks\\recipes\\automated_detection_tracking\\data\\asset.mp4: 640x640 1 person, 1 bottle, 2 bananas, 1 apple, 1133.2ms\n",
      "video 1/1 (46/640) C:\\Users\\rcheruvu\\Desktop\\openvino_notebooks\\recipes\\automated_detection_tracking\\data\\asset.mp4: 640x640 1 person, 1 bottle, 1 banana, 1 apple, 1025.0ms\n",
      "video 1/1 (47/640) C:\\Users\\rcheruvu\\Desktop\\openvino_notebooks\\recipes\\automated_detection_tracking\\data\\asset.mp4: 640x640 1 person, 1 bottle, 1 banana, 1 apple, 989.2ms\n",
      "video 1/1 (48/640) C:\\Users\\rcheruvu\\Desktop\\openvino_notebooks\\recipes\\automated_detection_tracking\\data\\asset.mp4: 640x640 1 person, 1 bottle, 1 banana, 1 apple, 1028.6ms\n",
      "video 1/1 (49/640) C:\\Users\\rcheruvu\\Desktop\\openvino_notebooks\\recipes\\automated_detection_tracking\\data\\asset.mp4: 640x640 1 person, 1 bottle, 1 banana, 1 apple, 996.3ms\n",
      "video 1/1 (50/640) C:\\Users\\rcheruvu\\Desktop\\openvino_notebooks\\recipes\\automated_detection_tracking\\data\\asset.mp4: 640x640 1 person, 1 bottle, 1 banana, 1 apple, 1118.1ms\n",
      "video 1/1 (51/640) C:\\Users\\rcheruvu\\Desktop\\openvino_notebooks\\recipes\\automated_detection_tracking\\data\\asset.mp4: 640x640 1 person, 1 bottle, 1 banana, 1 apple, 1079.9ms\n",
      "video 1/1 (52/640) C:\\Users\\rcheruvu\\Desktop\\openvino_notebooks\\recipes\\automated_detection_tracking\\data\\asset.mp4: 640x640 1 person, 1 bottle, 1 banana, 1 apple, 1002.8ms\n",
      "video 1/1 (53/640) C:\\Users\\rcheruvu\\Desktop\\openvino_notebooks\\recipes\\automated_detection_tracking\\data\\asset.mp4: 640x640 1 person, 1 bottle, 1 banana, 1 apple, 1060.8ms\n",
      "video 1/1 (54/640) C:\\Users\\rcheruvu\\Desktop\\openvino_notebooks\\recipes\\automated_detection_tracking\\data\\asset.mp4: 640x640 1 person, 1 bottle, 1 banana, 1 apple, 957.9ms\n",
      "video 1/1 (55/640) C:\\Users\\rcheruvu\\Desktop\\openvino_notebooks\\recipes\\automated_detection_tracking\\data\\asset.mp4: 640x640 1 person, 1 bottle, 1 banana, 1 apple, 991.7ms\n",
      "video 1/1 (56/640) C:\\Users\\rcheruvu\\Desktop\\openvino_notebooks\\recipes\\automated_detection_tracking\\data\\asset.mp4: 640x640 1 person, 1 bottle, 1 banana, 1 apple, 991.8ms\n",
      "video 1/1 (57/640) C:\\Users\\rcheruvu\\Desktop\\openvino_notebooks\\recipes\\automated_detection_tracking\\data\\asset.mp4: 640x640 1 person, 1 bottle, 1 banana, 1 apple, 992.8ms\n",
      "video 1/1 (58/640) C:\\Users\\rcheruvu\\Desktop\\openvino_notebooks\\recipes\\automated_detection_tracking\\data\\asset.mp4: 640x640 1 person, 1 bottle, 1 banana, 1 apple, 1077.7ms\n",
      "video 1/1 (59/640) C:\\Users\\rcheruvu\\Desktop\\openvino_notebooks\\recipes\\automated_detection_tracking\\data\\asset.mp4: 640x640 1 person, 1 bottle, 1 banana, 1 apple, 998.2ms\n",
      "video 1/1 (60/640) C:\\Users\\rcheruvu\\Desktop\\openvino_notebooks\\recipes\\automated_detection_tracking\\data\\asset.mp4: 640x640 1 person, 1 bottle, 1 banana, 1 apple, 964.4ms\n",
      "video 1/1 (61/640) C:\\Users\\rcheruvu\\Desktop\\openvino_notebooks\\recipes\\automated_detection_tracking\\data\\asset.mp4: 640x640 1 person, 1 bottle, 1 banana, 1 apple, 1050.3ms\n",
      "video 1/1 (62/640) C:\\Users\\rcheruvu\\Desktop\\openvino_notebooks\\recipes\\automated_detection_tracking\\data\\asset.mp4: 640x640 1 person, 1 bottle, 1 banana, 1 apple, 991.4ms\n",
      "video 1/1 (63/640) C:\\Users\\rcheruvu\\Desktop\\openvino_notebooks\\recipes\\automated_detection_tracking\\data\\asset.mp4: 640x640 1 person, 1 bottle, 1 banana, 1 apple, 976.5ms\n",
      "video 1/1 (64/640) C:\\Users\\rcheruvu\\Desktop\\openvino_notebooks\\recipes\\automated_detection_tracking\\data\\asset.mp4: 640x640 1 person, 1 bottle, 1 banana, 1 apple, 1065.9ms\n",
      "video 1/1 (65/640) C:\\Users\\rcheruvu\\Desktop\\openvino_notebooks\\recipes\\automated_detection_tracking\\data\\asset.mp4: 640x640 1 person, 1 bottle, 1 banana, 1 apple, 1070.2ms\n",
      "video 1/1 (66/640) C:\\Users\\rcheruvu\\Desktop\\openvino_notebooks\\recipes\\automated_detection_tracking\\data\\asset.mp4: 640x640 1 person, 1 bottle, 1 banana, 1 apple, 981.8ms\n",
      "video 1/1 (67/640) C:\\Users\\rcheruvu\\Desktop\\openvino_notebooks\\recipes\\automated_detection_tracking\\data\\asset.mp4: 640x640 1 person, 1 bottle, 1 banana, 1 apple, 959.6ms\n",
      "video 1/1 (68/640) C:\\Users\\rcheruvu\\Desktop\\openvino_notebooks\\recipes\\automated_detection_tracking\\data\\asset.mp4: 640x640 1 person, 1 bottle, 1 banana, 1 apple, 982.4ms\n",
      "video 1/1 (69/640) C:\\Users\\rcheruvu\\Desktop\\openvino_notebooks\\recipes\\automated_detection_tracking\\data\\asset.mp4: 640x640 1 person, 1 bottle, 1 banana, 1 apple, 989.9ms\n",
      "video 1/1 (70/640) C:\\Users\\rcheruvu\\Desktop\\openvino_notebooks\\recipes\\automated_detection_tracking\\data\\asset.mp4: 640x640 1 person, 1 bottle, 1 banana, 1 apple, 1237.8ms\n",
      "video 1/1 (71/640) C:\\Users\\rcheruvu\\Desktop\\openvino_notebooks\\recipes\\automated_detection_tracking\\data\\asset.mp4: 640x640 1 person, 1 bottle, 1 banana, 1 apple, 983.5ms\n",
      "video 1/1 (72/640) C:\\Users\\rcheruvu\\Desktop\\openvino_notebooks\\recipes\\automated_detection_tracking\\data\\asset.mp4: 640x640 1 person, 1 bottle, 1 banana, 1 apple, 972.8ms\n",
      "video 1/1 (73/640) C:\\Users\\rcheruvu\\Desktop\\openvino_notebooks\\recipes\\automated_detection_tracking\\data\\asset.mp4: 640x640 1 person, 1 bottle, 1 banana, 1 apple, 965.1ms\n",
      "video 1/1 (74/640) C:\\Users\\rcheruvu\\Desktop\\openvino_notebooks\\recipes\\automated_detection_tracking\\data\\asset.mp4: 640x640 1 person, 1 bottle, 1 banana, 1 apple, 884.3ms\n",
      "video 1/1 (75/640) C:\\Users\\rcheruvu\\Desktop\\openvino_notebooks\\recipes\\automated_detection_tracking\\data\\asset.mp4: 640x640 1 person, 1 bottle, 1 banana, 1 apple, 974.3ms\n",
      "video 1/1 (76/640) C:\\Users\\rcheruvu\\Desktop\\openvino_notebooks\\recipes\\automated_detection_tracking\\data\\asset.mp4: 640x640 1 person, 1 bottle, 1 banana, 1 apple, 974.5ms\n",
      "INFO:root:1 #4 banana added to zone by person 4\n",
      "video 1/1 (77/640) C:\\Users\\rcheruvu\\Desktop\\openvino_notebooks\\recipes\\automated_detection_tracking\\data\\asset.mp4: 640x640 1 bottle, 2 bananas, 1 apple, 981.7ms\n",
      "INFO:root:1 #4 banana added to zone by person 4\n",
      "video 1/1 (78/640) C:\\Users\\rcheruvu\\Desktop\\openvino_notebooks\\recipes\\automated_detection_tracking\\data\\asset.mp4: 640x640 1 bottle, 2 bananas, 1 apple, 1085.7ms\n",
      "video 1/1 (79/640) C:\\Users\\rcheruvu\\Desktop\\openvino_notebooks\\recipes\\automated_detection_tracking\\data\\asset.mp4: 640x640 1 person, 1 bottle, 1 apple, 975.4ms\n",
      "video 1/1 (80/640) C:\\Users\\rcheruvu\\Desktop\\openvino_notebooks\\recipes\\automated_detection_tracking\\data\\asset.mp4: 640x640 1 bottle, 1 apple, 982.3ms\n",
      "video 1/1 (81/640) C:\\Users\\rcheruvu\\Desktop\\openvino_notebooks\\recipes\\automated_detection_tracking\\data\\asset.mp4: 640x640 1 bottle, 1 apple, 964.5ms\n",
      "video 1/1 (82/640) C:\\Users\\rcheruvu\\Desktop\\openvino_notebooks\\recipes\\automated_detection_tracking\\data\\asset.mp4: 640x640 1 bottle, 1 apple, 1033.5ms\n",
      "video 1/1 (83/640) C:\\Users\\rcheruvu\\Desktop\\openvino_notebooks\\recipes\\automated_detection_tracking\\data\\asset.mp4: 640x640 1 bottle, 1 apple, 1018.0ms\n",
      "video 1/1 (84/640) C:\\Users\\rcheruvu\\Desktop\\openvino_notebooks\\recipes\\automated_detection_tracking\\data\\asset.mp4: 640x640 1 bottle, 1 apple, 1107.5ms\n",
      "video 1/1 (85/640) C:\\Users\\rcheruvu\\Desktop\\openvino_notebooks\\recipes\\automated_detection_tracking\\data\\asset.mp4: 640x640 1 bottle, 1 apple, 980.0ms\n",
      "video 1/1 (86/640) C:\\Users\\rcheruvu\\Desktop\\openvino_notebooks\\recipes\\automated_detection_tracking\\data\\asset.mp4: 640x640 1 bottle, 1 apple, 986.6ms\n",
      "video 1/1 (87/640) C:\\Users\\rcheruvu\\Desktop\\openvino_notebooks\\recipes\\automated_detection_tracking\\data\\asset.mp4: 640x640 1 bottle, 1 apple, 1026.5ms\n",
      "video 1/1 (88/640) C:\\Users\\rcheruvu\\Desktop\\openvino_notebooks\\recipes\\automated_detection_tracking\\data\\asset.mp4: 640x640 1 bottle, 1 apple, 991.5ms\n",
      "video 1/1 (89/640) C:\\Users\\rcheruvu\\Desktop\\openvino_notebooks\\recipes\\automated_detection_tracking\\data\\asset.mp4: 640x640 1 bottle, 1 apple, 1040.6ms\n",
      "video 1/1 (90/640) C:\\Users\\rcheruvu\\Desktop\\openvino_notebooks\\recipes\\automated_detection_tracking\\data\\asset.mp4: 640x640 1 bottle, 1 apple, 991.2ms\n",
      "video 1/1 (91/640) C:\\Users\\rcheruvu\\Desktop\\openvino_notebooks\\recipes\\automated_detection_tracking\\data\\asset.mp4: 640x640 1 bottle, 1 apple, 986.1ms\n",
      "video 1/1 (92/640) C:\\Users\\rcheruvu\\Desktop\\openvino_notebooks\\recipes\\automated_detection_tracking\\data\\asset.mp4: 640x640 1 bottle, 1 apple, 969.8ms\n",
      "video 1/1 (93/640) C:\\Users\\rcheruvu\\Desktop\\openvino_notebooks\\recipes\\automated_detection_tracking\\data\\asset.mp4: 640x640 1 bottle, 1 apple, 1049.6ms\n",
      "video 1/1 (94/640) C:\\Users\\rcheruvu\\Desktop\\openvino_notebooks\\recipes\\automated_detection_tracking\\data\\asset.mp4: 640x640 1 bottle, 1 apple, 983.1ms\n",
      "video 1/1 (95/640) C:\\Users\\rcheruvu\\Desktop\\openvino_notebooks\\recipes\\automated_detection_tracking\\data\\asset.mp4: 640x640 1 bottle, 1 apple, 950.0ms\n",
      "video 1/1 (96/640) C:\\Users\\rcheruvu\\Desktop\\openvino_notebooks\\recipes\\automated_detection_tracking\\data\\asset.mp4: 640x640 1 bottle, 1 apple, 1014.5ms\n",
      "video 1/1 (97/640) C:\\Users\\rcheruvu\\Desktop\\openvino_notebooks\\recipes\\automated_detection_tracking\\data\\asset.mp4: 640x640 1 bottle, 1 apple, 1034.0ms\n",
      "video 1/1 (98/640) C:\\Users\\rcheruvu\\Desktop\\openvino_notebooks\\recipes\\automated_detection_tracking\\data\\asset.mp4: 640x640 1 bottle, 1 apple, 991.1ms\n",
      "video 1/1 (99/640) C:\\Users\\rcheruvu\\Desktop\\openvino_notebooks\\recipes\\automated_detection_tracking\\data\\asset.mp4: 640x640 1 bottle, 1 apple, 1045.2ms\n",
      "video 1/1 (100/640) C:\\Users\\rcheruvu\\Desktop\\openvino_notebooks\\recipes\\automated_detection_tracking\\data\\asset.mp4: 640x640 1 bottle, 1 apple, 984.1ms\n",
      "video 1/1 (101/640) C:\\Users\\rcheruvu\\Desktop\\openvino_notebooks\\recipes\\automated_detection_tracking\\data\\asset.mp4: 640x640 1 bottle, 1 apple, 1107.8ms\n",
      "video 1/1 (102/640) C:\\Users\\rcheruvu\\Desktop\\openvino_notebooks\\recipes\\automated_detection_tracking\\data\\asset.mp4: 640x640 1 bottle, 1 apple, 1099.8ms\n",
      "video 1/1 (103/640) C:\\Users\\rcheruvu\\Desktop\\openvino_notebooks\\recipes\\automated_detection_tracking\\data\\asset.mp4: 640x640 1 bottle, 1 apple, 1087.9ms\n",
      "video 1/1 (104/640) C:\\Users\\rcheruvu\\Desktop\\openvino_notebooks\\recipes\\automated_detection_tracking\\data\\asset.mp4: 640x640 1 bottle, 1 apple, 1108.4ms\n",
      "video 1/1 (105/640) C:\\Users\\rcheruvu\\Desktop\\openvino_notebooks\\recipes\\automated_detection_tracking\\data\\asset.mp4: 640x640 1 bottle, 1 apple, 972.2ms\n",
      "video 1/1 (106/640) C:\\Users\\rcheruvu\\Desktop\\openvino_notebooks\\recipes\\automated_detection_tracking\\data\\asset.mp4: 640x640 1 bottle, 1 apple, 1022.4ms\n",
      "video 1/1 (107/640) C:\\Users\\rcheruvu\\Desktop\\openvino_notebooks\\recipes\\automated_detection_tracking\\data\\asset.mp4: 640x640 1 bottle, 1 apple, 1166.4ms\n",
      "video 1/1 (108/640) C:\\Users\\rcheruvu\\Desktop\\openvino_notebooks\\recipes\\automated_detection_tracking\\data\\asset.mp4: 640x640 1 bottle, 1 apple, 959.4ms\n",
      "video 1/1 (109/640) C:\\Users\\rcheruvu\\Desktop\\openvino_notebooks\\recipes\\automated_detection_tracking\\data\\asset.mp4: 640x640 1 bottle, 1 apple, 1069.1ms\n",
      "video 1/1 (110/640) C:\\Users\\rcheruvu\\Desktop\\openvino_notebooks\\recipes\\automated_detection_tracking\\data\\asset.mp4: 640x640 1 bottle, 1 apple, 995.4ms\n",
      "video 1/1 (111/640) C:\\Users\\rcheruvu\\Desktop\\openvino_notebooks\\recipes\\automated_detection_tracking\\data\\asset.mp4: 640x640 1 bottle, 1 apple, 1007.3ms\n",
      "video 1/1 (112/640) C:\\Users\\rcheruvu\\Desktop\\openvino_notebooks\\recipes\\automated_detection_tracking\\data\\asset.mp4: 640x640 1 bottle, 1 apple, 1036.0ms\n",
      "video 1/1 (113/640) C:\\Users\\rcheruvu\\Desktop\\openvino_notebooks\\recipes\\automated_detection_tracking\\data\\asset.mp4: 640x640 1 bottle, 1 apple, 1121.3ms\n",
      "video 1/1 (114/640) C:\\Users\\rcheruvu\\Desktop\\openvino_notebooks\\recipes\\automated_detection_tracking\\data\\asset.mp4: 640x640 1 bottle, 1 apple, 1024.5ms\n",
      "video 1/1 (115/640) C:\\Users\\rcheruvu\\Desktop\\openvino_notebooks\\recipes\\automated_detection_tracking\\data\\asset.mp4: 640x640 1 bottle, 1 apple, 972.7ms\n",
      "video 1/1 (116/640) C:\\Users\\rcheruvu\\Desktop\\openvino_notebooks\\recipes\\automated_detection_tracking\\data\\asset.mp4: 640x640 1 bottle, 1 apple, 982.1ms\n",
      "video 1/1 (117/640) C:\\Users\\rcheruvu\\Desktop\\openvino_notebooks\\recipes\\automated_detection_tracking\\data\\asset.mp4: 640x640 1 bottle, 1 apple, 976.0ms\n",
      "video 1/1 (118/640) C:\\Users\\rcheruvu\\Desktop\\openvino_notebooks\\recipes\\automated_detection_tracking\\data\\asset.mp4: 640x640 1 bottle, 1 apple, 932.2ms\n",
      "video 1/1 (119/640) C:\\Users\\rcheruvu\\Desktop\\openvino_notebooks\\recipes\\automated_detection_tracking\\data\\asset.mp4: 640x640 1 bottle, 1 apple, 957.6ms\n",
      "video 1/1 (120/640) C:\\Users\\rcheruvu\\Desktop\\openvino_notebooks\\recipes\\automated_detection_tracking\\data\\asset.mp4: 640x640 1 bottle, 1 apple, 1008.2ms\n",
      "video 1/1 (121/640) C:\\Users\\rcheruvu\\Desktop\\openvino_notebooks\\recipes\\automated_detection_tracking\\data\\asset.mp4: 640x640 1 bottle, 1 apple, 1082.9ms\n",
      "video 1/1 (122/640) C:\\Users\\rcheruvu\\Desktop\\openvino_notebooks\\recipes\\automated_detection_tracking\\data\\asset.mp4: 640x640 1 bottle, 1 apple, 976.1ms\n",
      "video 1/1 (123/640) C:\\Users\\rcheruvu\\Desktop\\openvino_notebooks\\recipes\\automated_detection_tracking\\data\\asset.mp4: 640x640 1 bottle, 1 apple, 954.1ms\n",
      "video 1/1 (124/640) C:\\Users\\rcheruvu\\Desktop\\openvino_notebooks\\recipes\\automated_detection_tracking\\data\\asset.mp4: 640x640 1 bottle, 1 apple, 1008.5ms\n",
      "video 1/1 (125/640) C:\\Users\\rcheruvu\\Desktop\\openvino_notebooks\\recipes\\automated_detection_tracking\\data\\asset.mp4: 640x640 1 bottle, 1 apple, 896.3ms\n",
      "video 1/1 (126/640) C:\\Users\\rcheruvu\\Desktop\\openvino_notebooks\\recipes\\automated_detection_tracking\\data\\asset.mp4: 640x640 1 bottle, 1 apple, 1036.5ms\n",
      "video 1/1 (127/640) C:\\Users\\rcheruvu\\Desktop\\openvino_notebooks\\recipes\\automated_detection_tracking\\data\\asset.mp4: 640x640 1 bottle, 1 apple, 1010.9ms\n",
      "video 1/1 (128/640) C:\\Users\\rcheruvu\\Desktop\\openvino_notebooks\\recipes\\automated_detection_tracking\\data\\asset.mp4: 640x640 1 bottle, 1 apple, 925.4ms\n",
      "video 1/1 (129/640) C:\\Users\\rcheruvu\\Desktop\\openvino_notebooks\\recipes\\automated_detection_tracking\\data\\asset.mp4: 640x640 1 bottle, 1 apple, 949.4ms\n",
      "video 1/1 (130/640) C:\\Users\\rcheruvu\\Desktop\\openvino_notebooks\\recipes\\automated_detection_tracking\\data\\asset.mp4: 640x640 1 bottle, 1 apple, 1018.8ms\n",
      "video 1/1 (131/640) C:\\Users\\rcheruvu\\Desktop\\openvino_notebooks\\recipes\\automated_detection_tracking\\data\\asset.mp4: 640x640 1 bottle, 1 apple, 865.9ms\n",
      "video 1/1 (132/640) C:\\Users\\rcheruvu\\Desktop\\openvino_notebooks\\recipes\\automated_detection_tracking\\data\\asset.mp4: 640x640 1 bottle, 1 apple, 951.9ms\n",
      "video 1/1 (133/640) C:\\Users\\rcheruvu\\Desktop\\openvino_notebooks\\recipes\\automated_detection_tracking\\data\\asset.mp4: 640x640 1 bottle, 1 apple, 945.3ms\n",
      "video 1/1 (134/640) C:\\Users\\rcheruvu\\Desktop\\openvino_notebooks\\recipes\\automated_detection_tracking\\data\\asset.mp4: 640x640 1 bottle, 1 apple, 984.1ms\n",
      "video 1/1 (135/640) C:\\Users\\rcheruvu\\Desktop\\openvino_notebooks\\recipes\\automated_detection_tracking\\data\\asset.mp4: 640x640 1 bottle, 1 apple, 927.8ms\n",
      "video 1/1 (136/640) C:\\Users\\rcheruvu\\Desktop\\openvino_notebooks\\recipes\\automated_detection_tracking\\data\\asset.mp4: 640x640 1 bottle, 1 apple, 951.6ms\n",
      "video 1/1 (137/640) C:\\Users\\rcheruvu\\Desktop\\openvino_notebooks\\recipes\\automated_detection_tracking\\data\\asset.mp4: 640x640 1 bottle, 1 apple, 927.4ms\n",
      "video 1/1 (138/640) C:\\Users\\rcheruvu\\Desktop\\openvino_notebooks\\recipes\\automated_detection_tracking\\data\\asset.mp4: 640x640 1 bottle, 1 apple, 949.0ms\n",
      "video 1/1 (139/640) C:\\Users\\rcheruvu\\Desktop\\openvino_notebooks\\recipes\\automated_detection_tracking\\data\\asset.mp4: 640x640 1 bottle, 1 apple, 967.2ms\n",
      "video 1/1 (140/640) C:\\Users\\rcheruvu\\Desktop\\openvino_notebooks\\recipes\\automated_detection_tracking\\data\\asset.mp4: 640x640 1 bottle, 1 apple, 873.5ms\n",
      "video 1/1 (141/640) C:\\Users\\rcheruvu\\Desktop\\openvino_notebooks\\recipes\\automated_detection_tracking\\data\\asset.mp4: 640x640 1 bottle, 1 apple, 982.1ms\n",
      "video 1/1 (142/640) C:\\Users\\rcheruvu\\Desktop\\openvino_notebooks\\recipes\\automated_detection_tracking\\data\\asset.mp4: 640x640 1 bottle, 1 apple, 892.2ms\n",
      "INFO:root:1 #1 banana removed from zone by person 4\n",
      "INFO:root:1 #7 banana added to zone by person 4\n",
      "video 1/1 (143/640) C:\\Users\\rcheruvu\\Desktop\\openvino_notebooks\\recipes\\automated_detection_tracking\\data\\asset.mp4: 640x640 1 bottle, 1 banana, 1 apple, 945.7ms\n"
     ]
    },
    {
     "name": "stdout",
     "output_type": "stream",
     "text": [
      "1 #1 banana ['1 #5 banana added to zone', '1 #4 banana added to zone']\n"
     ]
    },
    {
     "name": "stderr",
     "output_type": "stream",
     "text": [
      "INFO:root:1 #1 banana removed from zone by person 4\n",
      "INFO:root:1 #7 banana added to zone by person 4\n",
      "video 1/1 (144/640) C:\\Users\\rcheruvu\\Desktop\\openvino_notebooks\\recipes\\automated_detection_tracking\\data\\asset.mp4: 640x640 1 bottle, 1 banana, 1 apple, 882.4ms\n"
     ]
    },
    {
     "name": "stdout",
     "output_type": "stream",
     "text": [
      "1 #1 banana ['1 #5 banana added to zone', '1 #4 banana added to zone', '1 #7 banana added to zone']\n"
     ]
    },
    {
     "name": "stderr",
     "output_type": "stream",
     "text": [
      "INFO:root:1 #1 banana removed from zone by person 4\n",
      "INFO:root:1 #7 banana added to zone by person 4\n",
      "video 1/1 (145/640) C:\\Users\\rcheruvu\\Desktop\\openvino_notebooks\\recipes\\automated_detection_tracking\\data\\asset.mp4: 640x640 1 bottle, 1 banana, 1 apple, 872.4ms\n"
     ]
    },
    {
     "name": "stdout",
     "output_type": "stream",
     "text": [
      "1 #1 banana ['1 #5 banana added to zone', '1 #4 banana added to zone', '1 #7 banana added to zone']\n"
     ]
    },
    {
     "name": "stderr",
     "output_type": "stream",
     "text": [
      "INFO:root:1 #1 banana removed from zone by person 4\n",
      "INFO:root:1 #7 banana added to zone by person 4\n",
      "video 1/1 (146/640) C:\\Users\\rcheruvu\\Desktop\\openvino_notebooks\\recipes\\automated_detection_tracking\\data\\asset.mp4: 640x640 1 person, 1 bottle, 1 banana, 1 apple, 901.5ms\n"
     ]
    },
    {
     "name": "stdout",
     "output_type": "stream",
     "text": [
      "1 #1 banana ['1 #5 banana added to zone', '1 #4 banana added to zone', '1 #7 banana added to zone']\n"
     ]
    },
    {
     "name": "stderr",
     "output_type": "stream",
     "text": [
      "INFO:root:1 #7 banana added to zone by person 4\n",
      "INFO:root:1 #9 banana added to zone by person 8\n",
      "video 1/1 (147/640) C:\\Users\\rcheruvu\\Desktop\\openvino_notebooks\\recipes\\automated_detection_tracking\\data\\asset.mp4: 640x640 1 person, 1 bottle, 2 bananas, 1 apple, 906.2ms\n",
      "INFO:root:1 #1 banana removed from zone by person 8\n",
      "INFO:root:1 #7 banana added to zone by person 8\n",
      "INFO:root:1 #9 banana added to zone by person 8\n",
      "video 1/1 (148/640) C:\\Users\\rcheruvu\\Desktop\\openvino_notebooks\\recipes\\automated_detection_tracking\\data\\asset.mp4: 640x640 1 person, 1 bottle, 2 bananas, 1 apple, 1050.5ms\n"
     ]
    },
    {
     "name": "stdout",
     "output_type": "stream",
     "text": [
      "1 #1 banana ['1 #5 banana added to zone', '1 #4 banana added to zone', '1 #7 banana added to zone', '1 #9 banana added to zone']\n"
     ]
    },
    {
     "name": "stderr",
     "output_type": "stream",
     "text": [
      "INFO:root:1 #1 banana removed from zone by person 8\n",
      "INFO:root:1 #7 banana added to zone by person 8\n",
      "INFO:root:1 #9 banana added to zone by person 8\n",
      "video 1/1 (149/640) C:\\Users\\rcheruvu\\Desktop\\openvino_notebooks\\recipes\\automated_detection_tracking\\data\\asset.mp4: 640x640 1 person, 1 bottle, 2 bananas, 1 apple, 1032.3ms\n"
     ]
    },
    {
     "name": "stdout",
     "output_type": "stream",
     "text": [
      "1 #1 banana ['1 #5 banana added to zone', '1 #4 banana added to zone', '1 #7 banana added to zone', '1 #9 banana added to zone']\n"
     ]
    },
    {
     "name": "stderr",
     "output_type": "stream",
     "text": [
      "INFO:root:1 #1 banana removed from zone by person 8\n",
      "INFO:root:1 #7 banana added to zone by person 8\n",
      "INFO:root:1 #9 banana added to zone by person 8\n",
      "video 1/1 (150/640) C:\\Users\\rcheruvu\\Desktop\\openvino_notebooks\\recipes\\automated_detection_tracking\\data\\asset.mp4: 640x640 1 person, 1 bottle, 2 bananas, 1 apple, 971.8ms\n"
     ]
    },
    {
     "name": "stdout",
     "output_type": "stream",
     "text": [
      "1 #1 banana ['1 #5 banana added to zone', '1 #4 banana added to zone', '1 #7 banana added to zone', '1 #9 banana added to zone']\n"
     ]
    },
    {
     "name": "stderr",
     "output_type": "stream",
     "text": [
      "INFO:root:1 #1 banana removed from zone by person 8\n",
      "INFO:root:1 #7 banana added to zone by person 8\n",
      "INFO:root:1 #9 banana added to zone by person 8\n",
      "video 1/1 (151/640) C:\\Users\\rcheruvu\\Desktop\\openvino_notebooks\\recipes\\automated_detection_tracking\\data\\asset.mp4: 640x640 1 person, 1 bottle, 2 bananas, 1 apple, 1075.2ms\n"
     ]
    },
    {
     "name": "stdout",
     "output_type": "stream",
     "text": [
      "1 #1 banana ['1 #5 banana added to zone', '1 #4 banana added to zone', '1 #7 banana added to zone', '1 #9 banana added to zone']\n"
     ]
    },
    {
     "name": "stderr",
     "output_type": "stream",
     "text": [
      "INFO:root:1 #1 banana removed from zone by person 8\n",
      "INFO:root:1 #7 banana added to zone by person 8\n",
      "INFO:root:1 #9 banana added to zone by person 8\n",
      "video 1/1 (152/640) C:\\Users\\rcheruvu\\Desktop\\openvino_notebooks\\recipes\\automated_detection_tracking\\data\\asset.mp4: 640x640 1 person, 1 bottle, 2 bananas, 1 apple, 1094.2ms\n"
     ]
    },
    {
     "name": "stdout",
     "output_type": "stream",
     "text": [
      "1 #1 banana ['1 #5 banana added to zone', '1 #4 banana added to zone', '1 #7 banana added to zone', '1 #9 banana added to zone']\n"
     ]
    },
    {
     "name": "stderr",
     "output_type": "stream",
     "text": [
      "INFO:root:1 #1 banana removed from zone by person 4\n",
      "INFO:root:1 #7 banana added to zone by person 8\n",
      "INFO:root:1 #9 banana added to zone by person 8\n",
      "video 1/1 (153/640) C:\\Users\\rcheruvu\\Desktop\\openvino_notebooks\\recipes\\automated_detection_tracking\\data\\asset.mp4: 640x640 1 person, 1 bottle, 2 bananas, 1 apple, 1014.4ms\n"
     ]
    },
    {
     "name": "stdout",
     "output_type": "stream",
     "text": [
      "1 #1 banana ['1 #5 banana added to zone', '1 #4 banana added to zone', '1 #7 banana added to zone', '1 #9 banana added to zone']\n"
     ]
    },
    {
     "name": "stderr",
     "output_type": "stream",
     "text": [
      "INFO:root:1 #1 banana removed from zone by person 4\n",
      "INFO:root:1 #7 banana added to zone by person 4\n",
      "INFO:root:1 #9 banana added to zone by person 4\n",
      "video 1/1 (154/640) C:\\Users\\rcheruvu\\Desktop\\openvino_notebooks\\recipes\\automated_detection_tracking\\data\\asset.mp4: 640x640 1 person, 1 bottle, 2 bananas, 1 apple, 989.0ms\n"
     ]
    },
    {
     "name": "stdout",
     "output_type": "stream",
     "text": [
      "1 #1 banana ['1 #5 banana added to zone', '1 #4 banana added to zone', '1 #7 banana added to zone', '1 #9 banana added to zone']\n"
     ]
    },
    {
     "name": "stderr",
     "output_type": "stream",
     "text": [
      "INFO:root:1 #1 banana removed from zone by person 4\n",
      "INFO:root:1 #7 banana added to zone by person 4\n",
      "INFO:root:1 #9 banana added to zone by person 4\n",
      "INFO:root:1 #10 banana added to zone by person 4\n",
      "video 1/1 (155/640) C:\\Users\\rcheruvu\\Desktop\\openvino_notebooks\\recipes\\automated_detection_tracking\\data\\asset.mp4: 640x640 1 person, 1 bottle, 3 bananas, 1 apple, 1048.2ms\n"
     ]
    },
    {
     "name": "stdout",
     "output_type": "stream",
     "text": [
      "1 #1 banana ['1 #5 banana added to zone', '1 #4 banana added to zone', '1 #7 banana added to zone', '1 #9 banana added to zone']\n"
     ]
    },
    {
     "name": "stderr",
     "output_type": "stream",
     "text": [
      "INFO:root:1 #1 banana removed from zone by person 4\n",
      "INFO:root:1 #7 banana added to zone by person 4\n",
      "INFO:root:1 #9 banana added to zone by person 4\n",
      "INFO:root:1 #10 banana added to zone by person 4\n",
      "video 1/1 (156/640) C:\\Users\\rcheruvu\\Desktop\\openvino_notebooks\\recipes\\automated_detection_tracking\\data\\asset.mp4: 640x640 1 person, 1 bottle, 3 bananas, 1 apple, 879.9ms\n"
     ]
    },
    {
     "name": "stdout",
     "output_type": "stream",
     "text": [
      "1 #1 banana ['1 #5 banana added to zone', '1 #4 banana added to zone', '1 #7 banana added to zone', '1 #9 banana added to zone', '1 #10 banana added to zone']\n"
     ]
    },
    {
     "name": "stderr",
     "output_type": "stream",
     "text": [
      "INFO:root:1 #1 banana removed from zone by person 4\n",
      "INFO:root:1 #7 banana added to zone by person 4\n",
      "INFO:root:1 #9 banana added to zone by person 4\n",
      "INFO:root:1 #10 banana added to zone by person 4\n",
      "video 1/1 (157/640) C:\\Users\\rcheruvu\\Desktop\\openvino_notebooks\\recipes\\automated_detection_tracking\\data\\asset.mp4: 640x640 1 person, 1 bottle, 3 bananas, 1 apple, 959.4ms\n"
     ]
    },
    {
     "name": "stdout",
     "output_type": "stream",
     "text": [
      "1 #1 banana ['1 #5 banana added to zone', '1 #4 banana added to zone', '1 #7 banana added to zone', '1 #9 banana added to zone', '1 #10 banana added to zone']\n"
     ]
    },
    {
     "name": "stderr",
     "output_type": "stream",
     "text": [
      "INFO:root:1 #1 banana removed from zone by person 4\n",
      "INFO:root:1 #7 banana added to zone by person 4\n",
      "INFO:root:1 #9 banana added to zone by person 4\n",
      "INFO:root:1 #10 banana added to zone by person 4\n",
      "video 1/1 (158/640) C:\\Users\\rcheruvu\\Desktop\\openvino_notebooks\\recipes\\automated_detection_tracking\\data\\asset.mp4: 640x640 1 person, 1 bottle, 3 bananas, 1 apple, 953.3ms\n"
     ]
    },
    {
     "name": "stdout",
     "output_type": "stream",
     "text": [
      "1 #1 banana ['1 #5 banana added to zone', '1 #4 banana added to zone', '1 #7 banana added to zone', '1 #9 banana added to zone', '1 #10 banana added to zone']\n"
     ]
    },
    {
     "name": "stderr",
     "output_type": "stream",
     "text": [
      "INFO:root:1 #1 banana removed from zone by person 4\n",
      "INFO:root:1 #7 banana added to zone by person 4\n",
      "INFO:root:1 #9 banana added to zone by person 4\n",
      "INFO:root:1 #10 banana added to zone by person 4\n",
      "video 1/1 (159/640) C:\\Users\\rcheruvu\\Desktop\\openvino_notebooks\\recipes\\automated_detection_tracking\\data\\asset.mp4: 640x640 1 person, 1 bottle, 3 bananas, 1 apple, 914.4ms\n"
     ]
    },
    {
     "name": "stdout",
     "output_type": "stream",
     "text": [
      "1 #1 banana ['1 #5 banana added to zone', '1 #4 banana added to zone', '1 #7 banana added to zone', '1 #9 banana added to zone', '1 #10 banana added to zone']\n"
     ]
    },
    {
     "name": "stderr",
     "output_type": "stream",
     "text": [
      "INFO:root:1 #1 banana removed from zone by person 4\n",
      "INFO:root:1 #9 banana added to zone by person 4\n",
      "INFO:root:1 #10 banana added to zone by person 4\n",
      "video 1/1 (160/640) C:\\Users\\rcheruvu\\Desktop\\openvino_notebooks\\recipes\\automated_detection_tracking\\data\\asset.mp4: 640x640 1 person, 1 bottle, 2 bananas, 1 apple, 1038.7ms\n"
     ]
    },
    {
     "name": "stdout",
     "output_type": "stream",
     "text": [
      "1 #1 banana ['1 #5 banana added to zone', '1 #4 banana added to zone', '1 #7 banana added to zone', '1 #9 banana added to zone', '1 #10 banana added to zone']\n"
     ]
    },
    {
     "name": "stderr",
     "output_type": "stream",
     "text": [
      "INFO:root:1 #1 banana removed from zone by person 4\n",
      "INFO:root:1 #9 banana added to zone by person 4\n",
      "INFO:root:1 #10 banana added to zone by person 4\n",
      "video 1/1 (161/640) C:\\Users\\rcheruvu\\Desktop\\openvino_notebooks\\recipes\\automated_detection_tracking\\data\\asset.mp4: 640x640 1 person, 1 bottle, 2 bananas, 1 apple, 1068.1ms\n"
     ]
    },
    {
     "name": "stdout",
     "output_type": "stream",
     "text": [
      "1 #1 banana ['1 #5 banana added to zone', '1 #4 banana added to zone', '1 #7 banana added to zone', '1 #9 banana added to zone', '1 #10 banana added to zone']\n"
     ]
    },
    {
     "name": "stderr",
     "output_type": "stream",
     "text": [
      "INFO:root:1 #1 banana removed from zone by person 4\n",
      "INFO:root:1 #9 banana added to zone by person 4\n",
      "INFO:root:1 #10 banana added to zone by person 4\n",
      "video 1/1 (162/640) C:\\Users\\rcheruvu\\Desktop\\openvino_notebooks\\recipes\\automated_detection_tracking\\data\\asset.mp4: 640x640 1 person, 1 bottle, 2 bananas, 1 apple, 989.9ms\n"
     ]
    },
    {
     "name": "stdout",
     "output_type": "stream",
     "text": [
      "1 #1 banana ['1 #5 banana added to zone', '1 #4 banana added to zone', '1 #7 banana added to zone', '1 #9 banana added to zone', '1 #10 banana added to zone']\n"
     ]
    },
    {
     "name": "stderr",
     "output_type": "stream",
     "text": [
      "INFO:root:1 #1 banana removed from zone by person 4\n",
      "INFO:root:1 #9 banana added to zone by person 4\n",
      "INFO:root:1 #10 banana added to zone by person 4\n",
      "video 1/1 (163/640) C:\\Users\\rcheruvu\\Desktop\\openvino_notebooks\\recipes\\automated_detection_tracking\\data\\asset.mp4: 640x640 1 person, 1 bottle, 2 bananas, 1 apple, 982.1ms\n"
     ]
    },
    {
     "name": "stdout",
     "output_type": "stream",
     "text": [
      "1 #1 banana ['1 #5 banana added to zone', '1 #4 banana added to zone', '1 #7 banana added to zone', '1 #9 banana added to zone', '1 #10 banana added to zone']\n"
     ]
    },
    {
     "name": "stderr",
     "output_type": "stream",
     "text": [
      "INFO:root:1 #1 banana removed from zone by person 4\n",
      "INFO:root:1 #9 banana added to zone by person 4\n",
      "INFO:root:1 #10 banana added to zone by person 4\n",
      "video 1/1 (164/640) C:\\Users\\rcheruvu\\Desktop\\openvino_notebooks\\recipes\\automated_detection_tracking\\data\\asset.mp4: 640x640 1 person, 1 bottle, 2 bananas, 1 apple, 966.7ms\n"
     ]
    },
    {
     "name": "stdout",
     "output_type": "stream",
     "text": [
      "1 #1 banana ['1 #5 banana added to zone', '1 #4 banana added to zone', '1 #7 banana added to zone', '1 #9 banana added to zone', '1 #10 banana added to zone']\n"
     ]
    },
    {
     "name": "stderr",
     "output_type": "stream",
     "text": [
      "INFO:root:1 #1 banana removed from zone by person 4\n",
      "INFO:root:1 #9 banana added to zone by person 4\n",
      "INFO:root:1 #10 banana added to zone by person 4\n",
      "video 1/1 (165/640) C:\\Users\\rcheruvu\\Desktop\\openvino_notebooks\\recipes\\automated_detection_tracking\\data\\asset.mp4: 640x640 1 person, 1 bottle, 2 bananas, 1 apple, 1107.3ms\n"
     ]
    },
    {
     "name": "stdout",
     "output_type": "stream",
     "text": [
      "1 #1 banana ['1 #5 banana added to zone', '1 #4 banana added to zone', '1 #7 banana added to zone', '1 #9 banana added to zone', '1 #10 banana added to zone']\n"
     ]
    },
    {
     "name": "stderr",
     "output_type": "stream",
     "text": [
      "INFO:root:1 #1 banana removed from zone by person 4\n",
      "INFO:root:1 #9 banana added to zone by person 4\n",
      "INFO:root:1 #10 banana added to zone by person 4\n",
      "video 1/1 (166/640) C:\\Users\\rcheruvu\\Desktop\\openvino_notebooks\\recipes\\automated_detection_tracking\\data\\asset.mp4: 640x640 1 person, 1 bottle, 2 bananas, 1 apple, 1455.1ms\n"
     ]
    },
    {
     "name": "stdout",
     "output_type": "stream",
     "text": [
      "1 #1 banana ['1 #5 banana added to zone', '1 #4 banana added to zone', '1 #7 banana added to zone', '1 #9 banana added to zone', '1 #10 banana added to zone']\n"
     ]
    },
    {
     "name": "stderr",
     "output_type": "stream",
     "text": [
      "INFO:root:1 #1 banana removed from zone by person 4\n",
      "INFO:root:1 #9 banana added to zone by person 4\n",
      "INFO:root:1 #10 banana added to zone by person 4\n",
      "video 1/1 (167/640) C:\\Users\\rcheruvu\\Desktop\\openvino_notebooks\\recipes\\automated_detection_tracking\\data\\asset.mp4: 640x640 1 person, 1 bottle, 2 bananas, 1 apple, 1022.0ms\n"
     ]
    },
    {
     "name": "stdout",
     "output_type": "stream",
     "text": [
      "1 #1 banana ['1 #5 banana added to zone', '1 #4 banana added to zone', '1 #7 banana added to zone', '1 #9 banana added to zone', '1 #10 banana added to zone']\n"
     ]
    },
    {
     "name": "stderr",
     "output_type": "stream",
     "text": [
      "INFO:root:1 #1 banana removed from zone by person 4\n",
      "INFO:root:1 #9 banana added to zone by person 4\n",
      "INFO:root:1 #10 banana added to zone by person 4\n",
      "video 1/1 (168/640) C:\\Users\\rcheruvu\\Desktop\\openvino_notebooks\\recipes\\automated_detection_tracking\\data\\asset.mp4: 640x640 1 person, 1 bottle, 2 bananas, 1 apple, 993.9ms\n"
     ]
    },
    {
     "name": "stdout",
     "output_type": "stream",
     "text": [
      "1 #1 banana ['1 #5 banana added to zone', '1 #4 banana added to zone', '1 #7 banana added to zone', '1 #9 banana added to zone', '1 #10 banana added to zone']\n"
     ]
    },
    {
     "name": "stderr",
     "output_type": "stream",
     "text": [
      "INFO:root:1 #1 banana removed from zone by person 4\n",
      "INFO:root:1 #9 banana added to zone by person 4\n",
      "INFO:root:1 #10 banana added to zone by person 4\n",
      "video 1/1 (169/640) C:\\Users\\rcheruvu\\Desktop\\openvino_notebooks\\recipes\\automated_detection_tracking\\data\\asset.mp4: 640x640 1 person, 1 bottle, 2 bananas, 1 apple, 916.7ms\n"
     ]
    },
    {
     "name": "stdout",
     "output_type": "stream",
     "text": [
      "1 #1 banana ['1 #5 banana added to zone', '1 #4 banana added to zone', '1 #7 banana added to zone', '1 #9 banana added to zone', '1 #10 banana added to zone']\n"
     ]
    },
    {
     "name": "stderr",
     "output_type": "stream",
     "text": [
      "INFO:root:1 #1 banana removed from zone by person 4\n",
      "INFO:root:1 #9 banana added to zone by person 4\n",
      "INFO:root:1 #10 banana added to zone by person 4\n",
      "video 1/1 (170/640) C:\\Users\\rcheruvu\\Desktop\\openvino_notebooks\\recipes\\automated_detection_tracking\\data\\asset.mp4: 640x640 1 person, 1 bottle, 2 bananas, 1 apple, 884.4ms\n"
     ]
    },
    {
     "name": "stdout",
     "output_type": "stream",
     "text": [
      "1 #1 banana ['1 #5 banana added to zone', '1 #4 banana added to zone', '1 #7 banana added to zone', '1 #9 banana added to zone', '1 #10 banana added to zone']\n"
     ]
    },
    {
     "name": "stderr",
     "output_type": "stream",
     "text": [
      "INFO:root:1 #1 banana removed from zone by person 4\n",
      "INFO:root:1 #9 banana added to zone by person 4\n",
      "INFO:root:1 #10 banana added to zone by person 4\n",
      "video 1/1 (171/640) C:\\Users\\rcheruvu\\Desktop\\openvino_notebooks\\recipes\\automated_detection_tracking\\data\\asset.mp4: 640x640 1 person, 1 bottle, 2 bananas, 1 apple, 937.8ms\n"
     ]
    },
    {
     "name": "stdout",
     "output_type": "stream",
     "text": [
      "1 #1 banana ['1 #5 banana added to zone', '1 #4 banana added to zone', '1 #7 banana added to zone', '1 #9 banana added to zone', '1 #10 banana added to zone']\n"
     ]
    },
    {
     "name": "stderr",
     "output_type": "stream",
     "text": [
      "INFO:root:1 #1 banana removed from zone by person 4\n",
      "INFO:root:1 #9 banana added to zone by person 4\n",
      "INFO:root:1 #10 banana added to zone by person 4\n",
      "video 1/1 (172/640) C:\\Users\\rcheruvu\\Desktop\\openvino_notebooks\\recipes\\automated_detection_tracking\\data\\asset.mp4: 640x640 1 person, 1 bottle, 2 bananas, 1 apple, 924.4ms\n"
     ]
    },
    {
     "name": "stdout",
     "output_type": "stream",
     "text": [
      "1 #1 banana ['1 #5 banana added to zone', '1 #4 banana added to zone', '1 #7 banana added to zone', '1 #9 banana added to zone', '1 #10 banana added to zone']\n"
     ]
    },
    {
     "name": "stderr",
     "output_type": "stream",
     "text": [
      "INFO:root:1 #1 banana removed from zone by person 4\n",
      "INFO:root:1 #9 banana added to zone by person 4\n",
      "INFO:root:1 #10 banana added to zone by person 4\n",
      "video 1/1 (173/640) C:\\Users\\rcheruvu\\Desktop\\openvino_notebooks\\recipes\\automated_detection_tracking\\data\\asset.mp4: 640x640 1 person, 1 bottle, 2 bananas, 1 apple, 832.2ms\n"
     ]
    },
    {
     "name": "stdout",
     "output_type": "stream",
     "text": [
      "1 #1 banana ['1 #5 banana added to zone', '1 #4 banana added to zone', '1 #7 banana added to zone', '1 #9 banana added to zone', '1 #10 banana added to zone']\n"
     ]
    },
    {
     "name": "stderr",
     "output_type": "stream",
     "text": [
      "INFO:root:1 #1 banana removed from zone by person 4\n",
      "INFO:root:1 #9 banana added to zone by person 4\n",
      "INFO:root:1 #10 banana added to zone by person 4\n",
      "video 1/1 (174/640) C:\\Users\\rcheruvu\\Desktop\\openvino_notebooks\\recipes\\automated_detection_tracking\\data\\asset.mp4: 640x640 1 person, 1 bottle, 2 bananas, 1 apple, 921.1ms\n"
     ]
    },
    {
     "name": "stdout",
     "output_type": "stream",
     "text": [
      "1 #1 banana ['1 #5 banana added to zone', '1 #4 banana added to zone', '1 #7 banana added to zone', '1 #9 banana added to zone', '1 #10 banana added to zone']\n"
     ]
    },
    {
     "name": "stderr",
     "output_type": "stream",
     "text": [
      "INFO:root:1 #1 banana removed from zone by person 4\n",
      "INFO:root:1 #9 banana added to zone by person 4\n",
      "INFO:root:1 #10 banana added to zone by person 4\n",
      "video 1/1 (175/640) C:\\Users\\rcheruvu\\Desktop\\openvino_notebooks\\recipes\\automated_detection_tracking\\data\\asset.mp4: 640x640 1 person, 1 bottle, 2 bananas, 1 apple, 848.8ms\n"
     ]
    },
    {
     "name": "stdout",
     "output_type": "stream",
     "text": [
      "1 #1 banana ['1 #5 banana added to zone', '1 #4 banana added to zone', '1 #7 banana added to zone', '1 #9 banana added to zone', '1 #10 banana added to zone']\n"
     ]
    },
    {
     "name": "stderr",
     "output_type": "stream",
     "text": [
      "INFO:root:1 #1 banana removed from zone by person 4\n",
      "INFO:root:1 #9 banana added to zone by person 4\n",
      "INFO:root:1 #10 banana added to zone by person 4\n",
      "video 1/1 (176/640) C:\\Users\\rcheruvu\\Desktop\\openvino_notebooks\\recipes\\automated_detection_tracking\\data\\asset.mp4: 640x640 1 person, 1 bottle, 2 bananas, 1 apple, 833.9ms\n"
     ]
    },
    {
     "name": "stdout",
     "output_type": "stream",
     "text": [
      "1 #1 banana ['1 #5 banana added to zone', '1 #4 banana added to zone', '1 #7 banana added to zone', '1 #9 banana added to zone', '1 #10 banana added to zone']\n"
     ]
    },
    {
     "name": "stderr",
     "output_type": "stream",
     "text": [
      "INFO:root:1 #1 banana removed from zone by person 4\n",
      "INFO:root:1 #9 banana added to zone by person 4\n",
      "INFO:root:1 #10 banana added to zone by person 4\n",
      "video 1/1 (177/640) C:\\Users\\rcheruvu\\Desktop\\openvino_notebooks\\recipes\\automated_detection_tracking\\data\\asset.mp4: 640x640 1 person, 1 bottle, 2 bananas, 1 apple, 1047.9ms\n"
     ]
    },
    {
     "name": "stdout",
     "output_type": "stream",
     "text": [
      "1 #1 banana ['1 #5 banana added to zone', '1 #4 banana added to zone', '1 #7 banana added to zone', '1 #9 banana added to zone', '1 #10 banana added to zone']\n"
     ]
    },
    {
     "name": "stderr",
     "output_type": "stream",
     "text": [
      "INFO:root:1 #1 banana removed from zone by person 4\n",
      "INFO:root:1 #9 banana added to zone by person 4\n",
      "INFO:root:1 #10 banana added to zone by person 4\n",
      "video 1/1 (178/640) C:\\Users\\rcheruvu\\Desktop\\openvino_notebooks\\recipes\\automated_detection_tracking\\data\\asset.mp4: 640x640 1 person, 1 bottle, 2 bananas, 1 apple, 1020.8ms\n"
     ]
    },
    {
     "name": "stdout",
     "output_type": "stream",
     "text": [
      "1 #1 banana ['1 #5 banana added to zone', '1 #4 banana added to zone', '1 #7 banana added to zone', '1 #9 banana added to zone', '1 #10 banana added to zone']\n"
     ]
    },
    {
     "name": "stderr",
     "output_type": "stream",
     "text": [
      "INFO:root:1 #1 banana removed from zone by person 4\n",
      "INFO:root:1 #9 banana added to zone by person 4\n",
      "INFO:root:1 #10 banana added to zone by person 4\n",
      "video 1/1 (179/640) C:\\Users\\rcheruvu\\Desktop\\openvino_notebooks\\recipes\\automated_detection_tracking\\data\\asset.mp4: 640x640 1 person, 1 bottle, 2 bananas, 1 apple, 884.0ms\n"
     ]
    },
    {
     "name": "stdout",
     "output_type": "stream",
     "text": [
      "1 #1 banana ['1 #5 banana added to zone', '1 #4 banana added to zone', '1 #7 banana added to zone', '1 #9 banana added to zone', '1 #10 banana added to zone']\n"
     ]
    },
    {
     "name": "stderr",
     "output_type": "stream",
     "text": [
      "INFO:root:1 #1 banana removed from zone by person 4\n",
      "INFO:root:1 #9 banana added to zone by person 4\n",
      "INFO:root:1 #10 banana added to zone by person 4\n"
     ]
    },
    {
     "name": "stdout",
     "output_type": "stream",
     "text": [
      "1 #1 banana ['1 #5 banana added to zone', '1 #4 banana added to zone', '1 #7 banana added to zone', '1 #9 banana added to zone', '1 #10 banana added to zone']\n"
     ]
    },
    {
     "name": "stderr",
     "output_type": "stream",
     "text": [
      "video 1/1 (180/640) C:\\Users\\rcheruvu\\Desktop\\openvino_notebooks\\recipes\\automated_detection_tracking\\data\\asset.mp4: 640x640 1 person, 1 bottle, 2 bananas, 1 apple, 963.0ms\n",
      "INFO:root:1 #1 banana removed from zone by person 4\n",
      "INFO:root:1 #9 banana added to zone by person 4\n",
      "INFO:root:1 #10 banana added to zone by person 4\n"
     ]
    },
    {
     "name": "stdout",
     "output_type": "stream",
     "text": [
      "1 #1 banana ['1 #5 banana added to zone', '1 #4 banana added to zone', '1 #7 banana added to zone', '1 #9 banana added to zone', '1 #10 banana added to zone']\n"
     ]
    },
    {
     "name": "stderr",
     "output_type": "stream",
     "text": [
      "video 1/1 (181/640) C:\\Users\\rcheruvu\\Desktop\\openvino_notebooks\\recipes\\automated_detection_tracking\\data\\asset.mp4: 640x640 1 person, 1 bottle, 2 bananas, 1 apple, 963.3ms\n",
      "INFO:root:1 #1 banana removed from zone by person 4\n",
      "INFO:root:1 #9 banana added to zone by person 4\n",
      "INFO:root:1 #10 banana added to zone by person 4\n"
     ]
    },
    {
     "name": "stdout",
     "output_type": "stream",
     "text": [
      "1 #1 banana ['1 #5 banana added to zone', '1 #4 banana added to zone', '1 #7 banana added to zone', '1 #9 banana added to zone', '1 #10 banana added to zone']\n"
     ]
    },
    {
     "name": "stderr",
     "output_type": "stream",
     "text": [
      "video 1/1 (182/640) C:\\Users\\rcheruvu\\Desktop\\openvino_notebooks\\recipes\\automated_detection_tracking\\data\\asset.mp4: 640x640 1 person, 1 bottle, 2 bananas, 1 apple, 982.3ms\n",
      "INFO:root:1 #1 banana removed from zone by person 4\n",
      "INFO:root:1 #9 banana added to zone by person 4\n",
      "INFO:root:1 #10 banana added to zone by person 4\n",
      "video 1/1 (183/640) C:\\Users\\rcheruvu\\Desktop\\openvino_notebooks\\recipes\\automated_detection_tracking\\data\\asset.mp4: 640x640 1 person, 1 bottle, 2 bananas, 1 apple, 977.0ms\n"
     ]
    },
    {
     "name": "stdout",
     "output_type": "stream",
     "text": [
      "1 #1 banana ['1 #5 banana added to zone', '1 #4 banana added to zone', '1 #7 banana added to zone', '1 #9 banana added to zone', '1 #10 banana added to zone']\n"
     ]
    },
    {
     "name": "stderr",
     "output_type": "stream",
     "text": [
      "INFO:root:1 #1 banana removed from zone by person 4\n",
      "INFO:root:1 #9 banana added to zone by person 4\n",
      "INFO:root:1 #10 banana added to zone by person 4\n"
     ]
    },
    {
     "name": "stdout",
     "output_type": "stream",
     "text": [
      "1 #1 banana ['1 #5 banana added to zone', '1 #4 banana added to zone', '1 #7 banana added to zone', '1 #9 banana added to zone', '1 #10 banana added to zone']\n"
     ]
    },
    {
     "name": "stderr",
     "output_type": "stream",
     "text": [
      "video 1/1 (184/640) C:\\Users\\rcheruvu\\Desktop\\openvino_notebooks\\recipes\\automated_detection_tracking\\data\\asset.mp4: 640x640 1 person, 1 bottle, 2 bananas, 1 apple, 1271.8ms\n",
      "INFO:root:1 #1 banana removed from zone by person 4\n",
      "INFO:root:1 #9 banana added to zone by person 4\n",
      "INFO:root:1 #10 banana added to zone by person 4\n"
     ]
    },
    {
     "name": "stdout",
     "output_type": "stream",
     "text": [
      "1 #1 banana ['1 #5 banana added to zone', '1 #4 banana added to zone', '1 #7 banana added to zone', '1 #9 banana added to zone', '1 #10 banana added to zone']\n"
     ]
    },
    {
     "name": "stderr",
     "output_type": "stream",
     "text": [
      "video 1/1 (185/640) C:\\Users\\rcheruvu\\Desktop\\openvino_notebooks\\recipes\\automated_detection_tracking\\data\\asset.mp4: 640x640 1 person, 1 bottle, 2 bananas, 1 apple, 955.7ms\n",
      "INFO:root:1 #1 banana removed from zone by person 4\n",
      "INFO:root:1 #9 banana added to zone by person 4\n",
      "INFO:root:1 #10 banana added to zone by person 4\n"
     ]
    },
    {
     "name": "stdout",
     "output_type": "stream",
     "text": [
      "1 #1 banana ['1 #5 banana added to zone', '1 #4 banana added to zone', '1 #7 banana added to zone', '1 #9 banana added to zone', '1 #10 banana added to zone']\n"
     ]
    },
    {
     "name": "stderr",
     "output_type": "stream",
     "text": [
      "video 1/1 (186/640) C:\\Users\\rcheruvu\\Desktop\\openvino_notebooks\\recipes\\automated_detection_tracking\\data\\asset.mp4: 640x640 1 person, 1 bottle, 2 bananas, 1 apple, 949.9ms\n",
      "INFO:root:1 #1 banana removed from zone by person 4\n",
      "INFO:root:1 #9 banana added to zone by person 4\n",
      "INFO:root:1 #10 banana added to zone by person 4\n"
     ]
    },
    {
     "name": "stdout",
     "output_type": "stream",
     "text": [
      "1 #1 banana ['1 #5 banana added to zone', '1 #4 banana added to zone', '1 #7 banana added to zone', '1 #9 banana added to zone', '1 #10 banana added to zone']\n"
     ]
    },
    {
     "name": "stderr",
     "output_type": "stream",
     "text": [
      "video 1/1 (187/640) C:\\Users\\rcheruvu\\Desktop\\openvino_notebooks\\recipes\\automated_detection_tracking\\data\\asset.mp4: 640x640 1 person, 1 bottle, 2 bananas, 1 apple, 1003.2ms\n",
      "INFO:root:1 #1 banana removed from zone by person 4\n",
      "INFO:root:1 #9 banana added to zone by person 4\n",
      "INFO:root:1 #10 banana added to zone by person 4\n",
      "video 1/1 (188/640) C:\\Users\\rcheruvu\\Desktop\\openvino_notebooks\\recipes\\automated_detection_tracking\\data\\asset.mp4: 640x640 1 person, 1 bottle, 2 bananas, 1 apple, 981.7ms\n"
     ]
    },
    {
     "name": "stdout",
     "output_type": "stream",
     "text": [
      "1 #1 banana ['1 #5 banana added to zone', '1 #4 banana added to zone', '1 #7 banana added to zone', '1 #9 banana added to zone', '1 #10 banana added to zone']\n"
     ]
    },
    {
     "name": "stderr",
     "output_type": "stream",
     "text": [
      "INFO:root:1 #1 banana removed from zone by person 4\n",
      "INFO:root:1 #9 banana added to zone by person 4\n",
      "INFO:root:1 #10 banana added to zone by person 4\n"
     ]
    },
    {
     "name": "stdout",
     "output_type": "stream",
     "text": [
      "1 #1 banana ['1 #5 banana added to zone', '1 #4 banana added to zone', '1 #7 banana added to zone', '1 #9 banana added to zone', '1 #10 banana added to zone']\n"
     ]
    },
    {
     "name": "stderr",
     "output_type": "stream",
     "text": [
      "video 1/1 (189/640) C:\\Users\\rcheruvu\\Desktop\\openvino_notebooks\\recipes\\automated_detection_tracking\\data\\asset.mp4: 640x640 1 person, 1 bottle, 2 bananas, 1 apple, 1065.7ms\n",
      "INFO:root:1 #1 banana removed from zone by person 4\n",
      "INFO:root:1 #9 banana added to zone by person 4\n",
      "INFO:root:1 #10 banana added to zone by person 4\n",
      "video 1/1 (190/640) C:\\Users\\rcheruvu\\Desktop\\openvino_notebooks\\recipes\\automated_detection_tracking\\data\\asset.mp4: 640x640 1 person, 1 bottle, 2 bananas, 1 apple, 1117.7ms\n"
     ]
    },
    {
     "name": "stdout",
     "output_type": "stream",
     "text": [
      "1 #1 banana ['1 #5 banana added to zone', '1 #4 banana added to zone', '1 #7 banana added to zone', '1 #9 banana added to zone', '1 #10 banana added to zone']\n"
     ]
    },
    {
     "name": "stderr",
     "output_type": "stream",
     "text": [
      "INFO:root:1 #1 banana removed from zone by person 4\n",
      "INFO:root:1 #9 banana added to zone by person 4\n",
      "INFO:root:1 #10 banana added to zone by person 4\n"
     ]
    },
    {
     "name": "stdout",
     "output_type": "stream",
     "text": [
      "1 #1 banana ['1 #5 banana added to zone', '1 #4 banana added to zone', '1 #7 banana added to zone', '1 #9 banana added to zone', '1 #10 banana added to zone']\n"
     ]
    },
    {
     "name": "stderr",
     "output_type": "stream",
     "text": [
      "video 1/1 (191/640) C:\\Users\\rcheruvu\\Desktop\\openvino_notebooks\\recipes\\automated_detection_tracking\\data\\asset.mp4: 640x640 1 person, 1 bottle, 2 bananas, 1 apple, 959.6ms\n",
      "INFO:root:1 #1 banana removed from zone by person 4\n",
      "INFO:root:1 #9 banana added to zone by person 4\n",
      "INFO:root:1 #10 banana added to zone by person 4\n"
     ]
    },
    {
     "name": "stdout",
     "output_type": "stream",
     "text": [
      "1 #1 banana ['1 #5 banana added to zone', '1 #4 banana added to zone', '1 #7 banana added to zone', '1 #9 banana added to zone', '1 #10 banana added to zone']\n"
     ]
    },
    {
     "name": "stderr",
     "output_type": "stream",
     "text": [
      "video 1/1 (192/640) C:\\Users\\rcheruvu\\Desktop\\openvino_notebooks\\recipes\\automated_detection_tracking\\data\\asset.mp4: 640x640 1 person, 1 bottle, 2 bananas, 1 apple, 1071.5ms\n",
      "INFO:root:1 #1 banana removed from zone by person 4\n",
      "INFO:root:1 #9 banana added to zone by person 4\n",
      "INFO:root:1 #10 banana added to zone by person 4\n"
     ]
    },
    {
     "name": "stdout",
     "output_type": "stream",
     "text": [
      "1 #1 banana ['1 #5 banana added to zone', '1 #4 banana added to zone', '1 #7 banana added to zone', '1 #9 banana added to zone', '1 #10 banana added to zone']\n"
     ]
    },
    {
     "name": "stderr",
     "output_type": "stream",
     "text": [
      "video 1/1 (193/640) C:\\Users\\rcheruvu\\Desktop\\openvino_notebooks\\recipes\\automated_detection_tracking\\data\\asset.mp4: 640x640 1 person, 1 bottle, 2 bananas, 1 apple, 1105.0ms\n",
      "INFO:root:1 #1 banana removed from zone by person 4\n",
      "INFO:root:1 #9 banana added to zone by person 4\n",
      "INFO:root:1 #10 banana added to zone by person 4\n",
      "video 1/1 (194/640) C:\\Users\\rcheruvu\\Desktop\\openvino_notebooks\\recipes\\automated_detection_tracking\\data\\asset.mp4: 640x640 1 person, 1 bottle, 2 bananas, 1 apple, 1009.2ms\n"
     ]
    },
    {
     "name": "stdout",
     "output_type": "stream",
     "text": [
      "1 #1 banana ['1 #5 banana added to zone', '1 #4 banana added to zone', '1 #7 banana added to zone', '1 #9 banana added to zone', '1 #10 banana added to zone']\n"
     ]
    },
    {
     "name": "stderr",
     "output_type": "stream",
     "text": [
      "INFO:root:1 #1 banana removed from zone by person 4\n",
      "INFO:root:1 #9 banana added to zone by person 8\n",
      "INFO:root:1 #10 banana added to zone by person 8\n"
     ]
    },
    {
     "name": "stdout",
     "output_type": "stream",
     "text": [
      "1 #1 banana ['1 #5 banana added to zone', '1 #4 banana added to zone', '1 #7 banana added to zone', '1 #9 banana added to zone', '1 #10 banana added to zone']\n"
     ]
    },
    {
     "name": "stderr",
     "output_type": "stream",
     "text": [
      "video 1/1 (195/640) C:\\Users\\rcheruvu\\Desktop\\openvino_notebooks\\recipes\\automated_detection_tracking\\data\\asset.mp4: 640x640 1 person, 1 bottle, 2 bananas, 1 apple, 937.4ms\n",
      "INFO:root:1 #9 banana added to zone by person 8\n",
      "video 1/1 (196/640) C:\\Users\\rcheruvu\\Desktop\\openvino_notebooks\\recipes\\automated_detection_tracking\\data\\asset.mp4: 640x640 1 person, 1 bottle, 1 banana, 1 apple, 1021.8ms\n",
      "INFO:root:1 #9 banana added to zone by person 8\n",
      "video 1/1 (197/640) C:\\Users\\rcheruvu\\Desktop\\openvino_notebooks\\recipes\\automated_detection_tracking\\data\\asset.mp4: 640x640 1 person, 1 bottle, 1 banana, 1 apple, 978.1ms\n",
      "INFO:root:1 #9 banana added to zone by person 8\n",
      "video 1/1 (198/640) C:\\Users\\rcheruvu\\Desktop\\openvino_notebooks\\recipes\\automated_detection_tracking\\data\\asset.mp4: 640x640 1 person, 1 bottle, 1 banana, 1 apple, 1034.8ms\n",
      "INFO:root:1 #9 banana added to zone by person 8\n",
      "video 1/1 (199/640) C:\\Users\\rcheruvu\\Desktop\\openvino_notebooks\\recipes\\automated_detection_tracking\\data\\asset.mp4: 640x640 1 person, 1 bottle, 1 banana, 1 apple, 969.8ms\n",
      "INFO:root:1 #9 banana added to zone by person 8\n",
      "video 1/1 (200/640) C:\\Users\\rcheruvu\\Desktop\\openvino_notebooks\\recipes\\automated_detection_tracking\\data\\asset.mp4: 640x640 1 person, 1 bottle, 1 banana, 1 apple, 976.6ms\n",
      "INFO:root:1 #9 banana added to zone by person 8\n",
      "video 1/1 (201/640) C:\\Users\\rcheruvu\\Desktop\\openvino_notebooks\\recipes\\automated_detection_tracking\\data\\asset.mp4: 640x640 1 person, 1 bottle, 1 banana, 1 apple, 966.5ms\n",
      "INFO:root:1 #9 banana added to zone by person 8\n",
      "video 1/1 (202/640) C:\\Users\\rcheruvu\\Desktop\\openvino_notebooks\\recipes\\automated_detection_tracking\\data\\asset.mp4: 640x640 1 person, 1 bottle, 1 banana, 1 apple, 955.5ms\n",
      "INFO:root:1 #9 banana added to zone by person 8\n",
      "video 1/1 (203/640) C:\\Users\\rcheruvu\\Desktop\\openvino_notebooks\\recipes\\automated_detection_tracking\\data\\asset.mp4: 640x640 1 person, 1 bottle, 1 banana, 1 apple, 988.9ms\n",
      "INFO:root:1 #9 banana added to zone by person 8\n",
      "video 1/1 (204/640) C:\\Users\\rcheruvu\\Desktop\\openvino_notebooks\\recipes\\automated_detection_tracking\\data\\asset.mp4: 640x640 1 person, 1 bottle, 1 banana, 1 apple, 948.1ms\n",
      "INFO:root:1 #9 banana added to zone by person 8\n",
      "video 1/1 (205/640) C:\\Users\\rcheruvu\\Desktop\\openvino_notebooks\\recipes\\automated_detection_tracking\\data\\asset.mp4: 640x640 1 person, 1 bottle, 1 banana, 1 apple, 953.3ms\n",
      "INFO:root:1 #9 banana added to zone by person 8\n",
      "video 1/1 (206/640) C:\\Users\\rcheruvu\\Desktop\\openvino_notebooks\\recipes\\automated_detection_tracking\\data\\asset.mp4: 640x640 1 person, 1 bottle, 1 banana, 1 apple, 1002.1ms\n",
      "INFO:root:1 #9 banana added to zone by person 8\n",
      "video 1/1 (207/640) C:\\Users\\rcheruvu\\Desktop\\openvino_notebooks\\recipes\\automated_detection_tracking\\data\\asset.mp4: 640x640 1 person, 1 bottle, 1 banana, 1 apple, 974.8ms\n",
      "INFO:root:1 #9 banana added to zone by person 8\n",
      "video 1/1 (208/640) C:\\Users\\rcheruvu\\Desktop\\openvino_notebooks\\recipes\\automated_detection_tracking\\data\\asset.mp4: 640x640 1 person, 1 bottle, 1 banana, 1 apple, 969.2ms\n",
      "INFO:root:1 #9 banana added to zone by person 8\n",
      "video 1/1 (209/640) C:\\Users\\rcheruvu\\Desktop\\openvino_notebooks\\recipes\\automated_detection_tracking\\data\\asset.mp4: 640x640 1 person, 1 bottle, 1 banana, 1 apple, 999.8ms\n",
      "INFO:root:1 #9 banana added to zone by person 8\n",
      "video 1/1 (210/640) C:\\Users\\rcheruvu\\Desktop\\openvino_notebooks\\recipes\\automated_detection_tracking\\data\\asset.mp4: 640x640 1 person, 1 bottle, 1 banana, 1 apple, 945.6ms\n",
      "INFO:root:1 #1 banana removed from zone by person 8\n",
      "INFO:root:1 #9 banana added to zone by person 8\n",
      "INFO:root:1 #11 bottle added to zone by person 8\n"
     ]
    },
    {
     "name": "stdout",
     "output_type": "stream",
     "text": [
      "1 #1 banana ['1 #5 banana added to zone', '1 #4 banana added to zone', '1 #7 banana added to zone', '1 #9 banana added to zone', '1 #10 banana added to zone']\n"
     ]
    },
    {
     "name": "stderr",
     "output_type": "stream",
     "text": [
      "video 1/1 (211/640) C:\\Users\\rcheruvu\\Desktop\\openvino_notebooks\\recipes\\automated_detection_tracking\\data\\asset.mp4: 640x640 1 person, 2 bottles, 1 banana, 1 apple, 1012.0ms\n",
      "INFO:root:1 #1 banana removed from zone by person 8\n",
      "INFO:root:1 #9 banana added to zone by person 8\n",
      "INFO:root:1 #11 bottle added to zone by person 8\n",
      "video 1/1 (212/640) C:\\Users\\rcheruvu\\Desktop\\openvino_notebooks\\recipes\\automated_detection_tracking\\data\\asset.mp4: 640x640 1 person, 2 bottles, 1 banana, 1 apple, 959.4ms\n"
     ]
    },
    {
     "name": "stdout",
     "output_type": "stream",
     "text": [
      "1 #1 banana ['1 #5 banana added to zone', '1 #4 banana added to zone', '1 #7 banana added to zone', '1 #9 banana added to zone', '1 #10 banana added to zone', '1 #11 bottle added to zone']\n"
     ]
    },
    {
     "name": "stderr",
     "output_type": "stream",
     "text": [
      "INFO:root:1 #1 banana removed from zone by person 8\n",
      "INFO:root:1 #9 banana added to zone by person 8\n",
      "INFO:root:1 #11 bottle added to zone by person 8\n",
      "video 1/1 (213/640) C:\\Users\\rcheruvu\\Desktop\\openvino_notebooks\\recipes\\automated_detection_tracking\\data\\asset.mp4: 640x640 1 person, 2 bottles, 1 banana, 1 apple, 975.2ms\n"
     ]
    },
    {
     "name": "stdout",
     "output_type": "stream",
     "text": [
      "1 #1 banana ['1 #5 banana added to zone', '1 #4 banana added to zone', '1 #7 banana added to zone', '1 #9 banana added to zone', '1 #10 banana added to zone', '1 #11 bottle added to zone']\n"
     ]
    },
    {
     "name": "stderr",
     "output_type": "stream",
     "text": [
      "INFO:root:1 #1 banana removed from zone by person 8\n",
      "INFO:root:1 #9 banana added to zone by person 8\n",
      "INFO:root:1 #11 bottle added to zone by person 8\n",
      "video 1/1 (214/640) C:\\Users\\rcheruvu\\Desktop\\openvino_notebooks\\recipes\\automated_detection_tracking\\data\\asset.mp4: 640x640 1 person, 2 bottles, 1 banana, 1 apple, 959.2ms\n"
     ]
    },
    {
     "name": "stdout",
     "output_type": "stream",
     "text": [
      "1 #1 banana ['1 #5 banana added to zone', '1 #4 banana added to zone', '1 #7 banana added to zone', '1 #9 banana added to zone', '1 #10 banana added to zone', '1 #11 bottle added to zone']\n"
     ]
    },
    {
     "name": "stderr",
     "output_type": "stream",
     "text": [
      "INFO:root:1 #1 banana removed from zone by person 8\n",
      "INFO:root:1 #9 banana added to zone by person 8\n",
      "INFO:root:1 #11 bottle added to zone by person 8\n",
      "video 1/1 (215/640) C:\\Users\\rcheruvu\\Desktop\\openvino_notebooks\\recipes\\automated_detection_tracking\\data\\asset.mp4: 640x640 1 person, 2 bottles, 1 banana, 1 apple, 963.4ms\n"
     ]
    },
    {
     "name": "stdout",
     "output_type": "stream",
     "text": [
      "1 #1 banana ['1 #5 banana added to zone', '1 #4 banana added to zone', '1 #7 banana added to zone', '1 #9 banana added to zone', '1 #10 banana added to zone', '1 #11 bottle added to zone']\n"
     ]
    },
    {
     "name": "stderr",
     "output_type": "stream",
     "text": [
      "INFO:root:1 #1 banana removed from zone by person 8\n",
      "INFO:root:1 #9 banana added to zone by person 8\n",
      "INFO:root:1 #11 bottle added to zone by person 8\n"
     ]
    },
    {
     "name": "stdout",
     "output_type": "stream",
     "text": [
      "1 #1 banana ['1 #5 banana added to zone', '1 #4 banana added to zone', '1 #7 banana added to zone', '1 #9 banana added to zone', '1 #10 banana added to zone', '1 #11 bottle added to zone']\n"
     ]
    },
    {
     "name": "stderr",
     "output_type": "stream",
     "text": [
      "video 1/1 (216/640) C:\\Users\\rcheruvu\\Desktop\\openvino_notebooks\\recipes\\automated_detection_tracking\\data\\asset.mp4: 640x640 1 person, 2 bottles, 1 banana, 1 apple, 979.3ms\n",
      "INFO:root:1 #1 banana removed from zone by person 8\n",
      "INFO:root:1 #9 banana added to zone by person 8\n",
      "INFO:root:1 #11 bottle added to zone by person 8\n"
     ]
    },
    {
     "name": "stdout",
     "output_type": "stream",
     "text": [
      "1 #1 banana ['1 #5 banana added to zone', '1 #4 banana added to zone', '1 #7 banana added to zone', '1 #9 banana added to zone', '1 #10 banana added to zone', '1 #11 bottle added to zone']\n"
     ]
    },
    {
     "name": "stderr",
     "output_type": "stream",
     "text": [
      "video 1/1 (217/640) C:\\Users\\rcheruvu\\Desktop\\openvino_notebooks\\recipes\\automated_detection_tracking\\data\\asset.mp4: 640x640 1 person, 2 bottles, 1 banana, 1 apple, 977.2ms\n",
      "INFO:root:1 #1 banana removed from zone by person 8\n",
      "INFO:root:1 #9 banana added to zone by person 8\n",
      "INFO:root:1 #11 bottle added to zone by person 8\n",
      "video 1/1 (218/640) C:\\Users\\rcheruvu\\Desktop\\openvino_notebooks\\recipes\\automated_detection_tracking\\data\\asset.mp4: 640x640 1 person, 2 bottles, 1 banana, 1 apple, 1089.6ms\n"
     ]
    },
    {
     "name": "stdout",
     "output_type": "stream",
     "text": [
      "1 #1 banana ['1 #5 banana added to zone', '1 #4 banana added to zone', '1 #7 banana added to zone', '1 #9 banana added to zone', '1 #10 banana added to zone', '1 #11 bottle added to zone']\n"
     ]
    },
    {
     "name": "stderr",
     "output_type": "stream",
     "text": [
      "INFO:root:1 #1 banana removed from zone by person 8\n",
      "INFO:root:1 #9 banana added to zone by person 8\n",
      "INFO:root:1 #11 bottle added to zone by person 8\n"
     ]
    },
    {
     "name": "stdout",
     "output_type": "stream",
     "text": [
      "1 #1 banana ['1 #5 banana added to zone', '1 #4 banana added to zone', '1 #7 banana added to zone', '1 #9 banana added to zone', '1 #10 banana added to zone', '1 #11 bottle added to zone']\n"
     ]
    },
    {
     "name": "stderr",
     "output_type": "stream",
     "text": [
      "video 1/1 (219/640) C:\\Users\\rcheruvu\\Desktop\\openvino_notebooks\\recipes\\automated_detection_tracking\\data\\asset.mp4: 640x640 1 person, 2 bottles, 1 banana, 1 apple, 1039.7ms\n",
      "INFO:root:1 #1 banana removed from zone by person 8\n",
      "INFO:root:1 #9 banana added to zone by person 8\n",
      "INFO:root:1 #11 bottle added to zone by person 8\n",
      "video 1/1 (220/640) C:\\Users\\rcheruvu\\Desktop\\openvino_notebooks\\recipes\\automated_detection_tracking\\data\\asset.mp4: 640x640 1 person, 2 bottles, 1 banana, 1 apple, 1102.0ms\n"
     ]
    },
    {
     "name": "stdout",
     "output_type": "stream",
     "text": [
      "1 #1 banana ['1 #5 banana added to zone', '1 #4 banana added to zone', '1 #7 banana added to zone', '1 #9 banana added to zone', '1 #10 banana added to zone', '1 #11 bottle added to zone']\n"
     ]
    },
    {
     "name": "stderr",
     "output_type": "stream",
     "text": [
      "INFO:root:1 #1 banana removed from zone by person 8\n",
      "INFO:root:1 #9 banana added to zone by person 8\n",
      "INFO:root:1 #11 bottle added to zone by person 8\n",
      "video 1/1 (221/640) C:\\Users\\rcheruvu\\Desktop\\openvino_notebooks\\recipes\\automated_detection_tracking\\data\\asset.mp4: 640x640 1 person, 2 bottles, 1 banana, 1 apple, 832.9ms\n"
     ]
    },
    {
     "name": "stdout",
     "output_type": "stream",
     "text": [
      "1 #1 banana ['1 #5 banana added to zone', '1 #4 banana added to zone', '1 #7 banana added to zone', '1 #9 banana added to zone', '1 #10 banana added to zone', '1 #11 bottle added to zone']\n"
     ]
    },
    {
     "name": "stderr",
     "output_type": "stream",
     "text": [
      "INFO:root:1 #1 banana removed from zone by person 8\n",
      "INFO:root:1 #9 banana added to zone by person 8\n",
      "INFO:root:1 #11 bottle added to zone by person 8\n",
      "video 1/1 (222/640) C:\\Users\\rcheruvu\\Desktop\\openvino_notebooks\\recipes\\automated_detection_tracking\\data\\asset.mp4: 640x640 1 person, 2 bottles, 1 banana, 1 apple, 840.6ms\n"
     ]
    },
    {
     "name": "stdout",
     "output_type": "stream",
     "text": [
      "1 #1 banana ['1 #5 banana added to zone', '1 #4 banana added to zone', '1 #7 banana added to zone', '1 #9 banana added to zone', '1 #10 banana added to zone', '1 #11 bottle added to zone']\n"
     ]
    },
    {
     "name": "stderr",
     "output_type": "stream",
     "text": [
      "INFO:root:1 #1 banana removed from zone by person 8\n",
      "INFO:root:1 #9 banana added to zone by person 8\n",
      "INFO:root:1 #11 bottle added to zone by person 8\n",
      "video 1/1 (223/640) C:\\Users\\rcheruvu\\Desktop\\openvino_notebooks\\recipes\\automated_detection_tracking\\data\\asset.mp4: 640x640 1 person, 2 bottles, 1 banana, 1 apple, 795.5ms\n"
     ]
    },
    {
     "name": "stdout",
     "output_type": "stream",
     "text": [
      "1 #1 banana ['1 #5 banana added to zone', '1 #4 banana added to zone', '1 #7 banana added to zone', '1 #9 banana added to zone', '1 #10 banana added to zone', '1 #11 bottle added to zone']\n"
     ]
    },
    {
     "name": "stderr",
     "output_type": "stream",
     "text": [
      "INFO:root:1 #1 banana removed from zone by person 8\n",
      "INFO:root:1 #9 banana added to zone by person 8\n",
      "INFO:root:1 #11 bottle added to zone by person 8\n",
      "video 1/1 (224/640) C:\\Users\\rcheruvu\\Desktop\\openvino_notebooks\\recipes\\automated_detection_tracking\\data\\asset.mp4: 640x640 1 person, 2 bottles, 1 banana, 1 apple, 802.4ms\n"
     ]
    },
    {
     "name": "stdout",
     "output_type": "stream",
     "text": [
      "1 #1 banana ['1 #5 banana added to zone', '1 #4 banana added to zone', '1 #7 banana added to zone', '1 #9 banana added to zone', '1 #10 banana added to zone', '1 #11 bottle added to zone']\n"
     ]
    },
    {
     "name": "stderr",
     "output_type": "stream",
     "text": [
      "INFO:root:1 #1 banana removed from zone by person 8\n",
      "INFO:root:1 #9 banana added to zone by person 8\n",
      "INFO:root:1 #11 bottle added to zone by person 8\n",
      "video 1/1 (225/640) C:\\Users\\rcheruvu\\Desktop\\openvino_notebooks\\recipes\\automated_detection_tracking\\data\\asset.mp4: 640x640 1 person, 2 bottles, 1 banana, 1 apple, 913.6ms\n"
     ]
    },
    {
     "name": "stdout",
     "output_type": "stream",
     "text": [
      "1 #1 banana ['1 #5 banana added to zone', '1 #4 banana added to zone', '1 #7 banana added to zone', '1 #9 banana added to zone', '1 #10 banana added to zone', '1 #11 bottle added to zone']\n"
     ]
    },
    {
     "name": "stderr",
     "output_type": "stream",
     "text": [
      "INFO:root:1 #1 banana removed from zone by person 8\n",
      "INFO:root:1 #9 banana added to zone by person 8\n",
      "INFO:root:1 #11 bottle added to zone by person 8\n",
      "video 1/1 (226/640) C:\\Users\\rcheruvu\\Desktop\\openvino_notebooks\\recipes\\automated_detection_tracking\\data\\asset.mp4: 640x640 1 person, 2 bottles, 1 banana, 1 apple, 788.1ms\n"
     ]
    },
    {
     "name": "stdout",
     "output_type": "stream",
     "text": [
      "1 #1 banana ['1 #5 banana added to zone', '1 #4 banana added to zone', '1 #7 banana added to zone', '1 #9 banana added to zone', '1 #10 banana added to zone', '1 #11 bottle added to zone']\n"
     ]
    },
    {
     "name": "stderr",
     "output_type": "stream",
     "text": [
      "INFO:root:1 #9 banana added to zone by person 4\n",
      "INFO:root:1 #11 bottle added to zone by person 4\n",
      "video 1/1 (227/640) C:\\Users\\rcheruvu\\Desktop\\openvino_notebooks\\recipes\\automated_detection_tracking\\data\\asset.mp4: 640x640 1 person, 1 bottle, 1 banana, 1 apple, 798.9ms\n",
      "INFO:root:1 #9 banana added to zone by person 4\n",
      "INFO:root:1 #11 banana added to zone by person 4\n",
      "video 1/1 (228/640) C:\\Users\\rcheruvu\\Desktop\\openvino_notebooks\\recipes\\automated_detection_tracking\\data\\asset.mp4: 640x640 1 person, 2 bananas, 1 apple, 791.1ms\n",
      "INFO:root:1 #1 banana removed from zone by person 4\n",
      "INFO:root:1 #3 bottle removed from zone by person 4\n",
      "INFO:root:1 #9 banana added to zone by person 4\n",
      "INFO:root:1 #11 bottle added to zone by person 4\n",
      "video 1/1 (229/640) C:\\Users\\rcheruvu\\Desktop\\openvino_notebooks\\recipes\\automated_detection_tracking\\data\\asset.mp4: 640x640 1 person, 1 bottle, 1 banana, 1 apple, 815.9ms\n"
     ]
    },
    {
     "name": "stdout",
     "output_type": "stream",
     "text": [
      "1 #1 banana ['1 #5 banana added to zone', '1 #4 banana added to zone', '1 #7 banana added to zone', '1 #9 banana added to zone', '1 #10 banana added to zone', '1 #11 bottle added to zone', '1 #11 banana added to zone']\n",
      "1 #3 bottle ['1 #5 banana added to zone', '1 #4 banana added to zone', '1 #7 banana added to zone', '1 #9 banana added to zone', '1 #10 banana added to zone', '1 #11 bottle added to zone', '1 #11 banana added to zone']\n"
     ]
    },
    {
     "name": "stderr",
     "output_type": "stream",
     "text": [
      "video 1/1 (230/640) C:\\Users\\rcheruvu\\Desktop\\openvino_notebooks\\recipes\\automated_detection_tracking\\data\\asset.mp4: 640x640 1 person, 1 apple, 907.9ms\n",
      "video 1/1 (231/640) C:\\Users\\rcheruvu\\Desktop\\openvino_notebooks\\recipes\\automated_detection_tracking\\data\\asset.mp4: 640x640 1 person, 1 apple, 869.4ms\n",
      "video 1/1 (232/640) C:\\Users\\rcheruvu\\Desktop\\openvino_notebooks\\recipes\\automated_detection_tracking\\data\\asset.mp4: 640x640 1 person, 1 apple, 794.4ms\n",
      "video 1/1 (233/640) C:\\Users\\rcheruvu\\Desktop\\openvino_notebooks\\recipes\\automated_detection_tracking\\data\\asset.mp4: 640x640 1 person, 1 apple, 857.1ms\n",
      "INFO:root:1 #1 banana removed from zone by person 4\n",
      "INFO:root:1 #3 bottle removed from zone by person 4\n",
      "INFO:root:1 #9 banana added to zone by person 4\n",
      "video 1/1 (234/640) C:\\Users\\rcheruvu\\Desktop\\openvino_notebooks\\recipes\\automated_detection_tracking\\data\\asset.mp4: 640x640 1 person, 1 banana, 1 apple, 790.2ms\n"
     ]
    },
    {
     "name": "stdout",
     "output_type": "stream",
     "text": [
      "1 #1 banana ['1 #5 banana added to zone', '1 #4 banana added to zone', '1 #7 banana added to zone', '1 #9 banana added to zone', '1 #10 banana added to zone', '1 #11 bottle added to zone', '1 #11 banana added to zone']\n",
      "1 #3 bottle ['1 #5 banana added to zone', '1 #4 banana added to zone', '1 #7 banana added to zone', '1 #9 banana added to zone', '1 #10 banana added to zone', '1 #11 bottle added to zone', '1 #11 banana added to zone']\n"
     ]
    },
    {
     "name": "stderr",
     "output_type": "stream",
     "text": [
      "INFO:root:1 #1 banana removed from zone by person 4\n",
      "INFO:root:1 #3 bottle removed from zone by person 4\n",
      "INFO:root:1 #9 banana added to zone by person 4\n",
      "video 1/1 (235/640) C:\\Users\\rcheruvu\\Desktop\\openvino_notebooks\\recipes\\automated_detection_tracking\\data\\asset.mp4: 640x640 1 person, 1 banana, 1 apple, 867.7ms\n"
     ]
    },
    {
     "name": "stdout",
     "output_type": "stream",
     "text": [
      "1 #1 banana ['1 #5 banana added to zone', '1 #4 banana added to zone', '1 #7 banana added to zone', '1 #9 banana added to zone', '1 #10 banana added to zone', '1 #11 bottle added to zone', '1 #11 banana added to zone']\n",
      "1 #3 bottle ['1 #5 banana added to zone', '1 #4 banana added to zone', '1 #7 banana added to zone', '1 #9 banana added to zone', '1 #10 banana added to zone', '1 #11 bottle added to zone', '1 #11 banana added to zone']\n"
     ]
    },
    {
     "name": "stderr",
     "output_type": "stream",
     "text": [
      "INFO:root:1 #1 banana removed from zone by person 4\n",
      "INFO:root:1 #3 bottle removed from zone by person 4\n",
      "INFO:root:1 #9 banana added to zone by person 4\n",
      "video 1/1 (236/640) C:\\Users\\rcheruvu\\Desktop\\openvino_notebooks\\recipes\\automated_detection_tracking\\data\\asset.mp4: 640x640 1 person, 1 banana, 1 apple, 821.2ms\n"
     ]
    },
    {
     "name": "stdout",
     "output_type": "stream",
     "text": [
      "1 #1 banana ['1 #5 banana added to zone', '1 #4 banana added to zone', '1 #7 banana added to zone', '1 #9 banana added to zone', '1 #10 banana added to zone', '1 #11 bottle added to zone', '1 #11 banana added to zone']\n",
      "1 #3 bottle ['1 #5 banana added to zone', '1 #4 banana added to zone', '1 #7 banana added to zone', '1 #9 banana added to zone', '1 #10 banana added to zone', '1 #11 bottle added to zone', '1 #11 banana added to zone']\n"
     ]
    },
    {
     "name": "stderr",
     "output_type": "stream",
     "text": [
      "INFO:root:1 #1 banana removed from zone by person 4\n",
      "INFO:root:1 #3 bottle removed from zone by person 4\n",
      "INFO:root:1 #9 banana added to zone by person 4\n",
      "video 1/1 (237/640) C:\\Users\\rcheruvu\\Desktop\\openvino_notebooks\\recipes\\automated_detection_tracking\\data\\asset.mp4: 640x640 1 person, 1 banana, 1 apple, 859.3ms\n"
     ]
    },
    {
     "name": "stdout",
     "output_type": "stream",
     "text": [
      "1 #1 banana ['1 #5 banana added to zone', '1 #4 banana added to zone', '1 #7 banana added to zone', '1 #9 banana added to zone', '1 #10 banana added to zone', '1 #11 bottle added to zone', '1 #11 banana added to zone']\n",
      "1 #3 bottle ['1 #5 banana added to zone', '1 #4 banana added to zone', '1 #7 banana added to zone', '1 #9 banana added to zone', '1 #10 banana added to zone', '1 #11 bottle added to zone', '1 #11 banana added to zone']\n"
     ]
    },
    {
     "name": "stderr",
     "output_type": "stream",
     "text": [
      "INFO:root:1 #1 banana removed from zone by person 4\n",
      "INFO:root:1 #3 bottle removed from zone by person 4\n",
      "INFO:root:1 #8 hot dog added to zone by person 4\n",
      "INFO:root:1 #9 banana added to zone by person 4\n",
      "video 1/1 (238/640) C:\\Users\\rcheruvu\\Desktop\\openvino_notebooks\\recipes\\automated_detection_tracking\\data\\asset.mp4: 640x640 1 banana, 1 apple, 1 hot dog, 798.3ms\n"
     ]
    },
    {
     "name": "stdout",
     "output_type": "stream",
     "text": [
      "1 #1 banana ['1 #5 banana added to zone', '1 #4 banana added to zone', '1 #7 banana added to zone', '1 #9 banana added to zone', '1 #10 banana added to zone', '1 #11 bottle added to zone', '1 #11 banana added to zone']\n",
      "1 #3 bottle ['1 #5 banana added to zone', '1 #4 banana added to zone', '1 #7 banana added to zone', '1 #9 banana added to zone', '1 #10 banana added to zone', '1 #11 bottle added to zone', '1 #11 banana added to zone']\n"
     ]
    },
    {
     "name": "stderr",
     "output_type": "stream",
     "text": [
      "INFO:root:1 #1 banana removed from zone by person 4\n",
      "INFO:root:1 #3 bottle removed from zone by person 4\n",
      "INFO:root:1 #9 banana added to zone by person 4\n",
      "video 1/1 (239/640) C:\\Users\\rcheruvu\\Desktop\\openvino_notebooks\\recipes\\automated_detection_tracking\\data\\asset.mp4: 640x640 1 banana, 1 apple, 777.2ms\n"
     ]
    },
    {
     "name": "stdout",
     "output_type": "stream",
     "text": [
      "1 #1 banana ['1 #5 banana added to zone', '1 #4 banana added to zone', '1 #7 banana added to zone', '1 #9 banana added to zone', '1 #10 banana added to zone', '1 #11 bottle added to zone', '1 #11 banana added to zone', '1 #8 hot dog added to zone']\n",
      "1 #3 bottle ['1 #5 banana added to zone', '1 #4 banana added to zone', '1 #7 banana added to zone', '1 #9 banana added to zone', '1 #10 banana added to zone', '1 #11 bottle added to zone', '1 #11 banana added to zone', '1 #8 hot dog added to zone']\n"
     ]
    },
    {
     "name": "stderr",
     "output_type": "stream",
     "text": [
      "INFO:root:1 #1 banana removed from zone by person 4\n",
      "INFO:root:1 #3 bottle removed from zone by person 4\n",
      "INFO:root:1 #9 banana added to zone by person 4\n",
      "video 1/1 (240/640) C:\\Users\\rcheruvu\\Desktop\\openvino_notebooks\\recipes\\automated_detection_tracking\\data\\asset.mp4: 640x640 1 banana, 1 apple, 984.8ms\n"
     ]
    },
    {
     "name": "stdout",
     "output_type": "stream",
     "text": [
      "1 #1 banana ['1 #5 banana added to zone', '1 #4 banana added to zone', '1 #7 banana added to zone', '1 #9 banana added to zone', '1 #10 banana added to zone', '1 #11 bottle added to zone', '1 #11 banana added to zone', '1 #8 hot dog added to zone']\n",
      "1 #3 bottle ['1 #5 banana added to zone', '1 #4 banana added to zone', '1 #7 banana added to zone', '1 #9 banana added to zone', '1 #10 banana added to zone', '1 #11 bottle added to zone', '1 #11 banana added to zone', '1 #8 hot dog added to zone']\n"
     ]
    },
    {
     "name": "stderr",
     "output_type": "stream",
     "text": [
      "INFO:root:1 #1 banana removed from zone by person 4\n",
      "INFO:root:1 #3 bottle removed from zone by person 4\n",
      "INFO:root:1 #9 banana added to zone by person 4\n"
     ]
    },
    {
     "name": "stdout",
     "output_type": "stream",
     "text": [
      "1 #1 banana ['1 #5 banana added to zone', '1 #4 banana added to zone', '1 #7 banana added to zone', '1 #9 banana added to zone', '1 #10 banana added to zone', '1 #11 bottle added to zone', '1 #11 banana added to zone', '1 #8 hot dog added to zone']\n",
      "1 #3 bottle ['1 #5 banana added to zone', '1 #4 banana added to zone', '1 #7 banana added to zone', '1 #9 banana added to zone', '1 #10 banana added to zone', '1 #11 bottle added to zone', '1 #11 banana added to zone', '1 #8 hot dog added to zone']\n"
     ]
    },
    {
     "name": "stderr",
     "output_type": "stream",
     "text": [
      "video 1/1 (241/640) C:\\Users\\rcheruvu\\Desktop\\openvino_notebooks\\recipes\\automated_detection_tracking\\data\\asset.mp4: 640x640 1 banana, 1 apple, 1026.6ms\n",
      "INFO:root:1 #1 banana removed from zone by person 4\n",
      "INFO:root:1 #3 bottle removed from zone by person 4\n",
      "INFO:root:1 #9 banana added to zone by person 4\n",
      "video 1/1 (242/640) C:\\Users\\rcheruvu\\Desktop\\openvino_notebooks\\recipes\\automated_detection_tracking\\data\\asset.mp4: 640x640 1 banana, 1 apple, 959.3ms\n"
     ]
    },
    {
     "name": "stdout",
     "output_type": "stream",
     "text": [
      "1 #1 banana ['1 #5 banana added to zone', '1 #4 banana added to zone', '1 #7 banana added to zone', '1 #9 banana added to zone', '1 #10 banana added to zone', '1 #11 bottle added to zone', '1 #11 banana added to zone', '1 #8 hot dog added to zone']\n",
      "1 #3 bottle ['1 #5 banana added to zone', '1 #4 banana added to zone', '1 #7 banana added to zone', '1 #9 banana added to zone', '1 #10 banana added to zone', '1 #11 bottle added to zone', '1 #11 banana added to zone', '1 #8 hot dog added to zone']\n"
     ]
    },
    {
     "name": "stderr",
     "output_type": "stream",
     "text": [
      "INFO:root:1 #1 banana removed from zone by person 4\n",
      "INFO:root:1 #3 bottle removed from zone by person 4\n",
      "INFO:root:1 #9 banana added to zone by person 4\n",
      "video 1/1 (243/640) C:\\Users\\rcheruvu\\Desktop\\openvino_notebooks\\recipes\\automated_detection_tracking\\data\\asset.mp4: 640x640 1 banana, 1 apple, 979.5ms\n"
     ]
    },
    {
     "name": "stdout",
     "output_type": "stream",
     "text": [
      "1 #1 banana ['1 #5 banana added to zone', '1 #4 banana added to zone', '1 #7 banana added to zone', '1 #9 banana added to zone', '1 #10 banana added to zone', '1 #11 bottle added to zone', '1 #11 banana added to zone', '1 #8 hot dog added to zone']\n",
      "1 #3 bottle ['1 #5 banana added to zone', '1 #4 banana added to zone', '1 #7 banana added to zone', '1 #9 banana added to zone', '1 #10 banana added to zone', '1 #11 bottle added to zone', '1 #11 banana added to zone', '1 #8 hot dog added to zone']\n"
     ]
    },
    {
     "name": "stderr",
     "output_type": "stream",
     "text": [
      "INFO:root:1 #1 banana removed from zone by person 4\n",
      "INFO:root:1 #3 bottle removed from zone by person 4\n",
      "INFO:root:1 #9 banana added to zone by person 4\n",
      "video 1/1 (244/640) C:\\Users\\rcheruvu\\Desktop\\openvino_notebooks\\recipes\\automated_detection_tracking\\data\\asset.mp4: 640x640 1 banana, 1 apple, 1417.9ms\n"
     ]
    },
    {
     "name": "stdout",
     "output_type": "stream",
     "text": [
      "1 #1 banana ['1 #5 banana added to zone', '1 #4 banana added to zone', '1 #7 banana added to zone', '1 #9 banana added to zone', '1 #10 banana added to zone', '1 #11 bottle added to zone', '1 #11 banana added to zone', '1 #8 hot dog added to zone']\n",
      "1 #3 bottle ['1 #5 banana added to zone', '1 #4 banana added to zone', '1 #7 banana added to zone', '1 #9 banana added to zone', '1 #10 banana added to zone', '1 #11 bottle added to zone', '1 #11 banana added to zone', '1 #8 hot dog added to zone']\n"
     ]
    },
    {
     "name": "stderr",
     "output_type": "stream",
     "text": [
      "INFO:root:1 #1 banana removed from zone by person 4\n",
      "INFO:root:1 #3 bottle removed from zone by person 4\n",
      "INFO:root:1 #9 banana added to zone by person 4\n",
      "video 1/1 (245/640) C:\\Users\\rcheruvu\\Desktop\\openvino_notebooks\\recipes\\automated_detection_tracking\\data\\asset.mp4: 640x640 1 banana, 1 apple, 835.4ms\n"
     ]
    },
    {
     "name": "stdout",
     "output_type": "stream",
     "text": [
      "1 #1 banana ['1 #5 banana added to zone', '1 #4 banana added to zone', '1 #7 banana added to zone', '1 #9 banana added to zone', '1 #10 banana added to zone', '1 #11 bottle added to zone', '1 #11 banana added to zone', '1 #8 hot dog added to zone']\n",
      "1 #3 bottle ['1 #5 banana added to zone', '1 #4 banana added to zone', '1 #7 banana added to zone', '1 #9 banana added to zone', '1 #10 banana added to zone', '1 #11 bottle added to zone', '1 #11 banana added to zone', '1 #8 hot dog added to zone']\n"
     ]
    },
    {
     "name": "stderr",
     "output_type": "stream",
     "text": [
      "INFO:root:1 #1 banana removed from zone by person 4\n",
      "INFO:root:1 #3 bottle removed from zone by person 4\n",
      "INFO:root:1 #9 banana added to zone by person 4\n",
      "video 1/1 (246/640) C:\\Users\\rcheruvu\\Desktop\\openvino_notebooks\\recipes\\automated_detection_tracking\\data\\asset.mp4: 640x640 1 banana, 1 apple, 821.3ms\n"
     ]
    },
    {
     "name": "stdout",
     "output_type": "stream",
     "text": [
      "1 #1 banana ['1 #5 banana added to zone', '1 #4 banana added to zone', '1 #7 banana added to zone', '1 #9 banana added to zone', '1 #10 banana added to zone', '1 #11 bottle added to zone', '1 #11 banana added to zone', '1 #8 hot dog added to zone']\n",
      "1 #3 bottle ['1 #5 banana added to zone', '1 #4 banana added to zone', '1 #7 banana added to zone', '1 #9 banana added to zone', '1 #10 banana added to zone', '1 #11 bottle added to zone', '1 #11 banana added to zone', '1 #8 hot dog added to zone']\n"
     ]
    },
    {
     "name": "stderr",
     "output_type": "stream",
     "text": [
      "INFO:root:1 #1 banana removed from zone by person 4\n",
      "INFO:root:1 #3 bottle removed from zone by person 4\n",
      "INFO:root:1 #9 banana added to zone by person 4\n",
      "video 1/1 (247/640) C:\\Users\\rcheruvu\\Desktop\\openvino_notebooks\\recipes\\automated_detection_tracking\\data\\asset.mp4: 640x640 1 banana, 1 apple, 875.0ms\n"
     ]
    },
    {
     "name": "stdout",
     "output_type": "stream",
     "text": [
      "1 #1 banana ['1 #5 banana added to zone', '1 #4 banana added to zone', '1 #7 banana added to zone', '1 #9 banana added to zone', '1 #10 banana added to zone', '1 #11 bottle added to zone', '1 #11 banana added to zone', '1 #8 hot dog added to zone']\n",
      "1 #3 bottle ['1 #5 banana added to zone', '1 #4 banana added to zone', '1 #7 banana added to zone', '1 #9 banana added to zone', '1 #10 banana added to zone', '1 #11 bottle added to zone', '1 #11 banana added to zone', '1 #8 hot dog added to zone']\n"
     ]
    },
    {
     "name": "stderr",
     "output_type": "stream",
     "text": [
      "INFO:root:1 #1 banana removed from zone by person 4\n",
      "INFO:root:1 #3 bottle removed from zone by person 4\n",
      "INFO:root:1 #9 banana added to zone by person 4\n",
      "video 1/1 (248/640) C:\\Users\\rcheruvu\\Desktop\\openvino_notebooks\\recipes\\automated_detection_tracking\\data\\asset.mp4: 640x640 1 banana, 1 apple, 797.1ms\n"
     ]
    },
    {
     "name": "stdout",
     "output_type": "stream",
     "text": [
      "1 #1 banana ['1 #5 banana added to zone', '1 #4 banana added to zone', '1 #7 banana added to zone', '1 #9 banana added to zone', '1 #10 banana added to zone', '1 #11 bottle added to zone', '1 #11 banana added to zone', '1 #8 hot dog added to zone']\n",
      "1 #3 bottle ['1 #5 banana added to zone', '1 #4 banana added to zone', '1 #7 banana added to zone', '1 #9 banana added to zone', '1 #10 banana added to zone', '1 #11 bottle added to zone', '1 #11 banana added to zone', '1 #8 hot dog added to zone']\n"
     ]
    },
    {
     "name": "stderr",
     "output_type": "stream",
     "text": [
      "INFO:root:1 #1 banana removed from zone by person 4\n",
      "INFO:root:1 #3 bottle removed from zone by person 4\n",
      "INFO:root:1 #9 banana added to zone by person 4\n",
      "video 1/1 (249/640) C:\\Users\\rcheruvu\\Desktop\\openvino_notebooks\\recipes\\automated_detection_tracking\\data\\asset.mp4: 640x640 1 banana, 1 apple, 895.3ms\n"
     ]
    },
    {
     "name": "stdout",
     "output_type": "stream",
     "text": [
      "1 #1 banana ['1 #5 banana added to zone', '1 #4 banana added to zone', '1 #7 banana added to zone', '1 #9 banana added to zone', '1 #10 banana added to zone', '1 #11 bottle added to zone', '1 #11 banana added to zone', '1 #8 hot dog added to zone']\n",
      "1 #3 bottle ['1 #5 banana added to zone', '1 #4 banana added to zone', '1 #7 banana added to zone', '1 #9 banana added to zone', '1 #10 banana added to zone', '1 #11 bottle added to zone', '1 #11 banana added to zone', '1 #8 hot dog added to zone']\n"
     ]
    },
    {
     "name": "stderr",
     "output_type": "stream",
     "text": [
      "INFO:root:1 #1 banana removed from zone by person 4\n",
      "INFO:root:1 #3 bottle removed from zone by person 4\n",
      "INFO:root:1 #9 banana added to zone by person 4\n",
      "video 1/1 (250/640) C:\\Users\\rcheruvu\\Desktop\\openvino_notebooks\\recipes\\automated_detection_tracking\\data\\asset.mp4: 640x640 1 banana, 1 apple, 1069.7ms\n"
     ]
    },
    {
     "name": "stdout",
     "output_type": "stream",
     "text": [
      "1 #1 banana ['1 #5 banana added to zone', '1 #4 banana added to zone', '1 #7 banana added to zone', '1 #9 banana added to zone', '1 #10 banana added to zone', '1 #11 bottle added to zone', '1 #11 banana added to zone', '1 #8 hot dog added to zone']\n",
      "1 #3 bottle ['1 #5 banana added to zone', '1 #4 banana added to zone', '1 #7 banana added to zone', '1 #9 banana added to zone', '1 #10 banana added to zone', '1 #11 bottle added to zone', '1 #11 banana added to zone', '1 #8 hot dog added to zone']\n"
     ]
    },
    {
     "name": "stderr",
     "output_type": "stream",
     "text": [
      "INFO:root:1 #1 banana removed from zone by person 4\n",
      "INFO:root:1 #3 bottle removed from zone by person 4\n",
      "INFO:root:1 #9 banana added to zone by person 4\n",
      "video 1/1 (251/640) C:\\Users\\rcheruvu\\Desktop\\openvino_notebooks\\recipes\\automated_detection_tracking\\data\\asset.mp4: 640x640 1 banana, 1 apple, 882.5ms\n"
     ]
    },
    {
     "name": "stdout",
     "output_type": "stream",
     "text": [
      "1 #1 banana ['1 #5 banana added to zone', '1 #4 banana added to zone', '1 #7 banana added to zone', '1 #9 banana added to zone', '1 #10 banana added to zone', '1 #11 bottle added to zone', '1 #11 banana added to zone', '1 #8 hot dog added to zone']\n",
      "1 #3 bottle ['1 #5 banana added to zone', '1 #4 banana added to zone', '1 #7 banana added to zone', '1 #9 banana added to zone', '1 #10 banana added to zone', '1 #11 bottle added to zone', '1 #11 banana added to zone', '1 #8 hot dog added to zone']\n"
     ]
    },
    {
     "name": "stderr",
     "output_type": "stream",
     "text": [
      "INFO:root:1 #1 banana removed from zone by person 4\n",
      "INFO:root:1 #3 bottle removed from zone by person 4\n",
      "INFO:root:1 #9 banana added to zone by person 4\n",
      "video 1/1 (252/640) C:\\Users\\rcheruvu\\Desktop\\openvino_notebooks\\recipes\\automated_detection_tracking\\data\\asset.mp4: 640x640 1 banana, 1 apple, 925.9ms\n"
     ]
    },
    {
     "name": "stdout",
     "output_type": "stream",
     "text": [
      "1 #1 banana ['1 #5 banana added to zone', '1 #4 banana added to zone', '1 #7 banana added to zone', '1 #9 banana added to zone', '1 #10 banana added to zone', '1 #11 bottle added to zone', '1 #11 banana added to zone', '1 #8 hot dog added to zone']\n",
      "1 #3 bottle ['1 #5 banana added to zone', '1 #4 banana added to zone', '1 #7 banana added to zone', '1 #9 banana added to zone', '1 #10 banana added to zone', '1 #11 bottle added to zone', '1 #11 banana added to zone', '1 #8 hot dog added to zone']\n"
     ]
    },
    {
     "name": "stderr",
     "output_type": "stream",
     "text": [
      "INFO:root:1 #1 banana removed from zone by person 4\n",
      "INFO:root:1 #3 bottle removed from zone by person 4\n",
      "INFO:root:1 #9 banana added to zone by person 4\n",
      "video 1/1 (253/640) C:\\Users\\rcheruvu\\Desktop\\openvino_notebooks\\recipes\\automated_detection_tracking\\data\\asset.mp4: 640x640 1 banana, 1 apple, 852.2ms\n"
     ]
    },
    {
     "name": "stdout",
     "output_type": "stream",
     "text": [
      "1 #1 banana ['1 #5 banana added to zone', '1 #4 banana added to zone', '1 #7 banana added to zone', '1 #9 banana added to zone', '1 #10 banana added to zone', '1 #11 bottle added to zone', '1 #11 banana added to zone', '1 #8 hot dog added to zone']\n",
      "1 #3 bottle ['1 #5 banana added to zone', '1 #4 banana added to zone', '1 #7 banana added to zone', '1 #9 banana added to zone', '1 #10 banana added to zone', '1 #11 bottle added to zone', '1 #11 banana added to zone', '1 #8 hot dog added to zone']\n"
     ]
    },
    {
     "name": "stderr",
     "output_type": "stream",
     "text": [
      "INFO:root:1 #1 banana removed from zone by person 4\n",
      "INFO:root:1 #3 bottle removed from zone by person 4\n",
      "INFO:root:1 #9 banana added to zone by person 4\n",
      "video 1/1 (254/640) C:\\Users\\rcheruvu\\Desktop\\openvino_notebooks\\recipes\\automated_detection_tracking\\data\\asset.mp4: 640x640 1 banana, 1 apple, 816.5ms\n"
     ]
    },
    {
     "name": "stdout",
     "output_type": "stream",
     "text": [
      "1 #1 banana ['1 #5 banana added to zone', '1 #4 banana added to zone', '1 #7 banana added to zone', '1 #9 banana added to zone', '1 #10 banana added to zone', '1 #11 bottle added to zone', '1 #11 banana added to zone', '1 #8 hot dog added to zone']\n",
      "1 #3 bottle ['1 #5 banana added to zone', '1 #4 banana added to zone', '1 #7 banana added to zone', '1 #9 banana added to zone', '1 #10 banana added to zone', '1 #11 bottle added to zone', '1 #11 banana added to zone', '1 #8 hot dog added to zone']\n"
     ]
    },
    {
     "name": "stderr",
     "output_type": "stream",
     "text": [
      "INFO:root:1 #1 banana removed from zone by person 4\n",
      "INFO:root:1 #3 bottle removed from zone by person 4\n",
      "INFO:root:1 #9 banana added to zone by person 4\n",
      "video 1/1 (255/640) C:\\Users\\rcheruvu\\Desktop\\openvino_notebooks\\recipes\\automated_detection_tracking\\data\\asset.mp4: 640x640 1 banana, 1 apple, 790.5ms\n"
     ]
    },
    {
     "name": "stdout",
     "output_type": "stream",
     "text": [
      "1 #1 banana ['1 #5 banana added to zone', '1 #4 banana added to zone', '1 #7 banana added to zone', '1 #9 banana added to zone', '1 #10 banana added to zone', '1 #11 bottle added to zone', '1 #11 banana added to zone', '1 #8 hot dog added to zone']\n",
      "1 #3 bottle ['1 #5 banana added to zone', '1 #4 banana added to zone', '1 #7 banana added to zone', '1 #9 banana added to zone', '1 #10 banana added to zone', '1 #11 bottle added to zone', '1 #11 banana added to zone', '1 #8 hot dog added to zone']\n"
     ]
    },
    {
     "name": "stderr",
     "output_type": "stream",
     "text": [
      "INFO:root:1 #1 banana removed from zone by person 4\n",
      "INFO:root:1 #3 bottle removed from zone by person 4\n",
      "INFO:root:1 #9 banana added to zone by person 4\n",
      "video 1/1 (256/640) C:\\Users\\rcheruvu\\Desktop\\openvino_notebooks\\recipes\\automated_detection_tracking\\data\\asset.mp4: 640x640 1 banana, 1 apple, 877.6ms\n"
     ]
    },
    {
     "name": "stdout",
     "output_type": "stream",
     "text": [
      "1 #1 banana ['1 #5 banana added to zone', '1 #4 banana added to zone', '1 #7 banana added to zone', '1 #9 banana added to zone', '1 #10 banana added to zone', '1 #11 bottle added to zone', '1 #11 banana added to zone', '1 #8 hot dog added to zone']\n",
      "1 #3 bottle ['1 #5 banana added to zone', '1 #4 banana added to zone', '1 #7 banana added to zone', '1 #9 banana added to zone', '1 #10 banana added to zone', '1 #11 bottle added to zone', '1 #11 banana added to zone', '1 #8 hot dog added to zone']\n"
     ]
    },
    {
     "name": "stderr",
     "output_type": "stream",
     "text": [
      "INFO:root:1 #1 banana removed from zone by person 4\n",
      "INFO:root:1 #3 bottle removed from zone by person 4\n",
      "INFO:root:1 #9 banana added to zone by person 4\n",
      "video 1/1 (257/640) C:\\Users\\rcheruvu\\Desktop\\openvino_notebooks\\recipes\\automated_detection_tracking\\data\\asset.mp4: 640x640 1 banana, 1 apple, 1115.7ms\n"
     ]
    },
    {
     "name": "stdout",
     "output_type": "stream",
     "text": [
      "1 #1 banana ['1 #5 banana added to zone', '1 #4 banana added to zone', '1 #7 banana added to zone', '1 #9 banana added to zone', '1 #10 banana added to zone', '1 #11 bottle added to zone', '1 #11 banana added to zone', '1 #8 hot dog added to zone']\n",
      "1 #3 bottle ['1 #5 banana added to zone', '1 #4 banana added to zone', '1 #7 banana added to zone', '1 #9 banana added to zone', '1 #10 banana added to zone', '1 #11 bottle added to zone', '1 #11 banana added to zone', '1 #8 hot dog added to zone']\n"
     ]
    },
    {
     "name": "stderr",
     "output_type": "stream",
     "text": [
      "INFO:root:1 #1 banana removed from zone by person 4\n",
      "INFO:root:1 #3 bottle removed from zone by person 4\n",
      "INFO:root:1 #9 banana added to zone by person 4\n",
      "video 1/1 (258/640) C:\\Users\\rcheruvu\\Desktop\\openvino_notebooks\\recipes\\automated_detection_tracking\\data\\asset.mp4: 640x640 1 banana, 1 apple, 987.6ms\n"
     ]
    },
    {
     "name": "stdout",
     "output_type": "stream",
     "text": [
      "1 #1 banana ['1 #5 banana added to zone', '1 #4 banana added to zone', '1 #7 banana added to zone', '1 #9 banana added to zone', '1 #10 banana added to zone', '1 #11 bottle added to zone', '1 #11 banana added to zone', '1 #8 hot dog added to zone']\n",
      "1 #3 bottle ['1 #5 banana added to zone', '1 #4 banana added to zone', '1 #7 banana added to zone', '1 #9 banana added to zone', '1 #10 banana added to zone', '1 #11 bottle added to zone', '1 #11 banana added to zone', '1 #8 hot dog added to zone']\n"
     ]
    },
    {
     "name": "stderr",
     "output_type": "stream",
     "text": [
      "INFO:root:1 #1 banana removed from zone by person 4\n",
      "INFO:root:1 #3 bottle removed from zone by person 4\n",
      "INFO:root:1 #9 banana added to zone by person 4\n",
      "video 1/1 (259/640) C:\\Users\\rcheruvu\\Desktop\\openvino_notebooks\\recipes\\automated_detection_tracking\\data\\asset.mp4: 640x640 1 banana, 1 apple, 856.4ms\n"
     ]
    },
    {
     "name": "stdout",
     "output_type": "stream",
     "text": [
      "1 #1 banana ['1 #5 banana added to zone', '1 #4 banana added to zone', '1 #7 banana added to zone', '1 #9 banana added to zone', '1 #10 banana added to zone', '1 #11 bottle added to zone', '1 #11 banana added to zone', '1 #8 hot dog added to zone']\n",
      "1 #3 bottle ['1 #5 banana added to zone', '1 #4 banana added to zone', '1 #7 banana added to zone', '1 #9 banana added to zone', '1 #10 banana added to zone', '1 #11 bottle added to zone', '1 #11 banana added to zone', '1 #8 hot dog added to zone']\n"
     ]
    },
    {
     "name": "stderr",
     "output_type": "stream",
     "text": [
      "INFO:root:1 #1 banana removed from zone by person 4\n",
      "INFO:root:1 #3 bottle removed from zone by person 4\n",
      "INFO:root:1 #9 banana added to zone by person 4\n",
      "video 1/1 (260/640) C:\\Users\\rcheruvu\\Desktop\\openvino_notebooks\\recipes\\automated_detection_tracking\\data\\asset.mp4: 640x640 1 banana, 1 apple, 836.5ms\n"
     ]
    },
    {
     "name": "stdout",
     "output_type": "stream",
     "text": [
      "1 #1 banana ['1 #5 banana added to zone', '1 #4 banana added to zone', '1 #7 banana added to zone', '1 #9 banana added to zone', '1 #10 banana added to zone', '1 #11 bottle added to zone', '1 #11 banana added to zone', '1 #8 hot dog added to zone']\n",
      "1 #3 bottle ['1 #5 banana added to zone', '1 #4 banana added to zone', '1 #7 banana added to zone', '1 #9 banana added to zone', '1 #10 banana added to zone', '1 #11 bottle added to zone', '1 #11 banana added to zone', '1 #8 hot dog added to zone']\n"
     ]
    },
    {
     "name": "stderr",
     "output_type": "stream",
     "text": [
      "INFO:root:1 #1 banana removed from zone by person 4\n",
      "INFO:root:1 #3 bottle removed from zone by person 4\n",
      "INFO:root:1 #9 banana added to zone by person 4\n",
      "video 1/1 (261/640) C:\\Users\\rcheruvu\\Desktop\\openvino_notebooks\\recipes\\automated_detection_tracking\\data\\asset.mp4: 640x640 1 banana, 1 apple, 854.8ms\n"
     ]
    },
    {
     "name": "stdout",
     "output_type": "stream",
     "text": [
      "1 #1 banana ['1 #5 banana added to zone', '1 #4 banana added to zone', '1 #7 banana added to zone', '1 #9 banana added to zone', '1 #10 banana added to zone', '1 #11 bottle added to zone', '1 #11 banana added to zone', '1 #8 hot dog added to zone']\n",
      "1 #3 bottle ['1 #5 banana added to zone', '1 #4 banana added to zone', '1 #7 banana added to zone', '1 #9 banana added to zone', '1 #10 banana added to zone', '1 #11 bottle added to zone', '1 #11 banana added to zone', '1 #8 hot dog added to zone']\n"
     ]
    },
    {
     "name": "stderr",
     "output_type": "stream",
     "text": [
      "INFO:root:1 #1 banana removed from zone by person 4\n",
      "INFO:root:1 #3 bottle removed from zone by person 4\n",
      "INFO:root:1 #9 banana added to zone by person 4\n",
      "video 1/1 (262/640) C:\\Users\\rcheruvu\\Desktop\\openvino_notebooks\\recipes\\automated_detection_tracking\\data\\asset.mp4: 640x640 1 banana, 1 apple, 980.8ms\n"
     ]
    },
    {
     "name": "stdout",
     "output_type": "stream",
     "text": [
      "1 #1 banana ['1 #5 banana added to zone', '1 #4 banana added to zone', '1 #7 banana added to zone', '1 #9 banana added to zone', '1 #10 banana added to zone', '1 #11 bottle added to zone', '1 #11 banana added to zone', '1 #8 hot dog added to zone']\n",
      "1 #3 bottle ['1 #5 banana added to zone', '1 #4 banana added to zone', '1 #7 banana added to zone', '1 #9 banana added to zone', '1 #10 banana added to zone', '1 #11 bottle added to zone', '1 #11 banana added to zone', '1 #8 hot dog added to zone']\n"
     ]
    },
    {
     "name": "stderr",
     "output_type": "stream",
     "text": [
      "INFO:root:1 #1 banana removed from zone by person 4\n",
      "INFO:root:1 #3 bottle removed from zone by person 4\n",
      "INFO:root:1 #9 banana added to zone by person 4\n",
      "video 1/1 (263/640) C:\\Users\\rcheruvu\\Desktop\\openvino_notebooks\\recipes\\automated_detection_tracking\\data\\asset.mp4: 640x640 1 banana, 1 apple, 984.1ms\n"
     ]
    },
    {
     "name": "stdout",
     "output_type": "stream",
     "text": [
      "1 #1 banana ['1 #5 banana added to zone', '1 #4 banana added to zone', '1 #7 banana added to zone', '1 #9 banana added to zone', '1 #10 banana added to zone', '1 #11 bottle added to zone', '1 #11 banana added to zone', '1 #8 hot dog added to zone']\n",
      "1 #3 bottle ['1 #5 banana added to zone', '1 #4 banana added to zone', '1 #7 banana added to zone', '1 #9 banana added to zone', '1 #10 banana added to zone', '1 #11 bottle added to zone', '1 #11 banana added to zone', '1 #8 hot dog added to zone']\n"
     ]
    },
    {
     "name": "stderr",
     "output_type": "stream",
     "text": [
      "INFO:root:1 #1 banana removed from zone by person 4\n",
      "INFO:root:1 #3 bottle removed from zone by person 4\n",
      "INFO:root:1 #9 banana added to zone by person 4\n",
      "video 1/1 (264/640) C:\\Users\\rcheruvu\\Desktop\\openvino_notebooks\\recipes\\automated_detection_tracking\\data\\asset.mp4: 640x640 1 banana, 1 apple, 955.4ms\n"
     ]
    },
    {
     "name": "stdout",
     "output_type": "stream",
     "text": [
      "1 #1 banana ['1 #5 banana added to zone', '1 #4 banana added to zone', '1 #7 banana added to zone', '1 #9 banana added to zone', '1 #10 banana added to zone', '1 #11 bottle added to zone', '1 #11 banana added to zone', '1 #8 hot dog added to zone']\n",
      "1 #3 bottle ['1 #5 banana added to zone', '1 #4 banana added to zone', '1 #7 banana added to zone', '1 #9 banana added to zone', '1 #10 banana added to zone', '1 #11 bottle added to zone', '1 #11 banana added to zone', '1 #8 hot dog added to zone']\n"
     ]
    },
    {
     "name": "stderr",
     "output_type": "stream",
     "text": [
      "INFO:root:1 #1 banana removed from zone by person 4\n",
      "INFO:root:1 #3 bottle removed from zone by person 4\n",
      "INFO:root:1 #9 banana added to zone by person 4\n",
      "video 1/1 (265/640) C:\\Users\\rcheruvu\\Desktop\\openvino_notebooks\\recipes\\automated_detection_tracking\\data\\asset.mp4: 640x640 1 banana, 1 apple, 949.6ms\n"
     ]
    },
    {
     "name": "stdout",
     "output_type": "stream",
     "text": [
      "1 #1 banana ['1 #5 banana added to zone', '1 #4 banana added to zone', '1 #7 banana added to zone', '1 #9 banana added to zone', '1 #10 banana added to zone', '1 #11 bottle added to zone', '1 #11 banana added to zone', '1 #8 hot dog added to zone']\n",
      "1 #3 bottle ['1 #5 banana added to zone', '1 #4 banana added to zone', '1 #7 banana added to zone', '1 #9 banana added to zone', '1 #10 banana added to zone', '1 #11 bottle added to zone', '1 #11 banana added to zone', '1 #8 hot dog added to zone']\n"
     ]
    },
    {
     "name": "stderr",
     "output_type": "stream",
     "text": [
      "INFO:root:1 #1 banana removed from zone by person 4\n",
      "INFO:root:1 #3 bottle removed from zone by person 4\n",
      "INFO:root:1 #9 banana added to zone by person 4\n",
      "video 1/1 (266/640) C:\\Users\\rcheruvu\\Desktop\\openvino_notebooks\\recipes\\automated_detection_tracking\\data\\asset.mp4: 640x640 1 banana, 1 apple, 972.0ms\n"
     ]
    },
    {
     "name": "stdout",
     "output_type": "stream",
     "text": [
      "1 #1 banana ['1 #5 banana added to zone', '1 #4 banana added to zone', '1 #7 banana added to zone', '1 #9 banana added to zone', '1 #10 banana added to zone', '1 #11 bottle added to zone', '1 #11 banana added to zone', '1 #8 hot dog added to zone']\n",
      "1 #3 bottle ['1 #5 banana added to zone', '1 #4 banana added to zone', '1 #7 banana added to zone', '1 #9 banana added to zone', '1 #10 banana added to zone', '1 #11 bottle added to zone', '1 #11 banana added to zone', '1 #8 hot dog added to zone']\n"
     ]
    },
    {
     "name": "stderr",
     "output_type": "stream",
     "text": [
      "INFO:root:1 #1 banana removed from zone by person 4\n",
      "INFO:root:1 #3 bottle removed from zone by person 4\n",
      "INFO:root:1 #9 banana added to zone by person 4\n",
      "video 1/1 (267/640) C:\\Users\\rcheruvu\\Desktop\\openvino_notebooks\\recipes\\automated_detection_tracking\\data\\asset.mp4: 640x640 1 banana, 1 apple, 989.7ms\n"
     ]
    },
    {
     "name": "stdout",
     "output_type": "stream",
     "text": [
      "1 #1 banana ['1 #5 banana added to zone', '1 #4 banana added to zone', '1 #7 banana added to zone', '1 #9 banana added to zone', '1 #10 banana added to zone', '1 #11 bottle added to zone', '1 #11 banana added to zone', '1 #8 hot dog added to zone']\n",
      "1 #3 bottle ['1 #5 banana added to zone', '1 #4 banana added to zone', '1 #7 banana added to zone', '1 #9 banana added to zone', '1 #10 banana added to zone', '1 #11 bottle added to zone', '1 #11 banana added to zone', '1 #8 hot dog added to zone']\n"
     ]
    },
    {
     "name": "stderr",
     "output_type": "stream",
     "text": [
      "INFO:root:1 #1 banana removed from zone by person 4\n",
      "INFO:root:1 #3 bottle removed from zone by person 4\n",
      "INFO:root:1 #9 banana added to zone by person 4\n",
      "video 1/1 (268/640) C:\\Users\\rcheruvu\\Desktop\\openvino_notebooks\\recipes\\automated_detection_tracking\\data\\asset.mp4: 640x640 1 banana, 1 apple, 838.0ms\n"
     ]
    },
    {
     "name": "stdout",
     "output_type": "stream",
     "text": [
      "1 #1 banana ['1 #5 banana added to zone', '1 #4 banana added to zone', '1 #7 banana added to zone', '1 #9 banana added to zone', '1 #10 banana added to zone', '1 #11 bottle added to zone', '1 #11 banana added to zone', '1 #8 hot dog added to zone']\n",
      "1 #3 bottle ['1 #5 banana added to zone', '1 #4 banana added to zone', '1 #7 banana added to zone', '1 #9 banana added to zone', '1 #10 banana added to zone', '1 #11 bottle added to zone', '1 #11 banana added to zone', '1 #8 hot dog added to zone']\n"
     ]
    },
    {
     "name": "stderr",
     "output_type": "stream",
     "text": [
      "INFO:root:1 #1 banana removed from zone by person 4\n",
      "INFO:root:1 #3 bottle removed from zone by person 4\n",
      "INFO:root:1 #9 banana added to zone by person 4\n",
      "video 1/1 (269/640) C:\\Users\\rcheruvu\\Desktop\\openvino_notebooks\\recipes\\automated_detection_tracking\\data\\asset.mp4: 640x640 1 banana, 1 apple, 1071.6ms\n"
     ]
    },
    {
     "name": "stdout",
     "output_type": "stream",
     "text": [
      "1 #1 banana ['1 #5 banana added to zone', '1 #4 banana added to zone', '1 #7 banana added to zone', '1 #9 banana added to zone', '1 #10 banana added to zone', '1 #11 bottle added to zone', '1 #11 banana added to zone', '1 #8 hot dog added to zone']\n",
      "1 #3 bottle ['1 #5 banana added to zone', '1 #4 banana added to zone', '1 #7 banana added to zone', '1 #9 banana added to zone', '1 #10 banana added to zone', '1 #11 bottle added to zone', '1 #11 banana added to zone', '1 #8 hot dog added to zone']\n"
     ]
    },
    {
     "name": "stderr",
     "output_type": "stream",
     "text": [
      "INFO:root:1 #1 banana removed from zone by person 4\n",
      "INFO:root:1 #3 bottle removed from zone by person 4\n",
      "INFO:root:1 #9 banana added to zone by person 4\n",
      "video 1/1 (270/640) C:\\Users\\rcheruvu\\Desktop\\openvino_notebooks\\recipes\\automated_detection_tracking\\data\\asset.mp4: 640x640 1 banana, 1 apple, 928.8ms\n"
     ]
    },
    {
     "name": "stdout",
     "output_type": "stream",
     "text": [
      "1 #1 banana ['1 #5 banana added to zone', '1 #4 banana added to zone', '1 #7 banana added to zone', '1 #9 banana added to zone', '1 #10 banana added to zone', '1 #11 bottle added to zone', '1 #11 banana added to zone', '1 #8 hot dog added to zone']\n",
      "1 #3 bottle ['1 #5 banana added to zone', '1 #4 banana added to zone', '1 #7 banana added to zone', '1 #9 banana added to zone', '1 #10 banana added to zone', '1 #11 bottle added to zone', '1 #11 banana added to zone', '1 #8 hot dog added to zone']\n"
     ]
    },
    {
     "name": "stderr",
     "output_type": "stream",
     "text": [
      "INFO:root:1 #1 banana removed from zone by person 4\n",
      "INFO:root:1 #3 bottle removed from zone by person 4\n",
      "INFO:root:1 #9 banana added to zone by person 4\n",
      "video 1/1 (271/640) C:\\Users\\rcheruvu\\Desktop\\openvino_notebooks\\recipes\\automated_detection_tracking\\data\\asset.mp4: 640x640 1 banana, 1 apple, 967.8ms\n"
     ]
    },
    {
     "name": "stdout",
     "output_type": "stream",
     "text": [
      "1 #1 banana ['1 #5 banana added to zone', '1 #4 banana added to zone', '1 #7 banana added to zone', '1 #9 banana added to zone', '1 #10 banana added to zone', '1 #11 bottle added to zone', '1 #11 banana added to zone', '1 #8 hot dog added to zone']\n",
      "1 #3 bottle ['1 #5 banana added to zone', '1 #4 banana added to zone', '1 #7 banana added to zone', '1 #9 banana added to zone', '1 #10 banana added to zone', '1 #11 bottle added to zone', '1 #11 banana added to zone', '1 #8 hot dog added to zone']\n"
     ]
    },
    {
     "name": "stderr",
     "output_type": "stream",
     "text": [
      "INFO:root:1 #1 banana removed from zone by person 4\n",
      "INFO:root:1 #3 bottle removed from zone by person 4\n",
      "INFO:root:1 #9 banana added to zone by person 4\n",
      "video 1/1 (272/640) C:\\Users\\rcheruvu\\Desktop\\openvino_notebooks\\recipes\\automated_detection_tracking\\data\\asset.mp4: 640x640 1 banana, 1 apple, 945.7ms\n"
     ]
    },
    {
     "name": "stdout",
     "output_type": "stream",
     "text": [
      "1 #1 banana ['1 #5 banana added to zone', '1 #4 banana added to zone', '1 #7 banana added to zone', '1 #9 banana added to zone', '1 #10 banana added to zone', '1 #11 bottle added to zone', '1 #11 banana added to zone', '1 #8 hot dog added to zone']\n",
      "1 #3 bottle ['1 #5 banana added to zone', '1 #4 banana added to zone', '1 #7 banana added to zone', '1 #9 banana added to zone', '1 #10 banana added to zone', '1 #11 bottle added to zone', '1 #11 banana added to zone', '1 #8 hot dog added to zone']\n"
     ]
    },
    {
     "name": "stderr",
     "output_type": "stream",
     "text": [
      "INFO:root:1 #1 banana removed from zone by person 4\n",
      "INFO:root:1 #3 bottle removed from zone by person 4\n",
      "INFO:root:1 #9 banana added to zone by person 4\n",
      "video 1/1 (273/640) C:\\Users\\rcheruvu\\Desktop\\openvino_notebooks\\recipes\\automated_detection_tracking\\data\\asset.mp4: 640x640 1 banana, 1 apple, 1160.5ms\n"
     ]
    },
    {
     "name": "stdout",
     "output_type": "stream",
     "text": [
      "1 #1 banana ['1 #5 banana added to zone', '1 #4 banana added to zone', '1 #7 banana added to zone', '1 #9 banana added to zone', '1 #10 banana added to zone', '1 #11 bottle added to zone', '1 #11 banana added to zone', '1 #8 hot dog added to zone']\n",
      "1 #3 bottle ['1 #5 banana added to zone', '1 #4 banana added to zone', '1 #7 banana added to zone', '1 #9 banana added to zone', '1 #10 banana added to zone', '1 #11 bottle added to zone', '1 #11 banana added to zone', '1 #8 hot dog added to zone']\n"
     ]
    },
    {
     "name": "stderr",
     "output_type": "stream",
     "text": [
      "INFO:root:1 #1 banana removed from zone by person 4\n",
      "INFO:root:1 #3 bottle removed from zone by person 4\n",
      "INFO:root:1 #9 banana added to zone by person 4\n",
      "video 1/1 (274/640) C:\\Users\\rcheruvu\\Desktop\\openvino_notebooks\\recipes\\automated_detection_tracking\\data\\asset.mp4: 640x640 1 banana, 1 apple, 1359.2ms\n"
     ]
    },
    {
     "name": "stdout",
     "output_type": "stream",
     "text": [
      "1 #1 banana ['1 #5 banana added to zone', '1 #4 banana added to zone', '1 #7 banana added to zone', '1 #9 banana added to zone', '1 #10 banana added to zone', '1 #11 bottle added to zone', '1 #11 banana added to zone', '1 #8 hot dog added to zone']\n",
      "1 #3 bottle ['1 #5 banana added to zone', '1 #4 banana added to zone', '1 #7 banana added to zone', '1 #9 banana added to zone', '1 #10 banana added to zone', '1 #11 bottle added to zone', '1 #11 banana added to zone', '1 #8 hot dog added to zone']\n"
     ]
    },
    {
     "name": "stderr",
     "output_type": "stream",
     "text": [
      "INFO:root:1 #1 banana removed from zone by person 4\n",
      "INFO:root:1 #3 bottle removed from zone by person 4\n",
      "INFO:root:1 #9 banana added to zone by person 4\n",
      "video 1/1 (275/640) C:\\Users\\rcheruvu\\Desktop\\openvino_notebooks\\recipes\\automated_detection_tracking\\data\\asset.mp4: 640x640 1 banana, 1 apple, 1068.4ms\n"
     ]
    },
    {
     "name": "stdout",
     "output_type": "stream",
     "text": [
      "1 #1 banana ['1 #5 banana added to zone', '1 #4 banana added to zone', '1 #7 banana added to zone', '1 #9 banana added to zone', '1 #10 banana added to zone', '1 #11 bottle added to zone', '1 #11 banana added to zone', '1 #8 hot dog added to zone']\n",
      "1 #3 bottle ['1 #5 banana added to zone', '1 #4 banana added to zone', '1 #7 banana added to zone', '1 #9 banana added to zone', '1 #10 banana added to zone', '1 #11 bottle added to zone', '1 #11 banana added to zone', '1 #8 hot dog added to zone']\n"
     ]
    },
    {
     "name": "stderr",
     "output_type": "stream",
     "text": [
      "INFO:root:1 #1 banana removed from zone by person 4\n",
      "INFO:root:1 #3 bottle removed from zone by person 4\n",
      "INFO:root:1 #9 banana added to zone by person 4\n",
      "video 1/1 (276/640) C:\\Users\\rcheruvu\\Desktop\\openvino_notebooks\\recipes\\automated_detection_tracking\\data\\asset.mp4: 640x640 1 banana, 1 apple, 1346.9ms\n"
     ]
    },
    {
     "name": "stdout",
     "output_type": "stream",
     "text": [
      "1 #1 banana ['1 #5 banana added to zone', '1 #4 banana added to zone', '1 #7 banana added to zone', '1 #9 banana added to zone', '1 #10 banana added to zone', '1 #11 bottle added to zone', '1 #11 banana added to zone', '1 #8 hot dog added to zone']\n",
      "1 #3 bottle ['1 #5 banana added to zone', '1 #4 banana added to zone', '1 #7 banana added to zone', '1 #9 banana added to zone', '1 #10 banana added to zone', '1 #11 bottle added to zone', '1 #11 banana added to zone', '1 #8 hot dog added to zone']\n"
     ]
    },
    {
     "name": "stderr",
     "output_type": "stream",
     "text": [
      "INFO:root:1 #1 banana removed from zone by person 4\n",
      "INFO:root:1 #3 bottle removed from zone by person 4\n",
      "INFO:root:1 #9 banana added to zone by person 4\n",
      "video 1/1 (277/640) C:\\Users\\rcheruvu\\Desktop\\openvino_notebooks\\recipes\\automated_detection_tracking\\data\\asset.mp4: 640x640 1 banana, 1 apple, 1733.2ms\n"
     ]
    },
    {
     "name": "stdout",
     "output_type": "stream",
     "text": [
      "1 #1 banana ['1 #5 banana added to zone', '1 #4 banana added to zone', '1 #7 banana added to zone', '1 #9 banana added to zone', '1 #10 banana added to zone', '1 #11 bottle added to zone', '1 #11 banana added to zone', '1 #8 hot dog added to zone']\n",
      "1 #3 bottle ['1 #5 banana added to zone', '1 #4 banana added to zone', '1 #7 banana added to zone', '1 #9 banana added to zone', '1 #10 banana added to zone', '1 #11 bottle added to zone', '1 #11 banana added to zone', '1 #8 hot dog added to zone']\n"
     ]
    },
    {
     "name": "stderr",
     "output_type": "stream",
     "text": [
      "INFO:root:1 #1 banana removed from zone by person 4\n",
      "INFO:root:1 #3 bottle removed from zone by person 4\n",
      "INFO:root:1 #9 banana added to zone by person 4\n",
      "video 1/1 (278/640) C:\\Users\\rcheruvu\\Desktop\\openvino_notebooks\\recipes\\automated_detection_tracking\\data\\asset.mp4: 640x640 1 banana, 1 apple, 1764.9ms\n"
     ]
    },
    {
     "name": "stdout",
     "output_type": "stream",
     "text": [
      "1 #1 banana ['1 #5 banana added to zone', '1 #4 banana added to zone', '1 #7 banana added to zone', '1 #9 banana added to zone', '1 #10 banana added to zone', '1 #11 bottle added to zone', '1 #11 banana added to zone', '1 #8 hot dog added to zone']\n",
      "1 #3 bottle ['1 #5 banana added to zone', '1 #4 banana added to zone', '1 #7 banana added to zone', '1 #9 banana added to zone', '1 #10 banana added to zone', '1 #11 bottle added to zone', '1 #11 banana added to zone', '1 #8 hot dog added to zone']\n"
     ]
    },
    {
     "name": "stderr",
     "output_type": "stream",
     "text": [
      "INFO:root:1 #1 banana removed from zone by person 4\n",
      "INFO:root:1 #3 bottle removed from zone by person 4\n",
      "INFO:root:1 #9 banana added to zone by person 4\n"
     ]
    },
    {
     "name": "stdout",
     "output_type": "stream",
     "text": [
      "1 #1 banana ['1 #5 banana added to zone', '1 #4 banana added to zone', '1 #7 banana added to zone', '1 #9 banana added to zone', '1 #10 banana added to zone', '1 #11 bottle added to zone', '1 #11 banana added to zone', '1 #8 hot dog added to zone']\n",
      "1 #3 bottle ['1 #5 banana added to zone', '1 #4 banana added to zone', '1 #7 banana added to zone', '1 #9 banana added to zone', '1 #10 banana added to zone', '1 #11 bottle added to zone', '1 #11 banana added to zone', '1 #8 hot dog added to zone']\n"
     ]
    },
    {
     "name": "stderr",
     "output_type": "stream",
     "text": [
      "video 1/1 (279/640) C:\\Users\\rcheruvu\\Desktop\\openvino_notebooks\\recipes\\automated_detection_tracking\\data\\asset.mp4: 640x640 1 banana, 1 apple, 887.5ms\n",
      "INFO:root:1 #1 banana removed from zone by person 4\n",
      "INFO:root:1 #3 bottle removed from zone by person 4\n",
      "INFO:root:1 #9 banana added to zone by person 4\n",
      "video 1/1 (280/640) C:\\Users\\rcheruvu\\Desktop\\openvino_notebooks\\recipes\\automated_detection_tracking\\data\\asset.mp4: 640x640 1 banana, 1 apple, 1698.0ms\n"
     ]
    },
    {
     "name": "stdout",
     "output_type": "stream",
     "text": [
      "1 #1 banana ['1 #5 banana added to zone', '1 #4 banana added to zone', '1 #7 banana added to zone', '1 #9 banana added to zone', '1 #10 banana added to zone', '1 #11 bottle added to zone', '1 #11 banana added to zone', '1 #8 hot dog added to zone']\n",
      "1 #3 bottle ['1 #5 banana added to zone', '1 #4 banana added to zone', '1 #7 banana added to zone', '1 #9 banana added to zone', '1 #10 banana added to zone', '1 #11 bottle added to zone', '1 #11 banana added to zone', '1 #8 hot dog added to zone']\n"
     ]
    },
    {
     "name": "stderr",
     "output_type": "stream",
     "text": [
      "INFO:root:1 #1 banana removed from zone by person 4\n",
      "INFO:root:1 #3 bottle removed from zone by person 4\n",
      "INFO:root:1 #9 banana added to zone by person 4\n"
     ]
    },
    {
     "name": "stdout",
     "output_type": "stream",
     "text": [
      "1 #1 banana ['1 #5 banana added to zone', '1 #4 banana added to zone', '1 #7 banana added to zone', '1 #9 banana added to zone', '1 #10 banana added to zone', '1 #11 bottle added to zone', '1 #11 banana added to zone', '1 #8 hot dog added to zone']\n",
      "1 #3 bottle ['1 #5 banana added to zone', '1 #4 banana added to zone', '1 #7 banana added to zone', '1 #9 banana added to zone', '1 #10 banana added to zone', '1 #11 bottle added to zone', '1 #11 banana added to zone', '1 #8 hot dog added to zone']\n"
     ]
    },
    {
     "name": "stderr",
     "output_type": "stream",
     "text": [
      "video 1/1 (281/640) C:\\Users\\rcheruvu\\Desktop\\openvino_notebooks\\recipes\\automated_detection_tracking\\data\\asset.mp4: 640x640 1 banana, 1 apple, 1536.2ms\n",
      "INFO:root:1 #1 banana removed from zone by person 4\n",
      "INFO:root:1 #3 bottle removed from zone by person 4\n",
      "INFO:root:1 #9 banana added to zone by person 4\n",
      "video 1/1 (282/640) C:\\Users\\rcheruvu\\Desktop\\openvino_notebooks\\recipes\\automated_detection_tracking\\data\\asset.mp4: 640x640 1 banana, 1 apple, 1226.5ms\n"
     ]
    },
    {
     "name": "stdout",
     "output_type": "stream",
     "text": [
      "1 #1 banana ['1 #5 banana added to zone', '1 #4 banana added to zone', '1 #7 banana added to zone', '1 #9 banana added to zone', '1 #10 banana added to zone', '1 #11 bottle added to zone', '1 #11 banana added to zone', '1 #8 hot dog added to zone']\n",
      "1 #3 bottle ['1 #5 banana added to zone', '1 #4 banana added to zone', '1 #7 banana added to zone', '1 #9 banana added to zone', '1 #10 banana added to zone', '1 #11 bottle added to zone', '1 #11 banana added to zone', '1 #8 hot dog added to zone']\n"
     ]
    },
    {
     "name": "stderr",
     "output_type": "stream",
     "text": [
      "INFO:root:1 #1 banana removed from zone by person 4\n",
      "INFO:root:1 #3 bottle removed from zone by person 4\n",
      "INFO:root:1 #9 banana added to zone by person 4\n",
      "video 1/1 (283/640) C:\\Users\\rcheruvu\\Desktop\\openvino_notebooks\\recipes\\automated_detection_tracking\\data\\asset.mp4: 640x640 1 banana, 1 apple, 959.9ms\n"
     ]
    },
    {
     "name": "stdout",
     "output_type": "stream",
     "text": [
      "1 #1 banana ['1 #5 banana added to zone', '1 #4 banana added to zone', '1 #7 banana added to zone', '1 #9 banana added to zone', '1 #10 banana added to zone', '1 #11 bottle added to zone', '1 #11 banana added to zone', '1 #8 hot dog added to zone']\n",
      "1 #3 bottle ['1 #5 banana added to zone', '1 #4 banana added to zone', '1 #7 banana added to zone', '1 #9 banana added to zone', '1 #10 banana added to zone', '1 #11 bottle added to zone', '1 #11 banana added to zone', '1 #8 hot dog added to zone']\n"
     ]
    },
    {
     "name": "stderr",
     "output_type": "stream",
     "text": [
      "INFO:root:1 #1 banana removed from zone by person 4\n",
      "INFO:root:1 #3 bottle removed from zone by person 4\n",
      "INFO:root:1 #9 banana added to zone by person 4\n"
     ]
    },
    {
     "name": "stdout",
     "output_type": "stream",
     "text": [
      "1 #1 banana ['1 #5 banana added to zone', '1 #4 banana added to zone', '1 #7 banana added to zone', '1 #9 banana added to zone', '1 #10 banana added to zone', '1 #11 bottle added to zone', '1 #11 banana added to zone', '1 #8 hot dog added to zone']\n",
      "1 #3 bottle ['1 #5 banana added to zone', '1 #4 banana added to zone', '1 #7 banana added to zone', '1 #9 banana added to zone', '1 #10 banana added to zone', '1 #11 bottle added to zone', '1 #11 banana added to zone', '1 #8 hot dog added to zone']\n"
     ]
    },
    {
     "name": "stderr",
     "output_type": "stream",
     "text": [
      "video 1/1 (284/640) C:\\Users\\rcheruvu\\Desktop\\openvino_notebooks\\recipes\\automated_detection_tracking\\data\\asset.mp4: 640x640 1 banana, 1 apple, 928.0ms\n",
      "INFO:root:1 #1 banana removed from zone by person 4\n",
      "INFO:root:1 #3 bottle removed from zone by person 4\n",
      "INFO:root:1 #9 banana added to zone by person 4\n",
      "video 1/1 (285/640) C:\\Users\\rcheruvu\\Desktop\\openvino_notebooks\\recipes\\automated_detection_tracking\\data\\asset.mp4: 640x640 1 banana, 1 apple, 1102.2ms\n"
     ]
    },
    {
     "name": "stdout",
     "output_type": "stream",
     "text": [
      "1 #1 banana ['1 #5 banana added to zone', '1 #4 banana added to zone', '1 #7 banana added to zone', '1 #9 banana added to zone', '1 #10 banana added to zone', '1 #11 bottle added to zone', '1 #11 banana added to zone', '1 #8 hot dog added to zone']\n",
      "1 #3 bottle ['1 #5 banana added to zone', '1 #4 banana added to zone', '1 #7 banana added to zone', '1 #9 banana added to zone', '1 #10 banana added to zone', '1 #11 bottle added to zone', '1 #11 banana added to zone', '1 #8 hot dog added to zone']\n"
     ]
    },
    {
     "name": "stderr",
     "output_type": "stream",
     "text": [
      "INFO:root:1 #1 banana removed from zone by person 4\n",
      "INFO:root:1 #3 bottle removed from zone by person 4\n",
      "INFO:root:1 #9 banana added to zone by person 4\n",
      "video 1/1 (286/640) C:\\Users\\rcheruvu\\Desktop\\openvino_notebooks\\recipes\\automated_detection_tracking\\data\\asset.mp4: 640x640 1 banana, 1 apple, 993.5ms\n"
     ]
    },
    {
     "name": "stdout",
     "output_type": "stream",
     "text": [
      "1 #1 banana ['1 #5 banana added to zone', '1 #4 banana added to zone', '1 #7 banana added to zone', '1 #9 banana added to zone', '1 #10 banana added to zone', '1 #11 bottle added to zone', '1 #11 banana added to zone', '1 #8 hot dog added to zone']\n",
      "1 #3 bottle ['1 #5 banana added to zone', '1 #4 banana added to zone', '1 #7 banana added to zone', '1 #9 banana added to zone', '1 #10 banana added to zone', '1 #11 bottle added to zone', '1 #11 banana added to zone', '1 #8 hot dog added to zone']\n"
     ]
    },
    {
     "name": "stderr",
     "output_type": "stream",
     "text": [
      "INFO:root:1 #1 banana removed from zone by person 4\n",
      "INFO:root:1 #3 bottle removed from zone by person 4\n",
      "INFO:root:1 #9 banana added to zone by person 4\n",
      "video 1/1 (287/640) C:\\Users\\rcheruvu\\Desktop\\openvino_notebooks\\recipes\\automated_detection_tracking\\data\\asset.mp4: 640x640 1 banana, 1 apple, 1178.9ms\n"
     ]
    },
    {
     "name": "stdout",
     "output_type": "stream",
     "text": [
      "1 #1 banana ['1 #5 banana added to zone', '1 #4 banana added to zone', '1 #7 banana added to zone', '1 #9 banana added to zone', '1 #10 banana added to zone', '1 #11 bottle added to zone', '1 #11 banana added to zone', '1 #8 hot dog added to zone']\n",
      "1 #3 bottle ['1 #5 banana added to zone', '1 #4 banana added to zone', '1 #7 banana added to zone', '1 #9 banana added to zone', '1 #10 banana added to zone', '1 #11 bottle added to zone', '1 #11 banana added to zone', '1 #8 hot dog added to zone']\n"
     ]
    },
    {
     "name": "stderr",
     "output_type": "stream",
     "text": [
      "INFO:root:1 #1 banana removed from zone by person 4\n",
      "INFO:root:1 #3 bottle removed from zone by person 4\n",
      "INFO:root:1 #9 banana added to zone by person 4\n",
      "video 1/1 (288/640) C:\\Users\\rcheruvu\\Desktop\\openvino_notebooks\\recipes\\automated_detection_tracking\\data\\asset.mp4: 640x640 1 banana, 1 apple, 1011.4ms\n"
     ]
    },
    {
     "name": "stdout",
     "output_type": "stream",
     "text": [
      "1 #1 banana ['1 #5 banana added to zone', '1 #4 banana added to zone', '1 #7 banana added to zone', '1 #9 banana added to zone', '1 #10 banana added to zone', '1 #11 bottle added to zone', '1 #11 banana added to zone', '1 #8 hot dog added to zone']\n",
      "1 #3 bottle ['1 #5 banana added to zone', '1 #4 banana added to zone', '1 #7 banana added to zone', '1 #9 banana added to zone', '1 #10 banana added to zone', '1 #11 bottle added to zone', '1 #11 banana added to zone', '1 #8 hot dog added to zone']\n"
     ]
    },
    {
     "name": "stderr",
     "output_type": "stream",
     "text": [
      "INFO:root:1 #1 banana removed from zone by person 4\n",
      "INFO:root:1 #3 bottle removed from zone by person 4\n",
      "INFO:root:1 #9 banana added to zone by person 4\n"
     ]
    },
    {
     "name": "stdout",
     "output_type": "stream",
     "text": [
      "1 #1 banana ['1 #5 banana added to zone', '1 #4 banana added to zone', '1 #7 banana added to zone', '1 #9 banana added to zone', '1 #10 banana added to zone', '1 #11 bottle added to zone', '1 #11 banana added to zone', '1 #8 hot dog added to zone']\n",
      "1 #3 bottle ['1 #5 banana added to zone', '1 #4 banana added to zone', '1 #7 banana added to zone', '1 #9 banana added to zone', '1 #10 banana added to zone', '1 #11 bottle added to zone', '1 #11 banana added to zone', '1 #8 hot dog added to zone']\n"
     ]
    },
    {
     "name": "stderr",
     "output_type": "stream",
     "text": [
      "video 1/1 (289/640) C:\\Users\\rcheruvu\\Desktop\\openvino_notebooks\\recipes\\automated_detection_tracking\\data\\asset.mp4: 640x640 1 banana, 1 apple, 992.4ms\n",
      "INFO:root:1 #1 banana removed from zone by person 4\n",
      "INFO:root:1 #3 bottle removed from zone by person 4\n",
      "INFO:root:1 #9 banana added to zone by person 4\n",
      "video 1/1 (290/640) C:\\Users\\rcheruvu\\Desktop\\openvino_notebooks\\recipes\\automated_detection_tracking\\data\\asset.mp4: 640x640 1 banana, 1 apple, 955.8ms\n"
     ]
    },
    {
     "name": "stdout",
     "output_type": "stream",
     "text": [
      "1 #1 banana ['1 #5 banana added to zone', '1 #4 banana added to zone', '1 #7 banana added to zone', '1 #9 banana added to zone', '1 #10 banana added to zone', '1 #11 bottle added to zone', '1 #11 banana added to zone', '1 #8 hot dog added to zone']\n",
      "1 #3 bottle ['1 #5 banana added to zone', '1 #4 banana added to zone', '1 #7 banana added to zone', '1 #9 banana added to zone', '1 #10 banana added to zone', '1 #11 bottle added to zone', '1 #11 banana added to zone', '1 #8 hot dog added to zone']\n"
     ]
    },
    {
     "name": "stderr",
     "output_type": "stream",
     "text": [
      "INFO:root:1 #1 banana removed from zone by person 4\n",
      "INFO:root:1 #3 bottle removed from zone by person 4\n",
      "INFO:root:1 #9 banana added to zone by person 4\n",
      "video 1/1 (291/640) C:\\Users\\rcheruvu\\Desktop\\openvino_notebooks\\recipes\\automated_detection_tracking\\data\\asset.mp4: 640x640 1 banana, 1 apple, 926.7ms\n"
     ]
    },
    {
     "name": "stdout",
     "output_type": "stream",
     "text": [
      "1 #1 banana ['1 #5 banana added to zone', '1 #4 banana added to zone', '1 #7 banana added to zone', '1 #9 banana added to zone', '1 #10 banana added to zone', '1 #11 bottle added to zone', '1 #11 banana added to zone', '1 #8 hot dog added to zone']\n",
      "1 #3 bottle ['1 #5 banana added to zone', '1 #4 banana added to zone', '1 #7 banana added to zone', '1 #9 banana added to zone', '1 #10 banana added to zone', '1 #11 bottle added to zone', '1 #11 banana added to zone', '1 #8 hot dog added to zone']\n"
     ]
    },
    {
     "name": "stderr",
     "output_type": "stream",
     "text": [
      "INFO:root:1 #1 banana removed from zone by person 4\n",
      "INFO:root:1 #3 bottle removed from zone by person 4\n",
      "INFO:root:1 #9 banana added to zone by person 4\n",
      "video 1/1 (292/640) C:\\Users\\rcheruvu\\Desktop\\openvino_notebooks\\recipes\\automated_detection_tracking\\data\\asset.mp4: 640x640 1 banana, 1 apple, 972.5ms\n"
     ]
    },
    {
     "name": "stdout",
     "output_type": "stream",
     "text": [
      "1 #1 banana ['1 #5 banana added to zone', '1 #4 banana added to zone', '1 #7 banana added to zone', '1 #9 banana added to zone', '1 #10 banana added to zone', '1 #11 bottle added to zone', '1 #11 banana added to zone', '1 #8 hot dog added to zone']\n",
      "1 #3 bottle ['1 #5 banana added to zone', '1 #4 banana added to zone', '1 #7 banana added to zone', '1 #9 banana added to zone', '1 #10 banana added to zone', '1 #11 bottle added to zone', '1 #11 banana added to zone', '1 #8 hot dog added to zone']\n"
     ]
    },
    {
     "name": "stderr",
     "output_type": "stream",
     "text": [
      "INFO:root:1 #1 banana removed from zone by person 4\n",
      "INFO:root:1 #3 bottle removed from zone by person 4\n",
      "INFO:root:1 #9 banana added to zone by person 4\n",
      "video 1/1 (293/640) C:\\Users\\rcheruvu\\Desktop\\openvino_notebooks\\recipes\\automated_detection_tracking\\data\\asset.mp4: 640x640 1 banana, 1 apple, 1178.3ms\n"
     ]
    },
    {
     "name": "stdout",
     "output_type": "stream",
     "text": [
      "1 #1 banana ['1 #5 banana added to zone', '1 #4 banana added to zone', '1 #7 banana added to zone', '1 #9 banana added to zone', '1 #10 banana added to zone', '1 #11 bottle added to zone', '1 #11 banana added to zone', '1 #8 hot dog added to zone']\n",
      "1 #3 bottle ['1 #5 banana added to zone', '1 #4 banana added to zone', '1 #7 banana added to zone', '1 #9 banana added to zone', '1 #10 banana added to zone', '1 #11 bottle added to zone', '1 #11 banana added to zone', '1 #8 hot dog added to zone']\n"
     ]
    },
    {
     "name": "stderr",
     "output_type": "stream",
     "text": [
      "INFO:root:1 #1 banana removed from zone by person 4\n",
      "INFO:root:1 #3 bottle removed from zone by person 4\n",
      "INFO:root:1 #9 banana added to zone by person 4\n",
      "video 1/1 (294/640) C:\\Users\\rcheruvu\\Desktop\\openvino_notebooks\\recipes\\automated_detection_tracking\\data\\asset.mp4: 640x640 1 banana, 1 apple, 1012.8ms\n"
     ]
    },
    {
     "name": "stdout",
     "output_type": "stream",
     "text": [
      "1 #1 banana ['1 #5 banana added to zone', '1 #4 banana added to zone', '1 #7 banana added to zone', '1 #9 banana added to zone', '1 #10 banana added to zone', '1 #11 bottle added to zone', '1 #11 banana added to zone', '1 #8 hot dog added to zone']\n",
      "1 #3 bottle ['1 #5 banana added to zone', '1 #4 banana added to zone', '1 #7 banana added to zone', '1 #9 banana added to zone', '1 #10 banana added to zone', '1 #11 bottle added to zone', '1 #11 banana added to zone', '1 #8 hot dog added to zone']\n"
     ]
    },
    {
     "name": "stderr",
     "output_type": "stream",
     "text": [
      "INFO:root:1 #1 banana removed from zone by person 4\n",
      "INFO:root:1 #3 bottle removed from zone by person 4\n",
      "INFO:root:1 #9 banana added to zone by person 4\n",
      "video 1/1 (295/640) C:\\Users\\rcheruvu\\Desktop\\openvino_notebooks\\recipes\\automated_detection_tracking\\data\\asset.mp4: 640x640 1 banana, 1 apple, 1036.6ms\n"
     ]
    },
    {
     "name": "stdout",
     "output_type": "stream",
     "text": [
      "1 #1 banana ['1 #5 banana added to zone', '1 #4 banana added to zone', '1 #7 banana added to zone', '1 #9 banana added to zone', '1 #10 banana added to zone', '1 #11 bottle added to zone', '1 #11 banana added to zone', '1 #8 hot dog added to zone']\n",
      "1 #3 bottle ['1 #5 banana added to zone', '1 #4 banana added to zone', '1 #7 banana added to zone', '1 #9 banana added to zone', '1 #10 banana added to zone', '1 #11 bottle added to zone', '1 #11 banana added to zone', '1 #8 hot dog added to zone']\n"
     ]
    },
    {
     "name": "stderr",
     "output_type": "stream",
     "text": [
      "INFO:root:1 #1 banana removed from zone by person 4\n",
      "INFO:root:1 #3 bottle removed from zone by person 4\n",
      "INFO:root:1 #9 banana added to zone by person 4\n",
      "video 1/1 (296/640) C:\\Users\\rcheruvu\\Desktop\\openvino_notebooks\\recipes\\automated_detection_tracking\\data\\asset.mp4: 640x640 1 banana, 1 apple, 997.5ms\n"
     ]
    },
    {
     "name": "stdout",
     "output_type": "stream",
     "text": [
      "1 #1 banana ['1 #5 banana added to zone', '1 #4 banana added to zone', '1 #7 banana added to zone', '1 #9 banana added to zone', '1 #10 banana added to zone', '1 #11 bottle added to zone', '1 #11 banana added to zone', '1 #8 hot dog added to zone']\n",
      "1 #3 bottle ['1 #5 banana added to zone', '1 #4 banana added to zone', '1 #7 banana added to zone', '1 #9 banana added to zone', '1 #10 banana added to zone', '1 #11 bottle added to zone', '1 #11 banana added to zone', '1 #8 hot dog added to zone']\n"
     ]
    },
    {
     "name": "stderr",
     "output_type": "stream",
     "text": [
      "INFO:root:1 #1 banana removed from zone by person 4\n",
      "INFO:root:1 #3 bottle removed from zone by person 4\n",
      "INFO:root:1 #9 banana added to zone by person 4\n"
     ]
    },
    {
     "name": "stdout",
     "output_type": "stream",
     "text": [
      "1 #1 banana ['1 #5 banana added to zone', '1 #4 banana added to zone', '1 #7 banana added to zone', '1 #9 banana added to zone', '1 #10 banana added to zone', '1 #11 bottle added to zone', '1 #11 banana added to zone', '1 #8 hot dog added to zone']\n",
      "1 #3 bottle ['1 #5 banana added to zone', '1 #4 banana added to zone', '1 #7 banana added to zone', '1 #9 banana added to zone', '1 #10 banana added to zone', '1 #11 bottle added to zone', '1 #11 banana added to zone', '1 #8 hot dog added to zone']\n"
     ]
    },
    {
     "name": "stderr",
     "output_type": "stream",
     "text": [
      "video 1/1 (297/640) C:\\Users\\rcheruvu\\Desktop\\openvino_notebooks\\recipes\\automated_detection_tracking\\data\\asset.mp4: 640x640 1 banana, 1 apple, 1167.3ms\n",
      "INFO:root:1 #1 banana removed from zone by person 4\n",
      "INFO:root:1 #3 bottle removed from zone by person 4\n",
      "INFO:root:1 #9 banana added to zone by person 4\n",
      "video 1/1 (298/640) C:\\Users\\rcheruvu\\Desktop\\openvino_notebooks\\recipes\\automated_detection_tracking\\data\\asset.mp4: 640x640 1 banana, 1 apple, 1397.7ms\n"
     ]
    },
    {
     "name": "stdout",
     "output_type": "stream",
     "text": [
      "1 #1 banana ['1 #5 banana added to zone', '1 #4 banana added to zone', '1 #7 banana added to zone', '1 #9 banana added to zone', '1 #10 banana added to zone', '1 #11 bottle added to zone', '1 #11 banana added to zone', '1 #8 hot dog added to zone']\n",
      "1 #3 bottle ['1 #5 banana added to zone', '1 #4 banana added to zone', '1 #7 banana added to zone', '1 #9 banana added to zone', '1 #10 banana added to zone', '1 #11 bottle added to zone', '1 #11 banana added to zone', '1 #8 hot dog added to zone']\n"
     ]
    },
    {
     "name": "stderr",
     "output_type": "stream",
     "text": [
      "INFO:root:1 #1 banana removed from zone by person 4\n",
      "INFO:root:1 #3 bottle removed from zone by person 4\n",
      "INFO:root:1 #9 banana added to zone by person 4\n"
     ]
    },
    {
     "name": "stdout",
     "output_type": "stream",
     "text": [
      "1 #1 banana ['1 #5 banana added to zone', '1 #4 banana added to zone', '1 #7 banana added to zone', '1 #9 banana added to zone', '1 #10 banana added to zone', '1 #11 bottle added to zone', '1 #11 banana added to zone', '1 #8 hot dog added to zone']\n",
      "1 #3 bottle ['1 #5 banana added to zone', '1 #4 banana added to zone', '1 #7 banana added to zone', '1 #9 banana added to zone', '1 #10 banana added to zone', '1 #11 bottle added to zone', '1 #11 banana added to zone', '1 #8 hot dog added to zone']\n"
     ]
    },
    {
     "name": "stderr",
     "output_type": "stream",
     "text": [
      "video 1/1 (299/640) C:\\Users\\rcheruvu\\Desktop\\openvino_notebooks\\recipes\\automated_detection_tracking\\data\\asset.mp4: 640x640 1 banana, 1 apple, 1019.1ms\n",
      "INFO:root:1 #1 banana removed from zone by person 4\n",
      "INFO:root:1 #3 bottle removed from zone by person 4\n",
      "INFO:root:1 #9 banana added to zone by person 4\n",
      "video 1/1 (300/640) C:\\Users\\rcheruvu\\Desktop\\openvino_notebooks\\recipes\\automated_detection_tracking\\data\\asset.mp4: 640x640 1 banana, 1 apple, 1180.6ms\n"
     ]
    },
    {
     "name": "stdout",
     "output_type": "stream",
     "text": [
      "1 #1 banana ['1 #5 banana added to zone', '1 #4 banana added to zone', '1 #7 banana added to zone', '1 #9 banana added to zone', '1 #10 banana added to zone', '1 #11 bottle added to zone', '1 #11 banana added to zone', '1 #8 hot dog added to zone']\n",
      "1 #3 bottle ['1 #5 banana added to zone', '1 #4 banana added to zone', '1 #7 banana added to zone', '1 #9 banana added to zone', '1 #10 banana added to zone', '1 #11 bottle added to zone', '1 #11 banana added to zone', '1 #8 hot dog added to zone']\n"
     ]
    },
    {
     "name": "stderr",
     "output_type": "stream",
     "text": [
      "INFO:root:1 #1 banana removed from zone by person 4\n",
      "INFO:root:1 #3 bottle removed from zone by person 4\n",
      "INFO:root:1 #9 banana added to zone by person 4\n"
     ]
    },
    {
     "name": "stdout",
     "output_type": "stream",
     "text": [
      "1 #1 banana ['1 #5 banana added to zone', '1 #4 banana added to zone', '1 #7 banana added to zone', '1 #9 banana added to zone', '1 #10 banana added to zone', '1 #11 bottle added to zone', '1 #11 banana added to zone', '1 #8 hot dog added to zone']\n",
      "1 #3 bottle ['1 #5 banana added to zone', '1 #4 banana added to zone', '1 #7 banana added to zone', '1 #9 banana added to zone', '1 #10 banana added to zone', '1 #11 bottle added to zone', '1 #11 banana added to zone', '1 #8 hot dog added to zone']\n"
     ]
    },
    {
     "name": "stderr",
     "output_type": "stream",
     "text": [
      "video 1/1 (301/640) C:\\Users\\rcheruvu\\Desktop\\openvino_notebooks\\recipes\\automated_detection_tracking\\data\\asset.mp4: 640x640 1 banana, 1 apple, 972.9ms\n",
      "INFO:root:1 #1 banana removed from zone by person 4\n",
      "INFO:root:1 #3 bottle removed from zone by person 4\n",
      "INFO:root:1 #9 banana added to zone by person 4\n",
      "video 1/1 (302/640) C:\\Users\\rcheruvu\\Desktop\\openvino_notebooks\\recipes\\automated_detection_tracking\\data\\asset.mp4: 640x640 1 banana, 1 apple, 1282.4ms\n"
     ]
    },
    {
     "name": "stdout",
     "output_type": "stream",
     "text": [
      "1 #1 banana ['1 #5 banana added to zone', '1 #4 banana added to zone', '1 #7 banana added to zone', '1 #9 banana added to zone', '1 #10 banana added to zone', '1 #11 bottle added to zone', '1 #11 banana added to zone', '1 #8 hot dog added to zone']\n",
      "1 #3 bottle ['1 #5 banana added to zone', '1 #4 banana added to zone', '1 #7 banana added to zone', '1 #9 banana added to zone', '1 #10 banana added to zone', '1 #11 bottle added to zone', '1 #11 banana added to zone', '1 #8 hot dog added to zone']\n"
     ]
    },
    {
     "name": "stderr",
     "output_type": "stream",
     "text": [
      "INFO:root:1 #1 banana removed from zone by person 4\n",
      "INFO:root:1 #3 bottle removed from zone by person 4\n",
      "INFO:root:1 #9 banana added to zone by person 4\n",
      "video 1/1 (303/640) C:\\Users\\rcheruvu\\Desktop\\openvino_notebooks\\recipes\\automated_detection_tracking\\data\\asset.mp4: 640x640 1 banana, 1 apple, 1089.0ms\n"
     ]
    },
    {
     "name": "stdout",
     "output_type": "stream",
     "text": [
      "1 #1 banana ['1 #5 banana added to zone', '1 #4 banana added to zone', '1 #7 banana added to zone', '1 #9 banana added to zone', '1 #10 banana added to zone', '1 #11 bottle added to zone', '1 #11 banana added to zone', '1 #8 hot dog added to zone']\n",
      "1 #3 bottle ['1 #5 banana added to zone', '1 #4 banana added to zone', '1 #7 banana added to zone', '1 #9 banana added to zone', '1 #10 banana added to zone', '1 #11 bottle added to zone', '1 #11 banana added to zone', '1 #8 hot dog added to zone']\n"
     ]
    },
    {
     "name": "stderr",
     "output_type": "stream",
     "text": [
      "INFO:root:1 #1 banana removed from zone by person 4\n",
      "INFO:root:1 #3 bottle removed from zone by person 4\n",
      "INFO:root:1 #9 banana added to zone by person 4\n",
      "video 1/1 (304/640) C:\\Users\\rcheruvu\\Desktop\\openvino_notebooks\\recipes\\automated_detection_tracking\\data\\asset.mp4: 640x640 1 banana, 1 apple, 1183.5ms\n"
     ]
    },
    {
     "name": "stdout",
     "output_type": "stream",
     "text": [
      "1 #1 banana ['1 #5 banana added to zone', '1 #4 banana added to zone', '1 #7 banana added to zone', '1 #9 banana added to zone', '1 #10 banana added to zone', '1 #11 bottle added to zone', '1 #11 banana added to zone', '1 #8 hot dog added to zone']\n",
      "1 #3 bottle ['1 #5 banana added to zone', '1 #4 banana added to zone', '1 #7 banana added to zone', '1 #9 banana added to zone', '1 #10 banana added to zone', '1 #11 bottle added to zone', '1 #11 banana added to zone', '1 #8 hot dog added to zone']\n"
     ]
    },
    {
     "name": "stderr",
     "output_type": "stream",
     "text": [
      "INFO:root:1 #1 banana removed from zone by person 4\n",
      "INFO:root:1 #3 bottle removed from zone by person 4\n",
      "INFO:root:1 #9 banana added to zone by person 4\n",
      "video 1/1 (305/640) C:\\Users\\rcheruvu\\Desktop\\openvino_notebooks\\recipes\\automated_detection_tracking\\data\\asset.mp4: 640x640 1 banana, 1 apple, 1242.2ms\n"
     ]
    },
    {
     "name": "stdout",
     "output_type": "stream",
     "text": [
      "1 #1 banana ['1 #5 banana added to zone', '1 #4 banana added to zone', '1 #7 banana added to zone', '1 #9 banana added to zone', '1 #10 banana added to zone', '1 #11 bottle added to zone', '1 #11 banana added to zone', '1 #8 hot dog added to zone']\n",
      "1 #3 bottle ['1 #5 banana added to zone', '1 #4 banana added to zone', '1 #7 banana added to zone', '1 #9 banana added to zone', '1 #10 banana added to zone', '1 #11 bottle added to zone', '1 #11 banana added to zone', '1 #8 hot dog added to zone']\n"
     ]
    },
    {
     "name": "stderr",
     "output_type": "stream",
     "text": [
      "INFO:root:1 #1 banana removed from zone by person 4\n",
      "INFO:root:1 #3 bottle removed from zone by person 4\n",
      "INFO:root:1 #9 banana added to zone by person 4\n"
     ]
    },
    {
     "name": "stdout",
     "output_type": "stream",
     "text": [
      "1 #1 banana ['1 #5 banana added to zone', '1 #4 banana added to zone', '1 #7 banana added to zone', '1 #9 banana added to zone', '1 #10 banana added to zone', '1 #11 bottle added to zone', '1 #11 banana added to zone', '1 #8 hot dog added to zone']\n",
      "1 #3 bottle ['1 #5 banana added to zone', '1 #4 banana added to zone', '1 #7 banana added to zone', '1 #9 banana added to zone', '1 #10 banana added to zone', '1 #11 bottle added to zone', '1 #11 banana added to zone', '1 #8 hot dog added to zone']\n"
     ]
    },
    {
     "name": "stderr",
     "output_type": "stream",
     "text": [
      "video 1/1 (306/640) C:\\Users\\rcheruvu\\Desktop\\openvino_notebooks\\recipes\\automated_detection_tracking\\data\\asset.mp4: 640x640 1 banana, 1 apple, 1334.7ms\n",
      "INFO:root:1 #1 banana removed from zone by person 4\n",
      "INFO:root:1 #3 bottle removed from zone by person 4\n",
      "INFO:root:1 #9 banana added to zone by person 4\n"
     ]
    },
    {
     "name": "stdout",
     "output_type": "stream",
     "text": [
      "1 #1 banana ['1 #5 banana added to zone', '1 #4 banana added to zone', '1 #7 banana added to zone', '1 #9 banana added to zone', '1 #10 banana added to zone', '1 #11 bottle added to zone', '1 #11 banana added to zone', '1 #8 hot dog added to zone']\n",
      "1 #3 bottle ['1 #5 banana added to zone', '1 #4 banana added to zone', '1 #7 banana added to zone', '1 #9 banana added to zone', '1 #10 banana added to zone', '1 #11 bottle added to zone', '1 #11 banana added to zone', '1 #8 hot dog added to zone']\n"
     ]
    },
    {
     "name": "stderr",
     "output_type": "stream",
     "text": [
      "video 1/1 (307/640) C:\\Users\\rcheruvu\\Desktop\\openvino_notebooks\\recipes\\automated_detection_tracking\\data\\asset.mp4: 640x640 1 banana, 1 apple, 1346.7ms\n",
      "INFO:root:1 #1 banana removed from zone by person 4\n",
      "INFO:root:1 #3 bottle removed from zone by person 4\n",
      "INFO:root:1 #9 banana added to zone by person 4\n"
     ]
    },
    {
     "name": "stdout",
     "output_type": "stream",
     "text": [
      "1 #1 banana ['1 #5 banana added to zone', '1 #4 banana added to zone', '1 #7 banana added to zone', '1 #9 banana added to zone', '1 #10 banana added to zone', '1 #11 bottle added to zone', '1 #11 banana added to zone', '1 #8 hot dog added to zone']\n",
      "1 #3 bottle ['1 #5 banana added to zone', '1 #4 banana added to zone', '1 #7 banana added to zone', '1 #9 banana added to zone', '1 #10 banana added to zone', '1 #11 bottle added to zone', '1 #11 banana added to zone', '1 #8 hot dog added to zone']\n"
     ]
    },
    {
     "name": "stderr",
     "output_type": "stream",
     "text": [
      "video 1/1 (308/640) C:\\Users\\rcheruvu\\Desktop\\openvino_notebooks\\recipes\\automated_detection_tracking\\data\\asset.mp4: 640x640 1 banana, 1 apple, 1308.9ms\n",
      "INFO:root:1 #1 banana removed from zone by person 4\n",
      "INFO:root:1 #3 bottle removed from zone by person 4\n",
      "INFO:root:1 #9 banana added to zone by person 4\n",
      "video 1/1 (309/640) C:\\Users\\rcheruvu\\Desktop\\openvino_notebooks\\recipes\\automated_detection_tracking\\data\\asset.mp4: 640x640 1 banana, 1 apple, 1105.0ms\n"
     ]
    },
    {
     "name": "stdout",
     "output_type": "stream",
     "text": [
      "1 #1 banana ['1 #5 banana added to zone', '1 #4 banana added to zone', '1 #7 banana added to zone', '1 #9 banana added to zone', '1 #10 banana added to zone', '1 #11 bottle added to zone', '1 #11 banana added to zone', '1 #8 hot dog added to zone']\n",
      "1 #3 bottle ['1 #5 banana added to zone', '1 #4 banana added to zone', '1 #7 banana added to zone', '1 #9 banana added to zone', '1 #10 banana added to zone', '1 #11 bottle added to zone', '1 #11 banana added to zone', '1 #8 hot dog added to zone']\n"
     ]
    },
    {
     "name": "stderr",
     "output_type": "stream",
     "text": [
      "INFO:root:1 #1 banana removed from zone by person 4\n",
      "INFO:root:1 #3 bottle removed from zone by person 4\n",
      "INFO:root:1 #9 banana added to zone by person 4\n"
     ]
    },
    {
     "name": "stdout",
     "output_type": "stream",
     "text": [
      "1 #1 banana ['1 #5 banana added to zone', '1 #4 banana added to zone', '1 #7 banana added to zone', '1 #9 banana added to zone', '1 #10 banana added to zone', '1 #11 bottle added to zone', '1 #11 banana added to zone', '1 #8 hot dog added to zone']\n",
      "1 #3 bottle ['1 #5 banana added to zone', '1 #4 banana added to zone', '1 #7 banana added to zone', '1 #9 banana added to zone', '1 #10 banana added to zone', '1 #11 bottle added to zone', '1 #11 banana added to zone', '1 #8 hot dog added to zone']\n"
     ]
    },
    {
     "name": "stderr",
     "output_type": "stream",
     "text": [
      "video 1/1 (310/640) C:\\Users\\rcheruvu\\Desktop\\openvino_notebooks\\recipes\\automated_detection_tracking\\data\\asset.mp4: 640x640 1 banana, 1 apple, 1154.2ms\n",
      "INFO:root:1 #1 banana removed from zone by person 4\n",
      "INFO:root:1 #3 bottle removed from zone by person 4\n",
      "INFO:root:1 #9 banana added to zone by person 4\n"
     ]
    },
    {
     "name": "stdout",
     "output_type": "stream",
     "text": [
      "1 #1 banana ['1 #5 banana added to zone', '1 #4 banana added to zone', '1 #7 banana added to zone', '1 #9 banana added to zone', '1 #10 banana added to zone', '1 #11 bottle added to zone', '1 #11 banana added to zone', '1 #8 hot dog added to zone']\n",
      "1 #3 bottle ['1 #5 banana added to zone', '1 #4 banana added to zone', '1 #7 banana added to zone', '1 #9 banana added to zone', '1 #10 banana added to zone', '1 #11 bottle added to zone', '1 #11 banana added to zone', '1 #8 hot dog added to zone']\n"
     ]
    },
    {
     "name": "stderr",
     "output_type": "stream",
     "text": [
      "video 1/1 (311/640) C:\\Users\\rcheruvu\\Desktop\\openvino_notebooks\\recipes\\automated_detection_tracking\\data\\asset.mp4: 640x640 1 banana, 1 apple, 1260.2ms\n",
      "INFO:root:1 #1 banana removed from zone by person 4\n",
      "INFO:root:1 #3 bottle removed from zone by person 4\n",
      "INFO:root:1 #9 banana added to zone by person 4\n",
      "video 1/1 (312/640) C:\\Users\\rcheruvu\\Desktop\\openvino_notebooks\\recipes\\automated_detection_tracking\\data\\asset.mp4: 640x640 1 banana, 1 apple, 1072.0ms\n"
     ]
    },
    {
     "name": "stdout",
     "output_type": "stream",
     "text": [
      "1 #1 banana ['1 #5 banana added to zone', '1 #4 banana added to zone', '1 #7 banana added to zone', '1 #9 banana added to zone', '1 #10 banana added to zone', '1 #11 bottle added to zone', '1 #11 banana added to zone', '1 #8 hot dog added to zone']\n",
      "1 #3 bottle ['1 #5 banana added to zone', '1 #4 banana added to zone', '1 #7 banana added to zone', '1 #9 banana added to zone', '1 #10 banana added to zone', '1 #11 bottle added to zone', '1 #11 banana added to zone', '1 #8 hot dog added to zone']\n"
     ]
    },
    {
     "name": "stderr",
     "output_type": "stream",
     "text": [
      "INFO:root:1 #1 banana removed from zone by person 4\n",
      "INFO:root:1 #3 bottle removed from zone by person 4\n",
      "INFO:root:1 #9 banana added to zone by person 4\n",
      "video 1/1 (313/640) C:\\Users\\rcheruvu\\Desktop\\openvino_notebooks\\recipes\\automated_detection_tracking\\data\\asset.mp4: 640x640 1 banana, 1 apple, 1112.0ms\n"
     ]
    },
    {
     "name": "stdout",
     "output_type": "stream",
     "text": [
      "1 #1 banana ['1 #5 banana added to zone', '1 #4 banana added to zone', '1 #7 banana added to zone', '1 #9 banana added to zone', '1 #10 banana added to zone', '1 #11 bottle added to zone', '1 #11 banana added to zone', '1 #8 hot dog added to zone']\n",
      "1 #3 bottle ['1 #5 banana added to zone', '1 #4 banana added to zone', '1 #7 banana added to zone', '1 #9 banana added to zone', '1 #10 banana added to zone', '1 #11 bottle added to zone', '1 #11 banana added to zone', '1 #8 hot dog added to zone']\n"
     ]
    },
    {
     "name": "stderr",
     "output_type": "stream",
     "text": [
      "INFO:root:1 #1 banana removed from zone by person 4\n",
      "INFO:root:1 #3 bottle removed from zone by person 4\n",
      "INFO:root:1 #9 banana added to zone by person 4\n",
      "video 1/1 (314/640) C:\\Users\\rcheruvu\\Desktop\\openvino_notebooks\\recipes\\automated_detection_tracking\\data\\asset.mp4: 640x640 1 banana, 1 apple, 930.0ms\n"
     ]
    },
    {
     "name": "stdout",
     "output_type": "stream",
     "text": [
      "1 #1 banana ['1 #5 banana added to zone', '1 #4 banana added to zone', '1 #7 banana added to zone', '1 #9 banana added to zone', '1 #10 banana added to zone', '1 #11 bottle added to zone', '1 #11 banana added to zone', '1 #8 hot dog added to zone']\n",
      "1 #3 bottle ['1 #5 banana added to zone', '1 #4 banana added to zone', '1 #7 banana added to zone', '1 #9 banana added to zone', '1 #10 banana added to zone', '1 #11 bottle added to zone', '1 #11 banana added to zone', '1 #8 hot dog added to zone']\n"
     ]
    },
    {
     "name": "stderr",
     "output_type": "stream",
     "text": [
      "INFO:root:1 #1 banana removed from zone by person 4\n",
      "INFO:root:1 #3 bottle removed from zone by person 4\n",
      "INFO:root:1 #9 banana added to zone by person 4\n",
      "video 1/1 (315/640) C:\\Users\\rcheruvu\\Desktop\\openvino_notebooks\\recipes\\automated_detection_tracking\\data\\asset.mp4: 640x640 1 banana, 1 apple, 1351.5ms\n"
     ]
    },
    {
     "name": "stdout",
     "output_type": "stream",
     "text": [
      "1 #1 banana ['1 #5 banana added to zone', '1 #4 banana added to zone', '1 #7 banana added to zone', '1 #9 banana added to zone', '1 #10 banana added to zone', '1 #11 bottle added to zone', '1 #11 banana added to zone', '1 #8 hot dog added to zone']\n",
      "1 #3 bottle ['1 #5 banana added to zone', '1 #4 banana added to zone', '1 #7 banana added to zone', '1 #9 banana added to zone', '1 #10 banana added to zone', '1 #11 bottle added to zone', '1 #11 banana added to zone', '1 #8 hot dog added to zone']\n"
     ]
    },
    {
     "name": "stderr",
     "output_type": "stream",
     "text": [
      "INFO:root:1 #1 banana removed from zone by person 4\n",
      "INFO:root:1 #3 bottle removed from zone by person 4\n",
      "INFO:root:1 #9 banana added to zone by person 4\n",
      "video 1/1 (316/640) C:\\Users\\rcheruvu\\Desktop\\openvino_notebooks\\recipes\\automated_detection_tracking\\data\\asset.mp4: 640x640 1 banana, 1 apple, 1437.0ms\n"
     ]
    },
    {
     "name": "stdout",
     "output_type": "stream",
     "text": [
      "1 #1 banana ['1 #5 banana added to zone', '1 #4 banana added to zone', '1 #7 banana added to zone', '1 #9 banana added to zone', '1 #10 banana added to zone', '1 #11 bottle added to zone', '1 #11 banana added to zone', '1 #8 hot dog added to zone']\n",
      "1 #3 bottle ['1 #5 banana added to zone', '1 #4 banana added to zone', '1 #7 banana added to zone', '1 #9 banana added to zone', '1 #10 banana added to zone', '1 #11 bottle added to zone', '1 #11 banana added to zone', '1 #8 hot dog added to zone']\n"
     ]
    },
    {
     "name": "stderr",
     "output_type": "stream",
     "text": [
      "INFO:root:1 #1 banana removed from zone by person 4\n",
      "INFO:root:1 #3 bottle removed from zone by person 4\n",
      "INFO:root:1 #9 banana added to zone by person 4\n"
     ]
    },
    {
     "name": "stdout",
     "output_type": "stream",
     "text": [
      "1 #1 banana ['1 #5 banana added to zone', '1 #4 banana added to zone', '1 #7 banana added to zone', '1 #9 banana added to zone', '1 #10 banana added to zone', '1 #11 bottle added to zone', '1 #11 banana added to zone', '1 #8 hot dog added to zone']\n",
      "1 #3 bottle ['1 #5 banana added to zone', '1 #4 banana added to zone', '1 #7 banana added to zone', '1 #9 banana added to zone', '1 #10 banana added to zone', '1 #11 bottle added to zone', '1 #11 banana added to zone', '1 #8 hot dog added to zone']\n"
     ]
    },
    {
     "name": "stderr",
     "output_type": "stream",
     "text": [
      "video 1/1 (317/640) C:\\Users\\rcheruvu\\Desktop\\openvino_notebooks\\recipes\\automated_detection_tracking\\data\\asset.mp4: 640x640 1 banana, 1 apple, 1087.8ms\n",
      "INFO:root:1 #1 banana removed from zone by person 4\n",
      "INFO:root:1 #3 bottle removed from zone by person 4\n",
      "INFO:root:1 #9 banana added to zone by person 4\n"
     ]
    },
    {
     "name": "stdout",
     "output_type": "stream",
     "text": [
      "1 #1 banana ['1 #5 banana added to zone', '1 #4 banana added to zone', '1 #7 banana added to zone', '1 #9 banana added to zone', '1 #10 banana added to zone', '1 #11 bottle added to zone', '1 #11 banana added to zone', '1 #8 hot dog added to zone']\n",
      "1 #3 bottle ['1 #5 banana added to zone', '1 #4 banana added to zone', '1 #7 banana added to zone', '1 #9 banana added to zone', '1 #10 banana added to zone', '1 #11 bottle added to zone', '1 #11 banana added to zone', '1 #8 hot dog added to zone']\n"
     ]
    },
    {
     "name": "stderr",
     "output_type": "stream",
     "text": [
      "video 1/1 (318/640) C:\\Users\\rcheruvu\\Desktop\\openvino_notebooks\\recipes\\automated_detection_tracking\\data\\asset.mp4: 640x640 1 banana, 1 apple, 1281.9ms\n",
      "INFO:root:1 #1 banana removed from zone by person 4\n",
      "INFO:root:1 #3 bottle removed from zone by person 4\n",
      "INFO:root:1 #9 banana added to zone by person 4\n"
     ]
    },
    {
     "name": "stdout",
     "output_type": "stream",
     "text": [
      "1 #1 banana ['1 #5 banana added to zone', '1 #4 banana added to zone', '1 #7 banana added to zone', '1 #9 banana added to zone', '1 #10 banana added to zone', '1 #11 bottle added to zone', '1 #11 banana added to zone', '1 #8 hot dog added to zone']\n",
      "1 #3 bottle ['1 #5 banana added to zone', '1 #4 banana added to zone', '1 #7 banana added to zone', '1 #9 banana added to zone', '1 #10 banana added to zone', '1 #11 bottle added to zone', '1 #11 banana added to zone', '1 #8 hot dog added to zone']\n"
     ]
    },
    {
     "name": "stderr",
     "output_type": "stream",
     "text": [
      "video 1/1 (319/640) C:\\Users\\rcheruvu\\Desktop\\openvino_notebooks\\recipes\\automated_detection_tracking\\data\\asset.mp4: 640x640 1 banana, 1 apple, 1363.6ms\n",
      "INFO:root:1 #1 banana removed from zone by person 4\n",
      "INFO:root:1 #3 bottle removed from zone by person 4\n",
      "INFO:root:1 #9 banana added to zone by person 4\n"
     ]
    },
    {
     "name": "stdout",
     "output_type": "stream",
     "text": [
      "1 #1 banana ['1 #5 banana added to zone', '1 #4 banana added to zone', '1 #7 banana added to zone', '1 #9 banana added to zone', '1 #10 banana added to zone', '1 #11 bottle added to zone', '1 #11 banana added to zone', '1 #8 hot dog added to zone']\n",
      "1 #3 bottle ['1 #5 banana added to zone', '1 #4 banana added to zone', '1 #7 banana added to zone', '1 #9 banana added to zone', '1 #10 banana added to zone', '1 #11 bottle added to zone', '1 #11 banana added to zone', '1 #8 hot dog added to zone']\n"
     ]
    },
    {
     "name": "stderr",
     "output_type": "stream",
     "text": [
      "video 1/1 (320/640) C:\\Users\\rcheruvu\\Desktop\\openvino_notebooks\\recipes\\automated_detection_tracking\\data\\asset.mp4: 640x640 1 person, 1 banana, 1 apple, 1395.5ms\n",
      "INFO:root:1 #1 banana removed from zone by person 4\n",
      "INFO:root:1 #3 bottle removed from zone by person 4\n",
      "INFO:root:1 #9 banana added to zone by person 4\n",
      "video 1/1 (321/640) C:\\Users\\rcheruvu\\Desktop\\openvino_notebooks\\recipes\\automated_detection_tracking\\data\\asset.mp4: 640x640 1 person, 1 banana, 1 apple, 988.0ms\n"
     ]
    },
    {
     "name": "stdout",
     "output_type": "stream",
     "text": [
      "1 #1 banana ['1 #5 banana added to zone', '1 #4 banana added to zone', '1 #7 banana added to zone', '1 #9 banana added to zone', '1 #10 banana added to zone', '1 #11 bottle added to zone', '1 #11 banana added to zone', '1 #8 hot dog added to zone']\n",
      "1 #3 bottle ['1 #5 banana added to zone', '1 #4 banana added to zone', '1 #7 banana added to zone', '1 #9 banana added to zone', '1 #10 banana added to zone', '1 #11 bottle added to zone', '1 #11 banana added to zone', '1 #8 hot dog added to zone']\n"
     ]
    },
    {
     "name": "stderr",
     "output_type": "stream",
     "text": [
      "INFO:root:1 #1 banana removed from zone by person 4\n",
      "INFO:root:1 #3 bottle removed from zone by person 4\n",
      "INFO:root:1 #9 banana added to zone by person 4\n",
      "video 1/1 (322/640) C:\\Users\\rcheruvu\\Desktop\\openvino_notebooks\\recipes\\automated_detection_tracking\\data\\asset.mp4: 640x640 1 person, 1 banana, 1 apple, 952.3ms\n"
     ]
    },
    {
     "name": "stdout",
     "output_type": "stream",
     "text": [
      "1 #1 banana ['1 #5 banana added to zone', '1 #4 banana added to zone', '1 #7 banana added to zone', '1 #9 banana added to zone', '1 #10 banana added to zone', '1 #11 bottle added to zone', '1 #11 banana added to zone', '1 #8 hot dog added to zone']\n",
      "1 #3 bottle ['1 #5 banana added to zone', '1 #4 banana added to zone', '1 #7 banana added to zone', '1 #9 banana added to zone', '1 #10 banana added to zone', '1 #11 bottle added to zone', '1 #11 banana added to zone', '1 #8 hot dog added to zone']\n"
     ]
    },
    {
     "name": "stderr",
     "output_type": "stream",
     "text": [
      "INFO:root:1 #1 banana removed from zone by person 4\n",
      "INFO:root:1 #3 bottle removed from zone by person 4\n",
      "INFO:root:1 #9 banana added to zone by person 4\n",
      "video 1/1 (323/640) C:\\Users\\rcheruvu\\Desktop\\openvino_notebooks\\recipes\\automated_detection_tracking\\data\\asset.mp4: 640x640 1 person, 1 banana, 1 apple, 970.9ms\n"
     ]
    },
    {
     "name": "stdout",
     "output_type": "stream",
     "text": [
      "1 #1 banana ['1 #5 banana added to zone', '1 #4 banana added to zone', '1 #7 banana added to zone', '1 #9 banana added to zone', '1 #10 banana added to zone', '1 #11 bottle added to zone', '1 #11 banana added to zone', '1 #8 hot dog added to zone']\n",
      "1 #3 bottle ['1 #5 banana added to zone', '1 #4 banana added to zone', '1 #7 banana added to zone', '1 #9 banana added to zone', '1 #10 banana added to zone', '1 #11 bottle added to zone', '1 #11 banana added to zone', '1 #8 hot dog added to zone']\n"
     ]
    },
    {
     "name": "stderr",
     "output_type": "stream",
     "text": [
      "INFO:root:1 #9 bottle added to zone by person 4\n",
      "video 1/1 (324/640) C:\\Users\\rcheruvu\\Desktop\\openvino_notebooks\\recipes\\automated_detection_tracking\\data\\asset.mp4: 640x640 1 person, 1 bottle, 1 apple, 985.2ms\n",
      "INFO:root:1 #9 bottle added to zone by person 4\n",
      "video 1/1 (325/640) C:\\Users\\rcheruvu\\Desktop\\openvino_notebooks\\recipes\\automated_detection_tracking\\data\\asset.mp4: 640x640 1 person, 1 bottle, 1 apple, 1015.7ms\n",
      "INFO:root:1 #9 bottle added to zone by person 4\n",
      "video 1/1 (326/640) C:\\Users\\rcheruvu\\Desktop\\openvino_notebooks\\recipes\\automated_detection_tracking\\data\\asset.mp4: 640x640 1 person, 1 bottle, 1 apple, 934.4ms\n",
      "INFO:root:1 #1 banana removed from zone by person 4\n",
      "INFO:root:1 #3 bottle removed from zone by person 4\n",
      "INFO:root:1 #9 banana added to zone by person 4\n"
     ]
    },
    {
     "name": "stdout",
     "output_type": "stream",
     "text": [
      "1 #1 banana ['1 #5 banana added to zone', '1 #4 banana added to zone', '1 #7 banana added to zone', '1 #9 banana added to zone', '1 #10 banana added to zone', '1 #11 bottle added to zone', '1 #11 banana added to zone', '1 #8 hot dog added to zone', '1 #9 bottle added to zone']\n",
      "1 #3 bottle ['1 #5 banana added to zone', '1 #4 banana added to zone', '1 #7 banana added to zone', '1 #9 banana added to zone', '1 #10 banana added to zone', '1 #11 bottle added to zone', '1 #11 banana added to zone', '1 #8 hot dog added to zone', '1 #9 bottle added to zone']\n"
     ]
    },
    {
     "name": "stderr",
     "output_type": "stream",
     "text": [
      "video 1/1 (327/640) C:\\Users\\rcheruvu\\Desktop\\openvino_notebooks\\recipes\\automated_detection_tracking\\data\\asset.mp4: 640x640 1 person, 1 banana, 1 apple, 1565.2ms\n",
      "INFO:root:1 #1 banana removed from zone by person 4\n",
      "INFO:root:1 #3 bottle removed from zone by person 4\n",
      "INFO:root:1 #9 banana added to zone by person 4\n",
      "video 1/1 (328/640) C:\\Users\\rcheruvu\\Desktop\\openvino_notebooks\\recipes\\automated_detection_tracking\\data\\asset.mp4: 640x640 1 person, 1 banana, 1 apple, 1436.4ms\n"
     ]
    },
    {
     "name": "stdout",
     "output_type": "stream",
     "text": [
      "1 #1 banana ['1 #5 banana added to zone', '1 #4 banana added to zone', '1 #7 banana added to zone', '1 #9 banana added to zone', '1 #10 banana added to zone', '1 #11 bottle added to zone', '1 #11 banana added to zone', '1 #8 hot dog added to zone', '1 #9 bottle added to zone']\n",
      "1 #3 bottle ['1 #5 banana added to zone', '1 #4 banana added to zone', '1 #7 banana added to zone', '1 #9 banana added to zone', '1 #10 banana added to zone', '1 #11 bottle added to zone', '1 #11 banana added to zone', '1 #8 hot dog added to zone', '1 #9 bottle added to zone']\n"
     ]
    },
    {
     "name": "stderr",
     "output_type": "stream",
     "text": [
      "INFO:root:1 #1 banana removed from zone by person 4\n",
      "INFO:root:1 #3 bottle removed from zone by person 4\n",
      "INFO:root:1 #9 banana added to zone by person 4\n",
      "video 1/1 (329/640) C:\\Users\\rcheruvu\\Desktop\\openvino_notebooks\\recipes\\automated_detection_tracking\\data\\asset.mp4: 640x640 1 person, 1 banana, 1 apple, 982.2ms\n"
     ]
    },
    {
     "name": "stdout",
     "output_type": "stream",
     "text": [
      "1 #1 banana ['1 #5 banana added to zone', '1 #4 banana added to zone', '1 #7 banana added to zone', '1 #9 banana added to zone', '1 #10 banana added to zone', '1 #11 bottle added to zone', '1 #11 banana added to zone', '1 #8 hot dog added to zone', '1 #9 bottle added to zone']\n",
      "1 #3 bottle ['1 #5 banana added to zone', '1 #4 banana added to zone', '1 #7 banana added to zone', '1 #9 banana added to zone', '1 #10 banana added to zone', '1 #11 bottle added to zone', '1 #11 banana added to zone', '1 #8 hot dog added to zone', '1 #9 bottle added to zone']\n"
     ]
    },
    {
     "name": "stderr",
     "output_type": "stream",
     "text": [
      "INFO:root:1 #1 banana removed from zone by person 4\n",
      "INFO:root:1 #3 bottle removed from zone by person 4\n",
      "INFO:root:1 #9 banana added to zone by person 4\n"
     ]
    },
    {
     "name": "stdout",
     "output_type": "stream",
     "text": [
      "1 #1 banana ['1 #5 banana added to zone', '1 #4 banana added to zone', '1 #7 banana added to zone', '1 #9 banana added to zone', '1 #10 banana added to zone', '1 #11 bottle added to zone', '1 #11 banana added to zone', '1 #8 hot dog added to zone', '1 #9 bottle added to zone']\n",
      "1 #3 bottle ['1 #5 banana added to zone', '1 #4 banana added to zone', '1 #7 banana added to zone', '1 #9 banana added to zone', '1 #10 banana added to zone', '1 #11 bottle added to zone', '1 #11 banana added to zone', '1 #8 hot dog added to zone', '1 #9 bottle added to zone']\n"
     ]
    },
    {
     "name": "stderr",
     "output_type": "stream",
     "text": [
      "video 1/1 (330/640) C:\\Users\\rcheruvu\\Desktop\\openvino_notebooks\\recipes\\automated_detection_tracking\\data\\asset.mp4: 640x640 1 person, 1 banana, 1 apple, 1013.9ms\n",
      "INFO:root:1 #1 banana removed from zone by person 4\n",
      "INFO:root:1 #3 bottle removed from zone by person 4\n",
      "INFO:root:1 #9 banana added to zone by person 4\n"
     ]
    },
    {
     "name": "stdout",
     "output_type": "stream",
     "text": [
      "1 #1 banana ['1 #5 banana added to zone', '1 #4 banana added to zone', '1 #7 banana added to zone', '1 #9 banana added to zone', '1 #10 banana added to zone', '1 #11 bottle added to zone', '1 #11 banana added to zone', '1 #8 hot dog added to zone', '1 #9 bottle added to zone']\n",
      "1 #3 bottle ['1 #5 banana added to zone', '1 #4 banana added to zone', '1 #7 banana added to zone', '1 #9 banana added to zone', '1 #10 banana added to zone', '1 #11 bottle added to zone', '1 #11 banana added to zone', '1 #8 hot dog added to zone', '1 #9 bottle added to zone']\n"
     ]
    },
    {
     "name": "stderr",
     "output_type": "stream",
     "text": [
      "video 1/1 (331/640) C:\\Users\\rcheruvu\\Desktop\\openvino_notebooks\\recipes\\automated_detection_tracking\\data\\asset.mp4: 640x640 1 person, 1 banana, 1 apple, 977.2ms\n",
      "INFO:root:1 #1 banana removed from zone by person 4\n",
      "INFO:root:1 #3 bottle removed from zone by person 4\n",
      "INFO:root:1 #9 banana added to zone by person 4\n",
      "video 1/1 (332/640) C:\\Users\\rcheruvu\\Desktop\\openvino_notebooks\\recipes\\automated_detection_tracking\\data\\asset.mp4: 640x640 1 person, 1 banana, 1 apple, 968.0ms\n"
     ]
    },
    {
     "name": "stdout",
     "output_type": "stream",
     "text": [
      "1 #1 banana ['1 #5 banana added to zone', '1 #4 banana added to zone', '1 #7 banana added to zone', '1 #9 banana added to zone', '1 #10 banana added to zone', '1 #11 bottle added to zone', '1 #11 banana added to zone', '1 #8 hot dog added to zone', '1 #9 bottle added to zone']\n",
      "1 #3 bottle ['1 #5 banana added to zone', '1 #4 banana added to zone', '1 #7 banana added to zone', '1 #9 banana added to zone', '1 #10 banana added to zone', '1 #11 bottle added to zone', '1 #11 banana added to zone', '1 #8 hot dog added to zone', '1 #9 bottle added to zone']\n"
     ]
    },
    {
     "name": "stderr",
     "output_type": "stream",
     "text": [
      "INFO:root:1 #1 banana removed from zone by person 4\n",
      "INFO:root:1 #3 bottle removed from zone by person 4\n",
      "INFO:root:1 #9 banana added to zone by person 4\n",
      "video 1/1 (333/640) C:\\Users\\rcheruvu\\Desktop\\openvino_notebooks\\recipes\\automated_detection_tracking\\data\\asset.mp4: 640x640 1 person, 1 banana, 1 apple, 928.8ms\n"
     ]
    },
    {
     "name": "stdout",
     "output_type": "stream",
     "text": [
      "1 #1 banana ['1 #5 banana added to zone', '1 #4 banana added to zone', '1 #7 banana added to zone', '1 #9 banana added to zone', '1 #10 banana added to zone', '1 #11 bottle added to zone', '1 #11 banana added to zone', '1 #8 hot dog added to zone', '1 #9 bottle added to zone']\n",
      "1 #3 bottle ['1 #5 banana added to zone', '1 #4 banana added to zone', '1 #7 banana added to zone', '1 #9 banana added to zone', '1 #10 banana added to zone', '1 #11 bottle added to zone', '1 #11 banana added to zone', '1 #8 hot dog added to zone', '1 #9 bottle added to zone']\n"
     ]
    },
    {
     "name": "stderr",
     "output_type": "stream",
     "text": [
      "INFO:root:1 #1 banana removed from zone by person 4\n",
      "INFO:root:1 #3 bottle removed from zone by person 4\n",
      "INFO:root:1 #9 banana added to zone by person 4\n",
      "video 1/1 (334/640) C:\\Users\\rcheruvu\\Desktop\\openvino_notebooks\\recipes\\automated_detection_tracking\\data\\asset.mp4: 640x640 1 person, 1 banana, 1 apple, 955.0ms\n"
     ]
    },
    {
     "name": "stdout",
     "output_type": "stream",
     "text": [
      "1 #1 banana ['1 #5 banana added to zone', '1 #4 banana added to zone', '1 #7 banana added to zone', '1 #9 banana added to zone', '1 #10 banana added to zone', '1 #11 bottle added to zone', '1 #11 banana added to zone', '1 #8 hot dog added to zone', '1 #9 bottle added to zone']\n",
      "1 #3 bottle ['1 #5 banana added to zone', '1 #4 banana added to zone', '1 #7 banana added to zone', '1 #9 banana added to zone', '1 #10 banana added to zone', '1 #11 bottle added to zone', '1 #11 banana added to zone', '1 #8 hot dog added to zone', '1 #9 bottle added to zone']\n"
     ]
    },
    {
     "name": "stderr",
     "output_type": "stream",
     "text": [
      "INFO:root:1 #9 banana added to zone by person 4\n",
      "INFO:root:1 #17 bottle added to zone by person 4\n",
      "video 1/1 (335/640) C:\\Users\\rcheruvu\\Desktop\\openvino_notebooks\\recipes\\automated_detection_tracking\\data\\asset.mp4: 640x640 1 person, 1 bottle, 1 banana, 1 apple, 1061.6ms\n",
      "INFO:root:1 #9 banana added to zone by person 4\n",
      "INFO:root:1 #17 bottle added to zone by person 4\n",
      "video 1/1 (336/640) C:\\Users\\rcheruvu\\Desktop\\openvino_notebooks\\recipes\\automated_detection_tracking\\data\\asset.mp4: 640x640 1 person, 1 bottle, 1 banana, 1 apple, 925.9ms\n",
      "INFO:root:1 #9 banana added to zone by person 4\n",
      "INFO:root:1 #17 bottle added to zone by person 4\n",
      "video 1/1 (337/640) C:\\Users\\rcheruvu\\Desktop\\openvino_notebooks\\recipes\\automated_detection_tracking\\data\\asset.mp4: 640x640 1 person, 1 bottle, 1 banana, 1 apple, 919.4ms\n",
      "INFO:root:1 #9 banana added to zone by person 4\n",
      "INFO:root:1 #17 bottle added to zone by person 4\n",
      "video 1/1 (338/640) C:\\Users\\rcheruvu\\Desktop\\openvino_notebooks\\recipes\\automated_detection_tracking\\data\\asset.mp4: 640x640 1 person, 1 bottle, 1 banana, 1 apple, 953.7ms\n",
      "INFO:root:1 #9 banana added to zone by person 4\n",
      "INFO:root:1 #17 bottle added to zone by person 4\n",
      "video 1/1 (339/640) C:\\Users\\rcheruvu\\Desktop\\openvino_notebooks\\recipes\\automated_detection_tracking\\data\\asset.mp4: 640x640 1 person, 1 bottle, 1 banana, 1 apple, 1062.2ms\n",
      "INFO:root:1 #9 banana added to zone by person 4\n",
      "INFO:root:1 #17 bottle added to zone by person 4\n",
      "video 1/1 (340/640) C:\\Users\\rcheruvu\\Desktop\\openvino_notebooks\\recipes\\automated_detection_tracking\\data\\asset.mp4: 640x640 1 person, 1 bottle, 1 banana, 1 apple, 848.2ms\n",
      "INFO:root:1 #9 banana added to zone by person 4\n",
      "INFO:root:1 #17 bottle added to zone by person 4\n",
      "video 1/1 (341/640) C:\\Users\\rcheruvu\\Desktop\\openvino_notebooks\\recipes\\automated_detection_tracking\\data\\asset.mp4: 640x640 1 person, 1 bottle, 1 banana, 1 apple, 870.6ms\n",
      "INFO:root:1 #9 banana added to zone by person 4\n",
      "INFO:root:1 #17 bottle added to zone by person 4\n",
      "video 1/1 (342/640) C:\\Users\\rcheruvu\\Desktop\\openvino_notebooks\\recipes\\automated_detection_tracking\\data\\asset.mp4: 640x640 1 person, 1 bottle, 1 banana, 1 apple, 922.3ms\n",
      "INFO:root:1 #9 banana added to zone by person 4\n",
      "INFO:root:1 #17 bottle added to zone by person 4\n",
      "video 1/1 (343/640) C:\\Users\\rcheruvu\\Desktop\\openvino_notebooks\\recipes\\automated_detection_tracking\\data\\asset.mp4: 640x640 1 person, 1 bottle, 1 banana, 1 apple, 955.4ms\n",
      "INFO:root:1 #9 banana added to zone by person 4\n",
      "INFO:root:1 #17 bottle added to zone by person 4\n",
      "video 1/1 (344/640) C:\\Users\\rcheruvu\\Desktop\\openvino_notebooks\\recipes\\automated_detection_tracking\\data\\asset.mp4: 640x640 1 person, 1 bottle, 1 banana, 1 apple, 913.6ms\n",
      "INFO:root:1 #9 banana added to zone by person 4\n",
      "INFO:root:1 #17 bottle added to zone by person 4\n",
      "video 1/1 (345/640) C:\\Users\\rcheruvu\\Desktop\\openvino_notebooks\\recipes\\automated_detection_tracking\\data\\asset.mp4: 640x640 1 person, 1 bottle, 1 banana, 1 apple, 968.6ms\n",
      "INFO:root:1 #9 banana added to zone by person 4\n",
      "INFO:root:1 #17 bottle added to zone by person 4\n",
      "video 1/1 (346/640) C:\\Users\\rcheruvu\\Desktop\\openvino_notebooks\\recipes\\automated_detection_tracking\\data\\asset.mp4: 640x640 1 person, 1 bottle, 1 banana, 1 apple, 910.7ms\n",
      "INFO:root:1 #9 banana added to zone by person 4\n",
      "INFO:root:1 #17 bottle added to zone by person 4\n",
      "video 1/1 (347/640) C:\\Users\\rcheruvu\\Desktop\\openvino_notebooks\\recipes\\automated_detection_tracking\\data\\asset.mp4: 640x640 1 person, 1 bottle, 1 banana, 1 apple, 946.3ms\n",
      "INFO:root:1 #9 banana added to zone by person 4\n",
      "INFO:root:1 #17 bottle added to zone by person 4\n",
      "video 1/1 (348/640) C:\\Users\\rcheruvu\\Desktop\\openvino_notebooks\\recipes\\automated_detection_tracking\\data\\asset.mp4: 640x640 1 person, 1 bottle, 1 banana, 1 apple, 959.9ms\n",
      "INFO:root:1 #9 banana added to zone by person 4\n",
      "INFO:root:1 #17 bottle added to zone by person 4\n",
      "video 1/1 (349/640) C:\\Users\\rcheruvu\\Desktop\\openvino_notebooks\\recipes\\automated_detection_tracking\\data\\asset.mp4: 640x640 1 person, 1 bottle, 1 banana, 1 apple, 994.5ms\n",
      "INFO:root:1 #9 banana added to zone by person 4\n",
      "INFO:root:1 #17 bottle added to zone by person 4\n",
      "video 1/1 (350/640) C:\\Users\\rcheruvu\\Desktop\\openvino_notebooks\\recipes\\automated_detection_tracking\\data\\asset.mp4: 640x640 1 person, 1 bottle, 1 banana, 1 apple, 2097.0ms\n",
      "INFO:root:1 #9 banana added to zone by person 4\n",
      "INFO:root:1 #17 bottle added to zone by person 4\n",
      "video 1/1 (351/640) C:\\Users\\rcheruvu\\Desktop\\openvino_notebooks\\recipes\\automated_detection_tracking\\data\\asset.mp4: 640x640 1 person, 1 bottle, 1 banana, 1 apple, 2129.5ms\n",
      "INFO:root:1 #9 banana added to zone by person 4\n",
      "INFO:root:1 #17 bottle added to zone by person 4\n",
      "video 1/1 (352/640) C:\\Users\\rcheruvu\\Desktop\\openvino_notebooks\\recipes\\automated_detection_tracking\\data\\asset.mp4: 640x640 1 person, 1 bottle, 1 banana, 1 apple, 972.9ms\n",
      "INFO:root:1 #9 banana added to zone by person 4\n",
      "INFO:root:1 #17 bottle added to zone by person 4\n",
      "video 1/1 (353/640) C:\\Users\\rcheruvu\\Desktop\\openvino_notebooks\\recipes\\automated_detection_tracking\\data\\asset.mp4: 640x640 1 person, 1 bottle, 1 banana, 1 apple, 1017.1ms\n",
      "INFO:root:1 #9 banana added to zone by person 4\n",
      "INFO:root:1 #17 bottle added to zone by person 4\n",
      "video 1/1 (354/640) C:\\Users\\rcheruvu\\Desktop\\openvino_notebooks\\recipes\\automated_detection_tracking\\data\\asset.mp4: 640x640 1 person, 1 bottle, 1 banana, 1 apple, 980.3ms\n",
      "INFO:root:1 #9 banana added to zone by person 4\n",
      "INFO:root:1 #17 bottle added to zone by person 4\n",
      "video 1/1 (355/640) C:\\Users\\rcheruvu\\Desktop\\openvino_notebooks\\recipes\\automated_detection_tracking\\data\\asset.mp4: 640x640 1 person, 1 bottle, 1 banana, 1 apple, 962.9ms\n",
      "INFO:root:1 #9 banana added to zone by person 4\n",
      "INFO:root:1 #17 bottle added to zone by person 4\n",
      "video 1/1 (356/640) C:\\Users\\rcheruvu\\Desktop\\openvino_notebooks\\recipes\\automated_detection_tracking\\data\\asset.mp4: 640x640 1 person, 1 bottle, 1 banana, 1 apple, 1090.1ms\n",
      "INFO:root:1 #9 banana added to zone by person 4\n",
      "INFO:root:1 #17 bottle added to zone by person 4\n",
      "video 1/1 (357/640) C:\\Users\\rcheruvu\\Desktop\\openvino_notebooks\\recipes\\automated_detection_tracking\\data\\asset.mp4: 640x640 1 person, 1 bottle, 1 banana, 1 apple, 1033.4ms\n",
      "INFO:root:1 #9 banana added to zone by person 4\n",
      "INFO:root:1 #17 bottle added to zone by person 4\n",
      "video 1/1 (358/640) C:\\Users\\rcheruvu\\Desktop\\openvino_notebooks\\recipes\\automated_detection_tracking\\data\\asset.mp4: 640x640 1 person, 1 bottle, 1 banana, 1 apple, 1035.7ms\n",
      "INFO:root:1 #9 banana added to zone by person 4\n",
      "INFO:root:1 #17 bottle added to zone by person 4\n",
      "video 1/1 (359/640) C:\\Users\\rcheruvu\\Desktop\\openvino_notebooks\\recipes\\automated_detection_tracking\\data\\asset.mp4: 640x640 1 person, 1 bottle, 1 banana, 1 apple, 1118.9ms\n",
      "INFO:root:1 #9 banana added to zone by person 4\n",
      "INFO:root:1 #17 bottle added to zone by person 4\n",
      "video 1/1 (360/640) C:\\Users\\rcheruvu\\Desktop\\openvino_notebooks\\recipes\\automated_detection_tracking\\data\\asset.mp4: 640x640 1 person, 1 bottle, 1 banana, 1 apple, 1219.6ms\n",
      "INFO:root:1 #9 banana added to zone by person 4\n",
      "INFO:root:1 #17 bottle added to zone by person 4\n",
      "video 1/1 (361/640) C:\\Users\\rcheruvu\\Desktop\\openvino_notebooks\\recipes\\automated_detection_tracking\\data\\asset.mp4: 640x640 1 person, 1 bottle, 1 banana, 1 apple, 930.2ms\n",
      "INFO:root:1 #9 banana added to zone by person 4\n",
      "INFO:root:1 #17 bottle added to zone by person 4\n",
      "video 1/1 (362/640) C:\\Users\\rcheruvu\\Desktop\\openvino_notebooks\\recipes\\automated_detection_tracking\\data\\asset.mp4: 640x640 1 person, 1 bottle, 1 banana, 1 apple, 837.6ms\n",
      "INFO:root:1 #9 banana added to zone by person 4\n",
      "INFO:root:1 #17 bottle added to zone by person 4\n",
      "video 1/1 (363/640) C:\\Users\\rcheruvu\\Desktop\\openvino_notebooks\\recipes\\automated_detection_tracking\\data\\asset.mp4: 640x640 1 person, 1 bottle, 1 banana, 1 apple, 929.4ms\n",
      "INFO:root:1 #9 banana added to zone by person 4\n",
      "INFO:root:1 #17 bottle added to zone by person 4\n",
      "video 1/1 (364/640) C:\\Users\\rcheruvu\\Desktop\\openvino_notebooks\\recipes\\automated_detection_tracking\\data\\asset.mp4: 640x640 1 person, 1 bottle, 1 banana, 1 apple, 1007.4ms\n",
      "INFO:root:1 #9 banana added to zone by person 4\n",
      "INFO:root:1 #17 bottle added to zone by person 4\n",
      "video 1/1 (365/640) C:\\Users\\rcheruvu\\Desktop\\openvino_notebooks\\recipes\\automated_detection_tracking\\data\\asset.mp4: 640x640 1 person, 1 bottle, 1 banana, 1 apple, 1073.7ms\n",
      "INFO:root:1 #9 banana added to zone by person 4\n",
      "INFO:root:1 #17 bottle added to zone by person 4\n",
      "video 1/1 (366/640) C:\\Users\\rcheruvu\\Desktop\\openvino_notebooks\\recipes\\automated_detection_tracking\\data\\asset.mp4: 640x640 1 person, 1 bottle, 1 banana, 1 apple, 990.1ms\n",
      "INFO:root:1 #9 banana added to zone by person 4\n",
      "INFO:root:1 #17 bottle added to zone by person 4\n",
      "video 1/1 (367/640) C:\\Users\\rcheruvu\\Desktop\\openvino_notebooks\\recipes\\automated_detection_tracking\\data\\asset.mp4: 640x640 1 person, 1 bottle, 1 banana, 1 apple, 951.1ms\n",
      "INFO:root:1 #9 banana added to zone by person 4\n",
      "INFO:root:1 #17 bottle added to zone by person 4\n",
      "video 1/1 (368/640) C:\\Users\\rcheruvu\\Desktop\\openvino_notebooks\\recipes\\automated_detection_tracking\\data\\asset.mp4: 640x640 1 person, 1 bottle, 1 banana, 1 apple, 1398.7ms\n",
      "INFO:root:1 #9 banana added to zone by person 4\n",
      "INFO:root:1 #17 bottle added to zone by person 4\n",
      "video 1/1 (369/640) C:\\Users\\rcheruvu\\Desktop\\openvino_notebooks\\recipes\\automated_detection_tracking\\data\\asset.mp4: 640x640 1 person, 1 bottle, 1 banana, 1 apple, 1195.5ms\n",
      "INFO:root:1 #9 banana added to zone by person 4\n",
      "INFO:root:1 #17 bottle added to zone by person 4\n",
      "video 1/1 (370/640) C:\\Users\\rcheruvu\\Desktop\\openvino_notebooks\\recipes\\automated_detection_tracking\\data\\asset.mp4: 640x640 1 person, 1 bottle, 1 banana, 1 apple, 933.6ms\n",
      "INFO:root:1 #9 banana added to zone by person 4\n",
      "INFO:root:1 #17 bottle added to zone by person 4\n",
      "video 1/1 (371/640) C:\\Users\\rcheruvu\\Desktop\\openvino_notebooks\\recipes\\automated_detection_tracking\\data\\asset.mp4: 640x640 1 person, 1 bottle, 1 banana, 1 apple, 923.4ms\n",
      "INFO:root:1 #9 banana added to zone by person 4\n",
      "INFO:root:1 #17 bottle added to zone by person 4\n",
      "video 1/1 (372/640) C:\\Users\\rcheruvu\\Desktop\\openvino_notebooks\\recipes\\automated_detection_tracking\\data\\asset.mp4: 640x640 1 person, 1 bottle, 1 banana, 1 apple, 976.4ms\n",
      "INFO:root:1 #9 banana added to zone by person 4\n",
      "INFO:root:1 #17 bottle added to zone by person 4\n",
      "video 1/1 (373/640) C:\\Users\\rcheruvu\\Desktop\\openvino_notebooks\\recipes\\automated_detection_tracking\\data\\asset.mp4: 640x640 1 person, 1 bottle, 1 banana, 1 apple, 961.8ms\n",
      "INFO:root:1 #1 banana removed from zone by person 4\n",
      "INFO:root:1 #2 apple removed from zone by person 4\n",
      "INFO:root:1 #3 bottle removed from zone by person 4\n",
      "INFO:root:1 #9 banana added to zone by person 4\n",
      "INFO:root:1 #17 bottle added to zone by person 4\n"
     ]
    },
    {
     "name": "stdout",
     "output_type": "stream",
     "text": [
      "1 #1 banana ['1 #5 banana added to zone', '1 #4 banana added to zone', '1 #7 banana added to zone', '1 #9 banana added to zone', '1 #10 banana added to zone', '1 #11 bottle added to zone', '1 #11 banana added to zone', '1 #8 hot dog added to zone', '1 #9 bottle added to zone', '1 #17 bottle added to zone']\n",
      "1 #2 apple ['1 #5 banana added to zone', '1 #4 banana added to zone', '1 #7 banana added to zone', '1 #9 banana added to zone', '1 #10 banana added to zone', '1 #11 bottle added to zone', '1 #11 banana added to zone', '1 #8 hot dog added to zone', '1 #9 bottle added to zone', '1 #17 bottle added to zone']\n",
      "1 #3 bottle ['1 #5 banana added to zone', '1 #4 banana added to zone', '1 #7 banana added to zone', '1 #9 banana added to zone', '1 #10 banana added to zone', '1 #11 bottle added to zone', '1 #11 banana added to zone', '1 #8 hot dog added to zone', '1 #9 bottle added to zone', '1 #17 bottle added to zone']\n"
     ]
    },
    {
     "name": "stderr",
     "output_type": "stream",
     "text": [
      "video 1/1 (374/640) C:\\Users\\rcheruvu\\Desktop\\openvino_notebooks\\recipes\\automated_detection_tracking\\data\\asset.mp4: 640x640 1 person, 1 bottle, 1 banana, 1190.4ms\n",
      "INFO:root:1 #9 banana added to zone by person 4\n",
      "INFO:root:1 #17 bottle added to zone by person 4\n",
      "INFO:root:1 #18 bottle added to zone by person 4\n",
      "video 1/1 (375/640) C:\\Users\\rcheruvu\\Desktop\\openvino_notebooks\\recipes\\automated_detection_tracking\\data\\asset.mp4: 640x640 1 person, 2 bottles, 1 banana, 1015.6ms\n",
      "INFO:root:1 #1 banana removed from zone by person 4\n",
      "INFO:root:1 #2 apple removed from zone by person 4\n",
      "INFO:root:1 #3 bottle removed from zone by person 4\n",
      "INFO:root:1 #9 banana added to zone by person 4\n",
      "INFO:root:1 #17 bottle added to zone by person 4\n",
      "INFO:root:1 #18 bottle added to zone by person 4\n"
     ]
    },
    {
     "name": "stdout",
     "output_type": "stream",
     "text": [
      "1 #1 banana ['1 #5 banana added to zone', '1 #4 banana added to zone', '1 #7 banana added to zone', '1 #9 banana added to zone', '1 #10 banana added to zone', '1 #11 bottle added to zone', '1 #11 banana added to zone', '1 #8 hot dog added to zone', '1 #9 bottle added to zone', '1 #17 bottle added to zone', '1 #18 bottle added to zone']\n",
      "1 #2 apple ['1 #5 banana added to zone', '1 #4 banana added to zone', '1 #7 banana added to zone', '1 #9 banana added to zone', '1 #10 banana added to zone', '1 #11 bottle added to zone', '1 #11 banana added to zone', '1 #8 hot dog added to zone', '1 #9 bottle added to zone', '1 #17 bottle added to zone', '1 #18 bottle added to zone']\n",
      "1 #3 bottle ['1 #5 banana added to zone', '1 #4 banana added to zone', '1 #7 banana added to zone', '1 #9 banana added to zone', '1 #10 banana added to zone', '1 #11 bottle added to zone', '1 #11 banana added to zone', '1 #8 hot dog added to zone', '1 #9 bottle added to zone', '1 #17 bottle added to zone', '1 #18 bottle added to zone']\n"
     ]
    },
    {
     "name": "stderr",
     "output_type": "stream",
     "text": [
      "video 1/1 (376/640) C:\\Users\\rcheruvu\\Desktop\\openvino_notebooks\\recipes\\automated_detection_tracking\\data\\asset.mp4: 640x640 1 person, 2 bottles, 1 banana, 1273.5ms\n",
      "INFO:root:1 #1 banana removed from zone by person 4\n",
      "INFO:root:1 #2 apple removed from zone by person 4\n",
      "INFO:root:1 #3 bottle removed from zone by person 4\n",
      "INFO:root:1 #9 banana added to zone by person 4\n",
      "INFO:root:1 #17 bottle added to zone by person 4\n",
      "INFO:root:1 #18 bottle added to zone by person 4\n",
      "video 1/1 (377/640) C:\\Users\\rcheruvu\\Desktop\\openvino_notebooks\\recipes\\automated_detection_tracking\\data\\asset.mp4: 640x640 1 person, 2 bottles, 1 banana, 1139.4ms\n"
     ]
    },
    {
     "name": "stdout",
     "output_type": "stream",
     "text": [
      "1 #1 banana ['1 #5 banana added to zone', '1 #4 banana added to zone', '1 #7 banana added to zone', '1 #9 banana added to zone', '1 #10 banana added to zone', '1 #11 bottle added to zone', '1 #11 banana added to zone', '1 #8 hot dog added to zone', '1 #9 bottle added to zone', '1 #17 bottle added to zone', '1 #18 bottle added to zone']\n",
      "1 #2 apple ['1 #5 banana added to zone', '1 #4 banana added to zone', '1 #7 banana added to zone', '1 #9 banana added to zone', '1 #10 banana added to zone', '1 #11 bottle added to zone', '1 #11 banana added to zone', '1 #8 hot dog added to zone', '1 #9 bottle added to zone', '1 #17 bottle added to zone', '1 #18 bottle added to zone']\n",
      "1 #3 bottle ['1 #5 banana added to zone', '1 #4 banana added to zone', '1 #7 banana added to zone', '1 #9 banana added to zone', '1 #10 banana added to zone', '1 #11 bottle added to zone', '1 #11 banana added to zone', '1 #8 hot dog added to zone', '1 #9 bottle added to zone', '1 #17 bottle added to zone', '1 #18 bottle added to zone']\n"
     ]
    },
    {
     "name": "stderr",
     "output_type": "stream",
     "text": [
      "INFO:root:1 #1 banana removed from zone by person 4\n",
      "INFO:root:1 #2 apple removed from zone by person 4\n",
      "INFO:root:1 #3 bottle removed from zone by person 4\n",
      "INFO:root:1 #9 banana added to zone by person 4\n",
      "INFO:root:1 #17 bottle added to zone by person 4\n",
      "INFO:root:1 #18 bottle added to zone by person 4\n",
      "INFO:root:1 #19 apple added to zone by person 4\n"
     ]
    },
    {
     "name": "stdout",
     "output_type": "stream",
     "text": [
      "1 #1 banana ['1 #5 banana added to zone', '1 #4 banana added to zone', '1 #7 banana added to zone', '1 #9 banana added to zone', '1 #10 banana added to zone', '1 #11 bottle added to zone', '1 #11 banana added to zone', '1 #8 hot dog added to zone', '1 #9 bottle added to zone', '1 #17 bottle added to zone', '1 #18 bottle added to zone']\n",
      "1 #2 apple ['1 #5 banana added to zone', '1 #4 banana added to zone', '1 #7 banana added to zone', '1 #9 banana added to zone', '1 #10 banana added to zone', '1 #11 bottle added to zone', '1 #11 banana added to zone', '1 #8 hot dog added to zone', '1 #9 bottle added to zone', '1 #17 bottle added to zone', '1 #18 bottle added to zone']\n",
      "1 #3 bottle ['1 #5 banana added to zone', '1 #4 banana added to zone', '1 #7 banana added to zone', '1 #9 banana added to zone', '1 #10 banana added to zone', '1 #11 bottle added to zone', '1 #11 banana added to zone', '1 #8 hot dog added to zone', '1 #9 bottle added to zone', '1 #17 bottle added to zone', '1 #18 bottle added to zone']\n"
     ]
    },
    {
     "name": "stderr",
     "output_type": "stream",
     "text": [
      "video 1/1 (378/640) C:\\Users\\rcheruvu\\Desktop\\openvino_notebooks\\recipes\\automated_detection_tracking\\data\\asset.mp4: 640x640 1 person, 2 bottles, 1 banana, 1 apple, 883.8ms\n",
      "INFO:root:1 #1 banana removed from zone by person 4\n",
      "INFO:root:1 #2 apple removed from zone by person 4\n",
      "INFO:root:1 #3 bottle removed from zone by person 4\n",
      "INFO:root:1 #9 banana added to zone by person 4\n",
      "INFO:root:1 #17 bottle added to zone by person 4\n",
      "INFO:root:1 #18 bottle added to zone by person 4\n",
      "INFO:root:1 #19 apple added to zone by person 4\n",
      "video 1/1 (379/640) C:\\Users\\rcheruvu\\Desktop\\openvino_notebooks\\recipes\\automated_detection_tracking\\data\\asset.mp4: 640x640 1 person, 2 bottles, 1 banana, 1 apple, 941.4ms\n"
     ]
    },
    {
     "name": "stdout",
     "output_type": "stream",
     "text": [
      "1 #1 banana ['1 #5 banana added to zone', '1 #4 banana added to zone', '1 #7 banana added to zone', '1 #9 banana added to zone', '1 #10 banana added to zone', '1 #11 bottle added to zone', '1 #11 banana added to zone', '1 #8 hot dog added to zone', '1 #9 bottle added to zone', '1 #17 bottle added to zone', '1 #18 bottle added to zone', '1 #19 apple added to zone']\n",
      "1 #2 apple ['1 #5 banana added to zone', '1 #4 banana added to zone', '1 #7 banana added to zone', '1 #9 banana added to zone', '1 #10 banana added to zone', '1 #11 bottle added to zone', '1 #11 banana added to zone', '1 #8 hot dog added to zone', '1 #9 bottle added to zone', '1 #17 bottle added to zone', '1 #18 bottle added to zone', '1 #19 apple added to zone']\n",
      "1 #3 bottle ['1 #5 banana added to zone', '1 #4 banana added to zone', '1 #7 banana added to zone', '1 #9 banana added to zone', '1 #10 banana added to zone', '1 #11 bottle added to zone', '1 #11 banana added to zone', '1 #8 hot dog added to zone', '1 #9 bottle added to zone', '1 #17 bottle added to zone', '1 #18 bottle added to zone', '1 #19 apple added to zone']\n"
     ]
    },
    {
     "name": "stderr",
     "output_type": "stream",
     "text": [
      "INFO:root:1 #1 banana removed from zone by person 4\n",
      "INFO:root:1 #2 apple removed from zone by person 4\n",
      "INFO:root:1 #3 bottle removed from zone by person 4\n",
      "INFO:root:1 #9 banana added to zone by person 4\n",
      "INFO:root:1 #17 bottle added to zone by person 4\n",
      "INFO:root:1 #18 bottle added to zone by person 4\n"
     ]
    },
    {
     "name": "stdout",
     "output_type": "stream",
     "text": [
      "1 #1 banana ['1 #5 banana added to zone', '1 #4 banana added to zone', '1 #7 banana added to zone', '1 #9 banana added to zone', '1 #10 banana added to zone', '1 #11 bottle added to zone', '1 #11 banana added to zone', '1 #8 hot dog added to zone', '1 #9 bottle added to zone', '1 #17 bottle added to zone', '1 #18 bottle added to zone', '1 #19 apple added to zone']\n",
      "1 #2 apple ['1 #5 banana added to zone', '1 #4 banana added to zone', '1 #7 banana added to zone', '1 #9 banana added to zone', '1 #10 banana added to zone', '1 #11 bottle added to zone', '1 #11 banana added to zone', '1 #8 hot dog added to zone', '1 #9 bottle added to zone', '1 #17 bottle added to zone', '1 #18 bottle added to zone', '1 #19 apple added to zone']\n",
      "1 #3 bottle ['1 #5 banana added to zone', '1 #4 banana added to zone', '1 #7 banana added to zone', '1 #9 banana added to zone', '1 #10 banana added to zone', '1 #11 bottle added to zone', '1 #11 banana added to zone', '1 #8 hot dog added to zone', '1 #9 bottle added to zone', '1 #17 bottle added to zone', '1 #18 bottle added to zone', '1 #19 apple added to zone']\n"
     ]
    },
    {
     "name": "stderr",
     "output_type": "stream",
     "text": [
      "video 1/1 (380/640) C:\\Users\\rcheruvu\\Desktop\\openvino_notebooks\\recipes\\automated_detection_tracking\\data\\asset.mp4: 640x640 1 person, 2 bottles, 1 banana, 876.9ms\n",
      "INFO:root:1 #1 banana removed from zone by person 8\n",
      "INFO:root:1 #2 apple removed from zone by person 8\n",
      "INFO:root:1 #3 bottle removed from zone by person 8\n",
      "INFO:root:1 #9 banana added to zone by person 8\n",
      "INFO:root:1 #17 bottle added to zone by person 8\n",
      "INFO:root:1 #18 bottle added to zone by person 8\n"
     ]
    },
    {
     "name": "stdout",
     "output_type": "stream",
     "text": [
      "1 #1 banana ['1 #5 banana added to zone', '1 #4 banana added to zone', '1 #7 banana added to zone', '1 #9 banana added to zone', '1 #10 banana added to zone', '1 #11 bottle added to zone', '1 #11 banana added to zone', '1 #8 hot dog added to zone', '1 #9 bottle added to zone', '1 #17 bottle added to zone', '1 #18 bottle added to zone', '1 #19 apple added to zone']\n",
      "1 #2 apple ['1 #5 banana added to zone', '1 #4 banana added to zone', '1 #7 banana added to zone', '1 #9 banana added to zone', '1 #10 banana added to zone', '1 #11 bottle added to zone', '1 #11 banana added to zone', '1 #8 hot dog added to zone', '1 #9 bottle added to zone', '1 #17 bottle added to zone', '1 #18 bottle added to zone', '1 #19 apple added to zone']\n",
      "1 #3 bottle ['1 #5 banana added to zone', '1 #4 banana added to zone', '1 #7 banana added to zone', '1 #9 banana added to zone', '1 #10 banana added to zone', '1 #11 bottle added to zone', '1 #11 banana added to zone', '1 #8 hot dog added to zone', '1 #9 bottle added to zone', '1 #17 bottle added to zone', '1 #18 bottle added to zone', '1 #19 apple added to zone']\n"
     ]
    },
    {
     "name": "stderr",
     "output_type": "stream",
     "text": [
      "video 1/1 (381/640) C:\\Users\\rcheruvu\\Desktop\\openvino_notebooks\\recipes\\automated_detection_tracking\\data\\asset.mp4: 640x640 1 person, 2 bottles, 1 banana, 1151.5ms\n",
      "INFO:root:1 #1 banana removed from zone by person 8\n",
      "INFO:root:1 #2 apple removed from zone by person 8\n",
      "INFO:root:1 #3 bottle removed from zone by person 8\n",
      "INFO:root:1 #9 banana added to zone by person 8\n",
      "INFO:root:1 #17 bottle added to zone by person 8\n",
      "INFO:root:1 #18 bottle added to zone by person 8\n",
      "video 1/1 (382/640) C:\\Users\\rcheruvu\\Desktop\\openvino_notebooks\\recipes\\automated_detection_tracking\\data\\asset.mp4: 640x640 1 person, 2 bottles, 1 banana, 1236.4ms\n"
     ]
    },
    {
     "name": "stdout",
     "output_type": "stream",
     "text": [
      "1 #1 banana ['1 #5 banana added to zone', '1 #4 banana added to zone', '1 #7 banana added to zone', '1 #9 banana added to zone', '1 #10 banana added to zone', '1 #11 bottle added to zone', '1 #11 banana added to zone', '1 #8 hot dog added to zone', '1 #9 bottle added to zone', '1 #17 bottle added to zone', '1 #18 bottle added to zone', '1 #19 apple added to zone']\n",
      "1 #2 apple ['1 #5 banana added to zone', '1 #4 banana added to zone', '1 #7 banana added to zone', '1 #9 banana added to zone', '1 #10 banana added to zone', '1 #11 bottle added to zone', '1 #11 banana added to zone', '1 #8 hot dog added to zone', '1 #9 bottle added to zone', '1 #17 bottle added to zone', '1 #18 bottle added to zone', '1 #19 apple added to zone']\n",
      "1 #3 bottle ['1 #5 banana added to zone', '1 #4 banana added to zone', '1 #7 banana added to zone', '1 #9 banana added to zone', '1 #10 banana added to zone', '1 #11 bottle added to zone', '1 #11 banana added to zone', '1 #8 hot dog added to zone', '1 #9 bottle added to zone', '1 #17 bottle added to zone', '1 #18 bottle added to zone', '1 #19 apple added to zone']\n"
     ]
    },
    {
     "name": "stderr",
     "output_type": "stream",
     "text": [
      "INFO:root:1 #1 banana removed from zone by person 8\n",
      "INFO:root:1 #2 apple removed from zone by person 8\n",
      "INFO:root:1 #3 bottle removed from zone by person 8\n",
      "INFO:root:1 #9 banana added to zone by person 8\n",
      "INFO:root:1 #17 bottle added to zone by person 8\n",
      "INFO:root:1 #18 bottle added to zone by person 8\n"
     ]
    },
    {
     "name": "stdout",
     "output_type": "stream",
     "text": [
      "1 #1 banana ['1 #5 banana added to zone', '1 #4 banana added to zone', '1 #7 banana added to zone', '1 #9 banana added to zone', '1 #10 banana added to zone', '1 #11 bottle added to zone', '1 #11 banana added to zone', '1 #8 hot dog added to zone', '1 #9 bottle added to zone', '1 #17 bottle added to zone', '1 #18 bottle added to zone', '1 #19 apple added to zone']\n",
      "1 #2 apple ['1 #5 banana added to zone', '1 #4 banana added to zone', '1 #7 banana added to zone', '1 #9 banana added to zone', '1 #10 banana added to zone', '1 #11 bottle added to zone', '1 #11 banana added to zone', '1 #8 hot dog added to zone', '1 #9 bottle added to zone', '1 #17 bottle added to zone', '1 #18 bottle added to zone', '1 #19 apple added to zone']\n",
      "1 #3 bottle ['1 #5 banana added to zone', '1 #4 banana added to zone', '1 #7 banana added to zone', '1 #9 banana added to zone', '1 #10 banana added to zone', '1 #11 bottle added to zone', '1 #11 banana added to zone', '1 #8 hot dog added to zone', '1 #9 bottle added to zone', '1 #17 bottle added to zone', '1 #18 bottle added to zone', '1 #19 apple added to zone']\n"
     ]
    },
    {
     "name": "stderr",
     "output_type": "stream",
     "text": [
      "video 1/1 (383/640) C:\\Users\\rcheruvu\\Desktop\\openvino_notebooks\\recipes\\automated_detection_tracking\\data\\asset.mp4: 640x640 1 person, 2 bottles, 1 banana, 1339.4ms\n",
      "INFO:root:1 #1 banana removed from zone by person 8\n",
      "INFO:root:1 #2 apple removed from zone by person 8\n",
      "INFO:root:1 #3 bottle removed from zone by person 8\n",
      "INFO:root:1 #9 banana added to zone by person 8\n",
      "INFO:root:1 #17 bottle added to zone by person 8\n",
      "INFO:root:1 #18 bottle added to zone by person 8\n",
      "video 1/1 (384/640) C:\\Users\\rcheruvu\\Desktop\\openvino_notebooks\\recipes\\automated_detection_tracking\\data\\asset.mp4: 640x640 1 person, 2 bottles, 1 banana, 942.3ms\n"
     ]
    },
    {
     "name": "stdout",
     "output_type": "stream",
     "text": [
      "1 #1 banana ['1 #5 banana added to zone', '1 #4 banana added to zone', '1 #7 banana added to zone', '1 #9 banana added to zone', '1 #10 banana added to zone', '1 #11 bottle added to zone', '1 #11 banana added to zone', '1 #8 hot dog added to zone', '1 #9 bottle added to zone', '1 #17 bottle added to zone', '1 #18 bottle added to zone', '1 #19 apple added to zone']\n",
      "1 #2 apple ['1 #5 banana added to zone', '1 #4 banana added to zone', '1 #7 banana added to zone', '1 #9 banana added to zone', '1 #10 banana added to zone', '1 #11 bottle added to zone', '1 #11 banana added to zone', '1 #8 hot dog added to zone', '1 #9 bottle added to zone', '1 #17 bottle added to zone', '1 #18 bottle added to zone', '1 #19 apple added to zone']\n",
      "1 #3 bottle ['1 #5 banana added to zone', '1 #4 banana added to zone', '1 #7 banana added to zone', '1 #9 banana added to zone', '1 #10 banana added to zone', '1 #11 bottle added to zone', '1 #11 banana added to zone', '1 #8 hot dog added to zone', '1 #9 bottle added to zone', '1 #17 bottle added to zone', '1 #18 bottle added to zone', '1 #19 apple added to zone']\n"
     ]
    },
    {
     "name": "stderr",
     "output_type": "stream",
     "text": [
      "INFO:root:1 #1 banana removed from zone by person 8\n",
      "INFO:root:1 #2 apple removed from zone by person 8\n",
      "INFO:root:1 #3 bottle removed from zone by person 8\n",
      "INFO:root:1 #9 banana added to zone by person 8\n",
      "INFO:root:1 #17 bottle added to zone by person 8\n",
      "INFO:root:1 #18 bottle added to zone by person 8\n",
      "video 1/1 (385/640) C:\\Users\\rcheruvu\\Desktop\\openvino_notebooks\\recipes\\automated_detection_tracking\\data\\asset.mp4: 640x640 1 person, 2 bottles, 1 banana, 1308.0ms\n"
     ]
    },
    {
     "name": "stdout",
     "output_type": "stream",
     "text": [
      "1 #1 banana ['1 #5 banana added to zone', '1 #4 banana added to zone', '1 #7 banana added to zone', '1 #9 banana added to zone', '1 #10 banana added to zone', '1 #11 bottle added to zone', '1 #11 banana added to zone', '1 #8 hot dog added to zone', '1 #9 bottle added to zone', '1 #17 bottle added to zone', '1 #18 bottle added to zone', '1 #19 apple added to zone']\n",
      "1 #2 apple ['1 #5 banana added to zone', '1 #4 banana added to zone', '1 #7 banana added to zone', '1 #9 banana added to zone', '1 #10 banana added to zone', '1 #11 bottle added to zone', '1 #11 banana added to zone', '1 #8 hot dog added to zone', '1 #9 bottle added to zone', '1 #17 bottle added to zone', '1 #18 bottle added to zone', '1 #19 apple added to zone']\n",
      "1 #3 bottle ['1 #5 banana added to zone', '1 #4 banana added to zone', '1 #7 banana added to zone', '1 #9 banana added to zone', '1 #10 banana added to zone', '1 #11 bottle added to zone', '1 #11 banana added to zone', '1 #8 hot dog added to zone', '1 #9 bottle added to zone', '1 #17 bottle added to zone', '1 #18 bottle added to zone', '1 #19 apple added to zone']\n"
     ]
    },
    {
     "name": "stderr",
     "output_type": "stream",
     "text": [
      "INFO:root:1 #1 banana removed from zone by person 8\n",
      "INFO:root:1 #2 apple removed from zone by person 8\n",
      "INFO:root:1 #3 bottle removed from zone by person 8\n",
      "INFO:root:1 #9 banana added to zone by person 8\n",
      "INFO:root:1 #17 bottle added to zone by person 8\n",
      "INFO:root:1 #18 bottle added to zone by person 8\n",
      "video 1/1 (386/640) C:\\Users\\rcheruvu\\Desktop\\openvino_notebooks\\recipes\\automated_detection_tracking\\data\\asset.mp4: 640x640 1 person, 2 bottles, 1 banana, 967.9ms\n"
     ]
    },
    {
     "name": "stdout",
     "output_type": "stream",
     "text": [
      "1 #1 banana ['1 #5 banana added to zone', '1 #4 banana added to zone', '1 #7 banana added to zone', '1 #9 banana added to zone', '1 #10 banana added to zone', '1 #11 bottle added to zone', '1 #11 banana added to zone', '1 #8 hot dog added to zone', '1 #9 bottle added to zone', '1 #17 bottle added to zone', '1 #18 bottle added to zone', '1 #19 apple added to zone']\n",
      "1 #2 apple ['1 #5 banana added to zone', '1 #4 banana added to zone', '1 #7 banana added to zone', '1 #9 banana added to zone', '1 #10 banana added to zone', '1 #11 bottle added to zone', '1 #11 banana added to zone', '1 #8 hot dog added to zone', '1 #9 bottle added to zone', '1 #17 bottle added to zone', '1 #18 bottle added to zone', '1 #19 apple added to zone']\n",
      "1 #3 bottle ['1 #5 banana added to zone', '1 #4 banana added to zone', '1 #7 banana added to zone', '1 #9 banana added to zone', '1 #10 banana added to zone', '1 #11 bottle added to zone', '1 #11 banana added to zone', '1 #8 hot dog added to zone', '1 #9 bottle added to zone', '1 #17 bottle added to zone', '1 #18 bottle added to zone', '1 #19 apple added to zone']\n"
     ]
    },
    {
     "name": "stderr",
     "output_type": "stream",
     "text": [
      "INFO:root:1 #1 banana removed from zone by person 8\n",
      "INFO:root:1 #2 apple removed from zone by person 8\n",
      "INFO:root:1 #3 bottle removed from zone by person 8\n",
      "INFO:root:1 #9 banana added to zone by person 8\n",
      "INFO:root:1 #17 bottle added to zone by person 8\n",
      "INFO:root:1 #18 bottle added to zone by person 8\n",
      "video 1/1 (387/640) C:\\Users\\rcheruvu\\Desktop\\openvino_notebooks\\recipes\\automated_detection_tracking\\data\\asset.mp4: 640x640 1 person, 2 bottles, 1 banana, 954.9ms\n"
     ]
    },
    {
     "name": "stdout",
     "output_type": "stream",
     "text": [
      "1 #1 banana ['1 #5 banana added to zone', '1 #4 banana added to zone', '1 #7 banana added to zone', '1 #9 banana added to zone', '1 #10 banana added to zone', '1 #11 bottle added to zone', '1 #11 banana added to zone', '1 #8 hot dog added to zone', '1 #9 bottle added to zone', '1 #17 bottle added to zone', '1 #18 bottle added to zone', '1 #19 apple added to zone']\n",
      "1 #2 apple ['1 #5 banana added to zone', '1 #4 banana added to zone', '1 #7 banana added to zone', '1 #9 banana added to zone', '1 #10 banana added to zone', '1 #11 bottle added to zone', '1 #11 banana added to zone', '1 #8 hot dog added to zone', '1 #9 bottle added to zone', '1 #17 bottle added to zone', '1 #18 bottle added to zone', '1 #19 apple added to zone']\n",
      "1 #3 bottle ['1 #5 banana added to zone', '1 #4 banana added to zone', '1 #7 banana added to zone', '1 #9 banana added to zone', '1 #10 banana added to zone', '1 #11 bottle added to zone', '1 #11 banana added to zone', '1 #8 hot dog added to zone', '1 #9 bottle added to zone', '1 #17 bottle added to zone', '1 #18 bottle added to zone', '1 #19 apple added to zone']\n"
     ]
    },
    {
     "name": "stderr",
     "output_type": "stream",
     "text": [
      "INFO:root:1 #1 banana removed from zone by person 8\n",
      "INFO:root:1 #2 apple removed from zone by person 8\n",
      "INFO:root:1 #3 bottle removed from zone by person 8\n",
      "INFO:root:1 #9 banana added to zone by person 8\n",
      "INFO:root:1 #17 bottle added to zone by person 8\n",
      "INFO:root:1 #18 bottle added to zone by person 8\n",
      "video 1/1 (388/640) C:\\Users\\rcheruvu\\Desktop\\openvino_notebooks\\recipes\\automated_detection_tracking\\data\\asset.mp4: 640x640 1 person, 2 bottles, 1 banana, 872.1ms\n"
     ]
    },
    {
     "name": "stdout",
     "output_type": "stream",
     "text": [
      "1 #1 banana ['1 #5 banana added to zone', '1 #4 banana added to zone', '1 #7 banana added to zone', '1 #9 banana added to zone', '1 #10 banana added to zone', '1 #11 bottle added to zone', '1 #11 banana added to zone', '1 #8 hot dog added to zone', '1 #9 bottle added to zone', '1 #17 bottle added to zone', '1 #18 bottle added to zone', '1 #19 apple added to zone']\n",
      "1 #2 apple ['1 #5 banana added to zone', '1 #4 banana added to zone', '1 #7 banana added to zone', '1 #9 banana added to zone', '1 #10 banana added to zone', '1 #11 bottle added to zone', '1 #11 banana added to zone', '1 #8 hot dog added to zone', '1 #9 bottle added to zone', '1 #17 bottle added to zone', '1 #18 bottle added to zone', '1 #19 apple added to zone']\n",
      "1 #3 bottle ['1 #5 banana added to zone', '1 #4 banana added to zone', '1 #7 banana added to zone', '1 #9 banana added to zone', '1 #10 banana added to zone', '1 #11 bottle added to zone', '1 #11 banana added to zone', '1 #8 hot dog added to zone', '1 #9 bottle added to zone', '1 #17 bottle added to zone', '1 #18 bottle added to zone', '1 #19 apple added to zone']\n"
     ]
    },
    {
     "name": "stderr",
     "output_type": "stream",
     "text": [
      "INFO:root:1 #1 banana removed from zone by person 8\n",
      "INFO:root:1 #2 apple removed from zone by person 8\n",
      "INFO:root:1 #3 bottle removed from zone by person 8\n",
      "INFO:root:1 #9 banana added to zone by person 8\n",
      "INFO:root:1 #17 bottle added to zone by person 8\n",
      "INFO:root:1 #18 bottle added to zone by person 8\n",
      "video 1/1 (389/640) C:\\Users\\rcheruvu\\Desktop\\openvino_notebooks\\recipes\\automated_detection_tracking\\data\\asset.mp4: 640x640 1 person, 2 bottles, 1 banana, 911.4ms\n"
     ]
    },
    {
     "name": "stdout",
     "output_type": "stream",
     "text": [
      "1 #1 banana ['1 #5 banana added to zone', '1 #4 banana added to zone', '1 #7 banana added to zone', '1 #9 banana added to zone', '1 #10 banana added to zone', '1 #11 bottle added to zone', '1 #11 banana added to zone', '1 #8 hot dog added to zone', '1 #9 bottle added to zone', '1 #17 bottle added to zone', '1 #18 bottle added to zone', '1 #19 apple added to zone']\n",
      "1 #2 apple ['1 #5 banana added to zone', '1 #4 banana added to zone', '1 #7 banana added to zone', '1 #9 banana added to zone', '1 #10 banana added to zone', '1 #11 bottle added to zone', '1 #11 banana added to zone', '1 #8 hot dog added to zone', '1 #9 bottle added to zone', '1 #17 bottle added to zone', '1 #18 bottle added to zone', '1 #19 apple added to zone']\n",
      "1 #3 bottle ['1 #5 banana added to zone', '1 #4 banana added to zone', '1 #7 banana added to zone', '1 #9 banana added to zone', '1 #10 banana added to zone', '1 #11 bottle added to zone', '1 #11 banana added to zone', '1 #8 hot dog added to zone', '1 #9 bottle added to zone', '1 #17 bottle added to zone', '1 #18 bottle added to zone', '1 #19 apple added to zone']\n"
     ]
    },
    {
     "name": "stderr",
     "output_type": "stream",
     "text": [
      "INFO:root:1 #1 banana removed from zone by person 8\n",
      "INFO:root:1 #2 apple removed from zone by person 8\n",
      "INFO:root:1 #3 bottle removed from zone by person 8\n",
      "INFO:root:1 #9 banana added to zone by person 8\n",
      "INFO:root:1 #17 bottle added to zone by person 8\n",
      "INFO:root:1 #18 bottle added to zone by person 8\n",
      "video 1/1 (390/640) C:\\Users\\rcheruvu\\Desktop\\openvino_notebooks\\recipes\\automated_detection_tracking\\data\\asset.mp4: 640x640 1 person, 2 bottles, 1 banana, 993.0ms\n"
     ]
    },
    {
     "name": "stdout",
     "output_type": "stream",
     "text": [
      "1 #1 banana ['1 #5 banana added to zone', '1 #4 banana added to zone', '1 #7 banana added to zone', '1 #9 banana added to zone', '1 #10 banana added to zone', '1 #11 bottle added to zone', '1 #11 banana added to zone', '1 #8 hot dog added to zone', '1 #9 bottle added to zone', '1 #17 bottle added to zone', '1 #18 bottle added to zone', '1 #19 apple added to zone']\n",
      "1 #2 apple ['1 #5 banana added to zone', '1 #4 banana added to zone', '1 #7 banana added to zone', '1 #9 banana added to zone', '1 #10 banana added to zone', '1 #11 bottle added to zone', '1 #11 banana added to zone', '1 #8 hot dog added to zone', '1 #9 bottle added to zone', '1 #17 bottle added to zone', '1 #18 bottle added to zone', '1 #19 apple added to zone']\n",
      "1 #3 bottle ['1 #5 banana added to zone', '1 #4 banana added to zone', '1 #7 banana added to zone', '1 #9 banana added to zone', '1 #10 banana added to zone', '1 #11 bottle added to zone', '1 #11 banana added to zone', '1 #8 hot dog added to zone', '1 #9 bottle added to zone', '1 #17 bottle added to zone', '1 #18 bottle added to zone', '1 #19 apple added to zone']\n"
     ]
    },
    {
     "name": "stderr",
     "output_type": "stream",
     "text": [
      "INFO:root:1 #1 banana removed from zone by person 8\n",
      "INFO:root:1 #2 apple removed from zone by person 8\n",
      "INFO:root:1 #3 bottle removed from zone by person 8\n",
      "INFO:root:1 #9 banana added to zone by person 8\n",
      "INFO:root:1 #17 bottle added to zone by person 8\n",
      "INFO:root:1 #18 bottle added to zone by person 8\n",
      "video 1/1 (391/640) C:\\Users\\rcheruvu\\Desktop\\openvino_notebooks\\recipes\\automated_detection_tracking\\data\\asset.mp4: 640x640 1 person, 2 bottles, 1 banana, 944.1ms\n"
     ]
    },
    {
     "name": "stdout",
     "output_type": "stream",
     "text": [
      "1 #1 banana ['1 #5 banana added to zone', '1 #4 banana added to zone', '1 #7 banana added to zone', '1 #9 banana added to zone', '1 #10 banana added to zone', '1 #11 bottle added to zone', '1 #11 banana added to zone', '1 #8 hot dog added to zone', '1 #9 bottle added to zone', '1 #17 bottle added to zone', '1 #18 bottle added to zone', '1 #19 apple added to zone']\n",
      "1 #2 apple ['1 #5 banana added to zone', '1 #4 banana added to zone', '1 #7 banana added to zone', '1 #9 banana added to zone', '1 #10 banana added to zone', '1 #11 bottle added to zone', '1 #11 banana added to zone', '1 #8 hot dog added to zone', '1 #9 bottle added to zone', '1 #17 bottle added to zone', '1 #18 bottle added to zone', '1 #19 apple added to zone']\n",
      "1 #3 bottle ['1 #5 banana added to zone', '1 #4 banana added to zone', '1 #7 banana added to zone', '1 #9 banana added to zone', '1 #10 banana added to zone', '1 #11 bottle added to zone', '1 #11 banana added to zone', '1 #8 hot dog added to zone', '1 #9 bottle added to zone', '1 #17 bottle added to zone', '1 #18 bottle added to zone', '1 #19 apple added to zone']\n"
     ]
    },
    {
     "name": "stderr",
     "output_type": "stream",
     "text": [
      "INFO:root:1 #1 banana removed from zone by person 8\n",
      "INFO:root:1 #2 apple removed from zone by person 8\n",
      "INFO:root:1 #3 bottle removed from zone by person 8\n",
      "INFO:root:1 #9 banana added to zone by person 8\n",
      "INFO:root:1 #17 bottle added to zone by person 8\n",
      "INFO:root:1 #18 bottle added to zone by person 8\n",
      "video 1/1 (392/640) C:\\Users\\rcheruvu\\Desktop\\openvino_notebooks\\recipes\\automated_detection_tracking\\data\\asset.mp4: 640x640 1 person, 2 bottles, 1 banana, 1022.8ms\n"
     ]
    },
    {
     "name": "stdout",
     "output_type": "stream",
     "text": [
      "1 #1 banana ['1 #5 banana added to zone', '1 #4 banana added to zone', '1 #7 banana added to zone', '1 #9 banana added to zone', '1 #10 banana added to zone', '1 #11 bottle added to zone', '1 #11 banana added to zone', '1 #8 hot dog added to zone', '1 #9 bottle added to zone', '1 #17 bottle added to zone', '1 #18 bottle added to zone', '1 #19 apple added to zone']\n",
      "1 #2 apple ['1 #5 banana added to zone', '1 #4 banana added to zone', '1 #7 banana added to zone', '1 #9 banana added to zone', '1 #10 banana added to zone', '1 #11 bottle added to zone', '1 #11 banana added to zone', '1 #8 hot dog added to zone', '1 #9 bottle added to zone', '1 #17 bottle added to zone', '1 #18 bottle added to zone', '1 #19 apple added to zone']\n",
      "1 #3 bottle ['1 #5 banana added to zone', '1 #4 banana added to zone', '1 #7 banana added to zone', '1 #9 banana added to zone', '1 #10 banana added to zone', '1 #11 bottle added to zone', '1 #11 banana added to zone', '1 #8 hot dog added to zone', '1 #9 bottle added to zone', '1 #17 bottle added to zone', '1 #18 bottle added to zone', '1 #19 apple added to zone']\n"
     ]
    },
    {
     "name": "stderr",
     "output_type": "stream",
     "text": [
      "INFO:root:1 #1 banana removed from zone by person 8\n",
      "INFO:root:1 #2 apple removed from zone by person 8\n",
      "INFO:root:1 #3 bottle removed from zone by person 8\n",
      "INFO:root:1 #9 banana added to zone by person 8\n",
      "INFO:root:1 #17 bottle added to zone by person 8\n",
      "INFO:root:1 #18 bottle added to zone by person 8\n",
      "video 1/1 (393/640) C:\\Users\\rcheruvu\\Desktop\\openvino_notebooks\\recipes\\automated_detection_tracking\\data\\asset.mp4: 640x640 1 person, 2 bottles, 1 banana, 996.7ms\n"
     ]
    },
    {
     "name": "stdout",
     "output_type": "stream",
     "text": [
      "1 #1 banana ['1 #5 banana added to zone', '1 #4 banana added to zone', '1 #7 banana added to zone', '1 #9 banana added to zone', '1 #10 banana added to zone', '1 #11 bottle added to zone', '1 #11 banana added to zone', '1 #8 hot dog added to zone', '1 #9 bottle added to zone', '1 #17 bottle added to zone', '1 #18 bottle added to zone', '1 #19 apple added to zone']\n",
      "1 #2 apple ['1 #5 banana added to zone', '1 #4 banana added to zone', '1 #7 banana added to zone', '1 #9 banana added to zone', '1 #10 banana added to zone', '1 #11 bottle added to zone', '1 #11 banana added to zone', '1 #8 hot dog added to zone', '1 #9 bottle added to zone', '1 #17 bottle added to zone', '1 #18 bottle added to zone', '1 #19 apple added to zone']\n",
      "1 #3 bottle ['1 #5 banana added to zone', '1 #4 banana added to zone', '1 #7 banana added to zone', '1 #9 banana added to zone', '1 #10 banana added to zone', '1 #11 bottle added to zone', '1 #11 banana added to zone', '1 #8 hot dog added to zone', '1 #9 bottle added to zone', '1 #17 bottle added to zone', '1 #18 bottle added to zone', '1 #19 apple added to zone']\n"
     ]
    },
    {
     "name": "stderr",
     "output_type": "stream",
     "text": [
      "INFO:root:1 #1 banana removed from zone by person 8\n",
      "INFO:root:1 #2 apple removed from zone by person 8\n",
      "INFO:root:1 #3 bottle removed from zone by person 8\n",
      "INFO:root:1 #9 banana added to zone by person 8\n",
      "INFO:root:1 #17 bottle added to zone by person 8\n",
      "INFO:root:1 #18 bottle added to zone by person 8\n",
      "video 1/1 (394/640) C:\\Users\\rcheruvu\\Desktop\\openvino_notebooks\\recipes\\automated_detection_tracking\\data\\asset.mp4: 640x640 1 person, 2 bottles, 1 banana, 996.4ms\n"
     ]
    },
    {
     "name": "stdout",
     "output_type": "stream",
     "text": [
      "1 #1 banana ['1 #5 banana added to zone', '1 #4 banana added to zone', '1 #7 banana added to zone', '1 #9 banana added to zone', '1 #10 banana added to zone', '1 #11 bottle added to zone', '1 #11 banana added to zone', '1 #8 hot dog added to zone', '1 #9 bottle added to zone', '1 #17 bottle added to zone', '1 #18 bottle added to zone', '1 #19 apple added to zone']\n",
      "1 #2 apple ['1 #5 banana added to zone', '1 #4 banana added to zone', '1 #7 banana added to zone', '1 #9 banana added to zone', '1 #10 banana added to zone', '1 #11 bottle added to zone', '1 #11 banana added to zone', '1 #8 hot dog added to zone', '1 #9 bottle added to zone', '1 #17 bottle added to zone', '1 #18 bottle added to zone', '1 #19 apple added to zone']\n",
      "1 #3 bottle ['1 #5 banana added to zone', '1 #4 banana added to zone', '1 #7 banana added to zone', '1 #9 banana added to zone', '1 #10 banana added to zone', '1 #11 bottle added to zone', '1 #11 banana added to zone', '1 #8 hot dog added to zone', '1 #9 bottle added to zone', '1 #17 bottle added to zone', '1 #18 bottle added to zone', '1 #19 apple added to zone']\n"
     ]
    },
    {
     "name": "stderr",
     "output_type": "stream",
     "text": [
      "INFO:root:1 #1 banana removed from zone by person 8\n",
      "INFO:root:1 #2 apple removed from zone by person 8\n",
      "INFO:root:1 #3 bottle removed from zone by person 8\n",
      "INFO:root:1 #9 banana added to zone by person 8\n",
      "INFO:root:1 #17 bottle added to zone by person 8\n",
      "INFO:root:1 #18 bottle added to zone by person 8\n",
      "video 1/1 (395/640) C:\\Users\\rcheruvu\\Desktop\\openvino_notebooks\\recipes\\automated_detection_tracking\\data\\asset.mp4: 640x640 1 person, 2 bottles, 1 banana, 972.5ms\n"
     ]
    },
    {
     "name": "stdout",
     "output_type": "stream",
     "text": [
      "1 #1 banana ['1 #5 banana added to zone', '1 #4 banana added to zone', '1 #7 banana added to zone', '1 #9 banana added to zone', '1 #10 banana added to zone', '1 #11 bottle added to zone', '1 #11 banana added to zone', '1 #8 hot dog added to zone', '1 #9 bottle added to zone', '1 #17 bottle added to zone', '1 #18 bottle added to zone', '1 #19 apple added to zone']\n",
      "1 #2 apple ['1 #5 banana added to zone', '1 #4 banana added to zone', '1 #7 banana added to zone', '1 #9 banana added to zone', '1 #10 banana added to zone', '1 #11 bottle added to zone', '1 #11 banana added to zone', '1 #8 hot dog added to zone', '1 #9 bottle added to zone', '1 #17 bottle added to zone', '1 #18 bottle added to zone', '1 #19 apple added to zone']\n",
      "1 #3 bottle ['1 #5 banana added to zone', '1 #4 banana added to zone', '1 #7 banana added to zone', '1 #9 banana added to zone', '1 #10 banana added to zone', '1 #11 bottle added to zone', '1 #11 banana added to zone', '1 #8 hot dog added to zone', '1 #9 bottle added to zone', '1 #17 bottle added to zone', '1 #18 bottle added to zone', '1 #19 apple added to zone']\n"
     ]
    },
    {
     "name": "stderr",
     "output_type": "stream",
     "text": [
      "INFO:root:1 #1 banana removed from zone by person 4\n",
      "INFO:root:1 #2 apple removed from zone by person 4\n",
      "INFO:root:1 #3 bottle removed from zone by person 4\n",
      "INFO:root:1 #9 banana added to zone by person 4\n",
      "INFO:root:1 #17 bottle added to zone by person 4\n",
      "INFO:root:1 #18 bottle added to zone by person 4\n",
      "video 1/1 (396/640) C:\\Users\\rcheruvu\\Desktop\\openvino_notebooks\\recipes\\automated_detection_tracking\\data\\asset.mp4: 640x640 1 person, 2 bottles, 1 banana, 905.2ms\n"
     ]
    },
    {
     "name": "stdout",
     "output_type": "stream",
     "text": [
      "1 #1 banana ['1 #5 banana added to zone', '1 #4 banana added to zone', '1 #7 banana added to zone', '1 #9 banana added to zone', '1 #10 banana added to zone', '1 #11 bottle added to zone', '1 #11 banana added to zone', '1 #8 hot dog added to zone', '1 #9 bottle added to zone', '1 #17 bottle added to zone', '1 #18 bottle added to zone', '1 #19 apple added to zone']\n",
      "1 #2 apple ['1 #5 banana added to zone', '1 #4 banana added to zone', '1 #7 banana added to zone', '1 #9 banana added to zone', '1 #10 banana added to zone', '1 #11 bottle added to zone', '1 #11 banana added to zone', '1 #8 hot dog added to zone', '1 #9 bottle added to zone', '1 #17 bottle added to zone', '1 #18 bottle added to zone', '1 #19 apple added to zone']\n",
      "1 #3 bottle ['1 #5 banana added to zone', '1 #4 banana added to zone', '1 #7 banana added to zone', '1 #9 banana added to zone', '1 #10 banana added to zone', '1 #11 bottle added to zone', '1 #11 banana added to zone', '1 #8 hot dog added to zone', '1 #9 bottle added to zone', '1 #17 bottle added to zone', '1 #18 bottle added to zone', '1 #19 apple added to zone']\n"
     ]
    },
    {
     "name": "stderr",
     "output_type": "stream",
     "text": [
      "INFO:root:1 #1 banana removed from zone by person 4\n",
      "INFO:root:1 #3 bottle removed from zone by person 4\n",
      "INFO:root:1 #9 banana added to zone by person 4\n",
      "INFO:root:1 #17 bottle added to zone by person 4\n",
      "INFO:root:1 #18 bottle added to zone by person 4\n",
      "video 1/1 (397/640) C:\\Users\\rcheruvu\\Desktop\\openvino_notebooks\\recipes\\automated_detection_tracking\\data\\asset.mp4: 640x640 1 person, 2 bottles, 1 banana, 1 apple, 879.6ms\n"
     ]
    },
    {
     "name": "stdout",
     "output_type": "stream",
     "text": [
      "1 #1 banana ['1 #5 banana added to zone', '1 #4 banana added to zone', '1 #7 banana added to zone', '1 #9 banana added to zone', '1 #10 banana added to zone', '1 #11 bottle added to zone', '1 #11 banana added to zone', '1 #8 hot dog added to zone', '1 #9 bottle added to zone', '1 #17 bottle added to zone', '1 #18 bottle added to zone', '1 #19 apple added to zone']\n",
      "1 #3 bottle ['1 #5 banana added to zone', '1 #4 banana added to zone', '1 #7 banana added to zone', '1 #9 banana added to zone', '1 #10 banana added to zone', '1 #11 bottle added to zone', '1 #11 banana added to zone', '1 #8 hot dog added to zone', '1 #9 bottle added to zone', '1 #17 bottle added to zone', '1 #18 bottle added to zone', '1 #19 apple added to zone']\n"
     ]
    },
    {
     "name": "stderr",
     "output_type": "stream",
     "text": [
      "INFO:root:1 #1 banana removed from zone by person 4\n",
      "INFO:root:1 #3 bottle removed from zone by person 4\n",
      "INFO:root:1 #9 banana added to zone by person 4\n",
      "INFO:root:1 #17 bottle added to zone by person 4\n",
      "INFO:root:1 #18 bottle added to zone by person 4\n"
     ]
    },
    {
     "name": "stdout",
     "output_type": "stream",
     "text": [
      "1 #1 banana ['1 #5 banana added to zone', '1 #4 banana added to zone', '1 #7 banana added to zone', '1 #9 banana added to zone', '1 #10 banana added to zone', '1 #11 bottle added to zone', '1 #11 banana added to zone', '1 #8 hot dog added to zone', '1 #9 bottle added to zone', '1 #17 bottle added to zone', '1 #18 bottle added to zone', '1 #19 apple added to zone']\n",
      "1 #3 bottle ['1 #5 banana added to zone', '1 #4 banana added to zone', '1 #7 banana added to zone', '1 #9 banana added to zone', '1 #10 banana added to zone', '1 #11 bottle added to zone', '1 #11 banana added to zone', '1 #8 hot dog added to zone', '1 #9 bottle added to zone', '1 #17 bottle added to zone', '1 #18 bottle added to zone', '1 #19 apple added to zone']\n"
     ]
    },
    {
     "name": "stderr",
     "output_type": "stream",
     "text": [
      "video 1/1 (398/640) C:\\Users\\rcheruvu\\Desktop\\openvino_notebooks\\recipes\\automated_detection_tracking\\data\\asset.mp4: 640x640 1 person, 2 bottles, 1 banana, 1 apple, 1471.7ms\n",
      "INFO:root:1 #1 banana removed from zone by person 4\n",
      "INFO:root:1 #3 bottle removed from zone by person 4\n",
      "INFO:root:1 #9 banana added to zone by person 4\n",
      "INFO:root:1 #17 bottle added to zone by person 4\n",
      "INFO:root:1 #18 bottle added to zone by person 4\n"
     ]
    },
    {
     "name": "stdout",
     "output_type": "stream",
     "text": [
      "1 #1 banana ['1 #5 banana added to zone', '1 #4 banana added to zone', '1 #7 banana added to zone', '1 #9 banana added to zone', '1 #10 banana added to zone', '1 #11 bottle added to zone', '1 #11 banana added to zone', '1 #8 hot dog added to zone', '1 #9 bottle added to zone', '1 #17 bottle added to zone', '1 #18 bottle added to zone', '1 #19 apple added to zone']\n",
      "1 #3 bottle ['1 #5 banana added to zone', '1 #4 banana added to zone', '1 #7 banana added to zone', '1 #9 banana added to zone', '1 #10 banana added to zone', '1 #11 bottle added to zone', '1 #11 banana added to zone', '1 #8 hot dog added to zone', '1 #9 bottle added to zone', '1 #17 bottle added to zone', '1 #18 bottle added to zone', '1 #19 apple added to zone']\n"
     ]
    },
    {
     "name": "stderr",
     "output_type": "stream",
     "text": [
      "video 1/1 (399/640) C:\\Users\\rcheruvu\\Desktop\\openvino_notebooks\\recipes\\automated_detection_tracking\\data\\asset.mp4: 640x640 1 person, 2 bottles, 1 banana, 1 apple, 2279.2ms\n",
      "INFO:root:1 #1 banana removed from zone by person 4\n",
      "INFO:root:1 #3 bottle removed from zone by person 4\n",
      "INFO:root:1 #9 banana added to zone by person 4\n",
      "INFO:root:1 #17 bottle added to zone by person 4\n",
      "INFO:root:1 #18 bottle added to zone by person 4\n",
      "video 1/1 (400/640) C:\\Users\\rcheruvu\\Desktop\\openvino_notebooks\\recipes\\automated_detection_tracking\\data\\asset.mp4: 640x640 1 person, 2 bottles, 1 banana, 1 apple, 1253.7ms\n"
     ]
    },
    {
     "name": "stdout",
     "output_type": "stream",
     "text": [
      "1 #1 banana ['1 #5 banana added to zone', '1 #4 banana added to zone', '1 #7 banana added to zone', '1 #9 banana added to zone', '1 #10 banana added to zone', '1 #11 bottle added to zone', '1 #11 banana added to zone', '1 #8 hot dog added to zone', '1 #9 bottle added to zone', '1 #17 bottle added to zone', '1 #18 bottle added to zone', '1 #19 apple added to zone']\n",
      "1 #3 bottle ['1 #5 banana added to zone', '1 #4 banana added to zone', '1 #7 banana added to zone', '1 #9 banana added to zone', '1 #10 banana added to zone', '1 #11 bottle added to zone', '1 #11 banana added to zone', '1 #8 hot dog added to zone', '1 #9 bottle added to zone', '1 #17 bottle added to zone', '1 #18 bottle added to zone', '1 #19 apple added to zone']\n"
     ]
    },
    {
     "name": "stderr",
     "output_type": "stream",
     "text": [
      "INFO:root:1 #1 banana removed from zone by person 4\n",
      "INFO:root:1 #2 apple removed from zone by person 4\n",
      "INFO:root:1 #3 bottle removed from zone by person 4\n",
      "INFO:root:1 #9 banana added to zone by person 4\n",
      "INFO:root:1 #17 bottle added to zone by person 4\n",
      "INFO:root:1 #18 bottle added to zone by person 4\n",
      "INFO:root:1 #2 sports ball added to zone by person 4\n",
      "video 1/1 (401/640) C:\\Users\\rcheruvu\\Desktop\\openvino_notebooks\\recipes\\automated_detection_tracking\\data\\asset.mp4: 640x640 1 person, 1 sports ball, 2 bottles, 1 banana, 1091.1ms\n"
     ]
    },
    {
     "name": "stdout",
     "output_type": "stream",
     "text": [
      "1 #1 banana ['1 #5 banana added to zone', '1 #4 banana added to zone', '1 #7 banana added to zone', '1 #9 banana added to zone', '1 #10 banana added to zone', '1 #11 bottle added to zone', '1 #11 banana added to zone', '1 #8 hot dog added to zone', '1 #9 bottle added to zone', '1 #17 bottle added to zone', '1 #18 bottle added to zone', '1 #19 apple added to zone']\n",
      "1 #2 apple ['1 #5 banana added to zone', '1 #4 banana added to zone', '1 #7 banana added to zone', '1 #9 banana added to zone', '1 #10 banana added to zone', '1 #11 bottle added to zone', '1 #11 banana added to zone', '1 #8 hot dog added to zone', '1 #9 bottle added to zone', '1 #17 bottle added to zone', '1 #18 bottle added to zone', '1 #19 apple added to zone']\n",
      "1 #3 bottle ['1 #5 banana added to zone', '1 #4 banana added to zone', '1 #7 banana added to zone', '1 #9 banana added to zone', '1 #10 banana added to zone', '1 #11 bottle added to zone', '1 #11 banana added to zone', '1 #8 hot dog added to zone', '1 #9 bottle added to zone', '1 #17 bottle added to zone', '1 #18 bottle added to zone', '1 #19 apple added to zone']\n"
     ]
    },
    {
     "name": "stderr",
     "output_type": "stream",
     "text": [
      "INFO:root:1 #1 banana removed from zone by person 4\n",
      "INFO:root:1 #2 apple removed from zone by person 4\n",
      "INFO:root:1 #3 bottle removed from zone by person 4\n",
      "INFO:root:1 #9 banana added to zone by person 4\n",
      "INFO:root:1 #17 bottle added to zone by person 4\n",
      "INFO:root:1 #18 bottle added to zone by person 4\n",
      "INFO:root:1 #2 sports ball added to zone by person 4\n",
      "video 1/1 (402/640) C:\\Users\\rcheruvu\\Desktop\\openvino_notebooks\\recipes\\automated_detection_tracking\\data\\asset.mp4: 640x640 1 person, 1 sports ball, 2 bottles, 1 banana, 805.1ms\n"
     ]
    },
    {
     "name": "stdout",
     "output_type": "stream",
     "text": [
      "1 #1 banana ['1 #5 banana added to zone', '1 #4 banana added to zone', '1 #7 banana added to zone', '1 #9 banana added to zone', '1 #10 banana added to zone', '1 #11 bottle added to zone', '1 #11 banana added to zone', '1 #8 hot dog added to zone', '1 #9 bottle added to zone', '1 #17 bottle added to zone', '1 #18 bottle added to zone', '1 #19 apple added to zone', '1 #2 sports ball added to zone']\n",
      "1 #2 apple ['1 #5 banana added to zone', '1 #4 banana added to zone', '1 #7 banana added to zone', '1 #9 banana added to zone', '1 #10 banana added to zone', '1 #11 bottle added to zone', '1 #11 banana added to zone', '1 #8 hot dog added to zone', '1 #9 bottle added to zone', '1 #17 bottle added to zone', '1 #18 bottle added to zone', '1 #19 apple added to zone', '1 #2 sports ball added to zone']\n",
      "1 #3 bottle ['1 #5 banana added to zone', '1 #4 banana added to zone', '1 #7 banana added to zone', '1 #9 banana added to zone', '1 #10 banana added to zone', '1 #11 bottle added to zone', '1 #11 banana added to zone', '1 #8 hot dog added to zone', '1 #9 bottle added to zone', '1 #17 bottle added to zone', '1 #18 bottle added to zone', '1 #19 apple added to zone', '1 #2 sports ball added to zone']\n"
     ]
    },
    {
     "name": "stderr",
     "output_type": "stream",
     "text": [
      "INFO:root:1 #9 banana added to zone by person 4\n",
      "INFO:root:1 #2 sports ball added to zone by person 4\n",
      "video 1/1 (403/640) C:\\Users\\rcheruvu\\Desktop\\openvino_notebooks\\recipes\\automated_detection_tracking\\data\\asset.mp4: 640x640 1 person, 1 sports ball, 1 banana, 859.3ms\n",
      "INFO:root:1 #1 banana removed from zone by person 8\n",
      "INFO:root:1 #3 bottle removed from zone by person 8\n",
      "video 1/1 (404/640) C:\\Users\\rcheruvu\\Desktop\\openvino_notebooks\\recipes\\automated_detection_tracking\\data\\asset.mp4: 640x640 1 person, 1 apple, 864.8ms\n"
     ]
    },
    {
     "name": "stdout",
     "output_type": "stream",
     "text": [
      "1 #1 banana ['1 #5 banana added to zone', '1 #4 banana added to zone', '1 #7 banana added to zone', '1 #9 banana added to zone', '1 #10 banana added to zone', '1 #11 bottle added to zone', '1 #11 banana added to zone', '1 #8 hot dog added to zone', '1 #9 bottle added to zone', '1 #17 bottle added to zone', '1 #18 bottle added to zone', '1 #19 apple added to zone', '1 #2 sports ball added to zone']\n",
      "1 #3 bottle ['1 #5 banana added to zone', '1 #4 banana added to zone', '1 #7 banana added to zone', '1 #9 banana added to zone', '1 #10 banana added to zone', '1 #11 bottle added to zone', '1 #11 banana added to zone', '1 #8 hot dog added to zone', '1 #9 bottle added to zone', '1 #17 bottle added to zone', '1 #18 bottle added to zone', '1 #19 apple added to zone', '1 #2 sports ball added to zone']\n"
     ]
    },
    {
     "name": "stderr",
     "output_type": "stream",
     "text": [
      "INFO:root:1 #1 banana removed from zone by person 8\n",
      "INFO:root:1 #3 bottle removed from zone by person 8\n",
      "video 1/1 (405/640) C:\\Users\\rcheruvu\\Desktop\\openvino_notebooks\\recipes\\automated_detection_tracking\\data\\asset.mp4: 640x640 1 person, 1 apple, 787.4ms\n"
     ]
    },
    {
     "name": "stdout",
     "output_type": "stream",
     "text": [
      "1 #1 banana ['1 #5 banana added to zone', '1 #4 banana added to zone', '1 #7 banana added to zone', '1 #9 banana added to zone', '1 #10 banana added to zone', '1 #11 bottle added to zone', '1 #11 banana added to zone', '1 #8 hot dog added to zone', '1 #9 bottle added to zone', '1 #17 bottle added to zone', '1 #18 bottle added to zone', '1 #19 apple added to zone', '1 #2 sports ball added to zone']\n",
      "1 #3 bottle ['1 #5 banana added to zone', '1 #4 banana added to zone', '1 #7 banana added to zone', '1 #9 banana added to zone', '1 #10 banana added to zone', '1 #11 bottle added to zone', '1 #11 banana added to zone', '1 #8 hot dog added to zone', '1 #9 bottle added to zone', '1 #17 bottle added to zone', '1 #18 bottle added to zone', '1 #19 apple added to zone', '1 #2 sports ball added to zone']\n"
     ]
    },
    {
     "name": "stderr",
     "output_type": "stream",
     "text": [
      "INFO:root:1 #1 banana removed from zone by person 4\n",
      "INFO:root:1 #2 apple removed from zone by person 4\n",
      "INFO:root:1 #3 bottle removed from zone by person 4\n",
      "INFO:root:1 #21 banana added to zone by person 4\n",
      "video 1/1 (406/640) C:\\Users\\rcheruvu\\Desktop\\openvino_notebooks\\recipes\\automated_detection_tracking\\data\\asset.mp4: 640x640 1 person, 1 banana, 809.1ms\n"
     ]
    },
    {
     "name": "stdout",
     "output_type": "stream",
     "text": [
      "1 #1 banana ['1 #5 banana added to zone', '1 #4 banana added to zone', '1 #7 banana added to zone', '1 #9 banana added to zone', '1 #10 banana added to zone', '1 #11 bottle added to zone', '1 #11 banana added to zone', '1 #8 hot dog added to zone', '1 #9 bottle added to zone', '1 #17 bottle added to zone', '1 #18 bottle added to zone', '1 #19 apple added to zone', '1 #2 sports ball added to zone']\n",
      "1 #2 apple ['1 #5 banana added to zone', '1 #4 banana added to zone', '1 #7 banana added to zone', '1 #9 banana added to zone', '1 #10 banana added to zone', '1 #11 bottle added to zone', '1 #11 banana added to zone', '1 #8 hot dog added to zone', '1 #9 bottle added to zone', '1 #17 bottle added to zone', '1 #18 bottle added to zone', '1 #19 apple added to zone', '1 #2 sports ball added to zone']\n",
      "1 #3 bottle ['1 #5 banana added to zone', '1 #4 banana added to zone', '1 #7 banana added to zone', '1 #9 banana added to zone', '1 #10 banana added to zone', '1 #11 bottle added to zone', '1 #11 banana added to zone', '1 #8 hot dog added to zone', '1 #9 bottle added to zone', '1 #17 bottle added to zone', '1 #18 bottle added to zone', '1 #19 apple added to zone', '1 #2 sports ball added to zone']\n"
     ]
    },
    {
     "name": "stderr",
     "output_type": "stream",
     "text": [
      "INFO:root:1 #1 banana removed from zone by person 4\n",
      "INFO:root:1 #2 apple removed from zone by person 4\n",
      "INFO:root:1 #3 bottle removed from zone by person 4\n",
      "INFO:root:1 #21 banana added to zone by person 4\n",
      "video 1/1 (407/640) C:\\Users\\rcheruvu\\Desktop\\openvino_notebooks\\recipes\\automated_detection_tracking\\data\\asset.mp4: 640x640 1 person, 1 banana, 766.2ms\n"
     ]
    },
    {
     "name": "stdout",
     "output_type": "stream",
     "text": [
      "1 #1 banana ['1 #5 banana added to zone', '1 #4 banana added to zone', '1 #7 banana added to zone', '1 #9 banana added to zone', '1 #10 banana added to zone', '1 #11 bottle added to zone', '1 #11 banana added to zone', '1 #8 hot dog added to zone', '1 #9 bottle added to zone', '1 #17 bottle added to zone', '1 #18 bottle added to zone', '1 #19 apple added to zone', '1 #2 sports ball added to zone', '1 #21 banana added to zone']\n",
      "1 #2 apple ['1 #5 banana added to zone', '1 #4 banana added to zone', '1 #7 banana added to zone', '1 #9 banana added to zone', '1 #10 banana added to zone', '1 #11 bottle added to zone', '1 #11 banana added to zone', '1 #8 hot dog added to zone', '1 #9 bottle added to zone', '1 #17 bottle added to zone', '1 #18 bottle added to zone', '1 #19 apple added to zone', '1 #2 sports ball added to zone', '1 #21 banana added to zone']\n",
      "1 #3 bottle ['1 #5 banana added to zone', '1 #4 banana added to zone', '1 #7 banana added to zone', '1 #9 banana added to zone', '1 #10 banana added to zone', '1 #11 bottle added to zone', '1 #11 banana added to zone', '1 #8 hot dog added to zone', '1 #9 bottle added to zone', '1 #17 bottle added to zone', '1 #18 bottle added to zone', '1 #19 apple added to zone', '1 #2 sports ball added to zone', '1 #21 banana added to zone']\n"
     ]
    },
    {
     "name": "stderr",
     "output_type": "stream",
     "text": [
      "INFO:root:1 #1 banana removed from zone by person 4\n",
      "INFO:root:1 #2 apple removed from zone by person 4\n",
      "INFO:root:1 #3 bottle removed from zone by person 4\n",
      "INFO:root:1 #21 banana added to zone by person 4\n",
      "INFO:root:1 #17 bottle added to zone by person 4\n",
      "video 1/1 (408/640) C:\\Users\\rcheruvu\\Desktop\\openvino_notebooks\\recipes\\automated_detection_tracking\\data\\asset.mp4: 640x640 1 bottle, 1 banana, 785.7ms\n"
     ]
    },
    {
     "name": "stdout",
     "output_type": "stream",
     "text": [
      "1 #1 banana ['1 #5 banana added to zone', '1 #4 banana added to zone', '1 #7 banana added to zone', '1 #9 banana added to zone', '1 #10 banana added to zone', '1 #11 bottle added to zone', '1 #11 banana added to zone', '1 #8 hot dog added to zone', '1 #9 bottle added to zone', '1 #17 bottle added to zone', '1 #18 bottle added to zone', '1 #19 apple added to zone', '1 #2 sports ball added to zone', '1 #21 banana added to zone']\n",
      "1 #2 apple ['1 #5 banana added to zone', '1 #4 banana added to zone', '1 #7 banana added to zone', '1 #9 banana added to zone', '1 #10 banana added to zone', '1 #11 bottle added to zone', '1 #11 banana added to zone', '1 #8 hot dog added to zone', '1 #9 bottle added to zone', '1 #17 bottle added to zone', '1 #18 bottle added to zone', '1 #19 apple added to zone', '1 #2 sports ball added to zone', '1 #21 banana added to zone']\n",
      "1 #3 bottle ['1 #5 banana added to zone', '1 #4 banana added to zone', '1 #7 banana added to zone', '1 #9 banana added to zone', '1 #10 banana added to zone', '1 #11 bottle added to zone', '1 #11 banana added to zone', '1 #8 hot dog added to zone', '1 #9 bottle added to zone', '1 #17 bottle added to zone', '1 #18 bottle added to zone', '1 #19 apple added to zone', '1 #2 sports ball added to zone', '1 #21 banana added to zone']\n"
     ]
    },
    {
     "name": "stderr",
     "output_type": "stream",
     "text": [
      "INFO:root:1 #1 banana removed from zone by person 4\n",
      "INFO:root:1 #2 apple removed from zone by person 4\n",
      "INFO:root:1 #3 bottle removed from zone by person 4\n",
      "INFO:root:1 #21 banana added to zone by person 4\n",
      "INFO:root:1 #17 bottle added to zone by person 4\n",
      "video 1/1 (409/640) C:\\Users\\rcheruvu\\Desktop\\openvino_notebooks\\recipes\\automated_detection_tracking\\data\\asset.mp4: 640x640 1 bottle, 1 banana, 775.7ms\n"
     ]
    },
    {
     "name": "stdout",
     "output_type": "stream",
     "text": [
      "1 #1 banana ['1 #5 banana added to zone', '1 #4 banana added to zone', '1 #7 banana added to zone', '1 #9 banana added to zone', '1 #10 banana added to zone', '1 #11 bottle added to zone', '1 #11 banana added to zone', '1 #8 hot dog added to zone', '1 #9 bottle added to zone', '1 #17 bottle added to zone', '1 #18 bottle added to zone', '1 #19 apple added to zone', '1 #2 sports ball added to zone', '1 #21 banana added to zone']\n",
      "1 #2 apple ['1 #5 banana added to zone', '1 #4 banana added to zone', '1 #7 banana added to zone', '1 #9 banana added to zone', '1 #10 banana added to zone', '1 #11 bottle added to zone', '1 #11 banana added to zone', '1 #8 hot dog added to zone', '1 #9 bottle added to zone', '1 #17 bottle added to zone', '1 #18 bottle added to zone', '1 #19 apple added to zone', '1 #2 sports ball added to zone', '1 #21 banana added to zone']\n",
      "1 #3 bottle ['1 #5 banana added to zone', '1 #4 banana added to zone', '1 #7 banana added to zone', '1 #9 banana added to zone', '1 #10 banana added to zone', '1 #11 bottle added to zone', '1 #11 banana added to zone', '1 #8 hot dog added to zone', '1 #9 bottle added to zone', '1 #17 bottle added to zone', '1 #18 bottle added to zone', '1 #19 apple added to zone', '1 #2 sports ball added to zone', '1 #21 banana added to zone']\n"
     ]
    },
    {
     "name": "stderr",
     "output_type": "stream",
     "text": [
      "INFO:root:1 #1 banana removed from zone by person 4\n",
      "INFO:root:1 #2 apple removed from zone by person 4\n",
      "INFO:root:1 #3 bottle removed from zone by person 4\n",
      "INFO:root:1 #21 banana added to zone by person 4\n",
      "INFO:root:1 #17 bottle added to zone by person 4\n",
      "video 1/1 (410/640) C:\\Users\\rcheruvu\\Desktop\\openvino_notebooks\\recipes\\automated_detection_tracking\\data\\asset.mp4: 640x640 1 bottle, 1 banana, 853.8ms\n"
     ]
    },
    {
     "name": "stdout",
     "output_type": "stream",
     "text": [
      "1 #1 banana ['1 #5 banana added to zone', '1 #4 banana added to zone', '1 #7 banana added to zone', '1 #9 banana added to zone', '1 #10 banana added to zone', '1 #11 bottle added to zone', '1 #11 banana added to zone', '1 #8 hot dog added to zone', '1 #9 bottle added to zone', '1 #17 bottle added to zone', '1 #18 bottle added to zone', '1 #19 apple added to zone', '1 #2 sports ball added to zone', '1 #21 banana added to zone']\n",
      "1 #2 apple ['1 #5 banana added to zone', '1 #4 banana added to zone', '1 #7 banana added to zone', '1 #9 banana added to zone', '1 #10 banana added to zone', '1 #11 bottle added to zone', '1 #11 banana added to zone', '1 #8 hot dog added to zone', '1 #9 bottle added to zone', '1 #17 bottle added to zone', '1 #18 bottle added to zone', '1 #19 apple added to zone', '1 #2 sports ball added to zone', '1 #21 banana added to zone']\n",
      "1 #3 bottle ['1 #5 banana added to zone', '1 #4 banana added to zone', '1 #7 banana added to zone', '1 #9 banana added to zone', '1 #10 banana added to zone', '1 #11 bottle added to zone', '1 #11 banana added to zone', '1 #8 hot dog added to zone', '1 #9 bottle added to zone', '1 #17 bottle added to zone', '1 #18 bottle added to zone', '1 #19 apple added to zone', '1 #2 sports ball added to zone', '1 #21 banana added to zone']\n"
     ]
    },
    {
     "name": "stderr",
     "output_type": "stream",
     "text": [
      "INFO:root:1 #1 banana removed from zone by person 4\n",
      "INFO:root:1 #2 apple removed from zone by person 4\n",
      "INFO:root:1 #3 bottle removed from zone by person 4\n",
      "INFO:root:1 #21 banana added to zone by person 4\n",
      "INFO:root:1 #17 bottle added to zone by person 4\n",
      "video 1/1 (411/640) C:\\Users\\rcheruvu\\Desktop\\openvino_notebooks\\recipes\\automated_detection_tracking\\data\\asset.mp4: 640x640 1 bottle, 1 banana, 816.7ms\n"
     ]
    },
    {
     "name": "stdout",
     "output_type": "stream",
     "text": [
      "1 #1 banana ['1 #5 banana added to zone', '1 #4 banana added to zone', '1 #7 banana added to zone', '1 #9 banana added to zone', '1 #10 banana added to zone', '1 #11 bottle added to zone', '1 #11 banana added to zone', '1 #8 hot dog added to zone', '1 #9 bottle added to zone', '1 #17 bottle added to zone', '1 #18 bottle added to zone', '1 #19 apple added to zone', '1 #2 sports ball added to zone', '1 #21 banana added to zone']\n",
      "1 #2 apple ['1 #5 banana added to zone', '1 #4 banana added to zone', '1 #7 banana added to zone', '1 #9 banana added to zone', '1 #10 banana added to zone', '1 #11 bottle added to zone', '1 #11 banana added to zone', '1 #8 hot dog added to zone', '1 #9 bottle added to zone', '1 #17 bottle added to zone', '1 #18 bottle added to zone', '1 #19 apple added to zone', '1 #2 sports ball added to zone', '1 #21 banana added to zone']\n",
      "1 #3 bottle ['1 #5 banana added to zone', '1 #4 banana added to zone', '1 #7 banana added to zone', '1 #9 banana added to zone', '1 #10 banana added to zone', '1 #11 bottle added to zone', '1 #11 banana added to zone', '1 #8 hot dog added to zone', '1 #9 bottle added to zone', '1 #17 bottle added to zone', '1 #18 bottle added to zone', '1 #19 apple added to zone', '1 #2 sports ball added to zone', '1 #21 banana added to zone']\n"
     ]
    },
    {
     "name": "stderr",
     "output_type": "stream",
     "text": [
      "INFO:root:1 #1 banana removed from zone by person 4\n",
      "INFO:root:1 #2 apple removed from zone by person 4\n",
      "INFO:root:1 #3 bottle removed from zone by person 4\n",
      "INFO:root:1 #21 banana added to zone by person 4\n",
      "INFO:root:1 #17 bottle added to zone by person 4\n",
      "video 1/1 (412/640) C:\\Users\\rcheruvu\\Desktop\\openvino_notebooks\\recipes\\automated_detection_tracking\\data\\asset.mp4: 640x640 1 bottle, 1 banana, 872.2ms\n"
     ]
    },
    {
     "name": "stdout",
     "output_type": "stream",
     "text": [
      "1 #1 banana ['1 #5 banana added to zone', '1 #4 banana added to zone', '1 #7 banana added to zone', '1 #9 banana added to zone', '1 #10 banana added to zone', '1 #11 bottle added to zone', '1 #11 banana added to zone', '1 #8 hot dog added to zone', '1 #9 bottle added to zone', '1 #17 bottle added to zone', '1 #18 bottle added to zone', '1 #19 apple added to zone', '1 #2 sports ball added to zone', '1 #21 banana added to zone']\n",
      "1 #2 apple ['1 #5 banana added to zone', '1 #4 banana added to zone', '1 #7 banana added to zone', '1 #9 banana added to zone', '1 #10 banana added to zone', '1 #11 bottle added to zone', '1 #11 banana added to zone', '1 #8 hot dog added to zone', '1 #9 bottle added to zone', '1 #17 bottle added to zone', '1 #18 bottle added to zone', '1 #19 apple added to zone', '1 #2 sports ball added to zone', '1 #21 banana added to zone']\n",
      "1 #3 bottle ['1 #5 banana added to zone', '1 #4 banana added to zone', '1 #7 banana added to zone', '1 #9 banana added to zone', '1 #10 banana added to zone', '1 #11 bottle added to zone', '1 #11 banana added to zone', '1 #8 hot dog added to zone', '1 #9 bottle added to zone', '1 #17 bottle added to zone', '1 #18 bottle added to zone', '1 #19 apple added to zone', '1 #2 sports ball added to zone', '1 #21 banana added to zone']\n"
     ]
    },
    {
     "name": "stderr",
     "output_type": "stream",
     "text": [
      "INFO:root:1 #1 banana removed from zone by person 4\n",
      "INFO:root:1 #2 apple removed from zone by person 4\n",
      "INFO:root:1 #3 bottle removed from zone by person 4\n",
      "INFO:root:1 #21 banana added to zone by person 4\n",
      "INFO:root:1 #17 bottle added to zone by person 4\n",
      "video 1/1 (413/640) C:\\Users\\rcheruvu\\Desktop\\openvino_notebooks\\recipes\\automated_detection_tracking\\data\\asset.mp4: 640x640 1 bottle, 1 banana, 781.0ms\n"
     ]
    },
    {
     "name": "stdout",
     "output_type": "stream",
     "text": [
      "1 #1 banana ['1 #5 banana added to zone', '1 #4 banana added to zone', '1 #7 banana added to zone', '1 #9 banana added to zone', '1 #10 banana added to zone', '1 #11 bottle added to zone', '1 #11 banana added to zone', '1 #8 hot dog added to zone', '1 #9 bottle added to zone', '1 #17 bottle added to zone', '1 #18 bottle added to zone', '1 #19 apple added to zone', '1 #2 sports ball added to zone', '1 #21 banana added to zone']\n",
      "1 #2 apple ['1 #5 banana added to zone', '1 #4 banana added to zone', '1 #7 banana added to zone', '1 #9 banana added to zone', '1 #10 banana added to zone', '1 #11 bottle added to zone', '1 #11 banana added to zone', '1 #8 hot dog added to zone', '1 #9 bottle added to zone', '1 #17 bottle added to zone', '1 #18 bottle added to zone', '1 #19 apple added to zone', '1 #2 sports ball added to zone', '1 #21 banana added to zone']\n",
      "1 #3 bottle ['1 #5 banana added to zone', '1 #4 banana added to zone', '1 #7 banana added to zone', '1 #9 banana added to zone', '1 #10 banana added to zone', '1 #11 bottle added to zone', '1 #11 banana added to zone', '1 #8 hot dog added to zone', '1 #9 bottle added to zone', '1 #17 bottle added to zone', '1 #18 bottle added to zone', '1 #19 apple added to zone', '1 #2 sports ball added to zone', '1 #21 banana added to zone']\n"
     ]
    },
    {
     "name": "stderr",
     "output_type": "stream",
     "text": [
      "INFO:root:1 #1 banana removed from zone by person 4\n",
      "INFO:root:1 #2 apple removed from zone by person 4\n",
      "INFO:root:1 #3 bottle removed from zone by person 4\n",
      "INFO:root:1 #21 banana added to zone by person 4\n",
      "INFO:root:1 #17 bottle added to zone by person 4\n",
      "video 1/1 (414/640) C:\\Users\\rcheruvu\\Desktop\\openvino_notebooks\\recipes\\automated_detection_tracking\\data\\asset.mp4: 640x640 1 bottle, 1 banana, 811.6ms\n"
     ]
    },
    {
     "name": "stdout",
     "output_type": "stream",
     "text": [
      "1 #1 banana ['1 #5 banana added to zone', '1 #4 banana added to zone', '1 #7 banana added to zone', '1 #9 banana added to zone', '1 #10 banana added to zone', '1 #11 bottle added to zone', '1 #11 banana added to zone', '1 #8 hot dog added to zone', '1 #9 bottle added to zone', '1 #17 bottle added to zone', '1 #18 bottle added to zone', '1 #19 apple added to zone', '1 #2 sports ball added to zone', '1 #21 banana added to zone']\n",
      "1 #2 apple ['1 #5 banana added to zone', '1 #4 banana added to zone', '1 #7 banana added to zone', '1 #9 banana added to zone', '1 #10 banana added to zone', '1 #11 bottle added to zone', '1 #11 banana added to zone', '1 #8 hot dog added to zone', '1 #9 bottle added to zone', '1 #17 bottle added to zone', '1 #18 bottle added to zone', '1 #19 apple added to zone', '1 #2 sports ball added to zone', '1 #21 banana added to zone']\n",
      "1 #3 bottle ['1 #5 banana added to zone', '1 #4 banana added to zone', '1 #7 banana added to zone', '1 #9 banana added to zone', '1 #10 banana added to zone', '1 #11 bottle added to zone', '1 #11 banana added to zone', '1 #8 hot dog added to zone', '1 #9 bottle added to zone', '1 #17 bottle added to zone', '1 #18 bottle added to zone', '1 #19 apple added to zone', '1 #2 sports ball added to zone', '1 #21 banana added to zone']\n"
     ]
    },
    {
     "name": "stderr",
     "output_type": "stream",
     "text": [
      "INFO:root:1 #1 banana removed from zone by person 4\n",
      "INFO:root:1 #2 apple removed from zone by person 4\n",
      "INFO:root:1 #3 bottle removed from zone by person 4\n",
      "INFO:root:1 #21 banana added to zone by person 4\n",
      "INFO:root:1 #17 bottle added to zone by person 4\n",
      "video 1/1 (415/640) C:\\Users\\rcheruvu\\Desktop\\openvino_notebooks\\recipes\\automated_detection_tracking\\data\\asset.mp4: 640x640 1 bottle, 1 banana, 765.6ms\n"
     ]
    },
    {
     "name": "stdout",
     "output_type": "stream",
     "text": [
      "1 #1 banana ['1 #5 banana added to zone', '1 #4 banana added to zone', '1 #7 banana added to zone', '1 #9 banana added to zone', '1 #10 banana added to zone', '1 #11 bottle added to zone', '1 #11 banana added to zone', '1 #8 hot dog added to zone', '1 #9 bottle added to zone', '1 #17 bottle added to zone', '1 #18 bottle added to zone', '1 #19 apple added to zone', '1 #2 sports ball added to zone', '1 #21 banana added to zone']\n",
      "1 #2 apple ['1 #5 banana added to zone', '1 #4 banana added to zone', '1 #7 banana added to zone', '1 #9 banana added to zone', '1 #10 banana added to zone', '1 #11 bottle added to zone', '1 #11 banana added to zone', '1 #8 hot dog added to zone', '1 #9 bottle added to zone', '1 #17 bottle added to zone', '1 #18 bottle added to zone', '1 #19 apple added to zone', '1 #2 sports ball added to zone', '1 #21 banana added to zone']\n",
      "1 #3 bottle ['1 #5 banana added to zone', '1 #4 banana added to zone', '1 #7 banana added to zone', '1 #9 banana added to zone', '1 #10 banana added to zone', '1 #11 bottle added to zone', '1 #11 banana added to zone', '1 #8 hot dog added to zone', '1 #9 bottle added to zone', '1 #17 bottle added to zone', '1 #18 bottle added to zone', '1 #19 apple added to zone', '1 #2 sports ball added to zone', '1 #21 banana added to zone']\n"
     ]
    },
    {
     "name": "stderr",
     "output_type": "stream",
     "text": [
      "INFO:root:1 #1 banana removed from zone by person 4\n",
      "INFO:root:1 #2 apple removed from zone by person 4\n",
      "INFO:root:1 #3 bottle removed from zone by person 4\n",
      "INFO:root:1 #21 banana added to zone by person 4\n",
      "INFO:root:1 #17 bottle added to zone by person 4\n",
      "video 1/1 (416/640) C:\\Users\\rcheruvu\\Desktop\\openvino_notebooks\\recipes\\automated_detection_tracking\\data\\asset.mp4: 640x640 1 bottle, 1 banana, 773.4ms\n"
     ]
    },
    {
     "name": "stdout",
     "output_type": "stream",
     "text": [
      "1 #1 banana ['1 #5 banana added to zone', '1 #4 banana added to zone', '1 #7 banana added to zone', '1 #9 banana added to zone', '1 #10 banana added to zone', '1 #11 bottle added to zone', '1 #11 banana added to zone', '1 #8 hot dog added to zone', '1 #9 bottle added to zone', '1 #17 bottle added to zone', '1 #18 bottle added to zone', '1 #19 apple added to zone', '1 #2 sports ball added to zone', '1 #21 banana added to zone']\n",
      "1 #2 apple ['1 #5 banana added to zone', '1 #4 banana added to zone', '1 #7 banana added to zone', '1 #9 banana added to zone', '1 #10 banana added to zone', '1 #11 bottle added to zone', '1 #11 banana added to zone', '1 #8 hot dog added to zone', '1 #9 bottle added to zone', '1 #17 bottle added to zone', '1 #18 bottle added to zone', '1 #19 apple added to zone', '1 #2 sports ball added to zone', '1 #21 banana added to zone']\n",
      "1 #3 bottle ['1 #5 banana added to zone', '1 #4 banana added to zone', '1 #7 banana added to zone', '1 #9 banana added to zone', '1 #10 banana added to zone', '1 #11 bottle added to zone', '1 #11 banana added to zone', '1 #8 hot dog added to zone', '1 #9 bottle added to zone', '1 #17 bottle added to zone', '1 #18 bottle added to zone', '1 #19 apple added to zone', '1 #2 sports ball added to zone', '1 #21 banana added to zone']\n"
     ]
    },
    {
     "name": "stderr",
     "output_type": "stream",
     "text": [
      "INFO:root:1 #1 banana removed from zone by person 4\n",
      "INFO:root:1 #2 apple removed from zone by person 4\n",
      "INFO:root:1 #3 bottle removed from zone by person 4\n",
      "INFO:root:1 #21 banana added to zone by person 4\n",
      "INFO:root:1 #17 bottle added to zone by person 4\n",
      "video 1/1 (417/640) C:\\Users\\rcheruvu\\Desktop\\openvino_notebooks\\recipes\\automated_detection_tracking\\data\\asset.mp4: 640x640 1 bottle, 1 banana, 776.1ms\n"
     ]
    },
    {
     "name": "stdout",
     "output_type": "stream",
     "text": [
      "1 #1 banana ['1 #5 banana added to zone', '1 #4 banana added to zone', '1 #7 banana added to zone', '1 #9 banana added to zone', '1 #10 banana added to zone', '1 #11 bottle added to zone', '1 #11 banana added to zone', '1 #8 hot dog added to zone', '1 #9 bottle added to zone', '1 #17 bottle added to zone', '1 #18 bottle added to zone', '1 #19 apple added to zone', '1 #2 sports ball added to zone', '1 #21 banana added to zone']\n",
      "1 #2 apple ['1 #5 banana added to zone', '1 #4 banana added to zone', '1 #7 banana added to zone', '1 #9 banana added to zone', '1 #10 banana added to zone', '1 #11 bottle added to zone', '1 #11 banana added to zone', '1 #8 hot dog added to zone', '1 #9 bottle added to zone', '1 #17 bottle added to zone', '1 #18 bottle added to zone', '1 #19 apple added to zone', '1 #2 sports ball added to zone', '1 #21 banana added to zone']\n",
      "1 #3 bottle ['1 #5 banana added to zone', '1 #4 banana added to zone', '1 #7 banana added to zone', '1 #9 banana added to zone', '1 #10 banana added to zone', '1 #11 bottle added to zone', '1 #11 banana added to zone', '1 #8 hot dog added to zone', '1 #9 bottle added to zone', '1 #17 bottle added to zone', '1 #18 bottle added to zone', '1 #19 apple added to zone', '1 #2 sports ball added to zone', '1 #21 banana added to zone']\n"
     ]
    },
    {
     "name": "stderr",
     "output_type": "stream",
     "text": [
      "INFO:root:1 #1 banana removed from zone by person 4\n",
      "INFO:root:1 #2 apple removed from zone by person 4\n",
      "INFO:root:1 #3 bottle removed from zone by person 4\n",
      "INFO:root:1 #21 banana added to zone by person 4\n",
      "INFO:root:1 #17 bottle added to zone by person 4\n",
      "video 1/1 (418/640) C:\\Users\\rcheruvu\\Desktop\\openvino_notebooks\\recipes\\automated_detection_tracking\\data\\asset.mp4: 640x640 1 bottle, 1 banana, 843.5ms\n"
     ]
    },
    {
     "name": "stdout",
     "output_type": "stream",
     "text": [
      "1 #1 banana ['1 #5 banana added to zone', '1 #4 banana added to zone', '1 #7 banana added to zone', '1 #9 banana added to zone', '1 #10 banana added to zone', '1 #11 bottle added to zone', '1 #11 banana added to zone', '1 #8 hot dog added to zone', '1 #9 bottle added to zone', '1 #17 bottle added to zone', '1 #18 bottle added to zone', '1 #19 apple added to zone', '1 #2 sports ball added to zone', '1 #21 banana added to zone']\n",
      "1 #2 apple ['1 #5 banana added to zone', '1 #4 banana added to zone', '1 #7 banana added to zone', '1 #9 banana added to zone', '1 #10 banana added to zone', '1 #11 bottle added to zone', '1 #11 banana added to zone', '1 #8 hot dog added to zone', '1 #9 bottle added to zone', '1 #17 bottle added to zone', '1 #18 bottle added to zone', '1 #19 apple added to zone', '1 #2 sports ball added to zone', '1 #21 banana added to zone']\n",
      "1 #3 bottle ['1 #5 banana added to zone', '1 #4 banana added to zone', '1 #7 banana added to zone', '1 #9 banana added to zone', '1 #10 banana added to zone', '1 #11 bottle added to zone', '1 #11 banana added to zone', '1 #8 hot dog added to zone', '1 #9 bottle added to zone', '1 #17 bottle added to zone', '1 #18 bottle added to zone', '1 #19 apple added to zone', '1 #2 sports ball added to zone', '1 #21 banana added to zone']\n"
     ]
    },
    {
     "name": "stderr",
     "output_type": "stream",
     "text": [
      "INFO:root:1 #1 banana removed from zone by person 4\n",
      "INFO:root:1 #2 apple removed from zone by person 4\n",
      "INFO:root:1 #3 bottle removed from zone by person 4\n",
      "INFO:root:1 #21 banana added to zone by person 4\n",
      "INFO:root:1 #17 bottle added to zone by person 4\n",
      "video 1/1 (419/640) C:\\Users\\rcheruvu\\Desktop\\openvino_notebooks\\recipes\\automated_detection_tracking\\data\\asset.mp4: 640x640 1 bottle, 1 banana, 779.3ms\n"
     ]
    },
    {
     "name": "stdout",
     "output_type": "stream",
     "text": [
      "1 #1 banana ['1 #5 banana added to zone', '1 #4 banana added to zone', '1 #7 banana added to zone', '1 #9 banana added to zone', '1 #10 banana added to zone', '1 #11 bottle added to zone', '1 #11 banana added to zone', '1 #8 hot dog added to zone', '1 #9 bottle added to zone', '1 #17 bottle added to zone', '1 #18 bottle added to zone', '1 #19 apple added to zone', '1 #2 sports ball added to zone', '1 #21 banana added to zone']\n",
      "1 #2 apple ['1 #5 banana added to zone', '1 #4 banana added to zone', '1 #7 banana added to zone', '1 #9 banana added to zone', '1 #10 banana added to zone', '1 #11 bottle added to zone', '1 #11 banana added to zone', '1 #8 hot dog added to zone', '1 #9 bottle added to zone', '1 #17 bottle added to zone', '1 #18 bottle added to zone', '1 #19 apple added to zone', '1 #2 sports ball added to zone', '1 #21 banana added to zone']\n",
      "1 #3 bottle ['1 #5 banana added to zone', '1 #4 banana added to zone', '1 #7 banana added to zone', '1 #9 banana added to zone', '1 #10 banana added to zone', '1 #11 bottle added to zone', '1 #11 banana added to zone', '1 #8 hot dog added to zone', '1 #9 bottle added to zone', '1 #17 bottle added to zone', '1 #18 bottle added to zone', '1 #19 apple added to zone', '1 #2 sports ball added to zone', '1 #21 banana added to zone']\n"
     ]
    },
    {
     "name": "stderr",
     "output_type": "stream",
     "text": [
      "INFO:root:1 #1 banana removed from zone by person 4\n",
      "INFO:root:1 #2 apple removed from zone by person 4\n",
      "INFO:root:1 #3 bottle removed from zone by person 4\n",
      "INFO:root:1 #21 banana added to zone by person 4\n",
      "INFO:root:1 #17 bottle added to zone by person 4\n",
      "video 1/1 (420/640) C:\\Users\\rcheruvu\\Desktop\\openvino_notebooks\\recipes\\automated_detection_tracking\\data\\asset.mp4: 640x640 1 bottle, 1 banana, 797.6ms\n"
     ]
    },
    {
     "name": "stdout",
     "output_type": "stream",
     "text": [
      "1 #1 banana ['1 #5 banana added to zone', '1 #4 banana added to zone', '1 #7 banana added to zone', '1 #9 banana added to zone', '1 #10 banana added to zone', '1 #11 bottle added to zone', '1 #11 banana added to zone', '1 #8 hot dog added to zone', '1 #9 bottle added to zone', '1 #17 bottle added to zone', '1 #18 bottle added to zone', '1 #19 apple added to zone', '1 #2 sports ball added to zone', '1 #21 banana added to zone']\n",
      "1 #2 apple ['1 #5 banana added to zone', '1 #4 banana added to zone', '1 #7 banana added to zone', '1 #9 banana added to zone', '1 #10 banana added to zone', '1 #11 bottle added to zone', '1 #11 banana added to zone', '1 #8 hot dog added to zone', '1 #9 bottle added to zone', '1 #17 bottle added to zone', '1 #18 bottle added to zone', '1 #19 apple added to zone', '1 #2 sports ball added to zone', '1 #21 banana added to zone']\n",
      "1 #3 bottle ['1 #5 banana added to zone', '1 #4 banana added to zone', '1 #7 banana added to zone', '1 #9 banana added to zone', '1 #10 banana added to zone', '1 #11 bottle added to zone', '1 #11 banana added to zone', '1 #8 hot dog added to zone', '1 #9 bottle added to zone', '1 #17 bottle added to zone', '1 #18 bottle added to zone', '1 #19 apple added to zone', '1 #2 sports ball added to zone', '1 #21 banana added to zone']\n"
     ]
    },
    {
     "name": "stderr",
     "output_type": "stream",
     "text": [
      "INFO:root:1 #1 banana removed from zone by person 4\n",
      "INFO:root:1 #2 apple removed from zone by person 4\n",
      "INFO:root:1 #3 bottle removed from zone by person 4\n",
      "INFO:root:1 #21 banana added to zone by person 4\n",
      "INFO:root:1 #17 bottle added to zone by person 4\n",
      "video 1/1 (421/640) C:\\Users\\rcheruvu\\Desktop\\openvino_notebooks\\recipes\\automated_detection_tracking\\data\\asset.mp4: 640x640 1 bottle, 1 banana, 799.5ms\n"
     ]
    },
    {
     "name": "stdout",
     "output_type": "stream",
     "text": [
      "1 #1 banana ['1 #5 banana added to zone', '1 #4 banana added to zone', '1 #7 banana added to zone', '1 #9 banana added to zone', '1 #10 banana added to zone', '1 #11 bottle added to zone', '1 #11 banana added to zone', '1 #8 hot dog added to zone', '1 #9 bottle added to zone', '1 #17 bottle added to zone', '1 #18 bottle added to zone', '1 #19 apple added to zone', '1 #2 sports ball added to zone', '1 #21 banana added to zone']\n",
      "1 #2 apple ['1 #5 banana added to zone', '1 #4 banana added to zone', '1 #7 banana added to zone', '1 #9 banana added to zone', '1 #10 banana added to zone', '1 #11 bottle added to zone', '1 #11 banana added to zone', '1 #8 hot dog added to zone', '1 #9 bottle added to zone', '1 #17 bottle added to zone', '1 #18 bottle added to zone', '1 #19 apple added to zone', '1 #2 sports ball added to zone', '1 #21 banana added to zone']\n",
      "1 #3 bottle ['1 #5 banana added to zone', '1 #4 banana added to zone', '1 #7 banana added to zone', '1 #9 banana added to zone', '1 #10 banana added to zone', '1 #11 bottle added to zone', '1 #11 banana added to zone', '1 #8 hot dog added to zone', '1 #9 bottle added to zone', '1 #17 bottle added to zone', '1 #18 bottle added to zone', '1 #19 apple added to zone', '1 #2 sports ball added to zone', '1 #21 banana added to zone']\n"
     ]
    },
    {
     "name": "stderr",
     "output_type": "stream",
     "text": [
      "INFO:root:1 #1 banana removed from zone by person 4\n",
      "INFO:root:1 #2 apple removed from zone by person 4\n",
      "INFO:root:1 #3 bottle removed from zone by person 4\n",
      "INFO:root:1 #21 banana added to zone by person 4\n",
      "INFO:root:1 #17 bottle added to zone by person 4\n",
      "video 1/1 (422/640) C:\\Users\\rcheruvu\\Desktop\\openvino_notebooks\\recipes\\automated_detection_tracking\\data\\asset.mp4: 640x640 1 bottle, 1 banana, 774.5ms\n"
     ]
    },
    {
     "name": "stdout",
     "output_type": "stream",
     "text": [
      "1 #1 banana ['1 #5 banana added to zone', '1 #4 banana added to zone', '1 #7 banana added to zone', '1 #9 banana added to zone', '1 #10 banana added to zone', '1 #11 bottle added to zone', '1 #11 banana added to zone', '1 #8 hot dog added to zone', '1 #9 bottle added to zone', '1 #17 bottle added to zone', '1 #18 bottle added to zone', '1 #19 apple added to zone', '1 #2 sports ball added to zone', '1 #21 banana added to zone']\n",
      "1 #2 apple ['1 #5 banana added to zone', '1 #4 banana added to zone', '1 #7 banana added to zone', '1 #9 banana added to zone', '1 #10 banana added to zone', '1 #11 bottle added to zone', '1 #11 banana added to zone', '1 #8 hot dog added to zone', '1 #9 bottle added to zone', '1 #17 bottle added to zone', '1 #18 bottle added to zone', '1 #19 apple added to zone', '1 #2 sports ball added to zone', '1 #21 banana added to zone']\n",
      "1 #3 bottle ['1 #5 banana added to zone', '1 #4 banana added to zone', '1 #7 banana added to zone', '1 #9 banana added to zone', '1 #10 banana added to zone', '1 #11 bottle added to zone', '1 #11 banana added to zone', '1 #8 hot dog added to zone', '1 #9 bottle added to zone', '1 #17 bottle added to zone', '1 #18 bottle added to zone', '1 #19 apple added to zone', '1 #2 sports ball added to zone', '1 #21 banana added to zone']\n"
     ]
    },
    {
     "name": "stderr",
     "output_type": "stream",
     "text": [
      "INFO:root:1 #1 banana removed from zone by person 4\n",
      "INFO:root:1 #2 apple removed from zone by person 4\n",
      "INFO:root:1 #3 bottle removed from zone by person 4\n",
      "INFO:root:1 #21 banana added to zone by person 4\n",
      "INFO:root:1 #17 bottle added to zone by person 4\n",
      "video 1/1 (423/640) C:\\Users\\rcheruvu\\Desktop\\openvino_notebooks\\recipes\\automated_detection_tracking\\data\\asset.mp4: 640x640 1 bottle, 1 banana, 774.7ms\n"
     ]
    },
    {
     "name": "stdout",
     "output_type": "stream",
     "text": [
      "1 #1 banana ['1 #5 banana added to zone', '1 #4 banana added to zone', '1 #7 banana added to zone', '1 #9 banana added to zone', '1 #10 banana added to zone', '1 #11 bottle added to zone', '1 #11 banana added to zone', '1 #8 hot dog added to zone', '1 #9 bottle added to zone', '1 #17 bottle added to zone', '1 #18 bottle added to zone', '1 #19 apple added to zone', '1 #2 sports ball added to zone', '1 #21 banana added to zone']\n",
      "1 #2 apple ['1 #5 banana added to zone', '1 #4 banana added to zone', '1 #7 banana added to zone', '1 #9 banana added to zone', '1 #10 banana added to zone', '1 #11 bottle added to zone', '1 #11 banana added to zone', '1 #8 hot dog added to zone', '1 #9 bottle added to zone', '1 #17 bottle added to zone', '1 #18 bottle added to zone', '1 #19 apple added to zone', '1 #2 sports ball added to zone', '1 #21 banana added to zone']\n",
      "1 #3 bottle ['1 #5 banana added to zone', '1 #4 banana added to zone', '1 #7 banana added to zone', '1 #9 banana added to zone', '1 #10 banana added to zone', '1 #11 bottle added to zone', '1 #11 banana added to zone', '1 #8 hot dog added to zone', '1 #9 bottle added to zone', '1 #17 bottle added to zone', '1 #18 bottle added to zone', '1 #19 apple added to zone', '1 #2 sports ball added to zone', '1 #21 banana added to zone']\n"
     ]
    },
    {
     "name": "stderr",
     "output_type": "stream",
     "text": [
      "INFO:root:1 #1 banana removed from zone by person 4\n",
      "INFO:root:1 #2 apple removed from zone by person 4\n",
      "INFO:root:1 #3 bottle removed from zone by person 4\n",
      "INFO:root:1 #21 banana added to zone by person 4\n",
      "INFO:root:1 #17 bottle added to zone by person 4\n",
      "video 1/1 (424/640) C:\\Users\\rcheruvu\\Desktop\\openvino_notebooks\\recipes\\automated_detection_tracking\\data\\asset.mp4: 640x640 1 bottle, 1 banana, 738.3ms\n"
     ]
    },
    {
     "name": "stdout",
     "output_type": "stream",
     "text": [
      "1 #1 banana ['1 #5 banana added to zone', '1 #4 banana added to zone', '1 #7 banana added to zone', '1 #9 banana added to zone', '1 #10 banana added to zone', '1 #11 bottle added to zone', '1 #11 banana added to zone', '1 #8 hot dog added to zone', '1 #9 bottle added to zone', '1 #17 bottle added to zone', '1 #18 bottle added to zone', '1 #19 apple added to zone', '1 #2 sports ball added to zone', '1 #21 banana added to zone']\n",
      "1 #2 apple ['1 #5 banana added to zone', '1 #4 banana added to zone', '1 #7 banana added to zone', '1 #9 banana added to zone', '1 #10 banana added to zone', '1 #11 bottle added to zone', '1 #11 banana added to zone', '1 #8 hot dog added to zone', '1 #9 bottle added to zone', '1 #17 bottle added to zone', '1 #18 bottle added to zone', '1 #19 apple added to zone', '1 #2 sports ball added to zone', '1 #21 banana added to zone']\n",
      "1 #3 bottle ['1 #5 banana added to zone', '1 #4 banana added to zone', '1 #7 banana added to zone', '1 #9 banana added to zone', '1 #10 banana added to zone', '1 #11 bottle added to zone', '1 #11 banana added to zone', '1 #8 hot dog added to zone', '1 #9 bottle added to zone', '1 #17 bottle added to zone', '1 #18 bottle added to zone', '1 #19 apple added to zone', '1 #2 sports ball added to zone', '1 #21 banana added to zone']\n"
     ]
    },
    {
     "name": "stderr",
     "output_type": "stream",
     "text": [
      "INFO:root:1 #1 banana removed from zone by person 4\n",
      "INFO:root:1 #2 apple removed from zone by person 4\n",
      "INFO:root:1 #3 bottle removed from zone by person 4\n",
      "INFO:root:1 #21 banana added to zone by person 4\n",
      "INFO:root:1 #17 bottle added to zone by person 4\n",
      "video 1/1 (425/640) C:\\Users\\rcheruvu\\Desktop\\openvino_notebooks\\recipes\\automated_detection_tracking\\data\\asset.mp4: 640x640 1 bottle, 1 banana, 780.4ms\n"
     ]
    },
    {
     "name": "stdout",
     "output_type": "stream",
     "text": [
      "1 #1 banana ['1 #5 banana added to zone', '1 #4 banana added to zone', '1 #7 banana added to zone', '1 #9 banana added to zone', '1 #10 banana added to zone', '1 #11 bottle added to zone', '1 #11 banana added to zone', '1 #8 hot dog added to zone', '1 #9 bottle added to zone', '1 #17 bottle added to zone', '1 #18 bottle added to zone', '1 #19 apple added to zone', '1 #2 sports ball added to zone', '1 #21 banana added to zone']\n",
      "1 #2 apple ['1 #5 banana added to zone', '1 #4 banana added to zone', '1 #7 banana added to zone', '1 #9 banana added to zone', '1 #10 banana added to zone', '1 #11 bottle added to zone', '1 #11 banana added to zone', '1 #8 hot dog added to zone', '1 #9 bottle added to zone', '1 #17 bottle added to zone', '1 #18 bottle added to zone', '1 #19 apple added to zone', '1 #2 sports ball added to zone', '1 #21 banana added to zone']\n",
      "1 #3 bottle ['1 #5 banana added to zone', '1 #4 banana added to zone', '1 #7 banana added to zone', '1 #9 banana added to zone', '1 #10 banana added to zone', '1 #11 bottle added to zone', '1 #11 banana added to zone', '1 #8 hot dog added to zone', '1 #9 bottle added to zone', '1 #17 bottle added to zone', '1 #18 bottle added to zone', '1 #19 apple added to zone', '1 #2 sports ball added to zone', '1 #21 banana added to zone']\n"
     ]
    },
    {
     "name": "stderr",
     "output_type": "stream",
     "text": [
      "INFO:root:1 #1 banana removed from zone by person 4\n",
      "INFO:root:1 #2 apple removed from zone by person 4\n",
      "INFO:root:1 #3 bottle removed from zone by person 4\n",
      "INFO:root:1 #21 banana added to zone by person 4\n",
      "INFO:root:1 #17 bottle added to zone by person 4\n",
      "video 1/1 (426/640) C:\\Users\\rcheruvu\\Desktop\\openvino_notebooks\\recipes\\automated_detection_tracking\\data\\asset.mp4: 640x640 1 bottle, 1 banana, 773.0ms\n"
     ]
    },
    {
     "name": "stdout",
     "output_type": "stream",
     "text": [
      "1 #1 banana ['1 #5 banana added to zone', '1 #4 banana added to zone', '1 #7 banana added to zone', '1 #9 banana added to zone', '1 #10 banana added to zone', '1 #11 bottle added to zone', '1 #11 banana added to zone', '1 #8 hot dog added to zone', '1 #9 bottle added to zone', '1 #17 bottle added to zone', '1 #18 bottle added to zone', '1 #19 apple added to zone', '1 #2 sports ball added to zone', '1 #21 banana added to zone']\n",
      "1 #2 apple ['1 #5 banana added to zone', '1 #4 banana added to zone', '1 #7 banana added to zone', '1 #9 banana added to zone', '1 #10 banana added to zone', '1 #11 bottle added to zone', '1 #11 banana added to zone', '1 #8 hot dog added to zone', '1 #9 bottle added to zone', '1 #17 bottle added to zone', '1 #18 bottle added to zone', '1 #19 apple added to zone', '1 #2 sports ball added to zone', '1 #21 banana added to zone']\n",
      "1 #3 bottle ['1 #5 banana added to zone', '1 #4 banana added to zone', '1 #7 banana added to zone', '1 #9 banana added to zone', '1 #10 banana added to zone', '1 #11 bottle added to zone', '1 #11 banana added to zone', '1 #8 hot dog added to zone', '1 #9 bottle added to zone', '1 #17 bottle added to zone', '1 #18 bottle added to zone', '1 #19 apple added to zone', '1 #2 sports ball added to zone', '1 #21 banana added to zone']\n"
     ]
    },
    {
     "name": "stderr",
     "output_type": "stream",
     "text": [
      "INFO:root:1 #1 banana removed from zone by person 4\n",
      "INFO:root:1 #2 apple removed from zone by person 4\n",
      "INFO:root:1 #3 bottle removed from zone by person 4\n",
      "INFO:root:1 #21 banana added to zone by person 4\n",
      "INFO:root:1 #17 bottle added to zone by person 4\n",
      "video 1/1 (427/640) C:\\Users\\rcheruvu\\Desktop\\openvino_notebooks\\recipes\\automated_detection_tracking\\data\\asset.mp4: 640x640 1 bottle, 1 banana, 776.0ms\n"
     ]
    },
    {
     "name": "stdout",
     "output_type": "stream",
     "text": [
      "1 #1 banana ['1 #5 banana added to zone', '1 #4 banana added to zone', '1 #7 banana added to zone', '1 #9 banana added to zone', '1 #10 banana added to zone', '1 #11 bottle added to zone', '1 #11 banana added to zone', '1 #8 hot dog added to zone', '1 #9 bottle added to zone', '1 #17 bottle added to zone', '1 #18 bottle added to zone', '1 #19 apple added to zone', '1 #2 sports ball added to zone', '1 #21 banana added to zone']\n",
      "1 #2 apple ['1 #5 banana added to zone', '1 #4 banana added to zone', '1 #7 banana added to zone', '1 #9 banana added to zone', '1 #10 banana added to zone', '1 #11 bottle added to zone', '1 #11 banana added to zone', '1 #8 hot dog added to zone', '1 #9 bottle added to zone', '1 #17 bottle added to zone', '1 #18 bottle added to zone', '1 #19 apple added to zone', '1 #2 sports ball added to zone', '1 #21 banana added to zone']\n",
      "1 #3 bottle ['1 #5 banana added to zone', '1 #4 banana added to zone', '1 #7 banana added to zone', '1 #9 banana added to zone', '1 #10 banana added to zone', '1 #11 bottle added to zone', '1 #11 banana added to zone', '1 #8 hot dog added to zone', '1 #9 bottle added to zone', '1 #17 bottle added to zone', '1 #18 bottle added to zone', '1 #19 apple added to zone', '1 #2 sports ball added to zone', '1 #21 banana added to zone']\n"
     ]
    },
    {
     "name": "stderr",
     "output_type": "stream",
     "text": [
      "INFO:root:1 #1 banana removed from zone by person 4\n",
      "INFO:root:1 #2 apple removed from zone by person 4\n",
      "INFO:root:1 #3 bottle removed from zone by person 4\n",
      "INFO:root:1 #21 banana added to zone by person 4\n",
      "INFO:root:1 #17 bottle added to zone by person 4\n",
      "video 1/1 (428/640) C:\\Users\\rcheruvu\\Desktop\\openvino_notebooks\\recipes\\automated_detection_tracking\\data\\asset.mp4: 640x640 1 bottle, 1 banana, 755.6ms\n"
     ]
    },
    {
     "name": "stdout",
     "output_type": "stream",
     "text": [
      "1 #1 banana ['1 #5 banana added to zone', '1 #4 banana added to zone', '1 #7 banana added to zone', '1 #9 banana added to zone', '1 #10 banana added to zone', '1 #11 bottle added to zone', '1 #11 banana added to zone', '1 #8 hot dog added to zone', '1 #9 bottle added to zone', '1 #17 bottle added to zone', '1 #18 bottle added to zone', '1 #19 apple added to zone', '1 #2 sports ball added to zone', '1 #21 banana added to zone']\n",
      "1 #2 apple ['1 #5 banana added to zone', '1 #4 banana added to zone', '1 #7 banana added to zone', '1 #9 banana added to zone', '1 #10 banana added to zone', '1 #11 bottle added to zone', '1 #11 banana added to zone', '1 #8 hot dog added to zone', '1 #9 bottle added to zone', '1 #17 bottle added to zone', '1 #18 bottle added to zone', '1 #19 apple added to zone', '1 #2 sports ball added to zone', '1 #21 banana added to zone']\n",
      "1 #3 bottle ['1 #5 banana added to zone', '1 #4 banana added to zone', '1 #7 banana added to zone', '1 #9 banana added to zone', '1 #10 banana added to zone', '1 #11 bottle added to zone', '1 #11 banana added to zone', '1 #8 hot dog added to zone', '1 #9 bottle added to zone', '1 #17 bottle added to zone', '1 #18 bottle added to zone', '1 #19 apple added to zone', '1 #2 sports ball added to zone', '1 #21 banana added to zone']\n"
     ]
    },
    {
     "name": "stderr",
     "output_type": "stream",
     "text": [
      "INFO:root:1 #1 banana removed from zone by person 4\n",
      "INFO:root:1 #2 apple removed from zone by person 4\n",
      "INFO:root:1 #3 bottle removed from zone by person 4\n",
      "INFO:root:1 #21 banana added to zone by person 4\n",
      "INFO:root:1 #17 bottle added to zone by person 4\n",
      "video 1/1 (429/640) C:\\Users\\rcheruvu\\Desktop\\openvino_notebooks\\recipes\\automated_detection_tracking\\data\\asset.mp4: 640x640 1 bottle, 1 banana, 765.7ms\n"
     ]
    },
    {
     "name": "stdout",
     "output_type": "stream",
     "text": [
      "1 #1 banana ['1 #5 banana added to zone', '1 #4 banana added to zone', '1 #7 banana added to zone', '1 #9 banana added to zone', '1 #10 banana added to zone', '1 #11 bottle added to zone', '1 #11 banana added to zone', '1 #8 hot dog added to zone', '1 #9 bottle added to zone', '1 #17 bottle added to zone', '1 #18 bottle added to zone', '1 #19 apple added to zone', '1 #2 sports ball added to zone', '1 #21 banana added to zone']\n",
      "1 #2 apple ['1 #5 banana added to zone', '1 #4 banana added to zone', '1 #7 banana added to zone', '1 #9 banana added to zone', '1 #10 banana added to zone', '1 #11 bottle added to zone', '1 #11 banana added to zone', '1 #8 hot dog added to zone', '1 #9 bottle added to zone', '1 #17 bottle added to zone', '1 #18 bottle added to zone', '1 #19 apple added to zone', '1 #2 sports ball added to zone', '1 #21 banana added to zone']\n",
      "1 #3 bottle ['1 #5 banana added to zone', '1 #4 banana added to zone', '1 #7 banana added to zone', '1 #9 banana added to zone', '1 #10 banana added to zone', '1 #11 bottle added to zone', '1 #11 banana added to zone', '1 #8 hot dog added to zone', '1 #9 bottle added to zone', '1 #17 bottle added to zone', '1 #18 bottle added to zone', '1 #19 apple added to zone', '1 #2 sports ball added to zone', '1 #21 banana added to zone']\n"
     ]
    },
    {
     "name": "stderr",
     "output_type": "stream",
     "text": [
      "INFO:root:1 #1 banana removed from zone by person 4\n",
      "INFO:root:1 #2 apple removed from zone by person 4\n",
      "INFO:root:1 #3 bottle removed from zone by person 4\n",
      "INFO:root:1 #21 banana added to zone by person 4\n",
      "INFO:root:1 #17 bottle added to zone by person 4\n",
      "video 1/1 (430/640) C:\\Users\\rcheruvu\\Desktop\\openvino_notebooks\\recipes\\automated_detection_tracking\\data\\asset.mp4: 640x640 1 bottle, 1 banana, 805.9ms\n"
     ]
    },
    {
     "name": "stdout",
     "output_type": "stream",
     "text": [
      "1 #1 banana ['1 #5 banana added to zone', '1 #4 banana added to zone', '1 #7 banana added to zone', '1 #9 banana added to zone', '1 #10 banana added to zone', '1 #11 bottle added to zone', '1 #11 banana added to zone', '1 #8 hot dog added to zone', '1 #9 bottle added to zone', '1 #17 bottle added to zone', '1 #18 bottle added to zone', '1 #19 apple added to zone', '1 #2 sports ball added to zone', '1 #21 banana added to zone']\n",
      "1 #2 apple ['1 #5 banana added to zone', '1 #4 banana added to zone', '1 #7 banana added to zone', '1 #9 banana added to zone', '1 #10 banana added to zone', '1 #11 bottle added to zone', '1 #11 banana added to zone', '1 #8 hot dog added to zone', '1 #9 bottle added to zone', '1 #17 bottle added to zone', '1 #18 bottle added to zone', '1 #19 apple added to zone', '1 #2 sports ball added to zone', '1 #21 banana added to zone']\n",
      "1 #3 bottle ['1 #5 banana added to zone', '1 #4 banana added to zone', '1 #7 banana added to zone', '1 #9 banana added to zone', '1 #10 banana added to zone', '1 #11 bottle added to zone', '1 #11 banana added to zone', '1 #8 hot dog added to zone', '1 #9 bottle added to zone', '1 #17 bottle added to zone', '1 #18 bottle added to zone', '1 #19 apple added to zone', '1 #2 sports ball added to zone', '1 #21 banana added to zone']\n"
     ]
    },
    {
     "name": "stderr",
     "output_type": "stream",
     "text": [
      "INFO:root:1 #1 banana removed from zone by person 4\n",
      "INFO:root:1 #2 apple removed from zone by person 4\n",
      "INFO:root:1 #3 bottle removed from zone by person 4\n",
      "INFO:root:1 #21 banana added to zone by person 4\n",
      "INFO:root:1 #17 bottle added to zone by person 4\n",
      "video 1/1 (431/640) C:\\Users\\rcheruvu\\Desktop\\openvino_notebooks\\recipes\\automated_detection_tracking\\data\\asset.mp4: 640x640 1 bottle, 1 banana, 790.5ms\n"
     ]
    },
    {
     "name": "stdout",
     "output_type": "stream",
     "text": [
      "1 #1 banana ['1 #5 banana added to zone', '1 #4 banana added to zone', '1 #7 banana added to zone', '1 #9 banana added to zone', '1 #10 banana added to zone', '1 #11 bottle added to zone', '1 #11 banana added to zone', '1 #8 hot dog added to zone', '1 #9 bottle added to zone', '1 #17 bottle added to zone', '1 #18 bottle added to zone', '1 #19 apple added to zone', '1 #2 sports ball added to zone', '1 #21 banana added to zone']\n",
      "1 #2 apple ['1 #5 banana added to zone', '1 #4 banana added to zone', '1 #7 banana added to zone', '1 #9 banana added to zone', '1 #10 banana added to zone', '1 #11 bottle added to zone', '1 #11 banana added to zone', '1 #8 hot dog added to zone', '1 #9 bottle added to zone', '1 #17 bottle added to zone', '1 #18 bottle added to zone', '1 #19 apple added to zone', '1 #2 sports ball added to zone', '1 #21 banana added to zone']\n",
      "1 #3 bottle ['1 #5 banana added to zone', '1 #4 banana added to zone', '1 #7 banana added to zone', '1 #9 banana added to zone', '1 #10 banana added to zone', '1 #11 bottle added to zone', '1 #11 banana added to zone', '1 #8 hot dog added to zone', '1 #9 bottle added to zone', '1 #17 bottle added to zone', '1 #18 bottle added to zone', '1 #19 apple added to zone', '1 #2 sports ball added to zone', '1 #21 banana added to zone']\n"
     ]
    },
    {
     "name": "stderr",
     "output_type": "stream",
     "text": [
      "INFO:root:1 #1 banana removed from zone by person 4\n",
      "INFO:root:1 #2 apple removed from zone by person 4\n",
      "INFO:root:1 #3 bottle removed from zone by person 4\n",
      "INFO:root:1 #21 banana added to zone by person 4\n",
      "INFO:root:1 #17 bottle added to zone by person 4\n",
      "video 1/1 (432/640) C:\\Users\\rcheruvu\\Desktop\\openvino_notebooks\\recipes\\automated_detection_tracking\\data\\asset.mp4: 640x640 1 bottle, 1 banana, 754.4ms\n"
     ]
    },
    {
     "name": "stdout",
     "output_type": "stream",
     "text": [
      "1 #1 banana ['1 #5 banana added to zone', '1 #4 banana added to zone', '1 #7 banana added to zone', '1 #9 banana added to zone', '1 #10 banana added to zone', '1 #11 bottle added to zone', '1 #11 banana added to zone', '1 #8 hot dog added to zone', '1 #9 bottle added to zone', '1 #17 bottle added to zone', '1 #18 bottle added to zone', '1 #19 apple added to zone', '1 #2 sports ball added to zone', '1 #21 banana added to zone']\n",
      "1 #2 apple ['1 #5 banana added to zone', '1 #4 banana added to zone', '1 #7 banana added to zone', '1 #9 banana added to zone', '1 #10 banana added to zone', '1 #11 bottle added to zone', '1 #11 banana added to zone', '1 #8 hot dog added to zone', '1 #9 bottle added to zone', '1 #17 bottle added to zone', '1 #18 bottle added to zone', '1 #19 apple added to zone', '1 #2 sports ball added to zone', '1 #21 banana added to zone']\n",
      "1 #3 bottle ['1 #5 banana added to zone', '1 #4 banana added to zone', '1 #7 banana added to zone', '1 #9 banana added to zone', '1 #10 banana added to zone', '1 #11 bottle added to zone', '1 #11 banana added to zone', '1 #8 hot dog added to zone', '1 #9 bottle added to zone', '1 #17 bottle added to zone', '1 #18 bottle added to zone', '1 #19 apple added to zone', '1 #2 sports ball added to zone', '1 #21 banana added to zone']\n"
     ]
    },
    {
     "name": "stderr",
     "output_type": "stream",
     "text": [
      "INFO:root:1 #1 banana removed from zone by person 4\n",
      "INFO:root:1 #2 apple removed from zone by person 4\n",
      "INFO:root:1 #3 bottle removed from zone by person 4\n",
      "INFO:root:1 #21 banana added to zone by person 4\n",
      "INFO:root:1 #17 bottle added to zone by person 4\n",
      "video 1/1 (433/640) C:\\Users\\rcheruvu\\Desktop\\openvino_notebooks\\recipes\\automated_detection_tracking\\data\\asset.mp4: 640x640 1 bottle, 1 banana, 784.9ms\n"
     ]
    },
    {
     "name": "stdout",
     "output_type": "stream",
     "text": [
      "1 #1 banana ['1 #5 banana added to zone', '1 #4 banana added to zone', '1 #7 banana added to zone', '1 #9 banana added to zone', '1 #10 banana added to zone', '1 #11 bottle added to zone', '1 #11 banana added to zone', '1 #8 hot dog added to zone', '1 #9 bottle added to zone', '1 #17 bottle added to zone', '1 #18 bottle added to zone', '1 #19 apple added to zone', '1 #2 sports ball added to zone', '1 #21 banana added to zone']\n",
      "1 #2 apple ['1 #5 banana added to zone', '1 #4 banana added to zone', '1 #7 banana added to zone', '1 #9 banana added to zone', '1 #10 banana added to zone', '1 #11 bottle added to zone', '1 #11 banana added to zone', '1 #8 hot dog added to zone', '1 #9 bottle added to zone', '1 #17 bottle added to zone', '1 #18 bottle added to zone', '1 #19 apple added to zone', '1 #2 sports ball added to zone', '1 #21 banana added to zone']\n",
      "1 #3 bottle ['1 #5 banana added to zone', '1 #4 banana added to zone', '1 #7 banana added to zone', '1 #9 banana added to zone', '1 #10 banana added to zone', '1 #11 bottle added to zone', '1 #11 banana added to zone', '1 #8 hot dog added to zone', '1 #9 bottle added to zone', '1 #17 bottle added to zone', '1 #18 bottle added to zone', '1 #19 apple added to zone', '1 #2 sports ball added to zone', '1 #21 banana added to zone']\n"
     ]
    },
    {
     "name": "stderr",
     "output_type": "stream",
     "text": [
      "INFO:root:1 #1 banana removed from zone by person 4\n",
      "INFO:root:1 #2 apple removed from zone by person 4\n",
      "INFO:root:1 #3 bottle removed from zone by person 4\n",
      "INFO:root:1 #21 banana added to zone by person 4\n",
      "INFO:root:1 #17 bottle added to zone by person 4\n",
      "video 1/1 (434/640) C:\\Users\\rcheruvu\\Desktop\\openvino_notebooks\\recipes\\automated_detection_tracking\\data\\asset.mp4: 640x640 1 bottle, 1 banana, 754.3ms\n"
     ]
    },
    {
     "name": "stdout",
     "output_type": "stream",
     "text": [
      "1 #1 banana ['1 #5 banana added to zone', '1 #4 banana added to zone', '1 #7 banana added to zone', '1 #9 banana added to zone', '1 #10 banana added to zone', '1 #11 bottle added to zone', '1 #11 banana added to zone', '1 #8 hot dog added to zone', '1 #9 bottle added to zone', '1 #17 bottle added to zone', '1 #18 bottle added to zone', '1 #19 apple added to zone', '1 #2 sports ball added to zone', '1 #21 banana added to zone']\n",
      "1 #2 apple ['1 #5 banana added to zone', '1 #4 banana added to zone', '1 #7 banana added to zone', '1 #9 banana added to zone', '1 #10 banana added to zone', '1 #11 bottle added to zone', '1 #11 banana added to zone', '1 #8 hot dog added to zone', '1 #9 bottle added to zone', '1 #17 bottle added to zone', '1 #18 bottle added to zone', '1 #19 apple added to zone', '1 #2 sports ball added to zone', '1 #21 banana added to zone']\n",
      "1 #3 bottle ['1 #5 banana added to zone', '1 #4 banana added to zone', '1 #7 banana added to zone', '1 #9 banana added to zone', '1 #10 banana added to zone', '1 #11 bottle added to zone', '1 #11 banana added to zone', '1 #8 hot dog added to zone', '1 #9 bottle added to zone', '1 #17 bottle added to zone', '1 #18 bottle added to zone', '1 #19 apple added to zone', '1 #2 sports ball added to zone', '1 #21 banana added to zone']\n"
     ]
    },
    {
     "name": "stderr",
     "output_type": "stream",
     "text": [
      "INFO:root:1 #1 banana removed from zone by person 4\n",
      "INFO:root:1 #2 apple removed from zone by person 4\n",
      "INFO:root:1 #3 bottle removed from zone by person 4\n",
      "INFO:root:1 #21 banana added to zone by person 4\n",
      "INFO:root:1 #17 bottle added to zone by person 4\n",
      "video 1/1 (435/640) C:\\Users\\rcheruvu\\Desktop\\openvino_notebooks\\recipes\\automated_detection_tracking\\data\\asset.mp4: 640x640 1 bottle, 1 banana, 785.3ms\n"
     ]
    },
    {
     "name": "stdout",
     "output_type": "stream",
     "text": [
      "1 #1 banana ['1 #5 banana added to zone', '1 #4 banana added to zone', '1 #7 banana added to zone', '1 #9 banana added to zone', '1 #10 banana added to zone', '1 #11 bottle added to zone', '1 #11 banana added to zone', '1 #8 hot dog added to zone', '1 #9 bottle added to zone', '1 #17 bottle added to zone', '1 #18 bottle added to zone', '1 #19 apple added to zone', '1 #2 sports ball added to zone', '1 #21 banana added to zone']\n",
      "1 #2 apple ['1 #5 banana added to zone', '1 #4 banana added to zone', '1 #7 banana added to zone', '1 #9 banana added to zone', '1 #10 banana added to zone', '1 #11 bottle added to zone', '1 #11 banana added to zone', '1 #8 hot dog added to zone', '1 #9 bottle added to zone', '1 #17 bottle added to zone', '1 #18 bottle added to zone', '1 #19 apple added to zone', '1 #2 sports ball added to zone', '1 #21 banana added to zone']\n",
      "1 #3 bottle ['1 #5 banana added to zone', '1 #4 banana added to zone', '1 #7 banana added to zone', '1 #9 banana added to zone', '1 #10 banana added to zone', '1 #11 bottle added to zone', '1 #11 banana added to zone', '1 #8 hot dog added to zone', '1 #9 bottle added to zone', '1 #17 bottle added to zone', '1 #18 bottle added to zone', '1 #19 apple added to zone', '1 #2 sports ball added to zone', '1 #21 banana added to zone']\n"
     ]
    },
    {
     "name": "stderr",
     "output_type": "stream",
     "text": [
      "INFO:root:1 #1 banana removed from zone by person 4\n",
      "INFO:root:1 #2 apple removed from zone by person 4\n",
      "INFO:root:1 #3 bottle removed from zone by person 4\n",
      "INFO:root:1 #21 banana added to zone by person 4\n",
      "INFO:root:1 #17 bottle added to zone by person 4\n",
      "video 1/1 (436/640) C:\\Users\\rcheruvu\\Desktop\\openvino_notebooks\\recipes\\automated_detection_tracking\\data\\asset.mp4: 640x640 1 bottle, 1 banana, 778.1ms\n"
     ]
    },
    {
     "name": "stdout",
     "output_type": "stream",
     "text": [
      "1 #1 banana ['1 #5 banana added to zone', '1 #4 banana added to zone', '1 #7 banana added to zone', '1 #9 banana added to zone', '1 #10 banana added to zone', '1 #11 bottle added to zone', '1 #11 banana added to zone', '1 #8 hot dog added to zone', '1 #9 bottle added to zone', '1 #17 bottle added to zone', '1 #18 bottle added to zone', '1 #19 apple added to zone', '1 #2 sports ball added to zone', '1 #21 banana added to zone']\n",
      "1 #2 apple ['1 #5 banana added to zone', '1 #4 banana added to zone', '1 #7 banana added to zone', '1 #9 banana added to zone', '1 #10 banana added to zone', '1 #11 bottle added to zone', '1 #11 banana added to zone', '1 #8 hot dog added to zone', '1 #9 bottle added to zone', '1 #17 bottle added to zone', '1 #18 bottle added to zone', '1 #19 apple added to zone', '1 #2 sports ball added to zone', '1 #21 banana added to zone']\n",
      "1 #3 bottle ['1 #5 banana added to zone', '1 #4 banana added to zone', '1 #7 banana added to zone', '1 #9 banana added to zone', '1 #10 banana added to zone', '1 #11 bottle added to zone', '1 #11 banana added to zone', '1 #8 hot dog added to zone', '1 #9 bottle added to zone', '1 #17 bottle added to zone', '1 #18 bottle added to zone', '1 #19 apple added to zone', '1 #2 sports ball added to zone', '1 #21 banana added to zone']\n"
     ]
    },
    {
     "name": "stderr",
     "output_type": "stream",
     "text": [
      "INFO:root:1 #1 banana removed from zone by person 4\n",
      "INFO:root:1 #2 apple removed from zone by person 4\n",
      "INFO:root:1 #3 bottle removed from zone by person 4\n",
      "INFO:root:1 #21 banana added to zone by person 4\n",
      "INFO:root:1 #17 bottle added to zone by person 4\n",
      "video 1/1 (437/640) C:\\Users\\rcheruvu\\Desktop\\openvino_notebooks\\recipes\\automated_detection_tracking\\data\\asset.mp4: 640x640 1 bottle, 1 banana, 755.6ms\n"
     ]
    },
    {
     "name": "stdout",
     "output_type": "stream",
     "text": [
      "1 #1 banana ['1 #5 banana added to zone', '1 #4 banana added to zone', '1 #7 banana added to zone', '1 #9 banana added to zone', '1 #10 banana added to zone', '1 #11 bottle added to zone', '1 #11 banana added to zone', '1 #8 hot dog added to zone', '1 #9 bottle added to zone', '1 #17 bottle added to zone', '1 #18 bottle added to zone', '1 #19 apple added to zone', '1 #2 sports ball added to zone', '1 #21 banana added to zone']\n",
      "1 #2 apple ['1 #5 banana added to zone', '1 #4 banana added to zone', '1 #7 banana added to zone', '1 #9 banana added to zone', '1 #10 banana added to zone', '1 #11 bottle added to zone', '1 #11 banana added to zone', '1 #8 hot dog added to zone', '1 #9 bottle added to zone', '1 #17 bottle added to zone', '1 #18 bottle added to zone', '1 #19 apple added to zone', '1 #2 sports ball added to zone', '1 #21 banana added to zone']\n",
      "1 #3 bottle ['1 #5 banana added to zone', '1 #4 banana added to zone', '1 #7 banana added to zone', '1 #9 banana added to zone', '1 #10 banana added to zone', '1 #11 bottle added to zone', '1 #11 banana added to zone', '1 #8 hot dog added to zone', '1 #9 bottle added to zone', '1 #17 bottle added to zone', '1 #18 bottle added to zone', '1 #19 apple added to zone', '1 #2 sports ball added to zone', '1 #21 banana added to zone']\n"
     ]
    },
    {
     "name": "stderr",
     "output_type": "stream",
     "text": [
      "INFO:root:1 #1 banana removed from zone by person 4\n",
      "INFO:root:1 #2 apple removed from zone by person 4\n",
      "INFO:root:1 #3 bottle removed from zone by person 4\n",
      "INFO:root:1 #21 banana added to zone by person 4\n",
      "INFO:root:1 #17 bottle added to zone by person 4\n",
      "video 1/1 (438/640) C:\\Users\\rcheruvu\\Desktop\\openvino_notebooks\\recipes\\automated_detection_tracking\\data\\asset.mp4: 640x640 1 bottle, 1 banana, 817.4ms\n"
     ]
    },
    {
     "name": "stdout",
     "output_type": "stream",
     "text": [
      "1 #1 banana ['1 #5 banana added to zone', '1 #4 banana added to zone', '1 #7 banana added to zone', '1 #9 banana added to zone', '1 #10 banana added to zone', '1 #11 bottle added to zone', '1 #11 banana added to zone', '1 #8 hot dog added to zone', '1 #9 bottle added to zone', '1 #17 bottle added to zone', '1 #18 bottle added to zone', '1 #19 apple added to zone', '1 #2 sports ball added to zone', '1 #21 banana added to zone']\n",
      "1 #2 apple ['1 #5 banana added to zone', '1 #4 banana added to zone', '1 #7 banana added to zone', '1 #9 banana added to zone', '1 #10 banana added to zone', '1 #11 bottle added to zone', '1 #11 banana added to zone', '1 #8 hot dog added to zone', '1 #9 bottle added to zone', '1 #17 bottle added to zone', '1 #18 bottle added to zone', '1 #19 apple added to zone', '1 #2 sports ball added to zone', '1 #21 banana added to zone']\n",
      "1 #3 bottle ['1 #5 banana added to zone', '1 #4 banana added to zone', '1 #7 banana added to zone', '1 #9 banana added to zone', '1 #10 banana added to zone', '1 #11 bottle added to zone', '1 #11 banana added to zone', '1 #8 hot dog added to zone', '1 #9 bottle added to zone', '1 #17 bottle added to zone', '1 #18 bottle added to zone', '1 #19 apple added to zone', '1 #2 sports ball added to zone', '1 #21 banana added to zone']\n"
     ]
    },
    {
     "name": "stderr",
     "output_type": "stream",
     "text": [
      "INFO:root:1 #1 banana removed from zone by person 4\n",
      "INFO:root:1 #2 apple removed from zone by person 4\n",
      "INFO:root:1 #3 bottle removed from zone by person 4\n",
      "INFO:root:1 #21 banana added to zone by person 4\n",
      "INFO:root:1 #17 bottle added to zone by person 4\n",
      "video 1/1 (439/640) C:\\Users\\rcheruvu\\Desktop\\openvino_notebooks\\recipes\\automated_detection_tracking\\data\\asset.mp4: 640x640 1 bottle, 1 banana, 958.9ms\n"
     ]
    },
    {
     "name": "stdout",
     "output_type": "stream",
     "text": [
      "1 #1 banana ['1 #5 banana added to zone', '1 #4 banana added to zone', '1 #7 banana added to zone', '1 #9 banana added to zone', '1 #10 banana added to zone', '1 #11 bottle added to zone', '1 #11 banana added to zone', '1 #8 hot dog added to zone', '1 #9 bottle added to zone', '1 #17 bottle added to zone', '1 #18 bottle added to zone', '1 #19 apple added to zone', '1 #2 sports ball added to zone', '1 #21 banana added to zone']\n",
      "1 #2 apple ['1 #5 banana added to zone', '1 #4 banana added to zone', '1 #7 banana added to zone', '1 #9 banana added to zone', '1 #10 banana added to zone', '1 #11 bottle added to zone', '1 #11 banana added to zone', '1 #8 hot dog added to zone', '1 #9 bottle added to zone', '1 #17 bottle added to zone', '1 #18 bottle added to zone', '1 #19 apple added to zone', '1 #2 sports ball added to zone', '1 #21 banana added to zone']\n",
      "1 #3 bottle ['1 #5 banana added to zone', '1 #4 banana added to zone', '1 #7 banana added to zone', '1 #9 banana added to zone', '1 #10 banana added to zone', '1 #11 bottle added to zone', '1 #11 banana added to zone', '1 #8 hot dog added to zone', '1 #9 bottle added to zone', '1 #17 bottle added to zone', '1 #18 bottle added to zone', '1 #19 apple added to zone', '1 #2 sports ball added to zone', '1 #21 banana added to zone']\n"
     ]
    },
    {
     "name": "stderr",
     "output_type": "stream",
     "text": [
      "INFO:root:1 #1 banana removed from zone by person 4\n",
      "INFO:root:1 #2 apple removed from zone by person 4\n",
      "INFO:root:1 #3 bottle removed from zone by person 4\n",
      "INFO:root:1 #21 banana added to zone by person 4\n",
      "INFO:root:1 #17 bottle added to zone by person 4\n",
      "video 1/1 (440/640) C:\\Users\\rcheruvu\\Desktop\\openvino_notebooks\\recipes\\automated_detection_tracking\\data\\asset.mp4: 640x640 1 bottle, 1 banana, 1099.0ms\n"
     ]
    },
    {
     "name": "stdout",
     "output_type": "stream",
     "text": [
      "1 #1 banana ['1 #5 banana added to zone', '1 #4 banana added to zone', '1 #7 banana added to zone', '1 #9 banana added to zone', '1 #10 banana added to zone', '1 #11 bottle added to zone', '1 #11 banana added to zone', '1 #8 hot dog added to zone', '1 #9 bottle added to zone', '1 #17 bottle added to zone', '1 #18 bottle added to zone', '1 #19 apple added to zone', '1 #2 sports ball added to zone', '1 #21 banana added to zone']\n",
      "1 #2 apple ['1 #5 banana added to zone', '1 #4 banana added to zone', '1 #7 banana added to zone', '1 #9 banana added to zone', '1 #10 banana added to zone', '1 #11 bottle added to zone', '1 #11 banana added to zone', '1 #8 hot dog added to zone', '1 #9 bottle added to zone', '1 #17 bottle added to zone', '1 #18 bottle added to zone', '1 #19 apple added to zone', '1 #2 sports ball added to zone', '1 #21 banana added to zone']\n",
      "1 #3 bottle ['1 #5 banana added to zone', '1 #4 banana added to zone', '1 #7 banana added to zone', '1 #9 banana added to zone', '1 #10 banana added to zone', '1 #11 bottle added to zone', '1 #11 banana added to zone', '1 #8 hot dog added to zone', '1 #9 bottle added to zone', '1 #17 bottle added to zone', '1 #18 bottle added to zone', '1 #19 apple added to zone', '1 #2 sports ball added to zone', '1 #21 banana added to zone']\n"
     ]
    },
    {
     "name": "stderr",
     "output_type": "stream",
     "text": [
      "INFO:root:1 #1 banana removed from zone by person 4\n",
      "INFO:root:1 #2 apple removed from zone by person 4\n",
      "INFO:root:1 #3 bottle removed from zone by person 4\n",
      "INFO:root:1 #21 banana added to zone by person 4\n",
      "INFO:root:1 #17 bottle added to zone by person 4\n",
      "video 1/1 (441/640) C:\\Users\\rcheruvu\\Desktop\\openvino_notebooks\\recipes\\automated_detection_tracking\\data\\asset.mp4: 640x640 1 bottle, 1 banana, 947.2ms\n"
     ]
    },
    {
     "name": "stdout",
     "output_type": "stream",
     "text": [
      "1 #1 banana ['1 #5 banana added to zone', '1 #4 banana added to zone', '1 #7 banana added to zone', '1 #9 banana added to zone', '1 #10 banana added to zone', '1 #11 bottle added to zone', '1 #11 banana added to zone', '1 #8 hot dog added to zone', '1 #9 bottle added to zone', '1 #17 bottle added to zone', '1 #18 bottle added to zone', '1 #19 apple added to zone', '1 #2 sports ball added to zone', '1 #21 banana added to zone']\n",
      "1 #2 apple ['1 #5 banana added to zone', '1 #4 banana added to zone', '1 #7 banana added to zone', '1 #9 banana added to zone', '1 #10 banana added to zone', '1 #11 bottle added to zone', '1 #11 banana added to zone', '1 #8 hot dog added to zone', '1 #9 bottle added to zone', '1 #17 bottle added to zone', '1 #18 bottle added to zone', '1 #19 apple added to zone', '1 #2 sports ball added to zone', '1 #21 banana added to zone']\n",
      "1 #3 bottle ['1 #5 banana added to zone', '1 #4 banana added to zone', '1 #7 banana added to zone', '1 #9 banana added to zone', '1 #10 banana added to zone', '1 #11 bottle added to zone', '1 #11 banana added to zone', '1 #8 hot dog added to zone', '1 #9 bottle added to zone', '1 #17 bottle added to zone', '1 #18 bottle added to zone', '1 #19 apple added to zone', '1 #2 sports ball added to zone', '1 #21 banana added to zone']\n"
     ]
    },
    {
     "name": "stderr",
     "output_type": "stream",
     "text": [
      "INFO:root:1 #1 banana removed from zone by person 4\n",
      "INFO:root:1 #2 apple removed from zone by person 4\n",
      "INFO:root:1 #3 bottle removed from zone by person 4\n",
      "INFO:root:1 #21 banana added to zone by person 4\n",
      "INFO:root:1 #17 bottle added to zone by person 4\n",
      "video 1/1 (442/640) C:\\Users\\rcheruvu\\Desktop\\openvino_notebooks\\recipes\\automated_detection_tracking\\data\\asset.mp4: 640x640 1 bottle, 1 banana, 950.9ms\n"
     ]
    },
    {
     "name": "stdout",
     "output_type": "stream",
     "text": [
      "1 #1 banana ['1 #5 banana added to zone', '1 #4 banana added to zone', '1 #7 banana added to zone', '1 #9 banana added to zone', '1 #10 banana added to zone', '1 #11 bottle added to zone', '1 #11 banana added to zone', '1 #8 hot dog added to zone', '1 #9 bottle added to zone', '1 #17 bottle added to zone', '1 #18 bottle added to zone', '1 #19 apple added to zone', '1 #2 sports ball added to zone', '1 #21 banana added to zone']\n",
      "1 #2 apple ['1 #5 banana added to zone', '1 #4 banana added to zone', '1 #7 banana added to zone', '1 #9 banana added to zone', '1 #10 banana added to zone', '1 #11 bottle added to zone', '1 #11 banana added to zone', '1 #8 hot dog added to zone', '1 #9 bottle added to zone', '1 #17 bottle added to zone', '1 #18 bottle added to zone', '1 #19 apple added to zone', '1 #2 sports ball added to zone', '1 #21 banana added to zone']\n",
      "1 #3 bottle ['1 #5 banana added to zone', '1 #4 banana added to zone', '1 #7 banana added to zone', '1 #9 banana added to zone', '1 #10 banana added to zone', '1 #11 bottle added to zone', '1 #11 banana added to zone', '1 #8 hot dog added to zone', '1 #9 bottle added to zone', '1 #17 bottle added to zone', '1 #18 bottle added to zone', '1 #19 apple added to zone', '1 #2 sports ball added to zone', '1 #21 banana added to zone']\n"
     ]
    },
    {
     "name": "stderr",
     "output_type": "stream",
     "text": [
      "INFO:root:1 #1 banana removed from zone by person 4\n",
      "INFO:root:1 #2 apple removed from zone by person 4\n",
      "INFO:root:1 #3 bottle removed from zone by person 4\n",
      "INFO:root:1 #21 banana added to zone by person 4\n",
      "INFO:root:1 #17 bottle added to zone by person 4\n",
      "video 1/1 (443/640) C:\\Users\\rcheruvu\\Desktop\\openvino_notebooks\\recipes\\automated_detection_tracking\\data\\asset.mp4: 640x640 1 bottle, 1 banana, 803.7ms\n"
     ]
    },
    {
     "name": "stdout",
     "output_type": "stream",
     "text": [
      "1 #1 banana ['1 #5 banana added to zone', '1 #4 banana added to zone', '1 #7 banana added to zone', '1 #9 banana added to zone', '1 #10 banana added to zone', '1 #11 bottle added to zone', '1 #11 banana added to zone', '1 #8 hot dog added to zone', '1 #9 bottle added to zone', '1 #17 bottle added to zone', '1 #18 bottle added to zone', '1 #19 apple added to zone', '1 #2 sports ball added to zone', '1 #21 banana added to zone']\n",
      "1 #2 apple ['1 #5 banana added to zone', '1 #4 banana added to zone', '1 #7 banana added to zone', '1 #9 banana added to zone', '1 #10 banana added to zone', '1 #11 bottle added to zone', '1 #11 banana added to zone', '1 #8 hot dog added to zone', '1 #9 bottle added to zone', '1 #17 bottle added to zone', '1 #18 bottle added to zone', '1 #19 apple added to zone', '1 #2 sports ball added to zone', '1 #21 banana added to zone']\n",
      "1 #3 bottle ['1 #5 banana added to zone', '1 #4 banana added to zone', '1 #7 banana added to zone', '1 #9 banana added to zone', '1 #10 banana added to zone', '1 #11 bottle added to zone', '1 #11 banana added to zone', '1 #8 hot dog added to zone', '1 #9 bottle added to zone', '1 #17 bottle added to zone', '1 #18 bottle added to zone', '1 #19 apple added to zone', '1 #2 sports ball added to zone', '1 #21 banana added to zone']\n"
     ]
    },
    {
     "name": "stderr",
     "output_type": "stream",
     "text": [
      "INFO:root:1 #1 banana removed from zone by person 4\n",
      "INFO:root:1 #2 apple removed from zone by person 4\n",
      "INFO:root:1 #3 bottle removed from zone by person 4\n",
      "INFO:root:1 #21 banana added to zone by person 4\n",
      "INFO:root:1 #17 bottle added to zone by person 4\n",
      "video 1/1 (444/640) C:\\Users\\rcheruvu\\Desktop\\openvino_notebooks\\recipes\\automated_detection_tracking\\data\\asset.mp4: 640x640 1 bottle, 1 banana, 914.2ms\n"
     ]
    },
    {
     "name": "stdout",
     "output_type": "stream",
     "text": [
      "1 #1 banana ['1 #5 banana added to zone', '1 #4 banana added to zone', '1 #7 banana added to zone', '1 #9 banana added to zone', '1 #10 banana added to zone', '1 #11 bottle added to zone', '1 #11 banana added to zone', '1 #8 hot dog added to zone', '1 #9 bottle added to zone', '1 #17 bottle added to zone', '1 #18 bottle added to zone', '1 #19 apple added to zone', '1 #2 sports ball added to zone', '1 #21 banana added to zone']\n",
      "1 #2 apple ['1 #5 banana added to zone', '1 #4 banana added to zone', '1 #7 banana added to zone', '1 #9 banana added to zone', '1 #10 banana added to zone', '1 #11 bottle added to zone', '1 #11 banana added to zone', '1 #8 hot dog added to zone', '1 #9 bottle added to zone', '1 #17 bottle added to zone', '1 #18 bottle added to zone', '1 #19 apple added to zone', '1 #2 sports ball added to zone', '1 #21 banana added to zone']\n",
      "1 #3 bottle ['1 #5 banana added to zone', '1 #4 banana added to zone', '1 #7 banana added to zone', '1 #9 banana added to zone', '1 #10 banana added to zone', '1 #11 bottle added to zone', '1 #11 banana added to zone', '1 #8 hot dog added to zone', '1 #9 bottle added to zone', '1 #17 bottle added to zone', '1 #18 bottle added to zone', '1 #19 apple added to zone', '1 #2 sports ball added to zone', '1 #21 banana added to zone']\n"
     ]
    },
    {
     "name": "stderr",
     "output_type": "stream",
     "text": [
      "INFO:root:1 #1 banana removed from zone by person 4\n",
      "INFO:root:1 #2 apple removed from zone by person 4\n",
      "INFO:root:1 #3 bottle removed from zone by person 4\n",
      "INFO:root:1 #21 banana added to zone by person 4\n",
      "INFO:root:1 #17 bottle added to zone by person 4\n",
      "video 1/1 (445/640) C:\\Users\\rcheruvu\\Desktop\\openvino_notebooks\\recipes\\automated_detection_tracking\\data\\asset.mp4: 640x640 1 bottle, 1 banana, 1037.0ms\n"
     ]
    },
    {
     "name": "stdout",
     "output_type": "stream",
     "text": [
      "1 #1 banana ['1 #5 banana added to zone', '1 #4 banana added to zone', '1 #7 banana added to zone', '1 #9 banana added to zone', '1 #10 banana added to zone', '1 #11 bottle added to zone', '1 #11 banana added to zone', '1 #8 hot dog added to zone', '1 #9 bottle added to zone', '1 #17 bottle added to zone', '1 #18 bottle added to zone', '1 #19 apple added to zone', '1 #2 sports ball added to zone', '1 #21 banana added to zone']\n",
      "1 #2 apple ['1 #5 banana added to zone', '1 #4 banana added to zone', '1 #7 banana added to zone', '1 #9 banana added to zone', '1 #10 banana added to zone', '1 #11 bottle added to zone', '1 #11 banana added to zone', '1 #8 hot dog added to zone', '1 #9 bottle added to zone', '1 #17 bottle added to zone', '1 #18 bottle added to zone', '1 #19 apple added to zone', '1 #2 sports ball added to zone', '1 #21 banana added to zone']\n",
      "1 #3 bottle ['1 #5 banana added to zone', '1 #4 banana added to zone', '1 #7 banana added to zone', '1 #9 banana added to zone', '1 #10 banana added to zone', '1 #11 bottle added to zone', '1 #11 banana added to zone', '1 #8 hot dog added to zone', '1 #9 bottle added to zone', '1 #17 bottle added to zone', '1 #18 bottle added to zone', '1 #19 apple added to zone', '1 #2 sports ball added to zone', '1 #21 banana added to zone']\n"
     ]
    },
    {
     "name": "stderr",
     "output_type": "stream",
     "text": [
      "INFO:root:1 #1 banana removed from zone by person 4\n",
      "INFO:root:1 #2 apple removed from zone by person 4\n",
      "INFO:root:1 #3 bottle removed from zone by person 4\n",
      "INFO:root:1 #21 banana added to zone by person 4\n",
      "INFO:root:1 #17 bottle added to zone by person 4\n",
      "video 1/1 (446/640) C:\\Users\\rcheruvu\\Desktop\\openvino_notebooks\\recipes\\automated_detection_tracking\\data\\asset.mp4: 640x640 1 bottle, 1 banana, 910.9ms\n"
     ]
    },
    {
     "name": "stdout",
     "output_type": "stream",
     "text": [
      "1 #1 banana ['1 #5 banana added to zone', '1 #4 banana added to zone', '1 #7 banana added to zone', '1 #9 banana added to zone', '1 #10 banana added to zone', '1 #11 bottle added to zone', '1 #11 banana added to zone', '1 #8 hot dog added to zone', '1 #9 bottle added to zone', '1 #17 bottle added to zone', '1 #18 bottle added to zone', '1 #19 apple added to zone', '1 #2 sports ball added to zone', '1 #21 banana added to zone']\n",
      "1 #2 apple ['1 #5 banana added to zone', '1 #4 banana added to zone', '1 #7 banana added to zone', '1 #9 banana added to zone', '1 #10 banana added to zone', '1 #11 bottle added to zone', '1 #11 banana added to zone', '1 #8 hot dog added to zone', '1 #9 bottle added to zone', '1 #17 bottle added to zone', '1 #18 bottle added to zone', '1 #19 apple added to zone', '1 #2 sports ball added to zone', '1 #21 banana added to zone']\n",
      "1 #3 bottle ['1 #5 banana added to zone', '1 #4 banana added to zone', '1 #7 banana added to zone', '1 #9 banana added to zone', '1 #10 banana added to zone', '1 #11 bottle added to zone', '1 #11 banana added to zone', '1 #8 hot dog added to zone', '1 #9 bottle added to zone', '1 #17 bottle added to zone', '1 #18 bottle added to zone', '1 #19 apple added to zone', '1 #2 sports ball added to zone', '1 #21 banana added to zone']\n"
     ]
    },
    {
     "name": "stderr",
     "output_type": "stream",
     "text": [
      "INFO:root:1 #1 banana removed from zone by person 4\n",
      "INFO:root:1 #2 apple removed from zone by person 4\n",
      "INFO:root:1 #3 bottle removed from zone by person 4\n",
      "INFO:root:1 #21 banana added to zone by person 4\n",
      "INFO:root:1 #17 bottle added to zone by person 4\n",
      "video 1/1 (447/640) C:\\Users\\rcheruvu\\Desktop\\openvino_notebooks\\recipes\\automated_detection_tracking\\data\\asset.mp4: 640x640 1 bottle, 1 banana, 1010.2ms\n"
     ]
    },
    {
     "name": "stdout",
     "output_type": "stream",
     "text": [
      "1 #1 banana ['1 #5 banana added to zone', '1 #4 banana added to zone', '1 #7 banana added to zone', '1 #9 banana added to zone', '1 #10 banana added to zone', '1 #11 bottle added to zone', '1 #11 banana added to zone', '1 #8 hot dog added to zone', '1 #9 bottle added to zone', '1 #17 bottle added to zone', '1 #18 bottle added to zone', '1 #19 apple added to zone', '1 #2 sports ball added to zone', '1 #21 banana added to zone']\n",
      "1 #2 apple ['1 #5 banana added to zone', '1 #4 banana added to zone', '1 #7 banana added to zone', '1 #9 banana added to zone', '1 #10 banana added to zone', '1 #11 bottle added to zone', '1 #11 banana added to zone', '1 #8 hot dog added to zone', '1 #9 bottle added to zone', '1 #17 bottle added to zone', '1 #18 bottle added to zone', '1 #19 apple added to zone', '1 #2 sports ball added to zone', '1 #21 banana added to zone']\n",
      "1 #3 bottle ['1 #5 banana added to zone', '1 #4 banana added to zone', '1 #7 banana added to zone', '1 #9 banana added to zone', '1 #10 banana added to zone', '1 #11 bottle added to zone', '1 #11 banana added to zone', '1 #8 hot dog added to zone', '1 #9 bottle added to zone', '1 #17 bottle added to zone', '1 #18 bottle added to zone', '1 #19 apple added to zone', '1 #2 sports ball added to zone', '1 #21 banana added to zone']\n"
     ]
    },
    {
     "name": "stderr",
     "output_type": "stream",
     "text": [
      "INFO:root:1 #1 banana removed from zone by person 4\n",
      "INFO:root:1 #2 apple removed from zone by person 4\n",
      "INFO:root:1 #3 bottle removed from zone by person 4\n",
      "INFO:root:1 #21 banana added to zone by person 4\n",
      "INFO:root:1 #17 bottle added to zone by person 4\n",
      "video 1/1 (448/640) C:\\Users\\rcheruvu\\Desktop\\openvino_notebooks\\recipes\\automated_detection_tracking\\data\\asset.mp4: 640x640 1 bottle, 1 banana, 823.9ms\n"
     ]
    },
    {
     "name": "stdout",
     "output_type": "stream",
     "text": [
      "1 #1 banana ['1 #5 banana added to zone', '1 #4 banana added to zone', '1 #7 banana added to zone', '1 #9 banana added to zone', '1 #10 banana added to zone', '1 #11 bottle added to zone', '1 #11 banana added to zone', '1 #8 hot dog added to zone', '1 #9 bottle added to zone', '1 #17 bottle added to zone', '1 #18 bottle added to zone', '1 #19 apple added to zone', '1 #2 sports ball added to zone', '1 #21 banana added to zone']\n",
      "1 #2 apple ['1 #5 banana added to zone', '1 #4 banana added to zone', '1 #7 banana added to zone', '1 #9 banana added to zone', '1 #10 banana added to zone', '1 #11 bottle added to zone', '1 #11 banana added to zone', '1 #8 hot dog added to zone', '1 #9 bottle added to zone', '1 #17 bottle added to zone', '1 #18 bottle added to zone', '1 #19 apple added to zone', '1 #2 sports ball added to zone', '1 #21 banana added to zone']\n",
      "1 #3 bottle ['1 #5 banana added to zone', '1 #4 banana added to zone', '1 #7 banana added to zone', '1 #9 banana added to zone', '1 #10 banana added to zone', '1 #11 bottle added to zone', '1 #11 banana added to zone', '1 #8 hot dog added to zone', '1 #9 bottle added to zone', '1 #17 bottle added to zone', '1 #18 bottle added to zone', '1 #19 apple added to zone', '1 #2 sports ball added to zone', '1 #21 banana added to zone']\n"
     ]
    },
    {
     "name": "stderr",
     "output_type": "stream",
     "text": [
      "INFO:root:1 #1 banana removed from zone by person 4\n",
      "INFO:root:1 #2 apple removed from zone by person 4\n",
      "INFO:root:1 #3 bottle removed from zone by person 4\n",
      "INFO:root:1 #21 banana added to zone by person 4\n",
      "INFO:root:1 #17 bottle added to zone by person 4\n",
      "video 1/1 (449/640) C:\\Users\\rcheruvu\\Desktop\\openvino_notebooks\\recipes\\automated_detection_tracking\\data\\asset.mp4: 640x640 1 bottle, 1 banana, 1001.7ms\n"
     ]
    },
    {
     "name": "stdout",
     "output_type": "stream",
     "text": [
      "1 #1 banana ['1 #5 banana added to zone', '1 #4 banana added to zone', '1 #7 banana added to zone', '1 #9 banana added to zone', '1 #10 banana added to zone', '1 #11 bottle added to zone', '1 #11 banana added to zone', '1 #8 hot dog added to zone', '1 #9 bottle added to zone', '1 #17 bottle added to zone', '1 #18 bottle added to zone', '1 #19 apple added to zone', '1 #2 sports ball added to zone', '1 #21 banana added to zone']\n",
      "1 #2 apple ['1 #5 banana added to zone', '1 #4 banana added to zone', '1 #7 banana added to zone', '1 #9 banana added to zone', '1 #10 banana added to zone', '1 #11 bottle added to zone', '1 #11 banana added to zone', '1 #8 hot dog added to zone', '1 #9 bottle added to zone', '1 #17 bottle added to zone', '1 #18 bottle added to zone', '1 #19 apple added to zone', '1 #2 sports ball added to zone', '1 #21 banana added to zone']\n",
      "1 #3 bottle ['1 #5 banana added to zone', '1 #4 banana added to zone', '1 #7 banana added to zone', '1 #9 banana added to zone', '1 #10 banana added to zone', '1 #11 bottle added to zone', '1 #11 banana added to zone', '1 #8 hot dog added to zone', '1 #9 bottle added to zone', '1 #17 bottle added to zone', '1 #18 bottle added to zone', '1 #19 apple added to zone', '1 #2 sports ball added to zone', '1 #21 banana added to zone']\n"
     ]
    },
    {
     "name": "stderr",
     "output_type": "stream",
     "text": [
      "INFO:root:1 #1 banana removed from zone by person 4\n",
      "INFO:root:1 #2 apple removed from zone by person 4\n",
      "INFO:root:1 #3 bottle removed from zone by person 4\n",
      "INFO:root:1 #21 banana added to zone by person 4\n",
      "INFO:root:1 #17 bottle added to zone by person 4\n",
      "video 1/1 (450/640) C:\\Users\\rcheruvu\\Desktop\\openvino_notebooks\\recipes\\automated_detection_tracking\\data\\asset.mp4: 640x640 1 bottle, 1 banana, 867.8ms\n"
     ]
    },
    {
     "name": "stdout",
     "output_type": "stream",
     "text": [
      "1 #1 banana ['1 #5 banana added to zone', '1 #4 banana added to zone', '1 #7 banana added to zone', '1 #9 banana added to zone', '1 #10 banana added to zone', '1 #11 bottle added to zone', '1 #11 banana added to zone', '1 #8 hot dog added to zone', '1 #9 bottle added to zone', '1 #17 bottle added to zone', '1 #18 bottle added to zone', '1 #19 apple added to zone', '1 #2 sports ball added to zone', '1 #21 banana added to zone']\n",
      "1 #2 apple ['1 #5 banana added to zone', '1 #4 banana added to zone', '1 #7 banana added to zone', '1 #9 banana added to zone', '1 #10 banana added to zone', '1 #11 bottle added to zone', '1 #11 banana added to zone', '1 #8 hot dog added to zone', '1 #9 bottle added to zone', '1 #17 bottle added to zone', '1 #18 bottle added to zone', '1 #19 apple added to zone', '1 #2 sports ball added to zone', '1 #21 banana added to zone']\n",
      "1 #3 bottle ['1 #5 banana added to zone', '1 #4 banana added to zone', '1 #7 banana added to zone', '1 #9 banana added to zone', '1 #10 banana added to zone', '1 #11 bottle added to zone', '1 #11 banana added to zone', '1 #8 hot dog added to zone', '1 #9 bottle added to zone', '1 #17 bottle added to zone', '1 #18 bottle added to zone', '1 #19 apple added to zone', '1 #2 sports ball added to zone', '1 #21 banana added to zone']\n"
     ]
    },
    {
     "name": "stderr",
     "output_type": "stream",
     "text": [
      "INFO:root:1 #1 banana removed from zone by person 4\n",
      "INFO:root:1 #2 apple removed from zone by person 4\n",
      "INFO:root:1 #3 bottle removed from zone by person 4\n",
      "INFO:root:1 #21 banana added to zone by person 4\n",
      "INFO:root:1 #17 bottle added to zone by person 4\n",
      "video 1/1 (451/640) C:\\Users\\rcheruvu\\Desktop\\openvino_notebooks\\recipes\\automated_detection_tracking\\data\\asset.mp4: 640x640 1 bottle, 1 banana, 971.6ms\n"
     ]
    },
    {
     "name": "stdout",
     "output_type": "stream",
     "text": [
      "1 #1 banana ['1 #5 banana added to zone', '1 #4 banana added to zone', '1 #7 banana added to zone', '1 #9 banana added to zone', '1 #10 banana added to zone', '1 #11 bottle added to zone', '1 #11 banana added to zone', '1 #8 hot dog added to zone', '1 #9 bottle added to zone', '1 #17 bottle added to zone', '1 #18 bottle added to zone', '1 #19 apple added to zone', '1 #2 sports ball added to zone', '1 #21 banana added to zone']\n",
      "1 #2 apple ['1 #5 banana added to zone', '1 #4 banana added to zone', '1 #7 banana added to zone', '1 #9 banana added to zone', '1 #10 banana added to zone', '1 #11 bottle added to zone', '1 #11 banana added to zone', '1 #8 hot dog added to zone', '1 #9 bottle added to zone', '1 #17 bottle added to zone', '1 #18 bottle added to zone', '1 #19 apple added to zone', '1 #2 sports ball added to zone', '1 #21 banana added to zone']\n",
      "1 #3 bottle ['1 #5 banana added to zone', '1 #4 banana added to zone', '1 #7 banana added to zone', '1 #9 banana added to zone', '1 #10 banana added to zone', '1 #11 bottle added to zone', '1 #11 banana added to zone', '1 #8 hot dog added to zone', '1 #9 bottle added to zone', '1 #17 bottle added to zone', '1 #18 bottle added to zone', '1 #19 apple added to zone', '1 #2 sports ball added to zone', '1 #21 banana added to zone']\n"
     ]
    },
    {
     "name": "stderr",
     "output_type": "stream",
     "text": [
      "INFO:root:1 #1 banana removed from zone by person 4\n",
      "INFO:root:1 #2 apple removed from zone by person 4\n",
      "INFO:root:1 #3 bottle removed from zone by person 4\n",
      "INFO:root:1 #21 banana added to zone by person 4\n",
      "INFO:root:1 #17 bottle added to zone by person 4\n",
      "video 1/1 (452/640) C:\\Users\\rcheruvu\\Desktop\\openvino_notebooks\\recipes\\automated_detection_tracking\\data\\asset.mp4: 640x640 1 bottle, 1 banana, 933.6ms\n"
     ]
    },
    {
     "name": "stdout",
     "output_type": "stream",
     "text": [
      "1 #1 banana ['1 #5 banana added to zone', '1 #4 banana added to zone', '1 #7 banana added to zone', '1 #9 banana added to zone', '1 #10 banana added to zone', '1 #11 bottle added to zone', '1 #11 banana added to zone', '1 #8 hot dog added to zone', '1 #9 bottle added to zone', '1 #17 bottle added to zone', '1 #18 bottle added to zone', '1 #19 apple added to zone', '1 #2 sports ball added to zone', '1 #21 banana added to zone']\n",
      "1 #2 apple ['1 #5 banana added to zone', '1 #4 banana added to zone', '1 #7 banana added to zone', '1 #9 banana added to zone', '1 #10 banana added to zone', '1 #11 bottle added to zone', '1 #11 banana added to zone', '1 #8 hot dog added to zone', '1 #9 bottle added to zone', '1 #17 bottle added to zone', '1 #18 bottle added to zone', '1 #19 apple added to zone', '1 #2 sports ball added to zone', '1 #21 banana added to zone']\n",
      "1 #3 bottle ['1 #5 banana added to zone', '1 #4 banana added to zone', '1 #7 banana added to zone', '1 #9 banana added to zone', '1 #10 banana added to zone', '1 #11 bottle added to zone', '1 #11 banana added to zone', '1 #8 hot dog added to zone', '1 #9 bottle added to zone', '1 #17 bottle added to zone', '1 #18 bottle added to zone', '1 #19 apple added to zone', '1 #2 sports ball added to zone', '1 #21 banana added to zone']\n"
     ]
    },
    {
     "name": "stderr",
     "output_type": "stream",
     "text": [
      "INFO:root:1 #1 banana removed from zone by person 4\n",
      "INFO:root:1 #2 apple removed from zone by person 4\n",
      "INFO:root:1 #3 bottle removed from zone by person 4\n",
      "INFO:root:1 #21 banana added to zone by person 4\n",
      "INFO:root:1 #17 bottle added to zone by person 4\n",
      "video 1/1 (453/640) C:\\Users\\rcheruvu\\Desktop\\openvino_notebooks\\recipes\\automated_detection_tracking\\data\\asset.mp4: 640x640 1 bottle, 1 banana, 976.7ms\n"
     ]
    },
    {
     "name": "stdout",
     "output_type": "stream",
     "text": [
      "1 #1 banana ['1 #5 banana added to zone', '1 #4 banana added to zone', '1 #7 banana added to zone', '1 #9 banana added to zone', '1 #10 banana added to zone', '1 #11 bottle added to zone', '1 #11 banana added to zone', '1 #8 hot dog added to zone', '1 #9 bottle added to zone', '1 #17 bottle added to zone', '1 #18 bottle added to zone', '1 #19 apple added to zone', '1 #2 sports ball added to zone', '1 #21 banana added to zone']\n",
      "1 #2 apple ['1 #5 banana added to zone', '1 #4 banana added to zone', '1 #7 banana added to zone', '1 #9 banana added to zone', '1 #10 banana added to zone', '1 #11 bottle added to zone', '1 #11 banana added to zone', '1 #8 hot dog added to zone', '1 #9 bottle added to zone', '1 #17 bottle added to zone', '1 #18 bottle added to zone', '1 #19 apple added to zone', '1 #2 sports ball added to zone', '1 #21 banana added to zone']\n",
      "1 #3 bottle ['1 #5 banana added to zone', '1 #4 banana added to zone', '1 #7 banana added to zone', '1 #9 banana added to zone', '1 #10 banana added to zone', '1 #11 bottle added to zone', '1 #11 banana added to zone', '1 #8 hot dog added to zone', '1 #9 bottle added to zone', '1 #17 bottle added to zone', '1 #18 bottle added to zone', '1 #19 apple added to zone', '1 #2 sports ball added to zone', '1 #21 banana added to zone']\n"
     ]
    },
    {
     "name": "stderr",
     "output_type": "stream",
     "text": [
      "INFO:root:1 #1 banana removed from zone by person 4\n",
      "INFO:root:1 #2 apple removed from zone by person 4\n",
      "INFO:root:1 #3 bottle removed from zone by person 4\n",
      "INFO:root:1 #21 banana added to zone by person 4\n",
      "INFO:root:1 #17 bottle added to zone by person 4\n",
      "video 1/1 (454/640) C:\\Users\\rcheruvu\\Desktop\\openvino_notebooks\\recipes\\automated_detection_tracking\\data\\asset.mp4: 640x640 1 bottle, 1 banana, 918.2ms\n"
     ]
    },
    {
     "name": "stdout",
     "output_type": "stream",
     "text": [
      "1 #1 banana ['1 #5 banana added to zone', '1 #4 banana added to zone', '1 #7 banana added to zone', '1 #9 banana added to zone', '1 #10 banana added to zone', '1 #11 bottle added to zone', '1 #11 banana added to zone', '1 #8 hot dog added to zone', '1 #9 bottle added to zone', '1 #17 bottle added to zone', '1 #18 bottle added to zone', '1 #19 apple added to zone', '1 #2 sports ball added to zone', '1 #21 banana added to zone']\n",
      "1 #2 apple ['1 #5 banana added to zone', '1 #4 banana added to zone', '1 #7 banana added to zone', '1 #9 banana added to zone', '1 #10 banana added to zone', '1 #11 bottle added to zone', '1 #11 banana added to zone', '1 #8 hot dog added to zone', '1 #9 bottle added to zone', '1 #17 bottle added to zone', '1 #18 bottle added to zone', '1 #19 apple added to zone', '1 #2 sports ball added to zone', '1 #21 banana added to zone']\n",
      "1 #3 bottle ['1 #5 banana added to zone', '1 #4 banana added to zone', '1 #7 banana added to zone', '1 #9 banana added to zone', '1 #10 banana added to zone', '1 #11 bottle added to zone', '1 #11 banana added to zone', '1 #8 hot dog added to zone', '1 #9 bottle added to zone', '1 #17 bottle added to zone', '1 #18 bottle added to zone', '1 #19 apple added to zone', '1 #2 sports ball added to zone', '1 #21 banana added to zone']\n"
     ]
    },
    {
     "name": "stderr",
     "output_type": "stream",
     "text": [
      "INFO:root:1 #1 banana removed from zone by person 4\n",
      "INFO:root:1 #2 apple removed from zone by person 4\n",
      "INFO:root:1 #3 bottle removed from zone by person 4\n",
      "INFO:root:1 #21 banana added to zone by person 4\n",
      "INFO:root:1 #17 bottle added to zone by person 4\n",
      "video 1/1 (455/640) C:\\Users\\rcheruvu\\Desktop\\openvino_notebooks\\recipes\\automated_detection_tracking\\data\\asset.mp4: 640x640 1 bottle, 1 banana, 1116.8ms\n"
     ]
    },
    {
     "name": "stdout",
     "output_type": "stream",
     "text": [
      "1 #1 banana ['1 #5 banana added to zone', '1 #4 banana added to zone', '1 #7 banana added to zone', '1 #9 banana added to zone', '1 #10 banana added to zone', '1 #11 bottle added to zone', '1 #11 banana added to zone', '1 #8 hot dog added to zone', '1 #9 bottle added to zone', '1 #17 bottle added to zone', '1 #18 bottle added to zone', '1 #19 apple added to zone', '1 #2 sports ball added to zone', '1 #21 banana added to zone']\n",
      "1 #2 apple ['1 #5 banana added to zone', '1 #4 banana added to zone', '1 #7 banana added to zone', '1 #9 banana added to zone', '1 #10 banana added to zone', '1 #11 bottle added to zone', '1 #11 banana added to zone', '1 #8 hot dog added to zone', '1 #9 bottle added to zone', '1 #17 bottle added to zone', '1 #18 bottle added to zone', '1 #19 apple added to zone', '1 #2 sports ball added to zone', '1 #21 banana added to zone']\n",
      "1 #3 bottle ['1 #5 banana added to zone', '1 #4 banana added to zone', '1 #7 banana added to zone', '1 #9 banana added to zone', '1 #10 banana added to zone', '1 #11 bottle added to zone', '1 #11 banana added to zone', '1 #8 hot dog added to zone', '1 #9 bottle added to zone', '1 #17 bottle added to zone', '1 #18 bottle added to zone', '1 #19 apple added to zone', '1 #2 sports ball added to zone', '1 #21 banana added to zone']\n"
     ]
    },
    {
     "name": "stderr",
     "output_type": "stream",
     "text": [
      "INFO:root:1 #1 banana removed from zone by person 4\n",
      "INFO:root:1 #2 apple removed from zone by person 4\n",
      "INFO:root:1 #3 bottle removed from zone by person 4\n",
      "INFO:root:1 #21 banana added to zone by person 4\n",
      "INFO:root:1 #17 bottle added to zone by person 4\n",
      "video 1/1 (456/640) C:\\Users\\rcheruvu\\Desktop\\openvino_notebooks\\recipes\\automated_detection_tracking\\data\\asset.mp4: 640x640 1 bottle, 1 banana, 1204.9ms\n"
     ]
    },
    {
     "name": "stdout",
     "output_type": "stream",
     "text": [
      "1 #1 banana ['1 #5 banana added to zone', '1 #4 banana added to zone', '1 #7 banana added to zone', '1 #9 banana added to zone', '1 #10 banana added to zone', '1 #11 bottle added to zone', '1 #11 banana added to zone', '1 #8 hot dog added to zone', '1 #9 bottle added to zone', '1 #17 bottle added to zone', '1 #18 bottle added to zone', '1 #19 apple added to zone', '1 #2 sports ball added to zone', '1 #21 banana added to zone']\n",
      "1 #2 apple ['1 #5 banana added to zone', '1 #4 banana added to zone', '1 #7 banana added to zone', '1 #9 banana added to zone', '1 #10 banana added to zone', '1 #11 bottle added to zone', '1 #11 banana added to zone', '1 #8 hot dog added to zone', '1 #9 bottle added to zone', '1 #17 bottle added to zone', '1 #18 bottle added to zone', '1 #19 apple added to zone', '1 #2 sports ball added to zone', '1 #21 banana added to zone']\n",
      "1 #3 bottle ['1 #5 banana added to zone', '1 #4 banana added to zone', '1 #7 banana added to zone', '1 #9 banana added to zone', '1 #10 banana added to zone', '1 #11 bottle added to zone', '1 #11 banana added to zone', '1 #8 hot dog added to zone', '1 #9 bottle added to zone', '1 #17 bottle added to zone', '1 #18 bottle added to zone', '1 #19 apple added to zone', '1 #2 sports ball added to zone', '1 #21 banana added to zone']\n"
     ]
    },
    {
     "name": "stderr",
     "output_type": "stream",
     "text": [
      "INFO:root:1 #1 banana removed from zone by person 4\n",
      "INFO:root:1 #2 apple removed from zone by person 4\n",
      "INFO:root:1 #3 bottle removed from zone by person 4\n",
      "INFO:root:1 #21 banana added to zone by person 4\n",
      "INFO:root:1 #17 bottle added to zone by person 4\n",
      "video 1/1 (457/640) C:\\Users\\rcheruvu\\Desktop\\openvino_notebooks\\recipes\\automated_detection_tracking\\data\\asset.mp4: 640x640 1 bottle, 1 banana, 937.8ms\n"
     ]
    },
    {
     "name": "stdout",
     "output_type": "stream",
     "text": [
      "1 #1 banana ['1 #5 banana added to zone', '1 #4 banana added to zone', '1 #7 banana added to zone', '1 #9 banana added to zone', '1 #10 banana added to zone', '1 #11 bottle added to zone', '1 #11 banana added to zone', '1 #8 hot dog added to zone', '1 #9 bottle added to zone', '1 #17 bottle added to zone', '1 #18 bottle added to zone', '1 #19 apple added to zone', '1 #2 sports ball added to zone', '1 #21 banana added to zone']\n",
      "1 #2 apple ['1 #5 banana added to zone', '1 #4 banana added to zone', '1 #7 banana added to zone', '1 #9 banana added to zone', '1 #10 banana added to zone', '1 #11 bottle added to zone', '1 #11 banana added to zone', '1 #8 hot dog added to zone', '1 #9 bottle added to zone', '1 #17 bottle added to zone', '1 #18 bottle added to zone', '1 #19 apple added to zone', '1 #2 sports ball added to zone', '1 #21 banana added to zone']\n",
      "1 #3 bottle ['1 #5 banana added to zone', '1 #4 banana added to zone', '1 #7 banana added to zone', '1 #9 banana added to zone', '1 #10 banana added to zone', '1 #11 bottle added to zone', '1 #11 banana added to zone', '1 #8 hot dog added to zone', '1 #9 bottle added to zone', '1 #17 bottle added to zone', '1 #18 bottle added to zone', '1 #19 apple added to zone', '1 #2 sports ball added to zone', '1 #21 banana added to zone']\n"
     ]
    },
    {
     "name": "stderr",
     "output_type": "stream",
     "text": [
      "INFO:root:1 #1 banana removed from zone by person 4\n",
      "INFO:root:1 #2 apple removed from zone by person 4\n",
      "INFO:root:1 #3 bottle removed from zone by person 4\n",
      "INFO:root:1 #21 banana added to zone by person 4\n",
      "INFO:root:1 #17 bottle added to zone by person 4\n",
      "video 1/1 (458/640) C:\\Users\\rcheruvu\\Desktop\\openvino_notebooks\\recipes\\automated_detection_tracking\\data\\asset.mp4: 640x640 1 bottle, 1 banana, 961.3ms\n"
     ]
    },
    {
     "name": "stdout",
     "output_type": "stream",
     "text": [
      "1 #1 banana ['1 #5 banana added to zone', '1 #4 banana added to zone', '1 #7 banana added to zone', '1 #9 banana added to zone', '1 #10 banana added to zone', '1 #11 bottle added to zone', '1 #11 banana added to zone', '1 #8 hot dog added to zone', '1 #9 bottle added to zone', '1 #17 bottle added to zone', '1 #18 bottle added to zone', '1 #19 apple added to zone', '1 #2 sports ball added to zone', '1 #21 banana added to zone']\n",
      "1 #2 apple ['1 #5 banana added to zone', '1 #4 banana added to zone', '1 #7 banana added to zone', '1 #9 banana added to zone', '1 #10 banana added to zone', '1 #11 bottle added to zone', '1 #11 banana added to zone', '1 #8 hot dog added to zone', '1 #9 bottle added to zone', '1 #17 bottle added to zone', '1 #18 bottle added to zone', '1 #19 apple added to zone', '1 #2 sports ball added to zone', '1 #21 banana added to zone']\n",
      "1 #3 bottle ['1 #5 banana added to zone', '1 #4 banana added to zone', '1 #7 banana added to zone', '1 #9 banana added to zone', '1 #10 banana added to zone', '1 #11 bottle added to zone', '1 #11 banana added to zone', '1 #8 hot dog added to zone', '1 #9 bottle added to zone', '1 #17 bottle added to zone', '1 #18 bottle added to zone', '1 #19 apple added to zone', '1 #2 sports ball added to zone', '1 #21 banana added to zone']\n"
     ]
    },
    {
     "name": "stderr",
     "output_type": "stream",
     "text": [
      "INFO:root:1 #1 banana removed from zone by person 4\n",
      "INFO:root:1 #2 apple removed from zone by person 4\n",
      "INFO:root:1 #3 bottle removed from zone by person 4\n",
      "INFO:root:1 #21 banana added to zone by person 4\n",
      "INFO:root:1 #17 bottle added to zone by person 4\n",
      "video 1/1 (459/640) C:\\Users\\rcheruvu\\Desktop\\openvino_notebooks\\recipes\\automated_detection_tracking\\data\\asset.mp4: 640x640 1 bottle, 1 banana, 968.5ms\n"
     ]
    },
    {
     "name": "stdout",
     "output_type": "stream",
     "text": [
      "1 #1 banana ['1 #5 banana added to zone', '1 #4 banana added to zone', '1 #7 banana added to zone', '1 #9 banana added to zone', '1 #10 banana added to zone', '1 #11 bottle added to zone', '1 #11 banana added to zone', '1 #8 hot dog added to zone', '1 #9 bottle added to zone', '1 #17 bottle added to zone', '1 #18 bottle added to zone', '1 #19 apple added to zone', '1 #2 sports ball added to zone', '1 #21 banana added to zone']\n",
      "1 #2 apple ['1 #5 banana added to zone', '1 #4 banana added to zone', '1 #7 banana added to zone', '1 #9 banana added to zone', '1 #10 banana added to zone', '1 #11 bottle added to zone', '1 #11 banana added to zone', '1 #8 hot dog added to zone', '1 #9 bottle added to zone', '1 #17 bottle added to zone', '1 #18 bottle added to zone', '1 #19 apple added to zone', '1 #2 sports ball added to zone', '1 #21 banana added to zone']\n",
      "1 #3 bottle ['1 #5 banana added to zone', '1 #4 banana added to zone', '1 #7 banana added to zone', '1 #9 banana added to zone', '1 #10 banana added to zone', '1 #11 bottle added to zone', '1 #11 banana added to zone', '1 #8 hot dog added to zone', '1 #9 bottle added to zone', '1 #17 bottle added to zone', '1 #18 bottle added to zone', '1 #19 apple added to zone', '1 #2 sports ball added to zone', '1 #21 banana added to zone']\n"
     ]
    },
    {
     "name": "stderr",
     "output_type": "stream",
     "text": [
      "INFO:root:1 #1 banana removed from zone by person 4\n",
      "INFO:root:1 #2 apple removed from zone by person 4\n",
      "INFO:root:1 #3 bottle removed from zone by person 4\n",
      "INFO:root:1 #21 banana added to zone by person 4\n",
      "INFO:root:1 #17 bottle added to zone by person 4\n",
      "video 1/1 (460/640) C:\\Users\\rcheruvu\\Desktop\\openvino_notebooks\\recipes\\automated_detection_tracking\\data\\asset.mp4: 640x640 1 bottle, 1 banana, 965.6ms\n"
     ]
    },
    {
     "name": "stdout",
     "output_type": "stream",
     "text": [
      "1 #1 banana ['1 #5 banana added to zone', '1 #4 banana added to zone', '1 #7 banana added to zone', '1 #9 banana added to zone', '1 #10 banana added to zone', '1 #11 bottle added to zone', '1 #11 banana added to zone', '1 #8 hot dog added to zone', '1 #9 bottle added to zone', '1 #17 bottle added to zone', '1 #18 bottle added to zone', '1 #19 apple added to zone', '1 #2 sports ball added to zone', '1 #21 banana added to zone']\n",
      "1 #2 apple ['1 #5 banana added to zone', '1 #4 banana added to zone', '1 #7 banana added to zone', '1 #9 banana added to zone', '1 #10 banana added to zone', '1 #11 bottle added to zone', '1 #11 banana added to zone', '1 #8 hot dog added to zone', '1 #9 bottle added to zone', '1 #17 bottle added to zone', '1 #18 bottle added to zone', '1 #19 apple added to zone', '1 #2 sports ball added to zone', '1 #21 banana added to zone']\n",
      "1 #3 bottle ['1 #5 banana added to zone', '1 #4 banana added to zone', '1 #7 banana added to zone', '1 #9 banana added to zone', '1 #10 banana added to zone', '1 #11 bottle added to zone', '1 #11 banana added to zone', '1 #8 hot dog added to zone', '1 #9 bottle added to zone', '1 #17 bottle added to zone', '1 #18 bottle added to zone', '1 #19 apple added to zone', '1 #2 sports ball added to zone', '1 #21 banana added to zone']\n"
     ]
    },
    {
     "name": "stderr",
     "output_type": "stream",
     "text": [
      "INFO:root:1 #1 banana removed from zone by person 4\n",
      "INFO:root:1 #2 apple removed from zone by person 4\n",
      "INFO:root:1 #3 bottle removed from zone by person 4\n",
      "INFO:root:1 #21 banana added to zone by person 4\n",
      "INFO:root:1 #17 bottle added to zone by person 4\n",
      "video 1/1 (461/640) C:\\Users\\rcheruvu\\Desktop\\openvino_notebooks\\recipes\\automated_detection_tracking\\data\\asset.mp4: 640x640 1 bottle, 1 banana, 1099.3ms\n"
     ]
    },
    {
     "name": "stdout",
     "output_type": "stream",
     "text": [
      "1 #1 banana ['1 #5 banana added to zone', '1 #4 banana added to zone', '1 #7 banana added to zone', '1 #9 banana added to zone', '1 #10 banana added to zone', '1 #11 bottle added to zone', '1 #11 banana added to zone', '1 #8 hot dog added to zone', '1 #9 bottle added to zone', '1 #17 bottle added to zone', '1 #18 bottle added to zone', '1 #19 apple added to zone', '1 #2 sports ball added to zone', '1 #21 banana added to zone']\n",
      "1 #2 apple ['1 #5 banana added to zone', '1 #4 banana added to zone', '1 #7 banana added to zone', '1 #9 banana added to zone', '1 #10 banana added to zone', '1 #11 bottle added to zone', '1 #11 banana added to zone', '1 #8 hot dog added to zone', '1 #9 bottle added to zone', '1 #17 bottle added to zone', '1 #18 bottle added to zone', '1 #19 apple added to zone', '1 #2 sports ball added to zone', '1 #21 banana added to zone']\n",
      "1 #3 bottle ['1 #5 banana added to zone', '1 #4 banana added to zone', '1 #7 banana added to zone', '1 #9 banana added to zone', '1 #10 banana added to zone', '1 #11 bottle added to zone', '1 #11 banana added to zone', '1 #8 hot dog added to zone', '1 #9 bottle added to zone', '1 #17 bottle added to zone', '1 #18 bottle added to zone', '1 #19 apple added to zone', '1 #2 sports ball added to zone', '1 #21 banana added to zone']\n"
     ]
    },
    {
     "name": "stderr",
     "output_type": "stream",
     "text": [
      "INFO:root:1 #1 banana removed from zone by person 4\n",
      "INFO:root:1 #2 apple removed from zone by person 4\n",
      "INFO:root:1 #3 bottle removed from zone by person 4\n",
      "INFO:root:1 #21 banana added to zone by person 4\n",
      "INFO:root:1 #17 bottle added to zone by person 4\n",
      "video 1/1 (462/640) C:\\Users\\rcheruvu\\Desktop\\openvino_notebooks\\recipes\\automated_detection_tracking\\data\\asset.mp4: 640x640 1 bottle, 1 banana, 961.3ms\n"
     ]
    },
    {
     "name": "stdout",
     "output_type": "stream",
     "text": [
      "1 #1 banana ['1 #5 banana added to zone', '1 #4 banana added to zone', '1 #7 banana added to zone', '1 #9 banana added to zone', '1 #10 banana added to zone', '1 #11 bottle added to zone', '1 #11 banana added to zone', '1 #8 hot dog added to zone', '1 #9 bottle added to zone', '1 #17 bottle added to zone', '1 #18 bottle added to zone', '1 #19 apple added to zone', '1 #2 sports ball added to zone', '1 #21 banana added to zone']\n",
      "1 #2 apple ['1 #5 banana added to zone', '1 #4 banana added to zone', '1 #7 banana added to zone', '1 #9 banana added to zone', '1 #10 banana added to zone', '1 #11 bottle added to zone', '1 #11 banana added to zone', '1 #8 hot dog added to zone', '1 #9 bottle added to zone', '1 #17 bottle added to zone', '1 #18 bottle added to zone', '1 #19 apple added to zone', '1 #2 sports ball added to zone', '1 #21 banana added to zone']\n",
      "1 #3 bottle ['1 #5 banana added to zone', '1 #4 banana added to zone', '1 #7 banana added to zone', '1 #9 banana added to zone', '1 #10 banana added to zone', '1 #11 bottle added to zone', '1 #11 banana added to zone', '1 #8 hot dog added to zone', '1 #9 bottle added to zone', '1 #17 bottle added to zone', '1 #18 bottle added to zone', '1 #19 apple added to zone', '1 #2 sports ball added to zone', '1 #21 banana added to zone']\n"
     ]
    },
    {
     "name": "stderr",
     "output_type": "stream",
     "text": [
      "INFO:root:1 #1 banana removed from zone by person 4\n",
      "INFO:root:1 #2 apple removed from zone by person 4\n",
      "INFO:root:1 #3 bottle removed from zone by person 4\n",
      "INFO:root:1 #21 banana added to zone by person 4\n",
      "INFO:root:1 #17 bottle added to zone by person 4\n",
      "video 1/1 (463/640) C:\\Users\\rcheruvu\\Desktop\\openvino_notebooks\\recipes\\automated_detection_tracking\\data\\asset.mp4: 640x640 1 bottle, 1 banana, 928.0ms\n"
     ]
    },
    {
     "name": "stdout",
     "output_type": "stream",
     "text": [
      "1 #1 banana ['1 #5 banana added to zone', '1 #4 banana added to zone', '1 #7 banana added to zone', '1 #9 banana added to zone', '1 #10 banana added to zone', '1 #11 bottle added to zone', '1 #11 banana added to zone', '1 #8 hot dog added to zone', '1 #9 bottle added to zone', '1 #17 bottle added to zone', '1 #18 bottle added to zone', '1 #19 apple added to zone', '1 #2 sports ball added to zone', '1 #21 banana added to zone']\n",
      "1 #2 apple ['1 #5 banana added to zone', '1 #4 banana added to zone', '1 #7 banana added to zone', '1 #9 banana added to zone', '1 #10 banana added to zone', '1 #11 bottle added to zone', '1 #11 banana added to zone', '1 #8 hot dog added to zone', '1 #9 bottle added to zone', '1 #17 bottle added to zone', '1 #18 bottle added to zone', '1 #19 apple added to zone', '1 #2 sports ball added to zone', '1 #21 banana added to zone']\n",
      "1 #3 bottle ['1 #5 banana added to zone', '1 #4 banana added to zone', '1 #7 banana added to zone', '1 #9 banana added to zone', '1 #10 banana added to zone', '1 #11 bottle added to zone', '1 #11 banana added to zone', '1 #8 hot dog added to zone', '1 #9 bottle added to zone', '1 #17 bottle added to zone', '1 #18 bottle added to zone', '1 #19 apple added to zone', '1 #2 sports ball added to zone', '1 #21 banana added to zone']\n"
     ]
    },
    {
     "name": "stderr",
     "output_type": "stream",
     "text": [
      "INFO:root:1 #1 banana removed from zone by person 4\n",
      "INFO:root:1 #2 apple removed from zone by person 4\n",
      "INFO:root:1 #3 bottle removed from zone by person 4\n",
      "INFO:root:1 #21 banana added to zone by person 4\n",
      "INFO:root:1 #17 bottle added to zone by person 4\n"
     ]
    },
    {
     "name": "stdout",
     "output_type": "stream",
     "text": [
      "1 #1 banana ['1 #5 banana added to zone', '1 #4 banana added to zone', '1 #7 banana added to zone', '1 #9 banana added to zone', '1 #10 banana added to zone', '1 #11 bottle added to zone', '1 #11 banana added to zone', '1 #8 hot dog added to zone', '1 #9 bottle added to zone', '1 #17 bottle added to zone', '1 #18 bottle added to zone', '1 #19 apple added to zone', '1 #2 sports ball added to zone', '1 #21 banana added to zone']\n",
      "1 #2 apple ['1 #5 banana added to zone', '1 #4 banana added to zone', '1 #7 banana added to zone', '1 #9 banana added to zone', '1 #10 banana added to zone', '1 #11 bottle added to zone', '1 #11 banana added to zone', '1 #8 hot dog added to zone', '1 #9 bottle added to zone', '1 #17 bottle added to zone', '1 #18 bottle added to zone', '1 #19 apple added to zone', '1 #2 sports ball added to zone', '1 #21 banana added to zone']\n",
      "1 #3 bottle ['1 #5 banana added to zone', '1 #4 banana added to zone', '1 #7 banana added to zone', '1 #9 banana added to zone', '1 #10 banana added to zone', '1 #11 bottle added to zone', '1 #11 banana added to zone', '1 #8 hot dog added to zone', '1 #9 bottle added to zone', '1 #17 bottle added to zone', '1 #18 bottle added to zone', '1 #19 apple added to zone', '1 #2 sports ball added to zone', '1 #21 banana added to zone']\n"
     ]
    },
    {
     "name": "stderr",
     "output_type": "stream",
     "text": [
      "video 1/1 (464/640) C:\\Users\\rcheruvu\\Desktop\\openvino_notebooks\\recipes\\automated_detection_tracking\\data\\asset.mp4: 640x640 1 bottle, 1 banana, 945.5ms\n",
      "INFO:root:1 #1 banana removed from zone by person 4\n",
      "INFO:root:1 #2 apple removed from zone by person 4\n",
      "INFO:root:1 #3 bottle removed from zone by person 4\n",
      "INFO:root:1 #21 banana added to zone by person 4\n",
      "INFO:root:1 #17 bottle added to zone by person 4\n",
      "video 1/1 (465/640) C:\\Users\\rcheruvu\\Desktop\\openvino_notebooks\\recipes\\automated_detection_tracking\\data\\asset.mp4: 640x640 1 bottle, 1 banana, 1611.2ms\n"
     ]
    },
    {
     "name": "stdout",
     "output_type": "stream",
     "text": [
      "1 #1 banana ['1 #5 banana added to zone', '1 #4 banana added to zone', '1 #7 banana added to zone', '1 #9 banana added to zone', '1 #10 banana added to zone', '1 #11 bottle added to zone', '1 #11 banana added to zone', '1 #8 hot dog added to zone', '1 #9 bottle added to zone', '1 #17 bottle added to zone', '1 #18 bottle added to zone', '1 #19 apple added to zone', '1 #2 sports ball added to zone', '1 #21 banana added to zone']\n",
      "1 #2 apple ['1 #5 banana added to zone', '1 #4 banana added to zone', '1 #7 banana added to zone', '1 #9 banana added to zone', '1 #10 banana added to zone', '1 #11 bottle added to zone', '1 #11 banana added to zone', '1 #8 hot dog added to zone', '1 #9 bottle added to zone', '1 #17 bottle added to zone', '1 #18 bottle added to zone', '1 #19 apple added to zone', '1 #2 sports ball added to zone', '1 #21 banana added to zone']\n",
      "1 #3 bottle ['1 #5 banana added to zone', '1 #4 banana added to zone', '1 #7 banana added to zone', '1 #9 banana added to zone', '1 #10 banana added to zone', '1 #11 bottle added to zone', '1 #11 banana added to zone', '1 #8 hot dog added to zone', '1 #9 bottle added to zone', '1 #17 bottle added to zone', '1 #18 bottle added to zone', '1 #19 apple added to zone', '1 #2 sports ball added to zone', '1 #21 banana added to zone']\n"
     ]
    },
    {
     "name": "stderr",
     "output_type": "stream",
     "text": [
      "INFO:root:1 #21 apple added to zone by person 4\n",
      "INFO:root:1 #17 bottle added to zone by person 4\n",
      "video 1/1 (466/640) C:\\Users\\rcheruvu\\Desktop\\openvino_notebooks\\recipes\\automated_detection_tracking\\data\\asset.mp4: 640x640 1 person, 1 bottle, 1 apple, 946.2ms\n",
      "INFO:root:1 #21 apple added to zone by person 4\n",
      "INFO:root:1 #17 bottle added to zone by person 4\n",
      "video 1/1 (467/640) C:\\Users\\rcheruvu\\Desktop\\openvino_notebooks\\recipes\\automated_detection_tracking\\data\\asset.mp4: 640x640 1 person, 1 bottle, 1 apple, 1307.7ms\n",
      "INFO:root:1 #21 apple added to zone by person 4\n",
      "INFO:root:1 #17 bottle added to zone by person 4\n",
      "video 1/1 (468/640) C:\\Users\\rcheruvu\\Desktop\\openvino_notebooks\\recipes\\automated_detection_tracking\\data\\asset.mp4: 640x640 1 person, 1 bottle, 1 apple, 1287.1ms\n",
      "INFO:root:1 #21 apple added to zone by person 4\n",
      "INFO:root:1 #17 bottle added to zone by person 4\n",
      "INFO:root:1 #25 banana added to zone by person 4\n",
      "video 1/1 (469/640) C:\\Users\\rcheruvu\\Desktop\\openvino_notebooks\\recipes\\automated_detection_tracking\\data\\asset.mp4: 640x640 1 person, 1 bottle, 1 banana, 1 apple, 928.1ms\n",
      "INFO:root:1 #21 apple added to zone by person 8\n",
      "INFO:root:1 #17 bottle added to zone by person 8\n",
      "INFO:root:1 #25 banana added to zone by person 8\n",
      "video 1/1 (470/640) C:\\Users\\rcheruvu\\Desktop\\openvino_notebooks\\recipes\\automated_detection_tracking\\data\\asset.mp4: 640x640 1 person, 1 bottle, 1 banana, 1 apple, 1016.6ms\n",
      "INFO:root:1 #21 apple added to zone by person 8\n",
      "INFO:root:1 #17 apple added to zone by person 8\n",
      "INFO:root:1 #25 banana added to zone by person 8\n",
      "video 1/1 (471/640) C:\\Users\\rcheruvu\\Desktop\\openvino_notebooks\\recipes\\automated_detection_tracking\\data\\asset.mp4: 640x640 1 person, 1 banana, 2 apples, 972.6ms\n",
      "INFO:root:1 #21 apple added to zone by person 8\n",
      "INFO:root:1 #17 apple added to zone by person 8\n",
      "INFO:root:1 #25 banana added to zone by person 8\n",
      "video 1/1 (472/640) C:\\Users\\rcheruvu\\Desktop\\openvino_notebooks\\recipes\\automated_detection_tracking\\data\\asset.mp4: 640x640 1 person, 1 banana, 2 apples, 958.2ms\n",
      "INFO:root:1 #21 apple added to zone by person 15\n",
      "INFO:root:1 #25 banana added to zone by person 15\n",
      "INFO:root:1 #27 bottle added to zone by person 15\n",
      "video 1/1 (473/640) C:\\Users\\rcheruvu\\Desktop\\openvino_notebooks\\recipes\\automated_detection_tracking\\data\\asset.mp4: 640x640 1 person, 1 bottle, 1 banana, 1 apple, 980.2ms\n",
      "INFO:root:1 #21 apple added to zone by person 15\n",
      "INFO:root:1 #25 banana added to zone by person 15\n",
      "INFO:root:1 #27 bottle added to zone by person 15\n",
      "video 1/1 (474/640) C:\\Users\\rcheruvu\\Desktop\\openvino_notebooks\\recipes\\automated_detection_tracking\\data\\asset.mp4: 640x640 1 person, 1 bottle, 1 banana, 1 apple, 968.2ms\n",
      "INFO:root:1 #21 apple added to zone by person 15\n",
      "INFO:root:1 #25 banana added to zone by person 15\n",
      "INFO:root:1 #27 bottle added to zone by person 15\n",
      "video 1/1 (475/640) C:\\Users\\rcheruvu\\Desktop\\openvino_notebooks\\recipes\\automated_detection_tracking\\data\\asset.mp4: 640x640 1 person, 1 bottle, 1 banana, 1 apple, 973.3ms\n",
      "INFO:root:1 #21 apple added to zone by person 15\n",
      "INFO:root:1 #25 banana added to zone by person 15\n",
      "INFO:root:1 #27 bottle added to zone by person 15\n",
      "video 1/1 (476/640) C:\\Users\\rcheruvu\\Desktop\\openvino_notebooks\\recipes\\automated_detection_tracking\\data\\asset.mp4: 640x640 1 person, 1 bottle, 1 banana, 1 apple, 964.7ms\n",
      "INFO:root:1 #21 apple added to zone by person 15\n",
      "INFO:root:1 #25 banana added to zone by person 15\n",
      "INFO:root:1 #27 bottle added to zone by person 15\n",
      "video 1/1 (477/640) C:\\Users\\rcheruvu\\Desktop\\openvino_notebooks\\recipes\\automated_detection_tracking\\data\\asset.mp4: 640x640 1 person, 1 bottle, 1 banana, 1 apple, 889.0ms\n",
      "INFO:root:1 #1 banana removed from zone by person 15\n",
      "INFO:root:1 #2 apple removed from zone by person 15\n",
      "INFO:root:1 #3 bottle removed from zone by person 15\n",
      "INFO:root:1 #21 apple added to zone by person 15\n",
      "INFO:root:1 #25 banana added to zone by person 15\n",
      "INFO:root:1 #27 bottle added to zone by person 15\n",
      "INFO:root:1 #28 bottle added to zone by person 15\n"
     ]
    },
    {
     "name": "stdout",
     "output_type": "stream",
     "text": [
      "1 #1 banana ['1 #5 banana added to zone', '1 #4 banana added to zone', '1 #7 banana added to zone', '1 #9 banana added to zone', '1 #10 banana added to zone', '1 #11 bottle added to zone', '1 #11 banana added to zone', '1 #8 hot dog added to zone', '1 #9 bottle added to zone', '1 #17 bottle added to zone', '1 #18 bottle added to zone', '1 #19 apple added to zone', '1 #2 sports ball added to zone', '1 #21 banana added to zone', '1 #21 apple added to zone', '1 #25 banana added to zone', '1 #17 apple added to zone', '1 #27 bottle added to zone']\n",
      "1 #2 apple ['1 #5 banana added to zone', '1 #4 banana added to zone', '1 #7 banana added to zone', '1 #9 banana added to zone', '1 #10 banana added to zone', '1 #11 bottle added to zone', '1 #11 banana added to zone', '1 #8 hot dog added to zone', '1 #9 bottle added to zone', '1 #17 bottle added to zone', '1 #18 bottle added to zone', '1 #19 apple added to zone', '1 #2 sports ball added to zone', '1 #21 banana added to zone', '1 #21 apple added to zone', '1 #25 banana added to zone', '1 #17 apple added to zone', '1 #27 bottle added to zone']\n",
      "1 #3 bottle ['1 #5 banana added to zone', '1 #4 banana added to zone', '1 #7 banana added to zone', '1 #9 banana added to zone', '1 #10 banana added to zone', '1 #11 bottle added to zone', '1 #11 banana added to zone', '1 #8 hot dog added to zone', '1 #9 bottle added to zone', '1 #17 bottle added to zone', '1 #18 bottle added to zone', '1 #19 apple added to zone', '1 #2 sports ball added to zone', '1 #21 banana added to zone', '1 #21 apple added to zone', '1 #25 banana added to zone', '1 #17 apple added to zone', '1 #27 bottle added to zone']\n"
     ]
    },
    {
     "name": "stderr",
     "output_type": "stream",
     "text": [
      "video 1/1 (478/640) C:\\Users\\rcheruvu\\Desktop\\openvino_notebooks\\recipes\\automated_detection_tracking\\data\\asset.mp4: 640x640 1 person, 2 bottles, 1 banana, 1 apple, 1029.7ms\n",
      "INFO:root:1 #21 apple added to zone by person 15\n",
      "INFO:root:1 #25 banana added to zone by person 15\n",
      "INFO:root:1 #27 bottle added to zone by person 15\n",
      "INFO:root:1 #28 bottle added to zone by person 15\n",
      "video 1/1 (479/640) C:\\Users\\rcheruvu\\Desktop\\openvino_notebooks\\recipes\\automated_detection_tracking\\data\\asset.mp4: 640x640 1 person, 2 bottles, 1 banana, 1 apple, 898.8ms\n",
      "INFO:root:1 #21 apple added to zone by person 15\n",
      "INFO:root:1 #25 banana added to zone by person 15\n",
      "INFO:root:1 #27 bottle added to zone by person 15\n",
      "INFO:root:1 #28 bottle added to zone by person 15\n",
      "video 1/1 (480/640) C:\\Users\\rcheruvu\\Desktop\\openvino_notebooks\\recipes\\automated_detection_tracking\\data\\asset.mp4: 640x640 1 person, 2 bottles, 1 banana, 1 apple, 1102.3ms\n",
      "INFO:root:1 #21 apple added to zone by person 15\n",
      "INFO:root:1 #25 banana added to zone by person 15\n",
      "INFO:root:1 #27 bottle added to zone by person 15\n",
      "INFO:root:1 #28 bottle added to zone by person 15\n",
      "video 1/1 (481/640) C:\\Users\\rcheruvu\\Desktop\\openvino_notebooks\\recipes\\automated_detection_tracking\\data\\asset.mp4: 640x640 1 person, 2 bottles, 1 banana, 1 apple, 877.6ms\n",
      "INFO:root:1 #21 apple added to zone by person 15\n",
      "INFO:root:1 #25 banana added to zone by person 15\n",
      "INFO:root:1 #27 bottle added to zone by person 15\n",
      "INFO:root:1 #28 bottle added to zone by person 15\n",
      "video 1/1 (482/640) C:\\Users\\rcheruvu\\Desktop\\openvino_notebooks\\recipes\\automated_detection_tracking\\data\\asset.mp4: 640x640 1 person, 2 bottles, 1 banana, 1 apple, 1163.0ms\n",
      "INFO:root:1 #1 banana removed from zone by person 15\n",
      "INFO:root:1 #2 apple removed from zone by person 15\n",
      "INFO:root:1 #3 bottle removed from zone by person 15\n",
      "INFO:root:1 #21 apple added to zone by person 15\n",
      "INFO:root:1 #25 banana added to zone by person 15\n",
      "INFO:root:1 #27 bottle added to zone by person 15\n",
      "INFO:root:1 #28 bottle added to zone by person 15\n"
     ]
    },
    {
     "name": "stdout",
     "output_type": "stream",
     "text": [
      "1 #1 banana ['1 #5 banana added to zone', '1 #4 banana added to zone', '1 #7 banana added to zone', '1 #9 banana added to zone', '1 #10 banana added to zone', '1 #11 bottle added to zone', '1 #11 banana added to zone', '1 #8 hot dog added to zone', '1 #9 bottle added to zone', '1 #17 bottle added to zone', '1 #18 bottle added to zone', '1 #19 apple added to zone', '1 #2 sports ball added to zone', '1 #21 banana added to zone', '1 #21 apple added to zone', '1 #25 banana added to zone', '1 #17 apple added to zone', '1 #27 bottle added to zone', '1 #28 bottle added to zone']\n",
      "1 #2 apple ['1 #5 banana added to zone', '1 #4 banana added to zone', '1 #7 banana added to zone', '1 #9 banana added to zone', '1 #10 banana added to zone', '1 #11 bottle added to zone', '1 #11 banana added to zone', '1 #8 hot dog added to zone', '1 #9 bottle added to zone', '1 #17 bottle added to zone', '1 #18 bottle added to zone', '1 #19 apple added to zone', '1 #2 sports ball added to zone', '1 #21 banana added to zone', '1 #21 apple added to zone', '1 #25 banana added to zone', '1 #17 apple added to zone', '1 #27 bottle added to zone', '1 #28 bottle added to zone']\n",
      "1 #3 bottle ['1 #5 banana added to zone', '1 #4 banana added to zone', '1 #7 banana added to zone', '1 #9 banana added to zone', '1 #10 banana added to zone', '1 #11 bottle added to zone', '1 #11 banana added to zone', '1 #8 hot dog added to zone', '1 #9 bottle added to zone', '1 #17 bottle added to zone', '1 #18 bottle added to zone', '1 #19 apple added to zone', '1 #2 sports ball added to zone', '1 #21 banana added to zone', '1 #21 apple added to zone', '1 #25 banana added to zone', '1 #17 apple added to zone', '1 #27 bottle added to zone', '1 #28 bottle added to zone']\n"
     ]
    },
    {
     "name": "stderr",
     "output_type": "stream",
     "text": [
      "video 1/1 (483/640) C:\\Users\\rcheruvu\\Desktop\\openvino_notebooks\\recipes\\automated_detection_tracking\\data\\asset.mp4: 640x640 1 person, 2 bottles, 1 banana, 1 apple, 903.2ms\n",
      "INFO:root:1 #1 banana removed from zone by person 15\n",
      "INFO:root:1 #2 apple removed from zone by person 15\n",
      "INFO:root:1 #3 bottle removed from zone by person 15\n",
      "INFO:root:1 #21 apple added to zone by person 15\n",
      "INFO:root:1 #25 banana added to zone by person 15\n",
      "INFO:root:1 #27 bottle added to zone by person 15\n"
     ]
    },
    {
     "name": "stdout",
     "output_type": "stream",
     "text": [
      "1 #1 banana ['1 #5 banana added to zone', '1 #4 banana added to zone', '1 #7 banana added to zone', '1 #9 banana added to zone', '1 #10 banana added to zone', '1 #11 bottle added to zone', '1 #11 banana added to zone', '1 #8 hot dog added to zone', '1 #9 bottle added to zone', '1 #17 bottle added to zone', '1 #18 bottle added to zone', '1 #19 apple added to zone', '1 #2 sports ball added to zone', '1 #21 banana added to zone', '1 #21 apple added to zone', '1 #25 banana added to zone', '1 #17 apple added to zone', '1 #27 bottle added to zone', '1 #28 bottle added to zone']\n",
      "1 #2 apple ['1 #5 banana added to zone', '1 #4 banana added to zone', '1 #7 banana added to zone', '1 #9 banana added to zone', '1 #10 banana added to zone', '1 #11 bottle added to zone', '1 #11 banana added to zone', '1 #8 hot dog added to zone', '1 #9 bottle added to zone', '1 #17 bottle added to zone', '1 #18 bottle added to zone', '1 #19 apple added to zone', '1 #2 sports ball added to zone', '1 #21 banana added to zone', '1 #21 apple added to zone', '1 #25 banana added to zone', '1 #17 apple added to zone', '1 #27 bottle added to zone', '1 #28 bottle added to zone']\n",
      "1 #3 bottle ['1 #5 banana added to zone', '1 #4 banana added to zone', '1 #7 banana added to zone', '1 #9 banana added to zone', '1 #10 banana added to zone', '1 #11 bottle added to zone', '1 #11 banana added to zone', '1 #8 hot dog added to zone', '1 #9 bottle added to zone', '1 #17 bottle added to zone', '1 #18 bottle added to zone', '1 #19 apple added to zone', '1 #2 sports ball added to zone', '1 #21 banana added to zone', '1 #21 apple added to zone', '1 #25 banana added to zone', '1 #17 apple added to zone', '1 #27 bottle added to zone', '1 #28 bottle added to zone']\n"
     ]
    },
    {
     "name": "stderr",
     "output_type": "stream",
     "text": [
      "INFO:root:1 #28 bottle added to zone by person 15\n",
      "video 1/1 (484/640) C:\\Users\\rcheruvu\\Desktop\\openvino_notebooks\\recipes\\automated_detection_tracking\\data\\asset.mp4: 640x640 1 person, 2 bottles, 1 banana, 1 apple, 923.3ms\n",
      "INFO:root:1 #1 banana removed from zone by person 15\n",
      "INFO:root:1 #2 apple removed from zone by person 15\n",
      "INFO:root:1 #3 bottle removed from zone by person 15\n",
      "INFO:root:1 #21 apple added to zone by person 15\n",
      "INFO:root:1 #25 banana added to zone by person 15\n"
     ]
    },
    {
     "name": "stdout",
     "output_type": "stream",
     "text": [
      "1 #1 banana ['1 #5 banana added to zone', '1 #4 banana added to zone', '1 #7 banana added to zone', '1 #9 banana added to zone', '1 #10 banana added to zone', '1 #11 bottle added to zone', '1 #11 banana added to zone', '1 #8 hot dog added to zone', '1 #9 bottle added to zone', '1 #17 bottle added to zone', '1 #18 bottle added to zone', '1 #19 apple added to zone', '1 #2 sports ball added to zone', '1 #21 banana added to zone', '1 #21 apple added to zone', '1 #25 banana added to zone', '1 #17 apple added to zone', '1 #27 bottle added to zone', '1 #28 bottle added to zone']\n",
      "1 #2 apple ['1 #5 banana added to zone', '1 #4 banana added to zone', '1 #7 banana added to zone', '1 #9 banana added to zone', '1 #10 banana added to zone', '1 #11 bottle added to zone', '1 #11 banana added to zone', '1 #8 hot dog added to zone', '1 #9 bottle added to zone', '1 #17 bottle added to zone', '1 #18 bottle added to zone', '1 #19 apple added to zone', '1 #2 sports ball added to zone', '1 #21 banana added to zone', '1 #21 apple added to zone', '1 #25 banana added to zone', '1 #17 apple added to zone', '1 #27 bottle added to zone', '1 #28 bottle added to zone']\n",
      "1 #3 bottle ['1 #5 banana added to zone', '1 #4 banana added to zone', '1 #7 banana added to zone', '1 #9 banana added to zone', '1 #10 banana added to zone', '1 #11 bottle added to zone', '1 #11 banana added to zone', '1 #8 hot dog added to zone', '1 #9 bottle added to zone', '1 #17 bottle added to zone', '1 #18 bottle added to zone', '1 #19 apple added to zone', '1 #2 sports ball added to zone', '1 #21 banana added to zone', '1 #21 apple added to zone', '1 #25 banana added to zone', '1 #17 apple added to zone', '1 #27 bottle added to zone', '1 #28 bottle added to zone']\n"
     ]
    },
    {
     "name": "stderr",
     "output_type": "stream",
     "text": [
      "INFO:root:1 #27 bottle added to zone by person 15\n",
      "INFO:root:1 #28 bottle added to zone by person 15\n",
      "video 1/1 (485/640) C:\\Users\\rcheruvu\\Desktop\\openvino_notebooks\\recipes\\automated_detection_tracking\\data\\asset.mp4: 640x640 1 person, 2 bottles, 1 banana, 1 apple, 998.8ms\n",
      "INFO:root:1 #1 banana removed from zone by person 15\n",
      "INFO:root:1 #2 apple removed from zone by person 15\n",
      "INFO:root:1 #3 bottle removed from zone by person 15\n",
      "INFO:root:1 #21 apple added to zone by person 15\n",
      "INFO:root:1 #25 banana added to zone by person 15\n",
      "INFO:root:1 #27 bottle added to zone by person 15\n",
      "INFO:root:1 #28 bottle added to zone by person 15\n"
     ]
    },
    {
     "name": "stdout",
     "output_type": "stream",
     "text": [
      "1 #1 banana ['1 #5 banana added to zone', '1 #4 banana added to zone', '1 #7 banana added to zone', '1 #9 banana added to zone', '1 #10 banana added to zone', '1 #11 bottle added to zone', '1 #11 banana added to zone', '1 #8 hot dog added to zone', '1 #9 bottle added to zone', '1 #17 bottle added to zone', '1 #18 bottle added to zone', '1 #19 apple added to zone', '1 #2 sports ball added to zone', '1 #21 banana added to zone', '1 #21 apple added to zone', '1 #25 banana added to zone', '1 #17 apple added to zone', '1 #27 bottle added to zone', '1 #28 bottle added to zone']\n",
      "1 #2 apple ['1 #5 banana added to zone', '1 #4 banana added to zone', '1 #7 banana added to zone', '1 #9 banana added to zone', '1 #10 banana added to zone', '1 #11 bottle added to zone', '1 #11 banana added to zone', '1 #8 hot dog added to zone', '1 #9 bottle added to zone', '1 #17 bottle added to zone', '1 #18 bottle added to zone', '1 #19 apple added to zone', '1 #2 sports ball added to zone', '1 #21 banana added to zone', '1 #21 apple added to zone', '1 #25 banana added to zone', '1 #17 apple added to zone', '1 #27 bottle added to zone', '1 #28 bottle added to zone']\n",
      "1 #3 bottle ['1 #5 banana added to zone', '1 #4 banana added to zone', '1 #7 banana added to zone', '1 #9 banana added to zone', '1 #10 banana added to zone', '1 #11 bottle added to zone', '1 #11 banana added to zone', '1 #8 hot dog added to zone', '1 #9 bottle added to zone', '1 #17 bottle added to zone', '1 #18 bottle added to zone', '1 #19 apple added to zone', '1 #2 sports ball added to zone', '1 #21 banana added to zone', '1 #21 apple added to zone', '1 #25 banana added to zone', '1 #17 apple added to zone', '1 #27 bottle added to zone', '1 #28 bottle added to zone']\n"
     ]
    },
    {
     "name": "stderr",
     "output_type": "stream",
     "text": [
      "video 1/1 (486/640) C:\\Users\\rcheruvu\\Desktop\\openvino_notebooks\\recipes\\automated_detection_tracking\\data\\asset.mp4: 640x640 1 person, 2 bottles, 1 banana, 1 apple, 942.9ms\n",
      "INFO:root:1 #1 banana removed from zone by person 15\n",
      "INFO:root:1 #2 apple removed from zone by person 15\n",
      "INFO:root:1 #3 bottle removed from zone by person 15\n",
      "INFO:root:1 #21 apple added to zone by person 15\n",
      "INFO:root:1 #25 banana added to zone by person 15\n",
      "INFO:root:1 #27 bottle added to zone by person 15\n",
      "INFO:root:1 #28 bottle added to zone by person 15\n"
     ]
    },
    {
     "name": "stdout",
     "output_type": "stream",
     "text": [
      "1 #1 banana ['1 #5 banana added to zone', '1 #4 banana added to zone', '1 #7 banana added to zone', '1 #9 banana added to zone', '1 #10 banana added to zone', '1 #11 bottle added to zone', '1 #11 banana added to zone', '1 #8 hot dog added to zone', '1 #9 bottle added to zone', '1 #17 bottle added to zone', '1 #18 bottle added to zone', '1 #19 apple added to zone', '1 #2 sports ball added to zone', '1 #21 banana added to zone', '1 #21 apple added to zone', '1 #25 banana added to zone', '1 #17 apple added to zone', '1 #27 bottle added to zone', '1 #28 bottle added to zone']\n",
      "1 #2 apple ['1 #5 banana added to zone', '1 #4 banana added to zone', '1 #7 banana added to zone', '1 #9 banana added to zone', '1 #10 banana added to zone', '1 #11 bottle added to zone', '1 #11 banana added to zone', '1 #8 hot dog added to zone', '1 #9 bottle added to zone', '1 #17 bottle added to zone', '1 #18 bottle added to zone', '1 #19 apple added to zone', '1 #2 sports ball added to zone', '1 #21 banana added to zone', '1 #21 apple added to zone', '1 #25 banana added to zone', '1 #17 apple added to zone', '1 #27 bottle added to zone', '1 #28 bottle added to zone']\n",
      "1 #3 bottle ['1 #5 banana added to zone', '1 #4 banana added to zone', '1 #7 banana added to zone', '1 #9 banana added to zone', '1 #10 banana added to zone', '1 #11 bottle added to zone', '1 #11 banana added to zone', '1 #8 hot dog added to zone', '1 #9 bottle added to zone', '1 #17 bottle added to zone', '1 #18 bottle added to zone', '1 #19 apple added to zone', '1 #2 sports ball added to zone', '1 #21 banana added to zone', '1 #21 apple added to zone', '1 #25 banana added to zone', '1 #17 apple added to zone', '1 #27 bottle added to zone', '1 #28 bottle added to zone']\n"
     ]
    },
    {
     "name": "stderr",
     "output_type": "stream",
     "text": [
      "video 1/1 (487/640) C:\\Users\\rcheruvu\\Desktop\\openvino_notebooks\\recipes\\automated_detection_tracking\\data\\asset.mp4: 640x640 1 person, 2 bottles, 1 banana, 1 apple, 853.4ms\n",
      "INFO:root:1 #1 banana removed from zone by person 15\n",
      "INFO:root:1 #2 apple removed from zone by person 15\n",
      "INFO:root:1 #3 bottle removed from zone by person 15\n",
      "INFO:root:1 #21 apple added to zone by person 15\n",
      "INFO:root:1 #25 banana added to zone by person 15\n",
      "INFO:root:1 #27 bottle added to zone by person 15\n",
      "INFO:root:1 #28 bottle added to zone by person 15\n"
     ]
    },
    {
     "name": "stdout",
     "output_type": "stream",
     "text": [
      "1 #1 banana ['1 #5 banana added to zone', '1 #4 banana added to zone', '1 #7 banana added to zone', '1 #9 banana added to zone', '1 #10 banana added to zone', '1 #11 bottle added to zone', '1 #11 banana added to zone', '1 #8 hot dog added to zone', '1 #9 bottle added to zone', '1 #17 bottle added to zone', '1 #18 bottle added to zone', '1 #19 apple added to zone', '1 #2 sports ball added to zone', '1 #21 banana added to zone', '1 #21 apple added to zone', '1 #25 banana added to zone', '1 #17 apple added to zone', '1 #27 bottle added to zone', '1 #28 bottle added to zone']\n",
      "1 #2 apple ['1 #5 banana added to zone', '1 #4 banana added to zone', '1 #7 banana added to zone', '1 #9 banana added to zone', '1 #10 banana added to zone', '1 #11 bottle added to zone', '1 #11 banana added to zone', '1 #8 hot dog added to zone', '1 #9 bottle added to zone', '1 #17 bottle added to zone', '1 #18 bottle added to zone', '1 #19 apple added to zone', '1 #2 sports ball added to zone', '1 #21 banana added to zone', '1 #21 apple added to zone', '1 #25 banana added to zone', '1 #17 apple added to zone', '1 #27 bottle added to zone', '1 #28 bottle added to zone']\n",
      "1 #3 bottle ['1 #5 banana added to zone', '1 #4 banana added to zone', '1 #7 banana added to zone', '1 #9 banana added to zone', '1 #10 banana added to zone', '1 #11 bottle added to zone', '1 #11 banana added to zone', '1 #8 hot dog added to zone', '1 #9 bottle added to zone', '1 #17 bottle added to zone', '1 #18 bottle added to zone', '1 #19 apple added to zone', '1 #2 sports ball added to zone', '1 #21 banana added to zone', '1 #21 apple added to zone', '1 #25 banana added to zone', '1 #17 apple added to zone', '1 #27 bottle added to zone', '1 #28 bottle added to zone']\n"
     ]
    },
    {
     "name": "stderr",
     "output_type": "stream",
     "text": [
      "video 1/1 (488/640) C:\\Users\\rcheruvu\\Desktop\\openvino_notebooks\\recipes\\automated_detection_tracking\\data\\asset.mp4: 640x640 1 person, 2 bottles, 1 banana, 1 apple, 917.9ms\n",
      "INFO:root:1 #1 banana removed from zone by person 15\n",
      "INFO:root:1 #2 apple removed from zone by person 15\n",
      "INFO:root:1 #3 bottle removed from zone by person 15\n",
      "INFO:root:1 #21 apple added to zone by person 15\n",
      "INFO:root:1 #25 banana added to zone by person 15\n",
      "INFO:root:1 #27 bottle added to zone by person 15\n",
      "INFO:root:1 #28 bottle added to zone by person 15\n"
     ]
    },
    {
     "name": "stdout",
     "output_type": "stream",
     "text": [
      "1 #1 banana ['1 #5 banana added to zone', '1 #4 banana added to zone', '1 #7 banana added to zone', '1 #9 banana added to zone', '1 #10 banana added to zone', '1 #11 bottle added to zone', '1 #11 banana added to zone', '1 #8 hot dog added to zone', '1 #9 bottle added to zone', '1 #17 bottle added to zone', '1 #18 bottle added to zone', '1 #19 apple added to zone', '1 #2 sports ball added to zone', '1 #21 banana added to zone', '1 #21 apple added to zone', '1 #25 banana added to zone', '1 #17 apple added to zone', '1 #27 bottle added to zone', '1 #28 bottle added to zone']\n",
      "1 #2 apple ['1 #5 banana added to zone', '1 #4 banana added to zone', '1 #7 banana added to zone', '1 #9 banana added to zone', '1 #10 banana added to zone', '1 #11 bottle added to zone', '1 #11 banana added to zone', '1 #8 hot dog added to zone', '1 #9 bottle added to zone', '1 #17 bottle added to zone', '1 #18 bottle added to zone', '1 #19 apple added to zone', '1 #2 sports ball added to zone', '1 #21 banana added to zone', '1 #21 apple added to zone', '1 #25 banana added to zone', '1 #17 apple added to zone', '1 #27 bottle added to zone', '1 #28 bottle added to zone']\n",
      "1 #3 bottle ['1 #5 banana added to zone', '1 #4 banana added to zone', '1 #7 banana added to zone', '1 #9 banana added to zone', '1 #10 banana added to zone', '1 #11 bottle added to zone', '1 #11 banana added to zone', '1 #8 hot dog added to zone', '1 #9 bottle added to zone', '1 #17 bottle added to zone', '1 #18 bottle added to zone', '1 #19 apple added to zone', '1 #2 sports ball added to zone', '1 #21 banana added to zone', '1 #21 apple added to zone', '1 #25 banana added to zone', '1 #17 apple added to zone', '1 #27 bottle added to zone', '1 #28 bottle added to zone']\n"
     ]
    },
    {
     "name": "stderr",
     "output_type": "stream",
     "text": [
      "video 1/1 (489/640) C:\\Users\\rcheruvu\\Desktop\\openvino_notebooks\\recipes\\automated_detection_tracking\\data\\asset.mp4: 640x640 1 person, 2 bottles, 1 banana, 1 apple, 915.9ms\n",
      "INFO:root:1 #1 banana removed from zone by person 15\n",
      "INFO:root:1 #2 apple removed from zone by person 15\n",
      "INFO:root:1 #3 bottle removed from zone by person 15\n",
      "INFO:root:1 #21 apple added to zone by person 15\n",
      "INFO:root:1 #25 banana added to zone by person 15\n",
      "INFO:root:1 #27 bottle added to zone by person 15\n"
     ]
    },
    {
     "name": "stdout",
     "output_type": "stream",
     "text": [
      "1 #1 banana ['1 #5 banana added to zone', '1 #4 banana added to zone', '1 #7 banana added to zone', '1 #9 banana added to zone', '1 #10 banana added to zone', '1 #11 bottle added to zone', '1 #11 banana added to zone', '1 #8 hot dog added to zone', '1 #9 bottle added to zone', '1 #17 bottle added to zone', '1 #18 bottle added to zone', '1 #19 apple added to zone', '1 #2 sports ball added to zone', '1 #21 banana added to zone', '1 #21 apple added to zone', '1 #25 banana added to zone', '1 #17 apple added to zone', '1 #27 bottle added to zone', '1 #28 bottle added to zone']\n",
      "1 #2 apple ['1 #5 banana added to zone', '1 #4 banana added to zone', '1 #7 banana added to zone', '1 #9 banana added to zone', '1 #10 banana added to zone', '1 #11 bottle added to zone', '1 #11 banana added to zone', '1 #8 hot dog added to zone', '1 #9 bottle added to zone', '1 #17 bottle added to zone', '1 #18 bottle added to zone', '1 #19 apple added to zone', '1 #2 sports ball added to zone', '1 #21 banana added to zone', '1 #21 apple added to zone', '1 #25 banana added to zone', '1 #17 apple added to zone', '1 #27 bottle added to zone', '1 #28 bottle added to zone']\n",
      "1 #3 bottle ['1 #5 banana added to zone', '1 #4 banana added to zone', '1 #7 banana added to zone', '1 #9 banana added to zone', '1 #10 banana added to zone', '1 #11 bottle added to zone', '1 #11 banana added to zone', '1 #8 hot dog added to zone', '1 #9 bottle added to zone', '1 #17 bottle added to zone', '1 #18 bottle added to zone', '1 #19 apple added to zone', '1 #2 sports ball added to zone', '1 #21 banana added to zone', '1 #21 apple added to zone', '1 #25 banana added to zone', '1 #17 apple added to zone', '1 #27 bottle added to zone', '1 #28 bottle added to zone']\n"
     ]
    },
    {
     "name": "stderr",
     "output_type": "stream",
     "text": [
      "INFO:root:1 #28 bottle added to zone by person 15\n",
      "video 1/1 (490/640) C:\\Users\\rcheruvu\\Desktop\\openvino_notebooks\\recipes\\automated_detection_tracking\\data\\asset.mp4: 640x640 1 person, 2 bottles, 1 banana, 1 apple, 918.6ms\n",
      "INFO:root:1 #1 banana removed from zone by person 15\n",
      "INFO:root:1 #2 apple removed from zone by person 15\n",
      "INFO:root:1 #3 bottle removed from zone by person 15\n",
      "INFO:root:1 #21 apple added to zone by person 15\n",
      "INFO:root:1 #25 banana added to zone by person 15\n",
      "INFO:root:1 #27 bottle added to zone by person 15\n",
      "INFO:root:1 #28 bottle added to zone by person 15\n"
     ]
    },
    {
     "name": "stdout",
     "output_type": "stream",
     "text": [
      "1 #1 banana ['1 #5 banana added to zone', '1 #4 banana added to zone', '1 #7 banana added to zone', '1 #9 banana added to zone', '1 #10 banana added to zone', '1 #11 bottle added to zone', '1 #11 banana added to zone', '1 #8 hot dog added to zone', '1 #9 bottle added to zone', '1 #17 bottle added to zone', '1 #18 bottle added to zone', '1 #19 apple added to zone', '1 #2 sports ball added to zone', '1 #21 banana added to zone', '1 #21 apple added to zone', '1 #25 banana added to zone', '1 #17 apple added to zone', '1 #27 bottle added to zone', '1 #28 bottle added to zone']\n",
      "1 #2 apple ['1 #5 banana added to zone', '1 #4 banana added to zone', '1 #7 banana added to zone', '1 #9 banana added to zone', '1 #10 banana added to zone', '1 #11 bottle added to zone', '1 #11 banana added to zone', '1 #8 hot dog added to zone', '1 #9 bottle added to zone', '1 #17 bottle added to zone', '1 #18 bottle added to zone', '1 #19 apple added to zone', '1 #2 sports ball added to zone', '1 #21 banana added to zone', '1 #21 apple added to zone', '1 #25 banana added to zone', '1 #17 apple added to zone', '1 #27 bottle added to zone', '1 #28 bottle added to zone']\n",
      "1 #3 bottle ['1 #5 banana added to zone', '1 #4 banana added to zone', '1 #7 banana added to zone', '1 #9 banana added to zone', '1 #10 banana added to zone', '1 #11 bottle added to zone', '1 #11 banana added to zone', '1 #8 hot dog added to zone', '1 #9 bottle added to zone', '1 #17 bottle added to zone', '1 #18 bottle added to zone', '1 #19 apple added to zone', '1 #2 sports ball added to zone', '1 #21 banana added to zone', '1 #21 apple added to zone', '1 #25 banana added to zone', '1 #17 apple added to zone', '1 #27 bottle added to zone', '1 #28 bottle added to zone']\n"
     ]
    },
    {
     "name": "stderr",
     "output_type": "stream",
     "text": [
      "video 1/1 (491/640) C:\\Users\\rcheruvu\\Desktop\\openvino_notebooks\\recipes\\automated_detection_tracking\\data\\asset.mp4: 640x640 1 person, 2 bottles, 1 banana, 1 apple, 974.0ms\n",
      "INFO:root:1 #1 banana removed from zone by person 15\n",
      "INFO:root:1 #2 apple removed from zone by person 15\n",
      "INFO:root:1 #3 bottle removed from zone by person 15\n",
      "INFO:root:1 #21 apple added to zone by person 15\n",
      "INFO:root:1 #25 banana added to zone by person 15\n",
      "INFO:root:1 #27 bottle added to zone by person 15\n",
      "INFO:root:1 #28 bottle added to zone by person 15\n"
     ]
    },
    {
     "name": "stdout",
     "output_type": "stream",
     "text": [
      "1 #1 banana ['1 #5 banana added to zone', '1 #4 banana added to zone', '1 #7 banana added to zone', '1 #9 banana added to zone', '1 #10 banana added to zone', '1 #11 bottle added to zone', '1 #11 banana added to zone', '1 #8 hot dog added to zone', '1 #9 bottle added to zone', '1 #17 bottle added to zone', '1 #18 bottle added to zone', '1 #19 apple added to zone', '1 #2 sports ball added to zone', '1 #21 banana added to zone', '1 #21 apple added to zone', '1 #25 banana added to zone', '1 #17 apple added to zone', '1 #27 bottle added to zone', '1 #28 bottle added to zone']\n",
      "1 #2 apple ['1 #5 banana added to zone', '1 #4 banana added to zone', '1 #7 banana added to zone', '1 #9 banana added to zone', '1 #10 banana added to zone', '1 #11 bottle added to zone', '1 #11 banana added to zone', '1 #8 hot dog added to zone', '1 #9 bottle added to zone', '1 #17 bottle added to zone', '1 #18 bottle added to zone', '1 #19 apple added to zone', '1 #2 sports ball added to zone', '1 #21 banana added to zone', '1 #21 apple added to zone', '1 #25 banana added to zone', '1 #17 apple added to zone', '1 #27 bottle added to zone', '1 #28 bottle added to zone']\n",
      "1 #3 bottle ['1 #5 banana added to zone', '1 #4 banana added to zone', '1 #7 banana added to zone', '1 #9 banana added to zone', '1 #10 banana added to zone', '1 #11 bottle added to zone', '1 #11 banana added to zone', '1 #8 hot dog added to zone', '1 #9 bottle added to zone', '1 #17 bottle added to zone', '1 #18 bottle added to zone', '1 #19 apple added to zone', '1 #2 sports ball added to zone', '1 #21 banana added to zone', '1 #21 apple added to zone', '1 #25 banana added to zone', '1 #17 apple added to zone', '1 #27 bottle added to zone', '1 #28 bottle added to zone']\n"
     ]
    },
    {
     "name": "stderr",
     "output_type": "stream",
     "text": [
      "video 1/1 (492/640) C:\\Users\\rcheruvu\\Desktop\\openvino_notebooks\\recipes\\automated_detection_tracking\\data\\asset.mp4: 640x640 1 person, 2 bottles, 1 banana, 1 apple, 997.6ms\n",
      "INFO:root:1 #1 banana removed from zone by person 15\n",
      "INFO:root:1 #2 apple removed from zone by person 15\n",
      "INFO:root:1 #3 bottle removed from zone by person 15\n",
      "INFO:root:1 #21 apple added to zone by person 15\n",
      "INFO:root:1 #25 banana added to zone by person 15\n",
      "INFO:root:1 #27 bottle added to zone by person 15\n"
     ]
    },
    {
     "name": "stdout",
     "output_type": "stream",
     "text": [
      "1 #1 banana ['1 #5 banana added to zone', '1 #4 banana added to zone', '1 #7 banana added to zone', '1 #9 banana added to zone', '1 #10 banana added to zone', '1 #11 bottle added to zone', '1 #11 banana added to zone', '1 #8 hot dog added to zone', '1 #9 bottle added to zone', '1 #17 bottle added to zone', '1 #18 bottle added to zone', '1 #19 apple added to zone', '1 #2 sports ball added to zone', '1 #21 banana added to zone', '1 #21 apple added to zone', '1 #25 banana added to zone', '1 #17 apple added to zone', '1 #27 bottle added to zone', '1 #28 bottle added to zone']\n",
      "1 #2 apple ['1 #5 banana added to zone', '1 #4 banana added to zone', '1 #7 banana added to zone', '1 #9 banana added to zone', '1 #10 banana added to zone', '1 #11 bottle added to zone', '1 #11 banana added to zone', '1 #8 hot dog added to zone', '1 #9 bottle added to zone', '1 #17 bottle added to zone', '1 #18 bottle added to zone', '1 #19 apple added to zone', '1 #2 sports ball added to zone', '1 #21 banana added to zone', '1 #21 apple added to zone', '1 #25 banana added to zone', '1 #17 apple added to zone', '1 #27 bottle added to zone', '1 #28 bottle added to zone']\n",
      "1 #3 bottle ['1 #5 banana added to zone', '1 #4 banana added to zone', '1 #7 banana added to zone', '1 #9 banana added to zone', '1 #10 banana added to zone', '1 #11 bottle added to zone', '1 #11 banana added to zone', '1 #8 hot dog added to zone', '1 #9 bottle added to zone', '1 #17 bottle added to zone', '1 #18 bottle added to zone', '1 #19 apple added to zone', '1 #2 sports ball added to zone', '1 #21 banana added to zone', '1 #21 apple added to zone', '1 #25 banana added to zone', '1 #17 apple added to zone', '1 #27 bottle added to zone', '1 #28 bottle added to zone']\n"
     ]
    },
    {
     "name": "stderr",
     "output_type": "stream",
     "text": [
      "INFO:root:1 #28 bottle added to zone by person 15\n",
      "video 1/1 (493/640) C:\\Users\\rcheruvu\\Desktop\\openvino_notebooks\\recipes\\automated_detection_tracking\\data\\asset.mp4: 640x640 1 person, 2 bottles, 1 banana, 1 apple, 1087.2ms\n",
      "INFO:root:1 #1 banana removed from zone by person 15\n",
      "INFO:root:1 #2 apple removed from zone by person 15\n",
      "INFO:root:1 #3 bottle removed from zone by person 15\n",
      "INFO:root:1 #21 apple added to zone by person 15\n",
      "INFO:root:1 #25 banana added to zone by person 15\n",
      "INFO:root:1 #27 bottle added to zone by person 15\n",
      "INFO:root:1 #28 bottle added to zone by person 15\n"
     ]
    },
    {
     "name": "stdout",
     "output_type": "stream",
     "text": [
      "1 #1 banana ['1 #5 banana added to zone', '1 #4 banana added to zone', '1 #7 banana added to zone', '1 #9 banana added to zone', '1 #10 banana added to zone', '1 #11 bottle added to zone', '1 #11 banana added to zone', '1 #8 hot dog added to zone', '1 #9 bottle added to zone', '1 #17 bottle added to zone', '1 #18 bottle added to zone', '1 #19 apple added to zone', '1 #2 sports ball added to zone', '1 #21 banana added to zone', '1 #21 apple added to zone', '1 #25 banana added to zone', '1 #17 apple added to zone', '1 #27 bottle added to zone', '1 #28 bottle added to zone']\n",
      "1 #2 apple ['1 #5 banana added to zone', '1 #4 banana added to zone', '1 #7 banana added to zone', '1 #9 banana added to zone', '1 #10 banana added to zone', '1 #11 bottle added to zone', '1 #11 banana added to zone', '1 #8 hot dog added to zone', '1 #9 bottle added to zone', '1 #17 bottle added to zone', '1 #18 bottle added to zone', '1 #19 apple added to zone', '1 #2 sports ball added to zone', '1 #21 banana added to zone', '1 #21 apple added to zone', '1 #25 banana added to zone', '1 #17 apple added to zone', '1 #27 bottle added to zone', '1 #28 bottle added to zone']\n",
      "1 #3 bottle ['1 #5 banana added to zone', '1 #4 banana added to zone', '1 #7 banana added to zone', '1 #9 banana added to zone', '1 #10 banana added to zone', '1 #11 bottle added to zone', '1 #11 banana added to zone', '1 #8 hot dog added to zone', '1 #9 bottle added to zone', '1 #17 bottle added to zone', '1 #18 bottle added to zone', '1 #19 apple added to zone', '1 #2 sports ball added to zone', '1 #21 banana added to zone', '1 #21 apple added to zone', '1 #25 banana added to zone', '1 #17 apple added to zone', '1 #27 bottle added to zone', '1 #28 bottle added to zone']\n"
     ]
    },
    {
     "name": "stderr",
     "output_type": "stream",
     "text": [
      "video 1/1 (494/640) C:\\Users\\rcheruvu\\Desktop\\openvino_notebooks\\recipes\\automated_detection_tracking\\data\\asset.mp4: 640x640 1 person, 2 bottles, 1 banana, 1 apple, 923.0ms\n",
      "INFO:root:1 #1 banana removed from zone by person 15\n",
      "INFO:root:1 #2 apple removed from zone by person 15\n",
      "INFO:root:1 #3 bottle removed from zone by person 15\n",
      "INFO:root:1 #21 apple added to zone by person 15\n",
      "INFO:root:1 #25 banana added to zone by person 15\n",
      "INFO:root:1 #27 bottle added to zone by person 15\n",
      "INFO:root:1 #28 bottle added to zone by person 15\n"
     ]
    },
    {
     "name": "stdout",
     "output_type": "stream",
     "text": [
      "1 #1 banana ['1 #5 banana added to zone', '1 #4 banana added to zone', '1 #7 banana added to zone', '1 #9 banana added to zone', '1 #10 banana added to zone', '1 #11 bottle added to zone', '1 #11 banana added to zone', '1 #8 hot dog added to zone', '1 #9 bottle added to zone', '1 #17 bottle added to zone', '1 #18 bottle added to zone', '1 #19 apple added to zone', '1 #2 sports ball added to zone', '1 #21 banana added to zone', '1 #21 apple added to zone', '1 #25 banana added to zone', '1 #17 apple added to zone', '1 #27 bottle added to zone', '1 #28 bottle added to zone']\n",
      "1 #2 apple ['1 #5 banana added to zone', '1 #4 banana added to zone', '1 #7 banana added to zone', '1 #9 banana added to zone', '1 #10 banana added to zone', '1 #11 bottle added to zone', '1 #11 banana added to zone', '1 #8 hot dog added to zone', '1 #9 bottle added to zone', '1 #17 bottle added to zone', '1 #18 bottle added to zone', '1 #19 apple added to zone', '1 #2 sports ball added to zone', '1 #21 banana added to zone', '1 #21 apple added to zone', '1 #25 banana added to zone', '1 #17 apple added to zone', '1 #27 bottle added to zone', '1 #28 bottle added to zone']\n",
      "1 #3 bottle ['1 #5 banana added to zone', '1 #4 banana added to zone', '1 #7 banana added to zone', '1 #9 banana added to zone', '1 #10 banana added to zone', '1 #11 bottle added to zone', '1 #11 banana added to zone', '1 #8 hot dog added to zone', '1 #9 bottle added to zone', '1 #17 bottle added to zone', '1 #18 bottle added to zone', '1 #19 apple added to zone', '1 #2 sports ball added to zone', '1 #21 banana added to zone', '1 #21 apple added to zone', '1 #25 banana added to zone', '1 #17 apple added to zone', '1 #27 bottle added to zone', '1 #28 bottle added to zone']\n"
     ]
    },
    {
     "name": "stderr",
     "output_type": "stream",
     "text": [
      "video 1/1 (495/640) C:\\Users\\rcheruvu\\Desktop\\openvino_notebooks\\recipes\\automated_detection_tracking\\data\\asset.mp4: 640x640 1 person, 2 bottles, 1 banana, 1 apple, 1029.8ms\n",
      "INFO:root:1 #1 banana removed from zone by person 15\n",
      "INFO:root:1 #2 apple removed from zone by person 15\n",
      "INFO:root:1 #3 bottle removed from zone by person 15\n",
      "INFO:root:1 #21 apple added to zone by person 15\n",
      "INFO:root:1 #25 banana added to zone by person 15\n",
      "INFO:root:1 #27 bottle added to zone by person 15\n",
      "INFO:root:1 #28 bottle added to zone by person 15\n"
     ]
    },
    {
     "name": "stdout",
     "output_type": "stream",
     "text": [
      "1 #1 banana ['1 #5 banana added to zone', '1 #4 banana added to zone', '1 #7 banana added to zone', '1 #9 banana added to zone', '1 #10 banana added to zone', '1 #11 bottle added to zone', '1 #11 banana added to zone', '1 #8 hot dog added to zone', '1 #9 bottle added to zone', '1 #17 bottle added to zone', '1 #18 bottle added to zone', '1 #19 apple added to zone', '1 #2 sports ball added to zone', '1 #21 banana added to zone', '1 #21 apple added to zone', '1 #25 banana added to zone', '1 #17 apple added to zone', '1 #27 bottle added to zone', '1 #28 bottle added to zone']\n",
      "1 #2 apple ['1 #5 banana added to zone', '1 #4 banana added to zone', '1 #7 banana added to zone', '1 #9 banana added to zone', '1 #10 banana added to zone', '1 #11 bottle added to zone', '1 #11 banana added to zone', '1 #8 hot dog added to zone', '1 #9 bottle added to zone', '1 #17 bottle added to zone', '1 #18 bottle added to zone', '1 #19 apple added to zone', '1 #2 sports ball added to zone', '1 #21 banana added to zone', '1 #21 apple added to zone', '1 #25 banana added to zone', '1 #17 apple added to zone', '1 #27 bottle added to zone', '1 #28 bottle added to zone']\n",
      "1 #3 bottle ['1 #5 banana added to zone', '1 #4 banana added to zone', '1 #7 banana added to zone', '1 #9 banana added to zone', '1 #10 banana added to zone', '1 #11 bottle added to zone', '1 #11 banana added to zone', '1 #8 hot dog added to zone', '1 #9 bottle added to zone', '1 #17 bottle added to zone', '1 #18 bottle added to zone', '1 #19 apple added to zone', '1 #2 sports ball added to zone', '1 #21 banana added to zone', '1 #21 apple added to zone', '1 #25 banana added to zone', '1 #17 apple added to zone', '1 #27 bottle added to zone', '1 #28 bottle added to zone']\n"
     ]
    },
    {
     "name": "stderr",
     "output_type": "stream",
     "text": [
      "video 1/1 (496/640) C:\\Users\\rcheruvu\\Desktop\\openvino_notebooks\\recipes\\automated_detection_tracking\\data\\asset.mp4: 640x640 1 person, 2 bottles, 1 banana, 1 apple, 981.9ms\n",
      "INFO:root:1 #1 banana removed from zone by person 15\n",
      "INFO:root:1 #2 apple removed from zone by person 15\n",
      "INFO:root:1 #3 bottle removed from zone by person 15\n",
      "INFO:root:1 #21 apple added to zone by person 15\n",
      "INFO:root:1 #25 banana added to zone by person 15\n",
      "INFO:root:1 #27 bottle added to zone by person 15\n",
      "INFO:root:1 #28 bottle added to zone by person 15\n"
     ]
    },
    {
     "name": "stdout",
     "output_type": "stream",
     "text": [
      "1 #1 banana ['1 #5 banana added to zone', '1 #4 banana added to zone', '1 #7 banana added to zone', '1 #9 banana added to zone', '1 #10 banana added to zone', '1 #11 bottle added to zone', '1 #11 banana added to zone', '1 #8 hot dog added to zone', '1 #9 bottle added to zone', '1 #17 bottle added to zone', '1 #18 bottle added to zone', '1 #19 apple added to zone', '1 #2 sports ball added to zone', '1 #21 banana added to zone', '1 #21 apple added to zone', '1 #25 banana added to zone', '1 #17 apple added to zone', '1 #27 bottle added to zone', '1 #28 bottle added to zone']\n",
      "1 #2 apple ['1 #5 banana added to zone', '1 #4 banana added to zone', '1 #7 banana added to zone', '1 #9 banana added to zone', '1 #10 banana added to zone', '1 #11 bottle added to zone', '1 #11 banana added to zone', '1 #8 hot dog added to zone', '1 #9 bottle added to zone', '1 #17 bottle added to zone', '1 #18 bottle added to zone', '1 #19 apple added to zone', '1 #2 sports ball added to zone', '1 #21 banana added to zone', '1 #21 apple added to zone', '1 #25 banana added to zone', '1 #17 apple added to zone', '1 #27 bottle added to zone', '1 #28 bottle added to zone']\n",
      "1 #3 bottle ['1 #5 banana added to zone', '1 #4 banana added to zone', '1 #7 banana added to zone', '1 #9 banana added to zone', '1 #10 banana added to zone', '1 #11 bottle added to zone', '1 #11 banana added to zone', '1 #8 hot dog added to zone', '1 #9 bottle added to zone', '1 #17 bottle added to zone', '1 #18 bottle added to zone', '1 #19 apple added to zone', '1 #2 sports ball added to zone', '1 #21 banana added to zone', '1 #21 apple added to zone', '1 #25 banana added to zone', '1 #17 apple added to zone', '1 #27 bottle added to zone', '1 #28 bottle added to zone']\n"
     ]
    },
    {
     "name": "stderr",
     "output_type": "stream",
     "text": [
      "video 1/1 (497/640) C:\\Users\\rcheruvu\\Desktop\\openvino_notebooks\\recipes\\automated_detection_tracking\\data\\asset.mp4: 640x640 1 person, 2 bottles, 1 banana, 1 apple, 1031.8ms\n",
      "INFO:root:1 #1 banana removed from zone by person 15\n",
      "INFO:root:1 #2 apple removed from zone by person 15\n",
      "INFO:root:1 #3 bottle removed from zone by person 15\n",
      "INFO:root:1 #21 apple added to zone by person 15\n",
      "INFO:root:1 #25 banana added to zone by person 15\n",
      "INFO:root:1 #27 bottle added to zone by person 15\n",
      "INFO:root:1 #28 bottle added to zone by person 15\n"
     ]
    },
    {
     "name": "stdout",
     "output_type": "stream",
     "text": [
      "1 #1 banana ['1 #5 banana added to zone', '1 #4 banana added to zone', '1 #7 banana added to zone', '1 #9 banana added to zone', '1 #10 banana added to zone', '1 #11 bottle added to zone', '1 #11 banana added to zone', '1 #8 hot dog added to zone', '1 #9 bottle added to zone', '1 #17 bottle added to zone', '1 #18 bottle added to zone', '1 #19 apple added to zone', '1 #2 sports ball added to zone', '1 #21 banana added to zone', '1 #21 apple added to zone', '1 #25 banana added to zone', '1 #17 apple added to zone', '1 #27 bottle added to zone', '1 #28 bottle added to zone']\n",
      "1 #2 apple ['1 #5 banana added to zone', '1 #4 banana added to zone', '1 #7 banana added to zone', '1 #9 banana added to zone', '1 #10 banana added to zone', '1 #11 bottle added to zone', '1 #11 banana added to zone', '1 #8 hot dog added to zone', '1 #9 bottle added to zone', '1 #17 bottle added to zone', '1 #18 bottle added to zone', '1 #19 apple added to zone', '1 #2 sports ball added to zone', '1 #21 banana added to zone', '1 #21 apple added to zone', '1 #25 banana added to zone', '1 #17 apple added to zone', '1 #27 bottle added to zone', '1 #28 bottle added to zone']\n",
      "1 #3 bottle ['1 #5 banana added to zone', '1 #4 banana added to zone', '1 #7 banana added to zone', '1 #9 banana added to zone', '1 #10 banana added to zone', '1 #11 bottle added to zone', '1 #11 banana added to zone', '1 #8 hot dog added to zone', '1 #9 bottle added to zone', '1 #17 bottle added to zone', '1 #18 bottle added to zone', '1 #19 apple added to zone', '1 #2 sports ball added to zone', '1 #21 banana added to zone', '1 #21 apple added to zone', '1 #25 banana added to zone', '1 #17 apple added to zone', '1 #27 bottle added to zone', '1 #28 bottle added to zone']\n"
     ]
    },
    {
     "name": "stderr",
     "output_type": "stream",
     "text": [
      "video 1/1 (498/640) C:\\Users\\rcheruvu\\Desktop\\openvino_notebooks\\recipes\\automated_detection_tracking\\data\\asset.mp4: 640x640 1 person, 2 bottles, 1 banana, 1 apple, 992.3ms\n",
      "INFO:root:1 #1 banana removed from zone by person 15\n",
      "INFO:root:1 #2 apple removed from zone by person 15\n",
      "INFO:root:1 #3 bottle removed from zone by person 15\n",
      "INFO:root:1 #21 apple added to zone by person 15\n",
      "INFO:root:1 #25 banana added to zone by person 15\n",
      "INFO:root:1 #27 bottle added to zone by person 15\n"
     ]
    },
    {
     "name": "stdout",
     "output_type": "stream",
     "text": [
      "1 #1 banana ['1 #5 banana added to zone', '1 #4 banana added to zone', '1 #7 banana added to zone', '1 #9 banana added to zone', '1 #10 banana added to zone', '1 #11 bottle added to zone', '1 #11 banana added to zone', '1 #8 hot dog added to zone', '1 #9 bottle added to zone', '1 #17 bottle added to zone', '1 #18 bottle added to zone', '1 #19 apple added to zone', '1 #2 sports ball added to zone', '1 #21 banana added to zone', '1 #21 apple added to zone', '1 #25 banana added to zone', '1 #17 apple added to zone', '1 #27 bottle added to zone', '1 #28 bottle added to zone']\n",
      "1 #2 apple ['1 #5 banana added to zone', '1 #4 banana added to zone', '1 #7 banana added to zone', '1 #9 banana added to zone', '1 #10 banana added to zone', '1 #11 bottle added to zone', '1 #11 banana added to zone', '1 #8 hot dog added to zone', '1 #9 bottle added to zone', '1 #17 bottle added to zone', '1 #18 bottle added to zone', '1 #19 apple added to zone', '1 #2 sports ball added to zone', '1 #21 banana added to zone', '1 #21 apple added to zone', '1 #25 banana added to zone', '1 #17 apple added to zone', '1 #27 bottle added to zone', '1 #28 bottle added to zone']\n",
      "1 #3 bottle ['1 #5 banana added to zone', '1 #4 banana added to zone', '1 #7 banana added to zone', '1 #9 banana added to zone', '1 #10 banana added to zone', '1 #11 bottle added to zone', '1 #11 banana added to zone', '1 #8 hot dog added to zone', '1 #9 bottle added to zone', '1 #17 bottle added to zone', '1 #18 bottle added to zone', '1 #19 apple added to zone', '1 #2 sports ball added to zone', '1 #21 banana added to zone', '1 #21 apple added to zone', '1 #25 banana added to zone', '1 #17 apple added to zone', '1 #27 bottle added to zone', '1 #28 bottle added to zone']\n"
     ]
    },
    {
     "name": "stderr",
     "output_type": "stream",
     "text": [
      "INFO:root:1 #28 bottle added to zone by person 15\n",
      "video 1/1 (499/640) C:\\Users\\rcheruvu\\Desktop\\openvino_notebooks\\recipes\\automated_detection_tracking\\data\\asset.mp4: 640x640 1 person, 2 bottles, 1 banana, 1 apple, 915.2ms\n",
      "INFO:root:1 #1 banana removed from zone by person 15\n",
      "INFO:root:1 #2 apple removed from zone by person 15\n",
      "INFO:root:1 #3 bottle removed from zone by person 15\n",
      "INFO:root:1 #21 apple added to zone by person 15\n",
      "INFO:root:1 #25 banana added to zone by person 15\n",
      "INFO:root:1 #27 bottle added to zone by person 15\n",
      "INFO:root:1 #28 bottle added to zone by person 15\n",
      "INFO:root:1 #29 apple added to zone by person 15\n"
     ]
    },
    {
     "name": "stdout",
     "output_type": "stream",
     "text": [
      "1 #1 banana ['1 #5 banana added to zone', '1 #4 banana added to zone', '1 #7 banana added to zone', '1 #9 banana added to zone', '1 #10 banana added to zone', '1 #11 bottle added to zone', '1 #11 banana added to zone', '1 #8 hot dog added to zone', '1 #9 bottle added to zone', '1 #17 bottle added to zone', '1 #18 bottle added to zone', '1 #19 apple added to zone', '1 #2 sports ball added to zone', '1 #21 banana added to zone', '1 #21 apple added to zone', '1 #25 banana added to zone', '1 #17 apple added to zone', '1 #27 bottle added to zone', '1 #28 bottle added to zone']\n",
      "1 #2 apple ['1 #5 banana added to zone', '1 #4 banana added to zone', '1 #7 banana added to zone', '1 #9 banana added to zone', '1 #10 banana added to zone', '1 #11 bottle added to zone', '1 #11 banana added to zone', '1 #8 hot dog added to zone', '1 #9 bottle added to zone', '1 #17 bottle added to zone', '1 #18 bottle added to zone', '1 #19 apple added to zone', '1 #2 sports ball added to zone', '1 #21 banana added to zone', '1 #21 apple added to zone', '1 #25 banana added to zone', '1 #17 apple added to zone', '1 #27 bottle added to zone', '1 #28 bottle added to zone']\n",
      "1 #3 bottle ['1 #5 banana added to zone', '1 #4 banana added to zone', '1 #7 banana added to zone', '1 #9 banana added to zone', '1 #10 banana added to zone', '1 #11 bottle added to zone', '1 #11 banana added to zone', '1 #8 hot dog added to zone', '1 #9 bottle added to zone', '1 #17 bottle added to zone', '1 #18 bottle added to zone', '1 #19 apple added to zone', '1 #2 sports ball added to zone', '1 #21 banana added to zone', '1 #21 apple added to zone', '1 #25 banana added to zone', '1 #17 apple added to zone', '1 #27 bottle added to zone', '1 #28 bottle added to zone']\n"
     ]
    },
    {
     "name": "stderr",
     "output_type": "stream",
     "text": [
      "video 1/1 (500/640) C:\\Users\\rcheruvu\\Desktop\\openvino_notebooks\\recipes\\automated_detection_tracking\\data\\asset.mp4: 640x640 1 person, 2 bottles, 1 banana, 2 apples, 1020.6ms\n",
      "INFO:root:1 #1 banana removed from zone by person 15\n",
      "INFO:root:1 #2 apple removed from zone by person 15\n",
      "INFO:root:1 #3 bottle removed from zone by person 15\n",
      "INFO:root:1 #21 apple added to zone by person 15\n",
      "INFO:root:1 #25 banana added to zone by person 15\n",
      "INFO:root:1 #27 bottle added to zone by person 15\n",
      "INFO:root:1 #28 bottle added to zone by person 15\n"
     ]
    },
    {
     "name": "stdout",
     "output_type": "stream",
     "text": [
      "1 #1 banana ['1 #5 banana added to zone', '1 #4 banana added to zone', '1 #7 banana added to zone', '1 #9 banana added to zone', '1 #10 banana added to zone', '1 #11 bottle added to zone', '1 #11 banana added to zone', '1 #8 hot dog added to zone', '1 #9 bottle added to zone', '1 #17 bottle added to zone', '1 #18 bottle added to zone', '1 #19 apple added to zone', '1 #2 sports ball added to zone', '1 #21 banana added to zone', '1 #21 apple added to zone', '1 #25 banana added to zone', '1 #17 apple added to zone', '1 #27 bottle added to zone', '1 #28 bottle added to zone', '1 #29 apple added to zone']\n",
      "1 #2 apple ['1 #5 banana added to zone', '1 #4 banana added to zone', '1 #7 banana added to zone', '1 #9 banana added to zone', '1 #10 banana added to zone', '1 #11 bottle added to zone', '1 #11 banana added to zone', '1 #8 hot dog added to zone', '1 #9 bottle added to zone', '1 #17 bottle added to zone', '1 #18 bottle added to zone', '1 #19 apple added to zone', '1 #2 sports ball added to zone', '1 #21 banana added to zone', '1 #21 apple added to zone', '1 #25 banana added to zone', '1 #17 apple added to zone', '1 #27 bottle added to zone', '1 #28 bottle added to zone', '1 #29 apple added to zone']\n",
      "1 #3 bottle ['1 #5 banana added to zone', '1 #4 banana added to zone', '1 #7 banana added to zone', '1 #9 banana added to zone', '1 #10 banana added to zone', '1 #11 bottle added to zone', '1 #11 banana added to zone', '1 #8 hot dog added to zone', '1 #9 bottle added to zone', '1 #17 bottle added to zone', '1 #18 bottle added to zone', '1 #19 apple added to zone', '1 #2 sports ball added to zone', '1 #21 banana added to zone', '1 #21 apple added to zone', '1 #25 banana added to zone', '1 #17 apple added to zone', '1 #27 bottle added to zone', '1 #28 bottle added to zone', '1 #29 apple added to zone']\n"
     ]
    },
    {
     "name": "stderr",
     "output_type": "stream",
     "text": [
      "INFO:root:1 #29 apple added to zone by person 15\n",
      "video 1/1 (501/640) C:\\Users\\rcheruvu\\Desktop\\openvino_notebooks\\recipes\\automated_detection_tracking\\data\\asset.mp4: 640x640 1 person, 2 bottles, 1 banana, 2 apples, 938.0ms\n",
      "INFO:root:1 #1 banana removed from zone by person 15\n",
      "INFO:root:1 #2 apple removed from zone by person 15\n",
      "INFO:root:1 #3 bottle removed from zone by person 15\n",
      "INFO:root:1 #21 apple added to zone by person 15\n",
      "INFO:root:1 #25 banana added to zone by person 15\n",
      "INFO:root:1 #27 bottle added to zone by person 15\n",
      "INFO:root:1 #28 bottle added to zone by person 15\n",
      "INFO:root:1 #29 apple added to zone by person 15\n"
     ]
    },
    {
     "name": "stdout",
     "output_type": "stream",
     "text": [
      "1 #1 banana ['1 #5 banana added to zone', '1 #4 banana added to zone', '1 #7 banana added to zone', '1 #9 banana added to zone', '1 #10 banana added to zone', '1 #11 bottle added to zone', '1 #11 banana added to zone', '1 #8 hot dog added to zone', '1 #9 bottle added to zone', '1 #17 bottle added to zone', '1 #18 bottle added to zone', '1 #19 apple added to zone', '1 #2 sports ball added to zone', '1 #21 banana added to zone', '1 #21 apple added to zone', '1 #25 banana added to zone', '1 #17 apple added to zone', '1 #27 bottle added to zone', '1 #28 bottle added to zone', '1 #29 apple added to zone']\n",
      "1 #2 apple ['1 #5 banana added to zone', '1 #4 banana added to zone', '1 #7 banana added to zone', '1 #9 banana added to zone', '1 #10 banana added to zone', '1 #11 bottle added to zone', '1 #11 banana added to zone', '1 #8 hot dog added to zone', '1 #9 bottle added to zone', '1 #17 bottle added to zone', '1 #18 bottle added to zone', '1 #19 apple added to zone', '1 #2 sports ball added to zone', '1 #21 banana added to zone', '1 #21 apple added to zone', '1 #25 banana added to zone', '1 #17 apple added to zone', '1 #27 bottle added to zone', '1 #28 bottle added to zone', '1 #29 apple added to zone']\n",
      "1 #3 bottle ['1 #5 banana added to zone', '1 #4 banana added to zone', '1 #7 banana added to zone', '1 #9 banana added to zone', '1 #10 banana added to zone', '1 #11 bottle added to zone', '1 #11 banana added to zone', '1 #8 hot dog added to zone', '1 #9 bottle added to zone', '1 #17 bottle added to zone', '1 #18 bottle added to zone', '1 #19 apple added to zone', '1 #2 sports ball added to zone', '1 #21 banana added to zone', '1 #21 apple added to zone', '1 #25 banana added to zone', '1 #17 apple added to zone', '1 #27 bottle added to zone', '1 #28 bottle added to zone', '1 #29 apple added to zone']\n"
     ]
    },
    {
     "name": "stderr",
     "output_type": "stream",
     "text": [
      "video 1/1 (502/640) C:\\Users\\rcheruvu\\Desktop\\openvino_notebooks\\recipes\\automated_detection_tracking\\data\\asset.mp4: 640x640 1 person, 2 bottles, 1 banana, 2 apples, 1005.1ms\n",
      "INFO:root:1 #1 banana removed from zone by person 15\n",
      "INFO:root:1 #2 apple removed from zone by person 15\n",
      "INFO:root:1 #3 bottle removed from zone by person 15\n",
      "INFO:root:1 #21 apple added to zone by person 15\n",
      "INFO:root:1 #25 banana added to zone by person 15\n",
      "INFO:root:1 #27 bottle added to zone by person 15\n"
     ]
    },
    {
     "name": "stdout",
     "output_type": "stream",
     "text": [
      "1 #1 banana ['1 #5 banana added to zone', '1 #4 banana added to zone', '1 #7 banana added to zone', '1 #9 banana added to zone', '1 #10 banana added to zone', '1 #11 bottle added to zone', '1 #11 banana added to zone', '1 #8 hot dog added to zone', '1 #9 bottle added to zone', '1 #17 bottle added to zone', '1 #18 bottle added to zone', '1 #19 apple added to zone', '1 #2 sports ball added to zone', '1 #21 banana added to zone', '1 #21 apple added to zone', '1 #25 banana added to zone', '1 #17 apple added to zone', '1 #27 bottle added to zone', '1 #28 bottle added to zone', '1 #29 apple added to zone']\n",
      "1 #2 apple ['1 #5 banana added to zone', '1 #4 banana added to zone', '1 #7 banana added to zone', '1 #9 banana added to zone', '1 #10 banana added to zone', '1 #11 bottle added to zone', '1 #11 banana added to zone', '1 #8 hot dog added to zone', '1 #9 bottle added to zone', '1 #17 bottle added to zone', '1 #18 bottle added to zone', '1 #19 apple added to zone', '1 #2 sports ball added to zone', '1 #21 banana added to zone', '1 #21 apple added to zone', '1 #25 banana added to zone', '1 #17 apple added to zone', '1 #27 bottle added to zone', '1 #28 bottle added to zone', '1 #29 apple added to zone']\n",
      "1 #3 bottle ['1 #5 banana added to zone', '1 #4 banana added to zone', '1 #7 banana added to zone', '1 #9 banana added to zone', '1 #10 banana added to zone', '1 #11 bottle added to zone', '1 #11 banana added to zone', '1 #8 hot dog added to zone', '1 #9 bottle added to zone', '1 #17 bottle added to zone', '1 #18 bottle added to zone', '1 #19 apple added to zone', '1 #2 sports ball added to zone', '1 #21 banana added to zone', '1 #21 apple added to zone', '1 #25 banana added to zone', '1 #17 apple added to zone', '1 #27 bottle added to zone', '1 #28 bottle added to zone', '1 #29 apple added to zone']\n"
     ]
    },
    {
     "name": "stderr",
     "output_type": "stream",
     "text": [
      "INFO:root:1 #28 bottle added to zone by person 15\n",
      "INFO:root:1 #29 apple added to zone by person 15\n",
      "video 1/1 (503/640) C:\\Users\\rcheruvu\\Desktop\\openvino_notebooks\\recipes\\automated_detection_tracking\\data\\asset.mp4: 640x640 1 person, 2 bottles, 1 banana, 2 apples, 985.6ms\n",
      "INFO:root:1 #1 banana removed from zone by person 15\n",
      "INFO:root:1 #2 apple removed from zone by person 15\n",
      "INFO:root:1 #3 bottle removed from zone by person 15\n",
      "INFO:root:1 #21 apple added to zone by person 15\n",
      "INFO:root:1 #25 banana added to zone by person 15\n",
      "INFO:root:1 #27 bottle added to zone by person 15\n",
      "INFO:root:1 #28 bottle added to zone by person 15\n",
      "INFO:root:1 #29 apple added to zone by person 15\n"
     ]
    },
    {
     "name": "stdout",
     "output_type": "stream",
     "text": [
      "1 #1 banana ['1 #5 banana added to zone', '1 #4 banana added to zone', '1 #7 banana added to zone', '1 #9 banana added to zone', '1 #10 banana added to zone', '1 #11 bottle added to zone', '1 #11 banana added to zone', '1 #8 hot dog added to zone', '1 #9 bottle added to zone', '1 #17 bottle added to zone', '1 #18 bottle added to zone', '1 #19 apple added to zone', '1 #2 sports ball added to zone', '1 #21 banana added to zone', '1 #21 apple added to zone', '1 #25 banana added to zone', '1 #17 apple added to zone', '1 #27 bottle added to zone', '1 #28 bottle added to zone', '1 #29 apple added to zone']\n",
      "1 #2 apple ['1 #5 banana added to zone', '1 #4 banana added to zone', '1 #7 banana added to zone', '1 #9 banana added to zone', '1 #10 banana added to zone', '1 #11 bottle added to zone', '1 #11 banana added to zone', '1 #8 hot dog added to zone', '1 #9 bottle added to zone', '1 #17 bottle added to zone', '1 #18 bottle added to zone', '1 #19 apple added to zone', '1 #2 sports ball added to zone', '1 #21 banana added to zone', '1 #21 apple added to zone', '1 #25 banana added to zone', '1 #17 apple added to zone', '1 #27 bottle added to zone', '1 #28 bottle added to zone', '1 #29 apple added to zone']\n",
      "1 #3 bottle ['1 #5 banana added to zone', '1 #4 banana added to zone', '1 #7 banana added to zone', '1 #9 banana added to zone', '1 #10 banana added to zone', '1 #11 bottle added to zone', '1 #11 banana added to zone', '1 #8 hot dog added to zone', '1 #9 bottle added to zone', '1 #17 bottle added to zone', '1 #18 bottle added to zone', '1 #19 apple added to zone', '1 #2 sports ball added to zone', '1 #21 banana added to zone', '1 #21 apple added to zone', '1 #25 banana added to zone', '1 #17 apple added to zone', '1 #27 bottle added to zone', '1 #28 bottle added to zone', '1 #29 apple added to zone']\n"
     ]
    },
    {
     "name": "stderr",
     "output_type": "stream",
     "text": [
      "video 1/1 (504/640) C:\\Users\\rcheruvu\\Desktop\\openvino_notebooks\\recipes\\automated_detection_tracking\\data\\asset.mp4: 640x640 1 person, 2 bottles, 1 banana, 2 apples, 956.3ms\n",
      "INFO:root:1 #1 banana removed from zone by person 15\n",
      "INFO:root:1 #2 apple removed from zone by person 15\n",
      "INFO:root:1 #3 bottle removed from zone by person 15\n",
      "INFO:root:1 #21 apple added to zone by person 15\n",
      "INFO:root:1 #25 banana added to zone by person 15\n",
      "INFO:root:1 #27 bottle added to zone by person 15\n",
      "INFO:root:1 #28 bottle added to zone by person 15\n"
     ]
    },
    {
     "name": "stdout",
     "output_type": "stream",
     "text": [
      "1 #1 banana ['1 #5 banana added to zone', '1 #4 banana added to zone', '1 #7 banana added to zone', '1 #9 banana added to zone', '1 #10 banana added to zone', '1 #11 bottle added to zone', '1 #11 banana added to zone', '1 #8 hot dog added to zone', '1 #9 bottle added to zone', '1 #17 bottle added to zone', '1 #18 bottle added to zone', '1 #19 apple added to zone', '1 #2 sports ball added to zone', '1 #21 banana added to zone', '1 #21 apple added to zone', '1 #25 banana added to zone', '1 #17 apple added to zone', '1 #27 bottle added to zone', '1 #28 bottle added to zone', '1 #29 apple added to zone']\n",
      "1 #2 apple ['1 #5 banana added to zone', '1 #4 banana added to zone', '1 #7 banana added to zone', '1 #9 banana added to zone', '1 #10 banana added to zone', '1 #11 bottle added to zone', '1 #11 banana added to zone', '1 #8 hot dog added to zone', '1 #9 bottle added to zone', '1 #17 bottle added to zone', '1 #18 bottle added to zone', '1 #19 apple added to zone', '1 #2 sports ball added to zone', '1 #21 banana added to zone', '1 #21 apple added to zone', '1 #25 banana added to zone', '1 #17 apple added to zone', '1 #27 bottle added to zone', '1 #28 bottle added to zone', '1 #29 apple added to zone']\n",
      "1 #3 bottle ['1 #5 banana added to zone', '1 #4 banana added to zone', '1 #7 banana added to zone', '1 #9 banana added to zone', '1 #10 banana added to zone', '1 #11 bottle added to zone', '1 #11 banana added to zone', '1 #8 hot dog added to zone', '1 #9 bottle added to zone', '1 #17 bottle added to zone', '1 #18 bottle added to zone', '1 #19 apple added to zone', '1 #2 sports ball added to zone', '1 #21 banana added to zone', '1 #21 apple added to zone', '1 #25 banana added to zone', '1 #17 apple added to zone', '1 #27 bottle added to zone', '1 #28 bottle added to zone', '1 #29 apple added to zone']\n"
     ]
    },
    {
     "name": "stderr",
     "output_type": "stream",
     "text": [
      "INFO:root:1 #29 apple added to zone by person 15\n",
      "video 1/1 (505/640) C:\\Users\\rcheruvu\\Desktop\\openvino_notebooks\\recipes\\automated_detection_tracking\\data\\asset.mp4: 640x640 1 person, 2 bottles, 1 banana, 2 apples, 941.1ms\n",
      "INFO:root:1 #1 banana removed from zone by person 15\n",
      "INFO:root:1 #2 apple removed from zone by person 15\n",
      "INFO:root:1 #3 bottle removed from zone by person 15\n",
      "INFO:root:1 #21 apple added to zone by person 15\n",
      "INFO:root:1 #25 banana added to zone by person 15\n",
      "INFO:root:1 #27 bottle added to zone by person 15\n",
      "INFO:root:1 #28 bottle added to zone by person 15\n"
     ]
    },
    {
     "name": "stdout",
     "output_type": "stream",
     "text": [
      "1 #1 banana ['1 #5 banana added to zone', '1 #4 banana added to zone', '1 #7 banana added to zone', '1 #9 banana added to zone', '1 #10 banana added to zone', '1 #11 bottle added to zone', '1 #11 banana added to zone', '1 #8 hot dog added to zone', '1 #9 bottle added to zone', '1 #17 bottle added to zone', '1 #18 bottle added to zone', '1 #19 apple added to zone', '1 #2 sports ball added to zone', '1 #21 banana added to zone', '1 #21 apple added to zone', '1 #25 banana added to zone', '1 #17 apple added to zone', '1 #27 bottle added to zone', '1 #28 bottle added to zone', '1 #29 apple added to zone']\n",
      "1 #2 apple ['1 #5 banana added to zone', '1 #4 banana added to zone', '1 #7 banana added to zone', '1 #9 banana added to zone', '1 #10 banana added to zone', '1 #11 bottle added to zone', '1 #11 banana added to zone', '1 #8 hot dog added to zone', '1 #9 bottle added to zone', '1 #17 bottle added to zone', '1 #18 bottle added to zone', '1 #19 apple added to zone', '1 #2 sports ball added to zone', '1 #21 banana added to zone', '1 #21 apple added to zone', '1 #25 banana added to zone', '1 #17 apple added to zone', '1 #27 bottle added to zone', '1 #28 bottle added to zone', '1 #29 apple added to zone']\n",
      "1 #3 bottle ['1 #5 banana added to zone', '1 #4 banana added to zone', '1 #7 banana added to zone', '1 #9 banana added to zone', '1 #10 banana added to zone', '1 #11 bottle added to zone', '1 #11 banana added to zone', '1 #8 hot dog added to zone', '1 #9 bottle added to zone', '1 #17 bottle added to zone', '1 #18 bottle added to zone', '1 #19 apple added to zone', '1 #2 sports ball added to zone', '1 #21 banana added to zone', '1 #21 apple added to zone', '1 #25 banana added to zone', '1 #17 apple added to zone', '1 #27 bottle added to zone', '1 #28 bottle added to zone', '1 #29 apple added to zone']\n"
     ]
    },
    {
     "name": "stderr",
     "output_type": "stream",
     "text": [
      "INFO:root:1 #29 apple added to zone by person 15\n",
      "video 1/1 (506/640) C:\\Users\\rcheruvu\\Desktop\\openvino_notebooks\\recipes\\automated_detection_tracking\\data\\asset.mp4: 640x640 1 person, 2 bottles, 1 banana, 2 apples, 1031.2ms\n",
      "INFO:root:1 #1 banana removed from zone by person 15\n",
      "INFO:root:1 #2 apple removed from zone by person 15\n",
      "INFO:root:1 #3 bottle removed from zone by person 15\n",
      "INFO:root:1 #21 apple added to zone by person 15\n",
      "INFO:root:1 #25 banana added to zone by person 15\n",
      "INFO:root:1 #27 bottle added to zone by person 15\n",
      "INFO:root:1 #28 bottle added to zone by person 15\n",
      "INFO:root:1 #29 apple added to zone by person 15\n"
     ]
    },
    {
     "name": "stdout",
     "output_type": "stream",
     "text": [
      "1 #1 banana ['1 #5 banana added to zone', '1 #4 banana added to zone', '1 #7 banana added to zone', '1 #9 banana added to zone', '1 #10 banana added to zone', '1 #11 bottle added to zone', '1 #11 banana added to zone', '1 #8 hot dog added to zone', '1 #9 bottle added to zone', '1 #17 bottle added to zone', '1 #18 bottle added to zone', '1 #19 apple added to zone', '1 #2 sports ball added to zone', '1 #21 banana added to zone', '1 #21 apple added to zone', '1 #25 banana added to zone', '1 #17 apple added to zone', '1 #27 bottle added to zone', '1 #28 bottle added to zone', '1 #29 apple added to zone']\n",
      "1 #2 apple ['1 #5 banana added to zone', '1 #4 banana added to zone', '1 #7 banana added to zone', '1 #9 banana added to zone', '1 #10 banana added to zone', '1 #11 bottle added to zone', '1 #11 banana added to zone', '1 #8 hot dog added to zone', '1 #9 bottle added to zone', '1 #17 bottle added to zone', '1 #18 bottle added to zone', '1 #19 apple added to zone', '1 #2 sports ball added to zone', '1 #21 banana added to zone', '1 #21 apple added to zone', '1 #25 banana added to zone', '1 #17 apple added to zone', '1 #27 bottle added to zone', '1 #28 bottle added to zone', '1 #29 apple added to zone']\n",
      "1 #3 bottle ['1 #5 banana added to zone', '1 #4 banana added to zone', '1 #7 banana added to zone', '1 #9 banana added to zone', '1 #10 banana added to zone', '1 #11 bottle added to zone', '1 #11 banana added to zone', '1 #8 hot dog added to zone', '1 #9 bottle added to zone', '1 #17 bottle added to zone', '1 #18 bottle added to zone', '1 #19 apple added to zone', '1 #2 sports ball added to zone', '1 #21 banana added to zone', '1 #21 apple added to zone', '1 #25 banana added to zone', '1 #17 apple added to zone', '1 #27 bottle added to zone', '1 #28 bottle added to zone', '1 #29 apple added to zone']\n"
     ]
    },
    {
     "name": "stderr",
     "output_type": "stream",
     "text": [
      "video 1/1 (507/640) C:\\Users\\rcheruvu\\Desktop\\openvino_notebooks\\recipes\\automated_detection_tracking\\data\\asset.mp4: 640x640 1 person, 2 bottles, 1 banana, 2 apples, 887.0ms\n",
      "INFO:root:1 #1 banana removed from zone by person 15\n",
      "INFO:root:1 #2 apple removed from zone by person 15\n",
      "INFO:root:1 #3 bottle removed from zone by person 15\n",
      "INFO:root:1 #21 apple added to zone by person 15\n",
      "INFO:root:1 #25 banana added to zone by person 15\n",
      "INFO:root:1 #27 bottle added to zone by person 15\n",
      "INFO:root:1 #28 bottle added to zone by person 15\n",
      "INFO:root:1 #29 apple added to zone by person 15\n"
     ]
    },
    {
     "name": "stdout",
     "output_type": "stream",
     "text": [
      "1 #1 banana ['1 #5 banana added to zone', '1 #4 banana added to zone', '1 #7 banana added to zone', '1 #9 banana added to zone', '1 #10 banana added to zone', '1 #11 bottle added to zone', '1 #11 banana added to zone', '1 #8 hot dog added to zone', '1 #9 bottle added to zone', '1 #17 bottle added to zone', '1 #18 bottle added to zone', '1 #19 apple added to zone', '1 #2 sports ball added to zone', '1 #21 banana added to zone', '1 #21 apple added to zone', '1 #25 banana added to zone', '1 #17 apple added to zone', '1 #27 bottle added to zone', '1 #28 bottle added to zone', '1 #29 apple added to zone']\n",
      "1 #2 apple ['1 #5 banana added to zone', '1 #4 banana added to zone', '1 #7 banana added to zone', '1 #9 banana added to zone', '1 #10 banana added to zone', '1 #11 bottle added to zone', '1 #11 banana added to zone', '1 #8 hot dog added to zone', '1 #9 bottle added to zone', '1 #17 bottle added to zone', '1 #18 bottle added to zone', '1 #19 apple added to zone', '1 #2 sports ball added to zone', '1 #21 banana added to zone', '1 #21 apple added to zone', '1 #25 banana added to zone', '1 #17 apple added to zone', '1 #27 bottle added to zone', '1 #28 bottle added to zone', '1 #29 apple added to zone']\n",
      "1 #3 bottle ['1 #5 banana added to zone', '1 #4 banana added to zone', '1 #7 banana added to zone', '1 #9 banana added to zone', '1 #10 banana added to zone', '1 #11 bottle added to zone', '1 #11 banana added to zone', '1 #8 hot dog added to zone', '1 #9 bottle added to zone', '1 #17 bottle added to zone', '1 #18 bottle added to zone', '1 #19 apple added to zone', '1 #2 sports ball added to zone', '1 #21 banana added to zone', '1 #21 apple added to zone', '1 #25 banana added to zone', '1 #17 apple added to zone', '1 #27 bottle added to zone', '1 #28 bottle added to zone', '1 #29 apple added to zone']\n"
     ]
    },
    {
     "name": "stderr",
     "output_type": "stream",
     "text": [
      "video 1/1 (508/640) C:\\Users\\rcheruvu\\Desktop\\openvino_notebooks\\recipes\\automated_detection_tracking\\data\\asset.mp4: 640x640 1 person, 2 bottles, 1 banana, 2 apples, 956.2ms\n",
      "INFO:root:1 #1 banana removed from zone by person 15\n",
      "INFO:root:1 #2 apple removed from zone by person 15\n",
      "INFO:root:1 #3 bottle removed from zone by person 15\n",
      "INFO:root:1 #21 apple added to zone by person 15\n",
      "INFO:root:1 #25 banana added to zone by person 15\n"
     ]
    },
    {
     "name": "stdout",
     "output_type": "stream",
     "text": [
      "1 #1 banana ['1 #5 banana added to zone', '1 #4 banana added to zone', '1 #7 banana added to zone', '1 #9 banana added to zone', '1 #10 banana added to zone', '1 #11 bottle added to zone', '1 #11 banana added to zone', '1 #8 hot dog added to zone', '1 #9 bottle added to zone', '1 #17 bottle added to zone', '1 #18 bottle added to zone', '1 #19 apple added to zone', '1 #2 sports ball added to zone', '1 #21 banana added to zone', '1 #21 apple added to zone', '1 #25 banana added to zone', '1 #17 apple added to zone', '1 #27 bottle added to zone', '1 #28 bottle added to zone', '1 #29 apple added to zone']\n",
      "1 #2 apple ['1 #5 banana added to zone', '1 #4 banana added to zone', '1 #7 banana added to zone', '1 #9 banana added to zone', '1 #10 banana added to zone', '1 #11 bottle added to zone', '1 #11 banana added to zone', '1 #8 hot dog added to zone', '1 #9 bottle added to zone', '1 #17 bottle added to zone', '1 #18 bottle added to zone', '1 #19 apple added to zone', '1 #2 sports ball added to zone', '1 #21 banana added to zone', '1 #21 apple added to zone', '1 #25 banana added to zone', '1 #17 apple added to zone', '1 #27 bottle added to zone', '1 #28 bottle added to zone', '1 #29 apple added to zone']\n",
      "1 #3 bottle ['1 #5 banana added to zone', '1 #4 banana added to zone', '1 #7 banana added to zone', '1 #9 banana added to zone', '1 #10 banana added to zone', '1 #11 bottle added to zone', '1 #11 banana added to zone', '1 #8 hot dog added to zone', '1 #9 bottle added to zone', '1 #17 bottle added to zone', '1 #18 bottle added to zone', '1 #19 apple added to zone', '1 #2 sports ball added to zone', '1 #21 banana added to zone', '1 #21 apple added to zone', '1 #25 banana added to zone', '1 #17 apple added to zone', '1 #27 bottle added to zone', '1 #28 bottle added to zone', '1 #29 apple added to zone']\n"
     ]
    },
    {
     "name": "stderr",
     "output_type": "stream",
     "text": [
      "INFO:root:1 #27 bottle added to zone by person 15\n",
      "INFO:root:1 #28 bottle added to zone by person 15\n",
      "INFO:root:1 #29 apple added to zone by person 15\n",
      "video 1/1 (509/640) C:\\Users\\rcheruvu\\Desktop\\openvino_notebooks\\recipes\\automated_detection_tracking\\data\\asset.mp4: 640x640 1 person, 2 bottles, 1 banana, 2 apples, 985.0ms\n",
      "INFO:root:1 #1 banana removed from zone by person 15\n",
      "INFO:root:1 #2 apple removed from zone by person 15\n",
      "INFO:root:1 #3 bottle removed from zone by person 15\n",
      "INFO:root:1 #21 apple added to zone by person 15\n",
      "INFO:root:1 #25 banana added to zone by person 15\n",
      "INFO:root:1 #27 bottle added to zone by person 15\n",
      "INFO:root:1 #28 bottle added to zone by person 15\n"
     ]
    },
    {
     "name": "stdout",
     "output_type": "stream",
     "text": [
      "1 #1 banana ['1 #5 banana added to zone', '1 #4 banana added to zone', '1 #7 banana added to zone', '1 #9 banana added to zone', '1 #10 banana added to zone', '1 #11 bottle added to zone', '1 #11 banana added to zone', '1 #8 hot dog added to zone', '1 #9 bottle added to zone', '1 #17 bottle added to zone', '1 #18 bottle added to zone', '1 #19 apple added to zone', '1 #2 sports ball added to zone', '1 #21 banana added to zone', '1 #21 apple added to zone', '1 #25 banana added to zone', '1 #17 apple added to zone', '1 #27 bottle added to zone', '1 #28 bottle added to zone', '1 #29 apple added to zone']\n",
      "1 #2 apple ['1 #5 banana added to zone', '1 #4 banana added to zone', '1 #7 banana added to zone', '1 #9 banana added to zone', '1 #10 banana added to zone', '1 #11 bottle added to zone', '1 #11 banana added to zone', '1 #8 hot dog added to zone', '1 #9 bottle added to zone', '1 #17 bottle added to zone', '1 #18 bottle added to zone', '1 #19 apple added to zone', '1 #2 sports ball added to zone', '1 #21 banana added to zone', '1 #21 apple added to zone', '1 #25 banana added to zone', '1 #17 apple added to zone', '1 #27 bottle added to zone', '1 #28 bottle added to zone', '1 #29 apple added to zone']\n",
      "1 #3 bottle ['1 #5 banana added to zone', '1 #4 banana added to zone', '1 #7 banana added to zone', '1 #9 banana added to zone', '1 #10 banana added to zone', '1 #11 bottle added to zone', '1 #11 banana added to zone', '1 #8 hot dog added to zone', '1 #9 bottle added to zone', '1 #17 bottle added to zone', '1 #18 bottle added to zone', '1 #19 apple added to zone', '1 #2 sports ball added to zone', '1 #21 banana added to zone', '1 #21 apple added to zone', '1 #25 banana added to zone', '1 #17 apple added to zone', '1 #27 bottle added to zone', '1 #28 bottle added to zone', '1 #29 apple added to zone']\n"
     ]
    },
    {
     "name": "stderr",
     "output_type": "stream",
     "text": [
      "INFO:root:1 #29 apple added to zone by person 15\n",
      "video 1/1 (510/640) C:\\Users\\rcheruvu\\Desktop\\openvino_notebooks\\recipes\\automated_detection_tracking\\data\\asset.mp4: 640x640 1 person, 2 bottles, 1 banana, 2 apples, 1038.4ms\n",
      "INFO:root:1 #1 banana removed from zone by person 15\n",
      "INFO:root:1 #2 apple removed from zone by person 15\n",
      "INFO:root:1 #3 bottle removed from zone by person 15\n",
      "INFO:root:1 #21 apple added to zone by person 15\n",
      "INFO:root:1 #25 banana added to zone by person 15\n",
      "INFO:root:1 #27 bottle added to zone by person 15\n",
      "INFO:root:1 #28 bottle added to zone by person 15\n"
     ]
    },
    {
     "name": "stdout",
     "output_type": "stream",
     "text": [
      "1 #1 banana ['1 #5 banana added to zone', '1 #4 banana added to zone', '1 #7 banana added to zone', '1 #9 banana added to zone', '1 #10 banana added to zone', '1 #11 bottle added to zone', '1 #11 banana added to zone', '1 #8 hot dog added to zone', '1 #9 bottle added to zone', '1 #17 bottle added to zone', '1 #18 bottle added to zone', '1 #19 apple added to zone', '1 #2 sports ball added to zone', '1 #21 banana added to zone', '1 #21 apple added to zone', '1 #25 banana added to zone', '1 #17 apple added to zone', '1 #27 bottle added to zone', '1 #28 bottle added to zone', '1 #29 apple added to zone']\n",
      "1 #2 apple ['1 #5 banana added to zone', '1 #4 banana added to zone', '1 #7 banana added to zone', '1 #9 banana added to zone', '1 #10 banana added to zone', '1 #11 bottle added to zone', '1 #11 banana added to zone', '1 #8 hot dog added to zone', '1 #9 bottle added to zone', '1 #17 bottle added to zone', '1 #18 bottle added to zone', '1 #19 apple added to zone', '1 #2 sports ball added to zone', '1 #21 banana added to zone', '1 #21 apple added to zone', '1 #25 banana added to zone', '1 #17 apple added to zone', '1 #27 bottle added to zone', '1 #28 bottle added to zone', '1 #29 apple added to zone']\n",
      "1 #3 bottle ['1 #5 banana added to zone', '1 #4 banana added to zone', '1 #7 banana added to zone', '1 #9 banana added to zone', '1 #10 banana added to zone', '1 #11 bottle added to zone', '1 #11 banana added to zone', '1 #8 hot dog added to zone', '1 #9 bottle added to zone', '1 #17 bottle added to zone', '1 #18 bottle added to zone', '1 #19 apple added to zone', '1 #2 sports ball added to zone', '1 #21 banana added to zone', '1 #21 apple added to zone', '1 #25 banana added to zone', '1 #17 apple added to zone', '1 #27 bottle added to zone', '1 #28 bottle added to zone', '1 #29 apple added to zone']\n"
     ]
    },
    {
     "name": "stderr",
     "output_type": "stream",
     "text": [
      "INFO:root:1 #29 apple added to zone by person 15\n",
      "video 1/1 (511/640) C:\\Users\\rcheruvu\\Desktop\\openvino_notebooks\\recipes\\automated_detection_tracking\\data\\asset.mp4: 640x640 1 person, 2 bottles, 1 banana, 2 apples, 978.0ms\n",
      "INFO:root:1 #1 banana removed from zone by person 15\n",
      "INFO:root:1 #2 apple removed from zone by person 15\n",
      "INFO:root:1 #3 bottle removed from zone by person 15\n",
      "INFO:root:1 #21 apple added to zone by person 15\n",
      "INFO:root:1 #25 banana added to zone by person 15\n",
      "INFO:root:1 #27 bottle added to zone by person 15\n",
      "INFO:root:1 #28 bottle added to zone by person 15\n",
      "INFO:root:1 #29 apple added to zone by person 15\n"
     ]
    },
    {
     "name": "stdout",
     "output_type": "stream",
     "text": [
      "1 #1 banana ['1 #5 banana added to zone', '1 #4 banana added to zone', '1 #7 banana added to zone', '1 #9 banana added to zone', '1 #10 banana added to zone', '1 #11 bottle added to zone', '1 #11 banana added to zone', '1 #8 hot dog added to zone', '1 #9 bottle added to zone', '1 #17 bottle added to zone', '1 #18 bottle added to zone', '1 #19 apple added to zone', '1 #2 sports ball added to zone', '1 #21 banana added to zone', '1 #21 apple added to zone', '1 #25 banana added to zone', '1 #17 apple added to zone', '1 #27 bottle added to zone', '1 #28 bottle added to zone', '1 #29 apple added to zone']\n",
      "1 #2 apple ['1 #5 banana added to zone', '1 #4 banana added to zone', '1 #7 banana added to zone', '1 #9 banana added to zone', '1 #10 banana added to zone', '1 #11 bottle added to zone', '1 #11 banana added to zone', '1 #8 hot dog added to zone', '1 #9 bottle added to zone', '1 #17 bottle added to zone', '1 #18 bottle added to zone', '1 #19 apple added to zone', '1 #2 sports ball added to zone', '1 #21 banana added to zone', '1 #21 apple added to zone', '1 #25 banana added to zone', '1 #17 apple added to zone', '1 #27 bottle added to zone', '1 #28 bottle added to zone', '1 #29 apple added to zone']\n",
      "1 #3 bottle ['1 #5 banana added to zone', '1 #4 banana added to zone', '1 #7 banana added to zone', '1 #9 banana added to zone', '1 #10 banana added to zone', '1 #11 bottle added to zone', '1 #11 banana added to zone', '1 #8 hot dog added to zone', '1 #9 bottle added to zone', '1 #17 bottle added to zone', '1 #18 bottle added to zone', '1 #19 apple added to zone', '1 #2 sports ball added to zone', '1 #21 banana added to zone', '1 #21 apple added to zone', '1 #25 banana added to zone', '1 #17 apple added to zone', '1 #27 bottle added to zone', '1 #28 bottle added to zone', '1 #29 apple added to zone']\n"
     ]
    },
    {
     "name": "stderr",
     "output_type": "stream",
     "text": [
      "video 1/1 (512/640) C:\\Users\\rcheruvu\\Desktop\\openvino_notebooks\\recipes\\automated_detection_tracking\\data\\asset.mp4: 640x640 1 person, 2 bottles, 1 banana, 2 apples, 1130.9ms\n",
      "INFO:root:1 #1 banana removed from zone by person 15\n",
      "INFO:root:1 #2 apple removed from zone by person 15\n",
      "INFO:root:1 #3 bottle removed from zone by person 15\n",
      "INFO:root:1 #21 apple added to zone by person 15\n",
      "INFO:root:1 #25 banana added to zone by person 15\n",
      "INFO:root:1 #27 bottle added to zone by person 15\n",
      "INFO:root:1 #28 bottle added to zone by person 15\n",
      "INFO:root:1 #29 apple added to zone by person 15\n"
     ]
    },
    {
     "name": "stdout",
     "output_type": "stream",
     "text": [
      "1 #1 banana ['1 #5 banana added to zone', '1 #4 banana added to zone', '1 #7 banana added to zone', '1 #9 banana added to zone', '1 #10 banana added to zone', '1 #11 bottle added to zone', '1 #11 banana added to zone', '1 #8 hot dog added to zone', '1 #9 bottle added to zone', '1 #17 bottle added to zone', '1 #18 bottle added to zone', '1 #19 apple added to zone', '1 #2 sports ball added to zone', '1 #21 banana added to zone', '1 #21 apple added to zone', '1 #25 banana added to zone', '1 #17 apple added to zone', '1 #27 bottle added to zone', '1 #28 bottle added to zone', '1 #29 apple added to zone']\n",
      "1 #2 apple ['1 #5 banana added to zone', '1 #4 banana added to zone', '1 #7 banana added to zone', '1 #9 banana added to zone', '1 #10 banana added to zone', '1 #11 bottle added to zone', '1 #11 banana added to zone', '1 #8 hot dog added to zone', '1 #9 bottle added to zone', '1 #17 bottle added to zone', '1 #18 bottle added to zone', '1 #19 apple added to zone', '1 #2 sports ball added to zone', '1 #21 banana added to zone', '1 #21 apple added to zone', '1 #25 banana added to zone', '1 #17 apple added to zone', '1 #27 bottle added to zone', '1 #28 bottle added to zone', '1 #29 apple added to zone']\n",
      "1 #3 bottle ['1 #5 banana added to zone', '1 #4 banana added to zone', '1 #7 banana added to zone', '1 #9 banana added to zone', '1 #10 banana added to zone', '1 #11 bottle added to zone', '1 #11 banana added to zone', '1 #8 hot dog added to zone', '1 #9 bottle added to zone', '1 #17 bottle added to zone', '1 #18 bottle added to zone', '1 #19 apple added to zone', '1 #2 sports ball added to zone', '1 #21 banana added to zone', '1 #21 apple added to zone', '1 #25 banana added to zone', '1 #17 apple added to zone', '1 #27 bottle added to zone', '1 #28 bottle added to zone', '1 #29 apple added to zone']\n"
     ]
    },
    {
     "name": "stderr",
     "output_type": "stream",
     "text": [
      "video 1/1 (513/640) C:\\Users\\rcheruvu\\Desktop\\openvino_notebooks\\recipes\\automated_detection_tracking\\data\\asset.mp4: 640x640 1 person, 2 bottles, 1 banana, 2 apples, 1036.9ms\n",
      "INFO:root:1 #1 banana removed from zone by person 15\n",
      "INFO:root:1 #2 apple removed from zone by person 15\n",
      "INFO:root:1 #3 bottle removed from zone by person 15\n",
      "INFO:root:1 #21 apple added to zone by person 15\n",
      "INFO:root:1 #25 banana added to zone by person 15\n",
      "INFO:root:1 #27 bottle added to zone by person 15\n",
      "INFO:root:1 #28 bottle added to zone by person 15\n",
      "INFO:root:1 #29 apple added to zone by person 15\n"
     ]
    },
    {
     "name": "stdout",
     "output_type": "stream",
     "text": [
      "1 #1 banana ['1 #5 banana added to zone', '1 #4 banana added to zone', '1 #7 banana added to zone', '1 #9 banana added to zone', '1 #10 banana added to zone', '1 #11 bottle added to zone', '1 #11 banana added to zone', '1 #8 hot dog added to zone', '1 #9 bottle added to zone', '1 #17 bottle added to zone', '1 #18 bottle added to zone', '1 #19 apple added to zone', '1 #2 sports ball added to zone', '1 #21 banana added to zone', '1 #21 apple added to zone', '1 #25 banana added to zone', '1 #17 apple added to zone', '1 #27 bottle added to zone', '1 #28 bottle added to zone', '1 #29 apple added to zone']\n",
      "1 #2 apple ['1 #5 banana added to zone', '1 #4 banana added to zone', '1 #7 banana added to zone', '1 #9 banana added to zone', '1 #10 banana added to zone', '1 #11 bottle added to zone', '1 #11 banana added to zone', '1 #8 hot dog added to zone', '1 #9 bottle added to zone', '1 #17 bottle added to zone', '1 #18 bottle added to zone', '1 #19 apple added to zone', '1 #2 sports ball added to zone', '1 #21 banana added to zone', '1 #21 apple added to zone', '1 #25 banana added to zone', '1 #17 apple added to zone', '1 #27 bottle added to zone', '1 #28 bottle added to zone', '1 #29 apple added to zone']\n",
      "1 #3 bottle ['1 #5 banana added to zone', '1 #4 banana added to zone', '1 #7 banana added to zone', '1 #9 banana added to zone', '1 #10 banana added to zone', '1 #11 bottle added to zone', '1 #11 banana added to zone', '1 #8 hot dog added to zone', '1 #9 bottle added to zone', '1 #17 bottle added to zone', '1 #18 bottle added to zone', '1 #19 apple added to zone', '1 #2 sports ball added to zone', '1 #21 banana added to zone', '1 #21 apple added to zone', '1 #25 banana added to zone', '1 #17 apple added to zone', '1 #27 bottle added to zone', '1 #28 bottle added to zone', '1 #29 apple added to zone']\n"
     ]
    },
    {
     "name": "stderr",
     "output_type": "stream",
     "text": [
      "video 1/1 (514/640) C:\\Users\\rcheruvu\\Desktop\\openvino_notebooks\\recipes\\automated_detection_tracking\\data\\asset.mp4: 640x640 1 person, 2 bottles, 1 banana, 2 apples, 1228.7ms\n",
      "INFO:root:1 #1 banana removed from zone by person 15\n",
      "INFO:root:1 #2 apple removed from zone by person 15\n",
      "INFO:root:1 #3 bottle removed from zone by person 15\n",
      "INFO:root:1 #21 apple added to zone by person 15\n",
      "INFO:root:1 #25 banana added to zone by person 15\n",
      "INFO:root:1 #27 bottle added to zone by person 15\n",
      "INFO:root:1 #28 bottle added to zone by person 15\n"
     ]
    },
    {
     "name": "stdout",
     "output_type": "stream",
     "text": [
      "1 #1 banana ['1 #5 banana added to zone', '1 #4 banana added to zone', '1 #7 banana added to zone', '1 #9 banana added to zone', '1 #10 banana added to zone', '1 #11 bottle added to zone', '1 #11 banana added to zone', '1 #8 hot dog added to zone', '1 #9 bottle added to zone', '1 #17 bottle added to zone', '1 #18 bottle added to zone', '1 #19 apple added to zone', '1 #2 sports ball added to zone', '1 #21 banana added to zone', '1 #21 apple added to zone', '1 #25 banana added to zone', '1 #17 apple added to zone', '1 #27 bottle added to zone', '1 #28 bottle added to zone', '1 #29 apple added to zone']\n",
      "1 #2 apple ['1 #5 banana added to zone', '1 #4 banana added to zone', '1 #7 banana added to zone', '1 #9 banana added to zone', '1 #10 banana added to zone', '1 #11 bottle added to zone', '1 #11 banana added to zone', '1 #8 hot dog added to zone', '1 #9 bottle added to zone', '1 #17 bottle added to zone', '1 #18 bottle added to zone', '1 #19 apple added to zone', '1 #2 sports ball added to zone', '1 #21 banana added to zone', '1 #21 apple added to zone', '1 #25 banana added to zone', '1 #17 apple added to zone', '1 #27 bottle added to zone', '1 #28 bottle added to zone', '1 #29 apple added to zone']\n",
      "1 #3 bottle ['1 #5 banana added to zone', '1 #4 banana added to zone', '1 #7 banana added to zone', '1 #9 banana added to zone', '1 #10 banana added to zone', '1 #11 bottle added to zone', '1 #11 banana added to zone', '1 #8 hot dog added to zone', '1 #9 bottle added to zone', '1 #17 bottle added to zone', '1 #18 bottle added to zone', '1 #19 apple added to zone', '1 #2 sports ball added to zone', '1 #21 banana added to zone', '1 #21 apple added to zone', '1 #25 banana added to zone', '1 #17 apple added to zone', '1 #27 bottle added to zone', '1 #28 bottle added to zone', '1 #29 apple added to zone']\n"
     ]
    },
    {
     "name": "stderr",
     "output_type": "stream",
     "text": [
      "INFO:root:1 #29 apple added to zone by person 15\n",
      "video 1/1 (515/640) C:\\Users\\rcheruvu\\Desktop\\openvino_notebooks\\recipes\\automated_detection_tracking\\data\\asset.mp4: 640x640 1 person, 2 bottles, 1 banana, 2 apples, 967.3ms\n",
      "INFO:root:1 #1 banana removed from zone by person 15\n",
      "INFO:root:1 #2 apple removed from zone by person 15\n",
      "INFO:root:1 #3 bottle removed from zone by person 15\n",
      "INFO:root:1 #21 apple added to zone by person 15\n",
      "INFO:root:1 #25 banana added to zone by person 15\n",
      "INFO:root:1 #27 bottle added to zone by person 15\n",
      "INFO:root:1 #28 bottle added to zone by person 15\n",
      "INFO:root:1 #29 apple added to zone by person 15\n"
     ]
    },
    {
     "name": "stdout",
     "output_type": "stream",
     "text": [
      "1 #1 banana ['1 #5 banana added to zone', '1 #4 banana added to zone', '1 #7 banana added to zone', '1 #9 banana added to zone', '1 #10 banana added to zone', '1 #11 bottle added to zone', '1 #11 banana added to zone', '1 #8 hot dog added to zone', '1 #9 bottle added to zone', '1 #17 bottle added to zone', '1 #18 bottle added to zone', '1 #19 apple added to zone', '1 #2 sports ball added to zone', '1 #21 banana added to zone', '1 #21 apple added to zone', '1 #25 banana added to zone', '1 #17 apple added to zone', '1 #27 bottle added to zone', '1 #28 bottle added to zone', '1 #29 apple added to zone']\n",
      "1 #2 apple ['1 #5 banana added to zone', '1 #4 banana added to zone', '1 #7 banana added to zone', '1 #9 banana added to zone', '1 #10 banana added to zone', '1 #11 bottle added to zone', '1 #11 banana added to zone', '1 #8 hot dog added to zone', '1 #9 bottle added to zone', '1 #17 bottle added to zone', '1 #18 bottle added to zone', '1 #19 apple added to zone', '1 #2 sports ball added to zone', '1 #21 banana added to zone', '1 #21 apple added to zone', '1 #25 banana added to zone', '1 #17 apple added to zone', '1 #27 bottle added to zone', '1 #28 bottle added to zone', '1 #29 apple added to zone']\n",
      "1 #3 bottle ['1 #5 banana added to zone', '1 #4 banana added to zone', '1 #7 banana added to zone', '1 #9 banana added to zone', '1 #10 banana added to zone', '1 #11 bottle added to zone', '1 #11 banana added to zone', '1 #8 hot dog added to zone', '1 #9 bottle added to zone', '1 #17 bottle added to zone', '1 #18 bottle added to zone', '1 #19 apple added to zone', '1 #2 sports ball added to zone', '1 #21 banana added to zone', '1 #21 apple added to zone', '1 #25 banana added to zone', '1 #17 apple added to zone', '1 #27 bottle added to zone', '1 #28 bottle added to zone', '1 #29 apple added to zone']\n"
     ]
    },
    {
     "name": "stderr",
     "output_type": "stream",
     "text": [
      "video 1/1 (516/640) C:\\Users\\rcheruvu\\Desktop\\openvino_notebooks\\recipes\\automated_detection_tracking\\data\\asset.mp4: 640x640 1 person, 2 bottles, 1 banana, 2 apples, 953.6ms\n",
      "INFO:root:1 #1 banana removed from zone by person 15\n",
      "INFO:root:1 #2 apple removed from zone by person 15\n",
      "INFO:root:1 #3 bottle removed from zone by person 15\n",
      "INFO:root:1 #21 apple added to zone by person 15\n",
      "INFO:root:1 #25 banana added to zone by person 15\n",
      "INFO:root:1 #27 bottle added to zone by person 15\n",
      "INFO:root:1 #28 bottle added to zone by person 15\n",
      "INFO:root:1 #29 apple added to zone by person 15\n"
     ]
    },
    {
     "name": "stdout",
     "output_type": "stream",
     "text": [
      "1 #1 banana ['1 #5 banana added to zone', '1 #4 banana added to zone', '1 #7 banana added to zone', '1 #9 banana added to zone', '1 #10 banana added to zone', '1 #11 bottle added to zone', '1 #11 banana added to zone', '1 #8 hot dog added to zone', '1 #9 bottle added to zone', '1 #17 bottle added to zone', '1 #18 bottle added to zone', '1 #19 apple added to zone', '1 #2 sports ball added to zone', '1 #21 banana added to zone', '1 #21 apple added to zone', '1 #25 banana added to zone', '1 #17 apple added to zone', '1 #27 bottle added to zone', '1 #28 bottle added to zone', '1 #29 apple added to zone']\n",
      "1 #2 apple ['1 #5 banana added to zone', '1 #4 banana added to zone', '1 #7 banana added to zone', '1 #9 banana added to zone', '1 #10 banana added to zone', '1 #11 bottle added to zone', '1 #11 banana added to zone', '1 #8 hot dog added to zone', '1 #9 bottle added to zone', '1 #17 bottle added to zone', '1 #18 bottle added to zone', '1 #19 apple added to zone', '1 #2 sports ball added to zone', '1 #21 banana added to zone', '1 #21 apple added to zone', '1 #25 banana added to zone', '1 #17 apple added to zone', '1 #27 bottle added to zone', '1 #28 bottle added to zone', '1 #29 apple added to zone']\n",
      "1 #3 bottle ['1 #5 banana added to zone', '1 #4 banana added to zone', '1 #7 banana added to zone', '1 #9 banana added to zone', '1 #10 banana added to zone', '1 #11 bottle added to zone', '1 #11 banana added to zone', '1 #8 hot dog added to zone', '1 #9 bottle added to zone', '1 #17 bottle added to zone', '1 #18 bottle added to zone', '1 #19 apple added to zone', '1 #2 sports ball added to zone', '1 #21 banana added to zone', '1 #21 apple added to zone', '1 #25 banana added to zone', '1 #17 apple added to zone', '1 #27 bottle added to zone', '1 #28 bottle added to zone', '1 #29 apple added to zone']\n"
     ]
    },
    {
     "name": "stderr",
     "output_type": "stream",
     "text": [
      "video 1/1 (517/640) C:\\Users\\rcheruvu\\Desktop\\openvino_notebooks\\recipes\\automated_detection_tracking\\data\\asset.mp4: 640x640 1 person, 2 bottles, 1 banana, 2 apples, 1003.5ms\n",
      "INFO:root:1 #1 banana removed from zone by person 15\n",
      "INFO:root:1 #2 apple removed from zone by person 15\n",
      "INFO:root:1 #3 bottle removed from zone by person 15\n",
      "INFO:root:1 #21 apple added to zone by person 15\n",
      "INFO:root:1 #25 banana added to zone by person 15\n",
      "INFO:root:1 #27 bottle added to zone by person 15\n",
      "INFO:root:1 #28 bottle added to zone by person 15\n",
      "INFO:root:1 #29 apple added to zone by person 15\n"
     ]
    },
    {
     "name": "stdout",
     "output_type": "stream",
     "text": [
      "1 #1 banana ['1 #5 banana added to zone', '1 #4 banana added to zone', '1 #7 banana added to zone', '1 #9 banana added to zone', '1 #10 banana added to zone', '1 #11 bottle added to zone', '1 #11 banana added to zone', '1 #8 hot dog added to zone', '1 #9 bottle added to zone', '1 #17 bottle added to zone', '1 #18 bottle added to zone', '1 #19 apple added to zone', '1 #2 sports ball added to zone', '1 #21 banana added to zone', '1 #21 apple added to zone', '1 #25 banana added to zone', '1 #17 apple added to zone', '1 #27 bottle added to zone', '1 #28 bottle added to zone', '1 #29 apple added to zone']\n",
      "1 #2 apple ['1 #5 banana added to zone', '1 #4 banana added to zone', '1 #7 banana added to zone', '1 #9 banana added to zone', '1 #10 banana added to zone', '1 #11 bottle added to zone', '1 #11 banana added to zone', '1 #8 hot dog added to zone', '1 #9 bottle added to zone', '1 #17 bottle added to zone', '1 #18 bottle added to zone', '1 #19 apple added to zone', '1 #2 sports ball added to zone', '1 #21 banana added to zone', '1 #21 apple added to zone', '1 #25 banana added to zone', '1 #17 apple added to zone', '1 #27 bottle added to zone', '1 #28 bottle added to zone', '1 #29 apple added to zone']\n",
      "1 #3 bottle ['1 #5 banana added to zone', '1 #4 banana added to zone', '1 #7 banana added to zone', '1 #9 banana added to zone', '1 #10 banana added to zone', '1 #11 bottle added to zone', '1 #11 banana added to zone', '1 #8 hot dog added to zone', '1 #9 bottle added to zone', '1 #17 bottle added to zone', '1 #18 bottle added to zone', '1 #19 apple added to zone', '1 #2 sports ball added to zone', '1 #21 banana added to zone', '1 #21 apple added to zone', '1 #25 banana added to zone', '1 #17 apple added to zone', '1 #27 bottle added to zone', '1 #28 bottle added to zone', '1 #29 apple added to zone']\n"
     ]
    },
    {
     "name": "stderr",
     "output_type": "stream",
     "text": [
      "video 1/1 (518/640) C:\\Users\\rcheruvu\\Desktop\\openvino_notebooks\\recipes\\automated_detection_tracking\\data\\asset.mp4: 640x640 1 person, 2 bottles, 1 banana, 2 apples, 1093.3ms\n",
      "INFO:root:1 #1 banana removed from zone by person 15\n",
      "INFO:root:1 #2 apple removed from zone by person 15\n",
      "INFO:root:1 #3 bottle removed from zone by person 15\n",
      "INFO:root:1 #21 apple added to zone by person 15\n",
      "INFO:root:1 #25 banana added to zone by person 15\n",
      "INFO:root:1 #27 bottle added to zone by person 15\n",
      "INFO:root:1 #28 bottle added to zone by person 15\n"
     ]
    },
    {
     "name": "stdout",
     "output_type": "stream",
     "text": [
      "1 #1 banana ['1 #5 banana added to zone', '1 #4 banana added to zone', '1 #7 banana added to zone', '1 #9 banana added to zone', '1 #10 banana added to zone', '1 #11 bottle added to zone', '1 #11 banana added to zone', '1 #8 hot dog added to zone', '1 #9 bottle added to zone', '1 #17 bottle added to zone', '1 #18 bottle added to zone', '1 #19 apple added to zone', '1 #2 sports ball added to zone', '1 #21 banana added to zone', '1 #21 apple added to zone', '1 #25 banana added to zone', '1 #17 apple added to zone', '1 #27 bottle added to zone', '1 #28 bottle added to zone', '1 #29 apple added to zone']\n",
      "1 #2 apple ['1 #5 banana added to zone', '1 #4 banana added to zone', '1 #7 banana added to zone', '1 #9 banana added to zone', '1 #10 banana added to zone', '1 #11 bottle added to zone', '1 #11 banana added to zone', '1 #8 hot dog added to zone', '1 #9 bottle added to zone', '1 #17 bottle added to zone', '1 #18 bottle added to zone', '1 #19 apple added to zone', '1 #2 sports ball added to zone', '1 #21 banana added to zone', '1 #21 apple added to zone', '1 #25 banana added to zone', '1 #17 apple added to zone', '1 #27 bottle added to zone', '1 #28 bottle added to zone', '1 #29 apple added to zone']\n",
      "1 #3 bottle ['1 #5 banana added to zone', '1 #4 banana added to zone', '1 #7 banana added to zone', '1 #9 banana added to zone', '1 #10 banana added to zone', '1 #11 bottle added to zone', '1 #11 banana added to zone', '1 #8 hot dog added to zone', '1 #9 bottle added to zone', '1 #17 bottle added to zone', '1 #18 bottle added to zone', '1 #19 apple added to zone', '1 #2 sports ball added to zone', '1 #21 banana added to zone', '1 #21 apple added to zone', '1 #25 banana added to zone', '1 #17 apple added to zone', '1 #27 bottle added to zone', '1 #28 bottle added to zone', '1 #29 apple added to zone']\n"
     ]
    },
    {
     "name": "stderr",
     "output_type": "stream",
     "text": [
      "INFO:root:1 #29 apple added to zone by person 15\n",
      "video 1/1 (519/640) C:\\Users\\rcheruvu\\Desktop\\openvino_notebooks\\recipes\\automated_detection_tracking\\data\\asset.mp4: 640x640 1 person, 2 bottles, 1 banana, 2 apples, 989.0ms\n",
      "INFO:root:1 #1 banana removed from zone by person 15\n",
      "INFO:root:1 #2 apple removed from zone by person 15\n",
      "INFO:root:1 #3 bottle removed from zone by person 15\n",
      "INFO:root:1 #21 apple added to zone by person 15\n",
      "INFO:root:1 #25 banana added to zone by person 15\n",
      "INFO:root:1 #27 bottle added to zone by person 15\n",
      "INFO:root:1 #28 bottle added to zone by person 15\n",
      "INFO:root:1 #29 apple added to zone by person 15\n"
     ]
    },
    {
     "name": "stdout",
     "output_type": "stream",
     "text": [
      "1 #1 banana ['1 #5 banana added to zone', '1 #4 banana added to zone', '1 #7 banana added to zone', '1 #9 banana added to zone', '1 #10 banana added to zone', '1 #11 bottle added to zone', '1 #11 banana added to zone', '1 #8 hot dog added to zone', '1 #9 bottle added to zone', '1 #17 bottle added to zone', '1 #18 bottle added to zone', '1 #19 apple added to zone', '1 #2 sports ball added to zone', '1 #21 banana added to zone', '1 #21 apple added to zone', '1 #25 banana added to zone', '1 #17 apple added to zone', '1 #27 bottle added to zone', '1 #28 bottle added to zone', '1 #29 apple added to zone']\n",
      "1 #2 apple ['1 #5 banana added to zone', '1 #4 banana added to zone', '1 #7 banana added to zone', '1 #9 banana added to zone', '1 #10 banana added to zone', '1 #11 bottle added to zone', '1 #11 banana added to zone', '1 #8 hot dog added to zone', '1 #9 bottle added to zone', '1 #17 bottle added to zone', '1 #18 bottle added to zone', '1 #19 apple added to zone', '1 #2 sports ball added to zone', '1 #21 banana added to zone', '1 #21 apple added to zone', '1 #25 banana added to zone', '1 #17 apple added to zone', '1 #27 bottle added to zone', '1 #28 bottle added to zone', '1 #29 apple added to zone']\n",
      "1 #3 bottle ['1 #5 banana added to zone', '1 #4 banana added to zone', '1 #7 banana added to zone', '1 #9 banana added to zone', '1 #10 banana added to zone', '1 #11 bottle added to zone', '1 #11 banana added to zone', '1 #8 hot dog added to zone', '1 #9 bottle added to zone', '1 #17 bottle added to zone', '1 #18 bottle added to zone', '1 #19 apple added to zone', '1 #2 sports ball added to zone', '1 #21 banana added to zone', '1 #21 apple added to zone', '1 #25 banana added to zone', '1 #17 apple added to zone', '1 #27 bottle added to zone', '1 #28 bottle added to zone', '1 #29 apple added to zone']\n"
     ]
    },
    {
     "name": "stderr",
     "output_type": "stream",
     "text": [
      "video 1/1 (520/640) C:\\Users\\rcheruvu\\Desktop\\openvino_notebooks\\recipes\\automated_detection_tracking\\data\\asset.mp4: 640x640 1 person, 2 bottles, 1 banana, 2 apples, 949.9ms\n",
      "INFO:root:1 #1 banana removed from zone by person 15\n",
      "INFO:root:1 #2 apple removed from zone by person 15\n",
      "INFO:root:1 #3 bottle removed from zone by person 15\n",
      "INFO:root:1 #21 apple added to zone by person 15\n",
      "INFO:root:1 #25 banana added to zone by person 15\n",
      "INFO:root:1 #27 bottle added to zone by person 15\n",
      "INFO:root:1 #28 bottle added to zone by person 15\n",
      "INFO:root:1 #29 apple added to zone by person 15\n"
     ]
    },
    {
     "name": "stdout",
     "output_type": "stream",
     "text": [
      "1 #1 banana ['1 #5 banana added to zone', '1 #4 banana added to zone', '1 #7 banana added to zone', '1 #9 banana added to zone', '1 #10 banana added to zone', '1 #11 bottle added to zone', '1 #11 banana added to zone', '1 #8 hot dog added to zone', '1 #9 bottle added to zone', '1 #17 bottle added to zone', '1 #18 bottle added to zone', '1 #19 apple added to zone', '1 #2 sports ball added to zone', '1 #21 banana added to zone', '1 #21 apple added to zone', '1 #25 banana added to zone', '1 #17 apple added to zone', '1 #27 bottle added to zone', '1 #28 bottle added to zone', '1 #29 apple added to zone']\n",
      "1 #2 apple ['1 #5 banana added to zone', '1 #4 banana added to zone', '1 #7 banana added to zone', '1 #9 banana added to zone', '1 #10 banana added to zone', '1 #11 bottle added to zone', '1 #11 banana added to zone', '1 #8 hot dog added to zone', '1 #9 bottle added to zone', '1 #17 bottle added to zone', '1 #18 bottle added to zone', '1 #19 apple added to zone', '1 #2 sports ball added to zone', '1 #21 banana added to zone', '1 #21 apple added to zone', '1 #25 banana added to zone', '1 #17 apple added to zone', '1 #27 bottle added to zone', '1 #28 bottle added to zone', '1 #29 apple added to zone']\n",
      "1 #3 bottle ['1 #5 banana added to zone', '1 #4 banana added to zone', '1 #7 banana added to zone', '1 #9 banana added to zone', '1 #10 banana added to zone', '1 #11 bottle added to zone', '1 #11 banana added to zone', '1 #8 hot dog added to zone', '1 #9 bottle added to zone', '1 #17 bottle added to zone', '1 #18 bottle added to zone', '1 #19 apple added to zone', '1 #2 sports ball added to zone', '1 #21 banana added to zone', '1 #21 apple added to zone', '1 #25 banana added to zone', '1 #17 apple added to zone', '1 #27 bottle added to zone', '1 #28 bottle added to zone', '1 #29 apple added to zone']\n"
     ]
    },
    {
     "name": "stderr",
     "output_type": "stream",
     "text": [
      "video 1/1 (521/640) C:\\Users\\rcheruvu\\Desktop\\openvino_notebooks\\recipes\\automated_detection_tracking\\data\\asset.mp4: 640x640 1 person, 2 bottles, 1 banana, 2 apples, 944.4ms\n",
      "INFO:root:1 #1 banana removed from zone by person 15\n",
      "INFO:root:1 #2 apple removed from zone by person 15\n",
      "INFO:root:1 #3 bottle removed from zone by person 15\n",
      "INFO:root:1 #21 apple added to zone by person 15\n",
      "INFO:root:1 #25 banana added to zone by person 15\n",
      "INFO:root:1 #27 bottle added to zone by person 15\n",
      "INFO:root:1 #28 bottle added to zone by person 15\n",
      "INFO:root:1 #29 apple added to zone by person 15\n"
     ]
    },
    {
     "name": "stdout",
     "output_type": "stream",
     "text": [
      "1 #1 banana ['1 #5 banana added to zone', '1 #4 banana added to zone', '1 #7 banana added to zone', '1 #9 banana added to zone', '1 #10 banana added to zone', '1 #11 bottle added to zone', '1 #11 banana added to zone', '1 #8 hot dog added to zone', '1 #9 bottle added to zone', '1 #17 bottle added to zone', '1 #18 bottle added to zone', '1 #19 apple added to zone', '1 #2 sports ball added to zone', '1 #21 banana added to zone', '1 #21 apple added to zone', '1 #25 banana added to zone', '1 #17 apple added to zone', '1 #27 bottle added to zone', '1 #28 bottle added to zone', '1 #29 apple added to zone']\n",
      "1 #2 apple ['1 #5 banana added to zone', '1 #4 banana added to zone', '1 #7 banana added to zone', '1 #9 banana added to zone', '1 #10 banana added to zone', '1 #11 bottle added to zone', '1 #11 banana added to zone', '1 #8 hot dog added to zone', '1 #9 bottle added to zone', '1 #17 bottle added to zone', '1 #18 bottle added to zone', '1 #19 apple added to zone', '1 #2 sports ball added to zone', '1 #21 banana added to zone', '1 #21 apple added to zone', '1 #25 banana added to zone', '1 #17 apple added to zone', '1 #27 bottle added to zone', '1 #28 bottle added to zone', '1 #29 apple added to zone']\n",
      "1 #3 bottle ['1 #5 banana added to zone', '1 #4 banana added to zone', '1 #7 banana added to zone', '1 #9 banana added to zone', '1 #10 banana added to zone', '1 #11 bottle added to zone', '1 #11 banana added to zone', '1 #8 hot dog added to zone', '1 #9 bottle added to zone', '1 #17 bottle added to zone', '1 #18 bottle added to zone', '1 #19 apple added to zone', '1 #2 sports ball added to zone', '1 #21 banana added to zone', '1 #21 apple added to zone', '1 #25 banana added to zone', '1 #17 apple added to zone', '1 #27 bottle added to zone', '1 #28 bottle added to zone', '1 #29 apple added to zone']\n"
     ]
    },
    {
     "name": "stderr",
     "output_type": "stream",
     "text": [
      "video 1/1 (522/640) C:\\Users\\rcheruvu\\Desktop\\openvino_notebooks\\recipes\\automated_detection_tracking\\data\\asset.mp4: 640x640 1 person, 2 bottles, 1 banana, 2 apples, 1049.9ms\n",
      "INFO:root:1 #1 banana removed from zone by person 15\n",
      "INFO:root:1 #2 apple removed from zone by person 15\n",
      "INFO:root:1 #3 bottle removed from zone by person 15\n",
      "INFO:root:1 #21 apple added to zone by person 15\n",
      "INFO:root:1 #25 banana added to zone by person 15\n",
      "INFO:root:1 #27 bottle added to zone by person 15\n",
      "INFO:root:1 #28 bottle added to zone by person 15\n"
     ]
    },
    {
     "name": "stdout",
     "output_type": "stream",
     "text": [
      "1 #1 banana ['1 #5 banana added to zone', '1 #4 banana added to zone', '1 #7 banana added to zone', '1 #9 banana added to zone', '1 #10 banana added to zone', '1 #11 bottle added to zone', '1 #11 banana added to zone', '1 #8 hot dog added to zone', '1 #9 bottle added to zone', '1 #17 bottle added to zone', '1 #18 bottle added to zone', '1 #19 apple added to zone', '1 #2 sports ball added to zone', '1 #21 banana added to zone', '1 #21 apple added to zone', '1 #25 banana added to zone', '1 #17 apple added to zone', '1 #27 bottle added to zone', '1 #28 bottle added to zone', '1 #29 apple added to zone']\n",
      "1 #2 apple ['1 #5 banana added to zone', '1 #4 banana added to zone', '1 #7 banana added to zone', '1 #9 banana added to zone', '1 #10 banana added to zone', '1 #11 bottle added to zone', '1 #11 banana added to zone', '1 #8 hot dog added to zone', '1 #9 bottle added to zone', '1 #17 bottle added to zone', '1 #18 bottle added to zone', '1 #19 apple added to zone', '1 #2 sports ball added to zone', '1 #21 banana added to zone', '1 #21 apple added to zone', '1 #25 banana added to zone', '1 #17 apple added to zone', '1 #27 bottle added to zone', '1 #28 bottle added to zone', '1 #29 apple added to zone']\n",
      "1 #3 bottle ['1 #5 banana added to zone', '1 #4 banana added to zone', '1 #7 banana added to zone', '1 #9 banana added to zone', '1 #10 banana added to zone', '1 #11 bottle added to zone', '1 #11 banana added to zone', '1 #8 hot dog added to zone', '1 #9 bottle added to zone', '1 #17 bottle added to zone', '1 #18 bottle added to zone', '1 #19 apple added to zone', '1 #2 sports ball added to zone', '1 #21 banana added to zone', '1 #21 apple added to zone', '1 #25 banana added to zone', '1 #17 apple added to zone', '1 #27 bottle added to zone', '1 #28 bottle added to zone', '1 #29 apple added to zone']\n"
     ]
    },
    {
     "name": "stderr",
     "output_type": "stream",
     "text": [
      "INFO:root:1 #29 apple added to zone by person 15\n",
      "video 1/1 (523/640) C:\\Users\\rcheruvu\\Desktop\\openvino_notebooks\\recipes\\automated_detection_tracking\\data\\asset.mp4: 640x640 1 person, 2 bottles, 1 banana, 2 apples, 961.8ms\n",
      "INFO:root:1 #1 banana removed from zone by person 4\n",
      "INFO:root:1 #2 apple removed from zone by person 4\n",
      "INFO:root:1 #3 bottle removed from zone by person 4\n",
      "INFO:root:1 #25 banana added to zone by person 4\n",
      "INFO:root:1 #27 bottle added to zone by person 4\n",
      "INFO:root:1 #28 bottle added to zone by person 4\n",
      "INFO:root:1 #29 apple added to zone by person 4\n",
      "video 1/1 (524/640) C:\\Users\\rcheruvu\\Desktop\\openvino_notebooks\\recipes\\automated_detection_tracking\\data\\asset.mp4: 640x640 1 person, 2 bottles, 1 banana, 1 apple, 959.0ms\n"
     ]
    },
    {
     "name": "stdout",
     "output_type": "stream",
     "text": [
      "1 #1 banana ['1 #5 banana added to zone', '1 #4 banana added to zone', '1 #7 banana added to zone', '1 #9 banana added to zone', '1 #10 banana added to zone', '1 #11 bottle added to zone', '1 #11 banana added to zone', '1 #8 hot dog added to zone', '1 #9 bottle added to zone', '1 #17 bottle added to zone', '1 #18 bottle added to zone', '1 #19 apple added to zone', '1 #2 sports ball added to zone', '1 #21 banana added to zone', '1 #21 apple added to zone', '1 #25 banana added to zone', '1 #17 apple added to zone', '1 #27 bottle added to zone', '1 #28 bottle added to zone', '1 #29 apple added to zone']\n",
      "1 #2 apple ['1 #5 banana added to zone', '1 #4 banana added to zone', '1 #7 banana added to zone', '1 #9 banana added to zone', '1 #10 banana added to zone', '1 #11 bottle added to zone', '1 #11 banana added to zone', '1 #8 hot dog added to zone', '1 #9 bottle added to zone', '1 #17 bottle added to zone', '1 #18 bottle added to zone', '1 #19 apple added to zone', '1 #2 sports ball added to zone', '1 #21 banana added to zone', '1 #21 apple added to zone', '1 #25 banana added to zone', '1 #17 apple added to zone', '1 #27 bottle added to zone', '1 #28 bottle added to zone', '1 #29 apple added to zone']\n",
      "1 #3 bottle ['1 #5 banana added to zone', '1 #4 banana added to zone', '1 #7 banana added to zone', '1 #9 banana added to zone', '1 #10 banana added to zone', '1 #11 bottle added to zone', '1 #11 banana added to zone', '1 #8 hot dog added to zone', '1 #9 bottle added to zone', '1 #17 bottle added to zone', '1 #18 bottle added to zone', '1 #19 apple added to zone', '1 #2 sports ball added to zone', '1 #21 banana added to zone', '1 #21 apple added to zone', '1 #25 banana added to zone', '1 #17 apple added to zone', '1 #27 bottle added to zone', '1 #28 bottle added to zone', '1 #29 apple added to zone']\n"
     ]
    },
    {
     "name": "stderr",
     "output_type": "stream",
     "text": [
      "INFO:root:1 #1 banana removed from zone by person 4\n",
      "INFO:root:1 #2 apple removed from zone by person 4\n",
      "INFO:root:1 #3 bottle removed from zone by person 4\n",
      "INFO:root:1 #25 banana added to zone by person 4\n",
      "INFO:root:1 #27 bottle added to zone by person 4\n",
      "INFO:root:1 #28 bottle added to zone by person 4\n",
      "INFO:root:1 #29 apple added to zone by person 4\n",
      "video 1/1 (525/640) C:\\Users\\rcheruvu\\Desktop\\openvino_notebooks\\recipes\\automated_detection_tracking\\data\\asset.mp4: 640x640 1 person, 2 bottles, 1 banana, 1 apple, 861.5ms\n"
     ]
    },
    {
     "name": "stdout",
     "output_type": "stream",
     "text": [
      "1 #1 banana ['1 #5 banana added to zone', '1 #4 banana added to zone', '1 #7 banana added to zone', '1 #9 banana added to zone', '1 #10 banana added to zone', '1 #11 bottle added to zone', '1 #11 banana added to zone', '1 #8 hot dog added to zone', '1 #9 bottle added to zone', '1 #17 bottle added to zone', '1 #18 bottle added to zone', '1 #19 apple added to zone', '1 #2 sports ball added to zone', '1 #21 banana added to zone', '1 #21 apple added to zone', '1 #25 banana added to zone', '1 #17 apple added to zone', '1 #27 bottle added to zone', '1 #28 bottle added to zone', '1 #29 apple added to zone']\n",
      "1 #2 apple ['1 #5 banana added to zone', '1 #4 banana added to zone', '1 #7 banana added to zone', '1 #9 banana added to zone', '1 #10 banana added to zone', '1 #11 bottle added to zone', '1 #11 banana added to zone', '1 #8 hot dog added to zone', '1 #9 bottle added to zone', '1 #17 bottle added to zone', '1 #18 bottle added to zone', '1 #19 apple added to zone', '1 #2 sports ball added to zone', '1 #21 banana added to zone', '1 #21 apple added to zone', '1 #25 banana added to zone', '1 #17 apple added to zone', '1 #27 bottle added to zone', '1 #28 bottle added to zone', '1 #29 apple added to zone']\n",
      "1 #3 bottle ['1 #5 banana added to zone', '1 #4 banana added to zone', '1 #7 banana added to zone', '1 #9 banana added to zone', '1 #10 banana added to zone', '1 #11 bottle added to zone', '1 #11 banana added to zone', '1 #8 hot dog added to zone', '1 #9 bottle added to zone', '1 #17 bottle added to zone', '1 #18 bottle added to zone', '1 #19 apple added to zone', '1 #2 sports ball added to zone', '1 #21 banana added to zone', '1 #21 apple added to zone', '1 #25 banana added to zone', '1 #17 apple added to zone', '1 #27 bottle added to zone', '1 #28 bottle added to zone', '1 #29 apple added to zone']\n"
     ]
    },
    {
     "name": "stderr",
     "output_type": "stream",
     "text": [
      "INFO:root:1 #25 banana added to zone by person 4\n",
      "INFO:root:1 #28 bottle added to zone by person 4\n",
      "INFO:root:1 #29 apple added to zone by person 4\n",
      "video 1/1 (526/640) C:\\Users\\rcheruvu\\Desktop\\openvino_notebooks\\recipes\\automated_detection_tracking\\data\\asset.mp4: 640x640 1 person, 1 bottle, 1 banana, 1 apple, 829.5ms\n",
      "INFO:root:1 #25 banana added to zone by person 4\n",
      "INFO:root:1 #28 bottle added to zone by person 4\n",
      "INFO:root:1 #29 apple added to zone by person 4\n",
      "video 1/1 (527/640) C:\\Users\\rcheruvu\\Desktop\\openvino_notebooks\\recipes\\automated_detection_tracking\\data\\asset.mp4: 640x640 1 person, 1 bottle, 1 banana, 1 apple, 985.9ms\n",
      "INFO:root:1 #28 bottle added to zone by person 8\n",
      "INFO:root:1 #29 apple added to zone by person 8\n",
      "video 1/1 (528/640) C:\\Users\\rcheruvu\\Desktop\\openvino_notebooks\\recipes\\automated_detection_tracking\\data\\asset.mp4: 640x640 1 person, 1 bottle, 1 apple, 839.0ms\n",
      "INFO:root:1 #1 banana removed from zone by person 15\n",
      "INFO:root:1 #2 apple removed from zone by person 15\n",
      "INFO:root:1 #3 bottle removed from zone by person 15\n",
      "INFO:root:1 #29 apple added to zone by person 15\n"
     ]
    },
    {
     "name": "stdout",
     "output_type": "stream",
     "text": [
      "1 #1 banana ['1 #5 banana added to zone', '1 #4 banana added to zone', '1 #7 banana added to zone', '1 #9 banana added to zone', '1 #10 banana added to zone', '1 #11 bottle added to zone', '1 #11 banana added to zone', '1 #8 hot dog added to zone', '1 #9 bottle added to zone', '1 #17 bottle added to zone', '1 #18 bottle added to zone', '1 #19 apple added to zone', '1 #2 sports ball added to zone', '1 #21 banana added to zone', '1 #21 apple added to zone', '1 #25 banana added to zone', '1 #17 apple added to zone', '1 #27 bottle added to zone', '1 #28 bottle added to zone', '1 #29 apple added to zone']\n",
      "1 #2 apple ['1 #5 banana added to zone', '1 #4 banana added to zone', '1 #7 banana added to zone', '1 #9 banana added to zone', '1 #10 banana added to zone', '1 #11 bottle added to zone', '1 #11 banana added to zone', '1 #8 hot dog added to zone', '1 #9 bottle added to zone', '1 #17 bottle added to zone', '1 #18 bottle added to zone', '1 #19 apple added to zone', '1 #2 sports ball added to zone', '1 #21 banana added to zone', '1 #21 apple added to zone', '1 #25 banana added to zone', '1 #17 apple added to zone', '1 #27 bottle added to zone', '1 #28 bottle added to zone', '1 #29 apple added to zone']\n",
      "1 #3 bottle ['1 #5 banana added to zone', '1 #4 banana added to zone', '1 #7 banana added to zone', '1 #9 banana added to zone', '1 #10 banana added to zone', '1 #11 bottle added to zone', '1 #11 banana added to zone', '1 #8 hot dog added to zone', '1 #9 bottle added to zone', '1 #17 bottle added to zone', '1 #18 bottle added to zone', '1 #19 apple added to zone', '1 #2 sports ball added to zone', '1 #21 banana added to zone', '1 #21 apple added to zone', '1 #25 banana added to zone', '1 #17 apple added to zone', '1 #27 bottle added to zone', '1 #28 bottle added to zone', '1 #29 apple added to zone']\n"
     ]
    },
    {
     "name": "stderr",
     "output_type": "stream",
     "text": [
      "video 1/1 (529/640) C:\\Users\\rcheruvu\\Desktop\\openvino_notebooks\\recipes\\automated_detection_tracking\\data\\asset.mp4: 640x640 1 person, 1 apple, 799.4ms\n",
      "INFO:root:1 #29 apple added to zone by person 15\n",
      "INFO:root:1 #27 bottle added to zone by person 15\n",
      "video 1/1 (530/640) C:\\Users\\rcheruvu\\Desktop\\openvino_notebooks\\recipes\\automated_detection_tracking\\data\\asset.mp4: 640x640 1 person, 1 bottle, 1 apple, 961.9ms\n",
      "INFO:root:1 #1 banana removed from zone by person 15\n",
      "INFO:root:1 #2 apple removed from zone by person 15\n",
      "INFO:root:1 #3 bottle removed from zone by person 15\n",
      "INFO:root:1 #29 apple added to zone by person 15\n",
      "INFO:root:1 #27 bottle added to zone by person 15\n"
     ]
    },
    {
     "name": "stdout",
     "output_type": "stream",
     "text": [
      "1 #1 banana ['1 #5 banana added to zone', '1 #4 banana added to zone', '1 #7 banana added to zone', '1 #9 banana added to zone', '1 #10 banana added to zone', '1 #11 bottle added to zone', '1 #11 banana added to zone', '1 #8 hot dog added to zone', '1 #9 bottle added to zone', '1 #17 bottle added to zone', '1 #18 bottle added to zone', '1 #19 apple added to zone', '1 #2 sports ball added to zone', '1 #21 banana added to zone', '1 #21 apple added to zone', '1 #25 banana added to zone', '1 #17 apple added to zone', '1 #27 bottle added to zone', '1 #28 bottle added to zone', '1 #29 apple added to zone']\n",
      "1 #2 apple ['1 #5 banana added to zone', '1 #4 banana added to zone', '1 #7 banana added to zone', '1 #9 banana added to zone', '1 #10 banana added to zone', '1 #11 bottle added to zone', '1 #11 banana added to zone', '1 #8 hot dog added to zone', '1 #9 bottle added to zone', '1 #17 bottle added to zone', '1 #18 bottle added to zone', '1 #19 apple added to zone', '1 #2 sports ball added to zone', '1 #21 banana added to zone', '1 #21 apple added to zone', '1 #25 banana added to zone', '1 #17 apple added to zone', '1 #27 bottle added to zone', '1 #28 bottle added to zone', '1 #29 apple added to zone']\n",
      "1 #3 bottle ['1 #5 banana added to zone', '1 #4 banana added to zone', '1 #7 banana added to zone', '1 #9 banana added to zone', '1 #10 banana added to zone', '1 #11 bottle added to zone', '1 #11 banana added to zone', '1 #8 hot dog added to zone', '1 #9 bottle added to zone', '1 #17 bottle added to zone', '1 #18 bottle added to zone', '1 #19 apple added to zone', '1 #2 sports ball added to zone', '1 #21 banana added to zone', '1 #21 apple added to zone', '1 #25 banana added to zone', '1 #17 apple added to zone', '1 #27 bottle added to zone', '1 #28 bottle added to zone', '1 #29 apple added to zone']\n"
     ]
    },
    {
     "name": "stderr",
     "output_type": "stream",
     "text": [
      "INFO:root:1 #25 banana added to zone by person 15\n",
      "video 1/1 (531/640) C:\\Users\\rcheruvu\\Desktop\\openvino_notebooks\\recipes\\automated_detection_tracking\\data\\asset.mp4: 640x640 1 person, 1 bottle, 1 banana, 1 apple, 1192.1ms\n",
      "INFO:root:1 #1 banana removed from zone by person 15\n",
      "INFO:root:1 #2 apple removed from zone by person 15\n",
      "INFO:root:1 #3 bottle removed from zone by person 15\n",
      "INFO:root:1 #29 apple added to zone by person 15\n",
      "INFO:root:1 #27 bottle added to zone by person 15\n",
      "INFO:root:1 #25 banana added to zone by person 15\n"
     ]
    },
    {
     "name": "stdout",
     "output_type": "stream",
     "text": [
      "1 #1 banana ['1 #5 banana added to zone', '1 #4 banana added to zone', '1 #7 banana added to zone', '1 #9 banana added to zone', '1 #10 banana added to zone', '1 #11 bottle added to zone', '1 #11 banana added to zone', '1 #8 hot dog added to zone', '1 #9 bottle added to zone', '1 #17 bottle added to zone', '1 #18 bottle added to zone', '1 #19 apple added to zone', '1 #2 sports ball added to zone', '1 #21 banana added to zone', '1 #21 apple added to zone', '1 #25 banana added to zone', '1 #17 apple added to zone', '1 #27 bottle added to zone', '1 #28 bottle added to zone', '1 #29 apple added to zone']\n",
      "1 #2 apple ['1 #5 banana added to zone', '1 #4 banana added to zone', '1 #7 banana added to zone', '1 #9 banana added to zone', '1 #10 banana added to zone', '1 #11 bottle added to zone', '1 #11 banana added to zone', '1 #8 hot dog added to zone', '1 #9 bottle added to zone', '1 #17 bottle added to zone', '1 #18 bottle added to zone', '1 #19 apple added to zone', '1 #2 sports ball added to zone', '1 #21 banana added to zone', '1 #21 apple added to zone', '1 #25 banana added to zone', '1 #17 apple added to zone', '1 #27 bottle added to zone', '1 #28 bottle added to zone', '1 #29 apple added to zone']\n",
      "1 #3 bottle ['1 #5 banana added to zone', '1 #4 banana added to zone', '1 #7 banana added to zone', '1 #9 banana added to zone', '1 #10 banana added to zone', '1 #11 bottle added to zone', '1 #11 banana added to zone', '1 #8 hot dog added to zone', '1 #9 bottle added to zone', '1 #17 bottle added to zone', '1 #18 bottle added to zone', '1 #19 apple added to zone', '1 #2 sports ball added to zone', '1 #21 banana added to zone', '1 #21 apple added to zone', '1 #25 banana added to zone', '1 #17 apple added to zone', '1 #27 bottle added to zone', '1 #28 bottle added to zone', '1 #29 apple added to zone']\n"
     ]
    },
    {
     "name": "stderr",
     "output_type": "stream",
     "text": [
      "video 1/1 (532/640) C:\\Users\\rcheruvu\\Desktop\\openvino_notebooks\\recipes\\automated_detection_tracking\\data\\asset.mp4: 640x640 1 person, 1 bottle, 1 banana, 1 apple, 898.7ms\n",
      "INFO:root:1 #29 apple added to zone by person 15\n",
      "INFO:root:1 #27 bottle added to zone by person 15\n",
      "INFO:root:1 #25 banana added to zone by person 15\n",
      "video 1/1 (533/640) C:\\Users\\rcheruvu\\Desktop\\openvino_notebooks\\recipes\\automated_detection_tracking\\data\\asset.mp4: 640x640 1 person, 1 bottle, 1 banana, 1 apple, 934.1ms\n",
      "INFO:root:1 #23 carrot added to zone by person 4\n",
      "INFO:root:1 #29 apple added to zone by person 4\n",
      "INFO:root:1 #27 bottle added to zone by person 4\n",
      "INFO:root:1 #25 banana added to zone by person 4\n",
      "video 1/1 (534/640) C:\\Users\\rcheruvu\\Desktop\\openvino_notebooks\\recipes\\automated_detection_tracking\\data\\asset.mp4: 640x640 1 bottle, 1 banana, 1 apple, 1 carrot, 959.7ms\n",
      "INFO:root:1 #29 apple added to zone by person 15\n",
      "INFO:root:1 #27 bottle added to zone by person 15\n",
      "INFO:root:1 #25 banana added to zone by person 15\n",
      "video 1/1 (535/640) C:\\Users\\rcheruvu\\Desktop\\openvino_notebooks\\recipes\\automated_detection_tracking\\data\\asset.mp4: 640x640 1 person, 1 bottle, 1 banana, 1 apple, 944.0ms\n",
      "INFO:root:1 #29 apple added to zone by person 15\n",
      "INFO:root:1 #27 bottle added to zone by person 15\n",
      "INFO:root:1 #25 banana added to zone by person 15\n",
      "video 1/1 (536/640) C:\\Users\\rcheruvu\\Desktop\\openvino_notebooks\\recipes\\automated_detection_tracking\\data\\asset.mp4: 640x640 1 person, 1 bottle, 1 banana, 1 apple, 921.9ms\n",
      "INFO:root:1 #29 apple added to zone by person 15\n",
      "INFO:root:1 #27 bottle added to zone by person 15\n",
      "INFO:root:1 #25 banana added to zone by person 15\n",
      "video 1/1 (537/640) C:\\Users\\rcheruvu\\Desktop\\openvino_notebooks\\recipes\\automated_detection_tracking\\data\\asset.mp4: 640x640 1 bottle, 1 banana, 1 apple, 999.4ms\n",
      "INFO:root:1 #29 apple added to zone by person 15\n",
      "INFO:root:1 #27 bottle added to zone by person 15\n",
      "INFO:root:1 #25 banana added to zone by person 15\n",
      "video 1/1 (538/640) C:\\Users\\rcheruvu\\Desktop\\openvino_notebooks\\recipes\\automated_detection_tracking\\data\\asset.mp4: 640x640 1 bottle, 1 banana, 1 apple, 923.2ms\n",
      "INFO:root:1 #29 apple added to zone by person 15\n",
      "INFO:root:1 #27 bottle added to zone by person 15\n",
      "INFO:root:1 #25 banana added to zone by person 15\n",
      "video 1/1 (539/640) C:\\Users\\rcheruvu\\Desktop\\openvino_notebooks\\recipes\\automated_detection_tracking\\data\\asset.mp4: 640x640 1 bottle, 1 banana, 1 apple, 960.0ms\n",
      "INFO:root:1 #29 apple added to zone by person 15\n",
      "INFO:root:1 #27 bottle added to zone by person 15\n",
      "INFO:root:1 #25 banana added to zone by person 15\n",
      "video 1/1 (540/640) C:\\Users\\rcheruvu\\Desktop\\openvino_notebooks\\recipes\\automated_detection_tracking\\data\\asset.mp4: 640x640 1 bottle, 1 banana, 1 apple, 990.8ms\n",
      "INFO:root:1 #29 apple added to zone by person 15\n",
      "INFO:root:1 #27 bottle added to zone by person 15\n",
      "INFO:root:1 #25 banana added to zone by person 15\n",
      "video 1/1 (541/640) C:\\Users\\rcheruvu\\Desktop\\openvino_notebooks\\recipes\\automated_detection_tracking\\data\\asset.mp4: 640x640 1 bottle, 1 banana, 1 apple, 925.0ms\n",
      "INFO:root:1 #29 apple added to zone by person 15\n",
      "INFO:root:1 #27 bottle added to zone by person 15\n",
      "INFO:root:1 #25 banana added to zone by person 15\n",
      "video 1/1 (542/640) C:\\Users\\rcheruvu\\Desktop\\openvino_notebooks\\recipes\\automated_detection_tracking\\data\\asset.mp4: 640x640 1 bottle, 1 banana, 1 apple, 930.1ms\n",
      "INFO:root:1 #29 apple added to zone by person 15\n",
      "INFO:root:1 #27 bottle added to zone by person 15\n",
      "INFO:root:1 #25 banana added to zone by person 15\n",
      "video 1/1 (543/640) C:\\Users\\rcheruvu\\Desktop\\openvino_notebooks\\recipes\\automated_detection_tracking\\data\\asset.mp4: 640x640 1 bottle, 1 banana, 1 apple, 925.7ms\n",
      "INFO:root:1 #29 apple added to zone by person 15\n",
      "INFO:root:1 #27 bottle added to zone by person 15\n",
      "INFO:root:1 #25 banana added to zone by person 15\n",
      "video 1/1 (544/640) C:\\Users\\rcheruvu\\Desktop\\openvino_notebooks\\recipes\\automated_detection_tracking\\data\\asset.mp4: 640x640 1 bottle, 1 banana, 1 apple, 928.5ms\n",
      "INFO:root:1 #29 apple added to zone by person 15\n",
      "INFO:root:1 #27 bottle added to zone by person 15\n",
      "INFO:root:1 #25 banana added to zone by person 15\n",
      "video 1/1 (545/640) C:\\Users\\rcheruvu\\Desktop\\openvino_notebooks\\recipes\\automated_detection_tracking\\data\\asset.mp4: 640x640 1 bottle, 1 banana, 1 apple, 900.6ms\n",
      "INFO:root:1 #29 apple added to zone by person 15\n",
      "INFO:root:1 #27 bottle added to zone by person 15\n",
      "INFO:root:1 #25 banana added to zone by person 15\n",
      "video 1/1 (546/640) C:\\Users\\rcheruvu\\Desktop\\openvino_notebooks\\recipes\\automated_detection_tracking\\data\\asset.mp4: 640x640 1 bottle, 1 banana, 1 apple, 955.5ms\n",
      "INFO:root:1 #29 apple added to zone by person 15\n",
      "INFO:root:1 #27 bottle added to zone by person 15\n",
      "INFO:root:1 #25 banana added to zone by person 15\n",
      "video 1/1 (547/640) C:\\Users\\rcheruvu\\Desktop\\openvino_notebooks\\recipes\\automated_detection_tracking\\data\\asset.mp4: 640x640 1 bottle, 1 banana, 1 apple, 993.9ms\n",
      "INFO:root:1 #29 apple added to zone by person 15\n",
      "INFO:root:1 #27 bottle added to zone by person 15\n",
      "INFO:root:1 #25 banana added to zone by person 15\n",
      "video 1/1 (548/640) C:\\Users\\rcheruvu\\Desktop\\openvino_notebooks\\recipes\\automated_detection_tracking\\data\\asset.mp4: 640x640 1 bottle, 1 banana, 1 apple, 960.8ms\n",
      "INFO:root:1 #29 apple added to zone by person 15\n",
      "INFO:root:1 #27 bottle added to zone by person 15\n",
      "INFO:root:1 #25 banana added to zone by person 15\n",
      "video 1/1 (549/640) C:\\Users\\rcheruvu\\Desktop\\openvino_notebooks\\recipes\\automated_detection_tracking\\data\\asset.mp4: 640x640 1 bottle, 1 banana, 1 apple, 1053.5ms\n",
      "INFO:root:1 #29 apple added to zone by person 15\n",
      "INFO:root:1 #27 bottle added to zone by person 15\n",
      "INFO:root:1 #25 banana added to zone by person 15\n",
      "video 1/1 (550/640) C:\\Users\\rcheruvu\\Desktop\\openvino_notebooks\\recipes\\automated_detection_tracking\\data\\asset.mp4: 640x640 1 bottle, 1 banana, 1 apple, 979.9ms\n",
      "INFO:root:1 #29 apple added to zone by person 15\n",
      "INFO:root:1 #27 bottle added to zone by person 15\n",
      "INFO:root:1 #25 banana added to zone by person 15\n",
      "video 1/1 (551/640) C:\\Users\\rcheruvu\\Desktop\\openvino_notebooks\\recipes\\automated_detection_tracking\\data\\asset.mp4: 640x640 1 bottle, 1 banana, 1 apple, 940.0ms\n",
      "INFO:root:1 #29 apple added to zone by person 15\n",
      "INFO:root:1 #27 bottle added to zone by person 15\n",
      "INFO:root:1 #25 banana added to zone by person 15\n",
      "video 1/1 (552/640) C:\\Users\\rcheruvu\\Desktop\\openvino_notebooks\\recipes\\automated_detection_tracking\\data\\asset.mp4: 640x640 1 bottle, 1 banana, 1 apple, 946.8ms\n",
      "INFO:root:1 #29 apple added to zone by person 15\n",
      "INFO:root:1 #27 bottle added to zone by person 15\n",
      "INFO:root:1 #25 banana added to zone by person 15\n",
      "video 1/1 (553/640) C:\\Users\\rcheruvu\\Desktop\\openvino_notebooks\\recipes\\automated_detection_tracking\\data\\asset.mp4: 640x640 1 bottle, 1 banana, 1 apple, 1009.6ms\n",
      "INFO:root:1 #29 apple added to zone by person 15\n",
      "INFO:root:1 #27 bottle added to zone by person 15\n",
      "INFO:root:1 #25 banana added to zone by person 15\n",
      "video 1/1 (554/640) C:\\Users\\rcheruvu\\Desktop\\openvino_notebooks\\recipes\\automated_detection_tracking\\data\\asset.mp4: 640x640 1 bottle, 1 banana, 1 apple, 997.2ms\n",
      "INFO:root:1 #29 apple added to zone by person 15\n",
      "INFO:root:1 #27 bottle added to zone by person 15\n",
      "INFO:root:1 #25 banana added to zone by person 15\n",
      "video 1/1 (555/640) C:\\Users\\rcheruvu\\Desktop\\openvino_notebooks\\recipes\\automated_detection_tracking\\data\\asset.mp4: 640x640 1 bottle, 1 banana, 1 apple, 986.5ms\n",
      "INFO:root:1 #29 apple added to zone by person 15\n",
      "INFO:root:1 #27 bottle added to zone by person 15\n",
      "INFO:root:1 #25 banana added to zone by person 15\n",
      "video 1/1 (556/640) C:\\Users\\rcheruvu\\Desktop\\openvino_notebooks\\recipes\\automated_detection_tracking\\data\\asset.mp4: 640x640 1 bottle, 1 banana, 1 apple, 982.3ms\n",
      "INFO:root:1 #29 apple added to zone by person 15\n",
      "INFO:root:1 #27 bottle added to zone by person 15\n",
      "INFO:root:1 #25 banana added to zone by person 15\n",
      "video 1/1 (557/640) C:\\Users\\rcheruvu\\Desktop\\openvino_notebooks\\recipes\\automated_detection_tracking\\data\\asset.mp4: 640x640 1 bottle, 1 banana, 1 apple, 1068.3ms\n",
      "INFO:root:1 #29 apple added to zone by person 15\n",
      "INFO:root:1 #27 bottle added to zone by person 15\n",
      "INFO:root:1 #25 banana added to zone by person 15\n",
      "video 1/1 (558/640) C:\\Users\\rcheruvu\\Desktop\\openvino_notebooks\\recipes\\automated_detection_tracking\\data\\asset.mp4: 640x640 1 bottle, 1 banana, 1 apple, 1176.6ms\n",
      "INFO:root:1 #29 apple added to zone by person 15\n",
      "INFO:root:1 #27 bottle added to zone by person 15\n",
      "INFO:root:1 #25 banana added to zone by person 15\n",
      "video 1/1 (559/640) C:\\Users\\rcheruvu\\Desktop\\openvino_notebooks\\recipes\\automated_detection_tracking\\data\\asset.mp4: 640x640 1 bottle, 1 banana, 1 apple, 929.9ms\n",
      "INFO:root:1 #29 apple added to zone by person 15\n",
      "INFO:root:1 #27 bottle added to zone by person 15\n",
      "INFO:root:1 #25 banana added to zone by person 15\n",
      "video 1/1 (560/640) C:\\Users\\rcheruvu\\Desktop\\openvino_notebooks\\recipes\\automated_detection_tracking\\data\\asset.mp4: 640x640 1 bottle, 1 banana, 1 apple, 963.4ms\n",
      "INFO:root:1 #29 apple added to zone by person 15\n",
      "INFO:root:1 #27 bottle added to zone by person 15\n",
      "INFO:root:1 #25 banana added to zone by person 15\n",
      "video 1/1 (561/640) C:\\Users\\rcheruvu\\Desktop\\openvino_notebooks\\recipes\\automated_detection_tracking\\data\\asset.mp4: 640x640 1 bottle, 1 banana, 1 apple, 884.8ms\n",
      "INFO:root:1 #29 apple added to zone by person 15\n",
      "INFO:root:1 #27 bottle added to zone by person 15\n",
      "INFO:root:1 #25 banana added to zone by person 15\n",
      "video 1/1 (562/640) C:\\Users\\rcheruvu\\Desktop\\openvino_notebooks\\recipes\\automated_detection_tracking\\data\\asset.mp4: 640x640 1 bottle, 1 banana, 1 apple, 1060.2ms\n",
      "INFO:root:1 #29 apple added to zone by person 15\n",
      "INFO:root:1 #27 bottle added to zone by person 15\n",
      "INFO:root:1 #25 banana added to zone by person 15\n",
      "video 1/1 (563/640) C:\\Users\\rcheruvu\\Desktop\\openvino_notebooks\\recipes\\automated_detection_tracking\\data\\asset.mp4: 640x640 1 bottle, 1 banana, 1 apple, 933.9ms\n",
      "INFO:root:1 #29 apple added to zone by person 15\n",
      "INFO:root:1 #27 bottle added to zone by person 15\n",
      "INFO:root:1 #25 banana added to zone by person 15\n",
      "video 1/1 (564/640) C:\\Users\\rcheruvu\\Desktop\\openvino_notebooks\\recipes\\automated_detection_tracking\\data\\asset.mp4: 640x640 1 bottle, 1 banana, 1 apple, 1012.3ms\n",
      "INFO:root:1 #29 apple added to zone by person 15\n",
      "INFO:root:1 #27 bottle added to zone by person 15\n",
      "INFO:root:1 #25 banana added to zone by person 15\n",
      "video 1/1 (565/640) C:\\Users\\rcheruvu\\Desktop\\openvino_notebooks\\recipes\\automated_detection_tracking\\data\\asset.mp4: 640x640 1 bottle, 1 banana, 1 apple, 964.3ms\n",
      "INFO:root:1 #29 apple added to zone by person 15\n",
      "INFO:root:1 #27 bottle added to zone by person 15\n",
      "INFO:root:1 #25 banana added to zone by person 15\n",
      "video 1/1 (566/640) C:\\Users\\rcheruvu\\Desktop\\openvino_notebooks\\recipes\\automated_detection_tracking\\data\\asset.mp4: 640x640 1 bottle, 1 banana, 1 apple, 955.8ms\n",
      "INFO:root:1 #29 apple added to zone by person 15\n",
      "INFO:root:1 #27 bottle added to zone by person 15\n",
      "INFO:root:1 #25 banana added to zone by person 15\n",
      "video 1/1 (567/640) C:\\Users\\rcheruvu\\Desktop\\openvino_notebooks\\recipes\\automated_detection_tracking\\data\\asset.mp4: 640x640 1 bottle, 1 banana, 1 apple, 939.1ms\n",
      "INFO:root:1 #29 apple added to zone by person 15\n",
      "INFO:root:1 #27 bottle added to zone by person 15\n",
      "INFO:root:1 #25 banana added to zone by person 15\n",
      "video 1/1 (568/640) C:\\Users\\rcheruvu\\Desktop\\openvino_notebooks\\recipes\\automated_detection_tracking\\data\\asset.mp4: 640x640 1 bottle, 1 banana, 1 apple, 1043.3ms\n",
      "INFO:root:1 #29 apple added to zone by person 15\n",
      "INFO:root:1 #27 bottle added to zone by person 15\n",
      "INFO:root:1 #25 banana added to zone by person 15\n",
      "video 1/1 (569/640) C:\\Users\\rcheruvu\\Desktop\\openvino_notebooks\\recipes\\automated_detection_tracking\\data\\asset.mp4: 640x640 1 bottle, 1 banana, 1 apple, 902.9ms\n",
      "INFO:root:1 #29 apple added to zone by person 15\n",
      "INFO:root:1 #27 bottle added to zone by person 15\n",
      "INFO:root:1 #25 banana added to zone by person 15\n",
      "video 1/1 (570/640) C:\\Users\\rcheruvu\\Desktop\\openvino_notebooks\\recipes\\automated_detection_tracking\\data\\asset.mp4: 640x640 1 bottle, 1 banana, 1 apple, 827.8ms\n",
      "INFO:root:1 #29 apple added to zone by person 15\n",
      "INFO:root:1 #27 bottle added to zone by person 15\n",
      "INFO:root:1 #25 banana added to zone by person 15\n",
      "video 1/1 (571/640) C:\\Users\\rcheruvu\\Desktop\\openvino_notebooks\\recipes\\automated_detection_tracking\\data\\asset.mp4: 640x640 1 bottle, 1 banana, 1 apple, 792.2ms\n",
      "INFO:root:1 #29 apple added to zone by person 15\n",
      "INFO:root:1 #27 bottle added to zone by person 15\n",
      "INFO:root:1 #25 banana added to zone by person 15\n",
      "video 1/1 (572/640) C:\\Users\\rcheruvu\\Desktop\\openvino_notebooks\\recipes\\automated_detection_tracking\\data\\asset.mp4: 640x640 1 bottle, 1 banana, 1 apple, 925.6ms\n",
      "INFO:root:1 #29 apple added to zone by person 15\n",
      "INFO:root:1 #27 bottle added to zone by person 15\n",
      "INFO:root:1 #25 banana added to zone by person 15\n",
      "video 1/1 (573/640) C:\\Users\\rcheruvu\\Desktop\\openvino_notebooks\\recipes\\automated_detection_tracking\\data\\asset.mp4: 640x640 1 bottle, 1 banana, 1 apple, 961.3ms\n",
      "INFO:root:1 #29 apple added to zone by person 15\n",
      "INFO:root:1 #27 bottle added to zone by person 15\n",
      "INFO:root:1 #25 banana added to zone by person 15\n",
      "video 1/1 (574/640) C:\\Users\\rcheruvu\\Desktop\\openvino_notebooks\\recipes\\automated_detection_tracking\\data\\asset.mp4: 640x640 1 bottle, 1 banana, 1 apple, 948.6ms\n",
      "INFO:root:1 #29 apple added to zone by person 15\n",
      "INFO:root:1 #27 bottle added to zone by person 15\n",
      "INFO:root:1 #25 banana added to zone by person 15\n",
      "video 1/1 (575/640) C:\\Users\\rcheruvu\\Desktop\\openvino_notebooks\\recipes\\automated_detection_tracking\\data\\asset.mp4: 640x640 1 bottle, 1 banana, 1 apple, 939.4ms\n",
      "INFO:root:1 #29 apple added to zone by person 15\n",
      "INFO:root:1 #27 bottle added to zone by person 15\n",
      "INFO:root:1 #25 banana added to zone by person 15\n",
      "video 1/1 (576/640) C:\\Users\\rcheruvu\\Desktop\\openvino_notebooks\\recipes\\automated_detection_tracking\\data\\asset.mp4: 640x640 1 bottle, 1 banana, 1 apple, 940.2ms\n",
      "INFO:root:1 #29 apple added to zone by person 15\n",
      "INFO:root:1 #27 bottle added to zone by person 15\n",
      "INFO:root:1 #25 banana added to zone by person 15\n",
      "video 1/1 (577/640) C:\\Users\\rcheruvu\\Desktop\\openvino_notebooks\\recipes\\automated_detection_tracking\\data\\asset.mp4: 640x640 1 bottle, 1 banana, 1 apple, 959.3ms\n",
      "INFO:root:1 #29 apple added to zone by person 15\n",
      "INFO:root:1 #27 bottle added to zone by person 15\n",
      "INFO:root:1 #25 banana added to zone by person 15\n",
      "video 1/1 (578/640) C:\\Users\\rcheruvu\\Desktop\\openvino_notebooks\\recipes\\automated_detection_tracking\\data\\asset.mp4: 640x640 1 bottle, 1 banana, 1 apple, 956.2ms\n",
      "INFO:root:1 #29 apple added to zone by person 15\n",
      "INFO:root:1 #27 bottle added to zone by person 15\n",
      "INFO:root:1 #25 banana added to zone by person 15\n",
      "video 1/1 (579/640) C:\\Users\\rcheruvu\\Desktop\\openvino_notebooks\\recipes\\automated_detection_tracking\\data\\asset.mp4: 640x640 1 bottle, 1 banana, 1 apple, 963.0ms\n",
      "INFO:root:1 #29 apple added to zone by person 15\n",
      "INFO:root:1 #27 bottle added to zone by person 15\n",
      "INFO:root:1 #25 banana added to zone by person 15\n",
      "video 1/1 (580/640) C:\\Users\\rcheruvu\\Desktop\\openvino_notebooks\\recipes\\automated_detection_tracking\\data\\asset.mp4: 640x640 1 bottle, 1 banana, 1 apple, 914.3ms\n",
      "INFO:root:1 #29 apple added to zone by person 15\n",
      "INFO:root:1 #27 bottle added to zone by person 15\n",
      "INFO:root:1 #25 banana added to zone by person 15\n",
      "video 1/1 (581/640) C:\\Users\\rcheruvu\\Desktop\\openvino_notebooks\\recipes\\automated_detection_tracking\\data\\asset.mp4: 640x640 1 bottle, 1 banana, 1 apple, 932.0ms\n",
      "INFO:root:1 #29 apple added to zone by person 15\n",
      "INFO:root:1 #27 bottle added to zone by person 15\n",
      "INFO:root:1 #25 banana added to zone by person 15\n",
      "video 1/1 (582/640) C:\\Users\\rcheruvu\\Desktop\\openvino_notebooks\\recipes\\automated_detection_tracking\\data\\asset.mp4: 640x640 1 bottle, 1 banana, 1 apple, 1086.7ms\n",
      "INFO:root:1 #29 apple added to zone by person 15\n",
      "INFO:root:1 #27 bottle added to zone by person 15\n",
      "INFO:root:1 #25 banana added to zone by person 15\n",
      "video 1/1 (583/640) C:\\Users\\rcheruvu\\Desktop\\openvino_notebooks\\recipes\\automated_detection_tracking\\data\\asset.mp4: 640x640 1 bottle, 1 banana, 1 apple, 954.0ms\n",
      "INFO:root:1 #29 apple added to zone by person 15\n",
      "INFO:root:1 #27 bottle added to zone by person 15\n",
      "INFO:root:1 #25 banana added to zone by person 15\n",
      "video 1/1 (584/640) C:\\Users\\rcheruvu\\Desktop\\openvino_notebooks\\recipes\\automated_detection_tracking\\data\\asset.mp4: 640x640 1 bottle, 1 banana, 1 apple, 928.0ms\n",
      "INFO:root:1 #29 apple added to zone by person 15\n",
      "INFO:root:1 #27 bottle added to zone by person 15\n",
      "INFO:root:1 #25 banana added to zone by person 15\n",
      "video 1/1 (585/640) C:\\Users\\rcheruvu\\Desktop\\openvino_notebooks\\recipes\\automated_detection_tracking\\data\\asset.mp4: 640x640 1 bottle, 1 banana, 1 apple, 975.3ms\n",
      "INFO:root:1 #29 apple added to zone by person 15\n",
      "INFO:root:1 #27 bottle added to zone by person 15\n",
      "INFO:root:1 #25 banana added to zone by person 15\n",
      "video 1/1 (586/640) C:\\Users\\rcheruvu\\Desktop\\openvino_notebooks\\recipes\\automated_detection_tracking\\data\\asset.mp4: 640x640 1 bottle, 1 banana, 1 apple, 854.7ms\n",
      "INFO:root:1 #29 apple added to zone by person 15\n",
      "INFO:root:1 #27 bottle added to zone by person 15\n",
      "INFO:root:1 #25 banana added to zone by person 15\n",
      "video 1/1 (587/640) C:\\Users\\rcheruvu\\Desktop\\openvino_notebooks\\recipes\\automated_detection_tracking\\data\\asset.mp4: 640x640 1 bottle, 1 banana, 1 apple, 979.3ms\n",
      "INFO:root:1 #29 apple added to zone by person 15\n",
      "INFO:root:1 #27 bottle added to zone by person 15\n",
      "INFO:root:1 #25 banana added to zone by person 15\n",
      "video 1/1 (588/640) C:\\Users\\rcheruvu\\Desktop\\openvino_notebooks\\recipes\\automated_detection_tracking\\data\\asset.mp4: 640x640 1 bottle, 1 banana, 1 apple, 957.5ms\n",
      "INFO:root:1 #29 apple added to zone by person 15\n",
      "INFO:root:1 #27 bottle added to zone by person 15\n",
      "INFO:root:1 #25 banana added to zone by person 15\n",
      "video 1/1 (589/640) C:\\Users\\rcheruvu\\Desktop\\openvino_notebooks\\recipes\\automated_detection_tracking\\data\\asset.mp4: 640x640 1 bottle, 1 banana, 1 apple, 903.6ms\n",
      "INFO:root:1 #29 apple added to zone by person 15\n",
      "INFO:root:1 #27 bottle added to zone by person 15\n",
      "INFO:root:1 #25 banana added to zone by person 15\n",
      "video 1/1 (590/640) C:\\Users\\rcheruvu\\Desktop\\openvino_notebooks\\recipes\\automated_detection_tracking\\data\\asset.mp4: 640x640 1 bottle, 1 banana, 1 apple, 928.6ms\n",
      "INFO:root:1 #29 apple added to zone by person 15\n",
      "INFO:root:1 #27 bottle added to zone by person 15\n",
      "INFO:root:1 #25 banana added to zone by person 15\n",
      "video 1/1 (591/640) C:\\Users\\rcheruvu\\Desktop\\openvino_notebooks\\recipes\\automated_detection_tracking\\data\\asset.mp4: 640x640 1 bottle, 1 banana, 1 apple, 856.5ms\n",
      "INFO:root:1 #29 apple added to zone by person 15\n",
      "INFO:root:1 #27 bottle added to zone by person 15\n",
      "INFO:root:1 #25 banana added to zone by person 15\n",
      "video 1/1 (592/640) C:\\Users\\rcheruvu\\Desktop\\openvino_notebooks\\recipes\\automated_detection_tracking\\data\\asset.mp4: 640x640 1 bottle, 1 banana, 1 apple, 1037.6ms\n",
      "INFO:root:1 #29 apple added to zone by person 15\n",
      "INFO:root:1 #27 bottle added to zone by person 15\n",
      "INFO:root:1 #25 banana added to zone by person 15\n",
      "video 1/1 (593/640) C:\\Users\\rcheruvu\\Desktop\\openvino_notebooks\\recipes\\automated_detection_tracking\\data\\asset.mp4: 640x640 1 bottle, 1 banana, 1 apple, 2455.4ms\n",
      "INFO:root:1 #29 apple added to zone by person 15\n",
      "INFO:root:1 #27 bottle added to zone by person 15\n",
      "INFO:root:1 #25 banana added to zone by person 15\n",
      "video 1/1 (594/640) C:\\Users\\rcheruvu\\Desktop\\openvino_notebooks\\recipes\\automated_detection_tracking\\data\\asset.mp4: 640x640 1 bottle, 1 banana, 1 apple, 1231.5ms\n",
      "INFO:root:1 #29 apple added to zone by person 15\n",
      "INFO:root:1 #27 bottle added to zone by person 15\n",
      "INFO:root:1 #25 banana added to zone by person 15\n",
      "video 1/1 (595/640) C:\\Users\\rcheruvu\\Desktop\\openvino_notebooks\\recipes\\automated_detection_tracking\\data\\asset.mp4: 640x640 1 bottle, 1 banana, 1 apple, 1190.0ms\n",
      "INFO:root:1 #29 apple added to zone by person 15\n",
      "INFO:root:1 #27 bottle added to zone by person 15\n",
      "INFO:root:1 #25 banana added to zone by person 15\n",
      "video 1/1 (596/640) C:\\Users\\rcheruvu\\Desktop\\openvino_notebooks\\recipes\\automated_detection_tracking\\data\\asset.mp4: 640x640 1 bottle, 1 banana, 1 apple, 1345.7ms\n",
      "INFO:root:1 #29 apple added to zone by person 15\n",
      "INFO:root:1 #27 bottle added to zone by person 15\n",
      "INFO:root:1 #25 banana added to zone by person 15\n",
      "video 1/1 (597/640) C:\\Users\\rcheruvu\\Desktop\\openvino_notebooks\\recipes\\automated_detection_tracking\\data\\asset.mp4: 640x640 1 bottle, 1 banana, 1 apple, 2651.3ms\n",
      "INFO:root:1 #29 apple added to zone by person 15\n",
      "INFO:root:1 #27 bottle added to zone by person 15\n",
      "INFO:root:1 #25 banana added to zone by person 15\n",
      "video 1/1 (598/640) C:\\Users\\rcheruvu\\Desktop\\openvino_notebooks\\recipes\\automated_detection_tracking\\data\\asset.mp4: 640x640 1 bottle, 1 banana, 1 apple, 2302.8ms\n",
      "INFO:root:1 #29 apple added to zone by person 15\n",
      "INFO:root:1 #27 bottle added to zone by person 15\n",
      "INFO:root:1 #25 banana added to zone by person 15\n",
      "video 1/1 (599/640) C:\\Users\\rcheruvu\\Desktop\\openvino_notebooks\\recipes\\automated_detection_tracking\\data\\asset.mp4: 640x640 1 bottle, 1 banana, 1 apple, 1802.2ms\n",
      "INFO:root:1 #29 apple added to zone by person 15\n",
      "INFO:root:1 #27 bottle added to zone by person 15\n",
      "INFO:root:1 #25 banana added to zone by person 15\n",
      "video 1/1 (600/640) C:\\Users\\rcheruvu\\Desktop\\openvino_notebooks\\recipes\\automated_detection_tracking\\data\\asset.mp4: 640x640 1 bottle, 1 banana, 1 apple, 1149.6ms\n",
      "INFO:root:1 #29 apple added to zone by person 15\n",
      "INFO:root:1 #27 bottle added to zone by person 15\n",
      "INFO:root:1 #25 banana added to zone by person 15\n",
      "video 1/1 (601/640) C:\\Users\\rcheruvu\\Desktop\\openvino_notebooks\\recipes\\automated_detection_tracking\\data\\asset.mp4: 640x640 1 bottle, 1 banana, 1 apple, 933.1ms\n",
      "INFO:root:1 #29 apple added to zone by person 15\n",
      "INFO:root:1 #27 bottle added to zone by person 15\n",
      "INFO:root:1 #25 banana added to zone by person 15\n",
      "video 1/1 (602/640) C:\\Users\\rcheruvu\\Desktop\\openvino_notebooks\\recipes\\automated_detection_tracking\\data\\asset.mp4: 640x640 1 bottle, 1 banana, 1 apple, 983.2ms\n",
      "INFO:root:1 #29 apple added to zone by person 15\n",
      "INFO:root:1 #27 bottle added to zone by person 15\n",
      "INFO:root:1 #25 banana added to zone by person 15\n",
      "video 1/1 (603/640) C:\\Users\\rcheruvu\\Desktop\\openvino_notebooks\\recipes\\automated_detection_tracking\\data\\asset.mp4: 640x640 1 bottle, 1 banana, 1 apple, 1035.2ms\n",
      "INFO:root:1 #29 apple added to zone by person 15\n",
      "INFO:root:1 #27 bottle added to zone by person 15\n",
      "INFO:root:1 #25 banana added to zone by person 15\n",
      "video 1/1 (604/640) C:\\Users\\rcheruvu\\Desktop\\openvino_notebooks\\recipes\\automated_detection_tracking\\data\\asset.mp4: 640x640 1 bottle, 1 banana, 1 apple, 832.7ms\n",
      "INFO:root:1 #29 apple added to zone by person 15\n",
      "INFO:root:1 #27 bottle added to zone by person 15\n",
      "INFO:root:1 #25 banana added to zone by person 15\n",
      "video 1/1 (605/640) C:\\Users\\rcheruvu\\Desktop\\openvino_notebooks\\recipes\\automated_detection_tracking\\data\\asset.mp4: 640x640 1 bottle, 1 banana, 1 apple, 946.0ms\n",
      "INFO:root:1 #29 apple added to zone by person 15\n",
      "INFO:root:1 #27 bottle added to zone by person 15\n",
      "INFO:root:1 #25 banana added to zone by person 15\n",
      "video 1/1 (606/640) C:\\Users\\rcheruvu\\Desktop\\openvino_notebooks\\recipes\\automated_detection_tracking\\data\\asset.mp4: 640x640 1 bottle, 1 banana, 1 apple, 943.5ms\n",
      "INFO:root:1 #29 apple added to zone by person 15\n",
      "INFO:root:1 #27 bottle added to zone by person 15\n",
      "INFO:root:1 #25 banana added to zone by person 15\n",
      "video 1/1 (607/640) C:\\Users\\rcheruvu\\Desktop\\openvino_notebooks\\recipes\\automated_detection_tracking\\data\\asset.mp4: 640x640 1 bottle, 1 banana, 1 apple, 1031.2ms\n",
      "INFO:root:1 #29 apple added to zone by person 15\n",
      "INFO:root:1 #27 bottle added to zone by person 15\n",
      "INFO:root:1 #25 banana added to zone by person 15\n",
      "video 1/1 (608/640) C:\\Users\\rcheruvu\\Desktop\\openvino_notebooks\\recipes\\automated_detection_tracking\\data\\asset.mp4: 640x640 1 bottle, 1 banana, 1 apple, 1003.8ms\n",
      "INFO:root:1 #29 apple added to zone by person 15\n",
      "INFO:root:1 #27 bottle added to zone by person 15\n",
      "INFO:root:1 #25 banana added to zone by person 15\n",
      "video 1/1 (609/640) C:\\Users\\rcheruvu\\Desktop\\openvino_notebooks\\recipes\\automated_detection_tracking\\data\\asset.mp4: 640x640 1 bottle, 1 banana, 1 apple, 1837.2ms\n",
      "INFO:root:1 #29 apple added to zone by person 15\n",
      "INFO:root:1 #27 bottle added to zone by person 15\n",
      "INFO:root:1 #25 banana added to zone by person 15\n",
      "video 1/1 (610/640) C:\\Users\\rcheruvu\\Desktop\\openvino_notebooks\\recipes\\automated_detection_tracking\\data\\asset.mp4: 640x640 1 bottle, 1 banana, 1 apple, 1243.0ms\n",
      "INFO:root:1 #29 apple added to zone by person 15\n",
      "INFO:root:1 #27 bottle added to zone by person 15\n",
      "INFO:root:1 #25 banana added to zone by person 15\n",
      "video 1/1 (611/640) C:\\Users\\rcheruvu\\Desktop\\openvino_notebooks\\recipes\\automated_detection_tracking\\data\\asset.mp4: 640x640 1 bottle, 1 banana, 1 apple, 1357.7ms\n",
      "INFO:root:1 #29 apple added to zone by person 15\n",
      "INFO:root:1 #27 bottle added to zone by person 15\n",
      "INFO:root:1 #25 banana added to zone by person 15\n",
      "video 1/1 (612/640) C:\\Users\\rcheruvu\\Desktop\\openvino_notebooks\\recipes\\automated_detection_tracking\\data\\asset.mp4: 640x640 1 bottle, 1 banana, 1 apple, 850.4ms\n",
      "INFO:root:1 #29 apple added to zone by person 15\n",
      "INFO:root:1 #27 bottle added to zone by person 15\n",
      "INFO:root:1 #25 banana added to zone by person 15\n",
      "video 1/1 (613/640) C:\\Users\\rcheruvu\\Desktop\\openvino_notebooks\\recipes\\automated_detection_tracking\\data\\asset.mp4: 640x640 1 bottle, 1 banana, 1 apple, 1874.4ms\n",
      "INFO:root:1 #29 apple added to zone by person 15\n",
      "INFO:root:1 #27 bottle added to zone by person 15\n",
      "INFO:root:1 #25 banana added to zone by person 15\n",
      "video 1/1 (614/640) C:\\Users\\rcheruvu\\Desktop\\openvino_notebooks\\recipes\\automated_detection_tracking\\data\\asset.mp4: 640x640 1 bottle, 1 banana, 1 apple, 1946.0ms\n",
      "INFO:root:1 #29 apple added to zone by person 15\n",
      "INFO:root:1 #27 bottle added to zone by person 15\n",
      "INFO:root:1 #25 banana added to zone by person 15\n",
      "video 1/1 (615/640) C:\\Users\\rcheruvu\\Desktop\\openvino_notebooks\\recipes\\automated_detection_tracking\\data\\asset.mp4: 640x640 1 bottle, 1 banana, 1 apple, 1131.5ms\n",
      "INFO:root:1 #29 apple added to zone by person 15\n",
      "INFO:root:1 #27 bottle added to zone by person 15\n",
      "INFO:root:1 #25 banana added to zone by person 15\n",
      "video 1/1 (616/640) C:\\Users\\rcheruvu\\Desktop\\openvino_notebooks\\recipes\\automated_detection_tracking\\data\\asset.mp4: 640x640 1 bottle, 1 banana, 1 apple, 1742.0ms\n",
      "INFO:root:1 #29 apple added to zone by person 15\n",
      "INFO:root:1 #27 bottle added to zone by person 15\n",
      "INFO:root:1 #25 banana added to zone by person 15\n",
      "video 1/1 (617/640) C:\\Users\\rcheruvu\\Desktop\\openvino_notebooks\\recipes\\automated_detection_tracking\\data\\asset.mp4: 640x640 1 bottle, 1 banana, 1 apple, 1833.5ms\n",
      "INFO:root:1 #29 apple added to zone by person 15\n",
      "INFO:root:1 #27 bottle added to zone by person 15\n",
      "INFO:root:1 #25 banana added to zone by person 15\n",
      "video 1/1 (618/640) C:\\Users\\rcheruvu\\Desktop\\openvino_notebooks\\recipes\\automated_detection_tracking\\data\\asset.mp4: 640x640 1 bottle, 1 banana, 1 apple, 1624.9ms\n",
      "INFO:root:1 #29 apple added to zone by person 15\n",
      "INFO:root:1 #27 bottle added to zone by person 15\n",
      "INFO:root:1 #25 banana added to zone by person 15\n",
      "video 1/1 (619/640) C:\\Users\\rcheruvu\\Desktop\\openvino_notebooks\\recipes\\automated_detection_tracking\\data\\asset.mp4: 640x640 1 bottle, 1 banana, 1 apple, 1116.1ms\n",
      "INFO:root:1 #29 apple added to zone by person 15\n",
      "INFO:root:1 #27 bottle added to zone by person 15\n",
      "INFO:root:1 #25 banana added to zone by person 15\n",
      "video 1/1 (620/640) C:\\Users\\rcheruvu\\Desktop\\openvino_notebooks\\recipes\\automated_detection_tracking\\data\\asset.mp4: 640x640 1 bottle, 1 banana, 1 apple, 926.0ms\n",
      "INFO:root:1 #29 apple added to zone by person 15\n",
      "INFO:root:1 #27 bottle added to zone by person 15\n",
      "INFO:root:1 #25 banana added to zone by person 15\n",
      "video 1/1 (621/640) C:\\Users\\rcheruvu\\Desktop\\openvino_notebooks\\recipes\\automated_detection_tracking\\data\\asset.mp4: 640x640 1 bottle, 1 banana, 1 apple, 942.7ms\n",
      "INFO:root:1 #29 apple added to zone by person 15\n",
      "INFO:root:1 #27 bottle added to zone by person 15\n",
      "INFO:root:1 #25 banana added to zone by person 15\n",
      "video 1/1 (622/640) C:\\Users\\rcheruvu\\Desktop\\openvino_notebooks\\recipes\\automated_detection_tracking\\data\\asset.mp4: 640x640 1 bottle, 1 banana, 1 apple, 893.2ms\n",
      "INFO:root:1 #29 apple added to zone by person 15\n",
      "INFO:root:1 #27 bottle added to zone by person 15\n",
      "INFO:root:1 #25 banana added to zone by person 15\n",
      "video 1/1 (623/640) C:\\Users\\rcheruvu\\Desktop\\openvino_notebooks\\recipes\\automated_detection_tracking\\data\\asset.mp4: 640x640 1 bottle, 1 banana, 1 apple, 979.1ms\n",
      "INFO:root:1 #29 apple added to zone by person 15\n",
      "INFO:root:1 #27 bottle added to zone by person 15\n",
      "INFO:root:1 #25 banana added to zone by person 15\n",
      "video 1/1 (624/640) C:\\Users\\rcheruvu\\Desktop\\openvino_notebooks\\recipes\\automated_detection_tracking\\data\\asset.mp4: 640x640 1 bottle, 1 banana, 1 apple, 968.1ms\n",
      "INFO:root:1 #29 apple added to zone by person 15\n",
      "INFO:root:1 #27 bottle added to zone by person 15\n",
      "INFO:root:1 #25 banana added to zone by person 15\n",
      "video 1/1 (625/640) C:\\Users\\rcheruvu\\Desktop\\openvino_notebooks\\recipes\\automated_detection_tracking\\data\\asset.mp4: 640x640 1 bottle, 1 banana, 1 apple, 894.1ms\n",
      "INFO:root:1 #29 apple added to zone by person 15\n",
      "INFO:root:1 #27 bottle added to zone by person 15\n",
      "INFO:root:1 #25 banana added to zone by person 15\n",
      "video 1/1 (626/640) C:\\Users\\rcheruvu\\Desktop\\openvino_notebooks\\recipes\\automated_detection_tracking\\data\\asset.mp4: 640x640 1 bottle, 1 banana, 1 apple, 828.3ms\n",
      "INFO:root:1 #29 apple added to zone by person 15\n",
      "INFO:root:1 #27 bottle added to zone by person 15\n",
      "INFO:root:1 #25 banana added to zone by person 15\n",
      "video 1/1 (627/640) C:\\Users\\rcheruvu\\Desktop\\openvino_notebooks\\recipes\\automated_detection_tracking\\data\\asset.mp4: 640x640 1 bottle, 1 banana, 1 apple, 935.9ms\n",
      "INFO:root:1 #29 apple added to zone by person 15\n",
      "INFO:root:1 #27 bottle added to zone by person 15\n",
      "INFO:root:1 #25 banana added to zone by person 15\n",
      "video 1/1 (628/640) C:\\Users\\rcheruvu\\Desktop\\openvino_notebooks\\recipes\\automated_detection_tracking\\data\\asset.mp4: 640x640 1 bottle, 1 banana, 1 apple, 806.6ms\n",
      "INFO:root:1 #29 apple added to zone by person 15\n",
      "INFO:root:1 #27 bottle added to zone by person 15\n",
      "INFO:root:1 #25 banana added to zone by person 15\n",
      "video 1/1 (629/640) C:\\Users\\rcheruvu\\Desktop\\openvino_notebooks\\recipes\\automated_detection_tracking\\data\\asset.mp4: 640x640 1 bottle, 1 banana, 1 apple, 917.3ms\n",
      "INFO:root:1 #29 apple added to zone by person 15\n",
      "INFO:root:1 #27 bottle added to zone by person 15\n",
      "INFO:root:1 #25 banana added to zone by person 15\n",
      "video 1/1 (630/640) C:\\Users\\rcheruvu\\Desktop\\openvino_notebooks\\recipes\\automated_detection_tracking\\data\\asset.mp4: 640x640 1 bottle, 1 banana, 1 apple, 921.2ms\n",
      "INFO:root:1 #29 apple added to zone by person 15\n",
      "INFO:root:1 #27 bottle added to zone by person 15\n",
      "INFO:root:1 #25 banana added to zone by person 15\n",
      "video 1/1 (631/640) C:\\Users\\rcheruvu\\Desktop\\openvino_notebooks\\recipes\\automated_detection_tracking\\data\\asset.mp4: 640x640 1 bottle, 1 banana, 1 apple, 943.5ms\n",
      "INFO:root:1 #29 apple added to zone by person 15\n",
      "INFO:root:1 #27 bottle added to zone by person 15\n",
      "INFO:root:1 #25 banana added to zone by person 15\n",
      "video 1/1 (632/640) C:\\Users\\rcheruvu\\Desktop\\openvino_notebooks\\recipes\\automated_detection_tracking\\data\\asset.mp4: 640x640 1 bottle, 1 banana, 1 apple, 1044.5ms\n",
      "INFO:root:1 #29 apple added to zone by person 15\n",
      "INFO:root:1 #27 bottle added to zone by person 15\n",
      "INFO:root:1 #25 banana added to zone by person 15\n",
      "video 1/1 (633/640) C:\\Users\\rcheruvu\\Desktop\\openvino_notebooks\\recipes\\automated_detection_tracking\\data\\asset.mp4: 640x640 1 bottle, 1 banana, 1 apple, 991.0ms\n",
      "INFO:root:1 #29 apple added to zone by person 15\n",
      "INFO:root:1 #27 bottle added to zone by person 15\n",
      "INFO:root:1 #25 banana added to zone by person 15\n",
      "video 1/1 (634/640) C:\\Users\\rcheruvu\\Desktop\\openvino_notebooks\\recipes\\automated_detection_tracking\\data\\asset.mp4: 640x640 1 bottle, 1 banana, 1 apple, 984.4ms\n",
      "INFO:root:1 #29 apple added to zone by person 15\n",
      "INFO:root:1 #27 bottle added to zone by person 15\n",
      "INFO:root:1 #25 banana added to zone by person 15\n",
      "video 1/1 (635/640) C:\\Users\\rcheruvu\\Desktop\\openvino_notebooks\\recipes\\automated_detection_tracking\\data\\asset.mp4: 640x640 1 bottle, 1 banana, 1 apple, 966.7ms\n",
      "INFO:root:1 #29 apple added to zone by person 15\n",
      "INFO:root:1 #27 bottle added to zone by person 15\n",
      "INFO:root:1 #25 banana added to zone by person 15\n",
      "video 1/1 (636/640) C:\\Users\\rcheruvu\\Desktop\\openvino_notebooks\\recipes\\automated_detection_tracking\\data\\asset.mp4: 640x640 1 bottle, 1 banana, 1 apple, 865.6ms\n",
      "INFO:root:1 #29 apple added to zone by person 15\n",
      "INFO:root:1 #27 bottle added to zone by person 15\n",
      "INFO:root:1 #25 banana added to zone by person 15\n",
      "video 1/1 (637/640) C:\\Users\\rcheruvu\\Desktop\\openvino_notebooks\\recipes\\automated_detection_tracking\\data\\asset.mp4: 640x640 1 bottle, 1 banana, 1 apple, 1075.6ms\n",
      "INFO:root:1 #29 apple added to zone by person 15\n",
      "INFO:root:1 #27 bottle added to zone by person 15\n",
      "INFO:root:1 #25 banana added to zone by person 15\n",
      "video 1/1 (638/640) C:\\Users\\rcheruvu\\Desktop\\openvino_notebooks\\recipes\\automated_detection_tracking\\data\\asset.mp4: 640x640 1 bottle, 1 banana, 1 apple, 974.2ms\n",
      "INFO:root:1 #29 apple added to zone by person 15\n",
      "INFO:root:1 #27 bottle added to zone by person 15\n",
      "INFO:root:1 #25 banana added to zone by person 15\n",
      "video 1/1 (639/640) C:\\Users\\rcheruvu\\Desktop\\openvino_notebooks\\recipes\\automated_detection_tracking\\data\\asset.mp4: 640x640 1 bottle, 1 banana, 1 apple, 984.2ms\n",
      "INFO:root:1 #29 apple added to zone by person 15\n",
      "INFO:root:1 #27 bottle added to zone by person 15\n",
      "INFO:root:1 #25 banana added to zone by person 15\n",
      "video 1/1 (640/640) C:\\Users\\rcheruvu\\Desktop\\openvino_notebooks\\recipes\\automated_detection_tracking\\data\\asset.mp4: 640x640 1 bottle, 1 banana, 1 apple, 949.4ms\n",
      "Speed: 11.4ms preprocess, 1013.7ms inference, 4.3ms postprocess per image at shape (1, 3, 640, 640)\n"
     ]
    }
   ],
   "source": [
    "#Define empty lists to keep track of labels\n",
    "original_labels = []\n",
    "final_labels = []\n",
    "person_bbox = []\n",
    "p_items = []\n",
    "purchased_items = set(p_items)\n",
    "a_items = []\n",
    "added_items = set(a_items)\n",
    "\n",
    "#Save result as det_tracking_result\n",
    "with sv.VideoSink(\"new_det_tracking_result.mp4\", video_info) as sink:\n",
    "    #Iterate through model predictions and tracking results\n",
    "    for index, result in enumerate(model.track(source=VID_PATH, show=False, stream=True, verbose=True, persist=True)):\n",
    "      #Define variables to store interactions that are refreshed per frame\n",
    "      interactions = []\n",
    "      person_intersection_str = \"\"\n",
    "\n",
    "      #Obtain predictions from yolov8 model\n",
    "      frame = result.orig_img\n",
    "      detections = sv.Detections.from_ultralytics(result)\n",
    "      detections = detections[detections.class_id < 55]\n",
    "      mask = zone.trigger(detections=detections)\n",
    "      detections_filtered = detections[mask]\n",
    "      bboxes = result.boxes\n",
    "      if bboxes.id is not None:\n",
    "          detections.tracker_id = bboxes.id.cpu().numpy().astype(int)\n",
    "        \n",
    "      labels = [\n",
    "          f'#{tracker_id} {label_map[class_id]} {confidence:0.2f}'\n",
    "          for _, _, confidence, class_id, tracker_id\n",
    "          in detections\n",
    "      ]\n",
    "\n",
    "      #Annotate the frame with the zone and bounding boxes.\n",
    "      frame = box_annotator.annotate(scene=frame, detections=detections_filtered, labels=labels)\n",
    "      frame = zone_annotator.annotate(scene=frame)\n",
    "\n",
    "      objects = [f'#{tracker_id} {label_map[class_id]}' for _, _, confidence, class_id, tracker_id in detections]\n",
    "\n",
    "      #If this is the first time we run the application,\n",
    "      #store the objects' labels as they are at the beginning\n",
    "      if index == 0:\n",
    "          original_labels = objects\n",
    "          original_dets = len(detections_filtered)\n",
    "      else:\n",
    "          #To identify if an object has been added or removed\n",
    "          #we'll use the original labels and identify any changes\n",
    "          final_labels = objects\n",
    "          new_dets = len(detections_filtered)\n",
    "          #Identify if an object has been added or removed using Counters\n",
    "          removed_objects = Counter(original_labels) - Counter(final_labels)\n",
    "          added_objects = Counter(final_labels) - Counter(original_labels)\n",
    "\n",
    "          #Create two variables we can increment for drawing text\n",
    "          draw_txt_ir = 1\n",
    "          draw_txt_ia = 1\n",
    "          #Check for objects being added or removed\n",
    "          if new_dets - original_dets != 0 and len(removed_objects) >= 1:\n",
    "             #An object has been removed\n",
    "              for k,v in removed_objects.items():\n",
    "                 #For each of the objects, check the IOU between a designated object\n",
    "                 #and a person.\n",
    "                 if 'person' not in k:\n",
    "                     removed_object_str = f\"{v} {k} removed from zone\"\n",
    "                     removed_action_str = intersecting_bboxes(bboxes, person_bbox, removed_object_str)\n",
    "                     if removed_action_str is not None:\n",
    "                         #If we have determined an interaction with a person,\n",
    "                         #log the interaction.\n",
    "                         log.info(removed_action_str)\n",
    "                         #Add the purchased items to a \"receipt\" of sorts\n",
    "                         if removed_object_str not in purchased_items:\n",
    "                             #print(f\"{v} {k}\", a_items)\n",
    "                             #if f\"{v} {k}\" in a_items:\n",
    "                             purchased_items.add(f\"{v} {k}\")\n",
    "                             p_items.append(f\" - {v} {k}\")\n",
    "                     #Draw the result on the screen        \n",
    "                     draw_text(frame, text=removed_action_str, point=(50, 50 + draw_txt_ir), color=(0, 0, 255))\n",
    "                     draw_txt_ir += 80\n",
    "          \n",
    "          if len(added_objects) >= 1:\n",
    "              #An object has been added\n",
    "              for k,v in added_objects.items():\n",
    "                  #For each of the objects, check the IOU between a designated object\n",
    "                  #and a person.\n",
    "                  if 'person' not in k:\n",
    "                      added_object_str = f\"{v} {k} added to zone\"\n",
    "                      added_action_str = intersecting_bboxes(bboxes, person_bbox, added_object_str)\n",
    "                      if added_action_str is not None:\n",
    "                          #If we have determined an interaction with a person,\n",
    "                          #log the interaction.\n",
    "                          log.info(added_action_str)\n",
    "                          if added_object_str not in added_items:\n",
    "                            added_items.add(added_object_str)\n",
    "                            a_items.append(added_object_str)\n",
    "                      #Draw the result on the screen  \n",
    "                      draw_text(frame, text=added_action_str, point=(50, 300 + draw_txt_ia), color=(0, 128, 0))\n",
    "                      draw_txt_ia += 80\n",
    "      \n",
    "      draw_text(frame, \"Receipt: \" + str(purchased_items), point=(50, 800), color=(30, 144, 255))\n",
    "      sink.write_frame(frame)"
   ]
  },
  {
   "cell_type": "code",
   "execution_count": 67,
   "id": "36af19bd-bd35-4587-b118-4814f2140d9d",
   "metadata": {},
   "outputs": [
    {
     "data": {
      "text/plain": [
       "'Receipt: set()'"
      ]
     },
     "execution_count": 67,
     "metadata": {},
     "output_type": "execute_result"
    }
   ],
   "source": [
    "\"Receipt: \" + str(purchased_items)"
   ]
  },
  {
   "cell_type": "code",
   "execution_count": 68,
   "id": "5bb93c6a-7a71-4ed1-97ef-45baa2717e9a",
   "metadata": {},
   "outputs": [
    {
     "data": {
      "text/plain": [
       "Counter({'#29 apple': 1, '#27 bottle': 1, '#25 banana': 1})"
      ]
     },
     "execution_count": 68,
     "metadata": {},
     "output_type": "execute_result"
    }
   ],
   "source": [
    "added_objects"
   ]
  },
  {
   "cell_type": "markdown",
   "id": "dbbd5a72-bc16-4b8a-9ea5-d6d5b943c584",
   "metadata": {},
   "source": [
    "## Benchmarking"
   ]
  },
  {
   "cell_type": "markdown",
   "id": "b0fcb66b-eba9-40ee-baf5-aac5bc65e8dc",
   "metadata": {},
   "source": [
    "For more information on how to performance benchmark OpenVINO YOLOv8 models, visit this [notebook](https://github.com/openvinotoolkit/openvino_notebooks/blob/recipes/recipes/intelligent_queue_management/docs/convert-and-optimize-the-model.ipynb)."
   ]
  },
  {
   "cell_type": "code",
   "execution_count": null,
   "id": "9c7ac121-9b7d-44cf-b401-9d06f8ce8a47",
   "metadata": {},
   "outputs": [],
   "source": []
  }
 ],
 "metadata": {
  "kernelspec": {
   "display_name": "Python 3 (ipykernel)",
   "language": "python",
   "name": "python3"
  },
  "language_info": {
   "codemirror_mode": {
    "name": "ipython",
    "version": 3
   },
   "file_extension": ".py",
   "mimetype": "text/x-python",
   "name": "python",
   "nbconvert_exporter": "python",
   "pygments_lexer": "ipython3",
   "version": "3.10.6"
  }
 },
 "nbformat": 4,
 "nbformat_minor": 5
}
